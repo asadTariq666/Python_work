{
  "cells": [
    {
      "cell_type": "markdown",
      "metadata": {
        "id": "g9qw_-gKkzDG"
      },
      "source": [
        "#Importing libraries and DATA"
      ]
    },
    {
      "cell_type": "code",
      "execution_count": 22,
      "metadata": {
        "id": "15qq4Pqx3fWM"
      },
      "outputs": [],
      "source": [
        "import tensorflow as tf\n",
        "import pandas as pd\n",
        "import numpy as np\n",
        "import matplotlib.pyplot as plt\n",
        "import seaborn as sns"
      ]
    },
    {
      "cell_type": "code",
      "execution_count": 24,
      "metadata": {
        "id": "9_sNN94I6y2r"
      },
      "outputs": [],
      "source": [
        "data=pd.read_csv('classification.csv')\n",
        "x = np.array(data)\n",
        "np.random.shuffle(x)\n",
        "train , test = x[:220,:], x[220:,:]\n",
        "xtrain, y_train = train[:,0:2], train[:,2]\n",
        "xtest, y_test = test[:,0:2] , test[:,2]"
      ]
    },
    {
      "cell_type": "code",
      "execution_count": 25,
      "metadata": {
        "id": "UndcYhQt7D1b"
      },
      "outputs": [],
      "source": [
        "m = np.mean(xtrain)\n",
        "stded = np.std(xtrain)\n",
        "x_train = (xtrain - m ) / stded\n",
        "x_test = (xtest - m) / stded"
      ]
    },
    {
      "cell_type": "markdown",
      "metadata": {
        "id": "g--NejJIK2GQ"
      },
      "source": [
        "# Neural Network from Scratch using ReLU"
      ]
    },
    {
      "cell_type": "code",
      "execution_count": 26,
      "metadata": {
        "id": "5X3Q1sLjL_PO"
      },
      "outputs": [],
      "source": [
        "# add comments to explain the code\n",
        "import math\n",
        "import numpy as np\n",
        "\n",
        "\n",
        "def sigmoidScalar(x): #  sigmoid function\n",
        "    return 1/(1+math.exp(-x))\n",
        "\n",
        "def sigmoidPriScal(x): # derivative of sigmoid function\n",
        "    return sigmoidScalar(x)*(1-sigmoidScalar(x)) \n",
        "\n",
        "def reluScalar(x): # ReLU function\n",
        "    if x > 0:\n",
        "        return x\n",
        "    else:\n",
        "        return 0\n",
        "\n",
        "\n",
        "def reluPriScal(x): # derivative of ReLU function\n",
        "    if x > 0:\n",
        "        return 1\n",
        "    else:\n",
        "        return 0\n",
        "\n",
        "def tanhScalar(x): # tanh function\n",
        "    return math.tanh(x)\n",
        "\n",
        "def tanhPriScal(x): # derivative of tanh function\n",
        "    return 1 - math.tanh(x)**2\n",
        "\n",
        "\n",
        "\n",
        "sigmoid = np.vectorize(sigmoidScalar) # vectorize sigmoid function\n",
        "sigmoidPrime = np.vectorize(sigmoidPriScal) # vectorize derivative of sigmoid function\n",
        "relu = np.vectorize(reluScalar) # vectorize ReLU function\n",
        "reluPrime = np.vectorize(reluPriScal) # vectorize derivative of ReLU function\n",
        "tanh = np.vectorize(tanhScalar) # vectorize tanh function\n",
        "tanhPrime = np.vectorize(tanhPriScal) # vectorize derivative of tanh function"
      ]
    },
    {
      "cell_type": "code",
      "execution_count": 27,
      "metadata": {
        "id": "ui8K9TskLwvt"
      },
      "outputs": [],
      "source": [
        "class NeuralNetwork: # class for neural network\n",
        "    def __init__(self, X, Y, dims, lr=1.2, iterations=3000): # constructor\n",
        "        self.X = X # input\n",
        "        self.Y = Y # output\n",
        "        self.dims = dims # dimensions of the network\n",
        "        self.lr = lr  # learning rate\n",
        "        self.iterations = iterations # number of iterations\n",
        "        self.length = len(self.dims)-1 # length of the network\n",
        "        self.parameters = {} # parameters of the network\n",
        "        self.cache = {} # cache of the network\n",
        "        self.grads = {} # gradients of the network\n",
        "        self.cost = 1   # cost of the network\n",
        "        self.train_acc = [] # training accuracy of the network\n",
        "        self.cost_list = [] # cost list of the network\n",
        "\n",
        "    def initialize(self): # initialize parameters of the network\n",
        "        np.random.seed(3) # set seed for random number generation \n",
        "        for l in range(1, len(self.dims)): # for each layer\n",
        "            self.parameters['W'+str(l)] = np.random.randn(self.dims[l],\n",
        "                                                      self.dims[l-1])*0.01 # initialize weights\n",
        "            self.parameters['b'+str(l)] = np.zeros((self.dims[l], 1)) # initialize biases\n",
        "    \n",
        "    def predict(self, X): # predict the output of the network\n",
        "        self.forward_propagation() # forward propagation\n",
        "        return np.round(self.cache['A'+str(len(self.dims)-1)]) # return the output\n",
        "\n",
        "    def forward_propagation(self): # forward propagation\n",
        "        self.cache['A0'] = self.X # input layer\n",
        "        # For last layer, ie, the output layer 3, we need to activate using sigmoid\n",
        "        # For layer 1 and 2, we need to use relu\n",
        "        for l in range(1, len(self.dims)-1): # for each layer\n",
        "            self.cache['Z'+str(l)] = np.dot(self.parameters['W'+str(l)],\n",
        "                                            self.cache['A'+str(l-1)]) + self.parameters['b'+str(l)] # compute Z\n",
        "            self.cache['A'+str(l)] = relu(self.cache['Z'+str(l)]) # compute A\n",
        "        l = len(self.dims)-1    # for the last layer                    \n",
        "        self.cache['Z'+str(l)] = np.dot(self.parameters['W'+str(l)],\n",
        "                                        self.cache['A'+str(l-1)]) + self.parameters['b'+str(l)] # compute Z\n",
        "        self.cache['A'+str(l)] = sigmoid(self.cache['Z'+str(l)]) # compute A\n",
        "\n",
        "    def compute_cost(self): # compute cost of the network\n",
        "        m = self.Y.shape[0] # number of training examples\n",
        "        A = self.cache['A'+str(len(self.dims)-1)] # output of the network\n",
        "        self.cost = -1/m * \\\n",
        "            np.sum(np.multiply(self.Y, np.log(A)) +\n",
        "                   np.multiply(1-self.Y, np.log(1-A))) # cost function\n",
        "        self.cost = np.squeeze(self.cost) # remove the extra dimension\n",
        "\n",
        "    def backward_propagation(self): # backward propagation\n",
        "        A = self.cache['A' + str(len(self.dims) - 1)] # output of the network\n",
        "        m = self.X.shape[1] # number of training examples\n",
        "        self.grads['dA'+str(len(self.dims)-1) \n",
        "                   ] = np.divide(A - self.Y, (1 - A) * A) # compute dA\n",
        "        # Sigmoid derivative for final layer\n",
        "        l = len(self.dims)-1 # for the last layer\n",
        "        self.grads['dZ' + str(l)] = self.grads['dA' + str(l)] * \\\n",
        "            sigmoidPrime(self.cache['Z' + str(l)]) # compute dZ\n",
        "        self.grads['dW' + str(l)] = 1 / m * np.dot(self.grads['dZ' +\n",
        "                                                              str(l)], self.cache['A' + str(l - 1)].T) # compute dW\n",
        "        self.grads['db' + str(l)] = 1 / m * \\\n",
        "            np.sum(self.grads['dZ' + str(l)], axis=1, keepdims=True) # compute db\n",
        "        self.grads['dA' + str(l - 1)] = np.dot(self.parameters['W' +\n",
        "                                                           str(l)].T, self.grads['dZ' + str(l)]) # compute dA\n",
        "        # Relu derivative for previous layers\n",
        "        for l in range(len(self.dims)-2, 0, -1): # for each layer\n",
        "            self.grads['dZ'+str(l)] = self.grads['dA'+str(l)] * \\\n",
        "                reluPrime(self.cache['Z'+str(l)]) # compute dZ\n",
        "            self.grads['dW'+str(l)] = 1/m*np.dot(self.grads['dZ' +\n",
        "                                                            str(l)], self.cache['A'+str(l-1)].T) # compute dW\n",
        "            self.grads['db'+str(l)] = 1/m * \\\n",
        "                np.sum(self.grads['dZ'+str(l)], axis=1, keepdims=True) # compute db\n",
        "            self.grads['dA'+str(l-1)] = np.dot(self.parameters['W' +\n",
        "                                                           str(l)].T, self.grads['dZ'+str(l)]) # compute dA\n",
        "\n",
        "    def update_parameters(self): # update parameters of the network\n",
        "        for l in range(1, len(self.dims)): # for each layer\n",
        "            self.parameters['W'+str(l)] = self.parameters['W'+str(l)] - \\\n",
        "                self.lr*self.grads['dW'+str(l)] # update W\n",
        "            self.parameters['b'+str(l)] = self.parameters['b'+str(l)] - \\\n",
        "                self.lr*self.grads['db'+str(l)] # update b\n",
        "\n",
        "    def train(self):    # train the network\n",
        "        np.random.seed(1)   # set seed for random number generation\n",
        "        self.initialize()   # initialize parameters\n",
        "        for i in range(self.iterations):   # for each iteration\n",
        "            self.forward_propagation() # forward propagation\n",
        "            self.compute_cost() # compute cost\n",
        "            self.backward_propagation() # backward propagation\n",
        "            self.update_parameters() # update parameters\n",
        "            if i % 100 == 0: # every 100 iterations\n",
        "                print('Cost after {} iterations is {}'.format(i, self.cost))    # print cost\n",
        "                # calculate prediction and accuracy for training set and append to list\n",
        "                pred = self.predict(self.X) # predict the output of the network\n",
        "                acc = np.sum(pred == self.Y) / self.Y.shape[0] # calculate accuracy\n",
        "                self.train_acc.append(acc) # append accuracy to list\n",
        "                # calculate cost for each iteration and append to list\n",
        "                self.cost_list.append(self.cost) # append cost to list\n",
        "        print('Final cost is {}'.format(self.cost)) # print final cost"
      ]
    },
    {
      "cell_type": "markdown",
      "metadata": {
        "id": "nGm96MM_l_bq"
      },
      "source": [
        "## Neural Network using ReLU with 1 hidden layer"
      ]
    },
    {
      "cell_type": "code",
      "execution_count": 28,
      "metadata": {
        "colab": {
          "base_uri": "https://localhost:8080/"
        },
        "id": "hIivG5KMmEbm",
        "outputId": "6ed45a04-be76-439e-e840-96764bf06630"
      },
      "outputs": [
        {
          "name": "stdout",
          "output_type": "stream",
          "text": [
            "Cost after 0 iterations is 0.6931471805599453\n",
            "Cost after 100 iterations is 0.34318680400044327\n",
            "Cost after 200 iterations is 0.3016760748015565\n",
            "Cost after 300 iterations is 0.30102581456760896\n",
            "Cost after 400 iterations is 0.2932708110579799\n",
            "Cost after 500 iterations is 0.29769329770579467\n",
            "Cost after 600 iterations is 0.2999835390936028\n",
            "Cost after 700 iterations is 0.3045374123565686\n",
            "Cost after 800 iterations is 0.31430992019499837\n",
            "Cost after 900 iterations is 0.3103960138290979\n",
            "Cost after 1000 iterations is 0.3068830606323699\n",
            "Cost after 1100 iterations is 0.30708957221862354\n",
            "Cost after 1200 iterations is 0.3062338585142053\n",
            "Cost after 1300 iterations is 0.30204447875456875\n",
            "Cost after 1400 iterations is 0.29875677105549775\n",
            "Cost after 1500 iterations is 0.29817350084320215\n",
            "Cost after 1600 iterations is 0.29892912927057386\n",
            "Cost after 1700 iterations is 0.2989772335459698\n",
            "Cost after 1800 iterations is 0.2963252925699922\n",
            "Cost after 1900 iterations is 0.2959876242571556\n",
            "Cost after 2000 iterations is 0.29661687197108494\n",
            "Cost after 2100 iterations is 0.29553904990219154\n",
            "Cost after 2200 iterations is 0.2987811333198025\n",
            "Cost after 2300 iterations is 0.29824051972396326\n",
            "Cost after 2400 iterations is 0.298378319573322\n",
            "Cost after 2500 iterations is 0.29736532446427816\n",
            "Cost after 2600 iterations is 0.29681599384793\n",
            "Cost after 2700 iterations is 0.29815974937700185\n",
            "Cost after 2800 iterations is 0.2954067167140353\n",
            "Cost after 2900 iterations is 0.295789719485018\n",
            "Cost after 3000 iterations is 0.29672465229970924\n",
            "Cost after 3100 iterations is 0.2958837660641797\n",
            "Cost after 3200 iterations is 0.2967917379909489\n",
            "Cost after 3300 iterations is 0.2956186771689231\n",
            "Cost after 3400 iterations is 0.29588401455995356\n",
            "Cost after 3500 iterations is 0.2968000668112811\n",
            "Cost after 3600 iterations is 0.297097336508874\n",
            "Cost after 3700 iterations is 0.2987527321143854\n",
            "Cost after 3800 iterations is 0.2957679269511479\n",
            "Cost after 3900 iterations is 0.2985348365852701\n",
            "Cost after 4000 iterations is 0.2955875371239726\n",
            "Cost after 4100 iterations is 0.29565924846950936\n",
            "Final cost is 0.29585253522556754\n"
          ]
        }
      ],
      "source": [
        "import numpy as np # import numpy\n",
        "clf = NeuralNetwork(x_train.T, y_train, [2, 32, 1], lr=1, iterations=4200) # create a neural network\n",
        "clf.train() # train the network"
      ]
    },
    {
      "cell_type": "code",
      "execution_count": 29,
      "metadata": {
        "colab": {
          "base_uri": "https://localhost:8080/",
          "height": 295
        },
        "id": "6kbpLSrymN0x",
        "outputId": "f6978742-42fd-452e-eebe-70f68541f04d"
      },
      "outputs": [
        {
          "data": {
            "image/png": "[encoded data removed]",
            "text/plain": [
              "<Figure size 432x288 with 1 Axes>"
            ]
          },
          "metadata": {
            "needs_background": "light"
          },
          "output_type": "display_data"
        }
      ],
      "source": [
        "# plot cost vs iterations\n",
        "import matplotlib.pyplot as plt # import matplotlib\n",
        "plt.plot(clf.cost_list) # plot cost vs iterations\n",
        "plt.title('Cost using ReLU function') # set title\n",
        "plt.xlabel('Iterations') # set x label\n",
        "plt.ylabel('ReLU Cost') # set y label\n",
        "plt.show() # show plot"
      ]
    },
    {
      "cell_type": "code",
      "execution_count": 30,
      "metadata": {
        "colab": {
          "base_uri": "https://localhost:8080/",
          "height": 295
        },
        "id": "xF52W0s0mRPs",
        "outputId": "792c3bca-c7be-4659-8175-e8a940b6a0c9"
      },
      "outputs": [
        {
          "data": {
            "image/png": "[encoded data removed]",
            "text/plain": [
              "<Figure size 432x288 with 1 Axes>"
            ]
          },
          "metadata": {
            "needs_background": "light"
          },
          "output_type": "display_data"
        }
      ],
      "source": [
        "# plot accuracy vs iterations\n",
        "plt.plot(clf.train_acc) # plot accuracy vs iterations\n",
        "plt.title('Accuracy using ReLU function') # set title\n",
        "plt.xlabel('Iterations') # set x label\n",
        "plt.ylabel('Accuracy') # set y label\n",
        "plt.show() # show plot"
      ]
    },
    {
      "cell_type": "markdown",
      "metadata": {
        "id": "9jjr8YDwlmta"
      },
      "source": [
        "## Neural Network using ReLU with 2 hidden layers"
      ]
    },
    {
      "cell_type": "code",
      "execution_count": 31,
      "metadata": {
        "colab": {
          "base_uri": "https://localhost:8080/"
        },
        "id": "7D4WEagbLwtP",
        "outputId": "1b471439-5be8-446b-ec4f-87b5f96e076f"
      },
      "outputs": [
        {
          "name": "stdout",
          "output_type": "stream",
          "text": [
            "Cost after 0 iterations is 0.6931471805599453\n",
            "Cost after 100 iterations is 0.6890092384766585\n",
            "Cost after 200 iterations is 0.6890092384766585\n",
            "Cost after 300 iterations is 0.6890092384766585\n",
            "Cost after 400 iterations is 0.6890092384766585\n",
            "Cost after 500 iterations is 0.6890092384766585\n",
            "Cost after 600 iterations is 0.6890092384766585\n",
            "Cost after 700 iterations is 0.6890092384766585\n",
            "Cost after 800 iterations is 0.6890092384766585\n",
            "Cost after 900 iterations is 0.6890092384766585\n",
            "Cost after 1000 iterations is 0.6890092384766585\n",
            "Cost after 1100 iterations is 0.6890092384766585\n",
            "Cost after 1200 iterations is 0.6890092384766585\n",
            "Cost after 1300 iterations is 0.6890092384766585\n",
            "Cost after 1400 iterations is 0.6890092384766585\n",
            "Cost after 1500 iterations is 0.6890092384766585\n",
            "Cost after 1600 iterations is 0.6890092384766585\n",
            "Cost after 1700 iterations is 0.6890092384766585\n",
            "Cost after 1800 iterations is 0.6890092384766585\n",
            "Cost after 1900 iterations is 0.6890092384766585\n",
            "Cost after 2000 iterations is 0.6890092384766585\n",
            "Cost after 2100 iterations is 0.6890092384766585\n",
            "Cost after 2200 iterations is 0.6890092384766585\n",
            "Cost after 2300 iterations is 0.6890092384766585\n",
            "Cost after 2400 iterations is 0.6890092384766585\n",
            "Cost after 2500 iterations is 0.6890092384766585\n",
            "Cost after 2600 iterations is 0.6890092384766585\n",
            "Cost after 2700 iterations is 0.6890092384766585\n",
            "Cost after 2800 iterations is 0.6890092384766585\n",
            "Cost after 2900 iterations is 0.6890092384766585\n",
            "Cost after 3000 iterations is 0.6890092384766585\n",
            "Cost after 3100 iterations is 0.6890092384766585\n",
            "Cost after 3200 iterations is 0.6890092384766585\n",
            "Cost after 3300 iterations is 0.6890092384766585\n",
            "Cost after 3400 iterations is 0.6890092384766585\n",
            "Cost after 3500 iterations is 0.6890092384766585\n",
            "Cost after 3600 iterations is 0.6890092384766585\n",
            "Cost after 3700 iterations is 0.6890092384766585\n",
            "Cost after 3800 iterations is 0.6890092384766585\n",
            "Cost after 3900 iterations is 0.6890092384766585\n",
            "Cost after 4000 iterations is 0.6890092384766585\n",
            "Cost after 4100 iterations is 0.6890092384766585\n",
            "Final cost is 0.6890092384766585\n"
          ]
        }
      ],
      "source": [
        "import numpy as np # import numpy\n",
        "clf = NeuralNetwork(x_train.T, y_train, [2, 32, 64,1], lr=1, iterations=4200) # create a neural network\n",
        "clf.train() # train the network"
      ]
    },
    {
      "cell_type": "code",
      "execution_count": 32,
      "metadata": {
        "colab": {
          "base_uri": "https://localhost:8080/",
          "height": 295
        },
        "id": "IQEV3TklLwqv",
        "outputId": "e9925f90-c656-4bab-b0bb-0f7d88954857"
      },
      "outputs": [
        {
          "data": {
            "image/png": "[encoded data removed]",
            "text/plain": [
              "<Figure size 432x288 with 1 Axes>"
            ]
          },
          "metadata": {
            "needs_background": "light"
          },
          "output_type": "display_data"
        }
      ],
      "source": [
        "# plot cost vs iterations\n",
        "import matplotlib.pyplot as plt # import matplotlib\n",
        "plt.plot(clf.cost_list) # plot cost vs iterations\n",
        "plt.title('Cost using ReLU function') # set title\n",
        "plt.xlabel('Iterations') # set x label\n",
        "plt.ylabel('ReLU Cost') # set y label\n",
        "plt.show() # show plot"
      ]
    },
    {
      "cell_type": "code",
      "execution_count": 33,
      "metadata": {
        "colab": {
          "base_uri": "https://localhost:8080/",
          "height": 295
        },
        "id": "MIRaX-41LwoI",
        "outputId": "b397d67d-822b-4923-efc5-58ed68c8a070"
      },
      "outputs": [
        {
          "data": {
            "image/png": "[encoded data removed]",
            "text/plain": [
              "<Figure size 432x288 with 1 Axes>"
            ]
          },
          "metadata": {
            "needs_background": "light"
          },
          "output_type": "display_data"
        }
      ],
      "source": [
        "# plot accuracy vs iterations\n",
        "plt.plot(clf.train_acc) # plot accuracy vs iterations\n",
        "plt.title('Accuracy using ReLU function') # set title\n",
        "plt.xlabel('Iterations') # set x label\n",
        "plt.ylabel('Accuracy') # set y label\n",
        "plt.show() # show plot"
      ]
    },
    {
      "cell_type": "markdown",
      "metadata": {
        "id": "RX_V4LEHqiDw"
      },
      "source": [
        "# Neural Network from Scratch using Tanh hypebolic"
      ]
    },
    {
      "cell_type": "code",
      "execution_count": 34,
      "metadata": {
        "id": "9jXzN7P9Lwlu"
      },
      "outputs": [],
      "source": [
        "class NeuralNetwork: # neural network class\n",
        "    def __init__(self, X, Y, dims, lr=1.2, iterations=3000): # initialize the network\n",
        "        self.X = X # input data\n",
        "        self.Y = Y  # output data\n",
        "        # Including input layer and output layer. Let example be dims=4\n",
        "        self.dims = dims # dimensions of the network\n",
        "        self.lr = lr  # Learning rate\n",
        "        self.iterations = iterations    # Number of iterations\n",
        "        self.length = len(self.dims)-1 # length of the network\n",
        "        self.parameters = {}    # To store parameters W and b for each layer\n",
        "        self.cache = {}     # To store cache Z and A for each layer\n",
        "        self.grads = {}     # To store dA, dZ, dW, db\n",
        "        self.cost = 1       # Initial value does not matter\n",
        "        self.train_acc = [] # To store training accuracy\n",
        "        self.cost_list = [] # To store cost for each iteration\n",
        "\n",
        "    def initialize(self):   # initialize parameters\n",
        "        np.random.seed(3)   # set seed for random number generation\n",
        "        for l in range(1, len(self.dims)):  # for each layer\n",
        "            self.parameters['W'+str(l)] = np.random.randn(self.dims[l],\n",
        "                                                      self.dims[l-1])*0.01  # initialize W\n",
        "            self.parameters['b'+str(l)] = np.zeros((self.dims[l], 1))   # initialize b\n",
        "    \n",
        "    def predict(self, X):   # predict the output of the network\n",
        "        self.forward_propagation()  # forward propagation\n",
        "        return np.round(self.cache['A'+str(len(self.dims)-1)])  # return prediction\n",
        "\n",
        "    def forward_propagation(self):  # forward propagation\n",
        "        self.cache['A0'] = self.X   # set A0 to input data\n",
        "        for l in range(1, len(self.dims)-1):    # for each layer\n",
        "            self.cache['Z'+str(l)] = np.dot(self.parameters['W'+str(l)],\n",
        "                                            self.cache['A'+str(l-1)]) + self.parameters['b'+str(l)] # compute Z\n",
        "            self.cache['A'+str(l)] = tanh(self.cache['Z'+str(l)])   # compute A\n",
        "        l = len(self.dims)-1    # for last layer\n",
        "        self.cache['Z'+str(l)] = np.dot(self.parameters['W'+str(l)],\n",
        "                                        self.cache['A'+str(l-1)]) + self.parameters['b'+str(l)]     # compute Z\n",
        "        self.cache['A'+str(l)] = sigmoid(self.cache['Z'+str(l)])    # compute A\n",
        "\n",
        "    def compute_cost(self):  # compute cost\n",
        "        m = self.Y.shape[0] # number of training examples\n",
        "        A = self.cache['A'+str(len(self.dims)-1)]   # output of the network\n",
        "        self.cost = -1/m * \\\n",
        "            np.sum(np.multiply(self.Y, np.log(A)) +\n",
        "                   np.multiply(1-self.Y, np.log(1-A)))  # compute cost\n",
        "        self.cost = np.squeeze(self.cost)   # remove dimensions of size 1\n",
        "\n",
        "    def backward_propagation(self): # backward propagation\n",
        "        A = self.cache['A' + str(len(self.dims) - 1)]   # output of the network\n",
        "        m = self.X.shape[1]     # number of training examples\n",
        "        self.grads['dA'+str(len(self.dims)-1)\n",
        "                   ] = np.divide(A - self.Y, (1 - A) * A)   # compute dA\n",
        "        # Sigmoid derivative for final layer\n",
        "        l = len(self.dims)-1    # for last layer\n",
        "        self.grads['dZ' + str(l)] = self.grads['dA' + str(l)] * \\\n",
        "            sigmoidPrime(self.cache['Z' + str(l)])  # compute dZ\n",
        "        self.grads['dW' + str(l)] = 1 / m * np.dot(self.grads['dZ' +\n",
        "                                                              str(l)], self.cache['A' + str(l - 1)].T)  # compute dW\n",
        "        self.grads['db' + str(l)] = 1 / m * \\\n",
        "            np.sum(self.grads['dZ' + str(l)], axis=1, keepdims=True)        # compute db\n",
        "        self.grads['dA' + str(l - 1)] = np.dot(self.parameters['W' +\n",
        "                                                           str(l)].T, self.grads['dZ' + str(l)])    # compute dA\n",
        "        # tanh derivative for previous layers\n",
        "        for l in range(len(self.dims)-2, 0, -1):    # for each layer\n",
        "            self.grads['dZ'+str(l)] = self.grads['dA'+str(l)] * \\\n",
        "                tanhPrime(self.cache['Z'+str(l)])   # compute dZ\n",
        "            self.grads['dW'+str(l)] = 1/m*np.dot(self.grads['dZ' +\n",
        "                                                            str(l)], self.cache['A'+str(l-1)].T)    # compute dW\n",
        "            self.grads['db'+str(l)] = 1/m * \\\n",
        "                np.sum(self.grads['dZ'+str(l)], axis=1, keepdims=True)  # compute db\n",
        "            self.grads['dA'+str(l-1)] = np.dot(self.parameters['W' +\n",
        "                                                           str(l)].T, self.grads['dZ'+str(l)])  # compute dA\n",
        "\n",
        "    def update_parameters(self):    # update parameters\n",
        "        for l in range(1, len(self.dims)):  # for each layer\n",
        "            self.parameters['W'+str(l)] = self.parameters['W'+str(l)] - \\\n",
        "                self.lr*self.grads['dW'+str(l)]  # update W\n",
        "            self.parameters['b'+str(l)] = self.parameters['b'+str(l)] - \\\n",
        "                self.lr*self.grads['db'+str(l)] # update b\n",
        "\n",
        "    def train(self):    # train the network\n",
        "        np.random.seed(1)   # set seed for random number generation\n",
        "        self.initialize()   # initialize parameters\n",
        "        for i in range(self.iterations):    # for each iteration\n",
        "            self.forward_propagation()  # forward propagation\n",
        "            self.compute_cost() # compute cost\n",
        "            self.backward_propagation() # backward propagation\n",
        "            self.update_parameters()    # update parameters\n",
        "            if i % 100 == 0:    # print cost every 100 iterations\n",
        "                print('Cost after {} iterations is {}'.format(i, self.cost))\n",
        "                # calculate prediction and accuracy for training set and append to list\n",
        "                pred = self.predict(self.X)\n",
        "                acc = np.sum(pred == self.Y) / self.Y.shape[0]\n",
        "                self.train_acc.append(acc)\n",
        "                # calculate cost for each iteration and append to list\n",
        "                self.cost_list.append(self.cost)\n",
        "        print('Final cost is {}'.format(self.cost))"
      ]
    },
    {
      "cell_type": "markdown",
      "metadata": {
        "id": "BuXaRqvfmtUG"
      },
      "source": [
        "## Neural Network with Tanh using 4 hidden layers"
      ]
    },
    {
      "cell_type": "code",
      "execution_count": 35,
      "metadata": {
        "colab": {
          "base_uri": "https://localhost:8080/"
        },
        "id": "kngCyo4uLwjJ",
        "outputId": "53e94e81-335f-44a1-ef7e-951691e66e22"
      },
      "outputs": [
        {
          "name": "stdout",
          "output_type": "stream",
          "text": [
            "Cost after 0 iterations is 0.6931470889300491\n",
            "Cost after 100 iterations is 0.6890089328804229\n",
            "Cost after 200 iterations is 0.6890086940306878\n",
            "Cost after 300 iterations is 0.689008425613124\n",
            "Cost after 400 iterations is 0.6890081107940126\n",
            "Cost after 500 iterations is 0.6890077262445314\n",
            "Cost after 600 iterations is 0.6890072375018537\n",
            "Cost after 700 iterations is 0.6890065905477983\n",
            "Cost after 800 iterations is 0.6890056953536006\n",
            "Cost after 900 iterations is 0.6890043909546811\n",
            "Cost after 1000 iterations is 0.6890023633738275\n",
            "Cost after 1100 iterations is 0.6889989251064\n",
            "Cost after 1200 iterations is 0.6889923002172395\n",
            "Cost after 1300 iterations is 0.688976527356\n",
            "Cost after 1400 iterations is 0.6889185462870061\n",
            "Cost after 1500 iterations is 0.687719143570795\n",
            "Cost after 1600 iterations is 0.30334638039293776\n",
            "Cost after 1700 iterations is 0.3031958907935987\n",
            "Cost after 1800 iterations is 0.3033378330843466\n",
            "Cost after 1900 iterations is 0.3028750417230465\n",
            "Cost after 2000 iterations is 0.30287007372713165\n",
            "Cost after 2100 iterations is 0.3033787755467503\n",
            "Cost after 2200 iterations is 0.3026709440917492\n",
            "Cost after 2300 iterations is 0.30245944667630004\n",
            "Cost after 2400 iterations is 0.30564566485785677\n",
            "Cost after 2500 iterations is 0.2470960759391553\n",
            "Cost after 2600 iterations is 0.21125764049490564\n",
            "Cost after 2700 iterations is 0.22435132864238766\n",
            "Cost after 2800 iterations is 0.21645923243903586\n",
            "Cost after 2900 iterations is 0.2115861002429432\n",
            "Cost after 3000 iterations is 0.20807079914102086\n",
            "Cost after 3100 iterations is 0.2049414587431622\n",
            "Cost after 3200 iterations is 0.2009106638795888\n",
            "Cost after 3300 iterations is 0.20194950039195914\n",
            "Cost after 3400 iterations is 0.19878735744945134\n",
            "Cost after 3500 iterations is 0.1910403296240004\n",
            "Cost after 3600 iterations is 0.18825511413460028\n",
            "Cost after 3700 iterations is 0.18495455738138236\n",
            "Cost after 3800 iterations is 0.1890648365838199\n",
            "Cost after 3900 iterations is 0.17267866001378057\n",
            "Cost after 4000 iterations is 0.1730420206919203\n",
            "Cost after 4100 iterations is 0.17244014751896938\n",
            "Cost after 4200 iterations is 0.1778497207282481\n",
            "Cost after 4300 iterations is 0.1656134865183122\n",
            "Cost after 4400 iterations is 0.17221304549270502\n",
            "Cost after 4500 iterations is 0.2550951510040866\n",
            "Cost after 4600 iterations is 0.17696815345840772\n",
            "Cost after 4700 iterations is 0.16318950171949875\n",
            "Cost after 4800 iterations is 0.16661736147316522\n",
            "Cost after 4900 iterations is 0.2085650453434922\n",
            "Final cost is 0.1583652088923792\n"
          ]
        }
      ],
      "source": [
        "import numpy as np # import numpy\n",
        "clf = NeuralNetwork(x_train.T, y_train, [2, 128 , 64 , 64 ,32,1], lr=1, iterations=5000)    # create classifier\n",
        "clf.train()   # train the classifier"
      ]
    },
    {
      "cell_type": "code",
      "execution_count": 36,
      "metadata": {
        "colab": {
          "base_uri": "https://localhost:8080/",
          "height": 295
        },
        "id": "V5y2OsWkLwgs",
        "outputId": "e1fb6f5c-fe63-4f5d-a4fa-269a242457bd"
      },
      "outputs": [
        {
          "data": {
            "image/png": "[encoded data removed]",
            "text/plain": [
              "<Figure size 432x288 with 1 Axes>"
            ]
          },
          "metadata": {
            "needs_background": "light"
          },
          "output_type": "display_data"
        }
      ],
      "source": [
        "# plot cost vs iterations\n",
        "import matplotlib.pyplot as plt # import matplotlib\n",
        "plt.plot(clf.cost_list) # plot cost vs iterations\n",
        "plt.title('Cost using Tanh function')   # plot title\n",
        "plt.xlabel('Iterations')    # x-axis label\n",
        "plt.ylabel('Cost')  # y-axis label\n",
        "plt.show()  # show plot"
      ]
    },
    {
      "cell_type": "code",
      "execution_count": 37,
      "metadata": {
        "colab": {
          "base_uri": "https://localhost:8080/",
          "height": 295
        },
        "id": "MHdYMM0wLweU",
        "outputId": "68c269e3-44a2-4810-c080-79f1c6f83430"
      },
      "outputs": [
        {
          "data": {
            "image/png": "[encoded data removed]",
            "text/plain": [
              "<Figure size 432x288 with 1 Axes>"
            ]
          },
          "metadata": {
            "needs_background": "light"
          },
          "output_type": "display_data"
        }
      ],
      "source": [
        "# plot accuracy vs iterations\n",
        "plt.plot(clf.train_acc)     # plot accuracy vs iterations\n",
        "plt.title('Accuracy using Tanh function')       # plot title\n",
        "\n",
        "plt.xlabel('Iterations')    # x-axis label\n",
        "plt.ylabel('Accuracy')  # y-axis label\n",
        "plt.show()  # show plot"
      ]
    },
    {
      "cell_type": "markdown",
      "metadata": {
        "id": "dUnVnRCYoyZ7"
      },
      "source": [
        "## Neural Network with Tanh using 2 hidden layers"
      ]
    },
    {
      "cell_type": "code",
      "execution_count": 38,
      "metadata": {
        "colab": {
          "base_uri": "https://localhost:8080/"
        },
        "id": "TH7oaGH6LwYa",
        "outputId": "574ea8c5-c279-4a8f-d501-efed111bdf4c"
      },
      "outputs": [
        {
          "name": "stdout",
          "output_type": "stream",
          "text": [
            "Cost after 0 iterations is 0.693132394584005\n",
            "Cost after 100 iterations is 0.30270256964625963\n",
            "Cost after 200 iterations is 0.30262618573601374\n",
            "Cost after 300 iterations is 0.30256267931630987\n",
            "Cost after 400 iterations is 0.30249624207645387\n",
            "Cost after 500 iterations is 0.3023703592196205\n",
            "Cost after 600 iterations is 0.3014708404475311\n",
            "Cost after 700 iterations is 0.27936849279070236\n",
            "Cost after 800 iterations is 0.2472044872243304\n",
            "Cost after 900 iterations is 0.21988123169706428\n",
            "Cost after 1000 iterations is 0.432792955241273\n",
            "Cost after 1100 iterations is 0.2168153156933317\n",
            "Cost after 1200 iterations is 0.2031978208302567\n",
            "Cost after 1300 iterations is 0.19836985875792504\n",
            "Cost after 1400 iterations is 0.19386739505748699\n",
            "Cost after 1500 iterations is 0.20182823110604955\n",
            "Cost after 1600 iterations is 0.19001041119537557\n",
            "Cost after 1700 iterations is 0.18823067497019672\n",
            "Cost after 1800 iterations is 0.1851100121269779\n",
            "Cost after 1900 iterations is 0.18137497147443624\n",
            "Cost after 2000 iterations is 0.17691998362209696\n",
            "Cost after 2100 iterations is 0.1711967068349111\n",
            "Cost after 2200 iterations is 0.16483213513582232\n",
            "Cost after 2300 iterations is 0.1616653974893115\n",
            "Cost after 2400 iterations is 0.15777746786149777\n",
            "Cost after 2500 iterations is 0.15620946898134214\n",
            "Cost after 2600 iterations is 0.15113605606913386\n",
            "Cost after 2700 iterations is 0.14696489844966312\n",
            "Cost after 2800 iterations is 0.14215122889604676\n",
            "Cost after 2900 iterations is 0.13783798043291365\n",
            "Cost after 3000 iterations is 0.13368701240120964\n",
            "Cost after 3100 iterations is 0.12884101200428066\n",
            "Cost after 3200 iterations is 0.1260201571795607\n",
            "Cost after 3300 iterations is 0.15120174188200766\n",
            "Cost after 3400 iterations is 0.11576009132535175\n",
            "Cost after 3500 iterations is 0.11386493155227777\n",
            "Cost after 3600 iterations is 0.10995219246883896\n",
            "Cost after 3700 iterations is 0.10404025356333065\n",
            "Cost after 3800 iterations is 0.10232939141297001\n",
            "Cost after 3900 iterations is 0.09770848338945474\n",
            "Cost after 4000 iterations is 0.09406024728108472\n",
            "Cost after 4100 iterations is 0.09281672581284084\n",
            "Cost after 4200 iterations is 0.08642887234510803\n",
            "Cost after 4300 iterations is 0.0863361536994895\n",
            "Cost after 4400 iterations is 0.08172731574529392\n",
            "Cost after 4500 iterations is 0.0801246029980054\n",
            "Cost after 4600 iterations is 0.07713021630022396\n",
            "Cost after 4700 iterations is 0.07489846245520837\n",
            "Cost after 4800 iterations is 0.07294608218629736\n",
            "Cost after 4900 iterations is 0.07117104470852138\n",
            "Final cost is 0.07010682474398326\n"
          ]
        }
      ],
      "source": [
        "import numpy as np  # import numpy\n",
        "clf = NeuralNetwork(x_train.T, y_train, [2, 64 ,32 ,1], lr=1, iterations=5000)  # create classifier\n",
        "clf.train() # train the classifier"
      ]
    },
    {
      "cell_type": "code",
      "execution_count": 39,
      "metadata": {
        "colab": {
          "base_uri": "https://localhost:8080/",
          "height": 295
        },
        "id": "UAfjjpDPLwV3",
        "outputId": "d1a2d876-20ae-47a2-818a-446741a21de2"
      },
      "outputs": [
        {
          "data": {
            "image/png": "[encoded data removed]",
            "text/plain": [
              "<Figure size 432x288 with 1 Axes>"
            ]
          },
          "metadata": {
            "needs_background": "light"
          },
          "output_type": "display_data"
        }
      ],
      "source": [
        "# plot cost vs iterations   \n",
        "import matplotlib.pyplot as plt # import matplotlib\n",
        "plt.plot(clf.cost_list) # plot cost vs iterations\n",
        "plt.title('Cost using Tanh function')   # plot title\n",
        "plt.xlabel('Iterations')    # x-axis label\n",
        "plt.ylabel('Cost')  # y-axis label\n",
        "plt.show()  # show plot"
      ]
    },
    {
      "cell_type": "code",
      "execution_count": 40,
      "metadata": {
        "colab": {
          "base_uri": "https://localhost:8080/",
          "height": 295
        },
        "id": "tPAjmtsSLwS9",
        "outputId": "500cdaeb-6703-4cd5-91ac-bba2ab25a473"
      },
      "outputs": [
        {
          "data": {
            "image/png": "[encoded data removed]",
            "text/plain": [
              "<Figure size 432x288 with 1 Axes>"
            ]
          },
          "metadata": {
            "needs_background": "light"
          },
          "output_type": "display_data"
        }
      ],
      "source": [
        "# plot accuracy vs iterations\n",
        "plt.plot(clf.train_acc)    # plot accuracy vs iterations\n",
        "plt.title('Accuracy using Tanh function')    # plot title\n",
        "plt.xlabel('Iterations')    # x-axis label\n",
        "plt.ylabel('Accuracy')  # y-axis label\n",
        "plt.show()  # show plot"
      ]
    },
    {
      "cell_type": "markdown",
      "metadata": {
        "id": "TX72Tzhrpyi9"
      },
      "source": [
        "## Neural Network with Tanh using 1 hidden layers"
      ]
    },
    {
      "cell_type": "code",
      "execution_count": 41,
      "metadata": {
        "colab": {
          "base_uri": "https://localhost:8080/"
        },
        "id": "PPU2rabxpyjN",
        "outputId": "b9bab809-3e3c-4bfd-f288-501716aff75f"
      },
      "outputs": [
        {
          "name": "stdout",
          "output_type": "stream",
          "text": [
            "Cost after 0 iterations is 0.6932230536008903\n",
            "Cost after 100 iterations is 0.30243637173034127\n",
            "Cost after 200 iterations is 0.3023686306719184\n",
            "Cost after 300 iterations is 0.3021951679118183\n",
            "Cost after 400 iterations is 0.3011187152878839\n",
            "Cost after 500 iterations is 0.2938062090479451\n",
            "Cost after 600 iterations is 0.2695604088066718\n",
            "Cost after 700 iterations is 0.24492876911285838\n",
            "Cost after 800 iterations is 0.23125025750016887\n",
            "Cost after 900 iterations is 0.22359258572719573\n",
            "Cost after 1000 iterations is 0.21887250924264628\n",
            "Cost after 1100 iterations is 0.21570523205882017\n",
            "Cost after 1200 iterations is 0.21338145897287633\n",
            "Cost after 1300 iterations is 0.2115140611725698\n",
            "Cost after 1400 iterations is 0.20988077957199022\n",
            "Cost after 1500 iterations is 0.20833434357406813\n",
            "Cost after 1600 iterations is 0.20674707342577325\n",
            "Cost after 1700 iterations is 0.20498067979781995\n",
            "Cost after 1800 iterations is 0.20289284097764923\n",
            "Cost after 1900 iterations is 0.20040086638846422\n",
            "Cost after 2000 iterations is 0.19757123739994265\n",
            "Cost after 2100 iterations is 0.19461560418988777\n",
            "Cost after 2200 iterations is 0.19175874647608457\n",
            "Cost after 2300 iterations is 0.1891285600668919\n",
            "Cost after 2400 iterations is 0.18674569685032988\n",
            "Cost after 2500 iterations is 0.18455198387156288\n",
            "Cost after 2600 iterations is 0.18242815611750274\n",
            "Cost after 2700 iterations is 0.18023127000225153\n",
            "Cost after 2800 iterations is 0.1779652481875237\n",
            "Cost after 2900 iterations is 0.17582471091541524\n",
            "Cost after 3000 iterations is 0.17388396882501886\n",
            "Cost after 3100 iterations is 0.17210800711024488\n",
            "Cost after 3200 iterations is 0.17046947197376208\n",
            "Cost after 3300 iterations is 0.1689563515142673\n",
            "Cost after 3400 iterations is 0.16756332983923009\n",
            "Cost after 3500 iterations is 0.16628694812453879\n",
            "Cost after 3600 iterations is 0.16512214701812086\n",
            "Cost after 3700 iterations is 0.16406007217083082\n",
            "Cost after 3800 iterations is 0.1630873900678645\n",
            "Cost after 3900 iterations is 0.16218679855542242\n",
            "Cost after 4000 iterations is 0.16133868567392914\n",
            "Cost after 4100 iterations is 0.16052475874953356\n",
            "Cost after 4200 iterations is 0.1597328488740911\n",
            "Cost after 4300 iterations is 0.15895767721908538\n",
            "Cost after 4400 iterations is 0.15819628147130937\n",
            "Cost after 4500 iterations is 0.1574451809509562\n",
            "Cost after 4600 iterations is 0.15670125247708502\n",
            "Cost after 4700 iterations is 0.1559627487373055\n",
            "Cost after 4800 iterations is 0.15522928301792618\n",
            "Cost after 4900 iterations is 0.15450137681957712\n",
            "Final cost is 0.15378715695519762\n"
          ]
        }
      ],
      "source": [
        "import numpy as np  # import numpy  \n",
        "clf = NeuralNetwork(x_train.T, y_train, [2, 32 ,1], lr=1, iterations=5000)  # create classifier\n",
        "clf.train() # train the classifier"
      ]
    },
    {
      "cell_type": "code",
      "execution_count": 42,
      "metadata": {
        "colab": {
          "base_uri": "https://localhost:8080/",
          "height": 295
        },
        "id": "vRG_DgsfpyjO",
        "outputId": "96804009-c3f5-4b4f-d2fb-98bfd3d007e6"
      },
      "outputs": [
        {
          "data": {
            "image/png": "[encoded data removed]",
            "text/plain": [
              "<Figure size 432x288 with 1 Axes>"
            ]
          },
          "metadata": {
            "needs_background": "light"
          },
          "output_type": "display_data"
        }
      ],
      "source": [
        "# plot cost vs iterations\n",
        "import matplotlib.pyplot as plt # import matplotlib \n",
        "plt.plot(clf.cost_list) # plot cost vs iterations\n",
        "plt.title('Cost using Tanh function')   # plot title\n",
        "plt.xlabel('Iterations')    # x-axis label\n",
        "plt.ylabel('Cost')  # y-axis label\n",
        "plt.show()  # show plot"
      ]
    },
    {
      "cell_type": "code",
      "execution_count": 43,
      "metadata": {
        "colab": {
          "base_uri": "https://localhost:8080/",
          "height": 295
        },
        "id": "UTvVlVJkpyjO",
        "outputId": "714f5e32-df7d-477e-eab3-474a5aadb9f6"
      },
      "outputs": [
        {
          "data": {
            "image/png": "[encoded data removed]",
            "text/plain": [
              "<Figure size 432x288 with 1 Axes>"
            ]
          },
          "metadata": {
            "needs_background": "light"
          },
          "output_type": "display_data"
        }
      ],
      "source": [
        "# plot accuracy vs iterations\n",
        "plt.plot(clf.train_acc)   # plot accuracy vs iterations\n",
        "plt.title('Accuracy using Tanh function')   # plot title\n",
        "plt.xlabel('Iterations')    # x-axis label\n",
        "plt.ylabel('Accuracy')      # y-axis label\n",
        "plt.show()  # show plot"
      ]
    }
  ],
  "metadata": {
    "accelerator": "TPU",
    "colab": {
      "collapsed_sections": [
        "g9qw_-gKkzDG",
        "g--NejJIK2GQ",
        "BuXaRqvfmtUG",
        "dUnVnRCYoyZ7",
        "TX72Tzhrpyi9"
      ],
      "name": "binary neural network from scratch.ipynb",
      "provenance": []
    },
    "interpreter": {
      "hash": "916dbcbb3f70747c44a77c7bcd40155683ae19c65e1c03b4aa3499c5328201f1"
    },
    "kernelspec": {
      "display_name": "Python 3.9.10 64-bit",
      "language": "python",
      "name": "python3"
    },
    "language_info": {
      "codemirror_mode": {
        "name": "ipython",
        "version": 3
      },
      "file_extension": ".py",
      "mimetype": "text/x-python",
      "name": "python",
      "nbconvert_exporter": "python",
      "pygments_lexer": "ipython3",
      "version": "3.9.12"
    }
  },
  "nbformat": 4,
  "nbformat_minor": 0
}
