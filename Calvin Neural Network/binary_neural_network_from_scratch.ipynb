{
  "cells": [
    {
      "cell_type": "markdown",
      "metadata": {
        "id": "g9qw_-gKkzDG"
      },
      "source": [
        "#Importing libraries and DATA"
      ]
    },
    {
      "cell_type": "code",
      "execution_count": 1,
      "metadata": {
        "id": "15qq4Pqx3fWM"
      },
      "outputs": [
        {
          "name": "stderr",
          "output_type": "stream",
          "text": [
            "2022-05-21 01:23:19.083186: W tensorflow/stream_executor/platform/default/dso_loader.cc:64] Could not load dynamic library 'libcudart.so.11.0'; dlerror: libcudart.so.11.0: cannot open shared object file: No such file or directory\n",
            "2022-05-21 01:23:19.083231: I tensorflow/stream_executor/cuda/cudart_stub.cc:29] Ignore above cudart dlerror if you do not have a GPU set up on your machine.\n"
          ]
        }
      ],
      "source": [
        "import tensorflow as tf\n",
        "import pandas as pd\n",
        "import numpy as np\n",
        "import matplotlib.pyplot as plt\n",
        "import seaborn as sns"
      ]
    },
    {
      "cell_type": "code",
      "execution_count": 2,
      "metadata": {
        "id": "9_sNN94I6y2r"
      },
      "outputs": [],
      "source": [
        "data=pd.read_csv('/home/rookie/Desktop/rookie/code/PaidProjects/fiverrAssignment/NeuralNetworkFromScratch/classification.csv')\n",
        "x = np.array(data)\n",
        "np.random.shuffle(x)\n",
        "train , test = x[:220,:], x[220:,:]\n",
        "xtrain, y_train = train[:,0:2], train[:,2]\n",
        "xtest, y_test = test[:,0:2] , test[:,2]"
      ]
    },
    {
      "cell_type": "code",
      "execution_count": 3,
      "metadata": {
        "id": "UndcYhQt7D1b"
      },
      "outputs": [],
      "source": [
        "m = np.mean(xtrain)\n",
        "stded = np.std(xtrain)\n",
        "x_train = (xtrain - m ) / stded\n",
        "x_test = (xtest - m) / stded"
      ]
    },
    {
      "cell_type": "markdown",
      "metadata": {
        "id": "g--NejJIK2GQ"
      },
      "source": [
        "# Neural Network from Scratch using ReLU"
      ]
    },
    {
      "cell_type": "code",
      "execution_count": 4,
      "metadata": {
        "id": "5X3Q1sLjL_PO"
      },
      "outputs": [],
      "source": [
        "# add comments to explain the code\n",
        "import math\n",
        "import numpy as np\n",
        "\n",
        "\n",
        "def sigmoidScalar(x): #  sigmoid function\n",
        "    return 1/(1+math.exp(-x))\n",
        "\n",
        "def sigmoidPriScal(x): # derivative of sigmoid function\n",
        "    return sigmoidScalar(x)*(1-sigmoidScalar(x)) \n",
        "\n",
        "def reluScalar(x): # ReLU function\n",
        "    if x > 0:\n",
        "        return x\n",
        "    else:\n",
        "        return 0\n",
        "\n",
        "\n",
        "def reluPriScal(x): # derivative of ReLU function\n",
        "    if x > 0:\n",
        "        return 1\n",
        "    else:\n",
        "        return 0\n",
        "\n",
        "def tanhScalar(x): # tanh function\n",
        "    return math.tanh(x)\n",
        "\n",
        "def tanhPriScal(x): # derivative of tanh function\n",
        "    return 1 - math.tanh(x)**2\n",
        "\n",
        "\n",
        "\n",
        "sigmoid = np.vectorize(sigmoidScalar) # vectorize sigmoid function\n",
        "sigmoidPrime = np.vectorize(sigmoidPriScal) # vectorize derivative of sigmoid function\n",
        "relu = np.vectorize(reluScalar) # vectorize ReLU function\n",
        "reluPrime = np.vectorize(reluPriScal) # vectorize derivative of ReLU function\n",
        "tanh = np.vectorize(tanhScalar) # vectorize tanh function\n",
        "tanhPrime = np.vectorize(tanhPriScal) # vectorize derivative of tanh function"
      ]
    },
    {
      "cell_type": "code",
      "execution_count": 5,
      "metadata": {
        "id": "ui8K9TskLwvt"
      },
      "outputs": [],
      "source": [
        "class NeuralNetwork: # class for neural network\n",
        "    def __init__(self, X, Y, dims, lr=1.2, iterations=3000): # constructor\n",
        "        self.X = X # input\n",
        "        self.Y = Y # output\n",
        "        self.dims = dims # dimensions of the network\n",
        "        self.lr = lr  # learning rate\n",
        "        self.iterations = iterations # number of iterations\n",
        "        self.length = len(self.dims)-1 # length of the network\n",
        "        self.parameters = {} # parameters of the network\n",
        "        self.cache = {} # cache of the network\n",
        "        self.grads = {} # gradients of the network\n",
        "        self.cost = 1   # cost of the network\n",
        "        self.train_acc = [] # training accuracy of the network\n",
        "        self.cost_list = [] # cost list of the network\n",
        "\n",
        "    def initialize(self): # initialize parameters of the network\n",
        "        np.random.seed(3) # set seed for random number generation \n",
        "        for l in range(1, len(self.dims)): # for each layer\n",
        "            self.parameters['W'+str(l)] = np.random.randn(self.dims[l],\n",
        "                                                      self.dims[l-1])*0.01 # initialize weights\n",
        "            self.parameters['b'+str(l)] = np.zeros((self.dims[l], 1)) # initialize biases\n",
        "    \n",
        "    def predict(self, X): # predict the output of the network\n",
        "        self.forward_propagation() # forward propagation\n",
        "        return np.round(self.cache['A'+str(len(self.dims)-1)]) # return the output\n",
        "\n",
        "    def forward_propagation(self): # forward propagation\n",
        "        self.cache['A0'] = self.X # input layer\n",
        "        # For last layer, ie, the output layer 3, we need to activate using sigmoid\n",
        "        # For layer 1 and 2, we need to use relu\n",
        "        for l in range(1, len(self.dims)-1): # for each layer\n",
        "            self.cache['Z'+str(l)] = np.dot(self.parameters['W'+str(l)],\n",
        "                                            self.cache['A'+str(l-1)]) + self.parameters['b'+str(l)] # compute Z\n",
        "            self.cache['A'+str(l)] = relu(self.cache['Z'+str(l)]) # compute A\n",
        "        l = len(self.dims)-1    # for the last layer                    \n",
        "        self.cache['Z'+str(l)] = np.dot(self.parameters['W'+str(l)],\n",
        "                                        self.cache['A'+str(l-1)]) + self.parameters['b'+str(l)] # compute Z\n",
        "        self.cache['A'+str(l)] = sigmoid(self.cache['Z'+str(l)]) # compute A\n",
        "\n",
        "    def compute_cost(self): # compute cost of the network\n",
        "        m = self.Y.shape[0] # number of training examples\n",
        "        A = self.cache['A'+str(len(self.dims)-1)] # output of the network\n",
        "        self.cost = -1/m * \\\n",
        "            np.sum(np.multiply(self.Y, np.log(A)) +\n",
        "                   np.multiply(1-self.Y, np.log(1-A))) # cost function\n",
        "        self.cost = np.squeeze(self.cost) # remove the extra dimension\n",
        "\n",
        "    def backward_propagation(self): # backward propagation\n",
        "        A = self.cache['A' + str(len(self.dims) - 1)] # output of the network\n",
        "        m = self.X.shape[1] # number of training examples\n",
        "        self.grads['dA'+str(len(self.dims)-1) \n",
        "                   ] = np.divide(A - self.Y, (1 - A) * A) # compute dA\n",
        "        # Sigmoid derivative for final layer\n",
        "        l = len(self.dims)-1 # for the last layer\n",
        "        self.grads['dZ' + str(l)] = self.grads['dA' + str(l)] * \\\n",
        "            sigmoidPrime(self.cache['Z' + str(l)]) # compute dZ\n",
        "        self.grads['dW' + str(l)] = 1 / m * np.dot(self.grads['dZ' +\n",
        "                                                              str(l)], self.cache['A' + str(l - 1)].T) # compute dW\n",
        "        self.grads['db' + str(l)] = 1 / m * \\\n",
        "            np.sum(self.grads['dZ' + str(l)], axis=1, keepdims=True) # compute db\n",
        "        self.grads['dA' + str(l - 1)] = np.dot(self.parameters['W' +\n",
        "                                                           str(l)].T, self.grads['dZ' + str(l)]) # compute dA\n",
        "        # Relu derivative for previous layers\n",
        "        for l in range(len(self.dims)-2, 0, -1): # for each layer\n",
        "            self.grads['dZ'+str(l)] = self.grads['dA'+str(l)] * \\\n",
        "                reluPrime(self.cache['Z'+str(l)]) # compute dZ\n",
        "            self.grads['dW'+str(l)] = 1/m*np.dot(self.grads['dZ' +\n",
        "                                                            str(l)], self.cache['A'+str(l-1)].T) # compute dW\n",
        "            self.grads['db'+str(l)] = 1/m * \\\n",
        "                np.sum(self.grads['dZ'+str(l)], axis=1, keepdims=True) # compute db\n",
        "            self.grads['dA'+str(l-1)] = np.dot(self.parameters['W' +\n",
        "                                                           str(l)].T, self.grads['dZ'+str(l)]) # compute dA\n",
        "\n",
        "    def update_parameters(self): # update parameters of the network\n",
        "        for l in range(1, len(self.dims)): # for each layer\n",
        "            self.parameters['W'+str(l)] = self.parameters['W'+str(l)] - \\\n",
        "                self.lr*self.grads['dW'+str(l)] # update W\n",
        "            self.parameters['b'+str(l)] = self.parameters['b'+str(l)] - \\\n",
        "                self.lr*self.grads['db'+str(l)] # update b\n",
        "\n",
        "    def train(self):    # train the network\n",
        "        np.random.seed(1)   # set seed for random number generation\n",
        "        self.initialize()   # initialize parameters\n",
        "        for i in range(self.iterations):   # for each iteration\n",
        "            self.forward_propagation() # forward propagation\n",
        "            self.compute_cost() # compute cost\n",
        "            self.backward_propagation() # backward propagation\n",
        "            self.update_parameters() # update parameters\n",
        "            if i % 100 == 0: # every 100 iterations\n",
        "                print('Cost after {} iterations is {}'.format(i, self.cost))    # print cost\n",
        "                # calculate prediction and accuracy for training set and append to list\n",
        "                pred = self.predict(self.X) # predict the output of the network\n",
        "                acc = np.sum(pred == self.Y) / self.Y.shape[0] # calculate accuracy\n",
        "                self.train_acc.append(acc) # append accuracy to list\n",
        "                # calculate cost for each iteration and append to list\n",
        "                self.cost_list.append(self.cost) # append cost to list\n",
        "        print('Final cost is {}'.format(self.cost)) # print final cost"
      ]
    },
    {
      "cell_type": "markdown",
      "metadata": {
        "id": "nGm96MM_l_bq"
      },
      "source": [
        "## Neural Network using ReLU with 1 hidden layer"
      ]
    },
    {
      "cell_type": "code",
      "execution_count": 6,
      "metadata": {
        "colab": {
          "base_uri": "https://localhost:8080/"
        },
        "id": "hIivG5KMmEbm",
        "outputId": "6ed45a04-be76-439e-e840-96764bf06630"
      },
      "outputs": [
        {
          "name": "stdout",
          "output_type": "stream",
          "text": [
            "Cost after 0 iterations is 0.6931471805599453\n",
            "Cost after 100 iterations is 0.3432035920165828\n",
            "Cost after 200 iterations is 0.2838726060789702\n",
            "Cost after 300 iterations is 0.2887076397169888\n",
            "Cost after 400 iterations is 0.2928563592589176\n",
            "Cost after 500 iterations is 0.2942664542204178\n",
            "Cost after 600 iterations is 0.298156161923643\n",
            "Cost after 700 iterations is 0.28810686239073574\n",
            "Cost after 800 iterations is 0.28729333782899147\n",
            "Cost after 900 iterations is 0.28356041750121797\n",
            "Cost after 1000 iterations is 0.28183076137255075\n",
            "Cost after 1100 iterations is 0.282939082771813\n",
            "Cost after 1200 iterations is 0.2818629352643721\n",
            "Cost after 1300 iterations is 0.28231107975817893\n",
            "Cost after 1400 iterations is 0.28107981684106426\n",
            "Cost after 1500 iterations is 0.2810321251429186\n",
            "Cost after 1600 iterations is 0.2794819089519046\n",
            "Cost after 1700 iterations is 0.2791849069040411\n",
            "Cost after 1800 iterations is 0.27895641202846716\n",
            "Cost after 1900 iterations is 0.2787941751211483\n",
            "Cost after 2000 iterations is 0.2791053881602368\n",
            "Cost after 2100 iterations is 0.2790778623957857\n",
            "Cost after 2200 iterations is 0.2793504210461252\n",
            "Cost after 2300 iterations is 0.2773218751611463\n",
            "Cost after 2400 iterations is 0.28067248237211195\n",
            "Cost after 2500 iterations is 0.2792679972129229\n",
            "Cost after 2600 iterations is 0.2804781904419967\n",
            "Cost after 2700 iterations is 0.2807209250270668\n",
            "Cost after 2800 iterations is 0.27935810748315787\n",
            "Cost after 2900 iterations is 0.27935022312177243\n",
            "Cost after 3000 iterations is 0.2793425618877635\n",
            "Cost after 3100 iterations is 0.27931436929911846\n",
            "Cost after 3200 iterations is 0.2804564077171562\n",
            "Cost after 3300 iterations is 0.27913733444737504\n",
            "Cost after 3400 iterations is 0.2793587683163909\n",
            "Cost after 3500 iterations is 0.27933319810379054\n",
            "Cost after 3600 iterations is 0.2806081212275168\n",
            "Cost after 3700 iterations is 0.27917574274716506\n",
            "Cost after 3800 iterations is 0.2793702774147061\n",
            "Cost after 3900 iterations is 0.27934264556793753\n",
            "Cost after 4000 iterations is 0.2806283744585628\n",
            "Cost after 4100 iterations is 0.2805518436996828\n",
            "Final cost is 0.27937829537982245\n"
          ]
        }
      ],
      "source": [
        "import numpy as np # import numpy\n",
        "clf = NeuralNetwork(x_train.T, y_train, [2, 32, 1], lr=1, iterations=4200) # create a neural network\n",
        "clf.train() # train the network"
      ]
    },
    {
      "cell_type": "code",
      "execution_count": 7,
      "metadata": {
        "colab": {
          "base_uri": "https://localhost:8080/",
          "height": 295
        },
        "id": "6kbpLSrymN0x",
        "outputId": "f6978742-42fd-452e-eebe-70f68541f04d"
      },
      "outputs": [
        {
          "data": {
            "image/png": "[encoded data removed]",
            "text/plain": [
              "<Figure size 432x288 with 1 Axes>"
            ]
          },
          "metadata": {
            "needs_background": "light"
          },
          "output_type": "display_data"
        }
      ],
      "source": [
        "# plot cost vs iterations\n",
        "import matplotlib.pyplot as plt # import matplotlib\n",
        "plt.plot(clf.cost_list) # plot cost vs iterations\n",
        "plt.title('Cost using ReLU function') # set title\n",
        "plt.xlabel('Iterations') # set x label\n",
        "plt.ylabel('ReLU Cost') # set y label\n",
        "plt.show() # show plot"
      ]
    },
    {
      "cell_type": "code",
      "execution_count": 8,
      "metadata": {
        "colab": {
          "base_uri": "https://localhost:8080/",
          "height": 295
        },
        "id": "xF52W0s0mRPs",
        "outputId": "792c3bca-c7be-4659-8175-e8a940b6a0c9"
      },
      "outputs": [
        {
          "data": {
            "image/png": "[encoded data removed]",
            "text/plain": [
              "<Figure size 432x288 with 1 Axes>"
            ]
          },
          "metadata": {
            "needs_background": "light"
          },
          "output_type": "display_data"
        }
      ],
      "source": [
        "# plot accuracy vs iterations\n",
        "plt.plot(clf.train_acc) # plot accuracy vs iterations\n",
        "plt.title('Accuracy using ReLU function') # set title\n",
        "plt.xlabel('Iterations') # set x label\n",
        "plt.ylabel('Accuracy') # set y label\n",
        "plt.show() # show plot"
      ]
    },
    {
      "cell_type": "markdown",
      "metadata": {
        "id": "9jjr8YDwlmta"
      },
      "source": [
        "## Neural Network using ReLU with 2 hidden layers"
      ]
    },
    {
      "cell_type": "code",
      "execution_count": 11,
      "metadata": {
        "colab": {
          "base_uri": "https://localhost:8080/"
        },
        "id": "7D4WEagbLwtP",
        "outputId": "1b471439-5be8-446b-ec4f-87b5f96e076f"
      },
      "outputs": [
        {
          "name": "stdout",
          "output_type": "stream",
          "text": [
            "Cost after 0 iterations is 0.6931471805599453\n",
            "Cost after 100 iterations is 0.6861473616903819\n",
            "Cost after 200 iterations is 0.6861473616903819\n",
            "Cost after 300 iterations is 0.6861473616903819\n",
            "Cost after 400 iterations is 0.6861473616903819\n",
            "Cost after 500 iterations is 0.6861473616903819\n",
            "Cost after 600 iterations is 0.6861473616903819\n",
            "Cost after 700 iterations is 0.6861473616903819\n",
            "Cost after 800 iterations is 0.6861473616903819\n",
            "Cost after 900 iterations is 0.6861473616903819\n",
            "Cost after 1000 iterations is 0.6861473616903819\n",
            "Cost after 1100 iterations is 0.6861473616903819\n",
            "Cost after 1200 iterations is 0.6861473616903819\n",
            "Cost after 1300 iterations is 0.6861473616903819\n",
            "Cost after 1400 iterations is 0.6861473616903819\n",
            "Cost after 1500 iterations is 0.6861473616903819\n",
            "Cost after 1600 iterations is 0.6861473616903819\n",
            "Cost after 1700 iterations is 0.6861473616903819\n",
            "Cost after 1800 iterations is 0.6861473616903819\n",
            "Cost after 1900 iterations is 0.6861473616903819\n",
            "Cost after 2000 iterations is 0.6861473616903819\n",
            "Cost after 2100 iterations is 0.6861473616903819\n",
            "Cost after 2200 iterations is 0.6861473616903819\n",
            "Cost after 2300 iterations is 0.6861473616903819\n",
            "Cost after 2400 iterations is 0.6861473616903819\n",
            "Cost after 2500 iterations is 0.6861473616903819\n",
            "Cost after 2600 iterations is 0.6861473616903819\n",
            "Cost after 2700 iterations is 0.6861473616903819\n",
            "Cost after 2800 iterations is 0.6861473616903819\n",
            "Cost after 2900 iterations is 0.6861473616903819\n",
            "Cost after 3000 iterations is 0.6861473616903819\n",
            "Cost after 3100 iterations is 0.6861473616903819\n",
            "Cost after 3200 iterations is 0.6861473616903819\n",
            "Cost after 3300 iterations is 0.6861473616903819\n",
            "Cost after 3400 iterations is 0.6861473616903819\n",
            "Cost after 3500 iterations is 0.6861473616903819\n",
            "Cost after 3600 iterations is 0.6861473616903819\n",
            "Cost after 3700 iterations is 0.6861473616903819\n",
            "Cost after 3800 iterations is 0.6861473616903819\n",
            "Cost after 3900 iterations is 0.6861473616903819\n",
            "Cost after 4000 iterations is 0.6861473616903819\n",
            "Cost after 4100 iterations is 0.6861473616903819\n",
            "Final cost is 0.6861473616903819\n"
          ]
        }
      ],
      "source": [
        "import numpy as np # import numpy\n",
        "clf = NeuralNetwork(x_train.T, y_train, [2, 32, 64,1], lr=1, iterations=4200) # create a neural network\n",
        "clf.train() # train the network"
      ]
    },
    {
      "cell_type": "code",
      "execution_count": 12,
      "metadata": {
        "colab": {
          "base_uri": "https://localhost:8080/",
          "height": 295
        },
        "id": "IQEV3TklLwqv",
        "outputId": "e9925f90-c656-4bab-b0bb-0f7d88954857"
      },
      "outputs": [
        {
          "data": {
            "image/png": "[encoded data removed]",
            "text/plain": [
              "<Figure size 432x288 with 1 Axes>"
            ]
          },
          "metadata": {
            "needs_background": "light"
          },
          "output_type": "display_data"
        }
      ],
      "source": [
        "# plot cost vs iterations\n",
        "import matplotlib.pyplot as plt # import matplotlib\n",
        "plt.plot(clf.cost_list) # plot cost vs iterations\n",
        "plt.title('Cost using ReLU function') # set title\n",
        "plt.xlabel('Iterations') # set x label\n",
        "plt.ylabel('ReLU Cost') # set y label\n",
        "plt.show() # show plot"
      ]
    },
    {
      "cell_type": "code",
      "execution_count": 13,
      "metadata": {
        "colab": {
          "base_uri": "https://localhost:8080/",
          "height": 295
        },
        "id": "MIRaX-41LwoI",
        "outputId": "b397d67d-822b-4923-efc5-58ed68c8a070"
      },
      "outputs": [
        {
          "data": {
            "image/png": "[encoded data removed]",
            "text/plain": [
              "<Figure size 432x288 with 1 Axes>"
            ]
          },
          "metadata": {
            "needs_background": "light"
          },
          "output_type": "display_data"
        }
      ],
      "source": [
        "# plot accuracy vs iterations\n",
        "plt.plot(clf.train_acc) # plot accuracy vs iterations\n",
        "plt.title('Accuracy using ReLU function') # set title\n",
        "plt.xlabel('Iterations') # set x label\n",
        "plt.ylabel('Accuracy') # set y label\n",
        "plt.show() # show plot"
      ]
    },
    {
      "cell_type": "markdown",
      "metadata": {
        "id": "RX_V4LEHqiDw"
      },
      "source": [
        "# Neural Network from Scratch using Tanh hypebolic"
      ]
    },
    {
      "cell_type": "code",
      "execution_count": 14,
      "metadata": {
        "id": "9jXzN7P9Lwlu"
      },
      "outputs": [],
      "source": [
        "class NeuralNetwork: # neural network class\n",
        "    def __init__(self, X, Y, dims, lr=1.2, iterations=3000): # initialize the network\n",
        "        self.X = X # input data\n",
        "        self.Y = Y  # output data\n",
        "        # Including input layer and output layer. Let example be dims=4\n",
        "        self.dims = dims # dimensions of the network\n",
        "        self.lr = lr  # Learning rate\n",
        "        self.iterations = iterations    # Number of iterations\n",
        "        self.length = len(self.dims)-1 # length of the network\n",
        "        self.parameters = {}    # To store parameters W and b for each layer\n",
        "        self.cache = {}     # To store cache Z and A for each layer\n",
        "        self.grads = {}     # To store dA, dZ, dW, db\n",
        "        self.cost = 1       # Initial value does not matter\n",
        "        self.train_acc = [] # To store training accuracy\n",
        "        self.cost_list = [] # To store cost for each iteration\n",
        "\n",
        "    def initialize(self):   # initialize parameters\n",
        "        np.random.seed(3)   # set seed for random number generation\n",
        "        for l in range(1, len(self.dims)):  # for each layer\n",
        "            self.parameters['W'+str(l)] = np.random.randn(self.dims[l],\n",
        "                                                      self.dims[l-1])*0.01  # initialize W\n",
        "            self.parameters['b'+str(l)] = np.zeros((self.dims[l], 1))   # initialize b\n",
        "    \n",
        "    def predict(self, X):   # predict the output of the network\n",
        "        self.forward_propagation()  # forward propagation\n",
        "        return np.round(self.cache['A'+str(len(self.dims)-1)])  # return prediction\n",
        "\n",
        "    def forward_propagation(self):  # forward propagation\n",
        "        self.cache['A0'] = self.X   # set A0 to input data\n",
        "        for l in range(1, len(self.dims)-1):    # for each layer\n",
        "            self.cache['Z'+str(l)] = np.dot(self.parameters['W'+str(l)],\n",
        "                                            self.cache['A'+str(l-1)]) + self.parameters['b'+str(l)] # compute Z\n",
        "            self.cache['A'+str(l)] = tanh(self.cache['Z'+str(l)])   # compute A\n",
        "        l = len(self.dims)-1    # for last layer\n",
        "        self.cache['Z'+str(l)] = np.dot(self.parameters['W'+str(l)],\n",
        "                                        self.cache['A'+str(l-1)]) + self.parameters['b'+str(l)]     # compute Z\n",
        "        self.cache['A'+str(l)] = sigmoid(self.cache['Z'+str(l)])    # compute A\n",
        "\n",
        "    def compute_cost(self):  # compute cost\n",
        "        m = self.Y.shape[0] # number of training examples\n",
        "        A = self.cache['A'+str(len(self.dims)-1)]   # output of the network\n",
        "        self.cost = -1/m * \\\n",
        "            np.sum(np.multiply(self.Y, np.log(A)) +\n",
        "                   np.multiply(1-self.Y, np.log(1-A)))  # compute cost\n",
        "        self.cost = np.squeeze(self.cost)   # remove dimensions of size 1\n",
        "\n",
        "    def backward_propagation(self): # backward propagation\n",
        "        A = self.cache['A' + str(len(self.dims) - 1)]   # output of the network\n",
        "        m = self.X.shape[1]     # number of training examples\n",
        "        self.grads['dA'+str(len(self.dims)-1)\n",
        "                   ] = np.divide(A - self.Y, (1 - A) * A)   # compute dA\n",
        "        # Sigmoid derivative for final layer\n",
        "        l = len(self.dims)-1    # for last layer\n",
        "        self.grads['dZ' + str(l)] = self.grads['dA' + str(l)] * \\\n",
        "            sigmoidPrime(self.cache['Z' + str(l)])  # compute dZ\n",
        "        self.grads['dW' + str(l)] = 1 / m * np.dot(self.grads['dZ' +\n",
        "                                                              str(l)], self.cache['A' + str(l - 1)].T)  # compute dW\n",
        "        self.grads['db' + str(l)] = 1 / m * \\\n",
        "            np.sum(self.grads['dZ' + str(l)], axis=1, keepdims=True)        # compute db\n",
        "        self.grads['dA' + str(l - 1)] = np.dot(self.parameters['W' +\n",
        "                                                           str(l)].T, self.grads['dZ' + str(l)])    # compute dA\n",
        "        # tanh derivative for previous layers\n",
        "        for l in range(len(self.dims)-2, 0, -1):    # for each layer\n",
        "            self.grads['dZ'+str(l)] = self.grads['dA'+str(l)] * \\\n",
        "                tanhPrime(self.cache['Z'+str(l)])   # compute dZ\n",
        "            self.grads['dW'+str(l)] = 1/m*np.dot(self.grads['dZ' +\n",
        "                                                            str(l)], self.cache['A'+str(l-1)].T)    # compute dW\n",
        "            self.grads['db'+str(l)] = 1/m * \\\n",
        "                np.sum(self.grads['dZ'+str(l)], axis=1, keepdims=True)  # compute db\n",
        "            self.grads['dA'+str(l-1)] = np.dot(self.parameters['W' +\n",
        "                                                           str(l)].T, self.grads['dZ'+str(l)])  # compute dA\n",
        "\n",
        "    def update_parameters(self):    # update parameters\n",
        "        for l in range(1, len(self.dims)):  # for each layer\n",
        "            self.parameters['W'+str(l)] = self.parameters['W'+str(l)] - \\\n",
        "                self.lr*self.grads['dW'+str(l)]  # update W\n",
        "            self.parameters['b'+str(l)] = self.parameters['b'+str(l)] - \\\n",
        "                self.lr*self.grads['db'+str(l)] # update b\n",
        "\n",
        "    def train(self):    # train the network\n",
        "        np.random.seed(1)   # set seed for random number generation\n",
        "        self.initialize()   # initialize parameters\n",
        "        for i in range(self.iterations):    # for each iteration\n",
        "            self.forward_propagation()  # forward propagation\n",
        "            self.compute_cost() # compute cost\n",
        "            self.backward_propagation() # backward propagation\n",
        "            self.update_parameters()    # update parameters\n",
        "            if i % 100 == 0:    # print cost every 100 iterations\n",
        "                print('Cost after {} iterations is {}'.format(i, self.cost))\n",
        "                # calculate prediction and accuracy for training set and append to list\n",
        "                pred = self.predict(self.X)\n",
        "                acc = np.sum(pred == self.Y) / self.Y.shape[0]\n",
        "                self.train_acc.append(acc)\n",
        "                # calculate cost for each iteration and append to list\n",
        "                self.cost_list.append(self.cost)\n",
        "        print('Final cost is {}'.format(self.cost))"
      ]
    },
    {
      "cell_type": "markdown",
      "metadata": {
        "id": "BuXaRqvfmtUG"
      },
      "source": [
        "## Neural Network with Tanh using 4 hidden layers"
      ]
    },
    {
      "cell_type": "code",
      "execution_count": 15,
      "metadata": {
        "colab": {
          "base_uri": "https://localhost:8080/"
        },
        "id": "kngCyo4uLwjJ",
        "outputId": "53e94e81-335f-44a1-ef7e-951691e66e22"
      },
      "outputs": [
        {
          "name": "stdout",
          "output_type": "stream",
          "text": [
            "Cost after 0 iterations is 0.6931470852150396\n",
            "Cost after 100 iterations is 0.6861470519142242\n",
            "Cost after 200 iterations is 0.6861468101934104\n",
            "Cost after 300 iterations is 0.6861465383543204\n",
            "Cost after 400 iterations is 0.6861462192440725\n",
            "Cost after 500 iterations is 0.686145829049809\n",
            "Cost after 600 iterations is 0.6861453325253777\n",
            "Cost after 700 iterations is 0.6861446743021025\n",
            "Cost after 800 iterations is 0.6861437618554457\n",
            "Cost after 900 iterations is 0.686142429209208\n",
            "Cost after 1000 iterations is 0.6861403511999523\n",
            "Cost after 1100 iterations is 0.6861368115219314\n",
            "Cost after 1200 iterations is 0.6861299430374094\n",
            "Cost after 1300 iterations is 0.6861133811264655\n",
            "Cost after 1400 iterations is 0.686050604088854\n",
            "Cost after 1500 iterations is 0.6843944786757113\n",
            "Cost after 1600 iterations is 0.3066593041169926\n",
            "Cost after 1700 iterations is 0.2889711169832598\n",
            "Cost after 1800 iterations is 0.2883000472830156\n",
            "Cost after 1900 iterations is 0.2872293846245867\n",
            "Cost after 2000 iterations is 0.2864281458719437\n",
            "Cost after 2100 iterations is 0.28562693356217556\n",
            "Cost after 2200 iterations is 0.2853521886093648\n",
            "Cost after 2300 iterations is 0.26932045745153743\n",
            "Cost after 2400 iterations is 0.21211433338245977\n",
            "Cost after 2500 iterations is 0.18963761603136298\n",
            "Cost after 2600 iterations is 0.18446889114742948\n",
            "Cost after 2700 iterations is 0.17273550897882517\n",
            "Cost after 2800 iterations is 0.16820982082138597\n",
            "Cost after 2900 iterations is 0.16493737716590076\n",
            "Cost after 3000 iterations is 0.16226527059647256\n",
            "Cost after 3100 iterations is 0.1596713156933797\n",
            "Cost after 3200 iterations is 0.15719897865836202\n",
            "Cost after 3300 iterations is 0.15798998917088863\n",
            "Cost after 3400 iterations is 0.1736947430032937\n",
            "Cost after 3500 iterations is 0.17614569934579158\n",
            "Cost after 3600 iterations is 0.1523819619821222\n",
            "Cost after 3700 iterations is 0.19195835415281742\n",
            "Cost after 3800 iterations is 0.19306900090100934\n",
            "Cost after 3900 iterations is 0.15147342279958498\n",
            "Cost after 4000 iterations is 0.18112500482641067\n",
            "Cost after 4100 iterations is 0.14910117594703928\n",
            "Cost after 4200 iterations is 0.1561708253231467\n",
            "Cost after 4300 iterations is 0.16793603022785397\n",
            "Cost after 4400 iterations is 0.1520577424028872\n",
            "Cost after 4500 iterations is 0.227199280015711\n",
            "Cost after 4600 iterations is 0.17802074425401063\n",
            "Cost after 4700 iterations is 0.15403193815452237\n",
            "Cost after 4800 iterations is 0.14325503812613682\n",
            "Cost after 4900 iterations is 0.14142867154159264\n",
            "Final cost is 0.16010416704270808\n"
          ]
        }
      ],
      "source": [
        "import numpy as np # import numpy\n",
        "clf = NeuralNetwork(x_train.T, y_train, [2, 128 , 64 , 64 ,32,1], lr=1, iterations=5000)    # create classifier\n",
        "clf.train()   # train the classifier"
      ]
    },
    {
      "cell_type": "code",
      "execution_count": 16,
      "metadata": {
        "colab": {
          "base_uri": "https://localhost:8080/",
          "height": 295
        },
        "id": "V5y2OsWkLwgs",
        "outputId": "e1fb6f5c-fe63-4f5d-a4fa-269a242457bd"
      },
      "outputs": [
        {
          "data": {
            "image/png": "[encoded data removed]",
            "text/plain": [
              "<Figure size 432x288 with 1 Axes>"
            ]
          },
          "metadata": {
            "needs_background": "light"
          },
          "output_type": "display_data"
        }
      ],
      "source": [
        "# plot cost vs iterations\n",
        "import matplotlib.pyplot as plt # import matplotlib\n",
        "plt.plot(clf.cost_list) # plot cost vs iterations\n",
        "plt.title('Cost using Tanh function')   # plot title\n",
        "plt.xlabel('Iterations')    # x-axis label\n",
        "plt.ylabel('Cost')  # y-axis label\n",
        "plt.show()  # show plot"
      ]
    },
    {
      "cell_type": "code",
      "execution_count": 17,
      "metadata": {
        "colab": {
          "base_uri": "https://localhost:8080/",
          "height": 295
        },
        "id": "MHdYMM0wLweU",
        "outputId": "68c269e3-44a2-4810-c080-79f1c6f83430"
      },
      "outputs": [
        {
          "data": {
            "image/png": "[encoded data removed]",
            "text/plain": [
              "<Figure size 432x288 with 1 Axes>"
            ]
          },
          "metadata": {
            "needs_background": "light"
          },
          "output_type": "display_data"
        }
      ],
      "source": [
        "# plot accuracy vs iterations\n",
        "plt.plot(clf.train_acc)     # plot accuracy vs iterations\n",
        "plt.title('Accuracy using Tanh function')       # plot title\n",
        "\n",
        "plt.xlabel('Iterations')    # x-axis label\n",
        "plt.ylabel('Accuracy')  # y-axis label\n",
        "plt.show()  # show plot"
      ]
    },
    {
      "cell_type": "markdown",
      "metadata": {
        "id": "dUnVnRCYoyZ7"
      },
      "source": [
        "## Neural Network with Tanh using 2 hidden layers"
      ]
    },
    {
      "cell_type": "code",
      "execution_count": 18,
      "metadata": {
        "colab": {
          "base_uri": "https://localhost:8080/"
        },
        "id": "TH7oaGH6LwYa",
        "outputId": "574ea8c5-c279-4a8f-d501-efed111bdf4c"
      },
      "outputs": [
        {
          "name": "stdout",
          "output_type": "stream",
          "text": [
            "Cost after 0 iterations is 0.6931321464835285\n",
            "Cost after 100 iterations is 0.289416525108049\n",
            "Cost after 200 iterations is 0.289342866218966\n",
            "Cost after 300 iterations is 0.28926460112637015\n",
            "Cost after 400 iterations is 0.2891611455628078\n",
            "Cost after 500 iterations is 0.28899635732864387\n",
            "Cost after 600 iterations is 0.2886966717394523\n",
            "Cost after 700 iterations is 0.2881238219048507\n",
            "Cost after 800 iterations is 0.28702897138369937\n",
            "Cost after 900 iterations is 0.2839178146741237\n",
            "Cost after 1000 iterations is 0.2583953524203744\n",
            "Cost after 1100 iterations is 0.20160218070113886\n",
            "Cost after 1200 iterations is 0.18517537957444055\n",
            "Cost after 1300 iterations is 0.18928348985210453\n",
            "Cost after 1400 iterations is 0.18132538089563166\n",
            "Cost after 1500 iterations is 0.17616125317578737\n",
            "Cost after 1600 iterations is 0.17236007093844496\n",
            "Cost after 1700 iterations is 0.16926765109443792\n",
            "Cost after 1800 iterations is 0.16641974618054414\n",
            "Cost after 1900 iterations is 0.16341024092229894\n",
            "Cost after 2000 iterations is 0.16007841949696852\n",
            "Cost after 2100 iterations is 0.15618579135044328\n",
            "Cost after 2200 iterations is 0.1515374601139432\n",
            "Cost after 2300 iterations is 0.14660066707928449\n",
            "Cost after 2400 iterations is 0.14185333969345404\n",
            "Cost after 2500 iterations is 0.13809910778786375\n",
            "Cost after 2600 iterations is 0.13485895762118486\n",
            "Cost after 2700 iterations is 0.1319546822405877\n",
            "Cost after 2800 iterations is 0.12924552717141144\n",
            "Cost after 2900 iterations is 0.12671538795277035\n",
            "Cost after 3000 iterations is 0.12442931544127762\n",
            "Cost after 3100 iterations is 0.12237411040305653\n",
            "Cost after 3200 iterations is 0.12048378858527622\n",
            "Cost after 3300 iterations is 0.11867605805073449\n",
            "Cost after 3400 iterations is 0.11687476744897535\n",
            "Cost after 3500 iterations is 0.11502256719544121\n",
            "Cost after 3600 iterations is 0.11309179064272457\n",
            "Cost after 3700 iterations is 0.11109523124278116\n",
            "Cost after 3800 iterations is 0.1090950075403913\n",
            "Cost after 3900 iterations is 0.10720003189783123\n",
            "Cost after 4000 iterations is 0.10551456694066368\n",
            "Cost after 4100 iterations is 0.1040709876981705\n",
            "Cost after 4200 iterations is 0.10283781205257066\n",
            "Cost after 4300 iterations is 0.10176361740616055\n",
            "Cost after 4400 iterations is 0.1007969405967903\n",
            "Cost after 4500 iterations is 0.09988509009082808\n",
            "Cost after 4600 iterations is 0.09940278374012051\n",
            "Cost after 4700 iterations is 0.0884129626377528\n",
            "Cost after 4800 iterations is 0.08689600051053602\n",
            "Cost after 4900 iterations is 0.08543692430249003\n",
            "Final cost is 0.08401424598669195\n"
          ]
        }
      ],
      "source": [
        "import numpy as np  # import numpy\n",
        "clf = NeuralNetwork(x_train.T, y_train, [2, 64 ,32 ,1], lr=1, iterations=5000)  # create classifier\n",
        "clf.train() # train the classifier"
      ]
    },
    {
      "cell_type": "code",
      "execution_count": 19,
      "metadata": {
        "colab": {
          "base_uri": "https://localhost:8080/",
          "height": 295
        },
        "id": "UAfjjpDPLwV3",
        "outputId": "d1a2d876-20ae-47a2-818a-446741a21de2"
      },
      "outputs": [
        {
          "data": {
            "image/png": "[encoded data removed]",
            "text/plain": [
              "<Figure size 432x288 with 1 Axes>"
            ]
          },
          "metadata": {
            "needs_background": "light"
          },
          "output_type": "display_data"
        }
      ],
      "source": [
        "# plot cost vs iterations   \n",
        "import matplotlib.pyplot as plt # import matplotlib\n",
        "plt.plot(clf.cost_list) # plot cost vs iterations\n",
        "plt.title('Cost using Tanh function')   # plot title\n",
        "plt.xlabel('Iterations')    # x-axis label\n",
        "plt.ylabel('Cost')  # y-axis label\n",
        "plt.show()  # show plot"
      ]
    },
    {
      "cell_type": "code",
      "execution_count": 20,
      "metadata": {
        "colab": {
          "base_uri": "https://localhost:8080/",
          "height": 295
        },
        "id": "tPAjmtsSLwS9",
        "outputId": "500cdaeb-6703-4cd5-91ac-bba2ab25a473"
      },
      "outputs": [
        {
          "data": {
            "image/png": "[encoded data removed]",
            "text/plain": [
              "<Figure size 432x288 with 1 Axes>"
            ]
          },
          "metadata": {
            "needs_background": "light"
          },
          "output_type": "display_data"
        }
      ],
      "source": [
        "# plot accuracy vs iterations\n",
        "plt.plot(clf.train_acc)    # plot accuracy vs iterations\n",
        "plt.title('Accuracy using Tanh function')    # plot title\n",
        "plt.xlabel('Iterations')    # x-axis label\n",
        "plt.ylabel('Accuracy')  # y-axis label\n",
        "plt.show()  # show plot"
      ]
    },
    {
      "cell_type": "markdown",
      "metadata": {
        "id": "TX72Tzhrpyi9"
      },
      "source": [
        "## Neural Network with Tanh using 1 hidden layers"
      ]
    },
    {
      "cell_type": "code",
      "execution_count": 21,
      "metadata": {
        "colab": {
          "base_uri": "https://localhost:8080/"
        },
        "id": "PPU2rabxpyjN",
        "outputId": "b9bab809-3e3c-4bfd-f288-501716aff75f"
      },
      "outputs": [
        {
          "name": "stdout",
          "output_type": "stream",
          "text": [
            "Cost after 0 iterations is 0.6932269822346225\n",
            "Cost after 100 iterations is 0.28941344825875465\n",
            "Cost after 200 iterations is 0.2893399689570825\n",
            "Cost after 300 iterations is 0.2892581018826501\n",
            "Cost after 400 iterations is 0.28912166354266017\n",
            "Cost after 500 iterations is 0.28835142479608245\n",
            "Cost after 600 iterations is 0.28039158294564737\n",
            "Cost after 700 iterations is 0.2536081761832586\n",
            "Cost after 800 iterations is 0.2282960167087205\n",
            "Cost after 900 iterations is 0.21432021815408844\n",
            "Cost after 1000 iterations is 0.20638871326741387\n",
            "Cost after 1100 iterations is 0.20088644418599652\n",
            "Cost after 1200 iterations is 0.19658928508143314\n",
            "Cost after 1300 iterations is 0.19310442207278897\n",
            "Cost after 1400 iterations is 0.19034374891213188\n",
            "Cost after 1500 iterations is 0.18820284175928323\n",
            "Cost after 1600 iterations is 0.1865240805143262\n",
            "Cost after 1700 iterations is 0.1851665942318264\n",
            "Cost after 1800 iterations is 0.18403097811180366\n",
            "Cost after 1900 iterations is 0.1830531390793457\n",
            "Cost after 2000 iterations is 0.1821924887492251\n",
            "Cost after 2100 iterations is 0.18142277464472992\n",
            "Cost after 2200 iterations is 0.18072624542245588\n",
            "Cost after 2300 iterations is 0.18009017725649382\n",
            "Cost after 2400 iterations is 0.17950483558034255\n",
            "Cost after 2500 iterations is 0.1789622517340781\n",
            "Cost after 2600 iterations is 0.17845543077590745\n",
            "Cost after 2700 iterations is 0.17797774514045112\n",
            "Cost after 2800 iterations is 0.17752232794734732\n",
            "Cost after 2900 iterations is 0.17708126766600352\n",
            "Cost after 3000 iterations is 0.1766443031371741\n",
            "Cost after 3100 iterations is 0.17619646391127855\n",
            "Cost after 3200 iterations is 0.175713593167756\n",
            "Cost after 3300 iterations is 0.17515394345814883\n",
            "Cost after 3400 iterations is 0.1744441529423193\n",
            "Cost after 3500 iterations is 0.1734643498419628\n",
            "Cost after 3600 iterations is 0.17206117312445657\n",
            "Cost after 3700 iterations is 0.17014004912598363\n",
            "Cost after 3800 iterations is 0.16779705381013463\n",
            "Cost after 3900 iterations is 0.1652990954542768\n",
            "Cost after 4000 iterations is 0.16289956814826478\n",
            "Cost after 4100 iterations is 0.1607247021800377\n",
            "Cost after 4200 iterations is 0.15879914568948222\n",
            "Cost after 4300 iterations is 0.15710497798440926\n",
            "Cost after 4400 iterations is 0.15561264937375735\n",
            "Cost after 4500 iterations is 0.15428865964582664\n",
            "Cost after 4600 iterations is 0.15309699329785567\n",
            "Cost after 4700 iterations is 0.15200156735624867\n",
            "Cost after 4800 iterations is 0.15096922812438743\n",
            "Cost after 4900 iterations is 0.14997142739139196\n",
            "Final cost is 0.14899436671846733\n"
          ]
        }
      ],
      "source": [
        "import numpy as np  # import numpy  \n",
        "clf = NeuralNetwork(x_train.T, y_train, [2, 32 ,1], lr=1, iterations=5000)  # create classifier\n",
        "clf.train() # train the classifier"
      ]
    },
    {
      "cell_type": "code",
      "execution_count": 22,
      "metadata": {
        "colab": {
          "base_uri": "https://localhost:8080/",
          "height": 295
        },
        "id": "vRG_DgsfpyjO",
        "outputId": "96804009-c3f5-4b4f-d2fb-98bfd3d007e6"
      },
      "outputs": [
        {
          "data": {
            "image/png": "[encoded data removed]",
            "text/plain": [
              "<Figure size 432x288 with 1 Axes>"
            ]
          },
          "metadata": {
            "needs_background": "light"
          },
          "output_type": "display_data"
        }
      ],
      "source": [
        "# plot cost vs iterations\n",
        "import matplotlib.pyplot as plt # import matplotlib \n",
        "plt.plot(clf.cost_list) # plot cost vs iterations\n",
        "plt.title('Cost using Tanh function')   # plot title\n",
        "plt.xlabel('Iterations')    # x-axis label\n",
        "plt.ylabel('Cost')  # y-axis label\n",
        "plt.show()  # show plot"
      ]
    },
    {
      "cell_type": "code",
      "execution_count": 23,
      "metadata": {
        "colab": {
          "base_uri": "https://localhost:8080/",
          "height": 295
        },
        "id": "UTvVlVJkpyjO",
        "outputId": "714f5e32-df7d-477e-eab3-474a5aadb9f6"
      },
      "outputs": [
        {
          "data": {
            "image/png": "[encoded data removed]",
            "text/plain": [
              "<Figure size 432x288 with 1 Axes>"
            ]
          },
          "metadata": {
            "needs_background": "light"
          },
          "output_type": "display_data"
        }
      ],
      "source": [
        "# plot accuracy vs iterations\n",
        "plt.plot(clf.train_acc)   # plot accuracy vs iterations\n",
        "plt.title('Accuracy using Tanh function')   # plot title\n",
        "plt.xlabel('Iterations')    # x-axis label\n",
        "plt.ylabel('Accuracy')      # y-axis label\n",
        "plt.show()  # show plot"
      ]
    }
  ],
  "metadata": {
    "accelerator": "TPU",
    "colab": {
      "collapsed_sections": [
        "g9qw_-gKkzDG",
        "g--NejJIK2GQ",
        "BuXaRqvfmtUG",
        "dUnVnRCYoyZ7",
        "TX72Tzhrpyi9"
      ],
      "name": "binary neural network from scratch.ipynb",
      "provenance": []
    },
    "interpreter": {
      "hash": "916dbcbb3f70747c44a77c7bcd40155683ae19c65e1c03b4aa3499c5328201f1"
    },
    "kernelspec": {
      "display_name": "Python 3.9.10 64-bit",
      "language": "python",
      "name": "python3"
    },
    "language_info": {
      "codemirror_mode": {
        "name": "ipython",
        "version": 3
      },
      "file_extension": ".py",
      "mimetype": "text/x-python",
      "name": "python",
      "nbconvert_exporter": "python",
      "pygments_lexer": "ipython3",
      "version": "3.9.12"
    }
  },
  "nbformat": 4,
  "nbformat_minor": 0
}
