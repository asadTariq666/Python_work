{
 "cells": [
  {
   "cell_type": "markdown",
   "id": "69d452cf",
   "metadata": {},
   "source": [
    "# Day 20 - 02 - Machine Learning - Multiple Linear Regression"
   ]
  },
  {
   "cell_type": "markdown",
   "id": "f7c2effc",
   "metadata": {},
   "source": [
    "## Importing Libraries"
   ]
  },
  {
   "cell_type": "code",
   "execution_count": 143,
   "id": "451bb908",
   "metadata": {},
   "outputs": [],
   "source": [
    "# Importing Libraries\n",
    "import pandas as pd \n",
    "import numpy as np\n",
    "import seaborn as sns\n",
    "import matplotlib.pyplot as plt\n"
   ]
  },
  {
   "cell_type": "markdown",
   "id": "431125c2",
   "metadata": {},
   "source": [
    "## Importing data set"
   ]
  },
  {
   "cell_type": "code",
   "execution_count": 176,
   "id": "c65c5a5e",
   "metadata": {},
   "outputs": [
    {
     "name": "stdout",
     "output_type": "stream",
     "text": [
      "     age  distance  YearsExperience  Salary\n",
      "0   31.1     77.75              1.1   39343\n",
      "1   31.3     78.25              1.3   46205\n",
      "2   31.5     78.75              1.5   37731\n",
      "3   32.0     80.00              2.0   43525\n",
      "4   32.2     80.50              2.2   39891\n",
      "5   32.9     82.25              2.9   56642\n",
      "6   33.0     82.50              3.0   60150\n",
      "7   33.2     83.00              3.2   54445\n",
      "8   33.2     83.00              3.2   64445\n",
      "9   33.7     84.25              3.7   57189\n",
      "10  33.9     84.75              3.9   63218\n",
      "11  34.0     85.00              4.0   55794\n",
      "12  34.0     85.00              4.0   56957\n",
      "13  34.1     85.25              4.1   57081\n",
      "14  34.5     86.25              4.5   61111\n",
      "15  34.9     87.25              4.9   67938\n",
      "16  35.1     87.75              5.1   66029\n",
      "17  35.3     88.25              5.3   83088\n",
      "18  35.9     89.75              5.9   81363\n",
      "19  36.0     90.00              6.0   93940\n",
      "20  36.8     92.00              6.8   91738\n",
      "21  37.1     92.75              7.1   98273\n",
      "22  37.9     94.75              7.9  101302\n",
      "23  38.2     95.50              8.2  113812\n",
      "24  38.7     96.75              8.7  109431\n",
      "25  39.0     97.50              9.0  105582\n",
      "26  39.5     98.75              9.5  116969\n",
      "27  39.6     99.00              9.6  112635\n",
      "28  40.3    100.75             10.3  122391\n",
      "29  40.5    101.25             10.5  121872\n"
     ]
    }
   ],
   "source": [
    "df = pd.read_csv('ml_data_salary.csv')\n",
    "print(df.head(30))"
   ]
  },
  {
   "cell_type": "code",
   "execution_count": 167,
   "id": "1fd96f7d",
   "metadata": {},
   "outputs": [
    {
     "data": {
      "text/plain": [
       "(    age  distance  YearsExperience\n",
       " 0  31.1     77.75              1.1\n",
       " 1  31.3     78.25              1.3\n",
       " 2  31.5     78.75              1.5\n",
       " 3  32.0     80.00              2.0\n",
       " 4  32.2     80.50              2.2,\n",
       "    Salary\n",
       " 0   39343\n",
       " 1   46205\n",
       " 2   37731\n",
       " 3   43525\n",
       " 4   39891)"
      ]
     },
     "execution_count": 167,
     "metadata": {},
     "output_type": "execute_result"
    }
   ],
   "source": [
    "descriptive_features = df[['age','distance','YearsExperience']]\n",
    "target_feature = df[['Salary']]\n",
    "descriptive_features.head(), target_feature.head()"
   ]
  },
  {
   "cell_type": "markdown",
   "id": "04e19a9a",
   "metadata": {},
   "source": [
    "## Importing Linear regression and efficiency measures from sklearn "
   ]
  },
  {
   "cell_type": "code",
   "execution_count": 170,
   "id": "1e2bb22f",
   "metadata": {},
   "outputs": [],
   "source": [
    "# Importing Linear regression from sklearn \n",
    "from sklearn.linear_model import LinearRegression\n",
    "from sklearn.metrics import mean_squared_error, mean_absolute_error"
   ]
  },
  {
   "cell_type": "markdown",
   "id": "7c42c7b5",
   "metadata": {},
   "source": [
    "## Fitting Multiple Linear Regression to the data set"
   ]
  },
  {
   "cell_type": "code",
   "execution_count": 171,
   "id": "0c103105",
   "metadata": {},
   "outputs": [
    {
     "data": {
      "text/plain": [
       "LinearRegression()"
      ]
     },
     "execution_count": 171,
     "metadata": {},
     "output_type": "execute_result"
    }
   ],
   "source": [
    "# Fitting Multiple Linear Regression to the data set\n",
    "from sklearn.linear_model import LinearRegression\n",
    "regressor = LinearRegression()\n",
    "regressor.fit(descriptive_features, target_feature)"
   ]
  },
  {
   "cell_type": "markdown",
   "id": "0a4624e3",
   "metadata": {},
   "source": [
    "## Predicting  results"
   ]
  },
  {
   "cell_type": "code",
   "execution_count": 177,
   "id": "5be5e144",
   "metadata": {},
   "outputs": [
    {
     "data": {
      "text/plain": [
       "array([[ 36202.25 ],\n",
       "       [ 38095.   ],\n",
       "       [ 39987.75 ],\n",
       "       [ 44711.625],\n",
       "       [ 46588.5  ],\n",
       "       [ 53221.125],\n",
       "       [ 54159.5  ],\n",
       "       [ 56036.125],\n",
       "       [ 56036.125],\n",
       "       [ 60760.125],\n",
       "       [ 62668.75 ],\n",
       "       [ 63607.25 ],\n",
       "       [ 63607.25 ],\n",
       "       [ 64545.625],\n",
       "       [ 68331.125],\n",
       "       [ 72116.625],\n",
       "       [ 73993.25 ],\n",
       "       [ 75902.125],\n",
       "       [ 81564.375],\n",
       "       [ 82502.75 ],\n",
       "       [ 90073.75 ],\n",
       "       [ 92888.875],\n",
       "       [100459.875],\n",
       "       [103290.875],\n",
       "       [108014.875],\n",
       "       [110846.   ],\n",
       "       [115569.875],\n",
       "       [116524.25 ],\n",
       "       [123140.875],\n",
       "       [125033.75 ]])"
      ]
     },
     "execution_count": 177,
     "metadata": {},
     "output_type": "execute_result"
    }
   ],
   "source": [
    "# Predicting the Test set results\n",
    "y_pred = regressor.predict(descriptive_features)\n",
    "y_pred"
   ]
  },
  {
   "cell_type": "markdown",
   "id": "b941603f",
   "metadata": {},
   "source": [
    "## Score of model"
   ]
  },
  {
   "cell_type": "code",
   "execution_count": 178,
   "id": "39d7d5c1",
   "metadata": {},
   "outputs": [
    {
     "data": {
      "text/plain": [
       "0.9569671832087255"
      ]
     },
     "execution_count": 178,
     "metadata": {},
     "output_type": "execute_result"
    }
   ],
   "source": [
    "regressor.score(descriptive_features,target_feature)"
   ]
  },
  {
   "cell_type": "markdown",
   "id": "4561dde2",
   "metadata": {},
   "source": [
    "## Evaluation by Mean Squared Error"
   ]
  },
  {
   "cell_type": "code",
   "execution_count": 179,
   "id": "403cbab9",
   "metadata": {},
   "outputs": [
    {
     "name": "stdout",
     "output_type": "stream",
     "text": [
      "Mean squared error model 1: 31263309.63\n",
      "Mean Absolute error model 1: 4644.36\n"
     ]
    }
   ],
   "source": [
    "## Evaluation by Mean Squared Error\n",
    "#computing the squared error of the first model\n",
    "print(\"Mean squared error model 1: %.2f\" % mean_squared_error(target_feature, y_pred))\n",
    "print(\"Mean Absolute error model 1: %.2f\" % mean_absolute_error(target_feature, y_pred))"
   ]
  },
  {
   "cell_type": "markdown",
   "id": "71192c2b",
   "metadata": {},
   "source": [
    "## Coefficient and Intercept"
   ]
  },
  {
   "cell_type": "code",
   "execution_count": 180,
   "id": "bf87d038",
   "metadata": {},
   "outputs": [
    {
     "name": "stdout",
     "output_type": "stream",
     "text": [
      "Coefficients: \n",
      " [[-2.79782201e+15  1.10953700e+15  2.39795093e+13]]\n",
      "Intercept: \n",
      " [7.19385278e+14]\n"
     ]
    }
   ],
   "source": [
    "\n",
    "#print coefficient and intercept\n",
    "print('Coefficients: \\n', regressor.coef_)\n",
    "print('Intercept: \\n', regressor.intercept_)"
   ]
  },
  {
   "cell_type": "markdown",
   "id": "4291564c",
   "metadata": {},
   "source": [
    "## Splitting data set in training and testing data"
   ]
  },
  {
   "cell_type": "code",
   "execution_count": 181,
   "id": "4dcdbf6f",
   "metadata": {},
   "outputs": [],
   "source": [
    "from sklearn.model_selection import train_test_split \n",
    "x_train, x_test, y_train, y_test = train_test_split(descriptive_features, target_feature, test_size=1/5, random_state=0)"
   ]
  },
  {
   "cell_type": "markdown",
   "id": "8e666c03",
   "metadata": {},
   "source": [
    "## Imporing Linear Regression from SKLEARN"
   ]
  },
  {
   "cell_type": "code",
   "execution_count": 182,
   "id": "4441dbb5",
   "metadata": {},
   "outputs": [],
   "source": [
    "# Importing Linear regression from sklearn \n",
    "from sklearn.linear_model import LinearRegression\n",
    "from sklearn.metrics import mean_squared_error, mean_absolute_error"
   ]
  },
  {
   "cell_type": "markdown",
   "id": "aa35075c",
   "metadata": {},
   "source": [
    "## Fitting Linear Regression on training Data"
   ]
  },
  {
   "cell_type": "code",
   "execution_count": 199,
   "id": "766eff10",
   "metadata": {},
   "outputs": [
    {
     "data": {
      "text/plain": [
       "LinearRegression(normalize=True)"
      ]
     },
     "execution_count": 199,
     "metadata": {},
     "output_type": "execute_result"
    }
   ],
   "source": [
    "# Fitting Simple Linear Regression to the Training set\n",
    "from sklearn.linear_model import LinearRegression\n",
    "regressor = LinearRegression(normalize=True)\n",
    "regressor.fit(x_train, y_train)"
   ]
  },
  {
   "cell_type": "markdown",
   "id": "d0aeb1ce",
   "metadata": {},
   "source": [
    "## Predicting test results"
   ]
  },
  {
   "cell_type": "code",
   "execution_count": 200,
   "id": "b97f1a23",
   "metadata": {},
   "outputs": [],
   "source": [
    "# Predicting the Test set results\n",
    "y_pred = regressor.predict(x_test)"
   ]
  },
  {
   "cell_type": "code",
   "execution_count": 201,
   "id": "54596995",
   "metadata": {},
   "outputs": [
    {
     "data": {
      "text/plain": [
       "array([[ 40752.],\n",
       "       [122712.],\n",
       "       [ 64976.],\n",
       "       [ 63112.],\n",
       "       [115264.],\n",
       "       [107824.]])"
      ]
     },
     "execution_count": 201,
     "metadata": {},
     "output_type": "execute_result"
    }
   ],
   "source": [
    "\n",
    "y_pred "
   ]
  },
  {
   "cell_type": "markdown",
   "id": "2b44c47d",
   "metadata": {},
   "source": [
    "## Coefficient and Intercept"
   ]
  },
  {
   "cell_type": "code",
   "execution_count": 202,
   "id": "e3f88d7e",
   "metadata": {},
   "outputs": [
    {
     "name": "stdout",
     "output_type": "stream",
     "text": [
      "Coefficients: \n",
      " [[ 1.43930599e+15 -3.24528769e+13 -1.35817379e+15]]\n",
      "Intercept: \n",
      " [-4.07452138e+16]\n"
     ]
    }
   ],
   "source": [
    "\n",
    "#print coefficient and intercept\n",
    "print('Coefficients: \\n', regressor.coef_)\n",
    "print('Intercept: \\n', regressor.intercept_)"
   ]
  },
  {
   "cell_type": "markdown",
   "metadata": {},
   "source": [
    "## Measure Accuracy"
   ]
  },
  {
   "cell_type": "code",
   "execution_count": 203,
   "metadata": {},
   "outputs": [
    {
     "data": {
      "text/plain": [
       "0.0"
      ]
     },
     "execution_count": 203,
     "metadata": {},
     "output_type": "execute_result"
    }
   ],
   "source": [
    "# Measuring score\n",
    "from sklearn.metrics import accuracy_score\n",
    "score = accuracy_score(y_test,y_pred)\n",
    "score"
   ]
  },
  {
   "cell_type": "markdown",
   "id": "69f5cf9d",
   "metadata": {},
   "source": [
    "## Visualizing training Results\n",
    "### As 3 Descriptive features, we have to make 3 separate plots with each descriptive feature and the target feature"
   ]
  },
  {
   "cell_type": "markdown",
   "id": "35c7886a",
   "metadata": {},
   "source": [
    "##### Visualizing the Training set results for Age and Salary\n",
    "\n"
   ]
  },
  {
   "cell_type": "code",
   "execution_count": 204,
   "id": "edfca427",
   "metadata": {},
   "outputs": [
    {
     "data": {
      "image/png": "[encoded data removed]",
      "text/plain": [
       "<Figure size 432x288 with 1 Axes>"
      ]
     },
     "metadata": {
      "needs_background": "light"
     },
     "output_type": "display_data"
    }
   ],
   "source": [
    "# Visualizing the Training set results for Age and Salary\n",
    "viz_train = plt\n",
    "viz_train.scatter(x_train.iloc[:,0], y_train, color='red')\n",
    "viz_train.plot(x_train.iloc[:,0], regressor.predict(x_train), color='blue')\n",
    "viz_train.title('Age  vs Salary (Training set)')\n",
    "viz_train.xlabel('Age ')\n",
    "viz_train.ylabel('Salary')\n",
    "viz_train.show()\n",
    "\n",
    "\n"
   ]
  },
  {
   "cell_type": "markdown",
   "id": "069abe07",
   "metadata": {},
   "source": [
    "##### Visualizing the Training set results for Distance and Salary\n",
    "\n"
   ]
  },
  {
   "cell_type": "code",
   "execution_count": 205,
   "id": "94c11e1d",
   "metadata": {},
   "outputs": [
    {
     "data": {
      "image/png": "[encoded data removed]",
      "text/plain": [
       "<Figure size 432x288 with 1 Axes>"
      ]
     },
     "metadata": {
      "needs_background": "light"
     },
     "output_type": "display_data"
    }
   ],
   "source": [
    "# Visualizing the Training set results for Distance and Salary\n",
    "viz_train = plt\n",
    "viz_train.scatter(x_train.iloc[:,1], y_train, color='red')\n",
    "viz_train.plot(x_train.iloc[:,1], regressor.predict(x_train), color='blue')\n",
    "viz_train.title('Distance  vs Salary (Training set)')\n",
    "viz_train.xlabel('Distance ')\n",
    "viz_train.ylabel('Salary')\n",
    "viz_train.show()\n",
    "\n",
    "\n"
   ]
  },
  {
   "cell_type": "markdown",
   "id": "5b7c988c",
   "metadata": {},
   "source": [
    "##### Visualizing the Training set results for Experience and Salary\n",
    "\n"
   ]
  },
  {
   "cell_type": "code",
   "execution_count": 206,
   "id": "a20a2eeb",
   "metadata": {},
   "outputs": [
    {
     "data": {
      "image/png": "[encoded data removed]",
      "text/plain": [
       "<Figure size 432x288 with 1 Axes>"
      ]
     },
     "metadata": {
      "needs_background": "light"
     },
     "output_type": "display_data"
    }
   ],
   "source": [
    "# Visualizing the Training set results for Experience and Salary\n",
    "viz_train = plt\n",
    "viz_train.scatter(x_train.iloc[:,2], y_train, color='red')\n",
    "viz_train.plot(x_train.iloc[:,2], regressor.predict(x_train), color='blue')\n",
    "viz_train.title('Experience  vs Salary (Training set)')\n",
    "viz_train.xlabel('Experience ')\n",
    "viz_train.ylabel('Salary')\n",
    "viz_train.show()\n",
    "\n"
   ]
  },
  {
   "cell_type": "markdown",
   "id": "585504ea",
   "metadata": {},
   "source": [
    "## Visualizing Testing Results"
   ]
  },
  {
   "cell_type": "markdown",
   "id": "1dec7097",
   "metadata": {},
   "source": [
    "##### Visualizing the Test set results for Age and Salary\n",
    "\n"
   ]
  },
  {
   "cell_type": "code",
   "execution_count": 207,
   "id": "3709867c",
   "metadata": {},
   "outputs": [
    {
     "data": {
      "image/png": "[encoded data removed]",
      "text/plain": [
       "<Figure size 432x288 with 1 Axes>"
      ]
     },
     "metadata": {
      "needs_background": "light"
     },
     "output_type": "display_data"
    }
   ],
   "source": [
    "# Visualizing the Training set results for Age and Salary\n",
    "viz_train = plt\n",
    "viz_train.scatter(x_test.iloc[:,0], y_test, color='red')\n",
    "viz_train.plot(x_test.iloc[:,0], regressor.predict(x_test), color='blue')\n",
    "viz_train.title('Age  vs Salary (Training set)')\n",
    "viz_train.xlabel('Age ')\n",
    "viz_train.ylabel('Salary')\n",
    "viz_train.show()\n",
    "\n",
    "\n"
   ]
  },
  {
   "cell_type": "markdown",
   "id": "76f40b05",
   "metadata": {},
   "source": [
    "##### Visualizing the Test set results for Distance and Salary\n",
    "\n"
   ]
  },
  {
   "cell_type": "code",
   "execution_count": 208,
   "id": "5bca57a6",
   "metadata": {},
   "outputs": [
    {
     "data": {
      "image/png": "[encoded data removed]",
      "text/plain": [
       "<Figure size 432x288 with 1 Axes>"
      ]
     },
     "metadata": {
      "needs_background": "light"
     },
     "output_type": "display_data"
    }
   ],
   "source": [
    "# Visualizing the Test set results for Distance and Salary\n",
    "viz_train = plt\n",
    "viz_train.scatter(x_test.iloc[:,1], y_test, color='red')\n",
    "viz_train.plot(x_test.iloc[:,1], regressor.predict(x_test), color='blue')\n",
    "viz_train.title('Distance  vs Salary (Training set)')\n",
    "viz_train.xlabel('Distance ')\n",
    "viz_train.ylabel('Salary')\n",
    "viz_train.show()\n",
    "\n",
    "\n"
   ]
  },
  {
   "cell_type": "markdown",
   "id": "a9060acc",
   "metadata": {},
   "source": [
    "##### Visualizing the Test set results for Experience and Salary\n",
    "\n"
   ]
  },
  {
   "cell_type": "code",
   "execution_count": 209,
   "id": "ea70d211",
   "metadata": {},
   "outputs": [
    {
     "data": {
      "image/png": "[encoded data removed]",
      "text/plain": [
       "<Figure size 432x288 with 1 Axes>"
      ]
     },
     "metadata": {
      "needs_background": "light"
     },
     "output_type": "display_data"
    }
   ],
   "source": [
    "# Visualizing the Test set results for Experience and Salary\n",
    "viz_train = plt\n",
    "viz_train.scatter(x_test.iloc[:,2], y_test, color='red')\n",
    "viz_train.plot(x_test.iloc[:,2], regressor.predict(x_test), color='blue')\n",
    "viz_train.title('Experience  vs Salary (Training set)')\n",
    "viz_train.xlabel('Experience ')\n",
    "viz_train.ylabel('Salary')\n",
    "viz_train.show()\n",
    "\n"
   ]
  },
  {
   "cell_type": "markdown",
   "id": "680704f4",
   "metadata": {},
   "source": [
    "## Evaluating Model"
   ]
  },
  {
   "cell_type": "code",
   "execution_count": 210,
   "id": "2510cdf1",
   "metadata": {},
   "outputs": [
    {
     "data": {
      "text/plain": [
       "0.9411849280897543"
      ]
     },
     "execution_count": 210,
     "metadata": {},
     "output_type": "execute_result"
    }
   ],
   "source": [
    "regressor.score(x_train,y_train)"
   ]
  },
  {
   "cell_type": "code",
   "execution_count": 211,
   "id": "b5499cce",
   "metadata": {},
   "outputs": [
    {
     "data": {
      "text/plain": [
       "0.9881509500693236"
      ]
     },
     "execution_count": 211,
     "metadata": {},
     "output_type": "execute_result"
    }
   ],
   "source": [
    "regressor.score(x_test,y_test)"
   ]
  },
  {
   "cell_type": "markdown",
   "id": "7e9f82c8",
   "metadata": {},
   "source": [
    "## Prediciting for new values"
   ]
  },
  {
   "cell_type": "code",
   "execution_count": 212,
   "id": "661174a1",
   "metadata": {},
   "outputs": [
    {
     "data": {
      "text/plain": [
       "array([[1.62264388e+12]])"
      ]
     },
     "execution_count": 212,
     "metadata": {},
     "output_type": "execute_result"
    }
   ],
   "source": [
    "# Predicting the Test set results\n",
    "y_pred2 = regressor.predict([[31.1,77.70,1.1]])\n",
    "y_pred2"
   ]
  },
  {
   "cell_type": "code",
   "execution_count": 214,
   "metadata": {},
   "outputs": [
    {
     "data": {
      "image/png": "[encoded data removed]",
      "text/plain": [
       "<Figure size 432x288 with 1 Axes>"
      ]
     },
     "metadata": {},
     "output_type": "display_data"
    }
   ],
   "source": [
    "# Visualizing the Training set results for Descriptive features and Salary\n",
    "sns.set_style(\"whitegrid\")\n",
    "viz_train = plt\n",
    "viz_train.scatter(x_train.iloc[:,0], y_train, color='red')\n",
    "viz_train.scatter(x_train.iloc[:,1], y_train, color='g')\n",
    "viz_train.scatter(x_train.iloc[:,2], y_train, color='y')\n",
    "viz_train.plot(x_train.iloc[:,0], regressor.predict(x_train), color='blue')\n",
    "viz_train.plot(x_train.iloc[:,1], regressor.predict(x_train), color='blue')\n",
    "viz_train.plot(x_train.iloc[:,2], regressor.predict(x_train), color='blue')\n",
    "viz_train.title('Age, Experience, Distance vs Salary')\n",
    "viz_train.xlabel('Experience | Age  | Distance ')\n",
    "viz_train.ylabel('Salary')\n",
    "viz_train.show()"
   ]
  }
 ],
 "metadata": {
  "interpreter": {
   "hash": "1966dafd80ff2ad7b71103e2924f5fe8b232f86773653e465ec1741b67332d79"
  },
  "kernelspec": {
   "display_name": "Python 3.9.7 64-bit ('base': conda)",
   "language": "python",
   "name": "python3"
  },
  "language_info": {
   "name": "python",
   "version": "3.9.7"
  },
  "orig_nbformat": 4
 },
 "nbformat": 4,
 "nbformat_minor": 2
}
