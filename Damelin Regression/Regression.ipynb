{
 "cells": [
  {
   "cell_type": "markdown",
   "metadata": {},
   "source": [
    "# Linear Regression on Salary Data"
   ]
  },
  {
   "cell_type": "markdown",
   "id": "f7c2effc",
   "metadata": {},
   "source": [
    "## Importing Libraries"
   ]
  },
  {
   "cell_type": "code",
   "execution_count": 151,
   "id": "451bb908",
   "metadata": {},
   "outputs": [],
   "source": [
    "# Importing Libraries\n",
    "import pandas as pd \n",
    "import numpy as np\n",
    "import seaborn as sns\n",
    "import matplotlib.pyplot as plt\n",
    "import warnings\n",
    "warnings.simplefilter(\"ignore\")\n"
   ]
  },
  {
   "cell_type": "markdown",
   "id": "431125c2",
   "metadata": {},
   "source": [
    "## Importing data set"
   ]
  },
  {
   "cell_type": "code",
   "execution_count": 156,
   "id": "c65c5a5e",
   "metadata": {},
   "outputs": [
    {
     "data": {
      "text/html": [
       "<div>\n",
       "<style scoped>\n",
       "    .dataframe tbody tr th:only-of-type {\n",
       "        vertical-align: middle;\n",
       "    }\n",
       "\n",
       "    .dataframe tbody tr th {\n",
       "        vertical-align: top;\n",
       "    }\n",
       "\n",
       "    .dataframe thead th {\n",
       "        text-align: right;\n",
       "    }\n",
       "</style>\n",
       "<table border=\"1\" class=\"dataframe\">\n",
       "  <thead>\n",
       "    <tr style=\"text-align: right;\">\n",
       "      <th></th>\n",
       "      <th>CRIM</th>\n",
       "      <th>ZN</th>\n",
       "      <th>INDUS</th>\n",
       "      <th>CHAS</th>\n",
       "      <th>NOX</th>\n",
       "      <th>RM</th>\n",
       "      <th>AGE</th>\n",
       "      <th>DIS</th>\n",
       "      <th>RAD</th>\n",
       "      <th>TAX</th>\n",
       "      <th>PTRATIO</th>\n",
       "      <th>B</th>\n",
       "      <th>LSTAT</th>\n",
       "      <th>PRICE</th>\n",
       "    </tr>\n",
       "  </thead>\n",
       "  <tbody>\n",
       "    <tr>\n",
       "      <th>0</th>\n",
       "      <td>0.00632</td>\n",
       "      <td>18.0</td>\n",
       "      <td>2.31</td>\n",
       "      <td>0.0</td>\n",
       "      <td>0.538</td>\n",
       "      <td>6.575</td>\n",
       "      <td>65.2</td>\n",
       "      <td>4.0900</td>\n",
       "      <td>1.0</td>\n",
       "      <td>296.0</td>\n",
       "      <td>15.3</td>\n",
       "      <td>396.90</td>\n",
       "      <td>4.98</td>\n",
       "      <td>24.0</td>\n",
       "    </tr>\n",
       "    <tr>\n",
       "      <th>1</th>\n",
       "      <td>0.02731</td>\n",
       "      <td>0.0</td>\n",
       "      <td>7.07</td>\n",
       "      <td>0.0</td>\n",
       "      <td>0.469</td>\n",
       "      <td>6.421</td>\n",
       "      <td>78.9</td>\n",
       "      <td>4.9671</td>\n",
       "      <td>2.0</td>\n",
       "      <td>242.0</td>\n",
       "      <td>17.8</td>\n",
       "      <td>396.90</td>\n",
       "      <td>9.14</td>\n",
       "      <td>21.6</td>\n",
       "    </tr>\n",
       "    <tr>\n",
       "      <th>2</th>\n",
       "      <td>0.02729</td>\n",
       "      <td>0.0</td>\n",
       "      <td>7.07</td>\n",
       "      <td>0.0</td>\n",
       "      <td>0.469</td>\n",
       "      <td>7.185</td>\n",
       "      <td>61.1</td>\n",
       "      <td>4.9671</td>\n",
       "      <td>2.0</td>\n",
       "      <td>242.0</td>\n",
       "      <td>17.8</td>\n",
       "      <td>392.83</td>\n",
       "      <td>4.03</td>\n",
       "      <td>34.7</td>\n",
       "    </tr>\n",
       "    <tr>\n",
       "      <th>3</th>\n",
       "      <td>0.03237</td>\n",
       "      <td>0.0</td>\n",
       "      <td>2.18</td>\n",
       "      <td>0.0</td>\n",
       "      <td>0.458</td>\n",
       "      <td>6.998</td>\n",
       "      <td>45.8</td>\n",
       "      <td>6.0622</td>\n",
       "      <td>3.0</td>\n",
       "      <td>222.0</td>\n",
       "      <td>18.7</td>\n",
       "      <td>394.63</td>\n",
       "      <td>2.94</td>\n",
       "      <td>33.4</td>\n",
       "    </tr>\n",
       "    <tr>\n",
       "      <th>4</th>\n",
       "      <td>0.06905</td>\n",
       "      <td>0.0</td>\n",
       "      <td>2.18</td>\n",
       "      <td>0.0</td>\n",
       "      <td>0.458</td>\n",
       "      <td>7.147</td>\n",
       "      <td>54.2</td>\n",
       "      <td>6.0622</td>\n",
       "      <td>3.0</td>\n",
       "      <td>222.0</td>\n",
       "      <td>18.7</td>\n",
       "      <td>396.90</td>\n",
       "      <td>5.33</td>\n",
       "      <td>36.2</td>\n",
       "    </tr>\n",
       "  </tbody>\n",
       "</table>\n",
       "</div>"
      ],
      "text/plain": [
       "      CRIM    ZN  INDUS  CHAS    NOX     RM   AGE     DIS  RAD    TAX  \\\n",
       "0  0.00632  18.0   2.31   0.0  0.538  6.575  65.2  4.0900  1.0  296.0   \n",
       "1  0.02731   0.0   7.07   0.0  0.469  6.421  78.9  4.9671  2.0  242.0   \n",
       "2  0.02729   0.0   7.07   0.0  0.469  7.185  61.1  4.9671  2.0  242.0   \n",
       "3  0.03237   0.0   2.18   0.0  0.458  6.998  45.8  6.0622  3.0  222.0   \n",
       "4  0.06905   0.0   2.18   0.0  0.458  7.147  54.2  6.0622  3.0  222.0   \n",
       "\n",
       "   PTRATIO       B  LSTAT  PRICE  \n",
       "0     15.3  396.90   4.98   24.0  \n",
       "1     17.8  396.90   9.14   21.6  \n",
       "2     17.8  392.83   4.03   34.7  \n",
       "3     18.7  394.63   2.94   33.4  \n",
       "4     18.7  396.90   5.33   36.2  "
      ]
     },
     "execution_count": 156,
     "metadata": {},
     "output_type": "execute_result"
    }
   ],
   "source": [
    "from sklearn.datasets import load_boston\n",
    "boston = load_boston()\n",
    "df = pd.DataFrame(boston.data)\n",
    "df.columns = boston.feature_names\n",
    "df['PRICE'] = boston.target\n",
    "df.head()\n"
   ]
  },
  {
   "cell_type": "markdown",
   "metadata": {},
   "source": [
    "### Dataset Decription\n",
    "CRIM - per capita crime rate by town\n",
    "\n",
    "ZN - proportion of residential land zoned for lots over 25,000 sq.ft.\n",
    "\n",
    "INDUS - proportion of non-retail business acres per town.\n",
    "\n",
    "CHAS - Charles River dummy variable (1 if tract bounds river; 0 otherwise)\n",
    "\n",
    "NOX - nitric oxides concentration (parts per 10 million)\n",
    "\n",
    "RM - average number of rooms per dwelling\n",
    "\n",
    "AGE - proportion of owner-occupied units built prior to 1940\n",
    "\n",
    "DIS - weighted distances to five Boston employment centres\n",
    "\n",
    "RAD - index of accessibility to radial highways\n",
    "\n",
    "TAX - full-value property-tax rate per $10,000\n",
    "\n",
    "PTRATIO - pupil-teacher ratio by town\n",
    "\n",
    "B - 1000(Bk - 0.63)^2 where Bk is the proportion of blacks by town\n",
    "\n",
    "LSTAT - % lower status of the population\n",
    "\n",
    "MEDV - Median value of owner-occupied homes in $1000's"
   ]
  },
  {
   "cell_type": "markdown",
   "metadata": {},
   "source": [
    "## Setting Descriptive and Target Features"
   ]
  },
  {
   "cell_type": "code",
   "execution_count": 205,
   "id": "1fd96f7d",
   "metadata": {},
   "outputs": [
    {
     "data": {
      "text/plain": [
       "(   LSTAT     RM     DIS\n",
       " 0   4.98  6.575  4.0900\n",
       " 1   9.14  6.421  4.9671\n",
       " 2   4.03  7.185  4.9671\n",
       " 3   2.94  6.998  6.0622\n",
       " 4   5.33  7.147  6.0622,\n",
       "    PRICE\n",
       " 0   24.0\n",
       " 1   21.6\n",
       " 2   34.7\n",
       " 3   33.4\n",
       " 4   36.2)"
      ]
     },
     "execution_count": 205,
     "metadata": {},
     "output_type": "execute_result"
    }
   ],
   "source": [
    "descriptive_features = df[['LSTAT','RM','DIS']]  # This can be changed to any numeric columns - 5,7,12\n",
    "target_feature = df[['PRICE']]\n",
    "descriptive_features.head(), target_feature.head()"
   ]
  },
  {
   "cell_type": "markdown",
   "metadata": {},
   "source": [
    "## Visualizing the Data set results for Descriptive features and PRICE"
   ]
  },
  {
   "cell_type": "code",
   "execution_count": 170,
   "metadata": {},
   "outputs": [
    {
     "data": {
      "image/png": "[encoded data removed]",
      "text/plain": [
       "<Figure size 432x288 with 1 Axes>"
      ]
     },
     "metadata": {},
     "output_type": "display_data"
    }
   ],
   "source": [
    "# Visualizing the Data set results for Descriptive features and PRICE\n",
    "sns.set_style(\"whitegrid\")\n",
    "# Visualizing the Training set results for LSTAT and PRICE\n",
    "viz_train = plt\n",
    "viz_train.scatter(df.iloc[:,12], target_feature, color='blue')\n",
    "viz_train.title('LSTAT  vs  PRICE')\n",
    "viz_train.xlabel('LSTAT ')\n",
    "viz_train.ylabel('PRICE')\n",
    "viz_train.show()"
   ]
  },
  {
   "cell_type": "code",
   "execution_count": 171,
   "metadata": {},
   "outputs": [
    {
     "data": {
      "image/png": "[encoded data removed]",
      "text/plain": [
       "<Figure size 432x288 with 1 Axes>"
      ]
     },
     "metadata": {},
     "output_type": "display_data"
    }
   ],
   "source": [
    "# Visualizing the Data set results for Descriptive features and PRICE\n",
    "sns.set_style(\"whitegrid\")\n",
    "# Visualizing the Training set results for RM and PRICE\n",
    "viz_train = plt\n",
    "viz_train.scatter(df.iloc[:,5], target_feature, color='blue')\n",
    "viz_train.title('RM  vs  PRICE')\n",
    "viz_train.xlabel('RM ')\n",
    "viz_train.ylabel('PRICE')\n",
    "viz_train.show()"
   ]
  },
  {
   "cell_type": "code",
   "execution_count": 172,
   "metadata": {},
   "outputs": [
    {
     "data": {
      "image/png": "[encoded data removed]",
      "text/plain": [
       "<Figure size 432x288 with 1 Axes>"
      ]
     },
     "metadata": {},
     "output_type": "display_data"
    }
   ],
   "source": [
    "# Visualizing the Data set results for Descriptive features and PRICE\n",
    "sns.set_style(\"whitegrid\")\n",
    "# Visualizing the Training set results for DIS and PRICE\n",
    "viz_train = plt\n",
    "viz_train.scatter(df.iloc[:,7], target_feature, color='blue')\n",
    "viz_train.title('DIS  vs  PRICE')\n",
    "viz_train.xlabel('DIS ')\n",
    "viz_train.ylabel('PRICE')\n",
    "viz_train.show()"
   ]
  },
  {
   "cell_type": "markdown",
   "id": "04e19a9a",
   "metadata": {},
   "source": [
    "## Importing Linear regression and efficiency measures from sklearn "
   ]
  },
  {
   "cell_type": "code",
   "execution_count": 173,
   "id": "1e2bb22f",
   "metadata": {},
   "outputs": [],
   "source": [
    "# Importing Linear regression from sklearn \n",
    "from sklearn.linear_model import LinearRegression\n",
    "from sklearn.metrics import mean_squared_error, mean_absolute_error"
   ]
  },
  {
   "cell_type": "markdown",
   "id": "7c42c7b5",
   "metadata": {},
   "source": [
    "## Fitting Multiple Linear Regression to the data set"
   ]
  },
  {
   "cell_type": "code",
   "execution_count": 174,
   "id": "0c103105",
   "metadata": {},
   "outputs": [
    {
     "data": {
      "text/plain": [
       "LinearRegression()"
      ]
     },
     "execution_count": 174,
     "metadata": {},
     "output_type": "execute_result"
    }
   ],
   "source": [
    "# Fitting Multiple Linear Regression to the data set\n",
    "from sklearn.linear_model import LinearRegression\n",
    "regressor = LinearRegression()\n",
    "regressor.fit(descriptive_features, target_feature)"
   ]
  },
  {
   "cell_type": "markdown",
   "id": "0a4624e3",
   "metadata": {},
   "source": [
    "## Predicting  results"
   ]
  },
  {
   "cell_type": "code",
   "execution_count": 175,
   "id": "5be5e144",
   "metadata": {},
   "outputs": [
    {
     "data": {
      "text/plain": [
       "array([[29.36197443],\n",
       "       [25.19782694],\n",
       "       [32.61731388],\n",
       "       [31.98927192],\n",
       "       [30.9866458 ],\n",
       "       [27.57922799],\n",
       "       [20.55112947],\n",
       "       [16.29018851],\n",
       "       [ 5.79547637],\n",
       "       [16.65832959],\n",
       "       [16.1661428 ],\n",
       "       [19.6216057 ],\n",
       "       [17.62973452],\n",
       "       [23.65386869],\n",
       "       [23.03688556],\n",
       "       [23.03789159],\n",
       "       [24.89719872],\n",
       "       [19.42451935],\n",
       "       [19.19049245],\n",
       "       [20.80774558],\n",
       "       [12.9967364 ],\n",
       "       [20.02357331],\n",
       "       [17.3654044 ],\n",
       "       [14.86842721],\n",
       "       [17.85848313],\n",
       "       [16.09736284],\n",
       "       [18.26503429],\n",
       "       [17.72422845],\n",
       "       [23.14742747],\n",
       "       [24.71239317],\n",
       "       [12.35006432],\n",
       "       [21.04140639],\n",
       "       [ 9.92092782],\n",
       "       [15.57137883],\n",
       "       [16.06957701],\n",
       "       [23.17020329],\n",
       "       [21.462371  ],\n",
       "       [23.15921382],\n",
       "       [22.78088205],\n",
       "       [29.33205424],\n",
       "       [33.11533072],\n",
       "       [29.66124689],\n",
       "       [26.03071125],\n",
       "       [25.05636427],\n",
       "       [22.83811555],\n",
       "       [20.76094218],\n",
       "       [18.417851  ],\n",
       "       [15.97177413],\n",
       "       [ 4.12615762],\n",
       "       [15.58289667],\n",
       "       [18.99599688],\n",
       "       [22.64454125],\n",
       "       [27.57622472],\n",
       "       [22.79768591],\n",
       "       [17.42104922],\n",
       "       [30.64466308],\n",
       "       [25.50342433],\n",
       "       [29.32805604],\n",
       "       [24.18837527],\n",
       "       [21.82613589],\n",
       "       [17.94165617],\n",
       "       [18.29276669],\n",
       "       [26.06986442],\n",
       "       [25.20904209],\n",
       "       [27.35165795],\n",
       "       [27.03417068],\n",
       "       [20.55390523],\n",
       "       [22.59766665],\n",
       "       [17.60420452],\n",
       "       [22.13268211],\n",
       "       [26.78109155],\n",
       "       [22.27310242],\n",
       "       [25.93365674],\n",
       "       [25.34973798],\n",
       "       [26.51371958],\n",
       "       [24.89885131],\n",
       "       [22.88080653],\n",
       "       [23.41540118],\n",
       "       [21.94041831],\n",
       "       [22.7752835 ],\n",
       "       [29.2738948 ],\n",
       "       [27.35154073],\n",
       "       [26.16834288],\n",
       "       [24.93900449],\n",
       "       [24.78126237],\n",
       "       [28.34846033],\n",
       "       [20.77748775],\n",
       "       [24.80467562],\n",
       "       [31.39941946],\n",
       "       [31.6089583 ],\n",
       "       [26.28184317],\n",
       "       [26.66468658],\n",
       "       [26.60925174],\n",
       "       [26.89399468],\n",
       "       [23.93447373],\n",
       "       [28.67205155],\n",
       "       [23.028126  ],\n",
       "       [37.47414754],\n",
       "       [36.72360622],\n",
       "       [32.85963176],\n",
       "       [27.49643399],\n",
       "       [28.98930734],\n",
       "       [25.08108042],\n",
       "       [21.74245357],\n",
       "       [22.82703069],\n",
       "       [18.43733991],\n",
       "       [16.7321253 ],\n",
       "       [21.49677175],\n",
       "       [24.36107068],\n",
       "       [20.74281044],\n",
       "       [22.31426861],\n",
       "       [26.94895512],\n",
       "       [18.81384993],\n",
       "       [18.95988948],\n",
       "       [24.68675793],\n",
       "       [19.16184698],\n",
       "       [22.93807497],\n",
       "       [23.43331559],\n",
       "       [19.16439394],\n",
       "       [19.62036573],\n",
       "       [19.97936763],\n",
       "       [20.73254966],\n",
       "       [17.92657502],\n",
       "       [12.07008787],\n",
       "       [17.81730246],\n",
       "       [20.34856217],\n",
       "       [ 9.63404511],\n",
       "       [17.29351111],\n",
       "       [22.18090211],\n",
       "       [16.10038957],\n",
       "       [24.18942427],\n",
       "       [23.72172439],\n",
       "       [24.74448095],\n",
       "       [19.17016286],\n",
       "       [17.26135139],\n",
       "       [20.43987361],\n",
       "       [18.63436518],\n",
       "       [22.85444881],\n",
       "       [15.16060561],\n",
       "       [18.66206091],\n",
       "       [14.6773641 ],\n",
       "       [ 1.7140342 ],\n",
       "       [ 9.12983391],\n",
       "       [ 9.69432869],\n",
       "       [ 4.89530491],\n",
       "       [11.91894616],\n",
       "       [17.49266986],\n",
       "       [ 4.78079214],\n",
       "       [ 6.89136649],\n",
       "       [13.86540947],\n",
       "       [21.69784192],\n",
       "       [18.8040601 ],\n",
       "       [17.7241768 ],\n",
       "       [18.46030596],\n",
       "       [20.93354583],\n",
       "       [21.11976577],\n",
       "       [16.02525359],\n",
       "       [32.45815699],\n",
       "       [26.90862292],\n",
       "       [28.37404158],\n",
       "       [28.45906484],\n",
       "       [37.14457565],\n",
       "       [38.50031506],\n",
       "       [40.22414848],\n",
       "       [21.80029794],\n",
       "       [24.39165315],\n",
       "       [37.82930757],\n",
       "       [21.54892142],\n",
       "       [24.60555355],\n",
       "       [24.77595353],\n",
       "       [19.88274716],\n",
       "       [21.66026764],\n",
       "       [18.13953518],\n",
       "       [26.31633527],\n",
       "       [23.14221374],\n",
       "       [29.40924979],\n",
       "       [23.19339021],\n",
       "       [27.50367081],\n",
       "       [29.88949503],\n",
       "       [31.87397178],\n",
       "       [33.91737871],\n",
       "       [24.71653478],\n",
       "       [32.94517559],\n",
       "       [29.37053519],\n",
       "       [18.62831828],\n",
       "       [21.7695696 ],\n",
       "       [36.2772217 ],\n",
       "       [29.28013317],\n",
       "       [29.35328612],\n",
       "       [31.81828114],\n",
       "       [30.00519713],\n",
       "       [29.26860499],\n",
       "       [32.72448332],\n",
       "       [29.43997451],\n",
       "       [28.95495593],\n",
       "       [36.4324095 ],\n",
       "       [31.99795746],\n",
       "       [27.84405959],\n",
       "       [30.09734326],\n",
       "       [29.971397  ],\n",
       "       [30.83070509],\n",
       "       [24.57151199],\n",
       "       [34.7529634 ],\n",
       "       [35.96226089],\n",
       "       [37.51704132],\n",
       "       [21.83486163],\n",
       "       [23.69355652],\n",
       "       [15.91889286],\n",
       "       [19.80100916],\n",
       "       [10.36249172],\n",
       "       [17.57331375],\n",
       "       [10.10799958],\n",
       "       [17.82817362],\n",
       "       [25.27134315],\n",
       "       [ 6.15378352],\n",
       "       [24.26567995],\n",
       "       [20.2950341 ],\n",
       "       [26.59015449],\n",
       "       [17.51494217],\n",
       "       [24.71997788],\n",
       "       [28.33960492],\n",
       "       [15.91917695],\n",
       "       [27.64027844],\n",
       "       [28.05368552],\n",
       "       [38.76197561],\n",
       "       [40.64442754],\n",
       "       [38.24294479],\n",
       "       [31.63262715],\n",
       "       [35.87280668],\n",
       "       [30.46212028],\n",
       "       [21.83561334],\n",
       "       [33.43874522],\n",
       "       [39.88049864],\n",
       "       [38.45739337],\n",
       "       [28.07931759],\n",
       "       [22.91332465],\n",
       "       [26.30974132],\n",
       "       [33.33191375],\n",
       "       [26.9370346 ],\n",
       "       [26.81564372],\n",
       "       [25.26580314],\n",
       "       [20.61955045],\n",
       "       [22.43216089],\n",
       "       [26.96441402],\n",
       "       [17.35405523],\n",
       "       [13.10148438],\n",
       "       [22.23336874],\n",
       "       [22.09233077],\n",
       "       [23.66245346],\n",
       "       [27.19242749],\n",
       "       [26.74233253],\n",
       "       [28.17443074],\n",
       "       [30.05058263],\n",
       "       [36.38849743],\n",
       "       [23.56949474],\n",
       "       [20.50034277],\n",
       "       [33.96222453],\n",
       "       [40.69201958],\n",
       "       [32.03613872],\n",
       "       [30.23351598],\n",
       "       [30.00027444],\n",
       "       [33.21772092],\n",
       "       [38.40445751],\n",
       "       [29.41920583],\n",
       "       [31.1766107 ],\n",
       "       [21.4291743 ],\n",
       "       [25.30828981],\n",
       "       [36.74415289],\n",
       "       [35.60195751],\n",
       "       [19.97819999],\n",
       "       [19.90052282],\n",
       "       [26.40845323],\n",
       "       [27.27207056],\n",
       "       [33.51579921],\n",
       "       [31.30835353],\n",
       "       [32.08652537],\n",
       "       [31.63878787],\n",
       "       [30.8218471 ],\n",
       "       [27.28698607],\n",
       "       [30.60606411],\n",
       "       [36.03286617],\n",
       "       [31.02667221],\n",
       "       [35.48394696],\n",
       "       [36.41975996],\n",
       "       [28.30198084],\n",
       "       [24.93251526],\n",
       "       [19.62413801],\n",
       "       [24.52727303],\n",
       "       [24.71111974],\n",
       "       [24.54790436],\n",
       "       [31.47566077],\n",
       "       [32.70795637],\n",
       "       [29.35894551],\n",
       "       [23.92305441],\n",
       "       [22.03153288],\n",
       "       [28.06805546],\n",
       "       [26.62925823],\n",
       "       [16.65233656],\n",
       "       [26.52415093],\n",
       "       [30.08239342],\n",
       "       [28.29188791],\n",
       "       [25.51904174],\n",
       "       [25.65643466],\n",
       "       [30.78566376],\n",
       "       [31.20415445],\n",
       "       [27.03674934],\n",
       "       [32.85926017],\n",
       "       [29.27130933],\n",
       "       [30.32898309],\n",
       "       [23.26941778],\n",
       "       [16.73858558],\n",
       "       [27.09971978],\n",
       "       [22.37598566],\n",
       "       [26.12554445],\n",
       "       [26.43763197],\n",
       "       [20.47289802],\n",
       "       [16.52636167],\n",
       "       [17.59656692],\n",
       "       [24.78705583],\n",
       "       [21.54529558],\n",
       "       [26.82228442],\n",
       "       [26.8173143 ],\n",
       "       [24.50101198],\n",
       "       [19.95591819],\n",
       "       [27.46652085],\n",
       "       [27.97626063],\n",
       "       [26.6223638 ],\n",
       "       [20.70344208],\n",
       "       [21.78831295],\n",
       "       [25.95679724],\n",
       "       [23.46591395],\n",
       "       [18.56159715],\n",
       "       [23.4727691 ],\n",
       "       [26.50093681],\n",
       "       [25.69773256],\n",
       "       [23.67413378],\n",
       "       [21.90854142],\n",
       "       [21.30843207],\n",
       "       [23.96081224],\n",
       "       [22.71048484],\n",
       "       [22.95313613],\n",
       "       [30.87893874],\n",
       "       [25.53261818],\n",
       "       [27.60285596],\n",
       "       [29.99102097],\n",
       "       [20.80363501],\n",
       "       [18.69039439],\n",
       "       [26.0257134 ],\n",
       "       [26.96152184],\n",
       "       [28.3086639 ],\n",
       "       [26.05541397],\n",
       "       [25.95874715],\n",
       "       [20.90808332],\n",
       "       [26.74771218],\n",
       "       [19.70047476],\n",
       "       [22.82476939],\n",
       "       [19.37221073],\n",
       "       [23.21939178],\n",
       "       [23.10775779],\n",
       "       [22.27242311],\n",
       "       [27.19186797],\n",
       "       [21.94889066],\n",
       "       [20.59829388],\n",
       "       [19.62038386],\n",
       "       [40.89159576],\n",
       "       [14.2681643 ],\n",
       "       [16.05997092],\n",
       "       [11.29537008],\n",
       "       [24.05630323],\n",
       "       [32.05328437],\n",
       "       [34.30426223],\n",
       "       [25.66863113],\n",
       "       [24.49519226],\n",
       "       [ 1.0252744 ],\n",
       "       [-5.01498461],\n",
       "       [28.11861118],\n",
       "       [17.78084877],\n",
       "       [19.92810847],\n",
       "       [16.12540438],\n",
       "       [16.74184463],\n",
       "       [23.66411567],\n",
       "       [18.75600979],\n",
       "       [11.98773966],\n",
       "       [11.23718656],\n",
       "       [ 1.27560438],\n",
       "       [ 5.58149357],\n",
       "       [ 4.34669575],\n",
       "       [ 3.33545913],\n",
       "       [ 3.70881891],\n",
       "       [13.19725373],\n",
       "       [17.38509618],\n",
       "       [17.7274975 ],\n",
       "       [ 7.95905983],\n",
       "       [21.1899944 ],\n",
       "       [18.84940573],\n",
       "       [21.16451452],\n",
       "       [19.23793347],\n",
       "       [15.6534334 ],\n",
       "       [ 6.56905084],\n",
       "       [ 8.95701495],\n",
       "       [11.88880324],\n",
       "       [18.29599293],\n",
       "       [18.57056559],\n",
       "       [13.79031259],\n",
       "       [ 9.21672777],\n",
       "       [13.22409108],\n",
       "       [ 5.54838609],\n",
       "       [20.77139784],\n",
       "       [10.41514079],\n",
       "       [21.21724002],\n",
       "       [22.8997087 ],\n",
       "       [19.19673403],\n",
       "       [-0.21534309],\n",
       "       [12.67295256],\n",
       "       [-2.68254714],\n",
       "       [12.30458331],\n",
       "       [16.36559135],\n",
       "       [ 8.62723662],\n",
       "       [16.092464  ],\n",
       "       [18.78819512],\n",
       "       [22.32966333],\n",
       "       [19.85683509],\n",
       "       [19.23415812],\n",
       "       [14.7715722 ],\n",
       "       [16.56447299],\n",
       "       [13.0188733 ],\n",
       "       [18.98372859],\n",
       "       [21.67094599],\n",
       "       [16.53023487],\n",
       "       [15.5747934 ],\n",
       "       [20.03811702],\n",
       "       [20.90250545],\n",
       "       [24.40312213],\n",
       "       [21.3727415 ],\n",
       "       [21.06428284],\n",
       "       [17.3019738 ],\n",
       "       [20.31535418],\n",
       "       [12.77427671],\n",
       "       [ 6.28431394],\n",
       "       [12.84278446],\n",
       "       [14.30796302],\n",
       "       [18.95519162],\n",
       "       [20.19104298],\n",
       "       [19.86481382],\n",
       "       [13.25464751],\n",
       "       [16.02303669],\n",
       "       [19.88660097],\n",
       "       [20.36637134],\n",
       "       [18.79296136],\n",
       "       [19.10539067],\n",
       "       [22.01204965],\n",
       "       [21.32960898],\n",
       "       [19.91167242],\n",
       "       [25.59729011],\n",
       "       [20.91150739],\n",
       "       [20.36955724],\n",
       "       [16.99074386],\n",
       "       [18.20149265],\n",
       "       [20.49204427],\n",
       "       [20.55685559],\n",
       "       [22.38957953],\n",
       "       [22.10004764],\n",
       "       [22.21274381],\n",
       "       [25.81325318],\n",
       "       [22.13774939],\n",
       "       [19.23893671],\n",
       "       [18.08499107],\n",
       "       [15.47002081],\n",
       "       [17.23239758],\n",
       "       [18.67106173],\n",
       "       [19.68015198],\n",
       "       [22.42569472],\n",
       "       [22.45514396],\n",
       "       [27.22210745],\n",
       "       [15.01411418],\n",
       "       [14.38823596],\n",
       "       [19.83211373],\n",
       "       [ 9.66954609],\n",
       "       [18.90731719],\n",
       "       [22.78169265],\n",
       "       [23.87987293],\n",
       "       [28.56821373],\n",
       "       [30.57547303],\n",
       "       [21.46116379],\n",
       "       [20.05289461],\n",
       "       [24.07496558],\n",
       "       [20.13301908],\n",
       "       [21.84939956],\n",
       "       [15.48443638],\n",
       "       [11.04482996],\n",
       "       [ 5.31925627],\n",
       "       [18.03345159],\n",
       "       [21.33603502],\n",
       "       [20.83486751],\n",
       "       [20.75927633],\n",
       "       [16.41882489],\n",
       "       [12.49368593],\n",
       "       [19.51137586],\n",
       "       [21.6844937 ],\n",
       "       [17.91885284],\n",
       "       [20.6624842 ],\n",
       "       [26.80058305],\n",
       "       [25.0103877 ],\n",
       "       [31.7256175 ],\n",
       "       [30.12893572],\n",
       "       [25.3394512 ]])"
      ]
     },
     "execution_count": 175,
     "metadata": {},
     "output_type": "execute_result"
    }
   ],
   "source": [
    "# Predicting the Test set results\n",
    "y_pred = regressor.predict(descriptive_features)\n",
    "y_pred"
   ]
  },
  {
   "cell_type": "markdown",
   "id": "b941603f",
   "metadata": {},
   "source": [
    "## Score of model"
   ]
  },
  {
   "cell_type": "code",
   "execution_count": 176,
   "id": "39d7d5c1",
   "metadata": {},
   "outputs": [
    {
     "name": "stdout",
     "output_type": "stream",
     "text": [
      "score of Predictions of regression model on complete dataset is: 64.67821443418275\n"
     ]
    }
   ],
   "source": [
    "score = regressor.score(descriptive_features,target_feature)\n",
    "print('score of Predictions of regression model on complete dataset is:', score*100)"
   ]
  },
  {
   "cell_type": "markdown",
   "id": "4561dde2",
   "metadata": {},
   "source": [
    "## Evaluation by Mean Squared Error"
   ]
  },
  {
   "cell_type": "code",
   "execution_count": 177,
   "id": "403cbab9",
   "metadata": {},
   "outputs": [
    {
     "name": "stdout",
     "output_type": "stream",
     "text": [
      "Mean squared error model 1: 29.82\n",
      "Mean Absolute error model 1: 3.92\n"
     ]
    }
   ],
   "source": [
    "## Evaluation by Mean Squared Error\n",
    "#computing the squared error of the first model\n",
    "print(\"Mean squared error model 1: %.2f\" % mean_squared_error(target_feature, y_pred))\n",
    "print(\"Mean Absolute error model 1: %.2f\" % mean_absolute_error(target_feature, y_pred))"
   ]
  },
  {
   "cell_type": "markdown",
   "id": "71192c2b",
   "metadata": {},
   "source": [
    "## Coefficient and Intercept"
   ]
  },
  {
   "cell_type": "code",
   "execution_count": 178,
   "id": "bf87d038",
   "metadata": {},
   "outputs": [
    {
     "name": "stdout",
     "output_type": "stream",
     "text": [
      "Coefficients: \n",
      " [[-0.72333078  4.87338565 -0.46128153]]\n",
      "Intercept: \n",
      " [2.80829257]\n"
     ]
    }
   ],
   "source": [
    "\n",
    "#print coefficient and intercept\n",
    "print('Coefficients: \\n', regressor.coef_)\n",
    "print('Intercept: \\n', regressor.intercept_)"
   ]
  },
  {
   "cell_type": "markdown",
   "id": "4291564c",
   "metadata": {},
   "source": [
    "## Splitting data set in training and testing data"
   ]
  },
  {
   "cell_type": "code",
   "execution_count": 179,
   "id": "4dcdbf6f",
   "metadata": {},
   "outputs": [],
   "source": [
    "from sklearn.model_selection import train_test_split \n",
    "x_train, x_test, y_train, y_test = train_test_split(descriptive_features, target_feature, test_size=1/5, random_state=0)"
   ]
  },
  {
   "cell_type": "markdown",
   "id": "8e666c03",
   "metadata": {},
   "source": [
    "## Imporing Linear Regression from SKLEARN"
   ]
  },
  {
   "cell_type": "code",
   "execution_count": 180,
   "id": "4441dbb5",
   "metadata": {},
   "outputs": [],
   "source": [
    "# Importing Linear regression from sklearn \n",
    "from sklearn.linear_model import LinearRegression\n",
    "from sklearn.metrics import mean_squared_error, mean_absolute_error"
   ]
  },
  {
   "cell_type": "markdown",
   "id": "aa35075c",
   "metadata": {},
   "source": [
    "## Fitting Linear Regression on training Data"
   ]
  },
  {
   "cell_type": "code",
   "execution_count": 181,
   "id": "766eff10",
   "metadata": {},
   "outputs": [
    {
     "data": {
      "text/plain": [
       "LinearRegression()"
      ]
     },
     "execution_count": 181,
     "metadata": {},
     "output_type": "execute_result"
    }
   ],
   "source": [
    "# Fitting Simple Linear Regression to the Training set\n",
    "from sklearn.linear_model import LinearRegression\n",
    "regressor = LinearRegression()\n",
    "regressor.fit(x_train, y_train)"
   ]
  },
  {
   "cell_type": "markdown",
   "id": "d0aeb1ce",
   "metadata": {},
   "source": [
    "## Predicting test results"
   ]
  },
  {
   "cell_type": "code",
   "execution_count": 182,
   "id": "b97f1a23",
   "metadata": {},
   "outputs": [],
   "source": [
    "# Predicting the Test set results\n",
    "y_pred = regressor.predict(x_test)"
   ]
  },
  {
   "cell_type": "code",
   "execution_count": 183,
   "id": "54596995",
   "metadata": {},
   "outputs": [
    {
     "data": {
      "text/plain": [
       "array([[26.10108634],\n",
       "       [25.38112657],\n",
       "       [24.68634609],\n",
       "       [13.58812822],\n",
       "       [22.0923854 ],\n",
       "       [23.08673407],\n",
       "       [21.77569734],\n",
       "       [23.04862051],\n",
       "       [16.55703261],\n",
       "       [24.97925367],\n",
       "       [15.93777157],\n",
       "       [19.05157743],\n",
       "       [19.76107646],\n",
       "       [ 4.14256432],\n",
       "       [38.3352533 ],\n",
       "       [30.52934487],\n",
       "       [23.84792394],\n",
       "       [32.39620546],\n",
       "       [29.32335682],\n",
       "       [23.14941041],\n",
       "       [26.89679932],\n",
       "       [21.5060702 ],\n",
       "       [21.34029437],\n",
       "       [27.32064112],\n",
       "       [20.87976931],\n",
       "       [10.95252597],\n",
       "       [20.06315206],\n",
       "       [18.24006023],\n",
       "       [37.49701743],\n",
       "       [18.86882835],\n",
       "       [18.7863115 ],\n",
       "       [20.46715982],\n",
       "       [22.56040586],\n",
       "       [20.90913952],\n",
       "       [26.19659139],\n",
       "       [19.42761071],\n",
       "       [11.75492563],\n",
       "       [24.18164711],\n",
       "       [19.90980285],\n",
       "       [14.31199227],\n",
       "       [24.09693481],\n",
       "       [18.5692302 ],\n",
       "       [23.68462351],\n",
       "       [14.88383832],\n",
       "       [25.8111683 ],\n",
       "       [25.33205009],\n",
       "       [16.94859142],\n",
       "       [20.74363976],\n",
       "       [ 4.69762949],\n",
       "       [27.40937434],\n",
       "       [20.9299039 ],\n",
       "       [16.33729455],\n",
       "       [21.82374202],\n",
       "       [37.00630649],\n",
       "       [17.13286403],\n",
       "       [17.83533897],\n",
       "       [18.86494628],\n",
       "       [19.15478637],\n",
       "       [22.61961983],\n",
       "       [17.62173271],\n",
       "       [21.63196197],\n",
       "       [21.58359802],\n",
       "       [30.97577567],\n",
       "       [30.39212418],\n",
       "       [18.57476475],\n",
       "       [29.41894698],\n",
       "       [21.25041076],\n",
       "       [16.52690869],\n",
       "       [21.06520085],\n",
       "       [21.84290014],\n",
       "       [22.9277155 ],\n",
       "       [24.97422585],\n",
       "       [27.31008364],\n",
       "       [30.28009968],\n",
       "       [28.53106507],\n",
       "       [ 3.18019771],\n",
       "       [38.50454033],\n",
       "       [23.76891366],\n",
       "       [26.2091808 ],\n",
       "       [19.42212188],\n",
       "       [27.08026601],\n",
       "       [22.68823916],\n",
       "       [20.4838416 ],\n",
       "       [38.72881375],\n",
       "       [40.63785392],\n",
       "       [26.77929369],\n",
       "       [23.00408266],\n",
       "       [18.81007631],\n",
       "       [28.15163189],\n",
       "       [17.60448392],\n",
       "       [17.8240415 ],\n",
       "       [17.23471383],\n",
       "       [24.13379496],\n",
       "       [28.73946363],\n",
       "       [25.17676093],\n",
       "       [22.68862238],\n",
       "       [-5.21395444],\n",
       "       [26.07251282],\n",
       "       [20.29534861],\n",
       "       [18.31550813],\n",
       "       [25.29351543],\n",
       "       [24.24336989]])"
      ]
     },
     "execution_count": 183,
     "metadata": {},
     "output_type": "execute_result"
    }
   ],
   "source": [
    "\n",
    "y_pred "
   ]
  },
  {
   "cell_type": "markdown",
   "id": "2b44c47d",
   "metadata": {},
   "source": [
    "## Coefficient and Intercept"
   ]
  },
  {
   "cell_type": "code",
   "execution_count": 184,
   "id": "e3f88d7e",
   "metadata": {},
   "outputs": [
    {
     "name": "stdout",
     "output_type": "stream",
     "text": [
      "Coefficients: \n",
      " [[-0.71640264  4.92391604 -0.35225811]]\n",
      "Intercept: \n",
      " [2.01320654]\n"
     ]
    }
   ],
   "source": [
    "\n",
    "#print coefficient and intercept\n",
    "print('Coefficients: \\n', regressor.coef_)\n",
    "print('Intercept: \\n', regressor.intercept_)"
   ]
  },
  {
   "cell_type": "markdown",
   "id": "69f5cf9d",
   "metadata": {},
   "source": [
    "## Visualizing training Results\n",
    "### As 3 Descriptive features, we have to make 3 separate plots with each descriptive feature and the target feature\n",
    "\n",
    "LSTAT - % lower status of the population\n",
    "\n",
    "RM - average number of rooms per dwelling\n",
    "\n",
    "DIS - weighted distances to five Boston employment centres'\n",
    "\n"
   ]
  },
  {
   "cell_type": "markdown",
   "id": "35c7886a",
   "metadata": {},
   "source": [
    " Visualizing the Training set results for RM and PRICE\n",
    "\n"
   ]
  },
  {
   "cell_type": "code",
   "execution_count": 210,
   "id": "edfca427",
   "metadata": {},
   "outputs": [
    {
     "data": {
      "image/png": "[encoded data removed]",
      "text/plain": [
       "<Figure size 432x288 with 1 Axes>"
      ]
     },
     "metadata": {},
     "output_type": "display_data"
    }
   ],
   "source": [
    "# Visualizing the Training set results for RM and PRICE\n",
    "viz_train = plt\n",
    "sns.regplot(x_train.iloc[:,1], regressor.predict(x_train),scatter_kws={\"color\": \"blue\"}, line_kws={\"color\": \"red\"})\n",
    "viz_train.title('RM  vs PRICE (Training set)')\n",
    "viz_train.xlabel('RM ')\n",
    "viz_train.ylabel('PRICE')\n",
    "viz_train.show()\n",
    "\n",
    "\n"
   ]
  },
  {
   "cell_type": "markdown",
   "id": "069abe07",
   "metadata": {},
   "source": [
    "##### Visualizing the Training set results for Distance and PRICE\n",
    "\n"
   ]
  },
  {
   "cell_type": "code",
   "execution_count": 211,
   "id": "94c11e1d",
   "metadata": {},
   "outputs": [
    {
     "data": {
      "image/png": "[encoded data removed]",
      "text/plain": [
       "<Figure size 432x288 with 1 Axes>"
      ]
     },
     "metadata": {},
     "output_type": "display_data"
    }
   ],
   "source": [
    "# Visualizing the Training set results for Distance and PRICE\n",
    "viz_train = plt\n",
    "sns.regplot(x_train.iloc[:,2], regressor.predict(x_train),scatter_kws={\"color\": \"blue\"}, line_kws={\"color\": \"red\"})\n",
    "viz_train.title('Distance  vs PRICE (Training set)')\n",
    "viz_train.xlabel('Distance ')\n",
    "viz_train.ylabel('PRICE')\n",
    "viz_train.show()\n",
    "\n",
    "\n"
   ]
  },
  {
   "cell_type": "markdown",
   "id": "5b7c988c",
   "metadata": {},
   "source": [
    "##### Visualizing the Training set results for  LSTAT and PRICE\n",
    "\n"
   ]
  },
  {
   "cell_type": "code",
   "execution_count": 212,
   "id": "a20a2eeb",
   "metadata": {},
   "outputs": [
    {
     "data": {
      "image/png": "[encoded data removed]",
      "text/plain": [
       "<Figure size 432x288 with 1 Axes>"
      ]
     },
     "metadata": {},
     "output_type": "display_data"
    }
   ],
   "source": [
    "# Visualizing the Training set results for LSTAT and PRICE\n",
    "viz_train = plt\n",
    "sns.regplot(x_train.iloc[:,0], regressor.predict(x_train),scatter_kws={\"color\": \"blue\"}, line_kws={\"color\": \"red\"})\n",
    "viz_train.title('LSTAT  vs PRICE (Training set)')\n",
    "viz_train.xlabel('LSTAT ')\n",
    "viz_train.ylabel('PRICE')\n",
    "viz_train.show()\n",
    "\n",
    "\n"
   ]
  },
  {
   "cell_type": "markdown",
   "id": "680704f4",
   "metadata": {},
   "source": [
    "## Evaluating Model"
   ]
  },
  {
   "cell_type": "code",
   "execution_count": 213,
   "id": "2510cdf1",
   "metadata": {},
   "outputs": [
    {
     "data": {
      "text/plain": [
       "0.6664429539035943"
      ]
     },
     "execution_count": 213,
     "metadata": {},
     "output_type": "execute_result"
    }
   ],
   "source": [
    "regressor.score(x_train,y_train)"
   ]
  },
  {
   "cell_type": "code",
   "execution_count": 214,
   "id": "b5499cce",
   "metadata": {},
   "outputs": [
    {
     "data": {
      "text/plain": [
       "0.5619733952798753"
      ]
     },
     "execution_count": 214,
     "metadata": {},
     "output_type": "execute_result"
    }
   ],
   "source": [
    "regressor.score(x_test,y_test)"
   ]
  }
 ],
 "metadata": {
  "interpreter": {
   "hash": "f293f16398db128e85df277de8eb5f9ab0a1b28857fa0f1c8543245825f1b931"
  },
  "kernelspec": {
   "display_name": "Python 3.7.7 ('pythonProject')",
   "language": "python",
   "name": "python3"
  },
  "language_info": {
   "codemirror_mode": {
    "name": "ipython",
    "version": 3
   },
   "file_extension": ".py",
   "mimetype": "text/x-python",
   "name": "python",
   "nbconvert_exporter": "python",
   "pygments_lexer": "ipython3",
   "version": "3.7.7"
  },
  "orig_nbformat": 4
 },
 "nbformat": 4,
 "nbformat_minor": 2
}
