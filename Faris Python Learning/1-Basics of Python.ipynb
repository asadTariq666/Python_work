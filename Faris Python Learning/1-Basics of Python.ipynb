{
 "cells": [
  {
   "attachments": {},
   "cell_type": "markdown",
   "id": "201164d0",
   "metadata": {},
   "source": [
    "# Python \n",
    "## How to use Jupyter Notebook\n",
    "## Basics of Python\n"
   ]
  },
  {
   "cell_type": "markdown",
   "id": "dc503215",
   "metadata": {},
   "source": [
    "### 01 - My First Program"
   ]
  },
  {
   "attachments": {},
   "cell_type": "markdown",
   "id": "b6a78f78",
   "metadata": {},
   "source": [
    "https://www.w3resource.com/python-exercises/numpy/basic/index.php"
   ]
  },
  {
   "cell_type": "code",
   "execution_count": 3,
   "id": "8c0c2fb6",
   "metadata": {},
   "outputs": [
    {
     "name": "stdout",
     "output_type": "stream",
     "text": [
      "5\n",
      "2+3\n",
      "Hello World\n",
      "We are learning python with Asad\n"
     ]
    }
   ],
   "source": [
    "print(2+3)\n",
    "print(\"2+3\")\n",
    "print('Hello World')\n",
    "print('We are learning python with Asad')"
   ]
  },
  {
   "cell_type": "code",
   "execution_count": null,
   "id": "49037f6f",
   "metadata": {},
   "outputs": [],
   "source": [
    "print(\"\")"
   ]
  },
  {
   "cell_type": "markdown",
   "id": "79a9220d",
   "metadata": {},
   "source": [
    "### 02 - Operators"
   ]
  },
  {
   "cell_type": "code",
   "execution_count": 5,
   "id": "8b156232",
   "metadata": {},
   "outputs": [
    {
     "name": "stdout",
     "output_type": "stream",
     "text": [
      "3\n",
      "2\n",
      "50.0\n",
      "30.272727272727273\n",
      "1\n",
      "47\n",
      "15625\n",
      "5.0\n"
     ]
    }
   ],
   "source": [
    "\n",
    "print(2+1)\n",
    "print(3-1)\n",
    "print(100/2)\n",
    "print(999/33)\n",
    "print(189%4) #Modulus\n",
    "print (188//4)\n",
    "print(5**6)\n",
    "print(3**2/3*6*2/3-7)"
   ]
  },
  {
   "cell_type": "markdown",
   "id": "f63ccd34",
   "metadata": {},
   "source": [
    "### 03 Strings"
   ]
  },
  {
   "cell_type": "code",
   "execution_count": 49,
   "id": "33da59b4",
   "metadata": {},
   "outputs": [
    {
     "name": "stdout",
     "output_type": "stream",
     "text": [
      "Hello World\n",
      "We are learning python with baba Aammar\n",
      "Hello World\n",
      "Test for single quotes\n",
      "Test for double quotes\n",
      "Test for tripple quotes\n",
      "what's up?\n"
     ]
    }
   ],
   "source": [
    "print('Hello World')\n",
    "print('We are learning python with Asad')\n",
    "print('Hello World')\n",
    "print('Test for single quotes')\n",
    "print(\"Test for double quotes\")\n",
    "print('''Test for tripple quotes''')\n",
    "print(\"what's up?\")"
   ]
  },
  {
   "cell_type": "code",
   "execution_count": null,
   "id": "fca5f44c",
   "metadata": {},
   "outputs": [],
   "source": [
    "print(\"what's up \")"
   ]
  },
  {
   "cell_type": "markdown",
   "id": "efa3491d",
   "metadata": {},
   "source": [
    "### 04 Comments\n"
   ]
  },
  {
   "cell_type": "code",
   "execution_count": 50,
   "id": "09535063",
   "metadata": {},
   "outputs": [
    {
     "name": "stdout",
     "output_type": "stream",
     "text": [
      "How are you?\n",
      "We are learning python with baba Aammar\n",
      "8\n"
     ]
    }
   ],
   "source": [
    "print('How are you?') #print a string\n",
    "print('We are learning python with Asad')#print a string\n",
    "print(2+6) #print operators function with numbers"
   ]
  },
  {
   "cell_type": "markdown",
   "id": "d41c2286",
   "metadata": {},
   "source": [
    "### 05 Variables"
   ]
  },
  {
   "cell_type": "code",
   "execution_count": 7,
   "id": "79fb74e9",
   "metadata": {},
   "outputs": [
    {
     "name": "stdout",
     "output_type": "stream",
     "text": [
      "<class 'int'>\n",
      "8\n",
      "<class 'str'>\n",
      "mangoes\n"
     ]
    }
   ],
   "source": [
    "fruit_baskets = 8\n",
    "print(type(fruit_baskets))\n",
    "print(fruit_baskets)\n",
    "fruit_baskets =\"mangoes\"\n",
    "print(type(fruit_baskets))\n",
    "print(fruit_baskets)"
   ]
  },
  {
   "cell_type": "markdown",
   "id": "57cdeec9",
   "metadata": {},
   "source": [
    "### 06 Input Variables"
   ]
  },
  {
   "cell_type": "code",
   "execution_count": 10,
   "id": "c458832f",
   "metadata": {},
   "outputs": [
    {
     "name": "stdout",
     "output_type": "stream",
     "text": [
      "Hello faris 20  you are still young\n"
     ]
    }
   ],
   "source": [
    "name = input(\"what is your name?\")\n",
    "age = input(\"what is your age?\")\n",
    "greetings = 'Hello'\n",
    "print(greetings, name ,age            , \"you are still young\")"
   ]
  },
  {
   "cell_type": "markdown",
   "id": "2329e2de",
   "metadata": {},
   "source": [
    "### 07 Conditional Logics "
   ]
  },
  {
   "cell_type": "code",
   "execution_count": 12,
   "id": "23375f83",
   "metadata": {},
   "outputs": [
    {
     "name": "stdout",
     "output_type": "stream",
     "text": [
      "<class 'int'>\n",
      "True\n"
     ]
    }
   ],
   "source": [
    "age_at_school = 5\n",
    "hammad_age = input(\"How old is hammad?\")\n",
    "hammad_age = int(hammad_age)\n",
    "print(type(hammad_age))\n",
    "print(hammad_age == age_at_school)"
   ]
  },
  {
   "cell_type": "markdown",
   "id": "31b5f6f0",
   "metadata": {},
   "source": [
    "### 08 Type Conversion"
   ]
  },
  {
   "cell_type": "code",
   "execution_count": 16,
   "id": "a56a2287",
   "metadata": {},
   "outputs": [
    {
     "name": "stdout",
     "output_type": "stream",
     "text": [
      "<class 'str'>\n",
      "5\n",
      "<class 'int'>\n",
      "<class 'type'>\n"
     ]
    }
   ],
   "source": [
    "a = '5'\n",
    "print(type(a))\n",
    "print(a)\n",
    "a =type(int(a))\n",
    "print(a)\n",
    "print(type(a))"
   ]
  },
  {
   "cell_type": "code",
   "execution_count": 54,
   "id": "e42a2499",
   "metadata": {},
   "outputs": [
    {
     "name": "stdout",
     "output_type": "stream",
     "text": [
      "what is your name?asad\n",
      "asad <class 'str'>\n"
     ]
    }
   ],
   "source": [
    "name = input('what is your name?')\n",
    "print(name, type(str(name)))"
   ]
  },
  {
   "cell_type": "markdown",
   "id": "efacbddc",
   "metadata": {},
   "source": [
    "### 09 If_else_elif"
   ]
  },
  {
   "cell_type": "code",
   "execution_count": 19,
   "id": "46b7ce54",
   "metadata": {},
   "outputs": [
    {
     "name": "stdout",
     "output_type": "stream",
     "text": [
      "Hammad can join the school\n"
     ]
    }
   ],
   "source": [
    "required_age_at_school = 10\n",
    "hammad_age = 10\n",
    "\n",
    "if hammad_age == required_age_at_school:\n",
    "    print('Hammad can join the school')\n",
    "elif hammad_age > required_age_at_school:\n",
    "    print('Hammad should join Higher secondary school')\n",
    "else :\n",
    "    print('Hammad can not join the school')\n"
   ]
  },
  {
   "cell_type": "markdown",
   "id": "6f83cfea",
   "metadata": {},
   "source": [
    "### 10 Functions\n"
   ]
  },
  {
   "cell_type": "code",
   "execution_count": 22,
   "id": "9f9f9615",
   "metadata": {},
   "outputs": [],
   "source": [
    "def print_Codanics(name):\n",
    "    print('We are learning python with Asad and ',name)\n",
    "    print('We are learning python with  Asad and ',name)\n",
    "    print('We are learning python with  Asad and ',name)\n",
    "\n",
    "\n"
   ]
  },
  {
   "cell_type": "code",
   "execution_count": 24,
   "id": "6bfa8088",
   "metadata": {},
   "outputs": [
    {
     "name": "stdout",
     "output_type": "stream",
     "text": [
      "We are learning python with Asad and  hammad\n",
      "We are learning python with  Asad and  hammad\n",
      "We are learning python with  Asad and  hammad\n"
     ]
    }
   ],
   "source": [
    "print_Codanics(name = 'hammad')"
   ]
  },
  {
   "cell_type": "code",
   "execution_count": 57,
   "id": "aac09cdc",
   "metadata": {},
   "outputs": [
    {
     "name": "stdout",
     "output_type": "stream",
     "text": [
      "We are learning python with baba Aammar in Codanics Youtube Channel\n",
      "We are learning python with baba Aammar in Codanics Youtube Channel\n",
      "We are learning python with baba Aammar in Codanics Youtube Channel\n"
     ]
    }
   ],
   "source": [
    "def print_Codanics():\n",
    "    text = 'We are learning python with baba Aammar in Codanics Youtube Channel'\n",
    "    print(text)\n",
    "    print(text)\n",
    "    print(text)\n",
    "print_Codanics()"
   ]
  },
  {
   "cell_type": "code",
   "execution_count": 58,
   "id": "d951d8e2",
   "metadata": {},
   "outputs": [
    {
     "name": "stdout",
     "output_type": "stream",
     "text": [
      "We are learning python with baba Aammar in Codanics Youtube Channel :D\n",
      "We are learning python with baba Aammar in Codanics Youtube Channel :D\n",
      "We are learning python with baba Aammar in Codanics Youtube Channel :D\n"
     ]
    }
   ],
   "source": [
    "def print_Codanics(text):\n",
    "    print(text)\n",
    "    print(text)\n",
    "    print(text)\n",
    "    \n",
    "print_Codanics('We are learning python with baba Aammar in Codanics Youtube Channel :D')"
   ]
  },
  {
   "cell_type": "code",
   "execution_count": 25,
   "id": "c774ae5c",
   "metadata": {},
   "outputs": [
    {
     "name": "stdout",
     "output_type": "stream",
     "text": [
      "Hammad can join the school\n"
     ]
    }
   ],
   "source": [
    "def school_calculator(age):\n",
    "    if age == 5:\n",
    "        print('Hammad can join the school')\n",
    "    elif age > 5:\n",
    "        print('Hammad should join Higher secondary school')\n",
    "    else :\n",
    "        print('Hammad is still a baby')\n",
    "    \n",
    "school_calculator(5)"
   ]
  },
  {
   "cell_type": "code",
   "execution_count": 60,
   "id": "955124b2",
   "metadata": {},
   "outputs": [
    {
     "data": {
      "text/plain": [
       "57"
      ]
     },
     "execution_count": 60,
     "metadata": {},
     "output_type": "execute_result"
    }
   ],
   "source": [
    "def future_age(age):\n",
    "    new_age = age+20\n",
    "    return new_age\n",
    "\n",
    "future_age(37)\n",
    "    "
   ]
  },
  {
   "cell_type": "markdown",
   "id": "2ea8d4a1",
   "metadata": {},
   "source": [
    "### 11 Loops"
   ]
  },
  {
   "cell_type": "code",
   "execution_count": 61,
   "id": "612e4758",
   "metadata": {},
   "outputs": [
    {
     "name": "stdout",
     "output_type": "stream",
     "text": [
      "countdown 0\n",
      "countdown 1\n",
      "countdown 2\n",
      "countdown 3\n",
      "countdown 4\n",
      "countdown 5\n",
      "countdown 6\n"
     ]
    }
   ],
   "source": [
    "#While Loop\n",
    "x = 0\n",
    "while (x<7):\n",
    "    print('countdown',x)\n",
    "    x= x+1\n"
   ]
  },
  {
   "cell_type": "code",
   "execution_count": 62,
   "id": "1a67789f",
   "metadata": {},
   "outputs": [
    {
     "name": "stdout",
     "output_type": "stream",
     "text": [
      "countdown 7\n",
      "countdown 8\n",
      "countdown 9\n",
      "countdown 10\n",
      "countdown 11\n",
      "countdown 12\n",
      "countdown 13\n",
      "countdown 14\n"
     ]
    }
   ],
   "source": [
    "#For Loop\n",
    "for x in range(7,15):\n",
    "    print('countdown',x)"
   ]
  },
  {
   "cell_type": "code",
   "execution_count": 63,
   "id": "d1bf6ae0",
   "metadata": {},
   "outputs": [
    {
     "name": "stdout",
     "output_type": "stream",
     "text": [
      "workink days  : mon\n",
      "workink days  : tue\n",
      "workink days  : wed\n",
      "workink days  : thurs\n",
      "workink days  : fri\n"
     ]
    }
   ],
   "source": [
    "# Array\n",
    "days = ['mon','tue','wed','thurs','fri','sat','sun']\n",
    "for d in days:\n",
    "    if d=='sat' or d=='sun':\n",
    "        continue\n",
    "    else:\n",
    "        print('workink days  :',d)"
   ]
  },
  {
   "cell_type": "markdown",
   "id": "f0c0fdd8",
   "metadata": {},
   "source": [
    "### 12 Import Libraries"
   ]
  },
  {
   "cell_type": "code",
   "execution_count": 64,
   "id": "468504a2",
   "metadata": {},
   "outputs": [
    {
     "name": "stdout",
     "output_type": "stream",
     "text": [
      "area of circle is 201.06192982974676\n"
     ]
    }
   ],
   "source": [
    "import math\n",
    "radius = 8\n",
    "print('area of circle is', math.pi*radius**2)\n"
   ]
  },
  {
   "cell_type": "code",
   "execution_count": 65,
   "id": "1de399d5",
   "metadata": {},
   "outputs": [
    {
     "name": "stdout",
     "output_type": "stream",
     "text": [
      "Mean of counts is  753.75\n"
     ]
    }
   ],
   "source": [
    "import numpy as numpy\n",
    "counts = [720,744,765,786]\n",
    "print('Mean of counts is ', numpy.mean(counts))"
   ]
  },
  {
   "cell_type": "markdown",
   "id": "ce3e4bbd",
   "metadata": {},
   "source": [
    "### 13 Troubleshooting"
   ]
  },
  {
   "cell_type": "code",
   "execution_count": 66,
   "id": "417528bd",
   "metadata": {},
   "outputs": [
    {
     "ename": "SyntaxError",
     "evalue": "EOL while scanning string literal (2838698879.py, line 1)",
     "output_type": "error",
     "traceback": [
      "\u001b[0;36m  File \u001b[0;32m\"/var/folders/dk/9q84mn0j1nzfg85t9zx5d1480000gn/T/ipykernel_69837/2838698879.py\"\u001b[0;36m, line \u001b[0;32m1\u001b[0m\n\u001b[0;31m    print('syntax error)\u001b[0m\n\u001b[0m                        ^\u001b[0m\n\u001b[0;31mSyntaxError\u001b[0m\u001b[0;31m:\u001b[0m EOL while scanning string literal\n"
     ]
    }
   ],
   "source": [
    "print('syntax error)"
   ]
  },
  {
   "cell_type": "code",
   "execution_count": 67,
   "id": "4d512821",
   "metadata": {},
   "outputs": [
    {
     "ename": "ZeroDivisionError",
     "evalue": "division by zero",
     "output_type": "error",
     "traceback": [
      "\u001b[0;31m---------------------------------------------------------------------------\u001b[0m",
      "\u001b[0;31mZeroDivisionError\u001b[0m                         Traceback (most recent call last)",
      "\u001b[0;32m/var/folders/dk/9q84mn0j1nzfg85t9zx5d1480000gn/T/ipykernel_69837/1786028046.py\u001b[0m in \u001b[0;36m<module>\u001b[0;34m\u001b[0m\n\u001b[1;32m      1\u001b[0m \u001b[0;31m#Runtime Error\u001b[0m\u001b[0;34m\u001b[0m\u001b[0;34m\u001b[0m\u001b[0;34m\u001b[0m\u001b[0m\n\u001b[0;32m----> 2\u001b[0;31m \u001b[0mprint\u001b[0m\u001b[0;34m(\u001b[0m\u001b[0;36m25\u001b[0m\u001b[0;34m/\u001b[0m\u001b[0;36m0\u001b[0m\u001b[0;34m)\u001b[0m\u001b[0;34m\u001b[0m\u001b[0;34m\u001b[0m\u001b[0m\n\u001b[0m",
      "\u001b[0;31mZeroDivisionError\u001b[0m: division by zero"
     ]
    }
   ],
   "source": [
    "#Runtime Error\n",
    "print(25/0)"
   ]
  },
  {
   "cell_type": "markdown",
   "id": "1c24cdfa",
   "metadata": {},
   "source": [
    "# Day 2"
   ]
  },
  {
   "cell_type": "markdown",
   "id": "2a5ec1d7",
   "metadata": {},
   "source": [
    "# BMI calculator"
   ]
  },
  {
   "cell_type": "code",
   "execution_count": 1,
   "id": "ea49a6d8",
   "metadata": {},
   "outputs": [
    {
     "name": "stdout",
     "output_type": "stream",
     "text": [
      "enter your weight in kg: 110\n"
     ]
    }
   ],
   "source": [
    "weight = input('enter your weight in kg: ')"
   ]
  },
  {
   "cell_type": "code",
   "execution_count": 2,
   "id": "122f9483",
   "metadata": {},
   "outputs": [
    {
     "name": "stdout",
     "output_type": "stream",
     "text": [
      "enter your height in meters: 1.86\n"
     ]
    }
   ],
   "source": [
    "height = input('enter your height in meters: ')"
   ]
  },
  {
   "cell_type": "code",
   "execution_count": 3,
   "id": "7db7b07d",
   "metadata": {},
   "outputs": [
    {
     "name": "stdout",
     "output_type": "stream",
     "text": [
      "enter your age: 25\n"
     ]
    }
   ],
   "source": [
    "age = input('enter your age: ')"
   ]
  },
  {
   "cell_type": "code",
   "execution_count": 4,
   "id": "0ca48cee",
   "metadata": {},
   "outputs": [
    {
     "name": "stdout",
     "output_type": "stream",
     "text": [
      "enter your name: sami\n"
     ]
    }
   ],
   "source": [
    "name = input('enter your name: ')"
   ]
  },
  {
   "cell_type": "code",
   "execution_count": 15,
   "id": "d99689f5",
   "metadata": {},
   "outputs": [],
   "source": [
    "BMI = float(weight)/float(height)**2\n"
   ]
  },
  {
   "cell_type": "code",
   "execution_count": 16,
   "id": "92a38a7b",
   "metadata": {},
   "outputs": [
    {
     "name": "stdout",
     "output_type": "stream",
     "text": [
      "BMI of  sami  is  31.795583304428252\n"
     ]
    }
   ],
   "source": [
    "print('BMI of ',name, ' is ', BMI)"
   ]
  },
  {
   "cell_type": "code",
   "execution_count": 18,
   "id": "8d805298",
   "metadata": {},
   "outputs": [
    {
     "name": "stdout",
     "output_type": "stream",
     "text": [
      "   survived  pclass     sex   age  sibsp  parch     fare embarked  class  \\\n",
      "0         0       3    male  22.0      1      0   7.2500        S  Third   \n",
      "1         1       1  female  38.0      1      0  71.2833        C  First   \n",
      "2         1       3  female  26.0      0      0   7.9250        S  Third   \n",
      "3         1       1  female  35.0      1      0  53.1000        S  First   \n",
      "4         0       3    male  35.0      0      0   8.0500        S  Third   \n",
      "\n",
      "     who  adult_male deck  embark_town alive  alone  \n",
      "0    man        True  NaN  Southampton    no  False  \n",
      "1  woman       False    C    Cherbourg   yes  False  \n",
      "2  woman       False  NaN  Southampton   yes   True  \n",
      "3  woman       False    C  Southampton   yes  False  \n",
      "4    man        True  NaN  Southampton    no   True  \n"
     ]
    }
   ],
   "source": [
    "import seaborn as sns\n",
    "import matplotlib.pyplot as plt\n",
    "sns.set_theme(style='ticks', color_codes= True)\n",
    "\n",
    "titanic = sns.load_dataset('titanic')\n",
    "print(titanic.head())"
   ]
  },
  {
   "cell_type": "code",
   "execution_count": 30,
   "id": "dfbfa51e",
   "metadata": {},
   "outputs": [
    {
     "data": {
      "image/png": "[encoded data removed]",
      "text/plain": [
       "<Figure size 436.975x360 with 1 Axes>"
      ]
     },
     "metadata": {},
     "output_type": "display_data"
    }
   ],
   "source": [
    "sns.catplot(x='sex', y = 'survived', hue='class', kind='bar', data=titanic)\n",
    "plt.show()"
   ]
  },
  {
   "cell_type": "code",
   "execution_count": 31,
   "id": "8e0e4183",
   "metadata": {},
   "outputs": [
    {
     "data": {
      "image/png": "[encoded data removed]",
      "text/plain": [
       "<Figure size 436.975x360 with 1 Axes>"
      ]
     },
     "metadata": {},
     "output_type": "display_data"
    }
   ],
   "source": [
    "sns.catplot(x='sex', y = 'age', hue='class', kind='bar', data=titanic)\n",
    "plt.show()"
   ]
  },
  {
   "cell_type": "code",
   "execution_count": 32,
   "id": "7f0be50d",
   "metadata": {},
   "outputs": [
    {
     "data": {
      "image/png": "[encoded data removed]",
      "text/plain": [
       "<Figure size 432x288 with 1 Axes>"
      ]
     },
     "metadata": {},
     "output_type": "display_data"
    }
   ],
   "source": [
    "sns.countplot(x='sex',  hue='class', data=titanic)\n",
    "plt.show()"
   ]
  },
  {
   "cell_type": "code",
   "execution_count": 26,
   "id": "b6b9f614",
   "metadata": {},
   "outputs": [
    {
     "data": {
      "text/plain": [
       "<Figure size 1224x1224 with 0 Axes>"
      ]
     },
     "metadata": {},
     "output_type": "display_data"
    },
    {
     "data": {
      "image/png": "[encoded data removed]",
      "text/plain": [
       "<Figure size 282.35x432 with 2 Axes>"
      ]
     },
     "metadata": {},
     "output_type": "display_data"
    }
   ],
   "source": [
    "g =sns.FacetGrid(row='sex',hue='alone',  data=titanic)\n",
    "plt.figure(figsize=(17, 17))\n",
    "g= (g.map(plt.scatter,'age','fare').add_legend())\n",
    "plt.show()"
   ]
  },
  {
   "cell_type": "code",
   "execution_count": null,
   "id": "6c9092bd",
   "metadata": {},
   "outputs": [],
   "source": []
  },
  {
   "cell_type": "code",
   "execution_count": null,
   "id": "0d449c32",
   "metadata": {},
   "outputs": [],
   "source": []
  }
 ],
 "metadata": {
  "kernelspec": {
   "display_name": "Python 3",
   "language": "python",
   "name": "python3"
  },
  "language_info": {
   "codemirror_mode": {
    "name": "ipython",
    "version": 3
   },
   "file_extension": ".py",
   "mimetype": "text/x-python",
   "name": "python",
   "nbconvert_exporter": "python",
   "pygments_lexer": "ipython3",
   "version": "3.9.15"
  },
  "toc": {
   "base_numbering": 1,
   "nav_menu": {},
   "number_sections": false,
   "sideBar": true,
   "skip_h1_title": false,
   "title_cell": "Table of Contents",
   "title_sidebar": "Contents",
   "toc_cell": false,
   "toc_position": {},
   "toc_section_display": true,
   "toc_window_display": false
  },
  "vscode": {
   "interpreter": {
    "hash": "397704579725e15f5c7cb49fe5f0341eb7531c82d19f2c29d197e8b64ab5776b"
   }
  }
 },
 "nbformat": 4,
 "nbformat_minor": 5
}
