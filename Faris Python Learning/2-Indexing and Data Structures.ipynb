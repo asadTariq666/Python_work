{
 "cells": [
  {
   "cell_type": "markdown",
   "id": "3dabba3e",
   "metadata": {},
   "source": [
    "# 01 Indexing"
   ]
  },
  {
   "cell_type": "code",
   "execution_count": null,
   "id": "c3e3a237",
   "metadata": {},
   "outputs": [],
   "source": [
    "a = 'hello'"
   ]
  },
  {
   "cell_type": "code",
   "execution_count": 10,
   "id": "8ffce8f3",
   "metadata": {},
   "outputs": [
    {
     "data": {
      "text/plain": [
       "'hello world'"
      ]
     },
     "execution_count": 10,
     "metadata": {},
     "output_type": "execute_result"
    }
   ],
   "source": [
    "a = 'hello world'\n",
    "a"
   ]
  },
  {
   "cell_type": "code",
   "execution_count": 5,
   "id": "562f6e6d",
   "metadata": {},
   "outputs": [
    {
     "data": {
      "text/plain": [
       "str"
      ]
     },
     "execution_count": 5,
     "metadata": {},
     "output_type": "execute_result"
    }
   ],
   "source": [
    "type(a)"
   ]
  },
  {
   "cell_type": "code",
   "execution_count": 13,
   "id": "6a15d970",
   "metadata": {},
   "outputs": [
    {
     "data": {
      "text/plain": [
       "list"
      ]
     },
     "execution_count": 13,
     "metadata": {},
     "output_type": "execute_result"
    }
   ],
   "source": [
    "arr = [1,2,3,4,5,6,7,8,9,10]\n",
    "type(arr)"
   ]
  },
  {
   "cell_type": "code",
   "execution_count": 14,
   "id": "4769b325",
   "metadata": {},
   "outputs": [
    {
     "data": {
      "text/plain": [
       "[1, 2, 3, 4, 5, 6, 7, 8, 9, 10]"
      ]
     },
     "execution_count": 14,
     "metadata": {},
     "output_type": "execute_result"
    }
   ],
   "source": [
    "arr"
   ]
  },
  {
   "cell_type": "code",
   "execution_count": 19,
   "id": "649f00ca",
   "metadata": {},
   "outputs": [
    {
     "data": {
      "text/plain": [
       "10"
      ]
     },
     "execution_count": 19,
     "metadata": {},
     "output_type": "execute_result"
    }
   ],
   "source": [
    "arr[9]"
   ]
  },
  {
   "cell_type": "code",
   "execution_count": 8,
   "id": "15689551",
   "metadata": {},
   "outputs": [
    {
     "data": {
      "text/plain": [
       "list"
      ]
     },
     "execution_count": 8,
     "metadata": {},
     "output_type": "execute_result"
    }
   ],
   "source": [
    "arr = [1,2,3,'asad']\n",
    "type(arr)"
   ]
  },
  {
   "cell_type": "code",
   "execution_count": 20,
   "id": "9e7a29af",
   "metadata": {},
   "outputs": [
    {
     "data": {
      "text/plain": [
       "'hello world'"
      ]
     },
     "execution_count": 20,
     "metadata": {},
     "output_type": "execute_result"
    }
   ],
   "source": [
    "a"
   ]
  },
  {
   "cell_type": "code",
   "execution_count": 21,
   "id": "551f4d4b",
   "metadata": {},
   "outputs": [
    {
     "data": {
      "text/plain": [
       "' '"
      ]
     },
     "execution_count": 21,
     "metadata": {},
     "output_type": "execute_result"
    }
   ],
   "source": [
    "a[5]"
   ]
  },
  {
   "cell_type": "code",
   "execution_count": 22,
   "id": "07cb695e",
   "metadata": {},
   "outputs": [
    {
     "data": {
      "text/plain": [
       "'h'"
      ]
     },
     "execution_count": 22,
     "metadata": {},
     "output_type": "execute_result"
    }
   ],
   "source": [
    "a[0]"
   ]
  },
  {
   "cell_type": "code",
   "execution_count": 24,
   "id": "bf2c49e4",
   "metadata": {},
   "outputs": [
    {
     "data": {
      "text/plain": [
       "'d'"
      ]
     },
     "execution_count": 24,
     "metadata": {},
     "output_type": "execute_result"
    }
   ],
   "source": [
    "a[-1]"
   ]
  },
  {
   "cell_type": "code",
   "execution_count": 25,
   "id": "3c1bcdb8",
   "metadata": {},
   "outputs": [
    {
     "data": {
      "text/plain": [
       "11"
      ]
     },
     "execution_count": 25,
     "metadata": {},
     "output_type": "execute_result"
    }
   ],
   "source": [
    "len(a)"
   ]
  },
  {
   "cell_type": "code",
   "execution_count": 27,
   "id": "dc29585a",
   "metadata": {},
   "outputs": [
    {
     "data": {
      "text/plain": [
       "'hello'"
      ]
     },
     "execution_count": 27,
     "metadata": {},
     "output_type": "execute_result"
    }
   ],
   "source": [
    "a[0:5]"
   ]
  },
  {
   "cell_type": "code",
   "execution_count": 30,
   "id": "4e1ee3bb",
   "metadata": {},
   "outputs": [
    {
     "data": {
      "text/plain": [
       "('hello', 'world')"
      ]
     },
     "execution_count": 30,
     "metadata": {},
     "output_type": "execute_result"
    }
   ],
   "source": [
    "a[0:5],a[6:11]"
   ]
  },
  {
   "cell_type": "code",
   "execution_count": 31,
   "id": "44d7ba86",
   "metadata": {},
   "outputs": [
    {
     "data": {
      "text/plain": [
       "'d'"
      ]
     },
     "execution_count": 31,
     "metadata": {},
     "output_type": "execute_result"
    }
   ],
   "source": [
    "a[-1]"
   ]
  },
  {
   "cell_type": "code",
   "execution_count": 35,
   "id": "eb01f4c2",
   "metadata": {},
   "outputs": [
    {
     "name": "stdout",
     "output_type": "stream",
     "text": [
      "true\n"
     ]
    }
   ],
   "source": [
    "if a[9]==a[-2]:\n",
    "   print('true')\n",
    "else:\n",
    "   print('false')"
   ]
  },
  {
   "cell_type": "code",
   "execution_count": 36,
   "id": "8bf7f4ad",
   "metadata": {},
   "outputs": [
    {
     "data": {
      "text/plain": [
       "'worl'"
      ]
     },
     "execution_count": 36,
     "metadata": {},
     "output_type": "execute_result"
    }
   ],
   "source": [
    "a[6:10]"
   ]
  },
  {
   "cell_type": "code",
   "execution_count": 37,
   "id": "18678548",
   "metadata": {},
   "outputs": [
    {
     "data": {
      "text/plain": [
       "'hello world'"
      ]
     },
     "execution_count": 37,
     "metadata": {},
     "output_type": "execute_result"
    }
   ],
   "source": [
    "a[0:11]"
   ]
  },
  {
   "cell_type": "code",
   "execution_count": 38,
   "id": "73e5880d",
   "metadata": {},
   "outputs": [
    {
     "data": {
      "text/plain": [
       "' worl'"
      ]
     },
     "execution_count": 38,
     "metadata": {},
     "output_type": "execute_result"
    }
   ],
   "source": [
    "a[-6:-1]"
   ]
  },
  {
   "cell_type": "code",
   "execution_count": 40,
   "id": "0f975517",
   "metadata": {},
   "outputs": [
    {
     "data": {
      "text/plain": [
       "'lo world'"
      ]
     },
     "execution_count": 40,
     "metadata": {},
     "output_type": "execute_result"
    }
   ],
   "source": [
    "a[3:]"
   ]
  },
  {
   "cell_type": "code",
   "execution_count": 41,
   "id": "a7da292a",
   "metadata": {},
   "outputs": [
    {
     "data": {
      "text/plain": [
       "'hello wo'"
      ]
     },
     "execution_count": 41,
     "metadata": {},
     "output_type": "execute_result"
    }
   ],
   "source": [
    "a[:8]"
   ]
  },
  {
   "cell_type": "code",
   "execution_count": 39,
   "id": "b6ddc0e6",
   "metadata": {},
   "outputs": [
    {
     "data": {
      "text/plain": [
       "' world'"
      ]
     },
     "execution_count": 39,
     "metadata": {},
     "output_type": "execute_result"
    }
   ],
   "source": [
    "a[-6:]"
   ]
  },
  {
   "cell_type": "code",
   "execution_count": 42,
   "id": "42daf2ff",
   "metadata": {},
   "outputs": [
    {
     "data": {
      "text/plain": [
       "'shawarma'"
      ]
     },
     "execution_count": 42,
     "metadata": {},
     "output_type": "execute_result"
    }
   ],
   "source": [
    "food ='shawarma'\n",
    "food"
   ]
  },
  {
   "cell_type": "markdown",
   "id": "b5f4fe9f",
   "metadata": {},
   "source": [
    "# 02 String Methods"
   ]
  },
  {
   "cell_type": "code",
   "execution_count": 43,
   "id": "dfd72c8f",
   "metadata": {},
   "outputs": [
    {
     "data": {
      "text/plain": [
       "8"
      ]
     },
     "execution_count": 43,
     "metadata": {},
     "output_type": "execute_result"
    }
   ],
   "source": [
    "len(food)"
   ]
  },
  {
   "cell_type": "code",
   "execution_count": 44,
   "id": "95c01f4d",
   "metadata": {},
   "outputs": [
    {
     "data": {
      "text/plain": [
       "'shawarma'"
      ]
     },
     "execution_count": 44,
     "metadata": {},
     "output_type": "execute_result"
    }
   ],
   "source": [
    "food"
   ]
  },
  {
   "cell_type": "code",
   "execution_count": 45,
   "id": "340f1bbf",
   "metadata": {},
   "outputs": [
    {
     "data": {
      "text/plain": [
       "'Shawarma'"
      ]
     },
     "execution_count": 45,
     "metadata": {},
     "output_type": "execute_result"
    }
   ],
   "source": [
    "food.capitalize()\n"
   ]
  },
  {
   "cell_type": "code",
   "execution_count": 46,
   "id": "91d96b11",
   "metadata": {},
   "outputs": [
    {
     "data": {
      "text/plain": [
       "'shawarma'"
      ]
     },
     "execution_count": 46,
     "metadata": {},
     "output_type": "execute_result"
    }
   ],
   "source": [
    "food.lower()"
   ]
  },
  {
   "cell_type": "code",
   "execution_count": 48,
   "id": "6037aa2a",
   "metadata": {},
   "outputs": [
    {
     "data": {
      "text/plain": [
       "'SHAWARMA'"
      ]
     },
     "execution_count": 48,
     "metadata": {},
     "output_type": "execute_result"
    }
   ],
   "source": [
    "food= food.upper()\n",
    "food"
   ]
  },
  {
   "cell_type": "code",
   "execution_count": 49,
   "id": "1a338ded",
   "metadata": {},
   "outputs": [
    {
     "name": "stdout",
     "output_type": "stream",
     "text": [
      "SHAWARMA\n"
     ]
    },
    {
     "data": {
      "text/plain": [
       "'shawarma'"
      ]
     },
     "execution_count": 49,
     "metadata": {},
     "output_type": "execute_result"
    }
   ],
   "source": [
    "print(food)\n",
    "food= food.casefold()\n",
    "food"
   ]
  },
  {
   "cell_type": "code",
   "execution_count": 51,
   "id": "229ab4bd",
   "metadata": {},
   "outputs": [
    {
     "data": {
      "text/plain": [
       "'hello world'"
      ]
     },
     "execution_count": 51,
     "metadata": {},
     "output_type": "execute_result"
    }
   ],
   "source": [
    "a"
   ]
  },
  {
   "cell_type": "code",
   "execution_count": 52,
   "id": "d33ba692",
   "metadata": {},
   "outputs": [
    {
     "data": {
      "text/plain": [
       "'hello.....world'"
      ]
     },
     "execution_count": 52,
     "metadata": {},
     "output_type": "execute_result"
    }
   ],
   "source": [
    "a.replace(' ','.....')"
   ]
  },
  {
   "cell_type": "code",
   "execution_count": 50,
   "id": "7f871615",
   "metadata": {},
   "outputs": [
    {
     "data": {
      "text/plain": [
       "'SHAwarma'"
      ]
     },
     "execution_count": 50,
     "metadata": {},
     "output_type": "execute_result"
    }
   ],
   "source": [
    "food.replace('sha','SHA')"
   ]
  },
  {
   "cell_type": "code",
   "execution_count": 53,
   "id": "aca4fc29",
   "metadata": {},
   "outputs": [
    {
     "data": {
      "text/plain": [
       "0"
      ]
     },
     "execution_count": 53,
     "metadata": {},
     "output_type": "execute_result"
    }
   ],
   "source": [
    "food.count('i')"
   ]
  },
  {
   "cell_type": "code",
   "execution_count": 62,
   "id": "38badf3f",
   "metadata": {},
   "outputs": [
    {
     "data": {
      "text/plain": [
       "'shawarma'"
      ]
     },
     "execution_count": 62,
     "metadata": {},
     "output_type": "execute_result"
    }
   ],
   "source": [
    "food"
   ]
  },
  {
   "cell_type": "code",
   "execution_count": 54,
   "id": "f711f4e2",
   "metadata": {},
   "outputs": [
    {
     "data": {
      "text/plain": [
       "3"
      ]
     },
     "execution_count": 54,
     "metadata": {},
     "output_type": "execute_result"
    }
   ],
   "source": [
    "food.count('a')"
   ]
  },
  {
   "cell_type": "code",
   "execution_count": 55,
   "id": "6c24efb1",
   "metadata": {},
   "outputs": [
    {
     "data": {
      "text/plain": [
       "'Hello World, We are learning python Language here. The course outline is from the basics of python to the advanced concepts of Machine learning. We will study here for the next 2-3 weeks.'"
      ]
     },
     "execution_count": 55,
     "metadata": {},
     "output_type": "execute_result"
    }
   ],
   "source": [
    "description = \"Hello World, We are learning python Language here. The course outline is from the basics of python to the advanced concepts of Machine learning. We will study here for the next 2-3 weeks.\"\n",
    "\n",
    "description"
   ]
  },
  {
   "cell_type": "code",
   "execution_count": 56,
   "id": "6a0fd7f2",
   "metadata": {},
   "outputs": [
    {
     "data": {
      "text/plain": [
       "187"
      ]
     },
     "execution_count": 56,
     "metadata": {},
     "output_type": "execute_result"
    }
   ],
   "source": [
    "len(description)"
   ]
  },
  {
   "cell_type": "code",
   "execution_count": 59,
   "id": "ba44473e",
   "metadata": {},
   "outputs": [
    {
     "data": {
      "text/plain": [
       "6"
      ]
     },
     "execution_count": 59,
     "metadata": {},
     "output_type": "execute_result"
    }
   ],
   "source": [
    "description.find('World')"
   ]
  },
  {
   "cell_type": "code",
   "execution_count": 61,
   "id": "c1e3fae1",
   "metadata": {},
   "outputs": [
    {
     "data": {
      "text/plain": [
       "1"
      ]
     },
     "execution_count": 61,
     "metadata": {},
     "output_type": "execute_result"
    }
   ],
   "source": [
    "description.count('The')"
   ]
  },
  {
   "cell_type": "code",
   "execution_count": 63,
   "id": "4ab284c1",
   "metadata": {},
   "outputs": [
    {
     "data": {
      "text/plain": [
       "1"
      ]
     },
     "execution_count": 63,
     "metadata": {},
     "output_type": "execute_result"
    }
   ],
   "source": [
    "description.count('Language')"
   ]
  },
  {
   "cell_type": "code",
   "execution_count": 71,
   "id": "9372fd42",
   "metadata": {},
   "outputs": [],
   "source": [
    "b= 'i love cricket, football, basketball, tennis and racing'"
   ]
  },
  {
   "cell_type": "code",
   "execution_count": 65,
   "id": "8038eef8",
   "metadata": {},
   "outputs": [
    {
     "data": {
      "text/plain": [
       "'i love cricket, football, basketball, tennis and racing'"
      ]
     },
     "execution_count": 65,
     "metadata": {},
     "output_type": "execute_result"
    }
   ],
   "source": [
    "b"
   ]
  },
  {
   "cell_type": "code",
   "execution_count": 72,
   "id": "b32662db",
   "metadata": {},
   "outputs": [
    {
     "data": {
      "text/plain": [
       "55"
      ]
     },
     "execution_count": 72,
     "metadata": {},
     "output_type": "execute_result"
    }
   ],
   "source": [
    "len(b)"
   ]
  },
  {
   "cell_type": "code",
   "execution_count": 73,
   "id": "e72e9054",
   "metadata": {},
   "outputs": [],
   "source": [
    "b_new = b.split(',')"
   ]
  },
  {
   "cell_type": "code",
   "execution_count": 77,
   "id": "c2f1bb29",
   "metadata": {},
   "outputs": [],
   "source": [
    "b_new_space = b.split(' ')"
   ]
  },
  {
   "cell_type": "code",
   "execution_count": 79,
   "id": "99f619fb",
   "metadata": {},
   "outputs": [
    {
     "data": {
      "text/plain": [
       "['hello', 'world', 'type', 'chwrger', '']"
      ]
     },
     "execution_count": 79,
     "metadata": {},
     "output_type": "execute_result"
    }
   ],
   "source": [
    "c = 'helloaworldatypeachwrgera'\n",
    "c.split('a')"
   ]
  },
  {
   "cell_type": "code",
   "execution_count": 78,
   "id": "28e76a16",
   "metadata": {},
   "outputs": [
    {
     "data": {
      "text/plain": [
       "['i',\n",
       " 'love',\n",
       " 'cricket,',\n",
       " 'football,',\n",
       " 'basketball,',\n",
       " 'tennis',\n",
       " 'and',\n",
       " 'racing']"
      ]
     },
     "execution_count": 78,
     "metadata": {},
     "output_type": "execute_result"
    }
   ],
   "source": [
    "b_new_space"
   ]
  },
  {
   "cell_type": "code",
   "execution_count": 74,
   "id": "36448e34",
   "metadata": {},
   "outputs": [
    {
     "data": {
      "text/plain": [
       "['i love cricket', ' football', ' basketball', ' tennis and racing']"
      ]
     },
     "execution_count": 74,
     "metadata": {},
     "output_type": "execute_result"
    }
   ],
   "source": [
    "b_new"
   ]
  },
  {
   "cell_type": "code",
   "execution_count": 75,
   "id": "09349e32",
   "metadata": {},
   "outputs": [
    {
     "data": {
      "text/plain": [
       "'l'"
      ]
     },
     "execution_count": 75,
     "metadata": {},
     "output_type": "execute_result"
    }
   ],
   "source": [
    "b[2]"
   ]
  },
  {
   "cell_type": "code",
   "execution_count": 69,
   "id": "4e9e5132",
   "metadata": {},
   "outputs": [
    {
     "data": {
      "text/plain": [
       "4"
      ]
     },
     "execution_count": 69,
     "metadata": {},
     "output_type": "execute_result"
    }
   ],
   "source": [
    "len(b_new)"
   ]
  },
  {
   "cell_type": "code",
   "execution_count": 76,
   "id": "75996d0d",
   "metadata": {},
   "outputs": [
    {
     "data": {
      "text/plain": [
       "' basketball'"
      ]
     },
     "execution_count": 76,
     "metadata": {},
     "output_type": "execute_result"
    }
   ],
   "source": [
    "b_new[2]"
   ]
  },
  {
   "cell_type": "markdown",
   "id": "5818a626",
   "metadata": {},
   "source": [
    "\n",
    "\n",
    "# Basic Data Structures\n",
    "\n",
    "\n",
    "## 1- Tuple\n",
    "## 2- List\n",
    "## 3- Dictionaries\n",
    "## 4- Sets\n"
   ]
  },
  {
   "cell_type": "markdown",
   "id": "62c43847",
   "metadata": {},
   "source": [
    "## Tuple\n",
    "- 1- enclosed in ()\n",
    "- 2- Unmutable\n",
    "- 3- Can have different type of elements\n"
   ]
  },
  {
   "cell_type": "code",
   "execution_count": 83,
   "id": "180db93c",
   "metadata": {},
   "outputs": [],
   "source": [
    "tup1 = (1,'python',True, 4.98)"
   ]
  },
  {
   "cell_type": "code",
   "execution_count": 85,
   "id": "2a21db6e",
   "metadata": {},
   "outputs": [
    {
     "ename": "TypeError",
     "evalue": "'tuple' object does not support item assignment",
     "output_type": "error",
     "traceback": [
      "\u001b[0;31m---------------------------------------------------------------------------\u001b[0m",
      "\u001b[0;31mTypeError\u001b[0m                                 Traceback (most recent call last)",
      "\u001b[1;32m/Users/asadtariq/Downloads/work_python/Python_work/Faris Python Learning/2-Indexing and Data Structures.ipynb Cell 57\u001b[0m in \u001b[0;36m<cell line: 1>\u001b[0;34m()\u001b[0m\n\u001b[0;32m----> <a href='vscode-notebook-cell:/Users/asadtariq/Downloads/work_python/Python_work/Faris%20Python%20Learning/2-Indexing%20and%20Data%20Structures.ipynb#Y323sZmlsZQ%3D%3D?line=0'>1</a>\u001b[0m tup1[\u001b[39m0\u001b[39m] \u001b[39m=\u001b[39m \u001b[39m3\u001b[39m\n",
      "\u001b[0;31mTypeError\u001b[0m: 'tuple' object does not support item assignment"
     ]
    }
   ],
   "source": [
    "tup1[0] = 3"
   ]
  },
  {
   "cell_type": "code",
   "execution_count": 86,
   "id": "5c80b54a",
   "metadata": {},
   "outputs": [
    {
     "data": {
      "text/plain": [
       "tuple"
      ]
     },
     "execution_count": 86,
     "metadata": {},
     "output_type": "execute_result"
    }
   ],
   "source": [
    "type(tup1)"
   ]
  },
  {
   "cell_type": "code",
   "execution_count": 87,
   "id": "0bfd163f",
   "metadata": {},
   "outputs": [
    {
     "data": {
      "text/plain": [
       "'python'"
      ]
     },
     "execution_count": 87,
     "metadata": {},
     "output_type": "execute_result"
    }
   ],
   "source": [
    "tup1[1]"
   ]
  },
  {
   "cell_type": "code",
   "execution_count": 88,
   "id": "8ad6091f",
   "metadata": {},
   "outputs": [
    {
     "data": {
      "text/plain": [
       "1"
      ]
     },
     "execution_count": 88,
     "metadata": {},
     "output_type": "execute_result"
    }
   ],
   "source": [
    "tup1[0]"
   ]
  },
  {
   "cell_type": "code",
   "execution_count": 89,
   "id": "04a8fc60",
   "metadata": {},
   "outputs": [
    {
     "data": {
      "text/plain": [
       "(1, 'python', True)"
      ]
     },
     "execution_count": 89,
     "metadata": {},
     "output_type": "execute_result"
    }
   ],
   "source": [
    "tup1[:3]"
   ]
  },
  {
   "cell_type": "code",
   "execution_count": 90,
   "id": "bf122a47",
   "metadata": {},
   "outputs": [
    {
     "data": {
      "text/plain": [
       "4"
      ]
     },
     "execution_count": 90,
     "metadata": {},
     "output_type": "execute_result"
    }
   ],
   "source": [
    "len(tup1)"
   ]
  },
  {
   "cell_type": "code",
   "execution_count": 91,
   "id": "da0920a2",
   "metadata": {},
   "outputs": [],
   "source": [
    "tup2 = (2,False,'hala Madrid', 3.14)"
   ]
  },
  {
   "cell_type": "code",
   "execution_count": 94,
   "id": "1eb29fa2",
   "metadata": {},
   "outputs": [
    {
     "data": {
      "text/plain": [
       "(1, 'python', True, 4.98, 2, False, 'hala Madrid', 3.14)"
      ]
     },
     "execution_count": 94,
     "metadata": {},
     "output_type": "execute_result"
    }
   ],
   "source": [
    "tup3 =tup1+tup2\n",
    "tup3"
   ]
  },
  {
   "cell_type": "code",
   "execution_count": 93,
   "id": "92d52727",
   "metadata": {},
   "outputs": [
    {
     "data": {
      "text/plain": [
       "(1, 'python', True, 4.98)"
      ]
     },
     "execution_count": 93,
     "metadata": {},
     "output_type": "execute_result"
    }
   ],
   "source": [
    "tup1"
   ]
  },
  {
   "cell_type": "code",
   "execution_count": 95,
   "id": "9b034eea",
   "metadata": {},
   "outputs": [
    {
     "data": {
      "text/plain": [
       "(1,\n",
       " 'python',\n",
       " True,\n",
       " 4.98,\n",
       " 1,\n",
       " 'python',\n",
       " True,\n",
       " 4.98,\n",
       " 2,\n",
       " False,\n",
       " 'hala Madrid',\n",
       " 3.14)"
      ]
     },
     "execution_count": 95,
     "metadata": {},
     "output_type": "execute_result"
    }
   ],
   "source": [
    "tup1*2 + tup2"
   ]
  },
  {
   "cell_type": "code",
   "execution_count": 103,
   "id": "51132790",
   "metadata": {},
   "outputs": [],
   "source": [
    "tup3 =(433,22,11,556,666,332432,666,23423434,345252345)\n"
   ]
  },
  {
   "cell_type": "code",
   "execution_count": 97,
   "id": "3f7d852d",
   "metadata": {},
   "outputs": [
    {
     "data": {
      "text/plain": [
       "345252345"
      ]
     },
     "execution_count": 97,
     "metadata": {},
     "output_type": "execute_result"
    }
   ],
   "source": [
    "max(tup3)"
   ]
  },
  {
   "cell_type": "code",
   "execution_count": 98,
   "id": "72538ce0",
   "metadata": {},
   "outputs": [
    {
     "data": {
      "text/plain": [
       "11"
      ]
     },
     "execution_count": 98,
     "metadata": {},
     "output_type": "execute_result"
    }
   ],
   "source": [
    "min(tup3)"
   ]
  },
  {
   "cell_type": "code",
   "execution_count": 99,
   "id": "5ce78349",
   "metadata": {},
   "outputs": [
    {
     "data": {
      "text/plain": [
       "1"
      ]
     },
     "execution_count": 99,
     "metadata": {},
     "output_type": "execute_result"
    }
   ],
   "source": [
    "tup3.count(666)"
   ]
  },
  {
   "cell_type": "code",
   "execution_count": 100,
   "id": "68b3a0f3",
   "metadata": {},
   "outputs": [
    {
     "data": {
      "text/plain": [
       "22"
      ]
     },
     "execution_count": 100,
     "metadata": {},
     "output_type": "execute_result"
    }
   ],
   "source": [
    "tup3[1] \n"
   ]
  },
  {
   "cell_type": "code",
   "execution_count": 101,
   "id": "f7d1b135",
   "metadata": {},
   "outputs": [
    {
     "ename": "TypeError",
     "evalue": "'tuple' object does not support item assignment",
     "output_type": "error",
     "traceback": [
      "\u001b[0;31m---------------------------------------------------------------------------\u001b[0m",
      "\u001b[0;31mTypeError\u001b[0m                                 Traceback (most recent call last)",
      "\u001b[1;32m/Users/asadtariq/Downloads/work_python/Python_work/Faris Python Learning/2-Indexing and Data Structures.ipynb Cell 72\u001b[0m in \u001b[0;36m<cell line: 1>\u001b[0;34m()\u001b[0m\n\u001b[0;32m----> <a href='vscode-notebook-cell:/Users/asadtariq/Downloads/work_python/Python_work/Faris%20Python%20Learning/2-Indexing%20and%20Data%20Structures.ipynb#X64sZmlsZQ%3D%3D?line=0'>1</a>\u001b[0m tup3[\u001b[39m1\u001b[39m] \u001b[39m=\u001b[39m \u001b[39m55\u001b[39m\n",
      "\u001b[0;31mTypeError\u001b[0m: 'tuple' object does not support item assignment"
     ]
    }
   ],
   "source": [
    "tup3[1] = 55\n"
   ]
  },
  {
   "cell_type": "code",
   "execution_count": 104,
   "id": "00369944",
   "metadata": {},
   "outputs": [
    {
     "data": {
      "text/plain": [
       "4"
      ]
     },
     "execution_count": 104,
     "metadata": {},
     "output_type": "execute_result"
    }
   ],
   "source": [
    "tup3.index(666)"
   ]
  },
  {
   "cell_type": "markdown",
   "id": "e6359831",
   "metadata": {},
   "source": [
    "##  Lists\n",
    "- Ordered collection of elements\n",
    "- Enclosed in [] Brackets\n",
    "- Mutable"
   ]
  },
  {
   "cell_type": "code",
   "execution_count": 105,
   "id": "4e207cce",
   "metadata": {},
   "outputs": [],
   "source": [
    "a = ' hello world'"
   ]
  },
  {
   "cell_type": "code",
   "execution_count": 106,
   "id": "fac2ef9a",
   "metadata": {},
   "outputs": [
    {
     "data": {
      "text/plain": [
       "[1, 'python', True, 4.98]"
      ]
     },
     "execution_count": 106,
     "metadata": {},
     "output_type": "execute_result"
    }
   ],
   "source": [
    "list1 =[1,'python',True, 4.98]\n",
    "list1"
   ]
  },
  {
   "cell_type": "code",
   "execution_count": 108,
   "id": "4640cf5f",
   "metadata": {},
   "outputs": [
    {
     "data": {
      "text/plain": [
       "1"
      ]
     },
     "execution_count": 108,
     "metadata": {},
     "output_type": "execute_result"
    }
   ],
   "source": [
    "list1[0]"
   ]
  },
  {
   "cell_type": "code",
   "execution_count": 109,
   "id": "0bef2262",
   "metadata": {},
   "outputs": [],
   "source": [
    "list1[0] = 2"
   ]
  },
  {
   "cell_type": "code",
   "execution_count": 110,
   "id": "57597bc4",
   "metadata": {},
   "outputs": [
    {
     "data": {
      "text/plain": [
       "[2, 'python', True, 4.98]"
      ]
     },
     "execution_count": 110,
     "metadata": {},
     "output_type": "execute_result"
    }
   ],
   "source": [
    "list1"
   ]
  },
  {
   "cell_type": "code",
   "execution_count": 111,
   "id": "8f4cc8f5",
   "metadata": {},
   "outputs": [
    {
     "data": {
      "text/plain": [
       "list"
      ]
     },
     "execution_count": 111,
     "metadata": {},
     "output_type": "execute_result"
    }
   ],
   "source": [
    "type(list1)"
   ]
  },
  {
   "cell_type": "code",
   "execution_count": 112,
   "id": "0b2159ea",
   "metadata": {},
   "outputs": [
    {
     "data": {
      "text/plain": [
       "4"
      ]
     },
     "execution_count": 112,
     "metadata": {},
     "output_type": "execute_result"
    }
   ],
   "source": [
    "len(list1)"
   ]
  },
  {
   "cell_type": "code",
   "execution_count": 113,
   "id": "8b925132",
   "metadata": {},
   "outputs": [
    {
     "data": {
      "text/plain": [
       "'python'"
      ]
     },
     "execution_count": 113,
     "metadata": {},
     "output_type": "execute_result"
    }
   ],
   "source": [
    "list1[1]"
   ]
  },
  {
   "cell_type": "code",
   "execution_count": 114,
   "id": "22b1167b",
   "metadata": {},
   "outputs": [
    {
     "data": {
      "text/plain": [
       "['python', True, 4.98]"
      ]
     },
     "execution_count": 114,
     "metadata": {},
     "output_type": "execute_result"
    }
   ],
   "source": [
    "list1[1:]"
   ]
  },
  {
   "cell_type": "code",
   "execution_count": 122,
   "id": "560c7209",
   "metadata": {},
   "outputs": [],
   "source": [
    "list2 = [3,5,'asad', 'tariq',7777,982., True,3,3,3,3,3,7,8]"
   ]
  },
  {
   "cell_type": "code",
   "execution_count": 116,
   "id": "75a4ad01",
   "metadata": {},
   "outputs": [
    {
     "data": {
      "text/plain": [
       "[3, 5, 'asad', 'tariq', 7777, 982.0, True, 3, 3, 3, 3, 3, 7, 8]"
      ]
     },
     "execution_count": 116,
     "metadata": {},
     "output_type": "execute_result"
    }
   ],
   "source": [
    "list2"
   ]
  },
  {
   "cell_type": "code",
   "execution_count": 117,
   "id": "51bd60e3",
   "metadata": {},
   "outputs": [
    {
     "data": {
      "text/plain": [
       "[2,\n",
       " 'python',\n",
       " True,\n",
       " 4.98,\n",
       " 3,\n",
       " 5,\n",
       " 'asad',\n",
       " 'tariq',\n",
       " 7777,\n",
       " 982.0,\n",
       " True,\n",
       " 3,\n",
       " 3,\n",
       " 3,\n",
       " 3,\n",
       " 3,\n",
       " 7,\n",
       " 8]"
      ]
     },
     "execution_count": 117,
     "metadata": {},
     "output_type": "execute_result"
    }
   ],
   "source": [
    "list1+list2"
   ]
  },
  {
   "cell_type": "code",
   "execution_count": 118,
   "id": "234c9a7d",
   "metadata": {},
   "outputs": [
    {
     "data": {
      "text/plain": [
       "24.900000000000002"
      ]
     },
     "execution_count": 118,
     "metadata": {},
     "output_type": "execute_result"
    }
   ],
   "source": [
    "list1[3]*list2[1]"
   ]
  },
  {
   "cell_type": "code",
   "execution_count": 119,
   "id": "2c02094f",
   "metadata": {},
   "outputs": [
    {
     "data": {
      "text/plain": [
       "[4.98, True, 'python', 2]"
      ]
     },
     "execution_count": 119,
     "metadata": {},
     "output_type": "execute_result"
    }
   ],
   "source": [
    "(list1.reverse())\n",
    "list1"
   ]
  },
  {
   "cell_type": "code",
   "execution_count": 123,
   "id": "fd693628",
   "metadata": {},
   "outputs": [
    {
     "data": {
      "text/plain": [
       "[3, 5, 'asad', 'tariq', 7777, 982.0, True, 3, 3, 3, 3, 3, 7, 8]"
      ]
     },
     "execution_count": 123,
     "metadata": {},
     "output_type": "execute_result"
    }
   ],
   "source": [
    "list2"
   ]
  },
  {
   "cell_type": "code",
   "execution_count": 124,
   "id": "615e23d8",
   "metadata": {},
   "outputs": [],
   "source": [
    "list2.remove(7777)"
   ]
  },
  {
   "cell_type": "code",
   "execution_count": 125,
   "id": "7e25b0db",
   "metadata": {},
   "outputs": [
    {
     "data": {
      "text/plain": [
       "[3, 5, 'asad', 'tariq', 982.0, True, 3, 3, 3, 3, 3, 7, 8]"
      ]
     },
     "execution_count": 125,
     "metadata": {},
     "output_type": "execute_result"
    }
   ],
   "source": [
    "list2"
   ]
  },
  {
   "cell_type": "code",
   "execution_count": 126,
   "id": "7d542d3e",
   "metadata": {},
   "outputs": [
    {
     "data": {
      "text/plain": [
       "[3, 5, 'asad', 982.0, True, 3, 3, 3, 3, 3, 7, 8]"
      ]
     },
     "execution_count": 126,
     "metadata": {},
     "output_type": "execute_result"
    }
   ],
   "source": [
    "list2.remove(list2[3])\n",
    "list2"
   ]
  },
  {
   "cell_type": "code",
   "execution_count": 127,
   "id": "3047f036",
   "metadata": {},
   "outputs": [
    {
     "data": {
      "text/plain": [
       "6"
      ]
     },
     "execution_count": 127,
     "metadata": {},
     "output_type": "execute_result"
    }
   ],
   "source": [
    "list2.count(3)"
   ]
  },
  {
   "cell_type": "code",
   "execution_count": 128,
   "id": "f74b7a20",
   "metadata": {},
   "outputs": [],
   "source": [
    "list3 =[433,22,11,556,666,332432,23423434,345252345433,22,11,556,666,332432,23423434,345252345,3,4,5,6,7,6,5,4,3,2,1]"
   ]
  },
  {
   "cell_type": "code",
   "execution_count": 129,
   "id": "f48dfb88",
   "metadata": {},
   "outputs": [
    {
     "data": {
      "text/plain": [
       "[433,\n",
       " 22,\n",
       " 11,\n",
       " 556,\n",
       " 666,\n",
       " 332432,\n",
       " 23423434,\n",
       " 345252345433,\n",
       " 22,\n",
       " 11,\n",
       " 556,\n",
       " 666,\n",
       " 332432,\n",
       " 23423434,\n",
       " 345252345,\n",
       " 3,\n",
       " 4,\n",
       " 5,\n",
       " 6,\n",
       " 7,\n",
       " 6,\n",
       " 5,\n",
       " 4,\n",
       " 3,\n",
       " 2,\n",
       " 1]"
      ]
     },
     "execution_count": 129,
     "metadata": {},
     "output_type": "execute_result"
    }
   ],
   "source": [
    "list3"
   ]
  },
  {
   "cell_type": "code",
   "execution_count": 130,
   "id": "401d9095",
   "metadata": {},
   "outputs": [],
   "source": [
    "list3.reverse()\n"
   ]
  },
  {
   "cell_type": "code",
   "execution_count": 131,
   "id": "fb2c3826",
   "metadata": {},
   "outputs": [
    {
     "data": {
      "text/plain": [
       "[1,\n",
       " 2,\n",
       " 3,\n",
       " 4,\n",
       " 5,\n",
       " 6,\n",
       " 7,\n",
       " 6,\n",
       " 5,\n",
       " 4,\n",
       " 3,\n",
       " 345252345,\n",
       " 23423434,\n",
       " 332432,\n",
       " 666,\n",
       " 556,\n",
       " 11,\n",
       " 22,\n",
       " 345252345433,\n",
       " 23423434,\n",
       " 332432,\n",
       " 666,\n",
       " 556,\n",
       " 11,\n",
       " 22,\n",
       " 433]"
      ]
     },
     "execution_count": 131,
     "metadata": {},
     "output_type": "execute_result"
    }
   ],
   "source": [
    "list3"
   ]
  },
  {
   "cell_type": "code",
   "execution_count": 136,
   "id": "b49c1344",
   "metadata": {},
   "outputs": [],
   "source": [
    "list3.sort(reverse =True)"
   ]
  },
  {
   "cell_type": "code",
   "execution_count": 137,
   "id": "f25616e2",
   "metadata": {},
   "outputs": [
    {
     "data": {
      "text/plain": [
       "[345252345433,\n",
       " 345252345,\n",
       " 23423434,\n",
       " 23423434,\n",
       " 332432,\n",
       " 332432,\n",
       " 666,\n",
       " 666,\n",
       " 556,\n",
       " 556,\n",
       " 433,\n",
       " 22,\n",
       " 22,\n",
       " 11,\n",
       " 11,\n",
       " 7,\n",
       " 6,\n",
       " 6,\n",
       " 5,\n",
       " 5,\n",
       " 4,\n",
       " 4,\n",
       " 3,\n",
       " 3,\n",
       " 2,\n",
       " 1]"
      ]
     },
     "execution_count": 137,
     "metadata": {},
     "output_type": "execute_result"
    }
   ],
   "source": [
    "list3"
   ]
  },
  {
   "cell_type": "code",
   "execution_count": 143,
   "id": "fa8e5efc",
   "metadata": {},
   "outputs": [
    {
     "data": {
      "text/plain": [
       "([4.98, True, 'python', 2], [3, 5, 'asad', 982.0, True, 3, 3, 3, 3, 3, 7, 8])"
      ]
     },
     "execution_count": 143,
     "metadata": {},
     "output_type": "execute_result"
    }
   ],
   "source": [
    "list1,list2"
   ]
  },
  {
   "cell_type": "code",
   "execution_count": 138,
   "id": "8ad11ded",
   "metadata": {},
   "outputs": [
    {
     "data": {
      "text/plain": [
       "[4.98, True, 'python', 2, 3, 5, 'asad', 982.0, True, 3, 3, 3, 3, 3, 7, 8]"
      ]
     },
     "execution_count": 138,
     "metadata": {},
     "output_type": "execute_result"
    }
   ],
   "source": [
    "list1+list2"
   ]
  },
  {
   "cell_type": "code",
   "execution_count": 144,
   "id": "9789fee4",
   "metadata": {},
   "outputs": [],
   "source": [
    "list4 = [1,3,5,7,9,8,6,4,2,'asad', True]"
   ]
  },
  {
   "cell_type": "code",
   "execution_count": 145,
   "id": "15783a40",
   "metadata": {},
   "outputs": [
    {
     "data": {
      "text/plain": [
       "[1, 3, 5, 7, 9, 8, 6, 4, 2, 'asad', True, 0]"
      ]
     },
     "execution_count": 145,
     "metadata": {},
     "output_type": "execute_result"
    }
   ],
   "source": [
    "list4.append(0)\n",
    "list4"
   ]
  },
  {
   "cell_type": "code",
   "execution_count": 146,
   "id": "a0586678",
   "metadata": {},
   "outputs": [
    {
     "data": {
      "text/plain": [
       "[]"
      ]
     },
     "execution_count": 146,
     "metadata": {},
     "output_type": "execute_result"
    }
   ],
   "source": [
    "list4.clear()\n",
    "list4"
   ]
  },
  {
   "cell_type": "code",
   "execution_count": 147,
   "id": "88de2cca",
   "metadata": {},
   "outputs": [
    {
     "data": {
      "text/plain": [
       "[1, 3, 5, 7, 9, 8, 6, 4, 2, 'asad', True]"
      ]
     },
     "execution_count": 147,
     "metadata": {},
     "output_type": "execute_result"
    }
   ],
   "source": [
    "list4 = [1,3,5,7,9,8,6,4,2,'asad', True]\n",
    "list4"
   ]
  },
  {
   "cell_type": "code",
   "execution_count": 148,
   "id": "9c7cb300",
   "metadata": {},
   "outputs": [
    {
     "data": {
      "text/plain": [
       "[1, 3, 5, 7, 9, 8, 6, 4, 2, 'asad', True]"
      ]
     },
     "execution_count": 148,
     "metadata": {},
     "output_type": "execute_result"
    }
   ],
   "source": [
    "list5 =list4.copy()\n",
    "list5"
   ]
  },
  {
   "cell_type": "code",
   "execution_count": 149,
   "id": "fb9ad799",
   "metadata": {},
   "outputs": [
    {
     "data": {
      "text/plain": [
       "1"
      ]
     },
     "execution_count": 149,
     "metadata": {},
     "output_type": "execute_result"
    }
   ],
   "source": [
    "list4.count(2)\n"
   ]
  },
  {
   "cell_type": "code",
   "execution_count": 150,
   "id": "0b67b954",
   "metadata": {
    "scrolled": true
   },
   "outputs": [
    {
     "data": {
      "text/plain": [
       "[1,\n",
       " 3,\n",
       " 5,\n",
       " 7,\n",
       " 9,\n",
       " 8,\n",
       " 6,\n",
       " 4,\n",
       " 2,\n",
       " 'asad',\n",
       " True,\n",
       " 1,\n",
       " 3,\n",
       " 5,\n",
       " 7,\n",
       " 9,\n",
       " 8,\n",
       " 6,\n",
       " 4,\n",
       " 2,\n",
       " 'asad',\n",
       " True]"
      ]
     },
     "execution_count": 150,
     "metadata": {},
     "output_type": "execute_result"
    }
   ],
   "source": [
    "list4.extend(list5)\n",
    "list4"
   ]
  },
  {
   "cell_type": "code",
   "execution_count": 151,
   "id": "462a9902",
   "metadata": {},
   "outputs": [
    {
     "data": {
      "text/plain": [
       "3"
      ]
     },
     "execution_count": 151,
     "metadata": {},
     "output_type": "execute_result"
    }
   ],
   "source": [
    "list4.index(7)\n"
   ]
  },
  {
   "cell_type": "code",
   "execution_count": 153,
   "id": "0ac266be",
   "metadata": {},
   "outputs": [
    {
     "data": {
      "text/plain": [
       "[33,\n",
       " 33,\n",
       " 1,\n",
       " 3,\n",
       " 5,\n",
       " 7,\n",
       " 9,\n",
       " 8,\n",
       " 6,\n",
       " 4,\n",
       " 2,\n",
       " 'asad',\n",
       " True,\n",
       " 1,\n",
       " 3,\n",
       " 5,\n",
       " 7,\n",
       " 9,\n",
       " 8,\n",
       " 6,\n",
       " 4,\n",
       " 2,\n",
       " 'asad',\n",
       " True]"
      ]
     },
     "execution_count": 153,
     "metadata": {},
     "output_type": "execute_result"
    }
   ],
   "source": [
    "list4.insert(1,33)\n",
    "list4"
   ]
  },
  {
   "cell_type": "code",
   "execution_count": 154,
   "id": "7e9d40f6",
   "metadata": {},
   "outputs": [
    {
     "data": {
      "text/plain": [
       "1"
      ]
     },
     "execution_count": 154,
     "metadata": {},
     "output_type": "execute_result"
    }
   ],
   "source": [
    "list4.pop(2)"
   ]
  },
  {
   "cell_type": "code",
   "execution_count": 155,
   "id": "bf8a5649",
   "metadata": {},
   "outputs": [
    {
     "data": {
      "text/plain": [
       "[33,\n",
       " 33,\n",
       " 3,\n",
       " 5,\n",
       " 7,\n",
       " 9,\n",
       " 8,\n",
       " 6,\n",
       " 4,\n",
       " 2,\n",
       " 'asad',\n",
       " True,\n",
       " 1,\n",
       " 3,\n",
       " 5,\n",
       " 7,\n",
       " 9,\n",
       " 8,\n",
       " 6,\n",
       " 4,\n",
       " 2,\n",
       " 'asad',\n",
       " True]"
      ]
     },
     "execution_count": 155,
     "metadata": {},
     "output_type": "execute_result"
    }
   ],
   "source": [
    "list4"
   ]
  },
  {
   "cell_type": "code",
   "execution_count": 156,
   "id": "f0e957b5",
   "metadata": {},
   "outputs": [
    {
     "data": {
      "text/plain": [
       "'asad'"
      ]
     },
     "execution_count": 156,
     "metadata": {},
     "output_type": "execute_result"
    }
   ],
   "source": [
    "list4.pop(-2)\n"
   ]
  },
  {
   "cell_type": "code",
   "execution_count": 157,
   "id": "3c8fc403",
   "metadata": {},
   "outputs": [
    {
     "data": {
      "text/plain": [
       "[33, 33, 3, 5, 7, 9, 8, 6, 4, 2, 'asad', True, 1, 3, 5, 7, 9, 8, 6, 4, 2, True]"
      ]
     },
     "execution_count": 157,
     "metadata": {},
     "output_type": "execute_result"
    }
   ],
   "source": [
    "list4"
   ]
  },
  {
   "cell_type": "code",
   "execution_count": 158,
   "id": "885f3893",
   "metadata": {},
   "outputs": [
    {
     "data": {
      "text/plain": [
       "[33, 33, 3, 5, 7, 9, 8, 6, 2, 'asad', True, 1, 3, 5, 7, 9, 8, 6, 4, 2, True]"
      ]
     },
     "execution_count": 158,
     "metadata": {},
     "output_type": "execute_result"
    }
   ],
   "source": [
    "list4.remove(4)\n",
    "list4"
   ]
  },
  {
   "cell_type": "code",
   "execution_count": 159,
   "id": "c69f961a",
   "metadata": {},
   "outputs": [
    {
     "data": {
      "text/plain": [
       "[True, 2, 4, 6, 8, 9, 7, 5, 3, 1, True, 'asad', 2, 6, 8, 9, 7, 5, 3, 33, 33]"
      ]
     },
     "execution_count": 159,
     "metadata": {},
     "output_type": "execute_result"
    }
   ],
   "source": [
    "list4.reverse()\n",
    "list4"
   ]
  },
  {
   "cell_type": "code",
   "execution_count": null,
   "id": "96a019e6",
   "metadata": {},
   "outputs": [],
   "source": []
  },
  {
   "cell_type": "markdown",
   "id": "14b498d0",
   "metadata": {},
   "source": [
    "## Dictionaries\n",
    "- unordered collection of elements\n",
    "- key value pair\n",
    "- enlcosed in {}\n",
    "- Mutable"
   ]
  },
  {
   "attachments": {},
   "cell_type": "markdown",
   "id": "afdb4af6",
   "metadata": {},
   "source": [
    "() tuples\n",
    "[] lists\n",
    "{} Dictionaries\n"
   ]
  },
  {
   "cell_type": "code",
   "execution_count": 162,
   "id": "34f4f0d1",
   "metadata": {},
   "outputs": [
    {
     "data": {
      "text/plain": [
       "{'shawarma': 30, 'burger': 100, 'salad': 20, 'sandwich': 60, 'fries': 80}"
      ]
     },
     "execution_count": 162,
     "metadata": {},
     "output_type": "execute_result"
    }
   ],
   "source": [
    "food = {'shawarma':30, 'burger':100, 'salad':20,'sandwich':60, 'fries':80}\n",
    "food"
   ]
  },
  {
   "cell_type": "code",
   "execution_count": 160,
   "id": "793c77b6",
   "metadata": {},
   "outputs": [
    {
     "data": {
      "text/plain": [
       "str"
      ]
     },
     "execution_count": 160,
     "metadata": {},
     "output_type": "execute_result"
    }
   ],
   "source": [
    "type(food)"
   ]
  },
  {
   "cell_type": "code",
   "execution_count": 169,
   "id": "39f98eb1",
   "metadata": {},
   "outputs": [
    {
     "data": {
      "text/plain": [
       "dict_keys(['shawarma', 'burger', 'salad', 'sandwich', 'fries', 'nuggets'])"
      ]
     },
     "execution_count": 169,
     "metadata": {},
     "output_type": "execute_result"
    }
   ],
   "source": [
    "food.keys()"
   ]
  },
  {
   "cell_type": "code",
   "execution_count": 170,
   "id": "23216bd4",
   "metadata": {},
   "outputs": [
    {
     "data": {
      "text/plain": [
       "dict_keys"
      ]
     },
     "execution_count": 170,
     "metadata": {},
     "output_type": "execute_result"
    }
   ],
   "source": [
    "type(food.keys())"
   ]
  },
  {
   "cell_type": "code",
   "execution_count": 164,
   "id": "6b829e44",
   "metadata": {},
   "outputs": [
    {
     "data": {
      "text/plain": [
       "dict_values([30, 100, 20, 60, 80])"
      ]
     },
     "execution_count": 164,
     "metadata": {},
     "output_type": "execute_result"
    }
   ],
   "source": [
    "food.values()"
   ]
  },
  {
   "cell_type": "code",
   "execution_count": 165,
   "id": "a4c53bf6",
   "metadata": {},
   "outputs": [],
   "source": [
    "#adding new element\n",
    "food['nuggets']=15"
   ]
  },
  {
   "cell_type": "code",
   "execution_count": 166,
   "id": "8ce9f420",
   "metadata": {},
   "outputs": [
    {
     "data": {
      "text/plain": [
       "{'shawarma': 30,\n",
       " 'burger': 100,\n",
       " 'salad': 20,\n",
       " 'sandwich': 60,\n",
       " 'fries': 80,\n",
       " 'nuggets': 15}"
      ]
     },
     "execution_count": 166,
     "metadata": {},
     "output_type": "execute_result"
    }
   ],
   "source": [
    "food"
   ]
  },
  {
   "cell_type": "code",
   "execution_count": 171,
   "id": "fb628f6d",
   "metadata": {},
   "outputs": [],
   "source": [
    "food['nuggets']=25"
   ]
  },
  {
   "cell_type": "code",
   "execution_count": 172,
   "id": "c28b8b90",
   "metadata": {},
   "outputs": [
    {
     "data": {
      "text/plain": [
       "{'shawarma': 30,\n",
       " 'burger': 100,\n",
       " 'salad': 20,\n",
       " 'sandwich': 60,\n",
       " 'fries': 80,\n",
       " 'nuggets': 25}"
      ]
     },
     "execution_count": 172,
     "metadata": {},
     "output_type": "execute_result"
    }
   ],
   "source": [
    "food"
   ]
  },
  {
   "cell_type": "code",
   "execution_count": 173,
   "id": "2aa77f55",
   "metadata": {},
   "outputs": [],
   "source": [
    "food2 = {'candy':200, 'choc':75, 'cola':33, 'soda':60}"
   ]
  },
  {
   "cell_type": "code",
   "execution_count": 174,
   "id": "6861a926",
   "metadata": {},
   "outputs": [
    {
     "data": {
      "text/plain": [
       "{'candy': 200, 'choc': 75, 'cola': 33, 'soda': 60}"
      ]
     },
     "execution_count": 174,
     "metadata": {},
     "output_type": "execute_result"
    }
   ],
   "source": [
    "food2"
   ]
  },
  {
   "cell_type": "code",
   "execution_count": 175,
   "id": "a20e6792",
   "metadata": {},
   "outputs": [],
   "source": [
    "food.update(food2)"
   ]
  },
  {
   "cell_type": "code",
   "execution_count": 176,
   "id": "2695e721",
   "metadata": {},
   "outputs": [
    {
     "data": {
      "text/plain": [
       "{'shawarma': 30,\n",
       " 'burger': 100,\n",
       " 'salad': 20,\n",
       " 'sandwich': 60,\n",
       " 'fries': 80,\n",
       " 'nuggets': 25,\n",
       " 'candy': 200,\n",
       " 'choc': 75,\n",
       " 'cola': 33,\n",
       " 'soda': 60}"
      ]
     },
     "execution_count": 176,
     "metadata": {},
     "output_type": "execute_result"
    }
   ],
   "source": [
    "food"
   ]
  },
  {
   "cell_type": "code",
   "execution_count": 177,
   "id": "4850b128",
   "metadata": {},
   "outputs": [
    {
     "data": {
      "text/plain": [
       "33"
      ]
     },
     "execution_count": 177,
     "metadata": {},
     "output_type": "execute_result"
    }
   ],
   "source": [
    "food.pop('cola')"
   ]
  },
  {
   "cell_type": "code",
   "execution_count": 178,
   "id": "a762689e",
   "metadata": {},
   "outputs": [
    {
     "data": {
      "text/plain": [
       "{'shawarma': 30,\n",
       " 'burger': 100,\n",
       " 'salad': 20,\n",
       " 'sandwich': 60,\n",
       " 'fries': 80,\n",
       " 'nuggets': 25,\n",
       " 'candy': 200,\n",
       " 'choc': 75,\n",
       " 'soda': 60}"
      ]
     },
     "execution_count": 178,
     "metadata": {},
     "output_type": "execute_result"
    }
   ],
   "source": [
    "food"
   ]
  },
  {
   "cell_type": "code",
   "execution_count": 179,
   "id": "d58e6f9b",
   "metadata": {},
   "outputs": [
    {
     "data": {
      "text/plain": [
       "{'shawarma': 30,\n",
       " 'burger': 100,\n",
       " 'salad': 20,\n",
       " 'sandwich': 60,\n",
       " 'fries': 80,\n",
       " 'nuggets': 25,\n",
       " 'candy': 200,\n",
       " 'choc': 75,\n",
       " 'soda': 60}"
      ]
     },
     "execution_count": 179,
     "metadata": {},
     "output_type": "execute_result"
    }
   ],
   "source": [
    "food3 =food.copy()\n",
    "food3"
   ]
  },
  {
   "cell_type": "code",
   "execution_count": 180,
   "id": "c27ecf7f",
   "metadata": {},
   "outputs": [
    {
     "name": "stdout",
     "output_type": "stream",
     "text": [
      "{'sprite': 70, 'cola': 70, 'dew': 70}\n"
     ]
    }
   ],
   "source": [
    "x = ('sprite', 'cola', 'dew')\n",
    "y = 70\n",
    "\n",
    "newdict = dict.fromkeys(x, y)\n",
    "\n",
    "\n",
    "print(newdict)"
   ]
  },
  {
   "attachments": {},
   "cell_type": "markdown",
   "id": "2000a2be",
   "metadata": {},
   "source": [
    "get vs pop"
   ]
  },
  {
   "cell_type": "code",
   "execution_count": 181,
   "id": "4253412d",
   "metadata": {},
   "outputs": [
    {
     "data": {
      "text/plain": [
       "20"
      ]
     },
     "execution_count": 181,
     "metadata": {},
     "output_type": "execute_result"
    }
   ],
   "source": [
    "food3.get('salad')"
   ]
  },
  {
   "cell_type": "code",
   "execution_count": 182,
   "id": "4238b96b",
   "metadata": {},
   "outputs": [
    {
     "data": {
      "text/plain": [
       "dict_items([('shawarma', 30), ('burger', 100), ('salad', 20), ('sandwich', 60), ('fries', 80), ('nuggets', 25), ('candy', 200), ('choc', 75), ('soda', 60)])"
      ]
     },
     "execution_count": 182,
     "metadata": {},
     "output_type": "execute_result"
    }
   ],
   "source": [
    "food3.items()"
   ]
  },
  {
   "cell_type": "code",
   "execution_count": 183,
   "id": "dea3980e",
   "metadata": {},
   "outputs": [
    {
     "data": {
      "text/plain": [
       "75"
      ]
     },
     "execution_count": 183,
     "metadata": {},
     "output_type": "execute_result"
    }
   ],
   "source": [
    "food3.pop('choc')"
   ]
  },
  {
   "cell_type": "code",
   "execution_count": 184,
   "id": "fa8508be",
   "metadata": {},
   "outputs": [
    {
     "data": {
      "text/plain": [
       "{'shawarma': 30,\n",
       " 'burger': 100,\n",
       " 'salad': 20,\n",
       " 'sandwich': 60,\n",
       " 'fries': 80,\n",
       " 'nuggets': 25,\n",
       " 'candy': 200,\n",
       " 'soda': 60}"
      ]
     },
     "execution_count": 184,
     "metadata": {},
     "output_type": "execute_result"
    }
   ],
   "source": [
    "food3"
   ]
  },
  {
   "cell_type": "code",
   "execution_count": 187,
   "id": "ab5247b7",
   "metadata": {},
   "outputs": [
    {
     "data": {
      "text/plain": [
       "('nuggets', 25)"
      ]
     },
     "execution_count": 187,
     "metadata": {},
     "output_type": "execute_result"
    }
   ],
   "source": [
    "food3.popitem()"
   ]
  },
  {
   "cell_type": "code",
   "execution_count": 188,
   "id": "a1dc59ed",
   "metadata": {},
   "outputs": [
    {
     "data": {
      "text/plain": [
       "{'shawarma': 30, 'burger': 100, 'salad': 20, 'sandwich': 60, 'fries': 80}"
      ]
     },
     "execution_count": 188,
     "metadata": {},
     "output_type": "execute_result"
    }
   ],
   "source": [
    "food3"
   ]
  },
  {
   "cell_type": "code",
   "execution_count": 189,
   "id": "736e6b38",
   "metadata": {},
   "outputs": [
    {
     "data": {
      "text/plain": [
       "20"
      ]
     },
     "execution_count": 189,
     "metadata": {},
     "output_type": "execute_result"
    }
   ],
   "source": [
    "food3.setdefault('salad')"
   ]
  },
  {
   "cell_type": "code",
   "execution_count": 194,
   "id": "c79bb8f3",
   "metadata": {},
   "outputs": [
    {
     "name": "stdout",
     "output_type": "stream",
     "text": [
      "Bronco\n"
     ]
    }
   ],
   "source": [
    "car = {\n",
    "  \"brand\": \"Ford\",\n",
    "  \"model\": \"Mustang\",\n",
    "  \"year\": 1964\n",
    "}\n",
    "\n",
    "x = car.setdefault(\"model2\", \"Bronco\")\n",
    "\n",
    "print(x)"
   ]
  },
  {
   "cell_type": "code",
   "execution_count": 195,
   "id": "d42d12ca",
   "metadata": {},
   "outputs": [
    {
     "data": {
      "text/plain": [
       "{'brand': 'Ford', 'model': 'Mustang', 'year': 1964, 'model2': 'Bronco'}"
      ]
     },
     "execution_count": 195,
     "metadata": {},
     "output_type": "execute_result"
    }
   ],
   "source": [
    "car"
   ]
  },
  {
   "cell_type": "code",
   "execution_count": 196,
   "id": "de79f723",
   "metadata": {},
   "outputs": [],
   "source": [
    "food3.update(food2)"
   ]
  },
  {
   "cell_type": "code",
   "execution_count": null,
   "id": "6e393a8c",
   "metadata": {},
   "outputs": [],
   "source": []
  },
  {
   "cell_type": "code",
   "execution_count": 197,
   "id": "1be6ab18",
   "metadata": {},
   "outputs": [
    {
     "data": {
      "text/plain": [
       "{'shawarma': 30,\n",
       " 'burger': 100,\n",
       " 'salad': 20,\n",
       " 'sandwich': 60,\n",
       " 'fries': 80,\n",
       " 'candy': 200,\n",
       " 'choc': 75,\n",
       " 'cola': 33,\n",
       " 'soda': 60}"
      ]
     },
     "execution_count": 197,
     "metadata": {},
     "output_type": "execute_result"
    }
   ],
   "source": [
    "food3"
   ]
  },
  {
   "cell_type": "markdown",
   "id": "9292a842",
   "metadata": {},
   "source": [
    "## Sets\n",
    "- enclosed in {}\n",
    "- no duplicates\n",
    "- Unordered and unindexed"
   ]
  },
  {
   "cell_type": "code",
   "execution_count": 198,
   "id": "7670d0aa",
   "metadata": {},
   "outputs": [],
   "source": [
    "s1 = {1,3,5,7, 'asad', 'tariq', 'python', True, 5.33, False}"
   ]
  },
  {
   "cell_type": "code",
   "execution_count": 199,
   "id": "f9c61d8e",
   "metadata": {},
   "outputs": [
    {
     "data": {
      "text/plain": [
       "{1, 3, 5, 5.33, 7, False, 'asad', 'python', 'tariq'}"
      ]
     },
     "execution_count": 199,
     "metadata": {},
     "output_type": "execute_result"
    }
   ],
   "source": [
    "s1"
   ]
  },
  {
   "cell_type": "code",
   "execution_count": 206,
   "id": "30c33d62",
   "metadata": {},
   "outputs": [],
   "source": [
    "s1 = {1,3,5,7, 'asad', 'tariq', 'python', True, 5.33, False,3,3,3,3,3}"
   ]
  },
  {
   "cell_type": "code",
   "execution_count": 201,
   "id": "bd5c6248",
   "metadata": {},
   "outputs": [
    {
     "data": {
      "text/plain": [
       "{1, 3, 5, 5.33, 7, False, 'asad', 'python', 'tariq'}"
      ]
     },
     "execution_count": 201,
     "metadata": {},
     "output_type": "execute_result"
    }
   ],
   "source": [
    "s1"
   ]
  },
  {
   "cell_type": "code",
   "execution_count": 202,
   "id": "8412a667",
   "metadata": {},
   "outputs": [],
   "source": [
    "s1.add('sets')"
   ]
  },
  {
   "cell_type": "code",
   "execution_count": 203,
   "id": "c7a51606",
   "metadata": {},
   "outputs": [
    {
     "data": {
      "text/plain": [
       "{1, 3, 5, 5.33, 7, False, 'asad', 'python', 'sets', 'tariq'}"
      ]
     },
     "execution_count": 203,
     "metadata": {},
     "output_type": "execute_result"
    }
   ],
   "source": [
    "s1"
   ]
  },
  {
   "cell_type": "code",
   "execution_count": 207,
   "id": "f5965bf9",
   "metadata": {},
   "outputs": [],
   "source": [
    "s1.remove(False)"
   ]
  },
  {
   "cell_type": "code",
   "execution_count": 208,
   "id": "48d6e65e",
   "metadata": {},
   "outputs": [
    {
     "data": {
      "text/plain": [
       "{1, 3, 5, 5.33, 7, 'asad', 'python', 'tariq'}"
      ]
     },
     "execution_count": 208,
     "metadata": {},
     "output_type": "execute_result"
    }
   ],
   "source": [
    "s1"
   ]
  },
  {
   "cell_type": "code",
   "execution_count": 209,
   "id": "225d67b7",
   "metadata": {},
   "outputs": [],
   "source": [
    "s2 = {2,3,5,7,11,13,17,19}\n"
   ]
  },
  {
   "cell_type": "code",
   "execution_count": 210,
   "id": "4e385a8b",
   "metadata": {},
   "outputs": [],
   "source": [
    "s1.add(100)"
   ]
  },
  {
   "cell_type": "code",
   "execution_count": 218,
   "id": "74d45e55",
   "metadata": {},
   "outputs": [],
   "source": [
    "s1.add(-300)"
   ]
  },
  {
   "cell_type": "code",
   "execution_count": 219,
   "id": "885f145b",
   "metadata": {},
   "outputs": [
    {
     "data": {
      "text/plain": [
       "{-3, -30, -300, 1, 100, 3, 5, 5.33, 7, 'asad', 'python', 'tariq'}"
      ]
     },
     "execution_count": 219,
     "metadata": {},
     "output_type": "execute_result"
    }
   ],
   "source": [
    "s1"
   ]
  },
  {
   "cell_type": "code",
   "execution_count": 212,
   "id": "4b8b2362",
   "metadata": {},
   "outputs": [],
   "source": [
    "s3 =s1.copy()"
   ]
  },
  {
   "cell_type": "code",
   "execution_count": 213,
   "id": "45b4697e",
   "metadata": {},
   "outputs": [
    {
     "data": {
      "text/plain": [
       "{1, 100, 3, 5, 5.33, 7, 'asad', 'python', 'tariq'}"
      ]
     },
     "execution_count": 213,
     "metadata": {},
     "output_type": "execute_result"
    }
   ],
   "source": [
    "s3"
   ]
  },
  {
   "cell_type": "code",
   "execution_count": 220,
   "id": "5cdce255",
   "metadata": {},
   "outputs": [
    {
     "data": {
      "text/plain": [
       "set()"
      ]
     },
     "execution_count": 220,
     "metadata": {},
     "output_type": "execute_result"
    }
   ],
   "source": [
    "s3.clear()\n",
    "s3"
   ]
  },
  {
   "attachments": {},
   "cell_type": "markdown",
   "id": "55235748",
   "metadata": {},
   "source": [
    "s1-s2"
   ]
  },
  {
   "cell_type": "code",
   "execution_count": 221,
   "id": "6d0bb4e7",
   "metadata": {},
   "outputs": [
    {
     "data": {
      "text/plain": [
       "{-3, -30, -300, 1, 100, 5.33, 'asad', 'python', 'tariq'}"
      ]
     },
     "execution_count": 221,
     "metadata": {},
     "output_type": "execute_result"
    }
   ],
   "source": [
    "s1.difference(s2)"
   ]
  },
  {
   "cell_type": "code",
   "execution_count": 222,
   "id": "21facf29",
   "metadata": {},
   "outputs": [
    {
     "data": {
      "text/plain": [
       "{-3, -30, -300, 1, 100, 5.33, 'asad', 'python', 'tariq'}"
      ]
     },
     "execution_count": 222,
     "metadata": {},
     "output_type": "execute_result"
    }
   ],
   "source": [
    "s1.difference_update(s2)\n",
    "s1"
   ]
  },
  {
   "cell_type": "code",
   "execution_count": 223,
   "id": "d4f07feb",
   "metadata": {},
   "outputs": [
    {
     "data": {
      "text/plain": [
       "{-3, -30, -300, 1, 5.33, 'asad', 'python', 'tariq'}"
      ]
     },
     "execution_count": 223,
     "metadata": {},
     "output_type": "execute_result"
    }
   ],
   "source": [
    "s1.discard(100)\n",
    "s1"
   ]
  },
  {
   "cell_type": "code",
   "execution_count": 224,
   "id": "52e7dc25",
   "metadata": {},
   "outputs": [],
   "source": [
    "s1.add(2)\n",
    "s1.add(3)\n",
    "s1.add(4)\n",
    "s1.add(5)"
   ]
  },
  {
   "cell_type": "code",
   "execution_count": 225,
   "id": "a360b350",
   "metadata": {},
   "outputs": [
    {
     "data": {
      "text/plain": [
       "{2, 3, 5}"
      ]
     },
     "execution_count": 225,
     "metadata": {},
     "output_type": "execute_result"
    }
   ],
   "source": [
    "s1.intersection(s2)"
   ]
  },
  {
   "cell_type": "code",
   "execution_count": 226,
   "id": "6e883807",
   "metadata": {},
   "outputs": [],
   "source": [
    "s1.intersection_update(s2)"
   ]
  },
  {
   "cell_type": "code",
   "execution_count": 227,
   "id": "5a234dfb",
   "metadata": {},
   "outputs": [
    {
     "data": {
      "text/plain": [
       "{2, 3, 5}"
      ]
     },
     "execution_count": 227,
     "metadata": {},
     "output_type": "execute_result"
    }
   ],
   "source": [
    "s1"
   ]
  },
  {
   "cell_type": "code",
   "execution_count": 228,
   "id": "aaf56916",
   "metadata": {},
   "outputs": [],
   "source": [
    "s1= {1,3,5,7, 'asad', 'tariq', 'python', True, 5.33, False}"
   ]
  },
  {
   "cell_type": "code",
   "execution_count": 230,
   "id": "bcfedff3",
   "metadata": {},
   "outputs": [
    {
     "data": {
      "text/plain": [
       "{1, 3, 5, 5.33, 7, False, 'asad', 'python', 'tariq'}"
      ]
     },
     "execution_count": 230,
     "metadata": {},
     "output_type": "execute_result"
    }
   ],
   "source": [
    "s1"
   ]
  },
  {
   "cell_type": "code",
   "execution_count": 231,
   "id": "aa2a451c",
   "metadata": {},
   "outputs": [
    {
     "data": {
      "text/plain": [
       "{2, 3, 5, 7, 11, 13, 17, 19}"
      ]
     },
     "execution_count": 231,
     "metadata": {},
     "output_type": "execute_result"
    }
   ],
   "source": [
    "s2"
   ]
  },
  {
   "cell_type": "code",
   "execution_count": 240,
   "id": "ac32f26e",
   "metadata": {},
   "outputs": [],
   "source": [
    "s3= {'l','s'}"
   ]
  },
  {
   "cell_type": "code",
   "execution_count": 229,
   "id": "98ca2e68",
   "metadata": {},
   "outputs": [
    {
     "data": {
      "text/plain": [
       "False"
      ]
     },
     "execution_count": 229,
     "metadata": {},
     "output_type": "execute_result"
    }
   ],
   "source": [
    "s1.isdisjoint(s2)"
   ]
  },
  {
   "cell_type": "code",
   "execution_count": 233,
   "id": "7a6dbf1d",
   "metadata": {},
   "outputs": [
    {
     "data": {
      "text/plain": [
       "True"
      ]
     },
     "execution_count": 233,
     "metadata": {},
     "output_type": "execute_result"
    }
   ],
   "source": [
    "s1.isdisjoint(s3)"
   ]
  },
  {
   "cell_type": "code",
   "execution_count": 236,
   "id": "19448075",
   "metadata": {},
   "outputs": [
    {
     "data": {
      "text/plain": [
       "{1, 3, 5, 5.33, 7, False, 'asad', 'python', 'tariq'}"
      ]
     },
     "execution_count": 236,
     "metadata": {},
     "output_type": "execute_result"
    }
   ],
   "source": [
    "s1\n"
   ]
  },
  {
   "cell_type": "code",
   "execution_count": 237,
   "id": "7eca1bc4",
   "metadata": {},
   "outputs": [
    {
     "data": {
      "text/plain": [
       "{2, 3, 5, 7, 11, 13, 17, 19}"
      ]
     },
     "execution_count": 237,
     "metadata": {},
     "output_type": "execute_result"
    }
   ],
   "source": [
    "s2"
   ]
  },
  {
   "cell_type": "code",
   "execution_count": 241,
   "id": "de6f632e",
   "metadata": {},
   "outputs": [
    {
     "data": {
      "text/plain": [
       "{'l', 's'}"
      ]
     },
     "execution_count": 241,
     "metadata": {},
     "output_type": "execute_result"
    }
   ],
   "source": [
    "s3"
   ]
  },
  {
   "cell_type": "code",
   "execution_count": 242,
   "id": "eb223a4f",
   "metadata": {},
   "outputs": [],
   "source": [
    "s3.add(3)"
   ]
  },
  {
   "cell_type": "code",
   "execution_count": 243,
   "id": "8b12be7b",
   "metadata": {},
   "outputs": [],
   "source": [
    "s3.add(5)"
   ]
  },
  {
   "cell_type": "code",
   "execution_count": 244,
   "id": "f14f1bd3",
   "metadata": {},
   "outputs": [
    {
     "data": {
      "text/plain": [
       "{3, 5, 'l', 's'}"
      ]
     },
     "execution_count": 244,
     "metadata": {},
     "output_type": "execute_result"
    }
   ],
   "source": [
    "s3"
   ]
  },
  {
   "cell_type": "code",
   "execution_count": 245,
   "id": "5fca5ca6",
   "metadata": {},
   "outputs": [
    {
     "data": {
      "text/plain": [
       "False"
      ]
     },
     "execution_count": 245,
     "metadata": {},
     "output_type": "execute_result"
    }
   ],
   "source": [
    "s3.issubset(s1)"
   ]
  },
  {
   "cell_type": "code",
   "execution_count": 246,
   "id": "891ef340",
   "metadata": {},
   "outputs": [
    {
     "data": {
      "text/plain": [
       "False"
      ]
     },
     "execution_count": 246,
     "metadata": {},
     "output_type": "execute_result"
    }
   ],
   "source": [
    "s1.issuperset(s3)"
   ]
  },
  {
   "cell_type": "code",
   "execution_count": 247,
   "id": "ea9e820d",
   "metadata": {},
   "outputs": [
    {
     "data": {
      "text/plain": [
       "False"
      ]
     },
     "execution_count": 247,
     "metadata": {},
     "output_type": "execute_result"
    }
   ],
   "source": [
    "s1.pop()"
   ]
  },
  {
   "cell_type": "code",
   "execution_count": 248,
   "id": "49828017",
   "metadata": {},
   "outputs": [
    {
     "data": {
      "text/plain": [
       "{1, 5, 5.33, 7, 'asad', 'python', 'tariq'}"
      ]
     },
     "execution_count": 248,
     "metadata": {},
     "output_type": "execute_result"
    }
   ],
   "source": [
    "s1.remove(3)\n",
    "s1"
   ]
  },
  {
   "cell_type": "code",
   "execution_count": 249,
   "id": "a0f3b64f",
   "metadata": {},
   "outputs": [
    {
     "data": {
      "text/plain": [
       "{1, 11, 13, 17, 19, 2, 3, 5, 5.33, 7, 'asad', 'python', 'tariq'}"
      ]
     },
     "execution_count": 249,
     "metadata": {},
     "output_type": "execute_result"
    }
   ],
   "source": [
    "s1.union(s2)\n"
   ]
  }
 ],
 "metadata": {
  "kernelspec": {
   "display_name": "Python 3",
   "language": "python",
   "name": "python3"
  },
  "language_info": {
   "codemirror_mode": {
    "name": "ipython",
    "version": 3
   },
   "file_extension": ".py",
   "mimetype": "text/x-python",
   "name": "python",
   "nbconvert_exporter": "python",
   "pygments_lexer": "ipython3",
   "version": "3.9.15"
  },
  "toc": {
   "base_numbering": 1,
   "nav_menu": {},
   "number_sections": false,
   "sideBar": true,
   "skip_h1_title": false,
   "title_cell": "Table of Contents",
   "title_sidebar": "Contents",
   "toc_cell": false,
   "toc_position": {},
   "toc_section_display": true,
   "toc_window_display": true
  },
  "vscode": {
   "interpreter": {
    "hash": "397704579725e15f5c7cb49fe5f0341eb7531c82d19f2c29d197e8b64ab5776b"
   }
  }
 },
 "nbformat": 4,
 "nbformat_minor": 5
}
