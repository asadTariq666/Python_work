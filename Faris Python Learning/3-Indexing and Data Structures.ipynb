{
 "cells": [
  {
   "cell_type": "markdown",
   "id": "3dabba3e",
   "metadata": {},
   "source": [
    "# 01 Indexing"
   ]
  },
  {
   "cell_type": "code",
   "execution_count": 2,
   "id": "8ffce8f3",
   "metadata": {},
   "outputs": [],
   "source": [
    "a = 'samosa pakora'"
   ]
  },
  {
   "cell_type": "code",
   "execution_count": 3,
   "id": "9e7a29af",
   "metadata": {},
   "outputs": [
    {
     "data": {
      "text/plain": [
       "'samosa pakora'"
      ]
     },
     "execution_count": 3,
     "metadata": {},
     "output_type": "execute_result"
    }
   ],
   "source": [
    "a"
   ]
  },
  {
   "cell_type": "code",
   "execution_count": 4,
   "id": "551f4d4b",
   "metadata": {},
   "outputs": [
    {
     "data": {
      "text/plain": [
       "'a'"
      ]
     },
     "execution_count": 4,
     "metadata": {},
     "output_type": "execute_result"
    }
   ],
   "source": [
    "a[5]"
   ]
  },
  {
   "cell_type": "code",
   "execution_count": 6,
   "id": "07cb695e",
   "metadata": {},
   "outputs": [
    {
     "data": {
      "text/plain": [
       "'s'"
      ]
     },
     "execution_count": 6,
     "metadata": {},
     "output_type": "execute_result"
    }
   ],
   "source": [
    "a[0]"
   ]
  },
  {
   "cell_type": "code",
   "execution_count": 7,
   "id": "bf2c49e4",
   "metadata": {},
   "outputs": [
    {
     "data": {
      "text/plain": [
       "'r'"
      ]
     },
     "execution_count": 7,
     "metadata": {},
     "output_type": "execute_result"
    }
   ],
   "source": [
    "a[-2]"
   ]
  },
  {
   "cell_type": "code",
   "execution_count": 8,
   "id": "3c1bcdb8",
   "metadata": {},
   "outputs": [
    {
     "data": {
      "text/plain": [
       "13"
      ]
     },
     "execution_count": 8,
     "metadata": {},
     "output_type": "execute_result"
    }
   ],
   "source": [
    "len(a)"
   ]
  },
  {
   "cell_type": "code",
   "execution_count": 16,
   "id": "dc29585a",
   "metadata": {},
   "outputs": [
    {
     "data": {
      "text/plain": [
       "'a'"
      ]
     },
     "execution_count": 16,
     "metadata": {},
     "output_type": "execute_result"
    }
   ],
   "source": [
    "a[12]"
   ]
  },
  {
   "cell_type": "code",
   "execution_count": 9,
   "id": "44d7ba86",
   "metadata": {},
   "outputs": [
    {
     "data": {
      "text/plain": [
       "'a'"
      ]
     },
     "execution_count": 9,
     "metadata": {},
     "output_type": "execute_result"
    }
   ],
   "source": [
    "a[-1]"
   ]
  },
  {
   "cell_type": "code",
   "execution_count": 15,
   "id": "eb01f4c2",
   "metadata": {},
   "outputs": [
    {
     "name": "stdout",
     "output_type": "stream",
     "text": [
      "true\n"
     ]
    }
   ],
   "source": [
    "if a[12]==a[-1]:\n",
    "   print('true')"
   ]
  },
  {
   "cell_type": "code",
   "execution_count": 13,
   "id": "8bf7f4ad",
   "metadata": {},
   "outputs": [
    {
     "data": {
      "text/plain": [
       "' pakora'"
      ]
     },
     "execution_count": 13,
     "metadata": {},
     "output_type": "execute_result"
    }
   ],
   "source": [
    "a[6:13]"
   ]
  },
  {
   "cell_type": "code",
   "execution_count": 17,
   "id": "18678548",
   "metadata": {},
   "outputs": [
    {
     "data": {
      "text/plain": [
       "'samosa pakora'"
      ]
     },
     "execution_count": 17,
     "metadata": {},
     "output_type": "execute_result"
    }
   ],
   "source": [
    "a[0:13]"
   ]
  },
  {
   "cell_type": "code",
   "execution_count": 18,
   "id": "73e5880d",
   "metadata": {},
   "outputs": [
    {
     "data": {
      "text/plain": [
       "'pakor'"
      ]
     },
     "execution_count": 18,
     "metadata": {},
     "output_type": "execute_result"
    }
   ],
   "source": [
    "a[-6:-1]"
   ]
  },
  {
   "cell_type": "code",
   "execution_count": 19,
   "id": "b6ddc0e6",
   "metadata": {},
   "outputs": [
    {
     "data": {
      "text/plain": [
       "'pakora'"
      ]
     },
     "execution_count": 19,
     "metadata": {},
     "output_type": "execute_result"
    }
   ],
   "source": [
    "a[-6:]"
   ]
  },
  {
   "cell_type": "code",
   "execution_count": 20,
   "id": "42daf2ff",
   "metadata": {},
   "outputs": [
    {
     "data": {
      "text/plain": [
       "'biryani'"
      ]
     },
     "execution_count": 20,
     "metadata": {},
     "output_type": "execute_result"
    }
   ],
   "source": [
    "food ='biryani'\n",
    "food"
   ]
  },
  {
   "cell_type": "markdown",
   "id": "b5f4fe9f",
   "metadata": {},
   "source": [
    "# 02 String Methods"
   ]
  },
  {
   "cell_type": "code",
   "execution_count": 21,
   "id": "dfd72c8f",
   "metadata": {},
   "outputs": [
    {
     "data": {
      "text/plain": [
       "7"
      ]
     },
     "execution_count": 21,
     "metadata": {},
     "output_type": "execute_result"
    }
   ],
   "source": [
    "len(food)"
   ]
  },
  {
   "cell_type": "code",
   "execution_count": 22,
   "id": "340f1bbf",
   "metadata": {},
   "outputs": [
    {
     "data": {
      "text/plain": [
       "'Biryani'"
      ]
     },
     "execution_count": 22,
     "metadata": {},
     "output_type": "execute_result"
    }
   ],
   "source": [
    "food.capitalize()\n"
   ]
  },
  {
   "cell_type": "code",
   "execution_count": 23,
   "id": "91d96b11",
   "metadata": {},
   "outputs": [
    {
     "data": {
      "text/plain": [
       "'biryani'"
      ]
     },
     "execution_count": 23,
     "metadata": {},
     "output_type": "execute_result"
    }
   ],
   "source": [
    "food.lower()"
   ]
  },
  {
   "cell_type": "code",
   "execution_count": 25,
   "id": "3801a581",
   "metadata": {},
   "outputs": [
    {
     "data": {
      "text/plain": [
       "'biryani'"
      ]
     },
     "execution_count": 25,
     "metadata": {},
     "output_type": "execute_result"
    }
   ],
   "source": [
    "food.casefold()"
   ]
  },
  {
   "cell_type": "code",
   "execution_count": 27,
   "id": "6037aa2a",
   "metadata": {},
   "outputs": [],
   "source": [
    "food= food.upper()"
   ]
  },
  {
   "cell_type": "code",
   "execution_count": 31,
   "id": "1a338ded",
   "metadata": {},
   "outputs": [
    {
     "name": "stdout",
     "output_type": "stream",
     "text": [
      "BIRYANI\n"
     ]
    },
    {
     "data": {
      "text/plain": [
       "'biryani'"
      ]
     },
     "execution_count": 31,
     "metadata": {},
     "output_type": "execute_result"
    }
   ],
   "source": [
    "print(food)\n",
    "food= food.casefold()\n",
    "food"
   ]
  },
  {
   "cell_type": "code",
   "execution_count": 32,
   "id": "7f871615",
   "metadata": {},
   "outputs": [
    {
     "data": {
      "text/plain": [
       "'BIRyani'"
      ]
     },
     "execution_count": 32,
     "metadata": {},
     "output_type": "execute_result"
    }
   ],
   "source": [
    "food.replace('bir','BIR')"
   ]
  },
  {
   "cell_type": "code",
   "execution_count": 33,
   "id": "aca4fc29",
   "metadata": {},
   "outputs": [
    {
     "data": {
      "text/plain": [
       "2"
      ]
     },
     "execution_count": 33,
     "metadata": {},
     "output_type": "execute_result"
    }
   ],
   "source": [
    "food.count('i')"
   ]
  },
  {
   "cell_type": "code",
   "execution_count": 37,
   "id": "6c24efb1",
   "metadata": {},
   "outputs": [
    {
     "data": {
      "text/plain": [
       "'This course will revolve around the basic concepts of using Python for Data Science in Urdu and Hindi language. The target audience for this course in Pakistani National working in data Science or the beginners who want to learn this complete course via registration process. You can register any time with the following link: https://forms.gle/cS4KCZ6veQ1LtpFB8 only if you are interested in this 40 days long course (python_ka_chilla with baba_aammar.More about me: I am Dr Aammar Tufail, your instructor in Python_ka_chilla. My aim is to train people in Data Science, machine learning, artificial intelligence, and deep learning by the end of the year (2021.)'"
      ]
     },
     "execution_count": 37,
     "metadata": {},
     "output_type": "execute_result"
    }
   ],
   "source": [
    "description = \"This course will revolve around the basic concepts of using Python for Data Science in Urdu and Hindi language. The target audience for this course in Pakistani National working in data Science or the beginners who want to learn this complete course via registration process. You can register any time with the following link: https://forms.gle/cS4KCZ6veQ1LtpFB8 only if you are interested in this 40 days long course (python_ka_chilla with baba_aammar.More about me: I am Dr Aammar Tufail, your instructor in Python_ka_chilla. My aim is to train people in Data Science, machine learning, artificial intelligence, and deep learning by the end of the year (2021.)\"\n",
    "\n",
    "description"
   ]
  },
  {
   "cell_type": "code",
   "execution_count": 41,
   "id": "ba44473e",
   "metadata": {},
   "outputs": [
    {
     "data": {
      "text/plain": [
       "32"
      ]
     },
     "execution_count": 41,
     "metadata": {},
     "output_type": "execute_result"
    }
   ],
   "source": [
    "description.find('the')"
   ]
  },
  {
   "cell_type": "code",
   "execution_count": 44,
   "id": "4ab284c1",
   "metadata": {},
   "outputs": [
    {
     "data": {
      "text/plain": [
       "2"
      ]
     },
     "execution_count": 44,
     "metadata": {},
     "output_type": "execute_result"
    }
   ],
   "source": [
    "description.count('chilla')"
   ]
  },
  {
   "cell_type": "code",
   "execution_count": 45,
   "id": "9372fd42",
   "metadata": {},
   "outputs": [],
   "source": [
    "b= 'i love cricket, football, basketball, tennis and racing'"
   ]
  },
  {
   "cell_type": "code",
   "execution_count": 46,
   "id": "8038eef8",
   "metadata": {},
   "outputs": [
    {
     "data": {
      "text/plain": [
       "'i love cricket, football, basketball, tennis and racing'"
      ]
     },
     "execution_count": 46,
     "metadata": {},
     "output_type": "execute_result"
    }
   ],
   "source": [
    "b"
   ]
  },
  {
   "cell_type": "code",
   "execution_count": 47,
   "id": "e72e9054",
   "metadata": {},
   "outputs": [
    {
     "data": {
      "text/plain": [
       "['i love cricket', ' football', ' basketball', ' tennis and racing']"
      ]
     },
     "execution_count": 47,
     "metadata": {},
     "output_type": "execute_result"
    }
   ],
   "source": [
    "b.split(',')"
   ]
  },
  {
   "cell_type": "markdown",
   "id": "5818a626",
   "metadata": {},
   "source": [
    "\n",
    "\n",
    "# Basic Data Structures\n",
    "\n",
    "\n",
    "## 1- Tuple\n",
    "## 2- List\n",
    "## 3- Dictionaries\n",
    "## 4- Sets\n"
   ]
  },
  {
   "cell_type": "markdown",
   "id": "62c43847",
   "metadata": {},
   "source": [
    "## Tuple\n",
    "- 1- enclosed in ()\n",
    "- 2- Unmutable\n",
    "- 3- Can have different type of elements\n"
   ]
  },
  {
   "cell_type": "code",
   "execution_count": 48,
   "id": "180db93c",
   "metadata": {},
   "outputs": [],
   "source": [
    "tup1 = (1,'python',True, 4.98)"
   ]
  },
  {
   "cell_type": "code",
   "execution_count": 51,
   "id": "5c80b54a",
   "metadata": {},
   "outputs": [
    {
     "data": {
      "text/plain": [
       "tuple"
      ]
     },
     "execution_count": 51,
     "metadata": {},
     "output_type": "execute_result"
    }
   ],
   "source": [
    "type(tup1)"
   ]
  },
  {
   "cell_type": "code",
   "execution_count": 52,
   "id": "0bfd163f",
   "metadata": {},
   "outputs": [
    {
     "data": {
      "text/plain": [
       "'python'"
      ]
     },
     "execution_count": 52,
     "metadata": {},
     "output_type": "execute_result"
    }
   ],
   "source": [
    "tup1[1]"
   ]
  },
  {
   "cell_type": "code",
   "execution_count": 53,
   "id": "8ad6091f",
   "metadata": {},
   "outputs": [
    {
     "data": {
      "text/plain": [
       "1"
      ]
     },
     "execution_count": 53,
     "metadata": {},
     "output_type": "execute_result"
    }
   ],
   "source": [
    "tup1[0]"
   ]
  },
  {
   "cell_type": "code",
   "execution_count": 55,
   "id": "04a8fc60",
   "metadata": {},
   "outputs": [
    {
     "data": {
      "text/plain": [
       "(1, 'python', True)"
      ]
     },
     "execution_count": 55,
     "metadata": {},
     "output_type": "execute_result"
    }
   ],
   "source": [
    "tup1[:3]"
   ]
  },
  {
   "cell_type": "code",
   "execution_count": 56,
   "id": "bf122a47",
   "metadata": {},
   "outputs": [
    {
     "data": {
      "text/plain": [
       "4"
      ]
     },
     "execution_count": 56,
     "metadata": {},
     "output_type": "execute_result"
    }
   ],
   "source": [
    "len(tup1)"
   ]
  },
  {
   "cell_type": "code",
   "execution_count": 57,
   "id": "da0920a2",
   "metadata": {},
   "outputs": [],
   "source": [
    "tup2 = (2,False,'hala Madrid', 3.14)"
   ]
  },
  {
   "cell_type": "code",
   "execution_count": 58,
   "id": "1eb29fa2",
   "metadata": {},
   "outputs": [
    {
     "data": {
      "text/plain": [
       "(1, 'python', True, 4.98, 2, False, 'hala Madrid', 3.14)"
      ]
     },
     "execution_count": 58,
     "metadata": {},
     "output_type": "execute_result"
    }
   ],
   "source": [
    "tup1+tup2"
   ]
  },
  {
   "cell_type": "code",
   "execution_count": 62,
   "id": "9b034eea",
   "metadata": {},
   "outputs": [
    {
     "data": {
      "text/plain": [
       "(1,\n",
       " 'python',\n",
       " True,\n",
       " 4.98,\n",
       " 1,\n",
       " 'python',\n",
       " True,\n",
       " 4.98,\n",
       " 2,\n",
       " False,\n",
       " 'hala Madrid',\n",
       " 3.14)"
      ]
     },
     "execution_count": 62,
     "metadata": {},
     "output_type": "execute_result"
    }
   ],
   "source": [
    "tup1*2 + tup2"
   ]
  },
  {
   "cell_type": "code",
   "execution_count": 63,
   "id": "51132790",
   "metadata": {},
   "outputs": [],
   "source": [
    "tup3 =(433,22,11,556,666,332432,23423434,345252345)\n"
   ]
  },
  {
   "cell_type": "code",
   "execution_count": 65,
   "id": "3f7d852d",
   "metadata": {},
   "outputs": [
    {
     "data": {
      "text/plain": [
       "345252345"
      ]
     },
     "execution_count": 65,
     "metadata": {},
     "output_type": "execute_result"
    }
   ],
   "source": [
    "max(tup3)"
   ]
  },
  {
   "cell_type": "code",
   "execution_count": 67,
   "id": "72538ce0",
   "metadata": {},
   "outputs": [
    {
     "data": {
      "text/plain": [
       "11"
      ]
     },
     "execution_count": 67,
     "metadata": {},
     "output_type": "execute_result"
    }
   ],
   "source": [
    "min(tup3)"
   ]
  },
  {
   "cell_type": "code",
   "execution_count": 149,
   "id": "5ce78349",
   "metadata": {},
   "outputs": [
    {
     "data": {
      "text/plain": [
       "1"
      ]
     },
     "execution_count": 149,
     "metadata": {},
     "output_type": "execute_result"
    }
   ],
   "source": [
    "tup3.count(666)"
   ]
  },
  {
   "cell_type": "code",
   "execution_count": 152,
   "id": "00369944",
   "metadata": {},
   "outputs": [
    {
     "data": {
      "text/plain": [
       "4"
      ]
     },
     "execution_count": 152,
     "metadata": {},
     "output_type": "execute_result"
    }
   ],
   "source": [
    "tup3.index(666)"
   ]
  },
  {
   "cell_type": "markdown",
   "id": "e6359831",
   "metadata": {},
   "source": [
    "##  Lists\n",
    "- Ordered collection of elements\n",
    "- Enclosed in [] Brackets\n",
    "- Mutable"
   ]
  },
  {
   "cell_type": "code",
   "execution_count": 68,
   "id": "fac2ef9a",
   "metadata": {},
   "outputs": [
    {
     "data": {
      "text/plain": [
       "[1, 'python', True, 4.98]"
      ]
     },
     "execution_count": 68,
     "metadata": {},
     "output_type": "execute_result"
    }
   ],
   "source": [
    "list1 =[1,'python',True, 4.98]\n",
    "list1"
   ]
  },
  {
   "cell_type": "code",
   "execution_count": 69,
   "id": "8f4cc8f5",
   "metadata": {},
   "outputs": [
    {
     "data": {
      "text/plain": [
       "list"
      ]
     },
     "execution_count": 69,
     "metadata": {},
     "output_type": "execute_result"
    }
   ],
   "source": [
    "type(list1)"
   ]
  },
  {
   "cell_type": "code",
   "execution_count": 70,
   "id": "0b2159ea",
   "metadata": {},
   "outputs": [
    {
     "data": {
      "text/plain": [
       "4"
      ]
     },
     "execution_count": 70,
     "metadata": {},
     "output_type": "execute_result"
    }
   ],
   "source": [
    "len(list1)"
   ]
  },
  {
   "cell_type": "code",
   "execution_count": 72,
   "id": "8b925132",
   "metadata": {},
   "outputs": [
    {
     "data": {
      "text/plain": [
       "'python'"
      ]
     },
     "execution_count": 72,
     "metadata": {},
     "output_type": "execute_result"
    }
   ],
   "source": [
    "list1[1]"
   ]
  },
  {
   "cell_type": "code",
   "execution_count": 73,
   "id": "22b1167b",
   "metadata": {},
   "outputs": [
    {
     "data": {
      "text/plain": [
       "['python', True, 4.98]"
      ]
     },
     "execution_count": 73,
     "metadata": {},
     "output_type": "execute_result"
    }
   ],
   "source": [
    "list1[1:]"
   ]
  },
  {
   "cell_type": "code",
   "execution_count": 86,
   "id": "560c7209",
   "metadata": {},
   "outputs": [],
   "source": [
    "list2 = [3,5,'asad', 'tariq',7777,982., True,3,3,3,3,3,7,8]"
   ]
  },
  {
   "cell_type": "code",
   "execution_count": 87,
   "id": "75a4ad01",
   "metadata": {},
   "outputs": [
    {
     "data": {
      "text/plain": [
       "[3, 5, 'asad', 'tariq', 7777, 982.0, True, 3, 3, 3, 3, 3, 7, 8]"
      ]
     },
     "execution_count": 87,
     "metadata": {},
     "output_type": "execute_result"
    }
   ],
   "source": [
    "list2"
   ]
  },
  {
   "cell_type": "code",
   "execution_count": 88,
   "id": "51bd60e3",
   "metadata": {},
   "outputs": [
    {
     "data": {
      "text/plain": [
       "[4.98,\n",
       " True,\n",
       " 'python',\n",
       " 1,\n",
       " 3,\n",
       " 5,\n",
       " 'asad',\n",
       " 'tariq',\n",
       " 7777,\n",
       " 982.0,\n",
       " True,\n",
       " 3,\n",
       " 3,\n",
       " 3,\n",
       " 3,\n",
       " 3,\n",
       " 7,\n",
       " 8]"
      ]
     },
     "execution_count": 88,
     "metadata": {},
     "output_type": "execute_result"
    }
   ],
   "source": [
    "list1+list2"
   ]
  },
  {
   "cell_type": "code",
   "execution_count": 89,
   "id": "234c9a7d",
   "metadata": {},
   "outputs": [
    {
     "data": {
      "text/plain": [
       "5"
      ]
     },
     "execution_count": 89,
     "metadata": {},
     "output_type": "execute_result"
    }
   ],
   "source": [
    "list1[3]*list2[1]"
   ]
  },
  {
   "cell_type": "code",
   "execution_count": 90,
   "id": "2c02094f",
   "metadata": {},
   "outputs": [
    {
     "data": {
      "text/plain": [
       "[1, 'python', True, 4.98]"
      ]
     },
     "execution_count": 90,
     "metadata": {},
     "output_type": "execute_result"
    }
   ],
   "source": [
    "(list1.reverse())\n",
    "list1"
   ]
  },
  {
   "cell_type": "code",
   "execution_count": 98,
   "id": "615e23d8",
   "metadata": {},
   "outputs": [],
   "source": [
    "list2.remove(3)"
   ]
  },
  {
   "cell_type": "code",
   "execution_count": 100,
   "id": "7e25b0db",
   "metadata": {},
   "outputs": [
    {
     "data": {
      "text/plain": [
       "[5, 'asad', 'tariq', 7777, 982.0, True, 3, 3, 3, 3, 7, 8]"
      ]
     },
     "execution_count": 100,
     "metadata": {},
     "output_type": "execute_result"
    }
   ],
   "source": [
    "list2"
   ]
  },
  {
   "cell_type": "code",
   "execution_count": 101,
   "id": "3047f036",
   "metadata": {},
   "outputs": [
    {
     "data": {
      "text/plain": [
       "4"
      ]
     },
     "execution_count": 101,
     "metadata": {},
     "output_type": "execute_result"
    }
   ],
   "source": [
    "list2.count(3)"
   ]
  },
  {
   "cell_type": "code",
   "execution_count": 112,
   "id": "f74b7a20",
   "metadata": {},
   "outputs": [],
   "source": [
    "list3 =[433,22,11,556,666,332432,23423434,345252345433,22,11,556,666,332432,23423434,345252345,3,4,5,6,7,6,5,4,3,2,1]"
   ]
  },
  {
   "cell_type": "code",
   "execution_count": 113,
   "id": "f48dfb88",
   "metadata": {},
   "outputs": [
    {
     "data": {
      "text/plain": [
       "[433,\n",
       " 22,\n",
       " 11,\n",
       " 556,\n",
       " 666,\n",
       " 332432,\n",
       " 23423434,\n",
       " 345252345433,\n",
       " 22,\n",
       " 11,\n",
       " 556,\n",
       " 666,\n",
       " 332432,\n",
       " 23423434,\n",
       " 345252345,\n",
       " 3,\n",
       " 4,\n",
       " 5,\n",
       " 6,\n",
       " 7,\n",
       " 6,\n",
       " 5,\n",
       " 4,\n",
       " 3,\n",
       " 2,\n",
       " 1]"
      ]
     },
     "execution_count": 113,
     "metadata": {},
     "output_type": "execute_result"
    }
   ],
   "source": [
    "list3"
   ]
  },
  {
   "cell_type": "code",
   "execution_count": 115,
   "id": "401d9095",
   "metadata": {},
   "outputs": [],
   "source": [
    "list3.reverse()\n"
   ]
  },
  {
   "cell_type": "code",
   "execution_count": 116,
   "id": "fb2c3826",
   "metadata": {},
   "outputs": [
    {
     "data": {
      "text/plain": [
       "[1,\n",
       " 2,\n",
       " 3,\n",
       " 4,\n",
       " 5,\n",
       " 6,\n",
       " 7,\n",
       " 6,\n",
       " 5,\n",
       " 4,\n",
       " 3,\n",
       " 345252345,\n",
       " 23423434,\n",
       " 332432,\n",
       " 666,\n",
       " 556,\n",
       " 11,\n",
       " 22,\n",
       " 345252345433,\n",
       " 23423434,\n",
       " 332432,\n",
       " 666,\n",
       " 556,\n",
       " 11,\n",
       " 22,\n",
       " 433]"
      ]
     },
     "execution_count": 116,
     "metadata": {},
     "output_type": "execute_result"
    }
   ],
   "source": [
    "list3"
   ]
  },
  {
   "cell_type": "code",
   "execution_count": 117,
   "id": "b49c1344",
   "metadata": {},
   "outputs": [],
   "source": [
    "list3.sort()"
   ]
  },
  {
   "cell_type": "code",
   "execution_count": 118,
   "id": "f25616e2",
   "metadata": {},
   "outputs": [
    {
     "data": {
      "text/plain": [
       "[1,\n",
       " 2,\n",
       " 3,\n",
       " 3,\n",
       " 4,\n",
       " 4,\n",
       " 5,\n",
       " 5,\n",
       " 6,\n",
       " 6,\n",
       " 7,\n",
       " 11,\n",
       " 11,\n",
       " 22,\n",
       " 22,\n",
       " 433,\n",
       " 556,\n",
       " 556,\n",
       " 666,\n",
       " 666,\n",
       " 332432,\n",
       " 332432,\n",
       " 23423434,\n",
       " 23423434,\n",
       " 345252345,\n",
       " 345252345433]"
      ]
     },
     "execution_count": 118,
     "metadata": {},
     "output_type": "execute_result"
    }
   ],
   "source": [
    "list3"
   ]
  },
  {
   "cell_type": "code",
   "execution_count": 119,
   "id": "8ad11ded",
   "metadata": {},
   "outputs": [
    {
     "data": {
      "text/plain": [
       "[1,\n",
       " 'python',\n",
       " True,\n",
       " 4.98,\n",
       " 5,\n",
       " 'asad',\n",
       " 'tariq',\n",
       " 7777,\n",
       " 982.0,\n",
       " True,\n",
       " 3,\n",
       " 3,\n",
       " 3,\n",
       " 3,\n",
       " 7,\n",
       " 8]"
      ]
     },
     "execution_count": 119,
     "metadata": {},
     "output_type": "execute_result"
    }
   ],
   "source": [
    "list1+list2"
   ]
  },
  {
   "cell_type": "code",
   "execution_count": 153,
   "id": "9789fee4",
   "metadata": {},
   "outputs": [],
   "source": [
    "list4 = [1,3,5,7,9,8,6,4,2,'asad', True]"
   ]
  },
  {
   "cell_type": "code",
   "execution_count": 154,
   "id": "15783a40",
   "metadata": {},
   "outputs": [
    {
     "data": {
      "text/plain": [
       "[1, 3, 5, 7, 9, 8, 6, 4, 2, 'asad', True, 0]"
      ]
     },
     "execution_count": 154,
     "metadata": {},
     "output_type": "execute_result"
    }
   ],
   "source": [
    "list4.append(0)\n",
    "list4"
   ]
  },
  {
   "cell_type": "code",
   "execution_count": 155,
   "id": "a0586678",
   "metadata": {},
   "outputs": [
    {
     "data": {
      "text/plain": [
       "[]"
      ]
     },
     "execution_count": 155,
     "metadata": {},
     "output_type": "execute_result"
    }
   ],
   "source": [
    "list4.clear()\n",
    "list4"
   ]
  },
  {
   "cell_type": "code",
   "execution_count": 157,
   "id": "88de2cca",
   "metadata": {},
   "outputs": [
    {
     "data": {
      "text/plain": [
       "[1, 3, 5, 7, 9, 8, 6, 4, 2, 'asad', True]"
      ]
     },
     "execution_count": 157,
     "metadata": {},
     "output_type": "execute_result"
    }
   ],
   "source": [
    "list4 = [1,3,5,7,9,8,6,4,2,'asad', True]\n",
    "list4"
   ]
  },
  {
   "cell_type": "code",
   "execution_count": 161,
   "id": "9c7cb300",
   "metadata": {},
   "outputs": [
    {
     "data": {
      "text/plain": [
       "[1, 3, 5, 7, 9, 8, 6, 4, 2, 'asad', True]"
      ]
     },
     "execution_count": 161,
     "metadata": {},
     "output_type": "execute_result"
    }
   ],
   "source": [
    "list5 =list4.copy()\n",
    "list5"
   ]
  },
  {
   "cell_type": "code",
   "execution_count": 162,
   "id": "fb9ad799",
   "metadata": {},
   "outputs": [
    {
     "data": {
      "text/plain": [
       "1"
      ]
     },
     "execution_count": 162,
     "metadata": {},
     "output_type": "execute_result"
    }
   ],
   "source": [
    "list4.count(2)\n"
   ]
  },
  {
   "cell_type": "code",
   "execution_count": 164,
   "id": "0b67b954",
   "metadata": {
    "scrolled": true
   },
   "outputs": [
    {
     "data": {
      "text/plain": [
       "[1,\n",
       " 3,\n",
       " 5,\n",
       " 7,\n",
       " 9,\n",
       " 8,\n",
       " 6,\n",
       " 4,\n",
       " 2,\n",
       " 'asad',\n",
       " True,\n",
       " 1,\n",
       " 3,\n",
       " 5,\n",
       " 7,\n",
       " 9,\n",
       " 8,\n",
       " 6,\n",
       " 4,\n",
       " 2,\n",
       " 'asad',\n",
       " True]"
      ]
     },
     "execution_count": 164,
     "metadata": {},
     "output_type": "execute_result"
    }
   ],
   "source": [
    "list4.extend(list5)\n",
    "list4"
   ]
  },
  {
   "cell_type": "code",
   "execution_count": 167,
   "id": "462a9902",
   "metadata": {},
   "outputs": [
    {
     "data": {
      "text/plain": [
       "3"
      ]
     },
     "execution_count": 167,
     "metadata": {},
     "output_type": "execute_result"
    }
   ],
   "source": [
    "list4.index(7)\n"
   ]
  },
  {
   "cell_type": "code",
   "execution_count": 169,
   "id": "0ac266be",
   "metadata": {},
   "outputs": [
    {
     "data": {
      "text/plain": [
       "[33,\n",
       " 1,\n",
       " 3,\n",
       " 5,\n",
       " 7,\n",
       " 9,\n",
       " 8,\n",
       " 6,\n",
       " 4,\n",
       " 2,\n",
       " 'asad',\n",
       " True,\n",
       " 1,\n",
       " 3,\n",
       " 5,\n",
       " 7,\n",
       " 9,\n",
       " 8,\n",
       " 6,\n",
       " 4,\n",
       " 2,\n",
       " 'asad',\n",
       " True]"
      ]
     },
     "execution_count": 169,
     "metadata": {},
     "output_type": "execute_result"
    }
   ],
   "source": [
    "list4.insert(0,33)\n",
    "list4"
   ]
  },
  {
   "cell_type": "code",
   "execution_count": 173,
   "id": "f0e957b5",
   "metadata": {},
   "outputs": [
    {
     "data": {
      "text/plain": [
       "2"
      ]
     },
     "execution_count": 173,
     "metadata": {},
     "output_type": "execute_result"
    }
   ],
   "source": [
    "list4.pop(-2)\n"
   ]
  },
  {
   "cell_type": "code",
   "execution_count": 177,
   "id": "885f3893",
   "metadata": {},
   "outputs": [
    {
     "data": {
      "text/plain": [
       "[33, 1, 7, 9, 8, 6, 'asad', True, 1, 3, 5, 7, 9, 8, 6, 'asad']"
      ]
     },
     "execution_count": 177,
     "metadata": {},
     "output_type": "execute_result"
    }
   ],
   "source": [
    "list4.remove(4)\n",
    "list4"
   ]
  },
  {
   "cell_type": "code",
   "execution_count": 181,
   "id": "c69f961a",
   "metadata": {},
   "outputs": [
    {
     "data": {
      "text/plain": [
       "['asad', 6, 8, 9, 7, 5, 3, 1, True, 'asad', 33, 9, 8, 7, 6, 1]"
      ]
     },
     "execution_count": 181,
     "metadata": {},
     "output_type": "execute_result"
    }
   ],
   "source": [
    "list4.reverse()\n",
    "list4"
   ]
  },
  {
   "cell_type": "code",
   "execution_count": null,
   "id": "96a019e6",
   "metadata": {},
   "outputs": [],
   "source": []
  },
  {
   "cell_type": "markdown",
   "id": "14b498d0",
   "metadata": {},
   "source": [
    "## Dictionaries\n",
    "- unordered collection of elements\n",
    "- key value pair\n",
    "- enlcosed in {}\n",
    "- Mutable"
   ]
  },
  {
   "cell_type": "code",
   "execution_count": 125,
   "id": "34f4f0d1",
   "metadata": {},
   "outputs": [
    {
     "data": {
      "text/plain": [
       "{'samosa': 30, 'pakora': 100, 'salad': 20, 'kachori': 60, 'fies': 80}"
      ]
     },
     "execution_count": 125,
     "metadata": {},
     "output_type": "execute_result"
    }
   ],
   "source": [
    "food = {'samosa':30, 'pakora':100, 'salad':20,'kachori':60, 'fies':80}\n",
    "food"
   ]
  },
  {
   "cell_type": "code",
   "execution_count": 126,
   "id": "793c77b6",
   "metadata": {},
   "outputs": [
    {
     "data": {
      "text/plain": [
       "dict"
      ]
     },
     "execution_count": 126,
     "metadata": {},
     "output_type": "execute_result"
    }
   ],
   "source": [
    "type(food)"
   ]
  },
  {
   "cell_type": "code",
   "execution_count": 127,
   "id": "23216bd4",
   "metadata": {},
   "outputs": [
    {
     "data": {
      "text/plain": [
       "dict_keys(['samosa', 'pakora', 'salad', 'kachori', 'fies'])"
      ]
     },
     "execution_count": 127,
     "metadata": {},
     "output_type": "execute_result"
    }
   ],
   "source": [
    "food.keys()"
   ]
  },
  {
   "cell_type": "code",
   "execution_count": 128,
   "id": "6b829e44",
   "metadata": {},
   "outputs": [
    {
     "data": {
      "text/plain": [
       "dict_values([30, 100, 20, 60, 80])"
      ]
     },
     "execution_count": 128,
     "metadata": {},
     "output_type": "execute_result"
    }
   ],
   "source": [
    "food.values()"
   ]
  },
  {
   "cell_type": "code",
   "execution_count": 130,
   "id": "a4c53bf6",
   "metadata": {},
   "outputs": [],
   "source": [
    "#adding new element\n",
    "food['raita']=15"
   ]
  },
  {
   "cell_type": "code",
   "execution_count": 131,
   "id": "8ce9f420",
   "metadata": {},
   "outputs": [
    {
     "data": {
      "text/plain": [
       "{'samosa': 30,\n",
       " 'pakora': 100,\n",
       " 'salad': 20,\n",
       " 'kachori': 60,\n",
       " 'fies': 80,\n",
       " 'raita': 15}"
      ]
     },
     "execution_count": 131,
     "metadata": {},
     "output_type": "execute_result"
    }
   ],
   "source": [
    "food"
   ]
  },
  {
   "cell_type": "code",
   "execution_count": 132,
   "id": "fb628f6d",
   "metadata": {},
   "outputs": [],
   "source": [
    "food['raita']=25"
   ]
  },
  {
   "cell_type": "code",
   "execution_count": 133,
   "id": "c28b8b90",
   "metadata": {},
   "outputs": [
    {
     "data": {
      "text/plain": [
       "{'samosa': 30,\n",
       " 'pakora': 100,\n",
       " 'salad': 20,\n",
       " 'kachori': 60,\n",
       " 'fies': 80,\n",
       " 'raita': 25}"
      ]
     },
     "execution_count": 133,
     "metadata": {},
     "output_type": "execute_result"
    }
   ],
   "source": [
    "food"
   ]
  },
  {
   "cell_type": "code",
   "execution_count": 135,
   "id": "2aa77f55",
   "metadata": {},
   "outputs": [],
   "source": [
    "food2 = {'candy':200, 'choc':75, 'cola':33, 'soda':60}"
   ]
  },
  {
   "cell_type": "code",
   "execution_count": 136,
   "id": "6861a926",
   "metadata": {},
   "outputs": [
    {
     "data": {
      "text/plain": [
       "{'candy': 200, 'choc': 75, 'cola': 33, 'soda': 60}"
      ]
     },
     "execution_count": 136,
     "metadata": {},
     "output_type": "execute_result"
    }
   ],
   "source": [
    "food2"
   ]
  },
  {
   "cell_type": "code",
   "execution_count": 137,
   "id": "a20e6792",
   "metadata": {},
   "outputs": [],
   "source": [
    "food.update(food2)"
   ]
  },
  {
   "cell_type": "code",
   "execution_count": 138,
   "id": "2695e721",
   "metadata": {},
   "outputs": [
    {
     "data": {
      "text/plain": [
       "{'samosa': 30,\n",
       " 'pakora': 100,\n",
       " 'salad': 20,\n",
       " 'kachori': 60,\n",
       " 'fies': 80,\n",
       " 'raita': 25,\n",
       " 'candy': 200,\n",
       " 'choc': 75,\n",
       " 'cola': 33,\n",
       " 'soda': 60}"
      ]
     },
     "execution_count": 138,
     "metadata": {},
     "output_type": "execute_result"
    }
   ],
   "source": [
    "food"
   ]
  },
  {
   "cell_type": "code",
   "execution_count": 141,
   "id": "4850b128",
   "metadata": {},
   "outputs": [
    {
     "data": {
      "text/plain": [
       "33"
      ]
     },
     "execution_count": 141,
     "metadata": {},
     "output_type": "execute_result"
    }
   ],
   "source": [
    "food.pop('cola')"
   ]
  },
  {
   "cell_type": "code",
   "execution_count": 187,
   "id": "d58e6f9b",
   "metadata": {},
   "outputs": [
    {
     "data": {
      "text/plain": [
       "{'samosa': 30,\n",
       " 'pakora': 100,\n",
       " 'salad': 20,\n",
       " 'kachori': 60,\n",
       " 'fies': 80,\n",
       " 'raita': 25,\n",
       " 'candy': 200,\n",
       " 'choc': 75,\n",
       " 'soda': 60}"
      ]
     },
     "execution_count": 187,
     "metadata": {},
     "output_type": "execute_result"
    }
   ],
   "source": [
    "food3 =food.copy()\n",
    "food3"
   ]
  },
  {
   "cell_type": "code",
   "execution_count": 186,
   "id": "c27ecf7f",
   "metadata": {},
   "outputs": [
    {
     "name": "stdout",
     "output_type": "stream",
     "text": [
      "{'sprite': 70, 'cola': 70, 'dew': 70}\n"
     ]
    }
   ],
   "source": [
    "x = ('sprite', 'cola', 'dew')\n",
    "y = 70\n",
    "\n",
    "newdict = dict.fromkeys(x, y)\n",
    "\n",
    "\n",
    "print(newdict)"
   ]
  },
  {
   "cell_type": "code",
   "execution_count": 188,
   "id": "4253412d",
   "metadata": {},
   "outputs": [
    {
     "data": {
      "text/plain": [
       "20"
      ]
     },
     "execution_count": 188,
     "metadata": {},
     "output_type": "execute_result"
    }
   ],
   "source": [
    "food3.get('salad')"
   ]
  },
  {
   "cell_type": "code",
   "execution_count": 189,
   "id": "4238b96b",
   "metadata": {},
   "outputs": [
    {
     "data": {
      "text/plain": [
       "dict_items([('samosa', 30), ('pakora', 100), ('salad', 20), ('kachori', 60), ('fies', 80), ('raita', 25), ('candy', 200), ('choc', 75), ('soda', 60)])"
      ]
     },
     "execution_count": 189,
     "metadata": {},
     "output_type": "execute_result"
    }
   ],
   "source": [
    "food3.items()"
   ]
  },
  {
   "cell_type": "code",
   "execution_count": 193,
   "id": "dea3980e",
   "metadata": {},
   "outputs": [
    {
     "data": {
      "text/plain": [
       "75"
      ]
     },
     "execution_count": 193,
     "metadata": {},
     "output_type": "execute_result"
    }
   ],
   "source": [
    "food3.pop('choc')"
   ]
  },
  {
   "cell_type": "code",
   "execution_count": 197,
   "id": "ab5247b7",
   "metadata": {},
   "outputs": [
    {
     "data": {
      "text/plain": [
       "('candy', 200)"
      ]
     },
     "execution_count": 197,
     "metadata": {},
     "output_type": "execute_result"
    }
   ],
   "source": [
    "food3.popitem()"
   ]
  },
  {
   "cell_type": "code",
   "execution_count": 199,
   "id": "736e6b38",
   "metadata": {},
   "outputs": [
    {
     "data": {
      "text/plain": [
       "20"
      ]
     },
     "execution_count": 199,
     "metadata": {},
     "output_type": "execute_result"
    }
   ],
   "source": [
    "food3.setdefault('salad')"
   ]
  },
  {
   "cell_type": "code",
   "execution_count": 203,
   "id": "de79f723",
   "metadata": {},
   "outputs": [],
   "source": [
    "food3.update(food2)"
   ]
  },
  {
   "cell_type": "code",
   "execution_count": 204,
   "id": "1be6ab18",
   "metadata": {},
   "outputs": [
    {
     "data": {
      "text/plain": [
       "{'samosa': 30,\n",
       " 'pakora': 100,\n",
       " 'salad': 20,\n",
       " 'kachori': 60,\n",
       " 'fies': 80,\n",
       " 'raita': 25,\n",
       " 'candy': 200,\n",
       " 'choc': 75,\n",
       " 'cola': 33,\n",
       " 'soda': 60}"
      ]
     },
     "execution_count": 204,
     "metadata": {},
     "output_type": "execute_result"
    }
   ],
   "source": [
    "food3"
   ]
  },
  {
   "cell_type": "markdown",
   "id": "9292a842",
   "metadata": {},
   "source": [
    "## Sets\n",
    "- enclosed in {}\n",
    "- no duplicates\n",
    "- Unordered and unindexed"
   ]
  },
  {
   "cell_type": "code",
   "execution_count": 142,
   "id": "7670d0aa",
   "metadata": {},
   "outputs": [],
   "source": [
    "s1 = {1,3,5,7, 'asad', 'tariq', 'python', True, 5.33, False}"
   ]
  },
  {
   "cell_type": "code",
   "execution_count": 143,
   "id": "f9c61d8e",
   "metadata": {},
   "outputs": [
    {
     "data": {
      "text/plain": [
       "{1, 3, 5, 5.33, 7, False, 'asad', 'python', 'tariq'}"
      ]
     },
     "execution_count": 143,
     "metadata": {},
     "output_type": "execute_result"
    }
   ],
   "source": [
    "s1"
   ]
  },
  {
   "cell_type": "code",
   "execution_count": 144,
   "id": "8412a667",
   "metadata": {},
   "outputs": [],
   "source": [
    "s1.add('sets')"
   ]
  },
  {
   "cell_type": "code",
   "execution_count": 145,
   "id": "c7a51606",
   "metadata": {},
   "outputs": [
    {
     "data": {
      "text/plain": [
       "{1, 3, 5, 5.33, 7, False, 'asad', 'python', 'sets', 'tariq'}"
      ]
     },
     "execution_count": 145,
     "metadata": {},
     "output_type": "execute_result"
    }
   ],
   "source": [
    "s1"
   ]
  },
  {
   "cell_type": "code",
   "execution_count": 146,
   "id": "f5965bf9",
   "metadata": {},
   "outputs": [],
   "source": [
    "s1.remove(False)"
   ]
  },
  {
   "cell_type": "code",
   "execution_count": 147,
   "id": "48d6e65e",
   "metadata": {},
   "outputs": [
    {
     "data": {
      "text/plain": [
       "{1, 3, 5, 5.33, 7, 'asad', 'python', 'sets', 'tariq'}"
      ]
     },
     "execution_count": 147,
     "metadata": {},
     "output_type": "execute_result"
    }
   ],
   "source": [
    "s1"
   ]
  },
  {
   "cell_type": "code",
   "execution_count": 205,
   "id": "225d67b7",
   "metadata": {},
   "outputs": [],
   "source": [
    "s2 = {2,3,5,7,11,13,17,19}\n"
   ]
  },
  {
   "cell_type": "code",
   "execution_count": 206,
   "id": "4e385a8b",
   "metadata": {},
   "outputs": [],
   "source": [
    "s1.add(100)"
   ]
  },
  {
   "cell_type": "code",
   "execution_count": 207,
   "id": "885f145b",
   "metadata": {},
   "outputs": [
    {
     "data": {
      "text/plain": [
       "{1, 100, 3, 5, 5.33, 7, 'asad', 'python', 'sets', 'tariq'}"
      ]
     },
     "execution_count": 207,
     "metadata": {},
     "output_type": "execute_result"
    }
   ],
   "source": [
    "s1"
   ]
  },
  {
   "cell_type": "code",
   "execution_count": 208,
   "id": "4b8b2362",
   "metadata": {},
   "outputs": [],
   "source": [
    "s3 =s1.copy()"
   ]
  },
  {
   "cell_type": "code",
   "execution_count": 209,
   "id": "45b4697e",
   "metadata": {},
   "outputs": [
    {
     "data": {
      "text/plain": [
       "{1, 100, 3, 5, 5.33, 7, 'asad', 'python', 'sets', 'tariq'}"
      ]
     },
     "execution_count": 209,
     "metadata": {},
     "output_type": "execute_result"
    }
   ],
   "source": [
    "s3"
   ]
  },
  {
   "cell_type": "code",
   "execution_count": 210,
   "id": "5cdce255",
   "metadata": {},
   "outputs": [
    {
     "data": {
      "text/plain": [
       "set()"
      ]
     },
     "execution_count": 210,
     "metadata": {},
     "output_type": "execute_result"
    }
   ],
   "source": [
    "s3.clear()\n",
    "s3"
   ]
  },
  {
   "cell_type": "code",
   "execution_count": 211,
   "id": "6d0bb4e7",
   "metadata": {},
   "outputs": [
    {
     "data": {
      "text/plain": [
       "{1, 100, 5.33, 'asad', 'python', 'sets', 'tariq'}"
      ]
     },
     "execution_count": 211,
     "metadata": {},
     "output_type": "execute_result"
    }
   ],
   "source": [
    "s1.difference(s2)"
   ]
  },
  {
   "cell_type": "code",
   "execution_count": 214,
   "id": "21facf29",
   "metadata": {},
   "outputs": [
    {
     "data": {
      "text/plain": [
       "{1, 100, 5.33, 'asad', 'python', 'sets', 'tariq'}"
      ]
     },
     "execution_count": 214,
     "metadata": {},
     "output_type": "execute_result"
    }
   ],
   "source": [
    "s1.difference_update(s2)\n",
    "s1"
   ]
  },
  {
   "cell_type": "code",
   "execution_count": 215,
   "id": "d4f07feb",
   "metadata": {},
   "outputs": [
    {
     "data": {
      "text/plain": [
       "{1, 5.33, 'asad', 'python', 'sets', 'tariq'}"
      ]
     },
     "execution_count": 215,
     "metadata": {},
     "output_type": "execute_result"
    }
   ],
   "source": [
    "s1.discard(100)\n",
    "s1"
   ]
  },
  {
   "cell_type": "code",
   "execution_count": 219,
   "id": "52e7dc25",
   "metadata": {},
   "outputs": [],
   "source": [
    "s1.add(2)\n",
    "s1.add(3)\n",
    "s1.add(4)\n",
    "s1.add(5)"
   ]
  },
  {
   "cell_type": "code",
   "execution_count": 220,
   "id": "a360b350",
   "metadata": {},
   "outputs": [
    {
     "data": {
      "text/plain": [
       "{2, 3, 5}"
      ]
     },
     "execution_count": 220,
     "metadata": {},
     "output_type": "execute_result"
    }
   ],
   "source": [
    "s1.intersection(s2)"
   ]
  },
  {
   "cell_type": "code",
   "execution_count": 221,
   "id": "6e883807",
   "metadata": {},
   "outputs": [],
   "source": [
    "s1.intersection_update(s2)"
   ]
  },
  {
   "cell_type": "code",
   "execution_count": 222,
   "id": "5a234dfb",
   "metadata": {},
   "outputs": [
    {
     "data": {
      "text/plain": [
       "{2, 3, 5}"
      ]
     },
     "execution_count": 222,
     "metadata": {},
     "output_type": "execute_result"
    }
   ],
   "source": [
    "s1"
   ]
  },
  {
   "cell_type": "code",
   "execution_count": 227,
   "id": "aaf56916",
   "metadata": {},
   "outputs": [],
   "source": [
    "s1= {1,3,5,7, 'asad', 'tariq', 'python', True, 5.33, False}"
   ]
  },
  {
   "cell_type": "code",
   "execution_count": 228,
   "id": "98ca2e68",
   "metadata": {},
   "outputs": [
    {
     "data": {
      "text/plain": [
       "False"
      ]
     },
     "execution_count": 228,
     "metadata": {},
     "output_type": "execute_result"
    }
   ],
   "source": [
    "s1.isdisjoint(s2)"
   ]
  },
  {
   "cell_type": "code",
   "execution_count": 230,
   "id": "19448075",
   "metadata": {},
   "outputs": [
    {
     "data": {
      "text/plain": [
       "{1, 3, 5, 5.33, 7, False, 'asad', 'python', 'tariq'}"
      ]
     },
     "execution_count": 230,
     "metadata": {},
     "output_type": "execute_result"
    }
   ],
   "source": [
    "s1\n"
   ]
  },
  {
   "cell_type": "code",
   "execution_count": 231,
   "id": "7eca1bc4",
   "metadata": {},
   "outputs": [
    {
     "data": {
      "text/plain": [
       "{2, 3, 5, 7, 11, 13, 17, 19}"
      ]
     },
     "execution_count": 231,
     "metadata": {},
     "output_type": "execute_result"
    }
   ],
   "source": [
    "s2"
   ]
  },
  {
   "cell_type": "code",
   "execution_count": 232,
   "id": "de6f632e",
   "metadata": {},
   "outputs": [
    {
     "data": {
      "text/plain": [
       "set()"
      ]
     },
     "execution_count": 232,
     "metadata": {},
     "output_type": "execute_result"
    }
   ],
   "source": [
    "s3"
   ]
  },
  {
   "cell_type": "code",
   "execution_count": 233,
   "id": "eb223a4f",
   "metadata": {},
   "outputs": [],
   "source": [
    "s3.add(3)"
   ]
  },
  {
   "cell_type": "code",
   "execution_count": 234,
   "id": "8b12be7b",
   "metadata": {},
   "outputs": [],
   "source": [
    "s3.add(5)"
   ]
  },
  {
   "cell_type": "code",
   "execution_count": 235,
   "id": "f14f1bd3",
   "metadata": {},
   "outputs": [
    {
     "data": {
      "text/plain": [
       "{3, 5}"
      ]
     },
     "execution_count": 235,
     "metadata": {},
     "output_type": "execute_result"
    }
   ],
   "source": [
    "s3"
   ]
  },
  {
   "cell_type": "code",
   "execution_count": 236,
   "id": "5fca5ca6",
   "metadata": {},
   "outputs": [
    {
     "data": {
      "text/plain": [
       "True"
      ]
     },
     "execution_count": 236,
     "metadata": {},
     "output_type": "execute_result"
    }
   ],
   "source": [
    "s3.issubset(s1)"
   ]
  },
  {
   "cell_type": "code",
   "execution_count": 237,
   "id": "891ef340",
   "metadata": {},
   "outputs": [
    {
     "data": {
      "text/plain": [
       "True"
      ]
     },
     "execution_count": 237,
     "metadata": {},
     "output_type": "execute_result"
    }
   ],
   "source": [
    "s1.issuperset(s3)"
   ]
  },
  {
   "cell_type": "code",
   "execution_count": 238,
   "id": "ea9e820d",
   "metadata": {},
   "outputs": [
    {
     "data": {
      "text/plain": [
       "'python'"
      ]
     },
     "execution_count": 238,
     "metadata": {},
     "output_type": "execute_result"
    }
   ],
   "source": [
    "s1.pop()"
   ]
  },
  {
   "cell_type": "code",
   "execution_count": 241,
   "id": "49828017",
   "metadata": {},
   "outputs": [
    {
     "data": {
      "text/plain": [
       "{1, 5, 5.33, 7, False, 'asad', 'tariq'}"
      ]
     },
     "execution_count": 241,
     "metadata": {},
     "output_type": "execute_result"
    }
   ],
   "source": [
    "s1.remove(3)\n",
    "s1"
   ]
  },
  {
   "cell_type": "code",
   "execution_count": 243,
   "id": "a0f3b64f",
   "metadata": {},
   "outputs": [
    {
     "data": {
      "text/plain": [
       "{1, 11, 13, 17, 19, 2, 3, 5, 5.33, 7, False, 'asad', 'tariq'}"
      ]
     },
     "execution_count": 243,
     "metadata": {},
     "output_type": "execute_result"
    }
   ],
   "source": [
    "s1.union(s2)\n"
   ]
  },
  {
   "cell_type": "code",
   "execution_count": 244,
   "id": "32f3a4dd",
   "metadata": {},
   "outputs": [
    {
     "data": {
      "text/plain": [
       "{1, 11, 13, 17, 19, 2, 3, 5.33, False, 'asad', 'tariq'}"
      ]
     },
     "execution_count": 244,
     "metadata": {},
     "output_type": "execute_result"
    }
   ],
   "source": [
    "s1.symmetric_difference(s2)"
   ]
  },
  {
   "cell_type": "code",
   "execution_count": 249,
   "id": "cdda6d23",
   "metadata": {},
   "outputs": [],
   "source": [
    "s1.symmetric_difference_update(s2)"
   ]
  },
  {
   "cell_type": "code",
   "execution_count": 250,
   "id": "0d04e017",
   "metadata": {},
   "outputs": [
    {
     "data": {
      "text/plain": [
       "{1, 5, 5.33, 7, False, 'asad', 'tariq'}"
      ]
     },
     "execution_count": 250,
     "metadata": {},
     "output_type": "execute_result"
    }
   ],
   "source": [
    "s1"
   ]
  },
  {
   "cell_type": "code",
   "execution_count": null,
   "id": "ce78f68c",
   "metadata": {},
   "outputs": [],
   "source": []
  }
 ],
 "metadata": {
  "kernelspec": {
   "display_name": "Python 3 (ipykernel)",
   "language": "python",
   "name": "python3"
  },
  "language_info": {
   "codemirror_mode": {
    "name": "ipython",
    "version": 3
   },
   "file_extension": ".py",
   "mimetype": "text/x-python",
   "name": "python",
   "nbconvert_exporter": "python",
   "pygments_lexer": "ipython3",
   "version": "3.7.11"
  },
  "toc": {
   "base_numbering": 1,
   "nav_menu": {},
   "number_sections": false,
   "sideBar": true,
   "skip_h1_title": false,
   "title_cell": "Table of Contents",
   "title_sidebar": "Contents",
   "toc_cell": false,
   "toc_position": {},
   "toc_section_display": true,
   "toc_window_display": true
  }
 },
 "nbformat": 4,
 "nbformat_minor": 5
}
