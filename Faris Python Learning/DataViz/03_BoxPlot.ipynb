{
 "cells": [
  {
   "cell_type": "markdown",
   "id": "1d39be20",
   "metadata": {},
   "source": [
    "# Import Libraries"
   ]
  },
  {
   "cell_type": "code",
   "execution_count": 20,
   "id": "0f2df523",
   "metadata": {},
   "outputs": [],
   "source": [
    "import seaborn as sns\n",
    "import matplotlib.pyplot as plt\n",
    "import numpy as np\n",
    "import pandas as pd"
   ]
  },
  {
   "cell_type": "markdown",
   "id": "ad7df98c",
   "metadata": {},
   "source": [
    "## importing Data set"
   ]
  },
  {
   "cell_type": "code",
   "execution_count": 21,
   "id": "915202ce",
   "metadata": {},
   "outputs": [
    {
     "data": {
      "text/html": [
       "<div>\n",
       "<style scoped>\n",
       "    .dataframe tbody tr th:only-of-type {\n",
       "        vertical-align: middle;\n",
       "    }\n",
       "\n",
       "    .dataframe tbody tr th {\n",
       "        vertical-align: top;\n",
       "    }\n",
       "\n",
       "    .dataframe thead th {\n",
       "        text-align: right;\n",
       "    }\n",
       "</style>\n",
       "<table border=\"1\" class=\"dataframe\">\n",
       "  <thead>\n",
       "    <tr style=\"text-align: right;\">\n",
       "      <th></th>\n",
       "      <th>Timestamp</th>\n",
       "      <th>Gender</th>\n",
       "      <th>Location</th>\n",
       "      <th>Age</th>\n",
       "      <th>Qualification</th>\n",
       "      <th>field_of_study</th>\n",
       "      <th>Purpose_for_chilla</th>\n",
       "      <th>Experience</th>\n",
       "      <th>Age.1</th>\n",
       "      <th>What are you?</th>\n",
       "      <th>...</th>\n",
       "      <th>Weight</th>\n",
       "      <th>Height</th>\n",
       "      <th>Glasses</th>\n",
       "      <th>First line of code</th>\n",
       "      <th>Programming language</th>\n",
       "      <th>Marital Status</th>\n",
       "      <th>Coding Hours</th>\n",
       "      <th>Vaccinated</th>\n",
       "      <th>Load shedding</th>\n",
       "      <th>Area</th>\n",
       "    </tr>\n",
       "  </thead>\n",
       "  <tbody>\n",
       "    <tr>\n",
       "      <th>0</th>\n",
       "      <td>1/4/22 18:02</td>\n",
       "      <td>Male</td>\n",
       "      <td>Pakistan</td>\n",
       "      <td>36-40</td>\n",
       "      <td>Masters</td>\n",
       "      <td>Natural Sciences</td>\n",
       "      <td>to boost my skill set</td>\n",
       "      <td>5</td>\n",
       "      <td>38.00</td>\n",
       "      <td>Unemplyed</td>\n",
       "      <td>...</td>\n",
       "      <td>77.0</td>\n",
       "      <td>179.000</td>\n",
       "      <td>No</td>\n",
       "      <td>&gt;3 years ago</td>\n",
       "      <td>Python</td>\n",
       "      <td>Yes</td>\n",
       "      <td>3.0</td>\n",
       "      <td>Yes</td>\n",
       "      <td>2</td>\n",
       "      <td>Urbun</td>\n",
       "    </tr>\n",
       "    <tr>\n",
       "      <th>1</th>\n",
       "      <td>1/4/22 18:02</td>\n",
       "      <td>Male</td>\n",
       "      <td>Pakistan</td>\n",
       "      <td>26-30</td>\n",
       "      <td>Bachelors</td>\n",
       "      <td>CS/IT</td>\n",
       "      <td>to boost my skill set</td>\n",
       "      <td>1</td>\n",
       "      <td>25.00</td>\n",
       "      <td>Student</td>\n",
       "      <td>...</td>\n",
       "      <td>53.6</td>\n",
       "      <td>178.000</td>\n",
       "      <td>No</td>\n",
       "      <td>&gt;3 years ago</td>\n",
       "      <td>Python</td>\n",
       "      <td>No</td>\n",
       "      <td>2.0</td>\n",
       "      <td>Yes</td>\n",
       "      <td>6</td>\n",
       "      <td>Urbun</td>\n",
       "    </tr>\n",
       "    <tr>\n",
       "      <th>2</th>\n",
       "      <td>1/4/22 18:03</td>\n",
       "      <td>Male</td>\n",
       "      <td>Pakistan</td>\n",
       "      <td>31-35</td>\n",
       "      <td>Masters</td>\n",
       "      <td>Enginnering</td>\n",
       "      <td>Switch my field of study</td>\n",
       "      <td>5.5</td>\n",
       "      <td>31.34</td>\n",
       "      <td>Employed</td>\n",
       "      <td>...</td>\n",
       "      <td>93.0</td>\n",
       "      <td>173.000</td>\n",
       "      <td>Yes</td>\n",
       "      <td>&gt;3 years ago</td>\n",
       "      <td>Python</td>\n",
       "      <td>Yes</td>\n",
       "      <td>2.0</td>\n",
       "      <td>Yes</td>\n",
       "      <td>0</td>\n",
       "      <td>Urbun</td>\n",
       "    </tr>\n",
       "    <tr>\n",
       "      <th>3</th>\n",
       "      <td>1/4/22 18:03</td>\n",
       "      <td>Female</td>\n",
       "      <td>Pakistan</td>\n",
       "      <td>31-35</td>\n",
       "      <td>Masters</td>\n",
       "      <td>CS/IT</td>\n",
       "      <td>to boost my skill set</td>\n",
       "      <td>5</td>\n",
       "      <td>33.00</td>\n",
       "      <td>Employed</td>\n",
       "      <td>...</td>\n",
       "      <td>60.0</td>\n",
       "      <td>157.000</td>\n",
       "      <td>No</td>\n",
       "      <td>&lt;3 years ago</td>\n",
       "      <td>Python</td>\n",
       "      <td>Yes</td>\n",
       "      <td>3.0</td>\n",
       "      <td>Yes</td>\n",
       "      <td>0</td>\n",
       "      <td>Urbun</td>\n",
       "    </tr>\n",
       "    <tr>\n",
       "      <th>4</th>\n",
       "      <td>1/4/22 18:03</td>\n",
       "      <td>Female</td>\n",
       "      <td>Pakistan</td>\n",
       "      <td>26-30</td>\n",
       "      <td>Masters</td>\n",
       "      <td>Enginnering</td>\n",
       "      <td>to boost my skill set</td>\n",
       "      <td>3.5</td>\n",
       "      <td>27.00</td>\n",
       "      <td>Student</td>\n",
       "      <td>...</td>\n",
       "      <td>59.9</td>\n",
       "      <td>164.544</td>\n",
       "      <td>Yes</td>\n",
       "      <td>In this chilla</td>\n",
       "      <td>Javascript</td>\n",
       "      <td>No</td>\n",
       "      <td>6.0</td>\n",
       "      <td>Yes</td>\n",
       "      <td>12</td>\n",
       "      <td>Rural</td>\n",
       "    </tr>\n",
       "  </tbody>\n",
       "</table>\n",
       "<p>5 rows × 26 columns</p>\n",
       "</div>"
      ],
      "text/plain": [
       "      Timestamp  Gender  Location    Age Qualification    field_of_study  \\\n",
       "0  1/4/22 18:02    Male  Pakistan  36-40       Masters  Natural Sciences   \n",
       "1  1/4/22 18:02    Male  Pakistan  26-30     Bachelors             CS/IT   \n",
       "2  1/4/22 18:03    Male  Pakistan  31-35       Masters       Enginnering   \n",
       "3  1/4/22 18:03  Female  Pakistan  31-35       Masters             CS/IT   \n",
       "4  1/4/22 18:03  Female  Pakistan  26-30       Masters       Enginnering   \n",
       "\n",
       "         Purpose_for_chilla Experience  Age.1 What are you?  ... Weight  \\\n",
       "0     to boost my skill set          5  38.00     Unemplyed  ...   77.0   \n",
       "1     to boost my skill set          1  25.00       Student  ...   53.6   \n",
       "2  Switch my field of study        5.5  31.34      Employed  ...   93.0   \n",
       "3     to boost my skill set          5  33.00      Employed  ...   60.0   \n",
       "4     to boost my skill set        3.5  27.00       Student  ...   59.9   \n",
       "\n",
       "    Height Glasses First line of code Programming language Marital Status  \\\n",
       "0  179.000      No       >3 years ago               Python            Yes   \n",
       "1  178.000      No       >3 years ago               Python             No   \n",
       "2  173.000     Yes       >3 years ago               Python            Yes   \n",
       "3  157.000      No       <3 years ago               Python            Yes   \n",
       "4  164.544     Yes     In this chilla           Javascript             No   \n",
       "\n",
       "   Coding Hours  Vaccinated Load shedding   Area  \n",
       "0           3.0         Yes             2  Urbun  \n",
       "1           2.0         Yes             6  Urbun  \n",
       "2           2.0         Yes             0  Urbun  \n",
       "3           3.0         Yes             0  Urbun  \n",
       "4           6.0         Yes            12  Rural  \n",
       "\n",
       "[5 rows x 26 columns]"
      ]
     },
     "execution_count": 21,
     "metadata": {},
     "output_type": "execute_result"
    }
   ],
   "source": [
    "chilla = pd.read_csv('ChillaData.csv')\n",
    "chilla.head()"
   ]
  },
  {
   "cell_type": "markdown",
   "id": "a1efe8d1",
   "metadata": {},
   "source": [
    "## Changing Binary optionset data to Numeric data"
   ]
  },
  {
   "cell_type": "code",
   "execution_count": 22,
   "id": "f9b42f8d",
   "metadata": {},
   "outputs": [],
   "source": [
    "field = chilla['field_of_study']\n",
    "vaccinated = chilla['Vaccinated'].map({'Yes': 1, 'No': 0})\n",
    "gender =chilla['Gender'].map({'Male': 1, 'Female': 0})\n",
    "glasses = chilla['Glasses'].map({'Yes': 1, 'No': 0})\n",
    "marital = chilla['Marital Status'].map({'Yes': 1, 'No': 0})\n",
    "area = chilla['Area'].map({'Urbun': 1, 'Rural': 0})"
   ]
  },
  {
   "cell_type": "markdown",
   "id": "319f0f24",
   "metadata": {},
   "source": [
    "## Simple barPlot"
   ]
  },
  {
   "cell_type": "code",
   "execution_count": 23,
   "id": "5ad0791c",
   "metadata": {},
   "outputs": [
    {
     "data": {
      "text/plain": [
       "<AxesSubplot:xlabel='Location', ylabel='Weight'>"
      ]
     },
     "execution_count": 23,
     "metadata": {},
     "output_type": "execute_result"
    },
    {
     "data": {
      "image/png": "[encoded data removed]",
      "text/plain": [
       "<Figure size 432x288 with 1 Axes>"
      ]
     },
     "metadata": {},
     "output_type": "display_data"
    }
   ],
   "source": [
    "import seaborn\n",
    "seaborn.set_style(style='whitegrid')\n",
    "seaborn.boxplot(x='Location',y='Weight', data = chilla)"
   ]
  },
  {
   "cell_type": "code",
   "execution_count": 24,
   "id": "f1315714",
   "metadata": {},
   "outputs": [
    {
     "data": {
      "text/plain": [
       "<AxesSubplot:xlabel='Programming language', ylabel='Weight'>"
      ]
     },
     "execution_count": 24,
     "metadata": {},
     "output_type": "execute_result"
    },
    {
     "data": {
      "image/png": "[encoded data removed]",
      "text/plain": [
       "<Figure size 432x288 with 1 Axes>"
      ]
     },
     "metadata": {},
     "output_type": "display_data"
    }
   ],
   "source": [
    "import seaborn\n",
    "seaborn.set_style(style='whitegrid')\n",
    "seaborn.boxplot(x='Programming language',y='Weight', data = chilla)"
   ]
  },
  {
   "cell_type": "code",
   "execution_count": 25,
   "id": "ad07572d",
   "metadata": {},
   "outputs": [
    {
     "data": {
      "text/plain": [
       "<AxesSubplot:xlabel='Marital Status', ylabel='Weight'>"
      ]
     },
     "execution_count": 25,
     "metadata": {},
     "output_type": "execute_result"
    },
    {
     "data": {
      "image/png": "[encoded data removed]",
      "text/plain": [
       "<Figure size 432x288 with 1 Axes>"
      ]
     },
     "metadata": {},
     "output_type": "display_data"
    }
   ],
   "source": [
    "import seaborn\n",
    "seaborn.set_style(style='whitegrid')\n",
    "seaborn.boxplot(x=marital,y='Weight', data = chilla)"
   ]
  },
  {
   "cell_type": "code",
   "execution_count": 26,
   "id": "9f292fcc",
   "metadata": {},
   "outputs": [
    {
     "data": {
      "text/html": [
       "<div>\n",
       "<style scoped>\n",
       "    .dataframe tbody tr th:only-of-type {\n",
       "        vertical-align: middle;\n",
       "    }\n",
       "\n",
       "    .dataframe tbody tr th {\n",
       "        vertical-align: top;\n",
       "    }\n",
       "\n",
       "    .dataframe thead th {\n",
       "        text-align: right;\n",
       "    }\n",
       "</style>\n",
       "<table border=\"1\" class=\"dataframe\">\n",
       "  <thead>\n",
       "    <tr style=\"text-align: right;\">\n",
       "      <th></th>\n",
       "      <th>Timestamp</th>\n",
       "      <th>Gender</th>\n",
       "      <th>Location</th>\n",
       "      <th>Age</th>\n",
       "      <th>Qualification</th>\n",
       "      <th>field_of_study</th>\n",
       "      <th>Purpose_for_chilla</th>\n",
       "      <th>Experience</th>\n",
       "      <th>Age.1</th>\n",
       "      <th>What are you?</th>\n",
       "      <th>...</th>\n",
       "      <th>Weight</th>\n",
       "      <th>Height</th>\n",
       "      <th>Glasses</th>\n",
       "      <th>First line of code</th>\n",
       "      <th>Programming language</th>\n",
       "      <th>Marital Status</th>\n",
       "      <th>Coding Hours</th>\n",
       "      <th>Vaccinated</th>\n",
       "      <th>Load shedding</th>\n",
       "      <th>Area</th>\n",
       "    </tr>\n",
       "  </thead>\n",
       "  <tbody>\n",
       "    <tr>\n",
       "      <th>0</th>\n",
       "      <td>1/4/22 18:02</td>\n",
       "      <td>Male</td>\n",
       "      <td>Pakistan</td>\n",
       "      <td>36-40</td>\n",
       "      <td>Masters</td>\n",
       "      <td>Natural Sciences</td>\n",
       "      <td>to boost my skill set</td>\n",
       "      <td>5</td>\n",
       "      <td>38.00</td>\n",
       "      <td>Unemplyed</td>\n",
       "      <td>...</td>\n",
       "      <td>77.00</td>\n",
       "      <td>179.000</td>\n",
       "      <td>No</td>\n",
       "      <td>&gt;3 years ago</td>\n",
       "      <td>Python</td>\n",
       "      <td>Yes</td>\n",
       "      <td>3.0</td>\n",
       "      <td>Yes</td>\n",
       "      <td>2</td>\n",
       "      <td>Urbun</td>\n",
       "    </tr>\n",
       "    <tr>\n",
       "      <th>1</th>\n",
       "      <td>1/4/22 18:02</td>\n",
       "      <td>Male</td>\n",
       "      <td>Pakistan</td>\n",
       "      <td>26-30</td>\n",
       "      <td>Bachelors</td>\n",
       "      <td>CS/IT</td>\n",
       "      <td>to boost my skill set</td>\n",
       "      <td>1</td>\n",
       "      <td>25.00</td>\n",
       "      <td>Student</td>\n",
       "      <td>...</td>\n",
       "      <td>53.60</td>\n",
       "      <td>178.000</td>\n",
       "      <td>No</td>\n",
       "      <td>&gt;3 years ago</td>\n",
       "      <td>Python</td>\n",
       "      <td>No</td>\n",
       "      <td>2.0</td>\n",
       "      <td>Yes</td>\n",
       "      <td>6</td>\n",
       "      <td>Urbun</td>\n",
       "    </tr>\n",
       "    <tr>\n",
       "      <th>2</th>\n",
       "      <td>1/4/22 18:03</td>\n",
       "      <td>Male</td>\n",
       "      <td>Pakistan</td>\n",
       "      <td>31-35</td>\n",
       "      <td>Masters</td>\n",
       "      <td>Enginnering</td>\n",
       "      <td>Switch my field of study</td>\n",
       "      <td>5.5</td>\n",
       "      <td>31.34</td>\n",
       "      <td>Employed</td>\n",
       "      <td>...</td>\n",
       "      <td>93.00</td>\n",
       "      <td>173.000</td>\n",
       "      <td>Yes</td>\n",
       "      <td>&gt;3 years ago</td>\n",
       "      <td>Python</td>\n",
       "      <td>Yes</td>\n",
       "      <td>2.0</td>\n",
       "      <td>Yes</td>\n",
       "      <td>0</td>\n",
       "      <td>Urbun</td>\n",
       "    </tr>\n",
       "    <tr>\n",
       "      <th>3</th>\n",
       "      <td>1/4/22 18:03</td>\n",
       "      <td>Female</td>\n",
       "      <td>Pakistan</td>\n",
       "      <td>31-35</td>\n",
       "      <td>Masters</td>\n",
       "      <td>CS/IT</td>\n",
       "      <td>to boost my skill set</td>\n",
       "      <td>5</td>\n",
       "      <td>33.00</td>\n",
       "      <td>Employed</td>\n",
       "      <td>...</td>\n",
       "      <td>60.00</td>\n",
       "      <td>157.000</td>\n",
       "      <td>No</td>\n",
       "      <td>&lt;3 years ago</td>\n",
       "      <td>Python</td>\n",
       "      <td>Yes</td>\n",
       "      <td>3.0</td>\n",
       "      <td>Yes</td>\n",
       "      <td>0</td>\n",
       "      <td>Urbun</td>\n",
       "    </tr>\n",
       "    <tr>\n",
       "      <th>4</th>\n",
       "      <td>1/4/22 18:03</td>\n",
       "      <td>Female</td>\n",
       "      <td>Pakistan</td>\n",
       "      <td>26-30</td>\n",
       "      <td>Masters</td>\n",
       "      <td>Enginnering</td>\n",
       "      <td>to boost my skill set</td>\n",
       "      <td>3.5</td>\n",
       "      <td>27.00</td>\n",
       "      <td>Student</td>\n",
       "      <td>...</td>\n",
       "      <td>59.90</td>\n",
       "      <td>164.544</td>\n",
       "      <td>Yes</td>\n",
       "      <td>In this chilla</td>\n",
       "      <td>Javascript</td>\n",
       "      <td>No</td>\n",
       "      <td>6.0</td>\n",
       "      <td>Yes</td>\n",
       "      <td>12</td>\n",
       "      <td>Rural</td>\n",
       "    </tr>\n",
       "    <tr>\n",
       "      <th>...</th>\n",
       "      <td>...</td>\n",
       "      <td>...</td>\n",
       "      <td>...</td>\n",
       "      <td>...</td>\n",
       "      <td>...</td>\n",
       "      <td>...</td>\n",
       "      <td>...</td>\n",
       "      <td>...</td>\n",
       "      <td>...</td>\n",
       "      <td>...</td>\n",
       "      <td>...</td>\n",
       "      <td>...</td>\n",
       "      <td>...</td>\n",
       "      <td>...</td>\n",
       "      <td>...</td>\n",
       "      <td>...</td>\n",
       "      <td>...</td>\n",
       "      <td>...</td>\n",
       "      <td>...</td>\n",
       "      <td>...</td>\n",
       "      <td>...</td>\n",
       "    </tr>\n",
       "    <tr>\n",
       "      <th>272</th>\n",
       "      <td>1/4/22 18:50</td>\n",
       "      <td>Male</td>\n",
       "      <td>Pakistan</td>\n",
       "      <td>26-30</td>\n",
       "      <td>Masters</td>\n",
       "      <td>Mathematics</td>\n",
       "      <td>to boost my skill set</td>\n",
       "      <td>0.5</td>\n",
       "      <td>30.00</td>\n",
       "      <td>Student</td>\n",
       "      <td>...</td>\n",
       "      <td>75.55</td>\n",
       "      <td>167.650</td>\n",
       "      <td>No</td>\n",
       "      <td>&gt;3 years ago</td>\n",
       "      <td>Python</td>\n",
       "      <td>Yes</td>\n",
       "      <td>10.0</td>\n",
       "      <td>Yes</td>\n",
       "      <td>4</td>\n",
       "      <td>Urbun</td>\n",
       "    </tr>\n",
       "    <tr>\n",
       "      <th>273</th>\n",
       "      <td>1/4/22 18:55</td>\n",
       "      <td>Male</td>\n",
       "      <td>Pakistan</td>\n",
       "      <td>26-30</td>\n",
       "      <td>Masters</td>\n",
       "      <td>Enginnering</td>\n",
       "      <td>to boost my skill set</td>\n",
       "      <td>7</td>\n",
       "      <td>28.00</td>\n",
       "      <td>Employed</td>\n",
       "      <td>...</td>\n",
       "      <td>70.50</td>\n",
       "      <td>178.500</td>\n",
       "      <td>Yes</td>\n",
       "      <td>In this chilla</td>\n",
       "      <td>R</td>\n",
       "      <td>Yes</td>\n",
       "      <td>4.0</td>\n",
       "      <td>Yes</td>\n",
       "      <td>3</td>\n",
       "      <td>Rural</td>\n",
       "    </tr>\n",
       "    <tr>\n",
       "      <th>274</th>\n",
       "      <td>1/4/22 18:55</td>\n",
       "      <td>Male</td>\n",
       "      <td>Pakistan</td>\n",
       "      <td>31-35</td>\n",
       "      <td>Bachelors</td>\n",
       "      <td>Enginnering</td>\n",
       "      <td>to boost my skill set</td>\n",
       "      <td>5</td>\n",
       "      <td>33.00</td>\n",
       "      <td>Employed</td>\n",
       "      <td>...</td>\n",
       "      <td>83.40</td>\n",
       "      <td>172.700</td>\n",
       "      <td>Yes</td>\n",
       "      <td>&gt;3 years ago</td>\n",
       "      <td>Python</td>\n",
       "      <td>Yes</td>\n",
       "      <td>1.0</td>\n",
       "      <td>Yes</td>\n",
       "      <td>1</td>\n",
       "      <td>Urbun</td>\n",
       "    </tr>\n",
       "    <tr>\n",
       "      <th>275</th>\n",
       "      <td>1/4/22 18:56</td>\n",
       "      <td>Male</td>\n",
       "      <td>Pakistan</td>\n",
       "      <td>21-25</td>\n",
       "      <td>Bachelors</td>\n",
       "      <td>CS/IT</td>\n",
       "      <td>to boost my skill set</td>\n",
       "      <td>0</td>\n",
       "      <td>22.80</td>\n",
       "      <td>Employed</td>\n",
       "      <td>...</td>\n",
       "      <td>60.00</td>\n",
       "      <td>1.680</td>\n",
       "      <td>No</td>\n",
       "      <td>&gt;3 years ago</td>\n",
       "      <td>Python</td>\n",
       "      <td>No</td>\n",
       "      <td>0.0</td>\n",
       "      <td>Yes</td>\n",
       "      <td>0</td>\n",
       "      <td>Urbun</td>\n",
       "    </tr>\n",
       "    <tr>\n",
       "      <th>276</th>\n",
       "      <td>1/4/22 19:02</td>\n",
       "      <td>Female</td>\n",
       "      <td>Pakistan</td>\n",
       "      <td>31-35</td>\n",
       "      <td>Masters</td>\n",
       "      <td>Mathematics</td>\n",
       "      <td>Switch my field of study</td>\n",
       "      <td>3</td>\n",
       "      <td>31.00</td>\n",
       "      <td>Unemplyed</td>\n",
       "      <td>...</td>\n",
       "      <td>54.50</td>\n",
       "      <td>161.544</td>\n",
       "      <td>Yes</td>\n",
       "      <td>In this chilla</td>\n",
       "      <td>Python</td>\n",
       "      <td>Yes</td>\n",
       "      <td>3.0</td>\n",
       "      <td>Yes</td>\n",
       "      <td>0</td>\n",
       "      <td>Urbun</td>\n",
       "    </tr>\n",
       "  </tbody>\n",
       "</table>\n",
       "<p>277 rows × 26 columns</p>\n",
       "</div>"
      ],
      "text/plain": [
       "        Timestamp  Gender  Location    Age Qualification    field_of_study  \\\n",
       "0    1/4/22 18:02    Male  Pakistan  36-40       Masters  Natural Sciences   \n",
       "1    1/4/22 18:02    Male  Pakistan  26-30     Bachelors             CS/IT   \n",
       "2    1/4/22 18:03    Male  Pakistan  31-35       Masters       Enginnering   \n",
       "3    1/4/22 18:03  Female  Pakistan  31-35       Masters             CS/IT   \n",
       "4    1/4/22 18:03  Female  Pakistan  26-30       Masters       Enginnering   \n",
       "..            ...     ...       ...    ...           ...               ...   \n",
       "272  1/4/22 18:50    Male  Pakistan  26-30       Masters       Mathematics   \n",
       "273  1/4/22 18:55    Male  Pakistan  26-30       Masters       Enginnering   \n",
       "274  1/4/22 18:55    Male  Pakistan  31-35     Bachelors       Enginnering   \n",
       "275  1/4/22 18:56    Male  Pakistan  21-25     Bachelors             CS/IT   \n",
       "276  1/4/22 19:02  Female  Pakistan  31-35       Masters       Mathematics   \n",
       "\n",
       "           Purpose_for_chilla Experience  Age.1 What are you?  ... Weight  \\\n",
       "0       to boost my skill set          5  38.00     Unemplyed  ...  77.00   \n",
       "1       to boost my skill set          1  25.00       Student  ...  53.60   \n",
       "2    Switch my field of study        5.5  31.34      Employed  ...  93.00   \n",
       "3       to boost my skill set          5  33.00      Employed  ...  60.00   \n",
       "4       to boost my skill set        3.5  27.00       Student  ...  59.90   \n",
       "..                        ...        ...    ...           ...  ...    ...   \n",
       "272     to boost my skill set        0.5  30.00       Student  ...  75.55   \n",
       "273     to boost my skill set          7  28.00      Employed  ...  70.50   \n",
       "274     to boost my skill set          5  33.00      Employed  ...  83.40   \n",
       "275     to boost my skill set          0  22.80      Employed  ...  60.00   \n",
       "276  Switch my field of study          3  31.00     Unemplyed  ...  54.50   \n",
       "\n",
       "      Height Glasses First line of code Programming language Marital Status  \\\n",
       "0    179.000      No       >3 years ago               Python            Yes   \n",
       "1    178.000      No       >3 years ago               Python             No   \n",
       "2    173.000     Yes       >3 years ago               Python            Yes   \n",
       "3    157.000      No       <3 years ago               Python            Yes   \n",
       "4    164.544     Yes     In this chilla           Javascript             No   \n",
       "..       ...     ...                ...                  ...            ...   \n",
       "272  167.650      No       >3 years ago               Python            Yes   \n",
       "273  178.500     Yes     In this chilla                    R            Yes   \n",
       "274  172.700     Yes       >3 years ago               Python            Yes   \n",
       "275    1.680      No       >3 years ago               Python             No   \n",
       "276  161.544     Yes     In this chilla               Python            Yes   \n",
       "\n",
       "     Coding Hours  Vaccinated Load shedding   Area  \n",
       "0             3.0         Yes             2  Urbun  \n",
       "1             2.0         Yes             6  Urbun  \n",
       "2             2.0         Yes             0  Urbun  \n",
       "3             3.0         Yes             0  Urbun  \n",
       "4             6.0         Yes            12  Rural  \n",
       "..            ...         ...           ...    ...  \n",
       "272          10.0         Yes             4  Urbun  \n",
       "273           4.0         Yes             3  Rural  \n",
       "274           1.0         Yes             1  Urbun  \n",
       "275           0.0         Yes             0  Urbun  \n",
       "276           3.0         Yes             0  Urbun  \n",
       "\n",
       "[277 rows x 26 columns]"
      ]
     },
     "execution_count": 26,
     "metadata": {},
     "output_type": "execute_result"
    }
   ],
   "source": [
    "chilla"
   ]
  },
  {
   "cell_type": "code",
   "execution_count": 27,
   "id": "5a44fcc1",
   "metadata": {},
   "outputs": [
    {
     "data": {
      "text/plain": [
       "<bound method NDFrame.describe of         Timestamp  Gender  Location    Age Qualification    field_of_study  \\\n",
       "0    1/4/22 18:02    Male  Pakistan  36-40       Masters  Natural Sciences   \n",
       "1    1/4/22 18:02    Male  Pakistan  26-30     Bachelors             CS/IT   \n",
       "2    1/4/22 18:03    Male  Pakistan  31-35       Masters       Enginnering   \n",
       "3    1/4/22 18:03  Female  Pakistan  31-35       Masters             CS/IT   \n",
       "4    1/4/22 18:03  Female  Pakistan  26-30       Masters       Enginnering   \n",
       "..            ...     ...       ...    ...           ...               ...   \n",
       "272  1/4/22 18:50    Male  Pakistan  26-30       Masters       Mathematics   \n",
       "273  1/4/22 18:55    Male  Pakistan  26-30       Masters       Enginnering   \n",
       "274  1/4/22 18:55    Male  Pakistan  31-35     Bachelors       Enginnering   \n",
       "275  1/4/22 18:56    Male  Pakistan  21-25     Bachelors             CS/IT   \n",
       "276  1/4/22 19:02  Female  Pakistan  31-35       Masters       Mathematics   \n",
       "\n",
       "           Purpose_for_chilla Experience  Age.1 What are you?  ... Weight  \\\n",
       "0       to boost my skill set          5  38.00     Unemplyed  ...  77.00   \n",
       "1       to boost my skill set          1  25.00       Student  ...  53.60   \n",
       "2    Switch my field of study        5.5  31.34      Employed  ...  93.00   \n",
       "3       to boost my skill set          5  33.00      Employed  ...  60.00   \n",
       "4       to boost my skill set        3.5  27.00       Student  ...  59.90   \n",
       "..                        ...        ...    ...           ...  ...    ...   \n",
       "272     to boost my skill set        0.5  30.00       Student  ...  75.55   \n",
       "273     to boost my skill set          7  28.00      Employed  ...  70.50   \n",
       "274     to boost my skill set          5  33.00      Employed  ...  83.40   \n",
       "275     to boost my skill set          0  22.80      Employed  ...  60.00   \n",
       "276  Switch my field of study          3  31.00     Unemplyed  ...  54.50   \n",
       "\n",
       "      Height Glasses First line of code Programming language Marital Status  \\\n",
       "0    179.000      No       >3 years ago               Python            Yes   \n",
       "1    178.000      No       >3 years ago               Python             No   \n",
       "2    173.000     Yes       >3 years ago               Python            Yes   \n",
       "3    157.000      No       <3 years ago               Python            Yes   \n",
       "4    164.544     Yes     In this chilla           Javascript             No   \n",
       "..       ...     ...                ...                  ...            ...   \n",
       "272  167.650      No       >3 years ago               Python            Yes   \n",
       "273  178.500     Yes     In this chilla                    R            Yes   \n",
       "274  172.700     Yes       >3 years ago               Python            Yes   \n",
       "275    1.680      No       >3 years ago               Python             No   \n",
       "276  161.544     Yes     In this chilla               Python            Yes   \n",
       "\n",
       "     Coding Hours  Vaccinated Load shedding   Area  \n",
       "0             3.0         Yes             2  Urbun  \n",
       "1             2.0         Yes             6  Urbun  \n",
       "2             2.0         Yes             0  Urbun  \n",
       "3             3.0         Yes             0  Urbun  \n",
       "4             6.0         Yes            12  Rural  \n",
       "..            ...         ...           ...    ...  \n",
       "272          10.0         Yes             4  Urbun  \n",
       "273           4.0         Yes             3  Rural  \n",
       "274           1.0         Yes             1  Urbun  \n",
       "275           0.0         Yes             0  Urbun  \n",
       "276           3.0         Yes             0  Urbun  \n",
       "\n",
       "[277 rows x 26 columns]>"
      ]
     },
     "execution_count": 27,
     "metadata": {},
     "output_type": "execute_result"
    }
   ],
   "source": [
    "chilla.describe"
   ]
  },
  {
   "cell_type": "markdown",
   "id": "beaa5b60",
   "metadata": {},
   "source": [
    "## Horizontal barplot"
   ]
  },
  {
   "cell_type": "code",
   "execution_count": 28,
   "id": "c1b36836",
   "metadata": {},
   "outputs": [
    {
     "data": {
      "text/plain": [
       "<AxesSubplot:xlabel='Coding Hours', ylabel='Location'>"
      ]
     },
     "execution_count": 28,
     "metadata": {},
     "output_type": "execute_result"
    },
    {
     "data": {
      "image/png": "[encoded data removed]",
      "text/plain": [
       "<Figure size 432x288 with 1 Axes>"
      ]
     },
     "metadata": {},
     "output_type": "display_data"
    }
   ],
   "source": [
    "seaborn.boxplot(x=chilla['Coding Hours'],y=chilla['Location'],hue=gender,dodge=False, data=chilla)"
   ]
  },
  {
   "cell_type": "markdown",
   "id": "0f030a46",
   "metadata": {},
   "source": [
    "## Adding Hue"
   ]
  },
  {
   "cell_type": "code",
   "execution_count": 29,
   "id": "b92ad535",
   "metadata": {},
   "outputs": [
    {
     "data": {
      "text/plain": [
       "<AxesSubplot:xlabel='Coding Hours', ylabel='Location'>"
      ]
     },
     "execution_count": 29,
     "metadata": {},
     "output_type": "execute_result"
    },
    {
     "data": {
      "image/png": "[encoded data removed]",
      "text/plain": [
       "<Figure size 432x288 with 1 Axes>"
      ]
     },
     "metadata": {},
     "output_type": "display_data"
    }
   ],
   "source": [
    "seaborn.boxplot(x=chilla['Coding Hours'],y=chilla['Location'],hue=gender,dodge=False, data=chilla)"
   ]
  },
  {
   "cell_type": "markdown",
   "id": "5d53bb75",
   "metadata": {},
   "source": [
    "## Adding Dodge"
   ]
  },
  {
   "cell_type": "code",
   "execution_count": 30,
   "id": "62634f14",
   "metadata": {},
   "outputs": [
    {
     "data": {
      "text/plain": [
       "<AxesSubplot:xlabel='Coding Hours', ylabel='Location'>"
      ]
     },
     "execution_count": 30,
     "metadata": {},
     "output_type": "execute_result"
    },
    {
     "data": {
      "image/png": "[encoded data removed]",
      "text/plain": [
       "<Figure size 432x288 with 1 Axes>"
      ]
     },
     "metadata": {},
     "output_type": "display_data"
    }
   ],
   "source": [
    "seaborn.boxplot(x=chilla['Coding Hours'],y=chilla['Location'],dodge=True ,data=chilla)"
   ]
  },
  {
   "cell_type": "markdown",
   "id": "1c2f1aac",
   "metadata": {},
   "source": [
    "## Adding Color"
   ]
  },
  {
   "cell_type": "code",
   "execution_count": 31,
   "id": "c030d36f",
   "metadata": {},
   "outputs": [
    {
     "data": {
      "text/plain": [
       "<AxesSubplot:xlabel='Coding Hours', ylabel='Location'>"
      ]
     },
     "execution_count": 31,
     "metadata": {},
     "output_type": "execute_result"
    },
    {
     "data": {
      "image/png": "[encoded data removed]",
      "text/plain": [
       "<Figure size 432x288 with 1 Axes>"
      ]
     },
     "metadata": {},
     "output_type": "display_data"
    }
   ],
   "source": [
    "seaborn.boxplot(x=chilla['Coding Hours'],y=chilla['Location'],dodge=True ,data=chilla, color='purple')"
   ]
  },
  {
   "cell_type": "markdown",
   "id": "3b20c787",
   "metadata": {},
   "source": [
    "## Customizing Colors "
   ]
  },
  {
   "cell_type": "code",
   "execution_count": 32,
   "id": "c3f3f833",
   "metadata": {},
   "outputs": [
    {
     "data": {
      "text/plain": [
       "<AxesSubplot:xlabel='Location', ylabel='Coding Hours'>"
      ]
     },
     "execution_count": 32,
     "metadata": {},
     "output_type": "execute_result"
    },
    {
     "data": {
      "image/png": "[encoded data removed]",
      "text/plain": [
       "<Figure size 432x288 with 1 Axes>"
      ]
     },
     "metadata": {},
     "output_type": "display_data"
    }
   ],
   "source": [
    "seaborn.boxplot(y=chilla['Coding Hours'],x=chilla['Location'],dodge=True ,hue=glasses ,palette ={1: \"green\", 0: \"purple\"}, data=chilla)"
   ]
  },
  {
   "cell_type": "code",
   "execution_count": null,
   "id": "bc785a55",
   "metadata": {},
   "outputs": [],
   "source": []
  },
  {
   "cell_type": "code",
   "execution_count": 33,
   "id": "580d3c2d",
   "metadata": {},
   "outputs": [
    {
     "data": {
      "text/plain": [
       "<AxesSubplot:xlabel='Location', ylabel='Weight'>"
      ]
     },
     "execution_count": 33,
     "metadata": {},
     "output_type": "execute_result"
    },
    {
     "data": {
      "image/png": "[encoded data removed]",
      "text/plain": [
       "<Figure size 432x288 with 1 Axes>"
      ]
     },
     "metadata": {},
     "output_type": "display_data"
    }
   ],
   "source": [
    "\n",
    "sns.set_style(style='whitegrid')\n",
    "sns.boxplot(x='Location',y='Weight', data = chilla)"
   ]
  },
  {
   "cell_type": "code",
   "execution_count": 34,
   "id": "0324e1bb",
   "metadata": {},
   "outputs": [
    {
     "data": {
      "text/plain": [
       "<AxesSubplot:xlabel='Gender', ylabel='Weight'>"
      ]
     },
     "execution_count": 34,
     "metadata": {},
     "output_type": "execute_result"
    },
    {
     "data": {
      "image/png": "[encoded data removed]",
      "text/plain": [
       "<Figure size 432x288 with 1 Axes>"
      ]
     },
     "metadata": {},
     "output_type": "display_data"
    }
   ],
   "source": [
    "\n",
    "sns.set_style(style='whitegrid')\n",
    "sns.boxplot(x=gender,y='Weight', data = chilla)"
   ]
  },
  {
   "cell_type": "markdown",
   "id": "7026d546",
   "metadata": {},
   "source": [
    "## Show Means"
   ]
  },
  {
   "cell_type": "code",
   "execution_count": 35,
   "id": "cb300c73",
   "metadata": {},
   "outputs": [
    {
     "data": {
      "text/plain": [
       "<AxesSubplot:xlabel='Glasses', ylabel='Coding Hours'>"
      ]
     },
     "execution_count": 35,
     "metadata": {},
     "output_type": "execute_result"
    },
    {
     "data": {
      "image/png": "[encoded data removed]",
      "text/plain": [
       "<Figure size 432x288 with 1 Axes>"
      ]
     },
     "metadata": {},
     "output_type": "display_data"
    }
   ],
   "source": [
    "\n",
    "sns.set_style(style='whitegrid')\n",
    "sns.boxplot(x=glasses,y='Coding Hours', showmeans=True, data = chilla)"
   ]
  },
  {
   "cell_type": "markdown",
   "id": "215be9a6",
   "metadata": {},
   "source": [
    "## meanprops"
   ]
  },
  {
   "cell_type": "code",
   "execution_count": 36,
   "id": "061799e4",
   "metadata": {},
   "outputs": [
    {
     "data": {
      "text/plain": [
       "<AxesSubplot:xlabel='Glasses', ylabel='Coding Hours'>"
      ]
     },
     "execution_count": 36,
     "metadata": {},
     "output_type": "execute_result"
    },
    {
     "data": {
      "image/png": "[encoded data removed]",
      "text/plain": [
       "<Figure size 432x288 with 1 Axes>"
      ]
     },
     "metadata": {},
     "output_type": "display_data"
    }
   ],
   "source": [
    "\n",
    "sns.set_style(style='whitegrid')\n",
    "sns.boxplot(x=glasses,y='Coding Hours', showmeans=True, meanprops={'marker':'x',\n",
    "                                                                  'markersize':10,\n",
    "                                                                  'markeredgecolor':'blue'}\n",
    "            ,data = chilla)"
   ]
  },
  {
   "cell_type": "markdown",
   "id": "bd289fcb",
   "metadata": {},
   "source": [
    "## Show labels"
   ]
  },
  {
   "cell_type": "code",
   "execution_count": 37,
   "id": "e68de511",
   "metadata": {},
   "outputs": [],
   "source": [
    "import matplotlib.pyplot as plt"
   ]
  },
  {
   "cell_type": "code",
   "execution_count": 39,
   "id": "d3ad725f",
   "metadata": {},
   "outputs": [
    {
     "data": {
      "image/png": "[encoded data removed]",
      "text/plain": [
       "<Figure size 432x288 with 1 Axes>"
      ]
     },
     "metadata": {},
     "output_type": "display_data"
    }
   ],
   "source": [
    "sns.set_style(style='whitegrid')\n",
    "sns.boxplot(x=glasses,y='Coding Hours', showmeans=True, meanprops={'marker':'x',\n",
    "                                                                  'markersize':10,\n",
    "                                                                  'markeredgecolor':'blue'}\n",
    "            ,data = chilla)\n",
    "plt.ylabel('Hours of Coding'),\n",
    "plt.xlabel(\"People who wear glasses\")\n",
    "plt.show()"
   ]
  },
  {
   "cell_type": "code",
   "execution_count": null,
   "id": "57cad31a",
   "metadata": {},
   "outputs": [],
   "source": []
  },
  {
   "cell_type": "code",
   "execution_count": null,
   "id": "ea8fab2c",
   "metadata": {},
   "outputs": [],
   "source": []
  }
 ],
 "metadata": {
  "kernelspec": {
   "display_name": "Python 3 (ipykernel)",
   "language": "python",
   "name": "python3"
  },
  "language_info": {
   "codemirror_mode": {
    "name": "ipython",
    "version": 3
   },
   "file_extension": ".py",
   "mimetype": "text/x-python",
   "name": "python",
   "nbconvert_exporter": "python",
   "pygments_lexer": "ipython3",
   "version": "3.7.11"
  },
  "toc": {
   "base_numbering": 1,
   "nav_menu": {},
   "number_sections": false,
   "sideBar": true,
   "skip_h1_title": false,
   "title_cell": "Table of Contents",
   "title_sidebar": "Contents",
   "toc_cell": false,
   "toc_position": {},
   "toc_section_display": true,
   "toc_window_display": false
  }
 },
 "nbformat": 4,
 "nbformat_minor": 5
}
