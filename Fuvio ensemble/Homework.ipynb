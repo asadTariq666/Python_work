{
  "cells": [
    {
      "cell_type": "code",
      "execution_count": 377,
      "metadata": {
        "colab": {
          "base_uri": "https://localhost:8080/"
        },
        "id": "cqCZIUgy2C4p",
        "outputId": "4c69f274-0c06-474a-9bfe-f0f3c1f7ae26"
      },
      "outputs": [],
      "source": [
        "# Importing Libraries\n",
        "import pandas as pd \n",
        "import numpy as np\n",
        "import seaborn as sns\n",
        "import matplotlib.pyplot as plt\n",
        "from scipy import stats\n",
        "import statsmodels.api as sm\n",
        "\n"
      ]
    },
    {
      "cell_type": "code",
      "execution_count": 378,
      "metadata": {},
      "outputs": [
        {
          "name": "stdout",
          "output_type": "stream",
          "text": [
            "   ID  Reason for absence  Month of absence  Day of the week  Seasons  \\\n",
            "0  11                  26                 7                3        1   \n",
            "1  36                   0                 7                3        1   \n",
            "2   3                  23                 7                4        1   \n",
            "3   7                   7                 7                5        1   \n",
            "4  11                  23                 7                5        1   \n",
            "\n",
            "   Transportation expense  Distance from Residence to Work  Service time  Age  \\\n",
            "0                     289                               36            13   33   \n",
            "1                     118                               13            18   50   \n",
            "2                     179                               51            18   38   \n",
            "3                     279                                5            14   39   \n",
            "4                     289                               36            13   33   \n",
            "\n",
            "  Work load Average/day   ...  Disciplinary failure  Education  Son  \\\n",
            "0                239,554  ...                     0          1    2   \n",
            "1                239,554  ...                     1          1    1   \n",
            "2                239,554  ...                     0          1    0   \n",
            "3                239,554  ...                     0          1    2   \n",
            "4                239,554  ...                     0          1    2   \n",
            "\n",
            "   Social drinker  Social smoker  Pet  Weight  Height  Body mass index  \\\n",
            "0               1              0    1      90     172               30   \n",
            "1               1              0    0      98     178               31   \n",
            "2               1              0    0      89     170               31   \n",
            "3               1              1    0      68     168               24   \n",
            "4               1              0    1      90     172               30   \n",
            "\n",
            "   Absenteeism time in hours  \n",
            "0                          4  \n",
            "1                          0  \n",
            "2                          2  \n",
            "3                          4  \n",
            "4                          2  \n",
            "\n",
            "[5 rows x 21 columns]\n"
          ]
        }
      ],
      "source": [
        "#reading data\n",
        "absenteeism_data = pd.read_csv('Absenteeism_at_work.csv')\n",
        "print(absenteeism_data.head(5))"
      ]
    },
    {
      "cell_type": "code",
      "execution_count": 379,
      "metadata": {
        "id": "WgV24m7v52nA"
      },
      "outputs": [],
      "source": [
        "absenteeism_data.rename(columns = {'Work load Average/day ':'Workload'}, inplace = True)"
      ]
    },
    {
      "cell_type": "code",
      "execution_count": 380,
      "metadata": {
        "colab": {
          "base_uri": "https://localhost:8080/"
        },
        "id": "1Vt24mqn6fIv",
        "outputId": "9ef3c17b-f639-41b7-cebf-1bba6cc49a4a"
      },
      "outputs": [
        {
          "data": {
            "text/plain": [
              "['ID',\n",
              " 'Reason for absence',\n",
              " 'Month of absence',\n",
              " 'Day of the week',\n",
              " 'Seasons',\n",
              " 'Transportation expense',\n",
              " 'Distance from Residence to Work',\n",
              " 'Service time',\n",
              " 'Age',\n",
              " 'Workload',\n",
              " 'Hit target',\n",
              " 'Disciplinary failure',\n",
              " 'Education',\n",
              " 'Son',\n",
              " 'Social drinker',\n",
              " 'Social smoker',\n",
              " 'Pet',\n",
              " 'Weight',\n",
              " 'Height',\n",
              " 'Body mass index',\n",
              " 'Absenteeism time in hours']"
            ]
          },
          "execution_count": 380,
          "metadata": {},
          "output_type": "execute_result"
        }
      ],
      "source": [
        "list(absenteeism_data)"
      ]
    },
    {
      "cell_type": "code",
      "execution_count": 381,
      "metadata": {
        "id": "XR8kCPqI7Sxo"
      },
      "outputs": [],
      "source": [
        "absenteeism_data['Workload'] = absenteeism_data['Workload'].str.replace(',', '').astype(float)"
      ]
    },
    {
      "cell_type": "code",
      "execution_count": 382,
      "metadata": {
        "colab": {
          "base_uri": "https://localhost:8080/",
          "height": 445
        },
        "id": "sk2-SBVp3O3X",
        "outputId": "62a8e4c3-0db2-48fb-a1e0-100755405d77"
      },
      "outputs": [
        {
          "data": {
            "text/html": [
              "<div>\n",
              "<style scoped>\n",
              "    .dataframe tbody tr th:only-of-type {\n",
              "        vertical-align: middle;\n",
              "    }\n",
              "\n",
              "    .dataframe tbody tr th {\n",
              "        vertical-align: top;\n",
              "    }\n",
              "\n",
              "    .dataframe thead th {\n",
              "        text-align: right;\n",
              "    }\n",
              "</style>\n",
              "<table border=\"1\" class=\"dataframe\">\n",
              "  <thead>\n",
              "    <tr style=\"text-align: right;\">\n",
              "      <th></th>\n",
              "      <th>ID</th>\n",
              "      <th>Reason for absence</th>\n",
              "      <th>Month of absence</th>\n",
              "      <th>Day of the week</th>\n",
              "      <th>Seasons</th>\n",
              "      <th>Transportation expense</th>\n",
              "      <th>Distance from Residence to Work</th>\n",
              "      <th>Service time</th>\n",
              "      <th>Age</th>\n",
              "      <th>Workload</th>\n",
              "      <th>...</th>\n",
              "      <th>Disciplinary failure</th>\n",
              "      <th>Education</th>\n",
              "      <th>Son</th>\n",
              "      <th>Social drinker</th>\n",
              "      <th>Social smoker</th>\n",
              "      <th>Pet</th>\n",
              "      <th>Weight</th>\n",
              "      <th>Height</th>\n",
              "      <th>Body mass index</th>\n",
              "      <th>Absenteeism time in hours</th>\n",
              "    </tr>\n",
              "  </thead>\n",
              "  <tbody>\n",
              "    <tr>\n",
              "      <th>count</th>\n",
              "      <td>740.000000</td>\n",
              "      <td>740.000000</td>\n",
              "      <td>740.000000</td>\n",
              "      <td>740.000000</td>\n",
              "      <td>740.000000</td>\n",
              "      <td>740.000000</td>\n",
              "      <td>740.000000</td>\n",
              "      <td>740.000000</td>\n",
              "      <td>740.000000</td>\n",
              "      <td>740.000000</td>\n",
              "      <td>...</td>\n",
              "      <td>740.000000</td>\n",
              "      <td>740.000000</td>\n",
              "      <td>740.000000</td>\n",
              "      <td>740.000000</td>\n",
              "      <td>740.000000</td>\n",
              "      <td>740.000000</td>\n",
              "      <td>740.000000</td>\n",
              "      <td>740.000000</td>\n",
              "      <td>740.000000</td>\n",
              "      <td>740.000000</td>\n",
              "    </tr>\n",
              "    <tr>\n",
              "      <th>mean</th>\n",
              "      <td>18.017568</td>\n",
              "      <td>19.216216</td>\n",
              "      <td>6.324324</td>\n",
              "      <td>3.914865</td>\n",
              "      <td>2.544595</td>\n",
              "      <td>221.329730</td>\n",
              "      <td>29.631081</td>\n",
              "      <td>12.554054</td>\n",
              "      <td>36.450000</td>\n",
              "      <td>271490.235135</td>\n",
              "      <td>...</td>\n",
              "      <td>0.054054</td>\n",
              "      <td>1.291892</td>\n",
              "      <td>1.018919</td>\n",
              "      <td>0.567568</td>\n",
              "      <td>0.072973</td>\n",
              "      <td>0.745946</td>\n",
              "      <td>79.035135</td>\n",
              "      <td>172.114865</td>\n",
              "      <td>26.677027</td>\n",
              "      <td>6.924324</td>\n",
              "    </tr>\n",
              "    <tr>\n",
              "      <th>std</th>\n",
              "      <td>11.021247</td>\n",
              "      <td>8.433406</td>\n",
              "      <td>3.436287</td>\n",
              "      <td>1.421675</td>\n",
              "      <td>1.111831</td>\n",
              "      <td>66.952223</td>\n",
              "      <td>14.836788</td>\n",
              "      <td>4.384873</td>\n",
              "      <td>6.478772</td>\n",
              "      <td>39058.116188</td>\n",
              "      <td>...</td>\n",
              "      <td>0.226277</td>\n",
              "      <td>0.673238</td>\n",
              "      <td>1.098489</td>\n",
              "      <td>0.495749</td>\n",
              "      <td>0.260268</td>\n",
              "      <td>1.318258</td>\n",
              "      <td>12.883211</td>\n",
              "      <td>6.034995</td>\n",
              "      <td>4.285452</td>\n",
              "      <td>13.330998</td>\n",
              "    </tr>\n",
              "    <tr>\n",
              "      <th>min</th>\n",
              "      <td>1.000000</td>\n",
              "      <td>0.000000</td>\n",
              "      <td>0.000000</td>\n",
              "      <td>2.000000</td>\n",
              "      <td>1.000000</td>\n",
              "      <td>118.000000</td>\n",
              "      <td>5.000000</td>\n",
              "      <td>1.000000</td>\n",
              "      <td>27.000000</td>\n",
              "      <td>205917.000000</td>\n",
              "      <td>...</td>\n",
              "      <td>0.000000</td>\n",
              "      <td>1.000000</td>\n",
              "      <td>0.000000</td>\n",
              "      <td>0.000000</td>\n",
              "      <td>0.000000</td>\n",
              "      <td>0.000000</td>\n",
              "      <td>56.000000</td>\n",
              "      <td>163.000000</td>\n",
              "      <td>19.000000</td>\n",
              "      <td>0.000000</td>\n",
              "    </tr>\n",
              "    <tr>\n",
              "      <th>25%</th>\n",
              "      <td>9.000000</td>\n",
              "      <td>13.000000</td>\n",
              "      <td>3.000000</td>\n",
              "      <td>3.000000</td>\n",
              "      <td>2.000000</td>\n",
              "      <td>179.000000</td>\n",
              "      <td>16.000000</td>\n",
              "      <td>9.000000</td>\n",
              "      <td>31.000000</td>\n",
              "      <td>244387.000000</td>\n",
              "      <td>...</td>\n",
              "      <td>0.000000</td>\n",
              "      <td>1.000000</td>\n",
              "      <td>0.000000</td>\n",
              "      <td>0.000000</td>\n",
              "      <td>0.000000</td>\n",
              "      <td>0.000000</td>\n",
              "      <td>69.000000</td>\n",
              "      <td>169.000000</td>\n",
              "      <td>24.000000</td>\n",
              "      <td>2.000000</td>\n",
              "    </tr>\n",
              "    <tr>\n",
              "      <th>50%</th>\n",
              "      <td>18.000000</td>\n",
              "      <td>23.000000</td>\n",
              "      <td>6.000000</td>\n",
              "      <td>4.000000</td>\n",
              "      <td>3.000000</td>\n",
              "      <td>225.000000</td>\n",
              "      <td>26.000000</td>\n",
              "      <td>13.000000</td>\n",
              "      <td>37.000000</td>\n",
              "      <td>264249.000000</td>\n",
              "      <td>...</td>\n",
              "      <td>0.000000</td>\n",
              "      <td>1.000000</td>\n",
              "      <td>1.000000</td>\n",
              "      <td>1.000000</td>\n",
              "      <td>0.000000</td>\n",
              "      <td>0.000000</td>\n",
              "      <td>83.000000</td>\n",
              "      <td>170.000000</td>\n",
              "      <td>25.000000</td>\n",
              "      <td>3.000000</td>\n",
              "    </tr>\n",
              "    <tr>\n",
              "      <th>75%</th>\n",
              "      <td>28.000000</td>\n",
              "      <td>26.000000</td>\n",
              "      <td>9.000000</td>\n",
              "      <td>5.000000</td>\n",
              "      <td>4.000000</td>\n",
              "      <td>260.000000</td>\n",
              "      <td>50.000000</td>\n",
              "      <td>16.000000</td>\n",
              "      <td>40.000000</td>\n",
              "      <td>294217.000000</td>\n",
              "      <td>...</td>\n",
              "      <td>0.000000</td>\n",
              "      <td>1.000000</td>\n",
              "      <td>2.000000</td>\n",
              "      <td>1.000000</td>\n",
              "      <td>0.000000</td>\n",
              "      <td>1.000000</td>\n",
              "      <td>89.000000</td>\n",
              "      <td>172.000000</td>\n",
              "      <td>31.000000</td>\n",
              "      <td>8.000000</td>\n",
              "    </tr>\n",
              "    <tr>\n",
              "      <th>max</th>\n",
              "      <td>36.000000</td>\n",
              "      <td>28.000000</td>\n",
              "      <td>12.000000</td>\n",
              "      <td>6.000000</td>\n",
              "      <td>4.000000</td>\n",
              "      <td>388.000000</td>\n",
              "      <td>52.000000</td>\n",
              "      <td>29.000000</td>\n",
              "      <td>58.000000</td>\n",
              "      <td>378884.000000</td>\n",
              "      <td>...</td>\n",
              "      <td>1.000000</td>\n",
              "      <td>4.000000</td>\n",
              "      <td>4.000000</td>\n",
              "      <td>1.000000</td>\n",
              "      <td>1.000000</td>\n",
              "      <td>8.000000</td>\n",
              "      <td>108.000000</td>\n",
              "      <td>196.000000</td>\n",
              "      <td>38.000000</td>\n",
              "      <td>120.000000</td>\n",
              "    </tr>\n",
              "  </tbody>\n",
              "</table>\n",
              "<p>8 rows × 21 columns</p>\n",
              "</div>"
            ],
            "text/plain": [
              "               ID  Reason for absence  Month of absence  Day of the week  \\\n",
              "count  740.000000          740.000000        740.000000       740.000000   \n",
              "mean    18.017568           19.216216          6.324324         3.914865   \n",
              "std     11.021247            8.433406          3.436287         1.421675   \n",
              "min      1.000000            0.000000          0.000000         2.000000   \n",
              "25%      9.000000           13.000000          3.000000         3.000000   \n",
              "50%     18.000000           23.000000          6.000000         4.000000   \n",
              "75%     28.000000           26.000000          9.000000         5.000000   \n",
              "max     36.000000           28.000000         12.000000         6.000000   \n",
              "\n",
              "          Seasons  Transportation expense  Distance from Residence to Work  \\\n",
              "count  740.000000              740.000000                       740.000000   \n",
              "mean     2.544595              221.329730                        29.631081   \n",
              "std      1.111831               66.952223                        14.836788   \n",
              "min      1.000000              118.000000                         5.000000   \n",
              "25%      2.000000              179.000000                        16.000000   \n",
              "50%      3.000000              225.000000                        26.000000   \n",
              "75%      4.000000              260.000000                        50.000000   \n",
              "max      4.000000              388.000000                        52.000000   \n",
              "\n",
              "       Service time         Age       Workload  ...  Disciplinary failure  \\\n",
              "count    740.000000  740.000000     740.000000  ...            740.000000   \n",
              "mean      12.554054   36.450000  271490.235135  ...              0.054054   \n",
              "std        4.384873    6.478772   39058.116188  ...              0.226277   \n",
              "min        1.000000   27.000000  205917.000000  ...              0.000000   \n",
              "25%        9.000000   31.000000  244387.000000  ...              0.000000   \n",
              "50%       13.000000   37.000000  264249.000000  ...              0.000000   \n",
              "75%       16.000000   40.000000  294217.000000  ...              0.000000   \n",
              "max       29.000000   58.000000  378884.000000  ...              1.000000   \n",
              "\n",
              "        Education         Son  Social drinker  Social smoker         Pet  \\\n",
              "count  740.000000  740.000000      740.000000     740.000000  740.000000   \n",
              "mean     1.291892    1.018919        0.567568       0.072973    0.745946   \n",
              "std      0.673238    1.098489        0.495749       0.260268    1.318258   \n",
              "min      1.000000    0.000000        0.000000       0.000000    0.000000   \n",
              "25%      1.000000    0.000000        0.000000       0.000000    0.000000   \n",
              "50%      1.000000    1.000000        1.000000       0.000000    0.000000   \n",
              "75%      1.000000    2.000000        1.000000       0.000000    1.000000   \n",
              "max      4.000000    4.000000        1.000000       1.000000    8.000000   \n",
              "\n",
              "           Weight      Height  Body mass index  Absenteeism time in hours  \n",
              "count  740.000000  740.000000       740.000000                 740.000000  \n",
              "mean    79.035135  172.114865        26.677027                   6.924324  \n",
              "std     12.883211    6.034995         4.285452                  13.330998  \n",
              "min     56.000000  163.000000        19.000000                   0.000000  \n",
              "25%     69.000000  169.000000        24.000000                   2.000000  \n",
              "50%     83.000000  170.000000        25.000000                   3.000000  \n",
              "75%     89.000000  172.000000        31.000000                   8.000000  \n",
              "max    108.000000  196.000000        38.000000                 120.000000  \n",
              "\n",
              "[8 rows x 21 columns]"
            ]
          },
          "execution_count": 382,
          "metadata": {},
          "output_type": "execute_result"
        }
      ],
      "source": [
        "#descriptive statistics\n",
        "absenteeism_data.describe()"
      ]
    },
    {
      "cell_type": "code",
      "execution_count": 383,
      "metadata": {
        "colab": {
          "base_uri": "https://localhost:8080/",
          "height": 425
        },
        "id": "lCw7n22E9XxM",
        "outputId": "5649b48b-0971-49e0-9a32-40ff8cd367ad"
      },
      "outputs": [
        {
          "data": {
            "image/png": "[encoded data removed]",
            "text/plain": [
              "<Figure size 432x288 with 2 Axes>"
            ]
          },
          "metadata": {
            "needs_background": "light"
          },
          "output_type": "display_data"
        }
      ],
      "source": [
        "corrMatrix = absenteeism_data.corr()\n",
        "heatmap_1=corrMatrix.drop(['Pet','Weight', 'Age', 'Social drinker', 'Social smoker', 'Height', 'Body mass index', 'Son', 'ID']).drop(['Pet','Weight', 'Age', 'Social drinker', 'Social smoker', 'Height', 'Body mass index', 'Son', 'ID'],axis=1)\n",
        "mask = np.triu(np.ones_like(heatmap_1, dtype=bool))\n",
        "sns.heatmap(heatmap_1, annot=False, vmax=1, vmin=-1, center=0, cmap='vlag', mask=mask)\n",
        "plt.show()"
      ]
    },
    {
      "cell_type": "code",
      "execution_count": 384,
      "metadata": {
        "colab": {
          "base_uri": "https://localhost:8080/",
          "height": 539
        },
        "id": "_UKOVZby3dvL",
        "outputId": "ea4643c9-a252-425b-f773-ef6a3c2a4e2e"
      },
      "outputs": [
        {
          "data": {
            "text/html": [
              "<div>\n",
              "<style scoped>\n",
              "    .dataframe tbody tr th:only-of-type {\n",
              "        vertical-align: middle;\n",
              "    }\n",
              "\n",
              "    .dataframe tbody tr th {\n",
              "        vertical-align: top;\n",
              "    }\n",
              "\n",
              "    .dataframe thead th {\n",
              "        text-align: right;\n",
              "    }\n",
              "</style>\n",
              "<table border=\"1\" class=\"dataframe\">\n",
              "  <thead>\n",
              "    <tr style=\"text-align: right;\">\n",
              "      <th></th>\n",
              "      <th>Reason for absence</th>\n",
              "      <th>Month of absence</th>\n",
              "      <th>Day of the week</th>\n",
              "      <th>Seasons</th>\n",
              "      <th>Transportation expense</th>\n",
              "      <th>Distance from Residence to Work</th>\n",
              "      <th>Service time</th>\n",
              "      <th>Age</th>\n",
              "      <th>Workload</th>\n",
              "      <th>Hit target</th>\n",
              "      <th>Disciplinary failure</th>\n",
              "      <th>Education</th>\n",
              "      <th>Son</th>\n",
              "      <th>Social drinker</th>\n",
              "      <th>Social smoker</th>\n",
              "      <th>Pet</th>\n",
              "      <th>Weight</th>\n",
              "      <th>Height</th>\n",
              "      <th>Body mass index</th>\n",
              "    </tr>\n",
              "  </thead>\n",
              "  <tbody>\n",
              "    <tr>\n",
              "      <th>0</th>\n",
              "      <td>26</td>\n",
              "      <td>7</td>\n",
              "      <td>3</td>\n",
              "      <td>1</td>\n",
              "      <td>289</td>\n",
              "      <td>36</td>\n",
              "      <td>13</td>\n",
              "      <td>33</td>\n",
              "      <td>239554.0</td>\n",
              "      <td>97</td>\n",
              "      <td>0</td>\n",
              "      <td>1</td>\n",
              "      <td>2</td>\n",
              "      <td>1</td>\n",
              "      <td>0</td>\n",
              "      <td>1</td>\n",
              "      <td>90</td>\n",
              "      <td>172</td>\n",
              "      <td>30</td>\n",
              "    </tr>\n",
              "    <tr>\n",
              "      <th>1</th>\n",
              "      <td>0</td>\n",
              "      <td>7</td>\n",
              "      <td>3</td>\n",
              "      <td>1</td>\n",
              "      <td>118</td>\n",
              "      <td>13</td>\n",
              "      <td>18</td>\n",
              "      <td>50</td>\n",
              "      <td>239554.0</td>\n",
              "      <td>97</td>\n",
              "      <td>1</td>\n",
              "      <td>1</td>\n",
              "      <td>1</td>\n",
              "      <td>1</td>\n",
              "      <td>0</td>\n",
              "      <td>0</td>\n",
              "      <td>98</td>\n",
              "      <td>178</td>\n",
              "      <td>31</td>\n",
              "    </tr>\n",
              "    <tr>\n",
              "      <th>2</th>\n",
              "      <td>23</td>\n",
              "      <td>7</td>\n",
              "      <td>4</td>\n",
              "      <td>1</td>\n",
              "      <td>179</td>\n",
              "      <td>51</td>\n",
              "      <td>18</td>\n",
              "      <td>38</td>\n",
              "      <td>239554.0</td>\n",
              "      <td>97</td>\n",
              "      <td>0</td>\n",
              "      <td>1</td>\n",
              "      <td>0</td>\n",
              "      <td>1</td>\n",
              "      <td>0</td>\n",
              "      <td>0</td>\n",
              "      <td>89</td>\n",
              "      <td>170</td>\n",
              "      <td>31</td>\n",
              "    </tr>\n",
              "    <tr>\n",
              "      <th>3</th>\n",
              "      <td>7</td>\n",
              "      <td>7</td>\n",
              "      <td>5</td>\n",
              "      <td>1</td>\n",
              "      <td>279</td>\n",
              "      <td>5</td>\n",
              "      <td>14</td>\n",
              "      <td>39</td>\n",
              "      <td>239554.0</td>\n",
              "      <td>97</td>\n",
              "      <td>0</td>\n",
              "      <td>1</td>\n",
              "      <td>2</td>\n",
              "      <td>1</td>\n",
              "      <td>1</td>\n",
              "      <td>0</td>\n",
              "      <td>68</td>\n",
              "      <td>168</td>\n",
              "      <td>24</td>\n",
              "    </tr>\n",
              "    <tr>\n",
              "      <th>4</th>\n",
              "      <td>23</td>\n",
              "      <td>7</td>\n",
              "      <td>5</td>\n",
              "      <td>1</td>\n",
              "      <td>289</td>\n",
              "      <td>36</td>\n",
              "      <td>13</td>\n",
              "      <td>33</td>\n",
              "      <td>239554.0</td>\n",
              "      <td>97</td>\n",
              "      <td>0</td>\n",
              "      <td>1</td>\n",
              "      <td>2</td>\n",
              "      <td>1</td>\n",
              "      <td>0</td>\n",
              "      <td>1</td>\n",
              "      <td>90</td>\n",
              "      <td>172</td>\n",
              "      <td>30</td>\n",
              "    </tr>\n",
              "    <tr>\n",
              "      <th>...</th>\n",
              "      <td>...</td>\n",
              "      <td>...</td>\n",
              "      <td>...</td>\n",
              "      <td>...</td>\n",
              "      <td>...</td>\n",
              "      <td>...</td>\n",
              "      <td>...</td>\n",
              "      <td>...</td>\n",
              "      <td>...</td>\n",
              "      <td>...</td>\n",
              "      <td>...</td>\n",
              "      <td>...</td>\n",
              "      <td>...</td>\n",
              "      <td>...</td>\n",
              "      <td>...</td>\n",
              "      <td>...</td>\n",
              "      <td>...</td>\n",
              "      <td>...</td>\n",
              "      <td>...</td>\n",
              "    </tr>\n",
              "    <tr>\n",
              "      <th>735</th>\n",
              "      <td>14</td>\n",
              "      <td>7</td>\n",
              "      <td>3</td>\n",
              "      <td>1</td>\n",
              "      <td>289</td>\n",
              "      <td>36</td>\n",
              "      <td>13</td>\n",
              "      <td>33</td>\n",
              "      <td>264604.0</td>\n",
              "      <td>93</td>\n",
              "      <td>0</td>\n",
              "      <td>1</td>\n",
              "      <td>2</td>\n",
              "      <td>1</td>\n",
              "      <td>0</td>\n",
              "      <td>1</td>\n",
              "      <td>90</td>\n",
              "      <td>172</td>\n",
              "      <td>30</td>\n",
              "    </tr>\n",
              "    <tr>\n",
              "      <th>736</th>\n",
              "      <td>11</td>\n",
              "      <td>7</td>\n",
              "      <td>3</td>\n",
              "      <td>1</td>\n",
              "      <td>235</td>\n",
              "      <td>11</td>\n",
              "      <td>14</td>\n",
              "      <td>37</td>\n",
              "      <td>264604.0</td>\n",
              "      <td>93</td>\n",
              "      <td>0</td>\n",
              "      <td>3</td>\n",
              "      <td>1</td>\n",
              "      <td>0</td>\n",
              "      <td>0</td>\n",
              "      <td>1</td>\n",
              "      <td>88</td>\n",
              "      <td>172</td>\n",
              "      <td>29</td>\n",
              "    </tr>\n",
              "    <tr>\n",
              "      <th>737</th>\n",
              "      <td>0</td>\n",
              "      <td>0</td>\n",
              "      <td>3</td>\n",
              "      <td>1</td>\n",
              "      <td>118</td>\n",
              "      <td>14</td>\n",
              "      <td>13</td>\n",
              "      <td>40</td>\n",
              "      <td>271219.0</td>\n",
              "      <td>95</td>\n",
              "      <td>0</td>\n",
              "      <td>1</td>\n",
              "      <td>1</td>\n",
              "      <td>1</td>\n",
              "      <td>0</td>\n",
              "      <td>8</td>\n",
              "      <td>98</td>\n",
              "      <td>170</td>\n",
              "      <td>34</td>\n",
              "    </tr>\n",
              "    <tr>\n",
              "      <th>738</th>\n",
              "      <td>0</td>\n",
              "      <td>0</td>\n",
              "      <td>4</td>\n",
              "      <td>2</td>\n",
              "      <td>231</td>\n",
              "      <td>35</td>\n",
              "      <td>14</td>\n",
              "      <td>39</td>\n",
              "      <td>271219.0</td>\n",
              "      <td>95</td>\n",
              "      <td>0</td>\n",
              "      <td>1</td>\n",
              "      <td>2</td>\n",
              "      <td>1</td>\n",
              "      <td>0</td>\n",
              "      <td>2</td>\n",
              "      <td>100</td>\n",
              "      <td>170</td>\n",
              "      <td>35</td>\n",
              "    </tr>\n",
              "    <tr>\n",
              "      <th>739</th>\n",
              "      <td>0</td>\n",
              "      <td>0</td>\n",
              "      <td>6</td>\n",
              "      <td>3</td>\n",
              "      <td>179</td>\n",
              "      <td>45</td>\n",
              "      <td>14</td>\n",
              "      <td>53</td>\n",
              "      <td>271219.0</td>\n",
              "      <td>95</td>\n",
              "      <td>0</td>\n",
              "      <td>1</td>\n",
              "      <td>1</td>\n",
              "      <td>0</td>\n",
              "      <td>0</td>\n",
              "      <td>1</td>\n",
              "      <td>77</td>\n",
              "      <td>175</td>\n",
              "      <td>25</td>\n",
              "    </tr>\n",
              "  </tbody>\n",
              "</table>\n",
              "<p>740 rows × 19 columns</p>\n",
              "</div>"
            ],
            "text/plain": [
              "     Reason for absence  Month of absence  Day of the week  Seasons  \\\n",
              "0                    26                 7                3        1   \n",
              "1                     0                 7                3        1   \n",
              "2                    23                 7                4        1   \n",
              "3                     7                 7                5        1   \n",
              "4                    23                 7                5        1   \n",
              "..                  ...               ...              ...      ...   \n",
              "735                  14                 7                3        1   \n",
              "736                  11                 7                3        1   \n",
              "737                   0                 0                3        1   \n",
              "738                   0                 0                4        2   \n",
              "739                   0                 0                6        3   \n",
              "\n",
              "     Transportation expense  Distance from Residence to Work  Service time  \\\n",
              "0                       289                               36            13   \n",
              "1                       118                               13            18   \n",
              "2                       179                               51            18   \n",
              "3                       279                                5            14   \n",
              "4                       289                               36            13   \n",
              "..                      ...                              ...           ...   \n",
              "735                     289                               36            13   \n",
              "736                     235                               11            14   \n",
              "737                     118                               14            13   \n",
              "738                     231                               35            14   \n",
              "739                     179                               45            14   \n",
              "\n",
              "     Age  Workload  Hit target  Disciplinary failure  Education  Son  \\\n",
              "0     33  239554.0          97                     0          1    2   \n",
              "1     50  239554.0          97                     1          1    1   \n",
              "2     38  239554.0          97                     0          1    0   \n",
              "3     39  239554.0          97                     0          1    2   \n",
              "4     33  239554.0          97                     0          1    2   \n",
              "..   ...       ...         ...                   ...        ...  ...   \n",
              "735   33  264604.0          93                     0          1    2   \n",
              "736   37  264604.0          93                     0          3    1   \n",
              "737   40  271219.0          95                     0          1    1   \n",
              "738   39  271219.0          95                     0          1    2   \n",
              "739   53  271219.0          95                     0          1    1   \n",
              "\n",
              "     Social drinker  Social smoker  Pet  Weight  Height  Body mass index  \n",
              "0                 1              0    1      90     172               30  \n",
              "1                 1              0    0      98     178               31  \n",
              "2                 1              0    0      89     170               31  \n",
              "3                 1              1    0      68     168               24  \n",
              "4                 1              0    1      90     172               30  \n",
              "..              ...            ...  ...     ...     ...              ...  \n",
              "735               1              0    1      90     172               30  \n",
              "736               0              0    1      88     172               29  \n",
              "737               1              0    8      98     170               34  \n",
              "738               1              0    2     100     170               35  \n",
              "739               0              0    1      77     175               25  \n",
              "\n",
              "[740 rows x 19 columns]"
            ]
          },
          "execution_count": 384,
          "metadata": {},
          "output_type": "execute_result"
        }
      ],
      "source": [
        "# All columns except ID and Absenteeism in hours are descriptive features\n",
        "descriptive_features = absenteeism_data.iloc[:,1:-1]\n",
        "descriptive_features"
      ]
    },
    {
      "cell_type": "code",
      "execution_count": 385,
      "metadata": {
        "colab": {
          "base_uri": "https://localhost:8080/",
          "height": 423
        },
        "id": "CEGZbsRK4N_J",
        "outputId": "b46b6d69-6729-4ad2-c291-0db0aba94f0a"
      },
      "outputs": [
        {
          "data": {
            "text/html": [
              "<div>\n",
              "<style scoped>\n",
              "    .dataframe tbody tr th:only-of-type {\n",
              "        vertical-align: middle;\n",
              "    }\n",
              "\n",
              "    .dataframe tbody tr th {\n",
              "        vertical-align: top;\n",
              "    }\n",
              "\n",
              "    .dataframe thead th {\n",
              "        text-align: right;\n",
              "    }\n",
              "</style>\n",
              "<table border=\"1\" class=\"dataframe\">\n",
              "  <thead>\n",
              "    <tr style=\"text-align: right;\">\n",
              "      <th></th>\n",
              "      <th>Absenteeism time in hours</th>\n",
              "    </tr>\n",
              "  </thead>\n",
              "  <tbody>\n",
              "    <tr>\n",
              "      <th>0</th>\n",
              "      <td>4</td>\n",
              "    </tr>\n",
              "    <tr>\n",
              "      <th>1</th>\n",
              "      <td>0</td>\n",
              "    </tr>\n",
              "    <tr>\n",
              "      <th>2</th>\n",
              "      <td>2</td>\n",
              "    </tr>\n",
              "    <tr>\n",
              "      <th>3</th>\n",
              "      <td>4</td>\n",
              "    </tr>\n",
              "    <tr>\n",
              "      <th>4</th>\n",
              "      <td>2</td>\n",
              "    </tr>\n",
              "    <tr>\n",
              "      <th>...</th>\n",
              "      <td>...</td>\n",
              "    </tr>\n",
              "    <tr>\n",
              "      <th>735</th>\n",
              "      <td>8</td>\n",
              "    </tr>\n",
              "    <tr>\n",
              "      <th>736</th>\n",
              "      <td>4</td>\n",
              "    </tr>\n",
              "    <tr>\n",
              "      <th>737</th>\n",
              "      <td>0</td>\n",
              "    </tr>\n",
              "    <tr>\n",
              "      <th>738</th>\n",
              "      <td>0</td>\n",
              "    </tr>\n",
              "    <tr>\n",
              "      <th>739</th>\n",
              "      <td>0</td>\n",
              "    </tr>\n",
              "  </tbody>\n",
              "</table>\n",
              "<p>740 rows × 1 columns</p>\n",
              "</div>"
            ],
            "text/plain": [
              "     Absenteeism time in hours\n",
              "0                            4\n",
              "1                            0\n",
              "2                            2\n",
              "3                            4\n",
              "4                            2\n",
              "..                         ...\n",
              "735                          8\n",
              "736                          4\n",
              "737                          0\n",
              "738                          0\n",
              "739                          0\n",
              "\n",
              "[740 rows x 1 columns]"
            ]
          },
          "execution_count": 385,
          "metadata": {},
          "output_type": "execute_result"
        }
      ],
      "source": [
        "# Absenteeism time in hours is the Target\n",
        "target_feature = absenteeism_data.iloc[:,-1:]\n",
        "target_feature"
      ]
    },
    {
      "cell_type": "code",
      "execution_count": 386,
      "metadata": {
        "colab": {
          "base_uri": "https://localhost:8080/"
        },
        "id": "d91Hp65q4Y6g",
        "outputId": "0a1a8471-34d4-4654-873c-b26c9852d96b"
      },
      "outputs": [
        {
          "data": {
            "text/plain": [
              "Reason for absence                   int64\n",
              "Month of absence                     int64\n",
              "Day of the week                      int64\n",
              "Seasons                              int64\n",
              "Transportation expense               int64\n",
              "Distance from Residence to Work      int64\n",
              "Service time                         int64\n",
              "Age                                  int64\n",
              "Workload                           float64\n",
              "Hit target                           int64\n",
              "Disciplinary failure                 int64\n",
              "Education                            int64\n",
              "Son                                  int64\n",
              "Social drinker                       int64\n",
              "Social smoker                        int64\n",
              "Pet                                  int64\n",
              "Weight                               int64\n",
              "Height                               int64\n",
              "Body mass index                      int64\n",
              "dtype: object"
            ]
          },
          "execution_count": 386,
          "metadata": {},
          "output_type": "execute_result"
        }
      ],
      "source": [
        "descriptive_features.dtypes"
      ]
    },
    {
      "cell_type": "code",
      "execution_count": 387,
      "metadata": {
        "colab": {
          "base_uri": "https://localhost:8080/",
          "height": 441
        },
        "id": "Er3KkaGe2DV-",
        "outputId": "785f24c8-30d3-4b4a-dab1-b2331b04c27f"
      },
      "outputs": [
        {
          "name": "stdout",
          "output_type": "stream",
          "text": [
            "Feature: 1, Score: 0.20797\n",
            "Feature: 2, Score: 0.09889\n",
            "Feature: 3, Score: 0.12366\n",
            "Feature: 4, Score: 0.05546\n",
            "Feature: 5, Score: 0.04173\n",
            "Feature: 9, Score: 0.11881\n",
            "Feature: 10, Score: 0.09298\n"
          ]
        },
        {
          "data": {
            "image/png": "[encoded data removed]",
            "text/plain": [
              "<Figure size 432x288 with 1 Axes>"
            ]
          },
          "metadata": {
            "needs_background": "light"
          },
          "output_type": "display_data"
        }
      ],
      "source": [
        "#randome forrest to identify important features\n",
        "from sklearn.ensemble import RandomForestClassifier\n",
        "classifier_RF = RandomForestClassifier(n_estimators=200)\n",
        "classifier_RF.fit(descriptive_features, target_feature)\n",
        "importance_RF = classifier_RF.feature_importances_\n",
        "importance_RF\n",
        "\n",
        "# summarize feature importance\n",
        "for i,v in enumerate(importance_RF):\n",
        "    if v>=0.04:  ## Only taking features having importance score > 0.04\n",
        "\t    print('Feature: %0d, Score: %.5f' % (i+1,v))\n",
        "# plot feature importance\n",
        "plt.bar([x for x in range(len(importance_RF))], importance_RF)\n",
        "plt.show()"
      ]
    },
    {
      "cell_type": "code",
      "execution_count": 388,
      "metadata": {
        "colab": {
          "base_uri": "https://localhost:8080/",
          "height": 485
        },
        "id": "aQ7qA0ZZ8lkO",
        "outputId": "5af2f765-4478-41f3-85ab-81b12b4f2253"
      },
      "outputs": [
        {
          "data": {
            "text/html": [
              "<div>\n",
              "<style scoped>\n",
              "    .dataframe tbody tr th:only-of-type {\n",
              "        vertical-align: middle;\n",
              "    }\n",
              "\n",
              "    .dataframe tbody tr th {\n",
              "        vertical-align: top;\n",
              "    }\n",
              "\n",
              "    .dataframe thead th {\n",
              "        text-align: right;\n",
              "    }\n",
              "</style>\n",
              "<table border=\"1\" class=\"dataframe\">\n",
              "  <thead>\n",
              "    <tr style=\"text-align: right;\">\n",
              "      <th></th>\n",
              "      <th>Reason for absence</th>\n",
              "      <th>Month of absence</th>\n",
              "      <th>Day of the week</th>\n",
              "      <th>Seasons</th>\n",
              "      <th>Transportation expense</th>\n",
              "      <th>Workload</th>\n",
              "      <th>Hit target</th>\n",
              "    </tr>\n",
              "  </thead>\n",
              "  <tbody>\n",
              "    <tr>\n",
              "      <th>0</th>\n",
              "      <td>26</td>\n",
              "      <td>7</td>\n",
              "      <td>3</td>\n",
              "      <td>1</td>\n",
              "      <td>289</td>\n",
              "      <td>239554.0</td>\n",
              "      <td>97</td>\n",
              "    </tr>\n",
              "    <tr>\n",
              "      <th>1</th>\n",
              "      <td>0</td>\n",
              "      <td>7</td>\n",
              "      <td>3</td>\n",
              "      <td>1</td>\n",
              "      <td>118</td>\n",
              "      <td>239554.0</td>\n",
              "      <td>97</td>\n",
              "    </tr>\n",
              "    <tr>\n",
              "      <th>2</th>\n",
              "      <td>23</td>\n",
              "      <td>7</td>\n",
              "      <td>4</td>\n",
              "      <td>1</td>\n",
              "      <td>179</td>\n",
              "      <td>239554.0</td>\n",
              "      <td>97</td>\n",
              "    </tr>\n",
              "    <tr>\n",
              "      <th>3</th>\n",
              "      <td>7</td>\n",
              "      <td>7</td>\n",
              "      <td>5</td>\n",
              "      <td>1</td>\n",
              "      <td>279</td>\n",
              "      <td>239554.0</td>\n",
              "      <td>97</td>\n",
              "    </tr>\n",
              "    <tr>\n",
              "      <th>4</th>\n",
              "      <td>23</td>\n",
              "      <td>7</td>\n",
              "      <td>5</td>\n",
              "      <td>1</td>\n",
              "      <td>289</td>\n",
              "      <td>239554.0</td>\n",
              "      <td>97</td>\n",
              "    </tr>\n",
              "    <tr>\n",
              "      <th>...</th>\n",
              "      <td>...</td>\n",
              "      <td>...</td>\n",
              "      <td>...</td>\n",
              "      <td>...</td>\n",
              "      <td>...</td>\n",
              "      <td>...</td>\n",
              "      <td>...</td>\n",
              "    </tr>\n",
              "    <tr>\n",
              "      <th>735</th>\n",
              "      <td>14</td>\n",
              "      <td>7</td>\n",
              "      <td>3</td>\n",
              "      <td>1</td>\n",
              "      <td>289</td>\n",
              "      <td>264604.0</td>\n",
              "      <td>93</td>\n",
              "    </tr>\n",
              "    <tr>\n",
              "      <th>736</th>\n",
              "      <td>11</td>\n",
              "      <td>7</td>\n",
              "      <td>3</td>\n",
              "      <td>1</td>\n",
              "      <td>235</td>\n",
              "      <td>264604.0</td>\n",
              "      <td>93</td>\n",
              "    </tr>\n",
              "    <tr>\n",
              "      <th>737</th>\n",
              "      <td>0</td>\n",
              "      <td>0</td>\n",
              "      <td>3</td>\n",
              "      <td>1</td>\n",
              "      <td>118</td>\n",
              "      <td>271219.0</td>\n",
              "      <td>95</td>\n",
              "    </tr>\n",
              "    <tr>\n",
              "      <th>738</th>\n",
              "      <td>0</td>\n",
              "      <td>0</td>\n",
              "      <td>4</td>\n",
              "      <td>2</td>\n",
              "      <td>231</td>\n",
              "      <td>271219.0</td>\n",
              "      <td>95</td>\n",
              "    </tr>\n",
              "    <tr>\n",
              "      <th>739</th>\n",
              "      <td>0</td>\n",
              "      <td>0</td>\n",
              "      <td>6</td>\n",
              "      <td>3</td>\n",
              "      <td>179</td>\n",
              "      <td>271219.0</td>\n",
              "      <td>95</td>\n",
              "    </tr>\n",
              "  </tbody>\n",
              "</table>\n",
              "<p>740 rows × 7 columns</p>\n",
              "</div>"
            ],
            "text/plain": [
              "     Reason for absence  Month of absence  Day of the week  Seasons  \\\n",
              "0                    26                 7                3        1   \n",
              "1                     0                 7                3        1   \n",
              "2                    23                 7                4        1   \n",
              "3                     7                 7                5        1   \n",
              "4                    23                 7                5        1   \n",
              "..                  ...               ...              ...      ...   \n",
              "735                  14                 7                3        1   \n",
              "736                  11                 7                3        1   \n",
              "737                   0                 0                3        1   \n",
              "738                   0                 0                4        2   \n",
              "739                   0                 0                6        3   \n",
              "\n",
              "     Transportation expense  Workload  Hit target  \n",
              "0                       289  239554.0          97  \n",
              "1                       118  239554.0          97  \n",
              "2                       179  239554.0          97  \n",
              "3                       279  239554.0          97  \n",
              "4                       289  239554.0          97  \n",
              "..                      ...       ...         ...  \n",
              "735                     289  264604.0          93  \n",
              "736                     235  264604.0          93  \n",
              "737                     118  271219.0          95  \n",
              "738                     231  271219.0          95  \n",
              "739                     179  271219.0          95  \n",
              "\n",
              "[740 rows x 7 columns]"
            ]
          },
          "execution_count": 388,
          "metadata": {},
          "output_type": "execute_result"
        }
      ],
      "source": [
        "descriptive_features2 = absenteeism_data.iloc[:,[1,2,3,4,5,9,10]]\n",
        "descriptive_features2"
      ]
    },
    {
      "cell_type": "code",
      "execution_count": 389,
      "metadata": {
        "colab": {
          "base_uri": "https://localhost:8080/",
          "height": 458
        },
        "id": "Kk-bfY7V8yaL",
        "outputId": "8b1985f8-b858-40b2-8386-10e988aeeced"
      },
      "outputs": [
        {
          "name": "stdout",
          "output_type": "stream",
          "text": [
            "Feature: 1, Score: 0.30282\n",
            "Feature: 2, Score: 0.08859\n",
            "Feature: 3, Score: 0.14900\n",
            "Feature: 4, Score: 0.04615\n",
            "Feature: 5, Score: 0.19813\n",
            "Feature: 6, Score: 0.12313\n",
            "Feature: 7, Score: 0.09218\n"
          ]
        },
        {
          "data": {
            "image/png": "[encoded data removed]",
            "text/plain": [
              "<Figure size 432x288 with 1 Axes>"
            ]
          },
          "metadata": {
            "needs_background": "light"
          },
          "output_type": "display_data"
        }
      ],
      "source": [
        "from sklearn.ensemble import RandomForestClassifier\n",
        "classifier_RF2 = RandomForestClassifier(n_estimators=200)\n",
        "classifier_RF2.fit(descriptive_features2, target_feature)\n",
        "importance_RF2 = classifier_RF2.feature_importances_\n",
        "importance_RF2\n",
        "\n",
        "# summarize feature importance\n",
        "for i,v in enumerate(importance_RF2):\n",
        "    if v>=0.04:  ## Only taking features having importance score > 0.04\n",
        "\t    print('Feature: %0d, Score: %.5f' % (i+1,v))\n",
        "# plot feature importance\n",
        "plt.bar([x for x in range(len(importance_RF2))], importance_RF2)\n",
        "plt.show()"
      ]
    },
    {
      "cell_type": "code",
      "execution_count": 390,
      "metadata": {
        "colab": {
          "base_uri": "https://localhost:8080/",
          "height": 425
        },
        "id": "j9iL7nUB9lAF",
        "outputId": "bc030b6a-2162-4840-f89b-a86b658db421"
      },
      "outputs": [
        {
          "data": {
            "image/png": "[encoded data removed]",
            "text/plain": [
              "<Figure size 432x288 with 2 Axes>"
            ]
          },
          "metadata": {
            "needs_background": "light"
          },
          "output_type": "display_data"
        }
      ],
      "source": [
        "corrMatrix2 = descriptive_features2.corr()\n",
        "heatmap_1= corrMatrix2\n",
        "mask = np.triu(np.ones_like(heatmap_1, dtype=bool))\n",
        "sns.heatmap(heatmap_1, annot=False, vmax=1, vmin=-1, center=0, cmap='vlag', mask=mask)\n",
        "plt.show()"
      ]
    },
    {
      "cell_type": "code",
      "execution_count": 391,
      "metadata": {
        "colab": {
          "base_uri": "https://localhost:8080/",
          "height": 458
        },
        "id": "HqFP78xABd5x",
        "outputId": "a2a116af-d8c3-4061-8fbf-91fb0d373ff3"
      },
      "outputs": [
        {
          "name": "stdout",
          "output_type": "stream",
          "text": [
            "Feature: 1, Score: 0.30282\n",
            "Feature: 2, Score: 0.08859\n",
            "Feature: 3, Score: 0.14900\n",
            "Feature: 4, Score: 0.04615\n",
            "Feature: 5, Score: 0.19813\n",
            "Feature: 6, Score: 0.12313\n",
            "Feature: 7, Score: 0.09218\n"
          ]
        },
        {
          "data": {
            "image/png": "[encoded data removed]",
            "text/plain": [
              "<Figure size 432x288 with 1 Axes>"
            ]
          },
          "metadata": {
            "needs_background": "light"
          },
          "output_type": "display_data"
        }
      ],
      "source": [
        "from sklearn.preprocessing import RobustScaler\n",
        "\n",
        "robust_scaled = RobustScaler().fit_transform(descriptive_features2)\n",
        "\n",
        "from sklearn.ensemble import RandomForestClassifier\n",
        "classifier_RF3 = RandomForestClassifier(n_estimators=200)\n",
        "classifier_RF3.fit(robust_scaled, target_feature)\n",
        "importance_RF3 = classifier_RF3.feature_importances_\n",
        "importance_RF3\n",
        "\n",
        "# summarize feature importance\n",
        "for i,v in enumerate(importance_RF2):\n",
        "    if v>=0.04:  ## Only taking features having importance score > 0.04\n",
        "\t    print('Feature: %0d, Score: %.5f' % (i+1,v))\n",
        "# plot feature importance\n",
        "plt.bar([x for x in range(len(importance_RF3))], importance_RF3)\n",
        "plt.show()\n"
      ]
    },
    {
      "cell_type": "code",
      "execution_count": 392,
      "metadata": {
        "colab": {
          "base_uri": "https://localhost:8080/",
          "height": 351
        },
        "id": "mOZaRemx-sNj",
        "outputId": "435ae9e6-ef5f-4b45-ff3f-941e71e2ffb9"
      },
      "outputs": [
        {
          "data": {
            "text/plain": [
              "<AxesSubplot:xlabel='Absenteeism time in hours', ylabel='Density'>"
            ]
          },
          "execution_count": 392,
          "metadata": {},
          "output_type": "execute_result"
        },
        {
          "data": {
            "image/png": "[encoded data removed]",
            "text/plain": [
              "<Figure size 432x288 with 1 Axes>"
            ]
          },
          "metadata": {
            "needs_background": "light"
          },
          "output_type": "display_data"
        }
      ],
      "source": [
        "#plt.hist(absenteeism_data['Absenteeism time in hours'])\n",
        "sns.distplot(absenteeism_data['Absenteeism time in hours'])"
      ]
    },
    {
      "cell_type": "code",
      "execution_count": 393,
      "metadata": {
        "colab": {
          "base_uri": "https://localhost:8080/",
          "height": 279
        },
        "id": "n9XlaAqM-wgl",
        "outputId": "509aa612-8a00-4a1e-c5a9-3377368fbcc0"
      },
      "outputs": [
        {
          "data": {
            "image/png": "[encoded data removed]",
            "text/plain": [
              "<Figure size 432x288 with 1 Axes>"
            ]
          },
          "metadata": {
            "needs_background": "light"
          },
          "output_type": "display_data"
        }
      ],
      "source": [
        "fig = sm.qqplot(absenteeism_data['Absenteeism time in hours'],line='s')\n",
        "plt.show()"
      ]
    },
    {
      "cell_type": "code",
      "execution_count": 394,
      "metadata": {
        "colab": {
          "base_uri": "https://localhost:8080/",
          "height": 296
        },
        "id": "8kE0B69IAdFY",
        "outputId": "342933e9-59d2-4a35-db01-ce6488f89ffa"
      },
      "outputs": [
        {
          "data": {
            "text/plain": [
              "<AxesSubplot:xlabel='Absenteeism time in hours'>"
            ]
          },
          "execution_count": 394,
          "metadata": {},
          "output_type": "execute_result"
        },
        {
          "data": {
            "image/png": "[encoded data removed]",
            "text/plain": [
              "<Figure size 432x288 with 1 Axes>"
            ]
          },
          "metadata": {
            "needs_background": "light"
          },
          "output_type": "display_data"
        }
      ],
      "source": [
        "import seaborn as sns\n",
        "sns.boxplot(x=absenteeism_data['Absenteeism time in hours'])\n"
      ]
    },
    {
      "cell_type": "code",
      "execution_count": 395,
      "metadata": {
        "id": "duHSi9xzCXRh"
      },
      "outputs": [
        {
          "name": "stdout",
          "output_type": "stream",
          "text": [
            "   ID  Reason for absence  Month of absence  Day of the week  Seasons  \\\n",
            "0  11                  26                 7                3        1   \n",
            "1  36                   0                 7                3        1   \n",
            "2   3                  23                 7                4        1   \n",
            "3   7                   7                 7                5        1   \n",
            "4  11                  23                 7                5        1   \n",
            "\n",
            "   Transportation expense  Distance from Residence to Work  Service time  Age  \\\n",
            "0                     289                               36            13   33   \n",
            "1                     118                               13            18   50   \n",
            "2                     179                               51            18   38   \n",
            "3                     279                                5            14   39   \n",
            "4                     289                               36            13   33   \n",
            "\n",
            "  Work load Average/day   ...  Disciplinary failure  Education  Son  \\\n",
            "0                239,554  ...                     0          1    2   \n",
            "1                239,554  ...                     1          1    1   \n",
            "2                239,554  ...                     0          1    0   \n",
            "3                239,554  ...                     0          1    2   \n",
            "4                239,554  ...                     0          1    2   \n",
            "\n",
            "   Social drinker  Social smoker  Pet  Weight  Height  Body mass index  \\\n",
            "0               1              0    1      90     172               30   \n",
            "1               1              0    0      98     178               31   \n",
            "2               1              0    0      89     170               31   \n",
            "3               1              1    0      68     168               24   \n",
            "4               1              0    1      90     172               30   \n",
            "\n",
            "   Absenteeism time in hours  \n",
            "0                          4  \n",
            "1                          0  \n",
            "2                          2  \n",
            "3                          4  \n",
            "4                          2  \n",
            "\n",
            "[5 rows x 21 columns]\n"
          ]
        }
      ],
      "source": [
        "#reading data\n",
        "data = pd.read_csv('Absenteeism_at_work.csv')\n",
        "print(data.head(5))"
      ]
    },
    {
      "cell_type": "code",
      "execution_count": 396,
      "metadata": {},
      "outputs": [
        {
          "data": {
            "text/plain": [
              "(Index(['ID', 'Reason for absence', 'Month of absence', 'Day of the week',\n",
              "        'Seasons', 'Transportation expense', 'Distance from Residence to Work',\n",
              "        'Service time', 'Age', 'Work load Average/day ', 'Hit target',\n",
              "        'Disciplinary failure', 'Education', 'Son', 'Social drinker',\n",
              "        'Social smoker', 'Pet', 'Weight', 'Height', 'Body mass index',\n",
              "        'Absenteeism time in hours'],\n",
              "       dtype='object'),\n",
              " (740, 21))"
            ]
          },
          "execution_count": 396,
          "metadata": {},
          "output_type": "execute_result"
        }
      ],
      "source": [
        "data.columns,data.shape"
      ]
    },
    {
      "cell_type": "code",
      "execution_count": 397,
      "metadata": {},
      "outputs": [
        {
          "data": {
            "text/plain": [
              "[0, 1, 2, 3, 4, 5, 7, 8, 16, 24, 32, 40, 48, 56, 64, 80, 104, 112, 120]"
            ]
          },
          "execution_count": 397,
          "metadata": {},
          "output_type": "execute_result"
        }
      ],
      "source": [
        "# Checking unique values for absenteeism hours in the dataset.\n",
        "list(np.sort(data['Absenteeism time in hours'].unique()))"
      ]
    },
    {
      "cell_type": "code",
      "execution_count": 398,
      "metadata": {},
      "outputs": [
        {
          "data": {
            "image/png": "[encoded data removed]",
            "text/plain": [
              "<Figure size 432x288 with 1 Axes>"
            ]
          },
          "metadata": {
            "needs_background": "light"
          },
          "output_type": "display_data"
        }
      ],
      "source": [
        "## Visualizing the number of absenteeism hours in the dataset.\n",
        "plt = sns.countplot(data['Absenteeism time in hours'])"
      ]
    },
    {
      "cell_type": "code",
      "execution_count": 399,
      "metadata": {},
      "outputs": [],
      "source": [
        "data['Work load Average/day '] = data['Work load Average/day '].str.replace(',', '').astype(float)"
      ]
    },
    {
      "cell_type": "code",
      "execution_count": 400,
      "metadata": {},
      "outputs": [
        {
          "name": "stdout",
          "output_type": "stream",
          "text": [
            "(740, 20) (740, 1)\n"
          ]
        }
      ],
      "source": [
        "#1st column i.e. label is the target feature\n",
        "target_feature = data.iloc[:,-1:]\n",
        "\n",
        "#All features except the 'label' column\n",
        "descriptive_features = data.iloc[:,:-1]\n",
        "\n",
        "## Printing the size of data \n",
        "print(descriptive_features.shape,target_feature.shape)"
      ]
    },
    {
      "cell_type": "code",
      "execution_count": 401,
      "metadata": {},
      "outputs": [
        {
          "data": {
            "text/html": [
              "<div>\n",
              "<style scoped>\n",
              "    .dataframe tbody tr th:only-of-type {\n",
              "        vertical-align: middle;\n",
              "    }\n",
              "\n",
              "    .dataframe tbody tr th {\n",
              "        vertical-align: top;\n",
              "    }\n",
              "\n",
              "    .dataframe thead th {\n",
              "        text-align: right;\n",
              "    }\n",
              "</style>\n",
              "<table border=\"1\" class=\"dataframe\">\n",
              "  <thead>\n",
              "    <tr style=\"text-align: right;\">\n",
              "      <th></th>\n",
              "      <th>Absenteeism time in hours</th>\n",
              "    </tr>\n",
              "  </thead>\n",
              "  <tbody>\n",
              "    <tr>\n",
              "      <th>0</th>\n",
              "      <td>4</td>\n",
              "    </tr>\n",
              "    <tr>\n",
              "      <th>1</th>\n",
              "      <td>0</td>\n",
              "    </tr>\n",
              "    <tr>\n",
              "      <th>2</th>\n",
              "      <td>2</td>\n",
              "    </tr>\n",
              "    <tr>\n",
              "      <th>3</th>\n",
              "      <td>4</td>\n",
              "    </tr>\n",
              "    <tr>\n",
              "      <th>4</th>\n",
              "      <td>2</td>\n",
              "    </tr>\n",
              "    <tr>\n",
              "      <th>...</th>\n",
              "      <td>...</td>\n",
              "    </tr>\n",
              "    <tr>\n",
              "      <th>735</th>\n",
              "      <td>8</td>\n",
              "    </tr>\n",
              "    <tr>\n",
              "      <th>736</th>\n",
              "      <td>4</td>\n",
              "    </tr>\n",
              "    <tr>\n",
              "      <th>737</th>\n",
              "      <td>0</td>\n",
              "    </tr>\n",
              "    <tr>\n",
              "      <th>738</th>\n",
              "      <td>0</td>\n",
              "    </tr>\n",
              "    <tr>\n",
              "      <th>739</th>\n",
              "      <td>0</td>\n",
              "    </tr>\n",
              "  </tbody>\n",
              "</table>\n",
              "<p>740 rows × 1 columns</p>\n",
              "</div>"
            ],
            "text/plain": [
              "     Absenteeism time in hours\n",
              "0                            4\n",
              "1                            0\n",
              "2                            2\n",
              "3                            4\n",
              "4                            2\n",
              "..                         ...\n",
              "735                          8\n",
              "736                          4\n",
              "737                          0\n",
              "738                          0\n",
              "739                          0\n",
              "\n",
              "[740 rows x 1 columns]"
            ]
          },
          "execution_count": 401,
          "metadata": {},
          "output_type": "execute_result"
        }
      ],
      "source": [
        "target_feature"
      ]
    },
    {
      "cell_type": "markdown",
      "metadata": {},
      "source": [
        "### Standard Scaler on Descriptive Features"
      ]
    },
    {
      "cell_type": "code",
      "execution_count": 402,
      "metadata": {},
      "outputs": [
        {
          "name": "stdout",
          "output_type": "stream",
          "text": [
            "StandardScaler()\n",
            "[1.80175676e+01 1.92162162e+01 6.32432432e+00 3.91486486e+00\n",
            " 2.54459459e+00 2.21329730e+02 2.96310811e+01 1.25540541e+01\n",
            " 3.64500000e+01 2.71490235e+05 9.45878378e+01 5.40540541e-02\n",
            " 1.29189189e+00 1.01891892e+00 5.67567568e-01 7.29729730e-02\n",
            " 7.45945946e-01 7.90351351e+01 1.72114865e+02 2.66770270e+01]\n"
          ]
        },
        {
          "data": {
            "text/plain": [
              "array([[-0.63716146,  0.80493838,  0.19676258, ...,  0.85167289,\n",
              "        -0.01904601,  0.77593223],\n",
              "       [ 1.63271857, -2.28012426,  0.19676258, ...,  1.47305611,\n",
              "         0.97582783,  1.00943766],\n",
              "       [-1.36352307,  0.44896961,  0.19676258, ...,  0.77399998,\n",
              "        -0.35067062,  1.00943766],\n",
              "       ...,\n",
              "       [-1.27272787, -2.28012426, -1.84169773, ...,  1.47305611,\n",
              "        -0.35067062,  1.70995395],\n",
              "       [-0.90954706, -2.28012426, -1.84169773, ...,  1.62840192,\n",
              "        -0.35067062,  1.94345938],\n",
              "       [ 1.54192337, -2.28012426, -1.84169773, ..., -0.15807485,\n",
              "         0.47839091, -0.39159492]])"
            ]
          },
          "execution_count": 402,
          "metadata": {},
          "output_type": "execute_result"
        }
      ],
      "source": [
        "from sklearn.preprocessing import StandardScaler\n",
        "scaler = StandardScaler()\n",
        "print(scaler.fit(descriptive_features))\n",
        "\n",
        "print(scaler.mean_)\n",
        "\n",
        "#print(scaler.transform(data))\n",
        "descriptive_features = scaler.transform(descriptive_features)\n",
        "descriptive_features"
      ]
    },
    {
      "cell_type": "markdown",
      "metadata": {},
      "source": [
        "### Checking shapes of Descriptive and Target features"
      ]
    },
    {
      "cell_type": "code",
      "execution_count": 403,
      "metadata": {},
      "outputs": [
        {
          "data": {
            "text/plain": [
              "((740, 20), (740, 1))"
            ]
          },
          "execution_count": 403,
          "metadata": {},
          "output_type": "execute_result"
        }
      ],
      "source": [
        "descriptive_features.shape,target_feature.shape"
      ]
    },
    {
      "cell_type": "markdown",
      "metadata": {},
      "source": [
        "# Classifiers with All Features"
      ]
    },
    {
      "cell_type": "markdown",
      "metadata": {},
      "source": [
        "# SVM"
      ]
    },
    {
      "cell_type": "code",
      "execution_count": 404,
      "metadata": {},
      "outputs": [],
      "source": [
        "from sklearn.model_selection import train_test_split, cross_val_score, GridSearchCV, learning_curve, KFold\n",
        "from sklearn.preprocessing import MinMaxScaler, OneHotEncoder, StandardScaler\n",
        "import random\n",
        "from sklearn.svm import SVC\n",
        "import sklearn.metrics as sk\n",
        "import warnings\n",
        "warnings.simplefilter(\"ignore\")"
      ]
    },
    {
      "cell_type": "code",
      "execution_count": 405,
      "metadata": {},
      "outputs": [],
      "source": [
        "x1_train, x1_test, y1_train, y1_test = train_test_split(descriptive_features, target_feature, test_size = 0.3, random_state = 0)"
      ]
    },
    {
      "cell_type": "code",
      "execution_count": 406,
      "metadata": {},
      "outputs": [
        {
          "name": "stdout",
          "output_type": "stream",
          "text": [
            "Linear Model\n",
            "After 10 fold cross validation:\n",
            "Mean of Accuracies:  43.24660633484164\n",
            "Standard deviation of Accuracies 4.746054471214114\n"
          ]
        }
      ],
      "source": [
        "#Linear SVM\n",
        "print('Linear Model',end='\\n')\n",
        "lsvclassifier = SVC(kernel='linear')\n",
        "lsvclassifier.fit(x1_train, y1_train)\n",
        "\n",
        "#Applying k-Fold Cross Validation\n",
        "accuracies = cross_val_score(estimator = lsvclassifier, X = x1_train, y = y1_train, cv = 10)\n",
        "mean_svm_linear=accuracies.mean()\n",
        "std_svm_linear=accuracies.std()\n",
        "\n",
        "#After using 10 fold cross validation\n",
        "print('After 10 fold cross validation:')\n",
        "print('Mean of Accuracies: ',mean_svm_linear*100,end='\\n')\n",
        "print('Standard deviation of Accuracies',std_svm_linear*100,end='\\n')\n",
        "\n",
        "# #Predict SVM\n",
        "# y_predl = lsvclassifier.predict(x1_test)\n",
        "\n",
        "# #Confusion Matrix\n",
        "# print('Test Output:')\n",
        "# print('Confusion Matrix:')\n",
        "# print(sk.confusion_matrix(y1_test,y_predl))\n",
        "# print('Classification Report:')\n",
        "# print(sk.classification_report(y1_test,y_predl))\n",
        "# #print('Accuracy: ',sk.accuracy_score(y1_test, y_predl, normalize=True, sample_weight=None))"
      ]
    },
    {
      "cell_type": "markdown",
      "metadata": {},
      "source": [
        "## Decision Tree"
      ]
    },
    {
      "cell_type": "code",
      "execution_count": 407,
      "metadata": {},
      "outputs": [
        {
          "name": "stdout",
          "output_type": "stream",
          "text": [
            "After 10 fold cross validation:\n",
            "Mean of Accuracies:  38.23906485671192\n",
            "Standard deviation of Accuracies 7.215276439338999\n"
          ]
        }
      ],
      "source": [
        "\n",
        "from sklearn.tree import DecisionTreeClassifier\n",
        "dt_classifier = DecisionTreeClassifier()\n",
        "dt_classifier.fit(x1_train, y1_train)\n",
        "\n",
        "#Applying k-Fold Cross Validation\n",
        "accuracies = cross_val_score(estimator = dt_classifier, X = x1_train, y = y1_train, cv = 10)\n",
        "mean_dt=accuracies.mean()\n",
        "std_dt=accuracies.std()\n",
        "\n",
        "#After using 10 fold cross validation\n",
        "print('After 10 fold cross validation:')\n",
        "print('Mean of Accuracies: ',mean_dt*100,end='\\n')\n",
        "print('Standard deviation of Accuracies',std_dt*100,end='\\n')"
      ]
    },
    {
      "cell_type": "markdown",
      "metadata": {},
      "source": [
        "# Random Forest"
      ]
    },
    {
      "cell_type": "code",
      "execution_count": 408,
      "metadata": {},
      "outputs": [
        {
          "data": {
            "text/plain": [
              "RandomForestClassifier()"
            ]
          },
          "execution_count": 408,
          "metadata": {},
          "output_type": "execute_result"
        }
      ],
      "source": [
        "#training random Forest\n",
        "from sklearn.ensemble import RandomForestClassifier  #Random Forest algorithm\n",
        "rf=RandomForestClassifier(n_estimators=100)\n",
        "rf.fit(x1_train, y1_train)"
      ]
    },
    {
      "cell_type": "code",
      "execution_count": 409,
      "metadata": {},
      "outputs": [
        {
          "name": "stdout",
          "output_type": "stream",
          "text": [
            "After 10 fold cross validation:\n",
            "Mean of Accuracies:  44.41553544494721\n",
            "Standard deviation of Accuracies 6.36157206972503\n"
          ]
        }
      ],
      "source": [
        "#Applying k-Fold Cross Validation\n",
        "accuracies = cross_val_score(estimator = rf, X = x1_train, y = y1_train, cv = 10)\n",
        "mean_rf=accuracies.mean()\n",
        "std_rf=accuracies.std()\n",
        "\n",
        "#After using 10 fold cross validation\n",
        "print('After 10 fold cross validation:')\n",
        "print('Mean of Accuracies: ',mean_rf*100,end='\\n')\n",
        "print('Standard deviation of Accuracies',std_rf*100,end='\\n')\n",
        "\n",
        "# #Predict rf\n",
        "# y_predl = rf.predict(x1_test)\n",
        "\n",
        "# #Confusion Matrix\n",
        "# print('Test Output:')\n",
        "# print('Confusion Matrix:')\n",
        "# print(sk.confusion_matrix(y1_test,y_predl))\n",
        "# print('Classification Report:')\n",
        "# print(sk.classification_report(y1_test,y_predl))\n",
        "# print('Accuracy: ',sk.accuracy_score(y1_test, y_predl, normalize=True, sample_weight=None))"
      ]
    },
    {
      "cell_type": "markdown",
      "metadata": {},
      "source": [
        "# Classifiers with important Features i.e. Descriptive Features 2"
      ]
    },
    {
      "cell_type": "code",
      "execution_count": 410,
      "metadata": {},
      "outputs": [
        {
          "data": {
            "text/html": [
              "<div>\n",
              "<style scoped>\n",
              "    .dataframe tbody tr th:only-of-type {\n",
              "        vertical-align: middle;\n",
              "    }\n",
              "\n",
              "    .dataframe tbody tr th {\n",
              "        vertical-align: top;\n",
              "    }\n",
              "\n",
              "    .dataframe thead th {\n",
              "        text-align: right;\n",
              "    }\n",
              "</style>\n",
              "<table border=\"1\" class=\"dataframe\">\n",
              "  <thead>\n",
              "    <tr style=\"text-align: right;\">\n",
              "      <th></th>\n",
              "      <th>Reason for absence</th>\n",
              "      <th>Month of absence</th>\n",
              "      <th>Day of the week</th>\n",
              "      <th>Distance from Residence to Work</th>\n",
              "      <th>Service time</th>\n",
              "      <th>Workload</th>\n",
              "      <th>Hit target</th>\n",
              "      <th>Disciplinary failure</th>\n",
              "    </tr>\n",
              "  </thead>\n",
              "  <tbody>\n",
              "    <tr>\n",
              "      <th>0</th>\n",
              "      <td>26</td>\n",
              "      <td>7</td>\n",
              "      <td>3</td>\n",
              "      <td>36</td>\n",
              "      <td>13</td>\n",
              "      <td>239554.0</td>\n",
              "      <td>97</td>\n",
              "      <td>0</td>\n",
              "    </tr>\n",
              "    <tr>\n",
              "      <th>1</th>\n",
              "      <td>0</td>\n",
              "      <td>7</td>\n",
              "      <td>3</td>\n",
              "      <td>13</td>\n",
              "      <td>18</td>\n",
              "      <td>239554.0</td>\n",
              "      <td>97</td>\n",
              "      <td>1</td>\n",
              "    </tr>\n",
              "    <tr>\n",
              "      <th>2</th>\n",
              "      <td>23</td>\n",
              "      <td>7</td>\n",
              "      <td>4</td>\n",
              "      <td>51</td>\n",
              "      <td>18</td>\n",
              "      <td>239554.0</td>\n",
              "      <td>97</td>\n",
              "      <td>0</td>\n",
              "    </tr>\n",
              "    <tr>\n",
              "      <th>3</th>\n",
              "      <td>7</td>\n",
              "      <td>7</td>\n",
              "      <td>5</td>\n",
              "      <td>5</td>\n",
              "      <td>14</td>\n",
              "      <td>239554.0</td>\n",
              "      <td>97</td>\n",
              "      <td>0</td>\n",
              "    </tr>\n",
              "    <tr>\n",
              "      <th>4</th>\n",
              "      <td>23</td>\n",
              "      <td>7</td>\n",
              "      <td>5</td>\n",
              "      <td>36</td>\n",
              "      <td>13</td>\n",
              "      <td>239554.0</td>\n",
              "      <td>97</td>\n",
              "      <td>0</td>\n",
              "    </tr>\n",
              "    <tr>\n",
              "      <th>...</th>\n",
              "      <td>...</td>\n",
              "      <td>...</td>\n",
              "      <td>...</td>\n",
              "      <td>...</td>\n",
              "      <td>...</td>\n",
              "      <td>...</td>\n",
              "      <td>...</td>\n",
              "      <td>...</td>\n",
              "    </tr>\n",
              "    <tr>\n",
              "      <th>735</th>\n",
              "      <td>14</td>\n",
              "      <td>7</td>\n",
              "      <td>3</td>\n",
              "      <td>36</td>\n",
              "      <td>13</td>\n",
              "      <td>264604.0</td>\n",
              "      <td>93</td>\n",
              "      <td>0</td>\n",
              "    </tr>\n",
              "    <tr>\n",
              "      <th>736</th>\n",
              "      <td>11</td>\n",
              "      <td>7</td>\n",
              "      <td>3</td>\n",
              "      <td>11</td>\n",
              "      <td>14</td>\n",
              "      <td>264604.0</td>\n",
              "      <td>93</td>\n",
              "      <td>0</td>\n",
              "    </tr>\n",
              "    <tr>\n",
              "      <th>737</th>\n",
              "      <td>0</td>\n",
              "      <td>0</td>\n",
              "      <td>3</td>\n",
              "      <td>14</td>\n",
              "      <td>13</td>\n",
              "      <td>271219.0</td>\n",
              "      <td>95</td>\n",
              "      <td>0</td>\n",
              "    </tr>\n",
              "    <tr>\n",
              "      <th>738</th>\n",
              "      <td>0</td>\n",
              "      <td>0</td>\n",
              "      <td>4</td>\n",
              "      <td>35</td>\n",
              "      <td>14</td>\n",
              "      <td>271219.0</td>\n",
              "      <td>95</td>\n",
              "      <td>0</td>\n",
              "    </tr>\n",
              "    <tr>\n",
              "      <th>739</th>\n",
              "      <td>0</td>\n",
              "      <td>0</td>\n",
              "      <td>6</td>\n",
              "      <td>45</td>\n",
              "      <td>14</td>\n",
              "      <td>271219.0</td>\n",
              "      <td>95</td>\n",
              "      <td>0</td>\n",
              "    </tr>\n",
              "  </tbody>\n",
              "</table>\n",
              "<p>740 rows × 8 columns</p>\n",
              "</div>"
            ],
            "text/plain": [
              "     Reason for absence  Month of absence  Day of the week  \\\n",
              "0                    26                 7                3   \n",
              "1                     0                 7                3   \n",
              "2                    23                 7                4   \n",
              "3                     7                 7                5   \n",
              "4                    23                 7                5   \n",
              "..                  ...               ...              ...   \n",
              "735                  14                 7                3   \n",
              "736                  11                 7                3   \n",
              "737                   0                 0                3   \n",
              "738                   0                 0                4   \n",
              "739                   0                 0                6   \n",
              "\n",
              "     Distance from Residence to Work  Service time  Workload  Hit target  \\\n",
              "0                                 36            13  239554.0          97   \n",
              "1                                 13            18  239554.0          97   \n",
              "2                                 51            18  239554.0          97   \n",
              "3                                  5            14  239554.0          97   \n",
              "4                                 36            13  239554.0          97   \n",
              "..                               ...           ...       ...         ...   \n",
              "735                               36            13  264604.0          93   \n",
              "736                               11            14  264604.0          93   \n",
              "737                               14            13  271219.0          95   \n",
              "738                               35            14  271219.0          95   \n",
              "739                               45            14  271219.0          95   \n",
              "\n",
              "     Disciplinary failure  \n",
              "0                       0  \n",
              "1                       1  \n",
              "2                       0  \n",
              "3                       0  \n",
              "4                       0  \n",
              "..                    ...  \n",
              "735                     0  \n",
              "736                     0  \n",
              "737                     0  \n",
              "738                     0  \n",
              "739                     0  \n",
              "\n",
              "[740 rows x 8 columns]"
            ]
          },
          "execution_count": 410,
          "metadata": {},
          "output_type": "execute_result"
        }
      ],
      "source": [
        "descriptive_features2 = absenteeism_data.iloc[:,[1,2,3,6,7,9,10,11]]\n",
        "descriptive_features2"
      ]
    },
    {
      "cell_type": "markdown",
      "metadata": {},
      "source": [
        "### Standard Scaler on Descriptive Features"
      ]
    },
    {
      "cell_type": "code",
      "execution_count": 411,
      "metadata": {},
      "outputs": [
        {
          "name": "stdout",
          "output_type": "stream",
          "text": [
            "StandardScaler()\n",
            "[1.92162162e+01 6.32432432e+00 3.91486486e+00 2.96310811e+01\n",
            " 1.25540541e+01 2.71490235e+05 9.45878378e+01 5.40540541e-02]\n"
          ]
        },
        {
          "data": {
            "text/plain": [
              "array([[ 0.80493838,  0.19676258, -0.64394734, ..., -0.81821241,\n",
              "         0.63868581, -0.23904572],\n",
              "       [-2.28012426,  0.19676258, -0.64394734, ..., -0.81821241,\n",
              "         0.63868581,  4.18330013],\n",
              "       [ 0.44896961,  0.19676258,  0.0599242 , ..., -0.81821241,\n",
              "         0.63868581, -0.23904572],\n",
              "       ...,\n",
              "       [-2.28012426, -1.84169773, -0.64394734, ..., -0.0069491 ,\n",
              "         0.10913119, -0.23904572],\n",
              "       [-2.28012426, -1.84169773,  0.0599242 , ..., -0.0069491 ,\n",
              "         0.10913119, -0.23904572],\n",
              "       [-2.28012426, -1.84169773,  1.46766727, ..., -0.0069491 ,\n",
              "         0.10913119, -0.23904572]])"
            ]
          },
          "execution_count": 411,
          "metadata": {},
          "output_type": "execute_result"
        }
      ],
      "source": [
        "from sklearn.preprocessing import StandardScaler\n",
        "scaler = StandardScaler()\n",
        "print(scaler.fit(descriptive_features2))\n",
        "\n",
        "print(scaler.mean_)\n",
        "\n",
        "#print(scaler.transform(data))\n",
        "descriptive_features2 = scaler.transform(descriptive_features2)\n",
        "descriptive_features2"
      ]
    },
    {
      "cell_type": "markdown",
      "metadata": {},
      "source": [
        "### Checking shapes of Descriptive and Target features"
      ]
    },
    {
      "cell_type": "code",
      "execution_count": 412,
      "metadata": {},
      "outputs": [
        {
          "data": {
            "text/plain": [
              "((740, 8), (740, 1))"
            ]
          },
          "execution_count": 412,
          "metadata": {},
          "output_type": "execute_result"
        }
      ],
      "source": [
        "descriptive_features2.shape,target_feature.shape"
      ]
    },
    {
      "cell_type": "markdown",
      "metadata": {},
      "source": [
        "# Classifiers with All Features"
      ]
    },
    {
      "cell_type": "markdown",
      "metadata": {},
      "source": [
        "# SVM"
      ]
    },
    {
      "cell_type": "code",
      "execution_count": 413,
      "metadata": {},
      "outputs": [],
      "source": [
        "x1_train2, x1_test2, y1_train2, y1_test2 = train_test_split(descriptive_features2, target_feature, test_size = 0.3, random_state = 100)"
      ]
    },
    {
      "cell_type": "code",
      "execution_count": 414,
      "metadata": {},
      "outputs": [
        {
          "name": "stdout",
          "output_type": "stream",
          "text": [
            "Linear Model\n",
            "After 10 fold cross validation:\n",
            "Mean of Accuracies:  45.38838612368024\n",
            "Standard deviation of Accuracies 6.5590930296128445\n"
          ]
        }
      ],
      "source": [
        "#Linear SVM\n",
        "print('Linear Model',end='\\n')\n",
        "lsvclassifier2 = SVC(kernel='linear',probability=True)\n",
        "lsvclassifier2.fit(x1_train2, y1_train2)\n",
        "\n",
        "#Applying k-Fold Cross Validation\n",
        "accuracies2 = cross_val_score(estimator = lsvclassifier2, X = x1_train2, y = y1_train2, cv = 10)\n",
        "mean_svm_linear2=accuracies2.mean()\n",
        "std_svm_linear2=accuracies2.std()\n",
        "\n",
        "#After using 10 fold cross validation\n",
        "print('After 10 fold cross validation:')\n",
        "print('Mean of Accuracies: ',mean_svm_linear2*100,end='\\n')\n",
        "print('Standard deviation of Accuracies',std_svm_linear2*100,end='\\n')\n",
        "\n",
        "# #Predict SVM\n",
        "# y_predl2 = lsvclassifier2.predict(x1_test2)\n",
        "\n",
        "# #Confusion Matrix\n",
        "# print('Test Output:')\n",
        "# print('Confusion Matrix:')\n",
        "# print(sk.confusion_matrix(y1_test2,y_predl2))\n",
        "# print('Classification Report:')\n",
        "# print(sk.classification_report(y1_test2,y_predl2))\n",
        "# print('Accuracy: ',sk.accuracy_score(y1_test2, y_predl2, normalize=True, sample_weight=None))"
      ]
    },
    {
      "cell_type": "markdown",
      "metadata": {},
      "source": [
        "## Decision Tree"
      ]
    },
    {
      "cell_type": "code",
      "execution_count": 415,
      "metadata": {},
      "outputs": [
        {
          "name": "stdout",
          "output_type": "stream",
          "text": [
            "After 10 fold cross validation:\n",
            "Mean of Accuracies:  39.57013574660634\n",
            "Standard deviation of Accuracies 3.505294935361636\n"
          ]
        }
      ],
      "source": [
        "\n",
        "dt_classifier2 = DecisionTreeClassifier()\n",
        "dt_classifier2.fit(x1_train2, y1_train2)\n",
        "\n",
        "#Applying k-Fold Cross Validation\n",
        "accuracies = cross_val_score(estimator = dt_classifier2, X = x1_train2, y = y1_train2, cv = 10)\n",
        "mean_dt2=accuracies.mean()\n",
        "std_dt2=accuracies.std()\n",
        "\n",
        "#After using 10 fold cross validation\n",
        "print('After 10 fold cross validation:')\n",
        "print('Mean of Accuracies: ',mean_dt2*100,end='\\n')\n",
        "print('Standard deviation of Accuracies',std_dt2*100,end='\\n')"
      ]
    },
    {
      "cell_type": "markdown",
      "metadata": {},
      "source": [
        "# Random Forest"
      ]
    },
    {
      "cell_type": "code",
      "execution_count": 416,
      "metadata": {},
      "outputs": [
        {
          "data": {
            "text/plain": [
              "RandomForestClassifier(n_estimators=1000)"
            ]
          },
          "execution_count": 416,
          "metadata": {},
          "output_type": "execute_result"
        }
      ],
      "source": [
        "#training random Forest\n",
        "from sklearn.ensemble import RandomForestClassifier  #Random Forest algorithm\n",
        "rf2=RandomForestClassifier(n_estimators=1000)\n",
        "rf2.fit(x1_train2, y1_train2)"
      ]
    },
    {
      "cell_type": "code",
      "execution_count": 417,
      "metadata": {},
      "outputs": [
        {
          "name": "stdout",
          "output_type": "stream",
          "text": [
            "After 10 fold cross validation:\n",
            "Mean of Accuracies:  49.60030165912519\n",
            "Standard deviation of Accuracies 5.191588819737426\n"
          ]
        }
      ],
      "source": [
        "#Applying k-Fold Cross Validation\n",
        "accuracies2 = cross_val_score(estimator = rf2, X = x1_train2, y = y1_train2, cv = 10)\n",
        "mean_rf2=accuracies2.mean()\n",
        "std_rf2=accuracies2.std()\n",
        "\n",
        "#After using 10 fold cross validation\n",
        "print('After 10 fold cross validation:')\n",
        "print('Mean of Accuracies: ',mean_rf2*100,end='\\n')\n",
        "print('Standard deviation of Accuracies',std_rf2*100,end='\\n')\n",
        "\n",
        "# #Predict rf\n",
        "# y_predl2 = rf2.predict(x1_test2)\n",
        "\n",
        "# #Confusion Matrix\n",
        "# print('Test Output:')\n",
        "# print('Confusion Matrix:')\n",
        "# print(sk.confusion_matrix(y1_test2,y_predl2))\n",
        "# print('Classification Report:')\n",
        "# print(sk.classification_report(y1_test2,y_predl2))\n",
        "# print('Accuracy: ',sk.accuracy_score(y1_test2, y_predl2, normalize=True, sample_weight=None))"
      ]
    },
    {
      "cell_type": "markdown",
      "metadata": {},
      "source": [
        "## Ensemble Technique\n",
        "### Voting Classifier with Hard Voting on complete dataset"
      ]
    },
    {
      "cell_type": "code",
      "execution_count": 418,
      "metadata": {},
      "outputs": [],
      "source": [
        "from sklearn.ensemble import VotingClassifier\n",
        "from sklearn.metrics import accuracy_score\n",
        "\n",
        "\n",
        "voting_clf_hard = VotingClassifier(\n",
        "    estimators=[('linearsvc', lsvclassifier), ('rf', rf), ('dt', dt_classifier)],\n",
        "    voting='hard')\n",
        "\n"
      ]
    },
    {
      "cell_type": "code",
      "execution_count": 419,
      "metadata": {},
      "outputs": [
        {
          "name": "stdout",
          "output_type": "stream",
          "text": [
            "After 10 fold cross validation:\n",
            "Mean of Accuracies:  48.27300150829562\n",
            "Standard deviation of Accuracies 3.1325651657253712\n"
          ]
        }
      ],
      "source": [
        "#Applying k-Fold Cross Validation\n",
        "accuracies2 = cross_val_score(estimator = voting_clf_hard, X = x1_train2, y = y1_train2, cv = 10)\n",
        "mean_vch=accuracies2.mean()\n",
        "std_vch=accuracies2.std()\n",
        "\n",
        "#After using 10 fold cross validation\n",
        "print('After 10 fold cross validation:')\n",
        "print('Mean of Accuracies: ',mean_vch*100,end='\\n')\n",
        "print('Standard deviation of Accuracies',std_vch*100,end='\\n')"
      ]
    },
    {
      "cell_type": "markdown",
      "metadata": {},
      "source": [
        "## Ensemble Technique\n",
        "### Voting Classifier with Hard Voting on reduced dataset."
      ]
    },
    {
      "cell_type": "code",
      "execution_count": 420,
      "metadata": {},
      "outputs": [],
      "source": [
        "from sklearn.ensemble import VotingClassifier\n",
        "from sklearn.metrics import accuracy_score\n",
        "\n",
        "\n",
        "voting_clf_hard2 = VotingClassifier(\n",
        "    estimators=[('linearsvc', lsvclassifier2), ('rf', rf2), ('dt', dt_classifier2)],\n",
        "    voting='hard')\n",
        "\n"
      ]
    },
    {
      "cell_type": "code",
      "execution_count": 421,
      "metadata": {},
      "outputs": [
        {
          "name": "stdout",
          "output_type": "stream",
          "text": [
            "After 10 fold cross validation:\n",
            "Mean of Accuracies:  49.61161387631976\n",
            "Standard deviation of Accuracies 2.928582795401169\n"
          ]
        }
      ],
      "source": [
        "#Applying k-Fold Cross Validation\n",
        "accuracies2 = cross_val_score(estimator = voting_clf_hard2, X = x1_train2, y = y1_train2, cv = 10)\n",
        "mean_vch2=accuracies2.mean()\n",
        "std_vch2=accuracies2.std()\n",
        "\n",
        "#After using 10 fold cross validation\n",
        "print('After 10 fold cross validation:')\n",
        "print('Mean of Accuracies: ',mean_vch2*100,end='\\n')\n",
        "print('Standard deviation of Accuracies',std_vch2*100,end='\\n')"
      ]
    },
    {
      "cell_type": "code",
      "execution_count": 427,
      "metadata": {},
      "outputs": [
        {
          "name": "stdout",
          "output_type": "stream",
          "text": [
            "Accuracies percentage of Linear SVM on complete dataset:  43.24660633484164  vs Reduced dataset :  45.38838612368024\n",
            "Accuracies percentage of Decision Tree on complete dataset:  38.23906485671192  vs Reduced dataset :  39.57013574660634\n",
            "Accuracies percentage of Random Forest on complete dataset:  44.41553544494721  vs Reduced dataset :  49.60030165912519\n",
            "Accuracies percentage of Voting Classifier on complete dataset:  48.27300150829562  vs Reduced dataset :  49.61161387631976\n"
          ]
        }
      ],
      "source": [
        "print(\"Accuracies percentage of Linear SVM on complete dataset: \",mean_svm_linear*100, \" vs Reduced dataset : \",mean_svm_linear2*100)\n",
        "print(\"Accuracies percentage of Decision Tree on complete dataset: \",mean_dt*100, \" vs Reduced dataset : \",mean_dt2*100)\n",
        "print(\"Accuracies percentage of Random Forest on complete dataset: \",mean_rf*100, \" vs Reduced dataset : \",mean_rf2*100)\n",
        "print(\"Accuracies percentage of Voting Classifier on complete dataset: \",mean_vch*100, \" vs Reduced dataset : \",mean_vch2*100)"
      ]
    }
  ],
  "metadata": {
    "colab": {
      "name": "Homework 4.ipynb",
      "provenance": []
    },
    "kernelspec": {
      "display_name": "Python 3",
      "name": "python3"
    },
    "language_info": {
      "codemirror_mode": {
        "name": "ipython",
        "version": 3
      },
      "file_extension": ".py",
      "mimetype": "text/x-python",
      "name": "python",
      "nbconvert_exporter": "python",
      "pygments_lexer": "ipython3",
      "version": "3.7.7"
    }
  },
  "nbformat": 4,
  "nbformat_minor": 0
}
