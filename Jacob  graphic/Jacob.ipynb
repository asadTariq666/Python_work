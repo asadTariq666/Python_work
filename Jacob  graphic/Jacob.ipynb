{
 "cells": [
  {
   "cell_type": "code",
   "execution_count": 9,
   "metadata": {},
   "outputs": [
    {
     "name": "stdout",
     "output_type": "stream",
     "text": [
      "Number: 25\n",
      "Number: 63\n",
      "Number: 4\n",
      "Number: 35\n",
      "Number: 18\n",
      "Number: 87\n",
      "Number: 10\n",
      "Number: 47\n",
      "Number: 65\n",
      "sum is: 354 \n",
      "the count of numbers: 9\n"
     ]
    }
   ],
   "source": [
    "#2\n",
    "\n",
    "import random\n",
    "count=0\n",
    "sum = 0\n",
    "j=0\n",
    "mylist = []\n",
    "\n",
    "for i in range(0,1000):\n",
    "    x = random.randint(1,100)\n",
    "    mylist.append(x)\n",
    "\n",
    "#print(mylist)\n",
    "while(mylist[j]<90):\n",
    "        sum = sum+mylist[j]\n",
    "        print('Number:',mylist[j])\n",
    "        count = count+1\n",
    "        j=j+1\n",
    "\n",
    "print(\"sum is:\",sum,'\\nthe count of numbers:',count)\n",
    "\n"
   ]
  },
  {
   "cell_type": "markdown",
   "metadata": {},
   "source": [
    "Cluster 2"
   ]
  },
  {
   "cell_type": "code",
   "execution_count": null,
   "metadata": {},
   "outputs": [
    {
     "data": {
      "text/plain": [
       "0                                      The Avengers\n",
       "2           Star Wars Episode I: The Phantom Menace\n",
       "3        Star Wars Episode III: Revenge of the Sith\n",
       "5                  Star Wars Episode IV: A New Hope\n",
       "6         The Twilight Saga: Breaking Dawn - Part 1\n",
       "7        Star Wars Episode II: Attack of the Clones\n",
       "8                                    Men in Black 3\n",
       "10     Star Wars Episode V: The Empire Strikes Back\n",
       "12         Star Wars Episode VI: Return of the Jedi\n",
       "13                                  Men in Black II\n",
       "18                              Monsters vs. Aliens\n",
       "23                               The Last Airbender\n",
       "24                                       Battleship\n",
       "28                                    Lilo & Stitch\n",
       "31                                The Bourne Legacy\n",
       "37                                   Wild Wild West\n",
       "42                    You Don't Mess with the Zohan\n",
       "45                                     Total Recall\n",
       "57                    Star Trek: The Motion Picture\n",
       "64                                 The Time Machine\n",
       "65                                  We Bought a Zoo\n",
       "67                           Star Trek: Generations\n",
       "68                                      Dragonheart\n",
       "69                                          Species\n",
       "70                                   A Civil Action\n",
       "71                                  Treasure Planet\n",
       "73                                             Nell\n",
       "74                                        Planet 51\n",
       "75                                            Alien\n",
       "76             The Hitchhiker's Guide to the Galaxy\n",
       "78                                Universal Soldier\n",
       "90              Star Trek III: The Search for Spock\n",
       "94                Final Fantasy: The Spirits Within\n",
       "98                                The Ides of March\n",
       "101                           Dude, Where's My Car?\n",
       "102                                    Funny People\n",
       "103                                         La Luna\n",
       "107                         *batteries not included\n",
       "108                                         Zathura\n",
       "112                                        Inkheart\n",
       "122                                            Doom\n",
       "130                                       Meet Dave\n",
       "133                                          May 18\n",
       "Name: Name, dtype: object"
      ]
     },
     "metadata": {},
     "output_type": "display_data"
    }
   ],
   "source": [
    "movies_tfidf.Name[movies_tfidf.Cluster==1]"
   ]
  },
  {
   "cell_type": "code",
   "execution_count": 13,
   "metadata": {},
   "outputs": [
    {
     "name": "stdout",
     "output_type": "stream",
     "text": [
      "['dd', 'ff', 'ww']\n",
      "['ss', 'dd', 'aa']\n",
      "[5, 6, 7] 6.0\n"
     ]
    }
   ],
   "source": [
    "films=[]\n",
    "countries=[]\n",
    "numbers=[]\n",
    "i=0\n",
    "while(i<3):\n",
    "    x= input('Enter favourite Films')\n",
    "    films.append(x)\n",
    "    i =i+1\n",
    "i=0\n",
    "while(i<3):\n",
    "    x= int(input('Enter favourite Numbers'))\n",
    "    numbers.append(x)\n",
    "    i =i+1\n",
    "i=0\n",
    "while(i<3):\n",
    "    x= input('Enter favourite Countries')\n",
    "    countries.append(x)\n",
    "    i =i+1\n",
    "\n",
    "film = sorted(films)\n",
    "print(film)\n",
    "countrys = sorted(countries, reverse=True)\n",
    "print(countrys)\n",
    "print(sorted(numbers),sum(numbers)/len(numbers))\n"
   ]
  },
  {
   "cell_type": "code",
   "execution_count": 7,
   "metadata": {},
   "outputs": [
    {
     "name": "stdout",
     "output_type": "stream",
     "text": [
      "file name: input.txt\n",
      "Total lines: 7\n",
      "Number of words in text file : 9\n",
      "Number of characters in text file : 43\n"
     ]
    }
   ],
   "source": [
    "file = open(\"input.txt\", \"r\")\n",
    "\n",
    "#read the content of file\n",
    "data = file.read()\n",
    "\n",
    "#data = f.read()\n",
    "words = data.split()\n",
    "#get  length of the data\n",
    "number_of_characters = len(data)\n",
    "x = len(words)\n",
    "# Number of lines\n",
    "num_lines = 0\n",
    "num_lines += data.count(\"\\n\")\n",
    "\n",
    "print('file name: input.txt')\n",
    "print('Total lines:', num_lines) \n",
    "print('Number of words in text file :', len(words))\n",
    "print('Number of characters in text file :', number_of_characters)\n"
   ]
  },
  {
   "cell_type": "code",
   "execution_count": 18,
   "metadata": {},
   "outputs": [
    {
     "name": "stdout",
     "output_type": "stream",
     "text": [
      "Input lengths of the triangle sides: \n",
      "enter positive value of 1st side:\n",
      "enter positive value of 2nd side:\n",
      "Invalid Input, try Again\n",
      "enter positive value of 2nd side:\n",
      "Invalid Input, try Again\n",
      "enter positive value of 2nd side:\n",
      "enter positive value of 3rd side:\n",
      "Invalid Input, try Again\n",
      "enter positive value of 3rd side:\n",
      "the triangle has lenghts 10 33 33\n",
      "It is isosceles triangle\n"
     ]
    }
   ],
   "source": [
    "#Question 5\n",
    "x=y=z=-1\n",
    "print(\"Input lengths of the triangle sides: \")\n",
    "\n",
    "while x<0:\n",
    "    print('enter positive value of 1st side:')\n",
    "    x = int(input(\"x: \"))\n",
    "    if x <0:\n",
    "        print('Invalid Input, try Again')\n",
    "while y<0:\n",
    "    print('enter positive value of 2nd side:')\n",
    "    y = int(input(\"y: \"))\n",
    "    if y <0:\n",
    "        print('Invalid Input, try Again')\n",
    "while z<0:\n",
    "    print('enter positive value of 3rd side:')\n",
    "    z = int(input(\"z: \"))\n",
    "    if z <0:\n",
    "        print('Invalid Input, try Again')\n",
    "    \n",
    "print('the triangle has lenghts',x,y,z)\n",
    "if x == y == z:\n",
    "\tprint(\"It is Equilateral triangle\")\n",
    "elif x==y or y==z or z==x:\n",
    "\tprint(\"It is isosceles triangle\")\n",
    "else:\n",
    "\tprint(\"It isScalene triangle\")\n"
   ]
  }
 ],
 "metadata": {
  "interpreter": {
   "hash": "f293f16398db128e85df277de8eb5f9ab0a1b28857fa0f1c8543245825f1b931"
  },
  "kernelspec": {
   "display_name": "Python 3.7.7 ('pythonProject')",
   "language": "python",
   "name": "python3"
  },
  "language_info": {
   "codemirror_mode": {
    "name": "ipython",
    "version": 3
   },
   "file_extension": ".py",
   "mimetype": "text/x-python",
   "name": "python",
   "nbconvert_exporter": "python",
   "pygments_lexer": "ipython3",
   "version": "3.7.7"
  },
  "orig_nbformat": 4
 },
 "nbformat": 4,
 "nbformat_minor": 2
}
