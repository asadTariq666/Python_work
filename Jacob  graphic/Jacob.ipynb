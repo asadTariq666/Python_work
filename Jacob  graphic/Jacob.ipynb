{
 "cells": [
  {
   "cell_type": "code",
   "execution_count": 68,
   "metadata": {},
   "outputs": [
    {
     "name": "stdout",
     "output_type": "stream",
     "text": [
      "Number: 18\n",
      "Number: 76\n",
      "Number: 47\n",
      "Number: 33\n",
      "Number: 57\n",
      "Number: 18\n",
      "Number: 42\n",
      "Number: 30\n",
      "Number: 71\n",
      "Number: 88\n",
      "Number: 63\n",
      "Number: 60\n",
      "Number: 55\n",
      "Number: 85\n",
      "Number: 9\n",
      "Number: 61\n",
      "Number: 15\n",
      "Number: 44\n",
      "Number: 56\n",
      "sum is: 928 \n",
      "the count of numbers: 19\n"
     ]
    }
   ],
   "source": [
    "#2\n",
    "\n",
    "import random\n",
    "count=0\n",
    "sum = 0\n",
    "j=0\n",
    "mylist = []\n",
    "\n",
    "for i in range(0,1000):\n",
    "    x = random.randint(1,100)\n",
    "    mylist.append(x)\n",
    "\n",
    "#print(mylist)\n",
    "while(mylist[j]<90):\n",
    "        sums = sums+mylist[j]\n",
    "        print('Number:',mylist[j])\n",
    "        count = count+1\n",
    "        j=j+1\n",
    "\n",
    "print(\"sum is:\",sums,'\\nthe count of numbers:',count)\n",
    "\n"
   ]
  },
  {
   "cell_type": "code",
   "execution_count": 13,
   "metadata": {},
   "outputs": [
    {
     "name": "stdout",
     "output_type": "stream",
     "text": [
      "['dd', 'ff', 'ww']\n",
      "['ss', 'dd', 'aa']\n",
      "[5, 6, 7] 6.0\n"
     ]
    }
   ],
   "source": [
    "films=[]\n",
    "countries=[]\n",
    "numbers=[]\n",
    "i=0\n",
    "while(i<3):\n",
    "    x= input('Enter favourite Films')\n",
    "    films.append(x)\n",
    "    i =i+1\n",
    "i=0\n",
    "while(i<3):\n",
    "    x= int(input('Enter favourite Numbers'))\n",
    "    numbers.append(x)\n",
    "    i =i+1\n",
    "i=0\n",
    "while(i<3):\n",
    "    x= input('Enter favourite Countries')\n",
    "    countries.append(x)\n",
    "    i =i+1\n",
    "\n",
    "film = sorted(films)\n",
    "print(film)\n",
    "countrys = sorted(countries, reverse=True)\n",
    "print(countrys)\n",
    "print(sorted(numbers),sum(numbers)/len(numbers))\n"
   ]
  },
  {
   "cell_type": "code",
   "execution_count": 28,
   "metadata": {},
   "outputs": [
    {
     "name": "stdout",
     "output_type": "stream",
     "text": [
      "file name: input.txt\n",
      "Total lines: 31\n",
      "Number of words in text file : 7\n",
      "Number of characters in text file : 31\n"
     ]
    }
   ],
   "source": [
    "file = open(\"input.txt\", \"r\")\n",
    "\n",
    "#read the content of file\n",
    "data = file.read()\n",
    "\n",
    "#data = f.read()\n",
    "words = data.split()\n",
    "#get  length of the data\n",
    "number_of_characters = len(data)\n",
    "x = len(data)\n",
    "\n",
    "print('file name: input.txt')\n",
    "print('Total lines:', x) \n",
    "print('Number of words in text file :', len(words))\n",
    "print('Number of characters in text file :', number_of_characters)\n"
   ]
  },
  {
   "cell_type": "code",
   "execution_count": 25,
   "metadata": {},
   "outputs": [
    {
     "data": {
      "text/plain": [
       "'Test\\nAaaa\\nSss\\nFfff\\nwww\\nSss\\nQqq\\n'"
      ]
     },
     "execution_count": 25,
     "metadata": {},
     "output_type": "execute_result"
    }
   ],
   "source": [
    "file = open(\"input.txt\", \"r\")\n",
    "\n",
    "#read the content of file\n",
    "data = file.read()\n",
    "data"
   ]
  },
  {
   "cell_type": "code",
   "execution_count": 21,
   "metadata": {},
   "outputs": [
    {
     "data": {
      "text/plain": [
       "['Test\\n', 'Aaaa\\n', 'Sss\\n', 'Ffff\\n', 'www\\n', 'Sss\\n', 'Qqq\\n']"
      ]
     },
     "execution_count": 21,
     "metadata": {},
     "output_type": "execute_result"
    }
   ],
   "source": [
    "f = open(\"input.txt\", \"r\")\n",
    "Lines = f.readlines()\n",
    "Lines"
   ]
  }
 ],
 "metadata": {
  "interpreter": {
   "hash": "f293f16398db128e85df277de8eb5f9ab0a1b28857fa0f1c8543245825f1b931"
  },
  "kernelspec": {
   "display_name": "Python 3.7.7 ('pythonProject')",
   "language": "python",
   "name": "python3"
  },
  "language_info": {
   "codemirror_mode": {
    "name": "ipython",
    "version": 3
   },
   "file_extension": ".py",
   "mimetype": "text/x-python",
   "name": "python",
   "nbconvert_exporter": "python",
   "pygments_lexer": "ipython3",
   "version": "3.7.7"
  },
  "orig_nbformat": 4
 },
 "nbformat": 4,
 "nbformat_minor": 2
}
