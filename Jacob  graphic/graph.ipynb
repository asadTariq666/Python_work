{
 "cells": [
  {
   "cell_type": "markdown",
   "metadata": {},
   "source": [
    "### Plot a graph of the first 10 prime numbers against the first 10 odd numbers. The y-axis are the prime numbers and the x-axis are the odd numbers.\n",
    "### Display titles for the x and y axis. Specify markers. Display the line in green.\n",
    "### bonus points - use a for loop to generate the list of numbers for the x-axis"
   ]
  },
  {
   "cell_type": "code",
   "execution_count": 2,
   "metadata": {},
   "outputs": [
    {
     "data": {
      "image/png": "[encoded data removed]",
      "text/plain": [
       "<Figure size 504x504 with 1 Axes>"
      ]
     },
     "metadata": {
      "needs_background": "light"
     },
     "output_type": "display_data"
    }
   ],
   "source": [
    "import matplotlib.pyplot as plt\n",
    "Y = [1,3,5,7,11,13,17,19,23,29]\n",
    "# create an empty\n",
    "X_list = []\n",
    "# iterate through numbers 1 to 20 in steps of 2. each number will be added to the list created above\n",
    "for x in range(1, 21, 2):\n",
    " X_list.append(x)\n",
    "fig,ax = plt.subplots(figsize = (7,7))\n",
    "plt.plot(X_list, Y, marker='+', color='green', linestyle = 'dotted')\n",
    "ax.set_xlabel('Odd Numbers')\n",
    "ax.set_ylabel('Prime Numbers')\n",
    "plt.suptitle('Prime Numbers versus Odd Numbers')\n",
    "plt.show()"
   ]
  },
  {
   "cell_type": "markdown",
   "metadata": {},
   "source": [
    " Use graphics.py to create a tic-tac-toe board with\n",
    "red lines on a window of size 300x300.\n",
    "Use the set coordinate function to transform the\n",
    "window to a 12x12 coordinate window\n",
    "Place a blue circle in the centre of top left square\n",
    "and a green triangle in the centre of the bottom\n",
    "right square, touching the edges of the square.\n",
    "When the user clicks, move the circle one square\n",
    "to the right and the triangle to the left\n",
    "\n",
    "When the user clicks again, make the circle\n",
    "disappear. Use the function .undraw()"
   ]
  },
  {
   "cell_type": "code",
   "execution_count": 3,
   "metadata": {},
   "outputs": [],
   "source": [
    "from graphics import *\n",
    "def main():\n",
    " win = GraphWin('Tic Tac Toe',300,300)\n",
    " # set coordinates for window. This helps in identifying the coordinates of the window when placing obj win.setCoords(0,0,12,12)\n",
    " # create vertical red lines at 1/3rd and 2/3rd of the window\n",
    " l1 = Line(Point(4,0),Point(4,12))\n",
    " l1.setFill('red')\n",
    " l1.draw(win)\n",
    " l2 = Line(Point(8,0),Point(8,12))\n",
    " l2.setFill('red')\n",
    " l2.draw(win)\n",
    " # create horizontal red lines at 1/3rd and 2/3rd of the window\n",
    " l3 = Line(Point(0,4),Point(12,4))\n",
    " l3.setFill('red')\n",
    " l3.draw(win)\n",
    " l4 = Line(Point(0,8),Point(12,8))\n",
    " l4.setFill('red')\n",
    " l4.draw(win)\n",
    " # draw a blue circle\n",
    " p1 = Point(2,10)\n",
    " r = 2\n",
    " circ = Circle(p1,r)\n",
    " circ.setFill('blue')\n",
    " circ.draw(win)\n",
    " # draw a green triangle\n",
    " tri = Polygon(Point(8,0),Point(12,0),Point(10,4))\n",
    " tri.setFill('green')\n",
    " tri.draw(win)\n",
    "\n",
    " # wait for user to click mouse\n",
    " win.getMouse()\n",
    " # after user clicks on window, move circle to the right and triangle to the left\n",
    " circ.move(4,0)\n",
    " tri.move(-4,0)\n",
    " # wait for user to click mouse\n",
    " win.getMouse()\n",
    " # after user clicks, remove the circle\n",
    " circ.undraw()\n",
    " win.getMouse()\n",
    "main()"
   ]
  },
  {
   "cell_type": "markdown",
   "metadata": {},
   "source": [
    "### Ask the user 5 times to input a number. Return a list with the square of each number.\n",
    "### for e.g. if the user inputs 4, 5, 3, 7, 4 return this list [16, 25, 9, 7,16]"
   ]
  },
  {
   "cell_type": "code",
   "execution_count": 1,
   "metadata": {},
   "outputs": [
    {
     "name": "stdout",
     "output_type": "stream",
     "text": [
      "[1, 4, 9, 16, 25]\n"
     ]
    }
   ],
   "source": [
    "l = []\n",
    "for i in range(5):\n",
    " num = eval(input('Enter number: '))\n",
    " l.append(num*num)\n",
    "print(l)"
   ]
  },
  {
   "cell_type": "markdown",
   "metadata": {},
   "source": [
    "### Ask user to enter a letter until they enter a vowel. create a list with each input that is not a vowel and print it at the end for e.g, if the user enters s, ask for input again. If user enters n, ask for input again. If user enters a, print ['s','n']. Your program should be case-insensitive. ie. the user can enter a or A."
   ]
  },
  {
   "cell_type": "code",
   "execution_count": 2,
   "metadata": {},
   "outputs": [
    {
     "name": "stdout",
     "output_type": "stream",
     "text": [
      "['s', 'd']\n"
     ]
    }
   ],
   "source": [
    "c = input('letter')\n",
    "l = []\n",
    "while c.lower() not in ['a','e','i','o','u']:\n",
    " l.append(c)\n",
    " c = input('letter')\n",
    "print(l)"
   ]
  },
  {
   "cell_type": "markdown",
   "metadata": {},
   "source": [
    "### create a list of 5 of your favorite food. Ask the user to input a letter. Randomly choose one food from your list, print it and ask the user to input again. Repeat until the user prints Q or q."
   ]
  },
  {
   "cell_type": "code",
   "execution_count": 4,
   "metadata": {},
   "outputs": [
    {
     "name": "stdout",
     "output_type": "stream",
     "text": [
      "My favorite food is  pizza\n",
      "My favorite food is  pizza\n",
      "My favorite food is  apple\n",
      "My favorite food is  tacos\n",
      "My favorite food is  apple\n",
      "My favorite food is  sushi\n",
      "My favorite food is  pizza\n"
     ]
    }
   ],
   "source": [
    "from random import randrange\n",
    "food = ['apple','sushi','tacos','frijoles','pizza']\n",
    "# generate a random number between 0 and 4. randrange(number) will return an integer between 0 and(number - 1)\n",
    "num = randrange(5) # randrange goes from 0 to 4\n",
    "l = input('letter')\n",
    "# as long as the user does not enter q or Q, the while loop will keep running\n",
    "while l.upper() != 'Q':\n",
    " print('My favorite food is ', food[randrange(5)])\n",
    " l = input('letter')"
   ]
  },
  {
   "cell_type": "code",
   "execution_count": 5,
   "metadata": {},
   "outputs": [
    {
     "name": "stdout",
     "output_type": "stream",
     "text": [
      "1815\n"
     ]
    }
   ],
   "source": [
    "#Ask user for two integer numbers. Return their product only if the product is greater than 1000, else ask user for input again.\n",
    "n1 = eval(input('Enter first number: '))\n",
    "n2 = eval(input('Enter second number: '))\n",
    "while (n1*n2) < 1000:\n",
    " n1 = eval(input('Enter first number: '))\n",
    " n2 = eval(input('Enter second number: '))\n",
    "print(n1*n2)"
   ]
  },
  {
   "cell_type": "code",
   "execution_count": 6,
   "metadata": {},
   "outputs": [
    {
     "name": "stdout",
     "output_type": "stream",
     "text": [
      "1\n",
      "3\n",
      "5\n",
      "7\n",
      "9\n",
      "11\n",
      "13\n",
      "15\n",
      "17\n",
      "19\n"
     ]
    }
   ],
   "source": [
    "#Write a program to iterate the first 10 numbers and in each iteration, print the sum of the current and previous number.\n",
    "for i in range(1, 11):\n",
    " print(i + (i-1))"
   ]
  },
  {
   "cell_type": "code",
   "execution_count": 8,
   "metadata": {},
   "outputs": [
    {
     "name": "stdout",
     "output_type": "stream",
     "text": [
      "False\n"
     ]
    }
   ],
   "source": [
    "# Write a function to return True if the first and last number of a given list is same. If numbers are different then return False.\n",
    "# Create a Python list. Write a program to replace the value 20 with 200. If there is no 20 in the list, do nothing.\n",
    "def check_num(mylist):\n",
    " first = mylist[0]\n",
    " last = mylist[-1]\n",
    " compare_result = first==last\n",
    " print(compare_result)\n",
    "# create a list here. Experiment with different combination of numbers\n",
    "num_list = [20,45,900,10,202]\n",
    "check_num(num_list)"
   ]
  },
  {
   "cell_type": "code",
   "execution_count": 9,
   "metadata": {},
   "outputs": [
    {
     "name": "stdout",
     "output_type": "stream",
     "text": [
      "True\n",
      "[1, 80, 45, 200, 45, 900, 10, 200, 300, 909]\n"
     ]
    }
   ],
   "source": [
    "#Create a Python list. Write a program to replace the value 20 with 200. If there is no 20 in the list, do nothing.\n",
    "def check_num(mylist):\n",
    " first = mylist[0]\n",
    " last = mylist[-1]\n",
    " compare_result = first==last\n",
    " print(compare_result)\n",
    "# create a list here. Experiment with different combination of numbers\n",
    "num_list = [20,45,900,10,20]\n",
    "check_num(num_list)\n",
    "list_20 = [1, 80, 45, 20, 45, 900, 10, 20, 300, 909]\n",
    "length_of_List = len(list_20)\n",
    "for i in range(length_of_List):\n",
    " if list_20[i] == 20:\n",
    "    list_20[i] = 200\n",
    "print(list_20)"
   ]
  },
  {
   "cell_type": "code",
   "execution_count": 11,
   "metadata": {},
   "outputs": [
    {
     "data": {
      "image/png": "[encoded data removed]",
      "text/plain": [
       "<Figure size 1008x432 with 1 Axes>"
      ]
     },
     "metadata": {
      "needs_background": "light"
     },
     "output_type": "display_data"
    }
   ],
   "source": [
    "import matplotlib.pyplot as plt\n",
    "# create list of month and profits\n",
    "month = [1,2,3,4,5,6,7,8,9,10,11,12]\n",
    "profit = [211000,183300,224700,222700,209600,201400,295500,361400,234000,266700,412800,300200]\n",
    "fig,ax = plt.subplots(figsize = (14,6))\n",
    "# draw a plot line with x = month and y = profit\n",
    "plt.plot(month,profit, linestyle='dashed', linewidth=3, color='red', marker='o',\n",
    "markerfacecolor='black')\n",
    "ax.set_xlabel('Month Number')\n",
    "ax.set_ylabel('Sold Units Number')\n",
    "# create a legend. At this point, if the legend doesn't display properly, don't worry.\n",
    "ax.legend('Profit data of last year', loc='lower right')\n",
    "plt.suptitle('Profit data of last year')\n",
    "plt.show()"
   ]
  },
  {
   "cell_type": "code",
   "execution_count": 2,
   "metadata": {},
   "outputs": [
    {
     "name": "stdout",
     "output_type": "stream",
     "text": [
      "Random selected number is : g\n"
     ]
    }
   ],
   "source": [
    "# Suppose\twe\thave\teight\tdifferent\tcolors.\tMake\ta\tprogram\tthat\tchooses\tone\tof\tthese\tcolors\tat\t\n",
    "# random\tand\twrites\tout\tthe\tcolor.\tUse\ta\tlist\tof\tcolor\tnames\tand\tuse\teither\ta\trandom\tnumber\tgenerator\t\n",
    "# or\tthe\tchoice\tfunction\tin\tthe\trandom\tmodule\tto\tpick\ta\tlist\telement.\n",
    "\n",
    "import random\n",
    "def main():\n",
    "    a = [\"a\",\"b\",\"c\",\"d\",\"e\",\"f\",\"g\",\"h\"]\n",
    "    # using random.choice() to \n",
    "    # get a random number \n",
    "    random_num = random.choice(a)\n",
    "  \n",
    "    # printing random number\n",
    "    print (\"Random selected number is : \" + str(random_num))\n",
    "\n",
    "main()"
   ]
  },
  {
   "cell_type": "code",
   "execution_count": 26,
   "metadata": {},
   "outputs": [
    {
     "name": "stdout",
     "output_type": "stream",
     "text": [
      "Second option results in: 6\n"
     ]
    }
   ],
   "source": [
    "# Correct\tthe\tcode\tto\tget\tan\tanswer\tof\t2\tif the\tuser\ttypes\t1,\tor\t6\tif\tthe\tuser\ttypes\t2\twithout\t\n",
    "# changing\tthe\tprint\tstatements.\tInclude\ta\tcomment\tto\tdescribe\twhat\tyou\tchanged\tand\twhy.\tInclude\t\n",
    "# another\tcomment\tto\texplain\twhy\tyou\tgot\tthe\tresult\tyou\tsaw\tbefore\tcorrecting\tthe\tprogram.\n",
    "def main():\n",
    " \n",
    " value= int(input(\"Select between options 1 and 2: \"))\n",
    " \n",
    " if int(value) == 1:\n",
    "    print(\"First option results in:\", value*2)\n",
    " else:\n",
    "    print(\"Second option results in:\", (value)*3)\n",
    "main() "
   ]
  },
  {
   "cell_type": "code",
   "execution_count": 32,
   "metadata": {},
   "outputs": [
    {
     "name": "stdout",
     "output_type": "stream",
     "text": [
      "[1, 2, 1, 2, 3, 4, 5, 6, 7, 8]\n",
      "80640\n"
     ]
    }
   ],
   "source": [
    "# Write\ta\tPython\tprogram\tthat\ttakes\t10\tinputs\tusing\ta\tloop\tand\tputs\tthem\tin\ta\tlist.\tThen\tmultiply\t\n",
    "# all\tthe\titems\tin\tthe\tlist\tand\tprint\tthe\tresult\tin\tthe\toutput.\n",
    "\n",
    "def main():\n",
    "    n=10\n",
    "    lst= []\n",
    "    product =1\n",
    "    for i in range(0, n):\n",
    "        ele = int(input())\n",
    "  \n",
    "        lst.append(ele) # adding the element\n",
    "        product = product*ele\n",
    "\n",
    "    print(lst)\n",
    "    print(product)\n",
    "main() "
   ]
  },
  {
   "cell_type": "code",
   "execution_count": 35,
   "metadata": {},
   "outputs": [
    {
     "name": "stdout",
     "output_type": "stream",
     "text": [
      "congratulations, You won the game,  67 7\n"
     ]
    }
   ],
   "source": [
    "# 4. .\n",
    "from random import *\n",
    "number = randint(1, 100)\n",
    "tries=1\n",
    "user = int(input('enter a number'))\n",
    "while (number != user):\n",
    "    if (number > user):\n",
    "        user = int(input('Higher!\\nGuess the number again : '))\n",
    "    elif(number < user):\n",
    "        user = int(input('Lower!\\nGuess the number again : '))\n",
    "    tries = tries+1\n",
    "    \n",
    "print('congratulations, You won the game, ',number, tries)\n",
    "    "
   ]
  },
  {
   "cell_type": "code",
   "execution_count": 41,
   "metadata": {},
   "outputs": [
    {
     "name": "stdout",
     "output_type": "stream",
     "text": [
      "1.0 0.62\n",
      "2.0 1.24\n",
      "3.0 1.8599999999999999\n",
      "4.0 2.48\n",
      "5.0 3.1\n",
      "6.0 3.7199999999999998\n",
      "7.0 4.34\n",
      "8.0 4.96\n",
      "9.0 5.58\n",
      "10.0 6.2\n"
     ]
    }
   ],
   "source": [
    "# Write\ta\tprogram\tthat\treads\ta\tfile\twith\ta\tnumber\ton\teach\tline\trepresenting\tspeeds\tin\tKilometers\n",
    "# per\thour.\tThen\tconvert\teach\tnumber\tfrom\tKilometers per\thour\t(kph)\tto\tMiles\tper\thour\t(mph).\tPrint\tboth\t\n",
    "# the\tspeed\tin\tkph\tand\tthe\tspeed\tin\tmph\tin\tthe\toutput. 1\tKilometer per\thour\t=\t0.62\tMiles\tper\thour.\n",
    "\n",
    "f = open(\"main.txt\", \"r\")\n",
    "Lines = f.readlines()\n",
    "for line in Lines:\n",
    "    num = float(line)\n",
    "    \n",
    "    print(num, num*0.62)"
   ]
  },
  {
   "cell_type": "code",
   "execution_count": 47,
   "metadata": {},
   "outputs": [
    {
     "data": {
      "image/png": "[encoded data removed]",
      "text/plain": [
       "<Figure size 504x504 with 1 Axes>"
      ]
     },
     "metadata": {
      "needs_background": "light"
     },
     "output_type": "display_data"
    }
   ],
   "source": [
    "# Create\ta\tbar\tgraph\tusing\tMatPlotLib\twith\tthe\tfollowing\tlist\tof\tnumbers:\n",
    "# [10, 8, 6, 4, 2, 0]\n",
    "# Add\taxis\tlabels,\t“x-axis”\tand\t“y-axis”,\tand\ttitle.\n",
    "\n",
    "import matplotlib.pyplot as plt\n",
    "Y = [10, 8, 6, 4, 2, 0]\n",
    "X = [1,2,3,4,5,6]\n",
    "\n",
    "fig,ax = plt.subplots(figsize = (7,7))\n",
    "plt.bar(X,Y)\n",
    "ax.set_xlabel('Odd Numbers')\n",
    "\n",
    "plt.show()"
   ]
  },
  {
   "cell_type": "code",
   "execution_count": 48,
   "metadata": {},
   "outputs": [],
   "source": [
    "# 6. Create a graphical application that randomly positions a triangle (of any size) in a window, \n",
    "# and each time the user clicks the mouse, the triangle moves to a new random position.\n",
    "# 6. Create a graphical application that randomly positions a triangle (of any size) in a window, \n",
    "# and each time the user clicks the mouse, the triangle moves to a new random position.\n",
    "from graphics import *\n",
    "from random import *\n",
    "def main():\n",
    " win = GraphWin('Triangle',1000,1000)\n",
    "\n",
    " while(1):\n",
    "    number1 = randint(1, 1000)\n",
    "    number2 = randint(1, 1000)\n",
    "    number3 = randint(1, 1000)\n",
    "    number1a = randint(1, 1000)\n",
    "    number2a = randint(1, 1000)\n",
    "    number3a= randint(1, 1000)\n",
    "    tri = Polygon(Point(number1,number1a),Point(number2,number2a),Point(number3,number3a))\n",
    "    tri.draw(win)\n",
    "    win.getMouse()\n",
    "    tri.undraw()\n",
    "\n",
    "main()"
   ]
  },
  {
   "cell_type": "code",
   "execution_count": null,
   "metadata": {},
   "outputs": [],
   "source": [
    "# 6. Create a graphical application that randomly positions a triangle (of any size) in a window, \n",
    "# and each time the user clicks the mouse, the triangle moves to a new random position.\n",
    "from graphics import *\n",
    "from random import *\n",
    "def main():\n",
    " win = GraphWin('Triangle',1000,1000)\n",
    " number1 = randint(1, 1000)\n",
    " number2 = randint(1, 1000)\n",
    " number3 = randint(1, 1000)\n",
    " number1a = randint(1, 1000)\n",
    " number2a = randint(1, 1000)\n",
    " number3a= randint(1, 1000)\n",
    " tri = Polygon(Point(number1,number1a),Point(number2,number2a),Point(number3,number3a))\n",
    " tri.draw(win)\n",
    "    \n",
    " while(1):\n",
    "    r1 =randint(50, 100)\n",
    "    r2 =randint(50, 100)\n",
    "    win.getMouse()\n",
    "    tri.move(r1,r2)\n",
    "    \n",
    "\n",
    "main()"
   ]
  },
  {
   "cell_type": "code",
   "execution_count": 13,
   "metadata": {},
   "outputs": [
    {
     "name": "stdout",
     "output_type": "stream",
     "text": [
      "[1, 2, 3, 4, 5, 6, 7, 8, 9, 10] [11, 27, 82, 100, 87, 42, 48, 61, 67, 15]\n"
     ]
    },
    {
     "data": {
      "image/png": "[encoded data removed]",
      "text/plain": [
       "<Figure size 432x288 with 1 Axes>"
      ]
     },
     "metadata": {
      "needs_background": "light"
     },
     "output_type": "display_data"
    }
   ],
   "source": [
    "#Q1\n",
    "import matplotlib.pyplot as plt\n",
    "\n",
    "from random import *\n",
    "y = []\n",
    "x = []\n",
    "num = int(input('number of points: '))\n",
    "for i in range(num):\n",
    " y.append(randint(1, 100))\n",
    " x.append(i+1)\n",
    "print(x,y)\n",
    "plt.plot(x,y, linestyle='dashed', linewidth=3, color='red', marker='o',markerfacecolor='black')\n",
    "plt.xlabel('X')\n",
    "plt.ylabel('Y')\n",
    "plt.show()"
   ]
  },
  {
   "cell_type": "code",
   "execution_count": null,
   "metadata": {},
   "outputs": [],
   "source": [
    "# 6. Create a graphical application that randomly positions a triangle (of any size) in a window, \n",
    "# and each time the user clicks the mouse, the triangle moves to a new random position.\n",
    "from numpy import square\n",
    "from graphics import *\n",
    "from random import *\n",
    "def main():\n",
    " win = GraphWin('Shapes',200,200)\n",
    " sq = Rectangle(Point(0,0),Point(60,60))\n",
    " sq.setFill('green')\n",
    " sq.draw(win)\n",
    " \n",
    "\n",
    " # draw a blue circle\n",
    " p1 = Point(170,30)\n",
    " r = 30\n",
    " circ = Circle(p1,r)\n",
    " circ.setFill('red')\n",
    " circ.draw(win)\n",
    "\n",
    " tri = Polygon(Point(0,200),Point(30,140),Point(60,200))\n",
    " tri.setFill('yellow')\n",
    " tri.draw(win)\n",
    "\n",
    " ov = Oval(Point(170,140),Point(200,200))\n",
    " ov.setFill('blue')\n",
    " ov.draw(win)\n",
    "\n",
    " win.getMouse()\n",
    " sq.undraw()\n",
    " tri.undraw()\n",
    " circ.undraw()\n",
    " ov.undraw()\n",
    "\n",
    " sq = Rectangle(Point(140,140),Point(200,200))\n",
    " sq.setFill('green')\n",
    " sq.draw(win)\n",
    " \n",
    "\n",
    " p1 = Point(30,170)\n",
    " r = 30\n",
    " circ = Circle(p1,r)\n",
    " circ.setFill('red')\n",
    " circ.draw(win)\n",
    "\n",
    " tri = Polygon(Point(140,60),Point(200,60),Point(170,0))\n",
    " tri.setFill('yellow')\n",
    " tri.draw(win)\n",
    "\n",
    " ov = Oval(Point(30,60),Point(0,0))\n",
    " ov.setFill('yellow')\n",
    " ov.draw(win)\n",
    "\n",
    " win.getMouse()\n",
    "\n",
    "main()"
   ]
  },
  {
   "cell_type": "code",
   "execution_count": null,
   "metadata": {},
   "outputs": [],
   "source": [
    "# 6. Create a graphical application that randomly positions a triangle (of any size) in a window, \n",
    "# and each time the user clicks the mouse, the triangle moves to a new random position.\n",
    "from matplotlib.pyplot import text\n",
    "from numpy import square\n",
    "from graphics import *\n",
    "from random import *\n",
    "def main():\n",
    "\n",
    " text = ['Sarcasm is the body’s natural defense against stupidity.', 'Silence is golden. Duct tape is silver.',\n",
    " 'I am busy right now, can I ignore you some other time? ','It’s okay if you don’t like me. Not everyone has good taste.',\n",
    "  'Life’s good, you should get one']\n",
    " win = GraphWin('Shapes',400,400)\n",
    " p1 = Point(200,200)\n",
    " r = 100\n",
    " circ = Circle(p1,r)\n",
    " circ.setFill('yellow')\n",
    " circ.draw(win)\n",
    " \n",
    " label = Text(Point(200, 350), 'Press for Sarcasm')\n",
    " label.draw(win)\n",
    "\n",
    " win.getMouse()\n",
    " label.undraw()\n",
    " label = Text(Point(200, 350), text[0])\n",
    " label.draw(win)\n",
    "\n",
    " win.getMouse()\n",
    "main()"
   ]
  },
  {
   "cell_type": "code",
   "execution_count": 17,
   "metadata": {},
   "outputs": [],
   "source": [
    "i=0\n",
    "Northern =[]\n",
    "Southern=[]\n",
    "\n",
    "while(i<6):\n",
    "    input_1 = input('Enter Country Name and Hemisphere')\n",
    "    if(input_1.__contains__('Northern')):\n",
    "        Northern.append(input_1.split()[0])\n",
    "    elif (input_1.__contains__('Southern')):\n",
    "        Southern.append(input_1.split()[0])\n",
    "    i =i+1\n",
    "Northern,Southern"
   ]
  },
  {
   "cell_type": "code",
   "execution_count": 18,
   "metadata": {},
   "outputs": [
    {
     "data": {
      "text/plain": [
       "(['Spain', 'a', 'w'], ['b', 'Spain', 'Egypt'])"
      ]
     },
     "execution_count": 18,
     "metadata": {},
     "output_type": "execute_result"
    }
   ],
   "source": [
    "Northern,Southern"
   ]
  }
 ],
 "metadata": {
  "interpreter": {
   "hash": "f293f16398db128e85df277de8eb5f9ab0a1b28857fa0f1c8543245825f1b931"
  },
  "kernelspec": {
   "display_name": "Python 3.7.7 ('pythonProject')",
   "language": "python",
   "name": "python3"
  },
  "language_info": {
   "codemirror_mode": {
    "name": "ipython",
    "version": 3
   },
   "file_extension": ".py",
   "mimetype": "text/x-python",
   "name": "python",
   "nbconvert_exporter": "python",
   "pygments_lexer": "ipython3",
   "version": "3.7.7"
  },
  "orig_nbformat": 4
 },
 "nbformat": 4,
 "nbformat_minor": 2
}
