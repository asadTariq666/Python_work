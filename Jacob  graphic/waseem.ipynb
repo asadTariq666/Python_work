{
 "cells": [
  {
   "cell_type": "markdown",
   "metadata": {},
   "source": [
    "Create a program that draws a bar chart\n",
    "·      The program should allow the user to enter as many values as desired (floating point or integer)\n",
    "·      Values entered must be between 0 and 100, and your program should ensure that no values lower than 0 or greater than 100 can be entered.\n",
    "o   This is, numbers not satisfying this condition won’t be shown in the plot, and the program must print a message indicating that that entry is not valid.\n",
    "·      The color of each bar should be randomly picked: blue, red, or green.\n",
    "·      The bar chart should display your initials as the title."
   ]
  },
  {
   "cell_type": "code",
   "execution_count": 16,
   "metadata": {},
   "outputs": [
    {
     "name": "stdout",
     "output_type": "stream",
     "text": [
      "Enter -1 to stop entering numbers\n",
      "enter a value in range of 0-100. Enter -1 to stop entering numbers \n",
      "enter a value in range of 0-100. Enter -1 to stop entering numbers \n",
      "enter a value in range of 0-100. Enter -1 to stop entering numbers \n",
      "enter a value in range of 0-100. Enter -1 to stop entering numbers \n",
      "enter a value in range of 0-100. Enter -1 to stop entering numbers \n",
      "Invalid Input, try Again with number between 0-100\n",
      "enter a value in range of 0-100. Enter -1 to stop entering numbers \n",
      "enter a value in range of 0-100. Enter -1 to stop entering numbers \n",
      "Invalid Input, try Again with number between 0-100\n",
      "values are: [11, 33, 44, 55, 22]\n"
     ]
    },
    {
     "data": {
      "image/png": "[encoded data removed]",
      "text/plain": [
       "<Figure size 432x288 with 1 Axes>"
      ]
     },
     "metadata": {
      "needs_background": "light"
     },
     "output_type": "display_data"
    }
   ],
   "source": [
    "import pandas as pd\n",
    "import matplotlib.pyplot as plt\n",
    "import numpy as np\n",
    "\n",
    "\n",
    "values =[]\n",
    "x=0\n",
    "print('Enter -1 to stop entering numbers')\n",
    "while x!=-1:\n",
    "    print('enter a value in range of 0-100. Enter -1 to stop entering numbers ')\n",
    "    x = int(input(\"value: \"))\n",
    "    if x <0 or x> 100:\n",
    "        print('Invalid Input, try Again with number between 0-100')\n",
    "    else:\n",
    "        values.append(x)\n",
    "\n",
    "print('values are:',values)\n",
    "\n",
    "\n",
    "#Set descriptions:\n",
    "plt.title(\"Waseem\")\n",
    "plt.ylabel('values')\n",
    "plt.xlabel('value indx')\n",
    "\n",
    "\n",
    "cmap = plt.cm.tab10\n",
    "colors = cmap(np.arange(len(values)) % cmap.N)\n",
    "\n",
    "plt.bar(np.arange(len(values)),values, color=colors)\n",
    "plt.show()\n",
    "\n",
    "    "
   ]
  },
  {
   "cell_type": "markdown",
   "metadata": {},
   "source": [
    "Create a baby name generator\n",
    "·      Ask the user to input one list with boy names.  \n",
    "·      Create another list with girl names, again asking the user for the names. \n",
    "·      Each list should have four names.  \n",
    "·      Ask the user whether the gender of the baby. There should be THREE choices BOY, GIRL, and UNKNOWN  \n",
    "·      Based on the answer, randomly choose a name from the correct list and provide it as output to user: If the baby is a BOY from the boy list, if the baby is a GIRL from the girl list and if the baby is UNKNOWN print a random name from each list.\n"
   ]
  },
  {
   "cell_type": "code",
   "execution_count": 20,
   "metadata": {},
   "outputs": [
    {
     "name": "stdout",
     "output_type": "stream",
     "text": [
      "Enter Boy names\n",
      "Enter Girls names\n",
      "['aa', 'ss', 'dd', 'ff'] ['gg', 'hh', 'jj', 'kk']\n",
      "Enter Gender BOY, GIRL, and UNKNOWN  \n",
      "Suggested name: dd\n",
      "Suggested name: kk\n"
     ]
    }
   ],
   "source": [
    "import random\n",
    "# creating an empty list\n",
    "boys = []\n",
    "girls = []\n",
    "  \n",
    "# number of elements as input\n",
    "n = 4\n",
    "  \n",
    "print('Enter Boy names')\n",
    "# boys input\n",
    "for i in range(0, n):\n",
    "    x = input('name of boy')\n",
    "  \n",
    "    boys.append(x) # adding the element\n",
    "print('Enter Girls names')\n",
    "  # girls input\n",
    "for i in range(0, n):\n",
    "    y = input('name of girl')\n",
    "  \n",
    "    girls.append(y) # adding the element  \n",
    "\n",
    "print(boys,girls)\n",
    "  ## Asking gender\n",
    "print('Enter Gender BOY, GIRL, and UNKNOWN  ')\n",
    "gender = input('gender')\n",
    "\n",
    "if gender =='BOY':\n",
    "    print('Suggested name:',random.choice(boys))\n",
    "elif gender =='GIRL':\n",
    "    print('Suggested name:',random.choice(girls))\n",
    "elif gender =='UNKNOWN':\n",
    "    print('Suggested name:',random.choice(boys))\n",
    "    print('Suggested name:',random.choice(girls))\n",
    "else: \n",
    "    print('Wrong gender:')\n",
    "\n",
    "\n"
   ]
  },
  {
   "cell_type": "markdown",
   "metadata": {},
   "source": [
    "6.    Create a program that calculates your income tax\n",
    "·      This program should ask for yearly income in euros and calculate your resulting income tax in euros and the % of your salary that goes to paying taxes. Finally, the program should display both rounding the results to two decimal figures.\n",
    "·      Use the following table to calculate your income tax \n",
    "\n",
    "·      So for example if your salary is 30.000 euros the first 12.450 euros will be taxed at 19%, the following 7.750 euros (up to 20.200) will be taxed 24% and as 30.000 is below 35.200 the rest (9.800 Eur) will be taxed 30%\n"
   ]
  },
  {
   "cell_type": "code",
   "execution_count": 23,
   "metadata": {},
   "outputs": [
    {
     "name": "stdout",
     "output_type": "stream",
     "text": [
      "enter yearly income in euros \n",
      "For income=30000.00, You owe=7165.50\n"
     ]
    }
   ],
   "source": [
    "print('enter yearly income in euros ')\n",
    "income = float(input(\"income: \"))\n",
    "\n",
    "if income <= 12450:\n",
    "        tax = income *0.19\n",
    "elif income <= 20200: \n",
    "        tax = (income - 12450) * 0.24 +  12450 *0.19      \n",
    "elif income <= 35200: \n",
    "        tax = (income - 20200) *0.30  + 7750* 0.24 +  12450 *0.19        \n",
    "elif income <= 60000: \n",
    "        tax = (income - 35200)*0.37 +  24800*0.30  + 7750* 0.24 +  12450 *0.19  \n",
    "else:\n",
    "        tax = (income-300000) * 0.47 +  240000*0.37 +  24800*0.30  + 7750* 0.24 +  12450 *0.19 \n",
    "\n",
    "print('For income=%.2f, You owe=%.2f' % (income, tax))\n"
   ]
  },
  {
   "cell_type": "markdown",
   "metadata": {},
   "source": [
    "5.    Create a program that generates a list of 10 random integers between 1 and 10.\n",
    "·       a)  Then ask the user whether they prefer creating a bar chart or a pie chart. \n",
    "·       b)  If bar chart is selected, sort the list of numbers from smallest to greatest and use Matplotlib to draw the bars. You should choose three unique colors to color the three smallest bars. \n",
    "·       c)  If pie chart is selected, sort the list from greatest to smallest and use Matplotlib to draw the pie slices. You should choose three unique colors to color the three biggest slices."
   ]
  },
  {
   "cell_type": "code",
   "execution_count": 27,
   "metadata": {},
   "outputs": [
    {
     "name": "stdout",
     "output_type": "stream",
     "text": [
      "Enter Plot type  bar chart or pie chart, bar/pie\n"
     ]
    },
    {
     "data": {
      "image/png": "[encoded data removed]",
      "text/plain": [
       "<Figure size 432x288 with 1 Axes>"
      ]
     },
     "metadata": {},
     "output_type": "display_data"
    }
   ],
   "source": [
    "numbers = []\n",
    "for i in range(0,10):\n",
    "    x = random.randint(1,10)\n",
    "    numbers.append(x)\n",
    "\n",
    "print('Enter Plot type  bar chart or pie chart, bar/pie')\n",
    "type = input('type of chart : \"bar/pie\"')\n",
    "if type == 'bar':\n",
    "    numbers = sorted(numbers)\n",
    "    plt.bar(np.arange(len(numbers)),numbers, color=colors)\n",
    "    \n",
    "    \n",
    "elif type =='pie':\n",
    "    numbers = sorted(numbers, reverse=True)\n",
    "    plt.pie(numbers,labels =numbers)\n",
    "\n",
    "plt.show()"
   ]
  }
 ],
 "metadata": {
  "interpreter": {
   "hash": "f293f16398db128e85df277de8eb5f9ab0a1b28857fa0f1c8543245825f1b931"
  },
  "kernelspec": {
   "display_name": "Python 3.7.7 ('pythonProject')",
   "language": "python",
   "name": "python3"
  },
  "language_info": {
   "codemirror_mode": {
    "name": "ipython",
    "version": 3
   },
   "file_extension": ".py",
   "mimetype": "text/x-python",
   "name": "python",
   "nbconvert_exporter": "python",
   "pygments_lexer": "ipython3",
   "version": "3.7.7"
  },
  "orig_nbformat": 4
 },
 "nbformat": 4,
 "nbformat_minor": 2
}
