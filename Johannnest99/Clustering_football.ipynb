{
 "cells": [
  {
   "cell_type": "markdown",
   "metadata": {},
   "source": [
    "# Clustering data"
   ]
  },
  {
   "cell_type": "markdown",
   "id": "f7c2effc",
   "metadata": {},
   "source": [
    "## Importing Libraries"
   ]
  },
  {
   "cell_type": "code",
   "execution_count": 3,
   "id": "451bb908",
   "metadata": {},
   "outputs": [],
   "source": [
    "# Importing Libraries\n",
    "import pandas as pd \n",
    "import numpy as np\n",
    "import seaborn as sns\n",
    "import matplotlib.pyplot as plt\n"
   ]
  },
  {
   "cell_type": "code",
   "execution_count": 3,
   "metadata": {},
   "outputs": [
    {
     "name": "stdout",
     "output_type": "stream",
     "text": [
      "Collecting openpyxl\n",
      "  Using cached openpyxl-3.0.9-py2.py3-none-any.whl (242 kB)\n",
      "Collecting et-xmlfile\n",
      "  Using cached et_xmlfile-1.1.0-py3-none-any.whl (4.7 kB)\n",
      "Installing collected packages: et-xmlfile, openpyxl\n",
      "Successfully installed et-xmlfile-1.1.0 openpyxl-3.0.9\n",
      "Note: you may need to restart the kernel to use updated packages.\n"
     ]
    }
   ],
   "source": [
    "pip install openpyxl"
   ]
  },
  {
   "cell_type": "markdown",
   "id": "431125c2",
   "metadata": {},
   "source": [
    "## Importing data set"
   ]
  },
  {
   "cell_type": "code",
   "execution_count": 144,
   "id": "c65c5a5e",
   "metadata": {},
   "outputs": [
    {
     "name": "stdout",
     "output_type": "stream",
     "text": [
      "      Spieler      Tore  Torvorlage  Progressive Pässe  Rückpässe  \\\n",
      "0  E. Haaland  5.784805    0.924841          -2.099532  -0.527450   \n",
      "1   J. Sancho  3.239380    5.564156           0.198022   2.474467   \n",
      "2  J. Kimmich -0.175215    1.768353           1.397004   1.372626   \n",
      "3  K. Havertz  1.873542    0.713963          -0.254736   2.154695   \n",
      "4   A. Davies  0.011036    0.503085           0.779202   1.570474   \n",
      "\n",
      "   seitliche Pässe  lange Pässe  kurze Pässe  Dribbeln  Grätschen  ...  \\\n",
      "0        -1.350979    -2.142148    -1.430170  0.100861  -1.392833  ...   \n",
      "1         0.620473    -1.272420     1.427465  1.393588  -1.392833  ...   \n",
      "2         1.908364     1.548869     1.899620 -0.352134   0.917628  ...   \n",
      "3         0.047055    -0.646972     0.890738  1.104575  -0.797036  ...   \n",
      "4         1.046607    -0.587813     1.426581  1.400708   0.090625  ...   \n",
      "\n",
      "    Schüsse  Ballberührungen im 16er  erlittene Fouls   Flanken  \\\n",
      "0  1.524427                 1.783461        -1.061558 -0.433364   \n",
      "1  0.994731                 1.664423        -0.810551  0.308628   \n",
      "2 -0.389088                -0.488539         0.399594  0.501108   \n",
      "3  1.053056                 1.492230         0.155675 -0.008817   \n",
      "4 -0.701413                 0.409628         0.371839  1.230801   \n",
      "\n",
      "   clevere Pässe  Progressive Läufe  Besschleunigungen  erhaltene Pässe  \\\n",
      "0       0.068768          -0.250572          -0.161448        -1.136759   \n",
      "1       2.225275           1.891940           1.547451         1.531222   \n",
      "2       1.156993           0.085164          -0.528285         1.961430   \n",
      "3       0.955218           1.017857           0.916497         0.981757   \n",
      "4       0.087508           1.814248           1.259604         1.161058   \n",
      "\n",
      "   Angriffsläufe     Fouls  \n",
      "0       0.772772 -0.553050  \n",
      "1       3.045627 -1.824754  \n",
      "2       1.891424 -0.705659  \n",
      "3       1.739431 -0.727938  \n",
      "4       0.691518 -0.385413  \n",
      "\n",
      "[5 rows x 23 columns]\n"
     ]
    }
   ],
   "source": [
    "data = pd.read_excel('Data Fiver.xlsx')\n",
    "print(data.head())"
   ]
  },
  {
   "cell_type": "markdown",
   "metadata": {},
   "source": [
    "## Removing the Player , we will deal with Descriptive features only."
   ]
  },
  {
   "cell_type": "code",
   "execution_count": 145,
   "metadata": {},
   "outputs": [
    {
     "data": {
      "text/html": [
       "<div>\n",
       "<style scoped>\n",
       "    .dataframe tbody tr th:only-of-type {\n",
       "        vertical-align: middle;\n",
       "    }\n",
       "\n",
       "    .dataframe tbody tr th {\n",
       "        vertical-align: top;\n",
       "    }\n",
       "\n",
       "    .dataframe thead th {\n",
       "        text-align: right;\n",
       "    }\n",
       "</style>\n",
       "<table border=\"1\" class=\"dataframe\">\n",
       "  <thead>\n",
       "    <tr style=\"text-align: right;\">\n",
       "      <th></th>\n",
       "      <th>Tore</th>\n",
       "      <th>Torvorlage</th>\n",
       "      <th>Progressive Pässe</th>\n",
       "      <th>Rückpässe</th>\n",
       "      <th>seitliche Pässe</th>\n",
       "      <th>lange Pässe</th>\n",
       "      <th>kurze Pässe</th>\n",
       "      <th>Dribbeln</th>\n",
       "      <th>Grätschen</th>\n",
       "      <th>Abfangen</th>\n",
       "      <th>...</th>\n",
       "      <th>Schüsse</th>\n",
       "      <th>Ballberührungen im 16er</th>\n",
       "      <th>erlittene Fouls</th>\n",
       "      <th>Flanken</th>\n",
       "      <th>clevere Pässe</th>\n",
       "      <th>Progressive Läufe</th>\n",
       "      <th>Besschleunigungen</th>\n",
       "      <th>erhaltene Pässe</th>\n",
       "      <th>Angriffsläufe</th>\n",
       "      <th>Fouls</th>\n",
       "    </tr>\n",
       "  </thead>\n",
       "  <tbody>\n",
       "    <tr>\n",
       "      <th>0</th>\n",
       "      <td>5.784805</td>\n",
       "      <td>0.924841</td>\n",
       "      <td>-2.099532</td>\n",
       "      <td>-0.527450</td>\n",
       "      <td>-1.350979</td>\n",
       "      <td>-2.142148</td>\n",
       "      <td>-1.430170</td>\n",
       "      <td>0.100861</td>\n",
       "      <td>-1.392833</td>\n",
       "      <td>-1.073046</td>\n",
       "      <td>...</td>\n",
       "      <td>1.524427</td>\n",
       "      <td>1.783461</td>\n",
       "      <td>-1.061558</td>\n",
       "      <td>-0.433364</td>\n",
       "      <td>0.068768</td>\n",
       "      <td>-0.250572</td>\n",
       "      <td>-0.161448</td>\n",
       "      <td>-1.136759</td>\n",
       "      <td>0.772772</td>\n",
       "      <td>-0.553050</td>\n",
       "    </tr>\n",
       "    <tr>\n",
       "      <th>1</th>\n",
       "      <td>3.239380</td>\n",
       "      <td>5.564156</td>\n",
       "      <td>0.198022</td>\n",
       "      <td>2.474467</td>\n",
       "      <td>0.620473</td>\n",
       "      <td>-1.272420</td>\n",
       "      <td>1.427465</td>\n",
       "      <td>1.393588</td>\n",
       "      <td>-1.392833</td>\n",
       "      <td>-1.327431</td>\n",
       "      <td>...</td>\n",
       "      <td>0.994731</td>\n",
       "      <td>1.664423</td>\n",
       "      <td>-0.810551</td>\n",
       "      <td>0.308628</td>\n",
       "      <td>2.225275</td>\n",
       "      <td>1.891940</td>\n",
       "      <td>1.547451</td>\n",
       "      <td>1.531222</td>\n",
       "      <td>3.045627</td>\n",
       "      <td>-1.824754</td>\n",
       "    </tr>\n",
       "    <tr>\n",
       "      <th>2</th>\n",
       "      <td>-0.175215</td>\n",
       "      <td>1.768353</td>\n",
       "      <td>1.397004</td>\n",
       "      <td>1.372626</td>\n",
       "      <td>1.908364</td>\n",
       "      <td>1.548869</td>\n",
       "      <td>1.899620</td>\n",
       "      <td>-0.352134</td>\n",
       "      <td>0.917628</td>\n",
       "      <td>1.177042</td>\n",
       "      <td>...</td>\n",
       "      <td>-0.389088</td>\n",
       "      <td>-0.488539</td>\n",
       "      <td>0.399594</td>\n",
       "      <td>0.501108</td>\n",
       "      <td>1.156993</td>\n",
       "      <td>0.085164</td>\n",
       "      <td>-0.528285</td>\n",
       "      <td>1.961430</td>\n",
       "      <td>1.891424</td>\n",
       "      <td>-0.705659</td>\n",
       "    </tr>\n",
       "    <tr>\n",
       "      <th>3</th>\n",
       "      <td>1.873542</td>\n",
       "      <td>0.713963</td>\n",
       "      <td>-0.254736</td>\n",
       "      <td>2.154695</td>\n",
       "      <td>0.047055</td>\n",
       "      <td>-0.646972</td>\n",
       "      <td>0.890738</td>\n",
       "      <td>1.104575</td>\n",
       "      <td>-0.797036</td>\n",
       "      <td>-0.661339</td>\n",
       "      <td>...</td>\n",
       "      <td>1.053056</td>\n",
       "      <td>1.492230</td>\n",
       "      <td>0.155675</td>\n",
       "      <td>-0.008817</td>\n",
       "      <td>0.955218</td>\n",
       "      <td>1.017857</td>\n",
       "      <td>0.916497</td>\n",
       "      <td>0.981757</td>\n",
       "      <td>1.739431</td>\n",
       "      <td>-0.727938</td>\n",
       "    </tr>\n",
       "    <tr>\n",
       "      <th>4</th>\n",
       "      <td>0.011036</td>\n",
       "      <td>0.503085</td>\n",
       "      <td>0.779202</td>\n",
       "      <td>1.570474</td>\n",
       "      <td>1.046607</td>\n",
       "      <td>-0.587813</td>\n",
       "      <td>1.426581</td>\n",
       "      <td>1.400708</td>\n",
       "      <td>0.090625</td>\n",
       "      <td>1.710778</td>\n",
       "      <td>...</td>\n",
       "      <td>-0.701413</td>\n",
       "      <td>0.409628</td>\n",
       "      <td>0.371839</td>\n",
       "      <td>1.230801</td>\n",
       "      <td>0.087508</td>\n",
       "      <td>1.814248</td>\n",
       "      <td>1.259604</td>\n",
       "      <td>1.161058</td>\n",
       "      <td>0.691518</td>\n",
       "      <td>-0.385413</td>\n",
       "    </tr>\n",
       "    <tr>\n",
       "      <th>...</th>\n",
       "      <td>...</td>\n",
       "      <td>...</td>\n",
       "      <td>...</td>\n",
       "      <td>...</td>\n",
       "      <td>...</td>\n",
       "      <td>...</td>\n",
       "      <td>...</td>\n",
       "      <td>...</td>\n",
       "      <td>...</td>\n",
       "      <td>...</td>\n",
       "      <td>...</td>\n",
       "      <td>...</td>\n",
       "      <td>...</td>\n",
       "      <td>...</td>\n",
       "      <td>...</td>\n",
       "      <td>...</td>\n",
       "      <td>...</td>\n",
       "      <td>...</td>\n",
       "      <td>...</td>\n",
       "      <td>...</td>\n",
       "      <td>...</td>\n",
       "    </tr>\n",
       "    <tr>\n",
       "      <th>1272</th>\n",
       "      <td>-0.733966</td>\n",
       "      <td>0.081329</td>\n",
       "      <td>0.848617</td>\n",
       "      <td>-1.991376</td>\n",
       "      <td>0.860062</td>\n",
       "      <td>0.798960</td>\n",
       "      <td>0.369085</td>\n",
       "      <td>-1.951584</td>\n",
       "      <td>0.299024</td>\n",
       "      <td>1.286284</td>\n",
       "      <td>...</td>\n",
       "      <td>-1.156367</td>\n",
       "      <td>-0.585955</td>\n",
       "      <td>-1.381500</td>\n",
       "      <td>-1.181373</td>\n",
       "      <td>-1.035425</td>\n",
       "      <td>-0.752440</td>\n",
       "      <td>-1.432215</td>\n",
       "      <td>0.265115</td>\n",
       "      <td>-1.072731</td>\n",
       "      <td>0.479787</td>\n",
       "    </tr>\n",
       "    <tr>\n",
       "      <th>1273</th>\n",
       "      <td>1.749375</td>\n",
       "      <td>-0.762183</td>\n",
       "      <td>-1.952773</td>\n",
       "      <td>0.170887</td>\n",
       "      <td>-1.448086</td>\n",
       "      <td>-1.783394</td>\n",
       "      <td>-1.414592</td>\n",
       "      <td>0.414955</td>\n",
       "      <td>-1.392833</td>\n",
       "      <td>-0.835924</td>\n",
       "      <td>...</td>\n",
       "      <td>1.019894</td>\n",
       "      <td>1.108325</td>\n",
       "      <td>0.200084</td>\n",
       "      <td>-0.838141</td>\n",
       "      <td>-1.262574</td>\n",
       "      <td>-0.177506</td>\n",
       "      <td>-0.054467</td>\n",
       "      <td>-1.357008</td>\n",
       "      <td>0.344816</td>\n",
       "      <td>-0.750341</td>\n",
       "    </tr>\n",
       "    <tr>\n",
       "      <th>1274</th>\n",
       "      <td>-0.733966</td>\n",
       "      <td>-0.762183</td>\n",
       "      <td>0.734451</td>\n",
       "      <td>-0.561013</td>\n",
       "      <td>0.532536</td>\n",
       "      <td>1.248445</td>\n",
       "      <td>0.126650</td>\n",
       "      <td>-0.276228</td>\n",
       "      <td>0.066707</td>\n",
       "      <td>0.054994</td>\n",
       "      <td>...</td>\n",
       "      <td>-1.713187</td>\n",
       "      <td>-1.133146</td>\n",
       "      <td>-0.540483</td>\n",
       "      <td>0.807511</td>\n",
       "      <td>-0.799180</td>\n",
       "      <td>0.243341</td>\n",
       "      <td>-0.272848</td>\n",
       "      <td>0.336782</td>\n",
       "      <td>-0.650954</td>\n",
       "      <td>0.275861</td>\n",
       "    </tr>\n",
       "    <tr>\n",
       "      <th>1275</th>\n",
       "      <td>-0.733966</td>\n",
       "      <td>-0.762183</td>\n",
       "      <td>0.486326</td>\n",
       "      <td>0.060247</td>\n",
       "      <td>0.699246</td>\n",
       "      <td>1.324764</td>\n",
       "      <td>0.371126</td>\n",
       "      <td>-0.543247</td>\n",
       "      <td>2.351819</td>\n",
       "      <td>0.027803</td>\n",
       "      <td>...</td>\n",
       "      <td>-0.374453</td>\n",
       "      <td>-1.690191</td>\n",
       "      <td>0.521616</td>\n",
       "      <td>-0.214257</td>\n",
       "      <td>-1.262574</td>\n",
       "      <td>-0.189544</td>\n",
       "      <td>-1.059609</td>\n",
       "      <td>0.205447</td>\n",
       "      <td>0.591288</td>\n",
       "      <td>-0.447465</td>\n",
       "    </tr>\n",
       "    <tr>\n",
       "      <th>1276</th>\n",
       "      <td>0.507704</td>\n",
       "      <td>1.346597</td>\n",
       "      <td>-1.133685</td>\n",
       "      <td>-0.243980</td>\n",
       "      <td>-0.948397</td>\n",
       "      <td>-1.282873</td>\n",
       "      <td>-0.778098</td>\n",
       "      <td>0.608010</td>\n",
       "      <td>2.937469</td>\n",
       "      <td>-1.655582</td>\n",
       "      <td>...</td>\n",
       "      <td>1.789382</td>\n",
       "      <td>0.844164</td>\n",
       "      <td>-0.060075</td>\n",
       "      <td>-0.136974</td>\n",
       "      <td>-0.248475</td>\n",
       "      <td>-0.664268</td>\n",
       "      <td>-0.024664</td>\n",
       "      <td>-0.472853</td>\n",
       "      <td>0.724261</td>\n",
       "      <td>2.119350</td>\n",
       "    </tr>\n",
       "  </tbody>\n",
       "</table>\n",
       "<p>1277 rows × 22 columns</p>\n",
       "</div>"
      ],
      "text/plain": [
       "          Tore  Torvorlage  Progressive Pässe  Rückpässe  seitliche Pässe  \\\n",
       "0     5.784805    0.924841          -2.099532  -0.527450        -1.350979   \n",
       "1     3.239380    5.564156           0.198022   2.474467         0.620473   \n",
       "2    -0.175215    1.768353           1.397004   1.372626         1.908364   \n",
       "3     1.873542    0.713963          -0.254736   2.154695         0.047055   \n",
       "4     0.011036    0.503085           0.779202   1.570474         1.046607   \n",
       "...        ...         ...                ...        ...              ...   \n",
       "1272 -0.733966    0.081329           0.848617  -1.991376         0.860062   \n",
       "1273  1.749375   -0.762183          -1.952773   0.170887        -1.448086   \n",
       "1274 -0.733966   -0.762183           0.734451  -0.561013         0.532536   \n",
       "1275 -0.733966   -0.762183           0.486326   0.060247         0.699246   \n",
       "1276  0.507704    1.346597          -1.133685  -0.243980        -0.948397   \n",
       "\n",
       "      lange Pässe  kurze Pässe  Dribbeln  Grätschen  Abfangen  ...   Schüsse  \\\n",
       "0       -2.142148    -1.430170  0.100861  -1.392833 -1.073046  ...  1.524427   \n",
       "1       -1.272420     1.427465  1.393588  -1.392833 -1.327431  ...  0.994731   \n",
       "2        1.548869     1.899620 -0.352134   0.917628  1.177042  ... -0.389088   \n",
       "3       -0.646972     0.890738  1.104575  -0.797036 -0.661339  ...  1.053056   \n",
       "4       -0.587813     1.426581  1.400708   0.090625  1.710778  ... -0.701413   \n",
       "...           ...          ...       ...        ...       ...  ...       ...   \n",
       "1272     0.798960     0.369085 -1.951584   0.299024  1.286284  ... -1.156367   \n",
       "1273    -1.783394    -1.414592  0.414955  -1.392833 -0.835924  ...  1.019894   \n",
       "1274     1.248445     0.126650 -0.276228   0.066707  0.054994  ... -1.713187   \n",
       "1275     1.324764     0.371126 -0.543247   2.351819  0.027803  ... -0.374453   \n",
       "1276    -1.282873    -0.778098  0.608010   2.937469 -1.655582  ...  1.789382   \n",
       "\n",
       "      Ballberührungen im 16er  erlittene Fouls   Flanken  clevere Pässe  \\\n",
       "0                    1.783461        -1.061558 -0.433364       0.068768   \n",
       "1                    1.664423        -0.810551  0.308628       2.225275   \n",
       "2                   -0.488539         0.399594  0.501108       1.156993   \n",
       "3                    1.492230         0.155675 -0.008817       0.955218   \n",
       "4                    0.409628         0.371839  1.230801       0.087508   \n",
       "...                       ...              ...       ...            ...   \n",
       "1272                -0.585955        -1.381500 -1.181373      -1.035425   \n",
       "1273                 1.108325         0.200084 -0.838141      -1.262574   \n",
       "1274                -1.133146        -0.540483  0.807511      -0.799180   \n",
       "1275                -1.690191         0.521616 -0.214257      -1.262574   \n",
       "1276                 0.844164        -0.060075 -0.136974      -0.248475   \n",
       "\n",
       "      Progressive Läufe  Besschleunigungen  erhaltene Pässe  Angriffsläufe  \\\n",
       "0             -0.250572          -0.161448        -1.136759       0.772772   \n",
       "1              1.891940           1.547451         1.531222       3.045627   \n",
       "2              0.085164          -0.528285         1.961430       1.891424   \n",
       "3              1.017857           0.916497         0.981757       1.739431   \n",
       "4              1.814248           1.259604         1.161058       0.691518   \n",
       "...                 ...                ...              ...            ...   \n",
       "1272          -0.752440          -1.432215         0.265115      -1.072731   \n",
       "1273          -0.177506          -0.054467        -1.357008       0.344816   \n",
       "1274           0.243341          -0.272848         0.336782      -0.650954   \n",
       "1275          -0.189544          -1.059609         0.205447       0.591288   \n",
       "1276          -0.664268          -0.024664        -0.472853       0.724261   \n",
       "\n",
       "         Fouls  \n",
       "0    -0.553050  \n",
       "1    -1.824754  \n",
       "2    -0.705659  \n",
       "3    -0.727938  \n",
       "4    -0.385413  \n",
       "...        ...  \n",
       "1272  0.479787  \n",
       "1273 -0.750341  \n",
       "1274  0.275861  \n",
       "1275 -0.447465  \n",
       "1276  2.119350  \n",
       "\n",
       "[1277 rows x 22 columns]"
      ]
     },
     "execution_count": 145,
     "metadata": {},
     "output_type": "execute_result"
    }
   ],
   "source": [
    "descriptive_features = data.iloc[:,1:]\n",
    "descriptive_features"
   ]
  },
  {
   "cell_type": "markdown",
   "metadata": {},
   "source": [
    "## Converting in to np Array"
   ]
  },
  {
   "cell_type": "code",
   "execution_count": 146,
   "metadata": {},
   "outputs": [
    {
     "data": {
      "text/plain": [
       "array([[ 5.78480479,  0.92484095, -2.09953172, ..., -1.13675936,\n",
       "         0.77277234, -0.55305004],\n",
       "       [ 3.23937984,  5.56415562,  0.19802171, ...,  1.53122212,\n",
       "         3.04562738, -1.82475417],\n",
       "       [-0.17521461,  1.76835271,  1.39700416, ...,  1.96143029,\n",
       "         1.89142359, -0.7056591 ],\n",
       "       ...,\n",
       "       [-0.73396643, -0.76218256,  0.73445102, ...,  0.33678184,\n",
       "        -0.65095436,  0.27586128],\n",
       "       [-0.73396643, -0.76218256,  0.486326  , ...,  0.20544715,\n",
       "         0.59128811, -0.44746545],\n",
       "       [ 0.50770428,  1.34659683, -1.1336849 , ..., -0.47285337,\n",
       "         0.72426094,  2.11934959]])"
      ]
     },
     "execution_count": 146,
     "metadata": {},
     "output_type": "execute_result"
    }
   ],
   "source": [
    "descriptive_features = data.iloc[:,1:].values\n",
    "descriptive_features"
   ]
  },
  {
   "cell_type": "markdown",
   "metadata": {},
   "source": [
    "## Min max scaler for normalising data"
   ]
  },
  {
   "cell_type": "code",
   "execution_count": 147,
   "metadata": {},
   "outputs": [
    {
     "name": "stdout",
     "output_type": "stream",
     "text": [
      "MinMaxScaler()\n",
      "[ 6.09522247  7.88381295  2.00156902  2.50317535  2.56535296  2.56800232\n",
      "  2.60965054  2.74068145  5.47555091  2.29227947  2.59846667  4.92456736\n",
      "  2.66464978  6.20544881  3.00280343  2.97484475 12.3588791   2.76754472\n",
      "  2.775511    2.60476519  3.04562738  2.89143164]\n"
     ]
    }
   ],
   "source": [
    "from sklearn.preprocessing import MinMaxScaler\n",
    "scaler = MinMaxScaler()\n",
    "print(scaler.fit(descriptive_features))\n",
    "\n",
    "print(scaler.data_max_)\n",
    "descriptive_features = scaler.transform(descriptive_features)\n"
   ]
  },
  {
   "cell_type": "code",
   "execution_count": 148,
   "metadata": {},
   "outputs": [
    {
     "data": {
      "text/plain": [
       "array([[0.95454545, 0.19512195, 0.36027592, ..., 0.62398529, 0.50963214,\n",
       "        0.42769216],\n",
       "       [0.58181818, 0.73170732, 0.71866757, ..., 0.89211136, 1.        ,\n",
       "        0.21639585],\n",
       "       [0.08181818, 0.29268293, 0.9056949 , ..., 0.9353463 , 0.75098085,\n",
       "        0.40233584],\n",
       "       ...,\n",
       "       [0.        , 0.        , 0.80234431, ..., 0.77207283, 0.2024635 ,\n",
       "        0.56541751],\n",
       "       [0.        , 0.        , 0.76363969, ..., 0.75887399, 0.47047697,\n",
       "        0.44523526],\n",
       "       [0.18181818, 0.24390244, 0.5109368 , ..., 0.69070633, 0.49916582,\n",
       "        0.87171695]])"
      ]
     },
     "execution_count": 148,
     "metadata": {},
     "output_type": "execute_result"
    }
   ],
   "source": [
    "descriptive_features"
   ]
  },
  {
   "cell_type": "markdown",
   "metadata": {},
   "source": [
    "## Finding the optimum number of clusters for k-means classification"
   ]
  },
  {
   "cell_type": "markdown",
   "metadata": {},
   "source": [
    "The K-means algorithm aims to choose centroids that minimize the inertia, or within-cluster sum-of-squares criterion. Inertia can be recognized as a measure of how internally coherent clusters are. This is what the KMeans tries to minimize with each iteration."
   ]
  },
  {
   "cell_type": "code",
   "execution_count": 149,
   "metadata": {},
   "outputs": [
    {
     "data": {
      "image/png": "[encoded data removed]",
      "text/plain": [
       "<Figure size 432x288 with 1 Axes>"
      ]
     },
     "metadata": {
      "needs_background": "light"
     },
     "output_type": "display_data"
    }
   ],
   "source": [
    "#  Elbow Method \n",
    "from sklearn.cluster import KMeans\n",
    "within_cluster_sum_of_squares = []\n",
    "\n",
    "for i in range(1, 11):\n",
    "    kmeans = KMeans(n_clusters = i, init = 'k-means++', max_iter = 300, n_init = 10, random_state = 0)\n",
    "    kmeans.fit(descriptive_features)\n",
    "    within_cluster_sum_of_squares.append(kmeans.inertia_)\n",
    "    \n",
    "#Plotting the results onto a line graph, allowing us to observe 'The elbow'\n",
    "plt.plot(range(1, 11), within_cluster_sum_of_squares)\n",
    "plt.title('The elbow method')\n",
    "plt.xlabel('Number of clusters')\n",
    "plt.ylabel('within_cluster_sum_of_squares') #within cluster sum of squares\n",
    "plt.show()\n"
   ]
  },
  {
   "cell_type": "markdown",
   "metadata": {},
   "source": [
    "## Apply K-means Clustering for 4 clusters"
   ]
  },
  {
   "cell_type": "code",
   "execution_count": 150,
   "metadata": {},
   "outputs": [],
   "source": [
    "#Applying kmeans to the dataset / Creating the kmeans classifier\n",
    "kmeans = KMeans(n_clusters=4, init='k-means++', n_init=10, max_iter=300, tol=0.0001, verbose=0, random_state=None, copy_x=True, algorithm='auto')\n",
    "k_means_4_clusters = kmeans.fit_predict(descriptive_features)"
   ]
  },
  {
   "cell_type": "code",
   "execution_count": 151,
   "metadata": {},
   "outputs": [
    {
     "data": {
      "text/plain": [
       "array([0, 2, 1, ..., 1, 1, 0], dtype=int32)"
      ]
     },
     "execution_count": 151,
     "metadata": {},
     "output_type": "execute_result"
    }
   ],
   "source": [
    "k_means_4_clusters"
   ]
  },
  {
   "cell_type": "markdown",
   "metadata": {},
   "source": [
    "## checking size of each cluster"
   ]
  },
  {
   "cell_type": "code",
   "execution_count": 152,
   "metadata": {},
   "outputs": [
    {
     "name": "stdout",
     "output_type": "stream",
     "text": [
      "[202 467 298 310]\n"
     ]
    }
   ],
   "source": [
    "count_arr = np.bincount(k_means_4_clusters)\n",
    "print(count_arr)"
   ]
  },
  {
   "cell_type": "markdown",
   "metadata": {},
   "source": [
    "## Evaluation Metrics"
   ]
  },
  {
   "cell_type": "code",
   "execution_count": 153,
   "metadata": {},
   "outputs": [
    {
     "name": "stdout",
     "output_type": "stream",
     "text": [
      "Silhouetter Score: 0.200\n",
      "calinski_harabasz Score: 382.309\n"
     ]
    }
   ],
   "source": [
    "from sklearn.metrics import silhouette_score\n",
    "from sklearn.metrics import calinski_harabasz_score\n",
    "score = silhouette_score(descriptive_features, kmeans.labels_, metric='euclidean')\n",
    "score2 = calinski_harabasz_score(descriptive_features, kmeans.labels_)\n",
    "#\n",
    "# Print the score\n",
    "#\n",
    "print('Silhouetter Score: %.3f' % score)\n",
    "print('calinski_harabasz Score: %.3f' % score2)"
   ]
  },
  {
   "cell_type": "markdown",
   "metadata": {},
   "source": [
    "## Apply K-means Clustering for 8 clusters"
   ]
  },
  {
   "cell_type": "code",
   "execution_count": 154,
   "metadata": {},
   "outputs": [],
   "source": [
    "#Applying kmeans to the dataset / Creating the kmeans classifier\n",
    "kmeans = KMeans(n_clusters=8, init='k-means++', n_init=10, max_iter=300, tol=0.0001, verbose=0, random_state=None, copy_x=True, algorithm='auto')\n",
    "k_means_8_clusters = kmeans.fit_predict(descriptive_features)"
   ]
  },
  {
   "cell_type": "code",
   "execution_count": 155,
   "metadata": {},
   "outputs": [
    {
     "data": {
      "text/plain": [
       "array([1, 2, 5, ..., 3, 0, 1], dtype=int32)"
      ]
     },
     "execution_count": 155,
     "metadata": {},
     "output_type": "execute_result"
    }
   ],
   "source": [
    "k_means_8_clusters\n"
   ]
  },
  {
   "cell_type": "markdown",
   "metadata": {},
   "source": [
    "## checking size of each cluster"
   ]
  },
  {
   "cell_type": "code",
   "execution_count": 156,
   "metadata": {},
   "outputs": [
    {
     "name": "stdout",
     "output_type": "stream",
     "text": [
      "[193 161 122 218 124 171 163 125]\n"
     ]
    }
   ],
   "source": [
    "count_arr = np.bincount(k_means_8_clusters)\n",
    "print(count_arr)"
   ]
  },
  {
   "cell_type": "markdown",
   "metadata": {},
   "source": [
    "## Evaluation Metrics"
   ]
  },
  {
   "cell_type": "code",
   "execution_count": 157,
   "metadata": {},
   "outputs": [
    {
     "name": "stdout",
     "output_type": "stream",
     "text": [
      "Silhouetter Score: 0.122\n",
      "calinski_harabasz Score: 225.169\n"
     ]
    }
   ],
   "source": [
    "score = silhouette_score(descriptive_features, kmeans.labels_, metric='euclidean')\n",
    "score2 = calinski_harabasz_score(descriptive_features, kmeans.labels_)\n",
    "#\n",
    "# Print the score\n",
    "#\n",
    "print('Silhouetter Score: %.3f' % score)\n",
    "print('calinski_harabasz Score: %.3f' % score2)"
   ]
  },
  {
   "cell_type": "markdown",
   "metadata": {},
   "source": [
    "## Adding Cluster column in to CSV File"
   ]
  },
  {
   "cell_type": "code",
   "execution_count": 158,
   "metadata": {},
   "outputs": [
    {
     "name": "stdout",
     "output_type": "stream",
     "text": [
      "      Spieler      Tore  Torvorlage  Progressive Pässe  Rückpässe  \\\n",
      "0  E. Haaland  5.784805    0.924841          -2.099532  -0.527450   \n",
      "1   J. Sancho  3.239380    5.564156           0.198022   2.474467   \n",
      "2  J. Kimmich -0.175215    1.768353           1.397004   1.372626   \n",
      "3  K. Havertz  1.873542    0.713963          -0.254736   2.154695   \n",
      "4   A. Davies  0.011036    0.503085           0.779202   1.570474   \n",
      "\n",
      "   seitliche Pässe  lange Pässe  kurze Pässe  Dribbeln  Grätschen  ...  \\\n",
      "0        -1.350979    -2.142148    -1.430170  0.100861  -1.392833  ...   \n",
      "1         0.620473    -1.272420     1.427465  1.393588  -1.392833  ...   \n",
      "2         1.908364     1.548869     1.899620 -0.352134   0.917628  ...   \n",
      "3         0.047055    -0.646972     0.890738  1.104575  -0.797036  ...   \n",
      "4         1.046607    -0.587813     1.426581  1.400708   0.090625  ...   \n",
      "\n",
      "   erlittene Fouls   Flanken  clevere Pässe  Progressive Läufe  \\\n",
      "0        -1.061558 -0.433364       0.068768          -0.250572   \n",
      "1        -0.810551  0.308628       2.225275           1.891940   \n",
      "2         0.399594  0.501108       1.156993           0.085164   \n",
      "3         0.155675 -0.008817       0.955218           1.017857   \n",
      "4         0.371839  1.230801       0.087508           1.814248   \n",
      "\n",
      "   Besschleunigungen  erhaltene Pässe  Angriffsläufe     Fouls  \\\n",
      "0          -0.161448        -1.136759       0.772772 -0.553050   \n",
      "1           1.547451         1.531222       3.045627 -1.824754   \n",
      "2          -0.528285         1.961430       1.891424 -0.705659   \n",
      "3           0.916497         0.981757       1.739431 -0.727938   \n",
      "4           1.259604         1.161058       0.691518 -0.385413   \n",
      "\n",
      "   Kmeans_4_clusters  Kmeans_8_clusters  \n",
      "0                  0                  1  \n",
      "1                  2                  2  \n",
      "2                  1                  5  \n",
      "3                  2                  2  \n",
      "4                  2                  3  \n",
      "\n",
      "[5 rows x 25 columns]\n"
     ]
    }
   ],
   "source": [
    "df = pd.DataFrame(data=k_means_4_clusters,columns=[\"Column1\"])\n",
    "data = data.assign(Kmeans_4_clusters =k_means_4_clusters)\n",
    "df = pd.DataFrame(data=k_means_8_clusters,columns=[\"Column1\"])\n",
    "data = data.assign(Kmeans_8_clusters =k_means_8_clusters)\n",
    "\n",
    "\n",
    "#print(data)\n",
    "data.to_csv('Clusterednew.csv')\n",
    "print(data.head())"
   ]
  },
  {
   "cell_type": "markdown",
   "metadata": {},
   "source": [
    "# K Medoids"
   ]
  },
  {
   "cell_type": "code",
   "execution_count": 159,
   "metadata": {},
   "outputs": [
    {
     "name": "stdout",
     "output_type": "stream",
     "text": [
      "Requirement already satisfied: scikit-learn-extra in /Users/asadtariq/opt/anaconda3/envs/pythonProject/lib/python3.7/site-packages (0.2.0)\n",
      "Requirement already satisfied: scikit-learn>=0.23.0 in /Users/asadtariq/opt/anaconda3/envs/pythonProject/lib/python3.7/site-packages (from scikit-learn-extra) (1.0.2)\n",
      "Requirement already satisfied: numpy>=1.13.3 in /Users/asadtariq/opt/anaconda3/envs/pythonProject/lib/python3.7/site-packages (from scikit-learn-extra) (1.21.2)\n",
      "Requirement already satisfied: scipy>=0.19.1 in /Users/asadtariq/opt/anaconda3/envs/pythonProject/lib/python3.7/site-packages (from scikit-learn-extra) (1.7.1)\n",
      "Requirement already satisfied: threadpoolctl>=2.0.0 in /Users/asadtariq/opt/anaconda3/envs/pythonProject/lib/python3.7/site-packages (from scikit-learn>=0.23.0->scikit-learn-extra) (3.1.0)\n",
      "Requirement already satisfied: joblib>=0.11 in /Users/asadtariq/opt/anaconda3/envs/pythonProject/lib/python3.7/site-packages (from scikit-learn>=0.23.0->scikit-learn-extra) (1.1.0)\n",
      "Note: you may need to restart the kernel to use updated packages.\n"
     ]
    }
   ],
   "source": [
    "pip install scikit-learn-extra"
   ]
  },
  {
   "cell_type": "code",
   "execution_count": 160,
   "metadata": {},
   "outputs": [],
   "source": [
    "#Applying kmeans to the dataset / Creating the kmeans classifier\n",
    "from sklearn_extra.cluster import KMedoids\n",
    "k_medions = KMedoids(n_clusters=4, metric='manhattan', method='alternate', init='heuristic', max_iter=600, random_state=False)\n",
    "k_medions_4_clusters = k_medions.fit_predict(descriptive_features)"
   ]
  },
  {
   "cell_type": "markdown",
   "metadata": {},
   "source": [
    "## checking size of each cluster"
   ]
  },
  {
   "cell_type": "code",
   "execution_count": 161,
   "metadata": {},
   "outputs": [
    {
     "name": "stdout",
     "output_type": "stream",
     "text": [
      "[321 368 335 253]\n"
     ]
    }
   ],
   "source": [
    "k_medions_4_clusters\n",
    "count_arr = np.bincount(k_medions_4_clusters)\n",
    "print(count_arr)"
   ]
  },
  {
   "cell_type": "markdown",
   "metadata": {},
   "source": [
    "## Evaluation Metrics"
   ]
  },
  {
   "cell_type": "code",
   "execution_count": 162,
   "metadata": {},
   "outputs": [
    {
     "name": "stdout",
     "output_type": "stream",
     "text": [
      "Silhouetter Score: 0.159\n",
      "calinski_harabasz Score: 298.474\n"
     ]
    }
   ],
   "source": [
    "score = silhouette_score(descriptive_features, k_medions.labels_, metric='euclidean')\n",
    "score2 = calinski_harabasz_score(descriptive_features, k_medions.labels_)\n",
    "#\n",
    "# Print the score\n",
    "#\n",
    "print('Silhouetter Score: %.3f' % score)\n",
    "print('calinski_harabasz Score: %.3f' % score2)"
   ]
  },
  {
   "cell_type": "code",
   "execution_count": 163,
   "metadata": {},
   "outputs": [],
   "source": [
    "#Applying kmeans to the dataset / Creating the kmeans classifier\n",
    "from sklearn_extra.cluster import KMedoids\n",
    "k_medions = KMedoids(n_clusters=8, metric='manhattan', method='alternate', init='heuristic', max_iter=600, random_state=False)\n",
    "k_medions_8_clusters = k_medions.fit_predict(descriptive_features)"
   ]
  },
  {
   "cell_type": "markdown",
   "metadata": {},
   "source": [
    "## checking size of each cluster"
   ]
  },
  {
   "cell_type": "code",
   "execution_count": 164,
   "metadata": {},
   "outputs": [
    {
     "name": "stdout",
     "output_type": "stream",
     "text": [
      "[137 207 128  89 148 167 220 181]\n"
     ]
    }
   ],
   "source": [
    "k_medions_8_clusters\n",
    "count_arr = np.bincount(k_medions_8_clusters)\n",
    "print(count_arr)"
   ]
  },
  {
   "cell_type": "markdown",
   "metadata": {},
   "source": [
    "## Evaluation Metrics"
   ]
  },
  {
   "cell_type": "code",
   "execution_count": 165,
   "metadata": {},
   "outputs": [
    {
     "name": "stdout",
     "output_type": "stream",
     "text": [
      "Silhouetter Score: 0.079\n",
      "calinski_harabasz Score: 183.622\n"
     ]
    }
   ],
   "source": [
    "score = silhouette_score(descriptive_features, k_medions.labels_, metric='euclidean')\n",
    "score2 = calinski_harabasz_score(descriptive_features, k_medions.labels_)\n",
    "#\n",
    "# Print the score\n",
    "#\n",
    "print('Silhouetter Score: %.3f' % score)\n",
    "print('calinski_harabasz Score: %.3f' % score2)"
   ]
  },
  {
   "cell_type": "markdown",
   "metadata": {},
   "source": [
    "## Adding Cluster column in to CSV File"
   ]
  },
  {
   "cell_type": "code",
   "execution_count": 166,
   "metadata": {},
   "outputs": [
    {
     "name": "stdout",
     "output_type": "stream",
     "text": [
      "      Spieler      Tore  Torvorlage  Progressive Pässe  Rückpässe  \\\n",
      "0  E. Haaland  5.784805    0.924841          -2.099532  -0.527450   \n",
      "1   J. Sancho  3.239380    5.564156           0.198022   2.474467   \n",
      "2  J. Kimmich -0.175215    1.768353           1.397004   1.372626   \n",
      "3  K. Havertz  1.873542    0.713963          -0.254736   2.154695   \n",
      "4   A. Davies  0.011036    0.503085           0.779202   1.570474   \n",
      "\n",
      "   seitliche Pässe  lange Pässe  kurze Pässe  Dribbeln  Grätschen  ...  \\\n",
      "0        -1.350979    -2.142148    -1.430170  0.100861  -1.392833  ...   \n",
      "1         0.620473    -1.272420     1.427465  1.393588  -1.392833  ...   \n",
      "2         1.908364     1.548869     1.899620 -0.352134   0.917628  ...   \n",
      "3         0.047055    -0.646972     0.890738  1.104575  -0.797036  ...   \n",
      "4         1.046607    -0.587813     1.426581  1.400708   0.090625  ...   \n",
      "\n",
      "   clevere Pässe  Progressive Läufe  Besschleunigungen  erhaltene Pässe  \\\n",
      "0       0.068768          -0.250572          -0.161448        -1.136759   \n",
      "1       2.225275           1.891940           1.547451         1.531222   \n",
      "2       1.156993           0.085164          -0.528285         1.961430   \n",
      "3       0.955218           1.017857           0.916497         0.981757   \n",
      "4       0.087508           1.814248           1.259604         1.161058   \n",
      "\n",
      "   Angriffsläufe     Fouls  Kmeans_4_clusters  Kmeans_8_clusters  \\\n",
      "0       0.772772 -0.553050                  0                  1   \n",
      "1       3.045627 -1.824754                  2                  2   \n",
      "2       1.891424 -0.705659                  1                  5   \n",
      "3       1.739431 -0.727938                  2                  2   \n",
      "4       0.691518 -0.385413                  2                  3   \n",
      "\n",
      "   k_medions_4_clusters  k_medions_8_clusters  \n",
      "0                     1                     6  \n",
      "1                     1                     1  \n",
      "2                     0                     5  \n",
      "3                     1                     1  \n",
      "4                     1                     1  \n",
      "\n",
      "[5 rows x 27 columns]\n"
     ]
    }
   ],
   "source": [
    "df = pd.DataFrame(data=k_medions_4_clusters,columns=[\"Column1\"])\n",
    "data = data.assign(k_medions_4_clusters =k_medions_4_clusters)\n",
    "df = pd.DataFrame(data=k_medions_8_clusters,columns=[\"Column1\"])\n",
    "data = data.assign(k_medions_8_clusters =k_medions_8_clusters)\n",
    "\n",
    "\n",
    "#print(data)\n",
    "data.to_csv('Clusterednew.csv')\n",
    "print(data.head())"
   ]
  },
  {
   "cell_type": "markdown",
   "metadata": {},
   "source": [
    "## Hierarchical Clustering"
   ]
  },
  {
   "cell_type": "code",
   "execution_count": 167,
   "metadata": {},
   "outputs": [
    {
     "data": {
      "text/plain": [
       "array([3, 1, 2, ..., 2, 0, 3])"
      ]
     },
     "execution_count": 167,
     "metadata": {},
     "output_type": "execute_result"
    }
   ],
   "source": [
    "from sklearn.cluster import AgglomerativeClustering\n",
    "cluster = AgglomerativeClustering(n_clusters=4, affinity='euclidean', memory=None, connectivity=None, compute_full_tree='auto', linkage='ward', distance_threshold=None, compute_distances=False)\n",
    "Hierarchical_clustering_4_clusters=cluster.fit_predict(descriptive_features)\n",
    "Hierarchical_clustering_4_clusters"
   ]
  },
  {
   "cell_type": "markdown",
   "metadata": {},
   "source": [
    "## checking size of each cluster"
   ]
  },
  {
   "cell_type": "code",
   "execution_count": 168,
   "metadata": {},
   "outputs": [
    {
     "name": "stdout",
     "output_type": "stream",
     "text": [
      "[403 294 408 172]\n"
     ]
    }
   ],
   "source": [
    "Hierarchical_clustering_4_clusters\n",
    "count_arr = np.bincount(Hierarchical_clustering_4_clusters)\n",
    "print(count_arr)"
   ]
  },
  {
   "cell_type": "markdown",
   "metadata": {},
   "source": [
    "## Evaluation Metrics"
   ]
  },
  {
   "cell_type": "code",
   "execution_count": 169,
   "metadata": {},
   "outputs": [
    {
     "name": "stdout",
     "output_type": "stream",
     "text": [
      "Silhouetter Score: 0.168\n",
      "calinski_harabasz Score: 328.656\n"
     ]
    }
   ],
   "source": [
    "score = silhouette_score(descriptive_features, cluster.labels_, metric='euclidean')\n",
    "score2 = calinski_harabasz_score(descriptive_features, cluster.labels_)\n",
    "#\n",
    "# Print the score\n",
    "#\n",
    "print('Silhouetter Score: %.3f' % score)\n",
    "print('calinski_harabasz Score: %.3f' % score2)"
   ]
  },
  {
   "cell_type": "code",
   "execution_count": 170,
   "metadata": {},
   "outputs": [
    {
     "data": {
      "text/plain": [
       "array([3, 6, 2, ..., 1, 4, 3])"
      ]
     },
     "execution_count": 170,
     "metadata": {},
     "output_type": "execute_result"
    }
   ],
   "source": [
    "from sklearn.cluster import AgglomerativeClustering\n",
    "cluster = AgglomerativeClustering(n_clusters=8, affinity='euclidean', memory=None, connectivity=None, compute_full_tree='auto', linkage='ward', distance_threshold=None, compute_distances=False)\n",
    "\n",
    "Hierarchical_clustering_8_clusters=cluster.fit_predict(descriptive_features)\n",
    "Hierarchical_clustering_8_clusters"
   ]
  },
  {
   "cell_type": "markdown",
   "metadata": {},
   "source": [
    "## checking size of each cluster"
   ]
  },
  {
   "cell_type": "code",
   "execution_count": 171,
   "metadata": {},
   "outputs": [
    {
     "name": "stdout",
     "output_type": "stream",
     "text": [
      "[197 223 185 114 161 242  97  58]\n"
     ]
    }
   ],
   "source": [
    "Hierarchical_clustering_8_clusters\n",
    "count_arr = np.bincount(Hierarchical_clustering_8_clusters)\n",
    "print(count_arr)"
   ]
  },
  {
   "cell_type": "markdown",
   "metadata": {},
   "source": [
    "## Evaluation Metrics"
   ]
  },
  {
   "cell_type": "code",
   "execution_count": 172,
   "metadata": {},
   "outputs": [
    {
     "name": "stdout",
     "output_type": "stream",
     "text": [
      "Silhouetter Score: 0.106\n",
      "calinski_harabasz Score: 197.337\n"
     ]
    }
   ],
   "source": [
    "score = silhouette_score(descriptive_features, cluster.labels_, metric='euclidean')\n",
    "score2 = calinski_harabasz_score(descriptive_features, cluster.labels_)\n",
    "#\n",
    "# Print the score\n",
    "#\n",
    "print('Silhouetter Score: %.3f' % score)\n",
    "print('calinski_harabasz Score: %.3f' % score2)"
   ]
  },
  {
   "cell_type": "markdown",
   "metadata": {},
   "source": [
    "## Adding Cluster column in to CSV File"
   ]
  },
  {
   "cell_type": "code",
   "execution_count": 173,
   "metadata": {},
   "outputs": [
    {
     "name": "stdout",
     "output_type": "stream",
     "text": [
      "      Spieler      Tore  Torvorlage  Progressive Pässe  Rückpässe  \\\n",
      "0  E. Haaland  5.784805    0.924841          -2.099532  -0.527450   \n",
      "1   J. Sancho  3.239380    5.564156           0.198022   2.474467   \n",
      "2  J. Kimmich -0.175215    1.768353           1.397004   1.372626   \n",
      "3  K. Havertz  1.873542    0.713963          -0.254736   2.154695   \n",
      "4   A. Davies  0.011036    0.503085           0.779202   1.570474   \n",
      "\n",
      "   seitliche Pässe  lange Pässe  kurze Pässe  Dribbeln  Grätschen  ...  \\\n",
      "0        -1.350979    -2.142148    -1.430170  0.100861  -1.392833  ...   \n",
      "1         0.620473    -1.272420     1.427465  1.393588  -1.392833  ...   \n",
      "2         1.908364     1.548869     1.899620 -0.352134   0.917628  ...   \n",
      "3         0.047055    -0.646972     0.890738  1.104575  -0.797036  ...   \n",
      "4         1.046607    -0.587813     1.426581  1.400708   0.090625  ...   \n",
      "\n",
      "   Besschleunigungen  erhaltene Pässe  Angriffsläufe     Fouls  \\\n",
      "0          -0.161448        -1.136759       0.772772 -0.553050   \n",
      "1           1.547451         1.531222       3.045627 -1.824754   \n",
      "2          -0.528285         1.961430       1.891424 -0.705659   \n",
      "3           0.916497         0.981757       1.739431 -0.727938   \n",
      "4           1.259604         1.161058       0.691518 -0.385413   \n",
      "\n",
      "   Kmeans_4_clusters  Kmeans_8_clusters  k_medions_4_clusters  \\\n",
      "0                  0                  1                     1   \n",
      "1                  2                  2                     1   \n",
      "2                  1                  5                     0   \n",
      "3                  2                  2                     1   \n",
      "4                  2                  3                     1   \n",
      "\n",
      "   k_medions_8_clusters  Hierarchical_clustering_4_clusters  \\\n",
      "0                     6                                   3   \n",
      "1                     1                                   1   \n",
      "2                     5                                   2   \n",
      "3                     1                                   1   \n",
      "4                     1                                   2   \n",
      "\n",
      "   Hierarchical_clustering_8_clusters  \n",
      "0                                   3  \n",
      "1                                   6  \n",
      "2                                   2  \n",
      "3                                   6  \n",
      "4                                   1  \n",
      "\n",
      "[5 rows x 29 columns]\n"
     ]
    }
   ],
   "source": [
    "df = pd.DataFrame(data=Hierarchical_clustering_4_clusters,columns=[\"Column1\"])\n",
    "data = data.assign(Hierarchical_clustering_4_clusters =Hierarchical_clustering_4_clusters)\n",
    "df = pd.DataFrame(data=Hierarchical_clustering_8_clusters,columns=[\"Column1\"])\n",
    "data = data.assign(Hierarchical_clustering_8_clusters =Hierarchical_clustering_8_clusters)\n",
    "\n",
    "\n",
    "#print(data)\n",
    "data.to_csv('Clusterednew.csv')\n",
    "print(data.head())"
   ]
  },
  {
   "cell_type": "markdown",
   "metadata": {},
   "source": [
    "## Get the important features. "
   ]
  },
  {
   "cell_type": "markdown",
   "metadata": {},
   "source": [
    "### There are no such methods for unsupervised methods for important feature extrction as there are for supervised. I tried a method, but i dont think so it would be really helpful for you. But you can have a look. "
   ]
  },
  {
   "cell_type": "code",
   "execution_count": 176,
   "metadata": {},
   "outputs": [
    {
     "data": {
      "text/plain": [
       "numpy.ndarray"
      ]
     },
     "execution_count": 176,
     "metadata": {},
     "output_type": "execute_result"
    }
   ],
   "source": [
    "#getting copy of descriptive features\n",
    "data = descriptive_features\n",
    "type(data)"
   ]
  },
  {
   "cell_type": "code",
   "execution_count": 177,
   "metadata": {},
   "outputs": [
    {
     "data": {
      "text/plain": [
       "array([[0.95454545, 0.19512195, 0.36027592, ..., 0.62398529, 0.50963214,\n",
       "        0.42769216],\n",
       "       [0.58181818, 0.73170732, 0.71866757, ..., 0.89211136, 1.        ,\n",
       "        0.21639585],\n",
       "       [0.08181818, 0.29268293, 0.9056949 , ..., 0.9353463 , 0.75098085,\n",
       "        0.40233584],\n",
       "       ...,\n",
       "       [0.        , 0.        , 0.80234431, ..., 0.77207283, 0.2024635 ,\n",
       "        0.56541751],\n",
       "       [0.        , 0.        , 0.76363969, ..., 0.75887399, 0.47047697,\n",
       "        0.44523526],\n",
       "       [0.18181818, 0.24390244, 0.5109368 , ..., 0.69070633, 0.49916582,\n",
       "        0.87171695]])"
      ]
     },
     "execution_count": 177,
     "metadata": {},
     "output_type": "execute_result"
    }
   ],
   "source": [
    "data"
   ]
  },
  {
   "cell_type": "code",
   "execution_count": 178,
   "metadata": {},
   "outputs": [],
   "source": [
    "data = pd.DataFrame(data)"
   ]
  },
  {
   "cell_type": "code",
   "execution_count": 179,
   "metadata": {},
   "outputs": [
    {
     "data": {
      "text/html": [
       "<div>\n",
       "<style scoped>\n",
       "    .dataframe tbody tr th:only-of-type {\n",
       "        vertical-align: middle;\n",
       "    }\n",
       "\n",
       "    .dataframe tbody tr th {\n",
       "        vertical-align: top;\n",
       "    }\n",
       "\n",
       "    .dataframe thead th {\n",
       "        text-align: right;\n",
       "    }\n",
       "</style>\n",
       "<table border=\"1\" class=\"dataframe\">\n",
       "  <thead>\n",
       "    <tr style=\"text-align: right;\">\n",
       "      <th></th>\n",
       "      <th>0</th>\n",
       "      <th>1</th>\n",
       "      <th>2</th>\n",
       "      <th>3</th>\n",
       "      <th>4</th>\n",
       "      <th>5</th>\n",
       "      <th>6</th>\n",
       "      <th>7</th>\n",
       "      <th>8</th>\n",
       "      <th>9</th>\n",
       "      <th>...</th>\n",
       "      <th>12</th>\n",
       "      <th>13</th>\n",
       "      <th>14</th>\n",
       "      <th>15</th>\n",
       "      <th>16</th>\n",
       "      <th>17</th>\n",
       "      <th>18</th>\n",
       "      <th>19</th>\n",
       "      <th>20</th>\n",
       "      <th>21</th>\n",
       "    </tr>\n",
       "  </thead>\n",
       "  <tbody>\n",
       "    <tr>\n",
       "      <th>0</th>\n",
       "      <td>0.954545</td>\n",
       "      <td>0.195122</td>\n",
       "      <td>0.360276</td>\n",
       "      <td>0.579960</td>\n",
       "      <td>0.486519</td>\n",
       "      <td>0.056705</td>\n",
       "      <td>0.632816</td>\n",
       "      <td>0.453069</td>\n",
       "      <td>0.000000</td>\n",
       "      <td>0.478317</td>\n",
       "      <td>...</td>\n",
       "      <td>0.739547</td>\n",
       "      <td>0.439946</td>\n",
       "      <td>0.236968</td>\n",
       "      <td>0.235225</td>\n",
       "      <td>0.097739</td>\n",
       "      <td>0.397207</td>\n",
       "      <td>0.334822</td>\n",
       "      <td>0.623985</td>\n",
       "      <td>0.509632</td>\n",
       "      <td>0.427692</td>\n",
       "    </tr>\n",
       "    <tr>\n",
       "      <th>1</th>\n",
       "      <td>0.581818</td>\n",
       "      <td>0.731707</td>\n",
       "      <td>0.718668</td>\n",
       "      <td>0.996021</td>\n",
       "      <td>0.745001</td>\n",
       "      <td>0.230884</td>\n",
       "      <td>0.892550</td>\n",
       "      <td>0.720902</td>\n",
       "      <td>0.000000</td>\n",
       "      <td>0.438883</td>\n",
       "      <td>...</td>\n",
       "      <td>0.618552</td>\n",
       "      <td>0.424869</td>\n",
       "      <td>0.284091</td>\n",
       "      <td>0.401722</td>\n",
       "      <td>0.256056</td>\n",
       "      <td>0.825120</td>\n",
       "      <td>0.721862</td>\n",
       "      <td>0.892111</td>\n",
       "      <td>1.000000</td>\n",
       "      <td>0.216396</td>\n",
       "    </tr>\n",
       "    <tr>\n",
       "      <th>2</th>\n",
       "      <td>0.081818</td>\n",
       "      <td>0.292683</td>\n",
       "      <td>0.905695</td>\n",
       "      <td>0.843308</td>\n",
       "      <td>0.913860</td>\n",
       "      <td>0.795900</td>\n",
       "      <td>0.935464</td>\n",
       "      <td>0.359215</td>\n",
       "      <td>0.336391</td>\n",
       "      <td>0.827119</td>\n",
       "      <td>...</td>\n",
       "      <td>0.302455</td>\n",
       "      <td>0.152192</td>\n",
       "      <td>0.511281</td>\n",
       "      <td>0.444913</td>\n",
       "      <td>0.177629</td>\n",
       "      <td>0.464261</td>\n",
       "      <td>0.251739</td>\n",
       "      <td>0.935346</td>\n",
       "      <td>0.750981</td>\n",
       "      <td>0.402336</td>\n",
       "    </tr>\n",
       "    <tr>\n",
       "      <th>3</th>\n",
       "      <td>0.381818</td>\n",
       "      <td>0.170732</td>\n",
       "      <td>0.648043</td>\n",
       "      <td>0.951701</td>\n",
       "      <td>0.669819</td>\n",
       "      <td>0.356142</td>\n",
       "      <td>0.843766</td>\n",
       "      <td>0.661023</td>\n",
       "      <td>0.086745</td>\n",
       "      <td>0.542139</td>\n",
       "      <td>...</td>\n",
       "      <td>0.631874</td>\n",
       "      <td>0.403060</td>\n",
       "      <td>0.465488</td>\n",
       "      <td>0.330490</td>\n",
       "      <td>0.162816</td>\n",
       "      <td>0.650544</td>\n",
       "      <td>0.578961</td>\n",
       "      <td>0.836891</td>\n",
       "      <td>0.718189</td>\n",
       "      <td>0.398634</td>\n",
       "    </tr>\n",
       "    <tr>\n",
       "      <th>4</th>\n",
       "      <td>0.109091</td>\n",
       "      <td>0.146341</td>\n",
       "      <td>0.809325</td>\n",
       "      <td>0.870729</td>\n",
       "      <td>0.800873</td>\n",
       "      <td>0.367990</td>\n",
       "      <td>0.892469</td>\n",
       "      <td>0.722378</td>\n",
       "      <td>0.215984</td>\n",
       "      <td>0.909857</td>\n",
       "      <td>...</td>\n",
       "      <td>0.231113</td>\n",
       "      <td>0.265947</td>\n",
       "      <td>0.506070</td>\n",
       "      <td>0.608650</td>\n",
       "      <td>0.099114</td>\n",
       "      <td>0.809603</td>\n",
       "      <td>0.656669</td>\n",
       "      <td>0.854911</td>\n",
       "      <td>0.492102</td>\n",
       "      <td>0.455545</td>\n",
       "    </tr>\n",
       "    <tr>\n",
       "      <th>...</th>\n",
       "      <td>...</td>\n",
       "      <td>...</td>\n",
       "      <td>...</td>\n",
       "      <td>...</td>\n",
       "      <td>...</td>\n",
       "      <td>...</td>\n",
       "      <td>...</td>\n",
       "      <td>...</td>\n",
       "      <td>...</td>\n",
       "      <td>...</td>\n",
       "      <td>...</td>\n",
       "      <td>...</td>\n",
       "      <td>...</td>\n",
       "      <td>...</td>\n",
       "      <td>...</td>\n",
       "      <td>...</td>\n",
       "      <td>...</td>\n",
       "      <td>...</td>\n",
       "      <td>...</td>\n",
       "      <td>...</td>\n",
       "      <td>...</td>\n",
       "    </tr>\n",
       "    <tr>\n",
       "      <th>1272</th>\n",
       "      <td>0.000000</td>\n",
       "      <td>0.097561</td>\n",
       "      <td>0.820153</td>\n",
       "      <td>0.377062</td>\n",
       "      <td>0.776415</td>\n",
       "      <td>0.645717</td>\n",
       "      <td>0.796352</td>\n",
       "      <td>0.027833</td>\n",
       "      <td>0.246325</td>\n",
       "      <td>0.844053</td>\n",
       "      <td>...</td>\n",
       "      <td>0.127191</td>\n",
       "      <td>0.139854</td>\n",
       "      <td>0.176903</td>\n",
       "      <td>0.067378</td>\n",
       "      <td>0.016676</td>\n",
       "      <td>0.296971</td>\n",
       "      <td>0.047012</td>\n",
       "      <td>0.764871</td>\n",
       "      <td>0.111465</td>\n",
       "      <td>0.599300</td>\n",
       "    </tr>\n",
       "    <tr>\n",
       "      <th>1273</th>\n",
       "      <td>0.363636</td>\n",
       "      <td>0.000000</td>\n",
       "      <td>0.383169</td>\n",
       "      <td>0.676749</td>\n",
       "      <td>0.473787</td>\n",
       "      <td>0.128552</td>\n",
       "      <td>0.634231</td>\n",
       "      <td>0.518144</td>\n",
       "      <td>0.000000</td>\n",
       "      <td>0.515075</td>\n",
       "      <td>...</td>\n",
       "      <td>0.624300</td>\n",
       "      <td>0.354438</td>\n",
       "      <td>0.473825</td>\n",
       "      <td>0.144396</td>\n",
       "      <td>0.000000</td>\n",
       "      <td>0.411800</td>\n",
       "      <td>0.359052</td>\n",
       "      <td>0.601851</td>\n",
       "      <td>0.417301</td>\n",
       "      <td>0.394912</td>\n",
       "    </tr>\n",
       "    <tr>\n",
       "      <th>1274</th>\n",
       "      <td>0.000000</td>\n",
       "      <td>0.000000</td>\n",
       "      <td>0.802344</td>\n",
       "      <td>0.575308</td>\n",
       "      <td>0.733472</td>\n",
       "      <td>0.735734</td>\n",
       "      <td>0.774317</td>\n",
       "      <td>0.374942</td>\n",
       "      <td>0.212501</td>\n",
       "      <td>0.653183</td>\n",
       "      <td>...</td>\n",
       "      <td>0.000000</td>\n",
       "      <td>0.070551</td>\n",
       "      <td>0.334793</td>\n",
       "      <td>0.513668</td>\n",
       "      <td>0.034019</td>\n",
       "      <td>0.495853</td>\n",
       "      <td>0.309591</td>\n",
       "      <td>0.772073</td>\n",
       "      <td>0.202463</td>\n",
       "      <td>0.565418</td>\n",
       "    </tr>\n",
       "    <tr>\n",
       "      <th>1275</th>\n",
       "      <td>0.000000</td>\n",
       "      <td>0.000000</td>\n",
       "      <td>0.763640</td>\n",
       "      <td>0.661414</td>\n",
       "      <td>0.755330</td>\n",
       "      <td>0.751019</td>\n",
       "      <td>0.796538</td>\n",
       "      <td>0.319620</td>\n",
       "      <td>0.545201</td>\n",
       "      <td>0.648968</td>\n",
       "      <td>...</td>\n",
       "      <td>0.305798</td>\n",
       "      <td>0.000000</td>\n",
       "      <td>0.534189</td>\n",
       "      <td>0.284391</td>\n",
       "      <td>0.000000</td>\n",
       "      <td>0.409396</td>\n",
       "      <td>0.131402</td>\n",
       "      <td>0.758874</td>\n",
       "      <td>0.470477</td>\n",
       "      <td>0.445235</td>\n",
       "    </tr>\n",
       "    <tr>\n",
       "      <th>1276</th>\n",
       "      <td>0.181818</td>\n",
       "      <td>0.243902</td>\n",
       "      <td>0.510937</td>\n",
       "      <td>0.619249</td>\n",
       "      <td>0.539303</td>\n",
       "      <td>0.228791</td>\n",
       "      <td>0.692083</td>\n",
       "      <td>0.558143</td>\n",
       "      <td>0.630469</td>\n",
       "      <td>0.388014</td>\n",
       "      <td>...</td>\n",
       "      <td>0.800068</td>\n",
       "      <td>0.320982</td>\n",
       "      <td>0.424984</td>\n",
       "      <td>0.301733</td>\n",
       "      <td>0.074449</td>\n",
       "      <td>0.314581</td>\n",
       "      <td>0.365802</td>\n",
       "      <td>0.690706</td>\n",
       "      <td>0.499166</td>\n",
       "      <td>0.871717</td>\n",
       "    </tr>\n",
       "  </tbody>\n",
       "</table>\n",
       "<p>1277 rows × 22 columns</p>\n",
       "</div>"
      ],
      "text/plain": [
       "            0         1         2         3         4         5         6   \\\n",
       "0     0.954545  0.195122  0.360276  0.579960  0.486519  0.056705  0.632816   \n",
       "1     0.581818  0.731707  0.718668  0.996021  0.745001  0.230884  0.892550   \n",
       "2     0.081818  0.292683  0.905695  0.843308  0.913860  0.795900  0.935464   \n",
       "3     0.381818  0.170732  0.648043  0.951701  0.669819  0.356142  0.843766   \n",
       "4     0.109091  0.146341  0.809325  0.870729  0.800873  0.367990  0.892469   \n",
       "...        ...       ...       ...       ...       ...       ...       ...   \n",
       "1272  0.000000  0.097561  0.820153  0.377062  0.776415  0.645717  0.796352   \n",
       "1273  0.363636  0.000000  0.383169  0.676749  0.473787  0.128552  0.634231   \n",
       "1274  0.000000  0.000000  0.802344  0.575308  0.733472  0.735734  0.774317   \n",
       "1275  0.000000  0.000000  0.763640  0.661414  0.755330  0.751019  0.796538   \n",
       "1276  0.181818  0.243902  0.510937  0.619249  0.539303  0.228791  0.692083   \n",
       "\n",
       "            7         8         9   ...        12        13        14  \\\n",
       "0     0.453069  0.000000  0.478317  ...  0.739547  0.439946  0.236968   \n",
       "1     0.720902  0.000000  0.438883  ...  0.618552  0.424869  0.284091   \n",
       "2     0.359215  0.336391  0.827119  ...  0.302455  0.152192  0.511281   \n",
       "3     0.661023  0.086745  0.542139  ...  0.631874  0.403060  0.465488   \n",
       "4     0.722378  0.215984  0.909857  ...  0.231113  0.265947  0.506070   \n",
       "...        ...       ...       ...  ...       ...       ...       ...   \n",
       "1272  0.027833  0.246325  0.844053  ...  0.127191  0.139854  0.176903   \n",
       "1273  0.518144  0.000000  0.515075  ...  0.624300  0.354438  0.473825   \n",
       "1274  0.374942  0.212501  0.653183  ...  0.000000  0.070551  0.334793   \n",
       "1275  0.319620  0.545201  0.648968  ...  0.305798  0.000000  0.534189   \n",
       "1276  0.558143  0.630469  0.388014  ...  0.800068  0.320982  0.424984   \n",
       "\n",
       "            15        16        17        18        19        20        21  \n",
       "0     0.235225  0.097739  0.397207  0.334822  0.623985  0.509632  0.427692  \n",
       "1     0.401722  0.256056  0.825120  0.721862  0.892111  1.000000  0.216396  \n",
       "2     0.444913  0.177629  0.464261  0.251739  0.935346  0.750981  0.402336  \n",
       "3     0.330490  0.162816  0.650544  0.578961  0.836891  0.718189  0.398634  \n",
       "4     0.608650  0.099114  0.809603  0.656669  0.854911  0.492102  0.455545  \n",
       "...        ...       ...       ...       ...       ...       ...       ...  \n",
       "1272  0.067378  0.016676  0.296971  0.047012  0.764871  0.111465  0.599300  \n",
       "1273  0.144396  0.000000  0.411800  0.359052  0.601851  0.417301  0.394912  \n",
       "1274  0.513668  0.034019  0.495853  0.309591  0.772073  0.202463  0.565418  \n",
       "1275  0.284391  0.000000  0.409396  0.131402  0.758874  0.470477  0.445235  \n",
       "1276  0.301733  0.074449  0.314581  0.365802  0.690706  0.499166  0.871717  \n",
       "\n",
       "[1277 rows x 22 columns]"
      ]
     },
     "execution_count": 179,
     "metadata": {},
     "output_type": "execute_result"
    }
   ],
   "source": [
    "data"
   ]
  },
  {
   "cell_type": "markdown",
   "metadata": {},
   "source": [
    "## Variance threshold method for feature extraction "
   ]
  },
  {
   "cell_type": "code",
   "execution_count": 180,
   "metadata": {},
   "outputs": [
    {
     "data": {
      "text/html": [
       "<div>\n",
       "<style scoped>\n",
       "    .dataframe tbody tr th:only-of-type {\n",
       "        vertical-align: middle;\n",
       "    }\n",
       "\n",
       "    .dataframe tbody tr th {\n",
       "        vertical-align: top;\n",
       "    }\n",
       "\n",
       "    .dataframe thead th {\n",
       "        text-align: right;\n",
       "    }\n",
       "</style>\n",
       "<table border=\"1\" class=\"dataframe\">\n",
       "  <thead>\n",
       "    <tr style=\"text-align: right;\">\n",
       "      <th></th>\n",
       "      <th>12</th>\n",
       "      <th>15</th>\n",
       "      <th>18</th>\n",
       "    </tr>\n",
       "  </thead>\n",
       "  <tbody>\n",
       "    <tr>\n",
       "      <th>0</th>\n",
       "      <td>0.739547</td>\n",
       "      <td>0.235225</td>\n",
       "      <td>0.334822</td>\n",
       "    </tr>\n",
       "    <tr>\n",
       "      <th>1</th>\n",
       "      <td>0.618552</td>\n",
       "      <td>0.401722</td>\n",
       "      <td>0.721862</td>\n",
       "    </tr>\n",
       "    <tr>\n",
       "      <th>2</th>\n",
       "      <td>0.302455</td>\n",
       "      <td>0.444913</td>\n",
       "      <td>0.251739</td>\n",
       "    </tr>\n",
       "    <tr>\n",
       "      <th>3</th>\n",
       "      <td>0.631874</td>\n",
       "      <td>0.330490</td>\n",
       "      <td>0.578961</td>\n",
       "    </tr>\n",
       "    <tr>\n",
       "      <th>4</th>\n",
       "      <td>0.231113</td>\n",
       "      <td>0.608650</td>\n",
       "      <td>0.656669</td>\n",
       "    </tr>\n",
       "    <tr>\n",
       "      <th>...</th>\n",
       "      <td>...</td>\n",
       "      <td>...</td>\n",
       "      <td>...</td>\n",
       "    </tr>\n",
       "    <tr>\n",
       "      <th>1272</th>\n",
       "      <td>0.127191</td>\n",
       "      <td>0.067378</td>\n",
       "      <td>0.047012</td>\n",
       "    </tr>\n",
       "    <tr>\n",
       "      <th>1273</th>\n",
       "      <td>0.624300</td>\n",
       "      <td>0.144396</td>\n",
       "      <td>0.359052</td>\n",
       "    </tr>\n",
       "    <tr>\n",
       "      <th>1274</th>\n",
       "      <td>0.000000</td>\n",
       "      <td>0.513668</td>\n",
       "      <td>0.309591</td>\n",
       "    </tr>\n",
       "    <tr>\n",
       "      <th>1275</th>\n",
       "      <td>0.305798</td>\n",
       "      <td>0.284391</td>\n",
       "      <td>0.131402</td>\n",
       "    </tr>\n",
       "    <tr>\n",
       "      <th>1276</th>\n",
       "      <td>0.800068</td>\n",
       "      <td>0.301733</td>\n",
       "      <td>0.365802</td>\n",
       "    </tr>\n",
       "  </tbody>\n",
       "</table>\n",
       "<p>1277 rows × 3 columns</p>\n",
       "</div>"
      ],
      "text/plain": [
       "            12        15        18\n",
       "0     0.739547  0.235225  0.334822\n",
       "1     0.618552  0.401722  0.721862\n",
       "2     0.302455  0.444913  0.251739\n",
       "3     0.631874  0.330490  0.578961\n",
       "4     0.231113  0.608650  0.656669\n",
       "...        ...       ...       ...\n",
       "1272  0.127191  0.067378  0.047012\n",
       "1273  0.624300  0.144396  0.359052\n",
       "1274  0.000000  0.513668  0.309591\n",
       "1275  0.305798  0.284391  0.131402\n",
       "1276  0.800068  0.301733  0.365802\n",
       "\n",
       "[1277 rows x 3 columns]"
      ]
     },
     "execution_count": 180,
     "metadata": {},
     "output_type": "execute_result"
    }
   ],
   "source": [
    "from sklearn.feature_selection import VarianceThreshold\n",
    "threshold_n=0.95\n",
    "sel = VarianceThreshold(threshold=(1 - threshold_n))\n",
    "sel_var=sel.fit_transform(data)\n",
    "data[data.columns[sel.get_support(indices=True)]] "
   ]
  }
 ],
 "metadata": {
  "interpreter": {
   "hash": "f293f16398db128e85df277de8eb5f9ab0a1b28857fa0f1c8543245825f1b931"
  },
  "kernelspec": {
   "display_name": "Python 3.7.7 ('pythonProject')",
   "language": "python",
   "name": "python3"
  },
  "language_info": {
   "codemirror_mode": {
    "name": "ipython",
    "version": 3
   },
   "file_extension": ".py",
   "mimetype": "text/x-python",
   "name": "python",
   "nbconvert_exporter": "python",
   "pygments_lexer": "ipython3",
   "version": "3.7.7"
  },
  "orig_nbformat": 4
 },
 "nbformat": 4,
 "nbformat_minor": 2
}
