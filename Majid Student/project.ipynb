{
 "cells": [
  {
   "cell_type": "code",
   "execution_count": 2,
   "id": "b26a32ac",
   "metadata": {},
   "outputs": [
    {
     "name": "stdout",
     "output_type": "stream",
     "text": [
      "Course Offering System (admin view)\n",
      "========================================\n",
      "1. View courses\n",
      "2. Add a course\n",
      "3. Delete a course\n",
      "4. View top courses\n",
      "5. View departments\n",
      "6. Exit  \n",
      "========================================\n",
      "Error\n",
      "Error\n"
     ]
    },
    {
     "ename": "ValueError",
     "evalue": "invalid literal for int() with base 10: '11-11-2022'",
     "output_type": "error",
     "traceback": [
      "\u001b[0;31m---------------------------------------------------------------------------\u001b[0m",
      "\u001b[0;31mValueError\u001b[0m                                Traceback (most recent call last)",
      "\u001b[0;32m/var/folders/dk/9q84mn0j1nzfg85t9zx5d1480000gn/T/ipykernel_77221/861433533.py\u001b[0m in \u001b[0;36m<module>\u001b[0;34m\u001b[0m\n\u001b[1;32m     58\u001b[0m         \u001b[0mmin1\u001b[0m \u001b[0;34m=\u001b[0m \u001b[0;34m(\u001b[0m\u001b[0mint\u001b[0m\u001b[0;34m(\u001b[0m\u001b[0mstartTime\u001b[0m\u001b[0;34m)\u001b[0m \u001b[0;34m-\u001b[0m\u001b[0;34m(\u001b[0m\u001b[0;34m(\u001b[0m\u001b[0mint\u001b[0m\u001b[0;34m(\u001b[0m\u001b[0mstartTime\u001b[0m\u001b[0;34m)\u001b[0m\u001b[0;34m//\u001b[0m\u001b[0;36m100\u001b[0m\u001b[0;34m)\u001b[0m\u001b[0;34m*\u001b[0m\u001b[0;36m100\u001b[0m\u001b[0;34m)\u001b[0m\u001b[0;34m)\u001b[0m\u001b[0;34m\u001b[0m\u001b[0;34m\u001b[0m\u001b[0m\n\u001b[1;32m     59\u001b[0m \u001b[0;34m\u001b[0m\u001b[0m\n\u001b[0;32m---> 60\u001b[0;31m         \u001b[0;32mwhile\u001b[0m \u001b[0mint\u001b[0m\u001b[0;34m(\u001b[0m\u001b[0mstartTime\u001b[0m\u001b[0;34m)\u001b[0m \u001b[0;34m<\u001b[0m \u001b[0;36m0\u001b[0m \u001b[0;32mor\u001b[0m \u001b[0mint\u001b[0m\u001b[0;34m(\u001b[0m\u001b[0mstartTime\u001b[0m\u001b[0;34m)\u001b[0m \u001b[0;34m>\u001b[0m \u001b[0;36m2359\u001b[0m \u001b[0;32mor\u001b[0m \u001b[0mmin1\u001b[0m \u001b[0;34m>\u001b[0m \u001b[0;36m59\u001b[0m\u001b[0;34m:\u001b[0m\u001b[0;34m\u001b[0m\u001b[0;34m\u001b[0m\u001b[0m\n\u001b[0m\u001b[1;32m     61\u001b[0m             \u001b[0mprint\u001b[0m\u001b[0;34m(\u001b[0m\u001b[0;34m\"Error\"\u001b[0m\u001b[0;34m)\u001b[0m\u001b[0;34m\u001b[0m\u001b[0;34m\u001b[0m\u001b[0m\n\u001b[1;32m     62\u001b[0m             \u001b[0mstartTime\u001b[0m \u001b[0;34m=\u001b[0m \u001b[0minput\u001b[0m\u001b[0;34m(\u001b[0m\u001b[0;34m\"When dose the course start? \"\u001b[0m\u001b[0;34m)\u001b[0m\u001b[0;34m\u001b[0m\u001b[0;34m\u001b[0m\u001b[0m\n",
      "\u001b[0;31mValueError\u001b[0m: invalid literal for int() with base 10: '11-11-2022'"
     ]
    }
   ],
   "source": [
    "\n",
    "you = input(\"Are admin or student ? \")\n",
    "dashes = 20 * \"==\"\n",
    "while not (you.lower() == \"admin\" or you.lower() == \"student\"):\n",
    "        print(\"Error\")\n",
    "        you = input(\"Are admin or student \") \n",
    "    \n",
    "if you == \"admin\":\n",
    "    print(\"Course Offering System (admin view)\")\n",
    "    print(dashes)\n",
    "    print(\"1. View courses\\n2. Add a course\\n3. Delete a course\\n4. View top courses\\n5. View departments\\n6. Exit  \") \n",
    "    print(dashes)\n",
    "    choice = int(input(\"Enter your choice: \"))\n",
    "    menu = [1,2,3,4,5,6]\n",
    "    while not choice in menu:\n",
    "        print(\"Error\")\n",
    "        choice = input(\"Enter your choice: \")\n",
    "        \n",
    "    coursesFile = open(\"courses.txt\" , \"r\")\n",
    "    editCourses = open(\"courses.txt\" , \"a\")\n",
    "    \n",
    "    if choice == 1:\n",
    "        coursesFile = open(\"courses.txt\" , \"r\")\n",
    "        dicList = {}\n",
    "        for line in coursesFile:\n",
    "            line = line.strip()\n",
    "            line = line.split(\",\")\n",
    "            dicList[line[0]] = line\n",
    "        print(dicList)\n",
    "        \n",
    "    elif choice == 2:\n",
    "        intStudents = 0\n",
    "        idCourse = input(\"Enter ID course \")\n",
    "        while not len(idCourse)== 4:\n",
    "            print(\"Error\")\n",
    "            idCourse = input(\"Enter ID course \")\n",
    "            \n",
    "        while idCourse in coursesFile:\n",
    "            print(\"Error\")\n",
    "            idCourse = input(\"Enter ID course \")\n",
    "        \n",
    "        maxNumOfStudent = input(\"Enter max number of student \")\n",
    "        while not maxNumOfStudent.isdigit():\n",
    "            print(\"Invalid value, please try again.\")\n",
    "            maxNumOfStudent = input(\"Enter max number of student: \")\n",
    "        maxNumOfStudent = int(maxNumOfStudent)\n",
    "        \n",
    "        \n",
    "        dayCourse = input(\"Enter days course as SMTWR \")\n",
    "        while not (dayCourse in \"S M Y W R\" or dayCourse.isalpha()):\n",
    "            print(\"Error\")\n",
    "            dayCourse = input(\"Enter days course as SMTWR \").upper()\n",
    "                    \n",
    "       \n",
    "        startTime = input(\"When dose the course start? \")\n",
    "        while not startTime.isdigit():\n",
    "            print(\"Invalid value, please try again.\")\n",
    "            startTime = input(\"When dose the course start? \")\n",
    "        min1 = (int(startTime) -((int(startTime)//100)*100))\n",
    "        \n",
    "        while int(startTime) < 0 or int(startTime) > 2359 or min1 > 59:\n",
    "            print(\"Error\")\n",
    "            startTime = input(\"When dose the course start? \")\n",
    "        \n",
    "        \n",
    "        endingTime = input(\"When dose the course end? \")\n",
    "        while not endingTime.isdigit():\n",
    "            print(\"Invalid value, please try again.\")\n",
    "            endingTime = input(\"When dose the course end? \")\n",
    "        \n",
    "        min2 = (int(endingTime) -((int(endingTime)//100)*100))\n",
    "        \n",
    "        while int(endingTime) < int(startTime) or min2 > 59:\n",
    "            print(\"Error\")\n",
    "            endingTime = input(\"When dose the course end? \")\n",
    "                    \n",
    "        timeCourse = startTime+\"-\"+endingTime\n",
    "        editCourses.write(\"\\n\"+str(idCourse)+\",\"+str(intStudents)+\",\"+str(maxNumOfStudent)+','+str(dayCourse)+\",\"+str(timeCourse))\n",
    "        editCourses.close()\n",
    "        \n",
    "        \n",
    "    elif choice == 3:\n",
    "        coursesFile = open(\"courses.txt\" , \"r\")\n",
    "        dicList = {}\n",
    "        for line in coursesFile:\n",
    "            line = line.strip()\n",
    "            line = line.split(\",\")\n",
    "            dicList[line[0]] = line\n",
    "        coursesFile.close()\n",
    "        print(dicList)\n",
    "        coursesFiler.close()\n",
    "        \n",
    "        delCourse = input(\"which course do you want to delete? \")\n",
    "        courseInfo = dicList.get(delCourse)\n",
    "        print(courseInfo)\n",
    "        confirm = input(\"\\nAre you sure? y for yes else for no \")\n",
    "        if confirm in \"yY\":\n",
    "            dicList.pop(delCourse)\n",
    "        else:\n",
    "            print(\"you didn't delete the course\")\n",
    "            \n",
    "        # coursesFile = open(\"courses.txt\" , \"w\")\n",
    "        # for item in dicList.values():\n",
    "        #     file.write(\",\".join(item) + \"\\n\")\n",
    "        # coursesFile.close()\n",
    "        \n",
    "        \n",
    "        \n",
    "        \n",
    "    #elif choice == 4:\n",
    "        \n",
    "    #elif choice == 5:\n",
    "\n",
    "    else:\n",
    "        print(\"See you soon\")\n",
    "        "
   ]
  },
  {
   "cell_type": "code",
   "execution_count": null,
   "id": "bab9cfcf",
   "metadata": {},
   "outputs": [],
   "source": [
    "startTime = input(\"When dose the course start? \")\n",
    "while not startTime.isdigit():\n",
    "    print(\"Invalid value, please try again.\")\n",
    "    startTime = input(\"When dose the course start? \")\n",
    "min1 = (int(startTime) -((int(startTime)//100)*100))\n",
    "\n",
    "while int(startTime) < 0 or int(startTime) > 2359 or min1 > 59:\n",
    "    print(\"Error\")\n",
    "    startTime = input(\"When dose the course start? \")\n",
    "\n",
    "\n",
    "endingTime = input(\"When dose the course end? \")\n",
    "while not endingTime.isdigit():\n",
    "    print(\"Invalid value, please try again.\")\n",
    "    endingTime = input(\"When dose the course end? \")\n",
    "\n",
    "min2 = (int(endingTime) -((int(endingTime)//100)*100))\n",
    "\n",
    "while int(endingTime) < int(startTime) or min2 > 59:\n",
    "    print(\"Error\")\n",
    "    endingTime = input(\"When dose the course end? \")\n",
    "            \n",
    "print(\"timeCourse is \" + startTime + \"-\" + endingTime) "
   ]
  },
  {
   "cell_type": "code",
   "execution_count": 15,
   "id": "6f15daf4",
   "metadata": {},
   "outputs": [
    {
     "name": "stdout",
     "output_type": "stream",
     "text": [
      "Enter days course as UMTWR sms\n",
      "why\n"
     ]
    }
   ],
   "source": [
    "dayCourse = input(\"Enter days course as UMTWR \")\n",
    "while not (dayCourse in \"s m y w r\" or dayCourse.isalpha()):\n",
    "    print(\"Error\")\n",
    "    dayCourse = input(\"Enter days course as UMTWR \")\n",
    "print('why')"
   ]
  },
  {
   "cell_type": "code",
   "execution_count": 28,
   "id": "02768044",
   "metadata": {},
   "outputs": [
    {
     "name": "stdout",
     "output_type": "stream",
     "text": [
      "{'4042': ['4042', 'Programming in Python', 'ICS', '20', '60', 'UT', '0900-0950'], '4044': ['4044', 'Programming in C', 'ICS', '29', '60', 'UT', '1000-1050'], '4113': ['4113', 'Object-Oriented Programming', 'ICS', '23', '60', 'MW', '0930-1045'], '4115': ['4115', 'Advanced Object-Oriented Programming', 'ICS', '27', '60', 'MW', '1330-1445'], '4027': ['4027', 'Database Systems', 'ICS', '0', '30', 'MW', '1000-1050'], '4264': ['4264', 'Digital Logic Design', 'COE', '23', '40', 'MW', '1000-1050'], '1552': ['1552', 'Computer Organization', 'COE', '28', '40', 'T', '1300-1700']}\n"
     ]
    }
   ],
   "source": [
    "coursesFile = open(\"courses.txt\" , \"r\")\n",
    "\n",
    "dicList = {}\n",
    "for line in coursesFile:\n",
    "    line = line.strip()\n",
    "    line = line.split(\",\")\n",
    "    dicList[line[0]] = line\n",
    "deletCourse = input(\"Enter the ID of the course\")\n",
    "delCorse = \n"
   ]
  },
  {
   "cell_type": "code",
   "execution_count": 60,
   "id": "7ae7722e",
   "metadata": {},
   "outputs": [
    {
     "name": "stdout",
     "output_type": "stream",
     "text": [
      "{'4042': ['4042', 'Programming in Python', 'ICS', '20', '60', 'UT', '0900-0950'], '4044': ['4044', 'Programming in C', 'ICS', '29', '60', 'UT', '1000-1050'], '4113': ['4113', 'Object-Oriented Programming', 'ICS', '23', '60', 'MW', '0930-1045'], '4115': ['4115', 'Advanced Object-Oriented Programming', 'ICS', '27', '60', 'MW', '1330-1445'], '4027': ['4027', 'Database Systems', 'ICS', '0', '30', 'MW', '1000-1050'], '4264': ['4264', 'Digital Logic Design', 'COE', '23', '40', 'MW', '1000-1050'], '1552': ['1552', 'Computer Organization', 'COE', '28', '40', 'T', '1300-1700']}\n",
      "which course do you want to delete? 4042\n",
      "['4042', 'Programming in Python', 'ICS', '20', '60', 'UT', '0900-0950']\n",
      "Are you sure? y\n"
     ]
    }
   ],
   "source": [
    "coursesFile = open(\"courses.txt\" , \"r\")\n",
    "dicList = {}\n",
    "for line in coursesFile:\n",
    "    line = line.strip()\n",
    "    line = line.split(\",\")\n",
    "    dicList[line[0]] = line\n",
    "print(dicList)\n",
    "coursesFiler.close()\n",
    "\n",
    "delCourse = input(\"which course do you want to delete? \")\n",
    "courseInfo = dicList.get(delCourse)\n",
    "print(courseInfo)\n",
    "confirm = input(\"\\nAre you sure? \")\n",
    "if confirm in \"yY\":\n",
    "    dicList.pop(delCourse)\n",
    "        \n",
    "else:\n",
    "    print(\"you didn't delet the course\")\n",
    "    \n",
    "coursesFile.close()\n"
   ]
  },
  {
   "cell_type": "code",
   "execution_count": 57,
   "id": "e38c3acc",
   "metadata": {},
   "outputs": [
    {
     "name": "stdout",
     "output_type": "stream",
     "text": [
      "hi-hi\n"
     ]
    }
   ],
   "source": [
    "x = \"hi\"\n",
    "y = x + \"-\" + x\n",
    "print(y)"
   ]
  }
 ],
 "metadata": {
  "kernelspec": {
   "display_name": "Python 3 (ipykernel)",
   "language": "python",
   "name": "python3"
  },
  "language_info": {
   "codemirror_mode": {
    "name": "ipython",
    "version": 3
   },
   "file_extension": ".py",
   "mimetype": "text/x-python",
   "name": "python",
   "nbconvert_exporter": "python",
   "pygments_lexer": "ipython3",
   "version": "3.7.7"
  },
  "toc": {
   "base_numbering": 1,
   "nav_menu": {},
   "number_sections": true,
   "sideBar": true,
   "skip_h1_title": false,
   "title_cell": "Table of Contents",
   "title_sidebar": "Contents",
   "toc_cell": false,
   "toc_position": {},
   "toc_section_display": true,
   "toc_window_display": false
  }
 },
 "nbformat": 4,
 "nbformat_minor": 5
}
