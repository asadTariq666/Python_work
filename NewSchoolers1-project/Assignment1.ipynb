{
 "cells": [
  {
   "cell_type": "markdown",
   "metadata": {},
   "source": [
    "# Assignment 1\n"
   ]
  },
  {
   "cell_type": "markdown",
   "metadata": {},
   "source": [
    "Wine Quality Classification using KNN\n",
    "Use the winequality.csv dataset for this first assignment"
   ]
  },
  {
   "cell_type": "code",
   "execution_count": 1,
   "metadata": {},
   "outputs": [],
   "source": [
    "import pandas as pd\n",
    "import matplotlib.pyplot as plt\n",
    "from sklearn.preprocessing import Normalizer\n",
    "from sklearn.model_selection import train_test_split\n",
    "from sklearn.neighbors import KNeighborsClassifier\n",
    "from sklearn import metrics\n",
    "from sklearn.metrics import accuracy_score\n",
    "from sklearn.metrics import confusion_matrix, ConfusionMatrixDisplay\n",
    "import warnings\n",
    "warnings.simplefilter(\"ignore\")\n"
   ]
  },
  {
   "cell_type": "code",
   "execution_count": 2,
   "metadata": {},
   "outputs": [
    {
     "name": "stdout",
     "output_type": "stream",
     "text": [
      "   Fixed acidity  Volatile Acidity  Citric Acid  Residual Sugar  Chlorides  \\\n",
      "0            7.4              0.70         0.00             1.9      0.076   \n",
      "1            7.8              0.88         0.00             2.6      0.098   \n",
      "2            7.8              0.76         0.04             2.3      0.092   \n",
      "3           11.2              0.28         0.56             1.9      0.075   \n",
      "4            7.4              0.70         0.00             1.9      0.076   \n",
      "\n",
      "   Free Sulfur Dioxide  Total Sulfur Dioxide  Density    pH  Sulphates  \\\n",
      "0                   11                    34   0.9978  3.51       0.56   \n",
      "1                   25                    67   0.9968  3.20       0.68   \n",
      "2                   15                    54   0.9970  3.26       0.65   \n",
      "3                   17                    60   0.9980  3.16       0.58   \n",
      "4                   11                    34   0.9978  3.51       0.56   \n",
      "\n",
      "   Alcohol  Quality  \n",
      "0      9.4        5  \n",
      "1      9.8        5  \n",
      "2      9.8        5  \n",
      "3      9.8        6  \n",
      "4      9.4        5  \n",
      "Fixed acidity           0\n",
      "Volatile Acidity        0\n",
      "Citric Acid             0\n",
      "Residual Sugar          0\n",
      "Chlorides               0\n",
      "Free Sulfur Dioxide     0\n",
      "Total Sulfur Dioxide    0\n",
      "Density                 0\n",
      "pH                      0\n",
      "Sulphates               0\n",
      "Alcohol                 0\n",
      "Quality                 0\n",
      "dtype: int64\n"
     ]
    }
   ],
   "source": [
    "# Load the data from the file winequality.csv. (2)\n",
    "df = pd.read_csv(\"Winequality.csv\")\n",
    "print(df.head())\n",
    "print(df.isnull().sum()) \n",
    "# No null values, no need for data wrangling for null values"
   ]
  },
  {
   "cell_type": "code",
   "execution_count": 3,
   "metadata": {},
   "outputs": [
    {
     "name": "stdout",
     "output_type": "stream",
     "text": [
      "      Fixed acidity  Volatile Acidity  Citric Acid  Residual Sugar  Chlorides  \\\n",
      "0               7.4             0.700         0.00             1.9      0.076   \n",
      "1               7.8             0.880         0.00             2.6      0.098   \n",
      "2               7.8             0.760         0.04             2.3      0.092   \n",
      "3              11.2             0.280         0.56             1.9      0.075   \n",
      "4               7.4             0.700         0.00             1.9      0.076   \n",
      "...             ...               ...          ...             ...        ...   \n",
      "1594            6.2             0.600         0.08             2.0      0.090   \n",
      "1595            5.9             0.550         0.10             2.2      0.062   \n",
      "1596            6.3             0.510         0.13             2.3      0.076   \n",
      "1597            5.9             0.645         0.12             2.0      0.075   \n",
      "1598            6.0             0.310         0.47             3.6      0.067   \n",
      "\n",
      "      Free Sulfur Dioxide  Total Sulfur Dioxide  Density    pH  Sulphates  \\\n",
      "0                      11                    34  0.99780  3.51       0.56   \n",
      "1                      25                    67  0.99680  3.20       0.68   \n",
      "2                      15                    54  0.99700  3.26       0.65   \n",
      "3                      17                    60  0.99800  3.16       0.58   \n",
      "4                      11                    34  0.99780  3.51       0.56   \n",
      "...                   ...                   ...      ...   ...        ...   \n",
      "1594                   32                    44  0.99490  3.45       0.58   \n",
      "1595                   39                    51  0.99512  3.52       0.76   \n",
      "1596                   29                    40  0.99574  3.42       0.75   \n",
      "1597                   32                    44  0.99547  3.57       0.71   \n",
      "1598                   18                    42  0.99549  3.39       0.66   \n",
      "\n",
      "      Alcohol  \n",
      "0         9.4  \n",
      "1         9.8  \n",
      "2         9.8  \n",
      "3         9.8  \n",
      "4         9.4  \n",
      "...       ...  \n",
      "1594     10.5  \n",
      "1595     11.2  \n",
      "1596     11.0  \n",
      "1597     10.2  \n",
      "1598     11.0  \n",
      "\n",
      "[1599 rows x 11 columns]\n",
      "      Quality\n",
      "0           5\n",
      "1           5\n",
      "2           5\n",
      "3           6\n",
      "4           5\n",
      "...       ...\n",
      "1594        5\n",
      "1595        6\n",
      "1596        6\n",
      "1597        5\n",
      "1598        6\n",
      "\n",
      "[1599 rows x 1 columns]\n"
     ]
    }
   ],
   "source": [
    "# extracting descriptive features\n",
    "df_desc  = df.iloc[:,:-1]\n",
    "print(df_desc)\n",
    "# extracting target feature\n",
    "target_feature  = df.iloc[:,-1:]\n",
    "print(target_feature)"
   ]
  },
  {
   "cell_type": "code",
   "execution_count": 4,
   "metadata": {},
   "outputs": [
    {
     "data": {
      "text/html": [
       "<div>\n",
       "<style scoped>\n",
       "    .dataframe tbody tr th:only-of-type {\n",
       "        vertical-align: middle;\n",
       "    }\n",
       "\n",
       "    .dataframe tbody tr th {\n",
       "        vertical-align: top;\n",
       "    }\n",
       "\n",
       "    .dataframe thead th {\n",
       "        text-align: right;\n",
       "    }\n",
       "</style>\n",
       "<table border=\"1\" class=\"dataframe\">\n",
       "  <thead>\n",
       "    <tr style=\"text-align: right;\">\n",
       "      <th></th>\n",
       "      <th>Fixed acidity</th>\n",
       "      <th>Volatile Acidity</th>\n",
       "      <th>Citric Acid</th>\n",
       "      <th>Residual Sugar</th>\n",
       "      <th>Chlorides</th>\n",
       "      <th>Free Sulfur Dioxide</th>\n",
       "      <th>Total Sulfur Dioxide</th>\n",
       "      <th>Density</th>\n",
       "      <th>pH</th>\n",
       "      <th>Sulphates</th>\n",
       "      <th>Alcohol</th>\n",
       "    </tr>\n",
       "  </thead>\n",
       "  <tbody>\n",
       "    <tr>\n",
       "      <th>0</th>\n",
       "      <td>0.195153</td>\n",
       "      <td>0.018460</td>\n",
       "      <td>0.000000</td>\n",
       "      <td>0.050107</td>\n",
       "      <td>0.002004</td>\n",
       "      <td>0.290092</td>\n",
       "      <td>0.896647</td>\n",
       "      <td>0.026314</td>\n",
       "      <td>0.092566</td>\n",
       "      <td>0.014768</td>\n",
       "      <td>0.247896</td>\n",
       "    </tr>\n",
       "    <tr>\n",
       "      <th>1</th>\n",
       "      <td>0.107241</td>\n",
       "      <td>0.012099</td>\n",
       "      <td>0.000000</td>\n",
       "      <td>0.035747</td>\n",
       "      <td>0.001347</td>\n",
       "      <td>0.343722</td>\n",
       "      <td>0.921175</td>\n",
       "      <td>0.013705</td>\n",
       "      <td>0.043996</td>\n",
       "      <td>0.009349</td>\n",
       "      <td>0.134739</td>\n",
       "    </tr>\n",
       "    <tr>\n",
       "      <th>2</th>\n",
       "      <td>0.135457</td>\n",
       "      <td>0.013198</td>\n",
       "      <td>0.000695</td>\n",
       "      <td>0.039942</td>\n",
       "      <td>0.001598</td>\n",
       "      <td>0.260494</td>\n",
       "      <td>0.937777</td>\n",
       "      <td>0.017314</td>\n",
       "      <td>0.056614</td>\n",
       "      <td>0.011288</td>\n",
       "      <td>0.170189</td>\n",
       "    </tr>\n",
       "    <tr>\n",
       "      <th>3</th>\n",
       "      <td>0.174367</td>\n",
       "      <td>0.004359</td>\n",
       "      <td>0.008718</td>\n",
       "      <td>0.029580</td>\n",
       "      <td>0.001168</td>\n",
       "      <td>0.264664</td>\n",
       "      <td>0.934108</td>\n",
       "      <td>0.015537</td>\n",
       "      <td>0.049196</td>\n",
       "      <td>0.009030</td>\n",
       "      <td>0.152571</td>\n",
       "    </tr>\n",
       "    <tr>\n",
       "      <th>4</th>\n",
       "      <td>0.195153</td>\n",
       "      <td>0.018460</td>\n",
       "      <td>0.000000</td>\n",
       "      <td>0.050107</td>\n",
       "      <td>0.002004</td>\n",
       "      <td>0.290092</td>\n",
       "      <td>0.896647</td>\n",
       "      <td>0.026314</td>\n",
       "      <td>0.092566</td>\n",
       "      <td>0.014768</td>\n",
       "      <td>0.247896</td>\n",
       "    </tr>\n",
       "    <tr>\n",
       "      <th>...</th>\n",
       "      <td>...</td>\n",
       "      <td>...</td>\n",
       "      <td>...</td>\n",
       "      <td>...</td>\n",
       "      <td>...</td>\n",
       "      <td>...</td>\n",
       "      <td>...</td>\n",
       "      <td>...</td>\n",
       "      <td>...</td>\n",
       "      <td>...</td>\n",
       "      <td>...</td>\n",
       "    </tr>\n",
       "    <tr>\n",
       "      <th>1594</th>\n",
       "      <td>0.110886</td>\n",
       "      <td>0.010731</td>\n",
       "      <td>0.001431</td>\n",
       "      <td>0.035770</td>\n",
       "      <td>0.001610</td>\n",
       "      <td>0.572315</td>\n",
       "      <td>0.786933</td>\n",
       "      <td>0.017794</td>\n",
       "      <td>0.061703</td>\n",
       "      <td>0.010373</td>\n",
       "      <td>0.187791</td>\n",
       "    </tr>\n",
       "    <tr>\n",
       "      <th>1595</th>\n",
       "      <td>0.089960</td>\n",
       "      <td>0.008386</td>\n",
       "      <td>0.001525</td>\n",
       "      <td>0.033544</td>\n",
       "      <td>0.000945</td>\n",
       "      <td>0.594650</td>\n",
       "      <td>0.777619</td>\n",
       "      <td>0.015173</td>\n",
       "      <td>0.053671</td>\n",
       "      <td>0.011588</td>\n",
       "      <td>0.170771</td>\n",
       "    </tr>\n",
       "    <tr>\n",
       "      <th>1596</th>\n",
       "      <td>0.123069</td>\n",
       "      <td>0.009963</td>\n",
       "      <td>0.002540</td>\n",
       "      <td>0.044930</td>\n",
       "      <td>0.001485</td>\n",
       "      <td>0.566506</td>\n",
       "      <td>0.781388</td>\n",
       "      <td>0.019451</td>\n",
       "      <td>0.066809</td>\n",
       "      <td>0.014651</td>\n",
       "      <td>0.214882</td>\n",
       "    </tr>\n",
       "    <tr>\n",
       "      <th>1597</th>\n",
       "      <td>0.105669</td>\n",
       "      <td>0.011552</td>\n",
       "      <td>0.002149</td>\n",
       "      <td>0.035820</td>\n",
       "      <td>0.001343</td>\n",
       "      <td>0.573119</td>\n",
       "      <td>0.788039</td>\n",
       "      <td>0.017829</td>\n",
       "      <td>0.063939</td>\n",
       "      <td>0.012716</td>\n",
       "      <td>0.182682</td>\n",
       "    </tr>\n",
       "    <tr>\n",
       "      <th>1598</th>\n",
       "      <td>0.125899</td>\n",
       "      <td>0.006505</td>\n",
       "      <td>0.009862</td>\n",
       "      <td>0.075540</td>\n",
       "      <td>0.001406</td>\n",
       "      <td>0.377698</td>\n",
       "      <td>0.881296</td>\n",
       "      <td>0.020889</td>\n",
       "      <td>0.071133</td>\n",
       "      <td>0.013849</td>\n",
       "      <td>0.230816</td>\n",
       "    </tr>\n",
       "  </tbody>\n",
       "</table>\n",
       "<p>1599 rows × 11 columns</p>\n",
       "</div>"
      ],
      "text/plain": [
       "      Fixed acidity  Volatile Acidity  Citric Acid  Residual Sugar  Chlorides  \\\n",
       "0          0.195153          0.018460     0.000000        0.050107   0.002004   \n",
       "1          0.107241          0.012099     0.000000        0.035747   0.001347   \n",
       "2          0.135457          0.013198     0.000695        0.039942   0.001598   \n",
       "3          0.174367          0.004359     0.008718        0.029580   0.001168   \n",
       "4          0.195153          0.018460     0.000000        0.050107   0.002004   \n",
       "...             ...               ...          ...             ...        ...   \n",
       "1594       0.110886          0.010731     0.001431        0.035770   0.001610   \n",
       "1595       0.089960          0.008386     0.001525        0.033544   0.000945   \n",
       "1596       0.123069          0.009963     0.002540        0.044930   0.001485   \n",
       "1597       0.105669          0.011552     0.002149        0.035820   0.001343   \n",
       "1598       0.125899          0.006505     0.009862        0.075540   0.001406   \n",
       "\n",
       "      Free Sulfur Dioxide  Total Sulfur Dioxide   Density        pH  \\\n",
       "0                0.290092              0.896647  0.026314  0.092566   \n",
       "1                0.343722              0.921175  0.013705  0.043996   \n",
       "2                0.260494              0.937777  0.017314  0.056614   \n",
       "3                0.264664              0.934108  0.015537  0.049196   \n",
       "4                0.290092              0.896647  0.026314  0.092566   \n",
       "...                   ...                   ...       ...       ...   \n",
       "1594             0.572315              0.786933  0.017794  0.061703   \n",
       "1595             0.594650              0.777619  0.015173  0.053671   \n",
       "1596             0.566506              0.781388  0.019451  0.066809   \n",
       "1597             0.573119              0.788039  0.017829  0.063939   \n",
       "1598             0.377698              0.881296  0.020889  0.071133   \n",
       "\n",
       "      Sulphates   Alcohol  \n",
       "0      0.014768  0.247896  \n",
       "1      0.009349  0.134739  \n",
       "2      0.011288  0.170189  \n",
       "3      0.009030  0.152571  \n",
       "4      0.014768  0.247896  \n",
       "...         ...       ...  \n",
       "1594   0.010373  0.187791  \n",
       "1595   0.011588  0.170771  \n",
       "1596   0.014651  0.214882  \n",
       "1597   0.012716  0.182682  \n",
       "1598   0.013849  0.230816  \n",
       "\n",
       "[1599 rows x 11 columns]"
      ]
     },
     "execution_count": 4,
     "metadata": {},
     "output_type": "execute_result"
    }
   ],
   "source": [
    "# Standardize all variables other than Quality. (2)\n",
    "norm = Normalizer()\n",
    "descriptive_features = pd.DataFrame(norm.fit_transform(df_desc), columns=df_desc.columns)\n",
    "descriptive_features"
   ]
  },
  {
   "cell_type": "code",
   "execution_count": 5,
   "metadata": {},
   "outputs": [],
   "source": [
    "#Partition the dataset:\n",
    "\t#•\trandom_state = 42 (1)\n",
    "\t#•\tPartitions 60/20/20 (1)\n",
    "\t#•\tMake sure to stratify! (1)\n",
    "x, x_test, y, y_test = train_test_split(descriptive_features,target_feature,test_size=0.2,train_size=0.8,random_state=42,stratify=target_feature)\n",
    "x_train, x_cv, y_train, y_cv = train_test_split(x,y,test_size = 0.25,train_size =0.75,random_state=42,stratify=y)"
   ]
  },
  {
   "cell_type": "code",
   "execution_count": 6,
   "metadata": {},
   "outputs": [],
   "source": [
    "#print(x_train.shape,x_test.shape,x_cv.shape)"
   ]
  },
  {
   "cell_type": "code",
   "execution_count": 7,
   "metadata": {},
   "outputs": [
    {
     "name": "stdout",
     "output_type": "stream",
     "text": [
      "[0.565625, 0.509375, 0.4875, 0.49375, 0.534375, 0.5, 0.5125, 0.490625, 0.515625, 0.509375, 0.51875, 0.50625, 0.50625, 0.490625, 0.5, 0.48125, 0.503125, 0.48125, 0.48125, 0.4875, 0.48125, 0.465625, 0.478125, 0.4625, 0.49375, 0.490625, 0.49375, 0.49375, 0.5, 0.50625]\n"
     ]
    }
   ],
   "source": [
    "#Iterate on K ranging from 1 to 30.\n",
    "#\t•\tBuild a KNN classification model to predict Quality based on all the remaining numeric variables. (2)\n",
    "#\t•\tPlot the accuracy for both the Training and Validation datasets. (4)\n",
    "\n",
    "# Training set\n",
    "\n",
    "range = range(1, 31)\n",
    "score = []\n",
    "# looping through 1 - 30\n",
    "for k in range:\n",
    "    knn = KNeighborsClassifier(n_neighbors=k)\n",
    "    knn.fit(x_train, y_train)\n",
    "    y_pred = knn.predict(x_test)\n",
    "    score.append(metrics.accuracy_score(y_test, y_pred))\n",
    "print(score)"
   ]
  },
  {
   "cell_type": "code",
   "execution_count": 8,
   "metadata": {},
   "outputs": [
    {
     "data": {
      "text/plain": [
       "Text(0, 0.5, 'Accuracy of Testing')"
      ]
     },
     "execution_count": 8,
     "metadata": {},
     "output_type": "execute_result"
    },
    {
     "data": {
      "image/png": "[encoded data removed]",
      "text/plain": [
       "<Figure size 432x288 with 1 Axes>"
      ]
     },
     "metadata": {
      "needs_background": "light"
     },
     "output_type": "display_data"
    }
   ],
   "source": [
    "# plot the relationship between K and testing accuracy\n",
    "\n",
    "plt.plot(range, score)\n",
    "plt.xlabel('Value of K ')\n",
    "plt.ylabel('Accuracy of Testing')"
   ]
  },
  {
   "cell_type": "code",
   "execution_count": 9,
   "metadata": {},
   "outputs": [
    {
     "name": "stdout",
     "output_type": "stream",
     "text": [
      "[0.50625, 0.5, 0.4375, 0.471875, 0.4625, 0.465625, 0.45625, 0.4625, 0.475, 0.490625, 0.490625, 0.48125, 0.490625, 0.490625, 0.490625, 0.51875, 0.496875, 0.49375, 0.50625, 0.49375, 0.5125, 0.48125, 0.509375, 0.515625, 0.496875, 0.515625, 0.49375, 0.4875, 0.4875, 0.4875]\n"
     ]
    }
   ],
   "source": [
    "# Validation set\n",
    "del range\n",
    "range = range(1, 31)\n",
    "score2 = []\n",
    "# looping through 1 - 30\n",
    "for k in range:\n",
    "    knn2 = KNeighborsClassifier(n_neighbors=k)\n",
    "    knn2.fit(x_cv, y_cv)\n",
    "    y_pred2 = knn2.predict(x_test)\n",
    "    score2.append(metrics.accuracy_score(y_test, y_pred2))\n",
    "print(score2)"
   ]
  },
  {
   "cell_type": "code",
   "execution_count": 10,
   "metadata": {},
   "outputs": [
    {
     "data": {
      "text/plain": [
       "Text(0, 0.5, 'Accuracy Testing')"
      ]
     },
     "execution_count": 10,
     "metadata": {},
     "output_type": "execute_result"
    },
    {
     "data": {
      "image/png": "[encoded data removed]",
      "text/plain": [
       "<Figure size 432x288 with 1 Axes>"
      ]
     },
     "metadata": {
      "needs_background": "light"
     },
     "output_type": "display_data"
    }
   ],
   "source": [
    "# plot the relationship between K and testing accuracy\n",
    "\n",
    "plt.plot(range, score2)\n",
    "plt.xlabel('Value of K')\n",
    "plt.ylabel('Accuracy Testing')\n"
   ]
  },
  {
   "cell_type": "code",
   "execution_count": 11,
   "metadata": {},
   "outputs": [
    {
     "name": "stdout",
     "output_type": "stream",
     "text": [
      "Best value of k for Training set: 1\n",
      "Best value of k for Validation set: 16\n"
     ]
    }
   ],
   "source": [
    "# Which value of k produced the best accuracy in the Training and Validation data sets? (2)\n",
    "# Getting max value of score in training set\n",
    "max_value = max(score)\n",
    "max_index = score.index(max_value) +1\n",
    "print(\"Best value of k for Training set:\",max_index)\n",
    "\n",
    "# Getting max value of score in validation set\n",
    "max_value2 = max(score2)\n",
    "max_index2 = score2.index(max_value2) +1\n",
    "print(\"Best value of k for Validation set:\",max_index2)"
   ]
  },
  {
   "cell_type": "code",
   "execution_count": 12,
   "metadata": {},
   "outputs": [],
   "source": [
    "# Generate predictions for the test partition with the chosen value of k. \n",
    "# Plot the confusion matrix of the actual vs predicted wine quality. (4)\n",
    "\n",
    "knn3 = KNeighborsClassifier(n_neighbors=1)\n",
    "knn3.fit(x_train, y_train)\n",
    "y_pred3 = knn3.predict(x_test)\n",
    "score3 = metrics.accuracy_score(y_test, y_pred3)\n",
    "#score3\n"
   ]
  },
  {
   "cell_type": "code",
   "execution_count": 13,
   "metadata": {},
   "outputs": [
    {
     "data": {
      "text/plain": [
       "array([5, 6, 7, 4, 8, 3])"
      ]
     },
     "execution_count": 13,
     "metadata": {},
     "output_type": "execute_result"
    }
   ],
   "source": [
    "df.Quality.unique()"
   ]
  },
  {
   "cell_type": "code",
   "execution_count": 14,
   "metadata": {},
   "outputs": [
    {
     "name": "stdout",
     "output_type": "stream",
     "text": [
      "<sklearn.metrics._plot.confusion_matrix.ConfusionMatrixDisplay object at 0x7ff2a30da450>\n"
     ]
    },
    {
     "data": {
      "image/png": "[encoded data removed]",
      "text/plain": [
       "<Figure size 432x288 with 2 Axes>"
      ]
     },
     "metadata": {
      "needs_background": "light"
     },
     "output_type": "display_data"
    }
   ],
   "source": [
    "\n",
    "#Generate predictions for the test partition with the chosen value of k. \n",
    "#Plot the confusion matrix of the actual vs predicted wine quality. (4)\n",
    "cm = confusion_matrix(y_test, y_pred3)\n",
    "cmd = ConfusionMatrixDisplay(cm, display_labels=['3','4','5','6','7','8'])\n",
    "print(cmd.plot())"
   ]
  },
  {
   "cell_type": "code",
   "execution_count": 15,
   "metadata": {},
   "outputs": [
    {
     "name": "stdout",
     "output_type": "stream",
     "text": [
      "accuracy of model on the test dataset is :  56.56250000000001\n"
     ]
    }
   ],
   "source": [
    "acc_score = accuracy_score(y_test, y_pred3)\n",
    "print('accuracy of model on the test dataset is : ', acc_score *100 ) "
   ]
  },
  {
   "cell_type": "code",
   "execution_count": 16,
   "metadata": {},
   "outputs": [
    {
     "data": {
      "text/html": [
       "<div>\n",
       "<style scoped>\n",
       "    .dataframe tbody tr th:only-of-type {\n",
       "        vertical-align: middle;\n",
       "    }\n",
       "\n",
       "    .dataframe tbody tr th {\n",
       "        vertical-align: top;\n",
       "    }\n",
       "\n",
       "    .dataframe thead th {\n",
       "        text-align: right;\n",
       "    }\n",
       "</style>\n",
       "<table border=\"1\" class=\"dataframe\">\n",
       "  <thead>\n",
       "    <tr style=\"text-align: right;\">\n",
       "      <th></th>\n",
       "      <th>Quality</th>\n",
       "    </tr>\n",
       "  </thead>\n",
       "  <tbody>\n",
       "    <tr>\n",
       "      <th>963</th>\n",
       "      <td>6</td>\n",
       "    </tr>\n",
       "    <tr>\n",
       "      <th>475</th>\n",
       "      <td>5</td>\n",
       "    </tr>\n",
       "    <tr>\n",
       "      <th>1</th>\n",
       "      <td>5</td>\n",
       "    </tr>\n",
       "    <tr>\n",
       "      <th>329</th>\n",
       "      <td>5</td>\n",
       "    </tr>\n",
       "    <tr>\n",
       "      <th>149</th>\n",
       "      <td>6</td>\n",
       "    </tr>\n",
       "    <tr>\n",
       "      <th>...</th>\n",
       "      <td>...</td>\n",
       "    </tr>\n",
       "    <tr>\n",
       "      <th>1173</th>\n",
       "      <td>6</td>\n",
       "    </tr>\n",
       "    <tr>\n",
       "      <th>827</th>\n",
       "      <td>5</td>\n",
       "    </tr>\n",
       "    <tr>\n",
       "      <th>356</th>\n",
       "      <td>5</td>\n",
       "    </tr>\n",
       "    <tr>\n",
       "      <th>1287</th>\n",
       "      <td>5</td>\n",
       "    </tr>\n",
       "    <tr>\n",
       "      <th>789</th>\n",
       "      <td>5</td>\n",
       "    </tr>\n",
       "  </tbody>\n",
       "</table>\n",
       "<p>320 rows × 1 columns</p>\n",
       "</div>"
      ],
      "text/plain": [
       "      Quality\n",
       "963         6\n",
       "475         5\n",
       "1           5\n",
       "329         5\n",
       "149         6\n",
       "...       ...\n",
       "1173        6\n",
       "827         5\n",
       "356         5\n",
       "1287        5\n",
       "789         5\n",
       "\n",
       "[320 rows x 1 columns]"
      ]
     },
     "execution_count": 16,
     "metadata": {},
     "output_type": "execute_result"
    }
   ],
   "source": [
    "y_test"
   ]
  },
  {
   "cell_type": "code",
   "execution_count": 17,
   "metadata": {},
   "outputs": [],
   "source": [
    "y_test['Predicted Quality'] = y_pred3"
   ]
  },
  {
   "cell_type": "code",
   "execution_count": 18,
   "metadata": {},
   "outputs": [
    {
     "data": {
      "text/html": [
       "<div>\n",
       "<style scoped>\n",
       "    .dataframe tbody tr th:only-of-type {\n",
       "        vertical-align: middle;\n",
       "    }\n",
       "\n",
       "    .dataframe tbody tr th {\n",
       "        vertical-align: top;\n",
       "    }\n",
       "\n",
       "    .dataframe thead th {\n",
       "        text-align: right;\n",
       "    }\n",
       "</style>\n",
       "<table border=\"1\" class=\"dataframe\">\n",
       "  <thead>\n",
       "    <tr style=\"text-align: right;\">\n",
       "      <th></th>\n",
       "      <th>Quality</th>\n",
       "      <th>Predicted Quality</th>\n",
       "    </tr>\n",
       "  </thead>\n",
       "  <tbody>\n",
       "    <tr>\n",
       "      <th>963</th>\n",
       "      <td>6</td>\n",
       "      <td>6</td>\n",
       "    </tr>\n",
       "    <tr>\n",
       "      <th>475</th>\n",
       "      <td>5</td>\n",
       "      <td>6</td>\n",
       "    </tr>\n",
       "    <tr>\n",
       "      <th>1</th>\n",
       "      <td>5</td>\n",
       "      <td>5</td>\n",
       "    </tr>\n",
       "    <tr>\n",
       "      <th>329</th>\n",
       "      <td>5</td>\n",
       "      <td>6</td>\n",
       "    </tr>\n",
       "    <tr>\n",
       "      <th>149</th>\n",
       "      <td>6</td>\n",
       "      <td>6</td>\n",
       "    </tr>\n",
       "    <tr>\n",
       "      <th>...</th>\n",
       "      <td>...</td>\n",
       "      <td>...</td>\n",
       "    </tr>\n",
       "    <tr>\n",
       "      <th>1173</th>\n",
       "      <td>6</td>\n",
       "      <td>6</td>\n",
       "    </tr>\n",
       "    <tr>\n",
       "      <th>827</th>\n",
       "      <td>5</td>\n",
       "      <td>5</td>\n",
       "    </tr>\n",
       "    <tr>\n",
       "      <th>356</th>\n",
       "      <td>5</td>\n",
       "      <td>5</td>\n",
       "    </tr>\n",
       "    <tr>\n",
       "      <th>1287</th>\n",
       "      <td>5</td>\n",
       "      <td>6</td>\n",
       "    </tr>\n",
       "    <tr>\n",
       "      <th>789</th>\n",
       "      <td>5</td>\n",
       "      <td>5</td>\n",
       "    </tr>\n",
       "  </tbody>\n",
       "</table>\n",
       "<p>320 rows × 2 columns</p>\n",
       "</div>"
      ],
      "text/plain": [
       "      Quality  Predicted Quality\n",
       "963         6                  6\n",
       "475         5                  6\n",
       "1           5                  5\n",
       "329         5                  6\n",
       "149         6                  6\n",
       "...       ...                ...\n",
       "1173        6                  6\n",
       "827         5                  5\n",
       "356         5                  5\n",
       "1287        5                  6\n",
       "789         5                  5\n",
       "\n",
       "[320 rows x 2 columns]"
      ]
     },
     "execution_count": 18,
     "metadata": {},
     "output_type": "execute_result"
    }
   ],
   "source": [
    "y_test"
   ]
  },
  {
   "cell_type": "code",
   "execution_count": 19,
   "metadata": {},
   "outputs": [
    {
     "ename": "ValueError",
     "evalue": "Classification metrics can't handle a mix of multiclass-multioutput and binary targets",
     "output_type": "error",
     "traceback": [
      "\u001b[0;31m---------------------------------------------------------------------------\u001b[0m",
      "\u001b[0;31mValueError\u001b[0m                                Traceback (most recent call last)",
      "\u001b[0;32m/var/folders/dk/9q84mn0j1nzfg85t9zx5d1480000gn/T/ipykernel_69764/129591696.py\u001b[0m in \u001b[0;36m<module>\u001b[0;34m\u001b[0m\n\u001b[1;32m      7\u001b[0m     \u001b[0mknn2\u001b[0m\u001b[0;34m.\u001b[0m\u001b[0mfit\u001b[0m\u001b[0;34m(\u001b[0m\u001b[0mx_cv\u001b[0m\u001b[0;34m,\u001b[0m \u001b[0my_cv\u001b[0m\u001b[0;34m)\u001b[0m\u001b[0;34m\u001b[0m\u001b[0;34m\u001b[0m\u001b[0m\n\u001b[1;32m      8\u001b[0m     \u001b[0my_pred2\u001b[0m \u001b[0;34m=\u001b[0m \u001b[0mknn2\u001b[0m\u001b[0;34m.\u001b[0m\u001b[0mpredict\u001b[0m\u001b[0;34m(\u001b[0m\u001b[0mx_test\u001b[0m\u001b[0;34m)\u001b[0m\u001b[0;34m\u001b[0m\u001b[0;34m\u001b[0m\u001b[0m\n\u001b[0;32m----> 9\u001b[0;31m \u001b[0mscore2\u001b[0m\u001b[0;34m.\u001b[0m\u001b[0mappend\u001b[0m\u001b[0;34m(\u001b[0m\u001b[0mmetrics\u001b[0m\u001b[0;34m.\u001b[0m\u001b[0maccuracy_score\u001b[0m\u001b[0;34m(\u001b[0m\u001b[0my_test\u001b[0m\u001b[0;34m,\u001b[0m \u001b[0my_pred2\u001b[0m\u001b[0;34m)\u001b[0m\u001b[0;34m)\u001b[0m\u001b[0;34m\u001b[0m\u001b[0;34m\u001b[0m\u001b[0m\n\u001b[0m\u001b[1;32m     10\u001b[0m \u001b[0mprint\u001b[0m\u001b[0;34m(\u001b[0m\u001b[0mscore2\u001b[0m\u001b[0;34m)\u001b[0m\u001b[0;34m\u001b[0m\u001b[0;34m\u001b[0m\u001b[0m\n\u001b[1;32m     11\u001b[0m \u001b[0;31m# plot the relationship between K and testing accuracy\u001b[0m\u001b[0;34m\u001b[0m\u001b[0;34m\u001b[0m\u001b[0;34m\u001b[0m\u001b[0m\n",
      "\u001b[0;32m~/opt/anaconda3/envs/pythonProject/lib/python3.7/site-packages/sklearn/metrics/_classification.py\u001b[0m in \u001b[0;36maccuracy_score\u001b[0;34m(y_true, y_pred, normalize, sample_weight)\u001b[0m\n\u001b[1;32m    209\u001b[0m \u001b[0;34m\u001b[0m\u001b[0m\n\u001b[1;32m    210\u001b[0m     \u001b[0;31m# Compute accuracy for each possible representation\u001b[0m\u001b[0;34m\u001b[0m\u001b[0;34m\u001b[0m\u001b[0;34m\u001b[0m\u001b[0m\n\u001b[0;32m--> 211\u001b[0;31m     \u001b[0my_type\u001b[0m\u001b[0;34m,\u001b[0m \u001b[0my_true\u001b[0m\u001b[0;34m,\u001b[0m \u001b[0my_pred\u001b[0m \u001b[0;34m=\u001b[0m \u001b[0m_check_targets\u001b[0m\u001b[0;34m(\u001b[0m\u001b[0my_true\u001b[0m\u001b[0;34m,\u001b[0m \u001b[0my_pred\u001b[0m\u001b[0;34m)\u001b[0m\u001b[0;34m\u001b[0m\u001b[0;34m\u001b[0m\u001b[0m\n\u001b[0m\u001b[1;32m    212\u001b[0m     \u001b[0mcheck_consistent_length\u001b[0m\u001b[0;34m(\u001b[0m\u001b[0my_true\u001b[0m\u001b[0;34m,\u001b[0m \u001b[0my_pred\u001b[0m\u001b[0;34m,\u001b[0m \u001b[0msample_weight\u001b[0m\u001b[0;34m)\u001b[0m\u001b[0;34m\u001b[0m\u001b[0;34m\u001b[0m\u001b[0m\n\u001b[1;32m    213\u001b[0m     \u001b[0;32mif\u001b[0m \u001b[0my_type\u001b[0m\u001b[0;34m.\u001b[0m\u001b[0mstartswith\u001b[0m\u001b[0;34m(\u001b[0m\u001b[0;34m\"multilabel\"\u001b[0m\u001b[0;34m)\u001b[0m\u001b[0;34m:\u001b[0m\u001b[0;34m\u001b[0m\u001b[0;34m\u001b[0m\u001b[0m\n",
      "\u001b[0;32m~/opt/anaconda3/envs/pythonProject/lib/python3.7/site-packages/sklearn/metrics/_classification.py\u001b[0m in \u001b[0;36m_check_targets\u001b[0;34m(y_true, y_pred)\u001b[0m\n\u001b[1;32m     93\u001b[0m         raise ValueError(\n\u001b[1;32m     94\u001b[0m             \"Classification metrics can't handle a mix of {0} and {1} targets\".format(\n\u001b[0;32m---> 95\u001b[0;31m                 \u001b[0mtype_true\u001b[0m\u001b[0;34m,\u001b[0m \u001b[0mtype_pred\u001b[0m\u001b[0;34m\u001b[0m\u001b[0;34m\u001b[0m\u001b[0m\n\u001b[0m\u001b[1;32m     96\u001b[0m             )\n\u001b[1;32m     97\u001b[0m         )\n",
      "\u001b[0;31mValueError\u001b[0m: Classification metrics can't handle a mix of multiclass-multioutput and binary targets"
     ]
    }
   ],
   "source": [
    "del range\n",
    "ks2 = range(1, 31)\n",
    "score2 = []\n",
    "# looping through 1 - 30\n",
    "for k2 in ks2:\n",
    "    knn2 = KNeighborsClassifier(n_neighbors=k2)\n",
    "    knn2.fit(x_cv, y_cv)\n",
    "    y_pred2 = knn2.predict(x_test)\n",
    "score2.append(metrics.accuracy_score(y_test, y_pred2))\n",
    "print(score2)\n",
    "# plot the relationship between K and testing accuracy\n",
    "plt.plot(ks2, score2)\n",
    "plt.set_xlabel('Value of K')\n",
    "plt.set_ylabel('Accuracy Testing')\n"
   ]
  },
  {
   "cell_type": "code",
   "execution_count": 8,
   "metadata": {},
   "outputs": [
    {
     "ename": "NameError",
     "evalue": "name 'ks2' is not defined",
     "output_type": "error",
     "traceback": [
      "\u001b[0;31m---------------------------------------------------------------------------\u001b[0m",
      "\u001b[0;31mNameError\u001b[0m                                 Traceback (most recent call last)",
      "\u001b[0;32m/var/folders/dk/9q84mn0j1nzfg85t9zx5d1480000gn/T/ipykernel_69782/2396158254.py\u001b[0m in \u001b[0;36m<module>\u001b[0;34m\u001b[0m\n\u001b[0;32m----> 1\u001b[0;31m \u001b[0mks2\u001b[0m\u001b[0;34m\u001b[0m\u001b[0;34m\u001b[0m\u001b[0m\n\u001b[0m",
      "\u001b[0;31mNameError\u001b[0m: name 'ks2' is not defined"
     ]
    }
   ],
   "source": [
    "ks2"
   ]
  },
  {
   "cell_type": "code",
   "execution_count": 13,
   "metadata": {},
   "outputs": [
    {
     "name": "stdout",
     "output_type": "stream",
     "text": [
      "   Fixed acidity  Volatile Acidity  Citric Acid  Residual Sugar  Chlorides  \\\n",
      "0            7.4              0.70         0.00             1.9      0.076   \n",
      "1            7.8              0.88         0.00             2.6      0.098   \n",
      "2            7.8              0.76         0.04             2.3      0.092   \n",
      "3           11.2              0.28         0.56             1.9      0.075   \n",
      "4            7.4              0.70         0.00             1.9      0.076   \n",
      "\n",
      "   Free Sulfur Dioxide  Total Sulfur Dioxide  Density    pH  Sulphates  \\\n",
      "0                   11                    34   0.9978  3.51       0.56   \n",
      "1                   25                    67   0.9968  3.20       0.68   \n",
      "2                   15                    54   0.9970  3.26       0.65   \n",
      "3                   17                    60   0.9980  3.16       0.58   \n",
      "4                   11                    34   0.9978  3.51       0.56   \n",
      "\n",
      "   Alcohol  Quality  \n",
      "0      9.4        5  \n",
      "1      9.8        5  \n",
      "2      9.8        5  \n",
      "3      9.8        6  \n",
      "4      9.4        5  \n",
      "Fixed acidity           0\n",
      "Volatile Acidity        0\n",
      "Citric Acid             0\n",
      "Residual Sugar          0\n",
      "Chlorides               0\n",
      "Free Sulfur Dioxide     0\n",
      "Total Sulfur Dioxide    0\n",
      "Density                 0\n",
      "pH                      0\n",
      "Sulphates               0\n",
      "Alcohol                 0\n",
      "Quality                 0\n",
      "dtype: int64\n",
      "   Fixed acidity  Volatile Acidity  Citric Acid  Residual Sugar  Chlorides  \\\n",
      "0            7.4              0.70         0.00             1.9      0.076   \n",
      "1            7.8              0.88         0.00             2.6      0.098   \n",
      "2            7.8              0.76         0.04             2.3      0.092   \n",
      "3           11.2              0.28         0.56             1.9      0.075   \n",
      "4            7.4              0.70         0.00             1.9      0.076   \n",
      "\n",
      "   Free Sulfur Dioxide  Total Sulfur Dioxide  Density    pH  Sulphates  \\\n",
      "0                   11                    34   0.9978  3.51       0.56   \n",
      "1                   25                    67   0.9968  3.20       0.68   \n",
      "2                   15                    54   0.9970  3.26       0.65   \n",
      "3                   17                    60   0.9980  3.16       0.58   \n",
      "4                   11                    34   0.9978  3.51       0.56   \n",
      "\n",
      "   Alcohol  \n",
      "0      9.4  \n",
      "1      9.8  \n",
      "2      9.8  \n",
      "3      9.8  \n",
      "4      9.4  \n",
      "   Quality\n",
      "0        5\n",
      "1        5\n",
      "2        5\n",
      "3        6\n",
      "4        5\n",
      "[0.565625, 0.509375, 0.4875, 0.49375, 0.534375, 0.5, 0.5125, 0.490625, 0.515625, 0.509375, 0.51875, 0.50625, 0.50625, 0.490625, 0.5, 0.48125, 0.503125, 0.48125, 0.48125, 0.4875, 0.48125, 0.465625, 0.478125, 0.4625, 0.49375, 0.490625, 0.49375, 0.49375, 0.5, 0.50625]\n",
      "printing score 2  [0.50625, 0.5, 0.4375, 0.471875, 0.4625, 0.465625, 0.45625, 0.4625, 0.475, 0.490625, 0.490625, 0.48125, 0.490625, 0.490625, 0.490625, 0.51875, 0.496875, 0.49375, 0.50625, 0.49375, 0.5125, 0.48125, 0.509375, 0.515625, 0.496875, 0.515625, 0.49375, 0.4875, 0.4875, 0.4875]\n",
      "Best value of k for Training set: 1\n",
      "Best value of k for Validation set: 16\n",
      "<sklearn.metrics._plot.confusion_matrix.ConfusionMatrixDisplay object at 0x7fc05971ad10>\n",
      "accuracy of model on the test dataset is :  56.56250000000001\n",
      "     Quality  Predicted Quality\n",
      "963        6                  6\n",
      "475        5                  6\n",
      "1          5                  5\n",
      "329        5                  6\n",
      "149        6                  6\n"
     ]
    },
    {
     "data": {
      "image/png": "[encoded data removed]",
      "text/plain": [
       "<Figure size 432x288 with 1 Axes>"
      ]
     },
     "metadata": {
      "needs_background": "light"
     },
     "output_type": "display_data"
    },
    {
     "data": {
      "image/png": "[encoded data removed]",
      "text/plain": [
       "<Figure size 432x288 with 1 Axes>"
      ]
     },
     "metadata": {
      "needs_background": "light"
     },
     "output_type": "display_data"
    },
    {
     "data": {
      "image/png": "[encoded data removed]",
      "text/plain": [
       "<Figure size 432x288 with 2 Axes>"
      ]
     },
     "metadata": {
      "needs_background": "light"
     },
     "output_type": "display_data"
    }
   ],
   "source": [
    "import pandas as pd\n",
    "import matplotlib.pyplot as plt\n",
    "import numpy as np\n",
    "from sklearn.preprocessing import Normalizer\n",
    "from sklearn.model_selection import train_test_split\n",
    "from sklearn.neighbors import KNeighborsClassifier\n",
    "from sklearn import metrics\n",
    "from sklearn.metrics import accuracy_score\n",
    "from sklearn.metrics import confusion_matrix, ConfusionMatrixDisplay\n",
    "import warnings\n",
    "warnings.simplefilter(\"ignore\")\n",
    "\n",
    "\n",
    "# FIRST PART\n",
    "# CODE WILL NOT RUN. THIS IS JUST FOR REFERENCE\n",
    "\n",
    "def main():\n",
    "    # Load the data from the file winequality.csv. (2)\n",
    "    df = pd.read_csv(\"Winequality.csv\")\n",
    "    print(df.head())\n",
    "    print(df.isnull().sum()) \n",
    "    # No null values, no need for data wrangling for null values\n",
    "    # extracting descriptive features\n",
    "    df_desc  = df.iloc[:,:-1]\n",
    "    print(df_desc.head())\n",
    "    # extracting target feature\n",
    "    target_feature  = df.iloc[:,-1:]\n",
    "    print(target_feature.head())\n",
    "    # Standardize all variables other than Quality. (2)\n",
    "    norm = Normalizer()\n",
    "    descriptive_features = pd.DataFrame(norm.fit_transform(df_desc), columns=df_desc.columns)\n",
    "    descriptive_features.head()\n",
    "    #Partition the dataset:\n",
    "\t    #•\trandom_state = 42 (1)\n",
    "\t    #•\tPartitions 60/20/20 (1)\n",
    "\t    #•\tMake sure to stratify! (1)\n",
    "    x, x_test, y, y_test = train_test_split(descriptive_features,target_feature,test_size=0.2,train_size=0.8,random_state=42,stratify=target_feature)\n",
    "    x_train, x_cv, y_train, y_cv = train_test_split(x,y,test_size = 0.25,train_size =0.75,random_state=42,stratify=y)\n",
    "    #print(x_train.shape,x_test.shape,x_cv.shape)\n",
    "    #Iterate on K ranging from 1 to 30.\n",
    "    #\t•\tBuild a KNN classification model to predict Quality based on all the remaining numeric variables. (2)\n",
    "    #\t•\tPlot the accuracy for both the Training and Validation datasets. (4)\n",
    "\n",
    "\n",
    "    # Training set\n",
    "    ks = list(np.arange(1,30+1))\n",
    "    score = []\n",
    "    # looping through 1 - 30\n",
    "    for k in ks:\n",
    "        knn = KNeighborsClassifier(n_neighbors=k)\n",
    "        knn.fit(x_train, y_train)\n",
    "        y_pred = knn.predict(x_test)\n",
    "        score.append(metrics.accuracy_score(y_test, y_pred))\n",
    "    print(score)\n",
    "    # plot the relationship between K and testing accuracy\n",
    "    plt.figure(1)\n",
    "    plt.plot(ks, score)\n",
    "    plt.xlabel('Value of K ')\n",
    "    plt.ylabel('Accuracy of Testing')\n",
    "\n",
    "    # Validation set\n",
    "    ks2 = ks\n",
    "    score2 = []\n",
    "    # looping through 1 - 30\n",
    "    for k2 in ks2:\n",
    "        knn2 = KNeighborsClassifier(n_neighbors=k2)\n",
    "        knn2.fit(x_cv, y_cv)\n",
    "        y_pred2 = knn2.predict(x_test)\n",
    "        score2.append(metrics.accuracy_score(y_test, y_pred2))\n",
    "    print('printing score 2 ',score2)\n",
    "    # plot the relationship between K and testing accuracy\n",
    "    \n",
    "    plt.figure(2)\n",
    "    plt.plot(ks2, score2)\n",
    "    plt.xlabel('Value of K')\n",
    "    plt.ylabel('Accuracy Testing')\n",
    "\n",
    "    # Which value of k produced the best accuracy in the Training and Validation data sets? (2)\n",
    "    # Getting max value of score in training set\n",
    "    max_value = max(score)\n",
    "    max_index = score.index(max_value) +1\n",
    "    print(\"Best value of k for Training set:\",max_index)\n",
    "\n",
    "    # Getting max value of score in validation set\n",
    "    max_value2 = max(score2)\n",
    "    max_index2 = score2.index(max_value2) +1\n",
    "    print(\"Best value of k for Validation set:\",max_index2)\n",
    "    # Generate predictions for the test partition with the chosen value of k. \n",
    "    # Plot the confusion matrix of the actual vs predicted wine quality. (4)\n",
    "\n",
    "    knn3 = KNeighborsClassifier(n_neighbors=1)\n",
    "    knn3.fit(x_train, y_train)\n",
    "    y_pred3 = knn3.predict(x_test)\n",
    "    score3 = metrics.accuracy_score(y_test, y_pred3)\n",
    "    #score3\n",
    "\n",
    "    # df.Quality.unique()\n",
    "\n",
    "    #Generate predictions for the test partition with the chosen value of k. \n",
    "    #Plot the confusion matrix of the actual vs predicted wine quality. (4)\n",
    "    cm = confusion_matrix(y_test, y_pred3)\n",
    "    cmd = ConfusionMatrixDisplay(cm, display_labels=['3','4','5','6','7','8'])\n",
    "    print(cmd.plot())\n",
    "    acc_score = accuracy_score(y_test, y_pred3)\n",
    "    print('accuracy of model on the test dataset is : ', acc_score *100 )\n",
    "    y_test['Predicted Quality'] = y_pred3 \n",
    "    print(y_test.head())\n",
    "\n",
    "\n",
    "if __name__ == '__main__':\n",
    "    main()\n"
   ]
  }
 ],
 "metadata": {
  "interpreter": {
   "hash": "f293f16398db128e85df277de8eb5f9ab0a1b28857fa0f1c8543245825f1b931"
  },
  "kernelspec": {
   "display_name": "Python 3.7.7 ('pythonProject')",
   "language": "python",
   "name": "python3"
  },
  "language_info": {
   "codemirror_mode": {
    "name": "ipython",
    "version": 3
   },
   "file_extension": ".py",
   "mimetype": "text/x-python",
   "name": "python",
   "nbconvert_exporter": "python",
   "pygments_lexer": "ipython3",
   "version": "3.7.7"
  },
  "orig_nbformat": 4
 },
 "nbformat": 4,
 "nbformat_minor": 2
}
