{
 "cells": [
  {
   "cell_type": "code",
   "execution_count": 1,
   "id": "9da9673e",
   "metadata": {
    "id": "9da9673e"
   },
   "outputs": [],
   "source": [
    "#import statement:\n",
    "\n",
    "import pandas as pd \n",
    "import matplotlib\n",
    "import matplotlib.pyplot as plt\n",
    "import seaborn as sns\n"
   ]
  },
  {
   "cell_type": "code",
   "execution_count": 22,
   "id": "dd64cc4c",
   "metadata": {
    "colab": {
     "base_uri": "https://localhost:8080/"
    },
    "id": "dd64cc4c",
    "outputId": "8f9ffdca-1e91-417a-d925-fedfa8675e92"
   },
   "outputs": [
    {
     "data": {
      "text/html": [
       "<div>\n",
       "<style scoped>\n",
       "    .dataframe tbody tr th:only-of-type {\n",
       "        vertical-align: middle;\n",
       "    }\n",
       "\n",
       "    .dataframe tbody tr th {\n",
       "        vertical-align: top;\n",
       "    }\n",
       "\n",
       "    .dataframe thead th {\n",
       "        text-align: right;\n",
       "    }\n",
       "</style>\n",
       "<table border=\"1\" class=\"dataframe\">\n",
       "  <thead>\n",
       "    <tr style=\"text-align: right;\">\n",
       "      <th></th>\n",
       "      <th>suite</th>\n",
       "      <th>name</th>\n",
       "      <th>links</th>\n",
       "      <th>topic</th>\n",
       "      <th>description</th>\n",
       "      <th>total_codeLines</th>\n",
       "      <th>PL</th>\n",
       "      <th>fortranLines</th>\n",
       "      <th>cLines</th>\n",
       "      <th>cppLines</th>\n",
       "      <th>...</th>\n",
       "      <th>OpenCL</th>\n",
       "      <th>dd</th>\n",
       "      <th>loc_dd</th>\n",
       "      <th>proc_sch</th>\n",
       "      <th>loc_sch</th>\n",
       "      <th>storage</th>\n",
       "      <th>v</th>\n",
       "      <th>rd1</th>\n",
       "      <th>nv</th>\n",
       "      <th>rd2</th>\n",
       "    </tr>\n",
       "  </thead>\n",
       "  <tbody>\n",
       "    <tr>\n",
       "      <th>0</th>\n",
       "      <td>Chatterbug</td>\n",
       "      <td>chatterbug</td>\n",
       "      <td>https://github.com/hpcgroup/chatterbug</td>\n",
       "      <td>Mimic of Communication Patterns</td>\n",
       "      <td>A suite of communication-intensive proxy appli...</td>\n",
       "      <td>1056</td>\n",
       "      <td>C++</td>\n",
       "      <td>0</td>\n",
       "      <td>0</td>\n",
       "      <td>1056</td>\n",
       "      <td>...</td>\n",
       "      <td>no</td>\n",
       "      <td>replicated</td>\n",
       "      <td>?</td>\n",
       "      <td>static</td>\n",
       "      <td>unstr-mesh.c[86-94]</td>\n",
       "      <td>0.156</td>\n",
       "      <td>1.0</td>\n",
       "      <td>-</td>\n",
       "      <td>no</td>\n",
       "      <td>-</td>\n",
       "    </tr>\n",
       "    <tr>\n",
       "      <th>1</th>\n",
       "      <td>CORAL-2</td>\n",
       "      <td>Kripke</td>\n",
       "      <td>https://github.com/LLNL/Kripke</td>\n",
       "      <td>MD</td>\n",
       "      <td>Kripke is a simple, scalable, 3D Sn determinis...</td>\n",
       "      <td>5350</td>\n",
       "      <td>C++</td>\n",
       "      <td>0</td>\n",
       "      <td>0</td>\n",
       "      <td>2471</td>\n",
       "      <td>...</td>\n",
       "      <td>no</td>\n",
       "      <td>distributed</td>\n",
       "      <td>PartionSpace.cpp[75-123]</td>\n",
       "      <td>static</td>\n",
       "      <td>PartitionSpace.cpp</td>\n",
       "      <td>0.420</td>\n",
       "      <td>1.2.4</td>\n",
       "      <td>6/14/2019</td>\n",
       "      <td>no</td>\n",
       "      <td>-</td>\n",
       "    </tr>\n",
       "    <tr>\n",
       "      <th>2</th>\n",
       "      <td>CORAL-2</td>\n",
       "      <td>TeaLeaf is a mini-app that solves the linear h...</td>\n",
       "      <td>https://github.com/CEED/Laghos</td>\n",
       "      <td>SPH: Gas dynamics</td>\n",
       "      <td>Laghos (LAGrangian High-Order Solver) is a min...</td>\n",
       "      <td>8230</td>\n",
       "      <td>C++</td>\n",
       "      <td>0</td>\n",
       "      <td>0</td>\n",
       "      <td>7494</td>\n",
       "      <td>...</td>\n",
       "      <td>no</td>\n",
       "      <td>replicated</td>\n",
       "      <td>?</td>\n",
       "      <td>dynamic</td>\n",
       "      <td>Loadbalance.f90[</td>\n",
       "      <td>0.928</td>\n",
       "      <td>3.1</td>\n",
       "      <td>4/10/2021</td>\n",
       "      <td>no</td>\n",
       "      <td>-</td>\n",
       "    </tr>\n",
       "    <tr>\n",
       "      <th>3</th>\n",
       "      <td>ExaGraph</td>\n",
       "      <td>miniVite</td>\n",
       "      <td>https://github.com/Exa-Graph/miniVite</td>\n",
       "      <td>Community Detection - Louvain method</td>\n",
       "      <td>miniVite is a proxy app that implements a sing...</td>\n",
       "      <td>2429</td>\n",
       "      <td>C++</td>\n",
       "      <td>0</td>\n",
       "      <td>0</td>\n",
       "      <td>195</td>\n",
       "      <td>...</td>\n",
       "      <td>no</td>\n",
       "      <td>distributed</td>\n",
       "      <td>graph.hpp [367-377]</td>\n",
       "      <td>dynamic</td>\n",
       "      <td>graph.hpp [from 980 onwards?]</td>\n",
       "      <td>0.148</td>\n",
       "      <td>1.2</td>\n",
       "      <td>4/10/2021</td>\n",
       "      <td>no</td>\n",
       "      <td>-</td>\n",
       "    </tr>\n",
       "    <tr>\n",
       "      <th>4</th>\n",
       "      <td>ExMatEx</td>\n",
       "      <td>ASPA-master</td>\n",
       "      <td>https://github.com/exmatex/ASPA/tree/master/doc</td>\n",
       "      <td>Adaptive Sampling</td>\n",
       "      <td>The purpose of ASPA (Adaptive Sampling Proxy A...</td>\n",
       "      <td>29119</td>\n",
       "      <td>C++</td>\n",
       "      <td>0</td>\n",
       "      <td>0</td>\n",
       "      <td>12956</td>\n",
       "      <td>...</td>\n",
       "      <td>no</td>\n",
       "      <td>replicated</td>\n",
       "      <td>MPI.cc</td>\n",
       "      <td>static</td>\n",
       "      <td>MPI.cc</td>\n",
       "      <td>5.500</td>\n",
       "      <td>master</td>\n",
       "      <td>1/23/2014</td>\n",
       "      <td>no</td>\n",
       "      <td>-</td>\n",
       "    </tr>\n",
       "  </tbody>\n",
       "</table>\n",
       "<p>5 rows × 25 columns</p>\n",
       "</div>"
      ],
      "text/plain": [
       "        suite                                               name  \\\n",
       "0  Chatterbug                                         chatterbug   \n",
       "1     CORAL-2                                             Kripke   \n",
       "2     CORAL-2  TeaLeaf is a mini-app that solves the linear h...   \n",
       "3    ExaGraph                                           miniVite   \n",
       "4     ExMatEx                                        ASPA-master   \n",
       "\n",
       "                                             links  \\\n",
       "0           https://github.com/hpcgroup/chatterbug   \n",
       "1                   https://github.com/LLNL/Kripke   \n",
       "2                   https://github.com/CEED/Laghos   \n",
       "3            https://github.com/Exa-Graph/miniVite   \n",
       "4  https://github.com/exmatex/ASPA/tree/master/doc   \n",
       "\n",
       "                                  topic  \\\n",
       "0       Mimic of Communication Patterns   \n",
       "1                                    MD   \n",
       "2                     SPH: Gas dynamics   \n",
       "3  Community Detection - Louvain method   \n",
       "4                     Adaptive Sampling   \n",
       "\n",
       "                                         description  total_codeLines   PL  \\\n",
       "0  A suite of communication-intensive proxy appli...             1056  C++   \n",
       "1  Kripke is a simple, scalable, 3D Sn determinis...             5350  C++   \n",
       "2  Laghos (LAGrangian High-Order Solver) is a min...             8230  C++   \n",
       "3  miniVite is a proxy app that implements a sing...             2429  C++   \n",
       "4  The purpose of ASPA (Adaptive Sampling Proxy A...            29119  C++   \n",
       "\n",
       "   fortranLines  cLines  cppLines  ...  OpenCL           dd  \\\n",
       "0             0       0      1056  ...      no   replicated   \n",
       "1             0       0      2471  ...      no  distributed   \n",
       "2             0       0      7494  ...      no   replicated   \n",
       "3             0       0       195  ...      no  distributed   \n",
       "4             0       0     12956  ...      no   replicated   \n",
       "\n",
       "                     loc_dd proc_sch                        loc_sch storage  \\\n",
       "0                         ?   static            unstr-mesh.c[86-94]   0.156   \n",
       "1  PartionSpace.cpp[75-123]   static             PartitionSpace.cpp   0.420   \n",
       "2                         ?  dynamic               Loadbalance.f90[   0.928   \n",
       "3       graph.hpp [367-377]  dynamic  graph.hpp [from 980 onwards?]   0.148   \n",
       "4                    MPI.cc   static                         MPI.cc   5.500   \n",
       "\n",
       "        v        rd1  nv rd2  \n",
       "0     1.0          -  no   -  \n",
       "1   1.2.4  6/14/2019  no   -  \n",
       "2     3.1  4/10/2021  no   -  \n",
       "3     1.2  4/10/2021  no   -  \n",
       "4  master  1/23/2014  no   -  \n",
       "\n",
       "[5 rows x 25 columns]"
      ]
     },
     "execution_count": 22,
     "metadata": {},
     "output_type": "execute_result"
    }
   ],
   "source": [
    "\n",
    "# reading csv files\n",
    "df = pd.read_csv('Applications.csv')\n",
    "df.head()"
   ]
  },
  {
   "cell_type": "markdown",
   "metadata": {},
   "source": [
    "## Removing rows with dirty data in rd1."
   ]
  },
  {
   "cell_type": "code",
   "execution_count": 42,
   "metadata": {},
   "outputs": [],
   "source": [
    "df = df[df.rd1.notnull()]\n",
    "df = df[df.rd1 != '-']\n",
    "df = df[df.rd1 != '2017']"
   ]
  },
  {
   "cell_type": "code",
   "execution_count": 54,
   "metadata": {},
   "outputs": [
    {
     "data": {
      "text/plain": [
       "((37, 25),\n",
       " array(['6/14/2019', '4/10/2021', '1/23/2014', '10/31/2014', '7/18/2018',\n",
       "        '11/23/2021', '11/22/2017', '10/24/2017', '7/6/2016', '4/18/2018',\n",
       "        '10/2/2018', '8/31/2019', '7/19/2018', '7/31/2018', '8/19/2019',\n",
       "        '9/5/2018', '8/6/2020', '4/26/2021', '10/13/2020', '7/22/2020',\n",
       "        '7/20/2020', '01/26/2022', '4/21/2022', '3/14/2018', '3/16/2007',\n",
       "        '4/11/2007', '2/2/2007', '1/17/2005', '2/5/2007', '2/6/2007',\n",
       "        '9/3/2009', '4/20/2009', '6/2/2015'], dtype=object))"
      ]
     },
     "execution_count": 54,
     "metadata": {},
     "output_type": "execute_result"
    }
   ],
   "source": [
    "df.shape,df.rd1.unique()"
   ]
  },
  {
   "cell_type": "markdown",
   "metadata": {},
   "source": [
    "## Correcting 'dd' column values"
   ]
  },
  {
   "cell_type": "code",
   "execution_count": 55,
   "metadata": {},
   "outputs": [],
   "source": [
    "df = df[df.dd.notnull()]\n",
    "df['dd']=df['dd'].replace(['-'],'no')\n",
    "df = df[df.dd != '?']\n",
    "df = df[df.dd != 'centralized?']\n",
    "df['dd']=df['dd'].replace(['Replicated'],'replicated')\n",
    "df['dd']=df['dd'].replace(['distributed cubic mesh'],'distributed')\n",
    "df['dd']=df['dd'].replace(['replicated?'],'replicated')"
   ]
  },
  {
   "cell_type": "code",
   "execution_count": 56,
   "metadata": {},
   "outputs": [
    {
     "data": {
      "text/plain": [
       "((37, 25), array(['distributed', 'replicated', 'no'], dtype=object))"
      ]
     },
     "execution_count": 56,
     "metadata": {},
     "output_type": "execute_result"
    }
   ],
   "source": [
    "df.shape, df.dd.unique()"
   ]
  },
  {
   "cell_type": "markdown",
   "metadata": {},
   "source": [
    "## Correcting 'Topic' column values"
   ]
  },
  {
   "cell_type": "code",
   "execution_count": 28,
   "metadata": {},
   "outputs": [],
   "source": [
    "df['topic']=df['topic'].replace(['Artificial Intelligence '],'AI')\n",
    "df['topic']=df['topic'].replace(['AI: Deep Learning'],'AI')\n",
    "df['topic']=df['topic'].replace(['MD: Method of Characteristics'],'MD')\n",
    "df['topic']=df['topic'].replace(['MD: Visualization'],'MD')\n",
    "df['topic']=df['topic'].replace(['MD: NeuroScience Simulations'],'MD')\n",
    "df['topic']=df['topic'].replace(['SPH: Gas dynamics'],'SPH')\n",
    "df['topic']=df['topic'].replace(['SPH: Astrophysics'],'SPH')\n",
    "df['topic']=df['topic'].replace(['SPH: Atmospheric and Ocean physics'],'SPH')\n",
    "df['topic']=df['topic'].replace(['SPH: Geodynamics'],'SPH')\n",
    "df['topic']=df['topic'].replace(['CFD-DEM framework'],'CFD')\n",
    "df['topic']=df['topic'].replace(['Partial Differential equations'],'PDE')\n",
    "df['topic']=df['topic'].replace(['PDE - Navier Stokes'],'PDE')\n",
    "df['topic']=df['topic'].replace(['PDE - Stencil Calculation'],'PDE')\n",
    "\n",
    "\n"
   ]
  },
  {
   "cell_type": "code",
   "execution_count": 29,
   "metadata": {},
   "outputs": [
    {
     "data": {
      "text/plain": [
       "array(['Mimic of Communication Patterns', 'MD', 'SPH',\n",
       "       'Community Detection - Louvain method', 'Adaptive Sampling', 'CFD',\n",
       "       'PDE', 'Finite Element', 'Triangle Enumeration',\n",
       "       'Linear Circuit Simulator', 'I/O componentization ', 'MC',\n",
       "       'Structured Adaptive Mesh Refinement',\n",
       "       'Logic programming language', 'Tensor Factorization',\n",
       "       'Equation Radiative Transfer', 'Package of Scientific Problem',\n",
       "       'Time-Depnedent Density Functional Theory', 'GPU Clusters',\n",
       "       'Linear Algebra', 'AI', 'Mesh generation', 'Metagenomic Assembler',\n",
       "       'Template library for MPI',\n",
       "       'Speckle Reducing Anisotropic Diffusion',\n",
       "       'Heterogenerous Computing', 'Perl interpreter',\n",
       "       'Biomedical Imaging', 'Ray tracing',\n",
       "       'Discrete Event simulation - computer network',\n",
       "       'XML to HTML conversion via XSLT',\n",
       "       'Games: Sudoku Puzzle Generator',\n",
       "       'Physics: Quantum Chronodynamics',\n",
       "       'Graphics: Parallel Ray Tracing', '3D Eulerian Hydrodynamics',\n",
       "       'CEM', 'Linear heat conduction equation'], dtype=object)"
      ]
     },
     "execution_count": 29,
     "metadata": {},
     "output_type": "execute_result"
    }
   ],
   "source": [
    "topics = df['topic']\n",
    "topics.unique()"
   ]
  },
  {
   "cell_type": "code",
   "execution_count": 31,
   "metadata": {},
   "outputs": [
    {
     "data": {
      "image/png": "[encoded data removed]",
      "text/plain": [
       "<Figure size 864x576 with 1 Axes>"
      ]
     },
     "metadata": {
      "needs_background": "light"
     },
     "output_type": "display_data"
    }
   ],
   "source": [
    "# Control figure size for this notebook:\n",
    "plt.rcParams['figure.figsize'] = [12, 8]\n",
    "\n",
    " \n",
    "# use the scatterplot function to build the bubble map\n",
    "sns.scatterplot(data=df, y=\"topic\", x=\"PL\", size=\"total_codeLines\", legend=False, sizes=(20, 2000))\n",
    "\n",
    "# show the graph\n",
    "plt.show()"
   ]
  }
 ],
 "metadata": {
  "interpreter": {
   "hash": "f293f16398db128e85df277de8eb5f9ab0a1b28857fa0f1c8543245825f1b931"
  },
  "kernelspec": {
   "display_name": "Python 3.7.7 ('pythonProject')",
   "language": "python",
   "name": "python3"
  },
  "language_info": {
   "codemirror_mode": {
    "name": "ipython",
    "version": 3
   },
   "file_extension": ".py",
   "mimetype": "text/x-python",
   "name": "python",
   "nbconvert_exporter": "python",
   "pygments_lexer": "ipython3",
   "version": "3.7.7"
  },
  "orig_nbformat": 4
 },
 "nbformat": 4,
 "nbformat_minor": 2
}
