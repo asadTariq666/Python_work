{
 "cells": [
  {
   "cell_type": "markdown",
   "metadata": {},
   "source": [
    "# Assignment 1\n",
    "## Part1\n",
    "The volume of a sphere is 4/3πr3, where π has the value of \"pi\" given in Section 2.1 of your textbook. Write a function called print_volume (r) that takes an argument for the radius of the sphere, and prints the volume of the sphere.\n",
    "\n",
    "Call your print_volume function three times with different values for radius.\n",
    "\n",
    "Include all of the following in your Learning Journal:\n",
    "\n",
    "The code for your print_volume function.\n",
    "The inputs and outputs to three calls of your print_volume."
   ]
  },
  {
   "cell_type": "code",
   "execution_count": 6,
   "metadata": {},
   "outputs": [
    {
     "name": "stdout",
     "output_type": "stream",
     "text": [
      "Volume of sphere with radius 2 is:  33.510321638291124\n",
      "Volume of sphere with radius 10 is:  4188.790204786391\n",
      "Volume of sphere with radius 15 is:  14137.166941154068\n"
     ]
    }
   ],
   "source": [
    "# Defining the function\n",
    "def print_volume(r): \n",
    "    # initializing value of pi\n",
    "    pi = 3.1415926535897932\n",
    "    #calculating volume of sphere\n",
    "    volume = 4/3 * pi * r**3\n",
    "    #printing volume of sphere\n",
    "    print('Volume of sphere with radius',r,'is: ',volume) \n",
    "\n",
    "# Function calls with 3 different radius.\n",
    "print_volume(2) #radius = 2\n",
    "print_volume(10) #radius = 10\n",
    "print_volume(15) #radius = 15\n",
    " "
   ]
  }
 ],
 "metadata": {
  "interpreter": {
   "hash": "f293f16398db128e85df277de8eb5f9ab0a1b28857fa0f1c8543245825f1b931"
  },
  "kernelspec": {
   "display_name": "Python 3.7.7 ('pythonProject')",
   "language": "python",
   "name": "python3"
  },
  "language_info": {
   "codemirror_mode": {
    "name": "ipython",
    "version": 3
   },
   "file_extension": ".py",
   "mimetype": "text/x-python",
   "name": "python",
   "nbconvert_exporter": "python",
   "pygments_lexer": "ipython3",
   "version": "3.7.7"
  },
  "orig_nbformat": 4
 },
 "nbformat": 4,
 "nbformat_minor": 2
}
