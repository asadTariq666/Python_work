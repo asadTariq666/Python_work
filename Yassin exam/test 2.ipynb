{
 "cells": [
  {
   "cell_type": "markdown",
   "id": "709ad911",
   "metadata": {},
   "source": [
    "The objective of this test is to predict, using regression models, the price of a home based on relevant variables representing different architectural, geographic and neighborhood characteristics.\n",
    "\n",
    "The dataset used contains many attributes allowing to describe 1460 dwellings according to several characteristics as well as a target variable: \"SalePrice\" containing the selling price of the property in question.\n",
    "\n",
    "\n",
    "The data set is to be read in the \"train.csv\" file."
   ]
  },
  {
   "cell_type": "markdown",
   "id": "871b74c0",
   "metadata": {},
   "source": [
    "(a) Exécuter la cellule suivante pour importer les packages nécessaire pour la suite de l'exercice"
   ]
  },
  {
   "cell_type": "code",
   "execution_count": 1,
   "id": "9babae0f",
   "metadata": {},
   "outputs": [],
   "source": [
    "import numpy as np\n",
    "import pandas as pd\n",
    "from sklearn import preprocessing\n",
    "from sklearn.model_selection import train_test_split\n",
    "from sklearn.model_selection import cross_val_score\n",
    "from sklearn.model_selection import cross_validate\n",
    "from sklearn.metrics import mean_squared_error\n",
    "from sklearn.linear_model import Ridge, LassoCV\n",
    "import seaborn as sns\n",
    "import matplotlib.pyplot as plt\n",
    "%matplotlib inline"
   ]
  },
  {
   "cell_type": "markdown",
   "id": "3edd84cf",
   "metadata": {},
   "source": [
    "((b) Read the \"train.csv\" file into a Dataframe called hp."
   ]
  },
  {
   "cell_type": "markdown",
   "id": "8226941b",
   "metadata": {},
   "source": []
  },
  {
   "cell_type": "markdown",
   "id": "4d5a92d9",
   "metadata": {},
   "source": [
    "(c) Replace, for each numerical variable, the missing values ​​by the median of the variable."
   ]
  },
  {
   "cell_type": "code",
   "execution_count": null,
   "id": "af008cf9",
   "metadata": {},
   "outputs": [],
   "source": []
  },
  {
   "cell_type": "markdown",
   "id": "9cf702b2",
   "metadata": {},
   "source": [
    "(d) Scale and scale the numeric variables of the Dataframe, using an instance of the preprocessing.StandardScaler class."
   ]
  },
  {
   "cell_type": "code",
   "execution_count": null,
   "id": "6a9d21f5",
   "metadata": {},
   "outputs": [],
   "source": []
  },
  {
   "cell_type": "markdown",
   "id": "d75cd62c",
   "metadata": {},
   "source": [
    "(e) Transform each categorical variable into indicator variables."
   ]
  },
  {
   "cell_type": "code",
   "execution_count": null,
   "id": "6ac6d3bb",
   "metadata": {},
   "outputs": [],
   "source": []
  },
  {
   "cell_type": "markdown",
   "id": "8bffda81",
   "metadata": {},
   "source": [
    "(f) Separate the target variable 'SalePrice' into target and the rest of the variables into feats.\n",
    "\n"
   ]
  },
  {
   "cell_type": "code",
   "execution_count": null,
   "id": "1b282d14",
   "metadata": {},
   "outputs": [],
   "source": []
  },
  {
   "cell_type": "markdown",
   "id": "c19e4309",
   "metadata": {},
   "source": [
    "(g) Separate the data into a training set (X_train, y_train) and a test set (X_test, y_test), with 20% of the original data for the test.\n",
    "\n",
    "\n"
   ]
  },
  {
   "cell_type": "code",
   "execution_count": null,
   "id": "cef8ddc5",
   "metadata": {},
   "outputs": [],
   "source": []
  },
  {
   "cell_type": "markdown",
   "id": "3362e072",
   "metadata": {},
   "source": [
    "(h) Create a scoring_cv function, which calculates for a given model, the average absolute value obtained by 7-sample cross-validation, using the cross_val_score function of sklearn.model_selection.\n",
    "\n",
    "The scoring argument of the cross_val_score()function allows to choose the metric we want to use.\n",
    "\n",
    "The metric \"neg_mean_absolute_error\" returns the negative mean absolute error.\n"
   ]
  },
  {
   "cell_type": "code",
   "execution_count": null,
   "id": "f8a30189",
   "metadata": {},
   "outputs": [],
   "source": []
  },
  {
   "cell_type": "markdown",
   "id": "b1c082aa",
   "metadata": {},
   "source": [
    "\n",
    "(i) Create an alphas vector containing the values [0.01, 0.05, 0.1, 0.3, 0.8, 1, 5, 10, 15, 20, 35, 50].\n"
   ]
  },
  {
   "cell_type": "code",
   "execution_count": null,
   "id": "d1270b1a",
   "metadata": {},
   "outputs": [],
   "source": []
  },
  {
   "cell_type": "markdown",
   "id": "1e0d9031",
   "metadata": {},
   "source": [
    "\n",
    "(j) Display in a graph, the MAE returned by the scoring_cv function applied to a Ridge regression model for each α belonging to alphas.\n",
    "\n"
   ]
  },
  {
   "cell_type": "code",
   "execution_count": null,
   "id": "67e67f1b",
   "metadata": {},
   "outputs": [],
   "source": []
  },
  {
   "cell_type": "markdown",
   "id": "3537b7d8",
   "metadata": {},
   "source": [
    "\n",
    "(k) From the displayed graph, create a performing Ridge regression model.\n",
    "\n"
   ]
  },
  {
   "cell_type": "code",
   "execution_count": null,
   "id": "4890d63d",
   "metadata": {},
   "outputs": [],
   "source": []
  },
  {
   "cell_type": "markdown",
   "id": "c42cd66c",
   "metadata": {},
   "source": [
    "(l) Compute the root mean square error of this model on X_test and X_train. Is there any overfitting?\n",
    "\n"
   ]
  },
  {
   "cell_type": "code",
   "execution_count": null,
   "id": "f38af008",
   "metadata": {},
   "outputs": [],
   "source": []
  },
  {
   "cell_type": "markdown",
   "id": "6c0907a5",
   "metadata": {},
   "source": [
    "(m) Create a Lasso regression model that chooses the parameter αα from [10, 1, 0.1, 0.001,0.04, 0.0005] by cross-validation, using the LassoCV function.\n"
   ]
  },
  {
   "cell_type": "code",
   "execution_count": null,
   "id": "fe5ca9f6",
   "metadata": {},
   "outputs": [],
   "source": []
  },
  {
   "cell_type": "code",
   "execution_count": null,
   "metadata": {},
   "outputs": [],
   "source": []
  },
  {
   "cell_type": "code",
   "execution_count": null,
   "id": "4a4f3309",
   "metadata": {},
   "outputs": [],
   "source": []
  },
  {
   "cell_type": "markdown",
   "id": "8241f5ad",
   "metadata": {},
   "source": [
    "\n",
    "(n) Display the performance of the model on the test sample.\n",
    "\n"
   ]
  },
  {
   "cell_type": "code",
   "execution_count": null,
   "id": "638c881f",
   "metadata": {},
   "outputs": [],
   "source": []
  },
  {
   "cell_type": "markdown",
   "id": "ff464f7b",
   "metadata": {},
   "source": [
    "(o) From the coefficients returned by the Lasso regression model, display the number of variables kept and the number of variables eliminated by the model.\n"
   ]
  },
  {
   "cell_type": "code",
   "execution_count": null,
   "id": "cd02096f",
   "metadata": {},
   "outputs": [],
   "source": []
  },
  {
   "cell_type": "markdown",
   "id": "0b7ccec6",
   "metadata": {},
   "source": [
    "\n",
    "(p) Display the 20 most important variables in the model, relative to the calculated coefficients.\n",
    "\n",
    "The key argument of the sort_values()function allows to sort the coefficients in absolute value by specifying key = abs.\n",
    "\n"
   ]
  },
  {
   "cell_type": "code",
   "execution_count": null,
   "id": "4ce9bcb5",
   "metadata": {},
   "outputs": [],
   "source": []
  },
  {
   "cell_type": "markdown",
   "id": "08528d22",
   "metadata": {},
   "source": []
  },
  {
   "cell_type": "code",
   "execution_count": null,
   "id": "eb6eac1e",
   "metadata": {},
   "outputs": [],
   "source": []
  }
 ],
 "metadata": {
  "kernelspec": {
   "display_name": "Python 3 (ipykernel)",
   "language": "python",
   "name": "python3"
  },
  "language_info": {
   "codemirror_mode": {
    "name": "ipython",
    "version": 3
   },
   "file_extension": ".py",
   "mimetype": "text/x-python",
   "name": "python",
   "nbconvert_exporter": "python",
   "pygments_lexer": "ipython3",
   "version": "3.9.7"
  }
 },
 "nbformat": 4,
 "nbformat_minor": 5
}
