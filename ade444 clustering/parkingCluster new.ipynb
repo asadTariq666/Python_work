{
 "cells": [
  {
   "cell_type": "markdown",
   "metadata": {},
   "source": [
    "# Clustering\n",
    "\n",
    "- In this Notebook, Clustering has been applied to the dataset for parking penalties in London.\n",
    "  \n",
    "- The clustering techniques that are used are \n",
    "  - K-Means\n",
    "  - K-Modes\n",
    "  - K Prototype\n",
    "\n",
    "The dataset has 7 default features and 1 newly added feature for date to divide the dates in to quarters. \n",
    "\n",
    " ### Columns             \n",
    "\n",
    " 0   Make                 \n",
    " 1   Colour            \n",
    " 2   Issue Time           \n",
    " 3   Contravention Code  \n",
    " 4   Location             \n",
    " 5   PA_Details          \n",
    " 6   Issue Date    \n",
    "\n",
    "\n",
    " All these features are in string format. In the below segments, we would separate Numerical features from categorical features and apply clustering techniques on subsets of data. \n",
    "\n",
    "  - K-Means\n",
    "  \n",
    "            For Numerical feature - ***Issue Time*** we will apply K-Means algorithm to find potential groups on the basis of similarities in the feature\n",
    "\n",
    "\n",
    "  - K-Modes\n",
    "  \n",
    "            For Categorical features - ***Make,\tColour,\tLocation, Issue Date, Contravention Code and PA_Details*** we will apply K-Modes algorithm to find potential groups on the basis of similarities between these features. As K-means only work for Numerical features. \n",
    "\n",
    "\n",
    "\n",
    "  - K Prototype\n",
    "\n",
    "            To analyse the whole dataset, we will use K-Prototype algorithm. K-Prototype is used when the dataset has both categorical and Numerical features, that we have in our dataset."
   ]
  },
  {
   "cell_type": "markdown",
   "metadata": {},
   "source": [
    "### Importing Libraries"
   ]
  },
  {
   "cell_type": "code",
   "execution_count": 65,
   "metadata": {},
   "outputs": [],
   "source": [
    "# Importing Libraries\n",
    "import pandas as pd \n",
    "import numpy as np\n",
    "import seaborn as sns\n",
    "import matplotlib.pyplot as plt\n",
    "import warnings\n",
    "from sklearn import metrics\n",
    "warnings.simplefilter(\"ignore\")\n"
   ]
  },
  {
   "cell_type": "markdown",
   "metadata": {},
   "source": [
    "### Loading Dataset"
   ]
  },
  {
   "cell_type": "code",
   "execution_count": 66,
   "metadata": {},
   "outputs": [
    {
     "data": {
      "text/plain": [
       "(380639, 8)"
      ]
     },
     "execution_count": 66,
     "metadata": {},
     "output_type": "execute_result"
    }
   ],
   "source": [
    "## Load Dataset\n",
    "df = pd.read_csv('Project Parking.csv')\n",
    "df.shape\n"
   ]
  },
  {
   "cell_type": "code",
   "execution_count": 67,
   "metadata": {},
   "outputs": [
    {
     "data": {
      "text/html": [
       "<div>\n",
       "<style scoped>\n",
       "    .dataframe tbody tr th:only-of-type {\n",
       "        vertical-align: middle;\n",
       "    }\n",
       "\n",
       "    .dataframe tbody tr th {\n",
       "        vertical-align: top;\n",
       "    }\n",
       "\n",
       "    .dataframe thead th {\n",
       "        text-align: right;\n",
       "    }\n",
       "</style>\n",
       "<table border=\"1\" class=\"dataframe\">\n",
       "  <thead>\n",
       "    <tr style=\"text-align: right;\">\n",
       "      <th></th>\n",
       "      <th>Make</th>\n",
       "      <th>Colour</th>\n",
       "      <th>Issue Time</th>\n",
       "      <th>Contravention Code</th>\n",
       "      <th>Location</th>\n",
       "      <th>PA_Details</th>\n",
       "      <th>Issue Date</th>\n",
       "      <th>Issue Time Decimal</th>\n",
       "    </tr>\n",
       "  </thead>\n",
       "  <tbody>\n",
       "    <tr>\n",
       "      <th>0</th>\n",
       "      <td>0</td>\n",
       "      <td>NaN</td>\n",
       "      <td>0:15</td>\n",
       "      <td>1</td>\n",
       "      <td>North Crescent</td>\n",
       "      <td>1485</td>\n",
       "      <td>2019-01-01</td>\n",
       "      <td>0.25</td>\n",
       "    </tr>\n",
       "    <tr>\n",
       "      <th>1</th>\n",
       "      <td>0</td>\n",
       "      <td>NaN</td>\n",
       "      <td>0:19</td>\n",
       "      <td>16</td>\n",
       "      <td>Anne Street</td>\n",
       "      <td>1456</td>\n",
       "      <td>2019-01-01</td>\n",
       "      <td>0.32</td>\n",
       "    </tr>\n",
       "    <tr>\n",
       "      <th>2</th>\n",
       "      <td>0</td>\n",
       "      <td>NaN</td>\n",
       "      <td>0:19</td>\n",
       "      <td>25</td>\n",
       "      <td>Celebration Avenue</td>\n",
       "      <td>1252</td>\n",
       "      <td>2019-01-01</td>\n",
       "      <td>0.32</td>\n",
       "    </tr>\n",
       "    <tr>\n",
       "      <th>3</th>\n",
       "      <td>0</td>\n",
       "      <td>NaN</td>\n",
       "      <td>0:20</td>\n",
       "      <td>01o</td>\n",
       "      <td>Honour Lea Avenue</td>\n",
       "      <td>1313</td>\n",
       "      <td>2019-01-01</td>\n",
       "      <td>0.33</td>\n",
       "    </tr>\n",
       "    <tr>\n",
       "      <th>4</th>\n",
       "      <td>0</td>\n",
       "      <td>NaN</td>\n",
       "      <td>0:22</td>\n",
       "      <td>62</td>\n",
       "      <td>Warton Road</td>\n",
       "      <td>1456</td>\n",
       "      <td>2019-01-01</td>\n",
       "      <td>0.37</td>\n",
       "    </tr>\n",
       "  </tbody>\n",
       "</table>\n",
       "</div>"
      ],
      "text/plain": [
       "  Make Colour Issue Time Contravention Code            Location PA_Details  \\\n",
       "0    0    NaN       0:15                  1      North Crescent       1485   \n",
       "1    0    NaN       0:19                 16         Anne Street       1456   \n",
       "2    0    NaN       0:19                 25  Celebration Avenue       1252   \n",
       "3    0    NaN       0:20                01o   Honour Lea Avenue       1313   \n",
       "4    0    NaN       0:22                 62         Warton Road       1456   \n",
       "\n",
       "   Issue Date  Issue Time Decimal  \n",
       "0  2019-01-01                0.25  \n",
       "1  2019-01-01                0.32  \n",
       "2  2019-01-01                0.32  \n",
       "3  2019-01-01                0.33  \n",
       "4  2019-01-01                0.37  "
      ]
     },
     "execution_count": 67,
     "metadata": {},
     "output_type": "execute_result"
    }
   ],
   "source": [
    "df.head()"
   ]
  },
  {
   "cell_type": "markdown",
   "metadata": {},
   "source": [
    "## Data Preprocessing\n",
    "\n",
    "As the data is not in correct format, we will clean the data by removing unwanted and test records. Also date has been changed to correct format and Numerical features are also converted from strings to numerical format. \n",
    "\n"
   ]
  },
  {
   "cell_type": "markdown",
   "metadata": {},
   "source": [
    "### Dates\n",
    "- Dates have been divided into quarters manually for better clustering results."
   ]
  },
  {
   "cell_type": "code",
   "execution_count": 68,
   "metadata": {},
   "outputs": [],
   "source": [
    "# Applying the condition\n",
    "df['Issue Date'].loc[df['Issue Date'].str.contains('2019-01')] = 'Q1'\n",
    "df['Issue Date'].loc[df['Issue Date'].str.contains('2019-02')] = 'Q1'\n",
    "df['Issue Date'].loc[df['Issue Date'].str.contains('2019-03')] = 'Q1'\n",
    "df['Issue Date'].loc[df['Issue Date'].str.contains('2019-04')] = 'Q2'\n",
    "df['Issue Date'].loc[df['Issue Date'].str.contains('2019-05')] = 'Q2'\n",
    "df['Issue Date'].loc[df['Issue Date'].str.contains('2019-06')] = 'Q2'\n",
    "df['Issue Date'].loc[df['Issue Date'].str.contains('2019-07')] = 'Q3'\n",
    "df['Issue Date'].loc[df['Issue Date'].str.contains('2019-08')] = 'Q3'\n",
    "df['Issue Date'].loc[df['Issue Date'].str.contains('2019-09')] = 'Q3'\n",
    "df['Issue Date'].loc[df['Issue Date'].str.contains('2019-10')] = 'Q4'\n",
    "df['Issue Date'].loc[df['Issue Date'].str.contains('2019-11')] = 'Q4'\n",
    "df['Issue Date'].loc[df['Issue Date'].str.contains('2019-12')] = 'Q4'\n",
    "\n",
    "df['Issue Date'].loc[df['Issue Date'].str.contains('2020-01')] = 'Q5'\n",
    "df['Issue Date'].loc[df['Issue Date'].str.contains('2020-02')] = 'Q5'\n",
    "df['Issue Date'].loc[df['Issue Date'].str.contains('2020-03')] = 'Q5'\n",
    "df['Issue Date'].loc[df['Issue Date'].str.contains('2020-04')] = 'Q6'\n",
    "df['Issue Date'].loc[df['Issue Date'].str.contains('2020-05')] = 'Q6'\n",
    "df['Issue Date'].loc[df['Issue Date'].str.contains('2020-06')] = 'Q6'\n",
    "df['Issue Date'].loc[df['Issue Date'].str.contains('2020-07')] = 'Q7'\n",
    "df['Issue Date'].loc[df['Issue Date'].str.contains('2020-08')] = 'Q7'\n",
    "df['Issue Date'].loc[df['Issue Date'].str.contains('2020-09')] = 'Q7'\n",
    "df['Issue Date'].loc[df['Issue Date'].str.contains('2020-10')] = 'Q8'\n",
    "df['Issue Date'].loc[df['Issue Date'].str.contains('2020-11')] = 'Q8'\n",
    "df['Issue Date'].loc[df['Issue Date'].str.contains('2020-12')] = 'Q8'\n",
    "\n",
    "df['Issue Date'].loc[df['Issue Date'].str.contains('2021-01')] = 'Q9'\n",
    "df['Issue Date'].loc[df['Issue Date'].str.contains('2021-02')] = 'Q9'\n",
    "df['Issue Date'].loc[df['Issue Date'].str.contains('2021-03')] = 'Q9'\n",
    "df['Issue Date'].loc[df['Issue Date'].str.contains('2021-04')] = 'Q10'\n",
    "df['Issue Date'].loc[df['Issue Date'].str.contains('2021-05')] = 'Q10'\n",
    "df['Issue Date'].loc[df['Issue Date'].str.contains('2021-06')] = 'Q10'\n",
    "df['Issue Date'].loc[df['Issue Date'].str.contains('2021-07')] = 'Q11'\n",
    "df['Issue Date'].loc[df['Issue Date'].str.contains('2021-08')] = 'Q11'\n",
    "df['Issue Date'].loc[df['Issue Date'].str.contains('2021-09')] = 'Q11'\n",
    "df['Issue Date'].loc[df['Issue Date'].str.contains('2021-10')] = 'Q12'\n",
    "df['Issue Date'].loc[df['Issue Date'].str.contains('2021-11')] = 'Q12'\n",
    "df['Issue Date'].loc[df['Issue Date'].str.contains('2021-12')] = 'Q12'"
   ]
  },
  {
   "cell_type": "code",
   "execution_count": 69,
   "metadata": {},
   "outputs": [
    {
     "data": {
      "text/plain": [
       "array(['Q1', 'Q2', 'Q3', 'Q4', 'Q5', 'Q6', 'Q7', 'Q8', 'Q9', 'Q10', 'Q11',\n",
       "       'Q12'], dtype=object)"
      ]
     },
     "execution_count": 69,
     "metadata": {},
     "output_type": "execute_result"
    }
   ],
   "source": [
    "df['Issue Date'].unique()"
   ]
  },
  {
   "cell_type": "markdown",
   "metadata": {},
   "source": [
    "### Issue Time\n",
    "- Time has been converted in to a decimal format to deal it as a Numeric Feature. \n",
    "  \n",
    "#### Steps of conversion in the excel file: \n",
    "1. Multiplied the time with 60\n",
    "2. Change format from time to Number\n",
    "\n",
    "\n",
    "12:15 = 12.25\n",
    "\n",
    "19:30 = 19.5\n",
    "\n",
    "01:45 = 01.75"
   ]
  },
  {
   "cell_type": "code",
   "execution_count": 70,
   "metadata": {},
   "outputs": [
    {
     "data": {
      "text/plain": [
       "0          0.25\n",
       "1          0.32\n",
       "2          0.32\n",
       "3          0.33\n",
       "4          0.37\n",
       "          ...  \n",
       "380634    15.52\n",
       "380635    16.42\n",
       "380636    16.50\n",
       "380637    17.07\n",
       "380638    17.13\n",
       "Name: Issue Time Decimal, Length: 380639, dtype: float64"
      ]
     },
     "execution_count": 70,
     "metadata": {},
     "output_type": "execute_result"
    }
   ],
   "source": [
    "df['Issue Time Decimal']\n"
   ]
  },
  {
   "cell_type": "code",
   "execution_count": 71,
   "metadata": {},
   "outputs": [
    {
     "data": {
      "text/html": [
       "<div>\n",
       "<style scoped>\n",
       "    .dataframe tbody tr th:only-of-type {\n",
       "        vertical-align: middle;\n",
       "    }\n",
       "\n",
       "    .dataframe tbody tr th {\n",
       "        vertical-align: top;\n",
       "    }\n",
       "\n",
       "    .dataframe thead th {\n",
       "        text-align: right;\n",
       "    }\n",
       "</style>\n",
       "<table border=\"1\" class=\"dataframe\">\n",
       "  <thead>\n",
       "    <tr style=\"text-align: right;\">\n",
       "      <th></th>\n",
       "      <th>Make</th>\n",
       "      <th>Colour</th>\n",
       "      <th>Issue Time</th>\n",
       "      <th>Contravention Code</th>\n",
       "      <th>Location</th>\n",
       "      <th>PA_Details</th>\n",
       "      <th>Issue Date</th>\n",
       "      <th>Issue Time Decimal</th>\n",
       "    </tr>\n",
       "  </thead>\n",
       "  <tbody>\n",
       "    <tr>\n",
       "      <th>0</th>\n",
       "      <td>0</td>\n",
       "      <td>NaN</td>\n",
       "      <td>0:15</td>\n",
       "      <td>1</td>\n",
       "      <td>North Crescent</td>\n",
       "      <td>1485</td>\n",
       "      <td>Q1</td>\n",
       "      <td>0.25</td>\n",
       "    </tr>\n",
       "    <tr>\n",
       "      <th>1</th>\n",
       "      <td>0</td>\n",
       "      <td>NaN</td>\n",
       "      <td>0:19</td>\n",
       "      <td>16</td>\n",
       "      <td>Anne Street</td>\n",
       "      <td>1456</td>\n",
       "      <td>Q1</td>\n",
       "      <td>0.32</td>\n",
       "    </tr>\n",
       "    <tr>\n",
       "      <th>2</th>\n",
       "      <td>0</td>\n",
       "      <td>NaN</td>\n",
       "      <td>0:19</td>\n",
       "      <td>25</td>\n",
       "      <td>Celebration Avenue</td>\n",
       "      <td>1252</td>\n",
       "      <td>Q1</td>\n",
       "      <td>0.32</td>\n",
       "    </tr>\n",
       "    <tr>\n",
       "      <th>3</th>\n",
       "      <td>0</td>\n",
       "      <td>NaN</td>\n",
       "      <td>0:20</td>\n",
       "      <td>01o</td>\n",
       "      <td>Honour Lea Avenue</td>\n",
       "      <td>1313</td>\n",
       "      <td>Q1</td>\n",
       "      <td>0.33</td>\n",
       "    </tr>\n",
       "    <tr>\n",
       "      <th>4</th>\n",
       "      <td>0</td>\n",
       "      <td>NaN</td>\n",
       "      <td>0:22</td>\n",
       "      <td>62</td>\n",
       "      <td>Warton Road</td>\n",
       "      <td>1456</td>\n",
       "      <td>Q1</td>\n",
       "      <td>0.37</td>\n",
       "    </tr>\n",
       "  </tbody>\n",
       "</table>\n",
       "</div>"
      ],
      "text/plain": [
       "  Make Colour Issue Time Contravention Code            Location PA_Details  \\\n",
       "0    0    NaN       0:15                  1      North Crescent       1485   \n",
       "1    0    NaN       0:19                 16         Anne Street       1456   \n",
       "2    0    NaN       0:19                 25  Celebration Avenue       1252   \n",
       "3    0    NaN       0:20                01o   Honour Lea Avenue       1313   \n",
       "4    0    NaN       0:22                 62         Warton Road       1456   \n",
       "\n",
       "  Issue Date  Issue Time Decimal  \n",
       "0         Q1                0.25  \n",
       "1         Q1                0.32  \n",
       "2         Q1                0.32  \n",
       "3         Q1                0.33  \n",
       "4         Q1                0.37  "
      ]
     },
     "execution_count": 71,
     "metadata": {},
     "output_type": "execute_result"
    }
   ],
   "source": [
    "df.head()"
   ]
  },
  {
   "cell_type": "markdown",
   "metadata": {},
   "source": [
    "### Contravention Code"
   ]
  },
  {
   "cell_type": "code",
   "execution_count": 72,
   "metadata": {},
   "outputs": [
    {
     "data": {
      "text/plain": [
       "(136,)"
      ]
     },
     "execution_count": 72,
     "metadata": {},
     "output_type": "execute_result"
    }
   ],
   "source": [
    "df['Contravention Code'].unique().shape"
   ]
  },
  {
   "cell_type": "code",
   "execution_count": 73,
   "metadata": {},
   "outputs": [
    {
     "data": {
      "text/plain": [
       "array(['1', '16', '25', '01o', '62', '40', '165', '99', '14', 'W23',\n",
       "       'W01', 'W61', 'W63', '21', '12', '19', '01a', '6', '27', '11u',\n",
       "       '30', '54', '26', '73u', '82u)', '01o)', '2', '83', '73', '165)',\n",
       "       '45', '11u)', '47', '80', '92', '87', '28', '48', '5', 'W12', '91',\n",
       "       '62g', '82', '23g', '86', 'W02', '05u', '23c', '11', '85', '82u',\n",
       "       '95', '8', '35', 'W62', '22', '10', '62g)', '80u', 'W27', 'W87',\n",
       "       '61', 'W21', '71', 'W26', 'W11', '81', 'W06', '49', '23', '20',\n",
       "       'W57', 'W19', 'W45', 'W47', '55', 'W01A', 'W25', 'W20', 'W93',\n",
       "       '24', 'W24', '43', '70', '23r', 'W41', 'W04', '9', 'W16', 'W05',\n",
       "       'W30', 'W92', '61g)', 'W48', 'W14', 'W73', 'W91', 'W31', 'W49',\n",
       "       '96', '56', 'W95', 'W46', '23s', 'W40', 'W99', '18', '4', '63',\n",
       "       'W82', 'W22', '73u)', 'W89', '61g', 'W09', 'W83', 'W08', '23e',\n",
       "       '164', 'W35', '23d', '93', 'W70', 'W55', 'W56', '7', '89', '232',\n",
       "       '23p', '5u)', 'W42', 'W10', '36', 'W54', '57', 'W90'], dtype=object)"
      ]
     },
     "execution_count": 73,
     "metadata": {},
     "output_type": "execute_result"
    }
   ],
   "source": [
    "df['Contravention Code'].unique()"
   ]
  },
  {
   "cell_type": "markdown",
   "metadata": {},
   "source": [
    "- Dropping Contravention codes which contains 'W'"
   ]
  },
  {
   "cell_type": "code",
   "execution_count": 74,
   "metadata": {},
   "outputs": [],
   "source": [
    "df = df[~df['Contravention Code'].str.contains('W')]"
   ]
  },
  {
   "cell_type": "code",
   "execution_count": 75,
   "metadata": {},
   "outputs": [
    {
     "data": {
      "text/plain": [
       "array(['1', '16', '25', '01o', '62', '40', '165', '99', '14', '21', '12',\n",
       "       '19', '01a', '6', '27', '11u', '30', '54', '26', '73u', '82u)',\n",
       "       '01o)', '2', '83', '73', '165)', '45', '11u)', '47', '80', '92',\n",
       "       '87', '28', '48', '5', '91', '62g', '82', '23g', '86', '05u',\n",
       "       '23c', '11', '85', '82u', '95', '8', '35', '22', '10', '62g)',\n",
       "       '80u', '61', '71', '81', '49', '23', '20', '55', '24', '43', '70',\n",
       "       '23r', '9', '61g)', '96', '56', '23s', '18', '4', '63', '73u)',\n",
       "       '61g', '23e', '164', '23d', '93', '7', '89', '232', '23p', '5u)',\n",
       "       '36', '57'], dtype=object)"
      ]
     },
     "execution_count": 75,
     "metadata": {},
     "output_type": "execute_result"
    }
   ],
   "source": [
    "# df['Contravention Code']=df['Contravention Code'].str.replace(\"u\",\"\")\n",
    "# df['Contravention Code']=df['Contravention Code'].str.replace(\"g\",\"\")\n",
    "# df['Contravention Code']=df['Contravention Code'].str.replace(\"a\",\"\")\n",
    "# df['Contravention Code']=df['Contravention Code'].str.replace(\"c\",\"\")\n",
    "# df['Contravention Code']=df['Contravention Code'].str.replace(\"o\",\"\")\n",
    "# df['Contravention Code']=df['Contravention Code'].str.replace(\")\",\"\")\n",
    "# df['Contravention Code']=df['Contravention Code'].str.replace(\"d\",\"\")\n",
    "# df['Contravention Code']=df['Contravention Code'].str.replace(\"p\",\"\")\n",
    "# df['Contravention Code']=df['Contravention Code'].str.replace(\"e\",\"\")\n",
    "# df['Contravention Code']=df['Contravention Code'].str.replace(\"s\",\"\")\n",
    "# df['Contravention Code']=df['Contravention Code'].str.replace(\"r\",\"\")\n",
    "df['Contravention Code'].unique()"
   ]
  },
  {
   "cell_type": "code",
   "execution_count": 76,
   "metadata": {},
   "outputs": [
    {
     "data": {
      "text/html": [
       "<div>\n",
       "<style scoped>\n",
       "    .dataframe tbody tr th:only-of-type {\n",
       "        vertical-align: middle;\n",
       "    }\n",
       "\n",
       "    .dataframe tbody tr th {\n",
       "        vertical-align: top;\n",
       "    }\n",
       "\n",
       "    .dataframe thead th {\n",
       "        text-align: right;\n",
       "    }\n",
       "</style>\n",
       "<table border=\"1\" class=\"dataframe\">\n",
       "  <thead>\n",
       "    <tr style=\"text-align: right;\">\n",
       "      <th></th>\n",
       "      <th>Make</th>\n",
       "      <th>Colour</th>\n",
       "      <th>Issue Time</th>\n",
       "      <th>Contravention Code</th>\n",
       "      <th>Location</th>\n",
       "      <th>PA_Details</th>\n",
       "      <th>Issue Date</th>\n",
       "      <th>Issue Time Decimal</th>\n",
       "    </tr>\n",
       "  </thead>\n",
       "  <tbody>\n",
       "    <tr>\n",
       "      <th>0</th>\n",
       "      <td>0</td>\n",
       "      <td>NaN</td>\n",
       "      <td>0:15</td>\n",
       "      <td>1</td>\n",
       "      <td>North Crescent</td>\n",
       "      <td>1485</td>\n",
       "      <td>Q1</td>\n",
       "      <td>0.25</td>\n",
       "    </tr>\n",
       "    <tr>\n",
       "      <th>1</th>\n",
       "      <td>0</td>\n",
       "      <td>NaN</td>\n",
       "      <td>0:19</td>\n",
       "      <td>16</td>\n",
       "      <td>Anne Street</td>\n",
       "      <td>1456</td>\n",
       "      <td>Q1</td>\n",
       "      <td>0.32</td>\n",
       "    </tr>\n",
       "    <tr>\n",
       "      <th>2</th>\n",
       "      <td>0</td>\n",
       "      <td>NaN</td>\n",
       "      <td>0:19</td>\n",
       "      <td>25</td>\n",
       "      <td>Celebration Avenue</td>\n",
       "      <td>1252</td>\n",
       "      <td>Q1</td>\n",
       "      <td>0.32</td>\n",
       "    </tr>\n",
       "    <tr>\n",
       "      <th>3</th>\n",
       "      <td>0</td>\n",
       "      <td>NaN</td>\n",
       "      <td>0:20</td>\n",
       "      <td>01o</td>\n",
       "      <td>Honour Lea Avenue</td>\n",
       "      <td>1313</td>\n",
       "      <td>Q1</td>\n",
       "      <td>0.33</td>\n",
       "    </tr>\n",
       "    <tr>\n",
       "      <th>4</th>\n",
       "      <td>0</td>\n",
       "      <td>NaN</td>\n",
       "      <td>0:22</td>\n",
       "      <td>62</td>\n",
       "      <td>Warton Road</td>\n",
       "      <td>1456</td>\n",
       "      <td>Q1</td>\n",
       "      <td>0.37</td>\n",
       "    </tr>\n",
       "  </tbody>\n",
       "</table>\n",
       "</div>"
      ],
      "text/plain": [
       "  Make Colour Issue Time Contravention Code            Location PA_Details  \\\n",
       "0    0    NaN       0:15                  1      North Crescent       1485   \n",
       "1    0    NaN       0:19                 16         Anne Street       1456   \n",
       "2    0    NaN       0:19                 25  Celebration Avenue       1252   \n",
       "3    0    NaN       0:20                01o   Honour Lea Avenue       1313   \n",
       "4    0    NaN       0:22                 62         Warton Road       1456   \n",
       "\n",
       "  Issue Date  Issue Time Decimal  \n",
       "0         Q1                0.25  \n",
       "1         Q1                0.32  \n",
       "2         Q1                0.32  \n",
       "3         Q1                0.33  \n",
       "4         Q1                0.37  "
      ]
     },
     "execution_count": 76,
     "metadata": {},
     "output_type": "execute_result"
    }
   ],
   "source": [
    "df.head()"
   ]
  },
  {
   "cell_type": "markdown",
   "metadata": {},
   "source": [
    "### Location\n",
    "- Dropping Test Locations"
   ]
  },
  {
   "cell_type": "code",
   "execution_count": 77,
   "metadata": {},
   "outputs": [],
   "source": [
    "df = df[~df['Location'].str.contains('Test')]"
   ]
  },
  {
   "cell_type": "markdown",
   "metadata": {},
   "source": [
    "###  Null values\n",
    "\n",
    "- Dropping Null values from whole dataset"
   ]
  },
  {
   "cell_type": "code",
   "execution_count": 78,
   "metadata": {},
   "outputs": [
    {
     "data": {
      "text/plain": [
       "(375880, 8)"
      ]
     },
     "execution_count": 78,
     "metadata": {},
     "output_type": "execute_result"
    }
   ],
   "source": [
    "df.dropna(inplace=True)\n",
    "df.shape"
   ]
  },
  {
   "cell_type": "markdown",
   "metadata": {},
   "source": [
    "###  Make\n",
    "As there are entries with different cases, we convert the 'make' column in to lower case for all rows and then process the data.\n",
    "\n",
    "- Dropping data where Make is 0 and 1n/a"
   ]
  },
  {
   "cell_type": "code",
   "execution_count": 79,
   "metadata": {},
   "outputs": [
    {
     "data": {
      "text/plain": [
       "array(['audi', 'bmw', 'chrysler', 'citroen', 'ford', 'honda', 'hyundai',\n",
       "       'alfa romeo', 'austin', 'bentley', 'iveco', 'jaguar',\n",
       "       'austin rover', 'autobianchi', 'bedford', 'dacia', '1n/a', 'a c',\n",
       "       'aixam', 'daf', 'abarth', 'armstrong siddely', 'bmc', 'isuzu',\n",
       "       'aston martin', 'daewoo', 'dodge', 'ds', 'infinity', 'adly',\n",
       "       'daihatsu', 'eunos', 'ferrari', 'fiat', 'alvis', 'jeep', 'kia',\n",
       "       'land rover', 'ldv', 'lexus', 'mercedes benz', 'mercedes-benz',\n",
       "       'mini', 'mitsubishi', 'nissan', 'peugeot', 'porsche', 'levc',\n",
       "       'opel', 'mercedes', 'range rover', 'maxus', 'mazda', 'renault',\n",
       "       'lti', 'man', 'mg', 'piaggio', 'maserati', 'proton', 'leyland',\n",
       "       'lincoln', 'london taxi', 'matra', 'mahindra', 'malaguti',\n",
       "       'reliant', 'mercury', 'saab', 'scania', 'seat', 'skoda', 'smart',\n",
       "       'subaru', 'toyota', 'vauxhall', 'rolls royce', 'rolls-royce',\n",
       "       'volkswagen', 'ssang yong', 'taxi', 'rover', 'suzuki', 'ssangyong',\n",
       "       'unknown', 'tesla', 'singer', 'vanden plas', 'volvo', 'triumph',\n",
       "       'lotus', 'mz', 'chevrolet', 'freight rover', 'gilera',\n",
       "       'harley davidson', 'harley davison', 'hino', 'holden', 'bristol',\n",
       "       'bugatti', 'daimler', 'dennis', 'midas', 'kawasaki', 'american',\n",
       "       'ariel', 'mcc', 'mclaren', 'tata', 'cadillac', 'moto guzzi',\n",
       "       'moto morini', 'mustang', 'carbodies', 'caterham', 'cherokee',\n",
       "       'ktm', 'lamborghini', 'lambourghini', 'colt', 'cupra', 'foden',\n",
       "       'lancia', 'velocette', 'rieju', 'vespa', 'riley', 'vincent',\n",
       "       'perodua', 'yamaha', 'noble', 'norton', 'humber', 'hyosung'],\n",
       "      dtype=object)"
      ]
     },
     "execution_count": 79,
     "metadata": {},
     "output_type": "execute_result"
    }
   ],
   "source": [
    "df.Make=df.Make.str.lower()\n",
    "df['Make'].unique()"
   ]
  },
  {
   "cell_type": "code",
   "execution_count": 80,
   "metadata": {},
   "outputs": [
    {
     "data": {
      "text/plain": [
       "(375877, 8)"
      ]
     },
     "execution_count": 80,
     "metadata": {},
     "output_type": "execute_result"
    }
   ],
   "source": [
    "df.drop(df.index[df['Make'] == 0], inplace = True)\n",
    "df.drop(df.index[df['Make'] == '1n/a'], inplace = True)\n",
    "df['Make'].loc[df['Make'].str.contains('harley davison')] = 'harley davidson'\n",
    "df['Make'].loc[df['Make'].str.contains('mercedes')] = 'mercedes'\n",
    "df['Make'].loc[df['Make'].str.contains('lamborghini')] = 'lambourghini'\n",
    "df['Make'].loc[df['Make'].str.contains('rolls-royce')] = 'rolls royce'\n",
    "df['Make'].loc[df['Make'].str.contains('ssangyong')] = 'ssang Yong'\n",
    "df['Make'].loc[df['Make'].str.contains('SSANGYONG')] = 'Ssang Yong'\n",
    "df.shape"
   ]
  },
  {
   "cell_type": "code",
   "execution_count": 81,
   "metadata": {},
   "outputs": [
    {
     "data": {
      "text/plain": [
       "array(['audi', 'bmw', 'chrysler', 'citroen', 'ford', 'honda', 'hyundai',\n",
       "       'alfa romeo', 'austin', 'bentley', 'iveco', 'jaguar',\n",
       "       'austin rover', 'autobianchi', 'bedford', 'dacia', 'a c', 'aixam',\n",
       "       'daf', 'abarth', 'armstrong siddely', 'bmc', 'isuzu',\n",
       "       'aston martin', 'daewoo', 'dodge', 'ds', 'infinity', 'adly',\n",
       "       'daihatsu', 'eunos', 'ferrari', 'fiat', 'alvis', 'jeep', 'kia',\n",
       "       'land rover', 'ldv', 'lexus', 'mercedes', 'mini', 'mitsubishi',\n",
       "       'nissan', 'peugeot', 'porsche', 'levc', 'opel', 'range rover',\n",
       "       'maxus', 'mazda', 'renault', 'lti', 'man', 'mg', 'piaggio',\n",
       "       'maserati', 'proton', 'leyland', 'lincoln', 'london taxi', 'matra',\n",
       "       'mahindra', 'malaguti', 'reliant', 'mercury', 'saab', 'scania',\n",
       "       'seat', 'skoda', 'smart', 'subaru', 'toyota', 'vauxhall',\n",
       "       'rolls royce', 'volkswagen', 'ssang yong', 'taxi', 'rover',\n",
       "       'suzuki', 'ssang Yong', 'unknown', 'tesla', 'singer',\n",
       "       'vanden plas', 'volvo', 'triumph', 'lotus', 'mz', 'chevrolet',\n",
       "       'freight rover', 'gilera', 'harley davidson', 'hino', 'holden',\n",
       "       'bristol', 'bugatti', 'daimler', 'dennis', 'midas', 'kawasaki',\n",
       "       'american', 'ariel', 'mcc', 'mclaren', 'tata', 'cadillac',\n",
       "       'moto guzzi', 'moto morini', 'mustang', 'carbodies', 'caterham',\n",
       "       'cherokee', 'ktm', 'lambourghini', 'colt', 'cupra', 'foden',\n",
       "       'lancia', 'velocette', 'rieju', 'vespa', 'riley', 'vincent',\n",
       "       'perodua', 'yamaha', 'noble', 'norton', 'humber', 'hyosung'],\n",
       "      dtype=object)"
      ]
     },
     "execution_count": 81,
     "metadata": {},
     "output_type": "execute_result"
    }
   ],
   "source": [
    "df['Make'].unique()"
   ]
  },
  {
   "cell_type": "markdown",
   "metadata": {},
   "source": [
    "###  Colour\n",
    "As there are entries with different cases, we convert the 'make' column in to lower case for all rows and then process the data.\n"
   ]
  },
  {
   "cell_type": "code",
   "execution_count": 82,
   "metadata": {},
   "outputs": [
    {
     "data": {
      "text/plain": [
       "array(['Black', 'BLACK', 'black', 'Blue', 'BLUE', 'blue', 'Green',\n",
       "       'GREEN', 'Grey', 'Other', 'OTHER', 'Purple', 'Red', 'RED', 'red',\n",
       "       'Silver', 'SILVER', 'White', 'Bronze', 'Brown', 'GREY', 'grey',\n",
       "       'silver', 'Unspecified', 'Maroon', 'maroon', 'WHITE', 'BROWN',\n",
       "       'Burgundy', 'Orange', 'white', 'Gold', 'Yellow', 'UNSPECIFIED',\n",
       "       'PURPLE', 'ORANGE', 'YELLOW', 'gold', 'Beige', 'Pink', 'Cream',\n",
       "       'Multi-Coloured', 'BEIGE', '1n/a', 'BLack', 'BRONZE', 'GOLD',\n",
       "       'Light Blue', 'green', 'MAROON', 'MAUVE', 'orange', 'yellow',\n",
       "       'unspecified', 'other', 'TURQUOISE', 'Mauve', 'brown', 'cream',\n",
       "       'MULTI-COLOURED'], dtype=object)"
      ]
     },
     "execution_count": 82,
     "metadata": {},
     "output_type": "execute_result"
    }
   ],
   "source": [
    "df['Colour'].unique()"
   ]
  },
  {
   "cell_type": "code",
   "execution_count": 83,
   "metadata": {},
   "outputs": [
    {
     "data": {
      "text/plain": [
       "array(['black', 'blue', 'green', 'grey', 'other', 'purple', 'red',\n",
       "       'silver', 'white', 'bronze', 'brown', 'unspecified', 'maroon',\n",
       "       'burgundy', 'orange', 'gold', 'yellow', 'beige', 'pink', 'cream',\n",
       "       'multi-coloured', 'light blue', 'mauve', 'turquoise'], dtype=object)"
      ]
     },
     "execution_count": 83,
     "metadata": {},
     "output_type": "execute_result"
    }
   ],
   "source": [
    "df.Colour=df.Colour.str.lower()\n",
    "df.drop(df.index[df['Colour'] == '1n/a'], inplace = True)\n",
    "df['Colour'].unique()"
   ]
  },
  {
   "cell_type": "code",
   "execution_count": 84,
   "metadata": {},
   "outputs": [
    {
     "data": {
      "text/plain": [
       "array(['1500', '3254', '1498', '3299', '1434', 'PN3260', '1433', '1522',\n",
       "       '1508', 'PN1435', '3264', '1435', '1507', '1518', '3216', 'PN1313',\n",
       "       'PN3288', '1524', '1519', '1504', 'PN1498', '1318', '1142', '1520',\n",
       "       '1306', '3292', '3191', '3295', '1247', '1516', '1453', '1313',\n",
       "       '1521', '1462', 'PN3239', '1454', '3293', '1491', '1463', '1456',\n",
       "       'PN1462', 'PN1433', '1281', 'PN1463', '1410', 'PN1438', '1510',\n",
       "       '1464', 'PN1306', '1499', '1438', 'PN1458', '1523', '1146', '1514',\n",
       "       '1458', '3237', '3266', 'PN3269', 'PN1464', '1485', 'PN1453',\n",
       "       '1490', 'PN1318', 'PN1419', '3298', '1252', 'PN1410', '3239',\n",
       "       'PN1142', '3247', 'PN1481', '3328', 'PN1401', 'PN1466', 'PN1499',\n",
       "       '3326', '1461', 'PN1437', '1473', 'PN1456', 'PN1387', '1387',\n",
       "       'PN1468', '1468', '1278', '1481', '3272', '1466', 'PN1473', '1419',\n",
       "       '1502', 'PN1454', '1145', '3289', '3235', '1513', '1457', '1409',\n",
       "       '3156', 'PN3266', 'PN3278', '3301', 'PN1482', '3318', 'PN3247',\n",
       "       '1407', '1517', '3287', '3296', '1482', 'PN3235', '1503', 'PN3205',\n",
       "       '1509', 'PN3275', 'PN1492', '1506', '3319', 'PN1495', 'PN1461',\n",
       "       '1418', 'PN1447', 'PN3285', '1505', 'PN1491', '1351', 'PN1484',\n",
       "       'PN3287', 'PN1485', '1331', '1442', '1494', '3316', '1515', '1309',\n",
       "       '1489', '3327', 'PN1457', '1447', '1475', '1381', 'PN1478',\n",
       "       'PN3191', '3300', 'PN3228', '3303', 'PN1278', 'PN1489', 'PN1331',\n",
       "       'PN3229', 'PN3216', 'PN3268', 'PN3154', 'PN1409', '1492', '1478',\n",
       "       '3323', '1424', 'PN1493', '3225', 'PN1281', '3288', '3283', '3324',\n",
       "       '3330', 'PN3245', '3291', '1495', '3302', 'PN1486', 'PN3179',\n",
       "       'PN3283', 'PN1424', 'PN1252', '3278', 'PN3237', 'PN3262', 'PN3236',\n",
       "       '1437', 'PN1407', 'PN3274', '3245', '992', '1512', 'PN1381',\n",
       "       '3294', 'PN3289', 'PN3255', 'PN1455', 'PN3261', 'PN3264', '3286',\n",
       "       'PN1497', 'PN3284', 'PN1488', 'PN1442', 'PN3272', 'PN3286',\n",
       "       'PN3258', 'PN3277', 'PN3265', 'PN3156', 'PN3271', '1511', '1401',\n",
       "       'PN1494', '1432', '3329', 'PN1487', '3331', 'PN3270', 'PN1496',\n",
       "       'PN1490', 'PN1035', '1465', 'PN1418', 'PN1308', 'PN3276', 'PN1500',\n",
       "       'PN3290', 'PN3273', 'PN1432', '999', '3317', '1440', 'PN3165',\n",
       "       '1308', 'PN1465', 'icpsadmin', '1501', 'PN1430', '1430', 'PN3254',\n",
       "       'PN3281', '1486', '1035', 'PN777', 'PN3263', 'PN1309', '999999999',\n",
       "       'PN999', 'PN3280', 'PN1440', 'PN1483', '9999', 'PN1460', 'PN3197',\n",
       "       '3290', 'PN3291'], dtype=object)"
      ]
     },
     "execution_count": 84,
     "metadata": {},
     "output_type": "execute_result"
    }
   ],
   "source": [
    "df['PA_Details'].unique()"
   ]
  },
  {
   "cell_type": "code",
   "execution_count": 85,
   "metadata": {},
   "outputs": [
    {
     "data": {
      "text/plain": [
       "(     Make Colour Issue Time Contravention Code            Location PA_Details  \\\n",
       " 162  audi  black       9:31                 19         Antwerp Way       1500   \n",
       " 163  audi  black      10:30                 12        First Avenue       3254   \n",
       " 164  audi  black      10:30                 12       Ingestre Road       1498   \n",
       " 165  audi  black      10:30                 12    Lawrence Road E6       3299   \n",
       " 166  audi  black      10:30                 12     Napier Road E15       1434   \n",
       " 167  audi  black      10:30                 19    Biggerstaff Road     PN3260   \n",
       " 168  audi  black      10:30                 19        Grant Street       3299   \n",
       " 169  audi  black      10:30                 19          Kings Road       1433   \n",
       " 170  audi  black      10:30                 19  Upperton Road West       1522   \n",
       " 171  audi  black      10:30                 21     Malmesbury Road       1508   \n",
       " 172  audi  black      10:30                 25      Redclyffe Road       1433   \n",
       " 173  audi  black      11:33                  1        Plashet Road       1522   \n",
       " 174  audi  black      11:33                  6        Green Street     PN1435   \n",
       " 175  audi  black      11:33                 12     Atlantis Avenue       3264   \n",
       " 176  audi  black      11:33                 12       Bartle Avenue       1435   \n",
       " 177  audi  black      11:33                 12        Burford Road       1507   \n",
       " 178  audi  black      11:33                 12        Burford Road       1518   \n",
       " 179  audi  black      11:33                 12        Cyprus Place       3216   \n",
       " 180  audi  black      11:33                 12       Kerrison Road     PN1313   \n",
       " 181  audi  black      11:33                 12          Lloyd Road     PN3288   \n",
       " \n",
       "     Issue Date  Issue Time Decimal  \n",
       " 162         Q1                9.52  \n",
       " 163         Q1               10.50  \n",
       " 164         Q1               10.50  \n",
       " 165         Q1               10.50  \n",
       " 166         Q1               10.50  \n",
       " 167         Q1               10.50  \n",
       " 168         Q1               10.50  \n",
       " 169         Q1               10.50  \n",
       " 170         Q1               10.50  \n",
       " 171         Q1               10.50  \n",
       " 172         Q1               10.50  \n",
       " 173         Q1               11.55  \n",
       " 174         Q1               11.55  \n",
       " 175         Q1               11.55  \n",
       " 176         Q1               11.55  \n",
       " 177         Q1               11.55  \n",
       " 178         Q1               11.55  \n",
       " 179         Q1               11.55  \n",
       " 180         Q1               11.55  \n",
       " 181         Q1               11.55  ,\n",
       " (375865, 8))"
      ]
     },
     "execution_count": 85,
     "metadata": {},
     "output_type": "execute_result"
    }
   ],
   "source": [
    "df.head(20),df.shape"
   ]
  },
  {
   "cell_type": "code",
   "execution_count": 86,
   "metadata": {},
   "outputs": [
    {
     "data": {
      "text/plain": [
       "(12,\n",
       " array(['Q1', 'Q2', 'Q3', 'Q4', 'Q5', 'Q6', 'Q7', 'Q8', 'Q9', 'Q10', 'Q11',\n",
       "        'Q12'], dtype=object))"
      ]
     },
     "execution_count": 86,
     "metadata": {},
     "output_type": "execute_result"
    }
   ],
   "source": [
    "len(df[\"Issue Date\"].unique()),df[\"Issue Date\"].unique()"
   ]
  },
  {
   "cell_type": "code",
   "execution_count": 87,
   "metadata": {},
   "outputs": [
    {
     "data": {
      "text/html": [
       "<div>\n",
       "<style scoped>\n",
       "    .dataframe tbody tr th:only-of-type {\n",
       "        vertical-align: middle;\n",
       "    }\n",
       "\n",
       "    .dataframe tbody tr th {\n",
       "        vertical-align: top;\n",
       "    }\n",
       "\n",
       "    .dataframe thead th {\n",
       "        text-align: right;\n",
       "    }\n",
       "</style>\n",
       "<table border=\"1\" class=\"dataframe\">\n",
       "  <thead>\n",
       "    <tr style=\"text-align: right;\">\n",
       "      <th></th>\n",
       "      <th>Make</th>\n",
       "      <th>Colour</th>\n",
       "      <th>Issue Time</th>\n",
       "      <th>Contravention Code</th>\n",
       "      <th>Location</th>\n",
       "      <th>PA_Details</th>\n",
       "      <th>Issue Date</th>\n",
       "      <th>Issue Time Decimal</th>\n",
       "    </tr>\n",
       "  </thead>\n",
       "  <tbody>\n",
       "    <tr>\n",
       "      <th>162</th>\n",
       "      <td>audi</td>\n",
       "      <td>black</td>\n",
       "      <td>9:31</td>\n",
       "      <td>19</td>\n",
       "      <td>Antwerp Way</td>\n",
       "      <td>1500</td>\n",
       "      <td>Q1</td>\n",
       "      <td>9.52</td>\n",
       "    </tr>\n",
       "    <tr>\n",
       "      <th>163</th>\n",
       "      <td>audi</td>\n",
       "      <td>black</td>\n",
       "      <td>10:30</td>\n",
       "      <td>12</td>\n",
       "      <td>First Avenue</td>\n",
       "      <td>3254</td>\n",
       "      <td>Q1</td>\n",
       "      <td>10.50</td>\n",
       "    </tr>\n",
       "    <tr>\n",
       "      <th>164</th>\n",
       "      <td>audi</td>\n",
       "      <td>black</td>\n",
       "      <td>10:30</td>\n",
       "      <td>12</td>\n",
       "      <td>Ingestre Road</td>\n",
       "      <td>1498</td>\n",
       "      <td>Q1</td>\n",
       "      <td>10.50</td>\n",
       "    </tr>\n",
       "    <tr>\n",
       "      <th>165</th>\n",
       "      <td>audi</td>\n",
       "      <td>black</td>\n",
       "      <td>10:30</td>\n",
       "      <td>12</td>\n",
       "      <td>Lawrence Road E6</td>\n",
       "      <td>3299</td>\n",
       "      <td>Q1</td>\n",
       "      <td>10.50</td>\n",
       "    </tr>\n",
       "    <tr>\n",
       "      <th>166</th>\n",
       "      <td>audi</td>\n",
       "      <td>black</td>\n",
       "      <td>10:30</td>\n",
       "      <td>12</td>\n",
       "      <td>Napier Road E15</td>\n",
       "      <td>1434</td>\n",
       "      <td>Q1</td>\n",
       "      <td>10.50</td>\n",
       "    </tr>\n",
       "  </tbody>\n",
       "</table>\n",
       "</div>"
      ],
      "text/plain": [
       "     Make Colour Issue Time Contravention Code          Location PA_Details  \\\n",
       "162  audi  black       9:31                 19       Antwerp Way       1500   \n",
       "163  audi  black      10:30                 12      First Avenue       3254   \n",
       "164  audi  black      10:30                 12     Ingestre Road       1498   \n",
       "165  audi  black      10:30                 12  Lawrence Road E6       3299   \n",
       "166  audi  black      10:30                 12   Napier Road E15       1434   \n",
       "\n",
       "    Issue Date  Issue Time Decimal  \n",
       "162         Q1                9.52  \n",
       "163         Q1               10.50  \n",
       "164         Q1               10.50  \n",
       "165         Q1               10.50  \n",
       "166         Q1               10.50  "
      ]
     },
     "execution_count": 87,
     "metadata": {},
     "output_type": "execute_result"
    }
   ],
   "source": [
    "df.head()"
   ]
  },
  {
   "cell_type": "code",
   "execution_count": 88,
   "metadata": {},
   "outputs": [
    {
     "data": {
      "text/html": [
       "<div>\n",
       "<style scoped>\n",
       "    .dataframe tbody tr th:only-of-type {\n",
       "        vertical-align: middle;\n",
       "    }\n",
       "\n",
       "    .dataframe tbody tr th {\n",
       "        vertical-align: top;\n",
       "    }\n",
       "\n",
       "    .dataframe thead th {\n",
       "        text-align: right;\n",
       "    }\n",
       "</style>\n",
       "<table border=\"1\" class=\"dataframe\">\n",
       "  <thead>\n",
       "    <tr style=\"text-align: right;\">\n",
       "      <th></th>\n",
       "      <th>Make</th>\n",
       "      <th>Colour</th>\n",
       "      <th>Issue Time</th>\n",
       "      <th>Contravention Code</th>\n",
       "      <th>Location</th>\n",
       "      <th>PA_Details</th>\n",
       "      <th>Issue Date</th>\n",
       "      <th>Issue Time Decimal</th>\n",
       "    </tr>\n",
       "  </thead>\n",
       "  <tbody>\n",
       "    <tr>\n",
       "      <th>380634</th>\n",
       "      <td>yamaha</td>\n",
       "      <td>white</td>\n",
       "      <td>15:31</td>\n",
       "      <td>54</td>\n",
       "      <td>Broadway</td>\n",
       "      <td>1485</td>\n",
       "      <td>Q12</td>\n",
       "      <td>15.52</td>\n",
       "    </tr>\n",
       "    <tr>\n",
       "      <th>380635</th>\n",
       "      <td>yamaha</td>\n",
       "      <td>white</td>\n",
       "      <td>16:25</td>\n",
       "      <td>1</td>\n",
       "      <td>High Street North</td>\n",
       "      <td>3237</td>\n",
       "      <td>Q12</td>\n",
       "      <td>16.42</td>\n",
       "    </tr>\n",
       "    <tr>\n",
       "      <th>380636</th>\n",
       "      <td>yamaha</td>\n",
       "      <td>white</td>\n",
       "      <td>16:30</td>\n",
       "      <td>81</td>\n",
       "      <td>Stratford Multi Storey Car Park</td>\n",
       "      <td>PN1458</td>\n",
       "      <td>Q12</td>\n",
       "      <td>16.50</td>\n",
       "    </tr>\n",
       "    <tr>\n",
       "      <th>380637</th>\n",
       "      <td>yamaha</td>\n",
       "      <td>white</td>\n",
       "      <td>17:04</td>\n",
       "      <td>62</td>\n",
       "      <td>Westfield Avenue</td>\n",
       "      <td>1475</td>\n",
       "      <td>Q12</td>\n",
       "      <td>17.07</td>\n",
       "    </tr>\n",
       "    <tr>\n",
       "      <th>380638</th>\n",
       "      <td>yamaha</td>\n",
       "      <td>white</td>\n",
       "      <td>17:08</td>\n",
       "      <td>1</td>\n",
       "      <td>Harold Road</td>\n",
       "      <td>3237</td>\n",
       "      <td>Q12</td>\n",
       "      <td>17.13</td>\n",
       "    </tr>\n",
       "  </tbody>\n",
       "</table>\n",
       "</div>"
      ],
      "text/plain": [
       "          Make Colour Issue Time Contravention Code  \\\n",
       "380634  yamaha  white      15:31                 54   \n",
       "380635  yamaha  white      16:25                  1   \n",
       "380636  yamaha  white      16:30                 81   \n",
       "380637  yamaha  white      17:04                 62   \n",
       "380638  yamaha  white      17:08                  1   \n",
       "\n",
       "                               Location PA_Details Issue Date  \\\n",
       "380634                         Broadway       1485        Q12   \n",
       "380635                High Street North       3237        Q12   \n",
       "380636  Stratford Multi Storey Car Park     PN1458        Q12   \n",
       "380637                 Westfield Avenue       1475        Q12   \n",
       "380638                      Harold Road       3237        Q12   \n",
       "\n",
       "        Issue Time Decimal  \n",
       "380634               15.52  \n",
       "380635               16.42  \n",
       "380636               16.50  \n",
       "380637               17.07  \n",
       "380638               17.13  "
      ]
     },
     "execution_count": 88,
     "metadata": {},
     "output_type": "execute_result"
    }
   ],
   "source": [
    "df.tail()"
   ]
  },
  {
   "cell_type": "code",
   "execution_count": 89,
   "metadata": {},
   "outputs": [
    {
     "data": {
      "text/html": [
       "<div>\n",
       "<style scoped>\n",
       "    .dataframe tbody tr th:only-of-type {\n",
       "        vertical-align: middle;\n",
       "    }\n",
       "\n",
       "    .dataframe tbody tr th {\n",
       "        vertical-align: top;\n",
       "    }\n",
       "\n",
       "    .dataframe thead th {\n",
       "        text-align: right;\n",
       "    }\n",
       "</style>\n",
       "<table border=\"1\" class=\"dataframe\">\n",
       "  <thead>\n",
       "    <tr style=\"text-align: right;\">\n",
       "      <th></th>\n",
       "      <th>Make</th>\n",
       "      <th>Colour</th>\n",
       "      <th>Issue Time</th>\n",
       "      <th>Contravention Code</th>\n",
       "      <th>Location</th>\n",
       "      <th>PA_Details</th>\n",
       "      <th>Issue Date</th>\n",
       "      <th>Issue Time Decimal</th>\n",
       "    </tr>\n",
       "  </thead>\n",
       "  <tbody>\n",
       "    <tr>\n",
       "      <th>218255</th>\n",
       "      <td>skoda</td>\n",
       "      <td>silver</td>\n",
       "      <td>8:16</td>\n",
       "      <td>19</td>\n",
       "      <td>Wolsey Avenue</td>\n",
       "      <td>1517</td>\n",
       "      <td>Q9</td>\n",
       "      <td>8.27</td>\n",
       "    </tr>\n",
       "    <tr>\n",
       "      <th>218256</th>\n",
       "      <td>skoda</td>\n",
       "      <td>silver</td>\n",
       "      <td>8:17</td>\n",
       "      <td>12</td>\n",
       "      <td>Folkestone Road</td>\n",
       "      <td>PN1490</td>\n",
       "      <td>Q9</td>\n",
       "      <td>8.28</td>\n",
       "    </tr>\n",
       "    <tr>\n",
       "      <th>218257</th>\n",
       "      <td>skoda</td>\n",
       "      <td>silver</td>\n",
       "      <td>8:19</td>\n",
       "      <td>1</td>\n",
       "      <td>MacGregor Road</td>\n",
       "      <td>1468</td>\n",
       "      <td>Q9</td>\n",
       "      <td>8.32</td>\n",
       "    </tr>\n",
       "    <tr>\n",
       "      <th>218258</th>\n",
       "      <td>skoda</td>\n",
       "      <td>silver</td>\n",
       "      <td>8:21</td>\n",
       "      <td>85</td>\n",
       "      <td>Will Thorne Pavillion_</td>\n",
       "      <td>PN1485</td>\n",
       "      <td>Q9</td>\n",
       "      <td>8.35</td>\n",
       "    </tr>\n",
       "    <tr>\n",
       "      <th>218259</th>\n",
       "      <td>skoda</td>\n",
       "      <td>silver</td>\n",
       "      <td>8:26</td>\n",
       "      <td>12</td>\n",
       "      <td>Katherine Road</td>\n",
       "      <td>3299</td>\n",
       "      <td>Q9</td>\n",
       "      <td>8.43</td>\n",
       "    </tr>\n",
       "    <tr>\n",
       "      <th>218260</th>\n",
       "      <td>skoda</td>\n",
       "      <td>silver</td>\n",
       "      <td>8:27</td>\n",
       "      <td>12</td>\n",
       "      <td>Katherine Road</td>\n",
       "      <td>3299</td>\n",
       "      <td>Q9</td>\n",
       "      <td>8.45</td>\n",
       "    </tr>\n",
       "    <tr>\n",
       "      <th>218261</th>\n",
       "      <td>skoda</td>\n",
       "      <td>silver</td>\n",
       "      <td>8:27</td>\n",
       "      <td>11u</td>\n",
       "      <td>Bedford Road</td>\n",
       "      <td>3292</td>\n",
       "      <td>Q9</td>\n",
       "      <td>8.45</td>\n",
       "    </tr>\n",
       "    <tr>\n",
       "      <th>218262</th>\n",
       "      <td>skoda</td>\n",
       "      <td>silver</td>\n",
       "      <td>8:29</td>\n",
       "      <td>12</td>\n",
       "      <td>Litchfield Avenue</td>\n",
       "      <td>1507</td>\n",
       "      <td>Q9</td>\n",
       "      <td>8.48</td>\n",
       "    </tr>\n",
       "    <tr>\n",
       "      <th>218263</th>\n",
       "      <td>skoda</td>\n",
       "      <td>silver</td>\n",
       "      <td>8:29</td>\n",
       "      <td>12</td>\n",
       "      <td>Skeffington Road</td>\n",
       "      <td>PN3285</td>\n",
       "      <td>Q9</td>\n",
       "      <td>8.48</td>\n",
       "    </tr>\n",
       "    <tr>\n",
       "      <th>218264</th>\n",
       "      <td>skoda</td>\n",
       "      <td>silver</td>\n",
       "      <td>8:30</td>\n",
       "      <td>12</td>\n",
       "      <td>Strone Road</td>\n",
       "      <td>PN1401</td>\n",
       "      <td>Q9</td>\n",
       "      <td>8.50</td>\n",
       "    </tr>\n",
       "    <tr>\n",
       "      <th>218265</th>\n",
       "      <td>skoda</td>\n",
       "      <td>silver</td>\n",
       "      <td>8:30</td>\n",
       "      <td>21</td>\n",
       "      <td>Hollington Road</td>\n",
       "      <td>992</td>\n",
       "      <td>Q9</td>\n",
       "      <td>8.50</td>\n",
       "    </tr>\n",
       "    <tr>\n",
       "      <th>218266</th>\n",
       "      <td>skoda</td>\n",
       "      <td>silver</td>\n",
       "      <td>8:57</td>\n",
       "      <td>1</td>\n",
       "      <td>Shakespeare Crescent</td>\n",
       "      <td>PN1463</td>\n",
       "      <td>Q9</td>\n",
       "      <td>8.95</td>\n",
       "    </tr>\n",
       "    <tr>\n",
       "      <th>218267</th>\n",
       "      <td>skoda</td>\n",
       "      <td>silver</td>\n",
       "      <td>8:57</td>\n",
       "      <td>12</td>\n",
       "      <td>Litchfield Avenue</td>\n",
       "      <td>1507</td>\n",
       "      <td>Q9</td>\n",
       "      <td>8.95</td>\n",
       "    </tr>\n",
       "    <tr>\n",
       "      <th>218268</th>\n",
       "      <td>skoda</td>\n",
       "      <td>silver</td>\n",
       "      <td>8:57</td>\n",
       "      <td>12</td>\n",
       "      <td>Monega Road</td>\n",
       "      <td>1454</td>\n",
       "      <td>Q9</td>\n",
       "      <td>8.95</td>\n",
       "    </tr>\n",
       "    <tr>\n",
       "      <th>218269</th>\n",
       "      <td>skoda</td>\n",
       "      <td>silver</td>\n",
       "      <td>8:58</td>\n",
       "      <td>12</td>\n",
       "      <td>Leigh Road</td>\n",
       "      <td>1419</td>\n",
       "      <td>Q9</td>\n",
       "      <td>8.97</td>\n",
       "    </tr>\n",
       "  </tbody>\n",
       "</table>\n",
       "</div>"
      ],
      "text/plain": [
       "         Make  Colour Issue Time Contravention Code                Location  \\\n",
       "218255  skoda  silver       8:16                 19           Wolsey Avenue   \n",
       "218256  skoda  silver       8:17                 12         Folkestone Road   \n",
       "218257  skoda  silver       8:19                  1          MacGregor Road   \n",
       "218258  skoda  silver       8:21                 85  Will Thorne Pavillion_   \n",
       "218259  skoda  silver       8:26                 12          Katherine Road   \n",
       "218260  skoda  silver       8:27                 12          Katherine Road   \n",
       "218261  skoda  silver       8:27                11u            Bedford Road   \n",
       "218262  skoda  silver       8:29                 12       Litchfield Avenue   \n",
       "218263  skoda  silver       8:29                 12        Skeffington Road   \n",
       "218264  skoda  silver       8:30                 12             Strone Road   \n",
       "218265  skoda  silver       8:30                 21         Hollington Road   \n",
       "218266  skoda  silver       8:57                  1    Shakespeare Crescent   \n",
       "218267  skoda  silver       8:57                 12       Litchfield Avenue   \n",
       "218268  skoda  silver       8:57                 12             Monega Road   \n",
       "218269  skoda  silver       8:58                 12              Leigh Road   \n",
       "\n",
       "       PA_Details Issue Date  Issue Time Decimal  \n",
       "218255       1517         Q9                8.27  \n",
       "218256     PN1490         Q9                8.28  \n",
       "218257       1468         Q9                8.32  \n",
       "218258     PN1485         Q9                8.35  \n",
       "218259       3299         Q9                8.43  \n",
       "218260       3299         Q9                8.45  \n",
       "218261       3292         Q9                8.45  \n",
       "218262       1507         Q9                8.48  \n",
       "218263     PN3285         Q9                8.48  \n",
       "218264     PN1401         Q9                8.50  \n",
       "218265        992         Q9                8.50  \n",
       "218266     PN1463         Q9                8.95  \n",
       "218267       1507         Q9                8.95  \n",
       "218268       1454         Q9                8.95  \n",
       "218269       1419         Q9                8.97  "
      ]
     },
     "execution_count": 89,
     "metadata": {},
     "output_type": "execute_result"
    }
   ],
   "source": [
    "df.iloc[214000:214015,: ]"
   ]
  },
  {
   "cell_type": "markdown",
   "metadata": {},
   "source": [
    "### Converting Type of Numerical features"
   ]
  },
  {
   "cell_type": "code",
   "execution_count": 90,
   "metadata": {},
   "outputs": [
    {
     "name": "stdout",
     "output_type": "stream",
     "text": [
      "<class 'pandas.core.frame.DataFrame'>\n",
      "Int64Index: 375865 entries, 162 to 380638\n",
      "Data columns (total 8 columns):\n",
      " #   Column              Non-Null Count   Dtype  \n",
      "---  ------              --------------   -----  \n",
      " 0   Make                375865 non-null  object \n",
      " 1   Colour              375865 non-null  object \n",
      " 2   Issue Time          375865 non-null  object \n",
      " 3   Contravention Code  375865 non-null  object \n",
      " 4   Location            375865 non-null  object \n",
      " 5   PA_Details          375865 non-null  object \n",
      " 6   Issue Date          375865 non-null  object \n",
      " 7   Issue Time Decimal  375865 non-null  float64\n",
      "dtypes: float64(1), object(7)\n",
      "memory usage: 25.8+ MB\n"
     ]
    }
   ],
   "source": [
    "df.info()"
   ]
  },
  {
   "cell_type": "markdown",
   "metadata": {},
   "source": [
    "### Saving processed data into csv file"
   ]
  },
  {
   "cell_type": "code",
   "execution_count": 91,
   "metadata": {},
   "outputs": [],
   "source": [
    "df.to_csv('Processed.csv')"
   ]
  },
  {
   "cell_type": "markdown",
   "metadata": {},
   "source": [
    "## Dividing data in to numerical and categorical features"
   ]
  },
  {
   "cell_type": "code",
   "execution_count": 92,
   "metadata": {},
   "outputs": [
    {
     "data": {
      "text/plain": [
       "Index(['Make', 'Colour', 'Issue Time', 'Contravention Code', 'Location',\n",
       "       'PA_Details', 'Issue Date', 'Issue Time Decimal'],\n",
       "      dtype='object')"
      ]
     },
     "execution_count": 92,
     "metadata": {},
     "output_type": "execute_result"
    }
   ],
   "source": [
    "df.columns"
   ]
  },
  {
   "cell_type": "code",
   "execution_count": 106,
   "metadata": {},
   "outputs": [],
   "source": [
    "df_categorical = df[['Make', 'Colour', 'Contravention Code', 'Location','PA_Details', 'Issue Date']]\n",
    "df_numerical = df[['Issue Time Decimal']]"
   ]
  },
  {
   "cell_type": "code",
   "execution_count": 162,
   "metadata": {},
   "outputs": [
    {
     "data": {
      "text/html": [
       "<div>\n",
       "<style scoped>\n",
       "    .dataframe tbody tr th:only-of-type {\n",
       "        vertical-align: middle;\n",
       "    }\n",
       "\n",
       "    .dataframe tbody tr th {\n",
       "        vertical-align: top;\n",
       "    }\n",
       "\n",
       "    .dataframe thead th {\n",
       "        text-align: right;\n",
       "    }\n",
       "</style>\n",
       "<table border=\"1\" class=\"dataframe\">\n",
       "  <thead>\n",
       "    <tr style=\"text-align: right;\">\n",
       "      <th></th>\n",
       "      <th>Issue Time Decimal</th>\n",
       "    </tr>\n",
       "  </thead>\n",
       "  <tbody>\n",
       "    <tr>\n",
       "      <th>162</th>\n",
       "      <td>9.52</td>\n",
       "    </tr>\n",
       "    <tr>\n",
       "      <th>163</th>\n",
       "      <td>10.50</td>\n",
       "    </tr>\n",
       "    <tr>\n",
       "      <th>164</th>\n",
       "      <td>10.50</td>\n",
       "    </tr>\n",
       "    <tr>\n",
       "      <th>165</th>\n",
       "      <td>10.50</td>\n",
       "    </tr>\n",
       "    <tr>\n",
       "      <th>166</th>\n",
       "      <td>10.50</td>\n",
       "    </tr>\n",
       "    <tr>\n",
       "      <th>...</th>\n",
       "      <td>...</td>\n",
       "    </tr>\n",
       "    <tr>\n",
       "      <th>380634</th>\n",
       "      <td>15.52</td>\n",
       "    </tr>\n",
       "    <tr>\n",
       "      <th>380635</th>\n",
       "      <td>16.42</td>\n",
       "    </tr>\n",
       "    <tr>\n",
       "      <th>380636</th>\n",
       "      <td>16.50</td>\n",
       "    </tr>\n",
       "    <tr>\n",
       "      <th>380637</th>\n",
       "      <td>17.07</td>\n",
       "    </tr>\n",
       "    <tr>\n",
       "      <th>380638</th>\n",
       "      <td>17.13</td>\n",
       "    </tr>\n",
       "  </tbody>\n",
       "</table>\n",
       "<p>375865 rows × 1 columns</p>\n",
       "</div>"
      ],
      "text/plain": [
       "        Issue Time Decimal\n",
       "162                   9.52\n",
       "163                  10.50\n",
       "164                  10.50\n",
       "165                  10.50\n",
       "166                  10.50\n",
       "...                    ...\n",
       "380634               15.52\n",
       "380635               16.42\n",
       "380636               16.50\n",
       "380637               17.07\n",
       "380638               17.13\n",
       "\n",
       "[375865 rows x 1 columns]"
      ]
     },
     "execution_count": 162,
     "metadata": {},
     "output_type": "execute_result"
    }
   ],
   "source": [
    "df_numerical"
   ]
  },
  {
   "cell_type": "code",
   "execution_count": null,
   "metadata": {},
   "outputs": [],
   "source": [
    "df[['Make', 'Colour', 'Contravention Code', 'Location','PA_Details', 'Issue Date','Issue Time Decimal']]"
   ]
  },
  {
   "cell_type": "code",
   "execution_count": 94,
   "metadata": {},
   "outputs": [
    {
     "data": {
      "text/html": [
       "<div>\n",
       "<style scoped>\n",
       "    .dataframe tbody tr th:only-of-type {\n",
       "        vertical-align: middle;\n",
       "    }\n",
       "\n",
       "    .dataframe tbody tr th {\n",
       "        vertical-align: top;\n",
       "    }\n",
       "\n",
       "    .dataframe thead th {\n",
       "        text-align: right;\n",
       "    }\n",
       "</style>\n",
       "<table border=\"1\" class=\"dataframe\">\n",
       "  <thead>\n",
       "    <tr style=\"text-align: right;\">\n",
       "      <th></th>\n",
       "      <th>Make</th>\n",
       "      <th>Colour</th>\n",
       "      <th>Contravention Code</th>\n",
       "      <th>Location</th>\n",
       "      <th>PA_Details</th>\n",
       "      <th>Issue Date</th>\n",
       "    </tr>\n",
       "  </thead>\n",
       "  <tbody>\n",
       "    <tr>\n",
       "      <th>162</th>\n",
       "      <td>audi</td>\n",
       "      <td>black</td>\n",
       "      <td>19</td>\n",
       "      <td>Antwerp Way</td>\n",
       "      <td>1500</td>\n",
       "      <td>Q1</td>\n",
       "    </tr>\n",
       "    <tr>\n",
       "      <th>163</th>\n",
       "      <td>audi</td>\n",
       "      <td>black</td>\n",
       "      <td>12</td>\n",
       "      <td>First Avenue</td>\n",
       "      <td>3254</td>\n",
       "      <td>Q1</td>\n",
       "    </tr>\n",
       "    <tr>\n",
       "      <th>164</th>\n",
       "      <td>audi</td>\n",
       "      <td>black</td>\n",
       "      <td>12</td>\n",
       "      <td>Ingestre Road</td>\n",
       "      <td>1498</td>\n",
       "      <td>Q1</td>\n",
       "    </tr>\n",
       "    <tr>\n",
       "      <th>165</th>\n",
       "      <td>audi</td>\n",
       "      <td>black</td>\n",
       "      <td>12</td>\n",
       "      <td>Lawrence Road E6</td>\n",
       "      <td>3299</td>\n",
       "      <td>Q1</td>\n",
       "    </tr>\n",
       "    <tr>\n",
       "      <th>166</th>\n",
       "      <td>audi</td>\n",
       "      <td>black</td>\n",
       "      <td>12</td>\n",
       "      <td>Napier Road E15</td>\n",
       "      <td>1434</td>\n",
       "      <td>Q1</td>\n",
       "    </tr>\n",
       "  </tbody>\n",
       "</table>\n",
       "</div>"
      ],
      "text/plain": [
       "     Make Colour Contravention Code          Location PA_Details Issue Date\n",
       "162  audi  black                 19       Antwerp Way       1500         Q1\n",
       "163  audi  black                 12      First Avenue       3254         Q1\n",
       "164  audi  black                 12     Ingestre Road       1498         Q1\n",
       "165  audi  black                 12  Lawrence Road E6       3299         Q1\n",
       "166  audi  black                 12   Napier Road E15       1434         Q1"
      ]
     },
     "execution_count": 94,
     "metadata": {},
     "output_type": "execute_result"
    }
   ],
   "source": [
    "df_categorical.head()"
   ]
  },
  {
   "cell_type": "code",
   "execution_count": 95,
   "metadata": {},
   "outputs": [
    {
     "data": {
      "text/plain": [
       "162     9.52\n",
       "163    10.50\n",
       "164    10.50\n",
       "165    10.50\n",
       "166    10.50\n",
       "Name: Issue Time Decimal, dtype: float64"
      ]
     },
     "execution_count": 95,
     "metadata": {},
     "output_type": "execute_result"
    }
   ],
   "source": [
    "df_numerical.head()"
   ]
  },
  {
   "cell_type": "markdown",
   "metadata": {},
   "source": [
    "# Clustering"
   ]
  },
  {
   "cell_type": "markdown",
   "metadata": {},
   "source": [
    "## K Means Clustering"
   ]
  },
  {
   "cell_type": "markdown",
   "metadata": {},
   "source": [
    "### Elbow method to find optimal number of Clusters"
   ]
  },
  {
   "cell_type": "code",
   "execution_count": 107,
   "metadata": {},
   "outputs": [
    {
     "data": {
      "text/plain": [
       "pandas.core.frame.DataFrame"
      ]
     },
     "execution_count": 107,
     "metadata": {},
     "output_type": "execute_result"
    }
   ],
   "source": [
    "type(df_numerical)"
   ]
  },
  {
   "cell_type": "markdown",
   "metadata": {},
   "source": [
    "### Converting series to dataframe"
   ]
  },
  {
   "cell_type": "code",
   "execution_count": 105,
   "metadata": {},
   "outputs": [
    {
     "data": {
      "text/html": [
       "<div>\n",
       "<style scoped>\n",
       "    .dataframe tbody tr th:only-of-type {\n",
       "        vertical-align: middle;\n",
       "    }\n",
       "\n",
       "    .dataframe tbody tr th {\n",
       "        vertical-align: top;\n",
       "    }\n",
       "\n",
       "    .dataframe thead th {\n",
       "        text-align: right;\n",
       "    }\n",
       "</style>\n",
       "<table border=\"1\" class=\"dataframe\">\n",
       "  <thead>\n",
       "    <tr style=\"text-align: right;\">\n",
       "      <th></th>\n",
       "      <th>index</th>\n",
       "      <th>Issue Time Decimal</th>\n",
       "    </tr>\n",
       "  </thead>\n",
       "  <tbody>\n",
       "    <tr>\n",
       "      <th>0</th>\n",
       "      <td>162</td>\n",
       "      <td>9.52</td>\n",
       "    </tr>\n",
       "    <tr>\n",
       "      <th>1</th>\n",
       "      <td>163</td>\n",
       "      <td>10.50</td>\n",
       "    </tr>\n",
       "    <tr>\n",
       "      <th>2</th>\n",
       "      <td>164</td>\n",
       "      <td>10.50</td>\n",
       "    </tr>\n",
       "    <tr>\n",
       "      <th>3</th>\n",
       "      <td>165</td>\n",
       "      <td>10.50</td>\n",
       "    </tr>\n",
       "    <tr>\n",
       "      <th>4</th>\n",
       "      <td>166</td>\n",
       "      <td>10.50</td>\n",
       "    </tr>\n",
       "    <tr>\n",
       "      <th>...</th>\n",
       "      <td>...</td>\n",
       "      <td>...</td>\n",
       "    </tr>\n",
       "    <tr>\n",
       "      <th>375860</th>\n",
       "      <td>380634</td>\n",
       "      <td>15.52</td>\n",
       "    </tr>\n",
       "    <tr>\n",
       "      <th>375861</th>\n",
       "      <td>380635</td>\n",
       "      <td>16.42</td>\n",
       "    </tr>\n",
       "    <tr>\n",
       "      <th>375862</th>\n",
       "      <td>380636</td>\n",
       "      <td>16.50</td>\n",
       "    </tr>\n",
       "    <tr>\n",
       "      <th>375863</th>\n",
       "      <td>380637</td>\n",
       "      <td>17.07</td>\n",
       "    </tr>\n",
       "    <tr>\n",
       "      <th>375864</th>\n",
       "      <td>380638</td>\n",
       "      <td>17.13</td>\n",
       "    </tr>\n",
       "  </tbody>\n",
       "</table>\n",
       "<p>375865 rows × 2 columns</p>\n",
       "</div>"
      ],
      "text/plain": [
       "         index  Issue Time Decimal\n",
       "0          162                9.52\n",
       "1          163               10.50\n",
       "2          164               10.50\n",
       "3          165               10.50\n",
       "4          166               10.50\n",
       "...        ...                 ...\n",
       "375860  380634               15.52\n",
       "375861  380635               16.42\n",
       "375862  380636               16.50\n",
       "375863  380637               17.07\n",
       "375864  380638               17.13\n",
       "\n",
       "[375865 rows x 2 columns]"
      ]
     },
     "execution_count": 105,
     "metadata": {},
     "output_type": "execute_result"
    }
   ],
   "source": [
    "df_numerical"
   ]
  },
  {
   "cell_type": "code",
   "execution_count": 189,
   "metadata": {},
   "outputs": [
    {
     "data": {
      "text/plain": [
       "Text(0.5, 1.0, 'Elbow Method For Optimal k')"
      ]
     },
     "execution_count": 189,
     "metadata": {},
     "output_type": "execute_result"
    },
    {
     "data": {
      "image/png": "[encoded data removed]",
      "text/plain": [
       "<Figure size 432x288 with 1 Axes>"
      ]
     },
     "metadata": {},
     "output_type": "display_data"
    }
   ],
   "source": [
    "#Finding Best k using WSSE \n",
    "from sklearn.cluster import KMeans\n",
    "SS_distances= []\n",
    "I = range(1,10)\n",
    "for i in I:\n",
    "       k_means = KMeans(n_clusters=i)\n",
    "       k_means= k_means.fit(df_numerical)\n",
    "       SS_distances.append(k_means.inertia_)\n",
    "   \n",
    "centers = k_means.cluster_centers_\n",
    "\n",
    "# plotting SSE distances (for each point to the nearest Center) versus number of k \n",
    "plt.plot(I, SS_distances, 'bx-')\n",
    "plt.xlabel('k')\n",
    "plt.ylabel('SS of Distances')\n",
    "plt.title('Elbow Method For Optimal k')"
   ]
  },
  {
   "cell_type": "markdown",
   "metadata": {},
   "source": [
    "### 3 is optimal number for clusters in numerical features "
   ]
  },
  {
   "cell_type": "code",
   "execution_count": 190,
   "metadata": {},
   "outputs": [
    {
     "data": {
      "text/plain": [
       "(array([0, 1, 2], dtype=int32), array([163234,  74335, 138296]))"
      ]
     },
     "execution_count": 190,
     "metadata": {},
     "output_type": "execute_result"
    }
   ],
   "source": [
    "k_means = KMeans(n_clusters=3)\n",
    "k_means= k_means.fit(df_numerical)\n",
    "labels = k_means.labels_\n",
    "np.unique(labels, return_counts=True)"
   ]
  },
  {
   "cell_type": "markdown",
   "metadata": {},
   "source": [
    "### Plotting data "
   ]
  },
  {
   "cell_type": "markdown",
   "metadata": {},
   "source": [
    "### 1. 'Issue Time' with respect to the index"
   ]
  },
  {
   "cell_type": "code",
   "execution_count": 191,
   "metadata": {},
   "outputs": [
    {
     "data": {
      "text/plain": [
       "array([[12.67060068],\n",
       "       [17.33080531],\n",
       "       [ 8.84031158]])"
      ]
     },
     "execution_count": 191,
     "metadata": {},
     "output_type": "execute_result"
    }
   ],
   "source": [
    "k_means.cluster_centers_"
   ]
  },
  {
   "cell_type": "markdown",
   "metadata": {},
   "source": [
    "### As it is only one feature, we introduce an index array for other axis. The values are hardcoded here"
   ]
  },
  {
   "cell_type": "code",
   "execution_count": 193,
   "metadata": {},
   "outputs": [],
   "source": [
    "index_center = [[180000],[180000],[180000]]"
   ]
  },
  {
   "cell_type": "code",
   "execution_count": 194,
   "metadata": {},
   "outputs": [
    {
     "data": {
      "image/png": "[encoded data removed]",
      "text/plain": [
       "<Figure size 1296x720 with 1 Axes>"
      ]
     },
     "metadata": {},
     "output_type": "display_data"
    }
   ],
   "source": [
    "# Plot Clusters and their centers\n",
    "\n",
    "label = k_means.labels_\n",
    "centers = k_means.cluster_centers_\n",
    "\n",
    "plt.figure(figsize=(18,10))\n",
    "plt.scatter(df_numerical['Issue Time Decimal'],df.index,c=labels,s=15)\n",
    "plt.scatter(centers[:,0], index_center, color ='red', marker='X', s=100) \n",
    "plt.xlabel('Issue Time')\n",
    "plt.ylabel('Index')\n",
    "plt.title('K-means')\n",
    "plt.show()"
   ]
  },
  {
   "cell_type": "markdown",
   "metadata": {},
   "source": [
    "## K MODES Clustering"
   ]
  },
  {
   "cell_type": "code",
   "execution_count": 126,
   "metadata": {},
   "outputs": [],
   "source": [
    "# Import module for k-protoype cluster\n",
    "from kmodes.kmodes import KModes"
   ]
  },
  {
   "cell_type": "code",
   "execution_count": 127,
   "metadata": {},
   "outputs": [
    {
     "data": {
      "text/html": [
       "<div>\n",
       "<style scoped>\n",
       "    .dataframe tbody tr th:only-of-type {\n",
       "        vertical-align: middle;\n",
       "    }\n",
       "\n",
       "    .dataframe tbody tr th {\n",
       "        vertical-align: top;\n",
       "    }\n",
       "\n",
       "    .dataframe thead th {\n",
       "        text-align: right;\n",
       "    }\n",
       "</style>\n",
       "<table border=\"1\" class=\"dataframe\">\n",
       "  <thead>\n",
       "    <tr style=\"text-align: right;\">\n",
       "      <th></th>\n",
       "      <th>Make</th>\n",
       "      <th>Colour</th>\n",
       "      <th>Contravention Code</th>\n",
       "      <th>Location</th>\n",
       "      <th>PA_Details</th>\n",
       "      <th>Issue Date</th>\n",
       "    </tr>\n",
       "  </thead>\n",
       "  <tbody>\n",
       "    <tr>\n",
       "      <th>162</th>\n",
       "      <td>audi</td>\n",
       "      <td>black</td>\n",
       "      <td>19</td>\n",
       "      <td>Antwerp Way</td>\n",
       "      <td>1500</td>\n",
       "      <td>Q1</td>\n",
       "    </tr>\n",
       "    <tr>\n",
       "      <th>163</th>\n",
       "      <td>audi</td>\n",
       "      <td>black</td>\n",
       "      <td>12</td>\n",
       "      <td>First Avenue</td>\n",
       "      <td>3254</td>\n",
       "      <td>Q1</td>\n",
       "    </tr>\n",
       "    <tr>\n",
       "      <th>164</th>\n",
       "      <td>audi</td>\n",
       "      <td>black</td>\n",
       "      <td>12</td>\n",
       "      <td>Ingestre Road</td>\n",
       "      <td>1498</td>\n",
       "      <td>Q1</td>\n",
       "    </tr>\n",
       "    <tr>\n",
       "      <th>165</th>\n",
       "      <td>audi</td>\n",
       "      <td>black</td>\n",
       "      <td>12</td>\n",
       "      <td>Lawrence Road E6</td>\n",
       "      <td>3299</td>\n",
       "      <td>Q1</td>\n",
       "    </tr>\n",
       "    <tr>\n",
       "      <th>166</th>\n",
       "      <td>audi</td>\n",
       "      <td>black</td>\n",
       "      <td>12</td>\n",
       "      <td>Napier Road E15</td>\n",
       "      <td>1434</td>\n",
       "      <td>Q1</td>\n",
       "    </tr>\n",
       "  </tbody>\n",
       "</table>\n",
       "</div>"
      ],
      "text/plain": [
       "     Make Colour Contravention Code          Location PA_Details Issue Date\n",
       "162  audi  black                 19       Antwerp Way       1500         Q1\n",
       "163  audi  black                 12      First Avenue       3254         Q1\n",
       "164  audi  black                 12     Ingestre Road       1498         Q1\n",
       "165  audi  black                 12  Lawrence Road E6       3299         Q1\n",
       "166  audi  black                 12   Napier Road E15       1434         Q1"
      ]
     },
     "execution_count": 127,
     "metadata": {},
     "output_type": "execute_result"
    }
   ],
   "source": [
    "df_categorical.head()"
   ]
  },
  {
   "cell_type": "markdown",
   "metadata": {},
   "source": [
    "### Elbow Method for optimal number of clusters"
   ]
  },
  {
   "cell_type": "code",
   "execution_count": 147,
   "metadata": {},
   "outputs": [
    {
     "name": "stdout",
     "output_type": "stream",
     "text": [
      "Cluster initiation: 1\n",
      "Cluster initiation: 2\n",
      "Cluster initiation: 3\n",
      "Cluster initiation: 4\n",
      "Cluster initiation: 5\n",
      "Cluster initiation: 6\n",
      "Cluster initiation: 7\n",
      "Cluster initiation: 8\n",
      "Cluster initiation: 9\n"
     ]
    }
   ],
   "source": [
    "# Choosing optimal K\n",
    "cost = []\n",
    "for cluster in range(1, 10):\n",
    "    try:\n",
    "        kmodes = KModes(n_clusters = cluster)\n",
    "        kmodes.fit_predict(df_categorical)\n",
    "        cost.append(kmodes.cost_)\n",
    "        print('Cluster initiation: {}'.format(cluster))\n",
    "    except:\n",
    "        break\n",
    "# Converting the results into a dataframe and plotting them\n",
    "df_cost = pd.DataFrame({'Cluster': range(1, 10), 'Cost': cost})"
   ]
  },
  {
   "cell_type": "code",
   "execution_count": 148,
   "metadata": {},
   "outputs": [],
   "source": [
    "# Import module for data visualization\n",
    "from plotnine import *\n",
    "import plotnine\n",
    "# Data visualization with matplotlib\n",
    "import matplotlib.pyplot as plt\n",
    "# Use the theme of ggplot\n",
    "plt.style.use('ggplot')"
   ]
  },
  {
   "cell_type": "code",
   "execution_count": 149,
   "metadata": {},
   "outputs": [
    {
     "data": {
      "image/png": "[encoded data removed]",
      "text/plain": [
       "<Figure size 800x480 with 1 Axes>"
      ]
     },
     "metadata": {
      "needs_background": "light"
     },
     "output_type": "display_data"
    },
    {
     "data": {
      "text/plain": [
       "<ggplot: (8773825481161)>"
      ]
     },
     "execution_count": 149,
     "metadata": {},
     "output_type": "execute_result"
    }
   ],
   "source": [
    "\n",
    "# Data viz\n",
    "plotnine.options.figure_size = (8, 4.8)\n",
    "(\n",
    "    ggplot(data = df_cost)+\n",
    "    geom_line(aes(x = 'Cluster',\n",
    "                  y = 'Cost'))+\n",
    "    geom_point(aes(x = 'Cluster',\n",
    "                   y = 'Cost'))+\n",
    "    geom_label(aes(x = 'Cluster',\n",
    "                   y = 'Cost',\n",
    "                   label = 'Cluster'),\n",
    "               size = 10,\n",
    "               nudge_y = 1000) +\n",
    "    labs(title = 'Optimal number of cluster with Elbow Method')+\n",
    "    xlab('Number of Clusters k')+\n",
    "    ylab('Cost')+\n",
    "    theme_minimal()\n",
    ")"
   ]
  },
  {
   "cell_type": "markdown",
   "metadata": {},
   "source": [
    "### Optimal number of clusters for Categorical data = 3"
   ]
  },
  {
   "cell_type": "code",
   "execution_count": 151,
   "metadata": {},
   "outputs": [],
   "source": [
    "kmodes = KModes(n_clusters = 3)\n",
    "kmodes.fit_predict(df_categorical)\n",
    "cost=kmodes.cost_\n",
    "labels_kmode = kmodes.labels_"
   ]
  },
  {
   "cell_type": "code",
   "execution_count": 152,
   "metadata": {},
   "outputs": [
    {
     "data": {
      "text/plain": [
       "array([0, 0, 0, ..., 1, 1, 1], dtype=uint16)"
      ]
     },
     "execution_count": 152,
     "metadata": {},
     "output_type": "execute_result"
    }
   ],
   "source": [
    "labels_kmode"
   ]
  },
  {
   "cell_type": "code",
   "execution_count": 153,
   "metadata": {},
   "outputs": [
    {
     "data": {
      "text/plain": [
       "(array([0, 1, 2], dtype=uint16), array([217419, 105257,  53189]))"
      ]
     },
     "execution_count": 153,
     "metadata": {},
     "output_type": "execute_result"
    }
   ],
   "source": [
    "np.unique(labels_kmode, return_counts = True)"
   ]
  },
  {
   "cell_type": "code",
   "execution_count": 154,
   "metadata": {},
   "outputs": [
    {
     "data": {
      "text/html": [
       "<div>\n",
       "<style scoped>\n",
       "    .dataframe tbody tr th:only-of-type {\n",
       "        vertical-align: middle;\n",
       "    }\n",
       "\n",
       "    .dataframe tbody tr th {\n",
       "        vertical-align: top;\n",
       "    }\n",
       "\n",
       "    .dataframe thead th {\n",
       "        text-align: right;\n",
       "    }\n",
       "</style>\n",
       "<table border=\"1\" class=\"dataframe\">\n",
       "  <thead>\n",
       "    <tr style=\"text-align: right;\">\n",
       "      <th></th>\n",
       "      <th>Make</th>\n",
       "      <th>Colour</th>\n",
       "      <th>Issue Time</th>\n",
       "      <th>Contravention Code</th>\n",
       "      <th>Location</th>\n",
       "      <th>PA_Details</th>\n",
       "      <th>Issue Date</th>\n",
       "    </tr>\n",
       "  </thead>\n",
       "  <tbody>\n",
       "    <tr>\n",
       "      <th>162</th>\n",
       "      <td>audi</td>\n",
       "      <td>black</td>\n",
       "      <td>9:31</td>\n",
       "      <td>19</td>\n",
       "      <td>Antwerp Way</td>\n",
       "      <td>1500</td>\n",
       "      <td>Q1</td>\n",
       "    </tr>\n",
       "    <tr>\n",
       "      <th>163</th>\n",
       "      <td>audi</td>\n",
       "      <td>black</td>\n",
       "      <td>10:30</td>\n",
       "      <td>12</td>\n",
       "      <td>First Avenue</td>\n",
       "      <td>3254</td>\n",
       "      <td>Q1</td>\n",
       "    </tr>\n",
       "    <tr>\n",
       "      <th>164</th>\n",
       "      <td>audi</td>\n",
       "      <td>black</td>\n",
       "      <td>10:30</td>\n",
       "      <td>12</td>\n",
       "      <td>Ingestre Road</td>\n",
       "      <td>1498</td>\n",
       "      <td>Q1</td>\n",
       "    </tr>\n",
       "    <tr>\n",
       "      <th>165</th>\n",
       "      <td>audi</td>\n",
       "      <td>black</td>\n",
       "      <td>10:30</td>\n",
       "      <td>12</td>\n",
       "      <td>Lawrence Road E6</td>\n",
       "      <td>3299</td>\n",
       "      <td>Q1</td>\n",
       "    </tr>\n",
       "    <tr>\n",
       "      <th>166</th>\n",
       "      <td>audi</td>\n",
       "      <td>black</td>\n",
       "      <td>10:30</td>\n",
       "      <td>12</td>\n",
       "      <td>Napier Road E15</td>\n",
       "      <td>1434</td>\n",
       "      <td>Q1</td>\n",
       "    </tr>\n",
       "  </tbody>\n",
       "</table>\n",
       "</div>"
      ],
      "text/plain": [
       "     Make Colour Issue Time Contravention Code          Location PA_Details  \\\n",
       "162  audi  black       9:31                 19       Antwerp Way       1500   \n",
       "163  audi  black      10:30                 12      First Avenue       3254   \n",
       "164  audi  black      10:30                 12     Ingestre Road       1498   \n",
       "165  audi  black      10:30                 12  Lawrence Road E6       3299   \n",
       "166  audi  black      10:30                 12   Napier Road E15       1434   \n",
       "\n",
       "    Issue Date  \n",
       "162         Q1  \n",
       "163         Q1  \n",
       "164         Q1  \n",
       "165         Q1  \n",
       "166         Q1  "
      ]
     },
     "execution_count": 154,
     "metadata": {},
     "output_type": "execute_result"
    }
   ],
   "source": [
    "df.head()"
   ]
  },
  {
   "cell_type": "code",
   "execution_count": 164,
   "metadata": {},
   "outputs": [
    {
     "data": {
      "text/html": [
       "<div>\n",
       "<style scoped>\n",
       "    .dataframe tbody tr th:only-of-type {\n",
       "        vertical-align: middle;\n",
       "    }\n",
       "\n",
       "    .dataframe tbody tr th {\n",
       "        vertical-align: top;\n",
       "    }\n",
       "\n",
       "    .dataframe thead th {\n",
       "        text-align: right;\n",
       "    }\n",
       "</style>\n",
       "<table border=\"1\" class=\"dataframe\">\n",
       "  <thead>\n",
       "    <tr style=\"text-align: right;\">\n",
       "      <th></th>\n",
       "      <th>Unnamed: 0</th>\n",
       "      <th>Make</th>\n",
       "      <th>Colour</th>\n",
       "      <th>Issue Time</th>\n",
       "      <th>Contravention Code</th>\n",
       "      <th>Location</th>\n",
       "      <th>PA_Details</th>\n",
       "      <th>Issue Date</th>\n",
       "      <th>Issue Time Decimal</th>\n",
       "    </tr>\n",
       "  </thead>\n",
       "  <tbody>\n",
       "    <tr>\n",
       "      <th>0</th>\n",
       "      <td>162</td>\n",
       "      <td>audi</td>\n",
       "      <td>black</td>\n",
       "      <td>9:31</td>\n",
       "      <td>19</td>\n",
       "      <td>Antwerp Way</td>\n",
       "      <td>1500</td>\n",
       "      <td>Q1</td>\n",
       "      <td>9.52</td>\n",
       "    </tr>\n",
       "    <tr>\n",
       "      <th>1</th>\n",
       "      <td>163</td>\n",
       "      <td>audi</td>\n",
       "      <td>black</td>\n",
       "      <td>10:30</td>\n",
       "      <td>12</td>\n",
       "      <td>First Avenue</td>\n",
       "      <td>3254</td>\n",
       "      <td>Q1</td>\n",
       "      <td>10.50</td>\n",
       "    </tr>\n",
       "    <tr>\n",
       "      <th>2</th>\n",
       "      <td>164</td>\n",
       "      <td>audi</td>\n",
       "      <td>black</td>\n",
       "      <td>10:30</td>\n",
       "      <td>12</td>\n",
       "      <td>Ingestre Road</td>\n",
       "      <td>1498</td>\n",
       "      <td>Q1</td>\n",
       "      <td>10.50</td>\n",
       "    </tr>\n",
       "    <tr>\n",
       "      <th>3</th>\n",
       "      <td>165</td>\n",
       "      <td>audi</td>\n",
       "      <td>black</td>\n",
       "      <td>10:30</td>\n",
       "      <td>12</td>\n",
       "      <td>Lawrence Road E6</td>\n",
       "      <td>3299</td>\n",
       "      <td>Q1</td>\n",
       "      <td>10.50</td>\n",
       "    </tr>\n",
       "    <tr>\n",
       "      <th>4</th>\n",
       "      <td>166</td>\n",
       "      <td>audi</td>\n",
       "      <td>black</td>\n",
       "      <td>10:30</td>\n",
       "      <td>12</td>\n",
       "      <td>Napier Road E15</td>\n",
       "      <td>1434</td>\n",
       "      <td>Q1</td>\n",
       "      <td>10.50</td>\n",
       "    </tr>\n",
       "  </tbody>\n",
       "</table>\n",
       "</div>"
      ],
      "text/plain": [
       "   Unnamed: 0  Make Colour Issue Time Contravention Code          Location  \\\n",
       "0         162  audi  black       9:31                 19       Antwerp Way   \n",
       "1         163  audi  black      10:30                 12      First Avenue   \n",
       "2         164  audi  black      10:30                 12     Ingestre Road   \n",
       "3         165  audi  black      10:30                 12  Lawrence Road E6   \n",
       "4         166  audi  black      10:30                 12   Napier Road E15   \n",
       "\n",
       "  PA_Details Issue Date  Issue Time Decimal  \n",
       "0       1500         Q1                9.52  \n",
       "1       3254         Q1               10.50  \n",
       "2       1498         Q1               10.50  \n",
       "3       3299         Q1               10.50  \n",
       "4       1434         Q1               10.50  "
      ]
     },
     "execution_count": 164,
     "metadata": {},
     "output_type": "execute_result"
    }
   ],
   "source": [
    "## Load Dataset\n",
    "df_new = pd.read_csv('Processed.csv')\n",
    "df_new.head()"
   ]
  },
  {
   "cell_type": "markdown",
   "metadata": {},
   "source": [
    "### Adding cluster labels in the dataframe"
   ]
  },
  {
   "cell_type": "code",
   "execution_count": 195,
   "metadata": {},
   "outputs": [],
   "source": [
    "df_new['clusters_k_means'] = labels"
   ]
  },
  {
   "cell_type": "code",
   "execution_count": 165,
   "metadata": {},
   "outputs": [
    {
     "data": {
      "text/html": [
       "<div>\n",
       "<style scoped>\n",
       "    .dataframe tbody tr th:only-of-type {\n",
       "        vertical-align: middle;\n",
       "    }\n",
       "\n",
       "    .dataframe tbody tr th {\n",
       "        vertical-align: top;\n",
       "    }\n",
       "\n",
       "    .dataframe thead th {\n",
       "        text-align: right;\n",
       "    }\n",
       "</style>\n",
       "<table border=\"1\" class=\"dataframe\">\n",
       "  <thead>\n",
       "    <tr style=\"text-align: right;\">\n",
       "      <th></th>\n",
       "      <th>Unnamed: 0</th>\n",
       "      <th>Make</th>\n",
       "      <th>Colour</th>\n",
       "      <th>Issue Time</th>\n",
       "      <th>Contravention Code</th>\n",
       "      <th>Location</th>\n",
       "      <th>PA_Details</th>\n",
       "      <th>Issue Date</th>\n",
       "      <th>Issue Time Decimal</th>\n",
       "      <th>clusters_k_means</th>\n",
       "      <th>clusters_k_mode</th>\n",
       "    </tr>\n",
       "  </thead>\n",
       "  <tbody>\n",
       "    <tr>\n",
       "      <th>0</th>\n",
       "      <td>162</td>\n",
       "      <td>audi</td>\n",
       "      <td>black</td>\n",
       "      <td>9:31</td>\n",
       "      <td>19</td>\n",
       "      <td>Antwerp Way</td>\n",
       "      <td>1500</td>\n",
       "      <td>Q1</td>\n",
       "      <td>9.52</td>\n",
       "      <td>3</td>\n",
       "      <td>0</td>\n",
       "    </tr>\n",
       "    <tr>\n",
       "      <th>1</th>\n",
       "      <td>163</td>\n",
       "      <td>audi</td>\n",
       "      <td>black</td>\n",
       "      <td>10:30</td>\n",
       "      <td>12</td>\n",
       "      <td>First Avenue</td>\n",
       "      <td>3254</td>\n",
       "      <td>Q1</td>\n",
       "      <td>10.50</td>\n",
       "      <td>3</td>\n",
       "      <td>0</td>\n",
       "    </tr>\n",
       "    <tr>\n",
       "      <th>2</th>\n",
       "      <td>164</td>\n",
       "      <td>audi</td>\n",
       "      <td>black</td>\n",
       "      <td>10:30</td>\n",
       "      <td>12</td>\n",
       "      <td>Ingestre Road</td>\n",
       "      <td>1498</td>\n",
       "      <td>Q1</td>\n",
       "      <td>10.50</td>\n",
       "      <td>3</td>\n",
       "      <td>0</td>\n",
       "    </tr>\n",
       "    <tr>\n",
       "      <th>3</th>\n",
       "      <td>165</td>\n",
       "      <td>audi</td>\n",
       "      <td>black</td>\n",
       "      <td>10:30</td>\n",
       "      <td>12</td>\n",
       "      <td>Lawrence Road E6</td>\n",
       "      <td>3299</td>\n",
       "      <td>Q1</td>\n",
       "      <td>10.50</td>\n",
       "      <td>3</td>\n",
       "      <td>0</td>\n",
       "    </tr>\n",
       "    <tr>\n",
       "      <th>4</th>\n",
       "      <td>166</td>\n",
       "      <td>audi</td>\n",
       "      <td>black</td>\n",
       "      <td>10:30</td>\n",
       "      <td>12</td>\n",
       "      <td>Napier Road E15</td>\n",
       "      <td>1434</td>\n",
       "      <td>Q1</td>\n",
       "      <td>10.50</td>\n",
       "      <td>3</td>\n",
       "      <td>0</td>\n",
       "    </tr>\n",
       "  </tbody>\n",
       "</table>\n",
       "</div>"
      ],
      "text/plain": [
       "   Unnamed: 0  Make Colour Issue Time Contravention Code          Location  \\\n",
       "0         162  audi  black       9:31                 19       Antwerp Way   \n",
       "1         163  audi  black      10:30                 12      First Avenue   \n",
       "2         164  audi  black      10:30                 12     Ingestre Road   \n",
       "3         165  audi  black      10:30                 12  Lawrence Road E6   \n",
       "4         166  audi  black      10:30                 12   Napier Road E15   \n",
       "\n",
       "  PA_Details Issue Date  Issue Time Decimal  clusters_k_means  clusters_k_mode  \n",
       "0       1500         Q1                9.52                 3                0  \n",
       "1       3254         Q1               10.50                 3                0  \n",
       "2       1498         Q1               10.50                 3                0  \n",
       "3       3299         Q1               10.50                 3                0  \n",
       "4       1434         Q1               10.50                 3                0  "
      ]
     },
     "execution_count": 165,
     "metadata": {},
     "output_type": "execute_result"
    }
   ],
   "source": [
    "\n",
    "df_new['clusters_k_mode'] = labels_kmode\n",
    "df_new.head()"
   ]
  },
  {
   "cell_type": "code",
   "execution_count": 166,
   "metadata": {},
   "outputs": [
    {
     "data": {
      "text/html": [
       "<div>\n",
       "<style scoped>\n",
       "    .dataframe tbody tr th:only-of-type {\n",
       "        vertical-align: middle;\n",
       "    }\n",
       "\n",
       "    .dataframe tbody tr th {\n",
       "        vertical-align: top;\n",
       "    }\n",
       "\n",
       "    .dataframe thead th {\n",
       "        text-align: right;\n",
       "    }\n",
       "</style>\n",
       "<table border=\"1\" class=\"dataframe\">\n",
       "  <thead>\n",
       "    <tr style=\"text-align: right;\">\n",
       "      <th></th>\n",
       "      <th>Make</th>\n",
       "      <th>Colour</th>\n",
       "      <th>Issue Time</th>\n",
       "      <th>Contravention Code</th>\n",
       "      <th>Location</th>\n",
       "      <th>PA_Details</th>\n",
       "      <th>Issue Date</th>\n",
       "      <th>clusters_k_means</th>\n",
       "      <th>clusters_k_mode</th>\n",
       "    </tr>\n",
       "  </thead>\n",
       "  <tbody>\n",
       "    <tr>\n",
       "      <th>162</th>\n",
       "      <td>audi</td>\n",
       "      <td>black</td>\n",
       "      <td>9:31</td>\n",
       "      <td>19</td>\n",
       "      <td>Antwerp Way</td>\n",
       "      <td>1500</td>\n",
       "      <td>Q1</td>\n",
       "      <td>3</td>\n",
       "      <td>0</td>\n",
       "    </tr>\n",
       "    <tr>\n",
       "      <th>163</th>\n",
       "      <td>audi</td>\n",
       "      <td>black</td>\n",
       "      <td>10:30</td>\n",
       "      <td>12</td>\n",
       "      <td>First Avenue</td>\n",
       "      <td>3254</td>\n",
       "      <td>Q1</td>\n",
       "      <td>3</td>\n",
       "      <td>0</td>\n",
       "    </tr>\n",
       "    <tr>\n",
       "      <th>164</th>\n",
       "      <td>audi</td>\n",
       "      <td>black</td>\n",
       "      <td>10:30</td>\n",
       "      <td>12</td>\n",
       "      <td>Ingestre Road</td>\n",
       "      <td>1498</td>\n",
       "      <td>Q1</td>\n",
       "      <td>3</td>\n",
       "      <td>0</td>\n",
       "    </tr>\n",
       "    <tr>\n",
       "      <th>165</th>\n",
       "      <td>audi</td>\n",
       "      <td>black</td>\n",
       "      <td>10:30</td>\n",
       "      <td>12</td>\n",
       "      <td>Lawrence Road E6</td>\n",
       "      <td>3299</td>\n",
       "      <td>Q1</td>\n",
       "      <td>3</td>\n",
       "      <td>0</td>\n",
       "    </tr>\n",
       "    <tr>\n",
       "      <th>166</th>\n",
       "      <td>audi</td>\n",
       "      <td>black</td>\n",
       "      <td>10:30</td>\n",
       "      <td>12</td>\n",
       "      <td>Napier Road E15</td>\n",
       "      <td>1434</td>\n",
       "      <td>Q1</td>\n",
       "      <td>3</td>\n",
       "      <td>0</td>\n",
       "    </tr>\n",
       "  </tbody>\n",
       "</table>\n",
       "</div>"
      ],
      "text/plain": [
       "     Make Colour Issue Time Contravention Code          Location PA_Details  \\\n",
       "162  audi  black       9:31                 19       Antwerp Way       1500   \n",
       "163  audi  black      10:30                 12      First Avenue       3254   \n",
       "164  audi  black      10:30                 12     Ingestre Road       1498   \n",
       "165  audi  black      10:30                 12  Lawrence Road E6       3299   \n",
       "166  audi  black      10:30                 12   Napier Road E15       1434   \n",
       "\n",
       "    Issue Date  clusters_k_means  clusters_k_mode  \n",
       "162         Q1                 3                0  \n",
       "163         Q1                 3                0  \n",
       "164         Q1                 3                0  \n",
       "165         Q1                 3                0  \n",
       "166         Q1                 3                0  "
      ]
     },
     "execution_count": 166,
     "metadata": {},
     "output_type": "execute_result"
    }
   ],
   "source": [
    "df.head()"
   ]
  },
  {
   "cell_type": "markdown",
   "metadata": {},
   "source": [
    "## K Prototype for complete dataset"
   ]
  },
  {
   "cell_type": "code",
   "execution_count": 167,
   "metadata": {},
   "outputs": [],
   "source": [
    "from kmodes.kprototypes import KPrototypes"
   ]
  },
  {
   "cell_type": "code",
   "execution_count": 169,
   "metadata": {},
   "outputs": [
    {
     "data": {
      "text/html": [
       "<div>\n",
       "<style scoped>\n",
       "    .dataframe tbody tr th:only-of-type {\n",
       "        vertical-align: middle;\n",
       "    }\n",
       "\n",
       "    .dataframe tbody tr th {\n",
       "        vertical-align: top;\n",
       "    }\n",
       "\n",
       "    .dataframe thead th {\n",
       "        text-align: right;\n",
       "    }\n",
       "</style>\n",
       "<table border=\"1\" class=\"dataframe\">\n",
       "  <thead>\n",
       "    <tr style=\"text-align: right;\">\n",
       "      <th></th>\n",
       "      <th>Unnamed: 0</th>\n",
       "      <th>Make</th>\n",
       "      <th>Colour</th>\n",
       "      <th>Issue Time</th>\n",
       "      <th>Contravention Code</th>\n",
       "      <th>Location</th>\n",
       "      <th>PA_Details</th>\n",
       "      <th>Issue Date</th>\n",
       "      <th>Issue Time Decimal</th>\n",
       "      <th>clusters_k_means</th>\n",
       "      <th>clusters_k_mode</th>\n",
       "    </tr>\n",
       "  </thead>\n",
       "  <tbody>\n",
       "    <tr>\n",
       "      <th>0</th>\n",
       "      <td>162</td>\n",
       "      <td>audi</td>\n",
       "      <td>black</td>\n",
       "      <td>9:31</td>\n",
       "      <td>19</td>\n",
       "      <td>Antwerp Way</td>\n",
       "      <td>1500</td>\n",
       "      <td>Q1</td>\n",
       "      <td>9.52</td>\n",
       "      <td>3</td>\n",
       "      <td>0</td>\n",
       "    </tr>\n",
       "    <tr>\n",
       "      <th>1</th>\n",
       "      <td>163</td>\n",
       "      <td>audi</td>\n",
       "      <td>black</td>\n",
       "      <td>10:30</td>\n",
       "      <td>12</td>\n",
       "      <td>First Avenue</td>\n",
       "      <td>3254</td>\n",
       "      <td>Q1</td>\n",
       "      <td>10.50</td>\n",
       "      <td>3</td>\n",
       "      <td>0</td>\n",
       "    </tr>\n",
       "    <tr>\n",
       "      <th>2</th>\n",
       "      <td>164</td>\n",
       "      <td>audi</td>\n",
       "      <td>black</td>\n",
       "      <td>10:30</td>\n",
       "      <td>12</td>\n",
       "      <td>Ingestre Road</td>\n",
       "      <td>1498</td>\n",
       "      <td>Q1</td>\n",
       "      <td>10.50</td>\n",
       "      <td>3</td>\n",
       "      <td>0</td>\n",
       "    </tr>\n",
       "    <tr>\n",
       "      <th>3</th>\n",
       "      <td>165</td>\n",
       "      <td>audi</td>\n",
       "      <td>black</td>\n",
       "      <td>10:30</td>\n",
       "      <td>12</td>\n",
       "      <td>Lawrence Road E6</td>\n",
       "      <td>3299</td>\n",
       "      <td>Q1</td>\n",
       "      <td>10.50</td>\n",
       "      <td>3</td>\n",
       "      <td>0</td>\n",
       "    </tr>\n",
       "    <tr>\n",
       "      <th>4</th>\n",
       "      <td>166</td>\n",
       "      <td>audi</td>\n",
       "      <td>black</td>\n",
       "      <td>10:30</td>\n",
       "      <td>12</td>\n",
       "      <td>Napier Road E15</td>\n",
       "      <td>1434</td>\n",
       "      <td>Q1</td>\n",
       "      <td>10.50</td>\n",
       "      <td>3</td>\n",
       "      <td>0</td>\n",
       "    </tr>\n",
       "  </tbody>\n",
       "</table>\n",
       "</div>"
      ],
      "text/plain": [
       "   Unnamed: 0  Make Colour Issue Time Contravention Code          Location  \\\n",
       "0         162  audi  black       9:31                 19       Antwerp Way   \n",
       "1         163  audi  black      10:30                 12      First Avenue   \n",
       "2         164  audi  black      10:30                 12     Ingestre Road   \n",
       "3         165  audi  black      10:30                 12  Lawrence Road E6   \n",
       "4         166  audi  black      10:30                 12   Napier Road E15   \n",
       "\n",
       "  PA_Details Issue Date  Issue Time Decimal  clusters_k_means  clusters_k_mode  \n",
       "0       1500         Q1                9.52                 3                0  \n",
       "1       3254         Q1               10.50                 3                0  \n",
       "2       1498         Q1               10.50                 3                0  \n",
       "3       3299         Q1               10.50                 3                0  \n",
       "4       1434         Q1               10.50                 3                0  "
      ]
     },
     "execution_count": 169,
     "metadata": {},
     "output_type": "execute_result"
    }
   ],
   "source": [
    "df_new.head()"
   ]
  },
  {
   "cell_type": "markdown",
   "metadata": {},
   "source": [
    "- Keeping the original features of the dataset"
   ]
  },
  {
   "cell_type": "code",
   "execution_count": 170,
   "metadata": {},
   "outputs": [
    {
     "data": {
      "text/html": [
       "<div>\n",
       "<style scoped>\n",
       "    .dataframe tbody tr th:only-of-type {\n",
       "        vertical-align: middle;\n",
       "    }\n",
       "\n",
       "    .dataframe tbody tr th {\n",
       "        vertical-align: top;\n",
       "    }\n",
       "\n",
       "    .dataframe thead th {\n",
       "        text-align: right;\n",
       "    }\n",
       "</style>\n",
       "<table border=\"1\" class=\"dataframe\">\n",
       "  <thead>\n",
       "    <tr style=\"text-align: right;\">\n",
       "      <th></th>\n",
       "      <th>Make</th>\n",
       "      <th>Colour</th>\n",
       "      <th>Contravention Code</th>\n",
       "      <th>Location</th>\n",
       "      <th>PA_Details</th>\n",
       "      <th>Issue Date</th>\n",
       "      <th>Issue Time Decimal</th>\n",
       "    </tr>\n",
       "  </thead>\n",
       "  <tbody>\n",
       "    <tr>\n",
       "      <th>0</th>\n",
       "      <td>audi</td>\n",
       "      <td>black</td>\n",
       "      <td>19</td>\n",
       "      <td>Antwerp Way</td>\n",
       "      <td>1500</td>\n",
       "      <td>Q1</td>\n",
       "      <td>9.52</td>\n",
       "    </tr>\n",
       "    <tr>\n",
       "      <th>1</th>\n",
       "      <td>audi</td>\n",
       "      <td>black</td>\n",
       "      <td>12</td>\n",
       "      <td>First Avenue</td>\n",
       "      <td>3254</td>\n",
       "      <td>Q1</td>\n",
       "      <td>10.50</td>\n",
       "    </tr>\n",
       "    <tr>\n",
       "      <th>2</th>\n",
       "      <td>audi</td>\n",
       "      <td>black</td>\n",
       "      <td>12</td>\n",
       "      <td>Ingestre Road</td>\n",
       "      <td>1498</td>\n",
       "      <td>Q1</td>\n",
       "      <td>10.50</td>\n",
       "    </tr>\n",
       "    <tr>\n",
       "      <th>3</th>\n",
       "      <td>audi</td>\n",
       "      <td>black</td>\n",
       "      <td>12</td>\n",
       "      <td>Lawrence Road E6</td>\n",
       "      <td>3299</td>\n",
       "      <td>Q1</td>\n",
       "      <td>10.50</td>\n",
       "    </tr>\n",
       "    <tr>\n",
       "      <th>4</th>\n",
       "      <td>audi</td>\n",
       "      <td>black</td>\n",
       "      <td>12</td>\n",
       "      <td>Napier Road E15</td>\n",
       "      <td>1434</td>\n",
       "      <td>Q1</td>\n",
       "      <td>10.50</td>\n",
       "    </tr>\n",
       "  </tbody>\n",
       "</table>\n",
       "</div>"
      ],
      "text/plain": [
       "   Make Colour Contravention Code          Location PA_Details Issue Date  \\\n",
       "0  audi  black                 19       Antwerp Way       1500         Q1   \n",
       "1  audi  black                 12      First Avenue       3254         Q1   \n",
       "2  audi  black                 12     Ingestre Road       1498         Q1   \n",
       "3  audi  black                 12  Lawrence Road E6       3299         Q1   \n",
       "4  audi  black                 12   Napier Road E15       1434         Q1   \n",
       "\n",
       "   Issue Time Decimal  \n",
       "0                9.52  \n",
       "1               10.50  \n",
       "2               10.50  \n",
       "3               10.50  \n",
       "4               10.50  "
      ]
     },
     "execution_count": 170,
     "metadata": {},
     "output_type": "execute_result"
    }
   ],
   "source": [
    "df =df_new[['Make', 'Colour', 'Contravention Code', 'Location','PA_Details', 'Issue Date','Issue Time Decimal']]\n",
    "df.head()"
   ]
  },
  {
   "cell_type": "code",
   "execution_count": 171,
   "metadata": {},
   "outputs": [
    {
     "name": "stdout",
     "output_type": "stream",
     "text": [
      "<class 'pandas.core.frame.DataFrame'>\n",
      "RangeIndex: 375865 entries, 0 to 375864\n",
      "Data columns (total 7 columns):\n",
      " #   Column              Non-Null Count   Dtype  \n",
      "---  ------              --------------   -----  \n",
      " 0   Make                375865 non-null  object \n",
      " 1   Colour              375865 non-null  object \n",
      " 2   Contravention Code  375865 non-null  object \n",
      " 3   Location            375865 non-null  object \n",
      " 4   PA_Details          375865 non-null  object \n",
      " 5   Issue Date          375865 non-null  object \n",
      " 6   Issue Time Decimal  375865 non-null  float64\n",
      "dtypes: float64(1), object(6)\n",
      "memory usage: 20.1+ MB\n"
     ]
    }
   ],
   "source": [
    "df.info()"
   ]
  },
  {
   "cell_type": "markdown",
   "metadata": {},
   "source": [
    "- Inspecting the categorical variables"
   ]
  },
  {
   "cell_type": "code",
   "execution_count": 172,
   "metadata": {},
   "outputs": [
    {
     "data": {
      "text/plain": [
       "Make                   129\n",
       "Colour                  24\n",
       "Contravention Code      81\n",
       "Location              1631\n",
       "PA_Details             250\n",
       "Issue Date              12\n",
       "dtype: int64"
      ]
     },
     "execution_count": 172,
     "metadata": {},
     "output_type": "execute_result"
    }
   ],
   "source": [
    "# Inspect the categorical variables\n",
    "df.select_dtypes('object').nunique()"
   ]
  },
  {
   "cell_type": "markdown",
   "metadata": {},
   "source": [
    "- Inspecting the Numerical variables"
   ]
  },
  {
   "cell_type": "code",
   "execution_count": 173,
   "metadata": {},
   "outputs": [
    {
     "data": {
      "text/html": [
       "<div>\n",
       "<style scoped>\n",
       "    .dataframe tbody tr th:only-of-type {\n",
       "        vertical-align: middle;\n",
       "    }\n",
       "\n",
       "    .dataframe tbody tr th {\n",
       "        vertical-align: top;\n",
       "    }\n",
       "\n",
       "    .dataframe thead th {\n",
       "        text-align: right;\n",
       "    }\n",
       "</style>\n",
       "<table border=\"1\" class=\"dataframe\">\n",
       "  <thead>\n",
       "    <tr style=\"text-align: right;\">\n",
       "      <th></th>\n",
       "      <th>Issue Time Decimal</th>\n",
       "    </tr>\n",
       "  </thead>\n",
       "  <tbody>\n",
       "    <tr>\n",
       "      <th>count</th>\n",
       "      <td>375865.000000</td>\n",
       "    </tr>\n",
       "    <tr>\n",
       "      <th>mean</th>\n",
       "      <td>12.188128</td>\n",
       "    </tr>\n",
       "    <tr>\n",
       "      <th>std</th>\n",
       "      <td>3.521178</td>\n",
       "    </tr>\n",
       "    <tr>\n",
       "      <th>min</th>\n",
       "      <td>0.000000</td>\n",
       "    </tr>\n",
       "    <tr>\n",
       "      <th>25%</th>\n",
       "      <td>9.800000</td>\n",
       "    </tr>\n",
       "    <tr>\n",
       "      <th>50%</th>\n",
       "      <td>11.830000</td>\n",
       "    </tr>\n",
       "    <tr>\n",
       "      <th>75%</th>\n",
       "      <td>14.300000</td>\n",
       "    </tr>\n",
       "    <tr>\n",
       "      <th>max</th>\n",
       "      <td>23.980000</td>\n",
       "    </tr>\n",
       "  </tbody>\n",
       "</table>\n",
       "</div>"
      ],
      "text/plain": [
       "       Issue Time Decimal\n",
       "count       375865.000000\n",
       "mean            12.188128\n",
       "std              3.521178\n",
       "min              0.000000\n",
       "25%              9.800000\n",
       "50%             11.830000\n",
       "75%             14.300000\n",
       "max             23.980000"
      ]
     },
     "execution_count": 173,
     "metadata": {},
     "output_type": "execute_result"
    }
   ],
   "source": [
    "# Inspect the numerical variables\n",
    "df.describe()"
   ]
  },
  {
   "cell_type": "code",
   "execution_count": 174,
   "metadata": {},
   "outputs": [
    {
     "name": "stdout",
     "output_type": "stream",
     "text": [
      "Categorical columns           : ['Make', 'Colour', 'Contravention Code', 'Location', 'PA_Details', 'Issue Date']\n",
      "Categorical columns position  : [0, 1, 2, 3, 4, 5]\n"
     ]
    }
   ],
   "source": [
    "# Get the position of categorical columns\n",
    "catColumnsPos = [df.columns.get_loc(col) for col in list(df.select_dtypes('object').columns)]\n",
    "print('Categorical columns           : {}'.format(list(df.select_dtypes('object').columns)))\n",
    "print('Categorical columns position  : {}'.format(catColumnsPos))"
   ]
  },
  {
   "cell_type": "code",
   "execution_count": 175,
   "metadata": {},
   "outputs": [
    {
     "data": {
      "text/plain": [
       "array([['audi', 'black', '19', ..., '1500', 'Q1', 9.52],\n",
       "       ['audi', 'black', '12', ..., '3254', 'Q1', 10.5],\n",
       "       ['audi', 'black', '12', ..., '1498', 'Q1', 10.5],\n",
       "       ...,\n",
       "       ['yamaha', 'white', '81', ..., 'PN1458', 'Q12', 16.5],\n",
       "       ['yamaha', 'white', '62', ..., '1475', 'Q12', 17.07],\n",
       "       ['yamaha', 'white', '1', ..., '3237', 'Q12', 17.13]], dtype=object)"
      ]
     },
     "execution_count": 175,
     "metadata": {},
     "output_type": "execute_result"
    }
   ],
   "source": [
    "# Convert dataframe to matrix\n",
    "dfMatrix = df.to_numpy()\n",
    "dfMatrix"
   ]
  },
  {
   "cell_type": "markdown",
   "metadata": {},
   "source": [
    "## K Prototype"
   ]
  },
  {
   "cell_type": "code",
   "execution_count": 176,
   "metadata": {},
   "outputs": [
    {
     "data": {
      "text/plain": [
       "array([1, 1, 1, ..., 0, 0, 0], dtype=uint16)"
      ]
     },
     "execution_count": 176,
     "metadata": {},
     "output_type": "execute_result"
    }
   ],
   "source": [
    "kprototype = KPrototypes(n_clusters = 3)\n",
    "kprototype.fit_predict(dfMatrix, categorical = catColumnsPos)\n"
   ]
  },
  {
   "cell_type": "code",
   "execution_count": 177,
   "metadata": {},
   "outputs": [],
   "source": [
    "labels_kprototype = kprototype.labels_"
   ]
  },
  {
   "cell_type": "markdown",
   "metadata": {},
   "source": [
    "### Adding cluster labels in the dataframe"
   ]
  },
  {
   "cell_type": "code",
   "execution_count": 178,
   "metadata": {},
   "outputs": [
    {
     "data": {
      "text/html": [
       "<div>\n",
       "<style scoped>\n",
       "    .dataframe tbody tr th:only-of-type {\n",
       "        vertical-align: middle;\n",
       "    }\n",
       "\n",
       "    .dataframe tbody tr th {\n",
       "        vertical-align: top;\n",
       "    }\n",
       "\n",
       "    .dataframe thead th {\n",
       "        text-align: right;\n",
       "    }\n",
       "</style>\n",
       "<table border=\"1\" class=\"dataframe\">\n",
       "  <thead>\n",
       "    <tr style=\"text-align: right;\">\n",
       "      <th></th>\n",
       "      <th>Unnamed: 0</th>\n",
       "      <th>Make</th>\n",
       "      <th>Colour</th>\n",
       "      <th>Issue Time</th>\n",
       "      <th>Contravention Code</th>\n",
       "      <th>Location</th>\n",
       "      <th>PA_Details</th>\n",
       "      <th>Issue Date</th>\n",
       "      <th>Issue Time Decimal</th>\n",
       "      <th>clusters_k_means</th>\n",
       "      <th>clusters_k_mode</th>\n",
       "      <th>clusters_k_prototype</th>\n",
       "    </tr>\n",
       "  </thead>\n",
       "  <tbody>\n",
       "    <tr>\n",
       "      <th>0</th>\n",
       "      <td>162</td>\n",
       "      <td>audi</td>\n",
       "      <td>black</td>\n",
       "      <td>9:31</td>\n",
       "      <td>19</td>\n",
       "      <td>Antwerp Way</td>\n",
       "      <td>1500</td>\n",
       "      <td>Q1</td>\n",
       "      <td>9.52</td>\n",
       "      <td>3</td>\n",
       "      <td>0</td>\n",
       "      <td>1</td>\n",
       "    </tr>\n",
       "    <tr>\n",
       "      <th>1</th>\n",
       "      <td>163</td>\n",
       "      <td>audi</td>\n",
       "      <td>black</td>\n",
       "      <td>10:30</td>\n",
       "      <td>12</td>\n",
       "      <td>First Avenue</td>\n",
       "      <td>3254</td>\n",
       "      <td>Q1</td>\n",
       "      <td>10.50</td>\n",
       "      <td>3</td>\n",
       "      <td>0</td>\n",
       "      <td>1</td>\n",
       "    </tr>\n",
       "    <tr>\n",
       "      <th>2</th>\n",
       "      <td>164</td>\n",
       "      <td>audi</td>\n",
       "      <td>black</td>\n",
       "      <td>10:30</td>\n",
       "      <td>12</td>\n",
       "      <td>Ingestre Road</td>\n",
       "      <td>1498</td>\n",
       "      <td>Q1</td>\n",
       "      <td>10.50</td>\n",
       "      <td>3</td>\n",
       "      <td>0</td>\n",
       "      <td>1</td>\n",
       "    </tr>\n",
       "    <tr>\n",
       "      <th>3</th>\n",
       "      <td>165</td>\n",
       "      <td>audi</td>\n",
       "      <td>black</td>\n",
       "      <td>10:30</td>\n",
       "      <td>12</td>\n",
       "      <td>Lawrence Road E6</td>\n",
       "      <td>3299</td>\n",
       "      <td>Q1</td>\n",
       "      <td>10.50</td>\n",
       "      <td>3</td>\n",
       "      <td>0</td>\n",
       "      <td>1</td>\n",
       "    </tr>\n",
       "    <tr>\n",
       "      <th>4</th>\n",
       "      <td>166</td>\n",
       "      <td>audi</td>\n",
       "      <td>black</td>\n",
       "      <td>10:30</td>\n",
       "      <td>12</td>\n",
       "      <td>Napier Road E15</td>\n",
       "      <td>1434</td>\n",
       "      <td>Q1</td>\n",
       "      <td>10.50</td>\n",
       "      <td>3</td>\n",
       "      <td>0</td>\n",
       "      <td>1</td>\n",
       "    </tr>\n",
       "  </tbody>\n",
       "</table>\n",
       "</div>"
      ],
      "text/plain": [
       "   Unnamed: 0  Make Colour Issue Time Contravention Code          Location  \\\n",
       "0         162  audi  black       9:31                 19       Antwerp Way   \n",
       "1         163  audi  black      10:30                 12      First Avenue   \n",
       "2         164  audi  black      10:30                 12     Ingestre Road   \n",
       "3         165  audi  black      10:30                 12  Lawrence Road E6   \n",
       "4         166  audi  black      10:30                 12   Napier Road E15   \n",
       "\n",
       "  PA_Details Issue Date  Issue Time Decimal  clusters_k_means  \\\n",
       "0       1500         Q1                9.52                 3   \n",
       "1       3254         Q1               10.50                 3   \n",
       "2       1498         Q1               10.50                 3   \n",
       "3       3299         Q1               10.50                 3   \n",
       "4       1434         Q1               10.50                 3   \n",
       "\n",
       "   clusters_k_mode  clusters_k_prototype  \n",
       "0                0                     1  \n",
       "1                0                     1  \n",
       "2                0                     1  \n",
       "3                0                     1  \n",
       "4                0                     1  "
      ]
     },
     "execution_count": 178,
     "metadata": {},
     "output_type": "execute_result"
    }
   ],
   "source": [
    "df_new['clusters_k_prototype'] = labels_kprototype\n",
    "df_new.head()"
   ]
  },
  {
   "cell_type": "markdown",
   "metadata": {},
   "source": [
    "### Saving cluster lables to clustered_data.csv file."
   ]
  },
  {
   "cell_type": "code",
   "execution_count": 198,
   "metadata": {},
   "outputs": [
    {
     "data": {
      "text/html": [
       "<div>\n",
       "<style scoped>\n",
       "    .dataframe tbody tr th:only-of-type {\n",
       "        vertical-align: middle;\n",
       "    }\n",
       "\n",
       "    .dataframe tbody tr th {\n",
       "        vertical-align: top;\n",
       "    }\n",
       "\n",
       "    .dataframe thead th {\n",
       "        text-align: right;\n",
       "    }\n",
       "</style>\n",
       "<table border=\"1\" class=\"dataframe\">\n",
       "  <thead>\n",
       "    <tr style=\"text-align: right;\">\n",
       "      <th></th>\n",
       "      <th>Original_Index</th>\n",
       "      <th>Make</th>\n",
       "      <th>Colour</th>\n",
       "      <th>Issue Time</th>\n",
       "      <th>Contravention Code</th>\n",
       "      <th>Location</th>\n",
       "      <th>PA_Details</th>\n",
       "      <th>Issue Date</th>\n",
       "      <th>Issue Time Decimal</th>\n",
       "      <th>clusters_k_means</th>\n",
       "      <th>clusters_k_mode</th>\n",
       "      <th>clusters_k_prototype</th>\n",
       "    </tr>\n",
       "  </thead>\n",
       "  <tbody>\n",
       "    <tr>\n",
       "      <th>0</th>\n",
       "      <td>162</td>\n",
       "      <td>audi</td>\n",
       "      <td>black</td>\n",
       "      <td>9:31</td>\n",
       "      <td>19</td>\n",
       "      <td>Antwerp Way</td>\n",
       "      <td>1500</td>\n",
       "      <td>Q1</td>\n",
       "      <td>9.52</td>\n",
       "      <td>2</td>\n",
       "      <td>0</td>\n",
       "      <td>1</td>\n",
       "    </tr>\n",
       "    <tr>\n",
       "      <th>1</th>\n",
       "      <td>163</td>\n",
       "      <td>audi</td>\n",
       "      <td>black</td>\n",
       "      <td>10:30</td>\n",
       "      <td>12</td>\n",
       "      <td>First Avenue</td>\n",
       "      <td>3254</td>\n",
       "      <td>Q1</td>\n",
       "      <td>10.50</td>\n",
       "      <td>2</td>\n",
       "      <td>0</td>\n",
       "      <td>1</td>\n",
       "    </tr>\n",
       "    <tr>\n",
       "      <th>2</th>\n",
       "      <td>164</td>\n",
       "      <td>audi</td>\n",
       "      <td>black</td>\n",
       "      <td>10:30</td>\n",
       "      <td>12</td>\n",
       "      <td>Ingestre Road</td>\n",
       "      <td>1498</td>\n",
       "      <td>Q1</td>\n",
       "      <td>10.50</td>\n",
       "      <td>2</td>\n",
       "      <td>0</td>\n",
       "      <td>1</td>\n",
       "    </tr>\n",
       "    <tr>\n",
       "      <th>3</th>\n",
       "      <td>165</td>\n",
       "      <td>audi</td>\n",
       "      <td>black</td>\n",
       "      <td>10:30</td>\n",
       "      <td>12</td>\n",
       "      <td>Lawrence Road E6</td>\n",
       "      <td>3299</td>\n",
       "      <td>Q1</td>\n",
       "      <td>10.50</td>\n",
       "      <td>2</td>\n",
       "      <td>0</td>\n",
       "      <td>1</td>\n",
       "    </tr>\n",
       "    <tr>\n",
       "      <th>4</th>\n",
       "      <td>166</td>\n",
       "      <td>audi</td>\n",
       "      <td>black</td>\n",
       "      <td>10:30</td>\n",
       "      <td>12</td>\n",
       "      <td>Napier Road E15</td>\n",
       "      <td>1434</td>\n",
       "      <td>Q1</td>\n",
       "      <td>10.50</td>\n",
       "      <td>2</td>\n",
       "      <td>0</td>\n",
       "      <td>1</td>\n",
       "    </tr>\n",
       "  </tbody>\n",
       "</table>\n",
       "</div>"
      ],
      "text/plain": [
       "   Original_Index  Make Colour Issue Time Contravention Code  \\\n",
       "0             162  audi  black       9:31                 19   \n",
       "1             163  audi  black      10:30                 12   \n",
       "2             164  audi  black      10:30                 12   \n",
       "3             165  audi  black      10:30                 12   \n",
       "4             166  audi  black      10:30                 12   \n",
       "\n",
       "           Location PA_Details Issue Date  Issue Time Decimal  \\\n",
       "0       Antwerp Way       1500         Q1                9.52   \n",
       "1      First Avenue       3254         Q1               10.50   \n",
       "2     Ingestre Road       1498         Q1               10.50   \n",
       "3  Lawrence Road E6       3299         Q1               10.50   \n",
       "4   Napier Road E15       1434         Q1               10.50   \n",
       "\n",
       "   clusters_k_means  clusters_k_mode  clusters_k_prototype  \n",
       "0                 2                0                     1  \n",
       "1                 2                0                     1  \n",
       "2                 2                0                     1  \n",
       "3                 2                0                     1  \n",
       "4                 2                0                     1  "
      ]
     },
     "execution_count": 198,
     "metadata": {},
     "output_type": "execute_result"
    }
   ],
   "source": [
    "\n",
    "\n",
    "df_new.rename(columns = {'Unnamed: 0':'Original_Index'}, inplace = True)\n",
    "df_new.head()"
   ]
  },
  {
   "cell_type": "code",
   "execution_count": 200,
   "metadata": {},
   "outputs": [],
   "source": [
    "df_new.to_csv('clustered_data.csv')"
   ]
  },
  {
   "cell_type": "code",
   "execution_count": 201,
   "metadata": {},
   "outputs": [
    {
     "data": {
      "text/plain": [
       "(array([0, 1, 2], dtype=int32), array([163234,  74335, 138296]))"
      ]
     },
     "execution_count": 201,
     "metadata": {},
     "output_type": "execute_result"
    }
   ],
   "source": [
    "np.unique(labels, return_counts = True)"
   ]
  },
  {
   "cell_type": "code",
   "execution_count": 202,
   "metadata": {},
   "outputs": [
    {
     "data": {
      "text/plain": [
       "numpy.ndarray"
      ]
     },
     "execution_count": 202,
     "metadata": {},
     "output_type": "execute_result"
    }
   ],
   "source": [
    "type(labels)"
   ]
  },
  {
   "cell_type": "markdown",
   "metadata": {},
   "source": [
    "### Visualising count of records in each cluster"
   ]
  },
  {
   "cell_type": "markdown",
   "metadata": {},
   "source": [
    "- \"Count of records in each cluster in Clustered data for Numerical Features\""
   ]
  },
  {
   "cell_type": "code",
   "execution_count": 203,
   "metadata": {},
   "outputs": [
    {
     "data": {
      "text/plain": [
       "Text(0.5, 1.0, 'Count of records in each cluster in Clustered data for Numerical Features')"
      ]
     },
     "execution_count": 203,
     "metadata": {},
     "output_type": "execute_result"
    },
    {
     "data": {
      "image/png": "[encoded data removed]",
      "text/plain": [
       "<Figure size 432x288 with 1 Axes>"
      ]
     },
     "metadata": {},
     "output_type": "display_data"
    }
   ],
   "source": [
    "a = np.hstack(labels)\n",
    "_ = plt.hist(a)  # arguments are passed to np.histogram\n",
    "plt.title(\"Count of records in each cluster in Clustered data for Numerical Features\")"
   ]
  },
  {
   "cell_type": "code",
   "execution_count": 204,
   "metadata": {},
   "outputs": [
    {
     "data": {
      "text/plain": [
       "(array([0, 1, 2], dtype=uint16), array([217419, 105257,  53189]))"
      ]
     },
     "execution_count": 204,
     "metadata": {},
     "output_type": "execute_result"
    }
   ],
   "source": [
    "np.unique(labels_kmode, return_counts = True)"
   ]
  },
  {
   "cell_type": "markdown",
   "metadata": {},
   "source": [
    "- \"Count of records in each cluster in Clustered data for Categorical Features\""
   ]
  },
  {
   "cell_type": "code",
   "execution_count": 205,
   "metadata": {},
   "outputs": [
    {
     "data": {
      "text/plain": [
       "Text(0.5, 1.0, 'Count of records in each cluster in Clustered data for Categorical Features')"
      ]
     },
     "execution_count": 205,
     "metadata": {},
     "output_type": "execute_result"
    },
    {
     "data": {
      "image/png": "[encoded data removed]",
      "text/plain": [
       "<Figure size 432x288 with 1 Axes>"
      ]
     },
     "metadata": {},
     "output_type": "display_data"
    }
   ],
   "source": [
    "b = np.hstack(labels_kmode)\n",
    "_ = plt.hist(b)  # arguments are passed to np.histogram\n",
    "plt.title(\"Count of records in each cluster in Clustered data for Categorical Features\")"
   ]
  },
  {
   "cell_type": "code",
   "execution_count": 206,
   "metadata": {},
   "outputs": [
    {
     "data": {
      "text/plain": [
       "(array([0, 1, 2], dtype=uint16), array([ 74418, 138498, 162949]))"
      ]
     },
     "execution_count": 206,
     "metadata": {},
     "output_type": "execute_result"
    }
   ],
   "source": [
    "np.unique(labels_kprototype, return_counts = True)"
   ]
  },
  {
   "cell_type": "markdown",
   "metadata": {},
   "source": [
    "- \"Count of records in each cluster in Clustered data for all Features\""
   ]
  },
  {
   "cell_type": "code",
   "execution_count": 207,
   "metadata": {},
   "outputs": [
    {
     "data": {
      "text/plain": [
       "Text(0.5, 1.0, 'Count of records in each cluster in Clustered data for all Features')"
      ]
     },
     "execution_count": 207,
     "metadata": {},
     "output_type": "execute_result"
    },
    {
     "data": {
      "image/png": "[encoded data removed]",
      "text/plain": [
       "<Figure size 432x288 with 1 Axes>"
      ]
     },
     "metadata": {},
     "output_type": "display_data"
    }
   ],
   "source": [
    "c= np.hstack(labels_kprototype)\n",
    "_ = plt.hist(c)  # arguments are passed to np.histogram\n",
    "plt.title(\"Count of records in each cluster in Clustered data for all Features\")"
   ]
  },
  {
   "cell_type": "markdown",
   "metadata": {},
   "source": [
    "## Evaluating clustering \n",
    "Silhouette Coefficient or silhouette score is a metric used to calculate the goodness of a clustering technique. Its value ranges from -1 to 1.\n",
    "\n",
    "1: Means clusters are well apart from each other and clearly distinguished.\n",
    "\n",
    "0: Means clusters are indifferent, or we can say that the distance between clusters is not significant.\n",
    "\n",
    "-1: Means clusters are assigned in the wrong way."
   ]
  },
  {
   "cell_type": "code",
   "execution_count": 208,
   "metadata": {},
   "outputs": [
    {
     "name": "stdout",
     "output_type": "stream",
     "text": [
      "silhouette_score: 0.528475761862039\n"
     ]
    }
   ],
   "source": [
    "from sklearn.metrics.cluster import silhouette_score\n",
    "print('silhouette_score:',metrics.silhouette_score(df_numerical, k_means.labels_))"
   ]
  },
  {
   "cell_type": "markdown",
   "metadata": {},
   "source": [
    "Our silhouette_score is very close to 1 which indicates that our clusters are well apart from each other and clearly distinguished."
   ]
  },
  {
   "cell_type": "markdown",
   "metadata": {},
   "source": [
    "## K Prototype analysis on actual dates."
   ]
  },
  {
   "cell_type": "markdown",
   "metadata": {},
   "source": [
    "### Creating 3 dataframes for each cluster label in K prototype Method."
   ]
  },
  {
   "cell_type": "code",
   "execution_count": null,
   "metadata": {},
   "outputs": [],
   "source": []
  },
  {
   "cell_type": "code",
   "execution_count": 209,
   "metadata": {},
   "outputs": [
    {
     "data": {
      "text/plain": [
       "((74418, 12), (138498, 12), (162949, 12))"
      ]
     },
     "execution_count": 209,
     "metadata": {},
     "output_type": "execute_result"
    }
   ],
   "source": [
    "cluster1= df_new.loc[df_new['clusters_k_prototype'] == 0]\n",
    "cluster2= df_new.loc[df_new['clusters_k_prototype'] == 1]\n",
    "cluster3= df_new.loc[df_new['clusters_k_prototype'] == 2]\n",
    "cluster1.shape,cluster2.shape,cluster3.shape"
   ]
  },
  {
   "cell_type": "markdown",
   "metadata": {},
   "source": [
    "### Keeping original columns of the dataframe"
   ]
  },
  {
   "cell_type": "code",
   "execution_count": 210,
   "metadata": {},
   "outputs": [
    {
     "data": {
      "text/html": [
       "<div>\n",
       "<style scoped>\n",
       "    .dataframe tbody tr th:only-of-type {\n",
       "        vertical-align: middle;\n",
       "    }\n",
       "\n",
       "    .dataframe tbody tr th {\n",
       "        vertical-align: top;\n",
       "    }\n",
       "\n",
       "    .dataframe thead th {\n",
       "        text-align: right;\n",
       "    }\n",
       "</style>\n",
       "<table border=\"1\" class=\"dataframe\">\n",
       "  <thead>\n",
       "    <tr style=\"text-align: right;\">\n",
       "      <th></th>\n",
       "      <th>Make</th>\n",
       "      <th>Colour</th>\n",
       "      <th>Issue Time</th>\n",
       "      <th>Contravention Code</th>\n",
       "      <th>Location</th>\n",
       "      <th>PA_Details</th>\n",
       "      <th>Issue Date</th>\n",
       "      <th>Issue Time Decimal</th>\n",
       "    </tr>\n",
       "  </thead>\n",
       "  <tbody>\n",
       "    <tr>\n",
       "      <th>65</th>\n",
       "      <td>audi</td>\n",
       "      <td>black</td>\n",
       "      <td>15:04</td>\n",
       "      <td>27</td>\n",
       "      <td>Sibley Grove</td>\n",
       "      <td>1463</td>\n",
       "      <td>Q1</td>\n",
       "      <td>15.07</td>\n",
       "    </tr>\n",
       "    <tr>\n",
       "      <th>70</th>\n",
       "      <td>audi</td>\n",
       "      <td>black</td>\n",
       "      <td>15:05</td>\n",
       "      <td>19</td>\n",
       "      <td>St. Martins Avenue</td>\n",
       "      <td>1464</td>\n",
       "      <td>Q1</td>\n",
       "      <td>15.08</td>\n",
       "    </tr>\n",
       "    <tr>\n",
       "      <th>71</th>\n",
       "      <td>audi</td>\n",
       "      <td>black</td>\n",
       "      <td>15:06</td>\n",
       "      <td>1</td>\n",
       "      <td>Chant Street</td>\n",
       "      <td>1306</td>\n",
       "      <td>Q1</td>\n",
       "      <td>15.10</td>\n",
       "    </tr>\n",
       "    <tr>\n",
       "      <th>72</th>\n",
       "      <td>audi</td>\n",
       "      <td>black</td>\n",
       "      <td>15:06</td>\n",
       "      <td>21</td>\n",
       "      <td>Honour Lea Avenue</td>\n",
       "      <td>PN1306</td>\n",
       "      <td>Q1</td>\n",
       "      <td>15.10</td>\n",
       "    </tr>\n",
       "    <tr>\n",
       "      <th>73</th>\n",
       "      <td>audi</td>\n",
       "      <td>black</td>\n",
       "      <td>15:06</td>\n",
       "      <td>62</td>\n",
       "      <td>Warton Road</td>\n",
       "      <td>1433</td>\n",
       "      <td>Q1</td>\n",
       "      <td>15.10</td>\n",
       "    </tr>\n",
       "  </tbody>\n",
       "</table>\n",
       "</div>"
      ],
      "text/plain": [
       "    Make Colour Issue Time Contravention Code            Location PA_Details  \\\n",
       "65  audi  black      15:04                 27        Sibley Grove       1463   \n",
       "70  audi  black      15:05                 19  St. Martins Avenue       1464   \n",
       "71  audi  black      15:06                  1        Chant Street       1306   \n",
       "72  audi  black      15:06                 21   Honour Lea Avenue     PN1306   \n",
       "73  audi  black      15:06                 62         Warton Road       1433   \n",
       "\n",
       "   Issue Date  Issue Time Decimal  \n",
       "65         Q1               15.07  \n",
       "70         Q1               15.08  \n",
       "71         Q1               15.10  \n",
       "72         Q1               15.10  \n",
       "73         Q1               15.10  "
      ]
     },
     "execution_count": 210,
     "metadata": {},
     "output_type": "execute_result"
    }
   ],
   "source": [
    "cluster1 = cluster1.iloc[:,1:9]\n",
    "cluster2 = cluster2.iloc[:,1:9]\n",
    "cluster3 = cluster3.iloc[:,1:9]\n",
    "cluster1.head()"
   ]
  },
  {
   "cell_type": "code",
   "execution_count": 211,
   "metadata": {},
   "outputs": [
    {
     "data": {
      "text/plain": [
       "(ford          52143\n",
       " mercedes      46479\n",
       " bmw           40860\n",
       " vauxhall      36925\n",
       " volkswagen    36130\n",
       "               ...  \n",
       " hino              1\n",
       " adly              1\n",
       " american          1\n",
       " dennis            1\n",
       " singer            1\n",
       " Name: Make, Length: 129, dtype: int64,\n",
       " black             84377\n",
       " white             68010\n",
       " silver            58613\n",
       " other             49848\n",
       " grey              41472\n",
       " blue              38762\n",
       " red               15147\n",
       " unspecified       11944\n",
       " green              3335\n",
       " yellow             1284\n",
       " brown               787\n",
       " gold                453\n",
       " orange              375\n",
       " purple              332\n",
       " maroon              308\n",
       " beige               271\n",
       " cream               234\n",
       " bronze              133\n",
       " burgundy            131\n",
       " pink                 26\n",
       " multi-coloured       10\n",
       " light blue            6\n",
       " mauve                 5\n",
       " turquoise             2\n",
       " Name: Colour, dtype: int64)"
      ]
     },
     "execution_count": 211,
     "metadata": {},
     "output_type": "execute_result"
    }
   ],
   "source": [
    "df['Make'].value_counts(),df['Colour'].value_counts()"
   ]
  },
  {
   "cell_type": "code",
   "execution_count": 212,
   "metadata": {},
   "outputs": [
    {
     "data": {
      "text/plain": [
       "ford          52143\n",
       "mercedes      46479\n",
       "bmw           40860\n",
       "vauxhall      36925\n",
       "volkswagen    36130\n",
       "              ...  \n",
       "hino              1\n",
       "adly              1\n",
       "american          1\n",
       "dennis            1\n",
       "singer            1\n",
       "Name: Make, Length: 129, dtype: int64"
      ]
     },
     "execution_count": 212,
     "metadata": {},
     "output_type": "execute_result"
    }
   ],
   "source": [
    "df['Make'].value_counts() "
   ]
  },
  {
   "cell_type": "markdown",
   "metadata": {},
   "source": [
    "### 1. Analysis - \"Make\" \n",
    "\n",
    "No clear grouping of feature 'Make' "
   ]
  },
  {
   "cell_type": "code",
   "execution_count": 213,
   "metadata": {},
   "outputs": [
    {
     "data": {
      "text/plain": [
       "mercedes      10317\n",
       "ford           9021\n",
       "bmw            8176\n",
       "vauxhall       6951\n",
       "volkswagen     6831\n",
       "              ...  \n",
       "malaguti          1\n",
       "abarth            1\n",
       "a c               1\n",
       "maxus             1\n",
       "adly              1\n",
       "Name: Make, Length: 98, dtype: int64"
      ]
     },
     "execution_count": 213,
     "metadata": {},
     "output_type": "execute_result"
    }
   ],
   "source": [
    "cluster1['Make'].value_counts()"
   ]
  },
  {
   "cell_type": "code",
   "execution_count": 214,
   "metadata": {},
   "outputs": [
    {
     "data": {
      "text/plain": [
       "ford            19998\n",
       "mercedes        17048\n",
       "bmw             14990\n",
       "vauxhall        13912\n",
       "volkswagen      13453\n",
       "                ...  \n",
       "daimler             1\n",
       "caterham            1\n",
       "midas               1\n",
       "mustang             1\n",
       "austin rover        1\n",
       "Name: Make, Length: 103, dtype: int64"
      ]
     },
     "execution_count": 214,
     "metadata": {},
     "output_type": "execute_result"
    }
   ],
   "source": [
    "cluster2['Make'].value_counts()"
   ]
  },
  {
   "cell_type": "code",
   "execution_count": 215,
   "metadata": {},
   "outputs": [
    {
     "data": {
      "text/plain": [
       "ford           23124\n",
       "mercedes       19114\n",
       "bmw            17694\n",
       "vauxhall       16062\n",
       "volkswagen     15846\n",
       "               ...  \n",
       "bugatti            1\n",
       "moto morini        1\n",
       "dennis             1\n",
       "tata               1\n",
       "eunos              1\n",
       "Name: Make, Length: 109, dtype: int64"
      ]
     },
     "execution_count": 215,
     "metadata": {},
     "output_type": "execute_result"
    }
   ],
   "source": [
    "cluster3['Make'].value_counts()"
   ]
  },
  {
   "cell_type": "markdown",
   "metadata": {},
   "source": [
    "### 2. Analysis - \"Colour\" \n",
    "\n",
    "No clear grouping of feature 'Colour' "
   ]
  },
  {
   "cell_type": "code",
   "execution_count": 216,
   "metadata": {},
   "outputs": [
    {
     "data": {
      "text/plain": [
       "black             16494\n",
       "white             13371\n",
       "silver            11963\n",
       "other             10736\n",
       "grey               8058\n",
       "blue               7028\n",
       "red                2954\n",
       "unspecified        2479\n",
       "green               571\n",
       "yellow              207\n",
       "brown               120\n",
       "orange               82\n",
       "maroon               68\n",
       "beige                61\n",
       "purple               58\n",
       "gold                 56\n",
       "cream                52\n",
       "bronze               26\n",
       "burgundy             23\n",
       "pink                  5\n",
       "multi-coloured        3\n",
       "mauve                 2\n",
       "light blue            1\n",
       "Name: Colour, dtype: int64"
      ]
     },
     "execution_count": 216,
     "metadata": {},
     "output_type": "execute_result"
    }
   ],
   "source": [
    "cluster1['Colour'].value_counts()"
   ]
  },
  {
   "cell_type": "code",
   "execution_count": 217,
   "metadata": {},
   "outputs": [
    {
     "data": {
      "text/plain": [
       "black             30161\n",
       "white             25105\n",
       "other             20689\n",
       "silver            20451\n",
       "grey              14672\n",
       "blue              13760\n",
       "unspecified        5438\n",
       "red                5424\n",
       "green              1216\n",
       "yellow              549\n",
       "brown               273\n",
       "gold                173\n",
       "purple              123\n",
       "orange              119\n",
       "maroon              101\n",
       "cream                82\n",
       "beige                77\n",
       "bronze               41\n",
       "burgundy             32\n",
       "pink                  9\n",
       "multi-coloured        2\n",
       "light blue            1\n",
       "Name: Colour, dtype: int64"
      ]
     },
     "execution_count": 217,
     "metadata": {},
     "output_type": "execute_result"
    }
   ],
   "source": [
    "cluster2['Colour'].value_counts()"
   ]
  },
  {
   "cell_type": "code",
   "execution_count": 218,
   "metadata": {},
   "outputs": [
    {
     "data": {
      "text/plain": [
       "black             37722\n",
       "white             29534\n",
       "silver            26199\n",
       "grey              18742\n",
       "other             18423\n",
       "blue              17974\n",
       "red                6769\n",
       "unspecified        4027\n",
       "green              1548\n",
       "yellow              528\n",
       "brown               394\n",
       "gold                224\n",
       "orange              174\n",
       "purple              151\n",
       "maroon              139\n",
       "beige               133\n",
       "cream               100\n",
       "burgundy             76\n",
       "bronze               66\n",
       "pink                 12\n",
       "multi-coloured        5\n",
       "light blue            4\n",
       "mauve                 3\n",
       "turquoise             2\n",
       "Name: Colour, dtype: int64"
      ]
     },
     "execution_count": 218,
     "metadata": {},
     "output_type": "execute_result"
    }
   ],
   "source": [
    "cluster3['Colour'].value_counts()"
   ]
  },
  {
   "cell_type": "markdown",
   "metadata": {},
   "source": [
    "### 3. Analysis - \"Issue Time\" \n",
    "\n",
    "No clear grouping of feature 'Issue Time' "
   ]
  },
  {
   "cell_type": "code",
   "execution_count": 223,
   "metadata": {},
   "outputs": [
    {
     "data": {
      "text/plain": [
       "9.32    895\n",
       "9.17    877\n",
       "9.42    871\n",
       "9.30    870\n",
       "9.35    865\n",
       "       ... \n",
       "5.07      2\n",
       "5.42      2\n",
       "5.03      1\n",
       "5.33      1\n",
       "5.32      1\n",
       "Name: Issue Time Decimal, Length: 1438, dtype: int64"
      ]
     },
     "execution_count": 223,
     "metadata": {},
     "output_type": "execute_result"
    }
   ],
   "source": [
    "df['Issue Time Decimal'].value_counts()"
   ]
  },
  {
   "cell_type": "markdown",
   "metadata": {},
   "source": [
    "From the count of fines in the original dataset, the frequency of fines is high in the office hours i.e. **8am to 5pm.**\n",
    "\n",
    "- Most number of fines are in the morning hours of 8:00am and 9:00am.\n",
    "\n",
    "- The least number of fines are in the early morning i.e. 4:00 am and 5:00 am"
   ]
  },
  {
   "cell_type": "code",
   "execution_count": 224,
   "metadata": {},
   "outputs": [
    {
     "data": {
      "text/plain": [
       "15:24    400\n",
       "15:12    397\n",
       "15:23    390\n",
       "15:35    383\n",
       "15:47    381\n",
       "        ... \n",
       "22:23      5\n",
       "14:36      2\n",
       "14:27      1\n",
       "14:37      1\n",
       "14:29      1\n",
       "Name: Issue Time, Length: 566, dtype: int64"
      ]
     },
     "execution_count": 224,
     "metadata": {},
     "output_type": "execute_result"
    }
   ],
   "source": [
    "cluster1['Issue Time'].value_counts()"
   ]
  },
  {
   "cell_type": "markdown",
   "metadata": {},
   "source": [
    "- Cluster 1 consists of more fines of morning i.e. 8:00 am\n",
    "\n",
    "- The least number of fines are in the early morning i.e. 4:00 am and 5:00 am"
   ]
  },
  {
   "cell_type": "code",
   "execution_count": 225,
   "metadata": {},
   "outputs": [
    {
     "data": {
      "text/plain": [
       "9:19     895\n",
       "9:10     877\n",
       "9:25     871\n",
       "9:18     870\n",
       "9:21     865\n",
       "        ... \n",
       "11:09      1\n",
       "11:08      1\n",
       "11:11      1\n",
       "11:06      1\n",
       "11:02      1\n",
       "Name: Issue Time, Length: 667, dtype: int64"
      ]
     },
     "execution_count": 225,
     "metadata": {},
     "output_type": "execute_result"
    }
   ],
   "source": [
    "cluster2['Issue Time'].value_counts()"
   ]
  },
  {
   "cell_type": "markdown",
   "metadata": {},
   "source": [
    "- Cluster 2 consists of more fines of morning i.e. 9:00 am\n",
    "\n",
    "- The least number of fines are in the early morning i.e. 4:00 am and 5:00 am"
   ]
  },
  {
   "cell_type": "code",
   "execution_count": 226,
   "metadata": {},
   "outputs": [
    {
     "data": {
      "text/plain": [
       "11:42    842\n",
       "11:49    841\n",
       "11:35    839\n",
       "11:28    832\n",
       "11:17    829\n",
       "        ... \n",
       "10:27      1\n",
       "10:26      1\n",
       "15:29      1\n",
       "10:32      1\n",
       "10:29      1\n",
       "Name: Issue Time, Length: 304, dtype: int64"
      ]
     },
     "execution_count": 226,
     "metadata": {},
     "output_type": "execute_result"
    }
   ],
   "source": [
    "cluster3['Issue Time'].value_counts()"
   ]
  },
  {
   "cell_type": "markdown",
   "metadata": {},
   "source": [
    "- Cluster 3 consists of more fines of morning i.e. 9:00 am\n",
    "\n",
    "- The least number of fines are in the early morning i.e. 4:00 am and 3:00 am"
   ]
  },
  {
   "cell_type": "markdown",
   "metadata": {},
   "source": [
    "### 4. Analysis - \"Contravention Code\" \n",
    "\n",
    "No clear grouping of feature 'Contravention Code' \n"
   ]
  },
  {
   "cell_type": "code",
   "execution_count": 227,
   "metadata": {},
   "outputs": [
    {
     "data": {
      "text/plain": [
       "12     132484\n",
       "1       85529\n",
       "19      36411\n",
       "62      18952\n",
       "30      18084\n",
       "        ...  \n",
       "71          1\n",
       "23p         1\n",
       "5u)         1\n",
       "23r         1\n",
       "57          1\n",
       "Name: Contravention Code, Length: 81, dtype: int64"
      ]
     },
     "execution_count": 227,
     "metadata": {},
     "output_type": "execute_result"
    }
   ],
   "source": [
    "df['Contravention Code'].value_counts()"
   ]
  },
  {
   "cell_type": "markdown",
   "metadata": {},
   "source": [
    "From the count of fines in the original dataset, the frequency of fines is high with \n",
    "**Contravention Code : 12- 132490**\n",
    "**Contravention Code : 1 - 92937**\n",
    "\n",
    "- Most number of fines are with **Contravention Code : 12** i.e 132490\n",
    "\n",
    "- The least number of fines are with **Contravention Codes : 7,4,71,57**  - 1 each"
   ]
  },
  {
   "cell_type": "code",
   "execution_count": 228,
   "metadata": {},
   "outputs": [
    {
     "data": {
      "text/plain": [
       "1      24244\n",
       "12     18250\n",
       "62      5379\n",
       "19      4680\n",
       "165     3211\n",
       "       ...  \n",
       "56         1\n",
       "89         1\n",
       "5u)        1\n",
       "18         1\n",
       "232        1\n",
       "Name: Contravention Code, Length: 63, dtype: int64"
      ]
     },
     "execution_count": 228,
     "metadata": {},
     "output_type": "execute_result"
    }
   ],
   "source": [
    "cluster1['Contravention Code'].value_counts()"
   ]
  },
  {
   "cell_type": "code",
   "execution_count": 229,
   "metadata": {},
   "outputs": [
    {
     "data": {
      "text/plain": [
       "12     53100\n",
       "1      28302\n",
       "19     14125\n",
       "25      7978\n",
       "62      6761\n",
       "       ...  \n",
       "18         1\n",
       "56         1\n",
       "23e        1\n",
       "7          1\n",
       "232        1\n",
       "Name: Contravention Code, Length: 67, dtype: int64"
      ]
     },
     "execution_count": 229,
     "metadata": {},
     "output_type": "execute_result"
    }
   ],
   "source": [
    "cluster2['Contravention Code'].value_counts()"
   ]
  },
  {
   "cell_type": "code",
   "execution_count": 230,
   "metadata": {},
   "outputs": [
    {
     "data": {
      "text/plain": [
       "12      61134\n",
       "1       32983\n",
       "19      17606\n",
       "30      10990\n",
       "62       6812\n",
       "        ...  \n",
       "4           1\n",
       "89          1\n",
       "61g)        1\n",
       "23r         1\n",
       "164         1\n",
       "Name: Contravention Code, Length: 71, dtype: int64"
      ]
     },
     "execution_count": 230,
     "metadata": {},
     "output_type": "execute_result"
    }
   ],
   "source": [
    "cluster3['Contravention Code'].value_counts()"
   ]
  },
  {
   "cell_type": "markdown",
   "metadata": {},
   "source": [
    "### 5. Analysis - \"Location\" \n",
    "\n",
    "**Cluster 1 consists of most of the fines occured at following locations:** \n",
    "- Oxford Road            952\n",
    "- Westfield Avenue       810\n",
    "- Clova Road             633\n",
    "\n",
    "**Cluster 2 consists of most of the fines occured at following locations:**\n",
    "\n",
    "- High Street North    4576\n",
    "- Barking Road         3397\n",
    "- Westfield Avenue     2665\n",
    "\n",
    "**Cluster 3 consists of most of the fines occured at following locations:**\n",
    "- High Street North    2946\n",
    "- Thorpe Road          1870\n",
    "- St. Johns Road E6    1162\n",
    "- Romford Road         1090"
   ]
  },
  {
   "cell_type": "code",
   "execution_count": 231,
   "metadata": {},
   "outputs": [
    {
     "data": {
      "text/plain": [
       "High Street North    7836\n",
       "Barking Road         4587\n",
       "Thorpe Road          4049\n",
       "Kempton Road         3770\n",
       "Westfield Avenue     3688\n",
       "                     ... \n",
       "Neville Road E13        1\n",
       "McDowall Close          1\n",
       "Walton Road, E6         1\n",
       "Grebe Close             1\n",
       "Phoebe Walk             1\n",
       "Name: Location, Length: 1631, dtype: int64"
      ]
     },
     "execution_count": 231,
     "metadata": {},
     "output_type": "execute_result"
    }
   ],
   "source": [
    "df['Location'].value_counts()"
   ]
  },
  {
   "cell_type": "markdown",
   "metadata": {},
   "source": [
    "From the count of fines in the original dataset, the frequency of fines is high at following location\n",
    "\n",
    "**High Street North : 7837 fines**\n",
    "\n",
    "**Barking Road : 4585**"
   ]
  },
  {
   "cell_type": "code",
   "execution_count": 232,
   "metadata": {},
   "outputs": [
    {
     "data": {
      "text/plain": [
       "High Street North     2418\n",
       "Westfield Avenue      1930\n",
       "Barking Road          1392\n",
       "Oxford Road           1052\n",
       "Kempton Road           981\n",
       "                      ... \n",
       "Sophia Road              1\n",
       "Capulet Mews             1\n",
       "Paul Robeson Close       1\n",
       "Ben Tillett Close        1\n",
       "Lester Avenue            1\n",
       "Name: Location, Length: 1390, dtype: int64"
      ]
     },
     "execution_count": 232,
     "metadata": {},
     "output_type": "execute_result"
    }
   ],
   "source": [
    "cluster1['Location'].value_counts()"
   ]
  },
  {
   "cell_type": "code",
   "execution_count": 233,
   "metadata": {},
   "outputs": [
    {
     "data": {
      "text/plain": [
       "High Street North                                     1613\n",
       "Stephenson Street                                     1483\n",
       "Barking Road                                          1422\n",
       "Thorpe Road                                           1356\n",
       "Liberty Bridge Road                                   1337\n",
       "                                                      ... \n",
       "Abbey Road - Parking Area Fronting Brassett Point_       1\n",
       "Greenwich Crescent                                       1\n",
       "Kay Street                                               1\n",
       "Allhallows Road                                          1\n",
       "Phoebe Walk                                              1\n",
       "Name: Location, Length: 1528, dtype: int64"
      ]
     },
     "execution_count": 233,
     "metadata": {},
     "output_type": "execute_result"
    }
   ],
   "source": [
    "cluster2['Location'].value_counts()"
   ]
  },
  {
   "cell_type": "code",
   "execution_count": 234,
   "metadata": {},
   "outputs": [
    {
     "data": {
      "text/plain": [
       "High Street North          3805\n",
       "Madge Gill Way Car Park    1842\n",
       "Thorpe Road                1837\n",
       "Skeffington Road           1829\n",
       "Kempton Road               1811\n",
       "                           ... \n",
       "A1 - Manor Park               1\n",
       "Wakefield Road                1\n",
       "Temple Mill Lane              1\n",
       "Priory Court                  1\n",
       "Royal Albert Way              1\n",
       "Name: Location, Length: 1586, dtype: int64"
      ]
     },
     "execution_count": 234,
     "metadata": {},
     "output_type": "execute_result"
    }
   ],
   "source": [
    "cluster3['Location'].value_counts()"
   ]
  },
  {
   "cell_type": "markdown",
   "metadata": {},
   "source": [
    "### 6. Analysis - \"PA_Details\" \n",
    "\n",
    "We have observed a very clear segregation of clusters on the basis of PA_Details. Fines carried by similar PAs are grouped in similar cluster. \n",
    "\n",
    "**Cluster 1 consists of most of the fines  by following PA_Details:** \n",
    "\n",
    "**PA_Details : Frequency** \n",
    "- 1142:   6729\n",
    "- 1313:    6518\n",
    "- 1331:    6417\n",
    "- 1306:    6195\n",
    "- 1278:    5396\n",
    "- 1252:    4979\n",
    "- 1281:    4019\n",
    "- 1145:    4010\n",
    "\n",
    "**Cluster 2 consists of most of the fines by following PA_Details:**\n",
    "\n",
    "**PA_Details : Frequency** \n",
    "- 1468:    10708\n",
    "- 1466:     9820\n",
    "- 1456:     9766\n",
    "- 1453:     9671\n",
    "- 1419:     9307\n",
    "\n",
    "**Cluster 3 consists of most of the fines by following PA_Details:**\n",
    "\n",
    "**PA_Details : Frequency** \n",
    "- 3247:    5971\n",
    "- 3235:    4602\n",
    "- 3266:    4564\n",
    "- 3216:    3442\n",
    "- 3264:    3019"
   ]
  },
  {
   "cell_type": "code",
   "execution_count": 235,
   "metadata": {},
   "outputs": [
    {
     "data": {
      "text/plain": [
       "1468      8217\n",
       "1453      8063\n",
       "1466      7604\n",
       "1456      7336\n",
       "1519      7293\n",
       "          ... \n",
       "PN3165       1\n",
       "PN1460       1\n",
       "PN3197       1\n",
       "3290         1\n",
       "PN3291       1\n",
       "Name: PA_Details, Length: 250, dtype: int64"
      ]
     },
     "execution_count": 235,
     "metadata": {},
     "output_type": "execute_result"
    }
   ],
   "source": [
    "df['PA_Details'].value_counts()"
   ]
  },
  {
   "cell_type": "code",
   "execution_count": 236,
   "metadata": {},
   "outputs": [
    {
     "data": {
      "text/plain": [
       "1456      3188\n",
       "1464      2807\n",
       "1306      2227\n",
       "1313      2012\n",
       "1410      1961\n",
       "          ... \n",
       "1501         1\n",
       "1035         1\n",
       "PN1308       1\n",
       "3290         1\n",
       "PN3291       1\n",
       "Name: PA_Details, Length: 240, dtype: int64"
      ]
     },
     "execution_count": 236,
     "metadata": {},
     "output_type": "execute_result"
    }
   ],
   "source": [
    "cluster1['PA_Details'].value_counts()"
   ]
  },
  {
   "cell_type": "code",
   "execution_count": 237,
   "metadata": {},
   "outputs": [
    {
     "data": {
      "text/plain": [
       "1331      4409\n",
       "1468      3860\n",
       "1419      3485\n",
       "1387      3434\n",
       "1485      2895\n",
       "          ... \n",
       "PN1430       3\n",
       "PN1440       1\n",
       "PN1483       1\n",
       "3327         1\n",
       "PN1309       1\n",
       "Name: PA_Details, Length: 231, dtype: int64"
      ]
     },
     "execution_count": 237,
     "metadata": {},
     "output_type": "execute_result"
    }
   ],
   "source": [
    "cluster2['PA_Details'].value_counts()"
   ]
  },
  {
   "cell_type": "code",
   "execution_count": 238,
   "metadata": {},
   "outputs": [
    {
     "data": {
      "text/plain": [
       "1453         5039\n",
       "1519         3830\n",
       "1410         3660\n",
       "1468         3584\n",
       "1466         3535\n",
       "             ... \n",
       "999999999       1\n",
       "1430            1\n",
       "PN3165          1\n",
       "PN3197          1\n",
       "PN1440          1\n",
       "Name: PA_Details, Length: 244, dtype: int64"
      ]
     },
     "execution_count": 238,
     "metadata": {},
     "output_type": "execute_result"
    }
   ],
   "source": [
    "cluster3['PA_Details'].value_counts()"
   ]
  },
  {
   "cell_type": "markdown",
   "metadata": {},
   "source": [
    "### 7. Analysis - \"Issue Date\" (quarters)\n",
    "\n",
    "\n",
    "No clear grouping of feature \"Issue Date\" (quarters)"
   ]
  },
  {
   "cell_type": "code",
   "execution_count": 239,
   "metadata": {},
   "outputs": [
    {
     "data": {
      "text/plain": [
       "Q4     41744\n",
       "Q3     39500\n",
       "Q2     38200\n",
       "Q5     37074\n",
       "Q1     34230\n",
       "Q12    34063\n",
       "Q10    32739\n",
       "Q11    32391\n",
       "Q8     25898\n",
       "Q9     25229\n",
       "Q7     20621\n",
       "Q6     14176\n",
       "Name: Issue Date, dtype: int64"
      ]
     },
     "execution_count": 239,
     "metadata": {},
     "output_type": "execute_result"
    }
   ],
   "source": [
    "df['Issue Date'].value_counts()"
   ]
  },
  {
   "cell_type": "code",
   "execution_count": 240,
   "metadata": {},
   "outputs": [
    {
     "data": {
      "text/plain": [
       "Q4     9861\n",
       "Q5     7967\n",
       "Q2     7685\n",
       "Q12    7615\n",
       "Q3     7151\n",
       "Q10    6117\n",
       "Q9     5205\n",
       "Q7     5197\n",
       "Q11    5159\n",
       "Q8     5059\n",
       "Q1     4974\n",
       "Q6     2428\n",
       "Name: Issue Date, dtype: int64"
      ]
     },
     "execution_count": 240,
     "metadata": {},
     "output_type": "execute_result"
    }
   ],
   "source": [
    "cluster1['Issue Date'].value_counts()"
   ]
  },
  {
   "cell_type": "code",
   "execution_count": 241,
   "metadata": {},
   "outputs": [
    {
     "data": {
      "text/plain": [
       "Q4     18261\n",
       "Q3     15110\n",
       "Q5     14583\n",
       "Q1     13203\n",
       "Q11    12945\n",
       "Q12    11865\n",
       "Q10    11808\n",
       "Q2     11060\n",
       "Q8      9339\n",
       "Q9      8860\n",
       "Q7      6449\n",
       "Q6      5015\n",
       "Name: Issue Date, dtype: int64"
      ]
     },
     "execution_count": 241,
     "metadata": {},
     "output_type": "execute_result"
    }
   ],
   "source": [
    "cluster2['Issue Date'].value_counts()"
   ]
  },
  {
   "cell_type": "code",
   "execution_count": 242,
   "metadata": {},
   "outputs": [
    {
     "data": {
      "text/plain": [
       "Q2     19455\n",
       "Q3     17239\n",
       "Q1     16053\n",
       "Q10    14814\n",
       "Q12    14583\n",
       "Q5     14524\n",
       "Q11    14287\n",
       "Q4     13622\n",
       "Q8     11500\n",
       "Q9     11164\n",
       "Q7      8975\n",
       "Q6      6733\n",
       "Name: Issue Date, dtype: int64"
      ]
     },
     "execution_count": 242,
     "metadata": {},
     "output_type": "execute_result"
    }
   ],
   "source": [
    "cluster3['Issue Date'].value_counts()"
   ]
  },
  {
   "cell_type": "markdown",
   "metadata": {},
   "source": [
    "## Conclusion\n",
    "\n",
    "### Interesting Observations: \n",
    "- **Issue Time** The frequency of fines is high in the office hours i.e. **8am to 5pm.**\n",
    "   - Most number of fines are in the morning hours of 8:00am and 9:00am.\n",
    "   - The least number of fines are in the early morning i.e. 4:00 am and 5:00 am.\n",
    " \n",
    "- Cluster 1 consists of most of the fines from 8:00 am where Cluster 2 and 3 have most fines from 9:00am\n",
    "\n",
    "----------------\n",
    "\n",
    "- **Contravention Code** - From the count of fines in the original dataset, the frequency of fines is high with \n",
    "**Contravention Code : 12- 132490**\n",
    "**Contravention Code : 1 - 92937**\n",
    "\n",
    "  - Most number of fines are with **Contravention Code : 12** i.e 132490\n",
    "\n",
    "  - The least number of fines are with **Contravention Codes : 7,4,71,57**  - 1 each\n",
    "\n",
    "----------------\n",
    "\n",
    "- **Location** - Most of the fines are conducted at following streets.\n",
    "  \n",
    "   - High Street North    7837\n",
    "\n",
    "   - Barking Road         4585\n",
    "\n",
    "   - Thorpe Road          4049\n",
    "\n",
    "---------------\n",
    "- **Issue Date** - \n",
    "  - Most of the fines are observed on start of year after New Year's eve. i.e. 2-Jan-2020    : 937\n",
    "\n",
    "\n",
    "\n",
    "---------------- \n",
    "----------------\n",
    "----------------\n",
    "\n",
    "## Cluster Analysis\n",
    "\n",
    "**We have observed a very clear segregation of clusters on the basis of PA_Details. Fines carried by similar PAs are grouped in similar cluster.**\n",
    "\n",
    "After PA_Details, Location has played an important role in forming the clusters. "
   ]
  }
 ],
 "metadata": {
  "interpreter": {
   "hash": "f293f16398db128e85df277de8eb5f9ab0a1b28857fa0f1c8543245825f1b931"
  },
  "kernelspec": {
   "display_name": "Python 3.7.7 ('pythonProject')",
   "language": "python",
   "name": "python3"
  },
  "language_info": {
   "codemirror_mode": {
    "name": "ipython",
    "version": 3
   },
   "file_extension": ".py",
   "mimetype": "text/x-python",
   "name": "python",
   "nbconvert_exporter": "python",
   "pygments_lexer": "ipython3",
   "version": "3.7.7"
  },
  "orig_nbformat": 4
 },
 "nbformat": 4,
 "nbformat_minor": 2
}
