{
 "cells": [
  {
   "cell_type": "markdown",
   "metadata": {},
   "source": [
    "# Clustering\n",
    "\n",
    "- In this Notebook, Clustering has been applied to the dataset for parking penalties in London.\n",
    "  \n",
    "- The clustering techniques that are used are \n",
    "  - K-Means\n",
    "  - K-Modes\n",
    "  - K Prototype\n",
    "\n",
    "The dataset has 7 default features and 1 newly added feature for date to divide the dates in to quarters. \n",
    "\n",
    " ### Columns             \n",
    "\n",
    " 0   Make                 \n",
    " 1   Colour            \n",
    " 2   Issue Time           \n",
    " 3   Contravention Code  \n",
    " 4   Location             \n",
    " 5   PA_Details          \n",
    " 6   Issue Date    \n",
    "\n",
    "\n",
    " All these features are in string format. In the below segments, we would separate Numerical features from categorical features and apply clustering techniques on subsets of data. \n",
    "\n",
    "  - K-Means\n",
    "  \n",
    "            For Numerical feature - ***Issue Time*** we will apply K-Means algorithm to find potential groups on the basis of similarities in the feature\n",
    "\n",
    "\n",
    "  - K-Modes\n",
    "  \n",
    "            For Categorical features - ***Make,\tColour,\tLocation, Issue Date, Contravention Code and PA_Details*** we will apply K-Modes algorithm to find potential groups on the basis of similarities between these features. As K-means only work for Numerical features. \n",
    "\n",
    "\n",
    "\n",
    "  - K Prototype\n",
    "\n",
    "            To analyse the whole dataset, we will use K-Prototype algorithm. K-Prototype is used when the dataset has both categorical and Numerical features, that we have in our dataset."
   ]
  },
  {
   "cell_type": "markdown",
   "metadata": {},
   "source": [
    "### Importing Libraries"
   ]
  },
  {
   "cell_type": "code",
   "execution_count": 65,
   "metadata": {},
   "outputs": [],
   "source": [
    "# Importing Libraries\n",
    "import pandas as pd \n",
    "import numpy as np\n",
    "import seaborn as sns\n",
    "import matplotlib.pyplot as plt\n",
    "import warnings\n",
    "from sklearn import metrics\n",
    "warnings.simplefilter(\"ignore\")\n"
   ]
  },
  {
   "cell_type": "markdown",
   "metadata": {},
   "source": [
    "### Loading Dataset"
   ]
  },
  {
   "cell_type": "code",
   "execution_count": 66,
   "metadata": {},
   "outputs": [
    {
     "data": {
      "text/plain": [
       "(380639, 8)"
      ]
     },
     "execution_count": 66,
     "metadata": {},
     "output_type": "execute_result"
    }
   ],
   "source": [
    "## Load Dataset\n",
    "df = pd.read_csv('Project Parking.csv')\n",
    "df.shape\n"
   ]
  },
  {
   "cell_type": "code",
   "execution_count": 67,
   "metadata": {},
   "outputs": [
    {
     "data": {
      "text/html": [
       "<div>\n",
       "<style scoped>\n",
       "    .dataframe tbody tr th:only-of-type {\n",
       "        vertical-align: middle;\n",
       "    }\n",
       "\n",
       "    .dataframe tbody tr th {\n",
       "        vertical-align: top;\n",
       "    }\n",
       "\n",
       "    .dataframe thead th {\n",
       "        text-align: right;\n",
       "    }\n",
       "</style>\n",
       "<table border=\"1\" class=\"dataframe\">\n",
       "  <thead>\n",
       "    <tr style=\"text-align: right;\">\n",
       "      <th></th>\n",
       "      <th>Make</th>\n",
       "      <th>Colour</th>\n",
       "      <th>Issue Time</th>\n",
       "      <th>Contravention Code</th>\n",
       "      <th>Location</th>\n",
       "      <th>PA_Details</th>\n",
       "      <th>Issue Date</th>\n",
       "      <th>Issue Time Decimal</th>\n",
       "    </tr>\n",
       "  </thead>\n",
       "  <tbody>\n",
       "    <tr>\n",
       "      <th>0</th>\n",
       "      <td>0</td>\n",
       "      <td>NaN</td>\n",
       "      <td>0:15</td>\n",
       "      <td>1</td>\n",
       "      <td>North Crescent</td>\n",
       "      <td>1485</td>\n",
       "      <td>2019-01-01</td>\n",
       "      <td>0.25</td>\n",
       "    </tr>\n",
       "    <tr>\n",
       "      <th>1</th>\n",
       "      <td>0</td>\n",
       "      <td>NaN</td>\n",
       "      <td>0:19</td>\n",
       "      <td>16</td>\n",
       "      <td>Anne Street</td>\n",
       "      <td>1456</td>\n",
       "      <td>2019-01-01</td>\n",
       "      <td>0.32</td>\n",
       "    </tr>\n",
       "    <tr>\n",
       "      <th>2</th>\n",
       "      <td>0</td>\n",
       "      <td>NaN</td>\n",
       "      <td>0:19</td>\n",
       "      <td>25</td>\n",
       "      <td>Celebration Avenue</td>\n",
       "      <td>1252</td>\n",
       "      <td>2019-01-01</td>\n",
       "      <td>0.32</td>\n",
       "    </tr>\n",
       "    <tr>\n",
       "      <th>3</th>\n",
       "      <td>0</td>\n",
       "      <td>NaN</td>\n",
       "      <td>0:20</td>\n",
       "      <td>01o</td>\n",
       "      <td>Honour Lea Avenue</td>\n",
       "      <td>1313</td>\n",
       "      <td>2019-01-01</td>\n",
       "      <td>0.33</td>\n",
       "    </tr>\n",
       "    <tr>\n",
       "      <th>4</th>\n",
       "      <td>0</td>\n",
       "      <td>NaN</td>\n",
       "      <td>0:22</td>\n",
       "      <td>62</td>\n",
       "      <td>Warton Road</td>\n",
       "      <td>1456</td>\n",
       "      <td>2019-01-01</td>\n",
       "      <td>0.37</td>\n",
       "    </tr>\n",
       "  </tbody>\n",
       "</table>\n",
       "</div>"
      ],
      "text/plain": [
       "  Make Colour Issue Time Contravention Code            Location PA_Details  \\\n",
       "0    0    NaN       0:15                  1      North Crescent       1485   \n",
       "1    0    NaN       0:19                 16         Anne Street       1456   \n",
       "2    0    NaN       0:19                 25  Celebration Avenue       1252   \n",
       "3    0    NaN       0:20                01o   Honour Lea Avenue       1313   \n",
       "4    0    NaN       0:22                 62         Warton Road       1456   \n",
       "\n",
       "   Issue Date  Issue Time Decimal  \n",
       "0  2019-01-01                0.25  \n",
       "1  2019-01-01                0.32  \n",
       "2  2019-01-01                0.32  \n",
       "3  2019-01-01                0.33  \n",
       "4  2019-01-01                0.37  "
      ]
     },
     "execution_count": 67,
     "metadata": {},
     "output_type": "execute_result"
    }
   ],
   "source": [
    "df.head()"
   ]
  },
  {
   "cell_type": "markdown",
   "metadata": {},
   "source": [
    "## Data Preprocessing\n",
    "\n",
    "As the data is not in correct format, we will clean the data by removing unwanted and test records. Also date has been changed to correct format and Numerical features are also converted from strings to numerical format. \n",
    "\n"
   ]
  },
  {
   "cell_type": "markdown",
   "metadata": {},
   "source": [
    "### Dates\n",
    "- Dates have been divided into quarters manually for better clustering results."
   ]
  },
  {
   "cell_type": "code",
   "execution_count": 68,
   "metadata": {},
   "outputs": [],
   "source": [
    "# Applying the condition\n",
    "df['Issue Date'].loc[df['Issue Date'].str.contains('2019-01')] = 'Q1'\n",
    "df['Issue Date'].loc[df['Issue Date'].str.contains('2019-02')] = 'Q1'\n",
    "df['Issue Date'].loc[df['Issue Date'].str.contains('2019-03')] = 'Q1'\n",
    "df['Issue Date'].loc[df['Issue Date'].str.contains('2019-04')] = 'Q2'\n",
    "df['Issue Date'].loc[df['Issue Date'].str.contains('2019-05')] = 'Q2'\n",
    "df['Issue Date'].loc[df['Issue Date'].str.contains('2019-06')] = 'Q2'\n",
    "df['Issue Date'].loc[df['Issue Date'].str.contains('2019-07')] = 'Q3'\n",
    "df['Issue Date'].loc[df['Issue Date'].str.contains('2019-08')] = 'Q3'\n",
    "df['Issue Date'].loc[df['Issue Date'].str.contains('2019-09')] = 'Q3'\n",
    "df['Issue Date'].loc[df['Issue Date'].str.contains('2019-10')] = 'Q4'\n",
    "df['Issue Date'].loc[df['Issue Date'].str.contains('2019-11')] = 'Q4'\n",
    "df['Issue Date'].loc[df['Issue Date'].str.contains('2019-12')] = 'Q4'\n",
    "\n",
    "df['Issue Date'].loc[df['Issue Date'].str.contains('2020-01')] = 'Q5'\n",
    "df['Issue Date'].loc[df['Issue Date'].str.contains('2020-02')] = 'Q5'\n",
    "df['Issue Date'].loc[df['Issue Date'].str.contains('2020-03')] = 'Q5'\n",
    "df['Issue Date'].loc[df['Issue Date'].str.contains('2020-04')] = 'Q6'\n",
    "df['Issue Date'].loc[df['Issue Date'].str.contains('2020-05')] = 'Q6'\n",
    "df['Issue Date'].loc[df['Issue Date'].str.contains('2020-06')] = 'Q6'\n",
    "df['Issue Date'].loc[df['Issue Date'].str.contains('2020-07')] = 'Q7'\n",
    "df['Issue Date'].loc[df['Issue Date'].str.contains('2020-08')] = 'Q7'\n",
    "df['Issue Date'].loc[df['Issue Date'].str.contains('2020-09')] = 'Q7'\n",
    "df['Issue Date'].loc[df['Issue Date'].str.contains('2020-10')] = 'Q8'\n",
    "df['Issue Date'].loc[df['Issue Date'].str.contains('2020-11')] = 'Q8'\n",
    "df['Issue Date'].loc[df['Issue Date'].str.contains('2020-12')] = 'Q8'\n",
    "\n",
    "df['Issue Date'].loc[df['Issue Date'].str.contains('2021-01')] = 'Q9'\n",
    "df['Issue Date'].loc[df['Issue Date'].str.contains('2021-02')] = 'Q9'\n",
    "df['Issue Date'].loc[df['Issue Date'].str.contains('2021-03')] = 'Q9'\n",
    "df['Issue Date'].loc[df['Issue Date'].str.contains('2021-04')] = 'Q10'\n",
    "df['Issue Date'].loc[df['Issue Date'].str.contains('2021-05')] = 'Q10'\n",
    "df['Issue Date'].loc[df['Issue Date'].str.contains('2021-06')] = 'Q10'\n",
    "df['Issue Date'].loc[df['Issue Date'].str.contains('2021-07')] = 'Q11'\n",
    "df['Issue Date'].loc[df['Issue Date'].str.contains('2021-08')] = 'Q11'\n",
    "df['Issue Date'].loc[df['Issue Date'].str.contains('2021-09')] = 'Q11'\n",
    "df['Issue Date'].loc[df['Issue Date'].str.contains('2021-10')] = 'Q12'\n",
    "df['Issue Date'].loc[df['Issue Date'].str.contains('2021-11')] = 'Q12'\n",
    "df['Issue Date'].loc[df['Issue Date'].str.contains('2021-12')] = 'Q12'"
   ]
  },
  {
   "cell_type": "code",
   "execution_count": 69,
   "metadata": {},
   "outputs": [
    {
     "data": {
      "text/plain": [
       "array(['Q1', 'Q2', 'Q3', 'Q4', 'Q5', 'Q6', 'Q7', 'Q8', 'Q9', 'Q10', 'Q11',\n",
       "       'Q12'], dtype=object)"
      ]
     },
     "execution_count": 69,
     "metadata": {},
     "output_type": "execute_result"
    }
   ],
   "source": [
    "df['Issue Date'].unique()"
   ]
  },
  {
   "cell_type": "markdown",
   "metadata": {},
   "source": [
    "### Issue Time\n",
    "- Time has been converted in to a decimal format to deal it as a Numeric Feature. \n",
    "  \n",
    "#### Steps of conversion in the excel file: \n",
    "1. Multiplied the time with 60\n",
    "2. Change format from time to Number\n",
    "\n",
    "\n",
    "12:15 = 12.25\n",
    "\n",
    "19:30 = 19.5\n",
    "\n",
    "01:45 = 01.75"
   ]
  },
  {
   "cell_type": "code",
   "execution_count": null,
   "metadata": {},
   "outputs": [],
   "source": [
    "df['Issue Time Decimal'] = pd.to_timedelta('00:'+df['Issue Time']).dt.total_seconds()/60\n",
    "df['Issue Time Decimal']"
   ]
  },
  {
   "cell_type": "code",
   "execution_count": 70,
   "metadata": {},
   "outputs": [
    {
     "data": {
      "text/plain": [
       "0          0.25\n",
       "1          0.32\n",
       "2          0.32\n",
       "3          0.33\n",
       "4          0.37\n",
       "          ...  \n",
       "380634    15.52\n",
       "380635    16.42\n",
       "380636    16.50\n",
       "380637    17.07\n",
       "380638    17.13\n",
       "Name: Issue Time Decimal, Length: 380639, dtype: float64"
      ]
     },
     "execution_count": 70,
     "metadata": {},
     "output_type": "execute_result"
    }
   ],
   "source": [
    "df['Issue Time Decimal']\n"
   ]
  },
  {
   "cell_type": "code",
   "execution_count": 71,
   "metadata": {},
   "outputs": [
    {
     "data": {
      "text/html": [
       "<div>\n",
       "<style scoped>\n",
       "    .dataframe tbody tr th:only-of-type {\n",
       "        vertical-align: middle;\n",
       "    }\n",
       "\n",
       "    .dataframe tbody tr th {\n",
       "        vertical-align: top;\n",
       "    }\n",
       "\n",
       "    .dataframe thead th {\n",
       "        text-align: right;\n",
       "    }\n",
       "</style>\n",
       "<table border=\"1\" class=\"dataframe\">\n",
       "  <thead>\n",
       "    <tr style=\"text-align: right;\">\n",
       "      <th></th>\n",
       "      <th>Make</th>\n",
       "      <th>Colour</th>\n",
       "      <th>Issue Time</th>\n",
       "      <th>Contravention Code</th>\n",
       "      <th>Location</th>\n",
       "      <th>PA_Details</th>\n",
       "      <th>Issue Date</th>\n",
       "      <th>Issue Time Decimal</th>\n",
       "    </tr>\n",
       "  </thead>\n",
       "  <tbody>\n",
       "    <tr>\n",
       "      <th>0</th>\n",
       "      <td>0</td>\n",
       "      <td>NaN</td>\n",
       "      <td>0:15</td>\n",
       "      <td>1</td>\n",
       "      <td>North Crescent</td>\n",
       "      <td>1485</td>\n",
       "      <td>Q1</td>\n",
       "      <td>0.25</td>\n",
       "    </tr>\n",
       "    <tr>\n",
       "      <th>1</th>\n",
       "      <td>0</td>\n",
       "      <td>NaN</td>\n",
       "      <td>0:19</td>\n",
       "      <td>16</td>\n",
       "      <td>Anne Street</td>\n",
       "      <td>1456</td>\n",
       "      <td>Q1</td>\n",
       "      <td>0.32</td>\n",
       "    </tr>\n",
       "    <tr>\n",
       "      <th>2</th>\n",
       "      <td>0</td>\n",
       "      <td>NaN</td>\n",
       "      <td>0:19</td>\n",
       "      <td>25</td>\n",
       "      <td>Celebration Avenue</td>\n",
       "      <td>1252</td>\n",
       "      <td>Q1</td>\n",
       "      <td>0.32</td>\n",
       "    </tr>\n",
       "    <tr>\n",
       "      <th>3</th>\n",
       "      <td>0</td>\n",
       "      <td>NaN</td>\n",
       "      <td>0:20</td>\n",
       "      <td>01o</td>\n",
       "      <td>Honour Lea Avenue</td>\n",
       "      <td>1313</td>\n",
       "      <td>Q1</td>\n",
       "      <td>0.33</td>\n",
       "    </tr>\n",
       "    <tr>\n",
       "      <th>4</th>\n",
       "      <td>0</td>\n",
       "      <td>NaN</td>\n",
       "      <td>0:22</td>\n",
       "      <td>62</td>\n",
       "      <td>Warton Road</td>\n",
       "      <td>1456</td>\n",
       "      <td>Q1</td>\n",
       "      <td>0.37</td>\n",
       "    </tr>\n",
       "  </tbody>\n",
       "</table>\n",
       "</div>"
      ],
      "text/plain": [
       "  Make Colour Issue Time Contravention Code            Location PA_Details  \\\n",
       "0    0    NaN       0:15                  1      North Crescent       1485   \n",
       "1    0    NaN       0:19                 16         Anne Street       1456   \n",
       "2    0    NaN       0:19                 25  Celebration Avenue       1252   \n",
       "3    0    NaN       0:20                01o   Honour Lea Avenue       1313   \n",
       "4    0    NaN       0:22                 62         Warton Road       1456   \n",
       "\n",
       "  Issue Date  Issue Time Decimal  \n",
       "0         Q1                0.25  \n",
       "1         Q1                0.32  \n",
       "2         Q1                0.32  \n",
       "3         Q1                0.33  \n",
       "4         Q1                0.37  "
      ]
     },
     "execution_count": 71,
     "metadata": {},
     "output_type": "execute_result"
    }
   ],
   "source": [
    "df.head()"
   ]
  },
  {
   "cell_type": "markdown",
   "metadata": {},
   "source": [
    "### Contravention Code"
   ]
  },
  {
   "cell_type": "code",
   "execution_count": 72,
   "metadata": {},
   "outputs": [
    {
     "data": {
      "text/plain": [
       "(136,)"
      ]
     },
     "execution_count": 72,
     "metadata": {},
     "output_type": "execute_result"
    }
   ],
   "source": [
    "df['Contravention Code'].unique().shape"
   ]
  },
  {
   "cell_type": "code",
   "execution_count": 73,
   "metadata": {},
   "outputs": [
    {
     "data": {
      "text/plain": [
       "array(['1', '16', '25', '01o', '62', '40', '165', '99', '14', 'W23',\n",
       "       'W01', 'W61', 'W63', '21', '12', '19', '01a', '6', '27', '11u',\n",
       "       '30', '54', '26', '73u', '82u)', '01o)', '2', '83', '73', '165)',\n",
       "       '45', '11u)', '47', '80', '92', '87', '28', '48', '5', 'W12', '91',\n",
       "       '62g', '82', '23g', '86', 'W02', '05u', '23c', '11', '85', '82u',\n",
       "       '95', '8', '35', 'W62', '22', '10', '62g)', '80u', 'W27', 'W87',\n",
       "       '61', 'W21', '71', 'W26', 'W11', '81', 'W06', '49', '23', '20',\n",
       "       'W57', 'W19', 'W45', 'W47', '55', 'W01A', 'W25', 'W20', 'W93',\n",
       "       '24', 'W24', '43', '70', '23r', 'W41', 'W04', '9', 'W16', 'W05',\n",
       "       'W30', 'W92', '61g)', 'W48', 'W14', 'W73', 'W91', 'W31', 'W49',\n",
       "       '96', '56', 'W95', 'W46', '23s', 'W40', 'W99', '18', '4', '63',\n",
       "       'W82', 'W22', '73u)', 'W89', '61g', 'W09', 'W83', 'W08', '23e',\n",
       "       '164', 'W35', '23d', '93', 'W70', 'W55', 'W56', '7', '89', '232',\n",
       "       '23p', '5u)', 'W42', 'W10', '36', 'W54', '57', 'W90'], dtype=object)"
      ]
     },
     "execution_count": 73,
     "metadata": {},
     "output_type": "execute_result"
    }
   ],
   "source": [
    "df['Contravention Code'].unique()"
   ]
  },
  {
   "cell_type": "markdown",
   "metadata": {},
   "source": [
    "- Dropping Contravention codes which contains 'W'"
   ]
  },
  {
   "cell_type": "code",
   "execution_count": 74,
   "metadata": {},
   "outputs": [],
   "source": [
    "df = df[~df['Contravention Code'].str.contains('W')]"
   ]
  },
  {
   "cell_type": "code",
   "execution_count": 75,
   "metadata": {},
   "outputs": [
    {
     "data": {
      "text/plain": [
       "array(['1', '16', '25', '01o', '62', '40', '165', '99', '14', '21', '12',\n",
       "       '19', '01a', '6', '27', '11u', '30', '54', '26', '73u', '82u)',\n",
       "       '01o)', '2', '83', '73', '165)', '45', '11u)', '47', '80', '92',\n",
       "       '87', '28', '48', '5', '91', '62g', '82', '23g', '86', '05u',\n",
       "       '23c', '11', '85', '82u', '95', '8', '35', '22', '10', '62g)',\n",
       "       '80u', '61', '71', '81', '49', '23', '20', '55', '24', '43', '70',\n",
       "       '23r', '9', '61g)', '96', '56', '23s', '18', '4', '63', '73u)',\n",
       "       '61g', '23e', '164', '23d', '93', '7', '89', '232', '23p', '5u)',\n",
       "       '36', '57'], dtype=object)"
      ]
     },
     "execution_count": 75,
     "metadata": {},
     "output_type": "execute_result"
    }
   ],
   "source": [
    "# df['Contravention Code']=df['Contravention Code'].str.replace(\"u\",\"\")\n",
    "# df['Contravention Code']=df['Contravention Code'].str.replace(\"g\",\"\")\n",
    "# df['Contravention Code']=df['Contravention Code'].str.replace(\"a\",\"\")\n",
    "# df['Contravention Code']=df['Contravention Code'].str.replace(\"c\",\"\")\n",
    "# df['Contravention Code']=df['Contravention Code'].str.replace(\"o\",\"\")\n",
    "# df['Contravention Code']=df['Contravention Code'].str.replace(\")\",\"\")\n",
    "# df['Contravention Code']=df['Contravention Code'].str.replace(\"d\",\"\")\n",
    "# df['Contravention Code']=df['Contravention Code'].str.replace(\"p\",\"\")\n",
    "# df['Contravention Code']=df['Contravention Code'].str.replace(\"e\",\"\")\n",
    "# df['Contravention Code']=df['Contravention Code'].str.replace(\"s\",\"\")\n",
    "# df['Contravention Code']=df['Contravention Code'].str.replace(\"r\",\"\")\n",
    "df['Contravention Code'].unique()"
   ]
  },
  {
   "cell_type": "code",
   "execution_count": 76,
   "metadata": {},
   "outputs": [
    {
     "data": {
      "text/html": [
       "<div>\n",
       "<style scoped>\n",
       "    .dataframe tbody tr th:only-of-type {\n",
       "        vertical-align: middle;\n",
       "    }\n",
       "\n",
       "    .dataframe tbody tr th {\n",
       "        vertical-align: top;\n",
       "    }\n",
       "\n",
       "    .dataframe thead th {\n",
       "        text-align: right;\n",
       "    }\n",
       "</style>\n",
       "<table border=\"1\" class=\"dataframe\">\n",
       "  <thead>\n",
       "    <tr style=\"text-align: right;\">\n",
       "      <th></th>\n",
       "      <th>Make</th>\n",
       "      <th>Colour</th>\n",
       "      <th>Issue Time</th>\n",
       "      <th>Contravention Code</th>\n",
       "      <th>Location</th>\n",
       "      <th>PA_Details</th>\n",
       "      <th>Issue Date</th>\n",
       "      <th>Issue Time Decimal</th>\n",
       "    </tr>\n",
       "  </thead>\n",
       "  <tbody>\n",
       "    <tr>\n",
       "      <th>0</th>\n",
       "      <td>0</td>\n",
       "      <td>NaN</td>\n",
       "      <td>0:15</td>\n",
       "      <td>1</td>\n",
       "      <td>North Crescent</td>\n",
       "      <td>1485</td>\n",
       "      <td>Q1</td>\n",
       "      <td>0.25</td>\n",
       "    </tr>\n",
       "    <tr>\n",
       "      <th>1</th>\n",
       "      <td>0</td>\n",
       "      <td>NaN</td>\n",
       "      <td>0:19</td>\n",
       "      <td>16</td>\n",
       "      <td>Anne Street</td>\n",
       "      <td>1456</td>\n",
       "      <td>Q1</td>\n",
       "      <td>0.32</td>\n",
       "    </tr>\n",
       "    <tr>\n",
       "      <th>2</th>\n",
       "      <td>0</td>\n",
       "      <td>NaN</td>\n",
       "      <td>0:19</td>\n",
       "      <td>25</td>\n",
       "      <td>Celebration Avenue</td>\n",
       "      <td>1252</td>\n",
       "      <td>Q1</td>\n",
       "      <td>0.32</td>\n",
       "    </tr>\n",
       "    <tr>\n",
       "      <th>3</th>\n",
       "      <td>0</td>\n",
       "      <td>NaN</td>\n",
       "      <td>0:20</td>\n",
       "      <td>01o</td>\n",
       "      <td>Honour Lea Avenue</td>\n",
       "      <td>1313</td>\n",
       "      <td>Q1</td>\n",
       "      <td>0.33</td>\n",
       "    </tr>\n",
       "    <tr>\n",
       "      <th>4</th>\n",
       "      <td>0</td>\n",
       "      <td>NaN</td>\n",
       "      <td>0:22</td>\n",
       "      <td>62</td>\n",
       "      <td>Warton Road</td>\n",
       "      <td>1456</td>\n",
       "      <td>Q1</td>\n",
       "      <td>0.37</td>\n",
       "    </tr>\n",
       "  </tbody>\n",
       "</table>\n",
       "</div>"
      ],
      "text/plain": [
       "  Make Colour Issue Time Contravention Code            Location PA_Details  \\\n",
       "0    0    NaN       0:15                  1      North Crescent       1485   \n",
       "1    0    NaN       0:19                 16         Anne Street       1456   \n",
       "2    0    NaN       0:19                 25  Celebration Avenue       1252   \n",
       "3    0    NaN       0:20                01o   Honour Lea Avenue       1313   \n",
       "4    0    NaN       0:22                 62         Warton Road       1456   \n",
       "\n",
       "  Issue Date  Issue Time Decimal  \n",
       "0         Q1                0.25  \n",
       "1         Q1                0.32  \n",
       "2         Q1                0.32  \n",
       "3         Q1                0.33  \n",
       "4         Q1                0.37  "
      ]
     },
     "execution_count": 76,
     "metadata": {},
     "output_type": "execute_result"
    }
   ],
   "source": [
    "df.head()"
   ]
  },
  {
   "cell_type": "markdown",
   "metadata": {},
   "source": [
    "### PA Details\n",
    "\n",
    "- Dropping characters from PA Details to handle duplicates"
   ]
  },
  {
   "cell_type": "code",
   "execution_count": 77,
   "metadata": {},
   "outputs": [
    {
     "data": {
      "text/plain": [
       "array(['1485', '1456', '1252', '1313', '1453', '1498', '1142', '1461',\n",
       "       '1481', '1463', '1435', '1442', '1506', '1331', '1318', '1507',\n",
       "       '1454', '1492', '1475', '1482', '1468', '3293', '1504', '1494',\n",
       "       '3300', '3303', '3288', '3292', '1516', '1433', '3289', '1457',\n",
       "       '1513', '1518', '1466', '1524', '3295', '3247', '1521', '1508',\n",
       "       '3323', '1510', '3329', '1462', '1281', '3326', '3287', '3318',\n",
       "       '1505', '1499', '1381', '1146', '1309', '992', '3330', '1464',\n",
       "       '1458', '1351', '1514', '3327', '3324', '1519', '3328', '3235',\n",
       "       '1306', '1500', '3254', '3299', '1434', 'PN3260', '1522', 'PN1435',\n",
       "       '3264', '3216', 'PN1313', 'PN3288', 'PN1498', '1520', '3191',\n",
       "       '1247', 'PN3239', '1491', 'PN1462', 'PN1433', 'PN1463', '1410',\n",
       "       'PN1438', 'PN1306', '1438', 'PN1458', '1523', '3237', '3266',\n",
       "       'PN3269', 'PN1464', 'PN1453', '1490', 'PN1318', 'PN1419', '3298',\n",
       "       'PN1410', '3239', 'PN1142', 'PN1481', 'PN1401', 'PN1466', 'PN1499',\n",
       "       'PN1437', '1473', 'PN1456', 'PN1387', '1387', 'PN1468', '1278',\n",
       "       '3272', 'PN1473', '1419', '1502', 'PN1454', '1145', '1409', '3156',\n",
       "       'PN3266', 'PN3278', '3301', 'PN1482', 'PN3247', '1407', '1517',\n",
       "       '3296', 'PN3235', '1503', 'PN3205', '1509', 'PN3275', 'PN1492',\n",
       "       '3319', 'PN1495', 'PN1461', '1418', 'PN1447', 'PN3285', 'PN1491',\n",
       "       'PN1484', 'PN3287', 'PN1485', '3316', '1515', '1489', 'PN1457',\n",
       "       '1447', 'PN1478', 'PN3191', 'PN3228', 'PN1278', 'PN1489', 'PN1331',\n",
       "       'PN3229', 'PN3216', 'PN3268', 'PN3154', 'PN1409', '1478', '1424',\n",
       "       'PN1493', '3225', 'PN1281', '3283', 'PN3245', '3291', '1495',\n",
       "       '3302', 'PN1486', 'PN3179', 'PN3283', 'PN1424', 'PN1252', '3278',\n",
       "       'PN3237', 'PN3262', 'PN3236', '1437', 'PN1407', 'PN3274', '3245',\n",
       "       '1512', 'PN1381', '3294', 'PN3289', 'PN3255', 'PN1455', 'PN3261',\n",
       "       'PN3264', '3286', '999', 'PN1497', 'PN3284', 'PN1488', 'PN1442',\n",
       "       'PN3272', 'PN3286', 'PN3258', 'PN3277', 'PN3265', 'PN3156',\n",
       "       'PN3271', '1511', '1401', 'PN1494', '1432', 'PN1487', '3331',\n",
       "       'PN3270', 'PN1496', 'PN1490', 'PN1035', '1465', 'PN1418', 'PN1308',\n",
       "       'PN3276', 'PN1500', 'PN3290', 'PN3273', 'PN1432', '9999', '3317',\n",
       "       '1440', 'PN3165', '1308', 'PN1465', 'icpsadmin', '1501', 'PN1430',\n",
       "       '1430', 'PN3254', 'PN3281', '999999999', '1486', '1035', 'PN777',\n",
       "       'PN3263', 'PN1309', 'PN999', 'PN3280', 'PN1440', 'PN1483',\n",
       "       'PN1460', 'PN3197', '3290', 'PN3291'], dtype=object)"
      ]
     },
     "execution_count": 77,
     "metadata": {},
     "output_type": "execute_result"
    }
   ],
   "source": [
    "df['PA_Details'].unique()"
   ]
  },
  {
   "cell_type": "code",
   "execution_count": 78,
   "metadata": {},
   "outputs": [],
   "source": [
    "df['PA_Details']=df['PA_Details'].str.replace(\"PN\",\"\")\n",
    "df['PA_Details']=df['PA_Details'].str.replace(\")\",\"\")\n",
    "df.drop(df.index[df['PA_Details'] == 'icpsadmin'], inplace = True)\n",
    "df.drop(df.index[df['PA_Details'] == '999999999'], inplace = True)\n",
    "df.drop(df.index[df['PA_Details'] == '999'], inplace = True)"
   ]
  },
  {
   "cell_type": "markdown",
   "metadata": {},
   "source": [
    "### Location\n",
    "- Dropping Test Locations"
   ]
  },
  {
   "cell_type": "code",
   "execution_count": 79,
   "metadata": {},
   "outputs": [],
   "source": [
    "df = df[~df['Location'].str.contains('Test')]"
   ]
  },
  {
   "cell_type": "markdown",
   "metadata": {},
   "source": [
    "###  Null values\n",
    "\n",
    "- Dropping Null values from whole dataset"
   ]
  },
  {
   "cell_type": "code",
   "execution_count": 80,
   "metadata": {},
   "outputs": [
    {
     "data": {
      "text/plain": [
       "(375800, 8)"
      ]
     },
     "execution_count": 80,
     "metadata": {},
     "output_type": "execute_result"
    }
   ],
   "source": [
    "df.dropna(inplace=True)\n",
    "df.shape"
   ]
  },
  {
   "cell_type": "markdown",
   "metadata": {},
   "source": [
    "###  Make\n",
    "As there are entries with different cases, we convert the 'make' column in to lower case for all rows and then process the data.\n",
    "\n",
    "- Dropping data where Make is 0 and 1n/a"
   ]
  },
  {
   "cell_type": "code",
   "execution_count": 81,
   "metadata": {},
   "outputs": [
    {
     "data": {
      "text/plain": [
       "array(['audi', 'bmw', 'chrysler', 'citroen', 'ford', 'honda', 'hyundai',\n",
       "       'alfa romeo', 'austin', 'bentley', 'iveco', 'jaguar',\n",
       "       'austin rover', 'autobianchi', 'bedford', 'dacia', '1n/a', 'a c',\n",
       "       'aixam', 'daf', 'abarth', 'bmc', 'isuzu', 'aston martin', 'daewoo',\n",
       "       'dodge', 'ds', 'infinity', 'daihatsu', 'eunos', 'ferrari', 'fiat',\n",
       "       'alvis', 'jeep', 'kia', 'land rover', 'ldv', 'lexus',\n",
       "       'mercedes benz', 'mercedes-benz', 'mini', 'mitsubishi', 'nissan',\n",
       "       'peugeot', 'porsche', 'levc', 'opel', 'mercedes', 'range rover',\n",
       "       'maxus', 'mazda', 'renault', 'lti', 'man', 'mg', 'piaggio',\n",
       "       'maserati', 'proton', 'leyland', 'lincoln', 'london taxi', 'matra',\n",
       "       'mahindra', 'malaguti', 'reliant', 'mercury', 'saab', 'scania',\n",
       "       'seat', 'skoda', 'smart', 'subaru', 'toyota', 'vauxhall',\n",
       "       'rolls royce', 'rolls-royce', 'volkswagen', 'ssang yong', 'taxi',\n",
       "       'rover', 'suzuki', 'ssangyong', 'unknown', 'tesla', 'singer',\n",
       "       'vanden plas', 'volvo', 'triumph', 'lotus', 'mz', 'chevrolet',\n",
       "       'freight rover', 'gilera', 'harley davidson', 'harley davison',\n",
       "       'holden', 'bristol', 'daimler', 'dennis', 'midas', 'kawasaki',\n",
       "       'american', 'ariel', 'mcc', 'mclaren', 'tata', 'cadillac',\n",
       "       'moto guzzi', 'moto morini', 'mustang', 'carbodies', 'caterham',\n",
       "       'cherokee', 'ktm', 'lamborghini', 'lambourghini', 'colt', 'cupra',\n",
       "       'foden', 'lancia', 'velocette', 'armstrong siddely', 'rieju',\n",
       "       'vespa', 'riley', 'vincent', 'perodua', 'yamaha', 'noble',\n",
       "       'norton', 'humber', 'hyosung'], dtype=object)"
      ]
     },
     "execution_count": 81,
     "metadata": {},
     "output_type": "execute_result"
    }
   ],
   "source": [
    "df.Make=df.Make.str.lower()\n",
    "df['Make'].unique()"
   ]
  },
  {
   "cell_type": "code",
   "execution_count": 82,
   "metadata": {},
   "outputs": [
    {
     "data": {
      "text/plain": [
       "(375797, 8)"
      ]
     },
     "execution_count": 82,
     "metadata": {},
     "output_type": "execute_result"
    }
   ],
   "source": [
    "df.drop(df.index[df['Make'] == 0], inplace = True)\n",
    "df.drop(df.index[df['Make'] == '1n/a'], inplace = True)\n",
    "df['Make'].loc[df['Make'].str.contains('harley davison')] = 'harley davidson'\n",
    "df['Make'].loc[df['Make'].str.contains('mercedes')] = 'mercedes'\n",
    "df['Make'].loc[df['Make'].str.contains('lamborghini')] = 'lambourghini'\n",
    "df['Make'].loc[df['Make'].str.contains('rolls-royce')] = 'rolls royce'\n",
    "df['Make'].loc[df['Make'].str.contains('ssangyong')] = 'ssang Yong'\n",
    "df['Make'].loc[df['Make'].str.contains('SSANGYONG')] = 'Ssang Yong'\n",
    "df.shape"
   ]
  },
  {
   "cell_type": "code",
   "execution_count": 83,
   "metadata": {},
   "outputs": [
    {
     "data": {
      "text/plain": [
       "array(['audi', 'bmw', 'chrysler', 'citroen', 'ford', 'honda', 'hyundai',\n",
       "       'alfa romeo', 'austin', 'bentley', 'iveco', 'jaguar',\n",
       "       'austin rover', 'autobianchi', 'bedford', 'dacia', 'a c', 'aixam',\n",
       "       'daf', 'abarth', 'bmc', 'isuzu', 'aston martin', 'daewoo', 'dodge',\n",
       "       'ds', 'infinity', 'daihatsu', 'eunos', 'ferrari', 'fiat', 'alvis',\n",
       "       'jeep', 'kia', 'land rover', 'ldv', 'lexus', 'mercedes', 'mini',\n",
       "       'mitsubishi', 'nissan', 'peugeot', 'porsche', 'levc', 'opel',\n",
       "       'range rover', 'maxus', 'mazda', 'renault', 'lti', 'man', 'mg',\n",
       "       'piaggio', 'maserati', 'proton', 'leyland', 'lincoln',\n",
       "       'london taxi', 'matra', 'mahindra', 'malaguti', 'reliant',\n",
       "       'mercury', 'saab', 'scania', 'seat', 'skoda', 'smart', 'subaru',\n",
       "       'toyota', 'vauxhall', 'rolls royce', 'volkswagen', 'ssang yong',\n",
       "       'taxi', 'rover', 'suzuki', 'ssang Yong', 'unknown', 'tesla',\n",
       "       'singer', 'vanden plas', 'volvo', 'triumph', 'lotus', 'mz',\n",
       "       'chevrolet', 'freight rover', 'gilera', 'harley davidson',\n",
       "       'holden', 'bristol', 'daimler', 'dennis', 'midas', 'kawasaki',\n",
       "       'american', 'ariel', 'mcc', 'mclaren', 'tata', 'cadillac',\n",
       "       'moto guzzi', 'moto morini', 'mustang', 'carbodies', 'caterham',\n",
       "       'cherokee', 'ktm', 'lambourghini', 'colt', 'cupra', 'foden',\n",
       "       'lancia', 'velocette', 'armstrong siddely', 'rieju', 'vespa',\n",
       "       'riley', 'vincent', 'perodua', 'yamaha', 'noble', 'norton',\n",
       "       'humber', 'hyosung'], dtype=object)"
      ]
     },
     "execution_count": 83,
     "metadata": {},
     "output_type": "execute_result"
    }
   ],
   "source": [
    "df['Make'].unique()"
   ]
  },
  {
   "cell_type": "markdown",
   "metadata": {},
   "source": [
    "###  Colour\n",
    "As there are entries with different cases, we convert the 'make' column in to lower case for all rows and then process the data.\n"
   ]
  },
  {
   "cell_type": "code",
   "execution_count": 84,
   "metadata": {},
   "outputs": [
    {
     "data": {
      "text/plain": [
       "array(['Black', 'BLACK', 'black', 'Blue', 'BLUE', 'blue', 'Green',\n",
       "       'GREEN', 'Grey', 'Other', 'OTHER', 'Purple', 'Red', 'RED', 'red',\n",
       "       'Silver', 'SILVER', 'White', 'Bronze', 'Brown', 'GREY', 'grey',\n",
       "       'silver', 'Unspecified', 'Maroon', 'maroon', 'WHITE', 'BROWN',\n",
       "       'Burgundy', 'Orange', 'white', 'Gold', 'Yellow', 'UNSPECIFIED',\n",
       "       'PURPLE', 'ORANGE', 'YELLOW', 'gold', 'Beige', 'Cream',\n",
       "       'Multi-Coloured', 'BEIGE', 'Pink', '1n/a', 'BLack', 'BRONZE',\n",
       "       'GOLD', 'Light Blue', 'green', 'MAROON', 'MAUVE', 'orange',\n",
       "       'yellow', 'unspecified', 'other', 'TURQUOISE', 'Mauve', 'brown',\n",
       "       'cream', 'MULTI-COLOURED'], dtype=object)"
      ]
     },
     "execution_count": 84,
     "metadata": {},
     "output_type": "execute_result"
    }
   ],
   "source": [
    "df['Colour'].unique()"
   ]
  },
  {
   "cell_type": "code",
   "execution_count": 85,
   "metadata": {},
   "outputs": [
    {
     "data": {
      "text/plain": [
       "array(['black', 'blue', 'green', 'grey', 'other', 'purple', 'red',\n",
       "       'silver', 'white', 'bronze', 'brown', 'unspecified', 'maroon',\n",
       "       'burgundy', 'orange', 'gold', 'yellow', 'beige', 'cream',\n",
       "       'multi-coloured', 'pink', 'light blue', 'mauve', 'turquoise'],\n",
       "      dtype=object)"
      ]
     },
     "execution_count": 85,
     "metadata": {},
     "output_type": "execute_result"
    }
   ],
   "source": [
    "df.Colour=df.Colour.str.lower()\n",
    "df.drop(df.index[df['Colour'] == '1n/a'], inplace = True)\n",
    "df['Colour'].unique()"
   ]
  },
  {
   "cell_type": "code",
   "execution_count": 86,
   "metadata": {},
   "outputs": [
    {
     "data": {
      "text/plain": [
       "array(['1500', '3254', '1498', '3299', '1434', '3260', '1433', '1522',\n",
       "       '1508', '1435', '3264', '1507', '1518', '3216', '1313', '3288',\n",
       "       '1524', '1519', '1504', '1318', '1142', '1520', '1306', '3292',\n",
       "       '3191', '3295', '1247', '1516', '1453', '1521', '1462', '3239',\n",
       "       '1454', '3293', '1491', '1463', '1456', '1281', '1410', '1438',\n",
       "       '1510', '1464', '1499', '1458', '1523', '1146', '1514', '3237',\n",
       "       '3266', '3269', '1485', '1490', '1419', '3298', '1252', '3247',\n",
       "       '1481', '3328', '1401', '1466', '3326', '1461', '1437', '1473',\n",
       "       '1387', '1468', '1278', '3272', '1502', '1145', '3289', '3235',\n",
       "       '1513', '1457', '1409', '3156', '3278', '3301', '1482', '3318',\n",
       "       '1407', '1517', '3287', '3296', '1503', '3205', '1509', '3275',\n",
       "       '1492', '1506', '3319', '1495', '1418', '1447', '3285', '1505',\n",
       "       '1351', '1484', '1331', '1442', '1494', '3316', '1515', '1309',\n",
       "       '1489', '3327', '1475', '1381', '1478', '3300', '3228', '3303',\n",
       "       '3229', '3268', '3154', '3323', '1424', '1493', '3225', '3283',\n",
       "       '3324', '3330', '3245', '3291', '3302', '1486', '3179', '3262',\n",
       "       '3236', '3274', '992', '1512', '3294', '3255', '1455', '3261',\n",
       "       '3286', '1497', '3284', '1488', '3258', '3277', '3265', '3271',\n",
       "       '1511', '1432', '3329', '1487', '3331', '3270', '1496', '1035',\n",
       "       '1465', '1308', '3276', '3290', '3273', '3317', '1440', '3165',\n",
       "       '1501', '1430', '3281', '777', '3263', '3280', '1483', '9999',\n",
       "       '1460', '3197'], dtype=object)"
      ]
     },
     "execution_count": 86,
     "metadata": {},
     "output_type": "execute_result"
    }
   ],
   "source": [
    "df['PA_Details'].unique()"
   ]
  },
  {
   "cell_type": "code",
   "execution_count": 87,
   "metadata": {},
   "outputs": [
    {
     "data": {
      "text/plain": [
       "(     Make Colour Issue Time Contravention Code            Location PA_Details  \\\n",
       " 162  audi  black       9:31                 19         Antwerp Way       1500   \n",
       " 163  audi  black      10:30                 12        First Avenue       3254   \n",
       " 164  audi  black      10:30                 12       Ingestre Road       1498   \n",
       " 165  audi  black      10:30                 12    Lawrence Road E6       3299   \n",
       " 166  audi  black      10:30                 12     Napier Road E15       1434   \n",
       " 167  audi  black      10:30                 19    Biggerstaff Road       3260   \n",
       " 168  audi  black      10:30                 19        Grant Street       3299   \n",
       " 169  audi  black      10:30                 19          Kings Road       1433   \n",
       " 170  audi  black      10:30                 19  Upperton Road West       1522   \n",
       " 171  audi  black      10:30                 21     Malmesbury Road       1508   \n",
       " 172  audi  black      10:30                 25      Redclyffe Road       1433   \n",
       " 173  audi  black      11:33                  1        Plashet Road       1522   \n",
       " 174  audi  black      11:33                  6        Green Street       1435   \n",
       " 175  audi  black      11:33                 12     Atlantis Avenue       3264   \n",
       " 176  audi  black      11:33                 12       Bartle Avenue       1435   \n",
       " 177  audi  black      11:33                 12        Burford Road       1507   \n",
       " 178  audi  black      11:33                 12        Burford Road       1518   \n",
       " 179  audi  black      11:33                 12        Cyprus Place       3216   \n",
       " 180  audi  black      11:33                 12       Kerrison Road       1313   \n",
       " 181  audi  black      11:33                 12          Lloyd Road       3288   \n",
       " \n",
       "     Issue Date  Issue Time Decimal  \n",
       " 162         Q1                9.52  \n",
       " 163         Q1               10.50  \n",
       " 164         Q1               10.50  \n",
       " 165         Q1               10.50  \n",
       " 166         Q1               10.50  \n",
       " 167         Q1               10.50  \n",
       " 168         Q1               10.50  \n",
       " 169         Q1               10.50  \n",
       " 170         Q1               10.50  \n",
       " 171         Q1               10.50  \n",
       " 172         Q1               10.50  \n",
       " 173         Q1               11.55  \n",
       " 174         Q1               11.55  \n",
       " 175         Q1               11.55  \n",
       " 176         Q1               11.55  \n",
       " 177         Q1               11.55  \n",
       " 178         Q1               11.55  \n",
       " 179         Q1               11.55  \n",
       " 180         Q1               11.55  \n",
       " 181         Q1               11.55  ,\n",
       " (375785, 8))"
      ]
     },
     "execution_count": 87,
     "metadata": {},
     "output_type": "execute_result"
    }
   ],
   "source": [
    "df.head(20),df.shape"
   ]
  },
  {
   "cell_type": "code",
   "execution_count": 88,
   "metadata": {},
   "outputs": [
    {
     "data": {
      "text/plain": [
       "(12,\n",
       " array(['Q1', 'Q2', 'Q3', 'Q4', 'Q5', 'Q6', 'Q7', 'Q8', 'Q9', 'Q10', 'Q11',\n",
       "        'Q12'], dtype=object))"
      ]
     },
     "execution_count": 88,
     "metadata": {},
     "output_type": "execute_result"
    }
   ],
   "source": [
    "len(df[\"Issue Date\"].unique()),df[\"Issue Date\"].unique()"
   ]
  },
  {
   "cell_type": "code",
   "execution_count": 89,
   "metadata": {},
   "outputs": [
    {
     "data": {
      "text/html": [
       "<div>\n",
       "<style scoped>\n",
       "    .dataframe tbody tr th:only-of-type {\n",
       "        vertical-align: middle;\n",
       "    }\n",
       "\n",
       "    .dataframe tbody tr th {\n",
       "        vertical-align: top;\n",
       "    }\n",
       "\n",
       "    .dataframe thead th {\n",
       "        text-align: right;\n",
       "    }\n",
       "</style>\n",
       "<table border=\"1\" class=\"dataframe\">\n",
       "  <thead>\n",
       "    <tr style=\"text-align: right;\">\n",
       "      <th></th>\n",
       "      <th>Make</th>\n",
       "      <th>Colour</th>\n",
       "      <th>Issue Time</th>\n",
       "      <th>Contravention Code</th>\n",
       "      <th>Location</th>\n",
       "      <th>PA_Details</th>\n",
       "      <th>Issue Date</th>\n",
       "      <th>Issue Time Decimal</th>\n",
       "    </tr>\n",
       "  </thead>\n",
       "  <tbody>\n",
       "    <tr>\n",
       "      <th>162</th>\n",
       "      <td>audi</td>\n",
       "      <td>black</td>\n",
       "      <td>9:31</td>\n",
       "      <td>19</td>\n",
       "      <td>Antwerp Way</td>\n",
       "      <td>1500</td>\n",
       "      <td>Q1</td>\n",
       "      <td>9.52</td>\n",
       "    </tr>\n",
       "    <tr>\n",
       "      <th>163</th>\n",
       "      <td>audi</td>\n",
       "      <td>black</td>\n",
       "      <td>10:30</td>\n",
       "      <td>12</td>\n",
       "      <td>First Avenue</td>\n",
       "      <td>3254</td>\n",
       "      <td>Q1</td>\n",
       "      <td>10.50</td>\n",
       "    </tr>\n",
       "    <tr>\n",
       "      <th>164</th>\n",
       "      <td>audi</td>\n",
       "      <td>black</td>\n",
       "      <td>10:30</td>\n",
       "      <td>12</td>\n",
       "      <td>Ingestre Road</td>\n",
       "      <td>1498</td>\n",
       "      <td>Q1</td>\n",
       "      <td>10.50</td>\n",
       "    </tr>\n",
       "    <tr>\n",
       "      <th>165</th>\n",
       "      <td>audi</td>\n",
       "      <td>black</td>\n",
       "      <td>10:30</td>\n",
       "      <td>12</td>\n",
       "      <td>Lawrence Road E6</td>\n",
       "      <td>3299</td>\n",
       "      <td>Q1</td>\n",
       "      <td>10.50</td>\n",
       "    </tr>\n",
       "    <tr>\n",
       "      <th>166</th>\n",
       "      <td>audi</td>\n",
       "      <td>black</td>\n",
       "      <td>10:30</td>\n",
       "      <td>12</td>\n",
       "      <td>Napier Road E15</td>\n",
       "      <td>1434</td>\n",
       "      <td>Q1</td>\n",
       "      <td>10.50</td>\n",
       "    </tr>\n",
       "  </tbody>\n",
       "</table>\n",
       "</div>"
      ],
      "text/plain": [
       "     Make Colour Issue Time Contravention Code          Location PA_Details  \\\n",
       "162  audi  black       9:31                 19       Antwerp Way       1500   \n",
       "163  audi  black      10:30                 12      First Avenue       3254   \n",
       "164  audi  black      10:30                 12     Ingestre Road       1498   \n",
       "165  audi  black      10:30                 12  Lawrence Road E6       3299   \n",
       "166  audi  black      10:30                 12   Napier Road E15       1434   \n",
       "\n",
       "    Issue Date  Issue Time Decimal  \n",
       "162         Q1                9.52  \n",
       "163         Q1               10.50  \n",
       "164         Q1               10.50  \n",
       "165         Q1               10.50  \n",
       "166         Q1               10.50  "
      ]
     },
     "execution_count": 89,
     "metadata": {},
     "output_type": "execute_result"
    }
   ],
   "source": [
    "df.head()"
   ]
  },
  {
   "cell_type": "code",
   "execution_count": 90,
   "metadata": {},
   "outputs": [
    {
     "data": {
      "text/html": [
       "<div>\n",
       "<style scoped>\n",
       "    .dataframe tbody tr th:only-of-type {\n",
       "        vertical-align: middle;\n",
       "    }\n",
       "\n",
       "    .dataframe tbody tr th {\n",
       "        vertical-align: top;\n",
       "    }\n",
       "\n",
       "    .dataframe thead th {\n",
       "        text-align: right;\n",
       "    }\n",
       "</style>\n",
       "<table border=\"1\" class=\"dataframe\">\n",
       "  <thead>\n",
       "    <tr style=\"text-align: right;\">\n",
       "      <th></th>\n",
       "      <th>Make</th>\n",
       "      <th>Colour</th>\n",
       "      <th>Issue Time</th>\n",
       "      <th>Contravention Code</th>\n",
       "      <th>Location</th>\n",
       "      <th>PA_Details</th>\n",
       "      <th>Issue Date</th>\n",
       "      <th>Issue Time Decimal</th>\n",
       "    </tr>\n",
       "  </thead>\n",
       "  <tbody>\n",
       "    <tr>\n",
       "      <th>380634</th>\n",
       "      <td>yamaha</td>\n",
       "      <td>white</td>\n",
       "      <td>15:31</td>\n",
       "      <td>54</td>\n",
       "      <td>Broadway</td>\n",
       "      <td>1485</td>\n",
       "      <td>Q12</td>\n",
       "      <td>15.52</td>\n",
       "    </tr>\n",
       "    <tr>\n",
       "      <th>380635</th>\n",
       "      <td>yamaha</td>\n",
       "      <td>white</td>\n",
       "      <td>16:25</td>\n",
       "      <td>1</td>\n",
       "      <td>High Street North</td>\n",
       "      <td>3237</td>\n",
       "      <td>Q12</td>\n",
       "      <td>16.42</td>\n",
       "    </tr>\n",
       "    <tr>\n",
       "      <th>380636</th>\n",
       "      <td>yamaha</td>\n",
       "      <td>white</td>\n",
       "      <td>16:30</td>\n",
       "      <td>81</td>\n",
       "      <td>Stratford Multi Storey Car Park</td>\n",
       "      <td>1458</td>\n",
       "      <td>Q12</td>\n",
       "      <td>16.50</td>\n",
       "    </tr>\n",
       "    <tr>\n",
       "      <th>380637</th>\n",
       "      <td>yamaha</td>\n",
       "      <td>white</td>\n",
       "      <td>17:04</td>\n",
       "      <td>62</td>\n",
       "      <td>Westfield Avenue</td>\n",
       "      <td>1475</td>\n",
       "      <td>Q12</td>\n",
       "      <td>17.07</td>\n",
       "    </tr>\n",
       "    <tr>\n",
       "      <th>380638</th>\n",
       "      <td>yamaha</td>\n",
       "      <td>white</td>\n",
       "      <td>17:08</td>\n",
       "      <td>1</td>\n",
       "      <td>Harold Road</td>\n",
       "      <td>3237</td>\n",
       "      <td>Q12</td>\n",
       "      <td>17.13</td>\n",
       "    </tr>\n",
       "  </tbody>\n",
       "</table>\n",
       "</div>"
      ],
      "text/plain": [
       "          Make Colour Issue Time Contravention Code  \\\n",
       "380634  yamaha  white      15:31                 54   \n",
       "380635  yamaha  white      16:25                  1   \n",
       "380636  yamaha  white      16:30                 81   \n",
       "380637  yamaha  white      17:04                 62   \n",
       "380638  yamaha  white      17:08                  1   \n",
       "\n",
       "                               Location PA_Details Issue Date  \\\n",
       "380634                         Broadway       1485        Q12   \n",
       "380635                High Street North       3237        Q12   \n",
       "380636  Stratford Multi Storey Car Park       1458        Q12   \n",
       "380637                 Westfield Avenue       1475        Q12   \n",
       "380638                      Harold Road       3237        Q12   \n",
       "\n",
       "        Issue Time Decimal  \n",
       "380634               15.52  \n",
       "380635               16.42  \n",
       "380636               16.50  \n",
       "380637               17.07  \n",
       "380638               17.13  "
      ]
     },
     "execution_count": 90,
     "metadata": {},
     "output_type": "execute_result"
    }
   ],
   "source": [
    "df.tail()"
   ]
  },
  {
   "cell_type": "code",
   "execution_count": 91,
   "metadata": {},
   "outputs": [
    {
     "data": {
      "text/html": [
       "<div>\n",
       "<style scoped>\n",
       "    .dataframe tbody tr th:only-of-type {\n",
       "        vertical-align: middle;\n",
       "    }\n",
       "\n",
       "    .dataframe tbody tr th {\n",
       "        vertical-align: top;\n",
       "    }\n",
       "\n",
       "    .dataframe thead th {\n",
       "        text-align: right;\n",
       "    }\n",
       "</style>\n",
       "<table border=\"1\" class=\"dataframe\">\n",
       "  <thead>\n",
       "    <tr style=\"text-align: right;\">\n",
       "      <th></th>\n",
       "      <th>Make</th>\n",
       "      <th>Colour</th>\n",
       "      <th>Issue Time</th>\n",
       "      <th>Contravention Code</th>\n",
       "      <th>Location</th>\n",
       "      <th>PA_Details</th>\n",
       "      <th>Issue Date</th>\n",
       "      <th>Issue Time Decimal</th>\n",
       "    </tr>\n",
       "  </thead>\n",
       "  <tbody>\n",
       "    <tr>\n",
       "      <th>218319</th>\n",
       "      <td>audi</td>\n",
       "      <td>silver</td>\n",
       "      <td>15:13</td>\n",
       "      <td>19</td>\n",
       "      <td>Durham Road</td>\n",
       "      <td>1506</td>\n",
       "      <td>Q1</td>\n",
       "      <td>15.22</td>\n",
       "    </tr>\n",
       "    <tr>\n",
       "      <th>218320</th>\n",
       "      <td>audi</td>\n",
       "      <td>silver</td>\n",
       "      <td>15:13</td>\n",
       "      <td>01o)</td>\n",
       "      <td>Gallions Road</td>\n",
       "      <td>1485</td>\n",
       "      <td>Q1</td>\n",
       "      <td>15.22</td>\n",
       "    </tr>\n",
       "    <tr>\n",
       "      <th>218321</th>\n",
       "      <td>audi</td>\n",
       "      <td>silver</td>\n",
       "      <td>15:14</td>\n",
       "      <td>1</td>\n",
       "      <td>Skeffington Road</td>\n",
       "      <td>1520</td>\n",
       "      <td>Q1</td>\n",
       "      <td>15.23</td>\n",
       "    </tr>\n",
       "    <tr>\n",
       "      <th>218322</th>\n",
       "      <td>audi</td>\n",
       "      <td>silver</td>\n",
       "      <td>15:14</td>\n",
       "      <td>12</td>\n",
       "      <td>Monega Road</td>\n",
       "      <td>1506</td>\n",
       "      <td>Q1</td>\n",
       "      <td>15.23</td>\n",
       "    </tr>\n",
       "    <tr>\n",
       "      <th>218323</th>\n",
       "      <td>audi</td>\n",
       "      <td>silver</td>\n",
       "      <td>15:14</td>\n",
       "      <td>12</td>\n",
       "      <td>Third Avenue E12</td>\n",
       "      <td>3302</td>\n",
       "      <td>Q1</td>\n",
       "      <td>15.23</td>\n",
       "    </tr>\n",
       "    <tr>\n",
       "      <th>218324</th>\n",
       "      <td>audi</td>\n",
       "      <td>silver</td>\n",
       "      <td>15:15</td>\n",
       "      <td>1</td>\n",
       "      <td>Francis Street</td>\n",
       "      <td>1146</td>\n",
       "      <td>Q1</td>\n",
       "      <td>15.25</td>\n",
       "    </tr>\n",
       "    <tr>\n",
       "      <th>218325</th>\n",
       "      <td>audi</td>\n",
       "      <td>silver</td>\n",
       "      <td>15:15</td>\n",
       "      <td>1</td>\n",
       "      <td>Ray Massey Way</td>\n",
       "      <td>1491</td>\n",
       "      <td>Q1</td>\n",
       "      <td>15.25</td>\n",
       "    </tr>\n",
       "    <tr>\n",
       "      <th>218326</th>\n",
       "      <td>audi</td>\n",
       "      <td>silver</td>\n",
       "      <td>15:15</td>\n",
       "      <td>12</td>\n",
       "      <td>Bisson Road</td>\n",
       "      <td>1313</td>\n",
       "      <td>Q1</td>\n",
       "      <td>15.25</td>\n",
       "    </tr>\n",
       "    <tr>\n",
       "      <th>218327</th>\n",
       "      <td>audi</td>\n",
       "      <td>silver</td>\n",
       "      <td>15:16</td>\n",
       "      <td>12</td>\n",
       "      <td>Heigham Road</td>\n",
       "      <td>1419</td>\n",
       "      <td>Q1</td>\n",
       "      <td>15.27</td>\n",
       "    </tr>\n",
       "    <tr>\n",
       "      <th>218328</th>\n",
       "      <td>audi</td>\n",
       "      <td>silver</td>\n",
       "      <td>15:16</td>\n",
       "      <td>12</td>\n",
       "      <td>Langdon Crescent</td>\n",
       "      <td>3289</td>\n",
       "      <td>Q1</td>\n",
       "      <td>15.27</td>\n",
       "    </tr>\n",
       "    <tr>\n",
       "      <th>218329</th>\n",
       "      <td>audi</td>\n",
       "      <td>silver</td>\n",
       "      <td>15:16</td>\n",
       "      <td>48</td>\n",
       "      <td>Wakefield Street</td>\n",
       "      <td>1464</td>\n",
       "      <td>Q1</td>\n",
       "      <td>15.27</td>\n",
       "    </tr>\n",
       "    <tr>\n",
       "      <th>218330</th>\n",
       "      <td>audi</td>\n",
       "      <td>silver</td>\n",
       "      <td>16:01</td>\n",
       "      <td>12</td>\n",
       "      <td>Huntingdon Street</td>\n",
       "      <td>1456</td>\n",
       "      <td>Q1</td>\n",
       "      <td>16.02</td>\n",
       "    </tr>\n",
       "    <tr>\n",
       "      <th>218331</th>\n",
       "      <td>audi</td>\n",
       "      <td>silver</td>\n",
       "      <td>16:02</td>\n",
       "      <td>12</td>\n",
       "      <td>Burnels Avenue</td>\n",
       "      <td>3298</td>\n",
       "      <td>Q1</td>\n",
       "      <td>16.03</td>\n",
       "    </tr>\n",
       "    <tr>\n",
       "      <th>218332</th>\n",
       "      <td>audi</td>\n",
       "      <td>silver</td>\n",
       "      <td>16:02</td>\n",
       "      <td>12</td>\n",
       "      <td>Wythes Road</td>\n",
       "      <td>3216</td>\n",
       "      <td>Q1</td>\n",
       "      <td>16.03</td>\n",
       "    </tr>\n",
       "    <tr>\n",
       "      <th>218333</th>\n",
       "      <td>audi</td>\n",
       "      <td>silver</td>\n",
       "      <td>16:02</td>\n",
       "      <td>25</td>\n",
       "      <td>Kings Road</td>\n",
       "      <td>1499</td>\n",
       "      <td>Q1</td>\n",
       "      <td>16.03</td>\n",
       "    </tr>\n",
       "  </tbody>\n",
       "</table>\n",
       "</div>"
      ],
      "text/plain": [
       "        Make  Colour Issue Time Contravention Code           Location  \\\n",
       "218319  audi  silver      15:13                 19        Durham Road   \n",
       "218320  audi  silver      15:13               01o)      Gallions Road   \n",
       "218321  audi  silver      15:14                  1   Skeffington Road   \n",
       "218322  audi  silver      15:14                 12        Monega Road   \n",
       "218323  audi  silver      15:14                 12   Third Avenue E12   \n",
       "218324  audi  silver      15:15                  1     Francis Street   \n",
       "218325  audi  silver      15:15                  1     Ray Massey Way   \n",
       "218326  audi  silver      15:15                 12        Bisson Road   \n",
       "218327  audi  silver      15:16                 12       Heigham Road   \n",
       "218328  audi  silver      15:16                 12   Langdon Crescent   \n",
       "218329  audi  silver      15:16                 48   Wakefield Street   \n",
       "218330  audi  silver      16:01                 12  Huntingdon Street   \n",
       "218331  audi  silver      16:02                 12     Burnels Avenue   \n",
       "218332  audi  silver      16:02                 12        Wythes Road   \n",
       "218333  audi  silver      16:02                 25         Kings Road   \n",
       "\n",
       "       PA_Details Issue Date  Issue Time Decimal  \n",
       "218319       1506         Q1               15.22  \n",
       "218320       1485         Q1               15.22  \n",
       "218321       1520         Q1               15.23  \n",
       "218322       1506         Q1               15.23  \n",
       "218323       3302         Q1               15.23  \n",
       "218324       1146         Q1               15.25  \n",
       "218325       1491         Q1               15.25  \n",
       "218326       1313         Q1               15.25  \n",
       "218327       1419         Q1               15.27  \n",
       "218328       3289         Q1               15.27  \n",
       "218329       1464         Q1               15.27  \n",
       "218330       1456         Q1               16.02  \n",
       "218331       3298         Q1               16.03  \n",
       "218332       3216         Q1               16.03  \n",
       "218333       1499         Q1               16.03  "
      ]
     },
     "execution_count": 91,
     "metadata": {},
     "output_type": "execute_result"
    }
   ],
   "source": [
    "df.iloc[214000:214015,: ]"
   ]
  },
  {
   "cell_type": "markdown",
   "metadata": {},
   "source": [
    "### Converting Type of Numerical features"
   ]
  },
  {
   "cell_type": "code",
   "execution_count": 92,
   "metadata": {},
   "outputs": [
    {
     "name": "stdout",
     "output_type": "stream",
     "text": [
      "<class 'pandas.core.frame.DataFrame'>\n",
      "Int64Index: 375785 entries, 162 to 380638\n",
      "Data columns (total 8 columns):\n",
      " #   Column              Non-Null Count   Dtype  \n",
      "---  ------              --------------   -----  \n",
      " 0   Make                375785 non-null  object \n",
      " 1   Colour              375785 non-null  object \n",
      " 2   Issue Time          375785 non-null  object \n",
      " 3   Contravention Code  375785 non-null  object \n",
      " 4   Location            375785 non-null  object \n",
      " 5   PA_Details          375785 non-null  object \n",
      " 6   Issue Date          375785 non-null  object \n",
      " 7   Issue Time Decimal  375785 non-null  float64\n",
      "dtypes: float64(1), object(7)\n",
      "memory usage: 25.8+ MB\n"
     ]
    }
   ],
   "source": [
    "df.info()"
   ]
  },
  {
   "cell_type": "markdown",
   "metadata": {},
   "source": [
    "### Saving processed data into csv file"
   ]
  },
  {
   "cell_type": "code",
   "execution_count": 93,
   "metadata": {},
   "outputs": [],
   "source": [
    "df.to_csv('Processed.csv')"
   ]
  },
  {
   "cell_type": "markdown",
   "metadata": {},
   "source": [
    "## Dividing data in to numerical and categorical features"
   ]
  },
  {
   "cell_type": "code",
   "execution_count": 94,
   "metadata": {},
   "outputs": [
    {
     "data": {
      "text/plain": [
       "Index(['Make', 'Colour', 'Issue Time', 'Contravention Code', 'Location',\n",
       "       'PA_Details', 'Issue Date', 'Issue Time Decimal'],\n",
       "      dtype='object')"
      ]
     },
     "execution_count": 94,
     "metadata": {},
     "output_type": "execute_result"
    }
   ],
   "source": [
    "df.columns"
   ]
  },
  {
   "cell_type": "code",
   "execution_count": 95,
   "metadata": {},
   "outputs": [],
   "source": [
    "df_categorical = df[['Make', 'Colour', 'Contravention Code', 'Location','PA_Details', 'Issue Date']]\n",
    "df_numerical = df[['Issue Time Decimal']]"
   ]
  },
  {
   "cell_type": "code",
   "execution_count": 96,
   "metadata": {},
   "outputs": [
    {
     "data": {
      "text/html": [
       "<div>\n",
       "<style scoped>\n",
       "    .dataframe tbody tr th:only-of-type {\n",
       "        vertical-align: middle;\n",
       "    }\n",
       "\n",
       "    .dataframe tbody tr th {\n",
       "        vertical-align: top;\n",
       "    }\n",
       "\n",
       "    .dataframe thead th {\n",
       "        text-align: right;\n",
       "    }\n",
       "</style>\n",
       "<table border=\"1\" class=\"dataframe\">\n",
       "  <thead>\n",
       "    <tr style=\"text-align: right;\">\n",
       "      <th></th>\n",
       "      <th>Issue Time Decimal</th>\n",
       "    </tr>\n",
       "  </thead>\n",
       "  <tbody>\n",
       "    <tr>\n",
       "      <th>162</th>\n",
       "      <td>9.52</td>\n",
       "    </tr>\n",
       "    <tr>\n",
       "      <th>163</th>\n",
       "      <td>10.50</td>\n",
       "    </tr>\n",
       "    <tr>\n",
       "      <th>164</th>\n",
       "      <td>10.50</td>\n",
       "    </tr>\n",
       "    <tr>\n",
       "      <th>165</th>\n",
       "      <td>10.50</td>\n",
       "    </tr>\n",
       "    <tr>\n",
       "      <th>166</th>\n",
       "      <td>10.50</td>\n",
       "    </tr>\n",
       "    <tr>\n",
       "      <th>...</th>\n",
       "      <td>...</td>\n",
       "    </tr>\n",
       "    <tr>\n",
       "      <th>380634</th>\n",
       "      <td>15.52</td>\n",
       "    </tr>\n",
       "    <tr>\n",
       "      <th>380635</th>\n",
       "      <td>16.42</td>\n",
       "    </tr>\n",
       "    <tr>\n",
       "      <th>380636</th>\n",
       "      <td>16.50</td>\n",
       "    </tr>\n",
       "    <tr>\n",
       "      <th>380637</th>\n",
       "      <td>17.07</td>\n",
       "    </tr>\n",
       "    <tr>\n",
       "      <th>380638</th>\n",
       "      <td>17.13</td>\n",
       "    </tr>\n",
       "  </tbody>\n",
       "</table>\n",
       "<p>375785 rows × 1 columns</p>\n",
       "</div>"
      ],
      "text/plain": [
       "        Issue Time Decimal\n",
       "162                   9.52\n",
       "163                  10.50\n",
       "164                  10.50\n",
       "165                  10.50\n",
       "166                  10.50\n",
       "...                    ...\n",
       "380634               15.52\n",
       "380635               16.42\n",
       "380636               16.50\n",
       "380637               17.07\n",
       "380638               17.13\n",
       "\n",
       "[375785 rows x 1 columns]"
      ]
     },
     "execution_count": 96,
     "metadata": {},
     "output_type": "execute_result"
    }
   ],
   "source": [
    "df_numerical"
   ]
  },
  {
   "cell_type": "code",
   "execution_count": 97,
   "metadata": {},
   "outputs": [
    {
     "data": {
      "text/html": [
       "<div>\n",
       "<style scoped>\n",
       "    .dataframe tbody tr th:only-of-type {\n",
       "        vertical-align: middle;\n",
       "    }\n",
       "\n",
       "    .dataframe tbody tr th {\n",
       "        vertical-align: top;\n",
       "    }\n",
       "\n",
       "    .dataframe thead th {\n",
       "        text-align: right;\n",
       "    }\n",
       "</style>\n",
       "<table border=\"1\" class=\"dataframe\">\n",
       "  <thead>\n",
       "    <tr style=\"text-align: right;\">\n",
       "      <th></th>\n",
       "      <th>Make</th>\n",
       "      <th>Colour</th>\n",
       "      <th>Contravention Code</th>\n",
       "      <th>Location</th>\n",
       "      <th>PA_Details</th>\n",
       "      <th>Issue Date</th>\n",
       "      <th>Issue Time Decimal</th>\n",
       "    </tr>\n",
       "  </thead>\n",
       "  <tbody>\n",
       "    <tr>\n",
       "      <th>162</th>\n",
       "      <td>audi</td>\n",
       "      <td>black</td>\n",
       "      <td>19</td>\n",
       "      <td>Antwerp Way</td>\n",
       "      <td>1500</td>\n",
       "      <td>Q1</td>\n",
       "      <td>9.52</td>\n",
       "    </tr>\n",
       "    <tr>\n",
       "      <th>163</th>\n",
       "      <td>audi</td>\n",
       "      <td>black</td>\n",
       "      <td>12</td>\n",
       "      <td>First Avenue</td>\n",
       "      <td>3254</td>\n",
       "      <td>Q1</td>\n",
       "      <td>10.50</td>\n",
       "    </tr>\n",
       "    <tr>\n",
       "      <th>164</th>\n",
       "      <td>audi</td>\n",
       "      <td>black</td>\n",
       "      <td>12</td>\n",
       "      <td>Ingestre Road</td>\n",
       "      <td>1498</td>\n",
       "      <td>Q1</td>\n",
       "      <td>10.50</td>\n",
       "    </tr>\n",
       "    <tr>\n",
       "      <th>165</th>\n",
       "      <td>audi</td>\n",
       "      <td>black</td>\n",
       "      <td>12</td>\n",
       "      <td>Lawrence Road E6</td>\n",
       "      <td>3299</td>\n",
       "      <td>Q1</td>\n",
       "      <td>10.50</td>\n",
       "    </tr>\n",
       "    <tr>\n",
       "      <th>166</th>\n",
       "      <td>audi</td>\n",
       "      <td>black</td>\n",
       "      <td>12</td>\n",
       "      <td>Napier Road E15</td>\n",
       "      <td>1434</td>\n",
       "      <td>Q1</td>\n",
       "      <td>10.50</td>\n",
       "    </tr>\n",
       "    <tr>\n",
       "      <th>...</th>\n",
       "      <td>...</td>\n",
       "      <td>...</td>\n",
       "      <td>...</td>\n",
       "      <td>...</td>\n",
       "      <td>...</td>\n",
       "      <td>...</td>\n",
       "      <td>...</td>\n",
       "    </tr>\n",
       "    <tr>\n",
       "      <th>380634</th>\n",
       "      <td>yamaha</td>\n",
       "      <td>white</td>\n",
       "      <td>54</td>\n",
       "      <td>Broadway</td>\n",
       "      <td>1485</td>\n",
       "      <td>Q12</td>\n",
       "      <td>15.52</td>\n",
       "    </tr>\n",
       "    <tr>\n",
       "      <th>380635</th>\n",
       "      <td>yamaha</td>\n",
       "      <td>white</td>\n",
       "      <td>1</td>\n",
       "      <td>High Street North</td>\n",
       "      <td>3237</td>\n",
       "      <td>Q12</td>\n",
       "      <td>16.42</td>\n",
       "    </tr>\n",
       "    <tr>\n",
       "      <th>380636</th>\n",
       "      <td>yamaha</td>\n",
       "      <td>white</td>\n",
       "      <td>81</td>\n",
       "      <td>Stratford Multi Storey Car Park</td>\n",
       "      <td>1458</td>\n",
       "      <td>Q12</td>\n",
       "      <td>16.50</td>\n",
       "    </tr>\n",
       "    <tr>\n",
       "      <th>380637</th>\n",
       "      <td>yamaha</td>\n",
       "      <td>white</td>\n",
       "      <td>62</td>\n",
       "      <td>Westfield Avenue</td>\n",
       "      <td>1475</td>\n",
       "      <td>Q12</td>\n",
       "      <td>17.07</td>\n",
       "    </tr>\n",
       "    <tr>\n",
       "      <th>380638</th>\n",
       "      <td>yamaha</td>\n",
       "      <td>white</td>\n",
       "      <td>1</td>\n",
       "      <td>Harold Road</td>\n",
       "      <td>3237</td>\n",
       "      <td>Q12</td>\n",
       "      <td>17.13</td>\n",
       "    </tr>\n",
       "  </tbody>\n",
       "</table>\n",
       "<p>375785 rows × 7 columns</p>\n",
       "</div>"
      ],
      "text/plain": [
       "          Make Colour Contravention Code                         Location  \\\n",
       "162       audi  black                 19                      Antwerp Way   \n",
       "163       audi  black                 12                     First Avenue   \n",
       "164       audi  black                 12                    Ingestre Road   \n",
       "165       audi  black                 12                 Lawrence Road E6   \n",
       "166       audi  black                 12                  Napier Road E15   \n",
       "...        ...    ...                ...                              ...   \n",
       "380634  yamaha  white                 54                         Broadway   \n",
       "380635  yamaha  white                  1                High Street North   \n",
       "380636  yamaha  white                 81  Stratford Multi Storey Car Park   \n",
       "380637  yamaha  white                 62                 Westfield Avenue   \n",
       "380638  yamaha  white                  1                      Harold Road   \n",
       "\n",
       "       PA_Details Issue Date  Issue Time Decimal  \n",
       "162          1500         Q1                9.52  \n",
       "163          3254         Q1               10.50  \n",
       "164          1498         Q1               10.50  \n",
       "165          3299         Q1               10.50  \n",
       "166          1434         Q1               10.50  \n",
       "...           ...        ...                 ...  \n",
       "380634       1485        Q12               15.52  \n",
       "380635       3237        Q12               16.42  \n",
       "380636       1458        Q12               16.50  \n",
       "380637       1475        Q12               17.07  \n",
       "380638       3237        Q12               17.13  \n",
       "\n",
       "[375785 rows x 7 columns]"
      ]
     },
     "execution_count": 97,
     "metadata": {},
     "output_type": "execute_result"
    }
   ],
   "source": [
    "df[['Make', 'Colour', 'Contravention Code', 'Location','PA_Details', 'Issue Date','Issue Time Decimal']]"
   ]
  },
  {
   "cell_type": "code",
   "execution_count": 98,
   "metadata": {},
   "outputs": [
    {
     "data": {
      "text/html": [
       "<div>\n",
       "<style scoped>\n",
       "    .dataframe tbody tr th:only-of-type {\n",
       "        vertical-align: middle;\n",
       "    }\n",
       "\n",
       "    .dataframe tbody tr th {\n",
       "        vertical-align: top;\n",
       "    }\n",
       "\n",
       "    .dataframe thead th {\n",
       "        text-align: right;\n",
       "    }\n",
       "</style>\n",
       "<table border=\"1\" class=\"dataframe\">\n",
       "  <thead>\n",
       "    <tr style=\"text-align: right;\">\n",
       "      <th></th>\n",
       "      <th>Make</th>\n",
       "      <th>Colour</th>\n",
       "      <th>Contravention Code</th>\n",
       "      <th>Location</th>\n",
       "      <th>PA_Details</th>\n",
       "      <th>Issue Date</th>\n",
       "    </tr>\n",
       "  </thead>\n",
       "  <tbody>\n",
       "    <tr>\n",
       "      <th>162</th>\n",
       "      <td>audi</td>\n",
       "      <td>black</td>\n",
       "      <td>19</td>\n",
       "      <td>Antwerp Way</td>\n",
       "      <td>1500</td>\n",
       "      <td>Q1</td>\n",
       "    </tr>\n",
       "    <tr>\n",
       "      <th>163</th>\n",
       "      <td>audi</td>\n",
       "      <td>black</td>\n",
       "      <td>12</td>\n",
       "      <td>First Avenue</td>\n",
       "      <td>3254</td>\n",
       "      <td>Q1</td>\n",
       "    </tr>\n",
       "    <tr>\n",
       "      <th>164</th>\n",
       "      <td>audi</td>\n",
       "      <td>black</td>\n",
       "      <td>12</td>\n",
       "      <td>Ingestre Road</td>\n",
       "      <td>1498</td>\n",
       "      <td>Q1</td>\n",
       "    </tr>\n",
       "    <tr>\n",
       "      <th>165</th>\n",
       "      <td>audi</td>\n",
       "      <td>black</td>\n",
       "      <td>12</td>\n",
       "      <td>Lawrence Road E6</td>\n",
       "      <td>3299</td>\n",
       "      <td>Q1</td>\n",
       "    </tr>\n",
       "    <tr>\n",
       "      <th>166</th>\n",
       "      <td>audi</td>\n",
       "      <td>black</td>\n",
       "      <td>12</td>\n",
       "      <td>Napier Road E15</td>\n",
       "      <td>1434</td>\n",
       "      <td>Q1</td>\n",
       "    </tr>\n",
       "  </tbody>\n",
       "</table>\n",
       "</div>"
      ],
      "text/plain": [
       "     Make Colour Contravention Code          Location PA_Details Issue Date\n",
       "162  audi  black                 19       Antwerp Way       1500         Q1\n",
       "163  audi  black                 12      First Avenue       3254         Q1\n",
       "164  audi  black                 12     Ingestre Road       1498         Q1\n",
       "165  audi  black                 12  Lawrence Road E6       3299         Q1\n",
       "166  audi  black                 12   Napier Road E15       1434         Q1"
      ]
     },
     "execution_count": 98,
     "metadata": {},
     "output_type": "execute_result"
    }
   ],
   "source": [
    "df_categorical.head()"
   ]
  },
  {
   "cell_type": "code",
   "execution_count": 99,
   "metadata": {},
   "outputs": [
    {
     "data": {
      "text/html": [
       "<div>\n",
       "<style scoped>\n",
       "    .dataframe tbody tr th:only-of-type {\n",
       "        vertical-align: middle;\n",
       "    }\n",
       "\n",
       "    .dataframe tbody tr th {\n",
       "        vertical-align: top;\n",
       "    }\n",
       "\n",
       "    .dataframe thead th {\n",
       "        text-align: right;\n",
       "    }\n",
       "</style>\n",
       "<table border=\"1\" class=\"dataframe\">\n",
       "  <thead>\n",
       "    <tr style=\"text-align: right;\">\n",
       "      <th></th>\n",
       "      <th>Issue Time Decimal</th>\n",
       "    </tr>\n",
       "  </thead>\n",
       "  <tbody>\n",
       "    <tr>\n",
       "      <th>162</th>\n",
       "      <td>9.52</td>\n",
       "    </tr>\n",
       "    <tr>\n",
       "      <th>163</th>\n",
       "      <td>10.50</td>\n",
       "    </tr>\n",
       "    <tr>\n",
       "      <th>164</th>\n",
       "      <td>10.50</td>\n",
       "    </tr>\n",
       "    <tr>\n",
       "      <th>165</th>\n",
       "      <td>10.50</td>\n",
       "    </tr>\n",
       "    <tr>\n",
       "      <th>166</th>\n",
       "      <td>10.50</td>\n",
       "    </tr>\n",
       "  </tbody>\n",
       "</table>\n",
       "</div>"
      ],
      "text/plain": [
       "     Issue Time Decimal\n",
       "162                9.52\n",
       "163               10.50\n",
       "164               10.50\n",
       "165               10.50\n",
       "166               10.50"
      ]
     },
     "execution_count": 99,
     "metadata": {},
     "output_type": "execute_result"
    }
   ],
   "source": [
    "df_numerical.head()"
   ]
  },
  {
   "cell_type": "markdown",
   "metadata": {},
   "source": [
    "# Clustering"
   ]
  },
  {
   "cell_type": "markdown",
   "metadata": {},
   "source": [
    "## K Means Clustering"
   ]
  },
  {
   "cell_type": "markdown",
   "metadata": {},
   "source": [
    "### Elbow method to find optimal number of Clusters"
   ]
  },
  {
   "cell_type": "code",
   "execution_count": 100,
   "metadata": {},
   "outputs": [
    {
     "data": {
      "text/plain": [
       "pandas.core.frame.DataFrame"
      ]
     },
     "execution_count": 100,
     "metadata": {},
     "output_type": "execute_result"
    }
   ],
   "source": [
    "type(df_numerical)"
   ]
  },
  {
   "cell_type": "markdown",
   "metadata": {},
   "source": [
    "### Converting series to dataframe"
   ]
  },
  {
   "cell_type": "code",
   "execution_count": 101,
   "metadata": {},
   "outputs": [
    {
     "data": {
      "text/html": [
       "<div>\n",
       "<style scoped>\n",
       "    .dataframe tbody tr th:only-of-type {\n",
       "        vertical-align: middle;\n",
       "    }\n",
       "\n",
       "    .dataframe tbody tr th {\n",
       "        vertical-align: top;\n",
       "    }\n",
       "\n",
       "    .dataframe thead th {\n",
       "        text-align: right;\n",
       "    }\n",
       "</style>\n",
       "<table border=\"1\" class=\"dataframe\">\n",
       "  <thead>\n",
       "    <tr style=\"text-align: right;\">\n",
       "      <th></th>\n",
       "      <th>Issue Time Decimal</th>\n",
       "    </tr>\n",
       "  </thead>\n",
       "  <tbody>\n",
       "    <tr>\n",
       "      <th>162</th>\n",
       "      <td>9.52</td>\n",
       "    </tr>\n",
       "    <tr>\n",
       "      <th>163</th>\n",
       "      <td>10.50</td>\n",
       "    </tr>\n",
       "    <tr>\n",
       "      <th>164</th>\n",
       "      <td>10.50</td>\n",
       "    </tr>\n",
       "    <tr>\n",
       "      <th>165</th>\n",
       "      <td>10.50</td>\n",
       "    </tr>\n",
       "    <tr>\n",
       "      <th>166</th>\n",
       "      <td>10.50</td>\n",
       "    </tr>\n",
       "    <tr>\n",
       "      <th>...</th>\n",
       "      <td>...</td>\n",
       "    </tr>\n",
       "    <tr>\n",
       "      <th>380634</th>\n",
       "      <td>15.52</td>\n",
       "    </tr>\n",
       "    <tr>\n",
       "      <th>380635</th>\n",
       "      <td>16.42</td>\n",
       "    </tr>\n",
       "    <tr>\n",
       "      <th>380636</th>\n",
       "      <td>16.50</td>\n",
       "    </tr>\n",
       "    <tr>\n",
       "      <th>380637</th>\n",
       "      <td>17.07</td>\n",
       "    </tr>\n",
       "    <tr>\n",
       "      <th>380638</th>\n",
       "      <td>17.13</td>\n",
       "    </tr>\n",
       "  </tbody>\n",
       "</table>\n",
       "<p>375785 rows × 1 columns</p>\n",
       "</div>"
      ],
      "text/plain": [
       "        Issue Time Decimal\n",
       "162                   9.52\n",
       "163                  10.50\n",
       "164                  10.50\n",
       "165                  10.50\n",
       "166                  10.50\n",
       "...                    ...\n",
       "380634               15.52\n",
       "380635               16.42\n",
       "380636               16.50\n",
       "380637               17.07\n",
       "380638               17.13\n",
       "\n",
       "[375785 rows x 1 columns]"
      ]
     },
     "execution_count": 101,
     "metadata": {},
     "output_type": "execute_result"
    }
   ],
   "source": [
    "df_numerical"
   ]
  },
  {
   "cell_type": "code",
   "execution_count": 102,
   "metadata": {},
   "outputs": [
    {
     "data": {
      "text/plain": [
       "Text(0.5, 1.0, 'Elbow Method For Optimal k')"
      ]
     },
     "execution_count": 102,
     "metadata": {},
     "output_type": "execute_result"
    },
    {
     "data": {
      "image/png": "[encoded data removed]",
      "text/plain": [
       "<Figure size 432x288 with 1 Axes>"
      ]
     },
     "metadata": {
      "needs_background": "light"
     },
     "output_type": "display_data"
    }
   ],
   "source": [
    "#Finding Best k using WSSE \n",
    "from sklearn.cluster import KMeans\n",
    "SS_distances= []\n",
    "I = range(1,10)\n",
    "for i in I:\n",
    "       k_means = KMeans(n_clusters=i)\n",
    "       k_means= k_means.fit(df_numerical)\n",
    "       SS_distances.append(k_means.inertia_)\n",
    "   \n",
    "centers = k_means.cluster_centers_\n",
    "\n",
    "# plotting SSE distances (for each point to the nearest Center) versus number of k \n",
    "plt.plot(I, SS_distances, 'bx-')\n",
    "plt.xlabel('k')\n",
    "plt.ylabel('SS of Distances')\n",
    "plt.title('Elbow Method For Optimal k')"
   ]
  },
  {
   "cell_type": "markdown",
   "metadata": {},
   "source": [
    "### 3 is optimal number for clusters in numerical features "
   ]
  },
  {
   "cell_type": "code",
   "execution_count": 103,
   "metadata": {},
   "outputs": [
    {
     "data": {
      "text/plain": [
       "(array([0, 1, 2], dtype=int32), array([ 73495, 138989, 163301]))"
      ]
     },
     "execution_count": 103,
     "metadata": {},
     "output_type": "execute_result"
    }
   ],
   "source": [
    "k_means = KMeans(n_clusters=3)\n",
    "k_means= k_means.fit(df_numerical)\n",
    "labels = k_means.labels_\n",
    "np.unique(labels, return_counts=True)"
   ]
  },
  {
   "cell_type": "markdown",
   "metadata": {},
   "source": [
    "### Plotting data "
   ]
  },
  {
   "cell_type": "markdown",
   "metadata": {},
   "source": [
    "### 1. 'Issue Time' with respect to the index"
   ]
  },
  {
   "cell_type": "code",
   "execution_count": 104,
   "metadata": {},
   "outputs": [
    {
     "data": {
      "text/plain": [
       "array([[17.37002708],\n",
       "       [ 8.85011771],\n",
       "       [12.69640137]])"
      ]
     },
     "execution_count": 104,
     "metadata": {},
     "output_type": "execute_result"
    }
   ],
   "source": [
    "k_means.cluster_centers_"
   ]
  },
  {
   "cell_type": "markdown",
   "metadata": {},
   "source": [
    "### As it is only one feature, we introduce an index array for other axis. The values are hardcoded here"
   ]
  },
  {
   "cell_type": "code",
   "execution_count": 105,
   "metadata": {},
   "outputs": [],
   "source": [
    "index_center = [[180000],[180000],[180000]]\n"
   ]
  },
  {
   "cell_type": "code",
   "execution_count": 106,
   "metadata": {},
   "outputs": [
    {
     "data": {
      "image/png": "[encoded data removed]",
      "text/plain": [
       "<Figure size 1296x720 with 1 Axes>"
      ]
     },
     "metadata": {
      "needs_background": "light"
     },
     "output_type": "display_data"
    }
   ],
   "source": [
    "# Plot Clusters and their centers\n",
    "\n",
    "label = k_means.labels_\n",
    "centers = k_means.cluster_centers_\n",
    "\n",
    "plt.figure(figsize=(18,10))\n",
    "plt.scatter(df_numerical['Issue Time Decimal'],df.index,c=labels,s=15)\n",
    "plt.scatter(centers[:,0], index_center, color ='red', marker='X', s=100) \n",
    "plt.xlabel('Issue Time')\n",
    "plt.ylabel('Index')\n",
    "plt.title('K-means')\n",
    "plt.show()"
   ]
  },
  {
   "cell_type": "markdown",
   "metadata": {},
   "source": [
    "## K MODES Clustering"
   ]
  },
  {
   "cell_type": "code",
   "execution_count": 107,
   "metadata": {},
   "outputs": [],
   "source": [
    "# Import module for k-protoype cluster\n",
    "from kmodes.kmodes import KModes"
   ]
  },
  {
   "cell_type": "code",
   "execution_count": 108,
   "metadata": {},
   "outputs": [
    {
     "data": {
      "text/html": [
       "<div>\n",
       "<style scoped>\n",
       "    .dataframe tbody tr th:only-of-type {\n",
       "        vertical-align: middle;\n",
       "    }\n",
       "\n",
       "    .dataframe tbody tr th {\n",
       "        vertical-align: top;\n",
       "    }\n",
       "\n",
       "    .dataframe thead th {\n",
       "        text-align: right;\n",
       "    }\n",
       "</style>\n",
       "<table border=\"1\" class=\"dataframe\">\n",
       "  <thead>\n",
       "    <tr style=\"text-align: right;\">\n",
       "      <th></th>\n",
       "      <th>Make</th>\n",
       "      <th>Colour</th>\n",
       "      <th>Contravention Code</th>\n",
       "      <th>Location</th>\n",
       "      <th>PA_Details</th>\n",
       "      <th>Issue Date</th>\n",
       "    </tr>\n",
       "  </thead>\n",
       "  <tbody>\n",
       "    <tr>\n",
       "      <th>162</th>\n",
       "      <td>audi</td>\n",
       "      <td>black</td>\n",
       "      <td>19</td>\n",
       "      <td>Antwerp Way</td>\n",
       "      <td>1500</td>\n",
       "      <td>Q1</td>\n",
       "    </tr>\n",
       "    <tr>\n",
       "      <th>163</th>\n",
       "      <td>audi</td>\n",
       "      <td>black</td>\n",
       "      <td>12</td>\n",
       "      <td>First Avenue</td>\n",
       "      <td>3254</td>\n",
       "      <td>Q1</td>\n",
       "    </tr>\n",
       "    <tr>\n",
       "      <th>164</th>\n",
       "      <td>audi</td>\n",
       "      <td>black</td>\n",
       "      <td>12</td>\n",
       "      <td>Ingestre Road</td>\n",
       "      <td>1498</td>\n",
       "      <td>Q1</td>\n",
       "    </tr>\n",
       "    <tr>\n",
       "      <th>165</th>\n",
       "      <td>audi</td>\n",
       "      <td>black</td>\n",
       "      <td>12</td>\n",
       "      <td>Lawrence Road E6</td>\n",
       "      <td>3299</td>\n",
       "      <td>Q1</td>\n",
       "    </tr>\n",
       "    <tr>\n",
       "      <th>166</th>\n",
       "      <td>audi</td>\n",
       "      <td>black</td>\n",
       "      <td>12</td>\n",
       "      <td>Napier Road E15</td>\n",
       "      <td>1434</td>\n",
       "      <td>Q1</td>\n",
       "    </tr>\n",
       "  </tbody>\n",
       "</table>\n",
       "</div>"
      ],
      "text/plain": [
       "     Make Colour Contravention Code          Location PA_Details Issue Date\n",
       "162  audi  black                 19       Antwerp Way       1500         Q1\n",
       "163  audi  black                 12      First Avenue       3254         Q1\n",
       "164  audi  black                 12     Ingestre Road       1498         Q1\n",
       "165  audi  black                 12  Lawrence Road E6       3299         Q1\n",
       "166  audi  black                 12   Napier Road E15       1434         Q1"
      ]
     },
     "execution_count": 108,
     "metadata": {},
     "output_type": "execute_result"
    }
   ],
   "source": [
    "df_categorical.head()"
   ]
  },
  {
   "cell_type": "markdown",
   "metadata": {},
   "source": [
    "### Elbow Method for optimal number of clusters"
   ]
  },
  {
   "cell_type": "code",
   "execution_count": 109,
   "metadata": {},
   "outputs": [
    {
     "name": "stdout",
     "output_type": "stream",
     "text": [
      "Cluster initiation: 1\n",
      "Cluster initiation: 2\n",
      "Cluster initiation: 3\n",
      "Cluster initiation: 4\n",
      "Cluster initiation: 5\n",
      "Cluster initiation: 6\n",
      "Cluster initiation: 7\n",
      "Cluster initiation: 8\n",
      "Cluster initiation: 9\n"
     ]
    }
   ],
   "source": [
    "# Choosing optimal K\n",
    "cost = []\n",
    "for cluster in range(1, 10):\n",
    "    try:\n",
    "        kmodes = KModes(n_clusters = cluster)\n",
    "        kmodes.fit_predict(df_categorical)\n",
    "        cost.append(kmodes.cost_)\n",
    "        print('Cluster initiation: {}'.format(cluster))\n",
    "    except:\n",
    "        break\n",
    "# Converting the results into a dataframe and plotting them\n",
    "df_cost = pd.DataFrame({'Cluster': range(1, 10), 'Cost': cost})"
   ]
  },
  {
   "cell_type": "code",
   "execution_count": 110,
   "metadata": {},
   "outputs": [],
   "source": [
    "# Import module for data visualization\n",
    "from plotnine import *\n",
    "import plotnine\n",
    "# Data visualization with matplotlib\n",
    "import matplotlib.pyplot as plt\n",
    "# Use the theme of ggplot\n",
    "plt.style.use('ggplot')"
   ]
  },
  {
   "cell_type": "code",
   "execution_count": 111,
   "metadata": {},
   "outputs": [
    {
     "data": {
      "image/png": "[encoded data removed]",
      "text/plain": [
       "<Figure size 800x480 with 1 Axes>"
      ]
     },
     "metadata": {
      "needs_background": "light"
     },
     "output_type": "display_data"
    },
    {
     "data": {
      "text/plain": [
       "<ggplot: (8783488073889)>"
      ]
     },
     "execution_count": 111,
     "metadata": {},
     "output_type": "execute_result"
    }
   ],
   "source": [
    "\n",
    "# Data viz\n",
    "plotnine.options.figure_size = (8, 4.8)\n",
    "(\n",
    "    ggplot(data = df_cost)+\n",
    "    geom_line(aes(x = 'Cluster',\n",
    "                  y = 'Cost'))+\n",
    "    geom_point(aes(x = 'Cluster',\n",
    "                   y = 'Cost'))+\n",
    "    geom_label(aes(x = 'Cluster',\n",
    "                   y = 'Cost',\n",
    "                   label = 'Cluster'),\n",
    "               size = 10,\n",
    "               nudge_y = 1000) +\n",
    "    labs(title = 'Optimal number of cluster with Elbow Method')+\n",
    "    xlab('Number of Clusters k')+\n",
    "    ylab('Cost')+\n",
    "    theme_minimal()\n",
    ")"
   ]
  },
  {
   "cell_type": "markdown",
   "metadata": {},
   "source": [
    "### Optimal number of clusters for Categorical data = 3"
   ]
  },
  {
   "cell_type": "code",
   "execution_count": 112,
   "metadata": {},
   "outputs": [],
   "source": [
    "kmodes = KModes(n_clusters = 3)\n",
    "kmodes.fit_predict(df_categorical)\n",
    "cost=kmodes.cost_\n",
    "labels_kmode = kmodes.labels_"
   ]
  },
  {
   "cell_type": "code",
   "execution_count": 113,
   "metadata": {},
   "outputs": [
    {
     "data": {
      "text/plain": [
       "array([0, 0, 0, ..., 1, 1, 1], dtype=uint16)"
      ]
     },
     "execution_count": 113,
     "metadata": {},
     "output_type": "execute_result"
    }
   ],
   "source": [
    "labels_kmode"
   ]
  },
  {
   "cell_type": "code",
   "execution_count": 114,
   "metadata": {},
   "outputs": [
    {
     "data": {
      "text/plain": [
       "(array([0, 1, 2], dtype=uint16), array([217229, 104920,  53636]))"
      ]
     },
     "execution_count": 114,
     "metadata": {},
     "output_type": "execute_result"
    }
   ],
   "source": [
    "np.unique(labels_kmode, return_counts = True)"
   ]
  },
  {
   "cell_type": "code",
   "execution_count": 115,
   "metadata": {},
   "outputs": [
    {
     "data": {
      "text/html": [
       "<div>\n",
       "<style scoped>\n",
       "    .dataframe tbody tr th:only-of-type {\n",
       "        vertical-align: middle;\n",
       "    }\n",
       "\n",
       "    .dataframe tbody tr th {\n",
       "        vertical-align: top;\n",
       "    }\n",
       "\n",
       "    .dataframe thead th {\n",
       "        text-align: right;\n",
       "    }\n",
       "</style>\n",
       "<table border=\"1\" class=\"dataframe\">\n",
       "  <thead>\n",
       "    <tr style=\"text-align: right;\">\n",
       "      <th></th>\n",
       "      <th>Make</th>\n",
       "      <th>Colour</th>\n",
       "      <th>Issue Time</th>\n",
       "      <th>Contravention Code</th>\n",
       "      <th>Location</th>\n",
       "      <th>PA_Details</th>\n",
       "      <th>Issue Date</th>\n",
       "      <th>Issue Time Decimal</th>\n",
       "    </tr>\n",
       "  </thead>\n",
       "  <tbody>\n",
       "    <tr>\n",
       "      <th>162</th>\n",
       "      <td>audi</td>\n",
       "      <td>black</td>\n",
       "      <td>9:31</td>\n",
       "      <td>19</td>\n",
       "      <td>Antwerp Way</td>\n",
       "      <td>1500</td>\n",
       "      <td>Q1</td>\n",
       "      <td>9.52</td>\n",
       "    </tr>\n",
       "    <tr>\n",
       "      <th>163</th>\n",
       "      <td>audi</td>\n",
       "      <td>black</td>\n",
       "      <td>10:30</td>\n",
       "      <td>12</td>\n",
       "      <td>First Avenue</td>\n",
       "      <td>3254</td>\n",
       "      <td>Q1</td>\n",
       "      <td>10.50</td>\n",
       "    </tr>\n",
       "    <tr>\n",
       "      <th>164</th>\n",
       "      <td>audi</td>\n",
       "      <td>black</td>\n",
       "      <td>10:30</td>\n",
       "      <td>12</td>\n",
       "      <td>Ingestre Road</td>\n",
       "      <td>1498</td>\n",
       "      <td>Q1</td>\n",
       "      <td>10.50</td>\n",
       "    </tr>\n",
       "    <tr>\n",
       "      <th>165</th>\n",
       "      <td>audi</td>\n",
       "      <td>black</td>\n",
       "      <td>10:30</td>\n",
       "      <td>12</td>\n",
       "      <td>Lawrence Road E6</td>\n",
       "      <td>3299</td>\n",
       "      <td>Q1</td>\n",
       "      <td>10.50</td>\n",
       "    </tr>\n",
       "    <tr>\n",
       "      <th>166</th>\n",
       "      <td>audi</td>\n",
       "      <td>black</td>\n",
       "      <td>10:30</td>\n",
       "      <td>12</td>\n",
       "      <td>Napier Road E15</td>\n",
       "      <td>1434</td>\n",
       "      <td>Q1</td>\n",
       "      <td>10.50</td>\n",
       "    </tr>\n",
       "  </tbody>\n",
       "</table>\n",
       "</div>"
      ],
      "text/plain": [
       "     Make Colour Issue Time Contravention Code          Location PA_Details  \\\n",
       "162  audi  black       9:31                 19       Antwerp Way       1500   \n",
       "163  audi  black      10:30                 12      First Avenue       3254   \n",
       "164  audi  black      10:30                 12     Ingestre Road       1498   \n",
       "165  audi  black      10:30                 12  Lawrence Road E6       3299   \n",
       "166  audi  black      10:30                 12   Napier Road E15       1434   \n",
       "\n",
       "    Issue Date  Issue Time Decimal  \n",
       "162         Q1                9.52  \n",
       "163         Q1               10.50  \n",
       "164         Q1               10.50  \n",
       "165         Q1               10.50  \n",
       "166         Q1               10.50  "
      ]
     },
     "execution_count": 115,
     "metadata": {},
     "output_type": "execute_result"
    }
   ],
   "source": [
    "df.head()"
   ]
  },
  {
   "cell_type": "code",
   "execution_count": 116,
   "metadata": {},
   "outputs": [
    {
     "data": {
      "text/html": [
       "<div>\n",
       "<style scoped>\n",
       "    .dataframe tbody tr th:only-of-type {\n",
       "        vertical-align: middle;\n",
       "    }\n",
       "\n",
       "    .dataframe tbody tr th {\n",
       "        vertical-align: top;\n",
       "    }\n",
       "\n",
       "    .dataframe thead th {\n",
       "        text-align: right;\n",
       "    }\n",
       "</style>\n",
       "<table border=\"1\" class=\"dataframe\">\n",
       "  <thead>\n",
       "    <tr style=\"text-align: right;\">\n",
       "      <th></th>\n",
       "      <th>Unnamed: 0</th>\n",
       "      <th>Make</th>\n",
       "      <th>Colour</th>\n",
       "      <th>Issue Time</th>\n",
       "      <th>Contravention Code</th>\n",
       "      <th>Location</th>\n",
       "      <th>PA_Details</th>\n",
       "      <th>Issue Date</th>\n",
       "      <th>Issue Time Decimal</th>\n",
       "    </tr>\n",
       "  </thead>\n",
       "  <tbody>\n",
       "    <tr>\n",
       "      <th>0</th>\n",
       "      <td>162</td>\n",
       "      <td>audi</td>\n",
       "      <td>black</td>\n",
       "      <td>9:31</td>\n",
       "      <td>19</td>\n",
       "      <td>Antwerp Way</td>\n",
       "      <td>1500</td>\n",
       "      <td>Q1</td>\n",
       "      <td>9.52</td>\n",
       "    </tr>\n",
       "    <tr>\n",
       "      <th>1</th>\n",
       "      <td>163</td>\n",
       "      <td>audi</td>\n",
       "      <td>black</td>\n",
       "      <td>10:30</td>\n",
       "      <td>12</td>\n",
       "      <td>First Avenue</td>\n",
       "      <td>3254</td>\n",
       "      <td>Q1</td>\n",
       "      <td>10.50</td>\n",
       "    </tr>\n",
       "    <tr>\n",
       "      <th>2</th>\n",
       "      <td>164</td>\n",
       "      <td>audi</td>\n",
       "      <td>black</td>\n",
       "      <td>10:30</td>\n",
       "      <td>12</td>\n",
       "      <td>Ingestre Road</td>\n",
       "      <td>1498</td>\n",
       "      <td>Q1</td>\n",
       "      <td>10.50</td>\n",
       "    </tr>\n",
       "    <tr>\n",
       "      <th>3</th>\n",
       "      <td>165</td>\n",
       "      <td>audi</td>\n",
       "      <td>black</td>\n",
       "      <td>10:30</td>\n",
       "      <td>12</td>\n",
       "      <td>Lawrence Road E6</td>\n",
       "      <td>3299</td>\n",
       "      <td>Q1</td>\n",
       "      <td>10.50</td>\n",
       "    </tr>\n",
       "    <tr>\n",
       "      <th>4</th>\n",
       "      <td>166</td>\n",
       "      <td>audi</td>\n",
       "      <td>black</td>\n",
       "      <td>10:30</td>\n",
       "      <td>12</td>\n",
       "      <td>Napier Road E15</td>\n",
       "      <td>1434</td>\n",
       "      <td>Q1</td>\n",
       "      <td>10.50</td>\n",
       "    </tr>\n",
       "  </tbody>\n",
       "</table>\n",
       "</div>"
      ],
      "text/plain": [
       "   Unnamed: 0  Make Colour Issue Time Contravention Code          Location  \\\n",
       "0         162  audi  black       9:31                 19       Antwerp Way   \n",
       "1         163  audi  black      10:30                 12      First Avenue   \n",
       "2         164  audi  black      10:30                 12     Ingestre Road   \n",
       "3         165  audi  black      10:30                 12  Lawrence Road E6   \n",
       "4         166  audi  black      10:30                 12   Napier Road E15   \n",
       "\n",
       "   PA_Details Issue Date  Issue Time Decimal  \n",
       "0        1500         Q1                9.52  \n",
       "1        3254         Q1               10.50  \n",
       "2        1498         Q1               10.50  \n",
       "3        3299         Q1               10.50  \n",
       "4        1434         Q1               10.50  "
      ]
     },
     "execution_count": 116,
     "metadata": {},
     "output_type": "execute_result"
    }
   ],
   "source": [
    "## Load Dataset\n",
    "df_new = pd.read_csv('Processed.csv')\n",
    "df_new.head()"
   ]
  },
  {
   "cell_type": "markdown",
   "metadata": {},
   "source": [
    "### Adding cluster labels in the dataframe"
   ]
  },
  {
   "cell_type": "code",
   "execution_count": 117,
   "metadata": {},
   "outputs": [],
   "source": [
    "df_new['clusters_k_means'] = labels"
   ]
  },
  {
   "cell_type": "code",
   "execution_count": 118,
   "metadata": {},
   "outputs": [
    {
     "data": {
      "text/html": [
       "<div>\n",
       "<style scoped>\n",
       "    .dataframe tbody tr th:only-of-type {\n",
       "        vertical-align: middle;\n",
       "    }\n",
       "\n",
       "    .dataframe tbody tr th {\n",
       "        vertical-align: top;\n",
       "    }\n",
       "\n",
       "    .dataframe thead th {\n",
       "        text-align: right;\n",
       "    }\n",
       "</style>\n",
       "<table border=\"1\" class=\"dataframe\">\n",
       "  <thead>\n",
       "    <tr style=\"text-align: right;\">\n",
       "      <th></th>\n",
       "      <th>Unnamed: 0</th>\n",
       "      <th>Make</th>\n",
       "      <th>Colour</th>\n",
       "      <th>Issue Time</th>\n",
       "      <th>Contravention Code</th>\n",
       "      <th>Location</th>\n",
       "      <th>PA_Details</th>\n",
       "      <th>Issue Date</th>\n",
       "      <th>Issue Time Decimal</th>\n",
       "      <th>clusters_k_means</th>\n",
       "      <th>clusters_k_mode</th>\n",
       "    </tr>\n",
       "  </thead>\n",
       "  <tbody>\n",
       "    <tr>\n",
       "      <th>0</th>\n",
       "      <td>162</td>\n",
       "      <td>audi</td>\n",
       "      <td>black</td>\n",
       "      <td>9:31</td>\n",
       "      <td>19</td>\n",
       "      <td>Antwerp Way</td>\n",
       "      <td>1500</td>\n",
       "      <td>Q1</td>\n",
       "      <td>9.52</td>\n",
       "      <td>1</td>\n",
       "      <td>0</td>\n",
       "    </tr>\n",
       "    <tr>\n",
       "      <th>1</th>\n",
       "      <td>163</td>\n",
       "      <td>audi</td>\n",
       "      <td>black</td>\n",
       "      <td>10:30</td>\n",
       "      <td>12</td>\n",
       "      <td>First Avenue</td>\n",
       "      <td>3254</td>\n",
       "      <td>Q1</td>\n",
       "      <td>10.50</td>\n",
       "      <td>1</td>\n",
       "      <td>0</td>\n",
       "    </tr>\n",
       "    <tr>\n",
       "      <th>2</th>\n",
       "      <td>164</td>\n",
       "      <td>audi</td>\n",
       "      <td>black</td>\n",
       "      <td>10:30</td>\n",
       "      <td>12</td>\n",
       "      <td>Ingestre Road</td>\n",
       "      <td>1498</td>\n",
       "      <td>Q1</td>\n",
       "      <td>10.50</td>\n",
       "      <td>1</td>\n",
       "      <td>0</td>\n",
       "    </tr>\n",
       "    <tr>\n",
       "      <th>3</th>\n",
       "      <td>165</td>\n",
       "      <td>audi</td>\n",
       "      <td>black</td>\n",
       "      <td>10:30</td>\n",
       "      <td>12</td>\n",
       "      <td>Lawrence Road E6</td>\n",
       "      <td>3299</td>\n",
       "      <td>Q1</td>\n",
       "      <td>10.50</td>\n",
       "      <td>1</td>\n",
       "      <td>0</td>\n",
       "    </tr>\n",
       "    <tr>\n",
       "      <th>4</th>\n",
       "      <td>166</td>\n",
       "      <td>audi</td>\n",
       "      <td>black</td>\n",
       "      <td>10:30</td>\n",
       "      <td>12</td>\n",
       "      <td>Napier Road E15</td>\n",
       "      <td>1434</td>\n",
       "      <td>Q1</td>\n",
       "      <td>10.50</td>\n",
       "      <td>1</td>\n",
       "      <td>0</td>\n",
       "    </tr>\n",
       "  </tbody>\n",
       "</table>\n",
       "</div>"
      ],
      "text/plain": [
       "   Unnamed: 0  Make Colour Issue Time Contravention Code          Location  \\\n",
       "0         162  audi  black       9:31                 19       Antwerp Way   \n",
       "1         163  audi  black      10:30                 12      First Avenue   \n",
       "2         164  audi  black      10:30                 12     Ingestre Road   \n",
       "3         165  audi  black      10:30                 12  Lawrence Road E6   \n",
       "4         166  audi  black      10:30                 12   Napier Road E15   \n",
       "\n",
       "   PA_Details Issue Date  Issue Time Decimal  clusters_k_means  \\\n",
       "0        1500         Q1                9.52                 1   \n",
       "1        3254         Q1               10.50                 1   \n",
       "2        1498         Q1               10.50                 1   \n",
       "3        3299         Q1               10.50                 1   \n",
       "4        1434         Q1               10.50                 1   \n",
       "\n",
       "   clusters_k_mode  \n",
       "0                0  \n",
       "1                0  \n",
       "2                0  \n",
       "3                0  \n",
       "4                0  "
      ]
     },
     "execution_count": 118,
     "metadata": {},
     "output_type": "execute_result"
    }
   ],
   "source": [
    "\n",
    "df_new['clusters_k_mode'] = labels_kmode\n",
    "df_new.head()"
   ]
  },
  {
   "cell_type": "code",
   "execution_count": 119,
   "metadata": {},
   "outputs": [
    {
     "data": {
      "text/html": [
       "<div>\n",
       "<style scoped>\n",
       "    .dataframe tbody tr th:only-of-type {\n",
       "        vertical-align: middle;\n",
       "    }\n",
       "\n",
       "    .dataframe tbody tr th {\n",
       "        vertical-align: top;\n",
       "    }\n",
       "\n",
       "    .dataframe thead th {\n",
       "        text-align: right;\n",
       "    }\n",
       "</style>\n",
       "<table border=\"1\" class=\"dataframe\">\n",
       "  <thead>\n",
       "    <tr style=\"text-align: right;\">\n",
       "      <th></th>\n",
       "      <th>Make</th>\n",
       "      <th>Colour</th>\n",
       "      <th>Issue Time</th>\n",
       "      <th>Contravention Code</th>\n",
       "      <th>Location</th>\n",
       "      <th>PA_Details</th>\n",
       "      <th>Issue Date</th>\n",
       "      <th>Issue Time Decimal</th>\n",
       "    </tr>\n",
       "  </thead>\n",
       "  <tbody>\n",
       "    <tr>\n",
       "      <th>162</th>\n",
       "      <td>audi</td>\n",
       "      <td>black</td>\n",
       "      <td>9:31</td>\n",
       "      <td>19</td>\n",
       "      <td>Antwerp Way</td>\n",
       "      <td>1500</td>\n",
       "      <td>Q1</td>\n",
       "      <td>9.52</td>\n",
       "    </tr>\n",
       "    <tr>\n",
       "      <th>163</th>\n",
       "      <td>audi</td>\n",
       "      <td>black</td>\n",
       "      <td>10:30</td>\n",
       "      <td>12</td>\n",
       "      <td>First Avenue</td>\n",
       "      <td>3254</td>\n",
       "      <td>Q1</td>\n",
       "      <td>10.50</td>\n",
       "    </tr>\n",
       "    <tr>\n",
       "      <th>164</th>\n",
       "      <td>audi</td>\n",
       "      <td>black</td>\n",
       "      <td>10:30</td>\n",
       "      <td>12</td>\n",
       "      <td>Ingestre Road</td>\n",
       "      <td>1498</td>\n",
       "      <td>Q1</td>\n",
       "      <td>10.50</td>\n",
       "    </tr>\n",
       "    <tr>\n",
       "      <th>165</th>\n",
       "      <td>audi</td>\n",
       "      <td>black</td>\n",
       "      <td>10:30</td>\n",
       "      <td>12</td>\n",
       "      <td>Lawrence Road E6</td>\n",
       "      <td>3299</td>\n",
       "      <td>Q1</td>\n",
       "      <td>10.50</td>\n",
       "    </tr>\n",
       "    <tr>\n",
       "      <th>166</th>\n",
       "      <td>audi</td>\n",
       "      <td>black</td>\n",
       "      <td>10:30</td>\n",
       "      <td>12</td>\n",
       "      <td>Napier Road E15</td>\n",
       "      <td>1434</td>\n",
       "      <td>Q1</td>\n",
       "      <td>10.50</td>\n",
       "    </tr>\n",
       "  </tbody>\n",
       "</table>\n",
       "</div>"
      ],
      "text/plain": [
       "     Make Colour Issue Time Contravention Code          Location PA_Details  \\\n",
       "162  audi  black       9:31                 19       Antwerp Way       1500   \n",
       "163  audi  black      10:30                 12      First Avenue       3254   \n",
       "164  audi  black      10:30                 12     Ingestre Road       1498   \n",
       "165  audi  black      10:30                 12  Lawrence Road E6       3299   \n",
       "166  audi  black      10:30                 12   Napier Road E15       1434   \n",
       "\n",
       "    Issue Date  Issue Time Decimal  \n",
       "162         Q1                9.52  \n",
       "163         Q1               10.50  \n",
       "164         Q1               10.50  \n",
       "165         Q1               10.50  \n",
       "166         Q1               10.50  "
      ]
     },
     "execution_count": 119,
     "metadata": {},
     "output_type": "execute_result"
    }
   ],
   "source": [
    "df.head()"
   ]
  },
  {
   "cell_type": "markdown",
   "metadata": {},
   "source": [
    "## K Prototype for complete dataset"
   ]
  },
  {
   "cell_type": "code",
   "execution_count": 120,
   "metadata": {},
   "outputs": [],
   "source": [
    "from kmodes.kprototypes import KPrototypes"
   ]
  },
  {
   "cell_type": "code",
   "execution_count": 121,
   "metadata": {},
   "outputs": [
    {
     "data": {
      "text/html": [
       "<div>\n",
       "<style scoped>\n",
       "    .dataframe tbody tr th:only-of-type {\n",
       "        vertical-align: middle;\n",
       "    }\n",
       "\n",
       "    .dataframe tbody tr th {\n",
       "        vertical-align: top;\n",
       "    }\n",
       "\n",
       "    .dataframe thead th {\n",
       "        text-align: right;\n",
       "    }\n",
       "</style>\n",
       "<table border=\"1\" class=\"dataframe\">\n",
       "  <thead>\n",
       "    <tr style=\"text-align: right;\">\n",
       "      <th></th>\n",
       "      <th>Unnamed: 0</th>\n",
       "      <th>Make</th>\n",
       "      <th>Colour</th>\n",
       "      <th>Issue Time</th>\n",
       "      <th>Contravention Code</th>\n",
       "      <th>Location</th>\n",
       "      <th>PA_Details</th>\n",
       "      <th>Issue Date</th>\n",
       "      <th>Issue Time Decimal</th>\n",
       "      <th>clusters_k_means</th>\n",
       "      <th>clusters_k_mode</th>\n",
       "    </tr>\n",
       "  </thead>\n",
       "  <tbody>\n",
       "    <tr>\n",
       "      <th>0</th>\n",
       "      <td>162</td>\n",
       "      <td>audi</td>\n",
       "      <td>black</td>\n",
       "      <td>9:31</td>\n",
       "      <td>19</td>\n",
       "      <td>Antwerp Way</td>\n",
       "      <td>1500</td>\n",
       "      <td>Q1</td>\n",
       "      <td>9.52</td>\n",
       "      <td>1</td>\n",
       "      <td>0</td>\n",
       "    </tr>\n",
       "    <tr>\n",
       "      <th>1</th>\n",
       "      <td>163</td>\n",
       "      <td>audi</td>\n",
       "      <td>black</td>\n",
       "      <td>10:30</td>\n",
       "      <td>12</td>\n",
       "      <td>First Avenue</td>\n",
       "      <td>3254</td>\n",
       "      <td>Q1</td>\n",
       "      <td>10.50</td>\n",
       "      <td>1</td>\n",
       "      <td>0</td>\n",
       "    </tr>\n",
       "    <tr>\n",
       "      <th>2</th>\n",
       "      <td>164</td>\n",
       "      <td>audi</td>\n",
       "      <td>black</td>\n",
       "      <td>10:30</td>\n",
       "      <td>12</td>\n",
       "      <td>Ingestre Road</td>\n",
       "      <td>1498</td>\n",
       "      <td>Q1</td>\n",
       "      <td>10.50</td>\n",
       "      <td>1</td>\n",
       "      <td>0</td>\n",
       "    </tr>\n",
       "    <tr>\n",
       "      <th>3</th>\n",
       "      <td>165</td>\n",
       "      <td>audi</td>\n",
       "      <td>black</td>\n",
       "      <td>10:30</td>\n",
       "      <td>12</td>\n",
       "      <td>Lawrence Road E6</td>\n",
       "      <td>3299</td>\n",
       "      <td>Q1</td>\n",
       "      <td>10.50</td>\n",
       "      <td>1</td>\n",
       "      <td>0</td>\n",
       "    </tr>\n",
       "    <tr>\n",
       "      <th>4</th>\n",
       "      <td>166</td>\n",
       "      <td>audi</td>\n",
       "      <td>black</td>\n",
       "      <td>10:30</td>\n",
       "      <td>12</td>\n",
       "      <td>Napier Road E15</td>\n",
       "      <td>1434</td>\n",
       "      <td>Q1</td>\n",
       "      <td>10.50</td>\n",
       "      <td>1</td>\n",
       "      <td>0</td>\n",
       "    </tr>\n",
       "  </tbody>\n",
       "</table>\n",
       "</div>"
      ],
      "text/plain": [
       "   Unnamed: 0  Make Colour Issue Time Contravention Code          Location  \\\n",
       "0         162  audi  black       9:31                 19       Antwerp Way   \n",
       "1         163  audi  black      10:30                 12      First Avenue   \n",
       "2         164  audi  black      10:30                 12     Ingestre Road   \n",
       "3         165  audi  black      10:30                 12  Lawrence Road E6   \n",
       "4         166  audi  black      10:30                 12   Napier Road E15   \n",
       "\n",
       "   PA_Details Issue Date  Issue Time Decimal  clusters_k_means  \\\n",
       "0        1500         Q1                9.52                 1   \n",
       "1        3254         Q1               10.50                 1   \n",
       "2        1498         Q1               10.50                 1   \n",
       "3        3299         Q1               10.50                 1   \n",
       "4        1434         Q1               10.50                 1   \n",
       "\n",
       "   clusters_k_mode  \n",
       "0                0  \n",
       "1                0  \n",
       "2                0  \n",
       "3                0  \n",
       "4                0  "
      ]
     },
     "execution_count": 121,
     "metadata": {},
     "output_type": "execute_result"
    }
   ],
   "source": [
    "df_new.head()"
   ]
  },
  {
   "cell_type": "markdown",
   "metadata": {},
   "source": [
    "- Keeping the original features of the dataset"
   ]
  },
  {
   "cell_type": "code",
   "execution_count": 122,
   "metadata": {},
   "outputs": [
    {
     "data": {
      "text/html": [
       "<div>\n",
       "<style scoped>\n",
       "    .dataframe tbody tr th:only-of-type {\n",
       "        vertical-align: middle;\n",
       "    }\n",
       "\n",
       "    .dataframe tbody tr th {\n",
       "        vertical-align: top;\n",
       "    }\n",
       "\n",
       "    .dataframe thead th {\n",
       "        text-align: right;\n",
       "    }\n",
       "</style>\n",
       "<table border=\"1\" class=\"dataframe\">\n",
       "  <thead>\n",
       "    <tr style=\"text-align: right;\">\n",
       "      <th></th>\n",
       "      <th>Make</th>\n",
       "      <th>Colour</th>\n",
       "      <th>Contravention Code</th>\n",
       "      <th>Location</th>\n",
       "      <th>PA_Details</th>\n",
       "      <th>Issue Date</th>\n",
       "      <th>Issue Time Decimal</th>\n",
       "    </tr>\n",
       "  </thead>\n",
       "  <tbody>\n",
       "    <tr>\n",
       "      <th>0</th>\n",
       "      <td>audi</td>\n",
       "      <td>black</td>\n",
       "      <td>19</td>\n",
       "      <td>Antwerp Way</td>\n",
       "      <td>1500</td>\n",
       "      <td>Q1</td>\n",
       "      <td>9.52</td>\n",
       "    </tr>\n",
       "    <tr>\n",
       "      <th>1</th>\n",
       "      <td>audi</td>\n",
       "      <td>black</td>\n",
       "      <td>12</td>\n",
       "      <td>First Avenue</td>\n",
       "      <td>3254</td>\n",
       "      <td>Q1</td>\n",
       "      <td>10.50</td>\n",
       "    </tr>\n",
       "    <tr>\n",
       "      <th>2</th>\n",
       "      <td>audi</td>\n",
       "      <td>black</td>\n",
       "      <td>12</td>\n",
       "      <td>Ingestre Road</td>\n",
       "      <td>1498</td>\n",
       "      <td>Q1</td>\n",
       "      <td>10.50</td>\n",
       "    </tr>\n",
       "    <tr>\n",
       "      <th>3</th>\n",
       "      <td>audi</td>\n",
       "      <td>black</td>\n",
       "      <td>12</td>\n",
       "      <td>Lawrence Road E6</td>\n",
       "      <td>3299</td>\n",
       "      <td>Q1</td>\n",
       "      <td>10.50</td>\n",
       "    </tr>\n",
       "    <tr>\n",
       "      <th>4</th>\n",
       "      <td>audi</td>\n",
       "      <td>black</td>\n",
       "      <td>12</td>\n",
       "      <td>Napier Road E15</td>\n",
       "      <td>1434</td>\n",
       "      <td>Q1</td>\n",
       "      <td>10.50</td>\n",
       "    </tr>\n",
       "  </tbody>\n",
       "</table>\n",
       "</div>"
      ],
      "text/plain": [
       "   Make Colour Contravention Code          Location  PA_Details Issue Date  \\\n",
       "0  audi  black                 19       Antwerp Way        1500         Q1   \n",
       "1  audi  black                 12      First Avenue        3254         Q1   \n",
       "2  audi  black                 12     Ingestre Road        1498         Q1   \n",
       "3  audi  black                 12  Lawrence Road E6        3299         Q1   \n",
       "4  audi  black                 12   Napier Road E15        1434         Q1   \n",
       "\n",
       "   Issue Time Decimal  \n",
       "0                9.52  \n",
       "1               10.50  \n",
       "2               10.50  \n",
       "3               10.50  \n",
       "4               10.50  "
      ]
     },
     "execution_count": 122,
     "metadata": {},
     "output_type": "execute_result"
    }
   ],
   "source": [
    "df =df_new[['Make', 'Colour', 'Contravention Code', 'Location','PA_Details', 'Issue Date','Issue Time Decimal']]\n",
    "df.head()"
   ]
  },
  {
   "cell_type": "code",
   "execution_count": 123,
   "metadata": {},
   "outputs": [
    {
     "name": "stdout",
     "output_type": "stream",
     "text": [
      "<class 'pandas.core.frame.DataFrame'>\n",
      "RangeIndex: 375785 entries, 0 to 375784\n",
      "Data columns (total 7 columns):\n",
      " #   Column              Non-Null Count   Dtype  \n",
      "---  ------              --------------   -----  \n",
      " 0   Make                375785 non-null  object \n",
      " 1   Colour              375785 non-null  object \n",
      " 2   Contravention Code  375785 non-null  object \n",
      " 3   Location            375785 non-null  object \n",
      " 4   PA_Details          375785 non-null  int64  \n",
      " 5   Issue Date          375785 non-null  object \n",
      " 6   Issue Time Decimal  375785 non-null  float64\n",
      "dtypes: float64(1), int64(1), object(5)\n",
      "memory usage: 20.1+ MB\n"
     ]
    }
   ],
   "source": [
    "df.info()"
   ]
  },
  {
   "cell_type": "markdown",
   "metadata": {},
   "source": [
    "- Inspecting the categorical variables"
   ]
  },
  {
   "cell_type": "code",
   "execution_count": 124,
   "metadata": {},
   "outputs": [
    {
     "data": {
      "text/plain": [
       "Make                   126\n",
       "Colour                  24\n",
       "Contravention Code      79\n",
       "Location              1626\n",
       "Issue Date              12\n",
       "dtype: int64"
      ]
     },
     "execution_count": 124,
     "metadata": {},
     "output_type": "execute_result"
    }
   ],
   "source": [
    "# Inspect the categorical variables\n",
    "df.select_dtypes('object').nunique()"
   ]
  },
  {
   "cell_type": "markdown",
   "metadata": {},
   "source": [
    "- Inspecting the Numerical variables"
   ]
  },
  {
   "cell_type": "code",
   "execution_count": 125,
   "metadata": {},
   "outputs": [
    {
     "data": {
      "text/html": [
       "<div>\n",
       "<style scoped>\n",
       "    .dataframe tbody tr th:only-of-type {\n",
       "        vertical-align: middle;\n",
       "    }\n",
       "\n",
       "    .dataframe tbody tr th {\n",
       "        vertical-align: top;\n",
       "    }\n",
       "\n",
       "    .dataframe thead th {\n",
       "        text-align: right;\n",
       "    }\n",
       "</style>\n",
       "<table border=\"1\" class=\"dataframe\">\n",
       "  <thead>\n",
       "    <tr style=\"text-align: right;\">\n",
       "      <th></th>\n",
       "      <th>PA_Details</th>\n",
       "      <th>Issue Time Decimal</th>\n",
       "    </tr>\n",
       "  </thead>\n",
       "  <tbody>\n",
       "    <tr>\n",
       "      <th>count</th>\n",
       "      <td>375785.000000</td>\n",
       "      <td>375785.000000</td>\n",
       "    </tr>\n",
       "    <tr>\n",
       "      <th>mean</th>\n",
       "      <td>1823.770598</td>\n",
       "      <td>12.187858</td>\n",
       "    </tr>\n",
       "    <tr>\n",
       "      <th>std</th>\n",
       "      <td>758.535435</td>\n",
       "      <td>3.521284</td>\n",
       "    </tr>\n",
       "    <tr>\n",
       "      <th>min</th>\n",
       "      <td>777.000000</td>\n",
       "      <td>0.000000</td>\n",
       "    </tr>\n",
       "    <tr>\n",
       "      <th>25%</th>\n",
       "      <td>1433.000000</td>\n",
       "      <td>9.800000</td>\n",
       "    </tr>\n",
       "    <tr>\n",
       "      <th>50%</th>\n",
       "      <td>1468.000000</td>\n",
       "      <td>11.830000</td>\n",
       "    </tr>\n",
       "    <tr>\n",
       "      <th>75%</th>\n",
       "      <td>1519.000000</td>\n",
       "      <td>14.300000</td>\n",
       "    </tr>\n",
       "    <tr>\n",
       "      <th>max</th>\n",
       "      <td>9999.000000</td>\n",
       "      <td>23.980000</td>\n",
       "    </tr>\n",
       "  </tbody>\n",
       "</table>\n",
       "</div>"
      ],
      "text/plain": [
       "          PA_Details  Issue Time Decimal\n",
       "count  375785.000000       375785.000000\n",
       "mean     1823.770598           12.187858\n",
       "std       758.535435            3.521284\n",
       "min       777.000000            0.000000\n",
       "25%      1433.000000            9.800000\n",
       "50%      1468.000000           11.830000\n",
       "75%      1519.000000           14.300000\n",
       "max      9999.000000           23.980000"
      ]
     },
     "execution_count": 125,
     "metadata": {},
     "output_type": "execute_result"
    }
   ],
   "source": [
    "# Inspect the numerical variables\n",
    "df.describe()"
   ]
  },
  {
   "cell_type": "code",
   "execution_count": 126,
   "metadata": {},
   "outputs": [
    {
     "name": "stdout",
     "output_type": "stream",
     "text": [
      "Categorical columns           : ['Make', 'Colour', 'Contravention Code', 'Location', 'Issue Date']\n",
      "Categorical columns position  : [0, 1, 2, 3, 5]\n"
     ]
    }
   ],
   "source": [
    "# Get the position of categorical columns\n",
    "catColumnsPos = [df.columns.get_loc(col) for col in list(df.select_dtypes('object').columns)]\n",
    "print('Categorical columns           : {}'.format(list(df.select_dtypes('object').columns)))\n",
    "print('Categorical columns position  : {}'.format(catColumnsPos))"
   ]
  },
  {
   "cell_type": "code",
   "execution_count": 127,
   "metadata": {},
   "outputs": [
    {
     "data": {
      "text/plain": [
       "array([['audi', 'black', '19', ..., 1500, 'Q1', 9.52],\n",
       "       ['audi', 'black', '12', ..., 3254, 'Q1', 10.5],\n",
       "       ['audi', 'black', '12', ..., 1498, 'Q1', 10.5],\n",
       "       ...,\n",
       "       ['yamaha', 'white', '81', ..., 1458, 'Q12', 16.5],\n",
       "       ['yamaha', 'white', '62', ..., 1475, 'Q12', 17.07],\n",
       "       ['yamaha', 'white', '1', ..., 3237, 'Q12', 17.13]], dtype=object)"
      ]
     },
     "execution_count": 127,
     "metadata": {},
     "output_type": "execute_result"
    }
   ],
   "source": [
    "# Convert dataframe to matrix\n",
    "dfMatrix = df.to_numpy()\n",
    "dfMatrix"
   ]
  },
  {
   "cell_type": "markdown",
   "metadata": {},
   "source": [
    "## K Prototype"
   ]
  },
  {
   "cell_type": "code",
   "execution_count": 210,
   "metadata": {},
   "outputs": [
    {
     "data": {
      "text/plain": [
       "array([0, 2, 0, ..., 0, 0, 2], dtype=uint16)"
      ]
     },
     "execution_count": 210,
     "metadata": {},
     "output_type": "execute_result"
    }
   ],
   "source": [
    "kprototype = KPrototypes(n_clusters = 3)\n",
    "kprototype.fit_predict(dfMatrix, categorical = catColumnsPos)\n"
   ]
  },
  {
   "cell_type": "code",
   "execution_count": 211,
   "metadata": {},
   "outputs": [],
   "source": [
    "labels_kprototype = kprototype.labels_"
   ]
  },
  {
   "cell_type": "markdown",
   "metadata": {},
   "source": [
    "### Adding cluster labels in the dataframe"
   ]
  },
  {
   "cell_type": "code",
   "execution_count": 212,
   "metadata": {},
   "outputs": [
    {
     "data": {
      "text/html": [
       "<div>\n",
       "<style scoped>\n",
       "    .dataframe tbody tr th:only-of-type {\n",
       "        vertical-align: middle;\n",
       "    }\n",
       "\n",
       "    .dataframe tbody tr th {\n",
       "        vertical-align: top;\n",
       "    }\n",
       "\n",
       "    .dataframe thead th {\n",
       "        text-align: right;\n",
       "    }\n",
       "</style>\n",
       "<table border=\"1\" class=\"dataframe\">\n",
       "  <thead>\n",
       "    <tr style=\"text-align: right;\">\n",
       "      <th></th>\n",
       "      <th>Original_Index</th>\n",
       "      <th>Original_Index</th>\n",
       "      <th>Make</th>\n",
       "      <th>Colour</th>\n",
       "      <th>Issue Time</th>\n",
       "      <th>Contravention Code</th>\n",
       "      <th>Location</th>\n",
       "      <th>PA_Details</th>\n",
       "      <th>Issue Date</th>\n",
       "      <th>Issue Time Decimal</th>\n",
       "      <th>clusters_k_means</th>\n",
       "      <th>clusters_k_mode</th>\n",
       "      <th>clusters_k_prototype</th>\n",
       "    </tr>\n",
       "  </thead>\n",
       "  <tbody>\n",
       "    <tr>\n",
       "      <th>0</th>\n",
       "      <td>0</td>\n",
       "      <td>162</td>\n",
       "      <td>audi</td>\n",
       "      <td>black</td>\n",
       "      <td>9:31</td>\n",
       "      <td>19</td>\n",
       "      <td>Antwerp Way</td>\n",
       "      <td>1500</td>\n",
       "      <td>Q1</td>\n",
       "      <td>9.52</td>\n",
       "      <td>1</td>\n",
       "      <td>0</td>\n",
       "      <td>0</td>\n",
       "    </tr>\n",
       "    <tr>\n",
       "      <th>1</th>\n",
       "      <td>1</td>\n",
       "      <td>163</td>\n",
       "      <td>audi</td>\n",
       "      <td>black</td>\n",
       "      <td>10:30</td>\n",
       "      <td>12</td>\n",
       "      <td>First Avenue</td>\n",
       "      <td>3254</td>\n",
       "      <td>Q1</td>\n",
       "      <td>10.50</td>\n",
       "      <td>1</td>\n",
       "      <td>0</td>\n",
       "      <td>2</td>\n",
       "    </tr>\n",
       "    <tr>\n",
       "      <th>2</th>\n",
       "      <td>2</td>\n",
       "      <td>164</td>\n",
       "      <td>audi</td>\n",
       "      <td>black</td>\n",
       "      <td>10:30</td>\n",
       "      <td>12</td>\n",
       "      <td>Ingestre Road</td>\n",
       "      <td>1498</td>\n",
       "      <td>Q1</td>\n",
       "      <td>10.50</td>\n",
       "      <td>1</td>\n",
       "      <td>0</td>\n",
       "      <td>0</td>\n",
       "    </tr>\n",
       "    <tr>\n",
       "      <th>3</th>\n",
       "      <td>3</td>\n",
       "      <td>165</td>\n",
       "      <td>audi</td>\n",
       "      <td>black</td>\n",
       "      <td>10:30</td>\n",
       "      <td>12</td>\n",
       "      <td>Lawrence Road E6</td>\n",
       "      <td>3299</td>\n",
       "      <td>Q1</td>\n",
       "      <td>10.50</td>\n",
       "      <td>1</td>\n",
       "      <td>0</td>\n",
       "      <td>2</td>\n",
       "    </tr>\n",
       "    <tr>\n",
       "      <th>4</th>\n",
       "      <td>4</td>\n",
       "      <td>166</td>\n",
       "      <td>audi</td>\n",
       "      <td>black</td>\n",
       "      <td>10:30</td>\n",
       "      <td>12</td>\n",
       "      <td>Napier Road E15</td>\n",
       "      <td>1434</td>\n",
       "      <td>Q1</td>\n",
       "      <td>10.50</td>\n",
       "      <td>1</td>\n",
       "      <td>0</td>\n",
       "      <td>0</td>\n",
       "    </tr>\n",
       "  </tbody>\n",
       "</table>\n",
       "</div>"
      ],
      "text/plain": [
       "   Original_Index  Original_Index  Make Colour Issue Time Contravention Code  \\\n",
       "0               0             162  audi  black       9:31                 19   \n",
       "1               1             163  audi  black      10:30                 12   \n",
       "2               2             164  audi  black      10:30                 12   \n",
       "3               3             165  audi  black      10:30                 12   \n",
       "4               4             166  audi  black      10:30                 12   \n",
       "\n",
       "           Location  PA_Details Issue Date  Issue Time Decimal  \\\n",
       "0       Antwerp Way        1500         Q1                9.52   \n",
       "1      First Avenue        3254         Q1               10.50   \n",
       "2     Ingestre Road        1498         Q1               10.50   \n",
       "3  Lawrence Road E6        3299         Q1               10.50   \n",
       "4   Napier Road E15        1434         Q1               10.50   \n",
       "\n",
       "   clusters_k_means  clusters_k_mode  clusters_k_prototype  \n",
       "0                 1                0                     0  \n",
       "1                 1                0                     2  \n",
       "2                 1                0                     0  \n",
       "3                 1                0                     2  \n",
       "4                 1                0                     0  "
      ]
     },
     "execution_count": 212,
     "metadata": {},
     "output_type": "execute_result"
    }
   ],
   "source": [
    "df_new['clusters_k_prototype'] = labels_kprototype\n",
    "df_new.head()"
   ]
  },
  {
   "cell_type": "markdown",
   "metadata": {},
   "source": [
    "### Saving cluster lables to clustered_data.csv file."
   ]
  },
  {
   "cell_type": "code",
   "execution_count": 213,
   "metadata": {},
   "outputs": [
    {
     "data": {
      "text/html": [
       "<div>\n",
       "<style scoped>\n",
       "    .dataframe tbody tr th:only-of-type {\n",
       "        vertical-align: middle;\n",
       "    }\n",
       "\n",
       "    .dataframe tbody tr th {\n",
       "        vertical-align: top;\n",
       "    }\n",
       "\n",
       "    .dataframe thead th {\n",
       "        text-align: right;\n",
       "    }\n",
       "</style>\n",
       "<table border=\"1\" class=\"dataframe\">\n",
       "  <thead>\n",
       "    <tr style=\"text-align: right;\">\n",
       "      <th></th>\n",
       "      <th>Original_Index</th>\n",
       "      <th>Original_Index</th>\n",
       "      <th>Make</th>\n",
       "      <th>Colour</th>\n",
       "      <th>Issue Time</th>\n",
       "      <th>Contravention Code</th>\n",
       "      <th>Location</th>\n",
       "      <th>PA_Details</th>\n",
       "      <th>Issue Date</th>\n",
       "      <th>Issue Time Decimal</th>\n",
       "      <th>clusters_k_means</th>\n",
       "      <th>clusters_k_mode</th>\n",
       "      <th>clusters_k_prototype</th>\n",
       "    </tr>\n",
       "  </thead>\n",
       "  <tbody>\n",
       "    <tr>\n",
       "      <th>0</th>\n",
       "      <td>0</td>\n",
       "      <td>162</td>\n",
       "      <td>audi</td>\n",
       "      <td>black</td>\n",
       "      <td>9:31</td>\n",
       "      <td>19</td>\n",
       "      <td>Antwerp Way</td>\n",
       "      <td>1500</td>\n",
       "      <td>Q1</td>\n",
       "      <td>9.52</td>\n",
       "      <td>1</td>\n",
       "      <td>0</td>\n",
       "      <td>0</td>\n",
       "    </tr>\n",
       "    <tr>\n",
       "      <th>1</th>\n",
       "      <td>1</td>\n",
       "      <td>163</td>\n",
       "      <td>audi</td>\n",
       "      <td>black</td>\n",
       "      <td>10:30</td>\n",
       "      <td>12</td>\n",
       "      <td>First Avenue</td>\n",
       "      <td>3254</td>\n",
       "      <td>Q1</td>\n",
       "      <td>10.50</td>\n",
       "      <td>1</td>\n",
       "      <td>0</td>\n",
       "      <td>2</td>\n",
       "    </tr>\n",
       "    <tr>\n",
       "      <th>2</th>\n",
       "      <td>2</td>\n",
       "      <td>164</td>\n",
       "      <td>audi</td>\n",
       "      <td>black</td>\n",
       "      <td>10:30</td>\n",
       "      <td>12</td>\n",
       "      <td>Ingestre Road</td>\n",
       "      <td>1498</td>\n",
       "      <td>Q1</td>\n",
       "      <td>10.50</td>\n",
       "      <td>1</td>\n",
       "      <td>0</td>\n",
       "      <td>0</td>\n",
       "    </tr>\n",
       "    <tr>\n",
       "      <th>3</th>\n",
       "      <td>3</td>\n",
       "      <td>165</td>\n",
       "      <td>audi</td>\n",
       "      <td>black</td>\n",
       "      <td>10:30</td>\n",
       "      <td>12</td>\n",
       "      <td>Lawrence Road E6</td>\n",
       "      <td>3299</td>\n",
       "      <td>Q1</td>\n",
       "      <td>10.50</td>\n",
       "      <td>1</td>\n",
       "      <td>0</td>\n",
       "      <td>2</td>\n",
       "    </tr>\n",
       "    <tr>\n",
       "      <th>4</th>\n",
       "      <td>4</td>\n",
       "      <td>166</td>\n",
       "      <td>audi</td>\n",
       "      <td>black</td>\n",
       "      <td>10:30</td>\n",
       "      <td>12</td>\n",
       "      <td>Napier Road E15</td>\n",
       "      <td>1434</td>\n",
       "      <td>Q1</td>\n",
       "      <td>10.50</td>\n",
       "      <td>1</td>\n",
       "      <td>0</td>\n",
       "      <td>0</td>\n",
       "    </tr>\n",
       "  </tbody>\n",
       "</table>\n",
       "</div>"
      ],
      "text/plain": [
       "   Original_Index  Original_Index  Make Colour Issue Time Contravention Code  \\\n",
       "0               0             162  audi  black       9:31                 19   \n",
       "1               1             163  audi  black      10:30                 12   \n",
       "2               2             164  audi  black      10:30                 12   \n",
       "3               3             165  audi  black      10:30                 12   \n",
       "4               4             166  audi  black      10:30                 12   \n",
       "\n",
       "           Location  PA_Details Issue Date  Issue Time Decimal  \\\n",
       "0       Antwerp Way        1500         Q1                9.52   \n",
       "1      First Avenue        3254         Q1               10.50   \n",
       "2     Ingestre Road        1498         Q1               10.50   \n",
       "3  Lawrence Road E6        3299         Q1               10.50   \n",
       "4   Napier Road E15        1434         Q1               10.50   \n",
       "\n",
       "   clusters_k_means  clusters_k_mode  clusters_k_prototype  \n",
       "0                 1                0                     0  \n",
       "1                 1                0                     2  \n",
       "2                 1                0                     0  \n",
       "3                 1                0                     2  \n",
       "4                 1                0                     0  "
      ]
     },
     "execution_count": 213,
     "metadata": {},
     "output_type": "execute_result"
    }
   ],
   "source": [
    "\n",
    "\n",
    "df_new.rename(columns = {'Unnamed: 0':'Original_Index'}, inplace = True)\n",
    "df_new.head()"
   ]
  },
  {
   "cell_type": "code",
   "execution_count": 214,
   "metadata": {},
   "outputs": [],
   "source": [
    "df_new.to_csv('clustered_data.csv')"
   ]
  },
  {
   "cell_type": "code",
   "execution_count": 215,
   "metadata": {},
   "outputs": [
    {
     "data": {
      "text/plain": [
       "(array([0, 1, 2], dtype=uint16), array([241771,  80943,  53071]))"
      ]
     },
     "execution_count": 215,
     "metadata": {},
     "output_type": "execute_result"
    }
   ],
   "source": [
    "np.unique(labels, return_counts = True)"
   ]
  },
  {
   "cell_type": "code",
   "execution_count": 216,
   "metadata": {},
   "outputs": [
    {
     "data": {
      "text/plain": [
       "pandas.core.series.Series"
      ]
     },
     "execution_count": 216,
     "metadata": {},
     "output_type": "execute_result"
    }
   ],
   "source": [
    "type(labels)"
   ]
  },
  {
   "cell_type": "markdown",
   "metadata": {},
   "source": [
    "### Visualising count of records in each cluster"
   ]
  },
  {
   "cell_type": "markdown",
   "metadata": {},
   "source": [
    "- \"Count of records in each cluster in Clustered data for Numerical Features\""
   ]
  },
  {
   "cell_type": "code",
   "execution_count": 217,
   "metadata": {},
   "outputs": [
    {
     "data": {
      "text/plain": [
       "Text(0.5, 1.0, 'Count of records in each cluster in Clustered data for Numerical Features')"
      ]
     },
     "execution_count": 217,
     "metadata": {},
     "output_type": "execute_result"
    },
    {
     "data": {
      "image/png": "[encoded data removed]",
      "text/plain": [
       "<Figure size 432x288 with 1 Axes>"
      ]
     },
     "metadata": {},
     "output_type": "display_data"
    }
   ],
   "source": [
    "a = np.hstack(labels)\n",
    "_ = plt.hist(a)  # arguments are passed to np.histogram\n",
    "plt.title(\"Count of records in each cluster in Clustered data for Numerical Features\")"
   ]
  },
  {
   "cell_type": "code",
   "execution_count": 218,
   "metadata": {},
   "outputs": [
    {
     "data": {
      "text/plain": [
       "(array([0, 1, 2], dtype=uint16), array([217229, 104920,  53636]))"
      ]
     },
     "execution_count": 218,
     "metadata": {},
     "output_type": "execute_result"
    }
   ],
   "source": [
    "np.unique(labels_kmode, return_counts = True)"
   ]
  },
  {
   "cell_type": "markdown",
   "metadata": {},
   "source": [
    "- \"Count of records in each cluster in Clustered data for Categorical Features\""
   ]
  },
  {
   "cell_type": "code",
   "execution_count": 219,
   "metadata": {},
   "outputs": [
    {
     "data": {
      "text/plain": [
       "Text(0.5, 1.0, 'Count of records in each cluster in Clustered data for Categorical Features')"
      ]
     },
     "execution_count": 219,
     "metadata": {},
     "output_type": "execute_result"
    },
    {
     "data": {
      "image/png": "[encoded data removed]",
      "text/plain": [
       "<Figure size 432x288 with 1 Axes>"
      ]
     },
     "metadata": {},
     "output_type": "display_data"
    }
   ],
   "source": [
    "b = np.hstack(labels_kmode)\n",
    "_ = plt.hist(b)  # arguments are passed to np.histogram\n",
    "plt.title(\"Count of records in each cluster in Clustered data for Categorical Features\")"
   ]
  },
  {
   "cell_type": "code",
   "execution_count": 258,
   "metadata": {},
   "outputs": [
    {
     "data": {
      "text/plain": [
       "(array([0, 1, 2], dtype=uint16), array([241771,  53071,  80943]))"
      ]
     },
     "execution_count": 258,
     "metadata": {},
     "output_type": "execute_result"
    }
   ],
   "source": [
    "np.unique(labels_kprototype, return_counts = True)"
   ]
  },
  {
   "cell_type": "markdown",
   "metadata": {},
   "source": [
    "- \"Count of records in each cluster in Clustered data for all Features\""
   ]
  },
  {
   "cell_type": "code",
   "execution_count": 259,
   "metadata": {},
   "outputs": [
    {
     "data": {
      "text/plain": [
       "Text(0.5, 1.0, 'Count of records in each cluster in Clustered data for all Features')"
      ]
     },
     "execution_count": 259,
     "metadata": {},
     "output_type": "execute_result"
    },
    {
     "data": {
      "image/png": "[encoded data removed]",
      "text/plain": [
       "<Figure size 432x288 with 1 Axes>"
      ]
     },
     "metadata": {},
     "output_type": "display_data"
    }
   ],
   "source": [
    "c= np.hstack(labels_kprototype)\n",
    "_ = plt.hist(c)  # arguments are passed to np.histogram\n",
    "plt.title(\"Count of records in each cluster in Clustered data for all Features\")"
   ]
  },
  {
   "cell_type": "markdown",
   "metadata": {},
   "source": [
    "## Evaluating clustering \n",
    "Silhouette Coefficient or silhouette score is a metric used to calculate the goodness of a clustering technique. Its value ranges from -1 to 1.\n",
    "\n",
    "1: Means clusters are well apart from each other and clearly distinguished.\n",
    "\n",
    "0: Means clusters are indifferent, or we can say that the distance between clusters is not significant.\n",
    "\n",
    "-1: Means clusters are assigned in the wrong way."
   ]
  },
  {
   "cell_type": "code",
   "execution_count": 140,
   "metadata": {},
   "outputs": [
    {
     "name": "stdout",
     "output_type": "stream",
     "text": [
      "silhouette_score: 0.5287655613105677\n"
     ]
    }
   ],
   "source": [
    "from sklearn.metrics.cluster import silhouette_score\n",
    "print('silhouette_score:',metrics.silhouette_score(df_numerical, k_means.labels_))"
   ]
  },
  {
   "cell_type": "markdown",
   "metadata": {},
   "source": [
    "Our silhouette_score is very close to 1 which indicates that our clusters are well apart from each other and clearly distinguished."
   ]
  },
  {
   "cell_type": "markdown",
   "metadata": {},
   "source": [
    "## K Prototype analysis on actual dates."
   ]
  },
  {
   "cell_type": "markdown",
   "metadata": {},
   "source": [
    "### Creating 3 dataframes for each cluster label in K prototype Method."
   ]
  },
  {
   "cell_type": "code",
   "execution_count": 260,
   "metadata": {},
   "outputs": [],
   "source": [
    "#df_new = pd.read_csv('clustered_data.csv')"
   ]
  },
  {
   "cell_type": "code",
   "execution_count": 261,
   "metadata": {},
   "outputs": [
    {
     "data": {
      "text/plain": [
       "Index(['Original_Index', 'Original_Index', 'Make', 'Colour', 'Issue Time',\n",
       "       'Contravention Code', 'Location', 'PA_Details', 'Issue Date',\n",
       "       'Issue Time Decimal', 'clusters_k_means', 'clusters_k_mode',\n",
       "       'clusters_k_prototype'],\n",
       "      dtype='object')"
      ]
     },
     "execution_count": 261,
     "metadata": {},
     "output_type": "execute_result"
    }
   ],
   "source": [
    "df_new.columns"
   ]
  },
  {
   "cell_type": "code",
   "execution_count": 262,
   "metadata": {},
   "outputs": [
    {
     "data": {
      "text/plain": [
       "0         0\n",
       "1         2\n",
       "2         0\n",
       "3         2\n",
       "4         0\n",
       "         ..\n",
       "375780    0\n",
       "375781    2\n",
       "375782    0\n",
       "375783    0\n",
       "375784    2\n",
       "Name: clusters_k_prototype, Length: 375785, dtype: uint16"
      ]
     },
     "execution_count": 262,
     "metadata": {},
     "output_type": "execute_result"
    }
   ],
   "source": [
    "labels_kprot = df_new['clusters_k_prototype']\n",
    "labels_kprot"
   ]
  },
  {
   "cell_type": "code",
   "execution_count": 263,
   "metadata": {},
   "outputs": [
    {
     "data": {
      "text/plain": [
       "((241771, 13), (53071, 13), (80943, 13))"
      ]
     },
     "execution_count": 263,
     "metadata": {},
     "output_type": "execute_result"
    }
   ],
   "source": [
    "cluster1= df_new.loc[df_new['clusters_k_prototype'] == 0]\n",
    "cluster2= df_new.loc[df_new['clusters_k_prototype'] == 1]\n",
    "cluster3= df_new.loc[df_new['clusters_k_prototype'] == 2]\n",
    "cluster1.shape,cluster2.shape,cluster3.shape"
   ]
  },
  {
   "cell_type": "markdown",
   "metadata": {},
   "source": [
    "### Keeping original columns of the dataframe"
   ]
  },
  {
   "cell_type": "code",
   "execution_count": 264,
   "metadata": {},
   "outputs": [
    {
     "data": {
      "text/html": [
       "<div>\n",
       "<style scoped>\n",
       "    .dataframe tbody tr th:only-of-type {\n",
       "        vertical-align: middle;\n",
       "    }\n",
       "\n",
       "    .dataframe tbody tr th {\n",
       "        vertical-align: top;\n",
       "    }\n",
       "\n",
       "    .dataframe thead th {\n",
       "        text-align: right;\n",
       "    }\n",
       "</style>\n",
       "<table border=\"1\" class=\"dataframe\">\n",
       "  <thead>\n",
       "    <tr style=\"text-align: right;\">\n",
       "      <th></th>\n",
       "      <th>Make</th>\n",
       "      <th>Colour</th>\n",
       "      <th>Contravention Code</th>\n",
       "      <th>Location</th>\n",
       "      <th>PA_Details</th>\n",
       "      <th>Issue Date</th>\n",
       "      <th>Issue Time Decimal</th>\n",
       "    </tr>\n",
       "  </thead>\n",
       "  <tbody>\n",
       "    <tr>\n",
       "      <th>0</th>\n",
       "      <td>audi</td>\n",
       "      <td>black</td>\n",
       "      <td>19</td>\n",
       "      <td>Antwerp Way</td>\n",
       "      <td>1500</td>\n",
       "      <td>Q1</td>\n",
       "      <td>9.52</td>\n",
       "    </tr>\n",
       "    <tr>\n",
       "      <th>2</th>\n",
       "      <td>audi</td>\n",
       "      <td>black</td>\n",
       "      <td>12</td>\n",
       "      <td>Ingestre Road</td>\n",
       "      <td>1498</td>\n",
       "      <td>Q1</td>\n",
       "      <td>10.50</td>\n",
       "    </tr>\n",
       "    <tr>\n",
       "      <th>4</th>\n",
       "      <td>audi</td>\n",
       "      <td>black</td>\n",
       "      <td>12</td>\n",
       "      <td>Napier Road E15</td>\n",
       "      <td>1434</td>\n",
       "      <td>Q1</td>\n",
       "      <td>10.50</td>\n",
       "    </tr>\n",
       "    <tr>\n",
       "      <th>7</th>\n",
       "      <td>audi</td>\n",
       "      <td>black</td>\n",
       "      <td>19</td>\n",
       "      <td>Kings Road</td>\n",
       "      <td>1433</td>\n",
       "      <td>Q1</td>\n",
       "      <td>10.50</td>\n",
       "    </tr>\n",
       "    <tr>\n",
       "      <th>8</th>\n",
       "      <td>audi</td>\n",
       "      <td>black</td>\n",
       "      <td>19</td>\n",
       "      <td>Upperton Road West</td>\n",
       "      <td>1522</td>\n",
       "      <td>Q1</td>\n",
       "      <td>10.50</td>\n",
       "    </tr>\n",
       "  </tbody>\n",
       "</table>\n",
       "</div>"
      ],
      "text/plain": [
       "   Make Colour Contravention Code            Location  PA_Details Issue Date  \\\n",
       "0  audi  black                 19         Antwerp Way        1500         Q1   \n",
       "2  audi  black                 12       Ingestre Road        1498         Q1   \n",
       "4  audi  black                 12     Napier Road E15        1434         Q1   \n",
       "7  audi  black                 19          Kings Road        1433         Q1   \n",
       "8  audi  black                 19  Upperton Road West        1522         Q1   \n",
       "\n",
       "   Issue Time Decimal  \n",
       "0                9.52  \n",
       "2               10.50  \n",
       "4               10.50  \n",
       "7               10.50  \n",
       "8               10.50  "
      ]
     },
     "execution_count": 264,
     "metadata": {},
     "output_type": "execute_result"
    }
   ],
   "source": [
    "cluster1 = cluster1[['Make', 'Colour',\n",
    "       'Contravention Code', 'Location', 'PA_Details', 'Issue Date',\n",
    "       'Issue Time Decimal']]\n",
    "cluster2 = cluster2[['Make', 'Colour',\n",
    "       'Contravention Code', 'Location', 'PA_Details', 'Issue Date',\n",
    "       'Issue Time Decimal']]\n",
    "cluster3 = cluster3[['Make', 'Colour',\n",
    "       'Contravention Code', 'Location', 'PA_Details', 'Issue Date',\n",
    "       'Issue Time Decimal']]\n",
    "cluster1.head()"
   ]
  },
  {
   "cell_type": "markdown",
   "metadata": {},
   "source": [
    "### 1. Analysis - \"Make\" \n",
    "\n",
    "No clear grouping of feature 'Make' "
   ]
  },
  {
   "cell_type": "code",
   "execution_count": 265,
   "metadata": {},
   "outputs": [
    {
     "data": {
      "text/plain": [
       "ford            33602\n",
       "mercedes        30157\n",
       "bmw             26343\n",
       "vauxhall        23530\n",
       "volkswagen      23507\n",
       "                ...  \n",
       "leyland             1\n",
       "bedford             1\n",
       "autobianchi         1\n",
       "austin rover        1\n",
       "hyosung             1\n",
       "Name: Make, Length: 115, dtype: int64"
      ]
     },
     "execution_count": 265,
     "metadata": {},
     "output_type": "execute_result"
    }
   ],
   "source": [
    "cluster1['Make'].value_counts()"
   ]
  },
  {
   "cell_type": "code",
   "execution_count": 266,
   "metadata": {},
   "outputs": [
    {
     "data": {
      "text/plain": [
       "ford          6941\n",
       "mercedes      6655\n",
       "bmw           5652\n",
       "vauxhall      5243\n",
       "volkswagen    4867\n",
       "              ... \n",
       "gilera           1\n",
       "mz               1\n",
       "ssang Yong       1\n",
       "lincoln          1\n",
       "noble            1\n",
       "Name: Make, Length: 92, dtype: int64"
      ]
     },
     "execution_count": 266,
     "metadata": {},
     "output_type": "execute_result"
    }
   ],
   "source": [
    "cluster2['Make'].value_counts()"
   ]
  },
  {
   "cell_type": "code",
   "execution_count": 267,
   "metadata": {},
   "outputs": [
    {
     "data": {
      "text/plain": [
       "ford          11599\n",
       "mercedes       9666\n",
       "bmw            8863\n",
       "vauxhall       8152\n",
       "volkswagen     7756\n",
       "              ...  \n",
       "moto guzzi        1\n",
       "american          1\n",
       "aixam             1\n",
       "dennis            1\n",
       "cherokee          1\n",
       "Name: Make, Length: 99, dtype: int64"
      ]
     },
     "execution_count": 267,
     "metadata": {},
     "output_type": "execute_result"
    }
   ],
   "source": [
    "cluster3['Make'].value_counts()"
   ]
  },
  {
   "cell_type": "markdown",
   "metadata": {},
   "source": [
    "### 2. Analysis - \"Colour\" \n",
    "\n",
    "No clear grouping of feature 'Colour' "
   ]
  },
  {
   "cell_type": "code",
   "execution_count": 268,
   "metadata": {},
   "outputs": [
    {
     "data": {
      "text/plain": [
       "black             53336\n",
       "white             44560\n",
       "silver            37127\n",
       "other             34244\n",
       "grey              25343\n",
       "blue              24249\n",
       "red                9742\n",
       "unspecified        8813\n",
       "green              1980\n",
       "yellow              780\n",
       "brown               440\n",
       "gold                254\n",
       "purple              194\n",
       "orange              192\n",
       "cream               144\n",
       "maroon              136\n",
       "beige               123\n",
       "bronze               46\n",
       "burgundy             43\n",
       "pink                 13\n",
       "multi-coloured        5\n",
       "light blue            5\n",
       "mauve                 2\n",
       "Name: Colour, dtype: int64"
      ]
     },
     "execution_count": 268,
     "metadata": {},
     "output_type": "execute_result"
    }
   ],
   "source": [
    "cluster1['Colour'].value_counts()"
   ]
  },
  {
   "cell_type": "code",
   "execution_count": 269,
   "metadata": {},
   "outputs": [
    {
     "data": {
      "text/plain": [
       "black             11505\n",
       "other              9650\n",
       "white              8965\n",
       "silver             7766\n",
       "grey               5715\n",
       "blue               5345\n",
       "red                2111\n",
       "unspecified         938\n",
       "green               429\n",
       "yellow              132\n",
       "orange              100\n",
       "beige                88\n",
       "brown                84\n",
       "gold                 63\n",
       "maroon               56\n",
       "purple               49\n",
       "bronze               41\n",
       "cream                23\n",
       "multi-coloured        5\n",
       "pink                  4\n",
       "light blue            1\n",
       "turquoise             1\n",
       "Name: Colour, dtype: int64"
      ]
     },
     "execution_count": 269,
     "metadata": {},
     "output_type": "execute_result"
    }
   ],
   "source": [
    "cluster2['Colour'].value_counts()"
   ]
  },
  {
   "cell_type": "code",
   "execution_count": 270,
   "metadata": {},
   "outputs": [
    {
     "data": {
      "text/plain": [
       "black          19520\n",
       "white          14485\n",
       "silver         13720\n",
       "grey           10413\n",
       "blue            9152\n",
       "other           5953\n",
       "red             3291\n",
       "unspecified     2193\n",
       "green            926\n",
       "yellow           372\n",
       "brown            252\n",
       "gold             136\n",
       "maroon           115\n",
       "purple            88\n",
       "burgundy          86\n",
       "orange            81\n",
       "cream             66\n",
       "beige             44\n",
       "bronze            39\n",
       "pink               7\n",
       "mauve              3\n",
       "turquoise          1\n",
       "Name: Colour, dtype: int64"
      ]
     },
     "execution_count": 270,
     "metadata": {},
     "output_type": "execute_result"
    }
   ],
   "source": [
    "cluster3['Colour'].value_counts()"
   ]
  },
  {
   "cell_type": "markdown",
   "metadata": {},
   "source": [
    "### 3. Analysis - \"Issue Time\" \n",
    "\n",
    "We have observed a slight grouping of penalties on the basis of Issue Time.  "
   ]
  },
  {
   "cell_type": "code",
   "execution_count": 271,
   "metadata": {},
   "outputs": [
    {
     "data": {
      "text/plain": [
       "9.32    895\n",
       "9.17    877\n",
       "9.42    870\n",
       "9.30    870\n",
       "9.35    865\n",
       "       ... \n",
       "5.07      2\n",
       "5.42      2\n",
       "5.03      1\n",
       "5.33      1\n",
       "5.32      1\n",
       "Name: Issue Time Decimal, Length: 1438, dtype: int64"
      ]
     },
     "execution_count": 271,
     "metadata": {},
     "output_type": "execute_result"
    }
   ],
   "source": [
    "df_new['Issue Time Decimal'].value_counts()"
   ]
  },
  {
   "cell_type": "markdown",
   "metadata": {},
   "source": [
    "From the count of fines in the original dataset, the frequency of fines is high in the office hours i.e. **8am to 5pm.**\n",
    "\n",
    "- Most number of fines are in the morning hours of 8:00am and 9:00am.\n",
    "\n",
    "- The least number of fines are in the early morning i.e. 4:00 am and 5:00 am"
   ]
  },
  {
   "cell_type": "code",
   "execution_count": 272,
   "metadata": {},
   "outputs": [
    {
     "data": {
      "text/plain": [
       "9.38    577\n",
       "9.32    574\n",
       "9.62    570\n",
       "9.33    567\n",
       "9.42    565\n",
       "       ... \n",
       "5.23      1\n",
       "5.32      1\n",
       "5.30      1\n",
       "5.15      1\n",
       "5.42      1\n",
       "Name: Issue Time Decimal, Length: 1436, dtype: int64"
      ]
     },
     "execution_count": 272,
     "metadata": {},
     "output_type": "execute_result"
    }
   ],
   "source": [
    "cluster1['Issue Time Decimal'].value_counts()"
   ]
  },
  {
   "cell_type": "markdown",
   "metadata": {},
   "source": [
    "- Cluster 1 consists of more fines of morning in the office hours i.e. 08:00  to 15:00.\n",
    "\n",
    "- The least number of fines are in the early morning i.e. 4:00 am and 5:00 am"
   ]
  },
  {
   "cell_type": "code",
   "execution_count": 273,
   "metadata": {},
   "outputs": [
    {
     "data": {
      "text/plain": [
       "8.47     139\n",
       "11.82    130\n",
       "9.17     127\n",
       "11.58    119\n",
       "11.78    119\n",
       "        ... \n",
       "5.27       1\n",
       "22.58      1\n",
       "6.08       1\n",
       "4.92       1\n",
       "4.72       1\n",
       "Name: Issue Time Decimal, Length: 1401, dtype: int64"
      ]
     },
     "execution_count": 273,
     "metadata": {},
     "output_type": "execute_result"
    }
   ],
   "source": [
    "cluster2['Issue Time Decimal'].value_counts()"
   ]
  },
  {
   "cell_type": "markdown",
   "metadata": {},
   "source": [
    "- Cluster 2 consists of more fines of morning i.e. before 9:00 am and after 11:00 am and it ranges from 0900 to 1800\n",
    "\n",
    "- The least number of fines are in the early morning i.e. 4:00 am and 5:00 am"
   ]
  },
  {
   "cell_type": "code",
   "execution_count": 274,
   "metadata": {},
   "outputs": [
    {
     "data": {
      "text/plain": [
       "9.40     225\n",
       "9.30     221\n",
       "9.55     217\n",
       "11.87    215\n",
       "11.65    214\n",
       "        ... \n",
       "3.05       1\n",
       "1.72       1\n",
       "22.70      1\n",
       "22.07      1\n",
       "23.32      1\n",
       "Name: Issue Time Decimal, Length: 1063, dtype: int64"
      ]
     },
     "execution_count": 274,
     "metadata": {},
     "output_type": "execute_result"
    }
   ],
   "source": [
    "cluster3['Issue Time Decimal'].value_counts()"
   ]
  },
  {
   "cell_type": "markdown",
   "metadata": {},
   "source": [
    "- Cluster 3 consists of more fines of morning i.e. 0900 - 11:00 am\n"
   ]
  },
  {
   "cell_type": "code",
   "execution_count": null,
   "metadata": {},
   "outputs": [],
   "source": [
    ".cluster_centers_\n",
    "index_center = [[180000],[180000],[180000]]\n",
    "# Plot Clusters and their centers\n",
    "\n",
    "label = k_means.labels_\n",
    "centers = k_means.cluster_centers_\n",
    "\n",
    "plt.figure(figsize=(18,10))\n",
    "plt.scatter(df_numerical['Issue Time Decimal'],df.index,c=labels,s=15)\n",
    "plt.scatter(centers[:,0], index_center, color ='red', marker='X', s=100) \n",
    "plt.xlabel('Issue Time')\n",
    "plt.ylabel('Index')\n",
    "plt.title('K-means')\n",
    "plt.show()"
   ]
  },
  {
   "cell_type": "code",
   "execution_count": 325,
   "metadata": {},
   "outputs": [
    {
     "data": {
      "text/plain": [
       "numpy.ndarray"
      ]
     },
     "execution_count": 325,
     "metadata": {},
     "output_type": "execute_result"
    }
   ],
   "source": [
    "\n",
    "centers_kprot= kprototype.cluster_centroids_[:,1]\n",
    "centers_kprot"
   ]
  },
  {
   "cell_type": "code",
   "execution_count": 1,
   "metadata": {},
   "outputs": [
    {
     "ename": "NameError",
     "evalue": "name 'labels_kprot' is not defined",
     "output_type": "error",
     "traceback": [
      "\u001b[0;31m---------------------------------------------------------------------------\u001b[0m",
      "\u001b[0;31mNameError\u001b[0m                                 Traceback (most recent call last)",
      "\u001b[0;32m/var/folders/dk/9q84mn0j1nzfg85t9zx5d1480000gn/T/ipykernel_92685/2359818335.py\u001b[0m in \u001b[0;36m<module>\u001b[0;34m\u001b[0m\n\u001b[1;32m      1\u001b[0m \u001b[0;31m# Plot Clusters and their centers\u001b[0m\u001b[0;34m\u001b[0m\u001b[0;34m\u001b[0m\u001b[0;34m\u001b[0m\u001b[0m\n\u001b[1;32m      2\u001b[0m \u001b[0;34m\u001b[0m\u001b[0m\n\u001b[0;32m----> 3\u001b[0;31m \u001b[0mlabels\u001b[0m \u001b[0;34m=\u001b[0m \u001b[0mlabels_kprot\u001b[0m\u001b[0;34m\u001b[0m\u001b[0;34m\u001b[0m\u001b[0m\n\u001b[0m\u001b[1;32m      4\u001b[0m \u001b[0;34m\u001b[0m\u001b[0m\n\u001b[1;32m      5\u001b[0m \u001b[0mplt\u001b[0m\u001b[0;34m.\u001b[0m\u001b[0mfigure\u001b[0m\u001b[0;34m(\u001b[0m\u001b[0mfigsize\u001b[0m\u001b[0;34m=\u001b[0m\u001b[0;34m(\u001b[0m\u001b[0;36m18\u001b[0m\u001b[0;34m,\u001b[0m\u001b[0;36m10\u001b[0m\u001b[0;34m)\u001b[0m\u001b[0;34m)\u001b[0m\u001b[0;34m\u001b[0m\u001b[0;34m\u001b[0m\u001b[0m\n",
      "\u001b[0;31mNameError\u001b[0m: name 'labels_kprot' is not defined"
     ]
    }
   ],
   "source": [
    "# Plot Clusters and their centers\n",
    "\n",
    "labels = labels_kprot\n",
    "\n",
    "plt.figure(figsize=(18,10))\n",
    "plt.scatter(df_new['Issue Time Decimal'],df_new.index,c=labels,s=15)\n",
    "#plt.scatter(centers_kprot, index_center, color ='red', marker='X', s=400)\n",
    "\n",
    "plt.xlabel('Issue Time')\n",
    "plt.ylabel('Index')\n",
    "plt.title('K-means')\n",
    "plt.show()"
   ]
  },
  {
   "cell_type": "markdown",
   "metadata": {},
   "source": [
    "- Cluster 3 consists of more fines of morning after 11:00 am\n",
    "\n",
    "- The least number of fines are in the early morning i.e. 4:00 am and 3:00 am"
   ]
  },
  {
   "cell_type": "markdown",
   "metadata": {},
   "source": [
    "### 4. Analysis - \"Contravention Code\" \n",
    "\n",
    "There is no grouping observed on the basis of \"Contravention Code\". \n"
   ]
  },
  {
   "cell_type": "code",
   "execution_count": 276,
   "metadata": {},
   "outputs": [
    {
     "data": {
      "text/plain": [
       "12     132480\n",
       "1       85506\n",
       "19      36409\n",
       "62      18952\n",
       "30      18084\n",
       "        ...  \n",
       "7           1\n",
       "23p         1\n",
       "5u)         1\n",
       "23r         1\n",
       "57          1\n",
       "Name: Contravention Code, Length: 79, dtype: int64"
      ]
     },
     "execution_count": 276,
     "metadata": {},
     "output_type": "execute_result"
    }
   ],
   "source": [
    "df_new['Contravention Code'].value_counts()"
   ]
  },
  {
   "cell_type": "markdown",
   "metadata": {},
   "source": [
    "From the count of fines in the original dataset, the frequency of fines is high with \n",
    "**Contravention Code : 12- 132480**\n",
    "**Contravention Code : 1 - 85506**\n",
    "\n",
    "- Most number of fines are with **Contravention Code : 12** i.e 132480\n",
    "\n",
    "- The least number of fines are with **Contravention Codes : 23p,5u), 23r, 71,57**  - 1 each"
   ]
  },
  {
   "cell_type": "code",
   "execution_count": 277,
   "metadata": {},
   "outputs": [
    {
     "data": {
      "text/plain": [
       "12      86404\n",
       "1       53453\n",
       "19      24402\n",
       "62      13347\n",
       "30      11084\n",
       "        ...  \n",
       "56          1\n",
       "96          1\n",
       "82u)        1\n",
       "23r         1\n",
       "57          1\n",
       "Name: Contravention Code, Length: 72, dtype: int64"
      ]
     },
     "execution_count": 277,
     "metadata": {},
     "output_type": "execute_result"
    }
   ],
   "source": [
    "cluster1['Contravention Code'].value_counts()"
   ]
  },
  {
   "cell_type": "markdown",
   "metadata": {},
   "source": [
    "In Cluster1, dominating Contravention Code is 12 followed by Contravention Code: 1."
   ]
  },
  {
   "cell_type": "code",
   "execution_count": 278,
   "metadata": {},
   "outputs": [
    {
     "data": {
      "text/plain": [
       "12      15272\n",
       "1       12904\n",
       "19       4593\n",
       "25       3774\n",
       "62       3163\n",
       "165      2209\n",
       "30       2132\n",
       "27        905\n",
       "21        895\n",
       "40        808\n",
       "165)      635\n",
       "11u       607\n",
       "01a       573\n",
       "01o       420\n",
       "2         399\n",
       "6         396\n",
       "16        389\n",
       "83        292\n",
       "99        280\n",
       "87        228\n",
       "26        225\n",
       "55        216\n",
       "54        195\n",
       "73u       188\n",
       "92        170\n",
       "47        132\n",
       "48        113\n",
       "01o)      109\n",
       "23g       108\n",
       "11u)       96\n",
       "23c        88\n",
       "14         70\n",
       "73         61\n",
       "91         55\n",
       "45         51\n",
       "86         43\n",
       "5          40\n",
       "82         37\n",
       "61         31\n",
       "05u        30\n",
       "24         26\n",
       "81         20\n",
       "62g        20\n",
       "82u        14\n",
       "95         14\n",
       "62g)       11\n",
       "22          9\n",
       "80          7\n",
       "11          4\n",
       "23          2\n",
       "61g         2\n",
       "28          2\n",
       "4           1\n",
       "23s         1\n",
       "23e         1\n",
       "85          1\n",
       "56          1\n",
       "61g)        1\n",
       "49          1\n",
       "164         1\n",
       "Name: Contravention Code, dtype: int64"
      ]
     },
     "execution_count": 278,
     "metadata": {},
     "output_type": "execute_result"
    }
   ],
   "source": [
    "cluster2['Contravention Code'].value_counts()"
   ]
  },
  {
   "cell_type": "markdown",
   "metadata": {},
   "source": [
    "In Cluster2, dominating Contravention Code is 12 followed by Contravention Code: 1."
   ]
  },
  {
   "cell_type": "code",
   "execution_count": 279,
   "metadata": {},
   "outputs": [
    {
     "data": {
      "text/plain": [
       "12      30804\n",
       "1       19149\n",
       "19       7414\n",
       "30       4868\n",
       "62       2442\n",
       "        ...  \n",
       "164         1\n",
       "23s         1\n",
       "82u)        1\n",
       "23p         1\n",
       "5u)         1\n",
       "Name: Contravention Code, Length: 66, dtype: int64"
      ]
     },
     "execution_count": 279,
     "metadata": {},
     "output_type": "execute_result"
    }
   ],
   "source": [
    "cluster3['Contravention Code'].value_counts()"
   ]
  },
  {
   "cell_type": "markdown",
   "metadata": {},
   "source": [
    "In Cluster3, dominating Contravention Code is 12 followed by Contravention Code: 1."
   ]
  },
  {
   "cell_type": "markdown",
   "metadata": {},
   "source": [
    "## Conclusion\n",
    "\n",
    "### Interesting Observations: \n",
    "\n",
    "\n",
    "- **Issue Time** The frequency of fines is high in the office hours i.e. **8am to 5pm.**\n",
    "   - Most number of fines are in the morning hours of 8:00am and 9:00am.\n",
    "   - The least number of fines are in the early morning i.e. 4:00 am and 5:00 am.\n",
    " \n",
    "\n",
    "----------------\n",
    "\n",
    "- **Contravention Code** - From the count of fines in the original dataset, the frequency of fines is high with \n",
    "**Contravention Code : 12- 132484**\n",
    "**Contravention Code : 1 - 85529**\n",
    "\n",
    "  - Most number of fines are with **Contravention Code : 12** i.e 132490\n",
    "\n",
    "  - The least number of fines are with **Contravention Codes : 7,4,71,57**  - 1 each\n",
    "\n",
    "----------------\n",
    "\n",
    "- **Location** - Most of the fines are conducted at following streets.\n",
    "  \n",
    "   - High Street North    7837\n",
    "\n",
    "   - Barking Road         4585\n",
    "\n",
    "   - Thorpe Road          4049\n",
    "\n",
    "---------------\n",
    "- **Issue Date** - \n",
    "  - Most of the fines are observed at the end of 1st year i.e. quarter 4 (October 2019 - December 2019)\n",
    "\n",
    "\n",
    "\n",
    "---------------- \n",
    "----------------\n",
    "----------------\n",
    "\n",
    "## Cluster Analysis\n",
    "\n",
    "1. **We have observed a very clear segregation of clusters on the basis of Issue Time. Fines occurred at similar times formed their respective groups**\n",
    "\n",
    "- Cluster 1 consists of more fines of morning in the office hours i.e. 08:00  to 15:00.\n",
    "\n",
    "\n",
    "- Cluster 2 consists of more fines of morning i.e. before 9:00 am and after 11:00 am and it ranges from 0900 to 1800\n",
    "\n",
    "\n",
    "- Cluster 3 consists of more fines of morning i.e. 0900 - 11:00 am\n",
    "\n",
    "\n",
    "-----------------\n",
    "\n",
    "2. **We have observed a very clear segregation of clusters on the basis of PA_Details. Fines carried by similar PAs are grouped in similar cluster.**\n",
    "\n",
    "\n",
    "-----------------\n",
    "3. **We have observed a slight grouping in the Location as well.**\n",
    "\n",
    "**Cluster 1 consists of most of the fines occured at following locations:**\n",
    "\n",
    "- High Street North    4576\n",
    "- Barking Road         3397\n",
    "- Westfield Avenue     2665\n",
    "  \n",
    "\n",
    "**Cluster 2 consists of most of the fines occured at following locations:** \n",
    "- Oxford Road            952\n",
    "- Westfield Avenue       810\n",
    "- Clova Road             633\n",
    "\n",
    "\n",
    "**Cluster 3 consists of most of the fines occured at following locations:**\n",
    "- High Street North    2946\n",
    "- Thorpe Road          1870\n",
    "- St. Johns Road E6    1162\n",
    "- Romford Road         1090"
   ]
  },
  {
   "cell_type": "markdown",
   "metadata": {},
   "source": [
    "### 5. Analysis - \"Location\" \n",
    "\n",
    "We have Observed slight better grouping of fines on the basis of Location\n",
    "\n",
    "**Cluster 1 consists of most of the fines occured at following locations:**\n",
    "\n",
    "- High Street North    4576\n",
    "- Barking Road         3397\n",
    "- Westfield Avenue     2665\n",
    "  \n",
    "\n",
    "**Cluster 2 consists of most of the fines occured at following locations:** \n",
    "- Oxford Road            952\n",
    "- Westfield Avenue       810\n",
    "- Clova Road             633\n",
    "\n",
    "\n",
    "**Cluster 3 consists of most of the fines occured at following locations:**\n",
    "- High Street North    2946\n",
    "- Thorpe Road          1870\n",
    "- St. Johns Road E6    1162\n",
    "- Romford Road         1090"
   ]
  },
  {
   "cell_type": "code",
   "execution_count": 280,
   "metadata": {},
   "outputs": [
    {
     "data": {
      "text/plain": [
       "High Street North    7836\n",
       "Barking Road         4585\n",
       "Thorpe Road          4049\n",
       "Kempton Road         3770\n",
       "Westfield Avenue     3688\n",
       "                     ... \n",
       "Neville Road E13        1\n",
       "McDowall Close          1\n",
       "Grebe Close             1\n",
       "Long Wall               1\n",
       "Phoebe Walk             1\n",
       "Name: Location, Length: 1626, dtype: int64"
      ]
     },
     "execution_count": 280,
     "metadata": {},
     "output_type": "execute_result"
    }
   ],
   "source": [
    "df_new['Location'].value_counts()"
   ]
  },
  {
   "cell_type": "markdown",
   "metadata": {},
   "source": [
    "From the count of fines in the original dataset, the frequency of fines is high at following location\n",
    "\n",
    "**High Street North : 7837 fines**\n",
    "\n",
    "**Barking Road : 4585**"
   ]
  },
  {
   "cell_type": "code",
   "execution_count": 281,
   "metadata": {},
   "outputs": [
    {
     "data": {
      "text/plain": [
       "High Street North    4576\n",
       "Barking Road         3397\n",
       "Westfield Avenue     2665\n",
       "Kempton Road         2287\n",
       "Skeffington Road     2175\n",
       "                     ... \n",
       "Spur Road               1\n",
       "Grebe Close             1\n",
       "Long Wall               1\n",
       "Priory Court            1\n",
       "Wooder Gardens          1\n",
       "Name: Location, Length: 1604, dtype: int64"
      ]
     },
     "execution_count": 281,
     "metadata": {},
     "output_type": "execute_result"
    }
   ],
   "source": [
    "cluster1['Location'].value_counts()"
   ]
  },
  {
   "cell_type": "code",
   "execution_count": 282,
   "metadata": {},
   "outputs": [
    {
     "data": {
      "text/plain": [
       "Oxford Road           952\n",
       "Westfield Avenue      810\n",
       "Clova Road            633\n",
       "Broadway              504\n",
       "Burges Road           504\n",
       "                     ... \n",
       "Plaistow Park Road      1\n",
       "Barrington Road         1\n",
       "Boundary Lane           1\n",
       "Silverland Street       1\n",
       "Bridgeland Road         1\n",
       "Name: Location, Length: 1299, dtype: int64"
      ]
     },
     "execution_count": 282,
     "metadata": {},
     "output_type": "execute_result"
    }
   ],
   "source": [
    "cluster2['Location'].value_counts()"
   ]
  },
  {
   "cell_type": "code",
   "execution_count": 283,
   "metadata": {},
   "outputs": [
    {
     "data": {
      "text/plain": [
       "High Street North    2945\n",
       "Thorpe Road          1870\n",
       "St. Johns Road E6    1162\n",
       "Romford Road         1090\n",
       "Kempton Road         1042\n",
       "                     ... \n",
       "Wakerly Close           1\n",
       "Comyns Close            1\n",
       "Emily Street            1\n",
       "Gatcombe Road           1\n",
       "Canterbury Close        1\n",
       "Name: Location, Length: 1457, dtype: int64"
      ]
     },
     "execution_count": 283,
     "metadata": {},
     "output_type": "execute_result"
    }
   ],
   "source": [
    "cluster3['Location'].value_counts()"
   ]
  },
  {
   "cell_type": "markdown",
   "metadata": {},
   "source": [
    "### 6. Analysis - \"PA_Details\" \n",
    "\n",
    "We have observed a very clear segregation of clusters on the basis of PA_Details. Fines carried by similar PAs are grouped in similar cluster. \n",
    "\n",
    "**Cluster 1 consists of most of the fines  by following PA_Details:** \n",
    "\n",
    "**PA_Details : Frequency** \n",
    "- 1468  :  10707\n",
    "- 1466  :   9819\n",
    "- 1456  :   9766\n",
    "- 1453  :   9671\n",
    "\n",
    "**Cluster 2 consists of most of the fines by following PA_Details:**\n",
    "\n",
    "**PA_Details : Frequency** \n",
    "- 1142  :  6729\n",
    "- 1313  :  6518\n",
    "- 1331  :  6417\n",
    "- 1306  :  6195\n",
    "\n",
    "**Cluster 3 consists of most of the fines by following PA_Details:**\n",
    "\n",
    "**PA_Details : Frequency** \n",
    "- 3247  :  5971\n",
    "- 3235  :  4602\n",
    "- 3266  :  4564\n",
    "- 3216  :  3442"
   ]
  },
  {
   "cell_type": "code",
   "execution_count": 284,
   "metadata": {},
   "outputs": [
    {
     "data": {
      "text/plain": [
       "1468    10707\n",
       "1466     9819\n",
       "1456     9766\n",
       "1453     9671\n",
       "1419     9307\n",
       "        ...  \n",
       "9999        3\n",
       "3165        1\n",
       "777         1\n",
       "1460        1\n",
       "3197        1\n",
       "Name: PA_Details, Length: 170, dtype: int64"
      ]
     },
     "execution_count": 284,
     "metadata": {},
     "output_type": "execute_result"
    }
   ],
   "source": [
    "df_new['PA_Details'].value_counts()"
   ]
  },
  {
   "cell_type": "code",
   "execution_count": 285,
   "metadata": {},
   "outputs": [
    {
     "data": {
      "text/plain": [
       "1468    10707\n",
       "1466     9819\n",
       "1456     9766\n",
       "1453     9671\n",
       "1419     9307\n",
       "        ...  \n",
       "1440       33\n",
       "1501       21\n",
       "1483       13\n",
       "1430       11\n",
       "1460        1\n",
       "Name: PA_Details, Length: 80, dtype: int64"
      ]
     },
     "execution_count": 285,
     "metadata": {},
     "output_type": "execute_result"
    }
   ],
   "source": [
    "cluster1['PA_Details'].value_counts()"
   ]
  },
  {
   "cell_type": "code",
   "execution_count": 286,
   "metadata": {},
   "outputs": [
    {
     "data": {
      "text/plain": [
       "1142    6729\n",
       "1313    6518\n",
       "1331    6417\n",
       "1306    6195\n",
       "1278    5396\n",
       "1252    4979\n",
       "1281    4019\n",
       "1145    4010\n",
       "1318    2400\n",
       "1309    2318\n",
       "1146    1268\n",
       "992     1212\n",
       "1351    1031\n",
       "1247     417\n",
       "1035      95\n",
       "1308      66\n",
       "777        1\n",
       "Name: PA_Details, dtype: int64"
      ]
     },
     "execution_count": 286,
     "metadata": {},
     "output_type": "execute_result"
    }
   ],
   "source": [
    "cluster2['PA_Details'].value_counts()"
   ]
  },
  {
   "cell_type": "code",
   "execution_count": 287,
   "metadata": {},
   "outputs": [
    {
     "data": {
      "text/plain": [
       "3247    5971\n",
       "3235    4602\n",
       "3266    4564\n",
       "3216    3442\n",
       "3264    3018\n",
       "        ... \n",
       "3263       5\n",
       "3281       4\n",
       "9999       3\n",
       "3165       1\n",
       "3197       1\n",
       "Name: PA_Details, Length: 73, dtype: int64"
      ]
     },
     "execution_count": 287,
     "metadata": {},
     "output_type": "execute_result"
    }
   ],
   "source": [
    "cluster3['PA_Details'].value_counts()"
   ]
  },
  {
   "cell_type": "markdown",
   "metadata": {},
   "source": [
    "### 7. Analysis - \"Issue Date\" (quarters)\n",
    "\n",
    "\n",
    "We have observed no significant impact of Issue time on grouping."
   ]
  },
  {
   "cell_type": "code",
   "execution_count": 288,
   "metadata": {},
   "outputs": [
    {
     "data": {
      "text/plain": [
       "Q4     41724\n",
       "Q3     39490\n",
       "Q2     38187\n",
       "Q5     37073\n",
       "Q1     34195\n",
       "Q12    34063\n",
       "Q10    32739\n",
       "Q11    32391\n",
       "Q8     25897\n",
       "Q9     25229\n",
       "Q7     20621\n",
       "Q6     14176\n",
       "Name: Issue Date, dtype: int64"
      ]
     },
     "execution_count": 288,
     "metadata": {},
     "output_type": "execute_result"
    }
   ],
   "source": [
    "df_new['Issue Date'].value_counts()"
   ]
  },
  {
   "cell_type": "code",
   "execution_count": 289,
   "metadata": {},
   "outputs": [
    {
     "data": {
      "text/plain": [
       "Q4     26730\n",
       "Q3     25408\n",
       "Q2     24569\n",
       "Q5     23572\n",
       "Q1     22192\n",
       "Q12    22032\n",
       "Q11    20949\n",
       "Q10    20783\n",
       "Q8     16801\n",
       "Q9     16164\n",
       "Q7     13071\n",
       "Q6      9500\n",
       "Name: Issue Date, dtype: int64"
      ]
     },
     "execution_count": 289,
     "metadata": {},
     "output_type": "execute_result"
    }
   ],
   "source": [
    "cluster1['Issue Date'].value_counts()"
   ]
  },
  {
   "cell_type": "code",
   "execution_count": 290,
   "metadata": {},
   "outputs": [
    {
     "data": {
      "text/plain": [
       "Q4     6077\n",
       "Q3     5559\n",
       "Q5     5493\n",
       "Q2     5294\n",
       "Q10    4857\n",
       "Q12    4650\n",
       "Q11    4560\n",
       "Q1     4435\n",
       "Q9     3513\n",
       "Q8     3505\n",
       "Q7     3317\n",
       "Q6     1811\n",
       "Name: Issue Date, dtype: int64"
      ]
     },
     "execution_count": 290,
     "metadata": {},
     "output_type": "execute_result"
    }
   ],
   "source": [
    "cluster2['Issue Date'].value_counts()"
   ]
  },
  {
   "cell_type": "code",
   "execution_count": 291,
   "metadata": {},
   "outputs": [
    {
     "data": {
      "text/plain": [
       "Q4     8917\n",
       "Q3     8523\n",
       "Q2     8324\n",
       "Q5     8008\n",
       "Q1     7568\n",
       "Q12    7381\n",
       "Q10    7099\n",
       "Q11    6882\n",
       "Q8     5591\n",
       "Q9     5552\n",
       "Q7     4233\n",
       "Q6     2865\n",
       "Name: Issue Date, dtype: int64"
      ]
     },
     "execution_count": 291,
     "metadata": {},
     "output_type": "execute_result"
    }
   ],
   "source": [
    "cluster3['Issue Date'].value_counts()"
   ]
  },
  {
   "cell_type": "markdown",
   "metadata": {},
   "source": [
    "## Conclusion\n",
    "\n",
    "### Interesting Observations: \n",
    "\n",
    "\n",
    "- **Issue Time** The frequency of fines is high in the office hours i.e. **8am to 5pm.**\n",
    "   - Most number of fines are in the morning hours of 8:00am and 9:00am.\n",
    "   - The least number of fines are in the early morning i.e. 4:00 am and 5:00 am.\n",
    " \n",
    "\n",
    "----------------\n",
    "\n",
    "- **Contravention Code** - From the count of fines in the original dataset, the frequency of fines is high with \n",
    "**Contravention Code : 12- 132484**\n",
    "**Contravention Code : 1 - 85529**\n",
    "\n",
    "  - Most number of fines are with **Contravention Code : 12** i.e 132490\n",
    "\n",
    "  - The least number of fines are with **Contravention Codes : 7,4,71,57**  - 1 each\n",
    "\n",
    "----------------\n",
    "\n",
    "- **Location** - Most of the fines are conducted at following streets.\n",
    "  \n",
    "   - High Street North    7837\n",
    "\n",
    "   - Barking Road         4585\n",
    "\n",
    "   - Thorpe Road          4049\n",
    "\n",
    "---------------\n",
    "- **Issue Date** - \n",
    "  - Most of the fines are observed at the end of 1st year i.e. quarter 4 (October 2019 - December 2019)\n",
    "\n",
    "\n",
    "\n",
    "---------------- \n",
    "----------------\n",
    "----------------\n",
    "\n",
    "## Cluster Analysis\n",
    "\n",
    "1. **We have observed a very clear segregation of clusters on the basis of Issue Time. Fines occurred at similar times formed their respective groups**\n",
    "\n",
    "- Cluster 1 consists of more fines of morning in the office hours i.e. 08:00  to 15:00.\n",
    "\n",
    "\n",
    "- Cluster 2 consists of more fines of morning i.e. before 9:00 am and after 11:00 am and it ranges from 0900 to 1800\n",
    "\n",
    "\n",
    "- Cluster 3 consists of more fines of morning i.e. 0900 - 11:00 am\n",
    "\n",
    "\n",
    "-----------------\n",
    "\n",
    "2. **We have observed a very clear segregation of clusters on the basis of PA_Details. Fines carried by similar PAs are grouped in similar cluster.**\n",
    "\n",
    "\n",
    "-----------------\n",
    "3. **We have observed a slight grouping in the Location as well.**\n",
    "\n",
    "**Cluster 1 consists of most of the fines occured at following locations:**\n",
    "\n",
    "- High Street North    4576\n",
    "- Barking Road         3397\n",
    "- Westfield Avenue     2665\n",
    "  \n",
    "\n",
    "**Cluster 2 consists of most of the fines occured at following locations:** \n",
    "- Oxford Road            952\n",
    "- Westfield Avenue       810\n",
    "- Clova Road             633\n",
    "\n",
    "\n",
    "**Cluster 3 consists of most of the fines occured at following locations:**\n",
    "- High Street North    2946\n",
    "- Thorpe Road          1870\n",
    "- St. Johns Road E6    1162\n",
    "- Romford Road         1090"
   ]
  },
  {
   "cell_type": "code",
   "execution_count": 397,
   "metadata": {},
   "outputs": [
    {
     "data": {
      "text/html": [
       "<div>\n",
       "<style scoped>\n",
       "    .dataframe tbody tr th:only-of-type {\n",
       "        vertical-align: middle;\n",
       "    }\n",
       "\n",
       "    .dataframe tbody tr th {\n",
       "        vertical-align: top;\n",
       "    }\n",
       "\n",
       "    .dataframe thead th {\n",
       "        text-align: right;\n",
       "    }\n",
       "</style>\n",
       "<table border=\"1\" class=\"dataframe\">\n",
       "  <thead>\n",
       "    <tr style=\"text-align: right;\">\n",
       "      <th></th>\n",
       "      <th>Make</th>\n",
       "      <th>Colour</th>\n",
       "      <th>Issue Time</th>\n",
       "      <th>Contravention Code</th>\n",
       "      <th>Location</th>\n",
       "      <th>PA_Details</th>\n",
       "      <th>Issue Date</th>\n",
       "    </tr>\n",
       "  </thead>\n",
       "  <tbody>\n",
       "    <tr>\n",
       "      <th>0</th>\n",
       "      <td>0</td>\n",
       "      <td>NaN</td>\n",
       "      <td>0:15</td>\n",
       "      <td>1</td>\n",
       "      <td>North Crescent</td>\n",
       "      <td>1485</td>\n",
       "      <td>1/1/19</td>\n",
       "    </tr>\n",
       "    <tr>\n",
       "      <th>1</th>\n",
       "      <td>0</td>\n",
       "      <td>NaN</td>\n",
       "      <td>0:19</td>\n",
       "      <td>16</td>\n",
       "      <td>Anne Street</td>\n",
       "      <td>1456</td>\n",
       "      <td>1/1/19</td>\n",
       "    </tr>\n",
       "    <tr>\n",
       "      <th>2</th>\n",
       "      <td>0</td>\n",
       "      <td>NaN</td>\n",
       "      <td>0:19</td>\n",
       "      <td>25</td>\n",
       "      <td>Celebration Avenue</td>\n",
       "      <td>1252</td>\n",
       "      <td>1/1/19</td>\n",
       "    </tr>\n",
       "    <tr>\n",
       "      <th>3</th>\n",
       "      <td>0</td>\n",
       "      <td>NaN</td>\n",
       "      <td>0:20</td>\n",
       "      <td>01o</td>\n",
       "      <td>Honour Lea Avenue</td>\n",
       "      <td>1313</td>\n",
       "      <td>1/1/19</td>\n",
       "    </tr>\n",
       "    <tr>\n",
       "      <th>4</th>\n",
       "      <td>0</td>\n",
       "      <td>NaN</td>\n",
       "      <td>0:22</td>\n",
       "      <td>62</td>\n",
       "      <td>Warton Road</td>\n",
       "      <td>1456</td>\n",
       "      <td>1/1/19</td>\n",
       "    </tr>\n",
       "  </tbody>\n",
       "</table>\n",
       "</div>"
      ],
      "text/plain": [
       "  Make Colour Issue Time Contravention Code            Location PA_Details  \\\n",
       "0    0    NaN       0:15                  1      North Crescent       1485   \n",
       "1    0    NaN       0:19                 16         Anne Street       1456   \n",
       "2    0    NaN       0:19                 25  Celebration Avenue       1252   \n",
       "3    0    NaN       0:20                01o   Honour Lea Avenue       1313   \n",
       "4    0    NaN       0:22                 62         Warton Road       1456   \n",
       "\n",
       "  Issue Date  \n",
       "0     1/1/19  \n",
       "1     1/1/19  \n",
       "2     1/1/19  \n",
       "3     1/1/19  \n",
       "4     1/1/19  "
      ]
     },
     "execution_count": 397,
     "metadata": {},
     "output_type": "execute_result"
    }
   ],
   "source": [
    "dataframe= pd.read_csv('Project Parking Data 4.csv')\n",
    "dataframe.head()"
   ]
  },
  {
   "cell_type": "code",
   "execution_count": 398,
   "metadata": {},
   "outputs": [
    {
     "data": {
      "text/plain": [
       "(380639, 7)"
      ]
     },
     "execution_count": 398,
     "metadata": {},
     "output_type": "execute_result"
    }
   ],
   "source": [
    "\n",
    "dataframe.shape"
   ]
  },
  {
   "cell_type": "code",
   "execution_count": 399,
   "metadata": {},
   "outputs": [
    {
     "data": {
      "text/plain": [
       "(377034, 7)"
      ]
     },
     "execution_count": 399,
     "metadata": {},
     "output_type": "execute_result"
    }
   ],
   "source": [
    "dataframe.dropna(inplace=True)\n",
    "dataframe.shape"
   ]
  },
  {
   "cell_type": "code",
   "execution_count": 409,
   "metadata": {},
   "outputs": [
    {
     "data": {
      "text/plain": [
       "162     9:31\n",
       "163    10:30\n",
       "164    10:30\n",
       "165    10:30\n",
       "166    10:30\n",
       "Name: Issue Time, dtype: object"
      ]
     },
     "execution_count": 409,
     "metadata": {},
     "output_type": "execute_result"
    }
   ],
   "source": [
    "dataframe['Issue Time'].head()\n"
   ]
  },
  {
   "cell_type": "code",
   "execution_count": 410,
   "metadata": {},
   "outputs": [
    {
     "data": {
      "text/plain": [
       "162        9.516667\n",
       "163       10.500000\n",
       "164       10.500000\n",
       "165       10.500000\n",
       "166       10.500000\n",
       "            ...    \n",
       "380634    15.516667\n",
       "380635    16.416667\n",
       "380636    16.500000\n",
       "380637    17.066667\n",
       "380638    17.133333\n",
       "Name: Issue Time, Length: 377034, dtype: float64"
      ]
     },
     "execution_count": 410,
     "metadata": {},
     "output_type": "execute_result"
    }
   ],
   "source": [
    "dataframe['Issue Time'] = pd.to_timedelta('00:'+dataframe['Issue Time']).dt.total_seconds()/60\n",
    "dataframe['Issue Time']"
   ]
  }
 ],
 "metadata": {
  "interpreter": {
   "hash": "f293f16398db128e85df277de8eb5f9ab0a1b28857fa0f1c8543245825f1b931"
  },
  "kernelspec": {
   "display_name": "Python 3.7.7 ('pythonProject')",
   "language": "python",
   "name": "python3"
  },
  "language_info": {
   "codemirror_mode": {
    "name": "ipython",
    "version": 3
   },
   "file_extension": ".py",
   "mimetype": "text/x-python",
   "name": "python",
   "nbconvert_exporter": "python",
   "pygments_lexer": "ipython3",
   "version": "3.7.7"
  },
  "orig_nbformat": 4
 },
 "nbformat": 4,
 "nbformat_minor": 2
}
