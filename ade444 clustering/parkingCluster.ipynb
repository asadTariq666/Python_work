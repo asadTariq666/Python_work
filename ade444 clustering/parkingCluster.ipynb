{
 "cells": [
  {
   "cell_type": "code",
   "execution_count": 187,
   "metadata": {},
   "outputs": [],
   "source": [
    "# Importing Libraries\n",
    "import pandas as pd \n",
    "import numpy as np\n",
    "import seaborn as sns\n",
    "import matplotlib.pyplot as plt\n",
    "import warnings\n",
    "from sklearn import metrics\n",
    "warnings.simplefilter(\"ignore\")\n"
   ]
  },
  {
   "cell_type": "code",
   "execution_count": 130,
   "metadata": {},
   "outputs": [
    {
     "data": {
      "text/plain": [
       "(380639, 7)"
      ]
     },
     "execution_count": 130,
     "metadata": {},
     "output_type": "execute_result"
    }
   ],
   "source": [
    "## Load Dataset\n",
    "df = pd.read_csv('Project Parking Data 2.csv')\n",
    "\n",
    "df.shape\n"
   ]
  },
  {
   "cell_type": "code",
   "execution_count": 131,
   "metadata": {},
   "outputs": [
    {
     "data": {
      "text/html": [
       "<div>\n",
       "<style scoped>\n",
       "    .dataframe tbody tr th:only-of-type {\n",
       "        vertical-align: middle;\n",
       "    }\n",
       "\n",
       "    .dataframe tbody tr th {\n",
       "        vertical-align: top;\n",
       "    }\n",
       "\n",
       "    .dataframe thead th {\n",
       "        text-align: right;\n",
       "    }\n",
       "</style>\n",
       "<table border=\"1\" class=\"dataframe\">\n",
       "  <thead>\n",
       "    <tr style=\"text-align: right;\">\n",
       "      <th></th>\n",
       "      <th>Make</th>\n",
       "      <th>Colour</th>\n",
       "      <th>Issue Date</th>\n",
       "      <th>Issue Time</th>\n",
       "      <th>Contravention Code</th>\n",
       "      <th>Location</th>\n",
       "      <th>PA_Details</th>\n",
       "    </tr>\n",
       "  </thead>\n",
       "  <tbody>\n",
       "    <tr>\n",
       "      <th>0</th>\n",
       "      <td>0</td>\n",
       "      <td>NaN</td>\n",
       "      <td>q5</td>\n",
       "      <td>11:48</td>\n",
       "      <td>1</td>\n",
       "      <td>Blenheim Road</td>\n",
       "      <td>1464</td>\n",
       "    </tr>\n",
       "    <tr>\n",
       "      <th>1</th>\n",
       "      <td>0</td>\n",
       "      <td>NaN</td>\n",
       "      <td>q5</td>\n",
       "      <td>16:48</td>\n",
       "      <td>12</td>\n",
       "      <td>Geere Road</td>\n",
       "      <td>1464</td>\n",
       "    </tr>\n",
       "    <tr>\n",
       "      <th>2</th>\n",
       "      <td>Ford</td>\n",
       "      <td>Other</td>\n",
       "      <td>q5</td>\n",
       "      <td>13:06</td>\n",
       "      <td>12</td>\n",
       "      <td>Jupp Road West</td>\n",
       "      <td>999</td>\n",
       "    </tr>\n",
       "    <tr>\n",
       "      <th>3</th>\n",
       "      <td>Alfa Romeo</td>\n",
       "      <td>Blue</td>\n",
       "      <td>q5</td>\n",
       "      <td>13:10</td>\n",
       "      <td>2</td>\n",
       "      <td>Aaron Hill Road</td>\n",
       "      <td>999</td>\n",
       "    </tr>\n",
       "    <tr>\n",
       "      <th>4</th>\n",
       "      <td>Alfa Romeo</td>\n",
       "      <td>Bronze</td>\n",
       "      <td>q5</td>\n",
       "      <td>13:13</td>\n",
       "      <td>47</td>\n",
       "      <td>Aaron Hill Road</td>\n",
       "      <td>999</td>\n",
       "    </tr>\n",
       "  </tbody>\n",
       "</table>\n",
       "</div>"
      ],
      "text/plain": [
       "         Make  Colour Issue Date Issue Time Contravention Code  \\\n",
       "0           0     NaN         q5      11:48                  1   \n",
       "1           0     NaN         q5      16:48                 12   \n",
       "2        Ford   Other         q5      13:06                 12   \n",
       "3  Alfa Romeo    Blue         q5      13:10                  2   \n",
       "4  Alfa Romeo  Bronze         q5      13:13                 47   \n",
       "\n",
       "          Location PA_Details  \n",
       "0    Blenheim Road       1464  \n",
       "1       Geere Road       1464  \n",
       "2   Jupp Road West        999  \n",
       "3  Aaron Hill Road        999  \n",
       "4  Aaron Hill Road        999  "
      ]
     },
     "execution_count": 131,
     "metadata": {},
     "output_type": "execute_result"
    }
   ],
   "source": [
    "df.head()"
   ]
  },
  {
   "cell_type": "code",
   "execution_count": 132,
   "metadata": {},
   "outputs": [
    {
     "data": {
      "text/html": [
       "<div>\n",
       "<style scoped>\n",
       "    .dataframe tbody tr th:only-of-type {\n",
       "        vertical-align: middle;\n",
       "    }\n",
       "\n",
       "    .dataframe tbody tr th {\n",
       "        vertical-align: top;\n",
       "    }\n",
       "\n",
       "    .dataframe thead th {\n",
       "        text-align: right;\n",
       "    }\n",
       "</style>\n",
       "<table border=\"1\" class=\"dataframe\">\n",
       "  <thead>\n",
       "    <tr style=\"text-align: right;\">\n",
       "      <th></th>\n",
       "      <th>Make</th>\n",
       "      <th>Colour</th>\n",
       "      <th>Issue Date</th>\n",
       "      <th>Issue Time</th>\n",
       "      <th>Contravention Code</th>\n",
       "      <th>Location</th>\n",
       "      <th>PA_Details</th>\n",
       "    </tr>\n",
       "  </thead>\n",
       "  <tbody>\n",
       "    <tr>\n",
       "      <th>0</th>\n",
       "      <td>0</td>\n",
       "      <td>NaN</td>\n",
       "      <td>q5</td>\n",
       "      <td>11</td>\n",
       "      <td>1</td>\n",
       "      <td>Blenheim Road</td>\n",
       "      <td>1464</td>\n",
       "    </tr>\n",
       "    <tr>\n",
       "      <th>1</th>\n",
       "      <td>0</td>\n",
       "      <td>NaN</td>\n",
       "      <td>q5</td>\n",
       "      <td>16</td>\n",
       "      <td>12</td>\n",
       "      <td>Geere Road</td>\n",
       "      <td>1464</td>\n",
       "    </tr>\n",
       "    <tr>\n",
       "      <th>2</th>\n",
       "      <td>Ford</td>\n",
       "      <td>Other</td>\n",
       "      <td>q5</td>\n",
       "      <td>13</td>\n",
       "      <td>12</td>\n",
       "      <td>Jupp Road West</td>\n",
       "      <td>999</td>\n",
       "    </tr>\n",
       "    <tr>\n",
       "      <th>3</th>\n",
       "      <td>Alfa Romeo</td>\n",
       "      <td>Blue</td>\n",
       "      <td>q5</td>\n",
       "      <td>13</td>\n",
       "      <td>2</td>\n",
       "      <td>Aaron Hill Road</td>\n",
       "      <td>999</td>\n",
       "    </tr>\n",
       "    <tr>\n",
       "      <th>4</th>\n",
       "      <td>Alfa Romeo</td>\n",
       "      <td>Bronze</td>\n",
       "      <td>q5</td>\n",
       "      <td>13</td>\n",
       "      <td>47</td>\n",
       "      <td>Aaron Hill Road</td>\n",
       "      <td>999</td>\n",
       "    </tr>\n",
       "  </tbody>\n",
       "</table>\n",
       "</div>"
      ],
      "text/plain": [
       "         Make  Colour Issue Date Issue Time Contravention Code  \\\n",
       "0           0     NaN         q5         11                  1   \n",
       "1           0     NaN         q5         16                 12   \n",
       "2        Ford   Other         q5         13                 12   \n",
       "3  Alfa Romeo    Blue         q5         13                  2   \n",
       "4  Alfa Romeo  Bronze         q5         13                 47   \n",
       "\n",
       "          Location PA_Details  \n",
       "0    Blenheim Road       1464  \n",
       "1       Geere Road       1464  \n",
       "2   Jupp Road West        999  \n",
       "3  Aaron Hill Road        999  \n",
       "4  Aaron Hill Road        999  "
      ]
     },
     "execution_count": 132,
     "metadata": {},
     "output_type": "execute_result"
    }
   ],
   "source": [
    "df['Issue Time'] = df['Issue Time'].str.split(':').str[0]\n",
    "df.head()\n"
   ]
  },
  {
   "cell_type": "markdown",
   "metadata": {},
   "source": [
    "remove test states from location\n",
    "remove cides with W\n",
    "make 0 is invalid\n"
   ]
  },
  {
   "cell_type": "code",
   "execution_count": 133,
   "metadata": {},
   "outputs": [
    {
     "data": {
      "text/plain": [
       "(136,)"
      ]
     },
     "execution_count": 133,
     "metadata": {},
     "output_type": "execute_result"
    }
   ],
   "source": [
    "df['Contravention Code'].unique().shape"
   ]
  },
  {
   "cell_type": "code",
   "execution_count": 134,
   "metadata": {},
   "outputs": [
    {
     "data": {
      "text/plain": [
       "array(['1', '12', '2', '47', '6', '30', '86', '83', '21', '62', '92',\n",
       "       '165', '01o', '99', '25', '19', '87', '11u', '48', '62g', '01a',\n",
       "       '20', '16', '40', '05u', '27', '61', '82', '55', '85', '26', '23c',\n",
       "       '165)', '80', '01o)', '11u)', 'W12', 'W62', '14', '23', '95',\n",
       "       '23g', '54', '91', '5', '22', '81', '45', '73u', 'W02', '24',\n",
       "       '82u', 'W01', '11', '35', '73', '80u', 'W90', 'W49', 'W23', 'W35',\n",
       "       'W56', '62g)', 'W57', '5u)', '18', '49', '23s', '56', '28', '61g',\n",
       "       '8', 'W91', 'W20', '4', '63', '10', 'W87', '23e', '71', '23p',\n",
       "       'W05', 'W22', '61g)', 'W26', 'W11', 'W82', '89', '70', 'W27',\n",
       "       '232', 'W10', 'W24', 'W54', 'W63', 'W61', 'W99', '96', '43', 'W30',\n",
       "       'W25', '23r', 'W19', 'W92', 'W40', '164', 'W16', '73u)', 'W06',\n",
       "       'W89', 'W45', 'W31', '9', '23d', '36', 'W21', 'W47', 'W08', 'W01A',\n",
       "       'W48', 'W41', 'W46', 'W09', 'W42', '7', 'W04', 'W93', 'W14', 'W83',\n",
       "       'W73', '93', 'W70', 'W55', '57', '82u)', 'W95'], dtype=object)"
      ]
     },
     "execution_count": 134,
     "metadata": {},
     "output_type": "execute_result"
    }
   ],
   "source": [
    "df['Contravention Code'].unique()"
   ]
  },
  {
   "cell_type": "code",
   "execution_count": 135,
   "metadata": {},
   "outputs": [],
   "source": [
    "df = df[~df['Contravention Code'].str.contains('W')]"
   ]
  },
  {
   "cell_type": "code",
   "execution_count": 136,
   "metadata": {},
   "outputs": [],
   "source": [
    "df = df[~df['Location'].str.contains('Test')]"
   ]
  },
  {
   "cell_type": "code",
   "execution_count": 137,
   "metadata": {},
   "outputs": [
    {
     "data": {
      "text/plain": [
       "(81,)"
      ]
     },
     "execution_count": 137,
     "metadata": {},
     "output_type": "execute_result"
    }
   ],
   "source": [
    "df['Contravention Code'].unique().shape"
   ]
  },
  {
   "cell_type": "code",
   "execution_count": 138,
   "metadata": {},
   "outputs": [
    {
     "data": {
      "text/plain": [
       "array(['1', '12', '2', '47', '6', '30', '86', '83', '21', '62', '92',\n",
       "       '165', '01o', '99', '25', '19', '87', '11u', '48', '62g', '01a',\n",
       "       '20', '16', '40', '05u', '27', '61', '82', '55', '85', '26', '23c',\n",
       "       '165)', '80', '01o)', '11u)', '14', '23', '95', '23g', '54', '91',\n",
       "       '5', '22', '81', '45', '73u', '24', '82u', '11', '35', '73', '80u',\n",
       "       '62g)', '5u)', '18', '49', '23s', '56', '28', '61g', '8', '4',\n",
       "       '63', '10', '23e', '71', '23p', '61g)', '89', '232', '43', '23r',\n",
       "       '164', '73u)', '96', '36', '7', '93', '57', '82u)'], dtype=object)"
      ]
     },
     "execution_count": 138,
     "metadata": {},
     "output_type": "execute_result"
    }
   ],
   "source": [
    "df['Contravention Code'].unique()\n"
   ]
  },
  {
   "cell_type": "code",
   "execution_count": 139,
   "metadata": {},
   "outputs": [
    {
     "data": {
      "text/plain": [
       "(81,)"
      ]
     },
     "execution_count": 139,
     "metadata": {},
     "output_type": "execute_result"
    }
   ],
   "source": [
    "df['Contravention Code'].unique().shape"
   ]
  },
  {
   "cell_type": "code",
   "execution_count": 140,
   "metadata": {},
   "outputs": [
    {
     "data": {
      "text/plain": [
       "array(['1', '12', '2', '47', '6', '30', '86', '83', '21', '62', '92',\n",
       "       '165', '01', '99', '25', '19', '87', '11', '48', '20', '16', '40',\n",
       "       '05', '27', '61', '82', '55', '85', '26', '23', '80', '14', '95',\n",
       "       '54', '91', '5', '22', '81', '45', '73', '24', '35', '18', '49',\n",
       "       '56', '28', '8', '4', '63', '10', '71', '89', '232', '43', '164',\n",
       "       '96', '36', '7', '93', '57'], dtype=object)"
      ]
     },
     "execution_count": 140,
     "metadata": {},
     "output_type": "execute_result"
    }
   ],
   "source": [
    "df['Contravention Code']=df['Contravention Code'].str.replace(\"u\",\"\")\n",
    "df['Contravention Code']=df['Contravention Code'].str.replace(\"g\",\"\")\n",
    "df['Contravention Code']=df['Contravention Code'].str.replace(\"a\",\"\")\n",
    "df['Contravention Code']=df['Contravention Code'].str.replace(\"c\",\"\")\n",
    "df['Contravention Code']=df['Contravention Code'].str.replace(\"o\",\"\")\n",
    "df['Contravention Code']=df['Contravention Code'].str.replace(\")\",\"\")\n",
    "df['Contravention Code']=df['Contravention Code'].str.replace(\"d\",\"\")\n",
    "df['Contravention Code']=df['Contravention Code'].str.replace(\"p\",\"\")\n",
    "df['Contravention Code']=df['Contravention Code'].str.replace(\"e\",\"\")\n",
    "df['Contravention Code']=df['Contravention Code'].str.replace(\"s\",\"\")\n",
    "df['Contravention Code']=df['Contravention Code'].str.replace(\"r\",\"\")\n",
    "df['Contravention Code'].unique()"
   ]
  },
  {
   "cell_type": "code",
   "execution_count": 141,
   "metadata": {},
   "outputs": [
    {
     "data": {
      "text/plain": [
       "(60,)"
      ]
     },
     "execution_count": 141,
     "metadata": {},
     "output_type": "execute_result"
    }
   ],
   "source": [
    "df['Contravention Code'].unique().shape"
   ]
  },
  {
   "cell_type": "code",
   "execution_count": 142,
   "metadata": {},
   "outputs": [
    {
     "data": {
      "text/plain": [
       "(379456, 7)"
      ]
     },
     "execution_count": 142,
     "metadata": {},
     "output_type": "execute_result"
    }
   ],
   "source": [
    "df.shape"
   ]
  },
  {
   "cell_type": "code",
   "execution_count": 143,
   "metadata": {},
   "outputs": [
    {
     "data": {
      "text/html": [
       "<div>\n",
       "<style scoped>\n",
       "    .dataframe tbody tr th:only-of-type {\n",
       "        vertical-align: middle;\n",
       "    }\n",
       "\n",
       "    .dataframe tbody tr th {\n",
       "        vertical-align: top;\n",
       "    }\n",
       "\n",
       "    .dataframe thead th {\n",
       "        text-align: right;\n",
       "    }\n",
       "</style>\n",
       "<table border=\"1\" class=\"dataframe\">\n",
       "  <thead>\n",
       "    <tr style=\"text-align: right;\">\n",
       "      <th></th>\n",
       "      <th>Make</th>\n",
       "      <th>Colour</th>\n",
       "      <th>Issue Date</th>\n",
       "      <th>Issue Time</th>\n",
       "      <th>Contravention Code</th>\n",
       "      <th>Location</th>\n",
       "      <th>PA_Details</th>\n",
       "    </tr>\n",
       "  </thead>\n",
       "  <tbody>\n",
       "    <tr>\n",
       "      <th>0</th>\n",
       "      <td>0</td>\n",
       "      <td>NaN</td>\n",
       "      <td>q5</td>\n",
       "      <td>11</td>\n",
       "      <td>1</td>\n",
       "      <td>Blenheim Road</td>\n",
       "      <td>1464</td>\n",
       "    </tr>\n",
       "    <tr>\n",
       "      <th>1</th>\n",
       "      <td>0</td>\n",
       "      <td>NaN</td>\n",
       "      <td>q5</td>\n",
       "      <td>16</td>\n",
       "      <td>12</td>\n",
       "      <td>Geere Road</td>\n",
       "      <td>1464</td>\n",
       "    </tr>\n",
       "    <tr>\n",
       "      <th>2</th>\n",
       "      <td>Ford</td>\n",
       "      <td>Other</td>\n",
       "      <td>q5</td>\n",
       "      <td>13</td>\n",
       "      <td>12</td>\n",
       "      <td>Jupp Road West</td>\n",
       "      <td>999</td>\n",
       "    </tr>\n",
       "    <tr>\n",
       "      <th>3</th>\n",
       "      <td>Alfa Romeo</td>\n",
       "      <td>Blue</td>\n",
       "      <td>q5</td>\n",
       "      <td>13</td>\n",
       "      <td>2</td>\n",
       "      <td>Aaron Hill Road</td>\n",
       "      <td>999</td>\n",
       "    </tr>\n",
       "    <tr>\n",
       "      <th>4</th>\n",
       "      <td>Alfa Romeo</td>\n",
       "      <td>Bronze</td>\n",
       "      <td>q5</td>\n",
       "      <td>13</td>\n",
       "      <td>47</td>\n",
       "      <td>Aaron Hill Road</td>\n",
       "      <td>999</td>\n",
       "    </tr>\n",
       "  </tbody>\n",
       "</table>\n",
       "</div>"
      ],
      "text/plain": [
       "         Make  Colour Issue Date Issue Time Contravention Code  \\\n",
       "0           0     NaN         q5         11                  1   \n",
       "1           0     NaN         q5         16                 12   \n",
       "2        Ford   Other         q5         13                 12   \n",
       "3  Alfa Romeo    Blue         q5         13                  2   \n",
       "4  Alfa Romeo  Bronze         q5         13                 47   \n",
       "\n",
       "          Location PA_Details  \n",
       "0    Blenheim Road       1464  \n",
       "1       Geere Road       1464  \n",
       "2   Jupp Road West        999  \n",
       "3  Aaron Hill Road        999  \n",
       "4  Aaron Hill Road        999  "
      ]
     },
     "execution_count": 143,
     "metadata": {},
     "output_type": "execute_result"
    }
   ],
   "source": [
    "df.head()"
   ]
  },
  {
   "cell_type": "code",
   "execution_count": 144,
   "metadata": {},
   "outputs": [
    {
     "data": {
      "text/plain": [
       "(375880, 7)"
      ]
     },
     "execution_count": 144,
     "metadata": {},
     "output_type": "execute_result"
    }
   ],
   "source": [
    "df.dropna(inplace=True)\n",
    "df.shape"
   ]
  },
  {
   "cell_type": "code",
   "execution_count": 145,
   "metadata": {},
   "outputs": [
    {
     "data": {
      "text/plain": [
       "(375880, 7)"
      ]
     },
     "execution_count": 145,
     "metadata": {},
     "output_type": "execute_result"
    }
   ],
   "source": [
    "df.drop(df.index[df['Make'] == 0], inplace = True)\n",
    "df.shape"
   ]
  },
  {
   "cell_type": "code",
   "execution_count": 219,
   "metadata": {},
   "outputs": [],
   "source": [
    "df['PA_Details']=df['PA_Details'].str.replace(\"PN\",\"\")\n",
    "df['PA_Details']=df['PA_Details'].str.replace(\")\",\"\")\n",
    "df.drop(df.index[df['PA_Details'] == 'icpsadmin'], inplace = True)\n",
    "df.drop(df.index[df['PA_Details'] == '999999999'], inplace = True)"
   ]
  },
  {
   "cell_type": "code",
   "execution_count": 220,
   "metadata": {},
   "outputs": [
    {
     "data": {
      "text/plain": [
       "array(['999', '1438', '3289', '1281', '3287', '1252', '3293', '1309',\n",
       "       '1498', '3301', '1482', '3296', '1381', '1146', '1490', '3216',\n",
       "       '1453', '1458', '1419', '1478', '1481', '1142', '1387', '3302',\n",
       "       '3295', '3303', '3300', '1440', '1313', '1522', '3235', '1418',\n",
       "       '3247', '3292', '3191', '1519', '1456', '1306', '3237', '1499',\n",
       "       '3291', '3299', '1463', '3156', '1278', '3264', '3283', '1434',\n",
       "       '1473', '3225', '1489', '3298', '1468', '1461', '1485', '1442',\n",
       "       '1410', '3266', '1518', '1520', '1523', '1145', '1491', '1351',\n",
       "       '1462', '1454', '1515', '1464', '1516', '1433', '1503', '1506',\n",
       "       '1514', '1517', '1475', '1331', '1508', '1507', '1435', '1409',\n",
       "       '1401', '1486', '3260', '1407', '3269', '1424', '3245', '1484',\n",
       "       '3239', '1466', '3278', '1488', '3229', '3179', '1465', '1247',\n",
       "       '1494', '1521', '1502', '1524', '1505', '1497', '3285', '1492',\n",
       "       '1495', '1493', '3255', '3268', '1447', '1500', '1457', '1035',\n",
       "       '1496', '3272', '3286', '1318', '1510', '992', '3288', '1504',\n",
       "       '1509', '3318', '3326', '3323', '3316', '3319', '1511', '1512',\n",
       "       '3329', '3328', '3324', '3254', '1513', '3327', '3154', '3261',\n",
       "       '3258', '3236', '1308', '1437', '3270', '1483', '3228', '1455',\n",
       "       '3262', '1487', '1432', '3271', '3276', '3275', '1501', '3330',\n",
       "       '3265', '3274', '3273', '3284', '3277', '3205', '1430', '3281',\n",
       "       '3263', '3294', '3290', '3197', '3280', '3317', '9999', '3165',\n",
       "       '3331', '1460', '777'], dtype=object)"
      ]
     },
     "execution_count": 220,
     "metadata": {},
     "output_type": "execute_result"
    }
   ],
   "source": [
    "df['PA_Details'].unique()"
   ]
  },
  {
   "cell_type": "code",
   "execution_count": 221,
   "metadata": {},
   "outputs": [
    {
     "data": {
      "text/html": [
       "<div>\n",
       "<style scoped>\n",
       "    .dataframe tbody tr th:only-of-type {\n",
       "        vertical-align: middle;\n",
       "    }\n",
       "\n",
       "    .dataframe tbody tr th {\n",
       "        vertical-align: top;\n",
       "    }\n",
       "\n",
       "    .dataframe thead th {\n",
       "        text-align: right;\n",
       "    }\n",
       "</style>\n",
       "<table border=\"1\" class=\"dataframe\">\n",
       "  <thead>\n",
       "    <tr style=\"text-align: right;\">\n",
       "      <th></th>\n",
       "      <th>Make</th>\n",
       "      <th>Colour</th>\n",
       "      <th>Issue Date</th>\n",
       "      <th>Issue Time</th>\n",
       "      <th>Contravention Code</th>\n",
       "      <th>Location</th>\n",
       "      <th>PA_Details</th>\n",
       "    </tr>\n",
       "  </thead>\n",
       "  <tbody>\n",
       "    <tr>\n",
       "      <th>2</th>\n",
       "      <td>Ford</td>\n",
       "      <td>Other</td>\n",
       "      <td>Q1Y2</td>\n",
       "      <td>13</td>\n",
       "      <td>12</td>\n",
       "      <td>Jupp Road West</td>\n",
       "      <td>999</td>\n",
       "    </tr>\n",
       "    <tr>\n",
       "      <th>3</th>\n",
       "      <td>Alfa Romeo</td>\n",
       "      <td>Blue</td>\n",
       "      <td>Q1Y2</td>\n",
       "      <td>13</td>\n",
       "      <td>2</td>\n",
       "      <td>Aaron Hill Road</td>\n",
       "      <td>999</td>\n",
       "    </tr>\n",
       "    <tr>\n",
       "      <th>4</th>\n",
       "      <td>Alfa Romeo</td>\n",
       "      <td>Bronze</td>\n",
       "      <td>Q1Y2</td>\n",
       "      <td>13</td>\n",
       "      <td>47</td>\n",
       "      <td>Aaron Hill Road</td>\n",
       "      <td>999</td>\n",
       "    </tr>\n",
       "    <tr>\n",
       "      <th>5</th>\n",
       "      <td>Mercedes Benz</td>\n",
       "      <td>Black</td>\n",
       "      <td>Q1Y2</td>\n",
       "      <td>11</td>\n",
       "      <td>1</td>\n",
       "      <td>Goldsmith Avenue</td>\n",
       "      <td>1438</td>\n",
       "    </tr>\n",
       "    <tr>\n",
       "      <th>6</th>\n",
       "      <td>Volkswagen</td>\n",
       "      <td>Other</td>\n",
       "      <td>Q1Y2</td>\n",
       "      <td>11</td>\n",
       "      <td>1</td>\n",
       "      <td>Shelley Avenue</td>\n",
       "      <td>1438</td>\n",
       "    </tr>\n",
       "    <tr>\n",
       "      <th>7</th>\n",
       "      <td>Toyota</td>\n",
       "      <td>Silver</td>\n",
       "      <td>Q1Y2</td>\n",
       "      <td>12</td>\n",
       "      <td>6</td>\n",
       "      <td>High Street North</td>\n",
       "      <td>1438</td>\n",
       "    </tr>\n",
       "    <tr>\n",
       "      <th>8</th>\n",
       "      <td>Vauxhall</td>\n",
       "      <td>Other</td>\n",
       "      <td>Q1Y2</td>\n",
       "      <td>14</td>\n",
       "      <td>6</td>\n",
       "      <td>Stanley Road E12</td>\n",
       "      <td>1438</td>\n",
       "    </tr>\n",
       "    <tr>\n",
       "      <th>9</th>\n",
       "      <td>Mercedes Benz</td>\n",
       "      <td>Silver</td>\n",
       "      <td>Q1Y2</td>\n",
       "      <td>14</td>\n",
       "      <td>1</td>\n",
       "      <td>Shelley Avenue</td>\n",
       "      <td>1438</td>\n",
       "    </tr>\n",
       "    <tr>\n",
       "      <th>10</th>\n",
       "      <td>Mercedes Benz</td>\n",
       "      <td>Black</td>\n",
       "      <td>Q1Y2</td>\n",
       "      <td>15</td>\n",
       "      <td>6</td>\n",
       "      <td>High Street North</td>\n",
       "      <td>1438</td>\n",
       "    </tr>\n",
       "    <tr>\n",
       "      <th>11</th>\n",
       "      <td>Volkswagen</td>\n",
       "      <td>Other</td>\n",
       "      <td>Q1Y2</td>\n",
       "      <td>16</td>\n",
       "      <td>30</td>\n",
       "      <td>High Street North</td>\n",
       "      <td>1438</td>\n",
       "    </tr>\n",
       "    <tr>\n",
       "      <th>12</th>\n",
       "      <td>Chevrolet</td>\n",
       "      <td>Silver</td>\n",
       "      <td>Q1Y2</td>\n",
       "      <td>8</td>\n",
       "      <td>12</td>\n",
       "      <td>Alexandra Road</td>\n",
       "      <td>3289</td>\n",
       "    </tr>\n",
       "    <tr>\n",
       "      <th>13</th>\n",
       "      <td>Hyundai</td>\n",
       "      <td>Red</td>\n",
       "      <td>Q1Y2</td>\n",
       "      <td>11</td>\n",
       "      <td>1</td>\n",
       "      <td>Lathom Road</td>\n",
       "      <td>1281</td>\n",
       "    </tr>\n",
       "    <tr>\n",
       "      <th>14</th>\n",
       "      <td>BMW</td>\n",
       "      <td>Other</td>\n",
       "      <td>Q1Y2</td>\n",
       "      <td>11</td>\n",
       "      <td>1</td>\n",
       "      <td>Lathom Road</td>\n",
       "      <td>1281</td>\n",
       "    </tr>\n",
       "    <tr>\n",
       "      <th>15</th>\n",
       "      <td>Mercedes Benz</td>\n",
       "      <td>White</td>\n",
       "      <td>Q1Y2</td>\n",
       "      <td>12</td>\n",
       "      <td>1</td>\n",
       "      <td>Park Road E6</td>\n",
       "      <td>1281</td>\n",
       "    </tr>\n",
       "    <tr>\n",
       "      <th>16</th>\n",
       "      <td>Vauxhall</td>\n",
       "      <td>Grey</td>\n",
       "      <td>Q1Y2</td>\n",
       "      <td>14</td>\n",
       "      <td>1</td>\n",
       "      <td>Tudor Road</td>\n",
       "      <td>1281</td>\n",
       "    </tr>\n",
       "    <tr>\n",
       "      <th>17</th>\n",
       "      <td>Mercedes Benz</td>\n",
       "      <td>Grey</td>\n",
       "      <td>Q1Y2</td>\n",
       "      <td>15</td>\n",
       "      <td>1</td>\n",
       "      <td>Raymond Road</td>\n",
       "      <td>1281</td>\n",
       "    </tr>\n",
       "    <tr>\n",
       "      <th>18</th>\n",
       "      <td>Mercedes Benz</td>\n",
       "      <td>Red</td>\n",
       "      <td>Q1Y2</td>\n",
       "      <td>18</td>\n",
       "      <td>1</td>\n",
       "      <td>Redclyffe Road</td>\n",
       "      <td>1281</td>\n",
       "    </tr>\n",
       "    <tr>\n",
       "      <th>19</th>\n",
       "      <td>Ford</td>\n",
       "      <td>Other</td>\n",
       "      <td>Q1Y2</td>\n",
       "      <td>14</td>\n",
       "      <td>1</td>\n",
       "      <td>High Street North</td>\n",
       "      <td>3287</td>\n",
       "    </tr>\n",
       "    <tr>\n",
       "      <th>20</th>\n",
       "      <td>Volkswagen</td>\n",
       "      <td>Silver</td>\n",
       "      <td>Q1Y2</td>\n",
       "      <td>15</td>\n",
       "      <td>86</td>\n",
       "      <td>Madge Gill Way Car Park</td>\n",
       "      <td>3287</td>\n",
       "    </tr>\n",
       "    <tr>\n",
       "      <th>21</th>\n",
       "      <td>Audi</td>\n",
       "      <td>Black</td>\n",
       "      <td>Q1Y2</td>\n",
       "      <td>15</td>\n",
       "      <td>83</td>\n",
       "      <td>Madge Gill Way Car Park</td>\n",
       "      <td>3287</td>\n",
       "    </tr>\n",
       "  </tbody>\n",
       "</table>\n",
       "</div>"
      ],
      "text/plain": [
       "             Make  Colour Issue Date Issue Time Contravention Code  \\\n",
       "2            Ford   Other       Q1Y2         13                 12   \n",
       "3      Alfa Romeo    Blue       Q1Y2         13                  2   \n",
       "4      Alfa Romeo  Bronze       Q1Y2         13                 47   \n",
       "5   Mercedes Benz   Black       Q1Y2         11                  1   \n",
       "6      Volkswagen   Other       Q1Y2         11                  1   \n",
       "7          Toyota  Silver       Q1Y2         12                  6   \n",
       "8        Vauxhall   Other       Q1Y2         14                  6   \n",
       "9   Mercedes Benz  Silver       Q1Y2         14                  1   \n",
       "10  Mercedes Benz   Black       Q1Y2         15                  6   \n",
       "11     Volkswagen   Other       Q1Y2         16                 30   \n",
       "12      Chevrolet  Silver       Q1Y2          8                 12   \n",
       "13        Hyundai     Red       Q1Y2         11                  1   \n",
       "14            BMW   Other       Q1Y2         11                  1   \n",
       "15  Mercedes Benz   White       Q1Y2         12                  1   \n",
       "16       Vauxhall    Grey       Q1Y2         14                  1   \n",
       "17  Mercedes Benz    Grey       Q1Y2         15                  1   \n",
       "18  Mercedes Benz     Red       Q1Y2         18                  1   \n",
       "19           Ford   Other       Q1Y2         14                  1   \n",
       "20     Volkswagen  Silver       Q1Y2         15                 86   \n",
       "21           Audi   Black       Q1Y2         15                 83   \n",
       "\n",
       "                   Location PA_Details  \n",
       "2            Jupp Road West        999  \n",
       "3           Aaron Hill Road        999  \n",
       "4           Aaron Hill Road        999  \n",
       "5          Goldsmith Avenue       1438  \n",
       "6            Shelley Avenue       1438  \n",
       "7         High Street North       1438  \n",
       "8          Stanley Road E12       1438  \n",
       "9            Shelley Avenue       1438  \n",
       "10        High Street North       1438  \n",
       "11        High Street North       1438  \n",
       "12           Alexandra Road       3289  \n",
       "13              Lathom Road       1281  \n",
       "14              Lathom Road       1281  \n",
       "15             Park Road E6       1281  \n",
       "16               Tudor Road       1281  \n",
       "17             Raymond Road       1281  \n",
       "18           Redclyffe Road       1281  \n",
       "19        High Street North       3287  \n",
       "20  Madge Gill Way Car Park       3287  \n",
       "21  Madge Gill Way Car Park       3287  "
      ]
     },
     "execution_count": 221,
     "metadata": {},
     "output_type": "execute_result"
    }
   ],
   "source": [
    "df.head(20)"
   ]
  },
  {
   "cell_type": "code",
   "execution_count": 222,
   "metadata": {},
   "outputs": [
    {
     "data": {
      "text/html": [
       "<div>\n",
       "<style scoped>\n",
       "    .dataframe tbody tr th:only-of-type {\n",
       "        vertical-align: middle;\n",
       "    }\n",
       "\n",
       "    .dataframe tbody tr th {\n",
       "        vertical-align: top;\n",
       "    }\n",
       "\n",
       "    .dataframe thead th {\n",
       "        text-align: right;\n",
       "    }\n",
       "</style>\n",
       "<table border=\"1\" class=\"dataframe\">\n",
       "  <thead>\n",
       "    <tr style=\"text-align: right;\">\n",
       "      <th></th>\n",
       "      <th>Make</th>\n",
       "      <th>Colour</th>\n",
       "      <th>Issue Date</th>\n",
       "      <th>Issue Time</th>\n",
       "      <th>Contravention Code</th>\n",
       "      <th>Location</th>\n",
       "      <th>PA_Details</th>\n",
       "    </tr>\n",
       "  </thead>\n",
       "  <tbody>\n",
       "    <tr>\n",
       "      <th>2</th>\n",
       "      <td>Ford</td>\n",
       "      <td>Other</td>\n",
       "      <td>Q1Y2</td>\n",
       "      <td>13</td>\n",
       "      <td>12</td>\n",
       "      <td>Jupp Road West</td>\n",
       "      <td>999</td>\n",
       "    </tr>\n",
       "    <tr>\n",
       "      <th>3</th>\n",
       "      <td>Alfa Romeo</td>\n",
       "      <td>Blue</td>\n",
       "      <td>Q1Y2</td>\n",
       "      <td>13</td>\n",
       "      <td>2</td>\n",
       "      <td>Aaron Hill Road</td>\n",
       "      <td>999</td>\n",
       "    </tr>\n",
       "    <tr>\n",
       "      <th>4</th>\n",
       "      <td>Alfa Romeo</td>\n",
       "      <td>Bronze</td>\n",
       "      <td>Q1Y2</td>\n",
       "      <td>13</td>\n",
       "      <td>47</td>\n",
       "      <td>Aaron Hill Road</td>\n",
       "      <td>999</td>\n",
       "    </tr>\n",
       "    <tr>\n",
       "      <th>5</th>\n",
       "      <td>Mercedes Benz</td>\n",
       "      <td>Black</td>\n",
       "      <td>Q1Y2</td>\n",
       "      <td>11</td>\n",
       "      <td>1</td>\n",
       "      <td>Goldsmith Avenue</td>\n",
       "      <td>1438</td>\n",
       "    </tr>\n",
       "    <tr>\n",
       "      <th>6</th>\n",
       "      <td>Volkswagen</td>\n",
       "      <td>Other</td>\n",
       "      <td>Q1Y2</td>\n",
       "      <td>11</td>\n",
       "      <td>1</td>\n",
       "      <td>Shelley Avenue</td>\n",
       "      <td>1438</td>\n",
       "    </tr>\n",
       "  </tbody>\n",
       "</table>\n",
       "</div>"
      ],
      "text/plain": [
       "            Make  Colour Issue Date Issue Time Contravention Code  \\\n",
       "2           Ford   Other       Q1Y2         13                 12   \n",
       "3     Alfa Romeo    Blue       Q1Y2         13                  2   \n",
       "4     Alfa Romeo  Bronze       Q1Y2         13                 47   \n",
       "5  Mercedes Benz   Black       Q1Y2         11                  1   \n",
       "6     Volkswagen   Other       Q1Y2         11                  1   \n",
       "\n",
       "           Location PA_Details  \n",
       "2    Jupp Road West        999  \n",
       "3   Aaron Hill Road        999  \n",
       "4   Aaron Hill Road        999  \n",
       "5  Goldsmith Avenue       1438  \n",
       "6    Shelley Avenue       1438  "
      ]
     },
     "execution_count": 222,
     "metadata": {},
     "output_type": "execute_result"
    }
   ],
   "source": [
    "df['Issue Date']=df['Issue Date'].str.replace(\"q1\",\"Q1Y1\")\n",
    "df['Issue Date']=df['Issue Date'].str.replace(\"q2\",\"Q2Y1\")\n",
    "df['Issue Date']=df['Issue Date'].str.replace(\"q3\",\"Q3Y1\")\n",
    "df['Issue Date']=df['Issue Date'].str.replace(\"q4\",\"Q4Y1\")\n",
    "df['Issue Date']=df['Issue Date'].str.replace(\"q5\",\"Q1Y2\")\n",
    "df['Issue Date']=df['Issue Date'].str.replace(\"q6\",\"Q2Y2\")\n",
    "df['Issue Date']=df['Issue Date'].str.replace(\"q7\",\"Q3Y2\")\n",
    "df['Issue Date']=df['Issue Date'].str.replace(\"q8\",\"Q4Y2\")\n",
    "df['Issue Date']=df['Issue Date'].str.replace(\"q9\",\"Q1Y3\")\n",
    "df['Issue Date']=df['Issue Date'].str.replace(\"q10\",\"Q2Y3\")\n",
    "df['Issue Date']=df['Issue Date'].str.replace(\"q11\",\"Q3Y3\")\n",
    "df['Issue Date']=df['Issue Date'].str.replace(\"q12\",\"Q4Y3\")\n",
    "df.head()"
   ]
  },
  {
   "cell_type": "code",
   "execution_count": 234,
   "metadata": {},
   "outputs": [],
   "source": [
    "df.to_csv('Processed.csv')"
   ]
  },
  {
   "cell_type": "code",
   "execution_count": 224,
   "metadata": {},
   "outputs": [],
   "source": [
    "df_categorical = df[['Make','Colour',\t'Issue Date',\t'Location']]\n",
    "df_numerical = df[['Issue Time','Contravention Code','PA_Details']]"
   ]
  },
  {
   "cell_type": "code",
   "execution_count": 225,
   "metadata": {},
   "outputs": [
    {
     "data": {
      "text/plain": [
       "(            Make  Colour Issue Date          Location\n",
       " 2           Ford   Other       Q1Y2    Jupp Road West\n",
       " 3     Alfa Romeo    Blue       Q1Y2   Aaron Hill Road\n",
       " 4     Alfa Romeo  Bronze       Q1Y2   Aaron Hill Road\n",
       " 5  Mercedes Benz   Black       Q1Y2  Goldsmith Avenue\n",
       " 6     Volkswagen   Other       Q1Y2    Shelley Avenue,\n",
       "   Issue Time Contravention Code PA_Details\n",
       " 2         13                 12        999\n",
       " 3         13                  2        999\n",
       " 4         13                 47        999\n",
       " 5         11                  1       1438\n",
       " 6         11                  1       1438)"
      ]
     },
     "execution_count": 225,
     "metadata": {},
     "output_type": "execute_result"
    }
   ],
   "source": [
    "df_categorical.head(), df_numerical.head()"
   ]
  },
  {
   "cell_type": "code",
   "execution_count": 226,
   "metadata": {},
   "outputs": [
    {
     "name": "stdout",
     "output_type": "stream",
     "text": [
      "<class 'pandas.core.frame.DataFrame'>\n",
      "Int64Index: 375869 entries, 2 to 380638\n",
      "Data columns (total 3 columns):\n",
      " #   Column              Non-Null Count   Dtype \n",
      "---  ------              --------------   ----- \n",
      " 0   Issue Time          375869 non-null  object\n",
      " 1   Contravention Code  375869 non-null  object\n",
      " 2   PA_Details          375869 non-null  object\n",
      "dtypes: object(3)\n",
      "memory usage: 11.5+ MB\n"
     ]
    }
   ],
   "source": [
    "df_numerical.info()"
   ]
  },
  {
   "cell_type": "code",
   "execution_count": 227,
   "metadata": {},
   "outputs": [
    {
     "name": "stdout",
     "output_type": "stream",
     "text": [
      "<class 'pandas.core.frame.DataFrame'>\n",
      "Int64Index: 375869 entries, 2 to 380638\n",
      "Data columns (total 3 columns):\n",
      " #   Column              Non-Null Count   Dtype\n",
      "---  ------              --------------   -----\n",
      " 0   Issue Time          375869 non-null  int64\n",
      " 1   Contravention Code  375869 non-null  int64\n",
      " 2   PA_Details          375869 non-null  int64\n",
      "dtypes: int64(3)\n",
      "memory usage: 11.5 MB\n"
     ]
    }
   ],
   "source": [
    "df_numerical['Issue Time']=df_numerical['Issue Time'].astype(str).astype(int)\n",
    "df_numerical['Contravention Code']=df_numerical['Contravention Code'].astype(str).astype(int)\n",
    "df_numerical['PA_Details']=df_numerical['PA_Details'].astype(str).astype(int)\n",
    "\n",
    "df_numerical.info()"
   ]
  },
  {
   "cell_type": "code",
   "execution_count": 236,
   "metadata": {},
   "outputs": [
    {
     "data": {
      "text/plain": [
       "Text(0.5, 1.0, 'Elbow Method For Optimal k')"
      ]
     },
     "execution_count": 236,
     "metadata": {},
     "output_type": "execute_result"
    },
    {
     "data": {
      "image/png": "[encoded data removed]",
      "text/plain": [
       "<Figure size 432x288 with 1 Axes>"
      ]
     },
     "metadata": {
      "needs_background": "light"
     },
     "output_type": "display_data"
    }
   ],
   "source": [
    "#Finding Best k using WSSE \n",
    "from sklearn.cluster import KMeans\n",
    "SS_distances= []\n",
    "I = range(2,10)\n",
    "for i in I:\n",
    "       k_means = KMeans(n_clusters=i)\n",
    "       k_means= k_means.fit(df_numerical)\n",
    "       SS_distances.append(k_means.inertia_)\n",
    "   \n",
    "centers = k_means.cluster_centers_\n",
    "\n",
    "# plotting SSE distances (for each point to the nearest Center) versus number of k \n",
    "plt.plot(I, SS_distances, 'bx-')\n",
    "plt.xlabel('k')\n",
    "plt.ylabel('SS of Distances')\n",
    "plt.title('Elbow Method For Optimal k')"
   ]
  },
  {
   "cell_type": "code",
   "execution_count": 237,
   "metadata": {},
   "outputs": [
    {
     "data": {
      "text/plain": [
       "(array([0, 1, 2], dtype=int32), array([ 80952, 241777,  53140]))"
      ]
     },
     "execution_count": 237,
     "metadata": {},
     "output_type": "execute_result"
    }
   ],
   "source": [
    "k_means = KMeans(n_clusters=3)\n",
    "k_means= k_means.fit(df_numerical)\n",
    "labels = k_means.labels_\n",
    "np.unique(labels, return_counts=True)"
   ]
  },
  {
   "cell_type": "code",
   "execution_count": 238,
   "metadata": {},
   "outputs": [],
   "source": [
    "centers=k_means.cluster_centers_"
   ]
  },
  {
   "cell_type": "code",
   "execution_count": 239,
   "metadata": {},
   "outputs": [
    {
     "data": {
      "image/png": "[encoded data removed]",
      "text/plain": [
       "<Figure size 720x720 with 1 Axes>"
      ]
     },
     "metadata": {
      "needs_background": "light"
     },
     "output_type": "display_data"
    }
   ],
   "source": [
    "# Plot Clusters and their centers\n",
    "\n",
    "label = k_means.labels_\n",
    "centers = k_means.cluster_centers_\n",
    "\n",
    "plt.figure(figsize=(10,10))\n",
    "plt.scatter(df_numerical['Issue Time'],df_numerical['Contravention Code'],c=labels,s=15)\n",
    "plt.scatter(centers[:,0], centers[:,1], color ='red', marker='+', s=100) \n",
    "plt.xlabel('Issue Time')\n",
    "plt.ylabel('Contravention Code')\n",
    "plt.title('K-means')\n",
    "plt.show()"
   ]
  },
  {
   "cell_type": "code",
   "execution_count": 240,
   "metadata": {},
   "outputs": [
    {
     "data": {
      "image/png": "[encoded data removed]",
      "text/plain": [
       "<Figure size 720x720 with 1 Axes>"
      ]
     },
     "metadata": {
      "needs_background": "light"
     },
     "output_type": "display_data"
    }
   ],
   "source": [
    "\n",
    "\n",
    "# Plot Clusters and their centers\n",
    "\n",
    "label = k_means.labels_\n",
    "centers = k_means.cluster_centers_\n",
    "\n",
    "plt.figure(figsize=(10,10))\n",
    "plt.scatter(df_numerical['PA_Details'],df_numerical['Issue Time'],c=labels,s=15)\n",
    "plt.scatter(centers[:,0], centers[:,1], color ='red', marker='+', s=100) \n",
    "plt.xlabel('PA_Details')\n",
    "plt.ylabel('Issue Time')\n",
    "plt.title('K-means')\n",
    "plt.show()"
   ]
  },
  {
   "cell_type": "code",
   "execution_count": 241,
   "metadata": {},
   "outputs": [
    {
     "data": {
      "image/png": "[encoded data removed]",
      "text/plain": [
       "<Figure size 720x720 with 1 Axes>"
      ]
     },
     "metadata": {
      "needs_background": "light"
     },
     "output_type": "display_data"
    }
   ],
   "source": [
    "# Plot Clusters and their centers\n",
    "\n",
    "label = k_means.labels_\n",
    "centers = k_means.cluster_centers_\n",
    "\n",
    "plt.figure(figsize=(10,10))\n",
    "plt.scatter(df_numerical['PA_Details'],df_numerical['Contravention Code'],c=labels,s=15)\n",
    "plt.scatter(centers[:,0], centers[:,1], color ='red', marker='+', s=100) \n",
    "plt.xlabel('PA_Details')\n",
    "plt.ylabel('Contravention Code')\n",
    "plt.title('K-means')\n",
    "plt.show()"
   ]
  },
  {
   "cell_type": "code",
   "execution_count": 242,
   "metadata": {},
   "outputs": [
    {
     "data": {
      "text/html": [
       "<div>\n",
       "<style scoped>\n",
       "    .dataframe tbody tr th:only-of-type {\n",
       "        vertical-align: middle;\n",
       "    }\n",
       "\n",
       "    .dataframe tbody tr th {\n",
       "        vertical-align: top;\n",
       "    }\n",
       "\n",
       "    .dataframe thead th {\n",
       "        text-align: right;\n",
       "    }\n",
       "</style>\n",
       "<table border=\"1\" class=\"dataframe\">\n",
       "  <thead>\n",
       "    <tr style=\"text-align: right;\">\n",
       "      <th></th>\n",
       "      <th>Issue Time</th>\n",
       "      <th>Contravention Code</th>\n",
       "      <th>PA_Details</th>\n",
       "    </tr>\n",
       "  </thead>\n",
       "  <tbody>\n",
       "    <tr>\n",
       "      <th>2</th>\n",
       "      <td>13</td>\n",
       "      <td>12</td>\n",
       "      <td>999</td>\n",
       "    </tr>\n",
       "    <tr>\n",
       "      <th>3</th>\n",
       "      <td>13</td>\n",
       "      <td>2</td>\n",
       "      <td>999</td>\n",
       "    </tr>\n",
       "    <tr>\n",
       "      <th>4</th>\n",
       "      <td>13</td>\n",
       "      <td>47</td>\n",
       "      <td>999</td>\n",
       "    </tr>\n",
       "    <tr>\n",
       "      <th>5</th>\n",
       "      <td>11</td>\n",
       "      <td>1</td>\n",
       "      <td>1438</td>\n",
       "    </tr>\n",
       "    <tr>\n",
       "      <th>6</th>\n",
       "      <td>11</td>\n",
       "      <td>1</td>\n",
       "      <td>1438</td>\n",
       "    </tr>\n",
       "  </tbody>\n",
       "</table>\n",
       "</div>"
      ],
      "text/plain": [
       "   Issue Time  Contravention Code  PA_Details\n",
       "2          13                  12         999\n",
       "3          13                   2         999\n",
       "4          13                  47         999\n",
       "5          11                   1        1438\n",
       "6          11                   1        1438"
      ]
     },
     "execution_count": 242,
     "metadata": {},
     "output_type": "execute_result"
    }
   ],
   "source": [
    "df_numerical.head()"
   ]
  },
  {
   "cell_type": "code",
   "execution_count": 245,
   "metadata": {},
   "outputs": [
    {
     "data": {
      "text/html": [
       "<div>\n",
       "<style scoped>\n",
       "    .dataframe tbody tr th:only-of-type {\n",
       "        vertical-align: middle;\n",
       "    }\n",
       "\n",
       "    .dataframe tbody tr th {\n",
       "        vertical-align: top;\n",
       "    }\n",
       "\n",
       "    .dataframe thead th {\n",
       "        text-align: right;\n",
       "    }\n",
       "</style>\n",
       "<table border=\"1\" class=\"dataframe\">\n",
       "  <thead>\n",
       "    <tr style=\"text-align: right;\">\n",
       "      <th></th>\n",
       "      <th>Issue Time</th>\n",
       "      <th>Contravention Code</th>\n",
       "      <th>PA_Details</th>\n",
       "    </tr>\n",
       "  </thead>\n",
       "  <tbody>\n",
       "    <tr>\n",
       "      <th>2</th>\n",
       "      <td>13</td>\n",
       "      <td>12</td>\n",
       "      <td>999</td>\n",
       "    </tr>\n",
       "    <tr>\n",
       "      <th>3</th>\n",
       "      <td>13</td>\n",
       "      <td>2</td>\n",
       "      <td>999</td>\n",
       "    </tr>\n",
       "    <tr>\n",
       "      <th>4</th>\n",
       "      <td>13</td>\n",
       "      <td>47</td>\n",
       "      <td>999</td>\n",
       "    </tr>\n",
       "    <tr>\n",
       "      <th>5</th>\n",
       "      <td>11</td>\n",
       "      <td>1</td>\n",
       "      <td>1438</td>\n",
       "    </tr>\n",
       "    <tr>\n",
       "      <th>6</th>\n",
       "      <td>11</td>\n",
       "      <td>1</td>\n",
       "      <td>1438</td>\n",
       "    </tr>\n",
       "    <tr>\n",
       "      <th>...</th>\n",
       "      <td>...</td>\n",
       "      <td>...</td>\n",
       "      <td>...</td>\n",
       "    </tr>\n",
       "    <tr>\n",
       "      <th>380634</th>\n",
       "      <td>12</td>\n",
       "      <td>1</td>\n",
       "      <td>1498</td>\n",
       "    </tr>\n",
       "    <tr>\n",
       "      <th>380635</th>\n",
       "      <td>12</td>\n",
       "      <td>1</td>\n",
       "      <td>1498</td>\n",
       "    </tr>\n",
       "    <tr>\n",
       "      <th>380636</th>\n",
       "      <td>12</td>\n",
       "      <td>12</td>\n",
       "      <td>1498</td>\n",
       "    </tr>\n",
       "    <tr>\n",
       "      <th>380637</th>\n",
       "      <td>12</td>\n",
       "      <td>165</td>\n",
       "      <td>1498</td>\n",
       "    </tr>\n",
       "    <tr>\n",
       "      <th>380638</th>\n",
       "      <td>13</td>\n",
       "      <td>1</td>\n",
       "      <td>1498</td>\n",
       "    </tr>\n",
       "  </tbody>\n",
       "</table>\n",
       "<p>375869 rows × 3 columns</p>\n",
       "</div>"
      ],
      "text/plain": [
       "        Issue Time  Contravention Code  PA_Details\n",
       "2               13                  12         999\n",
       "3               13                   2         999\n",
       "4               13                  47         999\n",
       "5               11                   1        1438\n",
       "6               11                   1        1438\n",
       "...            ...                 ...         ...\n",
       "380634          12                   1        1498\n",
       "380635          12                   1        1498\n",
       "380636          12                  12        1498\n",
       "380637          12                 165        1498\n",
       "380638          13                   1        1498\n",
       "\n",
       "[375869 rows x 3 columns]"
      ]
     },
     "execution_count": 245,
     "metadata": {},
     "output_type": "execute_result"
    }
   ],
   "source": [
    "df_numerical.iloc[:,0:3]"
   ]
  },
  {
   "cell_type": "code",
   "execution_count": 246,
   "metadata": {},
   "outputs": [
    {
     "data": {
      "text/html": [
       "<div>\n",
       "<style scoped>\n",
       "    .dataframe tbody tr th:only-of-type {\n",
       "        vertical-align: middle;\n",
       "    }\n",
       "\n",
       "    .dataframe tbody tr th {\n",
       "        vertical-align: top;\n",
       "    }\n",
       "\n",
       "    .dataframe thead th {\n",
       "        text-align: right;\n",
       "    }\n",
       "</style>\n",
       "<table border=\"1\" class=\"dataframe\">\n",
       "  <thead>\n",
       "    <tr style=\"text-align: right;\">\n",
       "      <th></th>\n",
       "      <th>Issue Time</th>\n",
       "      <th>Contravention Code</th>\n",
       "      <th>PA_Details</th>\n",
       "      <th>clusters_k_means</th>\n",
       "    </tr>\n",
       "  </thead>\n",
       "  <tbody>\n",
       "    <tr>\n",
       "      <th>2</th>\n",
       "      <td>13</td>\n",
       "      <td>12</td>\n",
       "      <td>999</td>\n",
       "      <td>2</td>\n",
       "    </tr>\n",
       "    <tr>\n",
       "      <th>3</th>\n",
       "      <td>13</td>\n",
       "      <td>2</td>\n",
       "      <td>999</td>\n",
       "      <td>2</td>\n",
       "    </tr>\n",
       "    <tr>\n",
       "      <th>4</th>\n",
       "      <td>13</td>\n",
       "      <td>47</td>\n",
       "      <td>999</td>\n",
       "      <td>2</td>\n",
       "    </tr>\n",
       "    <tr>\n",
       "      <th>5</th>\n",
       "      <td>11</td>\n",
       "      <td>1</td>\n",
       "      <td>1438</td>\n",
       "      <td>1</td>\n",
       "    </tr>\n",
       "    <tr>\n",
       "      <th>6</th>\n",
       "      <td>11</td>\n",
       "      <td>1</td>\n",
       "      <td>1438</td>\n",
       "      <td>1</td>\n",
       "    </tr>\n",
       "  </tbody>\n",
       "</table>\n",
       "</div>"
      ],
      "text/plain": [
       "   Issue Time  Contravention Code  PA_Details  clusters_k_means\n",
       "2          13                  12         999                 2\n",
       "3          13                   2         999                 2\n",
       "4          13                  47         999                 2\n",
       "5          11                   1        1438                 1\n",
       "6          11                   1        1438                 1"
      ]
     },
     "execution_count": 246,
     "metadata": {},
     "output_type": "execute_result"
    }
   ],
   "source": [
    "df_numerical['clusters_k_means'] = labels\n",
    "df_numerical.head()"
   ]
  },
  {
   "cell_type": "code",
   "execution_count": 250,
   "metadata": {},
   "outputs": [
    {
     "data": {
      "image/png": "[encoded data removed]",
      "text/plain": [
       "<Figure size 1440x576 with 1 Axes>"
      ]
     },
     "metadata": {
      "needs_background": "light"
     },
     "output_type": "display_data"
    }
   ],
   "source": [
    "from sklearn.decomposition import PCA\n",
    "pca_num_components = 2\n",
    "\n",
    "reduced_data = PCA(n_components=pca_num_components).fit_transform(df_numerical.iloc[:,0:3])\n",
    "results = pd.DataFrame(reduced_data,columns=['pca1','pca2'])\n",
    "plt.figure(figsize=(20,8))\n",
    "sns.scatterplot(x=\"pca1\", y=\"pca2\", hue=df_numerical['clusters_k_means'], data=results)\n",
    "plt.title('K-means Clustering with 2 dimensions')\n",
    "plt.show()"
   ]
  },
  {
   "cell_type": "code",
   "execution_count": 243,
   "metadata": {},
   "outputs": [
    {
     "data": {
      "text/plain": [
       "Text(0.5, 0, 'PA_Details')"
      ]
     },
     "execution_count": 243,
     "metadata": {},
     "output_type": "execute_result"
    },
    {
     "data": {
      "image/png": "[encoded data removed]",
      "text/plain": [
       "<Figure size 576x432 with 1 Axes>"
      ]
     },
     "metadata": {
      "needs_background": "light"
     },
     "output_type": "display_data"
    }
   ],
   "source": [
    "# Visualizing 3-D numeric data with Scatter Plots\n",
    "# length, breadth and depth\n",
    "fig = plt.figure(figsize=(8, 6))\n",
    "ax = fig.add_subplot(111, projection='3d')\n",
    "\n",
    "xs = df_numerical['Issue Time']\n",
    "ys = df_numerical['Contravention Code']\n",
    "zs = df_numerical['PA_Details']\n",
    "ax.scatter(xs, ys, zs, s=50, alpha=0.6, edgecolors='w')\n",
    "\n",
    "ax.set_xlabel('Issue Time')\n",
    "ax.set_ylabel('Contravention Code')\n",
    "ax.set_zlabel('PA_Details')"
   ]
  },
  {
   "cell_type": "code",
   "execution_count": 253,
   "metadata": {},
   "outputs": [],
   "source": [
    "# Import module for k-protoype cluster\n",
    "from kmodes.kmodes import KModes"
   ]
  },
  {
   "cell_type": "code",
   "execution_count": 254,
   "metadata": {},
   "outputs": [
    {
     "data": {
      "text/html": [
       "<div>\n",
       "<style scoped>\n",
       "    .dataframe tbody tr th:only-of-type {\n",
       "        vertical-align: middle;\n",
       "    }\n",
       "\n",
       "    .dataframe tbody tr th {\n",
       "        vertical-align: top;\n",
       "    }\n",
       "\n",
       "    .dataframe thead th {\n",
       "        text-align: right;\n",
       "    }\n",
       "</style>\n",
       "<table border=\"1\" class=\"dataframe\">\n",
       "  <thead>\n",
       "    <tr style=\"text-align: right;\">\n",
       "      <th></th>\n",
       "      <th>Make</th>\n",
       "      <th>Colour</th>\n",
       "      <th>Issue Date</th>\n",
       "      <th>Location</th>\n",
       "    </tr>\n",
       "  </thead>\n",
       "  <tbody>\n",
       "    <tr>\n",
       "      <th>2</th>\n",
       "      <td>Ford</td>\n",
       "      <td>Other</td>\n",
       "      <td>Q1Y2</td>\n",
       "      <td>Jupp Road West</td>\n",
       "    </tr>\n",
       "    <tr>\n",
       "      <th>3</th>\n",
       "      <td>Alfa Romeo</td>\n",
       "      <td>Blue</td>\n",
       "      <td>Q1Y2</td>\n",
       "      <td>Aaron Hill Road</td>\n",
       "    </tr>\n",
       "    <tr>\n",
       "      <th>4</th>\n",
       "      <td>Alfa Romeo</td>\n",
       "      <td>Bronze</td>\n",
       "      <td>Q1Y2</td>\n",
       "      <td>Aaron Hill Road</td>\n",
       "    </tr>\n",
       "    <tr>\n",
       "      <th>5</th>\n",
       "      <td>Mercedes Benz</td>\n",
       "      <td>Black</td>\n",
       "      <td>Q1Y2</td>\n",
       "      <td>Goldsmith Avenue</td>\n",
       "    </tr>\n",
       "    <tr>\n",
       "      <th>6</th>\n",
       "      <td>Volkswagen</td>\n",
       "      <td>Other</td>\n",
       "      <td>Q1Y2</td>\n",
       "      <td>Shelley Avenue</td>\n",
       "    </tr>\n",
       "  </tbody>\n",
       "</table>\n",
       "</div>"
      ],
      "text/plain": [
       "            Make  Colour Issue Date          Location\n",
       "2           Ford   Other       Q1Y2    Jupp Road West\n",
       "3     Alfa Romeo    Blue       Q1Y2   Aaron Hill Road\n",
       "4     Alfa Romeo  Bronze       Q1Y2   Aaron Hill Road\n",
       "5  Mercedes Benz   Black       Q1Y2  Goldsmith Avenue\n",
       "6     Volkswagen   Other       Q1Y2    Shelley Avenue"
      ]
     },
     "execution_count": 254,
     "metadata": {},
     "output_type": "execute_result"
    }
   ],
   "source": [
    "df_categorical.head()"
   ]
  },
  {
   "cell_type": "code",
   "execution_count": 263,
   "metadata": {},
   "outputs": [
    {
     "name": "stdout",
     "output_type": "stream",
     "text": [
      "Cluster initiation: 1\n",
      "Cluster initiation: 2\n",
      "Cluster initiation: 3\n",
      "Cluster initiation: 4\n",
      "Cluster initiation: 5\n",
      "Cluster initiation: 6\n",
      "Cluster initiation: 7\n",
      "Cluster initiation: 8\n",
      "Cluster initiation: 9\n"
     ]
    }
   ],
   "source": [
    "# Choosing optimal K\n",
    "cost = []\n",
    "for cluster in range(1, 10):\n",
    "    try:\n",
    "        kmodes = KModes(n_clusters = cluster)\n",
    "        kmodes.fit_predict(df_categorical)\n",
    "        cost.append(kmodes.cost_)\n",
    "        print('Cluster initiation: {}'.format(cluster))\n",
    "    except:\n",
    "        break\n",
    "# Converting the results into a dataframe and plotting them\n",
    "df_cost = pd.DataFrame({'Cluster': range(1, 10), 'Cost': cost})"
   ]
  },
  {
   "cell_type": "code",
   "execution_count": 261,
   "metadata": {},
   "outputs": [],
   "source": [
    "# Import module for data visualization\n",
    "from plotnine import *\n",
    "import plotnine\n",
    "# Data visualization with matplotlib\n",
    "import matplotlib.pyplot as plt\n",
    "# Use the theme of ggplot\n",
    "plt.style.use('ggplot')"
   ]
  },
  {
   "cell_type": "code",
   "execution_count": 264,
   "metadata": {},
   "outputs": [
    {
     "data": {
      "image/png": "[encoded data removed]",
      "text/plain": [
       "<Figure size 800x480 with 1 Axes>"
      ]
     },
     "metadata": {
      "needs_background": "light"
     },
     "output_type": "display_data"
    },
    {
     "data": {
      "text/plain": [
       "<ggplot: (8764603820653)>"
      ]
     },
     "execution_count": 264,
     "metadata": {},
     "output_type": "execute_result"
    }
   ],
   "source": [
    "\n",
    "# Data viz\n",
    "plotnine.options.figure_size = (8, 4.8)\n",
    "(\n",
    "    ggplot(data = df_cost)+\n",
    "    geom_line(aes(x = 'Cluster',\n",
    "                  y = 'Cost'))+\n",
    "    geom_point(aes(x = 'Cluster',\n",
    "                   y = 'Cost'))+\n",
    "    geom_label(aes(x = 'Cluster',\n",
    "                   y = 'Cost',\n",
    "                   label = 'Cluster'),\n",
    "               size = 10,\n",
    "               nudge_y = 1000) +\n",
    "    labs(title = 'Optimal number of cluster with Elbow Method')+\n",
    "    xlab('Number of Clusters k')+\n",
    "    ylab('Cost')+\n",
    "    theme_minimal()\n",
    ")"
   ]
  },
  {
   "cell_type": "code",
   "execution_count": 266,
   "metadata": {},
   "outputs": [],
   "source": [
    "kmodes = KModes(n_clusters = 4)\n",
    "kmodes.fit_predict(df_categorical)\n",
    "cost=kmodes.cost_\n",
    "labels_kmode = kmodes.labels_"
   ]
  },
  {
   "cell_type": "code",
   "execution_count": 267,
   "metadata": {},
   "outputs": [
    {
     "data": {
      "text/plain": [
       "array([3, 3, 3, ..., 0, 1, 1], dtype=uint16)"
      ]
     },
     "execution_count": 267,
     "metadata": {},
     "output_type": "execute_result"
    }
   ],
   "source": [
    "labels_kmode"
   ]
  },
  {
   "cell_type": "code",
   "execution_count": 268,
   "metadata": {},
   "outputs": [
    {
     "data": {
      "text/plain": [
       "(array([0, 1, 2, 3], dtype=uint16), array([183856,  86006,  61542,  44465]))"
      ]
     },
     "execution_count": 268,
     "metadata": {},
     "output_type": "execute_result"
    }
   ],
   "source": [
    "np.unique(labels_kmode, return_counts = True)"
   ]
  }
 ],
 "metadata": {
  "interpreter": {
   "hash": "f293f16398db128e85df277de8eb5f9ab0a1b28857fa0f1c8543245825f1b931"
  },
  "kernelspec": {
   "display_name": "Python 3.7.7 ('pythonProject')",
   "language": "python",
   "name": "python3"
  },
  "language_info": {
   "codemirror_mode": {
    "name": "ipython",
    "version": 3
   },
   "file_extension": ".py",
   "mimetype": "text/x-python",
   "name": "python",
   "nbconvert_exporter": "python",
   "pygments_lexer": "ipython3",
   "version": "3.7.7"
  },
  "orig_nbformat": 4
 },
 "nbformat": 4,
 "nbformat_minor": 2
}
