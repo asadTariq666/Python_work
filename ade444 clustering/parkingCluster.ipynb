{
 "cells": [
  {
   "cell_type": "markdown",
   "metadata": {},
   "source": [
    "### Importing Libraries"
   ]
  },
  {
   "cell_type": "code",
   "execution_count": 1,
   "metadata": {},
   "outputs": [],
   "source": [
    "# Importing Libraries\n",
    "import pandas as pd \n",
    "import numpy as np\n",
    "import seaborn as sns\n",
    "import matplotlib.pyplot as plt\n",
    "import gower\n",
    "import warnings\n",
    "from sklearn import metrics\n",
    "warnings.simplefilter(\"ignore\")\n"
   ]
  },
  {
   "cell_type": "markdown",
   "metadata": {},
   "source": [
    "### Loading Dataset"
   ]
  },
  {
   "cell_type": "code",
   "execution_count": 2,
   "metadata": {},
   "outputs": [
    {
     "data": {
      "text/plain": [
       "(380639, 8)"
      ]
     },
     "execution_count": 2,
     "metadata": {},
     "output_type": "execute_result"
    }
   ],
   "source": [
    "## Load Dataset\n",
    "df = pd.read_csv('Project Parking Data 2.csv')\n",
    "\n",
    "df.shape\n"
   ]
  },
  {
   "cell_type": "code",
   "execution_count": 3,
   "metadata": {},
   "outputs": [
    {
     "data": {
      "text/html": [
       "<div>\n",
       "<style scoped>\n",
       "    .dataframe tbody tr th:only-of-type {\n",
       "        vertical-align: middle;\n",
       "    }\n",
       "\n",
       "    .dataframe tbody tr th {\n",
       "        vertical-align: top;\n",
       "    }\n",
       "\n",
       "    .dataframe thead th {\n",
       "        text-align: right;\n",
       "    }\n",
       "</style>\n",
       "<table border=\"1\" class=\"dataframe\">\n",
       "  <thead>\n",
       "    <tr style=\"text-align: right;\">\n",
       "      <th></th>\n",
       "      <th>Make</th>\n",
       "      <th>Colour</th>\n",
       "      <th>Issue Time</th>\n",
       "      <th>Contravention Code</th>\n",
       "      <th>Location</th>\n",
       "      <th>PA_Details</th>\n",
       "      <th>Issue Date</th>\n",
       "      <th>Issue Date Original</th>\n",
       "    </tr>\n",
       "  </thead>\n",
       "  <tbody>\n",
       "    <tr>\n",
       "      <th>0</th>\n",
       "      <td>0</td>\n",
       "      <td>NaN</td>\n",
       "      <td>0:15</td>\n",
       "      <td>1</td>\n",
       "      <td>North Crescent</td>\n",
       "      <td>1485</td>\n",
       "      <td>1-Jan-2019</td>\n",
       "      <td>1-Jan-2019</td>\n",
       "    </tr>\n",
       "    <tr>\n",
       "      <th>1</th>\n",
       "      <td>0</td>\n",
       "      <td>NaN</td>\n",
       "      <td>0:19</td>\n",
       "      <td>16</td>\n",
       "      <td>Anne Street</td>\n",
       "      <td>1456</td>\n",
       "      <td>1-Jan-2019</td>\n",
       "      <td>1-Jan-2019</td>\n",
       "    </tr>\n",
       "    <tr>\n",
       "      <th>2</th>\n",
       "      <td>0</td>\n",
       "      <td>NaN</td>\n",
       "      <td>0:19</td>\n",
       "      <td>25</td>\n",
       "      <td>Celebration Avenue</td>\n",
       "      <td>1252</td>\n",
       "      <td>1-Jan-2019</td>\n",
       "      <td>1-Jan-2019</td>\n",
       "    </tr>\n",
       "    <tr>\n",
       "      <th>3</th>\n",
       "      <td>0</td>\n",
       "      <td>NaN</td>\n",
       "      <td>0:20</td>\n",
       "      <td>01o</td>\n",
       "      <td>Honour Lea Avenue</td>\n",
       "      <td>1313</td>\n",
       "      <td>1-Jan-2019</td>\n",
       "      <td>1-Jan-2019</td>\n",
       "    </tr>\n",
       "    <tr>\n",
       "      <th>4</th>\n",
       "      <td>0</td>\n",
       "      <td>NaN</td>\n",
       "      <td>0:22</td>\n",
       "      <td>62</td>\n",
       "      <td>Warton Road</td>\n",
       "      <td>1456</td>\n",
       "      <td>1-Jan-2019</td>\n",
       "      <td>1-Jan-2019</td>\n",
       "    </tr>\n",
       "  </tbody>\n",
       "</table>\n",
       "</div>"
      ],
      "text/plain": [
       "  Make Colour Issue Time Contravention Code            Location PA_Details  \\\n",
       "0    0    NaN       0:15                  1      North Crescent       1485   \n",
       "1    0    NaN       0:19                 16         Anne Street       1456   \n",
       "2    0    NaN       0:19                 25  Celebration Avenue       1252   \n",
       "3    0    NaN       0:20                01o   Honour Lea Avenue       1313   \n",
       "4    0    NaN       0:22                 62         Warton Road       1456   \n",
       "\n",
       "   Issue Date Issue Date Original  \n",
       "0  1-Jan-2019          1-Jan-2019  \n",
       "1  1-Jan-2019          1-Jan-2019  \n",
       "2  1-Jan-2019          1-Jan-2019  \n",
       "3  1-Jan-2019          1-Jan-2019  \n",
       "4  1-Jan-2019          1-Jan-2019  "
      ]
     },
     "execution_count": 3,
     "metadata": {},
     "output_type": "execute_result"
    }
   ],
   "source": [
    "df.head()"
   ]
  },
  {
   "cell_type": "markdown",
   "metadata": {},
   "source": [
    "## Data Preprocessing\n",
    "\n",
    "- Dates have been divided into quarters manually for better clustering results."
   ]
  },
  {
   "cell_type": "markdown",
   "metadata": {},
   "source": [
    "### Keeping just hour of the time feature \n",
    "i.e. \n",
    "\n",
    "12:10 = 12\n",
    "\n",
    "19:50 = 19"
   ]
  },
  {
   "cell_type": "code",
   "execution_count": 4,
   "metadata": {},
   "outputs": [
    {
     "data": {
      "text/plain": [
       "(  Make Colour Issue Time Contravention Code            Location PA_Details  \\\n",
       " 0    0    NaN          0                  1      North Crescent       1485   \n",
       " 1    0    NaN          0                 16         Anne Street       1456   \n",
       " 2    0    NaN          0                 25  Celebration Avenue       1252   \n",
       " 3    0    NaN          0                01o   Honour Lea Avenue       1313   \n",
       " 4    0    NaN          0                 62         Warton Road       1456   \n",
       " \n",
       "    Issue Date Issue Date Original  \n",
       " 0  1-Jan-2019          1-Jan-2019  \n",
       " 1  1-Jan-2019          1-Jan-2019  \n",
       " 2  1-Jan-2019          1-Jan-2019  \n",
       " 3  1-Jan-2019          1-Jan-2019  \n",
       " 4  1-Jan-2019          1-Jan-2019  ,\n",
       " (380639, 8))"
      ]
     },
     "execution_count": 4,
     "metadata": {},
     "output_type": "execute_result"
    }
   ],
   "source": [
    "df['Issue Time'] = df['Issue Time'].str.split(':').str[0]\n",
    "df.head(),df.shape\n"
   ]
  },
  {
   "cell_type": "code",
   "execution_count": 5,
   "metadata": {},
   "outputs": [
    {
     "data": {
      "text/plain": [
       "(136,)"
      ]
     },
     "execution_count": 5,
     "metadata": {},
     "output_type": "execute_result"
    }
   ],
   "source": [
    "df['Contravention Code'].unique().shape"
   ]
  },
  {
   "cell_type": "code",
   "execution_count": 6,
   "metadata": {},
   "outputs": [
    {
     "data": {
      "text/plain": [
       "array(['1', '16', '25', '01o', '62', '40', '165', '99', '14', 'W23',\n",
       "       'W01', 'W61', 'W63', '21', '12', '19', '01a', '6', '27', '11u',\n",
       "       '30', '54', '26', '73u', '82u)', '01o)', '2', '83', '73', '165)',\n",
       "       '45', '11u)', '47', '80', '92', '87', '28', '48', '5', 'W12', '91',\n",
       "       '62g', '82', '23g', '86', 'W02', '05u', '23c', '11', '85', '82u',\n",
       "       '95', '8', '35', 'W62', '22', '10', '62g)', '80u', 'W27', 'W87',\n",
       "       '61', 'W21', '71', 'W26', 'W11', '81', 'W06', '49', '23', '20',\n",
       "       'W57', 'W19', 'W45', 'W47', '55', 'W01A', 'W25', 'W20', 'W93',\n",
       "       '24', 'W24', '43', '70', '23r', 'W41', 'W04', '9', 'W16', 'W05',\n",
       "       'W30', 'W92', '61g)', 'W48', 'W14', 'W73', 'W91', 'W31', 'W49',\n",
       "       '96', '56', 'W95', 'W46', '23s', 'W40', 'W99', '18', '4', '63',\n",
       "       'W82', 'W22', '73u)', 'W89', '61g', 'W09', 'W83', 'W08', '23e',\n",
       "       '164', 'W35', '23d', '93', 'W70', 'W55', 'W56', '7', '89', '232',\n",
       "       '23p', '5u)', 'W42', 'W10', '36', 'W54', '57', 'W90'], dtype=object)"
      ]
     },
     "execution_count": 6,
     "metadata": {},
     "output_type": "execute_result"
    }
   ],
   "source": [
    "df['Contravention Code'].unique()"
   ]
  },
  {
   "cell_type": "markdown",
   "metadata": {},
   "source": [
    "### Dropping Contravention codes which contains 'W'"
   ]
  },
  {
   "cell_type": "code",
   "execution_count": 7,
   "metadata": {},
   "outputs": [],
   "source": [
    "df = df[~df['Contravention Code'].str.contains('W')]"
   ]
  },
  {
   "cell_type": "markdown",
   "metadata": {},
   "source": [
    "### Dropping Test Locations"
   ]
  },
  {
   "cell_type": "code",
   "execution_count": 8,
   "metadata": {},
   "outputs": [],
   "source": [
    "df = df[~df['Location'].str.contains('Test')]"
   ]
  },
  {
   "cell_type": "code",
   "execution_count": 9,
   "metadata": {},
   "outputs": [
    {
     "data": {
      "text/plain": [
       "(81,)"
      ]
     },
     "execution_count": 9,
     "metadata": {},
     "output_type": "execute_result"
    }
   ],
   "source": [
    "df['Contravention Code'].unique().shape"
   ]
  },
  {
   "cell_type": "code",
   "execution_count": 10,
   "metadata": {},
   "outputs": [
    {
     "data": {
      "text/plain": [
       "array(['1', '16', '25', '01o', '62', '40', '165', '99', '14', '21', '12',\n",
       "       '19', '01a', '6', '27', '11u', '30', '54', '26', '73u', '82u)',\n",
       "       '01o)', '2', '83', '73', '165)', '45', '11u)', '47', '80', '92',\n",
       "       '87', '28', '48', '5', '91', '62g', '82', '23g', '86', '05u',\n",
       "       '23c', '11', '85', '82u', '95', '8', '35', '10', '62g)', '80u',\n",
       "       '61', '22', '81', '49', '23', '20', '55', '24', '43', '23r', '71',\n",
       "       '61g)', '56', '23s', '18', '4', '63', '96', '73u)', '61g', '23e',\n",
       "       '164', '93', '7', '89', '232', '23p', '5u)', '36', '57'],\n",
       "      dtype=object)"
      ]
     },
     "execution_count": 10,
     "metadata": {},
     "output_type": "execute_result"
    }
   ],
   "source": [
    "df['Contravention Code'].unique()\n"
   ]
  },
  {
   "cell_type": "code",
   "execution_count": 11,
   "metadata": {},
   "outputs": [
    {
     "data": {
      "text/plain": [
       "(81,)"
      ]
     },
     "execution_count": 11,
     "metadata": {},
     "output_type": "execute_result"
    }
   ],
   "source": [
    "df['Contravention Code'].unique().shape"
   ]
  },
  {
   "cell_type": "markdown",
   "metadata": {},
   "source": [
    "### Dropping Characters from the Contravention codes to make it a numerical feature."
   ]
  },
  {
   "cell_type": "code",
   "execution_count": 12,
   "metadata": {},
   "outputs": [
    {
     "data": {
      "text/plain": [
       "array(['1', '16', '25', '01', '62', '40', '165', '99', '14', '21', '12',\n",
       "       '19', '6', '27', '11', '30', '54', '26', '73', '82', '2', '83',\n",
       "       '45', '47', '80', '92', '87', '28', '48', '5', '91', '23', '86',\n",
       "       '05', '85', '95', '8', '35', '10', '61', '22', '81', '49', '20',\n",
       "       '55', '24', '43', '71', '56', '18', '4', '63', '96', '164', '93',\n",
       "       '7', '89', '232', '36', '57'], dtype=object)"
      ]
     },
     "execution_count": 12,
     "metadata": {},
     "output_type": "execute_result"
    }
   ],
   "source": [
    "df['Contravention Code']=df['Contravention Code'].str.replace(\"u\",\"\")\n",
    "df['Contravention Code']=df['Contravention Code'].str.replace(\"g\",\"\")\n",
    "df['Contravention Code']=df['Contravention Code'].str.replace(\"a\",\"\")\n",
    "df['Contravention Code']=df['Contravention Code'].str.replace(\"c\",\"\")\n",
    "df['Contravention Code']=df['Contravention Code'].str.replace(\"o\",\"\")\n",
    "df['Contravention Code']=df['Contravention Code'].str.replace(\")\",\"\")\n",
    "df['Contravention Code']=df['Contravention Code'].str.replace(\"d\",\"\")\n",
    "df['Contravention Code']=df['Contravention Code'].str.replace(\"p\",\"\")\n",
    "df['Contravention Code']=df['Contravention Code'].str.replace(\"e\",\"\")\n",
    "df['Contravention Code']=df['Contravention Code'].str.replace(\"s\",\"\")\n",
    "df['Contravention Code']=df['Contravention Code'].str.replace(\"r\",\"\")\n",
    "df['Contravention Code'].unique()"
   ]
  },
  {
   "cell_type": "code",
   "execution_count": 13,
   "metadata": {},
   "outputs": [
    {
     "data": {
      "text/plain": [
       "(60,)"
      ]
     },
     "execution_count": 13,
     "metadata": {},
     "output_type": "execute_result"
    }
   ],
   "source": [
    "df['Contravention Code'].unique().shape"
   ]
  },
  {
   "cell_type": "code",
   "execution_count": 14,
   "metadata": {},
   "outputs": [
    {
     "data": {
      "text/plain": [
       "(379456, 8)"
      ]
     },
     "execution_count": 14,
     "metadata": {},
     "output_type": "execute_result"
    }
   ],
   "source": [
    "df.shape"
   ]
  },
  {
   "cell_type": "code",
   "execution_count": 15,
   "metadata": {},
   "outputs": [
    {
     "data": {
      "text/html": [
       "<div>\n",
       "<style scoped>\n",
       "    .dataframe tbody tr th:only-of-type {\n",
       "        vertical-align: middle;\n",
       "    }\n",
       "\n",
       "    .dataframe tbody tr th {\n",
       "        vertical-align: top;\n",
       "    }\n",
       "\n",
       "    .dataframe thead th {\n",
       "        text-align: right;\n",
       "    }\n",
       "</style>\n",
       "<table border=\"1\" class=\"dataframe\">\n",
       "  <thead>\n",
       "    <tr style=\"text-align: right;\">\n",
       "      <th></th>\n",
       "      <th>Make</th>\n",
       "      <th>Colour</th>\n",
       "      <th>Issue Time</th>\n",
       "      <th>Contravention Code</th>\n",
       "      <th>Location</th>\n",
       "      <th>PA_Details</th>\n",
       "      <th>Issue Date</th>\n",
       "      <th>Issue Date Original</th>\n",
       "    </tr>\n",
       "  </thead>\n",
       "  <tbody>\n",
       "    <tr>\n",
       "      <th>0</th>\n",
       "      <td>0</td>\n",
       "      <td>NaN</td>\n",
       "      <td>0</td>\n",
       "      <td>1</td>\n",
       "      <td>North Crescent</td>\n",
       "      <td>1485</td>\n",
       "      <td>1-Jan-2019</td>\n",
       "      <td>1-Jan-2019</td>\n",
       "    </tr>\n",
       "    <tr>\n",
       "      <th>1</th>\n",
       "      <td>0</td>\n",
       "      <td>NaN</td>\n",
       "      <td>0</td>\n",
       "      <td>16</td>\n",
       "      <td>Anne Street</td>\n",
       "      <td>1456</td>\n",
       "      <td>1-Jan-2019</td>\n",
       "      <td>1-Jan-2019</td>\n",
       "    </tr>\n",
       "    <tr>\n",
       "      <th>2</th>\n",
       "      <td>0</td>\n",
       "      <td>NaN</td>\n",
       "      <td>0</td>\n",
       "      <td>25</td>\n",
       "      <td>Celebration Avenue</td>\n",
       "      <td>1252</td>\n",
       "      <td>1-Jan-2019</td>\n",
       "      <td>1-Jan-2019</td>\n",
       "    </tr>\n",
       "    <tr>\n",
       "      <th>3</th>\n",
       "      <td>0</td>\n",
       "      <td>NaN</td>\n",
       "      <td>0</td>\n",
       "      <td>01</td>\n",
       "      <td>Honour Lea Avenue</td>\n",
       "      <td>1313</td>\n",
       "      <td>1-Jan-2019</td>\n",
       "      <td>1-Jan-2019</td>\n",
       "    </tr>\n",
       "    <tr>\n",
       "      <th>4</th>\n",
       "      <td>0</td>\n",
       "      <td>NaN</td>\n",
       "      <td>0</td>\n",
       "      <td>62</td>\n",
       "      <td>Warton Road</td>\n",
       "      <td>1456</td>\n",
       "      <td>1-Jan-2019</td>\n",
       "      <td>1-Jan-2019</td>\n",
       "    </tr>\n",
       "  </tbody>\n",
       "</table>\n",
       "</div>"
      ],
      "text/plain": [
       "  Make Colour Issue Time Contravention Code            Location PA_Details  \\\n",
       "0    0    NaN          0                  1      North Crescent       1485   \n",
       "1    0    NaN          0                 16         Anne Street       1456   \n",
       "2    0    NaN          0                 25  Celebration Avenue       1252   \n",
       "3    0    NaN          0                 01   Honour Lea Avenue       1313   \n",
       "4    0    NaN          0                 62         Warton Road       1456   \n",
       "\n",
       "   Issue Date Issue Date Original  \n",
       "0  1-Jan-2019          1-Jan-2019  \n",
       "1  1-Jan-2019          1-Jan-2019  \n",
       "2  1-Jan-2019          1-Jan-2019  \n",
       "3  1-Jan-2019          1-Jan-2019  \n",
       "4  1-Jan-2019          1-Jan-2019  "
      ]
     },
     "execution_count": 15,
     "metadata": {},
     "output_type": "execute_result"
    }
   ],
   "source": [
    "df.head()"
   ]
  },
  {
   "cell_type": "markdown",
   "metadata": {},
   "source": [
    "### Dropping Null values"
   ]
  },
  {
   "cell_type": "code",
   "execution_count": 16,
   "metadata": {},
   "outputs": [
    {
     "data": {
      "text/plain": [
       "(375880, 8)"
      ]
     },
     "execution_count": 16,
     "metadata": {},
     "output_type": "execute_result"
    }
   ],
   "source": [
    "df.dropna(inplace=True)\n",
    "df.shape"
   ]
  },
  {
   "cell_type": "markdown",
   "metadata": {},
   "source": [
    "###  Dropping data where Make is 0"
   ]
  },
  {
   "cell_type": "code",
   "execution_count": 17,
   "metadata": {},
   "outputs": [
    {
     "data": {
      "text/plain": [
       "(375880, 8)"
      ]
     },
     "execution_count": 17,
     "metadata": {},
     "output_type": "execute_result"
    }
   ],
   "source": [
    "df.drop(df.index[df['Make'] == 0], inplace = True)\n",
    "df.shape"
   ]
  },
  {
   "cell_type": "markdown",
   "metadata": {},
   "source": [
    "### Dropping characters from PA Details to make it a numerical feature."
   ]
  },
  {
   "cell_type": "code",
   "execution_count": 18,
   "metadata": {},
   "outputs": [],
   "source": [
    "df['PA_Details']=df['PA_Details'].str.replace(\"PN\",\"\")\n",
    "df['PA_Details']=df['PA_Details'].str.replace(\")\",\"\")\n",
    "df.drop(df.index[df['PA_Details'] == 'icpsadmin'], inplace = True)\n",
    "df.drop(df.index[df['PA_Details'] == '999999999'], inplace = True)"
   ]
  },
  {
   "cell_type": "code",
   "execution_count": 19,
   "metadata": {},
   "outputs": [
    {
     "data": {
      "text/plain": [
       "array(['1500', '3254', '1498', '3299', '1434', '3260', '1433', '1522',\n",
       "       '1508', '1435', '3264', '1507', '1518', '3216', '1313', '3288',\n",
       "       '1524', '1519', '1504', '1318', '1142', '1520', '1306', '3292',\n",
       "       '3191', '3295', '1247', '1516', '1453', '1521', '1462', '3239',\n",
       "       '1454', '3293', '1491', '1463', '1456', '1281', '1410', '1438',\n",
       "       '1510', '1464', '1499', '1458', '1523', '1146', '1514', '3237',\n",
       "       '3266', '3269', '1485', '1490', '1419', '3298', '1252', '3247',\n",
       "       '1481', '3328', '1401', '1466', '3326', '1461', '1437', '1473',\n",
       "       '1387', '1468', '1278', '3272', '1502', '1145', '3289', '3235',\n",
       "       '1513', '1457', '1409', '3156', '3278', '3301', '1482', '3318',\n",
       "       '1407', '1517', '3287', '3296', '1503', '3205', '1509', '3275',\n",
       "       '1492', '1506', '3319', '1495', '1418', '1447', '3285', '1505',\n",
       "       '1351', '1484', '1331', '1442', '1494', '3316', '1515', '1309',\n",
       "       '1489', '3327', '1475', '1381', '1478', '3300', '3228', '3303',\n",
       "       '3229', '3268', '3154', '3323', '1424', '1493', '3225', '3283',\n",
       "       '3324', '3330', '3245', '3291', '3302', '1486', '3179', '3262',\n",
       "       '3236', '3274', '992', '1512', '3294', '3255', '1455', '3261',\n",
       "       '3286', '1497', '3284', '1488', '3258', '3277', '3265', '3271',\n",
       "       '1511', '1432', '3329', '1487', '3331', '3270', '1496', '1035',\n",
       "       '1465', '1308', '3276', '3290', '3273', '999', '3317', '1440',\n",
       "       '3165', '1501', '1430', '3281', '777', '3263', '3280', '1483',\n",
       "       '9999', '1460', '3197'], dtype=object)"
      ]
     },
     "execution_count": 19,
     "metadata": {},
     "output_type": "execute_result"
    }
   ],
   "source": [
    "df['PA_Details'].unique()"
   ]
  },
  {
   "cell_type": "code",
   "execution_count": 20,
   "metadata": {},
   "outputs": [
    {
     "data": {
      "text/plain": [
       "(     Make Colour Issue Time Contravention Code            Location PA_Details  \\\n",
       " 162  Audi  Black          9                 19         Antwerp Way       1500   \n",
       " 163  Audi  Black         10                 12        First Avenue       3254   \n",
       " 164  Audi  Black         10                 12       Ingestre Road       1498   \n",
       " 165  Audi  Black         10                 12    Lawrence Road E6       3299   \n",
       " 166  Audi  Black         10                 12     Napier Road E15       1434   \n",
       " 167  Audi  Black         10                 19    Biggerstaff Road       3260   \n",
       " 168  Audi  Black         10                 19        Grant Street       3299   \n",
       " 169  Audi  Black         10                 19          Kings Road       1433   \n",
       " 170  Audi  Black         10                 19  Upperton Road West       1522   \n",
       " 171  Audi  Black         10                 21     Malmesbury Road       1508   \n",
       " 172  Audi  Black         10                 25      Redclyffe Road       1433   \n",
       " 173  Audi  Black         11                  1        Plashet Road       1522   \n",
       " 174  Audi  Black         11                  6        Green Street       1435   \n",
       " 175  Audi  Black         11                 12     Atlantis Avenue       3264   \n",
       " 176  Audi  Black         11                 12       Bartle Avenue       1435   \n",
       " 177  Audi  Black         11                 12        Burford Road       1507   \n",
       " 178  Audi  Black         11                 12        Burford Road       1518   \n",
       " 179  Audi  Black         11                 12        Cyprus Place       3216   \n",
       " 180  Audi  Black         11                 12       Kerrison Road       1313   \n",
       " 181  Audi  Black         11                 12          Lloyd Road       3288   \n",
       " \n",
       "      Issue Date Issue Date Original  \n",
       " 162  2-Jan-2019          2-Jan-2019  \n",
       " 163  2-Jan-2019          2-Jan-2019  \n",
       " 164  2-Jan-2019          2-Jan-2019  \n",
       " 165  2-Jan-2019          2-Jan-2019  \n",
       " 166  2-Jan-2019          2-Jan-2019  \n",
       " 167  2-Jan-2019          2-Jan-2019  \n",
       " 168  2-Jan-2019          2-Jan-2019  \n",
       " 169  2-Jan-2019          2-Jan-2019  \n",
       " 170  2-Jan-2019          2-Jan-2019  \n",
       " 171  2-Jan-2019          2-Jan-2019  \n",
       " 172  2-Jan-2019          2-Jan-2019  \n",
       " 173  2-Jan-2019          2-Jan-2019  \n",
       " 174  2-Jan-2019          2-Jan-2019  \n",
       " 175  2-Jan-2019          2-Jan-2019  \n",
       " 176  2-Jan-2019          2-Jan-2019  \n",
       " 177  2-Jan-2019          2-Jan-2019  \n",
       " 178  2-Jan-2019          2-Jan-2019  \n",
       " 179  2-Jan-2019          2-Jan-2019  \n",
       " 180  2-Jan-2019          2-Jan-2019  \n",
       " 181  2-Jan-2019          2-Jan-2019  ,\n",
       " (375869, 8))"
      ]
     },
     "execution_count": 20,
     "metadata": {},
     "output_type": "execute_result"
    }
   ],
   "source": [
    "df.head(20),df.shape"
   ]
  },
  {
   "cell_type": "code",
   "execution_count": 21,
   "metadata": {},
   "outputs": [],
   "source": [
    "# # Applying the condition\n",
    "\n",
    "# df['Issue Date'].loc[df['Issue Date'].str.contains('Jan-2019')] = 'Q1Y1'\n",
    "# df['Issue Date'].loc[df['Issue Date'].str.contains('Feb-2019')] = 'Q1Y1'\n",
    "# df['Issue Date'].loc[df['Issue Date'].str.contains('Mar-2019')] = 'Q1Y1'\n",
    "# df['Issue Date'].loc[df['Issue Date'].str.contains('Apr-2019')] = 'Q2Y1'\n",
    "# df['Issue Date'].loc[df['Issue Date'].str.contains('May-2019')] = 'Q2Y1'\n",
    "# df['Issue Date'].loc[df['Issue Date'].str.contains('Jun-2019')] = 'Q2Y1'\n",
    "# df['Issue Date'].loc[df['Issue Date'].str.contains('Jul-2019')] = 'Q3Y1'\n",
    "# df['Issue Date'].loc[df['Issue Date'].str.contains('Aug-2019')] = 'Q3Y1'\n",
    "# df['Issue Date'].loc[df['Issue Date'].str.contains('Sep-2019')] = 'Q3Y1'\n",
    "# df['Issue Date'].loc[df['Issue Date'].str.contains('Oct-2019')] = 'Q4Y1'\n",
    "# df['Issue Date'].loc[df['Issue Date'].str.contains('Nov-2019')] = 'Q4Y1'\n",
    "# df['Issue Date'].loc[df['Issue Date'].str.contains('Dec-2019')] = 'Q4Y1'"
   ]
  },
  {
   "cell_type": "code",
   "execution_count": 22,
   "metadata": {},
   "outputs": [
    {
     "data": {
      "text/html": [
       "<div>\n",
       "<style scoped>\n",
       "    .dataframe tbody tr th:only-of-type {\n",
       "        vertical-align: middle;\n",
       "    }\n",
       "\n",
       "    .dataframe tbody tr th {\n",
       "        vertical-align: top;\n",
       "    }\n",
       "\n",
       "    .dataframe thead th {\n",
       "        text-align: right;\n",
       "    }\n",
       "</style>\n",
       "<table border=\"1\" class=\"dataframe\">\n",
       "  <thead>\n",
       "    <tr style=\"text-align: right;\">\n",
       "      <th></th>\n",
       "      <th>Make</th>\n",
       "      <th>Colour</th>\n",
       "      <th>Issue Time</th>\n",
       "      <th>Contravention Code</th>\n",
       "      <th>Location</th>\n",
       "      <th>PA_Details</th>\n",
       "      <th>Issue Date</th>\n",
       "      <th>Issue Date Original</th>\n",
       "    </tr>\n",
       "  </thead>\n",
       "  <tbody>\n",
       "    <tr>\n",
       "      <th>77437</th>\n",
       "      <td>Mercedes Benz</td>\n",
       "      <td>Other</td>\n",
       "      <td>12</td>\n",
       "      <td>12</td>\n",
       "      <td>Third Avenue E12</td>\n",
       "      <td>1462</td>\n",
       "      <td>3-May-2020</td>\n",
       "      <td>3-May-2020</td>\n",
       "    </tr>\n",
       "    <tr>\n",
       "      <th>77438</th>\n",
       "      <td>Mercedes Benz</td>\n",
       "      <td>Other</td>\n",
       "      <td>13</td>\n",
       "      <td>30</td>\n",
       "      <td>Wall End Road</td>\n",
       "      <td>1505</td>\n",
       "      <td>3-May-2020</td>\n",
       "      <td>3-May-2020</td>\n",
       "    </tr>\n",
       "    <tr>\n",
       "      <th>77439</th>\n",
       "      <td>Mercedes Benz</td>\n",
       "      <td>Other</td>\n",
       "      <td>13</td>\n",
       "      <td>1</td>\n",
       "      <td>Plashet Road</td>\n",
       "      <td>1433</td>\n",
       "      <td>3-May-2020</td>\n",
       "      <td>3-May-2020</td>\n",
       "    </tr>\n",
       "    <tr>\n",
       "      <th>77440</th>\n",
       "      <td>Mercedes Benz</td>\n",
       "      <td>Other</td>\n",
       "      <td>13</td>\n",
       "      <td>12</td>\n",
       "      <td>Caledon Road</td>\n",
       "      <td>1247</td>\n",
       "      <td>3-May-2020</td>\n",
       "      <td>3-May-2020</td>\n",
       "    </tr>\n",
       "    <tr>\n",
       "      <th>77441</th>\n",
       "      <td>Mercedes Benz</td>\n",
       "      <td>Other</td>\n",
       "      <td>13</td>\n",
       "      <td>12</td>\n",
       "      <td>Canterbury Close</td>\n",
       "      <td>1456</td>\n",
       "      <td>3-May-2020</td>\n",
       "      <td>3-May-2020</td>\n",
       "    </tr>\n",
       "    <tr>\n",
       "      <th>77442</th>\n",
       "      <td>Mercedes Benz</td>\n",
       "      <td>Other</td>\n",
       "      <td>14</td>\n",
       "      <td>62</td>\n",
       "      <td>High Street North</td>\n",
       "      <td>1510</td>\n",
       "      <td>3-May-2020</td>\n",
       "      <td>3-May-2020</td>\n",
       "    </tr>\n",
       "    <tr>\n",
       "      <th>77443</th>\n",
       "      <td>Mercedes Benz</td>\n",
       "      <td>Other</td>\n",
       "      <td>14</td>\n",
       "      <td>62</td>\n",
       "      <td>Caxton Street North</td>\n",
       "      <td>1456</td>\n",
       "      <td>3-May-2020</td>\n",
       "      <td>3-May-2020</td>\n",
       "    </tr>\n",
       "    <tr>\n",
       "      <th>77444</th>\n",
       "      <td>Mercedes Benz</td>\n",
       "      <td>Other</td>\n",
       "      <td>14</td>\n",
       "      <td>62</td>\n",
       "      <td>Kings Road</td>\n",
       "      <td>1433</td>\n",
       "      <td>3-May-2020</td>\n",
       "      <td>3-May-2020</td>\n",
       "    </tr>\n",
       "    <tr>\n",
       "      <th>77445</th>\n",
       "      <td>Mercedes Benz</td>\n",
       "      <td>Other</td>\n",
       "      <td>14</td>\n",
       "      <td>165</td>\n",
       "      <td>Skelton Road</td>\n",
       "      <td>1519</td>\n",
       "      <td>3-May-2020</td>\n",
       "      <td>3-May-2020</td>\n",
       "    </tr>\n",
       "    <tr>\n",
       "      <th>77446</th>\n",
       "      <td>Mercedes Benz</td>\n",
       "      <td>Other</td>\n",
       "      <td>14</td>\n",
       "      <td>1</td>\n",
       "      <td>Bendish Road</td>\n",
       "      <td>1517</td>\n",
       "      <td>3-May-2020</td>\n",
       "      <td>3-May-2020</td>\n",
       "    </tr>\n",
       "    <tr>\n",
       "      <th>77447</th>\n",
       "      <td>Mercedes Benz</td>\n",
       "      <td>Other</td>\n",
       "      <td>14</td>\n",
       "      <td>1</td>\n",
       "      <td>Plashet Road</td>\n",
       "      <td>1481</td>\n",
       "      <td>3-May-2020</td>\n",
       "      <td>3-May-2020</td>\n",
       "    </tr>\n",
       "    <tr>\n",
       "      <th>77448</th>\n",
       "      <td>Mercedes Benz</td>\n",
       "      <td>Other</td>\n",
       "      <td>14</td>\n",
       "      <td>83</td>\n",
       "      <td>Queens Market Car Park</td>\n",
       "      <td>1381</td>\n",
       "      <td>3-May-2020</td>\n",
       "      <td>3-May-2020</td>\n",
       "    </tr>\n",
       "    <tr>\n",
       "      <th>77449</th>\n",
       "      <td>Mercedes Benz</td>\n",
       "      <td>Silver</td>\n",
       "      <td>9</td>\n",
       "      <td>12</td>\n",
       "      <td>Fentons Avenue</td>\n",
       "      <td>1506</td>\n",
       "      <td>4-May-2020</td>\n",
       "      <td>4-May-2020</td>\n",
       "    </tr>\n",
       "    <tr>\n",
       "      <th>77450</th>\n",
       "      <td>Mercedes Benz</td>\n",
       "      <td>Silver</td>\n",
       "      <td>9</td>\n",
       "      <td>12</td>\n",
       "      <td>London Road</td>\n",
       "      <td>1491</td>\n",
       "      <td>4-May-2020</td>\n",
       "      <td>4-May-2020</td>\n",
       "    </tr>\n",
       "    <tr>\n",
       "      <th>77451</th>\n",
       "      <td>Mercedes Benz</td>\n",
       "      <td>Silver</td>\n",
       "      <td>9</td>\n",
       "      <td>12</td>\n",
       "      <td>Meath Road</td>\n",
       "      <td>1456</td>\n",
       "      <td>4-May-2020</td>\n",
       "      <td>4-May-2020</td>\n",
       "    </tr>\n",
       "  </tbody>\n",
       "</table>\n",
       "</div>"
      ],
      "text/plain": [
       "                Make  Colour Issue Time Contravention Code  \\\n",
       "77437  Mercedes Benz   Other         12                 12   \n",
       "77438  Mercedes Benz   Other         13                 30   \n",
       "77439  Mercedes Benz   Other         13                  1   \n",
       "77440  Mercedes Benz   Other         13                 12   \n",
       "77441  Mercedes Benz   Other         13                 12   \n",
       "77442  Mercedes Benz   Other         14                 62   \n",
       "77443  Mercedes Benz   Other         14                 62   \n",
       "77444  Mercedes Benz   Other         14                 62   \n",
       "77445  Mercedes Benz   Other         14                165   \n",
       "77446  Mercedes Benz   Other         14                  1   \n",
       "77447  Mercedes Benz   Other         14                  1   \n",
       "77448  Mercedes Benz   Other         14                 83   \n",
       "77449  Mercedes Benz  Silver          9                 12   \n",
       "77450  Mercedes Benz  Silver          9                 12   \n",
       "77451  Mercedes Benz  Silver          9                 12   \n",
       "\n",
       "                     Location PA_Details  Issue Date Issue Date Original  \n",
       "77437        Third Avenue E12       1462  3-May-2020          3-May-2020  \n",
       "77438           Wall End Road       1505  3-May-2020          3-May-2020  \n",
       "77439            Plashet Road       1433  3-May-2020          3-May-2020  \n",
       "77440            Caledon Road       1247  3-May-2020          3-May-2020  \n",
       "77441        Canterbury Close       1456  3-May-2020          3-May-2020  \n",
       "77442       High Street North       1510  3-May-2020          3-May-2020  \n",
       "77443     Caxton Street North       1456  3-May-2020          3-May-2020  \n",
       "77444              Kings Road       1433  3-May-2020          3-May-2020  \n",
       "77445            Skelton Road       1519  3-May-2020          3-May-2020  \n",
       "77446            Bendish Road       1517  3-May-2020          3-May-2020  \n",
       "77447            Plashet Road       1481  3-May-2020          3-May-2020  \n",
       "77448  Queens Market Car Park       1381  3-May-2020          3-May-2020  \n",
       "77449          Fentons Avenue       1506  4-May-2020          4-May-2020  \n",
       "77450             London Road       1491  4-May-2020          4-May-2020  \n",
       "77451              Meath Road       1456  4-May-2020          4-May-2020  "
      ]
     },
     "execution_count": 22,
     "metadata": {},
     "output_type": "execute_result"
    }
   ],
   "source": [
    "df.iloc[74000:74015,: ]"
   ]
  },
  {
   "cell_type": "code",
   "execution_count": 23,
   "metadata": {},
   "outputs": [
    {
     "data": {
      "text/html": [
       "<div>\n",
       "<style scoped>\n",
       "    .dataframe tbody tr th:only-of-type {\n",
       "        vertical-align: middle;\n",
       "    }\n",
       "\n",
       "    .dataframe tbody tr th {\n",
       "        vertical-align: top;\n",
       "    }\n",
       "\n",
       "    .dataframe thead th {\n",
       "        text-align: right;\n",
       "    }\n",
       "</style>\n",
       "<table border=\"1\" class=\"dataframe\">\n",
       "  <thead>\n",
       "    <tr style=\"text-align: right;\">\n",
       "      <th></th>\n",
       "      <th>Make</th>\n",
       "      <th>Colour</th>\n",
       "      <th>Issue Time</th>\n",
       "      <th>Contravention Code</th>\n",
       "      <th>Location</th>\n",
       "      <th>PA_Details</th>\n",
       "      <th>Issue Date</th>\n",
       "      <th>Issue Date Original</th>\n",
       "    </tr>\n",
       "  </thead>\n",
       "  <tbody>\n",
       "    <tr>\n",
       "      <th>380634</th>\n",
       "      <td>Yamaha</td>\n",
       "      <td>White</td>\n",
       "      <td>15</td>\n",
       "      <td>54</td>\n",
       "      <td>Broadway</td>\n",
       "      <td>1485</td>\n",
       "      <td>31/12/2021</td>\n",
       "      <td>31/12/2021</td>\n",
       "    </tr>\n",
       "    <tr>\n",
       "      <th>380635</th>\n",
       "      <td>Yamaha</td>\n",
       "      <td>White</td>\n",
       "      <td>16</td>\n",
       "      <td>1</td>\n",
       "      <td>High Street North</td>\n",
       "      <td>3237</td>\n",
       "      <td>31/12/2021</td>\n",
       "      <td>31/12/2021</td>\n",
       "    </tr>\n",
       "    <tr>\n",
       "      <th>380636</th>\n",
       "      <td>YAMAHA</td>\n",
       "      <td>WHITE</td>\n",
       "      <td>16</td>\n",
       "      <td>81</td>\n",
       "      <td>Stratford Multi Storey Car Park</td>\n",
       "      <td>1458</td>\n",
       "      <td>31/12/2021</td>\n",
       "      <td>31/12/2021</td>\n",
       "    </tr>\n",
       "    <tr>\n",
       "      <th>380637</th>\n",
       "      <td>Yamaha</td>\n",
       "      <td>White</td>\n",
       "      <td>17</td>\n",
       "      <td>62</td>\n",
       "      <td>Westfield Avenue</td>\n",
       "      <td>1475</td>\n",
       "      <td>31/12/2021</td>\n",
       "      <td>31/12/2021</td>\n",
       "    </tr>\n",
       "    <tr>\n",
       "      <th>380638</th>\n",
       "      <td>Yamaha</td>\n",
       "      <td>White</td>\n",
       "      <td>17</td>\n",
       "      <td>1</td>\n",
       "      <td>Harold Road</td>\n",
       "      <td>3237</td>\n",
       "      <td>31/12/2021</td>\n",
       "      <td>31/12/2021</td>\n",
       "    </tr>\n",
       "  </tbody>\n",
       "</table>\n",
       "</div>"
      ],
      "text/plain": [
       "          Make Colour Issue Time Contravention Code  \\\n",
       "380634  Yamaha  White         15                 54   \n",
       "380635  Yamaha  White         16                  1   \n",
       "380636  YAMAHA  WHITE         16                 81   \n",
       "380637  Yamaha  White         17                 62   \n",
       "380638  Yamaha  White         17                  1   \n",
       "\n",
       "                               Location PA_Details  Issue Date  \\\n",
       "380634                         Broadway       1485  31/12/2021   \n",
       "380635                High Street North       3237  31/12/2021   \n",
       "380636  Stratford Multi Storey Car Park       1458  31/12/2021   \n",
       "380637                 Westfield Avenue       1475  31/12/2021   \n",
       "380638                      Harold Road       3237  31/12/2021   \n",
       "\n",
       "       Issue Date Original  \n",
       "380634          31/12/2021  \n",
       "380635          31/12/2021  \n",
       "380636          31/12/2021  \n",
       "380637          31/12/2021  \n",
       "380638          31/12/2021  "
      ]
     },
     "execution_count": 23,
     "metadata": {},
     "output_type": "execute_result"
    }
   ],
   "source": [
    "df.tail()"
   ]
  },
  {
   "cell_type": "markdown",
   "metadata": {},
   "source": [
    "### Converting date in meaning quarters notation"
   ]
  },
  {
   "cell_type": "code",
   "execution_count": 24,
   "metadata": {},
   "outputs": [],
   "source": [
    "# Applying the condition\n",
    "df['Issue Date'].loc[df['Issue Date'].str.contains('Jan-2019')] = 'Q1Y1'\n",
    "df['Issue Date'].loc[df['Issue Date'].str.contains('Feb-2019')] = 'Q1Y1'\n",
    "df['Issue Date'].loc[df['Issue Date'].str.contains('Mar-2019')] = 'Q1Y1'\n",
    "df['Issue Date'].loc[df['Issue Date'].str.contains('Apr-2019')] = 'Q2Y1'\n",
    "df['Issue Date'].loc[df['Issue Date'].str.contains('May-2019')] = 'Q2Y1'\n",
    "df['Issue Date'].loc[df['Issue Date'].str.contains('Jun-2019')] = 'Q2Y1'\n",
    "df['Issue Date'].loc[df['Issue Date'].str.contains('Jul-2019')] = 'Q3Y1'\n",
    "df['Issue Date'].loc[df['Issue Date'].str.contains('Aug-2019')] = 'Q3Y1'\n",
    "df['Issue Date'].loc[df['Issue Date'].str.contains('Sep-2019')] = 'Q3Y1'\n",
    "df['Issue Date'].loc[df['Issue Date'].str.contains('Oct-2019')] = 'Q4Y1'\n",
    "df['Issue Date'].loc[df['Issue Date'].str.contains('Nov-2019')] = 'Q4Y1'\n",
    "df['Issue Date'].loc[df['Issue Date'].str.contains('Dec-2019')] = 'Q4Y1'\n",
    "\n",
    "df['Issue Date'].loc[df['Issue Date'].str.contains('01/2019')] = 'Q1Y1'\n",
    "df['Issue Date'].loc[df['Issue Date'].str.contains('02/2019')] = 'Q1Y1'\n",
    "df['Issue Date'].loc[df['Issue Date'].str.contains('03/2019')] = 'Q1Y1'\n",
    "df['Issue Date'].loc[df['Issue Date'].str.contains('04/2019')] = 'Q2Y1'\n",
    "df['Issue Date'].loc[df['Issue Date'].str.contains('05/2019')] = 'Q2Y1'\n",
    "df['Issue Date'].loc[df['Issue Date'].str.contains('06/2019')] = 'Q2Y1'\n",
    "df['Issue Date'].loc[df['Issue Date'].str.contains('07/2019')] = 'Q3Y1'\n",
    "df['Issue Date'].loc[df['Issue Date'].str.contains('08/2019')] = 'Q3Y1'\n",
    "df['Issue Date'].loc[df['Issue Date'].str.contains('09/2019')] = 'Q3Y1'\n",
    "df['Issue Date'].loc[df['Issue Date'].str.contains('10/2019')] = 'Q4Y1'\n",
    "df['Issue Date'].loc[df['Issue Date'].str.contains('11/2019')] = 'Q4Y1'\n",
    "df['Issue Date'].loc[df['Issue Date'].str.contains('12/2019')] = 'Q4Y1'\n",
    "\n",
    "# Applying the condition\n",
    "df['Issue Date'].loc[df['Issue Date'].str.contains('Jan-2020')] = 'Q1Y2'\n",
    "df['Issue Date'].loc[df['Issue Date'].str.contains('Feb-2020')] = 'Q1Y2'\n",
    "df['Issue Date'].loc[df['Issue Date'].str.contains('Mar-2020')] = 'Q1Y2'\n",
    "df['Issue Date'].loc[df['Issue Date'].str.contains('Apr-2020')] = 'Q2Y2'\n",
    "df['Issue Date'].loc[df['Issue Date'].str.contains('May-2020')] = 'Q2Y2'\n",
    "df['Issue Date'].loc[df['Issue Date'].str.contains('Jun-2020')] = 'Q2Y2'\n",
    "df['Issue Date'].loc[df['Issue Date'].str.contains('Jul-2020')] = 'Q3Y2'\n",
    "df['Issue Date'].loc[df['Issue Date'].str.contains('Aug-2020')] = 'Q3Y2'\n",
    "df['Issue Date'].loc[df['Issue Date'].str.contains('Sep-2020')] = 'Q3Y2'\n",
    "df['Issue Date'].loc[df['Issue Date'].str.contains('Oct-2020')] = 'Q4Y2'\n",
    "df['Issue Date'].loc[df['Issue Date'].str.contains('Nov-2020')] = 'Q4Y2'\n",
    "df['Issue Date'].loc[df['Issue Date'].str.contains('Dec-2020')] = 'Q4Y2'\n",
    "\n",
    "df['Issue Date'].loc[df['Issue Date'].str.contains('01/2020')] = 'Q1Y2'\n",
    "df['Issue Date'].loc[df['Issue Date'].str.contains('02/2020')] = 'Q1Y2'\n",
    "df['Issue Date'].loc[df['Issue Date'].str.contains('03/2020')] = 'Q1Y2'\n",
    "df['Issue Date'].loc[df['Issue Date'].str.contains('04/2020')] = 'Q2Y2'\n",
    "df['Issue Date'].loc[df['Issue Date'].str.contains('05/2020')] = 'Q2Y2'\n",
    "df['Issue Date'].loc[df['Issue Date'].str.contains('06/2020')] = 'Q2Y2'\n",
    "df['Issue Date'].loc[df['Issue Date'].str.contains('07/2020')] = 'Q3Y2'\n",
    "df['Issue Date'].loc[df['Issue Date'].str.contains('08/2020')] = 'Q3Y2'\n",
    "df['Issue Date'].loc[df['Issue Date'].str.contains('09/2020')] = 'Q3Y2'\n",
    "df['Issue Date'].loc[df['Issue Date'].str.contains('10/2020')] = 'Q4Y2'\n",
    "df['Issue Date'].loc[df['Issue Date'].str.contains('11/2020')] = 'Q4Y2'\n",
    "df['Issue Date'].loc[df['Issue Date'].str.contains('12/2020')] = 'Q4Y2'\n",
    "\n",
    "# Applying the condition\n",
    "df['Issue Date'].loc[df['Issue Date'].str.contains('Jan-2021')] = 'Q1Y3'\n",
    "df['Issue Date'].loc[df['Issue Date'].str.contains('Feb-2021')] = 'Q1Y3'\n",
    "df['Issue Date'].loc[df['Issue Date'].str.contains('Mar-2021')] = 'Q1Y3'\n",
    "df['Issue Date'].loc[df['Issue Date'].str.contains('Apr-2021')] = 'Q2Y3'\n",
    "df['Issue Date'].loc[df['Issue Date'].str.contains('May-2021')] = 'Q2Y3'\n",
    "df['Issue Date'].loc[df['Issue Date'].str.contains('Jun-2021')] = 'Q2Y3'\n",
    "df['Issue Date'].loc[df['Issue Date'].str.contains('Jul-2021')] = 'Q3Y3'\n",
    "df['Issue Date'].loc[df['Issue Date'].str.contains('Aug-2021')] = 'Q3Y3'\n",
    "df['Issue Date'].loc[df['Issue Date'].str.contains('Sep-2021')] = 'Q3Y3'\n",
    "df['Issue Date'].loc[df['Issue Date'].str.contains('Oct-2021')] = 'Q4Y3'\n",
    "df['Issue Date'].loc[df['Issue Date'].str.contains('Nov-2021')] = 'Q4Y3'\n",
    "df['Issue Date'].loc[df['Issue Date'].str.contains('Dec-2021')] = 'Q4Y3'\n",
    "\n",
    "df['Issue Date'].loc[df['Issue Date'].str.contains('01/2021')] = 'Q1Y3'\n",
    "df['Issue Date'].loc[df['Issue Date'].str.contains('02/2021')] = 'Q1Y3'\n",
    "df['Issue Date'].loc[df['Issue Date'].str.contains('03/2021')] = 'Q1Y3'\n",
    "df['Issue Date'].loc[df['Issue Date'].str.contains('04/2021')] = 'Q2Y3'\n",
    "df['Issue Date'].loc[df['Issue Date'].str.contains('05/2021')] = 'Q2Y3'\n",
    "df['Issue Date'].loc[df['Issue Date'].str.contains('06/2021')] = 'Q2Y3'\n",
    "df['Issue Date'].loc[df['Issue Date'].str.contains('07/2021')] = 'Q3Y3'\n",
    "df['Issue Date'].loc[df['Issue Date'].str.contains('08/2021')] = 'Q3Y3'\n",
    "df['Issue Date'].loc[df['Issue Date'].str.contains('09/2021')] = 'Q3Y3'\n",
    "df['Issue Date'].loc[df['Issue Date'].str.contains('10/2021')] = 'Q4Y3'\n",
    "df['Issue Date'].loc[df['Issue Date'].str.contains('11/2021')] = 'Q4Y3'\n",
    "df['Issue Date'].loc[df['Issue Date'].str.contains('12/2021')] = 'Q4Y3'"
   ]
  },
  {
   "cell_type": "code",
   "execution_count": 25,
   "metadata": {},
   "outputs": [
    {
     "data": {
      "text/plain": [
       "(12,\n",
       " array(['Q1Y1', 'Q2Y1', 'Q3Y1', 'Q4Y1', 'Q1Y2', 'Q2Y2', 'Q3Y2', 'Q4Y2',\n",
       "        'Q1Y3', 'Q2Y3', 'Q3Y3', 'Q4Y3'], dtype=object))"
      ]
     },
     "execution_count": 25,
     "metadata": {},
     "output_type": "execute_result"
    }
   ],
   "source": [
    "len(df[\"Issue Date\"].unique()),df[\"Issue Date\"].unique()"
   ]
  },
  {
   "cell_type": "code",
   "execution_count": 26,
   "metadata": {},
   "outputs": [
    {
     "data": {
      "text/html": [
       "<div>\n",
       "<style scoped>\n",
       "    .dataframe tbody tr th:only-of-type {\n",
       "        vertical-align: middle;\n",
       "    }\n",
       "\n",
       "    .dataframe tbody tr th {\n",
       "        vertical-align: top;\n",
       "    }\n",
       "\n",
       "    .dataframe thead th {\n",
       "        text-align: right;\n",
       "    }\n",
       "</style>\n",
       "<table border=\"1\" class=\"dataframe\">\n",
       "  <thead>\n",
       "    <tr style=\"text-align: right;\">\n",
       "      <th></th>\n",
       "      <th>Make</th>\n",
       "      <th>Colour</th>\n",
       "      <th>Issue Time</th>\n",
       "      <th>Contravention Code</th>\n",
       "      <th>Location</th>\n",
       "      <th>PA_Details</th>\n",
       "      <th>Issue Date</th>\n",
       "      <th>Issue Date Original</th>\n",
       "    </tr>\n",
       "  </thead>\n",
       "  <tbody>\n",
       "    <tr>\n",
       "      <th>162</th>\n",
       "      <td>Audi</td>\n",
       "      <td>Black</td>\n",
       "      <td>9</td>\n",
       "      <td>19</td>\n",
       "      <td>Antwerp Way</td>\n",
       "      <td>1500</td>\n",
       "      <td>Q1Y1</td>\n",
       "      <td>2-Jan-2019</td>\n",
       "    </tr>\n",
       "    <tr>\n",
       "      <th>163</th>\n",
       "      <td>Audi</td>\n",
       "      <td>Black</td>\n",
       "      <td>10</td>\n",
       "      <td>12</td>\n",
       "      <td>First Avenue</td>\n",
       "      <td>3254</td>\n",
       "      <td>Q1Y1</td>\n",
       "      <td>2-Jan-2019</td>\n",
       "    </tr>\n",
       "    <tr>\n",
       "      <th>164</th>\n",
       "      <td>Audi</td>\n",
       "      <td>Black</td>\n",
       "      <td>10</td>\n",
       "      <td>12</td>\n",
       "      <td>Ingestre Road</td>\n",
       "      <td>1498</td>\n",
       "      <td>Q1Y1</td>\n",
       "      <td>2-Jan-2019</td>\n",
       "    </tr>\n",
       "    <tr>\n",
       "      <th>165</th>\n",
       "      <td>Audi</td>\n",
       "      <td>Black</td>\n",
       "      <td>10</td>\n",
       "      <td>12</td>\n",
       "      <td>Lawrence Road E6</td>\n",
       "      <td>3299</td>\n",
       "      <td>Q1Y1</td>\n",
       "      <td>2-Jan-2019</td>\n",
       "    </tr>\n",
       "    <tr>\n",
       "      <th>166</th>\n",
       "      <td>Audi</td>\n",
       "      <td>Black</td>\n",
       "      <td>10</td>\n",
       "      <td>12</td>\n",
       "      <td>Napier Road E15</td>\n",
       "      <td>1434</td>\n",
       "      <td>Q1Y1</td>\n",
       "      <td>2-Jan-2019</td>\n",
       "    </tr>\n",
       "  </tbody>\n",
       "</table>\n",
       "</div>"
      ],
      "text/plain": [
       "     Make Colour Issue Time Contravention Code          Location PA_Details  \\\n",
       "162  Audi  Black          9                 19       Antwerp Way       1500   \n",
       "163  Audi  Black         10                 12      First Avenue       3254   \n",
       "164  Audi  Black         10                 12     Ingestre Road       1498   \n",
       "165  Audi  Black         10                 12  Lawrence Road E6       3299   \n",
       "166  Audi  Black         10                 12   Napier Road E15       1434   \n",
       "\n",
       "    Issue Date Issue Date Original  \n",
       "162       Q1Y1          2-Jan-2019  \n",
       "163       Q1Y1          2-Jan-2019  \n",
       "164       Q1Y1          2-Jan-2019  \n",
       "165       Q1Y1          2-Jan-2019  \n",
       "166       Q1Y1          2-Jan-2019  "
      ]
     },
     "execution_count": 26,
     "metadata": {},
     "output_type": "execute_result"
    }
   ],
   "source": [
    "df.head()"
   ]
  },
  {
   "cell_type": "code",
   "execution_count": 27,
   "metadata": {},
   "outputs": [
    {
     "data": {
      "text/html": [
       "<div>\n",
       "<style scoped>\n",
       "    .dataframe tbody tr th:only-of-type {\n",
       "        vertical-align: middle;\n",
       "    }\n",
       "\n",
       "    .dataframe tbody tr th {\n",
       "        vertical-align: top;\n",
       "    }\n",
       "\n",
       "    .dataframe thead th {\n",
       "        text-align: right;\n",
       "    }\n",
       "</style>\n",
       "<table border=\"1\" class=\"dataframe\">\n",
       "  <thead>\n",
       "    <tr style=\"text-align: right;\">\n",
       "      <th></th>\n",
       "      <th>Make</th>\n",
       "      <th>Colour</th>\n",
       "      <th>Issue Time</th>\n",
       "      <th>Contravention Code</th>\n",
       "      <th>Location</th>\n",
       "      <th>PA_Details</th>\n",
       "      <th>Issue Date</th>\n",
       "      <th>Issue Date Original</th>\n",
       "    </tr>\n",
       "  </thead>\n",
       "  <tbody>\n",
       "    <tr>\n",
       "      <th>380634</th>\n",
       "      <td>Yamaha</td>\n",
       "      <td>White</td>\n",
       "      <td>15</td>\n",
       "      <td>54</td>\n",
       "      <td>Broadway</td>\n",
       "      <td>1485</td>\n",
       "      <td>Q4Y3</td>\n",
       "      <td>31/12/2021</td>\n",
       "    </tr>\n",
       "    <tr>\n",
       "      <th>380635</th>\n",
       "      <td>Yamaha</td>\n",
       "      <td>White</td>\n",
       "      <td>16</td>\n",
       "      <td>1</td>\n",
       "      <td>High Street North</td>\n",
       "      <td>3237</td>\n",
       "      <td>Q4Y3</td>\n",
       "      <td>31/12/2021</td>\n",
       "    </tr>\n",
       "    <tr>\n",
       "      <th>380636</th>\n",
       "      <td>YAMAHA</td>\n",
       "      <td>WHITE</td>\n",
       "      <td>16</td>\n",
       "      <td>81</td>\n",
       "      <td>Stratford Multi Storey Car Park</td>\n",
       "      <td>1458</td>\n",
       "      <td>Q4Y3</td>\n",
       "      <td>31/12/2021</td>\n",
       "    </tr>\n",
       "    <tr>\n",
       "      <th>380637</th>\n",
       "      <td>Yamaha</td>\n",
       "      <td>White</td>\n",
       "      <td>17</td>\n",
       "      <td>62</td>\n",
       "      <td>Westfield Avenue</td>\n",
       "      <td>1475</td>\n",
       "      <td>Q4Y3</td>\n",
       "      <td>31/12/2021</td>\n",
       "    </tr>\n",
       "    <tr>\n",
       "      <th>380638</th>\n",
       "      <td>Yamaha</td>\n",
       "      <td>White</td>\n",
       "      <td>17</td>\n",
       "      <td>1</td>\n",
       "      <td>Harold Road</td>\n",
       "      <td>3237</td>\n",
       "      <td>Q4Y3</td>\n",
       "      <td>31/12/2021</td>\n",
       "    </tr>\n",
       "  </tbody>\n",
       "</table>\n",
       "</div>"
      ],
      "text/plain": [
       "          Make Colour Issue Time Contravention Code  \\\n",
       "380634  Yamaha  White         15                 54   \n",
       "380635  Yamaha  White         16                  1   \n",
       "380636  YAMAHA  WHITE         16                 81   \n",
       "380637  Yamaha  White         17                 62   \n",
       "380638  Yamaha  White         17                  1   \n",
       "\n",
       "                               Location PA_Details Issue Date  \\\n",
       "380634                         Broadway       1485       Q4Y3   \n",
       "380635                High Street North       3237       Q4Y3   \n",
       "380636  Stratford Multi Storey Car Park       1458       Q4Y3   \n",
       "380637                 Westfield Avenue       1475       Q4Y3   \n",
       "380638                      Harold Road       3237       Q4Y3   \n",
       "\n",
       "       Issue Date Original  \n",
       "380634          31/12/2021  \n",
       "380635          31/12/2021  \n",
       "380636          31/12/2021  \n",
       "380637          31/12/2021  \n",
       "380638          31/12/2021  "
      ]
     },
     "execution_count": 27,
     "metadata": {},
     "output_type": "execute_result"
    }
   ],
   "source": [
    "df.tail()"
   ]
  },
  {
   "cell_type": "code",
   "execution_count": 28,
   "metadata": {},
   "outputs": [
    {
     "data": {
      "text/html": [
       "<div>\n",
       "<style scoped>\n",
       "    .dataframe tbody tr th:only-of-type {\n",
       "        vertical-align: middle;\n",
       "    }\n",
       "\n",
       "    .dataframe tbody tr th {\n",
       "        vertical-align: top;\n",
       "    }\n",
       "\n",
       "    .dataframe thead th {\n",
       "        text-align: right;\n",
       "    }\n",
       "</style>\n",
       "<table border=\"1\" class=\"dataframe\">\n",
       "  <thead>\n",
       "    <tr style=\"text-align: right;\">\n",
       "      <th></th>\n",
       "      <th>Make</th>\n",
       "      <th>Colour</th>\n",
       "      <th>Issue Time</th>\n",
       "      <th>Contravention Code</th>\n",
       "      <th>Location</th>\n",
       "      <th>PA_Details</th>\n",
       "      <th>Issue Date</th>\n",
       "      <th>Issue Date Original</th>\n",
       "    </tr>\n",
       "  </thead>\n",
       "  <tbody>\n",
       "    <tr>\n",
       "      <th>218254</th>\n",
       "      <td>Skoda</td>\n",
       "      <td>Silver</td>\n",
       "      <td>8</td>\n",
       "      <td>21</td>\n",
       "      <td>Halley Road</td>\n",
       "      <td>1519</td>\n",
       "      <td>Q1Y3</td>\n",
       "      <td>18/02/2021</td>\n",
       "    </tr>\n",
       "    <tr>\n",
       "      <th>218255</th>\n",
       "      <td>Skoda</td>\n",
       "      <td>Silver</td>\n",
       "      <td>8</td>\n",
       "      <td>19</td>\n",
       "      <td>Wolsey Avenue</td>\n",
       "      <td>1517</td>\n",
       "      <td>Q1Y3</td>\n",
       "      <td>18/02/2021</td>\n",
       "    </tr>\n",
       "    <tr>\n",
       "      <th>218256</th>\n",
       "      <td>Skoda</td>\n",
       "      <td>Silver</td>\n",
       "      <td>8</td>\n",
       "      <td>12</td>\n",
       "      <td>Folkestone Road</td>\n",
       "      <td>1490</td>\n",
       "      <td>Q1Y3</td>\n",
       "      <td>18/02/2021</td>\n",
       "    </tr>\n",
       "    <tr>\n",
       "      <th>218257</th>\n",
       "      <td>Skoda</td>\n",
       "      <td>Silver</td>\n",
       "      <td>8</td>\n",
       "      <td>1</td>\n",
       "      <td>MacGregor Road</td>\n",
       "      <td>1468</td>\n",
       "      <td>Q1Y3</td>\n",
       "      <td>18/02/2021</td>\n",
       "    </tr>\n",
       "    <tr>\n",
       "      <th>218258</th>\n",
       "      <td>Skoda</td>\n",
       "      <td>Silver</td>\n",
       "      <td>8</td>\n",
       "      <td>85</td>\n",
       "      <td>Will Thorne Pavillion_</td>\n",
       "      <td>1485</td>\n",
       "      <td>Q1Y3</td>\n",
       "      <td>18/02/2021</td>\n",
       "    </tr>\n",
       "    <tr>\n",
       "      <th>218259</th>\n",
       "      <td>Skoda</td>\n",
       "      <td>Silver</td>\n",
       "      <td>8</td>\n",
       "      <td>12</td>\n",
       "      <td>Katherine Road</td>\n",
       "      <td>3299</td>\n",
       "      <td>Q1Y3</td>\n",
       "      <td>18/02/2021</td>\n",
       "    </tr>\n",
       "    <tr>\n",
       "      <th>218260</th>\n",
       "      <td>Skoda</td>\n",
       "      <td>Silver</td>\n",
       "      <td>8</td>\n",
       "      <td>12</td>\n",
       "      <td>Katherine Road</td>\n",
       "      <td>3299</td>\n",
       "      <td>Q1Y3</td>\n",
       "      <td>18/02/2021</td>\n",
       "    </tr>\n",
       "    <tr>\n",
       "      <th>218261</th>\n",
       "      <td>Skoda</td>\n",
       "      <td>Silver</td>\n",
       "      <td>8</td>\n",
       "      <td>11</td>\n",
       "      <td>Bedford Road</td>\n",
       "      <td>3292</td>\n",
       "      <td>Q1Y3</td>\n",
       "      <td>18/02/2021</td>\n",
       "    </tr>\n",
       "    <tr>\n",
       "      <th>218262</th>\n",
       "      <td>Skoda</td>\n",
       "      <td>Silver</td>\n",
       "      <td>8</td>\n",
       "      <td>12</td>\n",
       "      <td>Litchfield Avenue</td>\n",
       "      <td>1507</td>\n",
       "      <td>Q1Y3</td>\n",
       "      <td>18/02/2021</td>\n",
       "    </tr>\n",
       "    <tr>\n",
       "      <th>218263</th>\n",
       "      <td>Skoda</td>\n",
       "      <td>Silver</td>\n",
       "      <td>8</td>\n",
       "      <td>12</td>\n",
       "      <td>Skeffington Road</td>\n",
       "      <td>3285</td>\n",
       "      <td>Q1Y3</td>\n",
       "      <td>18/02/2021</td>\n",
       "    </tr>\n",
       "    <tr>\n",
       "      <th>218264</th>\n",
       "      <td>Skoda</td>\n",
       "      <td>Silver</td>\n",
       "      <td>8</td>\n",
       "      <td>12</td>\n",
       "      <td>Strone Road</td>\n",
       "      <td>1401</td>\n",
       "      <td>Q1Y3</td>\n",
       "      <td>18/02/2021</td>\n",
       "    </tr>\n",
       "    <tr>\n",
       "      <th>218265</th>\n",
       "      <td>Skoda</td>\n",
       "      <td>Silver</td>\n",
       "      <td>8</td>\n",
       "      <td>21</td>\n",
       "      <td>Hollington Road</td>\n",
       "      <td>992</td>\n",
       "      <td>Q1Y3</td>\n",
       "      <td>18/02/2021</td>\n",
       "    </tr>\n",
       "    <tr>\n",
       "      <th>218266</th>\n",
       "      <td>Skoda</td>\n",
       "      <td>Silver</td>\n",
       "      <td>8</td>\n",
       "      <td>1</td>\n",
       "      <td>Shakespeare Crescent</td>\n",
       "      <td>1463</td>\n",
       "      <td>Q1Y3</td>\n",
       "      <td>18/02/2021</td>\n",
       "    </tr>\n",
       "    <tr>\n",
       "      <th>218267</th>\n",
       "      <td>Skoda</td>\n",
       "      <td>Silver</td>\n",
       "      <td>8</td>\n",
       "      <td>12</td>\n",
       "      <td>Litchfield Avenue</td>\n",
       "      <td>1507</td>\n",
       "      <td>Q1Y3</td>\n",
       "      <td>18/02/2021</td>\n",
       "    </tr>\n",
       "    <tr>\n",
       "      <th>218268</th>\n",
       "      <td>Skoda</td>\n",
       "      <td>Silver</td>\n",
       "      <td>8</td>\n",
       "      <td>12</td>\n",
       "      <td>Monega Road</td>\n",
       "      <td>1454</td>\n",
       "      <td>Q1Y3</td>\n",
       "      <td>18/02/2021</td>\n",
       "    </tr>\n",
       "  </tbody>\n",
       "</table>\n",
       "</div>"
      ],
      "text/plain": [
       "         Make  Colour Issue Time Contravention Code                Location  \\\n",
       "218254  Skoda  Silver          8                 21             Halley Road   \n",
       "218255  Skoda  Silver          8                 19           Wolsey Avenue   \n",
       "218256  Skoda  Silver          8                 12         Folkestone Road   \n",
       "218257  Skoda  Silver          8                  1          MacGregor Road   \n",
       "218258  Skoda  Silver          8                 85  Will Thorne Pavillion_   \n",
       "218259  Skoda  Silver          8                 12          Katherine Road   \n",
       "218260  Skoda  Silver          8                 12          Katherine Road   \n",
       "218261  Skoda  Silver          8                 11            Bedford Road   \n",
       "218262  Skoda  Silver          8                 12       Litchfield Avenue   \n",
       "218263  Skoda  Silver          8                 12        Skeffington Road   \n",
       "218264  Skoda  Silver          8                 12             Strone Road   \n",
       "218265  Skoda  Silver          8                 21         Hollington Road   \n",
       "218266  Skoda  Silver          8                  1    Shakespeare Crescent   \n",
       "218267  Skoda  Silver          8                 12       Litchfield Avenue   \n",
       "218268  Skoda  Silver          8                 12             Monega Road   \n",
       "\n",
       "       PA_Details Issue Date Issue Date Original  \n",
       "218254       1519       Q1Y3          18/02/2021  \n",
       "218255       1517       Q1Y3          18/02/2021  \n",
       "218256       1490       Q1Y3          18/02/2021  \n",
       "218257       1468       Q1Y3          18/02/2021  \n",
       "218258       1485       Q1Y3          18/02/2021  \n",
       "218259       3299       Q1Y3          18/02/2021  \n",
       "218260       3299       Q1Y3          18/02/2021  \n",
       "218261       3292       Q1Y3          18/02/2021  \n",
       "218262       1507       Q1Y3          18/02/2021  \n",
       "218263       3285       Q1Y3          18/02/2021  \n",
       "218264       1401       Q1Y3          18/02/2021  \n",
       "218265        992       Q1Y3          18/02/2021  \n",
       "218266       1463       Q1Y3          18/02/2021  \n",
       "218267       1507       Q1Y3          18/02/2021  \n",
       "218268       1454       Q1Y3          18/02/2021  "
      ]
     },
     "execution_count": 28,
     "metadata": {},
     "output_type": "execute_result"
    }
   ],
   "source": [
    "df.iloc[214000:214015,: ]"
   ]
  },
  {
   "cell_type": "markdown",
   "metadata": {},
   "source": [
    "### Converting Type of Numerical features"
   ]
  },
  {
   "cell_type": "code",
   "execution_count": 29,
   "metadata": {},
   "outputs": [],
   "source": [
    "df['Issue Time']=df['Issue Time'].astype(str).astype(int)\n",
    "df['Contravention Code']=df['Contravention Code'].astype(str).astype(int)\n",
    "df['PA_Details']=df['PA_Details'].astype(str).astype(int)"
   ]
  },
  {
   "cell_type": "markdown",
   "metadata": {},
   "source": [
    "### Saving processed data into csv file"
   ]
  },
  {
   "cell_type": "code",
   "execution_count": 30,
   "metadata": {},
   "outputs": [],
   "source": [
    "df.to_csv('Processed.csv')"
   ]
  },
  {
   "cell_type": "markdown",
   "metadata": {},
   "source": [
    "### Dividing data in to numerical and categorical features"
   ]
  },
  {
   "cell_type": "code",
   "execution_count": 31,
   "metadata": {},
   "outputs": [],
   "source": [
    "df_categorical = df[['Make','Colour',\t'Issue Date',\t'Location']]\n",
    "df_numerical = df[['Issue Time','Contravention Code','PA_Details']]"
   ]
  },
  {
   "cell_type": "code",
   "execution_count": 32,
   "metadata": {},
   "outputs": [
    {
     "data": {
      "text/plain": [
       "(     Make Colour Issue Date          Location\n",
       " 162  Audi  Black       Q1Y1       Antwerp Way\n",
       " 163  Audi  Black       Q1Y1      First Avenue\n",
       " 164  Audi  Black       Q1Y1     Ingestre Road\n",
       " 165  Audi  Black       Q1Y1  Lawrence Road E6\n",
       " 166  Audi  Black       Q1Y1   Napier Road E15,\n",
       "      Issue Time  Contravention Code  PA_Details\n",
       " 162           9                  19        1500\n",
       " 163          10                  12        3254\n",
       " 164          10                  12        1498\n",
       " 165          10                  12        3299\n",
       " 166          10                  12        1434)"
      ]
     },
     "execution_count": 32,
     "metadata": {},
     "output_type": "execute_result"
    }
   ],
   "source": [
    "df_categorical.head(), df_numerical.head()"
   ]
  },
  {
   "cell_type": "code",
   "execution_count": 33,
   "metadata": {},
   "outputs": [
    {
     "name": "stdout",
     "output_type": "stream",
     "text": [
      "<class 'pandas.core.frame.DataFrame'>\n",
      "Int64Index: 375869 entries, 162 to 380638\n",
      "Data columns (total 3 columns):\n",
      " #   Column              Non-Null Count   Dtype\n",
      "---  ------              --------------   -----\n",
      " 0   Issue Time          375869 non-null  int64\n",
      " 1   Contravention Code  375869 non-null  int64\n",
      " 2   PA_Details          375869 non-null  int64\n",
      "dtypes: int64(3)\n",
      "memory usage: 11.5 MB\n"
     ]
    }
   ],
   "source": [
    "df_numerical.info()"
   ]
  },
  {
   "cell_type": "markdown",
   "metadata": {},
   "source": [
    "# Clustering"
   ]
  },
  {
   "cell_type": "markdown",
   "metadata": {},
   "source": [
    "## K Means Clustering"
   ]
  },
  {
   "cell_type": "markdown",
   "metadata": {},
   "source": [
    "### Elbow method to find optimal number of Clusters"
   ]
  },
  {
   "cell_type": "code",
   "execution_count": 34,
   "metadata": {},
   "outputs": [
    {
     "data": {
      "text/plain": [
       "Text(0.5, 1.0, 'Elbow Method For Optimal k')"
      ]
     },
     "execution_count": 34,
     "metadata": {},
     "output_type": "execute_result"
    },
    {
     "data": {
      "image/png": "[encoded data removed]",
      "text/plain": [
       "<Figure size 432x288 with 1 Axes>"
      ]
     },
     "metadata": {
      "needs_background": "light"
     },
     "output_type": "display_data"
    }
   ],
   "source": [
    "#Finding Best k using WSSE \n",
    "from sklearn.cluster import KMeans\n",
    "SS_distances= []\n",
    "I = range(2,10)\n",
    "for i in I:\n",
    "       k_means = KMeans(n_clusters=i)\n",
    "       k_means= k_means.fit(df_numerical)\n",
    "       SS_distances.append(k_means.inertia_)\n",
    "   \n",
    "centers = k_means.cluster_centers_\n",
    "\n",
    "# plotting SSE distances (for each point to the nearest Center) versus number of k \n",
    "plt.plot(I, SS_distances, 'bx-')\n",
    "plt.xlabel('k')\n",
    "plt.ylabel('SS of Distances')\n",
    "plt.title('Elbow Method For Optimal k')"
   ]
  },
  {
   "cell_type": "markdown",
   "metadata": {},
   "source": [
    "### 3 is optimal number for clusters in numerical features "
   ]
  },
  {
   "cell_type": "code",
   "execution_count": 35,
   "metadata": {},
   "outputs": [
    {
     "data": {
      "text/plain": [
       "(array([0, 1, 2], dtype=int32), array([ 80952, 241777,  53140]))"
      ]
     },
     "execution_count": 35,
     "metadata": {},
     "output_type": "execute_result"
    }
   ],
   "source": [
    "k_means = KMeans(n_clusters=3)\n",
    "k_means= k_means.fit(df_numerical)\n",
    "labels = k_means.labels_\n",
    "np.unique(labels, return_counts=True)"
   ]
  },
  {
   "cell_type": "code",
   "execution_count": 36,
   "metadata": {},
   "outputs": [],
   "source": [
    "centers=k_means.cluster_centers_"
   ]
  },
  {
   "cell_type": "markdown",
   "metadata": {},
   "source": [
    "### Plotting data "
   ]
  },
  {
   "cell_type": "markdown",
   "metadata": {},
   "source": [
    "### 1. 'Issue Time' and 'Contravention Code'"
   ]
  },
  {
   "cell_type": "code",
   "execution_count": 37,
   "metadata": {},
   "outputs": [
    {
     "data": {
      "image/png": "[encoded data removed]",
      "text/plain": [
       "<Figure size 720x720 with 1 Axes>"
      ]
     },
     "metadata": {
      "needs_background": "light"
     },
     "output_type": "display_data"
    }
   ],
   "source": [
    "# Plot Clusters and their centers\n",
    "\n",
    "label = k_means.labels_\n",
    "centers = k_means.cluster_centers_\n",
    "\n",
    "plt.figure(figsize=(10,10))\n",
    "plt.scatter(df_numerical['Issue Time'],df_numerical['Contravention Code'],c=labels,s=15)\n",
    "plt.scatter(centers[:,0], centers[:,1], color ='red', marker='+', s=100) \n",
    "plt.xlabel('Issue Time')\n",
    "plt.ylabel('Contravention Code')\n",
    "plt.title('K-means')\n",
    "plt.show()"
   ]
  },
  {
   "cell_type": "markdown",
   "metadata": {},
   "source": [
    "### 2. 'Issue Time' and 'PA_Details'"
   ]
  },
  {
   "cell_type": "code",
   "execution_count": 38,
   "metadata": {},
   "outputs": [
    {
     "data": {
      "image/png": "[encoded data removed]",
      "text/plain": [
       "<Figure size 720x720 with 1 Axes>"
      ]
     },
     "metadata": {
      "needs_background": "light"
     },
     "output_type": "display_data"
    }
   ],
   "source": [
    "\n",
    "\n",
    "# Plot Clusters and their centers\n",
    "\n",
    "label = k_means.labels_\n",
    "centers = k_means.cluster_centers_\n",
    "\n",
    "plt.figure(figsize=(10,10))\n",
    "plt.scatter(df_numerical['Issue Time'],df_numerical['PA_Details'],c=labels,s=15)\n",
    "plt.scatter(centers[:,0], centers[:,1], color ='red', marker='+', s=100) \n",
    "plt.ylabel('PA_Details')\n",
    "plt.xlabel('Issue Time')\n",
    "plt.title('K-means')\n",
    "plt.show()"
   ]
  },
  {
   "cell_type": "markdown",
   "metadata": {},
   "source": [
    "### 3. 'PA_Details' and 'Contravention Code'"
   ]
  },
  {
   "cell_type": "code",
   "execution_count": 39,
   "metadata": {},
   "outputs": [
    {
     "data": {
      "image/png": "[encoded data removed]",
      "text/plain": [
       "<Figure size 720x720 with 1 Axes>"
      ]
     },
     "metadata": {
      "needs_background": "light"
     },
     "output_type": "display_data"
    }
   ],
   "source": [
    "# Plot Clusters and their centers\n",
    "\n",
    "label = k_means.labels_\n",
    "centers = k_means.cluster_centers_\n",
    "plt.rcParams['axes.facecolor'] = 'white'\n",
    "plt.figure(figsize=(10,10))\n",
    "plt.scatter(df_numerical['Contravention Code'],df_numerical['PA_Details'],c=labels,s=15)\n",
    "plt.scatter(centers[:,0], centers[:,1], color ='red', marker='+', s=100) \n",
    "plt.ylabel('PA_Details')\n",
    "plt.xlabel('Contravention Code')\n",
    "plt.title('K-means')\n",
    "plt.show()"
   ]
  },
  {
   "cell_type": "code",
   "execution_count": 40,
   "metadata": {},
   "outputs": [
    {
     "data": {
      "text/html": [
       "<div>\n",
       "<style scoped>\n",
       "    .dataframe tbody tr th:only-of-type {\n",
       "        vertical-align: middle;\n",
       "    }\n",
       "\n",
       "    .dataframe tbody tr th {\n",
       "        vertical-align: top;\n",
       "    }\n",
       "\n",
       "    .dataframe thead th {\n",
       "        text-align: right;\n",
       "    }\n",
       "</style>\n",
       "<table border=\"1\" class=\"dataframe\">\n",
       "  <thead>\n",
       "    <tr style=\"text-align: right;\">\n",
       "      <th></th>\n",
       "      <th>Issue Time</th>\n",
       "      <th>Contravention Code</th>\n",
       "      <th>PA_Details</th>\n",
       "    </tr>\n",
       "  </thead>\n",
       "  <tbody>\n",
       "    <tr>\n",
       "      <th>162</th>\n",
       "      <td>9</td>\n",
       "      <td>19</td>\n",
       "      <td>1500</td>\n",
       "    </tr>\n",
       "    <tr>\n",
       "      <th>163</th>\n",
       "      <td>10</td>\n",
       "      <td>12</td>\n",
       "      <td>3254</td>\n",
       "    </tr>\n",
       "    <tr>\n",
       "      <th>164</th>\n",
       "      <td>10</td>\n",
       "      <td>12</td>\n",
       "      <td>1498</td>\n",
       "    </tr>\n",
       "    <tr>\n",
       "      <th>165</th>\n",
       "      <td>10</td>\n",
       "      <td>12</td>\n",
       "      <td>3299</td>\n",
       "    </tr>\n",
       "    <tr>\n",
       "      <th>166</th>\n",
       "      <td>10</td>\n",
       "      <td>12</td>\n",
       "      <td>1434</td>\n",
       "    </tr>\n",
       "  </tbody>\n",
       "</table>\n",
       "</div>"
      ],
      "text/plain": [
       "     Issue Time  Contravention Code  PA_Details\n",
       "162           9                  19        1500\n",
       "163          10                  12        3254\n",
       "164          10                  12        1498\n",
       "165          10                  12        3299\n",
       "166          10                  12        1434"
      ]
     },
     "execution_count": 40,
     "metadata": {},
     "output_type": "execute_result"
    }
   ],
   "source": [
    "df_numerical.head()"
   ]
  },
  {
   "cell_type": "code",
   "execution_count": 41,
   "metadata": {},
   "outputs": [
    {
     "data": {
      "text/html": [
       "<div>\n",
       "<style scoped>\n",
       "    .dataframe tbody tr th:only-of-type {\n",
       "        vertical-align: middle;\n",
       "    }\n",
       "\n",
       "    .dataframe tbody tr th {\n",
       "        vertical-align: top;\n",
       "    }\n",
       "\n",
       "    .dataframe thead th {\n",
       "        text-align: right;\n",
       "    }\n",
       "</style>\n",
       "<table border=\"1\" class=\"dataframe\">\n",
       "  <thead>\n",
       "    <tr style=\"text-align: right;\">\n",
       "      <th></th>\n",
       "      <th>Issue Time</th>\n",
       "      <th>Contravention Code</th>\n",
       "      <th>PA_Details</th>\n",
       "    </tr>\n",
       "  </thead>\n",
       "  <tbody>\n",
       "    <tr>\n",
       "      <th>162</th>\n",
       "      <td>9</td>\n",
       "      <td>19</td>\n",
       "      <td>1500</td>\n",
       "    </tr>\n",
       "    <tr>\n",
       "      <th>163</th>\n",
       "      <td>10</td>\n",
       "      <td>12</td>\n",
       "      <td>3254</td>\n",
       "    </tr>\n",
       "    <tr>\n",
       "      <th>164</th>\n",
       "      <td>10</td>\n",
       "      <td>12</td>\n",
       "      <td>1498</td>\n",
       "    </tr>\n",
       "    <tr>\n",
       "      <th>165</th>\n",
       "      <td>10</td>\n",
       "      <td>12</td>\n",
       "      <td>3299</td>\n",
       "    </tr>\n",
       "    <tr>\n",
       "      <th>166</th>\n",
       "      <td>10</td>\n",
       "      <td>12</td>\n",
       "      <td>1434</td>\n",
       "    </tr>\n",
       "    <tr>\n",
       "      <th>...</th>\n",
       "      <td>...</td>\n",
       "      <td>...</td>\n",
       "      <td>...</td>\n",
       "    </tr>\n",
       "    <tr>\n",
       "      <th>380634</th>\n",
       "      <td>15</td>\n",
       "      <td>54</td>\n",
       "      <td>1485</td>\n",
       "    </tr>\n",
       "    <tr>\n",
       "      <th>380635</th>\n",
       "      <td>16</td>\n",
       "      <td>1</td>\n",
       "      <td>3237</td>\n",
       "    </tr>\n",
       "    <tr>\n",
       "      <th>380636</th>\n",
       "      <td>16</td>\n",
       "      <td>81</td>\n",
       "      <td>1458</td>\n",
       "    </tr>\n",
       "    <tr>\n",
       "      <th>380637</th>\n",
       "      <td>17</td>\n",
       "      <td>62</td>\n",
       "      <td>1475</td>\n",
       "    </tr>\n",
       "    <tr>\n",
       "      <th>380638</th>\n",
       "      <td>17</td>\n",
       "      <td>1</td>\n",
       "      <td>3237</td>\n",
       "    </tr>\n",
       "  </tbody>\n",
       "</table>\n",
       "<p>375869 rows × 3 columns</p>\n",
       "</div>"
      ],
      "text/plain": [
       "        Issue Time  Contravention Code  PA_Details\n",
       "162              9                  19        1500\n",
       "163             10                  12        3254\n",
       "164             10                  12        1498\n",
       "165             10                  12        3299\n",
       "166             10                  12        1434\n",
       "...            ...                 ...         ...\n",
       "380634          15                  54        1485\n",
       "380635          16                   1        3237\n",
       "380636          16                  81        1458\n",
       "380637          17                  62        1475\n",
       "380638          17                   1        3237\n",
       "\n",
       "[375869 rows x 3 columns]"
      ]
     },
     "execution_count": 41,
     "metadata": {},
     "output_type": "execute_result"
    }
   ],
   "source": [
    "df_numerical.iloc[:,0:3]"
   ]
  },
  {
   "cell_type": "code",
   "execution_count": 42,
   "metadata": {},
   "outputs": [
    {
     "data": {
      "text/html": [
       "<div>\n",
       "<style scoped>\n",
       "    .dataframe tbody tr th:only-of-type {\n",
       "        vertical-align: middle;\n",
       "    }\n",
       "\n",
       "    .dataframe tbody tr th {\n",
       "        vertical-align: top;\n",
       "    }\n",
       "\n",
       "    .dataframe thead th {\n",
       "        text-align: right;\n",
       "    }\n",
       "</style>\n",
       "<table border=\"1\" class=\"dataframe\">\n",
       "  <thead>\n",
       "    <tr style=\"text-align: right;\">\n",
       "      <th></th>\n",
       "      <th>Issue Time</th>\n",
       "      <th>Contravention Code</th>\n",
       "      <th>PA_Details</th>\n",
       "      <th>clusters_k_means</th>\n",
       "    </tr>\n",
       "  </thead>\n",
       "  <tbody>\n",
       "    <tr>\n",
       "      <th>162</th>\n",
       "      <td>9</td>\n",
       "      <td>19</td>\n",
       "      <td>1500</td>\n",
       "      <td>1</td>\n",
       "    </tr>\n",
       "    <tr>\n",
       "      <th>163</th>\n",
       "      <td>10</td>\n",
       "      <td>12</td>\n",
       "      <td>3254</td>\n",
       "      <td>0</td>\n",
       "    </tr>\n",
       "    <tr>\n",
       "      <th>164</th>\n",
       "      <td>10</td>\n",
       "      <td>12</td>\n",
       "      <td>1498</td>\n",
       "      <td>1</td>\n",
       "    </tr>\n",
       "    <tr>\n",
       "      <th>165</th>\n",
       "      <td>10</td>\n",
       "      <td>12</td>\n",
       "      <td>3299</td>\n",
       "      <td>0</td>\n",
       "    </tr>\n",
       "    <tr>\n",
       "      <th>166</th>\n",
       "      <td>10</td>\n",
       "      <td>12</td>\n",
       "      <td>1434</td>\n",
       "      <td>1</td>\n",
       "    </tr>\n",
       "  </tbody>\n",
       "</table>\n",
       "</div>"
      ],
      "text/plain": [
       "     Issue Time  Contravention Code  PA_Details  clusters_k_means\n",
       "162           9                  19        1500                 1\n",
       "163          10                  12        3254                 0\n",
       "164          10                  12        1498                 1\n",
       "165          10                  12        3299                 0\n",
       "166          10                  12        1434                 1"
      ]
     },
     "execution_count": 42,
     "metadata": {},
     "output_type": "execute_result"
    }
   ],
   "source": [
    "df_numerical['clusters_k_means'] = labels\n",
    "df_numerical.head()"
   ]
  },
  {
   "cell_type": "markdown",
   "metadata": {},
   "source": [
    "### Plotting in 2 dimensions by PCA Analysis and reducing dimensions to 2 "
   ]
  },
  {
   "cell_type": "code",
   "execution_count": 43,
   "metadata": {},
   "outputs": [
    {
     "data": {
      "image/png": "[encoded data removed]",
      "text/plain": [
       "<Figure size 1440x576 with 1 Axes>"
      ]
     },
     "metadata": {
      "needs_background": "light"
     },
     "output_type": "display_data"
    }
   ],
   "source": [
    "from sklearn.decomposition import PCA\n",
    "pca_num_components = 2\n",
    "plt.rcParams['axes.facecolor'] = 'grey'\n",
    "reduced_data = PCA(n_components=pca_num_components).fit_transform(df_numerical.iloc[:,0:3])\n",
    "results = pd.DataFrame(reduced_data,columns=['pca1','pca2'])\n",
    "plt.figure(figsize=(20,8))\n",
    "sns.scatterplot(x=\"pca2\", y=\"pca1\", hue=df_numerical['clusters_k_means'], data=results,s=50)\n",
    "plt.title('K-means Clustering with 2 dimensions')\n",
    "plt.show()"
   ]
  },
  {
   "cell_type": "markdown",
   "metadata": {},
   "source": [
    "### Visualizing 3-D numeric data with Scatter Plots\n"
   ]
  },
  {
   "cell_type": "code",
   "execution_count": 44,
   "metadata": {},
   "outputs": [
    {
     "data": {
      "text/plain": [
       "Text(0.5, 0, 'PA_Details')"
      ]
     },
     "execution_count": 44,
     "metadata": {},
     "output_type": "execute_result"
    },
    {
     "data": {
      "image/png": "[encoded data removed]",
      "text/plain": [
       "<Figure size 576x432 with 1 Axes>"
      ]
     },
     "metadata": {
      "needs_background": "light"
     },
     "output_type": "display_data"
    }
   ],
   "source": [
    "\n",
    "fig = plt.figure(figsize=(8, 6))\n",
    "ax = fig.add_subplot(111, projection='3d')\n",
    "\n",
    "xs = df_numerical['Issue Time']\n",
    "ys = df_numerical['Contravention Code']\n",
    "zs = df_numerical['PA_Details']\n",
    "ax.scatter(xs, ys, zs, s=50, alpha=0.6, edgecolors='w')\n",
    "\n",
    "ax.set_xlabel('Issue Time')\n",
    "ax.set_ylabel('Contravention Code')\n",
    "ax.set_zlabel('PA_Details')"
   ]
  },
  {
   "cell_type": "markdown",
   "metadata": {},
   "source": [
    "## K MODES Clustering"
   ]
  },
  {
   "cell_type": "code",
   "execution_count": 45,
   "metadata": {},
   "outputs": [],
   "source": [
    "# Import module for k-protoype cluster\n",
    "from kmodes.kmodes import KModes"
   ]
  },
  {
   "cell_type": "code",
   "execution_count": 46,
   "metadata": {},
   "outputs": [
    {
     "data": {
      "text/html": [
       "<div>\n",
       "<style scoped>\n",
       "    .dataframe tbody tr th:only-of-type {\n",
       "        vertical-align: middle;\n",
       "    }\n",
       "\n",
       "    .dataframe tbody tr th {\n",
       "        vertical-align: top;\n",
       "    }\n",
       "\n",
       "    .dataframe thead th {\n",
       "        text-align: right;\n",
       "    }\n",
       "</style>\n",
       "<table border=\"1\" class=\"dataframe\">\n",
       "  <thead>\n",
       "    <tr style=\"text-align: right;\">\n",
       "      <th></th>\n",
       "      <th>Make</th>\n",
       "      <th>Colour</th>\n",
       "      <th>Issue Date</th>\n",
       "      <th>Location</th>\n",
       "    </tr>\n",
       "  </thead>\n",
       "  <tbody>\n",
       "    <tr>\n",
       "      <th>162</th>\n",
       "      <td>Audi</td>\n",
       "      <td>Black</td>\n",
       "      <td>Q1Y1</td>\n",
       "      <td>Antwerp Way</td>\n",
       "    </tr>\n",
       "    <tr>\n",
       "      <th>163</th>\n",
       "      <td>Audi</td>\n",
       "      <td>Black</td>\n",
       "      <td>Q1Y1</td>\n",
       "      <td>First Avenue</td>\n",
       "    </tr>\n",
       "    <tr>\n",
       "      <th>164</th>\n",
       "      <td>Audi</td>\n",
       "      <td>Black</td>\n",
       "      <td>Q1Y1</td>\n",
       "      <td>Ingestre Road</td>\n",
       "    </tr>\n",
       "    <tr>\n",
       "      <th>165</th>\n",
       "      <td>Audi</td>\n",
       "      <td>Black</td>\n",
       "      <td>Q1Y1</td>\n",
       "      <td>Lawrence Road E6</td>\n",
       "    </tr>\n",
       "    <tr>\n",
       "      <th>166</th>\n",
       "      <td>Audi</td>\n",
       "      <td>Black</td>\n",
       "      <td>Q1Y1</td>\n",
       "      <td>Napier Road E15</td>\n",
       "    </tr>\n",
       "  </tbody>\n",
       "</table>\n",
       "</div>"
      ],
      "text/plain": [
       "     Make Colour Issue Date          Location\n",
       "162  Audi  Black       Q1Y1       Antwerp Way\n",
       "163  Audi  Black       Q1Y1      First Avenue\n",
       "164  Audi  Black       Q1Y1     Ingestre Road\n",
       "165  Audi  Black       Q1Y1  Lawrence Road E6\n",
       "166  Audi  Black       Q1Y1   Napier Road E15"
      ]
     },
     "execution_count": 46,
     "metadata": {},
     "output_type": "execute_result"
    }
   ],
   "source": [
    "df_categorical.head()"
   ]
  },
  {
   "cell_type": "markdown",
   "metadata": {},
   "source": [
    "### Elbow Method for optimal number of clusters"
   ]
  },
  {
   "cell_type": "code",
   "execution_count": 47,
   "metadata": {},
   "outputs": [
    {
     "name": "stdout",
     "output_type": "stream",
     "text": [
      "Cluster initiation: 2\n",
      "Cluster initiation: 3\n",
      "Cluster initiation: 4\n",
      "Cluster initiation: 5\n"
     ]
    }
   ],
   "source": [
    "# Choosing optimal K\n",
    "cost = []\n",
    "for cluster in range(2, 6):\n",
    "    try:\n",
    "        kmodes = KModes(n_clusters = cluster)\n",
    "        kmodes.fit_predict(df_categorical)\n",
    "        cost.append(kmodes.cost_)\n",
    "        print('Cluster initiation: {}'.format(cluster))\n",
    "    except:\n",
    "        break\n",
    "# Converting the results into a dataframe and plotting them\n",
    "df_cost = pd.DataFrame({'Cluster': range(2, 6), 'Cost': cost})"
   ]
  },
  {
   "cell_type": "code",
   "execution_count": 48,
   "metadata": {},
   "outputs": [],
   "source": [
    "# Import module for data visualization\n",
    "from plotnine import *\n",
    "import plotnine\n",
    "# Data visualization with matplotlib\n",
    "import matplotlib.pyplot as plt\n",
    "# Use the theme of ggplot\n",
    "plt.style.use('ggplot')"
   ]
  },
  {
   "cell_type": "code",
   "execution_count": 49,
   "metadata": {},
   "outputs": [
    {
     "data": {
      "image/png": "[encoded data removed]",
      "text/plain": [
       "<Figure size 800x480 with 1 Axes>"
      ]
     },
     "metadata": {
      "needs_background": "light"
     },
     "output_type": "display_data"
    },
    {
     "data": {
      "text/plain": [
       "<ggplot: (8768386113033)>"
      ]
     },
     "execution_count": 49,
     "metadata": {},
     "output_type": "execute_result"
    }
   ],
   "source": [
    "\n",
    "# Data viz\n",
    "plotnine.options.figure_size = (8, 4.8)\n",
    "(\n",
    "    ggplot(data = df_cost)+\n",
    "    geom_line(aes(x = 'Cluster',\n",
    "                  y = 'Cost'))+\n",
    "    geom_point(aes(x = 'Cluster',\n",
    "                   y = 'Cost'))+\n",
    "    geom_label(aes(x = 'Cluster',\n",
    "                   y = 'Cost',\n",
    "                   label = 'Cluster'),\n",
    "               size = 10,\n",
    "               nudge_y = 1000) +\n",
    "    labs(title = 'Optimal number of cluster with Elbow Method')+\n",
    "    xlab('Number of Clusters k')+\n",
    "    ylab('Cost')+\n",
    "    theme_minimal()\n",
    ")"
   ]
  },
  {
   "cell_type": "markdown",
   "metadata": {},
   "source": [
    "### Optimal number of clusters for Categorical data = 4"
   ]
  },
  {
   "cell_type": "code",
   "execution_count": 50,
   "metadata": {},
   "outputs": [],
   "source": [
    "kmodes = KModes(n_clusters = 4)\n",
    "kmodes.fit_predict(df_categorical)\n",
    "cost=kmodes.cost_\n",
    "labels_kmode = kmodes.labels_"
   ]
  },
  {
   "cell_type": "code",
   "execution_count": 51,
   "metadata": {},
   "outputs": [
    {
     "data": {
      "text/plain": [
       "array([0, 0, 0, ..., 3, 1, 1], dtype=uint16)"
      ]
     },
     "execution_count": 51,
     "metadata": {},
     "output_type": "execute_result"
    }
   ],
   "source": [
    "labels_kmode"
   ]
  },
  {
   "cell_type": "code",
   "execution_count": 52,
   "metadata": {},
   "outputs": [
    {
     "data": {
      "text/plain": [
       "(array([0, 1, 2, 3], dtype=uint16), array([176028,  79977,  68033,  51831]))"
      ]
     },
     "execution_count": 52,
     "metadata": {},
     "output_type": "execute_result"
    }
   ],
   "source": [
    "np.unique(labels_kmode, return_counts = True)"
   ]
  },
  {
   "cell_type": "code",
   "execution_count": 53,
   "metadata": {},
   "outputs": [
    {
     "data": {
      "text/html": [
       "<div>\n",
       "<style scoped>\n",
       "    .dataframe tbody tr th:only-of-type {\n",
       "        vertical-align: middle;\n",
       "    }\n",
       "\n",
       "    .dataframe tbody tr th {\n",
       "        vertical-align: top;\n",
       "    }\n",
       "\n",
       "    .dataframe thead th {\n",
       "        text-align: right;\n",
       "    }\n",
       "</style>\n",
       "<table border=\"1\" class=\"dataframe\">\n",
       "  <thead>\n",
       "    <tr style=\"text-align: right;\">\n",
       "      <th></th>\n",
       "      <th>Make</th>\n",
       "      <th>Colour</th>\n",
       "      <th>Issue Time</th>\n",
       "      <th>Contravention Code</th>\n",
       "      <th>Location</th>\n",
       "      <th>PA_Details</th>\n",
       "      <th>Issue Date</th>\n",
       "      <th>Issue Date Original</th>\n",
       "    </tr>\n",
       "  </thead>\n",
       "  <tbody>\n",
       "    <tr>\n",
       "      <th>162</th>\n",
       "      <td>Audi</td>\n",
       "      <td>Black</td>\n",
       "      <td>9</td>\n",
       "      <td>19</td>\n",
       "      <td>Antwerp Way</td>\n",
       "      <td>1500</td>\n",
       "      <td>Q1Y1</td>\n",
       "      <td>2-Jan-2019</td>\n",
       "    </tr>\n",
       "    <tr>\n",
       "      <th>163</th>\n",
       "      <td>Audi</td>\n",
       "      <td>Black</td>\n",
       "      <td>10</td>\n",
       "      <td>12</td>\n",
       "      <td>First Avenue</td>\n",
       "      <td>3254</td>\n",
       "      <td>Q1Y1</td>\n",
       "      <td>2-Jan-2019</td>\n",
       "    </tr>\n",
       "    <tr>\n",
       "      <th>164</th>\n",
       "      <td>Audi</td>\n",
       "      <td>Black</td>\n",
       "      <td>10</td>\n",
       "      <td>12</td>\n",
       "      <td>Ingestre Road</td>\n",
       "      <td>1498</td>\n",
       "      <td>Q1Y1</td>\n",
       "      <td>2-Jan-2019</td>\n",
       "    </tr>\n",
       "    <tr>\n",
       "      <th>165</th>\n",
       "      <td>Audi</td>\n",
       "      <td>Black</td>\n",
       "      <td>10</td>\n",
       "      <td>12</td>\n",
       "      <td>Lawrence Road E6</td>\n",
       "      <td>3299</td>\n",
       "      <td>Q1Y1</td>\n",
       "      <td>2-Jan-2019</td>\n",
       "    </tr>\n",
       "    <tr>\n",
       "      <th>166</th>\n",
       "      <td>Audi</td>\n",
       "      <td>Black</td>\n",
       "      <td>10</td>\n",
       "      <td>12</td>\n",
       "      <td>Napier Road E15</td>\n",
       "      <td>1434</td>\n",
       "      <td>Q1Y1</td>\n",
       "      <td>2-Jan-2019</td>\n",
       "    </tr>\n",
       "  </tbody>\n",
       "</table>\n",
       "</div>"
      ],
      "text/plain": [
       "     Make Colour  Issue Time  Contravention Code          Location  \\\n",
       "162  Audi  Black           9                  19       Antwerp Way   \n",
       "163  Audi  Black          10                  12      First Avenue   \n",
       "164  Audi  Black          10                  12     Ingestre Road   \n",
       "165  Audi  Black          10                  12  Lawrence Road E6   \n",
       "166  Audi  Black          10                  12   Napier Road E15   \n",
       "\n",
       "     PA_Details Issue Date Issue Date Original  \n",
       "162        1500       Q1Y1          2-Jan-2019  \n",
       "163        3254       Q1Y1          2-Jan-2019  \n",
       "164        1498       Q1Y1          2-Jan-2019  \n",
       "165        3299       Q1Y1          2-Jan-2019  \n",
       "166        1434       Q1Y1          2-Jan-2019  "
      ]
     },
     "execution_count": 53,
     "metadata": {},
     "output_type": "execute_result"
    }
   ],
   "source": [
    "df.head()"
   ]
  },
  {
   "cell_type": "code",
   "execution_count": 54,
   "metadata": {},
   "outputs": [],
   "source": [
    "df_new=df"
   ]
  },
  {
   "cell_type": "markdown",
   "metadata": {},
   "source": [
    "### Adding cluster labels in the dataframe"
   ]
  },
  {
   "cell_type": "code",
   "execution_count": 55,
   "metadata": {},
   "outputs": [
    {
     "data": {
      "text/html": [
       "<div>\n",
       "<style scoped>\n",
       "    .dataframe tbody tr th:only-of-type {\n",
       "        vertical-align: middle;\n",
       "    }\n",
       "\n",
       "    .dataframe tbody tr th {\n",
       "        vertical-align: top;\n",
       "    }\n",
       "\n",
       "    .dataframe thead th {\n",
       "        text-align: right;\n",
       "    }\n",
       "</style>\n",
       "<table border=\"1\" class=\"dataframe\">\n",
       "  <thead>\n",
       "    <tr style=\"text-align: right;\">\n",
       "      <th></th>\n",
       "      <th>Make</th>\n",
       "      <th>Colour</th>\n",
       "      <th>Issue Time</th>\n",
       "      <th>Contravention Code</th>\n",
       "      <th>Location</th>\n",
       "      <th>PA_Details</th>\n",
       "      <th>Issue Date</th>\n",
       "      <th>Issue Date Original</th>\n",
       "      <th>clusters_k_means</th>\n",
       "      <th>clusters_k_mode</th>\n",
       "    </tr>\n",
       "  </thead>\n",
       "  <tbody>\n",
       "    <tr>\n",
       "      <th>162</th>\n",
       "      <td>Audi</td>\n",
       "      <td>Black</td>\n",
       "      <td>9</td>\n",
       "      <td>19</td>\n",
       "      <td>Antwerp Way</td>\n",
       "      <td>1500</td>\n",
       "      <td>Q1Y1</td>\n",
       "      <td>2-Jan-2019</td>\n",
       "      <td>1</td>\n",
       "      <td>0</td>\n",
       "    </tr>\n",
       "    <tr>\n",
       "      <th>163</th>\n",
       "      <td>Audi</td>\n",
       "      <td>Black</td>\n",
       "      <td>10</td>\n",
       "      <td>12</td>\n",
       "      <td>First Avenue</td>\n",
       "      <td>3254</td>\n",
       "      <td>Q1Y1</td>\n",
       "      <td>2-Jan-2019</td>\n",
       "      <td>0</td>\n",
       "      <td>0</td>\n",
       "    </tr>\n",
       "    <tr>\n",
       "      <th>164</th>\n",
       "      <td>Audi</td>\n",
       "      <td>Black</td>\n",
       "      <td>10</td>\n",
       "      <td>12</td>\n",
       "      <td>Ingestre Road</td>\n",
       "      <td>1498</td>\n",
       "      <td>Q1Y1</td>\n",
       "      <td>2-Jan-2019</td>\n",
       "      <td>1</td>\n",
       "      <td>0</td>\n",
       "    </tr>\n",
       "    <tr>\n",
       "      <th>165</th>\n",
       "      <td>Audi</td>\n",
       "      <td>Black</td>\n",
       "      <td>10</td>\n",
       "      <td>12</td>\n",
       "      <td>Lawrence Road E6</td>\n",
       "      <td>3299</td>\n",
       "      <td>Q1Y1</td>\n",
       "      <td>2-Jan-2019</td>\n",
       "      <td>0</td>\n",
       "      <td>0</td>\n",
       "    </tr>\n",
       "    <tr>\n",
       "      <th>166</th>\n",
       "      <td>Audi</td>\n",
       "      <td>Black</td>\n",
       "      <td>10</td>\n",
       "      <td>12</td>\n",
       "      <td>Napier Road E15</td>\n",
       "      <td>1434</td>\n",
       "      <td>Q1Y1</td>\n",
       "      <td>2-Jan-2019</td>\n",
       "      <td>1</td>\n",
       "      <td>0</td>\n",
       "    </tr>\n",
       "  </tbody>\n",
       "</table>\n",
       "</div>"
      ],
      "text/plain": [
       "     Make Colour  Issue Time  Contravention Code          Location  \\\n",
       "162  Audi  Black           9                  19       Antwerp Way   \n",
       "163  Audi  Black          10                  12      First Avenue   \n",
       "164  Audi  Black          10                  12     Ingestre Road   \n",
       "165  Audi  Black          10                  12  Lawrence Road E6   \n",
       "166  Audi  Black          10                  12   Napier Road E15   \n",
       "\n",
       "     PA_Details Issue Date Issue Date Original  clusters_k_means  \\\n",
       "162        1500       Q1Y1          2-Jan-2019                 1   \n",
       "163        3254       Q1Y1          2-Jan-2019                 0   \n",
       "164        1498       Q1Y1          2-Jan-2019                 1   \n",
       "165        3299       Q1Y1          2-Jan-2019                 0   \n",
       "166        1434       Q1Y1          2-Jan-2019                 1   \n",
       "\n",
       "     clusters_k_mode  \n",
       "162                0  \n",
       "163                0  \n",
       "164                0  \n",
       "165                0  \n",
       "166                0  "
      ]
     },
     "execution_count": 55,
     "metadata": {},
     "output_type": "execute_result"
    }
   ],
   "source": [
    "df_new['clusters_k_means'] = labels\n",
    "df_new['clusters_k_mode'] = labels_kmode\n",
    "df_new.head()"
   ]
  },
  {
   "cell_type": "code",
   "execution_count": 56,
   "metadata": {},
   "outputs": [
    {
     "data": {
      "text/html": [
       "<div>\n",
       "<style scoped>\n",
       "    .dataframe tbody tr th:only-of-type {\n",
       "        vertical-align: middle;\n",
       "    }\n",
       "\n",
       "    .dataframe tbody tr th {\n",
       "        vertical-align: top;\n",
       "    }\n",
       "\n",
       "    .dataframe thead th {\n",
       "        text-align: right;\n",
       "    }\n",
       "</style>\n",
       "<table border=\"1\" class=\"dataframe\">\n",
       "  <thead>\n",
       "    <tr style=\"text-align: right;\">\n",
       "      <th></th>\n",
       "      <th>Make</th>\n",
       "      <th>Colour</th>\n",
       "      <th>Issue Time</th>\n",
       "      <th>Contravention Code</th>\n",
       "      <th>Location</th>\n",
       "      <th>PA_Details</th>\n",
       "      <th>Issue Date</th>\n",
       "      <th>Issue Date Original</th>\n",
       "      <th>clusters_k_means</th>\n",
       "      <th>clusters_k_mode</th>\n",
       "    </tr>\n",
       "  </thead>\n",
       "  <tbody>\n",
       "    <tr>\n",
       "      <th>162</th>\n",
       "      <td>Audi</td>\n",
       "      <td>Black</td>\n",
       "      <td>9</td>\n",
       "      <td>19</td>\n",
       "      <td>Antwerp Way</td>\n",
       "      <td>1500</td>\n",
       "      <td>Q1Y1</td>\n",
       "      <td>2-Jan-2019</td>\n",
       "      <td>1</td>\n",
       "      <td>0</td>\n",
       "    </tr>\n",
       "    <tr>\n",
       "      <th>163</th>\n",
       "      <td>Audi</td>\n",
       "      <td>Black</td>\n",
       "      <td>10</td>\n",
       "      <td>12</td>\n",
       "      <td>First Avenue</td>\n",
       "      <td>3254</td>\n",
       "      <td>Q1Y1</td>\n",
       "      <td>2-Jan-2019</td>\n",
       "      <td>0</td>\n",
       "      <td>0</td>\n",
       "    </tr>\n",
       "    <tr>\n",
       "      <th>164</th>\n",
       "      <td>Audi</td>\n",
       "      <td>Black</td>\n",
       "      <td>10</td>\n",
       "      <td>12</td>\n",
       "      <td>Ingestre Road</td>\n",
       "      <td>1498</td>\n",
       "      <td>Q1Y1</td>\n",
       "      <td>2-Jan-2019</td>\n",
       "      <td>1</td>\n",
       "      <td>0</td>\n",
       "    </tr>\n",
       "    <tr>\n",
       "      <th>165</th>\n",
       "      <td>Audi</td>\n",
       "      <td>Black</td>\n",
       "      <td>10</td>\n",
       "      <td>12</td>\n",
       "      <td>Lawrence Road E6</td>\n",
       "      <td>3299</td>\n",
       "      <td>Q1Y1</td>\n",
       "      <td>2-Jan-2019</td>\n",
       "      <td>0</td>\n",
       "      <td>0</td>\n",
       "    </tr>\n",
       "    <tr>\n",
       "      <th>166</th>\n",
       "      <td>Audi</td>\n",
       "      <td>Black</td>\n",
       "      <td>10</td>\n",
       "      <td>12</td>\n",
       "      <td>Napier Road E15</td>\n",
       "      <td>1434</td>\n",
       "      <td>Q1Y1</td>\n",
       "      <td>2-Jan-2019</td>\n",
       "      <td>1</td>\n",
       "      <td>0</td>\n",
       "    </tr>\n",
       "  </tbody>\n",
       "</table>\n",
       "</div>"
      ],
      "text/plain": [
       "     Make Colour  Issue Time  Contravention Code          Location  \\\n",
       "162  Audi  Black           9                  19       Antwerp Way   \n",
       "163  Audi  Black          10                  12      First Avenue   \n",
       "164  Audi  Black          10                  12     Ingestre Road   \n",
       "165  Audi  Black          10                  12  Lawrence Road E6   \n",
       "166  Audi  Black          10                  12   Napier Road E15   \n",
       "\n",
       "     PA_Details Issue Date Issue Date Original  clusters_k_means  \\\n",
       "162        1500       Q1Y1          2-Jan-2019                 1   \n",
       "163        3254       Q1Y1          2-Jan-2019                 0   \n",
       "164        1498       Q1Y1          2-Jan-2019                 1   \n",
       "165        3299       Q1Y1          2-Jan-2019                 0   \n",
       "166        1434       Q1Y1          2-Jan-2019                 1   \n",
       "\n",
       "     clusters_k_mode  \n",
       "162                0  \n",
       "163                0  \n",
       "164                0  \n",
       "165                0  \n",
       "166                0  "
      ]
     },
     "execution_count": 56,
     "metadata": {},
     "output_type": "execute_result"
    }
   ],
   "source": [
    "df.head()"
   ]
  },
  {
   "cell_type": "markdown",
   "metadata": {},
   "source": [
    "## K Prototype for complete dataset"
   ]
  },
  {
   "cell_type": "code",
   "execution_count": 57,
   "metadata": {},
   "outputs": [],
   "source": [
    "from kmodes.kprototypes import KPrototypes"
   ]
  },
  {
   "cell_type": "code",
   "execution_count": 58,
   "metadata": {},
   "outputs": [
    {
     "data": {
      "text/html": [
       "<div>\n",
       "<style scoped>\n",
       "    .dataframe tbody tr th:only-of-type {\n",
       "        vertical-align: middle;\n",
       "    }\n",
       "\n",
       "    .dataframe tbody tr th {\n",
       "        vertical-align: top;\n",
       "    }\n",
       "\n",
       "    .dataframe thead th {\n",
       "        text-align: right;\n",
       "    }\n",
       "</style>\n",
       "<table border=\"1\" class=\"dataframe\">\n",
       "  <thead>\n",
       "    <tr style=\"text-align: right;\">\n",
       "      <th></th>\n",
       "      <th>Make</th>\n",
       "      <th>Colour</th>\n",
       "      <th>Issue Time</th>\n",
       "      <th>Contravention Code</th>\n",
       "      <th>Location</th>\n",
       "      <th>PA_Details</th>\n",
       "      <th>Issue Date</th>\n",
       "      <th>Issue Date Original</th>\n",
       "      <th>clusters_k_means</th>\n",
       "      <th>clusters_k_mode</th>\n",
       "    </tr>\n",
       "  </thead>\n",
       "  <tbody>\n",
       "    <tr>\n",
       "      <th>162</th>\n",
       "      <td>Audi</td>\n",
       "      <td>Black</td>\n",
       "      <td>9</td>\n",
       "      <td>19</td>\n",
       "      <td>Antwerp Way</td>\n",
       "      <td>1500</td>\n",
       "      <td>Q1Y1</td>\n",
       "      <td>2-Jan-2019</td>\n",
       "      <td>1</td>\n",
       "      <td>0</td>\n",
       "    </tr>\n",
       "    <tr>\n",
       "      <th>163</th>\n",
       "      <td>Audi</td>\n",
       "      <td>Black</td>\n",
       "      <td>10</td>\n",
       "      <td>12</td>\n",
       "      <td>First Avenue</td>\n",
       "      <td>3254</td>\n",
       "      <td>Q1Y1</td>\n",
       "      <td>2-Jan-2019</td>\n",
       "      <td>0</td>\n",
       "      <td>0</td>\n",
       "    </tr>\n",
       "    <tr>\n",
       "      <th>164</th>\n",
       "      <td>Audi</td>\n",
       "      <td>Black</td>\n",
       "      <td>10</td>\n",
       "      <td>12</td>\n",
       "      <td>Ingestre Road</td>\n",
       "      <td>1498</td>\n",
       "      <td>Q1Y1</td>\n",
       "      <td>2-Jan-2019</td>\n",
       "      <td>1</td>\n",
       "      <td>0</td>\n",
       "    </tr>\n",
       "    <tr>\n",
       "      <th>165</th>\n",
       "      <td>Audi</td>\n",
       "      <td>Black</td>\n",
       "      <td>10</td>\n",
       "      <td>12</td>\n",
       "      <td>Lawrence Road E6</td>\n",
       "      <td>3299</td>\n",
       "      <td>Q1Y1</td>\n",
       "      <td>2-Jan-2019</td>\n",
       "      <td>0</td>\n",
       "      <td>0</td>\n",
       "    </tr>\n",
       "    <tr>\n",
       "      <th>166</th>\n",
       "      <td>Audi</td>\n",
       "      <td>Black</td>\n",
       "      <td>10</td>\n",
       "      <td>12</td>\n",
       "      <td>Napier Road E15</td>\n",
       "      <td>1434</td>\n",
       "      <td>Q1Y1</td>\n",
       "      <td>2-Jan-2019</td>\n",
       "      <td>1</td>\n",
       "      <td>0</td>\n",
       "    </tr>\n",
       "  </tbody>\n",
       "</table>\n",
       "</div>"
      ],
      "text/plain": [
       "     Make Colour  Issue Time  Contravention Code          Location  \\\n",
       "162  Audi  Black           9                  19       Antwerp Way   \n",
       "163  Audi  Black          10                  12      First Avenue   \n",
       "164  Audi  Black          10                  12     Ingestre Road   \n",
       "165  Audi  Black          10                  12  Lawrence Road E6   \n",
       "166  Audi  Black          10                  12   Napier Road E15   \n",
       "\n",
       "     PA_Details Issue Date Issue Date Original  clusters_k_means  \\\n",
       "162        1500       Q1Y1          2-Jan-2019                 1   \n",
       "163        3254       Q1Y1          2-Jan-2019                 0   \n",
       "164        1498       Q1Y1          2-Jan-2019                 1   \n",
       "165        3299       Q1Y1          2-Jan-2019                 0   \n",
       "166        1434       Q1Y1          2-Jan-2019                 1   \n",
       "\n",
       "     clusters_k_mode  \n",
       "162                0  \n",
       "163                0  \n",
       "164                0  \n",
       "165                0  \n",
       "166                0  "
      ]
     },
     "execution_count": 58,
     "metadata": {},
     "output_type": "execute_result"
    }
   ],
   "source": [
    "df.head()"
   ]
  },
  {
   "cell_type": "code",
   "execution_count": 59,
   "metadata": {},
   "outputs": [
    {
     "data": {
      "text/html": [
       "<div>\n",
       "<style scoped>\n",
       "    .dataframe tbody tr th:only-of-type {\n",
       "        vertical-align: middle;\n",
       "    }\n",
       "\n",
       "    .dataframe tbody tr th {\n",
       "        vertical-align: top;\n",
       "    }\n",
       "\n",
       "    .dataframe thead th {\n",
       "        text-align: right;\n",
       "    }\n",
       "</style>\n",
       "<table border=\"1\" class=\"dataframe\">\n",
       "  <thead>\n",
       "    <tr style=\"text-align: right;\">\n",
       "      <th></th>\n",
       "      <th>Make</th>\n",
       "      <th>Colour</th>\n",
       "      <th>Issue Time</th>\n",
       "      <th>Contravention Code</th>\n",
       "      <th>Location</th>\n",
       "      <th>PA_Details</th>\n",
       "      <th>Issue Date</th>\n",
       "    </tr>\n",
       "  </thead>\n",
       "  <tbody>\n",
       "    <tr>\n",
       "      <th>162</th>\n",
       "      <td>Audi</td>\n",
       "      <td>Black</td>\n",
       "      <td>9</td>\n",
       "      <td>19</td>\n",
       "      <td>Antwerp Way</td>\n",
       "      <td>1500</td>\n",
       "      <td>Q1Y1</td>\n",
       "    </tr>\n",
       "    <tr>\n",
       "      <th>163</th>\n",
       "      <td>Audi</td>\n",
       "      <td>Black</td>\n",
       "      <td>10</td>\n",
       "      <td>12</td>\n",
       "      <td>First Avenue</td>\n",
       "      <td>3254</td>\n",
       "      <td>Q1Y1</td>\n",
       "    </tr>\n",
       "    <tr>\n",
       "      <th>164</th>\n",
       "      <td>Audi</td>\n",
       "      <td>Black</td>\n",
       "      <td>10</td>\n",
       "      <td>12</td>\n",
       "      <td>Ingestre Road</td>\n",
       "      <td>1498</td>\n",
       "      <td>Q1Y1</td>\n",
       "    </tr>\n",
       "    <tr>\n",
       "      <th>165</th>\n",
       "      <td>Audi</td>\n",
       "      <td>Black</td>\n",
       "      <td>10</td>\n",
       "      <td>12</td>\n",
       "      <td>Lawrence Road E6</td>\n",
       "      <td>3299</td>\n",
       "      <td>Q1Y1</td>\n",
       "    </tr>\n",
       "    <tr>\n",
       "      <th>166</th>\n",
       "      <td>Audi</td>\n",
       "      <td>Black</td>\n",
       "      <td>10</td>\n",
       "      <td>12</td>\n",
       "      <td>Napier Road E15</td>\n",
       "      <td>1434</td>\n",
       "      <td>Q1Y1</td>\n",
       "    </tr>\n",
       "  </tbody>\n",
       "</table>\n",
       "</div>"
      ],
      "text/plain": [
       "     Make Colour  Issue Time  Contravention Code          Location  \\\n",
       "162  Audi  Black           9                  19       Antwerp Way   \n",
       "163  Audi  Black          10                  12      First Avenue   \n",
       "164  Audi  Black          10                  12     Ingestre Road   \n",
       "165  Audi  Black          10                  12  Lawrence Road E6   \n",
       "166  Audi  Black          10                  12   Napier Road E15   \n",
       "\n",
       "     PA_Details Issue Date  \n",
       "162        1500       Q1Y1  \n",
       "163        3254       Q1Y1  \n",
       "164        1498       Q1Y1  \n",
       "165        3299       Q1Y1  \n",
       "166        1434       Q1Y1  "
      ]
     },
     "execution_count": 59,
     "metadata": {},
     "output_type": "execute_result"
    }
   ],
   "source": [
    "df =df.iloc[:,0:7]\n",
    "df.head()"
   ]
  },
  {
   "cell_type": "code",
   "execution_count": 60,
   "metadata": {},
   "outputs": [
    {
     "name": "stdout",
     "output_type": "stream",
     "text": [
      "<class 'pandas.core.frame.DataFrame'>\n",
      "Int64Index: 375869 entries, 162 to 380638\n",
      "Data columns (total 7 columns):\n",
      " #   Column              Non-Null Count   Dtype \n",
      "---  ------              --------------   ----- \n",
      " 0   Make                375869 non-null  object\n",
      " 1   Colour              375869 non-null  object\n",
      " 2   Issue Time          375869 non-null  int64 \n",
      " 3   Contravention Code  375869 non-null  int64 \n",
      " 4   Location            375869 non-null  object\n",
      " 5   PA_Details          375869 non-null  int64 \n",
      " 6   Issue Date          375869 non-null  object\n",
      "dtypes: int64(3), object(4)\n",
      "memory usage: 31.0+ MB\n"
     ]
    }
   ],
   "source": [
    "df.info()"
   ]
  },
  {
   "cell_type": "code",
   "execution_count": 61,
   "metadata": {},
   "outputs": [
    {
     "data": {
      "text/plain": [
       "Make           210\n",
       "Colour          60\n",
       "Location      1631\n",
       "Issue Date      12\n",
       "dtype: int64"
      ]
     },
     "execution_count": 61,
     "metadata": {},
     "output_type": "execute_result"
    }
   ],
   "source": [
    "# Inspect the categorical variables\n",
    "df.select_dtypes('object').nunique()"
   ]
  },
  {
   "cell_type": "code",
   "execution_count": 62,
   "metadata": {},
   "outputs": [
    {
     "data": {
      "text/html": [
       "<div>\n",
       "<style scoped>\n",
       "    .dataframe tbody tr th:only-of-type {\n",
       "        vertical-align: middle;\n",
       "    }\n",
       "\n",
       "    .dataframe tbody tr th {\n",
       "        vertical-align: top;\n",
       "    }\n",
       "\n",
       "    .dataframe thead th {\n",
       "        text-align: right;\n",
       "    }\n",
       "</style>\n",
       "<table border=\"1\" class=\"dataframe\">\n",
       "  <thead>\n",
       "    <tr style=\"text-align: right;\">\n",
       "      <th></th>\n",
       "      <th>Issue Time</th>\n",
       "      <th>Contravention Code</th>\n",
       "      <th>PA_Details</th>\n",
       "    </tr>\n",
       "  </thead>\n",
       "  <tbody>\n",
       "    <tr>\n",
       "      <th>count</th>\n",
       "      <td>375869.000000</td>\n",
       "      <td>375869.000000</td>\n",
       "      <td>375869.000000</td>\n",
       "    </tr>\n",
       "    <tr>\n",
       "      <th>mean</th>\n",
       "      <td>11.698749</td>\n",
       "      <td>23.073507</td>\n",
       "      <td>1823.647766</td>\n",
       "    </tr>\n",
       "    <tr>\n",
       "      <th>std</th>\n",
       "      <td>3.525302</td>\n",
       "      <td>34.907346</td>\n",
       "      <td>758.566191</td>\n",
       "    </tr>\n",
       "    <tr>\n",
       "      <th>min</th>\n",
       "      <td>0.000000</td>\n",
       "      <td>1.000000</td>\n",
       "      <td>777.000000</td>\n",
       "    </tr>\n",
       "    <tr>\n",
       "      <th>25%</th>\n",
       "      <td>9.000000</td>\n",
       "      <td>2.000000</td>\n",
       "      <td>1433.000000</td>\n",
       "    </tr>\n",
       "    <tr>\n",
       "      <th>50%</th>\n",
       "      <td>11.000000</td>\n",
       "      <td>12.000000</td>\n",
       "      <td>1468.000000</td>\n",
       "    </tr>\n",
       "    <tr>\n",
       "      <th>75%</th>\n",
       "      <td>14.000000</td>\n",
       "      <td>21.000000</td>\n",
       "      <td>1519.000000</td>\n",
       "    </tr>\n",
       "    <tr>\n",
       "      <th>max</th>\n",
       "      <td>23.000000</td>\n",
       "      <td>232.000000</td>\n",
       "      <td>9999.000000</td>\n",
       "    </tr>\n",
       "  </tbody>\n",
       "</table>\n",
       "</div>"
      ],
      "text/plain": [
       "          Issue Time  Contravention Code     PA_Details\n",
       "count  375869.000000       375869.000000  375869.000000\n",
       "mean       11.698749           23.073507    1823.647766\n",
       "std         3.525302           34.907346     758.566191\n",
       "min         0.000000            1.000000     777.000000\n",
       "25%         9.000000            2.000000    1433.000000\n",
       "50%        11.000000           12.000000    1468.000000\n",
       "75%        14.000000           21.000000    1519.000000\n",
       "max        23.000000          232.000000    9999.000000"
      ]
     },
     "execution_count": 62,
     "metadata": {},
     "output_type": "execute_result"
    }
   ],
   "source": [
    "# Inspect the numerical variables\n",
    "df.describe()"
   ]
  },
  {
   "cell_type": "code",
   "execution_count": 63,
   "metadata": {},
   "outputs": [
    {
     "name": "stdout",
     "output_type": "stream",
     "text": [
      "Categorical columns           : ['Make', 'Colour', 'Location', 'Issue Date']\n",
      "Categorical columns position  : [0, 1, 4, 6]\n"
     ]
    }
   ],
   "source": [
    "# Get the position of categorical columns\n",
    "catColumnsPos = [df.columns.get_loc(col) for col in list(df.select_dtypes('object').columns)]\n",
    "print('Categorical columns           : {}'.format(list(df.select_dtypes('object').columns)))\n",
    "print('Categorical columns position  : {}'.format(catColumnsPos))"
   ]
  },
  {
   "cell_type": "code",
   "execution_count": 64,
   "metadata": {},
   "outputs": [
    {
     "data": {
      "text/plain": [
       "array([['Audi', 'Black', 9, ..., 'Antwerp Way', 1500, 'Q1Y1'],\n",
       "       ['Audi', 'Black', 10, ..., 'First Avenue', 3254, 'Q1Y1'],\n",
       "       ['Audi', 'Black', 10, ..., 'Ingestre Road', 1498, 'Q1Y1'],\n",
       "       ...,\n",
       "       ['YAMAHA', 'WHITE', 16, ..., 'Stratford Multi Storey Car Park',\n",
       "        1458, 'Q4Y3'],\n",
       "       ['Yamaha', 'White', 17, ..., 'Westfield Avenue', 1475, 'Q4Y3'],\n",
       "       ['Yamaha', 'White', 17, ..., 'Harold Road', 3237, 'Q4Y3']],\n",
       "      dtype=object)"
      ]
     },
     "execution_count": 64,
     "metadata": {},
     "output_type": "execute_result"
    }
   ],
   "source": [
    "# Convert dataframe to matrix\n",
    "dfMatrix = df.to_numpy()\n",
    "dfMatrix"
   ]
  },
  {
   "cell_type": "code",
   "execution_count": 65,
   "metadata": {},
   "outputs": [
    {
     "data": {
      "text/plain": [
       "array([3, 0, 3, ..., 3, 3, 0], dtype=uint16)"
      ]
     },
     "execution_count": 65,
     "metadata": {},
     "output_type": "execute_result"
    }
   ],
   "source": [
    "kprototype = KPrototypes(n_clusters = 4)\n",
    "kprototype.fit_predict(dfMatrix, categorical = catColumnsPos)\n"
   ]
  },
  {
   "cell_type": "code",
   "execution_count": 66,
   "metadata": {},
   "outputs": [],
   "source": [
    "labels_kprototype = kprototype.labels_"
   ]
  },
  {
   "cell_type": "markdown",
   "metadata": {},
   "source": [
    "### Adding cluster labels in the dataframe"
   ]
  },
  {
   "cell_type": "code",
   "execution_count": 67,
   "metadata": {},
   "outputs": [
    {
     "data": {
      "text/html": [
       "<div>\n",
       "<style scoped>\n",
       "    .dataframe tbody tr th:only-of-type {\n",
       "        vertical-align: middle;\n",
       "    }\n",
       "\n",
       "    .dataframe tbody tr th {\n",
       "        vertical-align: top;\n",
       "    }\n",
       "\n",
       "    .dataframe thead th {\n",
       "        text-align: right;\n",
       "    }\n",
       "</style>\n",
       "<table border=\"1\" class=\"dataframe\">\n",
       "  <thead>\n",
       "    <tr style=\"text-align: right;\">\n",
       "      <th></th>\n",
       "      <th>Make</th>\n",
       "      <th>Colour</th>\n",
       "      <th>Issue Time</th>\n",
       "      <th>Contravention Code</th>\n",
       "      <th>Location</th>\n",
       "      <th>PA_Details</th>\n",
       "      <th>Issue Date</th>\n",
       "      <th>Issue Date Original</th>\n",
       "      <th>clusters_k_means</th>\n",
       "      <th>clusters_k_mode</th>\n",
       "      <th>clusters_k_prototype</th>\n",
       "    </tr>\n",
       "  </thead>\n",
       "  <tbody>\n",
       "    <tr>\n",
       "      <th>162</th>\n",
       "      <td>Audi</td>\n",
       "      <td>Black</td>\n",
       "      <td>9</td>\n",
       "      <td>19</td>\n",
       "      <td>Antwerp Way</td>\n",
       "      <td>1500</td>\n",
       "      <td>Q1Y1</td>\n",
       "      <td>2-Jan-2019</td>\n",
       "      <td>1</td>\n",
       "      <td>0</td>\n",
       "      <td>3</td>\n",
       "    </tr>\n",
       "    <tr>\n",
       "      <th>163</th>\n",
       "      <td>Audi</td>\n",
       "      <td>Black</td>\n",
       "      <td>10</td>\n",
       "      <td>12</td>\n",
       "      <td>First Avenue</td>\n",
       "      <td>3254</td>\n",
       "      <td>Q1Y1</td>\n",
       "      <td>2-Jan-2019</td>\n",
       "      <td>0</td>\n",
       "      <td>0</td>\n",
       "      <td>0</td>\n",
       "    </tr>\n",
       "    <tr>\n",
       "      <th>164</th>\n",
       "      <td>Audi</td>\n",
       "      <td>Black</td>\n",
       "      <td>10</td>\n",
       "      <td>12</td>\n",
       "      <td>Ingestre Road</td>\n",
       "      <td>1498</td>\n",
       "      <td>Q1Y1</td>\n",
       "      <td>2-Jan-2019</td>\n",
       "      <td>1</td>\n",
       "      <td>0</td>\n",
       "      <td>3</td>\n",
       "    </tr>\n",
       "    <tr>\n",
       "      <th>165</th>\n",
       "      <td>Audi</td>\n",
       "      <td>Black</td>\n",
       "      <td>10</td>\n",
       "      <td>12</td>\n",
       "      <td>Lawrence Road E6</td>\n",
       "      <td>3299</td>\n",
       "      <td>Q1Y1</td>\n",
       "      <td>2-Jan-2019</td>\n",
       "      <td>0</td>\n",
       "      <td>0</td>\n",
       "      <td>0</td>\n",
       "    </tr>\n",
       "    <tr>\n",
       "      <th>166</th>\n",
       "      <td>Audi</td>\n",
       "      <td>Black</td>\n",
       "      <td>10</td>\n",
       "      <td>12</td>\n",
       "      <td>Napier Road E15</td>\n",
       "      <td>1434</td>\n",
       "      <td>Q1Y1</td>\n",
       "      <td>2-Jan-2019</td>\n",
       "      <td>1</td>\n",
       "      <td>0</td>\n",
       "      <td>3</td>\n",
       "    </tr>\n",
       "  </tbody>\n",
       "</table>\n",
       "</div>"
      ],
      "text/plain": [
       "     Make Colour  Issue Time  Contravention Code          Location  \\\n",
       "162  Audi  Black           9                  19       Antwerp Way   \n",
       "163  Audi  Black          10                  12      First Avenue   \n",
       "164  Audi  Black          10                  12     Ingestre Road   \n",
       "165  Audi  Black          10                  12  Lawrence Road E6   \n",
       "166  Audi  Black          10                  12   Napier Road E15   \n",
       "\n",
       "     PA_Details Issue Date Issue Date Original  clusters_k_means  \\\n",
       "162        1500       Q1Y1          2-Jan-2019                 1   \n",
       "163        3254       Q1Y1          2-Jan-2019                 0   \n",
       "164        1498       Q1Y1          2-Jan-2019                 1   \n",
       "165        3299       Q1Y1          2-Jan-2019                 0   \n",
       "166        1434       Q1Y1          2-Jan-2019                 1   \n",
       "\n",
       "     clusters_k_mode  clusters_k_prototype  \n",
       "162                0                     3  \n",
       "163                0                     0  \n",
       "164                0                     3  \n",
       "165                0                     0  \n",
       "166                0                     3  "
      ]
     },
     "execution_count": 67,
     "metadata": {},
     "output_type": "execute_result"
    }
   ],
   "source": [
    "df_new['clusters_k_prototype'] = labels_kprototype\n",
    "df_new.head()"
   ]
  },
  {
   "cell_type": "code",
   "execution_count": 68,
   "metadata": {},
   "outputs": [],
   "source": [
    "df_new.to_csv('clustered_data.csv')"
   ]
  },
  {
   "cell_type": "code",
   "execution_count": 69,
   "metadata": {},
   "outputs": [
    {
     "data": {
      "text/plain": [
       "(array([0, 1, 2], dtype=int32), array([ 80952, 241777,  53140]))"
      ]
     },
     "execution_count": 69,
     "metadata": {},
     "output_type": "execute_result"
    }
   ],
   "source": [
    "np.unique(labels, return_counts = True)"
   ]
  },
  {
   "cell_type": "code",
   "execution_count": 70,
   "metadata": {},
   "outputs": [
    {
     "data": {
      "text/plain": [
       "numpy.ndarray"
      ]
     },
     "execution_count": 70,
     "metadata": {},
     "output_type": "execute_result"
    }
   ],
   "source": [
    "type(labels)"
   ]
  },
  {
   "cell_type": "markdown",
   "metadata": {},
   "source": [
    "### Visualising count of records in each cluster"
   ]
  },
  {
   "cell_type": "markdown",
   "metadata": {},
   "source": [
    "- \"Count of records in each cluster in Clustered data for Numerical Features\""
   ]
  },
  {
   "cell_type": "code",
   "execution_count": 71,
   "metadata": {},
   "outputs": [
    {
     "data": {
      "text/plain": [
       "Text(0.5, 1.0, 'Count of records in each cluster in Clustered data for Numerical Features')"
      ]
     },
     "execution_count": 71,
     "metadata": {},
     "output_type": "execute_result"
    },
    {
     "data": {
      "image/png": "[encoded data removed]",
      "text/plain": [
       "<Figure size 432x288 with 1 Axes>"
      ]
     },
     "metadata": {},
     "output_type": "display_data"
    }
   ],
   "source": [
    "a = np.hstack(labels)\n",
    "_ = plt.hist(a)  # arguments are passed to np.histogram\n",
    "plt.title(\"Count of records in each cluster in Clustered data for Numerical Features\")"
   ]
  },
  {
   "cell_type": "code",
   "execution_count": 72,
   "metadata": {},
   "outputs": [
    {
     "data": {
      "text/plain": [
       "(array([0, 1, 2, 3], dtype=uint16), array([176028,  79977,  68033,  51831]))"
      ]
     },
     "execution_count": 72,
     "metadata": {},
     "output_type": "execute_result"
    }
   ],
   "source": [
    "np.unique(labels_kmode, return_counts = True)"
   ]
  },
  {
   "cell_type": "markdown",
   "metadata": {},
   "source": [
    "- \"Count of records in each cluster in Clustered data for Categorical Features\""
   ]
  },
  {
   "cell_type": "code",
   "execution_count": 73,
   "metadata": {},
   "outputs": [
    {
     "data": {
      "text/plain": [
       "Text(0.5, 1.0, 'Count of records in each cluster in Clustered data for Categorical Features')"
      ]
     },
     "execution_count": 73,
     "metadata": {},
     "output_type": "execute_result"
    },
    {
     "data": {
      "image/png": "[encoded data removed]",
      "text/plain": [
       "<Figure size 432x288 with 1 Axes>"
      ]
     },
     "metadata": {},
     "output_type": "display_data"
    }
   ],
   "source": [
    "b = np.hstack(labels_kmode)\n",
    "_ = plt.hist(b)  # arguments are passed to np.histogram\n",
    "plt.title(\"Count of records in each cluster in Clustered data for Categorical Features\")"
   ]
  },
  {
   "cell_type": "code",
   "execution_count": 74,
   "metadata": {},
   "outputs": [
    {
     "data": {
      "text/plain": [
       "(array([0, 1, 2, 3], dtype=uint16), array([ 80952,  13384,  50161, 231372]))"
      ]
     },
     "execution_count": 74,
     "metadata": {},
     "output_type": "execute_result"
    }
   ],
   "source": [
    "np.unique(labels_kprototype, return_counts = True)"
   ]
  },
  {
   "cell_type": "markdown",
   "metadata": {},
   "source": [
    "- \"Count of records in each cluster in Clustered data for all Features\""
   ]
  },
  {
   "cell_type": "code",
   "execution_count": 75,
   "metadata": {},
   "outputs": [
    {
     "data": {
      "text/plain": [
       "Text(0.5, 1.0, 'Count of records in each cluster in Clustered data for all Features')"
      ]
     },
     "execution_count": 75,
     "metadata": {},
     "output_type": "execute_result"
    },
    {
     "data": {
      "image/png": "[encoded data removed]",
      "text/plain": [
       "<Figure size 432x288 with 1 Axes>"
      ]
     },
     "metadata": {},
     "output_type": "display_data"
    }
   ],
   "source": [
    "c= np.hstack(labels_kprototype)\n",
    "_ = plt.hist(c)  # arguments are passed to np.histogram\n",
    "plt.title(\"Count of records in each cluster in Clustered data for all Features\")"
   ]
  },
  {
   "cell_type": "markdown",
   "metadata": {},
   "source": [
    "## K MODES Clustering with actual date"
   ]
  },
  {
   "cell_type": "code",
   "execution_count": 76,
   "metadata": {},
   "outputs": [
    {
     "data": {
      "text/html": [
       "<div>\n",
       "<style scoped>\n",
       "    .dataframe tbody tr th:only-of-type {\n",
       "        vertical-align: middle;\n",
       "    }\n",
       "\n",
       "    .dataframe tbody tr th {\n",
       "        vertical-align: top;\n",
       "    }\n",
       "\n",
       "    .dataframe thead th {\n",
       "        text-align: right;\n",
       "    }\n",
       "</style>\n",
       "<table border=\"1\" class=\"dataframe\">\n",
       "  <thead>\n",
       "    <tr style=\"text-align: right;\">\n",
       "      <th></th>\n",
       "      <th>Unnamed: 0</th>\n",
       "      <th>Make</th>\n",
       "      <th>Colour</th>\n",
       "      <th>Issue Time</th>\n",
       "      <th>Contravention Code</th>\n",
       "      <th>Location</th>\n",
       "      <th>PA_Details</th>\n",
       "      <th>Issue Date</th>\n",
       "      <th>Issue Date Original</th>\n",
       "      <th>clusters_k_means</th>\n",
       "      <th>clusters_k_mode</th>\n",
       "      <th>clusters_k_prototype</th>\n",
       "    </tr>\n",
       "  </thead>\n",
       "  <tbody>\n",
       "    <tr>\n",
       "      <th>0</th>\n",
       "      <td>162</td>\n",
       "      <td>Audi</td>\n",
       "      <td>Black</td>\n",
       "      <td>9</td>\n",
       "      <td>19</td>\n",
       "      <td>Antwerp Way</td>\n",
       "      <td>1500</td>\n",
       "      <td>Q1Y1</td>\n",
       "      <td>2-Jan-2019</td>\n",
       "      <td>1</td>\n",
       "      <td>0</td>\n",
       "      <td>3</td>\n",
       "    </tr>\n",
       "    <tr>\n",
       "      <th>1</th>\n",
       "      <td>163</td>\n",
       "      <td>Audi</td>\n",
       "      <td>Black</td>\n",
       "      <td>10</td>\n",
       "      <td>12</td>\n",
       "      <td>First Avenue</td>\n",
       "      <td>3254</td>\n",
       "      <td>Q1Y1</td>\n",
       "      <td>2-Jan-2019</td>\n",
       "      <td>0</td>\n",
       "      <td>0</td>\n",
       "      <td>0</td>\n",
       "    </tr>\n",
       "    <tr>\n",
       "      <th>2</th>\n",
       "      <td>164</td>\n",
       "      <td>Audi</td>\n",
       "      <td>Black</td>\n",
       "      <td>10</td>\n",
       "      <td>12</td>\n",
       "      <td>Ingestre Road</td>\n",
       "      <td>1498</td>\n",
       "      <td>Q1Y1</td>\n",
       "      <td>2-Jan-2019</td>\n",
       "      <td>1</td>\n",
       "      <td>0</td>\n",
       "      <td>3</td>\n",
       "    </tr>\n",
       "    <tr>\n",
       "      <th>3</th>\n",
       "      <td>165</td>\n",
       "      <td>Audi</td>\n",
       "      <td>Black</td>\n",
       "      <td>10</td>\n",
       "      <td>12</td>\n",
       "      <td>Lawrence Road E6</td>\n",
       "      <td>3299</td>\n",
       "      <td>Q1Y1</td>\n",
       "      <td>2-Jan-2019</td>\n",
       "      <td>0</td>\n",
       "      <td>0</td>\n",
       "      <td>0</td>\n",
       "    </tr>\n",
       "    <tr>\n",
       "      <th>4</th>\n",
       "      <td>166</td>\n",
       "      <td>Audi</td>\n",
       "      <td>Black</td>\n",
       "      <td>10</td>\n",
       "      <td>12</td>\n",
       "      <td>Napier Road E15</td>\n",
       "      <td>1434</td>\n",
       "      <td>Q1Y1</td>\n",
       "      <td>2-Jan-2019</td>\n",
       "      <td>1</td>\n",
       "      <td>0</td>\n",
       "      <td>3</td>\n",
       "    </tr>\n",
       "  </tbody>\n",
       "</table>\n",
       "</div>"
      ],
      "text/plain": [
       "   Unnamed: 0  Make Colour  Issue Time  Contravention Code          Location  \\\n",
       "0         162  Audi  Black           9                  19       Antwerp Way   \n",
       "1         163  Audi  Black          10                  12      First Avenue   \n",
       "2         164  Audi  Black          10                  12     Ingestre Road   \n",
       "3         165  Audi  Black          10                  12  Lawrence Road E6   \n",
       "4         166  Audi  Black          10                  12   Napier Road E15   \n",
       "\n",
       "   PA_Details Issue Date Issue Date Original  clusters_k_means  \\\n",
       "0        1500       Q1Y1          2-Jan-2019                 1   \n",
       "1        3254       Q1Y1          2-Jan-2019                 0   \n",
       "2        1498       Q1Y1          2-Jan-2019                 1   \n",
       "3        3299       Q1Y1          2-Jan-2019                 0   \n",
       "4        1434       Q1Y1          2-Jan-2019                 1   \n",
       "\n",
       "   clusters_k_mode  clusters_k_prototype  \n",
       "0                0                     3  \n",
       "1                0                     0  \n",
       "2                0                     3  \n",
       "3                0                     0  \n",
       "4                0                     3  "
      ]
     },
     "execution_count": 76,
     "metadata": {},
     "output_type": "execute_result"
    }
   ],
   "source": [
    "## Load Dataset\n",
    "df2 = pd.read_csv('clustered_data.csv')\n",
    "\n",
    "df2.head()\n"
   ]
  },
  {
   "cell_type": "code",
   "execution_count": 77,
   "metadata": {},
   "outputs": [],
   "source": [
    "df_categorical2  = df2[['Make','Colour',\t'Issue Date Original',\t'Location']]"
   ]
  },
  {
   "cell_type": "code",
   "execution_count": 78,
   "metadata": {},
   "outputs": [
    {
     "data": {
      "text/html": [
       "<div>\n",
       "<style scoped>\n",
       "    .dataframe tbody tr th:only-of-type {\n",
       "        vertical-align: middle;\n",
       "    }\n",
       "\n",
       "    .dataframe tbody tr th {\n",
       "        vertical-align: top;\n",
       "    }\n",
       "\n",
       "    .dataframe thead th {\n",
       "        text-align: right;\n",
       "    }\n",
       "</style>\n",
       "<table border=\"1\" class=\"dataframe\">\n",
       "  <thead>\n",
       "    <tr style=\"text-align: right;\">\n",
       "      <th></th>\n",
       "      <th>Make</th>\n",
       "      <th>Colour</th>\n",
       "      <th>Issue Date Original</th>\n",
       "      <th>Location</th>\n",
       "    </tr>\n",
       "  </thead>\n",
       "  <tbody>\n",
       "    <tr>\n",
       "      <th>0</th>\n",
       "      <td>Audi</td>\n",
       "      <td>Black</td>\n",
       "      <td>2-Jan-2019</td>\n",
       "      <td>Antwerp Way</td>\n",
       "    </tr>\n",
       "    <tr>\n",
       "      <th>1</th>\n",
       "      <td>Audi</td>\n",
       "      <td>Black</td>\n",
       "      <td>2-Jan-2019</td>\n",
       "      <td>First Avenue</td>\n",
       "    </tr>\n",
       "    <tr>\n",
       "      <th>2</th>\n",
       "      <td>Audi</td>\n",
       "      <td>Black</td>\n",
       "      <td>2-Jan-2019</td>\n",
       "      <td>Ingestre Road</td>\n",
       "    </tr>\n",
       "    <tr>\n",
       "      <th>3</th>\n",
       "      <td>Audi</td>\n",
       "      <td>Black</td>\n",
       "      <td>2-Jan-2019</td>\n",
       "      <td>Lawrence Road E6</td>\n",
       "    </tr>\n",
       "    <tr>\n",
       "      <th>4</th>\n",
       "      <td>Audi</td>\n",
       "      <td>Black</td>\n",
       "      <td>2-Jan-2019</td>\n",
       "      <td>Napier Road E15</td>\n",
       "    </tr>\n",
       "  </tbody>\n",
       "</table>\n",
       "</div>"
      ],
      "text/plain": [
       "   Make Colour Issue Date Original          Location\n",
       "0  Audi  Black          2-Jan-2019       Antwerp Way\n",
       "1  Audi  Black          2-Jan-2019      First Avenue\n",
       "2  Audi  Black          2-Jan-2019     Ingestre Road\n",
       "3  Audi  Black          2-Jan-2019  Lawrence Road E6\n",
       "4  Audi  Black          2-Jan-2019   Napier Road E15"
      ]
     },
     "execution_count": 78,
     "metadata": {},
     "output_type": "execute_result"
    }
   ],
   "source": [
    "df_categorical2.head()"
   ]
  },
  {
   "cell_type": "markdown",
   "metadata": {},
   "source": [
    "### Elbow Method for optimal number of clusters"
   ]
  },
  {
   "cell_type": "code",
   "execution_count": 79,
   "metadata": {},
   "outputs": [
    {
     "name": "stdout",
     "output_type": "stream",
     "text": [
      "Cluster initiation: 2\n",
      "Cluster initiation: 3\n",
      "Cluster initiation: 4\n",
      "Cluster initiation: 5\n"
     ]
    }
   ],
   "source": [
    "# Choosing optimal K\n",
    "cost2 = []\n",
    "for cluster in range(2, 6):\n",
    "    try:\n",
    "        kmodes2 = KModes(n_clusters = cluster)\n",
    "        kmodes2.fit_predict(df_categorical2)\n",
    "        cost2.append(kmodes2.cost_)\n",
    "        print('Cluster initiation: {}'.format(cluster))\n",
    "    except:\n",
    "        break\n",
    "# Converting the results into a dataframe and plotting them\n",
    "df_cost = pd.DataFrame({'Cluster': range(2, 6), 'Cost': cost2})"
   ]
  },
  {
   "cell_type": "code",
   "execution_count": 80,
   "metadata": {},
   "outputs": [],
   "source": [
    "# Import module for data visualization\n",
    "from plotnine import *\n",
    "import plotnine\n",
    "# Data visualization with matplotlib\n",
    "import matplotlib.pyplot as plt\n",
    "# Use the theme of ggplot\n",
    "plt.style.use('ggplot')"
   ]
  },
  {
   "cell_type": "code",
   "execution_count": 81,
   "metadata": {},
   "outputs": [
    {
     "data": {
      "image/png": "[encoded data removed]",
      "text/plain": [
       "<Figure size 800x480 with 1 Axes>"
      ]
     },
     "metadata": {
      "needs_background": "light"
     },
     "output_type": "display_data"
    },
    {
     "data": {
      "text/plain": [
       "<ggplot: (8768385836525)>"
      ]
     },
     "execution_count": 81,
     "metadata": {},
     "output_type": "execute_result"
    }
   ],
   "source": [
    "\n",
    "# Data viz\n",
    "plotnine.options.figure_size = (8, 4.8)\n",
    "(\n",
    "    ggplot(data = df_cost)+\n",
    "    geom_line(aes(x = 'Cluster',\n",
    "                  y = 'Cost'))+\n",
    "    geom_point(aes(x = 'Cluster',\n",
    "                   y = 'Cost'))+\n",
    "    geom_label(aes(x = 'Cluster',\n",
    "                   y = 'Cost',\n",
    "                   label = 'Cluster'),\n",
    "               size = 10,\n",
    "               nudge_y = 1000) +\n",
    "    labs(title = 'Optimal number of cluster with Elbow Method')+\n",
    "    xlab('Number of Clusters k')+\n",
    "    ylab('Cost')+\n",
    "    theme_minimal()\n",
    ")"
   ]
  },
  {
   "cell_type": "markdown",
   "metadata": {},
   "source": [
    "### Optimal number of clusters for Categorical data = 3"
   ]
  },
  {
   "cell_type": "code",
   "execution_count": 82,
   "metadata": {},
   "outputs": [],
   "source": [
    "kmodes2 = KModes(n_clusters = 3)\n",
    "kmodes2.fit_predict(df_categorical2)\n",
    "cost=kmodes2.cost_\n",
    "labels_kmode2 = kmodes2.labels_"
   ]
  },
  {
   "cell_type": "code",
   "execution_count": 83,
   "metadata": {},
   "outputs": [
    {
     "data": {
      "text/plain": [
       "array([0, 0, 0, ..., 0, 1, 1], dtype=uint16)"
      ]
     },
     "execution_count": 83,
     "metadata": {},
     "output_type": "execute_result"
    }
   ],
   "source": [
    "labels_kmode2"
   ]
  },
  {
   "cell_type": "code",
   "execution_count": 84,
   "metadata": {},
   "outputs": [
    {
     "data": {
      "text/plain": [
       "(array([0, 1, 2], dtype=uint16), array([243101,  76372,  56396]))"
      ]
     },
     "execution_count": 84,
     "metadata": {},
     "output_type": "execute_result"
    }
   ],
   "source": [
    "np.unique(labels_kmode2, return_counts = True)"
   ]
  },
  {
   "cell_type": "code",
   "execution_count": 85,
   "metadata": {},
   "outputs": [
    {
     "data": {
      "text/html": [
       "<div>\n",
       "<style scoped>\n",
       "    .dataframe tbody tr th:only-of-type {\n",
       "        vertical-align: middle;\n",
       "    }\n",
       "\n",
       "    .dataframe tbody tr th {\n",
       "        vertical-align: top;\n",
       "    }\n",
       "\n",
       "    .dataframe thead th {\n",
       "        text-align: right;\n",
       "    }\n",
       "</style>\n",
       "<table border=\"1\" class=\"dataframe\">\n",
       "  <thead>\n",
       "    <tr style=\"text-align: right;\">\n",
       "      <th></th>\n",
       "      <th>Unnamed: 0</th>\n",
       "      <th>Make</th>\n",
       "      <th>Colour</th>\n",
       "      <th>Issue Time</th>\n",
       "      <th>Contravention Code</th>\n",
       "      <th>Location</th>\n",
       "      <th>PA_Details</th>\n",
       "      <th>Issue Date</th>\n",
       "      <th>Issue Date Original</th>\n",
       "      <th>clusters_k_means</th>\n",
       "      <th>clusters_k_mode</th>\n",
       "      <th>clusters_k_prototype</th>\n",
       "    </tr>\n",
       "  </thead>\n",
       "  <tbody>\n",
       "    <tr>\n",
       "      <th>0</th>\n",
       "      <td>162</td>\n",
       "      <td>Audi</td>\n",
       "      <td>Black</td>\n",
       "      <td>9</td>\n",
       "      <td>19</td>\n",
       "      <td>Antwerp Way</td>\n",
       "      <td>1500</td>\n",
       "      <td>Q1Y1</td>\n",
       "      <td>2-Jan-2019</td>\n",
       "      <td>1</td>\n",
       "      <td>0</td>\n",
       "      <td>3</td>\n",
       "    </tr>\n",
       "    <tr>\n",
       "      <th>1</th>\n",
       "      <td>163</td>\n",
       "      <td>Audi</td>\n",
       "      <td>Black</td>\n",
       "      <td>10</td>\n",
       "      <td>12</td>\n",
       "      <td>First Avenue</td>\n",
       "      <td>3254</td>\n",
       "      <td>Q1Y1</td>\n",
       "      <td>2-Jan-2019</td>\n",
       "      <td>0</td>\n",
       "      <td>0</td>\n",
       "      <td>0</td>\n",
       "    </tr>\n",
       "    <tr>\n",
       "      <th>2</th>\n",
       "      <td>164</td>\n",
       "      <td>Audi</td>\n",
       "      <td>Black</td>\n",
       "      <td>10</td>\n",
       "      <td>12</td>\n",
       "      <td>Ingestre Road</td>\n",
       "      <td>1498</td>\n",
       "      <td>Q1Y1</td>\n",
       "      <td>2-Jan-2019</td>\n",
       "      <td>1</td>\n",
       "      <td>0</td>\n",
       "      <td>3</td>\n",
       "    </tr>\n",
       "    <tr>\n",
       "      <th>3</th>\n",
       "      <td>165</td>\n",
       "      <td>Audi</td>\n",
       "      <td>Black</td>\n",
       "      <td>10</td>\n",
       "      <td>12</td>\n",
       "      <td>Lawrence Road E6</td>\n",
       "      <td>3299</td>\n",
       "      <td>Q1Y1</td>\n",
       "      <td>2-Jan-2019</td>\n",
       "      <td>0</td>\n",
       "      <td>0</td>\n",
       "      <td>0</td>\n",
       "    </tr>\n",
       "    <tr>\n",
       "      <th>4</th>\n",
       "      <td>166</td>\n",
       "      <td>Audi</td>\n",
       "      <td>Black</td>\n",
       "      <td>10</td>\n",
       "      <td>12</td>\n",
       "      <td>Napier Road E15</td>\n",
       "      <td>1434</td>\n",
       "      <td>Q1Y1</td>\n",
       "      <td>2-Jan-2019</td>\n",
       "      <td>1</td>\n",
       "      <td>0</td>\n",
       "      <td>3</td>\n",
       "    </tr>\n",
       "  </tbody>\n",
       "</table>\n",
       "</div>"
      ],
      "text/plain": [
       "   Unnamed: 0  Make Colour  Issue Time  Contravention Code          Location  \\\n",
       "0         162  Audi  Black           9                  19       Antwerp Way   \n",
       "1         163  Audi  Black          10                  12      First Avenue   \n",
       "2         164  Audi  Black          10                  12     Ingestre Road   \n",
       "3         165  Audi  Black          10                  12  Lawrence Road E6   \n",
       "4         166  Audi  Black          10                  12   Napier Road E15   \n",
       "\n",
       "   PA_Details Issue Date Issue Date Original  clusters_k_means  \\\n",
       "0        1500       Q1Y1          2-Jan-2019                 1   \n",
       "1        3254       Q1Y1          2-Jan-2019                 0   \n",
       "2        1498       Q1Y1          2-Jan-2019                 1   \n",
       "3        3299       Q1Y1          2-Jan-2019                 0   \n",
       "4        1434       Q1Y1          2-Jan-2019                 1   \n",
       "\n",
       "   clusters_k_mode  clusters_k_prototype  \n",
       "0                0                     3  \n",
       "1                0                     0  \n",
       "2                0                     3  \n",
       "3                0                     0  \n",
       "4                0                     3  "
      ]
     },
     "execution_count": 85,
     "metadata": {},
     "output_type": "execute_result"
    }
   ],
   "source": [
    "df2.head()"
   ]
  },
  {
   "cell_type": "code",
   "execution_count": 86,
   "metadata": {},
   "outputs": [],
   "source": [
    "df_new2=df2"
   ]
  },
  {
   "cell_type": "markdown",
   "metadata": {},
   "source": [
    "### Adding cluster labels in the dataframe"
   ]
  },
  {
   "cell_type": "code",
   "execution_count": 87,
   "metadata": {},
   "outputs": [
    {
     "data": {
      "text/html": [
       "<div>\n",
       "<style scoped>\n",
       "    .dataframe tbody tr th:only-of-type {\n",
       "        vertical-align: middle;\n",
       "    }\n",
       "\n",
       "    .dataframe tbody tr th {\n",
       "        vertical-align: top;\n",
       "    }\n",
       "\n",
       "    .dataframe thead th {\n",
       "        text-align: right;\n",
       "    }\n",
       "</style>\n",
       "<table border=\"1\" class=\"dataframe\">\n",
       "  <thead>\n",
       "    <tr style=\"text-align: right;\">\n",
       "      <th></th>\n",
       "      <th>Unnamed: 0</th>\n",
       "      <th>Make</th>\n",
       "      <th>Colour</th>\n",
       "      <th>Issue Time</th>\n",
       "      <th>Contravention Code</th>\n",
       "      <th>Location</th>\n",
       "      <th>PA_Details</th>\n",
       "      <th>Issue Date</th>\n",
       "      <th>Issue Date Original</th>\n",
       "      <th>clusters_k_means</th>\n",
       "      <th>clusters_k_mode</th>\n",
       "      <th>clusters_k_prototype</th>\n",
       "    </tr>\n",
       "  </thead>\n",
       "  <tbody>\n",
       "    <tr>\n",
       "      <th>0</th>\n",
       "      <td>162</td>\n",
       "      <td>Audi</td>\n",
       "      <td>Black</td>\n",
       "      <td>9</td>\n",
       "      <td>19</td>\n",
       "      <td>Antwerp Way</td>\n",
       "      <td>1500</td>\n",
       "      <td>Q1Y1</td>\n",
       "      <td>2-Jan-2019</td>\n",
       "      <td>1</td>\n",
       "      <td>0</td>\n",
       "      <td>3</td>\n",
       "    </tr>\n",
       "    <tr>\n",
       "      <th>1</th>\n",
       "      <td>163</td>\n",
       "      <td>Audi</td>\n",
       "      <td>Black</td>\n",
       "      <td>10</td>\n",
       "      <td>12</td>\n",
       "      <td>First Avenue</td>\n",
       "      <td>3254</td>\n",
       "      <td>Q1Y1</td>\n",
       "      <td>2-Jan-2019</td>\n",
       "      <td>0</td>\n",
       "      <td>0</td>\n",
       "      <td>0</td>\n",
       "    </tr>\n",
       "    <tr>\n",
       "      <th>2</th>\n",
       "      <td>164</td>\n",
       "      <td>Audi</td>\n",
       "      <td>Black</td>\n",
       "      <td>10</td>\n",
       "      <td>12</td>\n",
       "      <td>Ingestre Road</td>\n",
       "      <td>1498</td>\n",
       "      <td>Q1Y1</td>\n",
       "      <td>2-Jan-2019</td>\n",
       "      <td>1</td>\n",
       "      <td>0</td>\n",
       "      <td>3</td>\n",
       "    </tr>\n",
       "    <tr>\n",
       "      <th>3</th>\n",
       "      <td>165</td>\n",
       "      <td>Audi</td>\n",
       "      <td>Black</td>\n",
       "      <td>10</td>\n",
       "      <td>12</td>\n",
       "      <td>Lawrence Road E6</td>\n",
       "      <td>3299</td>\n",
       "      <td>Q1Y1</td>\n",
       "      <td>2-Jan-2019</td>\n",
       "      <td>0</td>\n",
       "      <td>0</td>\n",
       "      <td>0</td>\n",
       "    </tr>\n",
       "    <tr>\n",
       "      <th>4</th>\n",
       "      <td>166</td>\n",
       "      <td>Audi</td>\n",
       "      <td>Black</td>\n",
       "      <td>10</td>\n",
       "      <td>12</td>\n",
       "      <td>Napier Road E15</td>\n",
       "      <td>1434</td>\n",
       "      <td>Q1Y1</td>\n",
       "      <td>2-Jan-2019</td>\n",
       "      <td>1</td>\n",
       "      <td>0</td>\n",
       "      <td>3</td>\n",
       "    </tr>\n",
       "  </tbody>\n",
       "</table>\n",
       "</div>"
      ],
      "text/plain": [
       "   Unnamed: 0  Make Colour  Issue Time  Contravention Code          Location  \\\n",
       "0         162  Audi  Black           9                  19       Antwerp Way   \n",
       "1         163  Audi  Black          10                  12      First Avenue   \n",
       "2         164  Audi  Black          10                  12     Ingestre Road   \n",
       "3         165  Audi  Black          10                  12  Lawrence Road E6   \n",
       "4         166  Audi  Black          10                  12   Napier Road E15   \n",
       "\n",
       "   PA_Details Issue Date Issue Date Original  clusters_k_means  \\\n",
       "0        1500       Q1Y1          2-Jan-2019                 1   \n",
       "1        3254       Q1Y1          2-Jan-2019                 0   \n",
       "2        1498       Q1Y1          2-Jan-2019                 1   \n",
       "3        3299       Q1Y1          2-Jan-2019                 0   \n",
       "4        1434       Q1Y1          2-Jan-2019                 1   \n",
       "\n",
       "   clusters_k_mode  clusters_k_prototype  \n",
       "0                0                     3  \n",
       "1                0                     0  \n",
       "2                0                     3  \n",
       "3                0                     0  \n",
       "4                0                     3  "
      ]
     },
     "execution_count": 87,
     "metadata": {},
     "output_type": "execute_result"
    }
   ],
   "source": [
    "\n",
    "df_new2['clusters_k_mode'] = labels_kmode2\n",
    "df_new2.head()"
   ]
  },
  {
   "cell_type": "code",
   "execution_count": 88,
   "metadata": {},
   "outputs": [
    {
     "data": {
      "text/html": [
       "<div>\n",
       "<style scoped>\n",
       "    .dataframe tbody tr th:only-of-type {\n",
       "        vertical-align: middle;\n",
       "    }\n",
       "\n",
       "    .dataframe tbody tr th {\n",
       "        vertical-align: top;\n",
       "    }\n",
       "\n",
       "    .dataframe thead th {\n",
       "        text-align: right;\n",
       "    }\n",
       "</style>\n",
       "<table border=\"1\" class=\"dataframe\">\n",
       "  <thead>\n",
       "    <tr style=\"text-align: right;\">\n",
       "      <th></th>\n",
       "      <th>Unnamed: 0</th>\n",
       "      <th>Make</th>\n",
       "      <th>Colour</th>\n",
       "      <th>Issue Time</th>\n",
       "      <th>Contravention Code</th>\n",
       "      <th>Location</th>\n",
       "      <th>PA_Details</th>\n",
       "      <th>Issue Date</th>\n",
       "      <th>Issue Date Original</th>\n",
       "      <th>clusters_k_means</th>\n",
       "      <th>clusters_k_mode</th>\n",
       "      <th>clusters_k_prototype</th>\n",
       "    </tr>\n",
       "  </thead>\n",
       "  <tbody>\n",
       "    <tr>\n",
       "      <th>0</th>\n",
       "      <td>162</td>\n",
       "      <td>Audi</td>\n",
       "      <td>Black</td>\n",
       "      <td>9</td>\n",
       "      <td>19</td>\n",
       "      <td>Antwerp Way</td>\n",
       "      <td>1500</td>\n",
       "      <td>Q1Y1</td>\n",
       "      <td>2-Jan-2019</td>\n",
       "      <td>1</td>\n",
       "      <td>0</td>\n",
       "      <td>3</td>\n",
       "    </tr>\n",
       "    <tr>\n",
       "      <th>1</th>\n",
       "      <td>163</td>\n",
       "      <td>Audi</td>\n",
       "      <td>Black</td>\n",
       "      <td>10</td>\n",
       "      <td>12</td>\n",
       "      <td>First Avenue</td>\n",
       "      <td>3254</td>\n",
       "      <td>Q1Y1</td>\n",
       "      <td>2-Jan-2019</td>\n",
       "      <td>0</td>\n",
       "      <td>0</td>\n",
       "      <td>0</td>\n",
       "    </tr>\n",
       "    <tr>\n",
       "      <th>2</th>\n",
       "      <td>164</td>\n",
       "      <td>Audi</td>\n",
       "      <td>Black</td>\n",
       "      <td>10</td>\n",
       "      <td>12</td>\n",
       "      <td>Ingestre Road</td>\n",
       "      <td>1498</td>\n",
       "      <td>Q1Y1</td>\n",
       "      <td>2-Jan-2019</td>\n",
       "      <td>1</td>\n",
       "      <td>0</td>\n",
       "      <td>3</td>\n",
       "    </tr>\n",
       "    <tr>\n",
       "      <th>3</th>\n",
       "      <td>165</td>\n",
       "      <td>Audi</td>\n",
       "      <td>Black</td>\n",
       "      <td>10</td>\n",
       "      <td>12</td>\n",
       "      <td>Lawrence Road E6</td>\n",
       "      <td>3299</td>\n",
       "      <td>Q1Y1</td>\n",
       "      <td>2-Jan-2019</td>\n",
       "      <td>0</td>\n",
       "      <td>0</td>\n",
       "      <td>0</td>\n",
       "    </tr>\n",
       "    <tr>\n",
       "      <th>4</th>\n",
       "      <td>166</td>\n",
       "      <td>Audi</td>\n",
       "      <td>Black</td>\n",
       "      <td>10</td>\n",
       "      <td>12</td>\n",
       "      <td>Napier Road E15</td>\n",
       "      <td>1434</td>\n",
       "      <td>Q1Y1</td>\n",
       "      <td>2-Jan-2019</td>\n",
       "      <td>1</td>\n",
       "      <td>0</td>\n",
       "      <td>3</td>\n",
       "    </tr>\n",
       "  </tbody>\n",
       "</table>\n",
       "</div>"
      ],
      "text/plain": [
       "   Unnamed: 0  Make Colour  Issue Time  Contravention Code          Location  \\\n",
       "0         162  Audi  Black           9                  19       Antwerp Way   \n",
       "1         163  Audi  Black          10                  12      First Avenue   \n",
       "2         164  Audi  Black          10                  12     Ingestre Road   \n",
       "3         165  Audi  Black          10                  12  Lawrence Road E6   \n",
       "4         166  Audi  Black          10                  12   Napier Road E15   \n",
       "\n",
       "   PA_Details Issue Date Issue Date Original  clusters_k_means  \\\n",
       "0        1500       Q1Y1          2-Jan-2019                 1   \n",
       "1        3254       Q1Y1          2-Jan-2019                 0   \n",
       "2        1498       Q1Y1          2-Jan-2019                 1   \n",
       "3        3299       Q1Y1          2-Jan-2019                 0   \n",
       "4        1434       Q1Y1          2-Jan-2019                 1   \n",
       "\n",
       "   clusters_k_mode  clusters_k_prototype  \n",
       "0                0                     3  \n",
       "1                0                     0  \n",
       "2                0                     3  \n",
       "3                0                     0  \n",
       "4                0                     3  "
      ]
     },
     "execution_count": 88,
     "metadata": {},
     "output_type": "execute_result"
    }
   ],
   "source": [
    "df2.head()"
   ]
  },
  {
   "cell_type": "markdown",
   "metadata": {},
   "source": [
    "## K Prototype for complete dataset"
   ]
  },
  {
   "cell_type": "code",
   "execution_count": 89,
   "metadata": {},
   "outputs": [],
   "source": [
    "from kmodes.kprototypes import KPrototypes"
   ]
  },
  {
   "cell_type": "code",
   "execution_count": 90,
   "metadata": {},
   "outputs": [
    {
     "data": {
      "text/html": [
       "<div>\n",
       "<style scoped>\n",
       "    .dataframe tbody tr th:only-of-type {\n",
       "        vertical-align: middle;\n",
       "    }\n",
       "\n",
       "    .dataframe tbody tr th {\n",
       "        vertical-align: top;\n",
       "    }\n",
       "\n",
       "    .dataframe thead th {\n",
       "        text-align: right;\n",
       "    }\n",
       "</style>\n",
       "<table border=\"1\" class=\"dataframe\">\n",
       "  <thead>\n",
       "    <tr style=\"text-align: right;\">\n",
       "      <th></th>\n",
       "      <th>Unnamed: 0</th>\n",
       "      <th>Make</th>\n",
       "      <th>Colour</th>\n",
       "      <th>Issue Time</th>\n",
       "      <th>Contravention Code</th>\n",
       "      <th>Location</th>\n",
       "      <th>PA_Details</th>\n",
       "      <th>Issue Date</th>\n",
       "      <th>Issue Date Original</th>\n",
       "      <th>clusters_k_means</th>\n",
       "      <th>clusters_k_mode</th>\n",
       "      <th>clusters_k_prototype</th>\n",
       "    </tr>\n",
       "  </thead>\n",
       "  <tbody>\n",
       "    <tr>\n",
       "      <th>0</th>\n",
       "      <td>162</td>\n",
       "      <td>Audi</td>\n",
       "      <td>Black</td>\n",
       "      <td>9</td>\n",
       "      <td>19</td>\n",
       "      <td>Antwerp Way</td>\n",
       "      <td>1500</td>\n",
       "      <td>Q1Y1</td>\n",
       "      <td>2-Jan-2019</td>\n",
       "      <td>1</td>\n",
       "      <td>0</td>\n",
       "      <td>3</td>\n",
       "    </tr>\n",
       "    <tr>\n",
       "      <th>1</th>\n",
       "      <td>163</td>\n",
       "      <td>Audi</td>\n",
       "      <td>Black</td>\n",
       "      <td>10</td>\n",
       "      <td>12</td>\n",
       "      <td>First Avenue</td>\n",
       "      <td>3254</td>\n",
       "      <td>Q1Y1</td>\n",
       "      <td>2-Jan-2019</td>\n",
       "      <td>0</td>\n",
       "      <td>0</td>\n",
       "      <td>0</td>\n",
       "    </tr>\n",
       "    <tr>\n",
       "      <th>2</th>\n",
       "      <td>164</td>\n",
       "      <td>Audi</td>\n",
       "      <td>Black</td>\n",
       "      <td>10</td>\n",
       "      <td>12</td>\n",
       "      <td>Ingestre Road</td>\n",
       "      <td>1498</td>\n",
       "      <td>Q1Y1</td>\n",
       "      <td>2-Jan-2019</td>\n",
       "      <td>1</td>\n",
       "      <td>0</td>\n",
       "      <td>3</td>\n",
       "    </tr>\n",
       "    <tr>\n",
       "      <th>3</th>\n",
       "      <td>165</td>\n",
       "      <td>Audi</td>\n",
       "      <td>Black</td>\n",
       "      <td>10</td>\n",
       "      <td>12</td>\n",
       "      <td>Lawrence Road E6</td>\n",
       "      <td>3299</td>\n",
       "      <td>Q1Y1</td>\n",
       "      <td>2-Jan-2019</td>\n",
       "      <td>0</td>\n",
       "      <td>0</td>\n",
       "      <td>0</td>\n",
       "    </tr>\n",
       "    <tr>\n",
       "      <th>4</th>\n",
       "      <td>166</td>\n",
       "      <td>Audi</td>\n",
       "      <td>Black</td>\n",
       "      <td>10</td>\n",
       "      <td>12</td>\n",
       "      <td>Napier Road E15</td>\n",
       "      <td>1434</td>\n",
       "      <td>Q1Y1</td>\n",
       "      <td>2-Jan-2019</td>\n",
       "      <td>1</td>\n",
       "      <td>0</td>\n",
       "      <td>3</td>\n",
       "    </tr>\n",
       "  </tbody>\n",
       "</table>\n",
       "</div>"
      ],
      "text/plain": [
       "   Unnamed: 0  Make Colour  Issue Time  Contravention Code          Location  \\\n",
       "0         162  Audi  Black           9                  19       Antwerp Way   \n",
       "1         163  Audi  Black          10                  12      First Avenue   \n",
       "2         164  Audi  Black          10                  12     Ingestre Road   \n",
       "3         165  Audi  Black          10                  12  Lawrence Road E6   \n",
       "4         166  Audi  Black          10                  12   Napier Road E15   \n",
       "\n",
       "   PA_Details Issue Date Issue Date Original  clusters_k_means  \\\n",
       "0        1500       Q1Y1          2-Jan-2019                 1   \n",
       "1        3254       Q1Y1          2-Jan-2019                 0   \n",
       "2        1498       Q1Y1          2-Jan-2019                 1   \n",
       "3        3299       Q1Y1          2-Jan-2019                 0   \n",
       "4        1434       Q1Y1          2-Jan-2019                 1   \n",
       "\n",
       "   clusters_k_mode  clusters_k_prototype  \n",
       "0                0                     3  \n",
       "1                0                     0  \n",
       "2                0                     3  \n",
       "3                0                     0  \n",
       "4                0                     3  "
      ]
     },
     "execution_count": 90,
     "metadata": {},
     "output_type": "execute_result"
    }
   ],
   "source": [
    "df2.head()"
   ]
  },
  {
   "cell_type": "code",
   "execution_count": 91,
   "metadata": {},
   "outputs": [
    {
     "data": {
      "text/html": [
       "<div>\n",
       "<style scoped>\n",
       "    .dataframe tbody tr th:only-of-type {\n",
       "        vertical-align: middle;\n",
       "    }\n",
       "\n",
       "    .dataframe tbody tr th {\n",
       "        vertical-align: top;\n",
       "    }\n",
       "\n",
       "    .dataframe thead th {\n",
       "        text-align: right;\n",
       "    }\n",
       "</style>\n",
       "<table border=\"1\" class=\"dataframe\">\n",
       "  <thead>\n",
       "    <tr style=\"text-align: right;\">\n",
       "      <th></th>\n",
       "      <th>Make</th>\n",
       "      <th>Colour</th>\n",
       "      <th>Issue Time</th>\n",
       "      <th>Contravention Code</th>\n",
       "      <th>Location</th>\n",
       "      <th>PA_Details</th>\n",
       "      <th>Issue Date Original</th>\n",
       "    </tr>\n",
       "  </thead>\n",
       "  <tbody>\n",
       "    <tr>\n",
       "      <th>0</th>\n",
       "      <td>Audi</td>\n",
       "      <td>Black</td>\n",
       "      <td>9</td>\n",
       "      <td>19</td>\n",
       "      <td>Antwerp Way</td>\n",
       "      <td>1500</td>\n",
       "      <td>2-Jan-2019</td>\n",
       "    </tr>\n",
       "    <tr>\n",
       "      <th>1</th>\n",
       "      <td>Audi</td>\n",
       "      <td>Black</td>\n",
       "      <td>10</td>\n",
       "      <td>12</td>\n",
       "      <td>First Avenue</td>\n",
       "      <td>3254</td>\n",
       "      <td>2-Jan-2019</td>\n",
       "    </tr>\n",
       "    <tr>\n",
       "      <th>2</th>\n",
       "      <td>Audi</td>\n",
       "      <td>Black</td>\n",
       "      <td>10</td>\n",
       "      <td>12</td>\n",
       "      <td>Ingestre Road</td>\n",
       "      <td>1498</td>\n",
       "      <td>2-Jan-2019</td>\n",
       "    </tr>\n",
       "    <tr>\n",
       "      <th>3</th>\n",
       "      <td>Audi</td>\n",
       "      <td>Black</td>\n",
       "      <td>10</td>\n",
       "      <td>12</td>\n",
       "      <td>Lawrence Road E6</td>\n",
       "      <td>3299</td>\n",
       "      <td>2-Jan-2019</td>\n",
       "    </tr>\n",
       "    <tr>\n",
       "      <th>4</th>\n",
       "      <td>Audi</td>\n",
       "      <td>Black</td>\n",
       "      <td>10</td>\n",
       "      <td>12</td>\n",
       "      <td>Napier Road E15</td>\n",
       "      <td>1434</td>\n",
       "      <td>2-Jan-2019</td>\n",
       "    </tr>\n",
       "  </tbody>\n",
       "</table>\n",
       "</div>"
      ],
      "text/plain": [
       "   Make Colour  Issue Time  Contravention Code          Location  PA_Details  \\\n",
       "0  Audi  Black           9                  19       Antwerp Way        1500   \n",
       "1  Audi  Black          10                  12      First Avenue        3254   \n",
       "2  Audi  Black          10                  12     Ingestre Road        1498   \n",
       "3  Audi  Black          10                  12  Lawrence Road E6        3299   \n",
       "4  Audi  Black          10                  12   Napier Road E15        1434   \n",
       "\n",
       "  Issue Date Original  \n",
       "0          2-Jan-2019  \n",
       "1          2-Jan-2019  \n",
       "2          2-Jan-2019  \n",
       "3          2-Jan-2019  \n",
       "4          2-Jan-2019  "
      ]
     },
     "execution_count": 91,
     "metadata": {},
     "output_type": "execute_result"
    }
   ],
   "source": [
    "df2 =df2[['Make','Colour','Issue Time','Contravention Code','Location','PA_Details','Issue Date Original']]\n",
    "df2.head()"
   ]
  },
  {
   "cell_type": "code",
   "execution_count": 92,
   "metadata": {},
   "outputs": [
    {
     "name": "stdout",
     "output_type": "stream",
     "text": [
      "<class 'pandas.core.frame.DataFrame'>\n",
      "RangeIndex: 375869 entries, 0 to 375868\n",
      "Data columns (total 7 columns):\n",
      " #   Column               Non-Null Count   Dtype \n",
      "---  ------               --------------   ----- \n",
      " 0   Make                 375869 non-null  object\n",
      " 1   Colour               375869 non-null  object\n",
      " 2   Issue Time           375869 non-null  int64 \n",
      " 3   Contravention Code   375869 non-null  int64 \n",
      " 4   Location             375869 non-null  object\n",
      " 5   PA_Details           375869 non-null  int64 \n",
      " 6   Issue Date Original  375869 non-null  object\n",
      "dtypes: int64(3), object(4)\n",
      "memory usage: 20.1+ MB\n"
     ]
    }
   ],
   "source": [
    "df2.info()"
   ]
  },
  {
   "cell_type": "code",
   "execution_count": 93,
   "metadata": {},
   "outputs": [
    {
     "data": {
      "text/plain": [
       "Make                    210\n",
       "Colour                   60\n",
       "Location               1631\n",
       "Issue Date Original    1085\n",
       "dtype: int64"
      ]
     },
     "execution_count": 93,
     "metadata": {},
     "output_type": "execute_result"
    }
   ],
   "source": [
    "# Inspect the categorical variables\n",
    "df2.select_dtypes('object').nunique()"
   ]
  },
  {
   "cell_type": "code",
   "execution_count": 94,
   "metadata": {},
   "outputs": [
    {
     "data": {
      "text/html": [
       "<div>\n",
       "<style scoped>\n",
       "    .dataframe tbody tr th:only-of-type {\n",
       "        vertical-align: middle;\n",
       "    }\n",
       "\n",
       "    .dataframe tbody tr th {\n",
       "        vertical-align: top;\n",
       "    }\n",
       "\n",
       "    .dataframe thead th {\n",
       "        text-align: right;\n",
       "    }\n",
       "</style>\n",
       "<table border=\"1\" class=\"dataframe\">\n",
       "  <thead>\n",
       "    <tr style=\"text-align: right;\">\n",
       "      <th></th>\n",
       "      <th>Issue Time</th>\n",
       "      <th>Contravention Code</th>\n",
       "      <th>PA_Details</th>\n",
       "    </tr>\n",
       "  </thead>\n",
       "  <tbody>\n",
       "    <tr>\n",
       "      <th>count</th>\n",
       "      <td>375869.000000</td>\n",
       "      <td>375869.000000</td>\n",
       "      <td>375869.000000</td>\n",
       "    </tr>\n",
       "    <tr>\n",
       "      <th>mean</th>\n",
       "      <td>11.698749</td>\n",
       "      <td>23.073507</td>\n",
       "      <td>1823.647766</td>\n",
       "    </tr>\n",
       "    <tr>\n",
       "      <th>std</th>\n",
       "      <td>3.525302</td>\n",
       "      <td>34.907346</td>\n",
       "      <td>758.566191</td>\n",
       "    </tr>\n",
       "    <tr>\n",
       "      <th>min</th>\n",
       "      <td>0.000000</td>\n",
       "      <td>1.000000</td>\n",
       "      <td>777.000000</td>\n",
       "    </tr>\n",
       "    <tr>\n",
       "      <th>25%</th>\n",
       "      <td>9.000000</td>\n",
       "      <td>2.000000</td>\n",
       "      <td>1433.000000</td>\n",
       "    </tr>\n",
       "    <tr>\n",
       "      <th>50%</th>\n",
       "      <td>11.000000</td>\n",
       "      <td>12.000000</td>\n",
       "      <td>1468.000000</td>\n",
       "    </tr>\n",
       "    <tr>\n",
       "      <th>75%</th>\n",
       "      <td>14.000000</td>\n",
       "      <td>21.000000</td>\n",
       "      <td>1519.000000</td>\n",
       "    </tr>\n",
       "    <tr>\n",
       "      <th>max</th>\n",
       "      <td>23.000000</td>\n",
       "      <td>232.000000</td>\n",
       "      <td>9999.000000</td>\n",
       "    </tr>\n",
       "  </tbody>\n",
       "</table>\n",
       "</div>"
      ],
      "text/plain": [
       "          Issue Time  Contravention Code     PA_Details\n",
       "count  375869.000000       375869.000000  375869.000000\n",
       "mean       11.698749           23.073507    1823.647766\n",
       "std         3.525302           34.907346     758.566191\n",
       "min         0.000000            1.000000     777.000000\n",
       "25%         9.000000            2.000000    1433.000000\n",
       "50%        11.000000           12.000000    1468.000000\n",
       "75%        14.000000           21.000000    1519.000000\n",
       "max        23.000000          232.000000    9999.000000"
      ]
     },
     "execution_count": 94,
     "metadata": {},
     "output_type": "execute_result"
    }
   ],
   "source": [
    "# Inspect the numerical variables\n",
    "df2.describe()"
   ]
  },
  {
   "cell_type": "code",
   "execution_count": 95,
   "metadata": {},
   "outputs": [
    {
     "name": "stdout",
     "output_type": "stream",
     "text": [
      "Categorical columns           : ['Make', 'Colour', 'Location', 'Issue Date Original']\n",
      "Categorical columns position  : [0, 1, 4, 6]\n"
     ]
    }
   ],
   "source": [
    "# Get the position of categorical columns\n",
    "catColumnsPos2 = [df2.columns.get_loc(col) for col in list(df2.select_dtypes('object').columns)]\n",
    "print('Categorical columns           : {}'.format(list(df2.select_dtypes('object').columns)))\n",
    "print('Categorical columns position  : {}'.format(catColumnsPos2))"
   ]
  },
  {
   "cell_type": "code",
   "execution_count": 96,
   "metadata": {},
   "outputs": [
    {
     "data": {
      "text/plain": [
       "array([['Audi', 'Black', 9, ..., 'Antwerp Way', 1500, '2-Jan-2019'],\n",
       "       ['Audi', 'Black', 10, ..., 'First Avenue', 3254, '2-Jan-2019'],\n",
       "       ['Audi', 'Black', 10, ..., 'Ingestre Road', 1498, '2-Jan-2019'],\n",
       "       ...,\n",
       "       ['YAMAHA', 'WHITE', 16, ..., 'Stratford Multi Storey Car Park',\n",
       "        1458, '31/12/2021'],\n",
       "       ['Yamaha', 'White', 17, ..., 'Westfield Avenue', 1475,\n",
       "        '31/12/2021'],\n",
       "       ['Yamaha', 'White', 17, ..., 'Harold Road', 3237, '31/12/2021']],\n",
       "      dtype=object)"
      ]
     },
     "execution_count": 96,
     "metadata": {},
     "output_type": "execute_result"
    }
   ],
   "source": [
    "# Convert dataframe to matrix\n",
    "dfMatrix2 = df2.to_numpy()\n",
    "dfMatrix2"
   ]
  },
  {
   "cell_type": "code",
   "execution_count": 97,
   "metadata": {},
   "outputs": [
    {
     "data": {
      "text/plain": [
       "array([1, 2, 1, ..., 1, 1, 2], dtype=uint16)"
      ]
     },
     "execution_count": 97,
     "metadata": {},
     "output_type": "execute_result"
    }
   ],
   "source": [
    "kprototype2 = KPrototypes(n_clusters = 3)\n",
    "kprototype2.fit_predict(dfMatrix2, categorical = catColumnsPos)\n"
   ]
  },
  {
   "cell_type": "code",
   "execution_count": 98,
   "metadata": {},
   "outputs": [],
   "source": [
    "labels_kprototype2 = kprototype2.labels_"
   ]
  },
  {
   "cell_type": "markdown",
   "metadata": {},
   "source": [
    "### Adding cluster labels in the dataframe"
   ]
  },
  {
   "cell_type": "code",
   "execution_count": 99,
   "metadata": {},
   "outputs": [
    {
     "data": {
      "text/html": [
       "<div>\n",
       "<style scoped>\n",
       "    .dataframe tbody tr th:only-of-type {\n",
       "        vertical-align: middle;\n",
       "    }\n",
       "\n",
       "    .dataframe tbody tr th {\n",
       "        vertical-align: top;\n",
       "    }\n",
       "\n",
       "    .dataframe thead th {\n",
       "        text-align: right;\n",
       "    }\n",
       "</style>\n",
       "<table border=\"1\" class=\"dataframe\">\n",
       "  <thead>\n",
       "    <tr style=\"text-align: right;\">\n",
       "      <th></th>\n",
       "      <th>Unnamed: 0</th>\n",
       "      <th>Make</th>\n",
       "      <th>Colour</th>\n",
       "      <th>Issue Time</th>\n",
       "      <th>Contravention Code</th>\n",
       "      <th>Location</th>\n",
       "      <th>PA_Details</th>\n",
       "      <th>Issue Date</th>\n",
       "      <th>Issue Date Original</th>\n",
       "      <th>clusters_k_means</th>\n",
       "      <th>clusters_k_mode</th>\n",
       "      <th>clusters_k_prototype</th>\n",
       "    </tr>\n",
       "  </thead>\n",
       "  <tbody>\n",
       "    <tr>\n",
       "      <th>0</th>\n",
       "      <td>162</td>\n",
       "      <td>Audi</td>\n",
       "      <td>Black</td>\n",
       "      <td>9</td>\n",
       "      <td>19</td>\n",
       "      <td>Antwerp Way</td>\n",
       "      <td>1500</td>\n",
       "      <td>Q1Y1</td>\n",
       "      <td>2-Jan-2019</td>\n",
       "      <td>1</td>\n",
       "      <td>0</td>\n",
       "      <td>1</td>\n",
       "    </tr>\n",
       "    <tr>\n",
       "      <th>1</th>\n",
       "      <td>163</td>\n",
       "      <td>Audi</td>\n",
       "      <td>Black</td>\n",
       "      <td>10</td>\n",
       "      <td>12</td>\n",
       "      <td>First Avenue</td>\n",
       "      <td>3254</td>\n",
       "      <td>Q1Y1</td>\n",
       "      <td>2-Jan-2019</td>\n",
       "      <td>0</td>\n",
       "      <td>0</td>\n",
       "      <td>2</td>\n",
       "    </tr>\n",
       "    <tr>\n",
       "      <th>2</th>\n",
       "      <td>164</td>\n",
       "      <td>Audi</td>\n",
       "      <td>Black</td>\n",
       "      <td>10</td>\n",
       "      <td>12</td>\n",
       "      <td>Ingestre Road</td>\n",
       "      <td>1498</td>\n",
       "      <td>Q1Y1</td>\n",
       "      <td>2-Jan-2019</td>\n",
       "      <td>1</td>\n",
       "      <td>0</td>\n",
       "      <td>1</td>\n",
       "    </tr>\n",
       "    <tr>\n",
       "      <th>3</th>\n",
       "      <td>165</td>\n",
       "      <td>Audi</td>\n",
       "      <td>Black</td>\n",
       "      <td>10</td>\n",
       "      <td>12</td>\n",
       "      <td>Lawrence Road E6</td>\n",
       "      <td>3299</td>\n",
       "      <td>Q1Y1</td>\n",
       "      <td>2-Jan-2019</td>\n",
       "      <td>0</td>\n",
       "      <td>0</td>\n",
       "      <td>2</td>\n",
       "    </tr>\n",
       "    <tr>\n",
       "      <th>4</th>\n",
       "      <td>166</td>\n",
       "      <td>Audi</td>\n",
       "      <td>Black</td>\n",
       "      <td>10</td>\n",
       "      <td>12</td>\n",
       "      <td>Napier Road E15</td>\n",
       "      <td>1434</td>\n",
       "      <td>Q1Y1</td>\n",
       "      <td>2-Jan-2019</td>\n",
       "      <td>1</td>\n",
       "      <td>0</td>\n",
       "      <td>1</td>\n",
       "    </tr>\n",
       "  </tbody>\n",
       "</table>\n",
       "</div>"
      ],
      "text/plain": [
       "   Unnamed: 0  Make Colour  Issue Time  Contravention Code          Location  \\\n",
       "0         162  Audi  Black           9                  19       Antwerp Way   \n",
       "1         163  Audi  Black          10                  12      First Avenue   \n",
       "2         164  Audi  Black          10                  12     Ingestre Road   \n",
       "3         165  Audi  Black          10                  12  Lawrence Road E6   \n",
       "4         166  Audi  Black          10                  12   Napier Road E15   \n",
       "\n",
       "   PA_Details Issue Date Issue Date Original  clusters_k_means  \\\n",
       "0        1500       Q1Y1          2-Jan-2019                 1   \n",
       "1        3254       Q1Y1          2-Jan-2019                 0   \n",
       "2        1498       Q1Y1          2-Jan-2019                 1   \n",
       "3        3299       Q1Y1          2-Jan-2019                 0   \n",
       "4        1434       Q1Y1          2-Jan-2019                 1   \n",
       "\n",
       "   clusters_k_mode  clusters_k_prototype  \n",
       "0                0                     1  \n",
       "1                0                     2  \n",
       "2                0                     1  \n",
       "3                0                     2  \n",
       "4                0                     1  "
      ]
     },
     "execution_count": 99,
     "metadata": {},
     "output_type": "execute_result"
    }
   ],
   "source": [
    "df_new2['clusters_k_prototype'] = labels_kprototype2\n",
    "df_new2.head()"
   ]
  },
  {
   "cell_type": "code",
   "execution_count": 100,
   "metadata": {},
   "outputs": [],
   "source": [
    "df_new2.to_csv('clustered_data_with_Actual_date.csv')"
   ]
  },
  {
   "cell_type": "markdown",
   "metadata": {},
   "source": [
    "### Visualising count of records in each cluster"
   ]
  },
  {
   "cell_type": "code",
   "execution_count": 101,
   "metadata": {},
   "outputs": [
    {
     "data": {
      "text/plain": [
       "(array([0, 1, 2], dtype=uint16), array([243101,  76372,  56396]))"
      ]
     },
     "execution_count": 101,
     "metadata": {},
     "output_type": "execute_result"
    }
   ],
   "source": [
    "np.unique(labels_kmode2, return_counts = True)"
   ]
  },
  {
   "cell_type": "markdown",
   "metadata": {},
   "source": [
    "- \"Count of records in each cluster in Clustered data for Categorical Features\""
   ]
  },
  {
   "cell_type": "code",
   "execution_count": 102,
   "metadata": {},
   "outputs": [
    {
     "data": {
      "text/plain": [
       "Text(0.5, 1.0, 'Count of records in each cluster in Clustered data for Categorical Features')"
      ]
     },
     "execution_count": 102,
     "metadata": {},
     "output_type": "execute_result"
    },
    {
     "data": {
      "image/png": "[encoded data removed]",
      "text/plain": [
       "<Figure size 432x288 with 1 Axes>"
      ]
     },
     "metadata": {},
     "output_type": "display_data"
    }
   ],
   "source": [
    "b2 = np.hstack(labels_kmode2)\n",
    "_ = plt.hist(b2)  # arguments are passed to np.histogram\n",
    "plt.title(\"Count of records in each cluster in Clustered data for Categorical Features\")"
   ]
  },
  {
   "cell_type": "code",
   "execution_count": 103,
   "metadata": {},
   "outputs": [
    {
     "data": {
      "text/plain": [
       "(array([0, 1, 2], dtype=uint16), array([ 53140, 241777,  80952]))"
      ]
     },
     "execution_count": 103,
     "metadata": {},
     "output_type": "execute_result"
    }
   ],
   "source": [
    "np.unique(labels_kprototype2, return_counts = True)"
   ]
  },
  {
   "cell_type": "markdown",
   "metadata": {},
   "source": [
    "- \"Count of records in each cluster in Clustered data for all Features\""
   ]
  },
  {
   "cell_type": "code",
   "execution_count": 104,
   "metadata": {},
   "outputs": [
    {
     "data": {
      "text/plain": [
       "Text(0.5, 1.0, 'Count of records in each cluster in Clustered data for all Features')"
      ]
     },
     "execution_count": 104,
     "metadata": {},
     "output_type": "execute_result"
    },
    {
     "data": {
      "image/png": "[encoded data removed]",
      "text/plain": [
       "<Figure size 432x288 with 1 Axes>"
      ]
     },
     "metadata": {},
     "output_type": "display_data"
    }
   ],
   "source": [
    "c2= np.hstack(labels_kprototype2)\n",
    "_ = plt.hist(c2)  # arguments are passed to np.histogram\n",
    "plt.title(\"Count of records in each cluster in Clustered data for all Features\")"
   ]
  },
  {
   "cell_type": "markdown",
   "metadata": {},
   "source": [
    "### Evaluating clustering \n",
    "Silhouette Coefficient or silhouette score is a metric used to calculate the goodness of a clustering technique. Its value ranges from -1 to 1.\n",
    "\n",
    "1: Means clusters are well apart from each other and clearly distinguished.\n",
    "\n",
    "0: Means clusters are indifferent, or we can say that the distance between clusters is not significant.\n",
    "\n",
    "-1: Means clusters are assigned in the wrong way."
   ]
  },
  {
   "cell_type": "code",
   "execution_count": 105,
   "metadata": {},
   "outputs": [
    {
     "name": "stdout",
     "output_type": "stream",
     "text": [
      "silhouette_score: 0.7478010991138055\n"
     ]
    }
   ],
   "source": [
    "from sklearn.metrics.cluster import silhouette_score\n",
    "print('silhouette_score:',metrics.silhouette_score(df_numerical, k_means.labels_))"
   ]
  },
  {
   "cell_type": "markdown",
   "metadata": {},
   "source": [
    "Our silhouette_score is very close to 1 which indicates that our clusters are well apart from each other and clearly distinguished."
   ]
  },
  {
   "cell_type": "markdown",
   "metadata": {},
   "source": [
    "## K Prototype analysis on actual dates."
   ]
  },
  {
   "cell_type": "markdown",
   "metadata": {},
   "source": [
    "### Creating 3 dataframes for each cluster label in K prototype Method."
   ]
  },
  {
   "cell_type": "code",
   "execution_count": 119,
   "metadata": {},
   "outputs": [
    {
     "data": {
      "text/plain": [
       "((53140, 12), (241777, 12), (80952, 12))"
      ]
     },
     "execution_count": 119,
     "metadata": {},
     "output_type": "execute_result"
    }
   ],
   "source": [
    "cluster1= df_new2.loc[df_new2['clusters_k_prototype'] == 0]\n",
    "cluster2= df_new2.loc[df_new2['clusters_k_prototype'] == 1]\n",
    "cluster3= df_new2.loc[df_new2['clusters_k_prototype'] == 2]\n",
    "cluster1.shape,cluster2.shape,cluster3.shape"
   ]
  },
  {
   "cell_type": "markdown",
   "metadata": {},
   "source": [
    "### Keeping original columns of the dataframe"
   ]
  },
  {
   "cell_type": "code",
   "execution_count": 120,
   "metadata": {},
   "outputs": [
    {
     "data": {
      "text/html": [
       "<div>\n",
       "<style scoped>\n",
       "    .dataframe tbody tr th:only-of-type {\n",
       "        vertical-align: middle;\n",
       "    }\n",
       "\n",
       "    .dataframe tbody tr th {\n",
       "        vertical-align: top;\n",
       "    }\n",
       "\n",
       "    .dataframe thead th {\n",
       "        text-align: right;\n",
       "    }\n",
       "</style>\n",
       "<table border=\"1\" class=\"dataframe\">\n",
       "  <thead>\n",
       "    <tr style=\"text-align: right;\">\n",
       "      <th></th>\n",
       "      <th>Make</th>\n",
       "      <th>Colour</th>\n",
       "      <th>Issue Time</th>\n",
       "      <th>Contravention Code</th>\n",
       "      <th>Location</th>\n",
       "      <th>PA_Details</th>\n",
       "      <th>Issue Date</th>\n",
       "      <th>Issue Date Original</th>\n",
       "    </tr>\n",
       "  </thead>\n",
       "  <tbody>\n",
       "    <tr>\n",
       "      <th>18</th>\n",
       "      <td>Audi</td>\n",
       "      <td>Black</td>\n",
       "      <td>11</td>\n",
       "      <td>12</td>\n",
       "      <td>Kerrison Road</td>\n",
       "      <td>1313</td>\n",
       "      <td>Q1Y1</td>\n",
       "      <td>2-Jan-2019</td>\n",
       "    </tr>\n",
       "    <tr>\n",
       "      <th>24</th>\n",
       "      <td>Audi</td>\n",
       "      <td>Black</td>\n",
       "      <td>11</td>\n",
       "      <td>1</td>\n",
       "      <td>Phoenix Way</td>\n",
       "      <td>1318</td>\n",
       "      <td>Q1Y1</td>\n",
       "      <td>2-Jan-2019</td>\n",
       "    </tr>\n",
       "    <tr>\n",
       "      <th>25</th>\n",
       "      <td>Audi</td>\n",
       "      <td>Black</td>\n",
       "      <td>12</td>\n",
       "      <td>11</td>\n",
       "      <td>Brunel Street</td>\n",
       "      <td>1142</td>\n",
       "      <td>Q1Y1</td>\n",
       "      <td>2-Jan-2019</td>\n",
       "    </tr>\n",
       "    <tr>\n",
       "      <th>28</th>\n",
       "      <td>Audi</td>\n",
       "      <td>Black</td>\n",
       "      <td>12</td>\n",
       "      <td>1</td>\n",
       "      <td>Oxford Road</td>\n",
       "      <td>1306</td>\n",
       "      <td>Q1Y1</td>\n",
       "      <td>2-Jan-2019</td>\n",
       "    </tr>\n",
       "    <tr>\n",
       "      <th>33</th>\n",
       "      <td>Audi</td>\n",
       "      <td>Black</td>\n",
       "      <td>12</td>\n",
       "      <td>12</td>\n",
       "      <td>Park Avenue</td>\n",
       "      <td>1247</td>\n",
       "      <td>Q1Y1</td>\n",
       "      <td>2-Jan-2019</td>\n",
       "    </tr>\n",
       "  </tbody>\n",
       "</table>\n",
       "</div>"
      ],
      "text/plain": [
       "    Make Colour  Issue Time  Contravention Code       Location  PA_Details  \\\n",
       "18  Audi  Black          11                  12  Kerrison Road        1313   \n",
       "24  Audi  Black          11                   1    Phoenix Way        1318   \n",
       "25  Audi  Black          12                  11  Brunel Street        1142   \n",
       "28  Audi  Black          12                   1    Oxford Road        1306   \n",
       "33  Audi  Black          12                  12    Park Avenue        1247   \n",
       "\n",
       "   Issue Date Issue Date Original  \n",
       "18       Q1Y1          2-Jan-2019  \n",
       "24       Q1Y1          2-Jan-2019  \n",
       "25       Q1Y1          2-Jan-2019  \n",
       "28       Q1Y1          2-Jan-2019  \n",
       "33       Q1Y1          2-Jan-2019  "
      ]
     },
     "execution_count": 120,
     "metadata": {},
     "output_type": "execute_result"
    }
   ],
   "source": [
    "cluster1 = cluster1.iloc[:,1:9]\n",
    "cluster2 = cluster2.iloc[:,1:9]\n",
    "cluster3 = cluster3.iloc[:,1:9]\n",
    "cluster1.head()"
   ]
  },
  {
   "cell_type": "code",
   "execution_count": 129,
   "metadata": {},
   "outputs": [
    {
     "data": {
      "text/plain": [
       "(Ford             50004\n",
       " BMW              40787\n",
       " Mercedes Benz    39047\n",
       " Vauxhall         35177\n",
       " Volkswagen       34808\n",
       "                  ...  \n",
       " CADILLAC             1\n",
       " Moto Guzzi           1\n",
       " Moto Morini          1\n",
       " Mustang              1\n",
       " DAEWOO               1\n",
       " Name: Make, Length: 210, dtype: int64,\n",
       " Black             80376\n",
       " White             65536\n",
       " Silver            55743\n",
       " Other             49829\n",
       " Grey              39702\n",
       " Blue              36701\n",
       " Red               14055\n",
       " Unspecified       11924\n",
       " BLACK              3834\n",
       " Green              3162\n",
       " SILVER             2821\n",
       " WHITE              2357\n",
       " BLUE               1880\n",
       " GREY               1443\n",
       " Yellow             1200\n",
       " Brown               753\n",
       " RED                 646\n",
       " red                 446\n",
       " Gold                429\n",
       " Orange              351\n",
       " grey                327\n",
       " Purple              321\n",
       " Maroon              301\n",
       " Beige               249\n",
       " Cream               231\n",
       " blue                179\n",
       " black               165\n",
       " GREEN               149\n",
       " Burgundy            130\n",
       " Bronze              122\n",
       " white               119\n",
       " YELLOW               83\n",
       " silver               49\n",
       " BROWN                30\n",
       " Pink                 26\n",
       " green                24\n",
       " ORANGE               23\n",
       " GOLD                 22\n",
       " UNSPECIFIED          19\n",
       " BEIGE                18\n",
       " OTHER                15\n",
       " 1n/a                 12\n",
       " BRONZE               11\n",
       " PURPLE               11\n",
       " Multi-Coloured        9\n",
       " Light Blue            6\n",
       " MAROON                6\n",
       " other                 4\n",
       " MAUVE                 4\n",
       " cream                 3\n",
       " gold                  2\n",
       " brown                 2\n",
       " TURQUOISE             2\n",
       " Mauve                 1\n",
       " orange                1\n",
       " unspecified           1\n",
       " yellow                1\n",
       " BLack                 1\n",
       " maroon                1\n",
       " MULTI-COLOURED        1\n",
       " Name: Colour, dtype: int64)"
      ]
     },
     "execution_count": 129,
     "metadata": {},
     "output_type": "execute_result"
    }
   ],
   "source": [
    "df['Make'].value_counts(),df['Colour'].value_counts()"
   ]
  },
  {
   "cell_type": "code",
   "execution_count": 130,
   "metadata": {},
   "outputs": [
    {
     "data": {
      "text/plain": [
       "Ford             50004\n",
       "BMW              40787\n",
       "Mercedes Benz    39047\n",
       "Vauxhall         35177\n",
       "Volkswagen       34808\n",
       "                 ...  \n",
       "CADILLAC             1\n",
       "Moto Guzzi           1\n",
       "Moto Morini          1\n",
       "Mustang              1\n",
       "DAEWOO               1\n",
       "Name: Make, Length: 210, dtype: int64"
      ]
     },
     "execution_count": 130,
     "metadata": {},
     "output_type": "execute_result"
    }
   ],
   "source": [
    "df['Make'].value_counts() "
   ]
  },
  {
   "cell_type": "markdown",
   "metadata": {},
   "source": [
    "### 1. Analysis - \"Make\" \n",
    "\n",
    "No clear grouping of feature 'Make' "
   ]
  },
  {
   "cell_type": "code",
   "execution_count": 135,
   "metadata": {},
   "outputs": [
    {
     "data": {
      "text/plain": [
       "Ford             6749\n",
       "BMW              5650\n",
       "Vauxhall         5030\n",
       "Mercedes Benz    4988\n",
       "Volkswagen       4735\n",
       "                 ... \n",
       "Bugatti             1\n",
       "Vanden Plas         1\n",
       "Daimler             1\n",
       "DACIA               1\n",
       "YAMAHA              1\n",
       "Name: Make, Length: 148, dtype: int64"
      ]
     },
     "execution_count": 135,
     "metadata": {},
     "output_type": "execute_result"
    }
   ],
   "source": [
    "cluster1['Make'].value_counts()"
   ]
  },
  {
   "cell_type": "code",
   "execution_count": 137,
   "metadata": {},
   "outputs": [
    {
     "data": {
      "text/plain": [
       "Ford             32435\n",
       "BMW              26319\n",
       "Mercedes Benz    25979\n",
       "Volkswagen       22809\n",
       "Vauxhall         22583\n",
       "                 ...  \n",
       "ROVER                1\n",
       "Alvis                1\n",
       "McLaren              1\n",
       "Caterham             1\n",
       "Mahindra             1\n",
       "Name: Make, Length: 184, dtype: int64"
      ]
     },
     "execution_count": 137,
     "metadata": {},
     "output_type": "execute_result"
    }
   ],
   "source": [
    "cluster2['Make'].value_counts()"
   ]
  },
  {
   "cell_type": "code",
   "execution_count": 138,
   "metadata": {},
   "outputs": [
    {
     "data": {
      "text/plain": [
       "Ford             10820\n",
       "BMW               8818\n",
       "Mercedes Benz     8080\n",
       "Vauxhall          7564\n",
       "Volkswagen        7264\n",
       "                 ...  \n",
       "DAEWOO               1\n",
       "Dennis               1\n",
       "Rolls-Royce          1\n",
       "mazda                1\n",
       "YAMAHA               1\n",
       "Name: Make, Length: 162, dtype: int64"
      ]
     },
     "execution_count": 138,
     "metadata": {},
     "output_type": "execute_result"
    }
   ],
   "source": [
    "cluster3['Make'].value_counts()"
   ]
  },
  {
   "cell_type": "markdown",
   "metadata": {},
   "source": [
    "### 2. Analysis - \"Colour\" \n",
    "\n",
    "No clear grouping of feature 'Colour' "
   ]
  },
  {
   "cell_type": "code",
   "execution_count": 140,
   "metadata": {},
   "outputs": [
    {
     "data": {
      "text/plain": [
       "Black             11092\n",
       "Other              9649\n",
       "White              8742\n",
       "Silver             7475\n",
       "Grey               5567\n",
       "Blue               5148\n",
       "Red                2021\n",
       "Unspecified         922\n",
       "BLACK               424\n",
       "Green               417\n",
       "SILVER              290\n",
       "WHITE               221\n",
       "BLUE                191\n",
       "GREY                136\n",
       "Yellow              127\n",
       "Orange              100\n",
       "Beige                96\n",
       "Brown                90\n",
       "RED                  67\n",
       "Gold                 63\n",
       "Maroon               57\n",
       "Bronze               48\n",
       "Purple               46\n",
       "red                  26\n",
       "Cream                24\n",
       "blue                 20\n",
       "UNSPECIFIED          16\n",
       "grey                 13\n",
       "GREEN                11\n",
       "Pink                  6\n",
       "YELLOW                5\n",
       "Multi-Coloured        4\n",
       "BEIGE                 4\n",
       "PURPLE                4\n",
       "black                 3\n",
       "BROWN                 3\n",
       "OTHER                 2\n",
       "ORANGE                2\n",
       "white                 2\n",
       "TURQUOISE             1\n",
       "green                 1\n",
       "Light Blue            1\n",
       "silver                1\n",
       "Burgundy              1\n",
       "MULTI-COLOURED        1\n",
       "Name: Colour, dtype: int64"
      ]
     },
     "execution_count": 140,
     "metadata": {},
     "output_type": "execute_result"
    }
   ],
   "source": [
    "cluster1['Colour'].value_counts()"
   ]
  },
  {
   "cell_type": "code",
   "execution_count": 141,
   "metadata": {},
   "outputs": [
    {
     "data": {
      "text/plain": [
       "Black             51128\n",
       "White             43156\n",
       "Silver            35516\n",
       "Other             34234\n",
       "Grey              24384\n",
       "Blue              23182\n",
       "Red                9107\n",
       "Unspecified        8810\n",
       "BLACK              2124\n",
       "Green              1870\n",
       "SILVER             1581\n",
       "WHITE              1341\n",
       "BLUE                983\n",
       "GREY                797\n",
       "Yellow              734\n",
       "Brown               424\n",
       "RED                 369\n",
       "red                 266\n",
       "Gold                243\n",
       "Purple              191\n",
       "Orange              179\n",
       "grey                162\n",
       "Cream               143\n",
       "Maroon              130\n",
       "Beige               114\n",
       "GREEN                92\n",
       "blue                 84\n",
       "black                84\n",
       "white                64\n",
       "YELLOW               45\n",
       "Burgundy             43\n",
       "Bronze               41\n",
       "silver               30\n",
       "green                18\n",
       "BROWN                15\n",
       "Pink                 13\n",
       "ORANGE               13\n",
       "GOLD                 11\n",
       "BEIGE                 9\n",
       "OTHER                 7\n",
       "MAROON                6\n",
       "BRONZE                5\n",
       "Light Blue            5\n",
       "Multi-Coloured        5\n",
       "1n/a                  4\n",
       "PURPLE                3\n",
       "other                 3\n",
       "UNSPECIFIED           2\n",
       "MAUVE                 2\n",
       "BLack                 1\n",
       "yellow                1\n",
       "unspecified           1\n",
       "cream                 1\n",
       "brown                 1\n",
       "Name: Colour, dtype: int64"
      ]
     },
     "execution_count": 141,
     "metadata": {},
     "output_type": "execute_result"
    }
   ],
   "source": [
    "cluster2['Colour'].value_counts()"
   ]
  },
  {
   "cell_type": "code",
   "execution_count": 142,
   "metadata": {},
   "outputs": [
    {
     "data": {
      "text/plain": [
       "Black          18156\n",
       "White          13638\n",
       "Silver         12752\n",
       "Grey            9751\n",
       "Blue            8371\n",
       "Other           5946\n",
       "Red             2927\n",
       "Unspecified     2192\n",
       "BLACK           1286\n",
       "SILVER           950\n",
       "Green            875\n",
       "WHITE            795\n",
       "BLUE             706\n",
       "GREY             510\n",
       "Yellow           339\n",
       "Brown            239\n",
       "RED              210\n",
       "red              154\n",
       "grey             152\n",
       "Gold             123\n",
       "Maroon           114\n",
       "Burgundy          86\n",
       "Purple            84\n",
       "black             78\n",
       "blue              75\n",
       "Orange            72\n",
       "Cream             64\n",
       "white             53\n",
       "GREEN             46\n",
       "Beige             39\n",
       "Bronze            33\n",
       "YELLOW            33\n",
       "silver            18\n",
       "BROWN             12\n",
       "GOLD              11\n",
       "ORANGE             8\n",
       "1n/a               8\n",
       "Pink               7\n",
       "OTHER              6\n",
       "BRONZE             6\n",
       "BEIGE              5\n",
       "green              5\n",
       "PURPLE             4\n",
       "MAUVE              2\n",
       "gold               2\n",
       "cream              2\n",
       "TURQUOISE          1\n",
       "maroon             1\n",
       "other              1\n",
       "Mauve              1\n",
       "orange             1\n",
       "UNSPECIFIED        1\n",
       "brown              1\n",
       "Name: Colour, dtype: int64"
      ]
     },
     "execution_count": 142,
     "metadata": {},
     "output_type": "execute_result"
    }
   ],
   "source": [
    "cluster3['Colour'].value_counts()"
   ]
  },
  {
   "cell_type": "markdown",
   "metadata": {},
   "source": [
    "### 3. Analysis - \"Issue Time\" \n",
    "\n",
    "No clear grouping of feature 'Issue Time' "
   ]
  },
  {
   "cell_type": "code",
   "execution_count": 146,
   "metadata": {},
   "outputs": [
    {
     "data": {
      "text/plain": [
       "9     48419\n",
       "11    46465\n",
       "10    45439\n",
       "12    41429\n",
       "8     38825\n",
       "13    35899\n",
       "14    28757\n",
       "15    21749\n",
       "16    17708\n",
       "17    14573\n",
       "18     8951\n",
       "7      4058\n",
       "19     3661\n",
       "20     3306\n",
       "2      2359\n",
       "23     2280\n",
       "1      2202\n",
       "0      2191\n",
       "6      2041\n",
       "3      1825\n",
       "21     1465\n",
       "22     1060\n",
       "4       820\n",
       "5       387\n",
       "Name: Issue Time, dtype: int64"
      ]
     },
     "execution_count": 146,
     "metadata": {},
     "output_type": "execute_result"
    }
   ],
   "source": [
    "df['Issue Time'].value_counts()"
   ]
  },
  {
   "cell_type": "markdown",
   "metadata": {},
   "source": [
    "From the count of fines in the original dataset, the frequency of fines is high in the office hours i.e. **8am to 5pm.**\n",
    "\n",
    "- Most number of fines are in the morning hours of 8:00am and 9:00am.\n",
    "\n",
    "- The least number of fines are in the early morning i.e. 4:00 am and 5:00 am"
   ]
  },
  {
   "cell_type": "code",
   "execution_count": 143,
   "metadata": {},
   "outputs": [
    {
     "data": {
      "text/plain": [
       "8     5551\n",
       "12    5363\n",
       "11    5359\n",
       "9     5113\n",
       "13    4741\n",
       "10    4096\n",
       "14    4066\n",
       "15    3747\n",
       "16    3464\n",
       "17    3196\n",
       "18    2190\n",
       "7     1244\n",
       "19     620\n",
       "1      583\n",
       "6      549\n",
       "2      546\n",
       "23     540\n",
       "0      485\n",
       "20     466\n",
       "3      398\n",
       "21     318\n",
       "22     234\n",
       "4      207\n",
       "5       64\n",
       "Name: Issue Time, dtype: int64"
      ]
     },
     "execution_count": 143,
     "metadata": {},
     "output_type": "execute_result"
    }
   ],
   "source": [
    "cluster1['Issue Time'].value_counts()"
   ]
  },
  {
   "cell_type": "markdown",
   "metadata": {},
   "source": [
    "- Cluster 1 consists of more fines of morning i.e. 8:00 am\n",
    "\n",
    "- The least number of fines are in the early morning i.e. 4:00 am and 5:00 am"
   ]
  },
  {
   "cell_type": "code",
   "execution_count": 144,
   "metadata": {},
   "outputs": [
    {
     "data": {
      "text/plain": [
       "9     31816\n",
       "10    31070\n",
       "11    30620\n",
       "12    26650\n",
       "8     24200\n",
       "13    23409\n",
       "14    18210\n",
       "15    13113\n",
       "16     9946\n",
       "17     8212\n",
       "18     4805\n",
       "19     2523\n",
       "20     2515\n",
       "7      2405\n",
       "2      1793\n",
       "23     1709\n",
       "0      1675\n",
       "1      1591\n",
       "3      1411\n",
       "6      1357\n",
       "21     1022\n",
       "22      802\n",
       "4       600\n",
       "5       323\n",
       "Name: Issue Time, dtype: int64"
      ]
     },
     "execution_count": 144,
     "metadata": {},
     "output_type": "execute_result"
    }
   ],
   "source": [
    "cluster2['Issue Time'].value_counts()"
   ]
  },
  {
   "cell_type": "markdown",
   "metadata": {},
   "source": [
    "- Cluster 2 consists of more fines of morning i.e. 9:00 am\n",
    "\n",
    "- The least number of fines are in the early morning i.e. 4:00 am and 5:00 am"
   ]
  },
  {
   "cell_type": "code",
   "execution_count": 145,
   "metadata": {},
   "outputs": [
    {
     "data": {
      "text/plain": [
       "9     11490\n",
       "11    10486\n",
       "10    10273\n",
       "12     9416\n",
       "8      9074\n",
       "13     7749\n",
       "14     6481\n",
       "15     4889\n",
       "16     4298\n",
       "17     3165\n",
       "18     1956\n",
       "19      518\n",
       "7       409\n",
       "20      325\n",
       "6       135\n",
       "21      125\n",
       "23       31\n",
       "0        31\n",
       "1        28\n",
       "22       24\n",
       "2        20\n",
       "3        16\n",
       "4        13\n",
       "Name: Issue Time, dtype: int64"
      ]
     },
     "execution_count": 145,
     "metadata": {},
     "output_type": "execute_result"
    }
   ],
   "source": [
    "cluster3['Issue Time'].value_counts()"
   ]
  },
  {
   "cell_type": "markdown",
   "metadata": {},
   "source": [
    "- Cluster 2 consists of more fines of morning i.e. 9:00 am\n",
    "\n",
    "- The least number of fines are in the early morning i.e. 4:00 am and 3:00 am"
   ]
  },
  {
   "cell_type": "markdown",
   "metadata": {},
   "source": [
    "### 4. Analysis - \"Contravention Code\" \n",
    "\n",
    "No clear grouping of feature 'Contravention Code' \n"
   ]
  },
  {
   "cell_type": "code",
   "execution_count": 149,
   "metadata": {},
   "outputs": [
    {
     "data": {
      "text/plain": [
       "12     132490\n",
       "1       92937\n",
       "19      36413\n",
       "62      19136\n",
       "30      18085\n",
       "165     16065\n",
       "25      14787\n",
       "11       8066\n",
       "21       5843\n",
       "40       4984\n",
       "27       3803\n",
       "6        3450\n",
       "16       2701\n",
       "2        2344\n",
       "83       2031\n",
       "99       1931\n",
       "73       1574\n",
       "92       1074\n",
       "55        994\n",
       "26        949\n",
       "48        870\n",
       "23        839\n",
       "87        819\n",
       "47        734\n",
       "54        670\n",
       "5         400\n",
       "14        305\n",
       "82        289\n",
       "61        226\n",
       "45        213\n",
       "86        177\n",
       "91        161\n",
       "22         84\n",
       "81         75\n",
       "24         70\n",
       "28         59\n",
       "80         56\n",
       "95         47\n",
       "85         38\n",
       "49         18\n",
       "20         10\n",
       "35          6\n",
       "43          6\n",
       "93          6\n",
       "63          5\n",
       "10          5\n",
       "8           5\n",
       "36          3\n",
       "232         2\n",
       "164         2\n",
       "89          2\n",
       "18          2\n",
       "96          2\n",
       "56          2\n",
       "7           1\n",
       "4           1\n",
       "71          1\n",
       "57          1\n",
       "Name: Contravention Code, dtype: int64"
      ]
     },
     "execution_count": 149,
     "metadata": {},
     "output_type": "execute_result"
    }
   ],
   "source": [
    "df['Contravention Code'].value_counts()"
   ]
  },
  {
   "cell_type": "markdown",
   "metadata": {},
   "source": [
    "From the count of fines in the original dataset, the frequency of fines is high with \n",
    "**Contravention Code : 12- 132490**\n",
    "**Contravention Code : 1 - 92937**\n",
    "\n",
    "- Most number of fines are with **Contravention Code : 12** i.e 132490\n",
    "\n",
    "- The least number of fines are with **Contravention Codes : 7,4,71,57**  - 1 each"
   ]
  },
  {
   "cell_type": "code",
   "execution_count": 150,
   "metadata": {},
   "outputs": [
    {
     "data": {
      "text/plain": [
       "12     15275\n",
       "1      14027\n",
       "19      4595\n",
       "25      3774\n",
       "62      3194\n",
       "165     2845\n",
       "30      2132\n",
       "27       909\n",
       "21       895\n",
       "40       809\n",
       "11       710\n",
       "2        409\n",
       "6        396\n",
       "16       389\n",
       "83       293\n",
       "99       281\n",
       "73       249\n",
       "87       228\n",
       "26       225\n",
       "55       216\n",
       "23       201\n",
       "54       195\n",
       "92       170\n",
       "47       142\n",
       "48       116\n",
       "5         71\n",
       "14        70\n",
       "91        55\n",
       "45        51\n",
       "82        51\n",
       "86        43\n",
       "61        34\n",
       "24        26\n",
       "81        20\n",
       "95        14\n",
       "22         9\n",
       "80         7\n",
       "43         6\n",
       "28         2\n",
       "71         1\n",
       "56         1\n",
       "4          1\n",
       "85         1\n",
       "49         1\n",
       "164        1\n",
       "Name: Contravention Code, dtype: int64"
      ]
     },
     "execution_count": 150,
     "metadata": {},
     "output_type": "execute_result"
    }
   ],
   "source": [
    "cluster1['Contravention Code'].value_counts()"
   ]
  },
  {
   "cell_type": "code",
   "execution_count": 151,
   "metadata": {},
   "outputs": [
    {
     "data": {
      "text/plain": [
       "12     86407\n",
       "1      58351\n",
       "19     24402\n",
       "62     13462\n",
       "165    11148\n",
       "30     11084\n",
       "25      9178\n",
       "11      5195\n",
       "21      3352\n",
       "40      3035\n",
       "27      2448\n",
       "16      2041\n",
       "6       1817\n",
       "2       1423\n",
       "99      1415\n",
       "83       998\n",
       "55       680\n",
       "92       643\n",
       "73       630\n",
       "23       550\n",
       "26       548\n",
       "48       499\n",
       "87       462\n",
       "47       437\n",
       "54       379\n",
       "14       219\n",
       "5        173\n",
       "61       139\n",
       "45       107\n",
       "86       104\n",
       "91        87\n",
       "82        83\n",
       "81        46\n",
       "80        43\n",
       "22        37\n",
       "85        32\n",
       "95        29\n",
       "24        29\n",
       "28        19\n",
       "49         7\n",
       "20         7\n",
       "35         6\n",
       "93         6\n",
       "63         5\n",
       "8          3\n",
       "10         3\n",
       "18         2\n",
       "232        2\n",
       "96         1\n",
       "56         1\n",
       "7          1\n",
       "36         1\n",
       "57         1\n",
       "Name: Contravention Code, dtype: int64"
      ]
     },
     "execution_count": 151,
     "metadata": {},
     "output_type": "execute_result"
    }
   ],
   "source": [
    "cluster2['Contravention Code'].value_counts()"
   ]
  },
  {
   "cell_type": "code",
   "execution_count": 152,
   "metadata": {},
   "outputs": [
    {
     "data": {
      "text/plain": [
       "12     30808\n",
       "1      20559\n",
       "19      7416\n",
       "30      4869\n",
       "62      2480\n",
       "11      2161\n",
       "165     2072\n",
       "25      1835\n",
       "21      1596\n",
       "6       1237\n",
       "40      1140\n",
       "83       740\n",
       "73       695\n",
       "2        512\n",
       "27       446\n",
       "16       271\n",
       "92       261\n",
       "48       255\n",
       "99       235\n",
       "26       176\n",
       "5        156\n",
       "82       155\n",
       "47       155\n",
       "87       129\n",
       "55        98\n",
       "54        96\n",
       "23        88\n",
       "45        55\n",
       "61        53\n",
       "28        38\n",
       "22        38\n",
       "86        30\n",
       "91        19\n",
       "14        16\n",
       "24        15\n",
       "49        10\n",
       "81         9\n",
       "80         6\n",
       "85         5\n",
       "95         4\n",
       "20         3\n",
       "89         2\n",
       "10         2\n",
       "8          2\n",
       "36         2\n",
       "164        1\n",
       "96         1\n",
       "Name: Contravention Code, dtype: int64"
      ]
     },
     "execution_count": 152,
     "metadata": {},
     "output_type": "execute_result"
    }
   ],
   "source": [
    "cluster3['Contravention Code'].value_counts()"
   ]
  },
  {
   "cell_type": "markdown",
   "metadata": {},
   "source": [
    "### 5. Analysis - \"Location\" \n",
    "\n",
    "**Cluster 1 consists of most of the fines occured at following locations:** \n",
    "- Oxford Road            952\n",
    "- Westfield Avenue       810\n",
    "- Clova Road             633\n",
    "\n",
    "**Cluster 2 consists of most of the fines occured at following locations:**\n",
    "\n",
    "- High Street North    4576\n",
    "- Barking Road         3397\n",
    "- Westfield Avenue     2665\n",
    "\n",
    "**Cluster 3 consists of most of the fines occured at following locations:**\n",
    "- High Street North    2946\n",
    "- Thorpe Road          1870\n",
    "- St. Johns Road E6    1162\n",
    "- Romford Road         1090"
   ]
  },
  {
   "cell_type": "code",
   "execution_count": 153,
   "metadata": {},
   "outputs": [
    {
     "data": {
      "text/plain": [
       "High Street North    7837\n",
       "Barking Road         4585\n",
       "Thorpe Road          4049\n",
       "Kempton Road         3770\n",
       "Westfield Avenue     3688\n",
       "                     ... \n",
       "Neville Road E13        1\n",
       "McDowall Close          1\n",
       "Walton Road, E6         1\n",
       "Grebe Close             1\n",
       "Phoebe Walk             1\n",
       "Name: Location, Length: 1631, dtype: int64"
      ]
     },
     "execution_count": 153,
     "metadata": {},
     "output_type": "execute_result"
    }
   ],
   "source": [
    "df['Location'].value_counts()"
   ]
  },
  {
   "cell_type": "markdown",
   "metadata": {},
   "source": [
    "From the count of fines in the original dataset, the frequency of fines is high at following location\n",
    "\n",
    "**High Street North : 7837 fines**\n",
    "\n",
    "**Barking Road : 4585**"
   ]
  },
  {
   "cell_type": "code",
   "execution_count": 154,
   "metadata": {},
   "outputs": [
    {
     "data": {
      "text/plain": [
       "Oxford Road            952\n",
       "Westfield Avenue       810\n",
       "Clova Road             633\n",
       "Broadway               504\n",
       "Burges Road            504\n",
       "                      ... \n",
       "Service Route No. 3      1\n",
       "Winifred Street          1\n",
       "Bradley Stone Road       1\n",
       "Lord Street              1\n",
       "Bridgeland Road          1\n",
       "Name: Location, Length: 1310, dtype: int64"
      ]
     },
     "execution_count": 154,
     "metadata": {},
     "output_type": "execute_result"
    }
   ],
   "source": [
    "cluster1['Location'].value_counts()"
   ]
  },
  {
   "cell_type": "code",
   "execution_count": 155,
   "metadata": {},
   "outputs": [
    {
     "data": {
      "text/plain": [
       "High Street North    4576\n",
       "Barking Road         3397\n",
       "Westfield Avenue     2665\n",
       "Kempton Road         2287\n",
       "Skeffington Road     2175\n",
       "                     ... \n",
       "Spur Road               1\n",
       "Grebe Close             1\n",
       "Long Wall               1\n",
       "Priory Court            1\n",
       "Wooder Gardens          1\n",
       "Name: Location, Length: 1604, dtype: int64"
      ]
     },
     "execution_count": 155,
     "metadata": {},
     "output_type": "execute_result"
    }
   ],
   "source": [
    "cluster2['Location'].value_counts()"
   ]
  },
  {
   "cell_type": "code",
   "execution_count": 156,
   "metadata": {},
   "outputs": [
    {
     "data": {
      "text/plain": [
       "High Street North    2946\n",
       "Thorpe Road          1870\n",
       "St. Johns Road E6    1162\n",
       "Romford Road         1090\n",
       "Kempton Road         1042\n",
       "                     ... \n",
       "Wakerly Close           1\n",
       "Comyns Close            1\n",
       "Emily Street            1\n",
       "Gatcombe Road           1\n",
       "Canterbury Close        1\n",
       "Name: Location, Length: 1457, dtype: int64"
      ]
     },
     "execution_count": 156,
     "metadata": {},
     "output_type": "execute_result"
    }
   ],
   "source": [
    "cluster3['Location'].value_counts()"
   ]
  },
  {
   "cell_type": "markdown",
   "metadata": {},
   "source": [
    "### 6. Analysis - \"PA_Details\" \n",
    "\n",
    "We have observed a very clear segregation of clusters on the basis of PA_Details. Fines carried by similar PAs are grouped in similar cluster. \n",
    "\n",
    "**Cluster 1 consists of most of the fines  by following PA_Details:** \n",
    "\n",
    "**PA_Details : Frequency** \n",
    "- 1142:   6729\n",
    "- 1313:    6518\n",
    "- 1331:    6417\n",
    "- 1306:    6195\n",
    "- 1278:    5396\n",
    "- 1252:    4979\n",
    "- 1281:    4019\n",
    "- 1145:    4010\n",
    "\n",
    "**Cluster 2 consists of most of the fines by following PA_Details:**\n",
    "\n",
    "**PA_Details : Frequency** \n",
    "- 1468:    10708\n",
    "- 1466:     9820\n",
    "- 1456:     9766\n",
    "- 1453:     9671\n",
    "- 1419:     9307\n",
    "\n",
    "**Cluster 3 consists of most of the fines by following PA_Details:**\n",
    "\n",
    "**PA_Details : Frequency** \n",
    "- 3247:    5971\n",
    "- 3235:    4602\n",
    "- 3266:    4564\n",
    "- 3216:    3442\n",
    "- 3264:    3019"
   ]
  },
  {
   "cell_type": "code",
   "execution_count": 160,
   "metadata": {},
   "outputs": [
    {
     "data": {
      "text/plain": [
       "1468    10708\n",
       "1466     9820\n",
       "1456     9766\n",
       "1453     9671\n",
       "1419     9307\n",
       "        ...  \n",
       "9999        3\n",
       "3165        1\n",
       "777         1\n",
       "1460        1\n",
       "3197        1\n",
       "Name: PA_Details, Length: 171, dtype: int64"
      ]
     },
     "execution_count": 160,
     "metadata": {},
     "output_type": "execute_result"
    }
   ],
   "source": [
    "df['PA_Details'].value_counts()"
   ]
  },
  {
   "cell_type": "code",
   "execution_count": 159,
   "metadata": {},
   "outputs": [
    {
     "data": {
      "text/plain": [
       "1142    6729\n",
       "1313    6518\n",
       "1331    6417\n",
       "1306    6195\n",
       "1278    5396\n",
       "1252    4979\n",
       "1281    4019\n",
       "1145    4010\n",
       "1318    2400\n",
       "1309    2318\n",
       "1146    1268\n",
       "992     1212\n",
       "1351    1031\n",
       "1247     417\n",
       "1035      95\n",
       "999       69\n",
       "1308      66\n",
       "777        1\n",
       "Name: PA_Details, dtype: int64"
      ]
     },
     "execution_count": 159,
     "metadata": {},
     "output_type": "execute_result"
    }
   ],
   "source": [
    "cluster1['PA_Details'].value_counts()"
   ]
  },
  {
   "cell_type": "code",
   "execution_count": 158,
   "metadata": {},
   "outputs": [
    {
     "data": {
      "text/plain": [
       "1468    10708\n",
       "1466     9820\n",
       "1456     9766\n",
       "1453     9671\n",
       "1419     9307\n",
       "        ...  \n",
       "1440       33\n",
       "1501       21\n",
       "1483       13\n",
       "1430       11\n",
       "1460        1\n",
       "Name: PA_Details, Length: 80, dtype: int64"
      ]
     },
     "execution_count": 158,
     "metadata": {},
     "output_type": "execute_result"
    }
   ],
   "source": [
    "cluster2['PA_Details'].value_counts()"
   ]
  },
  {
   "cell_type": "code",
   "execution_count": 157,
   "metadata": {},
   "outputs": [
    {
     "data": {
      "text/plain": [
       "3247    5971\n",
       "3235    4602\n",
       "3266    4564\n",
       "3216    3442\n",
       "3264    3019\n",
       "        ... \n",
       "3263       5\n",
       "3281       4\n",
       "9999       3\n",
       "3165       1\n",
       "3197       1\n",
       "Name: PA_Details, Length: 73, dtype: int64"
      ]
     },
     "execution_count": 157,
     "metadata": {},
     "output_type": "execute_result"
    }
   ],
   "source": [
    "cluster3['PA_Details'].value_counts()"
   ]
  },
  {
   "cell_type": "markdown",
   "metadata": {},
   "source": [
    "### 7. Analysis - \"Issue Date\" (quarters)\n",
    "\n",
    "\n",
    "No clear grouping of feature \"Issue Date\" (quarters)"
   ]
  },
  {
   "cell_type": "code",
   "execution_count": 162,
   "metadata": {},
   "outputs": [
    {
     "data": {
      "text/plain": [
       "Q4Y1    41743\n",
       "Q3Y1    39502\n",
       "Q2Y1    38199\n",
       "Q1Y2    37074\n",
       "Q1Y1    34226\n",
       "Q4Y3    34064\n",
       "Q2Y3    32739\n",
       "Q3Y3    32391\n",
       "Q4Y2    25898\n",
       "Q1Y3    25233\n",
       "Q3Y2    20624\n",
       "Q2Y2    14176\n",
       "Name: Issue Date, dtype: int64"
      ]
     },
     "execution_count": 162,
     "metadata": {},
     "output_type": "execute_result"
    }
   ],
   "source": [
    "df['Issue Date'].value_counts()"
   ]
  },
  {
   "cell_type": "code",
   "execution_count": 163,
   "metadata": {},
   "outputs": [
    {
     "data": {
      "text/plain": [
       "Q4Y1    6095\n",
       "Q3Y1    5567\n",
       "Q1Y2    5493\n",
       "Q2Y1    5306\n",
       "Q2Y3    4857\n",
       "Q4Y3    4650\n",
       "Q3Y3    4560\n",
       "Q1Y1    4465\n",
       "Q1Y3    3513\n",
       "Q4Y2    3506\n",
       "Q3Y2    3317\n",
       "Q2Y2    1811\n",
       "Name: Issue Date, dtype: int64"
      ]
     },
     "execution_count": 163,
     "metadata": {},
     "output_type": "execute_result"
    }
   ],
   "source": [
    "cluster1['Issue Date'].value_counts()"
   ]
  },
  {
   "cell_type": "code",
   "execution_count": 164,
   "metadata": {},
   "outputs": [
    {
     "data": {
      "text/plain": [
       "Q4Y1    26731\n",
       "Q3Y1    25411\n",
       "Q2Y1    24569\n",
       "Q1Y2    23572\n",
       "Q1Y1    22192\n",
       "Q4Y3    22032\n",
       "Q3Y3    20949\n",
       "Q2Y3    20783\n",
       "Q4Y2    16801\n",
       "Q1Y3    16166\n",
       "Q3Y2    13071\n",
       "Q2Y2     9500\n",
       "Name: Issue Date, dtype: int64"
      ]
     },
     "execution_count": 164,
     "metadata": {},
     "output_type": "execute_result"
    }
   ],
   "source": [
    "cluster2['Issue Date'].value_counts()"
   ]
  },
  {
   "cell_type": "code",
   "execution_count": 165,
   "metadata": {},
   "outputs": [
    {
     "data": {
      "text/plain": [
       "Q4Y1    8917\n",
       "Q3Y1    8524\n",
       "Q2Y1    8324\n",
       "Q1Y2    8009\n",
       "Q1Y1    7569\n",
       "Q4Y3    7382\n",
       "Q2Y3    7099\n",
       "Q3Y3    6882\n",
       "Q4Y2    5591\n",
       "Q1Y3    5554\n",
       "Q3Y2    4236\n",
       "Q2Y2    2865\n",
       "Name: Issue Date, dtype: int64"
      ]
     },
     "execution_count": 165,
     "metadata": {},
     "output_type": "execute_result"
    }
   ],
   "source": [
    "cluster3['Issue Date'].value_counts()"
   ]
  },
  {
   "cell_type": "markdown",
   "metadata": {},
   "source": [
    "### 8. Analysis - \"Issue Date\"\n",
    "\n",
    "\n",
    "No clear grouping of feature \"Issue Date Original\"\n",
    "\n",
    "\n",
    "* Most of the fines are observed at these dates\n",
    "  \n",
    "2-Jan-2020    : 937\n",
    "\n",
    "29/01/2020    : 886\n",
    "\n",
    "25/01/2020    : 874\n",
    "\n",
    "23/11/2019    : 863\n",
    "\n",
    "28/12/2019    : 840"
   ]
  },
  {
   "cell_type": "code",
   "execution_count": 169,
   "metadata": {},
   "outputs": [
    {
     "data": {
      "text/plain": [
       "2-Jan-2020    937\n",
       "29/01/2020    886\n",
       "25/01/2020    874\n",
       "23/11/2019    863\n",
       "28/12/2019    840\n",
       "             ... \n",
       "7-Apr-2020     31\n",
       "27/04/2020     29\n",
       "1-May-2019     26\n",
       "1-Mar-2019      8\n",
       "1-Apr-2019      5\n",
       "Name: Issue Date Original, Length: 1085, dtype: int64"
      ]
     },
     "execution_count": 169,
     "metadata": {},
     "output_type": "execute_result"
    }
   ],
   "source": [
    "df_new['Issue Date Original'].value_counts()"
   ]
  },
  {
   "cell_type": "code",
   "execution_count": 170,
   "metadata": {},
   "outputs": [
    {
     "data": {
      "text/plain": [
       "22/01/2020     185\n",
       "23/01/2020     166\n",
       "21/01/2020     163\n",
       "11-Jul-2021    146\n",
       "18/01/2020     145\n",
       "              ... \n",
       "7-Mar-2020       2\n",
       "5-Sep-2020       2\n",
       "5-Feb-2020       1\n",
       "5-May-2020       1\n",
       "1-Apr-2019       1\n",
       "Name: Issue Date Original, Length: 1085, dtype: int64"
      ]
     },
     "execution_count": 170,
     "metadata": {},
     "output_type": "execute_result"
    }
   ],
   "source": [
    "cluster1['Issue Date Original'].value_counts()"
   ]
  },
  {
   "cell_type": "code",
   "execution_count": 171,
   "metadata": {},
   "outputs": [
    {
     "data": {
      "text/plain": [
       "2-Jan-2020    614\n",
       "28/12/2019    574\n",
       "25/01/2020    573\n",
       "29/01/2020    570\n",
       "23/11/2019    552\n",
       "             ... \n",
       "1-Jun-2019     25\n",
       "7-Apr-2020     21\n",
       "27/04/2020     21\n",
       "1-May-2019     12\n",
       "1-Mar-2019      1\n",
       "Name: Issue Date Original, Length: 1084, dtype: int64"
      ]
     },
     "execution_count": 171,
     "metadata": {},
     "output_type": "execute_result"
    }
   ],
   "source": [
    "cluster2['Issue Date Original'].value_counts()"
   ]
  },
  {
   "cell_type": "code",
   "execution_count": 172,
   "metadata": {},
   "outputs": [
    {
     "data": {
      "text/plain": [
       "2-Jan-2020    225\n",
       "23/11/2019    210\n",
       "29/01/2020    202\n",
       "25/01/2020    185\n",
       "8-Mar-2019    184\n",
       "             ... \n",
       "7-Sep-2020      4\n",
       "1-Apr-2019      4\n",
       "5-Jul-2020      4\n",
       "1-Mar-2019      3\n",
       "23/04/2020      1\n",
       "Name: Issue Date Original, Length: 1085, dtype: int64"
      ]
     },
     "execution_count": 172,
     "metadata": {},
     "output_type": "execute_result"
    }
   ],
   "source": [
    "cluster3['Issue Date Original'].value_counts()"
   ]
  },
  {
   "cell_type": "code",
   "execution_count": 139,
   "metadata": {},
   "outputs": [
    {
     "data": {
      "text/html": [
       "<div>\n",
       "<style scoped>\n",
       "    .dataframe tbody tr th:only-of-type {\n",
       "        vertical-align: middle;\n",
       "    }\n",
       "\n",
       "    .dataframe tbody tr th {\n",
       "        vertical-align: top;\n",
       "    }\n",
       "\n",
       "    .dataframe thead th {\n",
       "        text-align: right;\n",
       "    }\n",
       "</style>\n",
       "<table border=\"1\" class=\"dataframe\">\n",
       "  <thead>\n",
       "    <tr style=\"text-align: right;\">\n",
       "      <th></th>\n",
       "      <th>Make</th>\n",
       "      <th>Colour</th>\n",
       "      <th>Issue Time</th>\n",
       "      <th>Contravention Code</th>\n",
       "      <th>Location</th>\n",
       "      <th>PA_Details</th>\n",
       "      <th>Issue Date</th>\n",
       "      <th>Issue Date Original</th>\n",
       "    </tr>\n",
       "  </thead>\n",
       "  <tbody>\n",
       "    <tr>\n",
       "      <th>18</th>\n",
       "      <td>Audi</td>\n",
       "      <td>Black</td>\n",
       "      <td>11</td>\n",
       "      <td>12</td>\n",
       "      <td>Kerrison Road</td>\n",
       "      <td>1313</td>\n",
       "      <td>Q1Y1</td>\n",
       "      <td>2-Jan-2019</td>\n",
       "    </tr>\n",
       "    <tr>\n",
       "      <th>24</th>\n",
       "      <td>Audi</td>\n",
       "      <td>Black</td>\n",
       "      <td>11</td>\n",
       "      <td>1</td>\n",
       "      <td>Phoenix Way</td>\n",
       "      <td>1318</td>\n",
       "      <td>Q1Y1</td>\n",
       "      <td>2-Jan-2019</td>\n",
       "    </tr>\n",
       "    <tr>\n",
       "      <th>25</th>\n",
       "      <td>Audi</td>\n",
       "      <td>Black</td>\n",
       "      <td>12</td>\n",
       "      <td>11</td>\n",
       "      <td>Brunel Street</td>\n",
       "      <td>1142</td>\n",
       "      <td>Q1Y1</td>\n",
       "      <td>2-Jan-2019</td>\n",
       "    </tr>\n",
       "    <tr>\n",
       "      <th>28</th>\n",
       "      <td>Audi</td>\n",
       "      <td>Black</td>\n",
       "      <td>12</td>\n",
       "      <td>1</td>\n",
       "      <td>Oxford Road</td>\n",
       "      <td>1306</td>\n",
       "      <td>Q1Y1</td>\n",
       "      <td>2-Jan-2019</td>\n",
       "    </tr>\n",
       "    <tr>\n",
       "      <th>33</th>\n",
       "      <td>Audi</td>\n",
       "      <td>Black</td>\n",
       "      <td>12</td>\n",
       "      <td>12</td>\n",
       "      <td>Park Avenue</td>\n",
       "      <td>1247</td>\n",
       "      <td>Q1Y1</td>\n",
       "      <td>2-Jan-2019</td>\n",
       "    </tr>\n",
       "  </tbody>\n",
       "</table>\n",
       "</div>"
      ],
      "text/plain": [
       "    Make Colour  Issue Time  Contravention Code       Location  PA_Details  \\\n",
       "18  Audi  Black          11                  12  Kerrison Road        1313   \n",
       "24  Audi  Black          11                   1    Phoenix Way        1318   \n",
       "25  Audi  Black          12                  11  Brunel Street        1142   \n",
       "28  Audi  Black          12                   1    Oxford Road        1306   \n",
       "33  Audi  Black          12                  12    Park Avenue        1247   \n",
       "\n",
       "   Issue Date Issue Date Original  \n",
       "18       Q1Y1          2-Jan-2019  \n",
       "24       Q1Y1          2-Jan-2019  \n",
       "25       Q1Y1          2-Jan-2019  \n",
       "28       Q1Y1          2-Jan-2019  \n",
       "33       Q1Y1          2-Jan-2019  "
      ]
     },
     "execution_count": 139,
     "metadata": {},
     "output_type": "execute_result"
    }
   ],
   "source": [
    "cluster1.head()"
   ]
  }
 ],
 "metadata": {
  "interpreter": {
   "hash": "f293f16398db128e85df277de8eb5f9ab0a1b28857fa0f1c8543245825f1b931"
  },
  "kernelspec": {
   "display_name": "Python 3.7.7 ('pythonProject')",
   "language": "python",
   "name": "python3"
  },
  "language_info": {
   "codemirror_mode": {
    "name": "ipython",
    "version": 3
   },
   "file_extension": ".py",
   "mimetype": "text/x-python",
   "name": "python",
   "nbconvert_exporter": "python",
   "pygments_lexer": "ipython3",
   "version": "3.7.7"
  },
  "orig_nbformat": 4
 },
 "nbformat": 4,
 "nbformat_minor": 2
}
