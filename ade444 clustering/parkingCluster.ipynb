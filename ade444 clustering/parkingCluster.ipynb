{
 "cells": [
  {
   "cell_type": "code",
   "execution_count": 1,
   "metadata": {},
   "outputs": [],
   "source": [
    "# Importing Libraries\n",
    "import pandas as pd \n",
    "import numpy as np\n",
    "import seaborn as sns\n",
    "import matplotlib.pyplot as plt\n",
    "import warnings\n",
    "warnings.simplefilter(\"ignore\")\n"
   ]
  },
  {
   "cell_type": "code",
   "execution_count": 3,
   "metadata": {},
   "outputs": [
    {
     "data": {
      "text/plain": [
       "(380639, 7)"
      ]
     },
     "execution_count": 3,
     "metadata": {},
     "output_type": "execute_result"
    }
   ],
   "source": [
    "## Load Dataset\n",
    "df = pd.read_csv('Project Parking Data 2.csv')\n",
    "\n",
    "df.shape\n"
   ]
  },
  {
   "cell_type": "code",
   "execution_count": 4,
   "metadata": {},
   "outputs": [
    {
     "data": {
      "text/html": [
       "<div>\n",
       "<style scoped>\n",
       "    .dataframe tbody tr th:only-of-type {\n",
       "        vertical-align: middle;\n",
       "    }\n",
       "\n",
       "    .dataframe tbody tr th {\n",
       "        vertical-align: top;\n",
       "    }\n",
       "\n",
       "    .dataframe thead th {\n",
       "        text-align: right;\n",
       "    }\n",
       "</style>\n",
       "<table border=\"1\" class=\"dataframe\">\n",
       "  <thead>\n",
       "    <tr style=\"text-align: right;\">\n",
       "      <th></th>\n",
       "      <th>Make</th>\n",
       "      <th>Colour</th>\n",
       "      <th>Issue Date</th>\n",
       "      <th>Issue Time</th>\n",
       "      <th>Contravention Code</th>\n",
       "      <th>Location</th>\n",
       "      <th>PA_Details</th>\n",
       "    </tr>\n",
       "  </thead>\n",
       "  <tbody>\n",
       "    <tr>\n",
       "      <th>0</th>\n",
       "      <td>Toyota</td>\n",
       "      <td>Unspecified</td>\n",
       "      <td>01/01/2019</td>\n",
       "      <td>08:28</td>\n",
       "      <td>1</td>\n",
       "      <td>Lathom Road</td>\n",
       "      <td>PN1424</td>\n",
       "    </tr>\n",
       "    <tr>\n",
       "      <th>1</th>\n",
       "      <td>Volkswagen</td>\n",
       "      <td>Silver</td>\n",
       "      <td>01/01/2019</td>\n",
       "      <td>09:22</td>\n",
       "      <td>16</td>\n",
       "      <td>Helena Road</td>\n",
       "      <td>PN1424</td>\n",
       "    </tr>\n",
       "    <tr>\n",
       "      <th>2</th>\n",
       "      <td>Ford</td>\n",
       "      <td>Black</td>\n",
       "      <td>01/01/2019</td>\n",
       "      <td>10:10</td>\n",
       "      <td>1</td>\n",
       "      <td>Hartington Road</td>\n",
       "      <td>PN1424</td>\n",
       "    </tr>\n",
       "    <tr>\n",
       "      <th>3</th>\n",
       "      <td>BMW</td>\n",
       "      <td>Grey</td>\n",
       "      <td>01/01/2019</td>\n",
       "      <td>10:47</td>\n",
       "      <td>62</td>\n",
       "      <td>Alnwick Road</td>\n",
       "      <td>PN1424</td>\n",
       "    </tr>\n",
       "    <tr>\n",
       "      <th>4</th>\n",
       "      <td>Audi</td>\n",
       "      <td>Silver</td>\n",
       "      <td>01/01/2019</td>\n",
       "      <td>13:52</td>\n",
       "      <td>165)</td>\n",
       "      <td>St. Georges Square</td>\n",
       "      <td>PN1424</td>\n",
       "    </tr>\n",
       "  </tbody>\n",
       "</table>\n",
       "</div>"
      ],
      "text/plain": [
       "         Make       Colour  Issue Date Issue Time Contravention Code  \\\n",
       "0      Toyota  Unspecified  01/01/2019      08:28                  1   \n",
       "1  Volkswagen       Silver  01/01/2019      09:22                 16   \n",
       "2        Ford        Black  01/01/2019      10:10                  1   \n",
       "3         BMW         Grey  01/01/2019      10:47                 62   \n",
       "4        Audi       Silver  01/01/2019      13:52               165)   \n",
       "\n",
       "             Location PA_Details  \n",
       "0         Lathom Road     PN1424  \n",
       "1         Helena Road     PN1424  \n",
       "2     Hartington Road     PN1424  \n",
       "3        Alnwick Road     PN1424  \n",
       "4  St. Georges Square     PN1424  "
      ]
     },
     "execution_count": 4,
     "metadata": {},
     "output_type": "execute_result"
    }
   ],
   "source": [
    "df.head()"
   ]
  }
 ],
 "metadata": {
  "interpreter": {
   "hash": "f293f16398db128e85df277de8eb5f9ab0a1b28857fa0f1c8543245825f1b931"
  },
  "kernelspec": {
   "display_name": "Python 3.7.7 ('pythonProject')",
   "language": "python",
   "name": "python3"
  },
  "language_info": {
   "codemirror_mode": {
    "name": "ipython",
    "version": 3
   },
   "file_extension": ".py",
   "mimetype": "text/x-python",
   "name": "python",
   "nbconvert_exporter": "python",
   "pygments_lexer": "ipython3",
   "version": "3.7.7"
  },
  "orig_nbformat": 4
 },
 "nbformat": 4,
 "nbformat_minor": 2
}
