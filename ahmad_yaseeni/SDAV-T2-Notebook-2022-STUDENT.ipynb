{
 "cells": [
  {
   "cell_type": "markdown",
   "metadata": {},
   "source": [
    "<img src=\"http://www.cems.uwe.ac.uk/~pa-legg/images/uwe_banner.png\">\n",
    "\n",
    "# UFCFEL-15-3 Security Data Analytics and Visualisation\n",
    "# Portfolio Assignment 2: Machine Learning for Malware Analysis (2022)\n",
    "---\n",
    "\n",
    "The completion of this worksheet is worth a **maximum of 35 marks** towards your portfolio assignment for the UFCFEL-15-3 Security Data Analytics and Visualisation (SDAV) module.\n",
    "\n",
    "### Brief\n",
    "---\n",
    "\n",
    "In this task, you have been given a large sample of derived malware features that describe 14 different malware variants (2000 samples of each). The purpose of this task is to understand the underlying concepts of classification, and **your task will be to develop two classifiers that can classify malware varients**. The first part will focus on a small hand-made classifier using only 3 malware classes, to understand the principles of search space and minimisation of a function. The second part will focus on using off-the-shelf libraries to scale up the classification to all 14 classes of malware present in the dataset.\n",
    "\n",
    "### Assessment and Marking\n",
    "---\n",
    "\n",
    "For each question you will see the maximum number of marks you may be awarded for a complete answer in brackets.\n",
    "\n",
    "**Part 1: Developing a Classifier \"by hand\" - (Total Marks: 20)**\n",
    "\n",
    "* **Task 1:** Find the Centroid point of each of the three groups (3)\n",
    "* **Task 2:** Plot the centroids on a Scatter Plot against the train data colour-coded by group (3)\n",
    "* **Task 3:** For each item in test_data, measure the distance to each centroid point, assign membership to the group of minimum distance, and compare with the expected test data label to obtain a score of successful classifications (12)\n",
    "* **Task 4:** Provide a final accuracy score for the performance of your \"by hand\" classifier (2)\n",
    "\n",
    "**Part 2: Developing a large-scale ML classifier - (Total Marks: 15)**\n",
    "\n",
    "* **Task 5:** Scale the Input Features for further processing using the StandardScaler function (1)\n",
    "* **Task 6:** Obtain numerical labels for each class using the LabelEncoder function (1)\n",
    "* **(Advanced) Task 7:** Prepare the dataset for ML testing, using the Train-Test-Split function of sklearn (2)\n",
    "* **(Advanced) Task 8:** Use a Multi-Layer Perceptron (MLP) classifier to train a machine learning model, and obtain the accuracy score against your test data. (4)\n",
    "* **(Advanced) Task 9:** Use a Random Forest (RF) classifier to train a machine learning model, and obtain the accuracy score against your test data. (4)\n",
    "* **(Advanced) Task 10:** Show how ML parameters can improve the models to achieve a high accuracy score of over 80% (3)\n",
    "\n",
    "This assignment should be submitted as as PDF to your Blackboard portfolio submission as per the instructions in the assignment specification available on Blackboard. A copy of your work should also be provided via a UWE Gitlab repository, with an accessible link provided with your portfolio.\n",
    " \n",
    "### Contact\n",
    "---\n",
    "\n",
    "Questions about this assignment should be directed to your module leader (Phil.Legg@uwe.ac.uk). You can use the Blackboard Q&A feature to ask questions related to this module and this assignment, as well as the on-site teaching sessions.\n",
    "\n",
    "---"
   ]
  },
  {
   "cell_type": "code",
   "execution_count": 2,
   "metadata": {},
   "outputs": [],
   "source": [
    "import numpy as np\n",
    "import pandas as pd\n",
    "import matplotlib.pyplot as plt\n",
    "from sklearn.metrics import accuracy_score"
   ]
  },
  {
   "cell_type": "code",
   "execution_count": 3,
   "metadata": {},
   "outputs": [
    {
     "data": {
      "text/html": [
       "<div>\n",
       "<style scoped>\n",
       "    .dataframe tbody tr th:only-of-type {\n",
       "        vertical-align: middle;\n",
       "    }\n",
       "\n",
       "    .dataframe tbody tr th {\n",
       "        vertical-align: top;\n",
       "    }\n",
       "\n",
       "    .dataframe thead th {\n",
       "        text-align: right;\n",
       "    }\n",
       "</style>\n",
       "<table border=\"1\" class=\"dataframe\">\n",
       "  <thead>\n",
       "    <tr style=\"text-align: right;\">\n",
       "      <th></th>\n",
       "      <th>0</th>\n",
       "      <th>1</th>\n",
       "      <th>2</th>\n",
       "      <th>3</th>\n",
       "      <th>4</th>\n",
       "      <th>5</th>\n",
       "      <th>6</th>\n",
       "      <th>7</th>\n",
       "      <th>8</th>\n",
       "      <th>9</th>\n",
       "      <th>...</th>\n",
       "      <th>246</th>\n",
       "      <th>247</th>\n",
       "      <th>248</th>\n",
       "      <th>249</th>\n",
       "      <th>250</th>\n",
       "      <th>251</th>\n",
       "      <th>252</th>\n",
       "      <th>253</th>\n",
       "      <th>254</th>\n",
       "      <th>255</th>\n",
       "    </tr>\n",
       "  </thead>\n",
       "  <tbody>\n",
       "    <tr>\n",
       "      <th>0</th>\n",
       "      <td>224862.0</td>\n",
       "      <td>15842.0</td>\n",
       "      <td>12985.0</td>\n",
       "      <td>7387.0</td>\n",
       "      <td>13132.0</td>\n",
       "      <td>5112.0</td>\n",
       "      <td>8661.0</td>\n",
       "      <td>7990.0</td>\n",
       "      <td>14978.0</td>\n",
       "      <td>5656.0</td>\n",
       "      <td>...</td>\n",
       "      <td>3714.0</td>\n",
       "      <td>2892.0</td>\n",
       "      <td>9344.0</td>\n",
       "      <td>2415.0</td>\n",
       "      <td>2742.0</td>\n",
       "      <td>3023.0</td>\n",
       "      <td>11949.0</td>\n",
       "      <td>3662.0</td>\n",
       "      <td>5552.0</td>\n",
       "      <td>77433.0</td>\n",
       "    </tr>\n",
       "    <tr>\n",
       "      <th>1</th>\n",
       "      <td>21802.0</td>\n",
       "      <td>2127.0</td>\n",
       "      <td>2076.0</td>\n",
       "      <td>2028.0</td>\n",
       "      <td>1871.0</td>\n",
       "      <td>1622.0</td>\n",
       "      <td>1939.0</td>\n",
       "      <td>1502.0</td>\n",
       "      <td>2133.0</td>\n",
       "      <td>1689.0</td>\n",
       "      <td>...</td>\n",
       "      <td>1664.0</td>\n",
       "      <td>1607.0</td>\n",
       "      <td>1788.0</td>\n",
       "      <td>1394.0</td>\n",
       "      <td>1327.0</td>\n",
       "      <td>1453.0</td>\n",
       "      <td>1785.0</td>\n",
       "      <td>1559.0</td>\n",
       "      <td>1755.0</td>\n",
       "      <td>4882.0</td>\n",
       "    </tr>\n",
       "    <tr>\n",
       "      <th>2</th>\n",
       "      <td>24407.0</td>\n",
       "      <td>11682.0</td>\n",
       "      <td>7189.0</td>\n",
       "      <td>6538.0</td>\n",
       "      <td>7687.0</td>\n",
       "      <td>6848.0</td>\n",
       "      <td>4974.0</td>\n",
       "      <td>5377.0</td>\n",
       "      <td>7049.0</td>\n",
       "      <td>11642.0</td>\n",
       "      <td>...</td>\n",
       "      <td>5795.0</td>\n",
       "      <td>6053.0</td>\n",
       "      <td>6426.0</td>\n",
       "      <td>5435.0</td>\n",
       "      <td>4961.0</td>\n",
       "      <td>5026.0</td>\n",
       "      <td>5376.0</td>\n",
       "      <td>4180.0</td>\n",
       "      <td>5685.0</td>\n",
       "      <td>5775.0</td>\n",
       "    </tr>\n",
       "    <tr>\n",
       "      <th>3</th>\n",
       "      <td>7132.0</td>\n",
       "      <td>461.0</td>\n",
       "      <td>647.0</td>\n",
       "      <td>371.0</td>\n",
       "      <td>581.0</td>\n",
       "      <td>269.0</td>\n",
       "      <td>646.0</td>\n",
       "      <td>262.0</td>\n",
       "      <td>243.0</td>\n",
       "      <td>165.0</td>\n",
       "      <td>...</td>\n",
       "      <td>151.0</td>\n",
       "      <td>276.0</td>\n",
       "      <td>299.0</td>\n",
       "      <td>294.0</td>\n",
       "      <td>294.0</td>\n",
       "      <td>354.0</td>\n",
       "      <td>506.0</td>\n",
       "      <td>569.0</td>\n",
       "      <td>940.0</td>\n",
       "      <td>1516.0</td>\n",
       "    </tr>\n",
       "    <tr>\n",
       "      <th>4</th>\n",
       "      <td>5321.0</td>\n",
       "      <td>1108.0</td>\n",
       "      <td>985.0</td>\n",
       "      <td>955.0</td>\n",
       "      <td>958.0</td>\n",
       "      <td>890.0</td>\n",
       "      <td>971.0</td>\n",
       "      <td>919.0</td>\n",
       "      <td>945.0</td>\n",
       "      <td>963.0</td>\n",
       "      <td>...</td>\n",
       "      <td>933.0</td>\n",
       "      <td>975.0</td>\n",
       "      <td>945.0</td>\n",
       "      <td>924.0</td>\n",
       "      <td>879.0</td>\n",
       "      <td>952.0</td>\n",
       "      <td>956.0</td>\n",
       "      <td>900.0</td>\n",
       "      <td>942.0</td>\n",
       "      <td>1559.0</td>\n",
       "    </tr>\n",
       "    <tr>\n",
       "      <th>...</th>\n",
       "      <td>...</td>\n",
       "      <td>...</td>\n",
       "      <td>...</td>\n",
       "      <td>...</td>\n",
       "      <td>...</td>\n",
       "      <td>...</td>\n",
       "      <td>...</td>\n",
       "      <td>...</td>\n",
       "      <td>...</td>\n",
       "      <td>...</td>\n",
       "      <td>...</td>\n",
       "      <td>...</td>\n",
       "      <td>...</td>\n",
       "      <td>...</td>\n",
       "      <td>...</td>\n",
       "      <td>...</td>\n",
       "      <td>...</td>\n",
       "      <td>...</td>\n",
       "      <td>...</td>\n",
       "      <td>...</td>\n",
       "      <td>...</td>\n",
       "    </tr>\n",
       "    <tr>\n",
       "      <th>27995</th>\n",
       "      <td>23849.0</td>\n",
       "      <td>1489.0</td>\n",
       "      <td>1573.0</td>\n",
       "      <td>2649.0</td>\n",
       "      <td>1560.0</td>\n",
       "      <td>1025.0</td>\n",
       "      <td>922.0</td>\n",
       "      <td>1020.0</td>\n",
       "      <td>1042.0</td>\n",
       "      <td>938.0</td>\n",
       "      <td>...</td>\n",
       "      <td>993.0</td>\n",
       "      <td>968.0</td>\n",
       "      <td>1165.0</td>\n",
       "      <td>1041.0</td>\n",
       "      <td>1258.0</td>\n",
       "      <td>1753.0</td>\n",
       "      <td>1203.0</td>\n",
       "      <td>958.0</td>\n",
       "      <td>1315.0</td>\n",
       "      <td>4342.0</td>\n",
       "    </tr>\n",
       "    <tr>\n",
       "      <th>27996</th>\n",
       "      <td>9267.0</td>\n",
       "      <td>1056.0</td>\n",
       "      <td>981.0</td>\n",
       "      <td>930.0</td>\n",
       "      <td>1573.0</td>\n",
       "      <td>819.0</td>\n",
       "      <td>879.0</td>\n",
       "      <td>1064.0</td>\n",
       "      <td>1029.0</td>\n",
       "      <td>893.0</td>\n",
       "      <td>...</td>\n",
       "      <td>998.0</td>\n",
       "      <td>911.0</td>\n",
       "      <td>990.0</td>\n",
       "      <td>1039.0</td>\n",
       "      <td>930.0</td>\n",
       "      <td>833.0</td>\n",
       "      <td>904.0</td>\n",
       "      <td>891.0</td>\n",
       "      <td>976.0</td>\n",
       "      <td>2683.0</td>\n",
       "    </tr>\n",
       "    <tr>\n",
       "      <th>27997</th>\n",
       "      <td>25357.0</td>\n",
       "      <td>874.0</td>\n",
       "      <td>1008.0</td>\n",
       "      <td>2781.0</td>\n",
       "      <td>1518.0</td>\n",
       "      <td>939.0</td>\n",
       "      <td>4267.0</td>\n",
       "      <td>968.0</td>\n",
       "      <td>1103.0</td>\n",
       "      <td>1032.0</td>\n",
       "      <td>...</td>\n",
       "      <td>563.0</td>\n",
       "      <td>557.0</td>\n",
       "      <td>974.0</td>\n",
       "      <td>706.0</td>\n",
       "      <td>514.0</td>\n",
       "      <td>632.0</td>\n",
       "      <td>657.0</td>\n",
       "      <td>584.0</td>\n",
       "      <td>535.0</td>\n",
       "      <td>2431.0</td>\n",
       "    </tr>\n",
       "    <tr>\n",
       "      <th>27998</th>\n",
       "      <td>29010.0</td>\n",
       "      <td>6476.0</td>\n",
       "      <td>2969.0</td>\n",
       "      <td>5358.0</td>\n",
       "      <td>2827.0</td>\n",
       "      <td>4598.0</td>\n",
       "      <td>2172.0</td>\n",
       "      <td>4045.0</td>\n",
       "      <td>2496.0</td>\n",
       "      <td>3718.0</td>\n",
       "      <td>...</td>\n",
       "      <td>217.0</td>\n",
       "      <td>146.0</td>\n",
       "      <td>544.0</td>\n",
       "      <td>232.0</td>\n",
       "      <td>95.0</td>\n",
       "      <td>140.0</td>\n",
       "      <td>294.0</td>\n",
       "      <td>163.0</td>\n",
       "      <td>182.0</td>\n",
       "      <td>4005.0</td>\n",
       "    </tr>\n",
       "    <tr>\n",
       "      <th>27999</th>\n",
       "      <td>4956.0</td>\n",
       "      <td>185.0</td>\n",
       "      <td>74.0</td>\n",
       "      <td>92.0</td>\n",
       "      <td>133.0</td>\n",
       "      <td>94.0</td>\n",
       "      <td>56.0</td>\n",
       "      <td>46.0</td>\n",
       "      <td>145.0</td>\n",
       "      <td>93.0</td>\n",
       "      <td>...</td>\n",
       "      <td>50.0</td>\n",
       "      <td>61.0</td>\n",
       "      <td>810.0</td>\n",
       "      <td>1109.0</td>\n",
       "      <td>109.0</td>\n",
       "      <td>62.0</td>\n",
       "      <td>209.0</td>\n",
       "      <td>112.0</td>\n",
       "      <td>84.0</td>\n",
       "      <td>992.0</td>\n",
       "    </tr>\n",
       "  </tbody>\n",
       "</table>\n",
       "<p>28000 rows × 256 columns</p>\n",
       "</div>"
      ],
      "text/plain": [
       "            0        1        2       3        4       5       6       7    \\\n",
       "0      224862.0  15842.0  12985.0  7387.0  13132.0  5112.0  8661.0  7990.0   \n",
       "1       21802.0   2127.0   2076.0  2028.0   1871.0  1622.0  1939.0  1502.0   \n",
       "2       24407.0  11682.0   7189.0  6538.0   7687.0  6848.0  4974.0  5377.0   \n",
       "3        7132.0    461.0    647.0   371.0    581.0   269.0   646.0   262.0   \n",
       "4        5321.0   1108.0    985.0   955.0    958.0   890.0   971.0   919.0   \n",
       "...         ...      ...      ...     ...      ...     ...     ...     ...   \n",
       "27995   23849.0   1489.0   1573.0  2649.0   1560.0  1025.0   922.0  1020.0   \n",
       "27996    9267.0   1056.0    981.0   930.0   1573.0   819.0   879.0  1064.0   \n",
       "27997   25357.0    874.0   1008.0  2781.0   1518.0   939.0  4267.0   968.0   \n",
       "27998   29010.0   6476.0   2969.0  5358.0   2827.0  4598.0  2172.0  4045.0   \n",
       "27999    4956.0    185.0     74.0    92.0    133.0    94.0    56.0    46.0   \n",
       "\n",
       "           8        9    ...     246     247     248     249     250     251  \\\n",
       "0      14978.0   5656.0  ...  3714.0  2892.0  9344.0  2415.0  2742.0  3023.0   \n",
       "1       2133.0   1689.0  ...  1664.0  1607.0  1788.0  1394.0  1327.0  1453.0   \n",
       "2       7049.0  11642.0  ...  5795.0  6053.0  6426.0  5435.0  4961.0  5026.0   \n",
       "3        243.0    165.0  ...   151.0   276.0   299.0   294.0   294.0   354.0   \n",
       "4        945.0    963.0  ...   933.0   975.0   945.0   924.0   879.0   952.0   \n",
       "...        ...      ...  ...     ...     ...     ...     ...     ...     ...   \n",
       "27995   1042.0    938.0  ...   993.0   968.0  1165.0  1041.0  1258.0  1753.0   \n",
       "27996   1029.0    893.0  ...   998.0   911.0   990.0  1039.0   930.0   833.0   \n",
       "27997   1103.0   1032.0  ...   563.0   557.0   974.0   706.0   514.0   632.0   \n",
       "27998   2496.0   3718.0  ...   217.0   146.0   544.0   232.0    95.0   140.0   \n",
       "27999    145.0     93.0  ...    50.0    61.0   810.0  1109.0   109.0    62.0   \n",
       "\n",
       "           252     253     254      255  \n",
       "0      11949.0  3662.0  5552.0  77433.0  \n",
       "1       1785.0  1559.0  1755.0   4882.0  \n",
       "2       5376.0  4180.0  5685.0   5775.0  \n",
       "3        506.0   569.0   940.0   1516.0  \n",
       "4        956.0   900.0   942.0   1559.0  \n",
       "...        ...     ...     ...      ...  \n",
       "27995   1203.0   958.0  1315.0   4342.0  \n",
       "27996    904.0   891.0   976.0   2683.0  \n",
       "27997    657.0   584.0   535.0   2431.0  \n",
       "27998    294.0   163.0   182.0   4005.0  \n",
       "27999    209.0   112.0    84.0    992.0  \n",
       "\n",
       "[28000 rows x 256 columns]"
      ]
     },
     "execution_count": 3,
     "metadata": {},
     "output_type": "execute_result"
    }
   ],
   "source": [
    "features = pd.read_csv('./T2_data/malware_data.csv', header=None)\n",
    "features"
   ]
  },
  {
   "cell_type": "code",
   "execution_count": 4,
   "metadata": {},
   "outputs": [
    {
     "data": {
      "text/html": [
       "<div>\n",
       "<style scoped>\n",
       "    .dataframe tbody tr th:only-of-type {\n",
       "        vertical-align: middle;\n",
       "    }\n",
       "\n",
       "    .dataframe tbody tr th {\n",
       "        vertical-align: top;\n",
       "    }\n",
       "\n",
       "    .dataframe thead th {\n",
       "        text-align: right;\n",
       "    }\n",
       "</style>\n",
       "<table border=\"1\" class=\"dataframe\">\n",
       "  <thead>\n",
       "    <tr style=\"text-align: right;\">\n",
       "      <th></th>\n",
       "      <th>label</th>\n",
       "    </tr>\n",
       "  </thead>\n",
       "  <tbody>\n",
       "    <tr>\n",
       "      <th>0</th>\n",
       "      <td>high</td>\n",
       "    </tr>\n",
       "    <tr>\n",
       "      <th>1</th>\n",
       "      <td>high</td>\n",
       "    </tr>\n",
       "    <tr>\n",
       "      <th>2</th>\n",
       "      <td>high</td>\n",
       "    </tr>\n",
       "    <tr>\n",
       "      <th>3</th>\n",
       "      <td>high</td>\n",
       "    </tr>\n",
       "    <tr>\n",
       "      <th>4</th>\n",
       "      <td>high</td>\n",
       "    </tr>\n",
       "    <tr>\n",
       "      <th>...</th>\n",
       "      <td>...</td>\n",
       "    </tr>\n",
       "    <tr>\n",
       "      <th>27995</th>\n",
       "      <td>zbot</td>\n",
       "    </tr>\n",
       "    <tr>\n",
       "      <th>27996</th>\n",
       "      <td>zbot</td>\n",
       "    </tr>\n",
       "    <tr>\n",
       "      <th>27997</th>\n",
       "      <td>zbot</td>\n",
       "    </tr>\n",
       "    <tr>\n",
       "      <th>27998</th>\n",
       "      <td>zbot</td>\n",
       "    </tr>\n",
       "    <tr>\n",
       "      <th>27999</th>\n",
       "      <td>zbot</td>\n",
       "    </tr>\n",
       "  </tbody>\n",
       "</table>\n",
       "<p>28000 rows × 1 columns</p>\n",
       "</div>"
      ],
      "text/plain": [
       "      label\n",
       "0      high\n",
       "1      high\n",
       "2      high\n",
       "3      high\n",
       "4      high\n",
       "...     ...\n",
       "27995  zbot\n",
       "27996  zbot\n",
       "27997  zbot\n",
       "27998  zbot\n",
       "27999  zbot\n",
       "\n",
       "[28000 rows x 1 columns]"
      ]
     },
     "execution_count": 4,
     "metadata": {},
     "output_type": "execute_result"
    }
   ],
   "source": [
    "labels = pd.read_csv('./T2_data/malware_label.csv', header=None)\n",
    "labels = labels.drop(0, axis=1)\n",
    "labels = labels.rename(columns = {1:'label'})\n",
    "labels"
   ]
  },
  {
   "cell_type": "markdown",
   "metadata": {},
   "source": [
    "In the cells above, we have created two DataFrames: ***features*** and ***labels***.\n",
    "\n",
    "***Features***: This table contains 28000 instances of malware, where each instance of malware is characterised by 256 distinct features relating to how it performs and its impact on the associated systems.\n",
    "\n",
    "***Labels***: This table contains 28000 rows, where each row is the label of the malware class, related to the features table. There are 2000 samples of each malware varient, and 14 varients in total."
   ]
  },
  {
   "cell_type": "markdown",
   "metadata": {},
   "source": [
    "## Part 1: Developing a Classifier \"by hand\""
   ]
  },
  {
   "cell_type": "code",
   "execution_count": 5,
   "metadata": {},
   "outputs": [
    {
     "data": {
      "text/html": [
       "<div>\n",
       "<style scoped>\n",
       "    .dataframe tbody tr th:only-of-type {\n",
       "        vertical-align: middle;\n",
       "    }\n",
       "\n",
       "    .dataframe tbody tr th {\n",
       "        vertical-align: top;\n",
       "    }\n",
       "\n",
       "    .dataframe thead th {\n",
       "        text-align: right;\n",
       "    }\n",
       "</style>\n",
       "<table border=\"1\" class=\"dataframe\">\n",
       "  <thead>\n",
       "    <tr style=\"text-align: right;\">\n",
       "      <th></th>\n",
       "      <th>x</th>\n",
       "      <th>y</th>\n",
       "      <th>labels</th>\n",
       "    </tr>\n",
       "  </thead>\n",
       "  <tbody>\n",
       "    <tr>\n",
       "      <th>0</th>\n",
       "      <td>3114896.0</td>\n",
       "      <td>10815.0</td>\n",
       "      <td>wannacry</td>\n",
       "    </tr>\n",
       "    <tr>\n",
       "      <th>1</th>\n",
       "      <td>3436940.0</td>\n",
       "      <td>9551.0</td>\n",
       "      <td>wannacry</td>\n",
       "    </tr>\n",
       "    <tr>\n",
       "      <th>2</th>\n",
       "      <td>1812649.0</td>\n",
       "      <td>15343.0</td>\n",
       "      <td>wannacry</td>\n",
       "    </tr>\n",
       "    <tr>\n",
       "      <th>3</th>\n",
       "      <td>3067845.0</td>\n",
       "      <td>10541.0</td>\n",
       "      <td>wannacry</td>\n",
       "    </tr>\n",
       "    <tr>\n",
       "      <th>4</th>\n",
       "      <td>51591.0</td>\n",
       "      <td>21367.0</td>\n",
       "      <td>wannacry</td>\n",
       "    </tr>\n",
       "    <tr>\n",
       "      <th>...</th>\n",
       "      <td>...</td>\n",
       "      <td>...</td>\n",
       "      <td>...</td>\n",
       "    </tr>\n",
       "    <tr>\n",
       "      <th>145</th>\n",
       "      <td>78591.0</td>\n",
       "      <td>7734.0</td>\n",
       "      <td>razy</td>\n",
       "    </tr>\n",
       "    <tr>\n",
       "      <th>146</th>\n",
       "      <td>80429.0</td>\n",
       "      <td>5114.0</td>\n",
       "      <td>razy</td>\n",
       "    </tr>\n",
       "    <tr>\n",
       "      <th>147</th>\n",
       "      <td>2898.0</td>\n",
       "      <td>98.0</td>\n",
       "      <td>razy</td>\n",
       "    </tr>\n",
       "    <tr>\n",
       "      <th>148</th>\n",
       "      <td>183376.0</td>\n",
       "      <td>8477.0</td>\n",
       "      <td>razy</td>\n",
       "    </tr>\n",
       "    <tr>\n",
       "      <th>149</th>\n",
       "      <td>11580.0</td>\n",
       "      <td>5921.0</td>\n",
       "      <td>razy</td>\n",
       "    </tr>\n",
       "  </tbody>\n",
       "</table>\n",
       "<p>150 rows × 3 columns</p>\n",
       "</div>"
      ],
      "text/plain": [
       "             x        y    labels\n",
       "0    3114896.0  10815.0  wannacry\n",
       "1    3436940.0   9551.0  wannacry\n",
       "2    1812649.0  15343.0  wannacry\n",
       "3    3067845.0  10541.0  wannacry\n",
       "4      51591.0  21367.0  wannacry\n",
       "..         ...      ...       ...\n",
       "145    78591.0   7734.0      razy\n",
       "146    80429.0   5114.0      razy\n",
       "147     2898.0     98.0      razy\n",
       "148   183376.0   8477.0      razy\n",
       "149    11580.0   5921.0      razy\n",
       "\n",
       "[150 rows x 3 columns]"
      ]
     },
     "execution_count": 5,
     "metadata": {},
     "output_type": "execute_result"
    }
   ],
   "source": [
    "\n",
    "# DO NOT MODIFY THIS CELL - this cell is splitting the data to provide a suitable subset of data to work with for this task.\n",
    "# If you change this cell your output will differ from that expected and could impact your mark.\n",
    "\n",
    "\n",
    "mal1_index = 17000\n",
    "mal2_index = 21000\n",
    "mal3_index = 12000\n",
    "mal_range = 50\n",
    "mal_test_range = 30\n",
    "\n",
    "train_data = np.vstack([ features[mal1_index:mal1_index+mal_range][[0,1]].values, features[mal2_index:mal2_index+mal_range][[0,1]].values, features[mal3_index:mal3_index+mal_range][[0,1]].values ])\n",
    "train_data = pd.DataFrame(train_data)\n",
    "train_labels = np.vstack([ labels[mal1_index:mal1_index+mal_range].values, labels[mal2_index:mal2_index+mal_range].values, labels[mal3_index:mal3_index+mal_range].values ])\n",
    "train_labels = pd.DataFrame(train_labels)\n",
    "train_data['labels'] = train_labels\n",
    "train_data = train_data.rename(columns={0:'x', 1:'y'})\n",
    "\n",
    "test_data = np.vstack([ features[mal1_index+mal_range:mal1_index+mal_range+mal_test_range][[0,1]].values, features[mal2_index+mal_range:mal2_index+mal_range+mal_test_range][[0,1]].values, features[mal3_index+mal_range:mal3_index+mal_range+mal_test_range][[0,1]].values ])\n",
    "test_data = pd.DataFrame(test_data)\n",
    "test_labels = np.vstack([ labels[mal1_index+mal_range:mal1_index+mal_range+mal_test_range].values, labels[mal2_index+mal_range:mal2_index+mal_range+mal_test_range].values, labels[mal3_index+mal_range:mal3_index+mal_range+mal_test_range].values ])\n",
    "test_labels = pd.DataFrame(test_labels)\n",
    "test_data['labels'] = test_labels\n",
    "test_data = test_data.rename(columns={0:'x', 1:'y'})\n",
    "\n",
    "train_data"
   ]
  },
  {
   "cell_type": "markdown",
   "metadata": {},
   "source": [
    "### Task 1: Find the Centroid point of each of the three groups (3)"
   ]
  },
  {
   "cell_type": "code",
   "execution_count": 6,
   "metadata": {},
   "outputs": [
    {
     "name": "stdout",
     "output_type": "stream",
     "text": [
      "Centroids of Wannacry Label:  2181660.66 , 11087.1\n",
      "Centroids of startsurf Label:  478778.12 , 3754.04\n",
      "Centroids of razy Label:  100505.22 , 6158.28\n"
     ]
    }
   ],
   "source": [
    "# ANSWER\n",
    "wannacry_centroid_x = train_data.loc[train_data['labels'] == 'wannacry'].x.sum()/50\n",
    "wannacry_centroid_y = train_data.loc[train_data['labels'] == 'wannacry'].y.sum()/50\n",
    "\n",
    "startsurf_centroid_x = train_data.loc[train_data['labels'] == 'startsurf'].x.sum()/50\n",
    "startsurf_centroid_y = train_data.loc[train_data['labels'] == 'startsurf'].y.sum()/50\n",
    "\n",
    "razy_centroid_x = train_data.loc[train_data['labels'] == 'razy'].x.sum()/50\n",
    "razy_centroid_y = train_data.loc[train_data['labels'] == 'razy'].y.sum()/50\n",
    "\n",
    "print('Centroids of Wannacry Label: ', wannacry_centroid_x,',',wannacry_centroid_y)\n",
    "\n",
    "print('Centroids of startsurf Label: ', startsurf_centroid_x,',',startsurf_centroid_y)\n",
    "\n",
    "print('Centroids of razy Label: ', razy_centroid_x,',',razy_centroid_y)\n",
    "\n"
   ]
  },
  {
   "cell_type": "markdown",
   "metadata": {},
   "source": [
    "### Task 2: Plot the centroids on a Scatter Plot against the train data colour-coded by group (3)"
   ]
  },
  {
   "cell_type": "code",
   "execution_count": 7,
   "metadata": {},
   "outputs": [
    {
     "data": {
      "text/plain": [
       "<Figure size 1440x720 with 0 Axes>"
      ]
     },
     "metadata": {},
     "output_type": "display_data"
    },
    {
     "data": {
      "image/png": "[encoded data removed]",
      "text/plain": [
       "<Figure size 1440x720 with 1 Axes>"
      ]
     },
     "metadata": {
      "needs_background": "light"
     },
     "output_type": "display_data"
    }
   ],
   "source": [
    "plt.figure(figsize=(20,10))\n",
    "fig, ax = plt.subplots(figsize=(20, 10))\n",
    "scatter_x = np.array(train_data['x'])\n",
    "scatter_y = np.array(train_data['y'])\n",
    "group = np.array(train_data.labels)\n",
    "for g in np.unique(group):\n",
    "    i = np.where(group == g)\n",
    "    ax.scatter(scatter_x[i], scatter_y[i], label=g)\n",
    "\n",
    "plt.scatter(wannacry_centroid_x, wannacry_centroid_y,  marker = \"x\", s=300, \n",
    "    linewidths = 5, zorder = 10, c='green')\n",
    "plt.scatter(startsurf_centroid_x, startsurf_centroid_y,  marker = \"x\", s=300, \n",
    "    linewidths = 5, zorder = 10, c='orange')\n",
    "plt.scatter(razy_centroid_x, razy_centroid_y,  marker = \"x\", s=300, \n",
    "    linewidths = 5, zorder = 10, c='blue')\n",
    "ax.legend()\n",
    "plt.xlabel(' X')\n",
    "plt.ylabel(' Y')\n",
    "plt.show()"
   ]
  },
  {
   "attachments": {},
   "cell_type": "markdown",
   "metadata": {},
   "source": [
    "### Task 3: For each item in test_data, measure the distance to each centroid point, assign membership to the group of minimum distance, and compare with the expected test data label to obtain a score of successful classifications (12)\n",
    "\n",
    "*Hint: You may find the clustering activity worksheet helpful for how to approach this task*\n",
    "\n"
   ]
  },
  {
   "cell_type": "code",
   "execution_count": 135,
   "metadata": {},
   "outputs": [],
   "source": [
    "distances_c1 = []\n",
    "distances_c2 = []\n",
    "distances_c3 = []\n",
    "predicted_label=[]\n",
    "for i in range(len(test_data)):\n",
    "    distances_c1.append((test_data.x[i] - wannacry_centroid_x)**2 +(test_data.y[i]- wannacry_centroid_y)**2)\n",
    "    distances_c2.append((test_data.x[i] - startsurf_centroid_x)**2 +(test_data.y[i]- startsurf_centroid_y)**2)\n",
    "    distances_c3.append((test_data.x[i] - razy_centroid_x)**2 +(test_data.y[i]- razy_centroid_y)**2)\n",
    "    if(distances_c1[i]<=distances_c2[i] and distances_c1[i]<=distances_c3[i]):\n",
    "        predicted_label.append('wannacry')\n",
    "    elif(distances_c2[i]<=distances_c1[i] and distances_c2[i]<=distances_c3[i]):\n",
    "        predicted_label.append('startsurf')\n",
    "    elif(distances_c3[i]<=distances_c1[i] and distances_c3[i]<=distances_c2[i]):\n",
    "        predicted_label.append('razy')\n",
    "        \n",
    "se = pd.Series(predicted_label)\n",
    "test_data['predicted_label'] = se.values\n"
   ]
  },
  {
   "cell_type": "markdown",
   "metadata": {},
   "source": [
    "### Task 4: Provide a final accuracy score for the performance of your \"by hand\" classifier (2)"
   ]
  },
  {
   "cell_type": "code",
   "execution_count": 154,
   "metadata": {},
   "outputs": [
    {
     "name": "stdout",
     "output_type": "stream",
     "text": [
      "Accuracy score of hand made classifier is:  70.0 %\n"
     ]
    }
   ],
   "source": [
    "count_of_correct_classification = len(test_data.loc[test_data['predicted_label'] == test_data['labels']])\n",
    "count_of_test_data = len(test_data)\n",
    "\n",
    "print('Accuracy score of hand made classifier is: ',count_of_correct_classification/count_of_test_data*100,'%')\n"
   ]
  },
  {
   "cell_type": "code",
   "execution_count": 155,
   "metadata": {},
   "outputs": [
    {
     "name": "stdout",
     "output_type": "stream",
     "text": [
      "Accuracy score of hand made classification is:  70.0 %\n"
     ]
    }
   ],
   "source": [
    "# ANSWER\n",
    "print('Accuracy score of hand made classification is: ',accuracy_score(test_data['predicted_label'] ,test_data['labels'])*100,'%')"
   ]
  },
  {
   "cell_type": "markdown",
   "metadata": {},
   "source": [
    "## Part 2: Developing a large-scale ML classifier\n",
    "\n",
    "We will now extend the earlier principles for the full dataset. Essentially the task is the same, we want to find the parameters that allow us to clearly separate groups for classification."
   ]
  },
  {
   "cell_type": "markdown",
   "metadata": {
    "tags": []
   },
   "source": [
    "### Task 5: Scale the Input Features for further processing using the StandardScaler function (1)"
   ]
  },
  {
   "cell_type": "code",
   "execution_count": 78,
   "metadata": {},
   "outputs": [
    {
     "data": {
      "text/html": [
       "<div>\n",
       "<style scoped>\n",
       "    .dataframe tbody tr th:only-of-type {\n",
       "        vertical-align: middle;\n",
       "    }\n",
       "\n",
       "    .dataframe tbody tr th {\n",
       "        vertical-align: top;\n",
       "    }\n",
       "\n",
       "    .dataframe thead th {\n",
       "        text-align: right;\n",
       "    }\n",
       "</style>\n",
       "<table border=\"1\" class=\"dataframe\">\n",
       "  <thead>\n",
       "    <tr style=\"text-align: right;\">\n",
       "      <th></th>\n",
       "      <th>0</th>\n",
       "      <th>1</th>\n",
       "      <th>2</th>\n",
       "      <th>3</th>\n",
       "      <th>4</th>\n",
       "      <th>5</th>\n",
       "      <th>6</th>\n",
       "      <th>7</th>\n",
       "      <th>8</th>\n",
       "      <th>9</th>\n",
       "      <th>...</th>\n",
       "      <th>246</th>\n",
       "      <th>247</th>\n",
       "      <th>248</th>\n",
       "      <th>249</th>\n",
       "      <th>250</th>\n",
       "      <th>251</th>\n",
       "      <th>252</th>\n",
       "      <th>253</th>\n",
       "      <th>254</th>\n",
       "      <th>255</th>\n",
       "    </tr>\n",
       "  </thead>\n",
       "  <tbody>\n",
       "    <tr>\n",
       "      <th>0</th>\n",
       "      <td>-0.097820</td>\n",
       "      <td>0.672159</td>\n",
       "      <td>0.826630</td>\n",
       "      <td>0.380661</td>\n",
       "      <td>0.647650</td>\n",
       "      <td>0.204495</td>\n",
       "      <td>0.792002</td>\n",
       "      <td>0.691117</td>\n",
       "      <td>1.028243</td>\n",
       "      <td>0.432558</td>\n",
       "      <td>...</td>\n",
       "      <td>0.191715</td>\n",
       "      <td>0.044177</td>\n",
       "      <td>0.845365</td>\n",
       "      <td>-0.010620</td>\n",
       "      <td>0.038420</td>\n",
       "      <td>0.068183</td>\n",
       "      <td>1.190714</td>\n",
       "      <td>0.135741</td>\n",
       "      <td>0.178144</td>\n",
       "      <td>0.406173</td>\n",
       "    </tr>\n",
       "    <tr>\n",
       "      <th>1</th>\n",
       "      <td>-0.355085</td>\n",
       "      <td>-0.291567</td>\n",
       "      <td>-0.274569</td>\n",
       "      <td>-0.254820</td>\n",
       "      <td>-0.323318</td>\n",
       "      <td>-0.234858</td>\n",
       "      <td>-0.178266</td>\n",
       "      <td>-0.244002</td>\n",
       "      <td>-0.310024</td>\n",
       "      <td>-0.182924</td>\n",
       "      <td>...</td>\n",
       "      <td>-0.155188</td>\n",
       "      <td>-0.155994</td>\n",
       "      <td>-0.248598</td>\n",
       "      <td>-0.175093</td>\n",
       "      <td>-0.166129</td>\n",
       "      <td>-0.179846</td>\n",
       "      <td>-0.248456</td>\n",
       "      <td>-0.168900</td>\n",
       "      <td>-0.218099</td>\n",
       "      <td>-0.238666</td>\n",
       "    </tr>\n",
       "    <tr>\n",
       "      <th>2</th>\n",
       "      <td>-0.351784</td>\n",
       "      <td>0.379844</td>\n",
       "      <td>0.241558</td>\n",
       "      <td>0.279985</td>\n",
       "      <td>0.178160</td>\n",
       "      <td>0.423038</td>\n",
       "      <td>0.259812</td>\n",
       "      <td>0.314504</td>\n",
       "      <td>0.202153</td>\n",
       "      <td>1.361289</td>\n",
       "      <td>...</td>\n",
       "      <td>0.543863</td>\n",
       "      <td>0.536584</td>\n",
       "      <td>0.422895</td>\n",
       "      <td>0.475873</td>\n",
       "      <td>0.359192</td>\n",
       "      <td>0.384618</td>\n",
       "      <td>0.260011</td>\n",
       "      <td>0.210779</td>\n",
       "      <td>0.192024</td>\n",
       "      <td>-0.230729</td>\n",
       "    </tr>\n",
       "    <tr>\n",
       "      <th>3</th>\n",
       "      <td>-0.373671</td>\n",
       "      <td>-0.408634</td>\n",
       "      <td>-0.418818</td>\n",
       "      <td>-0.451310</td>\n",
       "      <td>-0.434547</td>\n",
       "      <td>-0.405185</td>\n",
       "      <td>-0.364900</td>\n",
       "      <td>-0.422724</td>\n",
       "      <td>-0.506936</td>\n",
       "      <td>-0.419373</td>\n",
       "      <td>...</td>\n",
       "      <td>-0.411219</td>\n",
       "      <td>-0.363332</td>\n",
       "      <td>-0.464176</td>\n",
       "      <td>-0.352293</td>\n",
       "      <td>-0.315456</td>\n",
       "      <td>-0.353466</td>\n",
       "      <td>-0.429556</td>\n",
       "      <td>-0.312311</td>\n",
       "      <td>-0.303149</td>\n",
       "      <td>-0.268583</td>\n",
       "    </tr>\n",
       "    <tr>\n",
       "      <th>4</th>\n",
       "      <td>-0.375965</td>\n",
       "      <td>-0.363170</td>\n",
       "      <td>-0.384699</td>\n",
       "      <td>-0.382059</td>\n",
       "      <td>-0.402040</td>\n",
       "      <td>-0.327008</td>\n",
       "      <td>-0.317989</td>\n",
       "      <td>-0.328030</td>\n",
       "      <td>-0.433797</td>\n",
       "      <td>-0.295563</td>\n",
       "      <td>...</td>\n",
       "      <td>-0.278888</td>\n",
       "      <td>-0.254445</td>\n",
       "      <td>-0.370648</td>\n",
       "      <td>-0.250806</td>\n",
       "      <td>-0.230890</td>\n",
       "      <td>-0.258994</td>\n",
       "      <td>-0.365838</td>\n",
       "      <td>-0.264363</td>\n",
       "      <td>-0.302941</td>\n",
       "      <td>-0.268201</td>\n",
       "    </tr>\n",
       "  </tbody>\n",
       "</table>\n",
       "<p>5 rows × 256 columns</p>\n",
       "</div>"
      ],
      "text/plain": [
       "        0         1         2         3         4         5         6    \\\n",
       "0 -0.097820  0.672159  0.826630  0.380661  0.647650  0.204495  0.792002   \n",
       "1 -0.355085 -0.291567 -0.274569 -0.254820 -0.323318 -0.234858 -0.178266   \n",
       "2 -0.351784  0.379844  0.241558  0.279985  0.178160  0.423038  0.259812   \n",
       "3 -0.373671 -0.408634 -0.418818 -0.451310 -0.434547 -0.405185 -0.364900   \n",
       "4 -0.375965 -0.363170 -0.384699 -0.382059 -0.402040 -0.327008 -0.317989   \n",
       "\n",
       "        7         8         9    ...       246       247       248       249  \\\n",
       "0  0.691117  1.028243  0.432558  ...  0.191715  0.044177  0.845365 -0.010620   \n",
       "1 -0.244002 -0.310024 -0.182924  ... -0.155188 -0.155994 -0.248598 -0.175093   \n",
       "2  0.314504  0.202153  1.361289  ...  0.543863  0.536584  0.422895  0.475873   \n",
       "3 -0.422724 -0.506936 -0.419373  ... -0.411219 -0.363332 -0.464176 -0.352293   \n",
       "4 -0.328030 -0.433797 -0.295563  ... -0.278888 -0.254445 -0.370648 -0.250806   \n",
       "\n",
       "        250       251       252       253       254       255  \n",
       "0  0.038420  0.068183  1.190714  0.135741  0.178144  0.406173  \n",
       "1 -0.166129 -0.179846 -0.248456 -0.168900 -0.218099 -0.238666  \n",
       "2  0.359192  0.384618  0.260011  0.210779  0.192024 -0.230729  \n",
       "3 -0.315456 -0.353466 -0.429556 -0.312311 -0.303149 -0.268583  \n",
       "4 -0.230890 -0.258994 -0.365838 -0.264363 -0.302941 -0.268201  \n",
       "\n",
       "[5 rows x 256 columns]"
      ]
     },
     "execution_count": 78,
     "metadata": {},
     "output_type": "execute_result"
    }
   ],
   "source": [
    "# ANSWER\n",
    "from sklearn.preprocessing import StandardScaler\n",
    "scaled_features = StandardScaler().fit_transform(features.values)\n",
    "scaled_features_df = pd.DataFrame(scaled_features, index=features.index, columns=features.columns)\n",
    "scaled_features_df.head()\n",
    "\n"
   ]
  },
  {
   "attachments": {},
   "cell_type": "markdown",
   "metadata": {},
   "source": [
    "### Task 6: Obtain numerical labels for each class using the LabelEncoder function (1)\n",
    "\n"
   ]
  },
  {
   "cell_type": "code",
   "execution_count": 79,
   "metadata": {},
   "outputs": [
    {
     "name": "stderr",
     "output_type": "stream",
     "text": [
      "/usr/local/lib/python3.9/site-packages/sklearn/preprocessing/_label.py:115: DataConversionWarning: A column-vector y was passed when a 1d array was expected. Please change the shape of y to (n_samples, ), for example using ravel().\n",
      "  y = column_or_1d(y, warn=True)\n"
     ]
    },
    {
     "data": {
      "text/plain": [
       "0         7\n",
       "1         7\n",
       "2         7\n",
       "3         7\n",
       "4         7\n",
       "         ..\n",
       "27995    13\n",
       "27996    13\n",
       "27997    13\n",
       "27998    13\n",
       "27999    13\n",
       "Length: 28000, dtype: int64"
      ]
     },
     "execution_count": 79,
     "metadata": {},
     "output_type": "execute_result"
    }
   ],
   "source": [
    "# ANSWER\n",
    "from sklearn import preprocessing\n",
    "import pandas as pd\n",
    "le = preprocessing.LabelEncoder()\n",
    "label_encoded=  pd.Series(le.fit_transform(labels))\n",
    "label_encoded"
   ]
  },
  {
   "cell_type": "markdown",
   "metadata": {},
   "source": [
    "### (Advanced) Task 7: Prepare the dataset for ML testing, using the Train-Test-Split function of sklearn (2)"
   ]
  },
  {
   "cell_type": "code",
   "execution_count": 80,
   "metadata": {},
   "outputs": [
    {
     "data": {
      "text/plain": [
       "((21000, 256), (7000, 256), (21000,), (7000,))"
      ]
     },
     "execution_count": 80,
     "metadata": {},
     "output_type": "execute_result"
    }
   ],
   "source": [
    "# ANSWER\n",
    "\n",
    "from sklearn.model_selection import train_test_split\n",
    "\n",
    "  \n",
    "# using the train test split function\n",
    "X_train, X_test, y_train, y_test = train_test_split(scaled_features_df,label_encoded ,\n",
    "                                   random_state=42, \n",
    "                                   test_size=0.25, \n",
    "                                   shuffle=True)\n",
    "X_train.shape,X_test.shape,y_train.shape,y_test.shape"
   ]
  },
  {
   "cell_type": "markdown",
   "metadata": {},
   "source": [
    "### (Advanced) Task 8: Use a Multi-Layer Perceptron (MLP) classifier to train a machine learning model, and obtain the accuracy score against your test data. (4)"
   ]
  },
  {
   "cell_type": "code",
   "execution_count": 81,
   "metadata": {},
   "outputs": [
    {
     "name": "stderr",
     "output_type": "stream",
     "text": [
      "/usr/local/lib/python3.9/site-packages/sklearn/neural_network/_multilayer_perceptron.py:692: ConvergenceWarning: Stochastic Optimizer: Maximum iterations (200) reached and the optimization hasn't converged yet.\n",
      "  warnings.warn(\n"
     ]
    },
    {
     "data": {
      "text/plain": [
       "0.8254285714285714"
      ]
     },
     "execution_count": 81,
     "metadata": {},
     "output_type": "execute_result"
    }
   ],
   "source": [
    "# ANSWER\n",
    "from sklearn.neural_network import MLPClassifier\n",
    "from sklearn.metrics import accuracy_score\n",
    "\n",
    "mlp = MLPClassifier(hidden_layer_sizes=(30,30,30))\n",
    "mlp.fit(X_train,y_train)\n",
    "y_pred = mlp.predict(X_test)\n",
    "accuracy_score(y_test, y_pred)"
   ]
  },
  {
   "cell_type": "code",
   "execution_count": 82,
   "metadata": {},
   "outputs": [
    {
     "name": "stdout",
     "output_type": "stream",
     "text": [
      "Accuracy Score of MLP Classifier is:  82.54285714285714 %\n"
     ]
    }
   ],
   "source": [
    "print('Accuracy Score of MLP Classifier is: ',accuracy_score(y_test, y_pred)*100,'%')"
   ]
  },
  {
   "cell_type": "markdown",
   "metadata": {},
   "source": [
    "### (Advanced) Task 9: Use a Random Forest (RF) classifier to train a machine learning model, and obtain the accuracy score against your test data. (4)"
   ]
  },
  {
   "cell_type": "code",
   "execution_count": 83,
   "metadata": {},
   "outputs": [],
   "source": [
    "# ANSWER\n",
    "from sklearn.ensemble import RandomForestClassifier\n",
    "rfc = RandomForestClassifier(random_state=0)\n",
    "rfc.fit(X_train, y_train)\n",
    "# Predicting \n",
    "y_pred = rfc.predict(X_test)"
   ]
  },
  {
   "cell_type": "code",
   "execution_count": 84,
   "metadata": {},
   "outputs": [
    {
     "name": "stdout",
     "output_type": "stream",
     "text": [
      "Model accuracy score with default decision-trees : 87.9286 %\n"
     ]
    }
   ],
   "source": [
    "print('Model accuracy score with default decision-trees : {0:0.4f}'. format(accuracy_score(y_test, y_pred)*100),'%')"
   ]
  },
  {
   "cell_type": "markdown",
   "metadata": {},
   "source": [
    "### (Advanced) Task 10: Show how ML parameters can improve the models to achieve a high accuracy score of over 80% (3)\n",
    "\n",
    "*Marks wil be awarded for how your tuning improves accuracy beyond 80%.*"
   ]
  },
  {
   "attachments": {},
   "cell_type": "markdown",
   "metadata": {},
   "source": [
    "Accuracy score is already above 80% for both classifiers. Good classification depends on following factors\n",
    "\n",
    "- **Data Normalization**\n",
    "  \n",
    "  We stadandardize our data for normalization and avoided feature dominance by any of the feature.\n",
    "\n",
    "- **Good split bwtween training and test data to avoid over and underfitting**\n",
    "\n",
    "\n",
    "  We divided the dataset in to 75/25% training and test dataset. It is a good split and minimizes overfitting and underfitting in the classification.\n",
    "\n",
    "- If our accuracy was below 80% in the MLP classifier, we could have added hidden layers to improve accuracy. \n",
    "\n",
    "- If our accuracy was below 80% in the Random Forest classifier, we could have increased n_estimators to improve accuracy. \n",
    "\n"
   ]
  },
  {
   "cell_type": "code",
   "execution_count": 85,
   "metadata": {},
   "outputs": [
    {
     "name": "stderr",
     "output_type": "stream",
     "text": [
      "/usr/local/lib/python3.9/site-packages/sklearn/neural_network/_multilayer_perceptron.py:692: ConvergenceWarning: Stochastic Optimizer: Maximum iterations (200) reached and the optimization hasn't converged yet.\n",
      "  warnings.warn(\n"
     ]
    }
   ],
   "source": [
    "# ANSWER\n",
    "mlp = MLPClassifier(hidden_layer_sizes=(90,90,90))\n",
    "mlp.fit(X_train,y_train)\n",
    "y_pred = mlp.predict(X_test)\n"
   ]
  },
  {
   "cell_type": "code",
   "execution_count": 86,
   "metadata": {},
   "outputs": [
    {
     "name": "stdout",
     "output_type": "stream",
     "text": [
      "Accuracy Score of MLP Classifier with hidden layers is:  83.6 %\n"
     ]
    }
   ],
   "source": [
    "print('Accuracy Score of MLP Classifier with hidden layers is: ',accuracy_score(y_test, y_pred)*100,'%')"
   ]
  },
  {
   "cell_type": "code",
   "execution_count": 87,
   "metadata": {},
   "outputs": [],
   "source": [
    "# ANSWER\n",
    "from sklearn.ensemble import RandomForestClassifier\n",
    "rfc = RandomForestClassifier(n_estimators=50, random_state=42,criterion='entropy')\n",
    "rfc.fit(X_train, y_train)\n",
    "# Predicting \n",
    "y_pred = rfc.predict(X_test)"
   ]
  },
  {
   "cell_type": "code",
   "execution_count": 88,
   "metadata": {},
   "outputs": [
    {
     "name": "stdout",
     "output_type": "stream",
     "text": [
      "Model accuracy score with 100 decision-trees : 87.7143 %\n"
     ]
    }
   ],
   "source": [
    "print('Model accuracy score with 100 decision-trees : {0:0.4f}'. format(accuracy_score(y_test, y_pred)*100),'%')"
   ]
  }
 ],
 "metadata": {
  "kernelspec": {
   "display_name": "Python 3",
   "language": "python",
   "name": "python3"
  },
  "language_info": {
   "codemirror_mode": {
    "name": "ipython",
    "version": 3
   },
   "file_extension": ".py",
   "mimetype": "text/x-python",
   "name": "python",
   "nbconvert_exporter": "python",
   "pygments_lexer": "ipython3",
   "version": "3.9.15"
  },
  "vscode": {
   "interpreter": {
    "hash": "397704579725e15f5c7cb49fe5f0341eb7531c82d19f2c29d197e8b64ab5776b"
   }
  },
  "widgets": {
   "state": {},
   "version": "1.1.2"
  }
 },
 "nbformat": 4,
 "nbformat_minor": 4
}
