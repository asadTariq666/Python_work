{
 "cells": [
  {
   "cell_type": "code",
   "execution_count": 2,
   "metadata": {},
   "outputs": [
    {
     "data": {
      "text/plain": [
       "21.599999999999998"
      ]
     },
     "execution_count": 2,
     "metadata": {},
     "output_type": "execute_result"
    }
   ],
   "source": [
    "height  = 100\n",
    "bounce = 1\n",
    "while bounce <=3:\n",
    "    height = height* (3/5)\n",
    "    bounce += 1\n",
    "new_height = height\n",
    "new_height"
   ]
  },
  {
   "cell_type": "code",
   "execution_count": 3,
   "metadata": {},
   "outputs": [
    {
     "name": "stdout",
     "output_type": "stream",
     "text": [
      "The Interquartile Range for the data is: 24.75\n"
     ]
    }
   ],
   "source": [
    "#import modules\n",
    "import numpy as np\n",
    "#define array of data\n",
    "data = np.array([24,26,27,28,32,32,36,37,38,43,44,44,47,48,49,52,53,53,54,59,59,59,60,61,64,65,65,66,66,68,70,72,73,76,77,77,80,84,87,91])\n",
    "#calculate interquartile range (IQR)\n",
    "q3, q1 = np.percentile(data, [75 ,25])\n",
    "iqr = q3 - q1\n",
    "#print the interquartile range \n",
    "print('The Interquartile Range for the data is:',iqr)"
   ]
  },
  {
   "cell_type": "code",
   "execution_count": 10,
   "metadata": {},
   "outputs": [
    {
     "name": "stdout",
     "output_type": "stream",
     "text": [
      "25.5\n"
     ]
    }
   ],
   "source": [
    "# Import the numpy library as np\n",
    "import numpy as np\n",
    "  \n",
    "data = [24,26,27,28,32,32,36,37,38,43,44,44,47,48,49,52,53,53,54,59,59,59,60,61,64,65,65,66,66,68,70,72,73,76,77,77,80,84,87,91]\n",
    "  \n",
    "# First quartile (Q1)\n",
    "# First quartile (Q1)\n",
    "Q1 = np.percentile(data, 25, interpolation = 'midpoint')\n",
    "  \n",
    "# Third quartile (Q3)\n",
    "Q3 = np.percentile(data, 75, interpolation = 'midpoint')\n",
    "  \n",
    "# Interquaritle range (IQR)\n",
    "IQR = Q3 - Q1\n",
    "  \n",
    "  \n",
    "print(IQR)"
   ]
  },
  {
   "cell_type": "code",
   "execution_count": 5,
   "metadata": {},
   "outputs": [
    {
     "data": {
      "text/plain": [
       "59.0"
      ]
     },
     "execution_count": 5,
     "metadata": {},
     "output_type": "execute_result"
    }
   ],
   "source": [
    "np.median(data)"
   ]
  },
  {
   "cell_type": "code",
   "execution_count": 8,
   "metadata": {},
   "outputs": [
    {
     "data": {
      "text/plain": [
       "25.5"
      ]
     },
     "execution_count": 8,
     "metadata": {},
     "output_type": "execute_result"
    }
   ],
   "source": [
    "data1 = np.array([24,26,27,28,32,32,36,37,38,43,44,44,47,48,49,52,53,53,54,59])\n",
    "data2 = np.array([59,59,60,61,64,65,65,66,66,68,70,72,73,76,77,77,80,84,87,91])\n",
    "\n",
    "np.median(data2)-np.median(data1)"
   ]
  },
  {
   "cell_type": "code",
   "execution_count": 24,
   "metadata": {},
   "outputs": [
    {
     "data": {
      "text/plain": [
       "26463.0"
      ]
     },
     "execution_count": 24,
     "metadata": {},
     "output_type": "execute_result"
    }
   ],
   "source": [
    "total_cost=0\n",
    "with open('Book2.csv','rt') as f:\n",
    "    headers = next(f)\n",
    "    \n",
    "    for line in f:\n",
    "        \n",
    "        row =line.split(',')\n",
    "        \n",
    "        nshares = int(row[1])\n",
    "        price = float(row[2])\n",
    "        total_cost += nshares* price\n",
    "total_cost"
   ]
  }
 ],
 "metadata": {
  "interpreter": {
   "hash": "f293f16398db128e85df277de8eb5f9ab0a1b28857fa0f1c8543245825f1b931"
  },
  "kernelspec": {
   "display_name": "Python 3.7.7 ('pythonProject')",
   "language": "python",
   "name": "python3"
  },
  "language_info": {
   "codemirror_mode": {
    "name": "ipython",
    "version": 3
   },
   "file_extension": ".py",
   "mimetype": "text/x-python",
   "name": "python",
   "nbconvert_exporter": "python",
   "pygments_lexer": "ipython3",
   "version": "3.7.7"
  },
  "orig_nbformat": 4
 },
 "nbformat": 4,
 "nbformat_minor": 2
}
