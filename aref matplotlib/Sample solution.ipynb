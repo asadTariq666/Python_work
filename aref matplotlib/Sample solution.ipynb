{
 "cells": [
  {
   "cell_type": "code",
   "execution_count": 1,
   "id": "fb14e22c",
   "metadata": {},
   "outputs": [],
   "source": [
    "import pandas as pd\n",
    "import matplotlib as mplt\n",
    "from matplotlib import pyplot"
   ]
  },
  {
   "cell_type": "code",
   "execution_count": 3,
   "id": "e9676d69",
   "metadata": {},
   "outputs": [],
   "source": [
    "whosales = pd.read_csv(\"Wholesale customers data.csv\")"
   ]
  },
  {
   "cell_type": "markdown",
   "id": "64c7d4b0",
   "metadata": {},
   "source": [
    "#### Aufgabe A"
   ]
  },
  {
   "cell_type": "code",
   "execution_count": 4,
   "id": "8ed85e89",
   "metadata": {},
   "outputs": [],
   "source": [
    "Frozen_min=whosales.Frozen.argmin()"
   ]
  },
  {
   "cell_type": "code",
   "execution_count": 5,
   "id": "10fd7e2c",
   "metadata": {},
   "outputs": [
    {
     "data": {
      "text/plain": [
       "420"
      ]
     },
     "execution_count": 5,
     "metadata": {},
     "output_type": "execute_result"
    }
   ],
   "source": [
    "Frozen_min"
   ]
  },
  {
   "cell_type": "code",
   "execution_count": 6,
   "id": "00a2afba",
   "metadata": {},
   "outputs": [
    {
     "data": {
      "text/html": [
       "<div>\n",
       "<style scoped>\n",
       "    .dataframe tbody tr th:only-of-type {\n",
       "        vertical-align: middle;\n",
       "    }\n",
       "\n",
       "    .dataframe tbody tr th {\n",
       "        vertical-align: top;\n",
       "    }\n",
       "\n",
       "    .dataframe thead th {\n",
       "        text-align: right;\n",
       "    }\n",
       "</style>\n",
       "<table border=\"1\" class=\"dataframe\">\n",
       "  <thead>\n",
       "    <tr style=\"text-align: right;\">\n",
       "      <th></th>\n",
       "      <th>Channel</th>\n",
       "      <th>Region</th>\n",
       "      <th>Fresh</th>\n",
       "      <th>Milk</th>\n",
       "      <th>Grocery</th>\n",
       "      <th>Frozen</th>\n",
       "      <th>Detergents_Paper</th>\n",
       "      <th>Delicassen</th>\n",
       "    </tr>\n",
       "  </thead>\n",
       "  <tbody>\n",
       "    <tr>\n",
       "      <th>420</th>\n",
       "      <td>1</td>\n",
       "      <td>3</td>\n",
       "      <td>4456</td>\n",
       "      <td>5266</td>\n",
       "      <td>13227</td>\n",
       "      <td>25</td>\n",
       "      <td>6818</td>\n",
       "      <td>1393</td>\n",
       "    </tr>\n",
       "  </tbody>\n",
       "</table>\n",
       "</div>"
      ],
      "text/plain": [
       "     Channel  Region  Fresh  Milk  Grocery  Frozen  Detergents_Paper  \\\n",
       "420        1       3   4456  5266    13227      25              6818   \n",
       "\n",
       "     Delicassen  \n",
       "420        1393  "
      ]
     },
     "execution_count": 6,
     "metadata": {},
     "output_type": "execute_result"
    }
   ],
   "source": [
    "whosales[Frozen_min:Frozen_min+1]"
   ]
  },
  {
   "cell_type": "code",
   "execution_count": 7,
   "id": "091e089d",
   "metadata": {
    "scrolled": true
   },
   "outputs": [
    {
     "data": {
      "text/plain": [
       "Channel                 1\n",
       "Region                  3\n",
       "Fresh                4456\n",
       "Milk                 5266\n",
       "Grocery             13227\n",
       "Frozen                 25\n",
       "Detergents_Paper     6818\n",
       "Delicassen           1393\n",
       "Name: 420, dtype: int64"
      ]
     },
     "execution_count": 7,
     "metadata": {},
     "output_type": "execute_result"
    }
   ],
   "source": [
    "whosales.iloc[Frozen_min]"
   ]
  },
  {
   "cell_type": "markdown",
   "id": "a4bfe5a1",
   "metadata": {},
   "source": [
    "#### Aufgabe B"
   ]
  },
  {
   "cell_type": "code",
   "execution_count": 8,
   "id": "e31e73dd",
   "metadata": {},
   "outputs": [
    {
     "data": {
      "text/html": [
       "<div>\n",
       "<style scoped>\n",
       "    .dataframe tbody tr th:only-of-type {\n",
       "        vertical-align: middle;\n",
       "    }\n",
       "\n",
       "    .dataframe tbody tr th {\n",
       "        vertical-align: top;\n",
       "    }\n",
       "\n",
       "    .dataframe thead th {\n",
       "        text-align: right;\n",
       "    }\n",
       "</style>\n",
       "<table border=\"1\" class=\"dataframe\">\n",
       "  <thead>\n",
       "    <tr style=\"text-align: right;\">\n",
       "      <th></th>\n",
       "      <th></th>\n",
       "      <th>Fresh</th>\n",
       "      <th>Milk</th>\n",
       "      <th>Grocery</th>\n",
       "      <th>Frozen</th>\n",
       "      <th>Detergents_Paper</th>\n",
       "      <th>Delicassen</th>\n",
       "    </tr>\n",
       "    <tr>\n",
       "      <th>Channel</th>\n",
       "      <th>Region</th>\n",
       "      <th></th>\n",
       "      <th></th>\n",
       "      <th></th>\n",
       "      <th></th>\n",
       "      <th></th>\n",
       "      <th></th>\n",
       "    </tr>\n",
       "  </thead>\n",
       "  <tbody>\n",
       "    <tr>\n",
       "      <th rowspan=\"3\" valign=\"top\">1</th>\n",
       "      <th>1</th>\n",
       "      <td>761233</td>\n",
       "      <td>228342</td>\n",
       "      <td>237542</td>\n",
       "      <td>184512</td>\n",
       "      <td>56081</td>\n",
       "      <td>70632</td>\n",
       "    </tr>\n",
       "    <tr>\n",
       "      <th>2</th>\n",
       "      <td>326215</td>\n",
       "      <td>64519</td>\n",
       "      <td>123074</td>\n",
       "      <td>160861</td>\n",
       "      <td>13516</td>\n",
       "      <td>30965</td>\n",
       "    </tr>\n",
       "    <tr>\n",
       "      <th>3</th>\n",
       "      <td>2928269</td>\n",
       "      <td>735753</td>\n",
       "      <td>820101</td>\n",
       "      <td>771606</td>\n",
       "      <td>165990</td>\n",
       "      <td>320358</td>\n",
       "    </tr>\n",
       "    <tr>\n",
       "      <th rowspan=\"3\" valign=\"top\">2</th>\n",
       "      <th>1</th>\n",
       "      <td>93600</td>\n",
       "      <td>194112</td>\n",
       "      <td>332495</td>\n",
       "      <td>46514</td>\n",
       "      <td>148055</td>\n",
       "      <td>33695</td>\n",
       "    </tr>\n",
       "    <tr>\n",
       "      <th>2</th>\n",
       "      <td>138506</td>\n",
       "      <td>174625</td>\n",
       "      <td>310200</td>\n",
       "      <td>29271</td>\n",
       "      <td>159795</td>\n",
       "      <td>23541</td>\n",
       "    </tr>\n",
       "    <tr>\n",
       "      <th>3</th>\n",
       "      <td>1032308</td>\n",
       "      <td>1153006</td>\n",
       "      <td>1675150</td>\n",
       "      <td>158886</td>\n",
       "      <td>724420</td>\n",
       "      <td>191752</td>\n",
       "    </tr>\n",
       "  </tbody>\n",
       "</table>\n",
       "</div>"
      ],
      "text/plain": [
       "                  Fresh     Milk  Grocery  Frozen  Detergents_Paper  \\\n",
       "Channel Region                                                        \n",
       "1       1        761233   228342   237542  184512             56081   \n",
       "        2        326215    64519   123074  160861             13516   \n",
       "        3       2928269   735753   820101  771606            165990   \n",
       "2       1         93600   194112   332495   46514            148055   \n",
       "        2        138506   174625   310200   29271            159795   \n",
       "        3       1032308  1153006  1675150  158886            724420   \n",
       "\n",
       "                Delicassen  \n",
       "Channel Region              \n",
       "1       1            70632  \n",
       "        2            30965  \n",
       "        3           320358  \n",
       "2       1            33695  \n",
       "        2            23541  \n",
       "        3           191752  "
      ]
     },
     "execution_count": 8,
     "metadata": {},
     "output_type": "execute_result"
    }
   ],
   "source": [
    "whosales.groupby([\"Channel\",\"Region\"]).sum()"
   ]
  },
  {
   "cell_type": "code",
   "execution_count": 9,
   "id": "60e55ace",
   "metadata": {},
   "outputs": [
    {
     "data": {
      "text/html": [
       "<div>\n",
       "<style scoped>\n",
       "    .dataframe tbody tr th:only-of-type {\n",
       "        vertical-align: middle;\n",
       "    }\n",
       "\n",
       "    .dataframe tbody tr th {\n",
       "        vertical-align: top;\n",
       "    }\n",
       "\n",
       "    .dataframe thead th {\n",
       "        text-align: right;\n",
       "    }\n",
       "</style>\n",
       "<table border=\"1\" class=\"dataframe\">\n",
       "  <thead>\n",
       "    <tr style=\"text-align: right;\">\n",
       "      <th></th>\n",
       "      <th></th>\n",
       "      <th>Frozen</th>\n",
       "    </tr>\n",
       "    <tr>\n",
       "      <th>Channel</th>\n",
       "      <th>Region</th>\n",
       "      <th></th>\n",
       "    </tr>\n",
       "  </thead>\n",
       "  <tbody>\n",
       "    <tr>\n",
       "      <th rowspan=\"3\" valign=\"top\">1</th>\n",
       "      <th>1</th>\n",
       "      <td>184512</td>\n",
       "    </tr>\n",
       "    <tr>\n",
       "      <th>2</th>\n",
       "      <td>160861</td>\n",
       "    </tr>\n",
       "    <tr>\n",
       "      <th>3</th>\n",
       "      <td>771606</td>\n",
       "    </tr>\n",
       "    <tr>\n",
       "      <th rowspan=\"3\" valign=\"top\">2</th>\n",
       "      <th>1</th>\n",
       "      <td>46514</td>\n",
       "    </tr>\n",
       "    <tr>\n",
       "      <th>2</th>\n",
       "      <td>29271</td>\n",
       "    </tr>\n",
       "    <tr>\n",
       "      <th>3</th>\n",
       "      <td>158886</td>\n",
       "    </tr>\n",
       "  </tbody>\n",
       "</table>\n",
       "</div>"
      ],
      "text/plain": [
       "                Frozen\n",
       "Channel Region        \n",
       "1       1       184512\n",
       "        2       160861\n",
       "        3       771606\n",
       "2       1        46514\n",
       "        2        29271\n",
       "        3       158886"
      ]
     },
     "execution_count": 9,
     "metadata": {},
     "output_type": "execute_result"
    }
   ],
   "source": [
    "whosales.groupby([\"Channel\",\"Region\"]).agg({\"Frozen\":\"sum\"})"
   ]
  },
  {
   "cell_type": "markdown",
   "id": "fc87aeda",
   "metadata": {},
   "source": [
    "#### Aufgabe C"
   ]
  },
  {
   "cell_type": "code",
   "execution_count": 10,
   "id": "4cfe751d",
   "metadata": {},
   "outputs": [
    {
     "name": "stdout",
     "output_type": "stream",
     "text": [
      "\n",
      " Das sind alle Channels\n",
      "Channel                 582\n",
      "Region                 1119\n",
      "Fresh               5280131\n",
      "Milk                2550357\n",
      "Grocery             3498562\n",
      "Frozen              1351650\n",
      "Detergents_Paper    1267857\n",
      "Delicassen           670943\n",
      "dtype: int64\n",
      "\n",
      " Das ist Channel 1\n",
      "Channel                 298\n",
      "Region                  748\n",
      "Fresh               4015717\n",
      "Milk                1028614\n",
      "Grocery             1180717\n",
      "Frozen              1116979\n",
      "Detergents_Paper     235587\n",
      "Delicassen           421955\n",
      "dtype: int64\n",
      "\n",
      " Das ist Channel 2\n",
      "Channel                 284\n",
      "Region                  371\n",
      "Fresh               1264414\n",
      "Milk                1521743\n",
      "Grocery             2317845\n",
      "Frozen               234671\n",
      "Detergents_Paper    1032270\n",
      "Delicassen           248988\n",
      "dtype: int64\n"
     ]
    }
   ],
   "source": [
    "channels = whosales.groupby(\"Channel\")\n",
    "\n",
    "print('\\n','Das sind alle Channels')\n",
    "total = whosales.sum()\n",
    "print(total)\n",
    "\n",
    "print('\\n','Das ist Channel 1')\n",
    "channel_1 = channels.get_group(1).sum()\n",
    "print(channel_1)\n",
    "\n",
    "print('\\n','Das ist Channel 2')\n",
    "channel_2 = channels.get_group(2).sum()\n",
    "print(channel_2)\n",
    "\n"
   ]
  },
  {
   "cell_type": "code",
   "execution_count": 11,
   "id": "0c89f781",
   "metadata": {},
   "outputs": [
    {
     "data": {
      "text/plain": [
       "Channel                 582\n",
       "Region                 1119\n",
       "Fresh               5280131\n",
       "Milk                2550357\n",
       "Grocery             3498562\n",
       "Frozen              1351650\n",
       "Detergents_Paper    1267857\n",
       "Delicassen           670943\n",
       "dtype: int64"
      ]
     },
     "execution_count": 11,
     "metadata": {},
     "output_type": "execute_result"
    }
   ],
   "source": [
    "total"
   ]
  },
  {
   "cell_type": "code",
   "execution_count": 72,
   "id": "3c93fba7",
   "metadata": {},
   "outputs": [
    {
     "data": {
      "text/plain": [
       "Channel             0.512027\n",
       "Region              0.668454\n",
       "Fresh               0.760534\n",
       "Milk                0.403322\n",
       "Grocery             0.337486\n",
       "Frozen              0.826382\n",
       "Detergents_Paper    0.185815\n",
       "Delicassen          0.628898\n",
       "dtype: float64"
      ]
     },
     "execution_count": 72,
     "metadata": {},
     "output_type": "execute_result"
    }
   ],
   "source": [
    "channel_1/total"
   ]
  },
  {
   "cell_type": "code",
   "execution_count": 62,
   "id": "03a38606",
   "metadata": {},
   "outputs": [
    {
     "data": {
      "text/plain": [
       "Channel             0.487973\n",
       "Region              0.331546\n",
       "Fresh               0.239466\n",
       "Milk                0.596678\n",
       "Grocery             0.662514\n",
       "Frozen              0.173618\n",
       "Detergents_Paper    0.814185\n",
       "Delicassen          0.371102\n",
       "dtype: float64"
      ]
     },
     "execution_count": 62,
     "metadata": {},
     "output_type": "execute_result"
    }
   ],
   "source": [
    "channel_2/total"
   ]
  },
  {
   "cell_type": "code",
   "execution_count": 63,
   "id": "92fcf6f7",
   "metadata": {},
   "outputs": [
    {
     "name": "stdout",
     "output_type": "stream",
     "text": [
      "Channel             0.024055\n",
      "Region              0.336908\n",
      "Fresh               0.521067\n",
      "Milk               -0.193357\n",
      "Grocery            -0.325027\n",
      "Frozen              0.652764\n",
      "Detergents_Paper   -0.628370\n",
      "Delicassen          0.257797\n",
      "dtype: float64\n"
     ]
    }
   ],
   "source": [
    "total_difference= channel_1/total -channel_2/total\n",
    "print(total_difference)"
   ]
  }
 ],
 "metadata": {
  "kernelspec": {
   "display_name": "Python 3 (ipykernel)",
   "language": "python",
   "name": "python3"
  },
  "language_info": {
   "codemirror_mode": {
    "name": "ipython",
    "version": 3
   },
   "file_extension": ".py",
   "mimetype": "text/x-python",
   "name": "python",
   "nbconvert_exporter": "python",
   "pygments_lexer": "ipython3",
   "version": "3.7.7"
  }
 },
 "nbformat": 4,
 "nbformat_minor": 5
}
