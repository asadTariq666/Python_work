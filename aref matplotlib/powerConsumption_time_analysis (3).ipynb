{
 "cells": [
  {
   "cell_type": "code",
   "execution_count": 2,
   "metadata": {
    "scrolled": true
   },
   "outputs": [
    {
     "name": "stdout",
     "output_type": "stream",
     "text": [
      "Unnamed: 0         int64\n",
      "date              object\n",
      "time              object\n",
      "globalpower      float64\n",
      "voltage          float64\n",
      "globintensity    float64\n",
      "submetering1     float64\n",
      "submetering2     float64\n",
      "submetering3     float64\n",
      "dtype: object\n"
     ]
    },
    {
     "data": {
      "text/html": [
       "<div>\n",
       "<style scoped>\n",
       "    .dataframe tbody tr th:only-of-type {\n",
       "        vertical-align: middle;\n",
       "    }\n",
       "\n",
       "    .dataframe tbody tr th {\n",
       "        vertical-align: top;\n",
       "    }\n",
       "\n",
       "    .dataframe thead th {\n",
       "        text-align: right;\n",
       "    }\n",
       "</style>\n",
       "<table border=\"1\" class=\"dataframe\">\n",
       "  <thead>\n",
       "    <tr style=\"text-align: right;\">\n",
       "      <th></th>\n",
       "      <th>Unnamed: 0</th>\n",
       "      <th>date</th>\n",
       "      <th>time</th>\n",
       "      <th>globalpower</th>\n",
       "      <th>voltage</th>\n",
       "      <th>globintensity</th>\n",
       "      <th>submetering1</th>\n",
       "      <th>submetering2</th>\n",
       "      <th>submetering3</th>\n",
       "    </tr>\n",
       "  </thead>\n",
       "  <tbody>\n",
       "    <tr>\n",
       "      <th>0</th>\n",
       "      <td>1600236</td>\n",
       "      <td>1/1/2010</td>\n",
       "      <td>00:00:00</td>\n",
       "      <td>1.790</td>\n",
       "      <td>240.65</td>\n",
       "      <td>7.4</td>\n",
       "      <td>0.0</td>\n",
       "      <td>0.0</td>\n",
       "      <td>18.0</td>\n",
       "    </tr>\n",
       "    <tr>\n",
       "      <th>1</th>\n",
       "      <td>1600237</td>\n",
       "      <td>1/1/2010</td>\n",
       "      <td>00:01:00</td>\n",
       "      <td>1.780</td>\n",
       "      <td>240.07</td>\n",
       "      <td>7.4</td>\n",
       "      <td>0.0</td>\n",
       "      <td>0.0</td>\n",
       "      <td>18.0</td>\n",
       "    </tr>\n",
       "    <tr>\n",
       "      <th>2</th>\n",
       "      <td>1600238</td>\n",
       "      <td>1/1/2010</td>\n",
       "      <td>00:02:00</td>\n",
       "      <td>1.780</td>\n",
       "      <td>240.15</td>\n",
       "      <td>7.4</td>\n",
       "      <td>0.0</td>\n",
       "      <td>0.0</td>\n",
       "      <td>19.0</td>\n",
       "    </tr>\n",
       "    <tr>\n",
       "      <th>3</th>\n",
       "      <td>1600239</td>\n",
       "      <td>1/1/2010</td>\n",
       "      <td>00:03:00</td>\n",
       "      <td>1.746</td>\n",
       "      <td>240.26</td>\n",
       "      <td>7.2</td>\n",
       "      <td>0.0</td>\n",
       "      <td>0.0</td>\n",
       "      <td>18.0</td>\n",
       "    </tr>\n",
       "    <tr>\n",
       "      <th>4</th>\n",
       "      <td>1600240</td>\n",
       "      <td>1/1/2010</td>\n",
       "      <td>00:04:00</td>\n",
       "      <td>1.686</td>\n",
       "      <td>240.12</td>\n",
       "      <td>7.0</td>\n",
       "      <td>0.0</td>\n",
       "      <td>0.0</td>\n",
       "      <td>18.0</td>\n",
       "    </tr>\n",
       "  </tbody>\n",
       "</table>\n",
       "</div>"
      ],
      "text/plain": [
       "   Unnamed: 0      date      time  globalpower  voltage  globintensity  \\\n",
       "0     1600236  1/1/2010  00:00:00        1.790   240.65            7.4   \n",
       "1     1600237  1/1/2010  00:01:00        1.780   240.07            7.4   \n",
       "2     1600238  1/1/2010  00:02:00        1.780   240.15            7.4   \n",
       "3     1600239  1/1/2010  00:03:00        1.746   240.26            7.2   \n",
       "4     1600240  1/1/2010  00:04:00        1.686   240.12            7.0   \n",
       "\n",
       "   submetering1  submetering2  submetering3  \n",
       "0           0.0           0.0          18.0  \n",
       "1           0.0           0.0          18.0  \n",
       "2           0.0           0.0          19.0  \n",
       "3           0.0           0.0          18.0  \n",
       "4           0.0           0.0          18.0  "
      ]
     },
     "execution_count": 2,
     "metadata": {},
     "output_type": "execute_result"
    }
   ],
   "source": [
    "import pandas as pd\n",
    "power=pd.read_csv(\"power_consumption_2010.csv\")\n",
    "print(power.dtypes)\n",
    "power.head()"
   ]
  },
  {
   "cell_type": "code",
   "execution_count": 3,
   "metadata": {},
   "outputs": [
    {
     "data": {
      "text/plain": [
       "0         00:00:00\n",
       "1         00:01:00\n",
       "2         00:02:00\n",
       "3         00:03:00\n",
       "4         00:04:00\n",
       "            ...   \n",
       "475018    20:58:00\n",
       "475019    20:59:00\n",
       "475020    21:00:00\n",
       "475021    21:01:00\n",
       "475022    21:02:00\n",
       "Name: time, Length: 475023, dtype: object"
      ]
     },
     "execution_count": 3,
     "metadata": {},
     "output_type": "execute_result"
    }
   ],
   "source": [
    "power.time"
   ]
  },
  {
   "cell_type": "code",
   "execution_count": 2,
   "metadata": {
    "scrolled": true
   },
   "outputs": [
    {
     "data": {
      "text/plain": [
       "0         1.790\n",
       "1         1.780\n",
       "2         1.780\n",
       "3         1.746\n",
       "4         1.686\n",
       "          ...  \n",
       "475018    0.946\n",
       "475019    0.944\n",
       "475020    0.938\n",
       "475021    0.934\n",
       "475022    0.932\n",
       "Name: globalpower, Length: 475023, dtype: float64"
      ]
     },
     "execution_count": 2,
     "metadata": {},
     "output_type": "execute_result"
    }
   ],
   "source": [
    "power.globalpower"
   ]
  },
  {
   "cell_type": "code",
   "execution_count": 4,
   "metadata": {},
   "outputs": [
    {
     "data": {
      "text/plain": [
       "0         1.790\n",
       "1         1.780\n",
       "2         1.780\n",
       "3         1.746\n",
       "4         1.686\n",
       "          ...  \n",
       "475018    0.946\n",
       "475019    0.944\n",
       "475020    0.938\n",
       "475021    0.934\n",
       "475022    0.932\n",
       "Name: globalpower, Length: 475023, dtype: float64"
      ]
     },
     "execution_count": 4,
     "metadata": {},
     "output_type": "execute_result"
    }
   ],
   "source": [
    "power.globalpower"
   ]
  },
  {
   "cell_type": "code",
   "execution_count": 31,
   "metadata": {
    "scrolled": false
   },
   "outputs": [
    {
     "data": {
      "text/plain": [
       "Text(0.5, 0, 'Zeile der Tabelle')"
      ]
     },
     "execution_count": 31,
     "metadata": {},
     "output_type": "execute_result"
    },
    {
     "data": {
      "image/png": "[encoded data removed]",
      "text/plain": [
       "<Figure size 792x576 with 1 Axes>"
      ]
     },
     "metadata": {
      "needs_background": "light"
     },
     "output_type": "display_data"
    }
   ],
   "source": [
    "from matplotlib import pyplot as pp\n",
    "figure,axis=pp.subplots(figsize=(11,8))\n",
    "axis.plot(power.globalpower,color=\"grey\")\n",
    "axis.set_ylabel(\"Spannung in Volt\")\n",
    "axis.set_xlabel(\"Zeile der Tabelle\")"
   ]
  },
  {
   "cell_type": "code",
   "execution_count": 12,
   "metadata": {},
   "outputs": [
    {
     "data": {
      "text/plain": [
       "475023"
      ]
     },
     "execution_count": 12,
     "metadata": {},
     "output_type": "execute_result"
    }
   ],
   "source": [
    "len(power)"
   ]
  },
  {
   "cell_type": "code",
   "execution_count": 6,
   "metadata": {},
   "outputs": [],
   "source": [
    "from datetime import datetime"
   ]
  },
  {
   "cell_type": "code",
   "execution_count": 7,
   "metadata": {},
   "outputs": [],
   "source": [
    "d=datetime.strptime(\"00:02:00\",\"%H:%M:%S\")"
   ]
  },
  {
   "cell_type": "code",
   "execution_count": 52,
   "metadata": {
    "scrolled": true
   },
   "outputs": [
    {
     "data": {
      "text/html": [
       "<div>\n",
       "<style scoped>\n",
       "    .dataframe tbody tr th:only-of-type {\n",
       "        vertical-align: middle;\n",
       "    }\n",
       "\n",
       "    .dataframe tbody tr th {\n",
       "        vertical-align: top;\n",
       "    }\n",
       "\n",
       "    .dataframe thead th {\n",
       "        text-align: right;\n",
       "    }\n",
       "</style>\n",
       "<table border=\"1\" class=\"dataframe\">\n",
       "  <thead>\n",
       "    <tr style=\"text-align: right;\">\n",
       "      <th></th>\n",
       "      <th>Unnamed: 0</th>\n",
       "      <th>date</th>\n",
       "      <th>time</th>\n",
       "      <th>globalpower</th>\n",
       "      <th>voltage</th>\n",
       "      <th>globintensity</th>\n",
       "      <th>submetering1</th>\n",
       "      <th>submetering2</th>\n",
       "      <th>submetering3</th>\n",
       "      <th>hour</th>\n",
       "    </tr>\n",
       "  </thead>\n",
       "  <tbody>\n",
       "    <tr>\n",
       "      <th>4</th>\n",
       "      <td>1600240</td>\n",
       "      <td>1/1/2010</td>\n",
       "      <td>00:04:00</td>\n",
       "      <td>1.686</td>\n",
       "      <td>240.12</td>\n",
       "      <td>7.0</td>\n",
       "      <td>0.0</td>\n",
       "      <td>0.0</td>\n",
       "      <td>18.0</td>\n",
       "      <td>0</td>\n",
       "    </tr>\n",
       "  </tbody>\n",
       "</table>\n",
       "</div>"
      ],
      "text/plain": [
       "   Unnamed: 0      date      time  globalpower  voltage  globintensity  \\\n",
       "4     1600240  1/1/2010  00:04:00        1.686   240.12            7.0   \n",
       "\n",
       "   submetering1  submetering2  submetering3  hour  \n",
       "4           0.0           0.0          18.0     0  "
      ]
     },
     "execution_count": 52,
     "metadata": {},
     "output_type": "execute_result"
    }
   ],
   "source": [
    "power[4:5]"
   ]
  },
  {
   "cell_type": "code",
   "execution_count": 53,
   "metadata": {},
   "outputs": [
    {
     "data": {
      "text/plain": [
       "Unnamed: 0        1600240\n",
       "date             1/1/2010\n",
       "time             00:04:00\n",
       "globalpower         1.686\n",
       "voltage            240.12\n",
       "globintensity           7\n",
       "submetering1            0\n",
       "submetering2            0\n",
       "submetering3           18\n",
       "hour                    0\n",
       "Name: 4, dtype: object"
      ]
     },
     "execution_count": 53,
     "metadata": {},
     "output_type": "execute_result"
    }
   ],
   "source": [
    "power.iloc[4]"
   ]
  },
  {
   "cell_type": "code",
   "execution_count": 8,
   "metadata": {},
   "outputs": [],
   "source": [
    "hours=[]\n",
    "#for i in range(10):#zum Testen\n",
    "for i in power.index:\n",
    "    #print(power.iloc[i].time)\n",
    "    hour=datetime.strptime(power.iloc[i].time,\"%H:%M:%S\").hour\n",
    "    hours.append(hour)"
   ]
  },
  {
   "cell_type": "code",
   "execution_count": 55,
   "metadata": {},
   "outputs": [
    {
     "data": {
      "text/plain": [
       "475023"
      ]
     },
     "execution_count": 55,
     "metadata": {},
     "output_type": "execute_result"
    }
   ],
   "source": [
    "len(hours)"
   ]
  },
  {
   "cell_type": "code",
   "execution_count": 9,
   "metadata": {},
   "outputs": [],
   "source": [
    "power[\"hour\"]=hours"
   ]
  },
  {
   "cell_type": "code",
   "execution_count": 20,
   "metadata": {},
   "outputs": [
    {
     "data": {
      "text/html": [
       "<div>\n",
       "<style scoped>\n",
       "    .dataframe tbody tr th:only-of-type {\n",
       "        vertical-align: middle;\n",
       "    }\n",
       "\n",
       "    .dataframe tbody tr th {\n",
       "        vertical-align: top;\n",
       "    }\n",
       "\n",
       "    .dataframe thead th {\n",
       "        text-align: right;\n",
       "    }\n",
       "</style>\n",
       "<table border=\"1\" class=\"dataframe\">\n",
       "  <thead>\n",
       "    <tr style=\"text-align: right;\">\n",
       "      <th></th>\n",
       "      <th>Unnamed: 0</th>\n",
       "      <th>date</th>\n",
       "      <th>time</th>\n",
       "      <th>globalpower</th>\n",
       "      <th>voltage</th>\n",
       "      <th>globintensity</th>\n",
       "      <th>submetering1</th>\n",
       "      <th>submetering2</th>\n",
       "      <th>submetering3</th>\n",
       "      <th>hour</th>\n",
       "    </tr>\n",
       "  </thead>\n",
       "  <tbody>\n",
       "    <tr>\n",
       "      <th>0</th>\n",
       "      <td>1600236</td>\n",
       "      <td>1/1/2010</td>\n",
       "      <td>00:00:00</td>\n",
       "      <td>1.790</td>\n",
       "      <td>240.65</td>\n",
       "      <td>7.4</td>\n",
       "      <td>0.0</td>\n",
       "      <td>0.0</td>\n",
       "      <td>18.0</td>\n",
       "      <td>0</td>\n",
       "    </tr>\n",
       "    <tr>\n",
       "      <th>1</th>\n",
       "      <td>1600237</td>\n",
       "      <td>1/1/2010</td>\n",
       "      <td>00:01:00</td>\n",
       "      <td>1.780</td>\n",
       "      <td>240.07</td>\n",
       "      <td>7.4</td>\n",
       "      <td>0.0</td>\n",
       "      <td>0.0</td>\n",
       "      <td>18.0</td>\n",
       "      <td>0</td>\n",
       "    </tr>\n",
       "    <tr>\n",
       "      <th>2</th>\n",
       "      <td>1600238</td>\n",
       "      <td>1/1/2010</td>\n",
       "      <td>00:02:00</td>\n",
       "      <td>1.780</td>\n",
       "      <td>240.15</td>\n",
       "      <td>7.4</td>\n",
       "      <td>0.0</td>\n",
       "      <td>0.0</td>\n",
       "      <td>19.0</td>\n",
       "      <td>0</td>\n",
       "    </tr>\n",
       "    <tr>\n",
       "      <th>3</th>\n",
       "      <td>1600239</td>\n",
       "      <td>1/1/2010</td>\n",
       "      <td>00:03:00</td>\n",
       "      <td>1.746</td>\n",
       "      <td>240.26</td>\n",
       "      <td>7.2</td>\n",
       "      <td>0.0</td>\n",
       "      <td>0.0</td>\n",
       "      <td>18.0</td>\n",
       "      <td>0</td>\n",
       "    </tr>\n",
       "    <tr>\n",
       "      <th>4</th>\n",
       "      <td>1600240</td>\n",
       "      <td>1/1/2010</td>\n",
       "      <td>00:04:00</td>\n",
       "      <td>1.686</td>\n",
       "      <td>240.12</td>\n",
       "      <td>7.0</td>\n",
       "      <td>0.0</td>\n",
       "      <td>0.0</td>\n",
       "      <td>18.0</td>\n",
       "      <td>0</td>\n",
       "    </tr>\n",
       "  </tbody>\n",
       "</table>\n",
       "</div>"
      ],
      "text/plain": [
       "   Unnamed: 0      date      time  globalpower  voltage  globintensity  \\\n",
       "0     1600236  1/1/2010  00:00:00        1.790   240.65            7.4   \n",
       "1     1600237  1/1/2010  00:01:00        1.780   240.07            7.4   \n",
       "2     1600238  1/1/2010  00:02:00        1.780   240.15            7.4   \n",
       "3     1600239  1/1/2010  00:03:00        1.746   240.26            7.2   \n",
       "4     1600240  1/1/2010  00:04:00        1.686   240.12            7.0   \n",
       "\n",
       "   submetering1  submetering2  submetering3  hour  \n",
       "0           0.0           0.0          18.0     0  \n",
       "1           0.0           0.0          18.0     0  \n",
       "2           0.0           0.0          19.0     0  \n",
       "3           0.0           0.0          18.0     0  \n",
       "4           0.0           0.0          18.0     0  "
      ]
     },
     "execution_count": 20,
     "metadata": {},
     "output_type": "execute_result"
    }
   ],
   "source": [
    "power.head()"
   ]
  },
  {
   "cell_type": "code",
   "execution_count": 12,
   "metadata": {},
   "outputs": [],
   "source": [
    "powerHours=power.groupby(\"hour\")"
   ]
  },
  {
   "cell_type": "code",
   "execution_count": 26,
   "metadata": {},
   "outputs": [
    {
     "data": {
      "text/html": [
       "<div>\n",
       "<style scoped>\n",
       "    .dataframe tbody tr th:only-of-type {\n",
       "        vertical-align: middle;\n",
       "    }\n",
       "\n",
       "    .dataframe tbody tr th {\n",
       "        vertical-align: top;\n",
       "    }\n",
       "\n",
       "    .dataframe thead th {\n",
       "        text-align: right;\n",
       "    }\n",
       "</style>\n",
       "<table border=\"1\" class=\"dataframe\">\n",
       "  <thead>\n",
       "    <tr style=\"text-align: right;\">\n",
       "      <th></th>\n",
       "      <th>Unnamed: 0</th>\n",
       "      <th>date</th>\n",
       "      <th>time</th>\n",
       "      <th>globalpower</th>\n",
       "      <th>voltage</th>\n",
       "      <th>globintensity</th>\n",
       "      <th>submetering1</th>\n",
       "      <th>submetering2</th>\n",
       "      <th>submetering3</th>\n",
       "      <th>hour</th>\n",
       "    </tr>\n",
       "  </thead>\n",
       "  <tbody>\n",
       "    <tr>\n",
       "      <th>0</th>\n",
       "      <td>1600236</td>\n",
       "      <td>1/1/2010</td>\n",
       "      <td>00:00:00</td>\n",
       "      <td>1.790</td>\n",
       "      <td>240.65</td>\n",
       "      <td>7.4</td>\n",
       "      <td>0.0</td>\n",
       "      <td>0.0</td>\n",
       "      <td>18.0</td>\n",
       "      <td>0</td>\n",
       "    </tr>\n",
       "    <tr>\n",
       "      <th>1</th>\n",
       "      <td>1600237</td>\n",
       "      <td>1/1/2010</td>\n",
       "      <td>00:01:00</td>\n",
       "      <td>1.780</td>\n",
       "      <td>240.07</td>\n",
       "      <td>7.4</td>\n",
       "      <td>0.0</td>\n",
       "      <td>0.0</td>\n",
       "      <td>18.0</td>\n",
       "      <td>0</td>\n",
       "    </tr>\n",
       "    <tr>\n",
       "      <th>2</th>\n",
       "      <td>1600238</td>\n",
       "      <td>1/1/2010</td>\n",
       "      <td>00:02:00</td>\n",
       "      <td>1.780</td>\n",
       "      <td>240.15</td>\n",
       "      <td>7.4</td>\n",
       "      <td>0.0</td>\n",
       "      <td>0.0</td>\n",
       "      <td>19.0</td>\n",
       "      <td>0</td>\n",
       "    </tr>\n",
       "    <tr>\n",
       "      <th>3</th>\n",
       "      <td>1600239</td>\n",
       "      <td>1/1/2010</td>\n",
       "      <td>00:03:00</td>\n",
       "      <td>1.746</td>\n",
       "      <td>240.26</td>\n",
       "      <td>7.2</td>\n",
       "      <td>0.0</td>\n",
       "      <td>0.0</td>\n",
       "      <td>18.0</td>\n",
       "      <td>0</td>\n",
       "    </tr>\n",
       "    <tr>\n",
       "      <th>4</th>\n",
       "      <td>1600240</td>\n",
       "      <td>1/1/2010</td>\n",
       "      <td>00:04:00</td>\n",
       "      <td>1.686</td>\n",
       "      <td>240.12</td>\n",
       "      <td>7.0</td>\n",
       "      <td>0.0</td>\n",
       "      <td>0.0</td>\n",
       "      <td>18.0</td>\n",
       "      <td>0</td>\n",
       "    </tr>\n",
       "    <tr>\n",
       "      <th>...</th>\n",
       "      <td>...</td>\n",
       "      <td>...</td>\n",
       "      <td>...</td>\n",
       "      <td>...</td>\n",
       "      <td>...</td>\n",
       "      <td>...</td>\n",
       "      <td>...</td>\n",
       "      <td>...</td>\n",
       "      <td>...</td>\n",
       "      <td>...</td>\n",
       "    </tr>\n",
       "    <tr>\n",
       "      <th>1385</th>\n",
       "      <td>1601621</td>\n",
       "      <td>1/1/2010</td>\n",
       "      <td>23:05:00</td>\n",
       "      <td>0.542</td>\n",
       "      <td>245.43</td>\n",
       "      <td>2.4</td>\n",
       "      <td>0.0</td>\n",
       "      <td>0.0</td>\n",
       "      <td>1.0</td>\n",
       "      <td>23</td>\n",
       "    </tr>\n",
       "    <tr>\n",
       "      <th>1386</th>\n",
       "      <td>1601622</td>\n",
       "      <td>1/1/2010</td>\n",
       "      <td>23:06:00</td>\n",
       "      <td>0.538</td>\n",
       "      <td>245.23</td>\n",
       "      <td>2.4</td>\n",
       "      <td>0.0</td>\n",
       "      <td>0.0</td>\n",
       "      <td>0.0</td>\n",
       "      <td>23</td>\n",
       "    </tr>\n",
       "    <tr>\n",
       "      <th>1387</th>\n",
       "      <td>1601623</td>\n",
       "      <td>1/1/2010</td>\n",
       "      <td>23:07:00</td>\n",
       "      <td>0.538</td>\n",
       "      <td>245.75</td>\n",
       "      <td>2.4</td>\n",
       "      <td>0.0</td>\n",
       "      <td>0.0</td>\n",
       "      <td>1.0</td>\n",
       "      <td>23</td>\n",
       "    </tr>\n",
       "    <tr>\n",
       "      <th>1388</th>\n",
       "      <td>1601624</td>\n",
       "      <td>1/1/2010</td>\n",
       "      <td>23:08:00</td>\n",
       "      <td>0.538</td>\n",
       "      <td>246.16</td>\n",
       "      <td>2.4</td>\n",
       "      <td>0.0</td>\n",
       "      <td>0.0</td>\n",
       "      <td>1.0</td>\n",
       "      <td>23</td>\n",
       "    </tr>\n",
       "    <tr>\n",
       "      <th>1389</th>\n",
       "      <td>1601625</td>\n",
       "      <td>1/1/2010</td>\n",
       "      <td>23:09:00</td>\n",
       "      <td>0.538</td>\n",
       "      <td>246.83</td>\n",
       "      <td>2.4</td>\n",
       "      <td>0.0</td>\n",
       "      <td>0.0</td>\n",
       "      <td>0.0</td>\n",
       "      <td>23</td>\n",
       "    </tr>\n",
       "  </tbody>\n",
       "</table>\n",
       "<p>240 rows × 10 columns</p>\n",
       "</div>"
      ],
      "text/plain": [
       "      Unnamed: 0      date      time  globalpower  voltage  globintensity  \\\n",
       "0        1600236  1/1/2010  00:00:00        1.790   240.65            7.4   \n",
       "1        1600237  1/1/2010  00:01:00        1.780   240.07            7.4   \n",
       "2        1600238  1/1/2010  00:02:00        1.780   240.15            7.4   \n",
       "3        1600239  1/1/2010  00:03:00        1.746   240.26            7.2   \n",
       "4        1600240  1/1/2010  00:04:00        1.686   240.12            7.0   \n",
       "...          ...       ...       ...          ...      ...            ...   \n",
       "1385     1601621  1/1/2010  23:05:00        0.542   245.43            2.4   \n",
       "1386     1601622  1/1/2010  23:06:00        0.538   245.23            2.4   \n",
       "1387     1601623  1/1/2010  23:07:00        0.538   245.75            2.4   \n",
       "1388     1601624  1/1/2010  23:08:00        0.538   246.16            2.4   \n",
       "1389     1601625  1/1/2010  23:09:00        0.538   246.83            2.4   \n",
       "\n",
       "      submetering1  submetering2  submetering3  hour  \n",
       "0              0.0           0.0          18.0     0  \n",
       "1              0.0           0.0          18.0     0  \n",
       "2              0.0           0.0          19.0     0  \n",
       "3              0.0           0.0          18.0     0  \n",
       "4              0.0           0.0          18.0     0  \n",
       "...            ...           ...           ...   ...  \n",
       "1385           0.0           0.0           1.0    23  \n",
       "1386           0.0           0.0           0.0    23  \n",
       "1387           0.0           0.0           1.0    23  \n",
       "1388           0.0           0.0           1.0    23  \n",
       "1389           0.0           0.0           0.0    23  \n",
       "\n",
       "[240 rows x 10 columns]"
      ]
     },
     "execution_count": 26,
     "metadata": {},
     "output_type": "execute_result"
    }
   ],
   "source": [
    "powerHours.head(10)"
   ]
  },
  {
   "cell_type": "code",
   "execution_count": 18,
   "metadata": {},
   "outputs": [
    {
     "data": {
      "text/plain": [
       "24"
      ]
     },
     "execution_count": 18,
     "metadata": {},
     "output_type": "execute_result"
    }
   ],
   "source": [
    "len(powerHours)"
   ]
  },
  {
   "cell_type": "code",
   "execution_count": 15,
   "metadata": {
    "collapsed": true
   },
   "outputs": [
    {
     "name": "stdout",
     "output_type": "stream",
     "text": [
      "0\n",
      "1\n",
      "2\n",
      "3\n",
      "4\n",
      "5\n",
      "6\n",
      "7\n",
      "8\n",
      "9\n",
      "10\n",
      "11\n",
      "12\n",
      "13\n",
      "14\n",
      "15\n",
      "16\n",
      "17\n",
      "18\n",
      "19\n",
      "20\n",
      "21\n",
      "22\n",
      "23\n"
     ]
    }
   ],
   "source": [
    "means=[]\n",
    "stds=[]\n",
    "for key,df in powerHours:\n",
    "    print(key)\n",
    "    means.append(df.globintensity.mean())\n",
    "    stds.append(df.globintensity.std())"
   ]
  },
  {
   "cell_type": "code",
   "execution_count": 27,
   "metadata": {},
   "outputs": [],
   "source": [
    "import numpy as n\n",
    "errorbars=n.array([n.zeros(len(means)),stds])\n",
    "x=n.arange(len(means))"
   ]
  },
  {
   "cell_type": "code",
   "execution_count": 29,
   "metadata": {},
   "outputs": [
    {
     "data": {
      "text/plain": [
       "[2.848265412748128,\n",
       " 2.4179101358411645,\n",
       " 2.2405956112852503,\n",
       " 1.968904224173924,\n",
       " 1.911924290220728,\n",
       " 1.8980862250262376,\n",
       " 3.1094274146905168,\n",
       " 6.244134812555961,\n",
       " 5.7841324921137325,\n",
       " 5.5510410094638685,\n",
       " 5.422944269190412,\n",
       " 5.47513144058895,\n",
       " 5.345878023133645,\n",
       " 4.9868494301770205,\n",
       " 4.709070889261619,\n",
       " 4.295231084704626,\n",
       " 3.8910400673045884,\n",
       " 4.234249960565649,\n",
       " 5.239896945160076,\n",
       " 6.5332496732026515,\n",
       " 7.1690491118078254,\n",
       " 7.071645237470565,\n",
       " 5.5038784067087185,\n",
       " 3.646383647798661]"
      ]
     },
     "execution_count": 29,
     "metadata": {},
     "output_type": "execute_result"
    }
   ],
   "source": [
    "means"
   ]
  },
  {
   "cell_type": "code",
   "execution_count": 32,
   "metadata": {},
   "outputs": [
    {
     "data": {
      "text/plain": [
       "Text(0.5, 0, 'Stunden eines Tages')"
      ]
     },
     "execution_count": 32,
     "metadata": {},
     "output_type": "execute_result"
    },
    {
     "data": {
      "image/png": "[encoded data removed]",
      "text/plain": [
       "<Figure size 720x432 with 1 Axes>"
      ]
     },
     "metadata": {
      "needs_background": "light"
     },
     "output_type": "display_data"
    }
   ],
   "source": [
    "figure,axis=pp.subplots(figsize=(10,6))\n",
    "axis.bar(x=x,height=means,width=0.6,yerr=errorbars,capsize=4,color=\"lightgray\"\n",
    ",edgecolor=\"gray\",ecolor=\"gray\")\n",
    "axis.set_ylabel(\"durchn. Stromverbrauch (globintensity) in Ampere\")\n",
    "axis.set_xlabel(\"Stunden eines Tages\")"
   ]
  }
 ],
 "metadata": {
  "kernelspec": {
   "display_name": "Python 3",
   "language": "python",
   "name": "python3"
  },
  "language_info": {
   "codemirror_mode": {
    "name": "ipython",
    "version": 3
   },
   "file_extension": ".py",
   "mimetype": "text/x-python",
   "name": "python",
   "nbconvert_exporter": "python",
   "pygments_lexer": "ipython3",
   "version": "3.7.7"
  }
 },
 "nbformat": 4,
 "nbformat_minor": 4
}
