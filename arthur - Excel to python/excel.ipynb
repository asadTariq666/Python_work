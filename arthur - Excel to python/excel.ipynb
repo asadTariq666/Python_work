{
 "cells": [
  {
   "cell_type": "code",
   "execution_count": 1,
   "metadata": {},
   "outputs": [],
   "source": [
    "# Importing Libraries\n",
    "import pandas as pd \n",
    "import numpy as np"
   ]
  },
  {
   "cell_type": "code",
   "execution_count": 5,
   "metadata": {},
   "outputs": [
    {
     "data": {
      "text/html": [
       "<div>\n",
       "<style scoped>\n",
       "    .dataframe tbody tr th:only-of-type {\n",
       "        vertical-align: middle;\n",
       "    }\n",
       "\n",
       "    .dataframe tbody tr th {\n",
       "        vertical-align: top;\n",
       "    }\n",
       "\n",
       "    .dataframe thead th {\n",
       "        text-align: right;\n",
       "    }\n",
       "</style>\n",
       "<table border=\"1\" class=\"dataframe\">\n",
       "  <thead>\n",
       "    <tr style=\"text-align: right;\">\n",
       "      <th></th>\n",
       "      <th>Date</th>\n",
       "      <th>Time</th>\n",
       "      <th>Open</th>\n",
       "      <th>High</th>\n",
       "      <th>Low</th>\n",
       "      <th>Last</th>\n",
       "      <th>ATR</th>\n",
       "      <th>FractalSell</th>\n",
       "      <th>FractalWk</th>\n",
       "      <th>OpenTrade</th>\n",
       "      <th>StopLoss</th>\n",
       "      <th>TakeProfit</th>\n",
       "      <th>Close Trade</th>\n",
       "    </tr>\n",
       "  </thead>\n",
       "  <tbody>\n",
       "    <tr>\n",
       "      <th>0</th>\n",
       "      <td>'2007/12/3'</td>\n",
       "      <td>'00:00:00.0'</td>\n",
       "      <td>2.05389</td>\n",
       "      <td>2.06793</td>\n",
       "      <td>2.01811</td>\n",
       "      <td>2.03040</td>\n",
       "      <td>0.04982</td>\n",
       "      <td>0.0</td>\n",
       "      <td>NaN</td>\n",
       "      <td>2.05389</td>\n",
       "      <td>0.0</td>\n",
       "      <td>6.16167</td>\n",
       "      <td>0.0</td>\n",
       "    </tr>\n",
       "    <tr>\n",
       "      <th>1</th>\n",
       "      <td>'2007/12/10'</td>\n",
       "      <td>'00:00:00.0'</td>\n",
       "      <td>2.03025</td>\n",
       "      <td>2.05785</td>\n",
       "      <td>2.01483</td>\n",
       "      <td>2.01776</td>\n",
       "      <td>0.04642</td>\n",
       "      <td>0.0</td>\n",
       "      <td>0.0</td>\n",
       "      <td>2.05389</td>\n",
       "      <td>0.0</td>\n",
       "      <td>6.16167</td>\n",
       "      <td>0.0</td>\n",
       "    </tr>\n",
       "    <tr>\n",
       "      <th>2</th>\n",
       "      <td>'2007/12/17'</td>\n",
       "      <td>'00:00:00.0'</td>\n",
       "      <td>2.01475</td>\n",
       "      <td>2.02285</td>\n",
       "      <td>1.98105</td>\n",
       "      <td>1.98357</td>\n",
       "      <td>0.04488</td>\n",
       "      <td>0.0</td>\n",
       "      <td>0.0</td>\n",
       "      <td>2.05389</td>\n",
       "      <td>0.0</td>\n",
       "      <td>6.16167</td>\n",
       "      <td>0.0</td>\n",
       "    </tr>\n",
       "    <tr>\n",
       "      <th>3</th>\n",
       "      <td>'2007/12/24'</td>\n",
       "      <td>'00:00:00.0'</td>\n",
       "      <td>1.98365</td>\n",
       "      <td>2.00234</td>\n",
       "      <td>1.97565</td>\n",
       "      <td>1.99696</td>\n",
       "      <td>0.04033</td>\n",
       "      <td>0.0</td>\n",
       "      <td>0.0</td>\n",
       "      <td>2.05389</td>\n",
       "      <td>0.0</td>\n",
       "      <td>6.16167</td>\n",
       "      <td>0.0</td>\n",
       "    </tr>\n",
       "    <tr>\n",
       "      <th>4</th>\n",
       "      <td>'2007/12/31'</td>\n",
       "      <td>'00:00:00.0'</td>\n",
       "      <td>1.99488</td>\n",
       "      <td>2.01028</td>\n",
       "      <td>1.96738</td>\n",
       "      <td>1.97374</td>\n",
       "      <td>0.04085</td>\n",
       "      <td>0.0</td>\n",
       "      <td>0.0</td>\n",
       "      <td>2.05389</td>\n",
       "      <td>0.0</td>\n",
       "      <td>6.16167</td>\n",
       "      <td>0.0</td>\n",
       "    </tr>\n",
       "  </tbody>\n",
       "</table>\n",
       "</div>"
      ],
      "text/plain": [
       "            Date           Time     Open     High      Low     Last      ATR  \\\n",
       "0    '2007/12/3'   '00:00:00.0'  2.05389  2.06793  2.01811  2.03040  0.04982   \n",
       "1   '2007/12/10'   '00:00:00.0'  2.03025  2.05785  2.01483  2.01776  0.04642   \n",
       "2   '2007/12/17'   '00:00:00.0'  2.01475  2.02285  1.98105  1.98357  0.04488   \n",
       "3   '2007/12/24'   '00:00:00.0'  1.98365  2.00234  1.97565  1.99696  0.04033   \n",
       "4   '2007/12/31'   '00:00:00.0'  1.99488  2.01028  1.96738  1.97374  0.04085   \n",
       "\n",
       "   FractalSell  FractalWk  OpenTrade  StopLoss  TakeProfit  Close Trade  \n",
       "0          0.0        NaN    2.05389       0.0     6.16167          0.0  \n",
       "1          0.0        0.0    2.05389       0.0     6.16167          0.0  \n",
       "2          0.0        0.0    2.05389       0.0     6.16167          0.0  \n",
       "3          0.0        0.0    2.05389       0.0     6.16167          0.0  \n",
       "4          0.0        0.0    2.05389       0.0     6.16167          0.0  "
      ]
     },
     "execution_count": 5,
     "metadata": {},
     "output_type": "execute_result"
    }
   ],
   "source": [
    "df = pd.read_excel(\"Data Example.xlsx\")\n",
    "df.head()"
   ]
  },
  {
   "cell_type": "code",
   "execution_count": 6,
   "metadata": {},
   "outputs": [
    {
     "data": {
      "text/html": [
       "<div>\n",
       "<style scoped>\n",
       "    .dataframe tbody tr th:only-of-type {\n",
       "        vertical-align: middle;\n",
       "    }\n",
       "\n",
       "    .dataframe tbody tr th {\n",
       "        vertical-align: top;\n",
       "    }\n",
       "\n",
       "    .dataframe thead th {\n",
       "        text-align: right;\n",
       "    }\n",
       "</style>\n",
       "<table border=\"1\" class=\"dataframe\">\n",
       "  <thead>\n",
       "    <tr style=\"text-align: right;\">\n",
       "      <th></th>\n",
       "      <th>Open</th>\n",
       "      <th>High</th>\n",
       "      <th>Low</th>\n",
       "      <th>Last</th>\n",
       "      <th>ATR</th>\n",
       "      <th>FractalSell</th>\n",
       "      <th>FractalWk</th>\n",
       "    </tr>\n",
       "  </thead>\n",
       "  <tbody>\n",
       "    <tr>\n",
       "      <th>0</th>\n",
       "      <td>2.05389</td>\n",
       "      <td>2.06793</td>\n",
       "      <td>2.01811</td>\n",
       "      <td>2.03040</td>\n",
       "      <td>0.04982</td>\n",
       "      <td>0.0</td>\n",
       "      <td>NaN</td>\n",
       "    </tr>\n",
       "    <tr>\n",
       "      <th>1</th>\n",
       "      <td>2.03025</td>\n",
       "      <td>2.05785</td>\n",
       "      <td>2.01483</td>\n",
       "      <td>2.01776</td>\n",
       "      <td>0.04642</td>\n",
       "      <td>0.0</td>\n",
       "      <td>0.0</td>\n",
       "    </tr>\n",
       "    <tr>\n",
       "      <th>2</th>\n",
       "      <td>2.01475</td>\n",
       "      <td>2.02285</td>\n",
       "      <td>1.98105</td>\n",
       "      <td>1.98357</td>\n",
       "      <td>0.04488</td>\n",
       "      <td>0.0</td>\n",
       "      <td>0.0</td>\n",
       "    </tr>\n",
       "    <tr>\n",
       "      <th>3</th>\n",
       "      <td>1.98365</td>\n",
       "      <td>2.00234</td>\n",
       "      <td>1.97565</td>\n",
       "      <td>1.99696</td>\n",
       "      <td>0.04033</td>\n",
       "      <td>0.0</td>\n",
       "      <td>0.0</td>\n",
       "    </tr>\n",
       "    <tr>\n",
       "      <th>4</th>\n",
       "      <td>1.99488</td>\n",
       "      <td>2.01028</td>\n",
       "      <td>1.96738</td>\n",
       "      <td>1.97374</td>\n",
       "      <td>0.04085</td>\n",
       "      <td>0.0</td>\n",
       "      <td>0.0</td>\n",
       "    </tr>\n",
       "  </tbody>\n",
       "</table>\n",
       "</div>"
      ],
      "text/plain": [
       "      Open     High      Low     Last      ATR  FractalSell  FractalWk\n",
       "0  2.05389  2.06793  2.01811  2.03040  0.04982          0.0        NaN\n",
       "1  2.03025  2.05785  2.01483  2.01776  0.04642          0.0        0.0\n",
       "2  2.01475  2.02285  1.98105  1.98357  0.04488          0.0        0.0\n",
       "3  1.98365  2.00234  1.97565  1.99696  0.04033          0.0        0.0\n",
       "4  1.99488  2.01028  1.96738  1.97374  0.04085          0.0        0.0"
      ]
     },
     "execution_count": 6,
     "metadata": {},
     "output_type": "execute_result"
    }
   ],
   "source": [
    "df = df.iloc[:,2:9]\n",
    "df.head()"
   ]
  },
  {
   "cell_type": "code",
   "execution_count": 8,
   "metadata": {},
   "outputs": [
    {
     "data": {
      "text/plain": [
       "(594, 594, 594, 594, 594, 594, 594)"
      ]
     },
     "execution_count": 8,
     "metadata": {},
     "output_type": "execute_result"
    }
   ],
   "source": [
    "Open = df['Open']\n",
    "High = df['High']\n",
    "Low = df['Low']\n",
    "Last = df['Last']\n",
    "ATR = df['ATR']\n",
    "FractalSell = df['FractalSell']\n",
    "FractalWk = df['FractalWk']\n",
    "len(Open),len(High),len(Low),len(Last),len(ATR),len(FractalSell),len(FractalWk)"
   ]
  },
  {
   "cell_type": "markdown",
   "metadata": {},
   "source": [
    "The StopLoss column equals the current FractalWk column if the previous row of the CloseTrade column is not zero otherwise it equals the previous value in its own column\n",
    "\n",
    "\n",
    "the Take Profit equals the distance away from OpenTrade and StopLoss times two added to OpenTrade if the previous row of the CloseTrade column is not zero otherwise it equals the previous value in its own column\n",
    "\n",
    "\n",
    "CloseTrade column equals StopLoss minus OpenTrade if current Low column is lower than StopLoss else if High is greater than TakeProfit then it equals TakeProfit mnus OpenTrade else it equals zero."
   ]
  },
  {
   "cell_type": "code",
   "execution_count": 21,
   "metadata": {},
   "outputs": [],
   "source": [
    "OpenTrade = []\n",
    "Stoploss = []\n",
    "TakeProfit = []\n",
    "CloseTrade = []\n",
    "\n",
    "for i in range(len(Open)):\n",
    "    if i==0:\n",
    "        OpenTrade.append(Open[i])\n",
    "        Stoploss.append(0)\n",
    "        TakeProfit.append(OpenTrade[i] + ((OpenTrade[i] - 0) *2))\n",
    "        CloseTrade.append(0)\n",
    "        #print(OpenTrade,Stoploss,TakeProfit,CloseTrade)\n",
    "        \n",
    "    else: \n",
    "        if CloseTrade[i-1] != 0:\n",
    "            OpenTrade.append(Open[i])\n",
    "            Stoploss.append(FractalWk[i])\n",
    "            TakeProfit.append(OpenTrade[i] + ((OpenTrade[i] - Stoploss[i]) *2))\n",
    "        else:\n",
    "            OpenTrade.append(OpenTrade[i-1])\n",
    "            Stoploss.append(Stoploss[i-1])\n",
    "            TakeProfit.append(TakeProfit[i-1])\n",
    "\n",
    "        if Low[i]< Stoploss[i]:\n",
    "            CloseTrade.append(Stoploss[i]-OpenTrade[i])\n",
    "        elif High[i]> TakeProfit[i]:\n",
    "            CloseTrade.append(TakeProfit[i]-OpenTrade[i])\n",
    "        else:\n",
    "            CloseTrade.append(0)\n",
    "\n",
    "        if (i ==50):\n",
    "            break\n",
    "        "
   ]
  },
  {
   "cell_type": "code",
   "execution_count": 22,
   "metadata": {},
   "outputs": [
    {
     "name": "stdout",
     "output_type": "stream",
     "text": [
      "[2.05389, 2.05389, 2.05389, 2.05389, 2.05389, 2.05389, 2.05389, 2.05389, 2.05389, 2.05389, 2.05389, 2.05389, 2.05389, 2.05389, 2.05389, 2.05389, 2.05389, 2.05389, 2.05389, 2.05389, 2.05389, 2.05389, 2.05389, 2.05389, 2.05389, 2.05389, 2.05389, 2.05389, 2.05389, 2.05389, 2.05389, 2.05389, 2.05389, 2.05389, 2.05389, 2.05389, 2.05389, 2.05389, 2.05389, 2.05389, 2.05389, 2.05389, 2.05389, 2.05389, 2.05389, 2.05389, 2.05389, 2.05389, 2.05389, 2.05389, 2.05389] [0, 0, 0, 0, 0, 0, 0, 0, 0, 0, 0, 0, 0, 0, 0, 0, 0, 0, 0, 0, 0, 0, 0, 0, 0, 0, 0, 0, 0, 0, 0, 0, 0, 0, 0, 0, 0, 0, 0, 0, 0, 0, 0, 0, 0, 0, 0, 0, 0, 0, 0] [6.16167, 6.16167, 6.16167, 6.16167, 6.16167, 6.16167, 6.16167, 6.16167, 6.16167, 6.16167, 6.16167, 6.16167, 6.16167, 6.16167, 6.16167, 6.16167, 6.16167, 6.16167, 6.16167, 6.16167, 6.16167, 6.16167, 6.16167, 6.16167, 6.16167, 6.16167, 6.16167, 6.16167, 6.16167, 6.16167, 6.16167, 6.16167, 6.16167, 6.16167, 6.16167, 6.16167, 6.16167, 6.16167, 6.16167, 6.16167, 6.16167, 6.16167, 6.16167, 6.16167, 6.16167, 6.16167, 6.16167, 6.16167, 6.16167, 6.16167, 6.16167] [0, 0, 0, 0, 0, 0, 0, 0, 0, 0, 0, 0, 0, 0, 0, 0, 0, 0, 0, 0, 0, 0, 0, 0, 0, 0, 0, 0, 0, 0, 0, 0, 0, 0, 0, 0, 0, 0, 0, 0, 0, 0, 0, 0, 0, 0, 0, 0, 0, 0, 0]\n"
     ]
    }
   ],
   "source": [
    "print(OpenTrade,Stoploss,TakeProfit,CloseTrade)"
   ]
  },
  {
   "cell_type": "code",
   "execution_count": 13,
   "metadata": {},
   "outputs": [
    {
     "data": {
      "text/plain": [
       "2.05389"
      ]
     },
     "execution_count": 13,
     "metadata": {},
     "output_type": "execute_result"
    }
   ],
   "source": [
    "OpenTrade[0]"
   ]
  }
 ],
 "metadata": {
  "interpreter": {
   "hash": "f293f16398db128e85df277de8eb5f9ab0a1b28857fa0f1c8543245825f1b931"
  },
  "kernelspec": {
   "display_name": "Python 3.7.7 ('pythonProject')",
   "language": "python",
   "name": "python3"
  },
  "language_info": {
   "codemirror_mode": {
    "name": "ipython",
    "version": 3
   },
   "file_extension": ".py",
   "mimetype": "text/x-python",
   "name": "python",
   "nbconvert_exporter": "python",
   "pygments_lexer": "ipython3",
   "version": "3.7.7"
  },
  "orig_nbformat": 4
 },
 "nbformat": 4,
 "nbformat_minor": 2
}
