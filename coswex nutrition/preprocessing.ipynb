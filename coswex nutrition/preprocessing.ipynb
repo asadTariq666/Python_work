{
 "cells": [
  {
   "cell_type": "code",
   "execution_count": 1,
   "metadata": {
    "colab": {
     "base_uri": "https://localhost:8080/"
    },
    "id": "cqCZIUgy2C4p",
    "outputId": "4c69f274-0c06-474a-9bfe-f0f3c1f7ae26"
   },
   "outputs": [],
   "source": [
    "# Importing Libraries\n",
    "import pandas as pd \n",
    "import numpy as np\n",
    "import seaborn as sns\n",
    "import matplotlib.pyplot as plt\n",
    "\n",
    "\n"
   ]
  },
  {
   "cell_type": "code",
   "execution_count": 2,
   "metadata": {},
   "outputs": [
    {
     "name": "stdout",
     "output_type": "stream",
     "text": [
      "   YearStart  YearEnd LocationAbbr LocationDesc  \\\n",
      "0       2014     2014           GU         Guam   \n",
      "1       2013     2013           US     National   \n",
      "2       2013     2013           US     National   \n",
      "3       2015     2015           US     National   \n",
      "4       2015     2015           GU         Guam   \n",
      "\n",
      "                                   Datasource                    Class  \\\n",
      "0  Behavioral Risk Factor Surveillance System  Obesity / Weight Status   \n",
      "1  Behavioral Risk Factor Surveillance System  Obesity / Weight Status   \n",
      "2  Behavioral Risk Factor Surveillance System  Obesity / Weight Status   \n",
      "3  Behavioral Risk Factor Surveillance System        Physical Activity   \n",
      "4  Behavioral Risk Factor Surveillance System        Physical Activity   \n",
      "\n",
      "                          Topic  \\\n",
      "0       Obesity / Weight Status   \n",
      "1       Obesity / Weight Status   \n",
      "2       Obesity / Weight Status   \n",
      "3  Physical Activity - Behavior   \n",
      "4  Physical Activity - Behavior   \n",
      "\n",
      "                                            Question  Data_Value_Unit  \\\n",
      "0  Percent of adults aged 18 years and older who ...              NaN   \n",
      "1  Percent of adults aged 18 years and older who ...              NaN   \n",
      "2  Percent of adults aged 18 years and older who ...              NaN   \n",
      "3  Percent of adults who achieve at least 300 min...              NaN   \n",
      "4  Percent of adults who achieve at least 150 min...              NaN   \n",
      "\n",
      "  Data_Value_Type  ...              GeoLocation  ClassID TopicID QuestionID  \\\n",
      "0           Value  ...  (13.444304, 144.793731)      OWS    OWS1       Q036   \n",
      "1           Value  ...                      NaN      OWS    OWS1       Q036   \n",
      "2           Value  ...                      NaN      OWS    OWS1       Q037   \n",
      "3           Value  ...                      NaN       PA     PA1       Q045   \n",
      "4           Value  ...  (13.444304, 144.793731)       PA     PA1       Q044   \n",
      "\n",
      "   DataValueTypeID  LocationID  StratificationCategory1       Stratification1  \\\n",
      "0            VALUE          66                Education  High school graduate   \n",
      "1            VALUE          59                   Income     $50,000 - $74,999   \n",
      "2            VALUE          59                   Income     Data not reported   \n",
      "3            VALUE          59                   Income     Less than $15,000   \n",
      "4            VALUE          66           Race/Ethnicity              Hispanic   \n",
      "\n",
      "  StratificationCategoryId1 StratificationID1  \n",
      "0                       EDU         EDUHSGRAD  \n",
      "1                       INC           INC5075  \n",
      "2                       INC             INCNR  \n",
      "3                       INC         INCLESS15  \n",
      "4                      RACE           RACEHIS  \n",
      "\n",
      "[5 rows x 33 columns]\n"
     ]
    }
   ],
   "source": [
    "#reading data\n",
    "data = pd.read_csv('nutrition.csv')\n",
    "print(data.head(5))"
   ]
  },
  {
   "cell_type": "code",
   "execution_count": 4,
   "metadata": {},
   "outputs": [
    {
     "data": {
      "text/plain": [
       "(80929, 33)"
      ]
     },
     "execution_count": 4,
     "metadata": {},
     "output_type": "execute_result"
    }
   ],
   "source": [
    "data.shape"
   ]
  },
  {
   "cell_type": "code",
   "execution_count": 6,
   "metadata": {},
   "outputs": [
    {
     "name": "stdout",
     "output_type": "stream",
     "text": [
      "<class 'pandas.core.frame.DataFrame'>\n",
      "RangeIndex: 80929 entries, 0 to 80928\n",
      "Data columns (total 33 columns):\n",
      " #   Column                      Non-Null Count  Dtype  \n",
      "---  ------                      --------------  -----  \n",
      " 0   YearStart                   80929 non-null  int64  \n",
      " 1   YearEnd                     80929 non-null  int64  \n",
      " 2   LocationAbbr                80929 non-null  object \n",
      " 3   LocationDesc                80929 non-null  object \n",
      " 4   Datasource                  80929 non-null  object \n",
      " 5   Class                       80929 non-null  object \n",
      " 6   Topic                       80929 non-null  object \n",
      " 7   Question                    80929 non-null  object \n",
      " 8   Data_Value_Unit             0 non-null      float64\n",
      " 9   Data_Value_Type             80929 non-null  object \n",
      " 10  Data_Value                  72965 non-null  float64\n",
      " 11  Data_Value_Alt              72965 non-null  float64\n",
      " 12  Data_Value_Footnote_Symbol  7964 non-null   object \n",
      " 13  Data_Value_Footnote         7964 non-null   object \n",
      " 14  Low_Confidence_Limit        72965 non-null  float64\n",
      " 15  High_Confidence_Limit       72965 non-null  float64\n",
      " 16  Sample_Size                 72965 non-null  float64\n",
      " 17  Total                       2890 non-null   object \n",
      " 18  Age(years)                  17340 non-null  object \n",
      " 19  Education                   11560 non-null  object \n",
      " 20  Gender                      5780 non-null   object \n",
      " 21  Income                      20230 non-null  object \n",
      " 22  Race/Ethnicity              23120 non-null  object \n",
      " 23  GeoLocation                 79417 non-null  object \n",
      " 24  ClassID                     80929 non-null  object \n",
      " 25  TopicID                     80929 non-null  object \n",
      " 26  QuestionID                  80929 non-null  object \n",
      " 27  DataValueTypeID             80929 non-null  object \n",
      " 28  LocationID                  80929 non-null  int64  \n",
      " 29  StratificationCategory1     80920 non-null  object \n",
      " 30  Stratification1             80920 non-null  object \n",
      " 31  StratificationCategoryId1   80920 non-null  object \n",
      " 32  StratificationID1           80920 non-null  object \n",
      "dtypes: float64(6), int64(3), object(24)\n",
      "memory usage: 20.4+ MB\n"
     ]
    }
   ],
   "source": [
    "data.info()"
   ]
  }
 ],
 "metadata": {
  "interpreter": {
   "hash": "f293f16398db128e85df277de8eb5f9ab0a1b28857fa0f1c8543245825f1b931"
  },
  "kernelspec": {
   "display_name": "Python 3.7.7 ('pythonProject')",
   "language": "python",
   "name": "python3"
  },
  "language_info": {
   "codemirror_mode": {
    "name": "ipython",
    "version": 3
   },
   "file_extension": ".py",
   "mimetype": "text/x-python",
   "name": "python",
   "nbconvert_exporter": "python",
   "pygments_lexer": "ipython3",
   "version": "3.7.7"
  },
  "orig_nbformat": 4
 },
 "nbformat": 4,
 "nbformat_minor": 2
}
