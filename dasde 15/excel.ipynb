{
 "cells": [
  {
   "cell_type": "code",
   "execution_count": 1,
   "metadata": {},
   "outputs": [],
   "source": [
    "# Importing Libraries\n",
    "import pandas as pd \n",
    "import numpy as np\n",
    "import seaborn as sns\n",
    "import matplotlib.pyplot as plt\n",
    "import warnings\n",
    "warnings.simplefilter(\"ignore\")\n"
   ]
  },
  {
   "cell_type": "code",
   "execution_count": 144,
   "metadata": {},
   "outputs": [
    {
     "data": {
      "text/html": [
       "<div>\n",
       "<style scoped>\n",
       "    .dataframe tbody tr th:only-of-type {\n",
       "        vertical-align: middle;\n",
       "    }\n",
       "\n",
       "    .dataframe tbody tr th {\n",
       "        vertical-align: top;\n",
       "    }\n",
       "\n",
       "    .dataframe thead th {\n",
       "        text-align: right;\n",
       "    }\n",
       "</style>\n",
       "<table border=\"1\" class=\"dataframe\">\n",
       "  <thead>\n",
       "    <tr style=\"text-align: right;\">\n",
       "      <th></th>\n",
       "      <th>Condition</th>\n",
       "      <th>Date</th>\n",
       "      <th>phone</th>\n",
       "      <th>dateId</th>\n",
       "      <th>redial1</th>\n",
       "      <th>nextDay</th>\n",
       "      <th>dateId2</th>\n",
       "      <th>redial2</th>\n",
       "      <th>twoDays</th>\n",
       "      <th>dateId3</th>\n",
       "      <th>redial3</th>\n",
       "    </tr>\n",
       "  </thead>\n",
       "  <tbody>\n",
       "    <tr>\n",
       "      <th>0</th>\n",
       "      <td>y</td>\n",
       "      <td>2022-02-01</td>\n",
       "      <td>1234567</td>\n",
       "      <td>445931234567</td>\n",
       "      <td>3.0</td>\n",
       "      <td>2022-02-02</td>\n",
       "      <td>445941234567</td>\n",
       "      <td>3.0</td>\n",
       "      <td>2022-02-03</td>\n",
       "      <td>445951234567</td>\n",
       "      <td>1.0</td>\n",
       "    </tr>\n",
       "    <tr>\n",
       "      <th>1</th>\n",
       "      <td>y</td>\n",
       "      <td>2022-02-01</td>\n",
       "      <td>1234568</td>\n",
       "      <td>445931234568</td>\n",
       "      <td>0.0</td>\n",
       "      <td>2022-02-02</td>\n",
       "      <td>445941234568</td>\n",
       "      <td>0.0</td>\n",
       "      <td>2022-02-03</td>\n",
       "      <td>445951234568</td>\n",
       "      <td>0.0</td>\n",
       "    </tr>\n",
       "    <tr>\n",
       "      <th>2</th>\n",
       "      <td>n</td>\n",
       "      <td>2022-02-01</td>\n",
       "      <td>1234569</td>\n",
       "      <td>445931234569</td>\n",
       "      <td>NaN</td>\n",
       "      <td>2022-02-02</td>\n",
       "      <td>445941234569</td>\n",
       "      <td>NaN</td>\n",
       "      <td>2022-02-03</td>\n",
       "      <td>445951234569</td>\n",
       "      <td>NaN</td>\n",
       "    </tr>\n",
       "    <tr>\n",
       "      <th>3</th>\n",
       "      <td>y</td>\n",
       "      <td>2022-02-01</td>\n",
       "      <td>1234567</td>\n",
       "      <td>445931234567</td>\n",
       "      <td>2.0</td>\n",
       "      <td>2022-02-02</td>\n",
       "      <td>445941234567</td>\n",
       "      <td>3.0</td>\n",
       "      <td>2022-02-03</td>\n",
       "      <td>445951234567</td>\n",
       "      <td>1.0</td>\n",
       "    </tr>\n",
       "    <tr>\n",
       "      <th>4</th>\n",
       "      <td>y</td>\n",
       "      <td>2022-02-02</td>\n",
       "      <td>1234567</td>\n",
       "      <td>445941234567</td>\n",
       "      <td>2.0</td>\n",
       "      <td>2022-02-03</td>\n",
       "      <td>445951234567</td>\n",
       "      <td>1.0</td>\n",
       "      <td>2022-02-04</td>\n",
       "      <td>445961234567</td>\n",
       "      <td>0.0</td>\n",
       "    </tr>\n",
       "  </tbody>\n",
       "</table>\n",
       "</div>"
      ],
      "text/plain": [
       "  Condition       Date    phone        dateId  redial1    nextDay  \\\n",
       "0         y 2022-02-01  1234567  445931234567      3.0 2022-02-02   \n",
       "1         y 2022-02-01  1234568  445931234568      0.0 2022-02-02   \n",
       "2         n 2022-02-01  1234569  445931234569      NaN 2022-02-02   \n",
       "3         y 2022-02-01  1234567  445931234567      2.0 2022-02-02   \n",
       "4         y 2022-02-02  1234567  445941234567      2.0 2022-02-03   \n",
       "\n",
       "        dateId2  redial2    twoDays       dateId3  redial3  \n",
       "0  445941234567      3.0 2022-02-03  445951234567      1.0  \n",
       "1  445941234568      0.0 2022-02-03  445951234568      0.0  \n",
       "2  445941234569      NaN 2022-02-03  445951234569      NaN  \n",
       "3  445941234567      3.0 2022-02-03  445951234567      1.0  \n",
       "4  445951234567      1.0 2022-02-04  445961234567      0.0  "
      ]
     },
     "execution_count": 144,
     "metadata": {},
     "output_type": "execute_result"
    }
   ],
   "source": [
    "## Load Dataset\n",
    "df = pd.read_excel('red.xlsx')\n",
    "df.head()\n"
   ]
  },
  {
   "cell_type": "code",
   "execution_count": 145,
   "metadata": {},
   "outputs": [
    {
     "data": {
      "text/html": [
       "<div>\n",
       "<style scoped>\n",
       "    .dataframe tbody tr th:only-of-type {\n",
       "        vertical-align: middle;\n",
       "    }\n",
       "\n",
       "    .dataframe tbody tr th {\n",
       "        vertical-align: top;\n",
       "    }\n",
       "\n",
       "    .dataframe thead th {\n",
       "        text-align: right;\n",
       "    }\n",
       "</style>\n",
       "<table border=\"1\" class=\"dataframe\">\n",
       "  <thead>\n",
       "    <tr style=\"text-align: right;\">\n",
       "      <th></th>\n",
       "      <th>Condition</th>\n",
       "      <th>Date</th>\n",
       "      <th>phone</th>\n",
       "      <th>dateId</th>\n",
       "      <th>redial1</th>\n",
       "      <th>nextDay</th>\n",
       "      <th>dateId2</th>\n",
       "      <th>redial2</th>\n",
       "      <th>twoDays</th>\n",
       "      <th>dateId3</th>\n",
       "      <th>redial3</th>\n",
       "    </tr>\n",
       "  </thead>\n",
       "  <tbody>\n",
       "    <tr>\n",
       "      <th>0</th>\n",
       "      <td>y</td>\n",
       "      <td>2022-02-01</td>\n",
       "      <td>1234567</td>\n",
       "      <td>445931234567</td>\n",
       "      <td>3.0</td>\n",
       "      <td>2022-02-02</td>\n",
       "      <td>445941234567</td>\n",
       "      <td>3.0</td>\n",
       "      <td>2022-02-03</td>\n",
       "      <td>445951234567</td>\n",
       "      <td>1.0</td>\n",
       "    </tr>\n",
       "    <tr>\n",
       "      <th>1</th>\n",
       "      <td>y</td>\n",
       "      <td>2022-02-01</td>\n",
       "      <td>1234568</td>\n",
       "      <td>445931234568</td>\n",
       "      <td>0.0</td>\n",
       "      <td>2022-02-02</td>\n",
       "      <td>445941234568</td>\n",
       "      <td>0.0</td>\n",
       "      <td>2022-02-03</td>\n",
       "      <td>445951234568</td>\n",
       "      <td>0.0</td>\n",
       "    </tr>\n",
       "    <tr>\n",
       "      <th>3</th>\n",
       "      <td>y</td>\n",
       "      <td>2022-02-01</td>\n",
       "      <td>1234567</td>\n",
       "      <td>445931234567</td>\n",
       "      <td>2.0</td>\n",
       "      <td>2022-02-02</td>\n",
       "      <td>445941234567</td>\n",
       "      <td>3.0</td>\n",
       "      <td>2022-02-03</td>\n",
       "      <td>445951234567</td>\n",
       "      <td>1.0</td>\n",
       "    </tr>\n",
       "    <tr>\n",
       "      <th>4</th>\n",
       "      <td>y</td>\n",
       "      <td>2022-02-02</td>\n",
       "      <td>1234567</td>\n",
       "      <td>445941234567</td>\n",
       "      <td>2.0</td>\n",
       "      <td>2022-02-03</td>\n",
       "      <td>445951234567</td>\n",
       "      <td>1.0</td>\n",
       "      <td>2022-02-04</td>\n",
       "      <td>445961234567</td>\n",
       "      <td>0.0</td>\n",
       "    </tr>\n",
       "    <tr>\n",
       "      <th>5</th>\n",
       "      <td>y</td>\n",
       "      <td>2022-02-02</td>\n",
       "      <td>1234567</td>\n",
       "      <td>445941234567</td>\n",
       "      <td>1.0</td>\n",
       "      <td>2022-02-03</td>\n",
       "      <td>445951234567</td>\n",
       "      <td>1.0</td>\n",
       "      <td>2022-02-04</td>\n",
       "      <td>445961234567</td>\n",
       "      <td>0.0</td>\n",
       "    </tr>\n",
       "    <tr>\n",
       "      <th>7</th>\n",
       "      <td>y</td>\n",
       "      <td>2022-02-01</td>\n",
       "      <td>1234567</td>\n",
       "      <td>445931234567</td>\n",
       "      <td>1.0</td>\n",
       "      <td>2022-02-02</td>\n",
       "      <td>445941234567</td>\n",
       "      <td>1.0</td>\n",
       "      <td>2022-02-03</td>\n",
       "      <td>445951234567</td>\n",
       "      <td>0.0</td>\n",
       "    </tr>\n",
       "    <tr>\n",
       "      <th>8</th>\n",
       "      <td>y</td>\n",
       "      <td>2022-02-01</td>\n",
       "      <td>1234567</td>\n",
       "      <td>445931234567</td>\n",
       "      <td>0.0</td>\n",
       "      <td>2022-02-02</td>\n",
       "      <td>445941234567</td>\n",
       "      <td>1.0</td>\n",
       "      <td>2022-02-03</td>\n",
       "      <td>445951234567</td>\n",
       "      <td>0.0</td>\n",
       "    </tr>\n",
       "    <tr>\n",
       "      <th>9</th>\n",
       "      <td>y</td>\n",
       "      <td>2022-02-02</td>\n",
       "      <td>1234567</td>\n",
       "      <td>445941234567</td>\n",
       "      <td>0.0</td>\n",
       "      <td>2022-02-03</td>\n",
       "      <td>44595</td>\n",
       "      <td>0.0</td>\n",
       "      <td>2022-02-04</td>\n",
       "      <td>445961234567</td>\n",
       "      <td>0.0</td>\n",
       "    </tr>\n",
       "  </tbody>\n",
       "</table>\n",
       "</div>"
      ],
      "text/plain": [
       "  Condition       Date    phone        dateId  redial1    nextDay  \\\n",
       "0         y 2022-02-01  1234567  445931234567      3.0 2022-02-02   \n",
       "1         y 2022-02-01  1234568  445931234568      0.0 2022-02-02   \n",
       "3         y 2022-02-01  1234567  445931234567      2.0 2022-02-02   \n",
       "4         y 2022-02-02  1234567  445941234567      2.0 2022-02-03   \n",
       "5         y 2022-02-02  1234567  445941234567      1.0 2022-02-03   \n",
       "7         y 2022-02-01  1234567  445931234567      1.0 2022-02-02   \n",
       "8         y 2022-02-01  1234567  445931234567      0.0 2022-02-02   \n",
       "9         y 2022-02-02  1234567  445941234567      0.0 2022-02-03   \n",
       "\n",
       "        dateId2  redial2    twoDays       dateId3  redial3  \n",
       "0  445941234567      3.0 2022-02-03  445951234567      1.0  \n",
       "1  445941234568      0.0 2022-02-03  445951234568      0.0  \n",
       "3  445941234567      3.0 2022-02-03  445951234567      1.0  \n",
       "4  445951234567      1.0 2022-02-04  445961234567      0.0  \n",
       "5  445951234567      1.0 2022-02-04  445961234567      0.0  \n",
       "7  445941234567      1.0 2022-02-03  445951234567      0.0  \n",
       "8  445941234567      1.0 2022-02-03  445951234567      0.0  \n",
       "9         44595      0.0 2022-02-04  445961234567      0.0  "
      ]
     },
     "execution_count": 145,
     "metadata": {},
     "output_type": "execute_result"
    }
   ],
   "source": [
    "df = df.loc[df['Condition'] == 'y']\n",
    "df.head(10)\n"
   ]
  },
  {
   "cell_type": "code",
   "execution_count": 178,
   "metadata": {},
   "outputs": [
    {
     "data": {
      "text/plain": [
       "array([445931234567, 445931234568, 445931234567, 445941234567,\n",
       "       445941234567, 445931234567, 445931234567, 445941234567])"
      ]
     },
     "execution_count": 178,
     "metadata": {},
     "output_type": "execute_result"
    }
   ],
   "source": [
    "x = np.array(df['dateId'])\n",
    "x"
   ]
  },
  {
   "cell_type": "code",
   "execution_count": 147,
   "metadata": {},
   "outputs": [
    {
     "name": "stdout",
     "output_type": "stream",
     "text": [
      "0 1\n",
      "0 2\n",
      "0 3\n",
      "0 4\n",
      "0 5\n",
      "0 6\n",
      "0 7\n",
      "1 2\n",
      "1 3\n",
      "1 4\n",
      "1 5\n",
      "1 6\n",
      "1 7\n",
      "2 3\n",
      "2 4\n",
      "2 5\n",
      "2 6\n",
      "2 7\n",
      "3 4\n",
      "3 5\n",
      "3 6\n",
      "3 7\n",
      "4 5\n",
      "4 6\n",
      "4 7\n",
      "5 6\n",
      "5 7\n",
      "6 7\n"
     ]
    }
   ],
   "source": [
    "for i in range(len(x)):\n",
    "    for j  in range(i+1,len(x)):\n",
    "        # if x[i]==x[j]:\n",
    "            print(i,j)"
   ]
  },
  {
   "cell_type": "code",
   "execution_count": 138,
   "metadata": {},
   "outputs": [
    {
     "data": {
      "text/plain": [
       "445931234567"
      ]
     },
     "execution_count": 138,
     "metadata": {},
     "output_type": "execute_result"
    }
   ],
   "source": [
    "x[2]"
   ]
  },
  {
   "cell_type": "code",
   "execution_count": 179,
   "metadata": {},
   "outputs": [
    {
     "name": "stdout",
     "output_type": "stream",
     "text": [
      "0 2 445931234567\n",
      "0 5 445931234567\n",
      "0 6 445931234567\n",
      "2 5 445931234567\n",
      "2 6 445931234567\n",
      "3 4 445941234567\n",
      "3 7 445941234567\n",
      "4 7 445941234567\n",
      "5 6 445931234567\n"
     ]
    }
   ],
   "source": [
    "for i in range(len(x)):\n",
    "    for j  in range(i+1,len(x)):\n",
    "        if x[i]==x[j]:\n",
    "            print(i,j,x[i])"
   ]
  },
  {
   "cell_type": "code",
   "execution_count": 194,
   "metadata": {},
   "outputs": [
    {
     "data": {
      "text/plain": [
       "445931234567    4\n",
       "445941234567    3\n",
       "445931234568    1\n",
       "Name: dateId, dtype: int64"
      ]
     },
     "execution_count": 194,
     "metadata": {},
     "output_type": "execute_result"
    }
   ],
   "source": [
    "y = df['dateId'].value_counts()\n",
    "y"
   ]
  },
  {
   "cell_type": "code",
   "execution_count": 195,
   "metadata": {},
   "outputs": [
    {
     "data": {
      "text/plain": [
       "pandas.core.series.Series"
      ]
     },
     "execution_count": 195,
     "metadata": {},
     "output_type": "execute_result"
    }
   ],
   "source": [
    "type(y)"
   ]
  },
  {
   "cell_type": "code",
   "execution_count": 196,
   "metadata": {},
   "outputs": [
    {
     "data": {
      "text/plain": [
       "Int64Index([445931234567, 445941234567, 445931234568], dtype='int64')"
      ]
     },
     "execution_count": 196,
     "metadata": {},
     "output_type": "execute_result"
    }
   ],
   "source": [
    "keys = y.keys()\n",
    "keys"
   ]
  },
  {
   "cell_type": "code",
   "execution_count": 198,
   "metadata": {},
   "outputs": [
    {
     "data": {
      "text/plain": [
       "array([4, 3, 1])"
      ]
     },
     "execution_count": 198,
     "metadata": {},
     "output_type": "execute_result"
    }
   ],
   "source": [
    "counter = y.values\n",
    "counter2 = counter\n",
    "counter"
   ]
  },
  {
   "cell_type": "code",
   "execution_count": 183,
   "metadata": {},
   "outputs": [
    {
     "name": "stdout",
     "output_type": "stream",
     "text": [
      "0 0 445931234567\n",
      "1 2 445931234568\n",
      "2 0 445931234567\n",
      "3 1 445941234567\n",
      "4 1 445941234567\n",
      "5 0 445931234567\n",
      "6 0 445931234567\n",
      "7 1 445941234567\n"
     ]
    }
   ],
   "source": [
    "redial =[]\n",
    "for i in range(len(x)):\n",
    "    for j  in range(len(counter)):\n",
    "        if x[i]==keys[j]:\n",
    "            counter[j]=counter[j]-1\n",
    "            redial.append(counter[j])\n",
    "            print(i,j,x[i])"
   ]
  },
  {
   "cell_type": "code",
   "execution_count": 184,
   "metadata": {},
   "outputs": [
    {
     "data": {
      "text/plain": [
       "[3, 0, 2, 2, 1, 1, 0, 0]"
      ]
     },
     "execution_count": 184,
     "metadata": {},
     "output_type": "execute_result"
    }
   ],
   "source": [
    "redial"
   ]
  },
  {
   "cell_type": "code",
   "execution_count": 187,
   "metadata": {},
   "outputs": [
    {
     "data": {
      "text/html": [
       "<div>\n",
       "<style scoped>\n",
       "    .dataframe tbody tr th:only-of-type {\n",
       "        vertical-align: middle;\n",
       "    }\n",
       "\n",
       "    .dataframe tbody tr th {\n",
       "        vertical-align: top;\n",
       "    }\n",
       "\n",
       "    .dataframe thead th {\n",
       "        text-align: right;\n",
       "    }\n",
       "</style>\n",
       "<table border=\"1\" class=\"dataframe\">\n",
       "  <thead>\n",
       "    <tr style=\"text-align: right;\">\n",
       "      <th></th>\n",
       "      <th>Condition</th>\n",
       "      <th>Date</th>\n",
       "      <th>phone</th>\n",
       "      <th>dateId</th>\n",
       "      <th>redial1</th>\n",
       "      <th>nextDay</th>\n",
       "      <th>dateId2</th>\n",
       "      <th>redial2</th>\n",
       "      <th>twoDays</th>\n",
       "      <th>dateId3</th>\n",
       "      <th>redial3</th>\n",
       "    </tr>\n",
       "  </thead>\n",
       "  <tbody>\n",
       "    <tr>\n",
       "      <th>0</th>\n",
       "      <td>y</td>\n",
       "      <td>2022-02-01</td>\n",
       "      <td>1234567</td>\n",
       "      <td>445931234567</td>\n",
       "      <td>3</td>\n",
       "      <td>2022-02-02</td>\n",
       "      <td>445941234567</td>\n",
       "      <td>3.0</td>\n",
       "      <td>2022-02-03</td>\n",
       "      <td>445951234567</td>\n",
       "      <td>1.0</td>\n",
       "    </tr>\n",
       "    <tr>\n",
       "      <th>1</th>\n",
       "      <td>y</td>\n",
       "      <td>2022-02-01</td>\n",
       "      <td>1234568</td>\n",
       "      <td>445931234568</td>\n",
       "      <td>0</td>\n",
       "      <td>2022-02-02</td>\n",
       "      <td>445941234568</td>\n",
       "      <td>0.0</td>\n",
       "      <td>2022-02-03</td>\n",
       "      <td>445951234568</td>\n",
       "      <td>0.0</td>\n",
       "    </tr>\n",
       "    <tr>\n",
       "      <th>3</th>\n",
       "      <td>y</td>\n",
       "      <td>2022-02-01</td>\n",
       "      <td>1234567</td>\n",
       "      <td>445931234567</td>\n",
       "      <td>2</td>\n",
       "      <td>2022-02-02</td>\n",
       "      <td>445941234567</td>\n",
       "      <td>3.0</td>\n",
       "      <td>2022-02-03</td>\n",
       "      <td>445951234567</td>\n",
       "      <td>1.0</td>\n",
       "    </tr>\n",
       "    <tr>\n",
       "      <th>4</th>\n",
       "      <td>y</td>\n",
       "      <td>2022-02-02</td>\n",
       "      <td>1234567</td>\n",
       "      <td>445941234567</td>\n",
       "      <td>2</td>\n",
       "      <td>2022-02-03</td>\n",
       "      <td>445951234567</td>\n",
       "      <td>1.0</td>\n",
       "      <td>2022-02-04</td>\n",
       "      <td>445961234567</td>\n",
       "      <td>0.0</td>\n",
       "    </tr>\n",
       "    <tr>\n",
       "      <th>5</th>\n",
       "      <td>y</td>\n",
       "      <td>2022-02-02</td>\n",
       "      <td>1234567</td>\n",
       "      <td>445941234567</td>\n",
       "      <td>1</td>\n",
       "      <td>2022-02-03</td>\n",
       "      <td>445951234567</td>\n",
       "      <td>1.0</td>\n",
       "      <td>2022-02-04</td>\n",
       "      <td>445961234567</td>\n",
       "      <td>0.0</td>\n",
       "    </tr>\n",
       "    <tr>\n",
       "      <th>7</th>\n",
       "      <td>y</td>\n",
       "      <td>2022-02-01</td>\n",
       "      <td>1234567</td>\n",
       "      <td>445931234567</td>\n",
       "      <td>1</td>\n",
       "      <td>2022-02-02</td>\n",
       "      <td>445941234567</td>\n",
       "      <td>1.0</td>\n",
       "      <td>2022-02-03</td>\n",
       "      <td>445951234567</td>\n",
       "      <td>0.0</td>\n",
       "    </tr>\n",
       "    <tr>\n",
       "      <th>8</th>\n",
       "      <td>y</td>\n",
       "      <td>2022-02-01</td>\n",
       "      <td>1234567</td>\n",
       "      <td>445931234567</td>\n",
       "      <td>0</td>\n",
       "      <td>2022-02-02</td>\n",
       "      <td>445941234567</td>\n",
       "      <td>1.0</td>\n",
       "      <td>2022-02-03</td>\n",
       "      <td>445951234567</td>\n",
       "      <td>0.0</td>\n",
       "    </tr>\n",
       "    <tr>\n",
       "      <th>9</th>\n",
       "      <td>y</td>\n",
       "      <td>2022-02-02</td>\n",
       "      <td>1234567</td>\n",
       "      <td>445941234567</td>\n",
       "      <td>0</td>\n",
       "      <td>2022-02-03</td>\n",
       "      <td>44595</td>\n",
       "      <td>0.0</td>\n",
       "      <td>2022-02-04</td>\n",
       "      <td>445961234567</td>\n",
       "      <td>0.0</td>\n",
       "    </tr>\n",
       "  </tbody>\n",
       "</table>\n",
       "</div>"
      ],
      "text/plain": [
       "  Condition       Date    phone        dateId  redial1    nextDay  \\\n",
       "0         y 2022-02-01  1234567  445931234567        3 2022-02-02   \n",
       "1         y 2022-02-01  1234568  445931234568        0 2022-02-02   \n",
       "3         y 2022-02-01  1234567  445931234567        2 2022-02-02   \n",
       "4         y 2022-02-02  1234567  445941234567        2 2022-02-03   \n",
       "5         y 2022-02-02  1234567  445941234567        1 2022-02-03   \n",
       "7         y 2022-02-01  1234567  445931234567        1 2022-02-02   \n",
       "8         y 2022-02-01  1234567  445931234567        0 2022-02-02   \n",
       "9         y 2022-02-02  1234567  445941234567        0 2022-02-03   \n",
       "\n",
       "        dateId2  redial2    twoDays       dateId3  redial3  \n",
       "0  445941234567      3.0 2022-02-03  445951234567      1.0  \n",
       "1  445941234568      0.0 2022-02-03  445951234568      0.0  \n",
       "3  445941234567      3.0 2022-02-03  445951234567      1.0  \n",
       "4  445951234567      1.0 2022-02-04  445961234567      0.0  \n",
       "5  445951234567      1.0 2022-02-04  445961234567      0.0  \n",
       "7  445941234567      1.0 2022-02-03  445951234567      0.0  \n",
       "8  445941234567      1.0 2022-02-03  445951234567      0.0  \n",
       "9         44595      0.0 2022-02-04  445961234567      0.0  "
      ]
     },
     "execution_count": 187,
     "metadata": {},
     "output_type": "execute_result"
    }
   ],
   "source": [
    "df.head(10)"
   ]
  },
  {
   "cell_type": "code",
   "execution_count": 186,
   "metadata": {},
   "outputs": [],
   "source": [
    "df.redial1 = redial"
   ]
  },
  {
   "cell_type": "code",
   "execution_count": 190,
   "metadata": {},
   "outputs": [],
   "source": [
    "\n",
    "redial3 = []"
   ]
  },
  {
   "cell_type": "code",
   "execution_count": 188,
   "metadata": {},
   "outputs": [
    {
     "data": {
      "text/plain": [
       "array([445941234567, 445941234568, 445941234567, 445951234567,\n",
       "       445951234567, 445941234567, 445941234567,        44595])"
      ]
     },
     "execution_count": 188,
     "metadata": {},
     "output_type": "execute_result"
    }
   ],
   "source": [
    "r = np.array(df['dateId2'])\n",
    "r"
   ]
  },
  {
   "cell_type": "code",
   "execution_count": 211,
   "metadata": {},
   "outputs": [
    {
     "data": {
      "text/plain": [
       "445931234567    4\n",
       "445941234567    3\n",
       "445931234568    1\n",
       "Name: dateId, dtype: int64"
      ]
     },
     "execution_count": 211,
     "metadata": {},
     "output_type": "execute_result"
    }
   ],
   "source": [
    "y"
   ]
  },
  {
   "cell_type": "code",
   "execution_count": 220,
   "metadata": {},
   "outputs": [
    {
     "name": "stdout",
     "output_type": "stream",
     "text": [
      "False\n",
      "True\n",
      "False\n"
     ]
    }
   ],
   "source": [
    "a =445941234567\n",
    "print(a == 445931234567) \n",
    "print(a == 445941234567)\n",
    "print(a  == 445931234568)"
   ]
  },
  {
   "cell_type": "code",
   "execution_count": 202,
   "metadata": {},
   "outputs": [
    {
     "data": {
      "text/plain": [
       "array([4, 3, 1])"
      ]
     },
     "execution_count": 202,
     "metadata": {},
     "output_type": "execute_result"
    }
   ],
   "source": [
    "counter2"
   ]
  },
  {
   "cell_type": "code",
   "execution_count": 206,
   "metadata": {},
   "outputs": [
    {
     "name": "stdout",
     "output_type": "stream",
     "text": [
      "0 1 445941234567\n",
      "2 1 445941234567\n",
      "5 1 445941234567\n",
      "6 1 445941234567\n"
     ]
    },
    {
     "data": {
      "text/plain": [
       "[3, 0, 3, 0, 0, 3, 3, 0]"
      ]
     },
     "execution_count": 206,
     "metadata": {},
     "output_type": "execute_result"
    }
   ],
   "source": [
    "redial2 =[0]*len(r)\n",
    "for i in range(len(r)):\n",
    "    for j  in range(len(counter2)):\n",
    "        if r[i]==keys[j]:\n",
    "            redial2[i]=counter2[j]\n",
    "            print(i,j,r[i])\n",
    "redial2"
   ]
  },
  {
   "cell_type": "code",
   "execution_count": 200,
   "metadata": {},
   "outputs": [
    {
     "data": {
      "text/plain": [
       "[0, 0, 0, 0, 3, 3, 3, 3]"
      ]
     },
     "execution_count": 200,
     "metadata": {},
     "output_type": "execute_result"
    }
   ],
   "source": [
    "redial2"
   ]
  },
  {
   "cell_type": "code",
   "execution_count": 223,
   "metadata": {},
   "outputs": [
    {
     "data": {
      "text/plain": [
       "array([445951234567, 445951234568, 445951234567, 445961234567,\n",
       "       445961234567, 445951234567, 445951234567, 445961234567])"
      ]
     },
     "execution_count": 223,
     "metadata": {},
     "output_type": "execute_result"
    }
   ],
   "source": [
    "s =np.array(df['dateId3'])\n",
    "s"
   ]
  },
  {
   "cell_type": "code",
   "execution_count": 224,
   "metadata": {},
   "outputs": [
    {
     "data": {
      "text/plain": [
       "array([4, 3, 1])"
      ]
     },
     "execution_count": 224,
     "metadata": {},
     "output_type": "execute_result"
    }
   ],
   "source": [
    "counter2"
   ]
  },
  {
   "cell_type": "code",
   "execution_count": 225,
   "metadata": {},
   "outputs": [
    {
     "data": {
      "text/plain": [
       "Int64Index([445931234567, 445941234567, 445931234568], dtype='int64')"
      ]
     },
     "execution_count": 225,
     "metadata": {},
     "output_type": "execute_result"
    }
   ],
   "source": [
    "keys"
   ]
  },
  {
   "cell_type": "code",
   "execution_count": 234,
   "metadata": {},
   "outputs": [
    {
     "name": "stdout",
     "output_type": "stream",
     "text": [
      "False\n",
      "False\n",
      "False\n"
     ]
    }
   ],
   "source": [
    "a =445961234567\n",
    "print(a == 445931234567) \n",
    "print(a == 445941234567)\n",
    "print(a  == 445931234568)"
   ]
  },
  {
   "cell_type": "code",
   "execution_count": 222,
   "metadata": {},
   "outputs": [
    {
     "data": {
      "text/plain": [
       "[0, 0, 0, 0, 0, 0, 0, 0]"
      ]
     },
     "execution_count": 222,
     "metadata": {},
     "output_type": "execute_result"
    }
   ],
   "source": [
    "redial3 =[0]*len(s)\n",
    "for i in range(len(s)):\n",
    "    for j  in range(len(counter2)):\n",
    "        if s[i]==keys[j]:\n",
    "            redial3[i]=counter2[j]\n",
    "            print(i,j,r[i])\n",
    "redial3"
   ]
  },
  {
   "cell_type": "code",
   "execution_count": 110,
   "metadata": {},
   "outputs": [],
   "source": [
    "x = df['dateId']"
   ]
  },
  {
   "cell_type": "code",
   "execution_count": 111,
   "metadata": {},
   "outputs": [
    {
     "name": "stdout",
     "output_type": "stream",
     "text": [
      "[(445931234567, 1), (445931234568, 1), (445931234567, 1), (445941234567, 2)]\n"
     ]
    }
   ],
   "source": [
    "from itertools import groupby\n",
    "counts = [(i, len(list(c))) for i,c in groupby(x)]      # Create value-count pairs as list of tuples \n",
    "print(counts)\n"
   ]
  },
  {
   "cell_type": "code",
   "execution_count": 67,
   "metadata": {},
   "outputs": [
    {
     "data": {
      "text/plain": [
       "list"
      ]
     },
     "execution_count": 67,
     "metadata": {},
     "output_type": "execute_result"
    }
   ],
   "source": [
    "type(counts)"
   ]
  },
  {
   "cell_type": "code",
   "execution_count": 68,
   "metadata": {},
   "outputs": [],
   "source": [
    "counts = np.array(counts)"
   ]
  },
  {
   "cell_type": "code",
   "execution_count": 69,
   "metadata": {},
   "outputs": [
    {
     "name": "stdout",
     "output_type": "stream",
     "text": [
      "0\n",
      "0\n",
      "0\n",
      "1\n"
     ]
    }
   ],
   "source": [
    "for el in counts:\n",
    "    type(el[1])\n",
    "    el[1] = el[1] - 1  \n",
    "    # counts\n",
    "    print(el[1])\n",
    "\n"
   ]
  },
  {
   "cell_type": "code",
   "execution_count": 88,
   "metadata": {},
   "outputs": [
    {
     "data": {
      "text/plain": [
       "numpy.ndarray"
      ]
     },
     "execution_count": 88,
     "metadata": {},
     "output_type": "execute_result"
    }
   ],
   "source": [
    "type(counts)"
   ]
  },
  {
   "cell_type": "code",
   "execution_count": 89,
   "metadata": {},
   "outputs": [
    {
     "data": {
      "text/plain": [
       "(4, 2)"
      ]
     },
     "execution_count": 89,
     "metadata": {},
     "output_type": "execute_result"
    }
   ],
   "source": [
    "counts.shape"
   ]
  },
  {
   "cell_type": "code",
   "execution_count": 90,
   "metadata": {},
   "outputs": [],
   "source": [
    "arr1,arr2=np.split(counts,2,axis=1)"
   ]
  },
  {
   "cell_type": "code",
   "execution_count": 92,
   "metadata": {},
   "outputs": [
    {
     "data": {
      "text/plain": [
       "(array([[445931234567],\n",
       "        [445931234568],\n",
       "        [445931234567],\n",
       "        [445941234567]]),\n",
       " array([[0],\n",
       "        [0],\n",
       "        [0],\n",
       "        [1]]))"
      ]
     },
     "execution_count": 92,
     "metadata": {},
     "output_type": "execute_result"
    }
   ],
   "source": [
    "arr1,arr2"
   ]
  },
  {
   "cell_type": "code",
   "execution_count": 84,
   "metadata": {},
   "outputs": [
    {
     "ename": "IndexError",
     "evalue": "index 445931234567 is out of bounds for axis 0 with size 4",
     "output_type": "error",
     "traceback": [
      "\u001b[0;31m---------------------------------------------------------------------------\u001b[0m",
      "\u001b[0;31mIndexError\u001b[0m                                Traceback (most recent call last)",
      "\u001b[0;32m/var/folders/dk/9q84mn0j1nzfg85t9zx5d1480000gn/T/ipykernel_95544/203875133.py\u001b[0m in \u001b[0;36m<module>\u001b[0;34m\u001b[0m\n\u001b[1;32m      1\u001b[0m \u001b[0;32mfor\u001b[0m \u001b[0mj\u001b[0m \u001b[0;32min\u001b[0m \u001b[0mcounts\u001b[0m\u001b[0;34m:\u001b[0m\u001b[0;34m\u001b[0m\u001b[0;34m\u001b[0m\u001b[0m\n\u001b[0;32m----> 2\u001b[0;31m     \u001b[0mprint\u001b[0m\u001b[0;34m(\u001b[0m\u001b[0mj\u001b[0m\u001b[0;34m,\u001b[0m\u001b[0mcounts\u001b[0m\u001b[0;34m[\u001b[0m\u001b[0mj\u001b[0m\u001b[0;34m]\u001b[0m\u001b[0;34m[\u001b[0m\u001b[0;36m0\u001b[0m\u001b[0;34m]\u001b[0m\u001b[0;34m)\u001b[0m\u001b[0;34m\u001b[0m\u001b[0;34m\u001b[0m\u001b[0m\n\u001b[0m",
      "\u001b[0;31mIndexError\u001b[0m: index 445931234567 is out of bounds for axis 0 with size 4"
     ]
    }
   ],
   "source": [
    "for j in counts:\n",
    "    print(j,counts[j][0])"
   ]
  },
  {
   "cell_type": "code",
   "execution_count": 94,
   "metadata": {},
   "outputs": [
    {
     "data": {
      "text/plain": [
       "445931234568"
      ]
     },
     "execution_count": 94,
     "metadata": {},
     "output_type": "execute_result"
    }
   ],
   "source": [
    "df['dateId'][1]"
   ]
  },
  {
   "cell_type": "code",
   "execution_count": 96,
   "metadata": {},
   "outputs": [
    {
     "data": {
      "text/plain": [
       "5"
      ]
     },
     "execution_count": 96,
     "metadata": {},
     "output_type": "execute_result"
    }
   ],
   "source": [
    "len(df['dateId'])"
   ]
  },
  {
   "cell_type": "code",
   "execution_count": 99,
   "metadata": {},
   "outputs": [
    {
     "data": {
      "text/plain": [
       "pandas.core.series.Series"
      ]
     },
     "execution_count": 99,
     "metadata": {},
     "output_type": "execute_result"
    }
   ],
   "source": [
    "type(df['dateId'])"
   ]
  },
  {
   "cell_type": "code",
   "execution_count": 100,
   "metadata": {},
   "outputs": [
    {
     "data": {
      "text/plain": [
       "numpy.ndarray"
      ]
     },
     "execution_count": 100,
     "metadata": {},
     "output_type": "execute_result"
    }
   ],
   "source": [
    "dates = np.array(df['dateId'])\n",
    "type(dates)"
   ]
  },
  {
   "cell_type": "code",
   "execution_count": 95,
   "metadata": {},
   "outputs": [
    {
     "ename": "TypeError",
     "evalue": "'int' object is not iterable",
     "output_type": "error",
     "traceback": [
      "\u001b[0;31m---------------------------------------------------------------------------\u001b[0m",
      "\u001b[0;31mTypeError\u001b[0m                                 Traceback (most recent call last)",
      "\u001b[0;32m/var/folders/dk/9q84mn0j1nzfg85t9zx5d1480000gn/T/ipykernel_95544/3403833974.py\u001b[0m in \u001b[0;36m<module>\u001b[0;34m\u001b[0m\n\u001b[0;32m----> 1\u001b[0;31m \u001b[0;32mfor\u001b[0m \u001b[0mi\u001b[0m \u001b[0;32min\u001b[0m \u001b[0mlen\u001b[0m\u001b[0;34m(\u001b[0m\u001b[0mdf\u001b[0m\u001b[0;34m[\u001b[0m\u001b[0;34m'dateId'\u001b[0m\u001b[0;34m]\u001b[0m\u001b[0;34m)\u001b[0m\u001b[0;34m:\u001b[0m\u001b[0;34m\u001b[0m\u001b[0;34m\u001b[0m\u001b[0m\n\u001b[0m\u001b[1;32m      2\u001b[0m     \u001b[0;32mfor\u001b[0m \u001b[0mj\u001b[0m \u001b[0;32min\u001b[0m \u001b[0mlen\u001b[0m\u001b[0;34m(\u001b[0m\u001b[0marr1\u001b[0m\u001b[0;34m)\u001b[0m\u001b[0;34m:\u001b[0m\u001b[0;34m\u001b[0m\u001b[0;34m\u001b[0m\u001b[0m\n\u001b[1;32m      3\u001b[0m         \u001b[0;32mif\u001b[0m \u001b[0mdf\u001b[0m\u001b[0;34m[\u001b[0m\u001b[0;34m'dateId'\u001b[0m\u001b[0;34m]\u001b[0m\u001b[0;34m[\u001b[0m\u001b[0mi\u001b[0m\u001b[0;34m]\u001b[0m\u001b[0;34m==\u001b[0m\u001b[0marr1\u001b[0m\u001b[0;34m[\u001b[0m\u001b[0mj\u001b[0m\u001b[0;34m]\u001b[0m\u001b[0;34m:\u001b[0m\u001b[0;34m\u001b[0m\u001b[0;34m\u001b[0m\u001b[0m\n\u001b[1;32m      4\u001b[0m             \u001b[0mprint\u001b[0m\u001b[0;34m(\u001b[0m\u001b[0mdf\u001b[0m\u001b[0;34m[\u001b[0m\u001b[0;34m'dateId'\u001b[0m\u001b[0;34m]\u001b[0m\u001b[0;34m[\u001b[0m\u001b[0mi\u001b[0m\u001b[0;34m]\u001b[0m\u001b[0;34m,\u001b[0m\u001b[0marr1\u001b[0m\u001b[0;34m[\u001b[0m\u001b[0mj\u001b[0m\u001b[0;34m]\u001b[0m\u001b[0;34m)\u001b[0m\u001b[0;34m\u001b[0m\u001b[0;34m\u001b[0m\u001b[0m\n",
      "\u001b[0;31mTypeError\u001b[0m: 'int' object is not iterable"
     ]
    }
   ],
   "source": [
    "for i in len(df['dateId']):\n",
    "    for j in len(arr1):\n",
    "        if df['dateId'][i]==arr1[j]:\n",
    "            print(df['dateId'][i],arr1[j])"
   ]
  },
  {
   "cell_type": "code",
   "execution_count": 105,
   "metadata": {},
   "outputs": [
    {
     "data": {
      "text/plain": [
       "(0    445931234567\n",
       " 1    445931234568\n",
       " 3    445931234567\n",
       " 4    445941234567\n",
       " 5    445941234567\n",
       " Name: dateId, dtype: int64,\n",
       " array([[445931234567],\n",
       "        [445931234568],\n",
       "        [445931234567],\n",
       "        [445941234567]]),\n",
       " array([[0],\n",
       "        [0],\n",
       "        [0],\n",
       "        [1]]))"
      ]
     },
     "execution_count": 105,
     "metadata": {},
     "output_type": "execute_result"
    }
   ],
   "source": [
    "df['dateId'],arr1,arr2"
   ]
  },
  {
   "cell_type": "code",
   "execution_count": 102,
   "metadata": {},
   "outputs": [
    {
     "data": {
      "text/plain": [
       "array([ True,  True,  True,  True,  True])"
      ]
     },
     "execution_count": 102,
     "metadata": {},
     "output_type": "execute_result"
    }
   ],
   "source": [
    "c = np.in1d(dates,arr1)\n",
    "c"
   ]
  }
 ],
 "metadata": {
  "interpreter": {
   "hash": "f293f16398db128e85df277de8eb5f9ab0a1b28857fa0f1c8543245825f1b931"
  },
  "kernelspec": {
   "display_name": "Python 3.7.7 ('pythonProject')",
   "language": "python",
   "name": "python3"
  },
  "language_info": {
   "codemirror_mode": {
    "name": "ipython",
    "version": 3
   },
   "file_extension": ".py",
   "mimetype": "text/x-python",
   "name": "python",
   "nbconvert_exporter": "python",
   "pygments_lexer": "ipython3",
   "version": "3.7.7"
  },
  "orig_nbformat": 4
 },
 "nbformat": 4,
 "nbformat_minor": 2
}
