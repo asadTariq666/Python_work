{
 "cells": [
  {
   "cell_type": "code",
   "execution_count": 1,
   "metadata": {},
   "outputs": [],
   "source": [
    "# Importing Libraries\n",
    "import pandas as pd \n",
    "import numpy as np\n",
    "import warnings\n",
    "warnings.simplefilter(\"ignore\")\n"
   ]
  },
  {
   "cell_type": "code",
   "execution_count": 2,
   "metadata": {},
   "outputs": [
    {
     "data": {
      "text/html": [
       "<div>\n",
       "<style scoped>\n",
       "    .dataframe tbody tr th:only-of-type {\n",
       "        vertical-align: middle;\n",
       "    }\n",
       "\n",
       "    .dataframe tbody tr th {\n",
       "        vertical-align: top;\n",
       "    }\n",
       "\n",
       "    .dataframe thead th {\n",
       "        text-align: right;\n",
       "    }\n",
       "</style>\n",
       "<table border=\"1\" class=\"dataframe\">\n",
       "  <thead>\n",
       "    <tr style=\"text-align: right;\">\n",
       "      <th></th>\n",
       "      <th>Condition</th>\n",
       "      <th>Date</th>\n",
       "      <th>phone</th>\n",
       "      <th>dateId</th>\n",
       "      <th>redial1</th>\n",
       "      <th>nextDay</th>\n",
       "      <th>dateId2</th>\n",
       "      <th>redial2</th>\n",
       "      <th>twoDays</th>\n",
       "      <th>dateId3</th>\n",
       "      <th>redial3</th>\n",
       "    </tr>\n",
       "  </thead>\n",
       "  <tbody>\n",
       "    <tr>\n",
       "      <th>0</th>\n",
       "      <td>y</td>\n",
       "      <td>2022-02-01</td>\n",
       "      <td>1234567</td>\n",
       "      <td>445931234567</td>\n",
       "      <td>1.0</td>\n",
       "      <td>2022-02-02</td>\n",
       "      <td>445941234567</td>\n",
       "      <td>2.0</td>\n",
       "      <td>2022-02-03</td>\n",
       "      <td>445951234567</td>\n",
       "      <td>1.0</td>\n",
       "    </tr>\n",
       "    <tr>\n",
       "      <th>1</th>\n",
       "      <td>y</td>\n",
       "      <td>2022-02-01</td>\n",
       "      <td>1234568</td>\n",
       "      <td>445931234568</td>\n",
       "      <td>0.0</td>\n",
       "      <td>2022-02-02</td>\n",
       "      <td>445941234568</td>\n",
       "      <td>0.0</td>\n",
       "      <td>2022-02-03</td>\n",
       "      <td>445951234568</td>\n",
       "      <td>0.0</td>\n",
       "    </tr>\n",
       "    <tr>\n",
       "      <th>2</th>\n",
       "      <td>n</td>\n",
       "      <td>2022-02-01</td>\n",
       "      <td>1234569</td>\n",
       "      <td>445931234569</td>\n",
       "      <td>NaN</td>\n",
       "      <td>2022-02-02</td>\n",
       "      <td>445941234569</td>\n",
       "      <td>NaN</td>\n",
       "      <td>2022-02-03</td>\n",
       "      <td>445951234569</td>\n",
       "      <td>NaN</td>\n",
       "    </tr>\n",
       "    <tr>\n",
       "      <th>3</th>\n",
       "      <td>y</td>\n",
       "      <td>2022-02-01</td>\n",
       "      <td>1234567</td>\n",
       "      <td>445931234567</td>\n",
       "      <td>0.0</td>\n",
       "      <td>2022-02-02</td>\n",
       "      <td>445941234567</td>\n",
       "      <td>2.0</td>\n",
       "      <td>2022-02-03</td>\n",
       "      <td>445951234567</td>\n",
       "      <td>1.0</td>\n",
       "    </tr>\n",
       "    <tr>\n",
       "      <th>4</th>\n",
       "      <td>y</td>\n",
       "      <td>2022-02-02</td>\n",
       "      <td>1234567</td>\n",
       "      <td>445941234567</td>\n",
       "      <td>1.0</td>\n",
       "      <td>2022-02-03</td>\n",
       "      <td>445951234567</td>\n",
       "      <td>1.0</td>\n",
       "      <td>2022-02-04</td>\n",
       "      <td>445961234567</td>\n",
       "      <td>0.0</td>\n",
       "    </tr>\n",
       "  </tbody>\n",
       "</table>\n",
       "</div>"
      ],
      "text/plain": [
       "  Condition       Date    phone        dateId  redial1    nextDay  \\\n",
       "0         y 2022-02-01  1234567  445931234567      1.0 2022-02-02   \n",
       "1         y 2022-02-01  1234568  445931234568      0.0 2022-02-02   \n",
       "2         n 2022-02-01  1234569  445931234569      NaN 2022-02-02   \n",
       "3         y 2022-02-01  1234567  445931234567      0.0 2022-02-02   \n",
       "4         y 2022-02-02  1234567  445941234567      1.0 2022-02-03   \n",
       "\n",
       "        dateId2  redial2    twoDays       dateId3  redial3  \n",
       "0  445941234567      2.0 2022-02-03  445951234567      1.0  \n",
       "1  445941234568      0.0 2022-02-03  445951234568      0.0  \n",
       "2  445941234569      NaN 2022-02-03  445951234569      NaN  \n",
       "3  445941234567      2.0 2022-02-03  445951234567      1.0  \n",
       "4  445951234567      1.0 2022-02-04  445961234567      0.0  "
      ]
     },
     "execution_count": 2,
     "metadata": {},
     "output_type": "execute_result"
    }
   ],
   "source": [
    "## Load Dataset\n",
    "df = pd.read_excel('red1.xlsx')\n",
    "df.head()\n"
   ]
  },
  {
   "cell_type": "code",
   "execution_count": 3,
   "metadata": {},
   "outputs": [],
   "source": [
    "df_all =df"
   ]
  },
  {
   "cell_type": "code",
   "execution_count": 4,
   "metadata": {},
   "outputs": [
    {
     "data": {
      "text/html": [
       "<div>\n",
       "<style scoped>\n",
       "    .dataframe tbody tr th:only-of-type {\n",
       "        vertical-align: middle;\n",
       "    }\n",
       "\n",
       "    .dataframe tbody tr th {\n",
       "        vertical-align: top;\n",
       "    }\n",
       "\n",
       "    .dataframe thead th {\n",
       "        text-align: right;\n",
       "    }\n",
       "</style>\n",
       "<table border=\"1\" class=\"dataframe\">\n",
       "  <thead>\n",
       "    <tr style=\"text-align: right;\">\n",
       "      <th></th>\n",
       "      <th>Condition</th>\n",
       "      <th>Date</th>\n",
       "      <th>phone</th>\n",
       "      <th>dateId</th>\n",
       "      <th>redial1</th>\n",
       "      <th>nextDay</th>\n",
       "      <th>dateId2</th>\n",
       "      <th>redial2</th>\n",
       "      <th>twoDays</th>\n",
       "      <th>dateId3</th>\n",
       "      <th>redial3</th>\n",
       "    </tr>\n",
       "  </thead>\n",
       "  <tbody>\n",
       "    <tr>\n",
       "      <th>0</th>\n",
       "      <td>y</td>\n",
       "      <td>2022-02-01</td>\n",
       "      <td>1234567</td>\n",
       "      <td>445931234567</td>\n",
       "      <td>1.0</td>\n",
       "      <td>2022-02-02</td>\n",
       "      <td>445941234567</td>\n",
       "      <td>2.0</td>\n",
       "      <td>2022-02-03</td>\n",
       "      <td>445951234567</td>\n",
       "      <td>1.0</td>\n",
       "    </tr>\n",
       "    <tr>\n",
       "      <th>1</th>\n",
       "      <td>y</td>\n",
       "      <td>2022-02-01</td>\n",
       "      <td>1234568</td>\n",
       "      <td>445931234568</td>\n",
       "      <td>0.0</td>\n",
       "      <td>2022-02-02</td>\n",
       "      <td>445941234568</td>\n",
       "      <td>0.0</td>\n",
       "      <td>2022-02-03</td>\n",
       "      <td>445951234568</td>\n",
       "      <td>0.0</td>\n",
       "    </tr>\n",
       "    <tr>\n",
       "      <th>3</th>\n",
       "      <td>y</td>\n",
       "      <td>2022-02-01</td>\n",
       "      <td>1234567</td>\n",
       "      <td>445931234567</td>\n",
       "      <td>0.0</td>\n",
       "      <td>2022-02-02</td>\n",
       "      <td>445941234567</td>\n",
       "      <td>2.0</td>\n",
       "      <td>2022-02-03</td>\n",
       "      <td>445951234567</td>\n",
       "      <td>1.0</td>\n",
       "    </tr>\n",
       "    <tr>\n",
       "      <th>4</th>\n",
       "      <td>y</td>\n",
       "      <td>2022-02-02</td>\n",
       "      <td>1234567</td>\n",
       "      <td>445941234567</td>\n",
       "      <td>1.0</td>\n",
       "      <td>2022-02-03</td>\n",
       "      <td>445951234567</td>\n",
       "      <td>1.0</td>\n",
       "      <td>2022-02-04</td>\n",
       "      <td>445961234567</td>\n",
       "      <td>0.0</td>\n",
       "    </tr>\n",
       "    <tr>\n",
       "      <th>5</th>\n",
       "      <td>y</td>\n",
       "      <td>2022-02-02</td>\n",
       "      <td>1234567</td>\n",
       "      <td>445941234567</td>\n",
       "      <td>0.0</td>\n",
       "      <td>2022-02-03</td>\n",
       "      <td>445951234567</td>\n",
       "      <td>1.0</td>\n",
       "      <td>2022-02-04</td>\n",
       "      <td>445961234567</td>\n",
       "      <td>0.0</td>\n",
       "    </tr>\n",
       "  </tbody>\n",
       "</table>\n",
       "</div>"
      ],
      "text/plain": [
       "  Condition       Date    phone        dateId  redial1    nextDay  \\\n",
       "0         y 2022-02-01  1234567  445931234567      1.0 2022-02-02   \n",
       "1         y 2022-02-01  1234568  445931234568      0.0 2022-02-02   \n",
       "3         y 2022-02-01  1234567  445931234567      0.0 2022-02-02   \n",
       "4         y 2022-02-02  1234567  445941234567      1.0 2022-02-03   \n",
       "5         y 2022-02-02  1234567  445941234567      0.0 2022-02-03   \n",
       "\n",
       "        dateId2  redial2    twoDays       dateId3  redial3  \n",
       "0  445941234567      2.0 2022-02-03  445951234567      1.0  \n",
       "1  445941234568      0.0 2022-02-03  445951234568      0.0  \n",
       "3  445941234567      2.0 2022-02-03  445951234567      1.0  \n",
       "4  445951234567      1.0 2022-02-04  445961234567      0.0  \n",
       "5  445951234567      1.0 2022-02-04  445961234567      0.0  "
      ]
     },
     "execution_count": 4,
     "metadata": {},
     "output_type": "execute_result"
    }
   ],
   "source": [
    "df = df.loc[df['Condition'] == 'y']\n",
    "df.head(10)\n"
   ]
  },
  {
   "cell_type": "code",
   "execution_count": 5,
   "metadata": {},
   "outputs": [
    {
     "data": {
      "text/plain": [
       "array([445931234567, 445931234568, 445931234569, 445931234567,\n",
       "       445941234567, 445941234567, 445951234567])"
      ]
     },
     "execution_count": 5,
     "metadata": {},
     "output_type": "execute_result"
    }
   ],
   "source": [
    "x = np.array(df_all['dateId'])\n",
    "x"
   ]
  },
  {
   "cell_type": "code",
   "execution_count": 6,
   "metadata": {},
   "outputs": [
    {
     "name": "stdout",
     "output_type": "stream",
     "text": [
      "0 3 445931234567\n",
      "4 5 445941234567\n"
     ]
    }
   ],
   "source": [
    "for i in range(len(x)):\n",
    "    for j  in range(i+1,len(x)):\n",
    "        if x[i]==x[j]:\n",
    "            print(i,j,x[i])"
   ]
  },
  {
   "cell_type": "code",
   "execution_count": 7,
   "metadata": {},
   "outputs": [
    {
     "data": {
      "text/plain": [
       "445931234567    2\n",
       "445941234567    2\n",
       "445931234568    1\n",
       "Name: dateId, dtype: int64"
      ]
     },
     "execution_count": 7,
     "metadata": {},
     "output_type": "execute_result"
    }
   ],
   "source": [
    "df['dateId'].value_counts()"
   ]
  },
  {
   "cell_type": "code",
   "execution_count": 8,
   "metadata": {},
   "outputs": [
    {
     "data": {
      "text/plain": [
       "445931234567    2\n",
       "445941234567    2\n",
       "445931234568    1\n",
       "445931234569    1\n",
       "445951234567    1\n",
       "Name: dateId, dtype: int64"
      ]
     },
     "execution_count": 8,
     "metadata": {},
     "output_type": "execute_result"
    }
   ],
   "source": [
    "y = df_all['dateId'].value_counts()\n",
    "y"
   ]
  },
  {
   "cell_type": "code",
   "execution_count": 9,
   "metadata": {},
   "outputs": [
    {
     "data": {
      "text/plain": [
       "Int64Index([445931234567, 445941234567, 445931234568, 445931234569,\n",
       "            445951234567],\n",
       "           dtype='int64')"
      ]
     },
     "execution_count": 9,
     "metadata": {},
     "output_type": "execute_result"
    }
   ],
   "source": [
    "keys = y.keys()\n",
    "keys"
   ]
  },
  {
   "cell_type": "code",
   "execution_count": 10,
   "metadata": {},
   "outputs": [
    {
     "data": {
      "text/plain": [
       "array([2, 2, 1, 1, 1])"
      ]
     },
     "execution_count": 10,
     "metadata": {},
     "output_type": "execute_result"
    }
   ],
   "source": [
    "y.values"
   ]
  },
  {
   "cell_type": "code",
   "execution_count": 11,
   "metadata": {},
   "outputs": [
    {
     "data": {
      "text/plain": [
       "array([2, 2, 1, 1, 1])"
      ]
     },
     "execution_count": 11,
     "metadata": {},
     "output_type": "execute_result"
    }
   ],
   "source": [
    "counters = y.values\n",
    "counter2 = counters\n",
    "counters"
   ]
  },
  {
   "cell_type": "code",
   "execution_count": 12,
   "metadata": {},
   "outputs": [
    {
     "data": {
      "text/plain": [
       "(array([2, 2, 1, 1, 1]), array([2, 2, 1, 1, 1]), array([2, 2, 1, 1, 1]))"
      ]
     },
     "execution_count": 12,
     "metadata": {},
     "output_type": "execute_result"
    }
   ],
   "source": [
    "c3 =counter2\n",
    "c3,counter2,counters"
   ]
  },
  {
   "cell_type": "code",
   "execution_count": 13,
   "metadata": {},
   "outputs": [
    {
     "data": {
      "text/plain": [
       "5"
      ]
     },
     "execution_count": 13,
     "metadata": {},
     "output_type": "execute_result"
    }
   ],
   "source": [
    "len(counters)"
   ]
  },
  {
   "cell_type": "code",
   "execution_count": 14,
   "metadata": {},
   "outputs": [
    {
     "name": "stdout",
     "output_type": "stream",
     "text": [
      "0 0 445931234567\n",
      "1 2 445931234568\n",
      "2 3 445931234569\n",
      "3 0 445931234567\n",
      "4 1 445941234567\n",
      "5 1 445941234567\n",
      "6 4 445951234567\n"
     ]
    }
   ],
   "source": [
    "redial =[]\n",
    "for i in range(len(x)):\n",
    "    for j  in range(len(counters)):\n",
    "        if x[i]==keys[j]:\n",
    "            counters[j]=counters[j]-1\n",
    "            redial.append(counters[j])\n",
    "            print(i,j,x[i])"
   ]
  },
  {
   "cell_type": "code",
   "execution_count": 15,
   "metadata": {},
   "outputs": [],
   "source": [
    "for i in range(len(df_all)):\n",
    "    if df_all['Condition'][i] == 'n':\n",
    "        redial[i]= 0\n",
    "\n",
    "        "
   ]
  },
  {
   "cell_type": "code",
   "execution_count": 16,
   "metadata": {},
   "outputs": [
    {
     "data": {
      "text/plain": [
       "[1, 0, 0, 0, 1, 0, 0]"
      ]
     },
     "execution_count": 16,
     "metadata": {},
     "output_type": "execute_result"
    }
   ],
   "source": [
    "redial"
   ]
  },
  {
   "cell_type": "code",
   "execution_count": 17,
   "metadata": {},
   "outputs": [],
   "source": [
    "df_all.redial1 = redial"
   ]
  },
  {
   "cell_type": "code",
   "execution_count": 18,
   "metadata": {},
   "outputs": [
    {
     "data": {
      "text/html": [
       "<div>\n",
       "<style scoped>\n",
       "    .dataframe tbody tr th:only-of-type {\n",
       "        vertical-align: middle;\n",
       "    }\n",
       "\n",
       "    .dataframe tbody tr th {\n",
       "        vertical-align: top;\n",
       "    }\n",
       "\n",
       "    .dataframe thead th {\n",
       "        text-align: right;\n",
       "    }\n",
       "</style>\n",
       "<table border=\"1\" class=\"dataframe\">\n",
       "  <thead>\n",
       "    <tr style=\"text-align: right;\">\n",
       "      <th></th>\n",
       "      <th>Condition</th>\n",
       "      <th>Date</th>\n",
       "      <th>phone</th>\n",
       "      <th>dateId</th>\n",
       "      <th>redial1</th>\n",
       "      <th>nextDay</th>\n",
       "      <th>dateId2</th>\n",
       "      <th>redial2</th>\n",
       "      <th>twoDays</th>\n",
       "      <th>dateId3</th>\n",
       "      <th>redial3</th>\n",
       "    </tr>\n",
       "  </thead>\n",
       "  <tbody>\n",
       "    <tr>\n",
       "      <th>0</th>\n",
       "      <td>y</td>\n",
       "      <td>2022-02-01</td>\n",
       "      <td>1234567</td>\n",
       "      <td>445931234567</td>\n",
       "      <td>1</td>\n",
       "      <td>2022-02-02</td>\n",
       "      <td>445941234567</td>\n",
       "      <td>2.0</td>\n",
       "      <td>2022-02-03</td>\n",
       "      <td>445951234567</td>\n",
       "      <td>1.0</td>\n",
       "    </tr>\n",
       "    <tr>\n",
       "      <th>1</th>\n",
       "      <td>y</td>\n",
       "      <td>2022-02-01</td>\n",
       "      <td>1234568</td>\n",
       "      <td>445931234568</td>\n",
       "      <td>0</td>\n",
       "      <td>2022-02-02</td>\n",
       "      <td>445941234568</td>\n",
       "      <td>0.0</td>\n",
       "      <td>2022-02-03</td>\n",
       "      <td>445951234568</td>\n",
       "      <td>0.0</td>\n",
       "    </tr>\n",
       "    <tr>\n",
       "      <th>2</th>\n",
       "      <td>n</td>\n",
       "      <td>2022-02-01</td>\n",
       "      <td>1234569</td>\n",
       "      <td>445931234569</td>\n",
       "      <td>0</td>\n",
       "      <td>2022-02-02</td>\n",
       "      <td>445941234569</td>\n",
       "      <td>NaN</td>\n",
       "      <td>2022-02-03</td>\n",
       "      <td>445951234569</td>\n",
       "      <td>NaN</td>\n",
       "    </tr>\n",
       "    <tr>\n",
       "      <th>3</th>\n",
       "      <td>y</td>\n",
       "      <td>2022-02-01</td>\n",
       "      <td>1234567</td>\n",
       "      <td>445931234567</td>\n",
       "      <td>0</td>\n",
       "      <td>2022-02-02</td>\n",
       "      <td>445941234567</td>\n",
       "      <td>2.0</td>\n",
       "      <td>2022-02-03</td>\n",
       "      <td>445951234567</td>\n",
       "      <td>1.0</td>\n",
       "    </tr>\n",
       "    <tr>\n",
       "      <th>4</th>\n",
       "      <td>y</td>\n",
       "      <td>2022-02-02</td>\n",
       "      <td>1234567</td>\n",
       "      <td>445941234567</td>\n",
       "      <td>1</td>\n",
       "      <td>2022-02-03</td>\n",
       "      <td>445951234567</td>\n",
       "      <td>1.0</td>\n",
       "      <td>2022-02-04</td>\n",
       "      <td>445961234567</td>\n",
       "      <td>0.0</td>\n",
       "    </tr>\n",
       "    <tr>\n",
       "      <th>5</th>\n",
       "      <td>y</td>\n",
       "      <td>2022-02-02</td>\n",
       "      <td>1234567</td>\n",
       "      <td>445941234567</td>\n",
       "      <td>0</td>\n",
       "      <td>2022-02-03</td>\n",
       "      <td>445951234567</td>\n",
       "      <td>1.0</td>\n",
       "      <td>2022-02-04</td>\n",
       "      <td>445961234567</td>\n",
       "      <td>0.0</td>\n",
       "    </tr>\n",
       "    <tr>\n",
       "      <th>6</th>\n",
       "      <td>n</td>\n",
       "      <td>2022-02-03</td>\n",
       "      <td>1234567</td>\n",
       "      <td>445951234567</td>\n",
       "      <td>0</td>\n",
       "      <td>2022-02-04</td>\n",
       "      <td>445961234567</td>\n",
       "      <td>NaN</td>\n",
       "      <td>2022-02-05</td>\n",
       "      <td>445971234567</td>\n",
       "      <td>NaN</td>\n",
       "    </tr>\n",
       "  </tbody>\n",
       "</table>\n",
       "</div>"
      ],
      "text/plain": [
       "  Condition       Date    phone        dateId  redial1    nextDay  \\\n",
       "0         y 2022-02-01  1234567  445931234567        1 2022-02-02   \n",
       "1         y 2022-02-01  1234568  445931234568        0 2022-02-02   \n",
       "2         n 2022-02-01  1234569  445931234569        0 2022-02-02   \n",
       "3         y 2022-02-01  1234567  445931234567        0 2022-02-02   \n",
       "4         y 2022-02-02  1234567  445941234567        1 2022-02-03   \n",
       "5         y 2022-02-02  1234567  445941234567        0 2022-02-03   \n",
       "6         n 2022-02-03  1234567  445951234567        0 2022-02-04   \n",
       "\n",
       "        dateId2  redial2    twoDays       dateId3  redial3  \n",
       "0  445941234567      2.0 2022-02-03  445951234567      1.0  \n",
       "1  445941234568      0.0 2022-02-03  445951234568      0.0  \n",
       "2  445941234569      NaN 2022-02-03  445951234569      NaN  \n",
       "3  445941234567      2.0 2022-02-03  445951234567      1.0  \n",
       "4  445951234567      1.0 2022-02-04  445961234567      0.0  \n",
       "5  445951234567      1.0 2022-02-04  445961234567      0.0  \n",
       "6  445961234567      NaN 2022-02-05  445971234567      NaN  "
      ]
     },
     "execution_count": 18,
     "metadata": {},
     "output_type": "execute_result"
    }
   ],
   "source": [
    "df_all.head(10)"
   ]
  },
  {
   "cell_type": "code",
   "execution_count": 19,
   "metadata": {},
   "outputs": [
    {
     "data": {
      "text/plain": [
       "array([445941234567, 445941234568, 445941234569, 445941234567,\n",
       "       445951234567, 445951234567, 445961234567])"
      ]
     },
     "execution_count": 19,
     "metadata": {},
     "output_type": "execute_result"
    }
   ],
   "source": [
    "r = np.array(df_all['dateId2'])\n",
    "r"
   ]
  },
  {
   "cell_type": "code",
   "execution_count": 34,
   "metadata": {},
   "outputs": [
    {
     "data": {
      "text/plain": [
       "array([2, 2, 1, 1, 1])"
      ]
     },
     "execution_count": 34,
     "metadata": {},
     "output_type": "execute_result"
    }
   ],
   "source": [
    "y = df_all['dateId'].value_counts()\n",
    "keys = y.keys()\n",
    "y.values\n",
    "counter2 = y.values\n",
    "counter2"
   ]
  },
  {
   "cell_type": "code",
   "execution_count": 21,
   "metadata": {},
   "outputs": [
    {
     "name": "stdout",
     "output_type": "stream",
     "text": [
      "False\n",
      "True\n",
      "False\n"
     ]
    }
   ],
   "source": [
    "a =445941234567\n",
    "print(a == 445931234567) \n",
    "print(a == 445941234567)\n",
    "print(a  == 445931234568)"
   ]
  },
  {
   "cell_type": "code",
   "execution_count": 35,
   "metadata": {},
   "outputs": [
    {
     "data": {
      "text/plain": [
       "array([2, 2, 1, 1, 1])"
      ]
     },
     "execution_count": 35,
     "metadata": {},
     "output_type": "execute_result"
    }
   ],
   "source": [
    "counter2"
   ]
  },
  {
   "cell_type": "code",
   "execution_count": 36,
   "metadata": {},
   "outputs": [
    {
     "name": "stdout",
     "output_type": "stream",
     "text": [
      "0 1 445941234567\n",
      "3 1 445941234567\n",
      "4 4 445951234567\n",
      "5 4 445951234567\n"
     ]
    },
    {
     "data": {
      "text/plain": [
       "[2, 0, 0, 2, 1, 1, 0]"
      ]
     },
     "execution_count": 36,
     "metadata": {},
     "output_type": "execute_result"
    }
   ],
   "source": [
    "redial2 =[0]*len(r)\n",
    "for i in range(len(r)):\n",
    "    for j  in range(len(counter2)):\n",
    "        if r[i]==keys[j]:\n",
    "            redial2[i]=counter2[j]\n",
    "            print(i,j,r[i])\n",
    "redial2"
   ]
  },
  {
   "cell_type": "code",
   "execution_count": 37,
   "metadata": {},
   "outputs": [
    {
     "data": {
      "text/plain": [
       "[2, 0, 0, 2, 1, 1, 0]"
      ]
     },
     "execution_count": 37,
     "metadata": {},
     "output_type": "execute_result"
    }
   ],
   "source": [
    "for i in range(len(df_all)):\n",
    "    if df_all['Condition'][i] == 'n':\n",
    "        redial2[i]= 0\n",
    "redial2"
   ]
  },
  {
   "cell_type": "code",
   "execution_count": 38,
   "metadata": {},
   "outputs": [
    {
     "data": {
      "text/plain": [
       "[2, 0, 0, 2, 1, 1, 0]"
      ]
     },
     "execution_count": 38,
     "metadata": {},
     "output_type": "execute_result"
    }
   ],
   "source": [
    "redial2"
   ]
  },
  {
   "cell_type": "code",
   "execution_count": 39,
   "metadata": {},
   "outputs": [
    {
     "data": {
      "text/plain": [
       "array([445951234567, 445951234568, 445951234569, 445951234567,\n",
       "       445961234567, 445961234567, 445971234567])"
      ]
     },
     "execution_count": 39,
     "metadata": {},
     "output_type": "execute_result"
    }
   ],
   "source": [
    "s =np.array(df_all['dateId3'])\n",
    "s"
   ]
  },
  {
   "cell_type": "code",
   "execution_count": 40,
   "metadata": {},
   "outputs": [
    {
     "data": {
      "text/plain": [
       "array([2, 2, 1, 1, 1])"
      ]
     },
     "execution_count": 40,
     "metadata": {},
     "output_type": "execute_result"
    }
   ],
   "source": [
    "counter2"
   ]
  },
  {
   "cell_type": "code",
   "execution_count": 28,
   "metadata": {},
   "outputs": [
    {
     "name": "stdout",
     "output_type": "stream",
     "text": [
      "False\n",
      "False\n",
      "False\n"
     ]
    }
   ],
   "source": [
    "a =445961234567\n",
    "print(a == 445931234567) \n",
    "print(a == 445941234567)\n",
    "print(a  == 445931234568)"
   ]
  },
  {
   "cell_type": "code",
   "execution_count": 41,
   "metadata": {},
   "outputs": [
    {
     "name": "stdout",
     "output_type": "stream",
     "text": [
      "0 4 445941234567\n",
      "3 4 445941234567\n"
     ]
    },
    {
     "data": {
      "text/plain": [
       "[1, 0, 0, 1, 0, 0, 0]"
      ]
     },
     "execution_count": 41,
     "metadata": {},
     "output_type": "execute_result"
    }
   ],
   "source": [
    "redial3 =[0]*len(s)\n",
    "for i in range(len(s)):\n",
    "    for j  in range(len(counter2)):\n",
    "        if s[i]==keys[j]:\n",
    "            redial3[i]=counter2[j]\n",
    "            print(i,j,r[i])\n",
    "redial3"
   ]
  },
  {
   "cell_type": "code",
   "execution_count": 42,
   "metadata": {},
   "outputs": [
    {
     "data": {
      "text/plain": [
       "[1, 0, 0, 1, 0, 0, 0]"
      ]
     },
     "execution_count": 42,
     "metadata": {},
     "output_type": "execute_result"
    }
   ],
   "source": [
    "for i in range(len(df_all)):\n",
    "    if df_all['Condition'][i] == 'n':\n",
    "        redial3[i]= 0\n",
    "redial3"
   ]
  },
  {
   "cell_type": "code",
   "execution_count": 43,
   "metadata": {},
   "outputs": [
    {
     "data": {
      "text/html": [
       "<div>\n",
       "<style scoped>\n",
       "    .dataframe tbody tr th:only-of-type {\n",
       "        vertical-align: middle;\n",
       "    }\n",
       "\n",
       "    .dataframe tbody tr th {\n",
       "        vertical-align: top;\n",
       "    }\n",
       "\n",
       "    .dataframe thead th {\n",
       "        text-align: right;\n",
       "    }\n",
       "</style>\n",
       "<table border=\"1\" class=\"dataframe\">\n",
       "  <thead>\n",
       "    <tr style=\"text-align: right;\">\n",
       "      <th></th>\n",
       "      <th>Condition</th>\n",
       "      <th>Date</th>\n",
       "      <th>phone</th>\n",
       "      <th>dateId</th>\n",
       "      <th>redial1</th>\n",
       "      <th>nextDay</th>\n",
       "      <th>dateId2</th>\n",
       "      <th>redial2</th>\n",
       "      <th>twoDays</th>\n",
       "      <th>dateId3</th>\n",
       "      <th>redial3</th>\n",
       "    </tr>\n",
       "  </thead>\n",
       "  <tbody>\n",
       "    <tr>\n",
       "      <th>0</th>\n",
       "      <td>y</td>\n",
       "      <td>2022-02-01</td>\n",
       "      <td>1234567</td>\n",
       "      <td>445931234567</td>\n",
       "      <td>1</td>\n",
       "      <td>2022-02-02</td>\n",
       "      <td>445941234567</td>\n",
       "      <td>2</td>\n",
       "      <td>2022-02-03</td>\n",
       "      <td>445951234567</td>\n",
       "      <td>1</td>\n",
       "    </tr>\n",
       "    <tr>\n",
       "      <th>1</th>\n",
       "      <td>y</td>\n",
       "      <td>2022-02-01</td>\n",
       "      <td>1234568</td>\n",
       "      <td>445931234568</td>\n",
       "      <td>0</td>\n",
       "      <td>2022-02-02</td>\n",
       "      <td>445941234568</td>\n",
       "      <td>0</td>\n",
       "      <td>2022-02-03</td>\n",
       "      <td>445951234568</td>\n",
       "      <td>0</td>\n",
       "    </tr>\n",
       "    <tr>\n",
       "      <th>2</th>\n",
       "      <td>n</td>\n",
       "      <td>2022-02-01</td>\n",
       "      <td>1234569</td>\n",
       "      <td>445931234569</td>\n",
       "      <td>0</td>\n",
       "      <td>2022-02-02</td>\n",
       "      <td>445941234569</td>\n",
       "      <td>0</td>\n",
       "      <td>2022-02-03</td>\n",
       "      <td>445951234569</td>\n",
       "      <td>0</td>\n",
       "    </tr>\n",
       "    <tr>\n",
       "      <th>3</th>\n",
       "      <td>y</td>\n",
       "      <td>2022-02-01</td>\n",
       "      <td>1234567</td>\n",
       "      <td>445931234567</td>\n",
       "      <td>0</td>\n",
       "      <td>2022-02-02</td>\n",
       "      <td>445941234567</td>\n",
       "      <td>2</td>\n",
       "      <td>2022-02-03</td>\n",
       "      <td>445951234567</td>\n",
       "      <td>1</td>\n",
       "    </tr>\n",
       "    <tr>\n",
       "      <th>4</th>\n",
       "      <td>y</td>\n",
       "      <td>2022-02-02</td>\n",
       "      <td>1234567</td>\n",
       "      <td>445941234567</td>\n",
       "      <td>1</td>\n",
       "      <td>2022-02-03</td>\n",
       "      <td>445951234567</td>\n",
       "      <td>1</td>\n",
       "      <td>2022-02-04</td>\n",
       "      <td>445961234567</td>\n",
       "      <td>0</td>\n",
       "    </tr>\n",
       "    <tr>\n",
       "      <th>5</th>\n",
       "      <td>y</td>\n",
       "      <td>2022-02-02</td>\n",
       "      <td>1234567</td>\n",
       "      <td>445941234567</td>\n",
       "      <td>0</td>\n",
       "      <td>2022-02-03</td>\n",
       "      <td>445951234567</td>\n",
       "      <td>1</td>\n",
       "      <td>2022-02-04</td>\n",
       "      <td>445961234567</td>\n",
       "      <td>0</td>\n",
       "    </tr>\n",
       "    <tr>\n",
       "      <th>6</th>\n",
       "      <td>n</td>\n",
       "      <td>2022-02-03</td>\n",
       "      <td>1234567</td>\n",
       "      <td>445951234567</td>\n",
       "      <td>0</td>\n",
       "      <td>2022-02-04</td>\n",
       "      <td>445961234567</td>\n",
       "      <td>0</td>\n",
       "      <td>2022-02-05</td>\n",
       "      <td>445971234567</td>\n",
       "      <td>0</td>\n",
       "    </tr>\n",
       "  </tbody>\n",
       "</table>\n",
       "</div>"
      ],
      "text/plain": [
       "  Condition       Date    phone        dateId  redial1    nextDay  \\\n",
       "0         y 2022-02-01  1234567  445931234567        1 2022-02-02   \n",
       "1         y 2022-02-01  1234568  445931234568        0 2022-02-02   \n",
       "2         n 2022-02-01  1234569  445931234569        0 2022-02-02   \n",
       "3         y 2022-02-01  1234567  445931234567        0 2022-02-02   \n",
       "4         y 2022-02-02  1234567  445941234567        1 2022-02-03   \n",
       "5         y 2022-02-02  1234567  445941234567        0 2022-02-03   \n",
       "6         n 2022-02-03  1234567  445951234567        0 2022-02-04   \n",
       "\n",
       "        dateId2  redial2    twoDays       dateId3  redial3  \n",
       "0  445941234567        2 2022-02-03  445951234567        1  \n",
       "1  445941234568        0 2022-02-03  445951234568        0  \n",
       "2  445941234569        0 2022-02-03  445951234569        0  \n",
       "3  445941234567        2 2022-02-03  445951234567        1  \n",
       "4  445951234567        1 2022-02-04  445961234567        0  \n",
       "5  445951234567        1 2022-02-04  445961234567        0  \n",
       "6  445961234567        0 2022-02-05  445971234567        0  "
      ]
     },
     "execution_count": 43,
     "metadata": {},
     "output_type": "execute_result"
    }
   ],
   "source": [
    "df_all['redial2'] = redial2\n",
    "df_all['redial3'] = redial3\n",
    "df_all.head(10)"
   ]
  },
  {
   "cell_type": "code",
   "execution_count": null,
   "metadata": {},
   "outputs": [],
   "source": [
    "# Importing Libraries\n",
    "import pandas as pd \n",
    "import numpy as np\n",
    "import warnings\n",
    "warnings.simplefilter(\"ignore\")\n",
    "\n",
    "## Load Dataset\n",
    "df = pd.read_excel('red1.xlsx')\n",
    "df.head()\n",
    "\n",
    "df_all =df\n",
    "df = df.loc[df['Condition'] == 'y']\n",
    "df.head(10)\n",
    "\n",
    "x = np.array(df_all['dateId'])\n"
   ]
  }
 ],
 "metadata": {
  "interpreter": {
   "hash": "f293f16398db128e85df277de8eb5f9ab0a1b28857fa0f1c8543245825f1b931"
  },
  "kernelspec": {
   "display_name": "Python 3.7.7 ('pythonProject')",
   "language": "python",
   "name": "python3"
  },
  "language_info": {
   "codemirror_mode": {
    "name": "ipython",
    "version": 3
   },
   "file_extension": ".py",
   "mimetype": "text/x-python",
   "name": "python",
   "nbconvert_exporter": "python",
   "pygments_lexer": "ipython3",
   "version": "3.7.7"
  },
  "orig_nbformat": 4
 },
 "nbformat": 4,
 "nbformat_minor": 2
}
