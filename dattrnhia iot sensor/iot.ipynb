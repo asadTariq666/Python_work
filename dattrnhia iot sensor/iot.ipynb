{
 "cells": [
  {
   "attachments": {},
   "cell_type": "markdown",
   "metadata": {},
   "source": [
    "## Importing Libraries"
   ]
  },
  {
   "cell_type": "code",
   "execution_count": 125,
   "id": "451bb908",
   "metadata": {},
   "outputs": [],
   "source": [
    "# Importing Libraries\n",
    "import pandas as pd \n",
    "import numpy as np\n",
    "import seaborn as sns\n",
    "import matplotlib.pyplot as plt\n",
    "import warnings\n",
    "warnings.simplefilter(\"ignore\")\n"
   ]
  },
  {
   "cell_type": "markdown",
   "id": "431125c2",
   "metadata": {},
   "source": [
    "## Importing data set"
   ]
  },
  {
   "cell_type": "code",
   "execution_count": 126,
   "id": "c65c5a5e",
   "metadata": {},
   "outputs": [
    {
     "data": {
      "text/html": [
       "<div>\n",
       "<style scoped>\n",
       "    .dataframe tbody tr th:only-of-type {\n",
       "        vertical-align: middle;\n",
       "    }\n",
       "\n",
       "    .dataframe tbody tr th {\n",
       "        vertical-align: top;\n",
       "    }\n",
       "\n",
       "    .dataframe thead th {\n",
       "        text-align: right;\n",
       "    }\n",
       "</style>\n",
       "<table border=\"1\" class=\"dataframe\">\n",
       "  <thead>\n",
       "    <tr style=\"text-align: right;\">\n",
       "      <th></th>\n",
       "      <th>time</th>\n",
       "      <th>env_condition</th>\n",
       "      <th>Electric UV light</th>\n",
       "      <th>PM Sensor</th>\n",
       "      <th>Motion Detect</th>\n",
       "      <th>Air Q sensor</th>\n",
       "      <th>temperature</th>\n",
       "      <th>humidity</th>\n",
       "      <th>CO reading</th>\n",
       "    </tr>\n",
       "  </thead>\n",
       "  <tbody>\n",
       "    <tr>\n",
       "      <th>0</th>\n",
       "      <td>1:26:00 am</td>\n",
       "      <td>warm &amp; dry</td>\n",
       "      <td>Off</td>\n",
       "      <td>0.008</td>\n",
       "      <td>Off</td>\n",
       "      <td>0.020</td>\n",
       "      <td>25.7</td>\n",
       "      <td>51.0</td>\n",
       "      <td>0.005</td>\n",
       "    </tr>\n",
       "    <tr>\n",
       "      <th>1</th>\n",
       "      <td>3:50:00 am</td>\n",
       "      <td>cold &amp; wet</td>\n",
       "      <td>Off</td>\n",
       "      <td>0.005</td>\n",
       "      <td>Off</td>\n",
       "      <td>0.013</td>\n",
       "      <td>22.7</td>\n",
       "      <td>76.0</td>\n",
       "      <td>0.003</td>\n",
       "    </tr>\n",
       "    <tr>\n",
       "      <th>2</th>\n",
       "      <td>6:14:00 am</td>\n",
       "      <td>warm &amp; dry</td>\n",
       "      <td>Off</td>\n",
       "      <td>0.008</td>\n",
       "      <td>Off</td>\n",
       "      <td>0.020</td>\n",
       "      <td>24.6</td>\n",
       "      <td>50.9</td>\n",
       "      <td>0.005</td>\n",
       "    </tr>\n",
       "    <tr>\n",
       "      <th>3</th>\n",
       "      <td>8:38:00 am</td>\n",
       "      <td>var temp &amp; humid</td>\n",
       "      <td>On</td>\n",
       "      <td>0.007</td>\n",
       "      <td>Off</td>\n",
       "      <td>0.019</td>\n",
       "      <td>28.0</td>\n",
       "      <td>76.8</td>\n",
       "      <td>0.004</td>\n",
       "    </tr>\n",
       "    <tr>\n",
       "      <th>4</th>\n",
       "      <td>11:02:00 am</td>\n",
       "      <td>warm &amp; dry</td>\n",
       "      <td>Off</td>\n",
       "      <td>0.008</td>\n",
       "      <td>Off</td>\n",
       "      <td>0.020</td>\n",
       "      <td>26.6</td>\n",
       "      <td>50.9</td>\n",
       "      <td>0.005</td>\n",
       "    </tr>\n",
       "  </tbody>\n",
       "</table>\n",
       "</div>"
      ],
      "text/plain": [
       "          time     env_condition Electric UV light  PM Sensor Motion Detect  \\\n",
       "0   1:26:00 am        warm & dry               Off      0.008           Off   \n",
       "1   3:50:00 am        cold & wet               Off      0.005           Off   \n",
       "2   6:14:00 am        warm & dry               Off      0.008           Off   \n",
       "3   8:38:00 am  var temp & humid                On      0.007           Off   \n",
       "4  11:02:00 am        warm & dry               Off      0.008           Off   \n",
       "\n",
       "   Air Q sensor  temperature  humidity  CO reading  \n",
       "0         0.020         25.7      51.0       0.005  \n",
       "1         0.013         22.7      76.0       0.003  \n",
       "2         0.020         24.6      50.9       0.005  \n",
       "3         0.019         28.0      76.8       0.004  \n",
       "4         0.020         26.6      50.9       0.005  "
      ]
     },
     "execution_count": 126,
     "metadata": {},
     "output_type": "execute_result"
    }
   ],
   "source": [
    "df = pd.read_csv('IOT_SENSOR.csv')\n",
    "df.head(5)"
   ]
  },
  {
   "cell_type": "code",
   "execution_count": 127,
   "metadata": {},
   "outputs": [
    {
     "data": {
      "text/plain": [
       "(25000, 9)"
      ]
     },
     "execution_count": 127,
     "metadata": {},
     "output_type": "execute_result"
    }
   ],
   "source": [
    "df.shape"
   ]
  },
  {
   "attachments": {},
   "cell_type": "markdown",
   "metadata": {},
   "source": [
    "## 1. Feature Engineering (Data cleaning and preprocessing) (Total marks:50)\n",
    "\n"
   ]
  },
  {
   "attachments": {},
   "cell_type": "markdown",
   "metadata": {},
   "source": [
    "### a) Verify if the dataset is imbalanced. [Hint: set 0.33 as the ratio of the balanced dataset]. (5 marks)"
   ]
  },
  {
   "cell_type": "code",
   "execution_count": 128,
   "metadata": {},
   "outputs": [
    {
     "name": "stdout",
     "output_type": "stream",
     "text": [
      "************** 1. Feature Engineering (Data cleaning and preprocessing) (Total marks:50)************\n",
      "++++++++++### a) Verify if the dataset is imbalanced. [Hint: set 0.33 as the ratio of the balanced dataset]. (5 marks)++++++++++++\n",
      "Ratio of each class\n",
      "warm & dry          0.46276\n",
      "cold & wet          0.27640\n",
      "var temp & humid    0.26084\n",
      "Name: env_condition, dtype: float64\n",
      "2 categories i.e. 'cold & wet' and 'var temp & humid'  have ratio less than 0.33, hence the dataset is imbalanced\n"
     ]
    }
   ],
   "source": [
    "print('************** 1. Feature Engineering (Data cleaning and preprocessing) (Total marks:50)************')\n",
    "print('++++++++++### a) Verify if the dataset is imbalanced. [Hint: set 0.33 as the ratio of the balanced dataset]. (5 marks)++++++++++++')\n",
    "print('Ratio of each class')\n",
    "print(df.env_condition.value_counts(normalize=True))\n",
    "print(\"2 categories i.e. 'cold & wet' and 'var temp & humid'  have ratio less than 0.33, hence the dataset is imbalanced\")\n"
   ]
  },
  {
   "attachments": {},
   "cell_type": "markdown",
   "metadata": {},
   "source": [
    "### b) This is not a temporal or time series prediction. Therefore, remove unnecessary xvariables which are not useful for classification modelling."
   ]
  },
  {
   "cell_type": "code",
   "execution_count": 129,
   "metadata": {},
   "outputs": [
    {
     "name": "stdout",
     "output_type": "stream",
     "text": [
      "-------------------------------------------------------------\n",
      "### b) This is not a temporal or time series prediction. Therefore, remove unnecessary xvariables which are not useful for classification modelling.\n"
     ]
    },
    {
     "data": {
      "text/html": [
       "<div>\n",
       "<style scoped>\n",
       "    .dataframe tbody tr th:only-of-type {\n",
       "        vertical-align: middle;\n",
       "    }\n",
       "\n",
       "    .dataframe tbody tr th {\n",
       "        vertical-align: top;\n",
       "    }\n",
       "\n",
       "    .dataframe thead th {\n",
       "        text-align: right;\n",
       "    }\n",
       "</style>\n",
       "<table border=\"1\" class=\"dataframe\">\n",
       "  <thead>\n",
       "    <tr style=\"text-align: right;\">\n",
       "      <th></th>\n",
       "      <th>env_condition</th>\n",
       "      <th>Electric UV light</th>\n",
       "      <th>PM Sensor</th>\n",
       "      <th>Motion Detect</th>\n",
       "      <th>Air Q sensor</th>\n",
       "      <th>temperature</th>\n",
       "      <th>humidity</th>\n",
       "      <th>CO reading</th>\n",
       "    </tr>\n",
       "  </thead>\n",
       "  <tbody>\n",
       "    <tr>\n",
       "      <th>0</th>\n",
       "      <td>warm &amp; dry</td>\n",
       "      <td>Off</td>\n",
       "      <td>0.008</td>\n",
       "      <td>Off</td>\n",
       "      <td>0.020</td>\n",
       "      <td>25.7</td>\n",
       "      <td>51.0</td>\n",
       "      <td>0.005</td>\n",
       "    </tr>\n",
       "    <tr>\n",
       "      <th>1</th>\n",
       "      <td>cold &amp; wet</td>\n",
       "      <td>Off</td>\n",
       "      <td>0.005</td>\n",
       "      <td>Off</td>\n",
       "      <td>0.013</td>\n",
       "      <td>22.7</td>\n",
       "      <td>76.0</td>\n",
       "      <td>0.003</td>\n",
       "    </tr>\n",
       "    <tr>\n",
       "      <th>2</th>\n",
       "      <td>warm &amp; dry</td>\n",
       "      <td>Off</td>\n",
       "      <td>0.008</td>\n",
       "      <td>Off</td>\n",
       "      <td>0.020</td>\n",
       "      <td>24.6</td>\n",
       "      <td>50.9</td>\n",
       "      <td>0.005</td>\n",
       "    </tr>\n",
       "    <tr>\n",
       "      <th>3</th>\n",
       "      <td>var temp &amp; humid</td>\n",
       "      <td>On</td>\n",
       "      <td>0.007</td>\n",
       "      <td>Off</td>\n",
       "      <td>0.019</td>\n",
       "      <td>28.0</td>\n",
       "      <td>76.8</td>\n",
       "      <td>0.004</td>\n",
       "    </tr>\n",
       "    <tr>\n",
       "      <th>4</th>\n",
       "      <td>warm &amp; dry</td>\n",
       "      <td>Off</td>\n",
       "      <td>0.008</td>\n",
       "      <td>Off</td>\n",
       "      <td>0.020</td>\n",
       "      <td>26.6</td>\n",
       "      <td>50.9</td>\n",
       "      <td>0.005</td>\n",
       "    </tr>\n",
       "  </tbody>\n",
       "</table>\n",
       "</div>"
      ],
      "text/plain": [
       "      env_condition Electric UV light  PM Sensor Motion Detect  Air Q sensor  \\\n",
       "0        warm & dry               Off      0.008           Off         0.020   \n",
       "1        cold & wet               Off      0.005           Off         0.013   \n",
       "2        warm & dry               Off      0.008           Off         0.020   \n",
       "3  var temp & humid                On      0.007           Off         0.019   \n",
       "4        warm & dry               Off      0.008           Off         0.020   \n",
       "\n",
       "   temperature  humidity  CO reading  \n",
       "0         25.7      51.0       0.005  \n",
       "1         22.7      76.0       0.003  \n",
       "2         24.6      50.9       0.005  \n",
       "3         28.0      76.8       0.004  \n",
       "4         26.6      50.9       0.005  "
      ]
     },
     "execution_count": 129,
     "metadata": {},
     "output_type": "execute_result"
    }
   ],
   "source": [
    "### Dropping time data from the dataframe\n",
    "print('-------------------------------------------------------------')\n",
    "print('### b) This is not a temporal or time series prediction. Therefore, remove unnecessary xvariables which are not useful for classification modelling.')\n",
    "df = df.drop(['time'],axis=1)\n",
    "df.head()"
   ]
  },
  {
   "attachments": {},
   "cell_type": "markdown",
   "metadata": {},
   "source": [
    "### c) Provide correlation matrix of each variable."
   ]
  },
  {
   "cell_type": "code",
   "execution_count": 130,
   "metadata": {},
   "outputs": [
    {
     "name": "stdout",
     "output_type": "stream",
     "text": [
      "-------------------------------------------------------------\n",
      "### c) Provide correlation matrix of each variable.\n",
      "              PM Sensor  Air Q sensor  temperature  humidity  CO reading\n",
      "PM Sensor      1.000000      0.009191     0.010048 -0.113421    0.377626\n",
      "Air Q sensor   0.009191      1.000000     0.006545 -0.063393   -0.003663\n",
      "temperature    0.010048      0.006545     1.000000  0.037915   -0.003418\n",
      "humidity      -0.113421     -0.063393     0.037915  1.000000   -0.031814\n",
      "CO reading     0.377626     -0.003663    -0.003418 -0.031814    1.000000\n"
     ]
    }
   ],
   "source": [
    "print('-------------------------------------------------------------')\n",
    "print('### c) Provide correlation matrix of each variable.')\n",
    "print(df.corr())"
   ]
  },
  {
   "attachments": {},
   "cell_type": "markdown",
   "metadata": {},
   "source": [
    "### d) Categorize numerical and categorical variable"
   ]
  },
  {
   "cell_type": "code",
   "execution_count": 131,
   "metadata": {},
   "outputs": [
    {
     "name": "stdout",
     "output_type": "stream",
     "text": [
      "-------------------------------------------------------------\n",
      "### d) Categorize numerical and categorical variable\n",
      "***Categorical Features:*** \"1. env_condition\", \"2. Electric UV light\", \"3. Motion Detect\"\n",
      "***Numerical Features:*** \"1. PM Sensor  \", \"2. Air Q sensor \", \"3.  temperature \", \"4. humidity \", \"5.  CO reading\"\n"
     ]
    }
   ],
   "source": [
    "print('-------------------------------------------------------------')\n",
    "print('### d) Categorize numerical and categorical variable')\n",
    "print('***Categorical Features:*** \"1. env_condition\", \"2. Electric UV light\", \"3. Motion Detect\"')\n",
    "\n",
    "print('***Numerical Features:*** \"1. PM Sensor  \", \"2. Air Q sensor \", \"3.  temperature \", \"4. humidity \", \"5.  CO reading\"')"
   ]
  },
  {
   "attachments": {},
   "cell_type": "markdown",
   "metadata": {},
   "source": [
    "### e) Based on the numerical/categorical variable identified in d), verify if the dataset has missing value, use proper method to cater the missing value: (8 marks)\n"
   ]
  },
  {
   "cell_type": "code",
   "execution_count": 132,
   "metadata": {},
   "outputs": [
    {
     "name": "stdout",
     "output_type": "stream",
     "text": [
      "-------------------------------------------------------------\n",
      "### e) Based on the numerical/categorical variable identified in d), verify if the dataset has missing value, use proper method to cater the missing value: (8 marks)\n",
      "Missing values in each column:\n",
      "env_condition        0\n",
      "Electric UV light    0\n",
      "PM Sensor            4\n",
      "Motion Detect        0\n",
      "Air Q sensor         1\n",
      "temperature          2\n",
      "humidity             0\n",
      "CO reading           6\n",
      "dtype: int64\n",
      "Percentage of missing values:\n",
      "                         column_name  percent_missing\n",
      "env_condition          env_condition            0.000\n",
      "Electric UV light  Electric UV light            0.000\n",
      "PM Sensor                  PM Sensor            0.016\n",
      "Motion Detect          Motion Detect            0.000\n",
      "Air Q sensor            Air Q sensor            0.004\n",
      "temperature              temperature            0.008\n",
      "humidity                    humidity            0.000\n",
      "CO reading                CO reading            0.024\n",
      "Percentage of missing values for every column is less than 5%, so removing rows with missing data:\n",
      "env_condition        0\n",
      "Electric UV light    0\n",
      "PM Sensor            0\n",
      "Motion Detect        0\n",
      "Air Q sensor         0\n",
      "temperature          0\n",
      "humidity             0\n",
      "CO reading           0\n",
      "dtype: int64\n"
     ]
    }
   ],
   "source": [
    "print('-------------------------------------------------------------')\n",
    "print('### e) Based on the numerical/categorical variable identified in d), verify if the dataset has missing value, use proper method to cater the missing value: (8 marks)')\n",
    "print('Missing values in each column:')\n",
    "print(df.isna().sum())\n",
    "size =len(df)\n",
    "null_percentage = df.isna().sum() * 100 / size\n",
    "missing_value_df = pd.DataFrame({'column_name': df.columns,\n",
    "                                 'percent_missing': null_percentage})\n",
    "print('Percentage of missing values:')                                \n",
    "print( missing_value_df)\n",
    "print('Percentage of missing values for every column is less than 5%, so removing rows with missing data:')    \n",
    "df = df.notna()\n",
    "print(df.isna().sum())\n"
   ]
  },
  {
   "attachments": {},
   "cell_type": "markdown",
   "metadata": {},
   "source": [
    "### f.  Use Pandas DataFrame to obtain the following: (15 marks)\n",
    "i) Find mean, median, std deviation of each numerical variable identified in 1(d)\n",
    "ii) Use the following equation to identify if the numerical variables (from 1e) have\n",
    "outliers. Return the quantity of outliers. You can use the following equations:\n",
    "• Outlier on the upper side = 3rd Quartile + 1.5 * IQR\n",
    "• Outlier on the lower side = 1st Quartile – 1.5 * IQR\n",
    "• Where, IQR (interquartile range) = 3rd Quartile – 1st Quartile"
   ]
  },
  {
   "cell_type": "code",
   "execution_count": 124,
   "metadata": {},
   "outputs": [
    {
     "name": "stdout",
     "output_type": "stream",
     "text": [
      "-------------------------------------------------------------\n",
      "\n"
     ]
    }
   ],
   "source": [
    "print('-------------------------------------------------------------')\n",
    "print(\"*** f 1: Find mean, median, std deviation of each numerical variable identified in 1(d)***\")\n"
   ]
  },
  {
   "attachments": {},
   "cell_type": "markdown",
   "metadata": {},
   "source": []
  },
  {
   "cell_type": "code",
   "execution_count": null,
   "metadata": {},
   "outputs": [],
   "source": [
    "df[['env_condition','Electric UV light','Motion Detect']]=df[['env_condition','Electric UV light','Motion Detect']].apply(lambda x: pd.factorize(x)[0])\n",
    "df.head()"
   ]
  }
 ],
 "metadata": {
  "kernelspec": {
   "display_name": "Python 3",
   "language": "python",
   "name": "python3"
  },
  "language_info": {
   "codemirror_mode": {
    "name": "ipython",
    "version": 3
   },
   "file_extension": ".py",
   "mimetype": "text/x-python",
   "name": "python",
   "nbconvert_exporter": "python",
   "pygments_lexer": "ipython3",
   "version": "3.9.15"
  },
  "orig_nbformat": 4,
  "vscode": {
   "interpreter": {
    "hash": "397704579725e15f5c7cb49fe5f0341eb7531c82d19f2c29d197e8b64ab5776b"
   }
  }
 },
 "nbformat": 4,
 "nbformat_minor": 2
}
