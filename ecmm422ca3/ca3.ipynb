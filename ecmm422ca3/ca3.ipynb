{
 "cells": [
  {
   "cell_type": "markdown",
   "metadata": {
    "deletable": false,
    "editable": false,
    "nbgrader": {
     "cell_type": "markdown",
     "checksum": "56ad6cefca35df20ca003a765b0123f2",
     "grade": false,
     "grade_id": "cell-b681404766d89b94",
     "locked": true,
     "schema_version": 3,
     "solution": false,
     "task": false
    }
   },
   "source": [
    "# ECMM422 Machine Learning\n",
    "## Course Assessment 3 Ref/Def\n",
    "\n",
    "\n",
    "This course assessment (CA3) represents 100% of the overall module assessment.\n",
    "\n",
    "This is an individual exercise and your attention is drawn to the College and University guidelines on collaboration and plagiarism, which are available from the College website.\n",
    "\n",
    "\n",
    "**Submission information:**\n",
    "1. do not change the name of this notebook, i.e. the notebook file has to be: `ca3.ipynb`\n",
    "2. do not add you name or student code in the notebook or in the file name\n",
    "3. do not remove or delete or add any cell in this notebook: you should work on a separate, private notebook and only when you are finished debugging then copy the function implementations in the cells of this notebook (and make sure to copy **only** the function implementation and nothing else)\n",
    "4. remove the `raise NotImplementedError()` under the `# YOUR CODE HERE` and replace it with **your code**: note that if you leave it in the cell you will fail the associated test\n",
    "\n",
    "\n",
    "**Evaluation criteria:**\n",
    "\n",
    "Each question asks for one or more functions to be implemented. \n",
    "\n",
    "- Each function is awarded a number of marks. \n",
    "- A hidden unit test is going to evaluate if all desired properties of the required function are met. \n",
    "- If the function passes the test all the associated marks are awarded, if it fails 0 marks are awarded.\n",
    "- If you make a typo error (e.g. mispelling a variable) this will likely causes a syntax error, the function execution will fail and you will be awarded 0 marks.\n",
    "- Do not make assumptions on the state of previous cells, i.e. expect each function to be evaluated independently, moreover expect each function to be tested in the unit tests on some *randomly* generated input.\n",
    "\n",
    "Although the test use a hard fail/pass strategy to assign marks, the large number of questions allows a fine grading. \n",
    "\n",
    "The Checkpoints are not graded by default, but might be used to assign additional marks in case the execution of the code obtains the desired results even when some tests might fail."
   ]
  },
  {
   "cell_type": "markdown",
   "metadata": {
    "deletable": false,
    "editable": false,
    "nbgrader": {
     "cell_type": "markdown",
     "checksum": "36e413c2ae064e8386301302bc0af762",
     "grade": false,
     "grade_id": "cell-ddb29af9845c75cc",
     "locked": true,
     "schema_version": 3,
     "solution": false,
     "task": false
    }
   },
   "source": [
    "## Conventions and notation:\n",
    "\n",
    "Do not assume any library is avaialble other than `matplotlib`, `numpy` and `scipy`.\n",
    "\n",
    "Assume Python 3.7.\n",
    "\n",
    "---\n",
    "\n",
    "We call *rank* the number of indices required to get individual elements of an array. A matrix requires two indices (row, column), and has thus rank 2, a vector requires one index and has rank 1, a scalar does not require any index and has rank 0. The components that make up rank are called *axes* (plural of axis). The dimension is how many elements are in a particular axis. A *shape* is a tuple whose length is the rank and elements are the dimension of each axis.\n",
    "\n",
    "In the rest of the notebook, the term `data matrix` refers to a rank two numpy array where instances are encoded as rows, e.g. a data matrix with 100 rows and 4 columns is to be interpreted as a collection of 100 instances (vectors) each of dimension four.\n",
    "\n",
    "In the rest of the notebook, the term `vector` refers to a rank one numpy array. \n",
    "\n",
    "When we explicitly use the term `column vector` we mean a rank 2 array of shape `(n,1)`, when we explicitly use the term `row vector` we mean a rank 2 vector of shape `(1,n)`.\n",
    "\n",
    "When the term `distance` is used we mean the Euclidean distance. \n",
    "\n",
    "The functions you are required to write need to take in input and return as output such objects (i.e. not python lists).\n",
    "\n",
    "---\n",
    "\n",
    "When a required function can be implemented directly by a library function it is intended that the candidate should write her own implementation of the function (e.g. a function to compute `accuracy`).\n",
    "\n",
    "---\n",
    "\n",
    "Do not assume that the implementations provided in the Workshops exercises contain no mistakes. You should write and are ultimately responsible for the code that you submit in this Assessment.\n",
    "\n"
   ]
  },
  {
   "cell_type": "code",
   "execution_count": null,
   "metadata": {
    "deletable": false,
    "editable": false,
    "nbgrader": {
     "cell_type": "code",
     "checksum": "c414d558be436a0927bf386c1bd956c8",
     "grade": false,
     "grade_id": "cell-864afe73677aa10c",
     "locked": true,
     "schema_version": 3,
     "solution": false,
     "task": false
    }
   },
   "outputs": [],
   "source": [
    "%matplotlib inline\n",
    "import matplotlib.pyplot as plt\n",
    "import numpy as np\n",
    "import scipy as sp"
   ]
  },
  {
   "cell_type": "markdown",
   "metadata": {
    "deletable": false,
    "editable": false,
    "nbgrader": {
     "cell_type": "markdown",
     "checksum": "133a0d4392943bf401071cf28d9c3723",
     "grade": false,
     "grade_id": "cell-59810fa699f9cbd0",
     "locked": true,
     "schema_version": 3,
     "solution": false,
     "task": false
    }
   },
   "source": [
    "## Question 1. Generating Data  [marks  20 ]\n",
    "\n",
    "In the first section you will be generating an artificial dataset which you will later use for creating and testing your own learning algorithms.\n",
    "More specifically, you are asked to code custom functions to generate instances and labels for a multiclass classification task.\n",
    "\n",
    "The idea is to generate points in 2 dimensions and associate the class information in a checkerboard configuration. In order to generate a multi-class problem, one of the classes will change according to the values of the first axis, while the zero class will not be affected. \n",
    "\n",
    "---\n",
    "\n",
    "Make the following functions:\n",
    "\n",
    "a) `X,y = make_data(n_instances, n_classes, n_squares)` to generate a rank 2 data matrix and a `targets` rank 1 vector according to the following rules:\n",
    "\n",
    "1. `X` is a data matrix with `n_instances` rows and 2 columns\n",
    "2. the parameters `n_classes` and `n_squares` indicate the desired number of classes and squares respectively\n",
    "3. the instances are drawn uniformly at random from the interval [-1,1] in each dimension\n",
    "4. the class assigned to instances follows a checkered pattern\n",
    "5. the class 0 follows a checkered pattern everywhere\n",
    "6. all other classes follow a checkered pattern but are limited to a band defined on the first axis\n",
    "7. all bands are of equal size\n",
    "8. the bands limits might not coincide with the square limits of the checkered pattern\n",
    "9. class 1 is assigned to the first band, class 2 to the second, etc \n",
    "<div style=\"text-align: right\"><b>[17 marks]</b></div>\n",
    "\n",
    "b) `plot(X,y, title)` to display the two dimensional scatter plot of a data matrix `X` using the information in `y` to assign the colour to the instances. The function takes in input also a string `title` to display the title information. \n",
    "<div style=\"text-align: right\"><b>[3 marks]</b></div>\n",
    "\n",
    "\n",
    "Consult the Checkpoint for a graphical example of the expected output."
   ]
  },
  {
   "cell_type": "code",
   "execution_count": null,
   "metadata": {
    "deletable": false,
    "nbgrader": {
     "cell_type": "code",
     "checksum": "fb36f361fd56833e516c9b2b0e188603",
     "grade": false,
     "grade_id": "cell-fb96f63eef3fae06",
     "locked": false,
     "schema_version": 3,
     "solution": true,
     "task": false
    }
   },
   "outputs": [],
   "source": [
    "def make_data(n_instances, n_classes, n_squares):\n",
    "    # YOUR CODE HERE\n",
    "    raise NotImplementedError()\n",
    "\n",
    "def plot(X,y, title):\n",
    "    # YOUR CODE HERE\n",
    "    raise NotImplementedError()"
   ]
  },
  {
   "cell_type": "code",
   "execution_count": null,
   "metadata": {
    "deletable": false,
    "editable": false,
    "nbgrader": {
     "cell_type": "code",
     "checksum": "8b7825b887b29d1a7e46246299e695b4",
     "grade": true,
     "grade_id": "cell-b20523e7b3a26572",
     "locked": true,
     "points": 6,
     "schema_version": 3,
     "solution": false,
     "task": false
    }
   },
   "outputs": [],
   "source": [
    "# This cell is reserved for the unit tests. Do not consider this cell. "
   ]
  },
  {
   "cell_type": "code",
   "execution_count": null,
   "metadata": {
    "deletable": false,
    "editable": false,
    "nbgrader": {
     "cell_type": "code",
     "checksum": "71889d9aec6d771eed3ddde26894a179",
     "grade": true,
     "grade_id": "cell-b3391187605d71f5",
     "locked": true,
     "points": 6,
     "schema_version": 3,
     "solution": false,
     "task": false
    }
   },
   "outputs": [],
   "source": [
    "# This cell is reserved for the unit tests. Do not consider this cell. "
   ]
  },
  {
   "cell_type": "code",
   "execution_count": null,
   "metadata": {
    "deletable": false,
    "editable": false,
    "nbgrader": {
     "cell_type": "code",
     "checksum": "d8be827c346117c95c88fc563c30db05",
     "grade": true,
     "grade_id": "cell-73df4dfc4258a0c0",
     "locked": true,
     "points": 5,
     "schema_version": 3,
     "solution": false,
     "task": false
    }
   },
   "outputs": [],
   "source": [
    "# This cell is reserved for the unit tests. Do not consider this cell. "
   ]
  },
  {
   "cell_type": "code",
   "execution_count": null,
   "metadata": {
    "deletable": false,
    "editable": false,
    "nbgrader": {
     "cell_type": "code",
     "checksum": "6f667e73d7668bbd95108f423f323a4a",
     "grade": true,
     "grade_id": "cell-b2fb1560519938dd",
     "locked": true,
     "points": 3,
     "schema_version": 3,
     "solution": false,
     "task": false
    }
   },
   "outputs": [],
   "source": [
    "# This cell is reserved for the unit tests. Do not consider this cell. "
   ]
  },
  {
   "cell_type": "markdown",
   "metadata": {
    "deletable": false,
    "editable": false,
    "nbgrader": {
     "cell_type": "markdown",
     "checksum": "98918ca25c5b8e272dde1202ab509b03",
     "grade": false,
     "grade_id": "cell-3931e636c55fa724",
     "locked": true,
     "schema_version": 3,
     "solution": false,
     "task": false
    }
   },
   "source": [
    "## Checkpoint\n",
    "\n",
    "This is just a check-point, i.e. it is for you to see that you are correctly implementing all functions.\n",
    "\n",
    "By executing the following code (just execute the next cell):\n",
    "```python\n",
    "X,y = make_data(n_instances=2000, n_classes=2, n_squares=5)\n",
    "plot(X, y, title='dataset 2,5')\n",
    "\n",
    "X,y = make_data(n_instances=2000, n_classes=4, n_squares=3)\n",
    "plot(X, y, title='dataset 4,3')\n",
    "\n",
    "X,y = make_data(n_instances=2000, n_classes=4, n_squares=4)\n",
    "plot(X, y, title='dataset 4,4')\n",
    "```\n",
    "you should obtain an output similar to:\n",
    "\n",
    "<img src='plot1.png' width=300>\n",
    "\n",
    "<img src='plot2.png' width=300>\n",
    "\n",
    "<img src='plot3.png' width=300>"
   ]
  },
  {
   "cell_type": "code",
   "execution_count": null,
   "metadata": {
    "deletable": false,
    "editable": false,
    "nbgrader": {
     "cell_type": "code",
     "checksum": "b6d3dcfb162f9e34a1ffcf47a7fae18e",
     "grade": true,
     "grade_id": "cell-c57d097808ae83b1",
     "locked": true,
     "points": 0,
     "schema_version": 3,
     "solution": false,
     "task": false
    }
   },
   "outputs": [],
   "source": [
    "X,y = make_data(n_instances=2000, n_classes=2, n_squares=5)\n",
    "plot(X, y, title='dataset 2,5')\n",
    "\n",
    "X,y = make_data(n_instances=2000, n_classes=4, n_squares=3)\n",
    "plot(X, y, title='dataset 4,3')\n",
    "\n",
    "X,y = make_data(n_instances=2000, n_classes=4, n_squares=4)\n",
    "plot(X, y, title='dataset 4,4')"
   ]
  },
  {
   "cell_type": "markdown",
   "metadata": {
    "deletable": false,
    "editable": false,
    "nbgrader": {
     "cell_type": "markdown",
     "checksum": "8d61e66f92b4032308939e8592d4d404",
     "grade": false,
     "grade_id": "cell-d6ecc51d0b1f8ac9",
     "locked": true,
     "schema_version": 3,
     "solution": false,
     "task": false
    }
   },
   "source": [
    "## Question 2. Random Forest Classifier [marks   20]\n",
    "\n",
    "In the following section you are asked to implement functions for training and testing a random forest classifier capable of dealing with muticlass tasks.\n",
    "You must use the `scikit` library implementation of the random forest algorithm, i.e. your functions will be a wrapper around the library functions. \n",
    "\n",
    "---\n",
    "\n",
    "Make the following functions:\n",
    "\n",
    "a) `est = fit_rf(X,y,param)` which takes as input the data matrix  `X`, the associated class vector `y`, a parameter `param` that indicates the maximum depth that the decision trees can have, and returns an `est` object that can be used in the predict function. The number of trees in the forest classifier should be fixed to 1000. The data matrix can have an arbitrary number of columns (i.e., it should not be restricted to 2).\n",
    "<div style=\"text-align: right\"><b>[3 marks]</b></div>\n",
    "\n",
    "b) `preds = predict_rf(X,est)` which takes as input the data matrix `X`, a fit random forest estimator `est` and returns a vector of predictions `preds`. Note: if there are `k` classes in the problem, the entries in `preds` will be integers in the range `[0,k-1]`. \n",
    "<div style=\"text-align: right\"><b>[3 marks]</b></div>\n",
    "\n",
    "c) `scores = score_rf(X,est)` which takes as input the data matrix `X`, a fit random forest estimator `est` and returns a data matrix `scores`. The data matrix `scores` is of shape `(n_instances, n_classes)` where each row `i` expresses the classifier preference for the `i-th` instance to be assigned to the class `j` where `j` is the column index. A greater value indicates a stronger preference. The scores must be in the interval [0,1].\n",
    "<div style=\"text-align: right\"><b>[4 marks]</b></div>\n",
    "\n",
    "d) `X_train, X_test, y_train, y_test = train_test_split(X,y, test_size)` which takes as input the data matrix `X`, the associated class vector `y`, a parameter `test_size` that indicates the fraction of the dataset that should be devoted to the test set (e.g. 0.5 indicates 50%). The function returns a tuple containg (in exacly this order) the data matrix for the train set, the data matrix for the test set, the target vector for the train set and the target vector for the test set. The returned data sets should contain a shuffled version of the input instances (taking care to preserve the association between each instance and its corresponding target). You should implement your own version of the function, you must **not** use a library version of the function. \n",
    "<div style=\"text-align: right\"><b>[7 marks]</b></div>\n",
    "\n",
    "e) `accuracy(y, preds)` which takes as input a true class vector `y` and a predicted class vector `preds` (of the same size) and returns the float corresponding to the fraction of correct predictions. You should implement your own version of the function, you must **not** use a library version of the function. \n",
    "<div style=\"text-align: right\"><b>[3 marks]</b></div>"
   ]
  },
  {
   "cell_type": "code",
   "execution_count": null,
   "metadata": {
    "deletable": false,
    "nbgrader": {
     "cell_type": "code",
     "checksum": "b327561bb82787fafa3b6caf4d7b6e8c",
     "grade": false,
     "grade_id": "cell-868879243bf102e8",
     "locked": false,
     "schema_version": 3,
     "solution": true,
     "task": false
    }
   },
   "outputs": [],
   "source": [
    "from sklearn.ensemble import RandomForestClassifier\n",
    "\n",
    "def fit_rf(X,y,param):\n",
    "    # YOUR CODE HERE\n",
    "    raise NotImplementedError()\n",
    "\n",
    "def predict_rf(X,est):\n",
    "    # YOUR CODE HERE\n",
    "    raise NotImplementedError()\n",
    "\n",
    "def score_rf(X,est):\n",
    "    # YOUR CODE HERE\n",
    "    raise NotImplementedError()\n",
    "\n",
    "def train_test_split(X,y, test_size):\n",
    "    # YOUR CODE HERE\n",
    "    raise NotImplementedError()\n",
    "    \n",
    "def accuracy(y, preds):\n",
    "    # YOUR CODE HERE\n",
    "    raise NotImplementedError()"
   ]
  },
  {
   "cell_type": "code",
   "execution_count": null,
   "metadata": {
    "deletable": false,
    "editable": false,
    "nbgrader": {
     "cell_type": "code",
     "checksum": "2522cf215bdf80b78c2b24759071ac08",
     "grade": true,
     "grade_id": "cell-4fb3e59cf9163107",
     "locked": true,
     "points": 3,
     "schema_version": 3,
     "solution": false,
     "task": false
    }
   },
   "outputs": [],
   "source": [
    "# This cell is reserved for the unit tests. Do not consider this cell. "
   ]
  },
  {
   "cell_type": "code",
   "execution_count": null,
   "metadata": {
    "deletable": false,
    "editable": false,
    "nbgrader": {
     "cell_type": "code",
     "checksum": "117556d58baf549f8b54ed9efaf4ca67",
     "grade": true,
     "grade_id": "cell-d36c8ff7271219c9",
     "locked": true,
     "points": 3,
     "schema_version": 3,
     "solution": false,
     "task": false
    }
   },
   "outputs": [],
   "source": [
    "# This cell is reserved for the unit tests. Do not consider this cell. "
   ]
  },
  {
   "cell_type": "code",
   "execution_count": null,
   "metadata": {
    "deletable": false,
    "editable": false,
    "nbgrader": {
     "cell_type": "code",
     "checksum": "1b673f79b721dda555f7d8ad48f13724",
     "grade": true,
     "grade_id": "cell-cdd07d57e0c0647f",
     "locked": true,
     "points": 4,
     "schema_version": 3,
     "solution": false,
     "task": false
    }
   },
   "outputs": [],
   "source": [
    "# This cell is reserved for the unit tests. Do not consider this cell. "
   ]
  },
  {
   "cell_type": "code",
   "execution_count": null,
   "metadata": {
    "deletable": false,
    "editable": false,
    "nbgrader": {
     "cell_type": "code",
     "checksum": "90893a88fcd350656e4cae5fd65e400f",
     "grade": true,
     "grade_id": "cell-9ca1b19b4a6a09db",
     "locked": true,
     "points": 3,
     "schema_version": 3,
     "solution": false,
     "task": false
    }
   },
   "outputs": [],
   "source": [
    "# This cell is reserved for the unit tests. Do not consider this cell. "
   ]
  },
  {
   "cell_type": "code",
   "execution_count": null,
   "metadata": {
    "deletable": false,
    "editable": false,
    "nbgrader": {
     "cell_type": "code",
     "checksum": "ce73ca66657bafba729e075f81c38a6f",
     "grade": true,
     "grade_id": "cell-792d3ad04b5722e3",
     "locked": true,
     "points": 4,
     "schema_version": 3,
     "solution": false,
     "task": false
    }
   },
   "outputs": [],
   "source": [
    "# This cell is reserved for the unit tests. Do not consider this cell. "
   ]
  },
  {
   "cell_type": "code",
   "execution_count": null,
   "metadata": {
    "deletable": false,
    "editable": false,
    "nbgrader": {
     "cell_type": "code",
     "checksum": "2deb77b6fe6ed594be2cefe51bc6968e",
     "grade": true,
     "grade_id": "cell-a396d5dd2885f0a4",
     "locked": true,
     "points": 3,
     "schema_version": 3,
     "solution": false,
     "task": false
    }
   },
   "outputs": [],
   "source": [
    "# This cell is reserved for the unit tests. Do not consider this cell. "
   ]
  },
  {
   "cell_type": "markdown",
   "metadata": {
    "deletable": false,
    "editable": false,
    "nbgrader": {
     "cell_type": "markdown",
     "checksum": "47a7ce6ea3308d3980203b1e9578fee4",
     "grade": false,
     "grade_id": "cell-7e1ca65b50d668ef",
     "locked": true,
     "schema_version": 3,
     "solution": false,
     "task": false
    }
   },
   "source": [
    "## Checkpoint\n",
    "\n",
    "This is just a check-point, i.e. it is for you to see that you are correctly implementing all functions.\n",
    "\n",
    "By executing the following code (just execute the next cell):\n",
    "```python\n",
    "X,y = make_data(n_instances=3000, n_classes=4, n_squares=5)\n",
    "X_train, X_test, y_train, y_test = train_test_split(X,y, test_size=.3)\n",
    "est = fit_rf(X_train, y_train, 4)\n",
    "preds = predict_rf(X_test, est)\n",
    "plot(X_test,preds, title='Predicted (Acc:%.3f)'%accuracy(y_test,preds))\n",
    "plot(X_test,y_test, title='Data')\n",
    "```\n",
    "you should obtain an output similar to:\n",
    "\n",
    "<img src='plot4.png' width=300>"
   ]
  },
  {
   "cell_type": "code",
   "execution_count": null,
   "metadata": {
    "deletable": false,
    "editable": false,
    "nbgrader": {
     "cell_type": "code",
     "checksum": "1e94f33e571af7b646e8f673990be9b8",
     "grade": true,
     "grade_id": "cell-5d069c520776c797",
     "locked": true,
     "points": 0,
     "schema_version": 3,
     "solution": false,
     "task": false
    }
   },
   "outputs": [],
   "source": [
    "X,y = make_data(n_instances=3000, n_classes=4, n_squares=5)\n",
    "X_train, X_test, y_train, y_test = train_test_split(X,y, test_size=.3)\n",
    "est = fit_rf(X_train, y_train, 4)\n",
    "preds = predict_rf(X_test, est)\n",
    "plot(X_test,preds, title='Predicted (Acc:%.3f)'%accuracy(y_test,preds))\n",
    "plot(X_test,y_test, title='Data')"
   ]
  },
  {
   "cell_type": "markdown",
   "metadata": {
    "deletable": false,
    "editable": false,
    "nbgrader": {
     "cell_type": "markdown",
     "checksum": "431cb5bb112990c6760ecefa86035339",
     "grade": false,
     "grade_id": "cell-bb3339406a1f8b3c",
     "locked": true,
     "schema_version": 3,
     "solution": false,
     "task": false
    }
   },
   "source": [
    "## Question 3. Evaluation  [marks  10 ]\n",
    "\n",
    "The aim of the following functions is to evaluate the predictive performance of a learning algorithm as a parameter is varied.\n",
    "\n",
    "\n",
    "---\n",
    "\n",
    "Make the following functions:\n",
    "\n",
    "a) `accs = evaluate_param(fit_func, predict_func, params, X, y, n_rep, test_size)`  which takes as input the fit function `fit_func`, the predict function `predict_func`, the list of parameters values to be passed to the fit function `params`, the data matrix `X`, the associated class vector `y`, a parameter `n_rep` that indicates the number of repetitions and the parameter `test_size` that indicates the fraction of the dataset that should be devoted to the test set (e.g. 0.5 indicates 50%). The function outputs a rank 2 matrix `accs` with `n_rep` rows each with a number of columns equal to the size of `params`. For each row, the first entry corresponds to the accuracy  of the classifier using the first parameter, the second entry corresponds to the accuracy obtained using the second parameter, etc. The accuracy is estimated by splitting the data set into train and test sets according to the previous `train_test_split` function and evaluating the congruence of the predictions on the test set using the previous `accuracy` function. \n",
    "<div style=\"text-align: right\"><b>[7 marks]</b></div>\n",
    "\n",
    "b) `plot_parameter_performance(params, accs)` which takes as input a list of parameters in `params` and a rank 2 matrix `accs` with `n_rep` rows each with a number of columns equal to the size of `params`. The function returns a box plot with a line connecting the average values as shown in the Checkpoint. \n",
    "<div style=\"text-align: right\"><b>[3 marks]</b></div>"
   ]
  },
  {
   "cell_type": "code",
   "execution_count": null,
   "metadata": {
    "deletable": false,
    "nbgrader": {
     "cell_type": "code",
     "checksum": "6edacc3fccd31f08bf6f232ea9fbede0",
     "grade": false,
     "grade_id": "cell-422294de590dab58",
     "locked": false,
     "schema_version": 3,
     "solution": true,
     "task": false
    }
   },
   "outputs": [],
   "source": [
    "def evaluate_param(fit_func, predict_func, params, X, y, n_rep, test_size):\n",
    "    # YOUR CODE HERE\n",
    "    raise NotImplementedError()\n",
    "\n",
    "def plot_parameter_performance(params, accs):\n",
    "    # YOUR CODE HERE\n",
    "    raise NotImplementedError()"
   ]
  },
  {
   "cell_type": "code",
   "execution_count": null,
   "metadata": {
    "deletable": false,
    "editable": false,
    "nbgrader": {
     "cell_type": "code",
     "checksum": "c648cf984ad72c14d6fcca8b7cad3d37",
     "grade": true,
     "grade_id": "cell-48668029cd269668",
     "locked": true,
     "points": 4,
     "schema_version": 3,
     "solution": false,
     "task": false
    }
   },
   "outputs": [],
   "source": [
    "# This cell is reserved for the unit tests. Do not consider this cell. "
   ]
  },
  {
   "cell_type": "code",
   "execution_count": null,
   "metadata": {
    "deletable": false,
    "editable": false,
    "nbgrader": {
     "cell_type": "code",
     "checksum": "ee65715f0bede77f61709f56330294c4",
     "grade": true,
     "grade_id": "cell-6a60a5d661c115ea",
     "locked": true,
     "points": 3,
     "schema_version": 3,
     "solution": false,
     "task": false
    }
   },
   "outputs": [],
   "source": [
    "# This cell is reserved for the unit tests. Do not consider this cell. "
   ]
  },
  {
   "cell_type": "code",
   "execution_count": null,
   "metadata": {
    "deletable": false,
    "editable": false,
    "nbgrader": {
     "cell_type": "code",
     "checksum": "d97f29bff5800626b3f30aac28ebcbd4",
     "grade": true,
     "grade_id": "cell-4fd31d0165bee45e",
     "locked": true,
     "points": 3,
     "schema_version": 3,
     "solution": false,
     "task": false
    }
   },
   "outputs": [],
   "source": [
    "# This cell is reserved for the unit tests. Do not consider this cell. "
   ]
  },
  {
   "cell_type": "markdown",
   "metadata": {
    "deletable": false,
    "editable": false,
    "nbgrader": {
     "cell_type": "markdown",
     "checksum": "298e2b77a6049b574b0e1031d21aeaf0",
     "grade": false,
     "grade_id": "cell-0bf2ef53ea38d5b0",
     "locked": true,
     "schema_version": 3,
     "solution": false,
     "task": false
    }
   },
   "source": [
    "## Checkpoint\n",
    "\n",
    "This is just a check-point, i.e. it is for you to see that you are correctly implementing all functions.\n",
    "\n",
    "By executing the following code (just execute the next cell):\n",
    "```python\n",
    "%%time\n",
    "X,y = make_data(n_instances=500, n_classes=3, n_squares=8)\n",
    "params = np.linspace(1,25,5).astype(int)\n",
    "res = evaluate_param(fit_rf, predict_rf, params, X, y, n_rep=5, test_size=.3)\n",
    "plot_parameter_performance(params, res)\n",
    "```\n",
    "you should obtain an output similar to:\n",
    "\n",
    "<img src='plot5.png' width=450>"
   ]
  },
  {
   "cell_type": "code",
   "execution_count": null,
   "metadata": {
    "deletable": false,
    "editable": false,
    "nbgrader": {
     "cell_type": "code",
     "checksum": "1b81d33622cdc12b62363d7d330c359e",
     "grade": true,
     "grade_id": "cell-a56cb8e69dbafc40",
     "locked": true,
     "points": 0,
     "schema_version": 3,
     "solution": false,
     "task": false
    }
   },
   "outputs": [],
   "source": [
    "%%time\n",
    "X,y = make_data(n_instances=500, n_classes=3, n_squares=8)\n",
    "params = np.linspace(1,25,5).astype(int)\n",
    "res = evaluate_param(fit_rf, predict_rf, params, X, y, n_rep=5, test_size=.3)\n",
    "plot_parameter_performance(params, res)"
   ]
  },
  {
   "cell_type": "markdown",
   "metadata": {
    "deletable": false,
    "editable": false,
    "nbgrader": {
     "cell_type": "markdown",
     "checksum": "bf5b5ac344807377d1fa26ee7cf59d43",
     "grade": false,
     "grade_id": "cell-a5096b1e1a2281e4",
     "locked": true,
     "schema_version": 3,
     "solution": false,
     "task": false
    }
   },
   "source": [
    "## Question 4. One-vs-All Method [marks   15]\n",
    "\n",
    "The aim of the following functions is to adapt a binary classifier fit and score function to a multi class problem using the one-vs-all technique. In the one-vs-all technique, a number of classifiers equal to the number of classes is trained, considering, for each run, the current class as positive while regarding all other classes as negative. The score function is used to assess the preference of each classifier for a specific prediction label and the prediction label that receives the largest preference is then selected. \n",
    "\n",
    "\n",
    "---\n",
    "\n",
    "Make the following functions:\n",
    "\n",
    "a) `binary_estimators = fit_one_vs_all(fit_func, X, y, param)` which accepts as input the fit function `fit_func`, the data matrix `X`, the associated class vector `y`, a parameter `param` that is passed to the fit function and returns a dictionary that contains the necessary estimators `binary_estimators`. The dictionary has as keys the class value that the associated estimator considers as the positive class (i.e. the dictionary will contain as many estimators as there are classes in the multiclass problem). The successive function `predict_one_vs_all` can receive `binary_estimators` to perform the prediction phase. \n",
    "<div style=\"text-align: right\"><b>[7 marks]</b></div>\n",
    "\n",
    "b) `preds = predict_one_vs_all(score_func, X, est)` which accepts as input a score function `score_func` , the data matrix `X` and the  necessary estimators encoded in `binary_estimators`. \n",
    "<div style=\"text-align: right\"><b>[8 marks]</b></div>"
   ]
  },
  {
   "cell_type": "code",
   "execution_count": null,
   "metadata": {
    "deletable": false,
    "nbgrader": {
     "cell_type": "code",
     "checksum": "293e9b53242609cd4816b361a2ea6108",
     "grade": false,
     "grade_id": "cell-f33c38f1bf3cd189",
     "locked": false,
     "schema_version": 3,
     "solution": true,
     "task": false
    }
   },
   "outputs": [],
   "source": [
    "def fit_one_vs_all(fit_func, X, y, param):\n",
    "    # YOUR CODE HERE\n",
    "    raise NotImplementedError()\n",
    "\n",
    "def predict_one_vs_all(score_func, X, binary_estimators):\n",
    "    # YOUR CODE HERE\n",
    "    raise NotImplementedError()"
   ]
  },
  {
   "cell_type": "code",
   "execution_count": null,
   "metadata": {
    "deletable": false,
    "editable": false,
    "nbgrader": {
     "cell_type": "code",
     "checksum": "23d3fc127651c737814352cc06421138",
     "grade": true,
     "grade_id": "cell-fcaeb9033c652fa1",
     "locked": true,
     "points": 7,
     "schema_version": 3,
     "solution": false,
     "task": false
    }
   },
   "outputs": [],
   "source": [
    "# This cell is reserved for the unit tests. Do not consider this cell. "
   ]
  },
  {
   "cell_type": "code",
   "execution_count": null,
   "metadata": {
    "deletable": false,
    "editable": false,
    "nbgrader": {
     "cell_type": "code",
     "checksum": "4866acb106202edbd5baf6f16530e84c",
     "grade": true,
     "grade_id": "cell-71747773f0955be7",
     "locked": true,
     "points": 8,
     "schema_version": 3,
     "solution": false,
     "task": false
    }
   },
   "outputs": [],
   "source": [
    "# This cell is reserved for the unit tests. Do not consider this cell. "
   ]
  },
  {
   "cell_type": "markdown",
   "metadata": {
    "deletable": false,
    "editable": false,
    "nbgrader": {
     "cell_type": "markdown",
     "checksum": "f1391ffe159e457c3b2688419e876184",
     "grade": false,
     "grade_id": "cell-ec3e3667541ff086",
     "locked": true,
     "schema_version": 3,
     "solution": false,
     "task": false
    }
   },
   "source": [
    "## Checkpoint\n",
    "\n",
    "This is just a check-point, i.e. it is for you to see that you are correctly implementing all functions.\n",
    "\n",
    "By executing the following code (just execute the next cell):\n",
    "```python\n",
    "X,y = make_data(n_instances=2000, n_classes=4, n_squares=3)\n",
    "X_train, X_test, y_train, y_test = train_test_split(X,y, test_size=.3)\n",
    "\n",
    "binary_estimators = fit_one_vs_all(fit_rf, X_train, y_train, 10)\n",
    "preds = predict_one_vs_all(score_rf, X_test, binary_estimators)\n",
    "plot(X_test,preds, title='Predicted (Acc:%.3f)'%accuracy(y_test,preds))\n",
    "plot(X_test,y_test, title='Data')\n",
    "```\n",
    "you should obtain an output similar to:\n",
    "\n",
    "<img src='plot6.png' width=300>"
   ]
  },
  {
   "cell_type": "code",
   "execution_count": null,
   "metadata": {
    "deletable": false,
    "editable": false,
    "nbgrader": {
     "cell_type": "code",
     "checksum": "5df87e4037ef24a5427756ed89af6615",
     "grade": true,
     "grade_id": "cell-d417e8cd6d36111b",
     "locked": true,
     "points": 0,
     "schema_version": 3,
     "solution": false,
     "task": false
    }
   },
   "outputs": [],
   "source": [
    "X,y = make_data(n_instances=2000, n_classes=4, n_squares=3)\n",
    "X_train, X_test, y_train, y_test = train_test_split(X,y, test_size=.3)\n",
    "\n",
    "binary_estimators = fit_one_vs_all(fit_rf, X_train, y_train, 10)\n",
    "preds = predict_one_vs_all(score_rf, X_test, binary_estimators)\n",
    "plot(X_test,preds, title='Predicted (Acc:%.3f)'%accuracy(y_test,preds))\n",
    "plot(X_test,y_test, title='Data')"
   ]
  },
  {
   "cell_type": "markdown",
   "metadata": {
    "deletable": false,
    "editable": false,
    "nbgrader": {
     "cell_type": "markdown",
     "checksum": "4dd6c3f63886ca21bf9a919c1eccdcbf",
     "grade": false,
     "grade_id": "cell-02c240d88e4b50bc",
     "locked": true,
     "schema_version": 3,
     "solution": false,
     "task": false
    }
   },
   "source": [
    "## Question 5. AdaBoost Method [marks  35 ]\n",
    "\n",
    "The aim of the following functions is to train and test a multiclass classifier using the AdaBoost technique.\n",
    "As the base classifier you **may** use a decition tree classifier implemented by the scikit library. \n",
    "\n",
    "---\n",
    "\n",
    "Make the following functions:\n",
    "\n",
    "a) `error(targets, preds, weights=None)` which takes as input a target vector `targets`, a prediction vector `preds` and an optional weight vector `weights`. The function computes the weighted accuracy, i.e. the accuracy where each error is weighted by the corresponding weight. If the weight vector is not given, a uniform weight of 1 is intended. \n",
    "<div style=\"text-align: right\"><b>[6 marks]</b></div>\n",
    "\n",
    "b) `Wm, alpha, e = update_weights(Wm, preds, targets, n_classes)` which takes as input a vector of weights `Wm` ,a vector of predictions `preds` ,a target vector `targets` ,and the number of classes of the problem in `n_classes`. The function computes the updated weight vector `Wm`, the alpha coefficients `alpha` and the error value `e` according to the AdaBoost technique. \n",
    "<div style=\"text-align: right\"><b>[9 marks]</b></div>\n",
    "\n",
    "c) `Wm = initialise_weights(n_instances)` which takes as input the number of instances in `n_instances` and returns an initialized weight vector `Wm`. \n",
    "<div style=\"text-align: right\"><b>[3 marks]</b></div>\n",
    "\n",
    "d) `est = fit_adaboost(X_train, y_train, param)` which receives as input the data matrix `X_train` and the associated target vector `y_train` and a parameter `param` which is a 2-tuple containing the informatoin of the max depth of each decision tree and the maximum number of iterations used in the AdaBoost algorithm (in this order). The function returns all the necessary information for testing on novel data encoded in the estimator object `est`. \n",
    "<div style=\"text-align: right\"><b>[6 marks]</b></div>\n",
    "\n",
    "e) `scores = score_adaboost(X_test, est)` which takes as input a data matrix `X_test` and an object encoding the trained AdaBoost estimator and returns a data matrix `scores` with shape `(n_instances,n_classes)` where each row of index `i` expresses the classifier preference for the `i-th` instance to be assigned to class `j` where `j` is the column index. A greater value indicates a stronger preference. The score values do not need to be limited in value.\n",
    "<div style=\"text-align: right\"><b>[8 marks]</b></div>\n",
    "\n",
    "\n",
    "f) `preds = predict_adaboost(X_test, est)` which takes as input a data matrix `X_test` and an object encoding the trained AdaBoost estimator and returns a prediction vector `preds`. Note: if there are `k` classes in the problem, the entries in `preds` will be integers in the range `[0,k-1]`. \n",
    "<div style=\"text-align: right\"><b>[3 marks]</b></div>"
   ]
  },
  {
   "cell_type": "code",
   "execution_count": null,
   "metadata": {
    "deletable": false,
    "nbgrader": {
     "cell_type": "code",
     "checksum": "f3d276539830b8dc2151bae806a70b41",
     "grade": false,
     "grade_id": "cell-53263a49d1d89deb",
     "locked": false,
     "schema_version": 3,
     "solution": true,
     "task": false
    }
   },
   "outputs": [],
   "source": [
    "from sklearn.tree import DecisionTreeClassifier\n",
    "\n",
    "def error(targets, preds, weights=None):\n",
    "    # YOUR CODE HERE\n",
    "    raise NotImplementedError()\n",
    "    \n",
    "def update_weights(Wm, preds, targets, n_classes):\n",
    "    # YOUR CODE HERE\n",
    "    raise NotImplementedError()\n",
    "\n",
    "def initialise_weights(n_instances):\n",
    "    # YOUR CODE HERE\n",
    "    raise NotImplementedError()\n",
    "\n",
    "def fit_adaboost(X_train, y_train, param):\n",
    "    # YOUR CODE HERE\n",
    "    raise NotImplementedError()\n",
    "\n",
    "def score_adaboost(X_test, est):\n",
    "    # YOUR CODE HERE\n",
    "    raise NotImplementedError()\n",
    "\n",
    "def predict_adaboost(X_test, est):\n",
    "    # YOUR CODE HERE\n",
    "    raise NotImplementedError()"
   ]
  },
  {
   "cell_type": "code",
   "execution_count": null,
   "metadata": {
    "deletable": false,
    "editable": false,
    "nbgrader": {
     "cell_type": "code",
     "checksum": "34087b5a45486b3b0f338be7c7e384f1",
     "grade": true,
     "grade_id": "cell-993d24ce9fa28df3",
     "locked": true,
     "points": 6,
     "schema_version": 3,
     "solution": false,
     "task": false
    }
   },
   "outputs": [],
   "source": [
    "# This cell is reserved for the unit tests. Do not consider this cell. "
   ]
  },
  {
   "cell_type": "code",
   "execution_count": null,
   "metadata": {
    "deletable": false,
    "editable": false,
    "nbgrader": {
     "cell_type": "code",
     "checksum": "fb681a3d0b601aed1c4a107aa45f0aef",
     "grade": true,
     "grade_id": "cell-ebd4057d33cbc646",
     "locked": true,
     "points": 5,
     "schema_version": 3,
     "solution": false,
     "task": false
    }
   },
   "outputs": [],
   "source": [
    "# This cell is reserved for the unit tests. Do not consider this cell. "
   ]
  },
  {
   "cell_type": "code",
   "execution_count": null,
   "metadata": {
    "deletable": false,
    "editable": false,
    "nbgrader": {
     "cell_type": "code",
     "checksum": "16712e912e1288a282bcd3fcd0289e8b",
     "grade": true,
     "grade_id": "cell-3a0a2041c32dc9f9",
     "locked": true,
     "points": 4,
     "schema_version": 3,
     "solution": false,
     "task": false
    }
   },
   "outputs": [],
   "source": [
    "# This cell is reserved for the unit tests. Do not consider this cell. "
   ]
  },
  {
   "cell_type": "code",
   "execution_count": null,
   "metadata": {
    "deletable": false,
    "editable": false,
    "nbgrader": {
     "cell_type": "code",
     "checksum": "f61219bc7a821ab369bd479533c13fb1",
     "grade": true,
     "grade_id": "cell-a3cc6f522d89697d",
     "locked": true,
     "points": 3,
     "schema_version": 3,
     "solution": false,
     "task": false
    }
   },
   "outputs": [],
   "source": [
    "# This cell is reserved for the unit tests. Do not consider this cell. "
   ]
  },
  {
   "cell_type": "code",
   "execution_count": null,
   "metadata": {
    "deletable": false,
    "editable": false,
    "nbgrader": {
     "cell_type": "code",
     "checksum": "c08d9d6c7b03a4dbc344d903912ca5b8",
     "grade": true,
     "grade_id": "cell-8ef52acbb226e8b0",
     "locked": true,
     "points": 6,
     "schema_version": 3,
     "solution": false,
     "task": false
    }
   },
   "outputs": [],
   "source": [
    "# This cell is reserved for the unit tests. Do not consider this cell. "
   ]
  },
  {
   "cell_type": "code",
   "execution_count": null,
   "metadata": {
    "deletable": false,
    "editable": false,
    "nbgrader": {
     "cell_type": "code",
     "checksum": "53a0689b2de52867d4917eb53c097761",
     "grade": true,
     "grade_id": "cell-6c4bf43176dbbffa",
     "locked": true,
     "points": 5,
     "schema_version": 3,
     "solution": false,
     "task": false
    }
   },
   "outputs": [],
   "source": [
    "# This cell is reserved for the unit tests. Do not consider this cell. "
   ]
  },
  {
   "cell_type": "code",
   "execution_count": null,
   "metadata": {
    "deletable": false,
    "editable": false,
    "nbgrader": {
     "cell_type": "code",
     "checksum": "25f043bfcae1f715ab294a17063842b7",
     "grade": true,
     "grade_id": "cell-7628eadafabfa37b",
     "locked": true,
     "points": 2,
     "schema_version": 3,
     "solution": false,
     "task": false
    }
   },
   "outputs": [],
   "source": [
    "# This cell is reserved for the unit tests. Do not consider this cell. "
   ]
  },
  {
   "cell_type": "code",
   "execution_count": null,
   "metadata": {
    "deletable": false,
    "editable": false,
    "nbgrader": {
     "cell_type": "code",
     "checksum": "fc3e92900f91b617545eb079e20e6653",
     "grade": true,
     "grade_id": "cell-6947d78a78d59ccf",
     "locked": true,
     "points": 4,
     "schema_version": 3,
     "solution": false,
     "task": false
    }
   },
   "outputs": [],
   "source": [
    "# This cell is reserved for the unit tests. Do not consider this cell. "
   ]
  },
  {
   "cell_type": "markdown",
   "metadata": {
    "deletable": false,
    "editable": false,
    "nbgrader": {
     "cell_type": "markdown",
     "checksum": "98d3666ecbf528ae7e09b37c016755ea",
     "grade": false,
     "grade_id": "cell-9008585b28599234",
     "locked": true,
     "schema_version": 3,
     "solution": false,
     "task": false
    }
   },
   "source": [
    "## Checkpoint\n",
    "\n",
    "This is just a check-point, i.e. it is for you to see that you are correctly implementing all functions.\n",
    "\n",
    "By executing the following code (just execute the next cell):\n",
    "```python\n",
    "X,y = make_data(n_instances=3000, n_classes=4, n_squares=5)\n",
    "X_train, X_test, y_train, y_test = train_test_split(X,y, test_size=.3)\n",
    "\n",
    "max_depth = 3\n",
    "n_iter = 100\n",
    "param = (max_depth, n_iter)\n",
    "est = fit_adaboost(X_train, y_train,param)\n",
    "preds = predict_adaboost(X_test, est)\n",
    "plot(X_test,preds, title='Predicted (Acc:%.3f)'%accuracy(y_test,preds))\n",
    "plot(X_test,y_test, title='Data')\n",
    "```\n",
    "you should obtain an output similar to:\n",
    "\n",
    "<img src='plot7.png' width=300>"
   ]
  },
  {
   "cell_type": "code",
   "execution_count": null,
   "metadata": {
    "deletable": false,
    "editable": false,
    "nbgrader": {
     "cell_type": "code",
     "checksum": "7e53c4a0dbf6a38e68c224ccc00cd5ab",
     "grade": true,
     "grade_id": "cell-0e43579b4d1c38f1",
     "locked": true,
     "points": 0,
     "schema_version": 3,
     "solution": false,
     "task": false
    }
   },
   "outputs": [],
   "source": [
    "X,y = make_data(n_instances=3000, n_classes=4, n_squares=5)\n",
    "X_train, X_test, y_train, y_test = train_test_split(X,y, test_size=.3)\n",
    "\n",
    "max_depth = 3\n",
    "n_iter = 100\n",
    "param = (max_depth, n_iter)\n",
    "est = fit_adaboost(X_train, y_train,param)\n",
    "preds = predict_adaboost(X_test, est)\n",
    "plot(X_test,preds, title='Predicted (Acc:%.3f)'%accuracy(y_test,preds))\n",
    "plot(X_test,y_test, title='Data')"
   ]
  },
  {
   "cell_type": "markdown",
   "metadata": {
    "deletable": false,
    "editable": false,
    "nbgrader": {
     "cell_type": "markdown",
     "checksum": "8f4c5a5d718a15b8d24029b76fc3d21e",
     "grade": false,
     "grade_id": "cell-91f06e39a8264691",
     "locked": true,
     "schema_version": 3,
     "solution": false,
     "task": false
    }
   },
   "source": [
    "## Checkpoint\n",
    "\n",
    "This is just a check-point, i.e. it is for you to see that you are correctly implementing all functions.\n",
    "\n",
    "By executing the following code (just execute the next cell):\n",
    "```python\n",
    "%%time\n",
    "X,y = make_data(n_instances=3000, n_classes=4, n_squares=5)\n",
    "X_train, X_test, y_train, y_test = train_test_split(X,y, test_size=.3)\n",
    "\n",
    "n_steps = 7\n",
    "n_iters = np.linspace(5,200,n_steps)\n",
    "max_depths = np.array([4]*n_steps)\n",
    "params = np.vstack([max_depths, n_iters]).T.astype(int)\n",
    "\n",
    "def fit_one_vs_all_adaboost(X_train, y_train, param):\n",
    "    return fit_one_vs_all(fit_adaboost, X_train, y_train, param)\n",
    "\n",
    "def predict_one_vs_all_adaboost(X_test, est):\n",
    "    return predict_one_vs_all(score_adaboost, X_test, est)\n",
    "\n",
    "res = evaluate_param(fit_one_vs_all_adaboost, predict_one_vs_all_adaboost, params, X, y, n_rep=10, test_size=.3)\n",
    "plot_parameter_performance(n_iters, res)\n",
    "\n",
    "res = evaluate_param(fit_adaboost, predict_adaboost, params, X, y, n_rep=10, test_size=.3)\n",
    "plot_parameter_performance(n_iters, res)\n",
    "```\n",
    "you should obtain an output similar to:\n",
    "\n",
    "<img src='plot8.png' width=450>"
   ]
  },
  {
   "cell_type": "code",
   "execution_count": null,
   "metadata": {
    "deletable": false,
    "editable": false,
    "nbgrader": {
     "cell_type": "code",
     "checksum": "724e913a18a873073083eb7a03eef3d0",
     "grade": true,
     "grade_id": "cell-0bd6b7ed3611b80a",
     "locked": true,
     "points": 0,
     "schema_version": 3,
     "solution": false,
     "task": false
    }
   },
   "outputs": [],
   "source": [
    "%%time\n",
    "X,y = make_data(n_instances=3000, n_classes=4, n_squares=5)\n",
    "X_train, X_test, y_train, y_test = train_test_split(X,y, test_size=.3)\n",
    "\n",
    "n_steps = 7\n",
    "n_iters = np.linspace(5,200,n_steps)\n",
    "max_depths = np.array([4]*n_steps)\n",
    "params = np.vstack([max_depths, n_iters]).T.astype(int)\n",
    "\n",
    "def fit_one_vs_all_adaboost(X_train, y_train, param):\n",
    "    return fit_one_vs_all(fit_adaboost, X_train, y_train, param)\n",
    "\n",
    "def predict_one_vs_all_adaboost(X_test, est):\n",
    "    return predict_one_vs_all(score_adaboost, X_test, est)\n",
    "\n",
    "res = evaluate_param(fit_one_vs_all_adaboost, predict_one_vs_all_adaboost, params, X, y, n_rep=10, test_size=.3)\n",
    "plot_parameter_performance(n_iters, res)\n",
    "\n",
    "res = evaluate_param(fit_adaboost, predict_adaboost, params, X, y, n_rep=10, test_size=.3)\n",
    "plot_parameter_performance(n_iters, res)"
   ]
  }
 ],
 "metadata": {
  "kernelspec": {
   "display_name": "Python 3",
   "language": "python",
   "name": "python3"
  },
  "language_info": {
   "codemirror_mode": {
    "name": "ipython",
    "version": 3
   },
   "file_extension": ".py",
   "mimetype": "text/x-python",
   "name": "python",
   "nbconvert_exporter": "python",
   "pygments_lexer": "ipython3",
   "version": "3.8.5"
  }
 },
 "nbformat": 4,
 "nbformat_minor": 4
}
