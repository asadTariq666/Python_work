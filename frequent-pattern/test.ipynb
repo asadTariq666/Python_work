{
 "cells": [
  {
   "cell_type": "code",
   "execution_count": 1,
   "metadata": {},
   "outputs": [
    {
     "ename": "ValueError",
     "evalue": "invalid literal for int() with base 10: '--ip=127.0.0.1'",
     "output_type": "error",
     "traceback": [
      "\u001b[0;31m---------------------------------------------------------------------------\u001b[0m",
      "\u001b[0;31mValueError\u001b[0m                                Traceback (most recent call last)",
      "\u001b[0;32m/var/folders/dk/9q84mn0j1nzfg85t9zx5d1480000gn/T/ipykernel_55215/3229021159.py\u001b[0m in \u001b[0;36m<module>\u001b[0;34m\u001b[0m\n\u001b[1;32m      3\u001b[0m \u001b[0;32mimport\u001b[0m \u001b[0mrandom\u001b[0m\u001b[0;34m\u001b[0m\u001b[0;34m\u001b[0m\u001b[0m\n\u001b[1;32m      4\u001b[0m \u001b[0;34m\u001b[0m\u001b[0m\n\u001b[0;32m----> 5\u001b[0;31m \u001b[0mnum_lines\u001b[0m \u001b[0;34m=\u001b[0m \u001b[0mint\u001b[0m\u001b[0;34m(\u001b[0m\u001b[0msys\u001b[0m\u001b[0;34m.\u001b[0m\u001b[0margv\u001b[0m\u001b[0;34m[\u001b[0m\u001b[0;36m1\u001b[0m\u001b[0;34m]\u001b[0m\u001b[0;34m)\u001b[0m \u001b[0;31m#number of lines in the final dataset\u001b[0m\u001b[0;34m\u001b[0m\u001b[0;34m\u001b[0m\u001b[0m\n\u001b[0m\u001b[1;32m      6\u001b[0m \u001b[0mmax_elements_per_line\u001b[0m \u001b[0;34m=\u001b[0m \u001b[0mint\u001b[0m\u001b[0;34m(\u001b[0m\u001b[0msys\u001b[0m\u001b[0;34m.\u001b[0m\u001b[0margv\u001b[0m\u001b[0;34m[\u001b[0m\u001b[0;36m2\u001b[0m\u001b[0;34m]\u001b[0m\u001b[0;34m)\u001b[0m \u001b[0;31m#max number of elements per line\u001b[0m\u001b[0;34m\u001b[0m\u001b[0;34m\u001b[0m\u001b[0m\n\u001b[1;32m      7\u001b[0m \u001b[0mmax_range_of_element\u001b[0m \u001b[0;34m=\u001b[0m \u001b[0mint\u001b[0m\u001b[0;34m(\u001b[0m\u001b[0msys\u001b[0m\u001b[0;34m.\u001b[0m\u001b[0margv\u001b[0m\u001b[0;34m[\u001b[0m\u001b[0;36m3\u001b[0m\u001b[0;34m]\u001b[0m\u001b[0;34m)\u001b[0m \u001b[0;31m#max range of any element\u001b[0m\u001b[0;34m\u001b[0m\u001b[0;34m\u001b[0m\u001b[0m\n",
      "\u001b[0;31mValueError\u001b[0m: invalid literal for int() with base 10: '--ip=127.0.0.1'"
     ]
    }
   ],
   "source": [
    "from calendar import c\n",
    "import os, sys\n",
    "import random\n",
    "\n",
    "num_lines = int(sys.argv[1]) #number of lines in the final dataset\n",
    "max_elements_per_line = int(sys.argv[2]) #max number of elements per line\n",
    "max_range_of_element = int(sys.argv[3]) #max range of any element\n",
    "\n",
    "def main():\n",
    "\twith open('big_dataset.txt', 'a+') as f:\n",
    "\t\tfor i in range(num_lines):\n",
    "\t\t\tpoints_to_sample = random.sample(range(1, max_elements_per_line + 1), 1)\n",
    "\t\t\tone_line = random.sample(range(1, max_range_of_element + 1), points_to_sample[0])\n",
    "\t\t\tfor j in range(len(one_line)):\n",
    "\t\t\t\tf.write(str(one_line[j]) + ' ')\n",
    "\t\t\tf.write('\\n')\n",
    "\t\tf.close()\n",
    "\n",
    "if __name__ == '__main__':\n",
    "\tmain()"
   ]
  },
  {
   "cell_type": "code",
   "execution_count": 2,
   "metadata": {},
   "outputs": [
    {
     "name": "stderr",
     "output_type": "stream",
     "text": [
      "Note: ./FPTree.java uses unchecked or unsafe operations.\n",
      "Note: Recompile with -Xlint:unchecked for details.\n",
      "Exception in thread \"main\" java.io.FileNotFoundException: --ip=127.0.0.1 (No such file or directory)\n",
      "\tat java.base/java.io.FileInputStream.open0(Native Method)\n",
      "\tat java.base/java.io.FileInputStream.open(FileInputStream.java:216)\n",
      "\tat java.base/java.io.FileInputStream.<init>(FileInputStream.java:157)\n",
      "\tat java.base/java.io.FileInputStream.<init>(FileInputStream.java:111)\n",
      "\tat java.base/java.io.FileReader.<init>(FileReader.java:60)\n",
      "\tat Test.main(Test.java:19)\n"
     ]
    },
    {
     "name": "stdout",
     "output_type": "stream",
     "text": [
      "IO\n",
      "IO\n"
     ]
    },
    {
     "name": "stderr",
     "output_type": "stream",
     "text": [
      "Exception in thread \"main\" java.io.FileNotFoundException: --ip=127.0.0.1 (No such file or directory)\n",
      "\tat java.base/java.io.FileInputStream.open0(Native Method)\n",
      "\tat java.base/java.io.FileInputStream.open(FileInputStream.java:216)\n",
      "\tat java.base/java.io.FileInputStream.<init>(FileInputStream.java:157)\n",
      "\tat java.base/java.io.FileInputStream.<init>(FileInputStream.java:111)\n",
      "\tat java.base/java.io.FileReader.<init>(FileReader.java:60)\n",
      "\tat Test.main(Test.java:19)\n",
      "Exception in thread \"main\" java.io.FileNotFoundException: --ip=127.0.0.1 (No such file or directory)\n",
      "\tat java.base/java.io.FileInputStream.open0(Native Method)\n",
      "\tat java.base/java.io.FileInputStream.open(FileInputStream.java:216)\n",
      "\tat java.base/java.io.FileInputStream.<init>(FileInputStream.java:157)\n",
      "\tat java.base/java.io.FileInputStream.<init>(FileInputStream.java:111)\n",
      "\tat java.base/java.io.FileReader.<init>(FileReader.java:60)\n",
      "\tat Test.main(Test.java:19)\n"
     ]
    },
    {
     "name": "stdout",
     "output_type": "stream",
     "text": [
      "IO\n",
      "IO\n"
     ]
    },
    {
     "name": "stderr",
     "output_type": "stream",
     "text": [
      "Exception in thread \"main\" java.io.FileNotFoundException: --ip=127.0.0.1 (No such file or directory)\n",
      "\tat java.base/java.io.FileInputStream.open0(Native Method)\n",
      "\tat java.base/java.io.FileInputStream.open(FileInputStream.java:216)\n",
      "\tat java.base/java.io.FileInputStream.<init>(FileInputStream.java:157)\n",
      "\tat java.base/java.io.FileInputStream.<init>(FileInputStream.java:111)\n",
      "\tat java.base/java.io.FileReader.<init>(FileReader.java:60)\n",
      "\tat Test.main(Test.java:19)\n",
      "Exception in thread \"main\" java.io.FileNotFoundException: --ip=127.0.0.1 (No such file or directory)\n",
      "\tat java.base/java.io.FileInputStream.open0(Native Method)\n",
      "\tat java.base/java.io.FileInputStream.open(FileInputStream.java:216)\n",
      "\tat java.base/java.io.FileInputStream.<init>(FileInputStream.java:157)\n",
      "\tat java.base/java.io.FileInputStream.<init>(FileInputStream.java:111)\n",
      "\tat java.base/java.io.FileReader.<init>(FileReader.java:60)\n",
      "\tat Test.main(Test.java:19)\n"
     ]
    },
    {
     "name": "stdout",
     "output_type": "stream",
     "text": [
      "IO\n",
      "IO\n"
     ]
    },
    {
     "name": "stderr",
     "output_type": "stream",
     "text": [
      "Exception in thread \"main\" java.io.FileNotFoundException: --ip=127.0.0.1 (No such file or directory)\n",
      "\tat java.base/java.io.FileInputStream.open0(Native Method)\n",
      "\tat java.base/java.io.FileInputStream.open(FileInputStream.java:216)\n",
      "\tat java.base/java.io.FileInputStream.<init>(FileInputStream.java:157)\n",
      "\tat java.base/java.io.FileInputStream.<init>(FileInputStream.java:111)\n",
      "\tat java.base/java.io.FileReader.<init>(FileReader.java:60)\n",
      "\tat Test.main(Test.java:19)\n"
     ]
    },
    {
     "data": {
      "image/png": "[encoded data removed]",
      "text/plain": [
       "<Figure size 432x288 with 1 Axes>"
      ]
     },
     "metadata": {
      "needs_background": "light"
     },
     "output_type": "display_data"
    }
   ],
   "source": [
    "import sys\n",
    "from matplotlib import pyplot as plt\n",
    "import subprocess\n",
    "import timeit\n",
    "\n",
    "# name of input file\n",
    "inputfile = sys.argv[1]\n",
    "# print (inputfile)\n",
    "support = [1, 5, 10, 25, 50, 90]\n",
    "\n",
    "compile_command = \"javac Test.java\"\n",
    "subprocess.run(compile_command, shell=True)\n",
    "\n",
    "# command_ap = [\"java Test \"+ inputfile + \" \" + str(x) + \" -apriori time_ap -plot\" for x in support]\n",
    "# command_fp = [\"java Test \"+ inputfile + \" \" + str(x) + \" -fptree time_ap -plot\" for x in support]\n",
    "\n",
    "time_ap = []\n",
    "time_fp = []\n",
    "\n",
    "for x in support:\n",
    "\tstart = timeit.default_timer()\n",
    "\tsubprocess.run(\"java Test \"+ inputfile + \" \" + str(x) + \" -apriori output_ap.txt -plot\", shell=True)\n",
    "\tend = timeit.default_timer()\n",
    "\ttime_ap.append(end-start)\n",
    "\n",
    "\tstart1 = timeit.default_timer()\n",
    "\tsubprocess.run(\"java Test \"+ inputfile + \" \" + str(x) + \" -fptree output_fp.txt -plot\", shell=True)\n",
    "\tend1 = timeit.default_timer()\n",
    "\ttime_fp.append(end1-start1)\n",
    "\n",
    "\n",
    "# print (time_ap)\n",
    "# print ()\n",
    "# print (time_fp)\n",
    "\n",
    "\n",
    "plt.figure()\n",
    "plt.plot(support, time_ap, label='Apriori')\n",
    "plt.plot(support, time_fp, label='FP-tree')\n",
    "plt.title('Performance Comparison')\n",
    "plt.xlabel('Support threshold')\n",
    "plt.ylabel('Execution Time(s)')\n",
    "plt.savefig(\"Plot.png\")"
   ]
  },
  {
   "cell_type": "code",
   "execution_count": 3,
   "metadata": {},
   "outputs": [
    {
     "ename": "ValueError",
     "evalue": "invalid literal for int() with base 10: '--ip=127.0.0.1'",
     "output_type": "error",
     "traceback": [
      "\u001b[0;31m---------------------------------------------------------------------------\u001b[0m",
      "\u001b[0;31mValueError\u001b[0m                                Traceback (most recent call last)",
      "\u001b[0;32m/var/folders/dk/9q84mn0j1nzfg85t9zx5d1480000gn/T/ipykernel_55215/3817033257.py\u001b[0m in \u001b[0;36m<module>\u001b[0;34m\u001b[0m\n\u001b[1;32m      1\u001b[0m \u001b[0;32mimport\u001b[0m \u001b[0mos\u001b[0m\u001b[0;34m,\u001b[0m \u001b[0msys\u001b[0m\u001b[0;34m\u001b[0m\u001b[0;34m\u001b[0m\u001b[0m\n\u001b[1;32m      2\u001b[0m \u001b[0;34m\u001b[0m\u001b[0m\n\u001b[0;32m----> 3\u001b[0;31m \u001b[0marg\u001b[0m \u001b[0;34m=\u001b[0m \u001b[0mint\u001b[0m\u001b[0;34m(\u001b[0m\u001b[0msys\u001b[0m\u001b[0;34m.\u001b[0m\u001b[0margv\u001b[0m\u001b[0;34m[\u001b[0m\u001b[0;36m1\u001b[0m\u001b[0;34m]\u001b[0m\u001b[0;34m)\u001b[0m\u001b[0;34m\u001b[0m\u001b[0;34m\u001b[0m\u001b[0m\n\u001b[0m\u001b[1;32m      4\u001b[0m \u001b[0;32mdef\u001b[0m \u001b[0mmain\u001b[0m\u001b[0;34m(\u001b[0m\u001b[0;34m)\u001b[0m\u001b[0;34m:\u001b[0m\u001b[0;34m\u001b[0m\u001b[0;34m\u001b[0m\u001b[0m\n\u001b[1;32m      5\u001b[0m     \u001b[0mmehak_list\u001b[0m \u001b[0;34m=\u001b[0m \u001b[0;34m[\u001b[0m\u001b[0;34m]\u001b[0m\u001b[0;34m\u001b[0m\u001b[0;34m\u001b[0m\u001b[0m\n",
      "\u001b[0;31mValueError\u001b[0m: invalid literal for int() with base 10: '--ip=127.0.0.1'"
     ]
    }
   ],
   "source": [
    "import os, sys\n",
    "\n",
    "arg = int(sys.argv[1])\n",
    "def main():\n",
    "    mehak_list = []\n",
    "    kandu_list = []\n",
    "    with open('kandu_' + str(arg) + '.txt', 'r+') as f:\n",
    "        for line in f:\n",
    "            one_line = line.split(' ')\n",
    "            if(one_line[len(one_line) - 1] == '\\n'):\n",
    "                one_line = one_line[:len(one_line) - 1]\n",
    "            one_line.sort()\n",
    "            if(len(one_line) == 0):\n",
    "                continue\n",
    "            kandu_list.append(one_line)\n",
    "        kandu_list.sort()\n",
    "\n",
    "    with open('mehak_' + str(arg) + '.txt', 'r+') as f:\n",
    "        for line in f:\n",
    "            one_line = line.split(' ')\n",
    "            if(one_line[len(one_line) - 1] == '\\n'):\n",
    "                one_line = one_line[:len(one_line) - 1]\n",
    "            one_line.sort()\n",
    "            if(len(one_line) == 0):\n",
    "                continue\n",
    "            mehak_list.append(one_line)\n",
    "        mehak_list.sort()\n",
    "\n",
    "    if( not (len(mehak_list) == len(kandu_list))):\n",
    "        return -1\n",
    "\n",
    "    for i in range(len(mehak_list)):\n",
    "        len1 = len(mehak_list[i])\n",
    "        len2 = len(kandu_list[i])\n",
    "        if(not(len1 == len2)):\n",
    "            return -1\n",
    "        for j in range(len1):\n",
    "            if(not(mehak_list[i][j] == kandu_list[i][j])):\n",
    "                return -1\n",
    "        return 1\n",
    "\n",
    "if __name__ == '__main__':\n",
    "    ans = main()\n",
    "    if(ans == 1):\n",
    "        print('AMAZEEE')\n",
    "    else:\n",
    "        print('BT')"
   ]
  }
 ],
 "metadata": {
  "interpreter": {
   "hash": "f293f16398db128e85df277de8eb5f9ab0a1b28857fa0f1c8543245825f1b931"
  },
  "kernelspec": {
   "display_name": "Python 3.7.7 ('pythonProject')",
   "language": "python",
   "name": "python3"
  },
  "language_info": {
   "codemirror_mode": {
    "name": "ipython",
    "version": 3
   },
   "file_extension": ".py",
   "mimetype": "text/x-python",
   "name": "python",
   "nbconvert_exporter": "python",
   "pygments_lexer": "ipython3",
   "version": "3.7.7"
  },
  "orig_nbformat": 4
 },
 "nbformat": 4,
 "nbformat_minor": 2
}
