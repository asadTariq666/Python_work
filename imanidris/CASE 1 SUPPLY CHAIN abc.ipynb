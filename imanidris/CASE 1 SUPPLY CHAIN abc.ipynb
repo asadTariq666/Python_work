{
 "cells": [
  {
   "cell_type": "markdown",
   "id": "2574c356",
   "metadata": {},
   "source": [
    "### Case 1"
   ]
  },
  {
   "cell_type": "code",
   "execution_count": 2,
   "id": "9b1cf24d",
   "metadata": {},
   "outputs": [],
   "source": [
    "import pandas as pd\n",
    "import seaborn as sns\n",
    "import matplotlib.pyplot as plt\n",
    "import pulp\n",
    "\n",
    "%matplotlib inline"
   ]
  },
  {
   "cell_type": "code",
   "execution_count": 3,
   "id": "971d86cd",
   "metadata": {},
   "outputs": [],
   "source": [
    "import numpy as np\n",
    "from sklearn.linear_model import LinearRegression"
   ]
  },
  {
   "cell_type": "code",
   "execution_count": 4,
   "id": "06cccf07",
   "metadata": {},
   "outputs": [
    {
     "data": {
      "text/html": [
       "<div>\n",
       "<style scoped>\n",
       "    .dataframe tbody tr th:only-of-type {\n",
       "        vertical-align: middle;\n",
       "    }\n",
       "\n",
       "    .dataframe tbody tr th {\n",
       "        vertical-align: top;\n",
       "    }\n",
       "\n",
       "    .dataframe thead th {\n",
       "        text-align: right;\n",
       "    }\n",
       "</style>\n",
       "<table border=\"1\" class=\"dataframe\">\n",
       "  <thead>\n",
       "    <tr style=\"text-align: right;\">\n",
       "      <th></th>\n",
       "      <th>Center</th>\n",
       "      <th>Opening Costs</th>\n",
       "      <th>Operating Costs</th>\n",
       "      <th>Num MPs</th>\n",
       "      <th>Maximum capacity</th>\n",
       "    </tr>\n",
       "  </thead>\n",
       "  <tbody>\n",
       "    <tr>\n",
       "      <th>0</th>\n",
       "      <td>Center A</td>\n",
       "      <td>0</td>\n",
       "      <td>275000</td>\n",
       "      <td>215</td>\n",
       "      <td>5000000</td>\n",
       "    </tr>\n",
       "    <tr>\n",
       "      <th>1</th>\n",
       "      <td>Center B</td>\n",
       "      <td>0</td>\n",
       "      <td>275000</td>\n",
       "      <td>125</td>\n",
       "      <td>5000000</td>\n",
       "    </tr>\n",
       "    <tr>\n",
       "      <th>2</th>\n",
       "      <td>Center C</td>\n",
       "      <td>0</td>\n",
       "      <td>275000</td>\n",
       "      <td>100</td>\n",
       "      <td>5000000</td>\n",
       "    </tr>\n",
       "    <tr>\n",
       "      <th>3</th>\n",
       "      <td>Center D</td>\n",
       "      <td>0</td>\n",
       "      <td>285000</td>\n",
       "      <td>120</td>\n",
       "      <td>5000000</td>\n",
       "    </tr>\n",
       "    <tr>\n",
       "      <th>4</th>\n",
       "      <td>Center E</td>\n",
       "      <td>250000</td>\n",
       "      <td>125000</td>\n",
       "      <td>0</td>\n",
       "      <td>5000000</td>\n",
       "    </tr>\n",
       "  </tbody>\n",
       "</table>\n",
       "</div>"
      ],
      "text/plain": [
       "     Center  Opening Costs  Operating Costs  Num MPs  Maximum capacity\n",
       "0  Center A              0           275000      215           5000000\n",
       "1  Center B              0           275000      125           5000000\n",
       "2  Center C              0           275000      100           5000000\n",
       "3  Center D              0           285000      120           5000000\n",
       "4  Center E         250000           125000        0           5000000"
      ]
     },
     "execution_count": 4,
     "metadata": {},
     "output_type": "execute_result"
    }
   ],
   "source": [
    "centers_df = pd.read_csv(\"centers.csv\")\n",
    "centers_df.head(5)"
   ]
  },
  {
   "cell_type": "code",
   "execution_count": 5,
   "id": "0fc8bd69",
   "metadata": {
    "scrolled": false
   },
   "outputs": [
    {
     "data": {
      "text/html": [
       "<div>\n",
       "<style scoped>\n",
       "    .dataframe tbody tr th:only-of-type {\n",
       "        vertical-align: middle;\n",
       "    }\n",
       "\n",
       "    .dataframe tbody tr th {\n",
       "        vertical-align: top;\n",
       "    }\n",
       "\n",
       "    .dataframe thead th {\n",
       "        text-align: right;\n",
       "    }\n",
       "</style>\n",
       "<table border=\"1\" class=\"dataframe\">\n",
       "  <thead>\n",
       "    <tr style=\"text-align: right;\">\n",
       "      <th></th>\n",
       "      <th>Year</th>\n",
       "      <th>Region</th>\n",
       "      <th>Demand</th>\n",
       "    </tr>\n",
       "  </thead>\n",
       "  <tbody>\n",
       "    <tr>\n",
       "      <th>0</th>\n",
       "      <td>2012</td>\n",
       "      <td>Downtown Toronto</td>\n",
       "      <td>249581</td>\n",
       "    </tr>\n",
       "    <tr>\n",
       "      <th>1</th>\n",
       "      <td>2012</td>\n",
       "      <td>East York</td>\n",
       "      <td>172730</td>\n",
       "    </tr>\n",
       "    <tr>\n",
       "      <th>2</th>\n",
       "      <td>2012</td>\n",
       "      <td>Etobicoke</td>\n",
       "      <td>285764</td>\n",
       "    </tr>\n",
       "    <tr>\n",
       "      <th>3</th>\n",
       "      <td>2012</td>\n",
       "      <td>Mississauga East</td>\n",
       "      <td>255427</td>\n",
       "    </tr>\n",
       "    <tr>\n",
       "      <th>4</th>\n",
       "      <td>2012</td>\n",
       "      <td>North Toronto</td>\n",
       "      <td>263276</td>\n",
       "    </tr>\n",
       "  </tbody>\n",
       "</table>\n",
       "</div>"
      ],
      "text/plain": [
       "   Year            Region  Demand\n",
       "0  2012  Downtown Toronto  249581\n",
       "1  2012         East York  172730\n",
       "2  2012         Etobicoke  285764\n",
       "3  2012  Mississauga East  255427\n",
       "4  2012     North Toronto  263276"
      ]
     },
     "execution_count": 5,
     "metadata": {},
     "output_type": "execute_result"
    }
   ],
   "source": [
    "demands_df = pd.read_csv(\"demands.csv\")\n",
    "demands_df.head(5)"
   ]
  },
  {
   "cell_type": "code",
   "execution_count": 6,
   "id": "8e9db853",
   "metadata": {
    "scrolled": false
   },
   "outputs": [
    {
     "data": {
      "text/html": [
       "<div>\n",
       "<style scoped>\n",
       "    .dataframe tbody tr th:only-of-type {\n",
       "        vertical-align: middle;\n",
       "    }\n",
       "\n",
       "    .dataframe tbody tr th {\n",
       "        vertical-align: top;\n",
       "    }\n",
       "\n",
       "    .dataframe thead th {\n",
       "        text-align: right;\n",
       "    }\n",
       "</style>\n",
       "<table border=\"1\" class=\"dataframe\">\n",
       "  <thead>\n",
       "    <tr style=\"text-align: right;\">\n",
       "      <th></th>\n",
       "      <th>Center</th>\n",
       "      <th>Region</th>\n",
       "      <th>Distance</th>\n",
       "    </tr>\n",
       "  </thead>\n",
       "  <tbody>\n",
       "    <tr>\n",
       "      <th>0</th>\n",
       "      <td>Center A</td>\n",
       "      <td>Downtown Toronto</td>\n",
       "      <td>25.77</td>\n",
       "    </tr>\n",
       "    <tr>\n",
       "      <th>1</th>\n",
       "      <td>Center A</td>\n",
       "      <td>East York</td>\n",
       "      <td>2.24</td>\n",
       "    </tr>\n",
       "    <tr>\n",
       "      <th>2</th>\n",
       "      <td>Center A</td>\n",
       "      <td>Etobicoke</td>\n",
       "      <td>25.72</td>\n",
       "    </tr>\n",
       "    <tr>\n",
       "      <th>3</th>\n",
       "      <td>Center A</td>\n",
       "      <td>Mississauga East</td>\n",
       "      <td>28.65</td>\n",
       "    </tr>\n",
       "    <tr>\n",
       "      <th>4</th>\n",
       "      <td>Center A</td>\n",
       "      <td>North Toronto</td>\n",
       "      <td>11.64</td>\n",
       "    </tr>\n",
       "  </tbody>\n",
       "</table>\n",
       "</div>"
      ],
      "text/plain": [
       "     Center            Region  Distance\n",
       "0  Center A  Downtown Toronto     25.77\n",
       "1  Center A         East York      2.24\n",
       "2  Center A         Etobicoke     25.72\n",
       "3  Center A  Mississauga East     28.65\n",
       "4  Center A     North Toronto     11.64"
      ]
     },
     "execution_count": 6,
     "metadata": {},
     "output_type": "execute_result"
    }
   ],
   "source": [
    "distances_df = pd.read_csv(\"distances.csv\")\n",
    "#distances_df = pd.read_csv(\"distances.csv\", index_col=0)\n",
    "distances_df.head(5)"
   ]
  },
  {
   "cell_type": "markdown",
   "id": "cf8721ca",
   "metadata": {},
   "source": [
    "### 1a. Plots for Year vs Demand"
   ]
  },
  {
   "cell_type": "code",
   "execution_count": 7,
   "id": "17e8c495",
   "metadata": {},
   "outputs": [
    {
     "data": {
      "text/html": [
       "<div>\n",
       "<style scoped>\n",
       "    .dataframe tbody tr th:only-of-type {\n",
       "        vertical-align: middle;\n",
       "    }\n",
       "\n",
       "    .dataframe tbody tr th {\n",
       "        vertical-align: top;\n",
       "    }\n",
       "\n",
       "    .dataframe thead th {\n",
       "        text-align: right;\n",
       "    }\n",
       "</style>\n",
       "<table border=\"1\" class=\"dataframe\">\n",
       "  <thead>\n",
       "    <tr style=\"text-align: right;\">\n",
       "      <th>Region</th>\n",
       "      <th>Downtown Toronto</th>\n",
       "      <th>East York</th>\n",
       "      <th>Etobicoke</th>\n",
       "      <th>Mississauga East</th>\n",
       "      <th>North Toronto</th>\n",
       "      <th>North York</th>\n",
       "      <th>Scarborough East</th>\n",
       "    </tr>\n",
       "    <tr>\n",
       "      <th>Year</th>\n",
       "      <th></th>\n",
       "      <th></th>\n",
       "      <th></th>\n",
       "      <th></th>\n",
       "      <th></th>\n",
       "      <th></th>\n",
       "      <th></th>\n",
       "    </tr>\n",
       "  </thead>\n",
       "  <tbody>\n",
       "    <tr>\n",
       "      <th>2012</th>\n",
       "      <td>249581</td>\n",
       "      <td>172730</td>\n",
       "      <td>285764</td>\n",
       "      <td>255427</td>\n",
       "      <td>263276</td>\n",
       "      <td>316579</td>\n",
       "      <td>281067</td>\n",
       "    </tr>\n",
       "    <tr>\n",
       "      <th>2013</th>\n",
       "      <td>262099</td>\n",
       "      <td>180925</td>\n",
       "      <td>300093</td>\n",
       "      <td>268385</td>\n",
       "      <td>276262</td>\n",
       "      <td>332967</td>\n",
       "      <td>294825</td>\n",
       "    </tr>\n",
       "    <tr>\n",
       "      <th>2014</th>\n",
       "      <td>275303</td>\n",
       "      <td>190090</td>\n",
       "      <td>315534</td>\n",
       "      <td>281839</td>\n",
       "      <td>289976</td>\n",
       "      <td>349748</td>\n",
       "      <td>309148</td>\n",
       "    </tr>\n",
       "    <tr>\n",
       "      <th>2015</th>\n",
       "      <td>288823</td>\n",
       "      <td>199759</td>\n",
       "      <td>331551</td>\n",
       "      <td>296252</td>\n",
       "      <td>304239</td>\n",
       "      <td>367578</td>\n",
       "      <td>324078</td>\n",
       "    </tr>\n",
       "    <tr>\n",
       "      <th>2016</th>\n",
       "      <td>302692</td>\n",
       "      <td>209598</td>\n",
       "      <td>348169</td>\n",
       "      <td>310699</td>\n",
       "      <td>318926</td>\n",
       "      <td>386781</td>\n",
       "      <td>340914</td>\n",
       "    </tr>\n",
       "  </tbody>\n",
       "</table>\n",
       "</div>"
      ],
      "text/plain": [
       "Region  Downtown Toronto  East York  Etobicoke  Mississauga East  \\\n",
       "Year                                                               \n",
       "2012              249581     172730     285764            255427   \n",
       "2013              262099     180925     300093            268385   \n",
       "2014              275303     190090     315534            281839   \n",
       "2015              288823     199759     331551            296252   \n",
       "2016              302692     209598     348169            310699   \n",
       "\n",
       "Region  North Toronto  North York  Scarborough East  \n",
       "Year                                                 \n",
       "2012           263276      316579            281067  \n",
       "2013           276262      332967            294825  \n",
       "2014           289976      349748            309148  \n",
       "2015           304239      367578            324078  \n",
       "2016           318926      386781            340914  "
      ]
     },
     "execution_count": 7,
     "metadata": {},
     "output_type": "execute_result"
    }
   ],
   "source": [
    "demands_pivot = demands_df.pivot(\"Year\", \"Region\", \"Demand\")\n",
    "demands_pivot.head()"
   ]
  },
  {
   "cell_type": "code",
   "execution_count": 8,
   "id": "7471cb93",
   "metadata": {
    "scrolled": true
   },
   "outputs": [
    {
     "data": {
      "text/plain": [
       "<AxesSubplot:xlabel='Year'>"
      ]
     },
     "execution_count": 8,
     "metadata": {},
     "output_type": "execute_result"
    },
    {
     "data": {
      "image/png": "[encoded data removed]",
      "text/plain": [
       "<Figure size 432x288 with 1 Axes>"
      ]
     },
     "metadata": {
      "needs_background": "light"
     },
     "output_type": "display_data"
    }
   ],
   "source": [
    "sns.lineplot(data = demands_pivot)"
   ]
  },
  {
   "cell_type": "markdown",
   "id": "b40a170b",
   "metadata": {},
   "source": [
    "I would forecast demand using historic data to build a timeseries model "
   ]
  },
  {
   "cell_type": "markdown",
   "id": "4682f662",
   "metadata": {},
   "source": [
    "### 1b. Determinimistic model"
   ]
  },
  {
   "cell_type": "markdown",
   "id": "a4a4be46",
   "metadata": {},
   "source": [
    "##### Averages of demand per regins"
   ]
  },
  {
   "cell_type": "code",
   "execution_count": 9,
   "id": "e9a58e19",
   "metadata": {},
   "outputs": [
    {
     "data": {
      "text/plain": [
       "327882.7571428571"
      ]
     },
     "execution_count": 9,
     "metadata": {},
     "output_type": "execute_result"
    }
   ],
   "source": [
    "# Picking the average\n",
    "z = demands_df[\"Demand\"].mean()\n",
    "z"
   ]
  },
  {
   "cell_type": "code",
   "execution_count": 10,
   "id": "95e62604",
   "metadata": {},
   "outputs": [
    {
     "data": {
      "text/html": [
       "<div>\n",
       "<style scoped>\n",
       "    .dataframe tbody tr th:only-of-type {\n",
       "        vertical-align: middle;\n",
       "    }\n",
       "\n",
       "    .dataframe tbody tr th {\n",
       "        vertical-align: top;\n",
       "    }\n",
       "\n",
       "    .dataframe thead th {\n",
       "        text-align: right;\n",
       "    }\n",
       "</style>\n",
       "<table border=\"1\" class=\"dataframe\">\n",
       "  <thead>\n",
       "    <tr style=\"text-align: right;\">\n",
       "      <th></th>\n",
       "      <th>Region</th>\n",
       "      <th>Year</th>\n",
       "      <th>Demand</th>\n",
       "    </tr>\n",
       "  </thead>\n",
       "  <tbody>\n",
       "    <tr>\n",
       "      <th>0</th>\n",
       "      <td>Downtown Toronto</td>\n",
       "      <td>2016.5</td>\n",
       "      <td>313634.1</td>\n",
       "    </tr>\n",
       "    <tr>\n",
       "      <th>1</th>\n",
       "      <td>East York</td>\n",
       "      <td>2016.5</td>\n",
       "      <td>217075.1</td>\n",
       "    </tr>\n",
       "    <tr>\n",
       "      <th>2</th>\n",
       "      <td>Etobicoke</td>\n",
       "      <td>2016.5</td>\n",
       "      <td>360431.0</td>\n",
       "    </tr>\n",
       "    <tr>\n",
       "      <th>3</th>\n",
       "      <td>Mississauga East</td>\n",
       "      <td>2016.5</td>\n",
       "      <td>321349.3</td>\n",
       "    </tr>\n",
       "    <tr>\n",
       "      <th>4</th>\n",
       "      <td>North Toronto</td>\n",
       "      <td>2016.5</td>\n",
       "      <td>330098.3</td>\n",
       "    </tr>\n",
       "    <tr>\n",
       "      <th>5</th>\n",
       "      <td>North York</td>\n",
       "      <td>2016.5</td>\n",
       "      <td>400108.9</td>\n",
       "    </tr>\n",
       "    <tr>\n",
       "      <th>6</th>\n",
       "      <td>Scarborough East</td>\n",
       "      <td>2016.5</td>\n",
       "      <td>352482.6</td>\n",
       "    </tr>\n",
       "  </tbody>\n",
       "</table>\n",
       "</div>"
      ],
      "text/plain": [
       "             Region    Year    Demand\n",
       "0  Downtown Toronto  2016.5  313634.1\n",
       "1         East York  2016.5  217075.1\n",
       "2         Etobicoke  2016.5  360431.0\n",
       "3  Mississauga East  2016.5  321349.3\n",
       "4     North Toronto  2016.5  330098.3\n",
       "5        North York  2016.5  400108.9\n",
       "6  Scarborough East  2016.5  352482.6"
      ]
     },
     "execution_count": 10,
     "metadata": {},
     "output_type": "execute_result"
    }
   ],
   "source": [
    "avg_df = demands_df.groupby('Region').mean()\n",
    "avg_df.reset_index(inplace=True)\n",
    "avg_df"
   ]
  },
  {
   "cell_type": "code",
   "execution_count": 11,
   "id": "d7ed72ba",
   "metadata": {},
   "outputs": [
    {
     "data": {
      "text/plain": [
       "<AxesSubplot:xlabel='Region', ylabel='Demand'>"
      ]
     },
     "execution_count": 11,
     "metadata": {},
     "output_type": "execute_result"
    },
    {
     "data": {
      "image/png": "[encoded data removed]",
      "text/plain": [
       "<Figure size 720x432 with 1 Axes>"
      ]
     },
     "metadata": {
      "needs_background": "light"
     },
     "output_type": "display_data"
    }
   ],
   "source": [
    "fig_dims = (10, 6)\n",
    "fig, ax = plt.subplots(figsize=fig_dims)\n",
    "sns.barplot(x='Region', y='Demand', ax= ax, data=avg_df)"
   ]
  },
  {
   "cell_type": "markdown",
   "id": "e4bd4e23",
   "metadata": {},
   "source": [
    "### Sk learn Linear Regression"
   ]
  },
  {
   "cell_type": "code",
   "execution_count": 12,
   "id": "6674240f",
   "metadata": {},
   "outputs": [],
   "source": [
    "# Importing Linear regression from sklearn \n",
    "from sklearn.linear_model import LinearRegression\n",
    "from sklearn.metrics import mean_squared_error, mean_absolute_error"
   ]
  },
  {
   "cell_type": "markdown",
   "id": "745d30de",
   "metadata": {},
   "source": [
    "## Fitting LR on training data and predicting for 2022-2024"
   ]
  },
  {
   "cell_type": "markdown",
   "id": "355e4349",
   "metadata": {},
   "source": [
    "##### A. Downtown Toronto\n"
   ]
  },
  {
   "cell_type": "code",
   "execution_count": 13,
   "id": "63e2dc6f",
   "metadata": {},
   "outputs": [],
   "source": [
    "region = demands_df[(demands_df['Region'] == 'Downtown Toronto')]"
   ]
  },
  {
   "cell_type": "code",
   "execution_count": 14,
   "id": "3ac0cea7",
   "metadata": {
    "scrolled": true
   },
   "outputs": [
    {
     "name": "stderr",
     "output_type": "stream",
     "text": [
      "/Users/asadtariq/opt/anaconda3/envs/env-IDS2020/lib/python3.7/site-packages/sklearn/base.py:451: UserWarning: X does not have valid feature names, but LinearRegression was fitted with feature names\n",
      "  \"X does not have valid feature names, but\"\n"
     ]
    },
    {
     "data": {
      "text/plain": [
       "array([[397295.66666667],\n",
       "       [412506.86060606],\n",
       "       [427718.05454545]])"
      ]
     },
     "execution_count": 14,
     "metadata": {},
     "output_type": "execute_result"
    }
   ],
   "source": [
    "#demands_downtown_toronto = demands_downtown_toronto.drop('Region', axis=1)\n",
    "\n",
    "region\n",
    "X = region[['Year']] \n",
    "Y = region[['Demand']]\n",
    "X,Y\n",
    "#type(X)\n",
    "\n",
    "\n",
    "# Fitting Simple Linear Regression to the Training set\n",
    "from sklearn.linear_model import LinearRegression\n",
    "regressor = LinearRegression()\n",
    "regressor.fit(X,Y)\n",
    "\n",
    "\n",
    "# Predicting the Test set results\n",
    "y_pred = regressor.predict(X)\n",
    "y_pred\n",
    "\n",
    "\n",
    "# Predicting the Test set results\n",
    "y_pred = regressor.predict(X)\n",
    "y_pred\n",
    "\n",
    "test_years = np.arange(2022, 2025, 1)\n",
    "df_test= pd.DataFrame(test_years)\n",
    "#type(test_years),type(df_test)\n",
    "\n",
    "test_results= regressor.predict(df_test)\n",
    "test_results"
   ]
  },
  {
   "cell_type": "code",
   "execution_count": 15,
   "id": "33c57865",
   "metadata": {
    "scrolled": true
   },
   "outputs": [
    {
     "data": {
      "text/plain": [
       "numpy.ndarray"
      ]
     },
     "execution_count": 15,
     "metadata": {},
     "output_type": "execute_result"
    }
   ],
   "source": [
    "type(test_results)"
   ]
  },
  {
   "cell_type": "code",
   "execution_count": 16,
   "id": "22c461f0",
   "metadata": {
    "scrolled": true
   },
   "outputs": [
    {
     "data": {
      "text/html": [
       "<div>\n",
       "<style scoped>\n",
       "    .dataframe tbody tr th:only-of-type {\n",
       "        vertical-align: middle;\n",
       "    }\n",
       "\n",
       "    .dataframe tbody tr th {\n",
       "        vertical-align: top;\n",
       "    }\n",
       "\n",
       "    .dataframe thead th {\n",
       "        text-align: right;\n",
       "    }\n",
       "</style>\n",
       "<table border=\"1\" class=\"dataframe\">\n",
       "  <thead>\n",
       "    <tr style=\"text-align: right;\">\n",
       "      <th></th>\n",
       "      <th>Year</th>\n",
       "      <th>Region</th>\n",
       "      <th>0</th>\n",
       "    </tr>\n",
       "  </thead>\n",
       "  <tbody>\n",
       "    <tr>\n",
       "      <th>0</th>\n",
       "      <td>2022</td>\n",
       "      <td>Downtown Toronto</td>\n",
       "      <td>397295</td>\n",
       "    </tr>\n",
       "    <tr>\n",
       "      <th>1</th>\n",
       "      <td>2023</td>\n",
       "      <td>Downtown Toronto</td>\n",
       "      <td>412506</td>\n",
       "    </tr>\n",
       "    <tr>\n",
       "      <th>2</th>\n",
       "      <td>2024</td>\n",
       "      <td>Downtown Toronto</td>\n",
       "      <td>427718</td>\n",
       "    </tr>\n",
       "  </tbody>\n",
       "</table>\n",
       "</div>"
      ],
      "text/plain": [
       "   Year            Region       0\n",
       "0  2022  Downtown Toronto  397295\n",
       "1  2023  Downtown Toronto  412506\n",
       "2  2024  Downtown Toronto  427718"
      ]
     },
     "execution_count": 16,
     "metadata": {},
     "output_type": "execute_result"
    }
   ],
   "source": [
    "test_results_df = pd.DataFrame(test_results.astype(int))\n",
    "test_results_df.insert(0, \"Year\", [2022, 2023, 2024], True)\n",
    "test_results_df.insert(1, \"Region\", ['Downtown Toronto','Downtown Toronto','Downtown Toronto'], True)\n",
    "test_results_df\n"
   ]
  },
  {
   "cell_type": "markdown",
   "id": "b3bba3d2",
   "metadata": {},
   "source": [
    "##### B. East York"
   ]
  },
  {
   "cell_type": "code",
   "execution_count": 17,
   "id": "9a06c6af",
   "metadata": {},
   "outputs": [],
   "source": [
    "region = demands_df[(demands_df['Region'] == 'East York')]"
   ]
  },
  {
   "cell_type": "code",
   "execution_count": 18,
   "id": "47aef6f1",
   "metadata": {
    "scrolled": true
   },
   "outputs": [
    {
     "name": "stderr",
     "output_type": "stream",
     "text": [
      "/Users/asadtariq/opt/anaconda3/envs/env-IDS2020/lib/python3.7/site-packages/sklearn/base.py:451: UserWarning: X does not have valid feature names, but LinearRegression was fitted with feature names\n",
      "  \"X does not have valid feature names, but\"\n"
     ]
    },
    {
     "data": {
      "text/plain": [
       "array([[275250.8],\n",
       "       [285828.2],\n",
       "       [296405.6]])"
      ]
     },
     "execution_count": 18,
     "metadata": {},
     "output_type": "execute_result"
    }
   ],
   "source": [
    "#demands_downtown_toronto = demands_downtown_toronto.drop('Region', axis=1)\n",
    "\n",
    "region\n",
    "X = region[['Year']] \n",
    "Y = region[['Demand']]\n",
    "X,Y\n",
    "#type(X)\n",
    "\n",
    "\n",
    "# Fitting Simple Linear Regression to the Training set\n",
    "from sklearn.linear_model import LinearRegression\n",
    "regressor = LinearRegression()\n",
    "regressor.fit(X,Y)\n",
    "\n",
    "\n",
    "# Predicting the Test set results\n",
    "y_pred = regressor.predict(X)\n",
    "y_pred\n",
    "\n",
    "\n",
    "# Predicting the Test set results\n",
    "y_pred = regressor.predict(X)\n",
    "y_pred\n",
    "\n",
    "test_years = np.arange(2022, 2025, 1)\n",
    "df_test= pd.DataFrame(test_years)\n",
    "#type(test_years),type(df_test)\n",
    "\n",
    "test_results= regressor.predict(df_test)\n",
    "test_results"
   ]
  },
  {
   "cell_type": "code",
   "execution_count": 19,
   "id": "fba4ead2",
   "metadata": {
    "scrolled": true
   },
   "outputs": [
    {
     "data": {
      "text/plain": [
       "numpy.ndarray"
      ]
     },
     "execution_count": 19,
     "metadata": {},
     "output_type": "execute_result"
    }
   ],
   "source": [
    "type(test_results)"
   ]
  },
  {
   "cell_type": "code",
   "execution_count": 20,
   "id": "73602c90",
   "metadata": {
    "scrolled": true
   },
   "outputs": [
    {
     "data": {
      "text/html": [
       "<div>\n",
       "<style scoped>\n",
       "    .dataframe tbody tr th:only-of-type {\n",
       "        vertical-align: middle;\n",
       "    }\n",
       "\n",
       "    .dataframe tbody tr th {\n",
       "        vertical-align: top;\n",
       "    }\n",
       "\n",
       "    .dataframe thead th {\n",
       "        text-align: right;\n",
       "    }\n",
       "</style>\n",
       "<table border=\"1\" class=\"dataframe\">\n",
       "  <thead>\n",
       "    <tr style=\"text-align: right;\">\n",
       "      <th></th>\n",
       "      <th>Year</th>\n",
       "      <th>Region</th>\n",
       "      <th>0</th>\n",
       "    </tr>\n",
       "  </thead>\n",
       "  <tbody>\n",
       "    <tr>\n",
       "      <th>0</th>\n",
       "      <td>2022</td>\n",
       "      <td>East York</td>\n",
       "      <td>275250</td>\n",
       "    </tr>\n",
       "    <tr>\n",
       "      <th>1</th>\n",
       "      <td>2023</td>\n",
       "      <td>East York</td>\n",
       "      <td>285828</td>\n",
       "    </tr>\n",
       "    <tr>\n",
       "      <th>2</th>\n",
       "      <td>2024</td>\n",
       "      <td>East York</td>\n",
       "      <td>296405</td>\n",
       "    </tr>\n",
       "  </tbody>\n",
       "</table>\n",
       "</div>"
      ],
      "text/plain": [
       "   Year     Region       0\n",
       "0  2022  East York  275250\n",
       "1  2023  East York  285828\n",
       "2  2024  East York  296405"
      ]
     },
     "execution_count": 20,
     "metadata": {},
     "output_type": "execute_result"
    }
   ],
   "source": [
    "test_results_df = pd.DataFrame(test_results.astype(int))\n",
    "test_results_df.insert(0, \"Year\", [2022, 2023, 2024], True)\n",
    "test_results_df.insert(1, \"Region\", ['East York','East York','East York'], True)\n",
    "test_results_df\n"
   ]
  },
  {
   "cell_type": "code",
   "execution_count": null,
   "id": "01d54a6f",
   "metadata": {},
   "outputs": [],
   "source": []
  },
  {
   "cell_type": "markdown",
   "id": "173e5c02",
   "metadata": {},
   "source": [
    "##### C. Etobicoke"
   ]
  },
  {
   "cell_type": "code",
   "execution_count": 21,
   "id": "c61e55e4",
   "metadata": {},
   "outputs": [],
   "source": [
    "region = demands_df[(demands_df['Region'] == 'Etobicoke')]"
   ]
  },
  {
   "cell_type": "code",
   "execution_count": 22,
   "id": "f647ec62",
   "metadata": {
    "scrolled": true
   },
   "outputs": [
    {
     "name": "stderr",
     "output_type": "stream",
     "text": [
      "/Users/asadtariq/opt/anaconda3/envs/env-IDS2020/lib/python3.7/site-packages/sklearn/base.py:451: UserWarning: X does not have valid feature names, but LinearRegression was fitted with feature names\n",
      "  \"X does not have valid feature names, but\"\n"
     ]
    },
    {
     "data": {
      "text/plain": [
       "array([[457808.06666666],\n",
       "       [475512.98787878],\n",
       "       [493217.90909091]])"
      ]
     },
     "execution_count": 22,
     "metadata": {},
     "output_type": "execute_result"
    }
   ],
   "source": [
    "#demands_downtown_toronto = demands_downtown_toronto.drop('Region', axis=1)\n",
    "\n",
    "region\n",
    "X = region[['Year']] \n",
    "Y = region[['Demand']]\n",
    "X,Y\n",
    "#type(X)\n",
    "\n",
    "\n",
    "# Fitting Simple Linear Regression to the Training set\n",
    "from sklearn.linear_model import LinearRegression\n",
    "regressor = LinearRegression()\n",
    "regressor.fit(X,Y)\n",
    "\n",
    "\n",
    "# Predicting the Test set results\n",
    "y_pred = regressor.predict(X)\n",
    "y_pred\n",
    "\n",
    "\n",
    "# Predicting the Test set results\n",
    "y_pred = regressor.predict(X)\n",
    "y_pred\n",
    "\n",
    "test_years = np.arange(2022, 2025, 1)\n",
    "df_test= pd.DataFrame(test_years)\n",
    "#type(test_years),type(df_test)\n",
    "\n",
    "test_results= regressor.predict(df_test)\n",
    "test_results"
   ]
  },
  {
   "cell_type": "code",
   "execution_count": 23,
   "id": "1d490d0b",
   "metadata": {
    "scrolled": true
   },
   "outputs": [
    {
     "data": {
      "text/plain": [
       "numpy.ndarray"
      ]
     },
     "execution_count": 23,
     "metadata": {},
     "output_type": "execute_result"
    }
   ],
   "source": [
    "type(test_results)"
   ]
  },
  {
   "cell_type": "code",
   "execution_count": 24,
   "id": "082f72cb",
   "metadata": {
    "scrolled": true
   },
   "outputs": [
    {
     "data": {
      "text/html": [
       "<div>\n",
       "<style scoped>\n",
       "    .dataframe tbody tr th:only-of-type {\n",
       "        vertical-align: middle;\n",
       "    }\n",
       "\n",
       "    .dataframe tbody tr th {\n",
       "        vertical-align: top;\n",
       "    }\n",
       "\n",
       "    .dataframe thead th {\n",
       "        text-align: right;\n",
       "    }\n",
       "</style>\n",
       "<table border=\"1\" class=\"dataframe\">\n",
       "  <thead>\n",
       "    <tr style=\"text-align: right;\">\n",
       "      <th></th>\n",
       "      <th>Year</th>\n",
       "      <th>Region</th>\n",
       "      <th>0</th>\n",
       "    </tr>\n",
       "  </thead>\n",
       "  <tbody>\n",
       "    <tr>\n",
       "      <th>0</th>\n",
       "      <td>2022</td>\n",
       "      <td>Etobicoke</td>\n",
       "      <td>457808</td>\n",
       "    </tr>\n",
       "    <tr>\n",
       "      <th>1</th>\n",
       "      <td>2023</td>\n",
       "      <td>Etobicoke</td>\n",
       "      <td>475512</td>\n",
       "    </tr>\n",
       "    <tr>\n",
       "      <th>2</th>\n",
       "      <td>2024</td>\n",
       "      <td>Etobicoke</td>\n",
       "      <td>493217</td>\n",
       "    </tr>\n",
       "  </tbody>\n",
       "</table>\n",
       "</div>"
      ],
      "text/plain": [
       "   Year     Region       0\n",
       "0  2022  Etobicoke  457808\n",
       "1  2023  Etobicoke  475512\n",
       "2  2024  Etobicoke  493217"
      ]
     },
     "execution_count": 24,
     "metadata": {},
     "output_type": "execute_result"
    }
   ],
   "source": [
    "test_results_df = pd.DataFrame(test_results.astype(int))\n",
    "test_results_df.insert(0, \"Year\", [2022, 2023, 2024], True)\n",
    "test_results_df.insert(1, \"Region\", ['Etobicoke','Etobicoke','Etobicoke'], True)\n",
    "test_results_df\n"
   ]
  },
  {
   "cell_type": "markdown",
   "id": "f8ec3db9",
   "metadata": {},
   "source": [
    "##### D. Mississauga East"
   ]
  },
  {
   "cell_type": "code",
   "execution_count": 25,
   "id": "daa1b61d",
   "metadata": {},
   "outputs": [],
   "source": [
    "region = demands_df[(demands_df['Region'] == 'Mississauga East')]"
   ]
  },
  {
   "cell_type": "code",
   "execution_count": 26,
   "id": "2a987619",
   "metadata": {
    "scrolled": true
   },
   "outputs": [
    {
     "name": "stderr",
     "output_type": "stream",
     "text": [
      "/Users/asadtariq/opt/anaconda3/envs/env-IDS2020/lib/python3.7/site-packages/sklearn/base.py:451: UserWarning: X does not have valid feature names, but LinearRegression was fitted with feature names\n",
      "  \"X does not have valid feature names, but\"\n"
     ]
    },
    {
     "data": {
      "text/plain": [
       "array([[406851.4       ],\n",
       "       [422397.23636363],\n",
       "       [437943.07272727]])"
      ]
     },
     "execution_count": 26,
     "metadata": {},
     "output_type": "execute_result"
    }
   ],
   "source": [
    "#demands_downtown_toronto = demands_downtown_toronto.drop('Region', axis=1)\n",
    "\n",
    "region\n",
    "X = region[['Year']] \n",
    "Y = region[['Demand']]\n",
    "X,Y\n",
    "#type(X)\n",
    "\n",
    "\n",
    "# Fitting Simple Linear Regression to the Training set\n",
    "from sklearn.linear_model import LinearRegression\n",
    "regressor = LinearRegression()\n",
    "regressor.fit(X,Y)\n",
    "\n",
    "\n",
    "# Predicting the Test set results\n",
    "y_pred = regressor.predict(X)\n",
    "y_pred\n",
    "\n",
    "\n",
    "# Predicting the Test set results\n",
    "y_pred = regressor.predict(X)\n",
    "y_pred\n",
    "\n",
    "test_years = np.arange(2022, 2025, 1)\n",
    "df_test= pd.DataFrame(test_years)\n",
    "#type(test_years),type(df_test)\n",
    "\n",
    "test_results= regressor.predict(df_test)\n",
    "test_results"
   ]
  },
  {
   "cell_type": "code",
   "execution_count": 27,
   "id": "2434af33",
   "metadata": {
    "scrolled": true
   },
   "outputs": [
    {
     "data": {
      "text/plain": [
       "numpy.ndarray"
      ]
     },
     "execution_count": 27,
     "metadata": {},
     "output_type": "execute_result"
    }
   ],
   "source": [
    "type(test_results)"
   ]
  },
  {
   "cell_type": "code",
   "execution_count": 28,
   "id": "a821adf9",
   "metadata": {
    "scrolled": true
   },
   "outputs": [
    {
     "data": {
      "text/html": [
       "<div>\n",
       "<style scoped>\n",
       "    .dataframe tbody tr th:only-of-type {\n",
       "        vertical-align: middle;\n",
       "    }\n",
       "\n",
       "    .dataframe tbody tr th {\n",
       "        vertical-align: top;\n",
       "    }\n",
       "\n",
       "    .dataframe thead th {\n",
       "        text-align: right;\n",
       "    }\n",
       "</style>\n",
       "<table border=\"1\" class=\"dataframe\">\n",
       "  <thead>\n",
       "    <tr style=\"text-align: right;\">\n",
       "      <th></th>\n",
       "      <th>Year</th>\n",
       "      <th>Region</th>\n",
       "      <th>0</th>\n",
       "    </tr>\n",
       "  </thead>\n",
       "  <tbody>\n",
       "    <tr>\n",
       "      <th>0</th>\n",
       "      <td>2022</td>\n",
       "      <td>Mississauga East</td>\n",
       "      <td>406851</td>\n",
       "    </tr>\n",
       "    <tr>\n",
       "      <th>1</th>\n",
       "      <td>2023</td>\n",
       "      <td>Mississauga East</td>\n",
       "      <td>422397</td>\n",
       "    </tr>\n",
       "    <tr>\n",
       "      <th>2</th>\n",
       "      <td>2024</td>\n",
       "      <td>Mississauga East</td>\n",
       "      <td>437943</td>\n",
       "    </tr>\n",
       "  </tbody>\n",
       "</table>\n",
       "</div>"
      ],
      "text/plain": [
       "   Year            Region       0\n",
       "0  2022  Mississauga East  406851\n",
       "1  2023  Mississauga East  422397\n",
       "2  2024  Mississauga East  437943"
      ]
     },
     "execution_count": 28,
     "metadata": {},
     "output_type": "execute_result"
    }
   ],
   "source": [
    "test_results_df = pd.DataFrame(test_results.astype(int))\n",
    "test_results_df.insert(0, \"Year\", [2022, 2023, 2024], True)\n",
    "test_results_df.insert(1, \"Region\", ['Mississauga East','Mississauga East','Mississauga East'], True)\n",
    "test_results_df\n"
   ]
  },
  {
   "cell_type": "markdown",
   "id": "333088c9",
   "metadata": {},
   "source": [
    "##### E. North Toronto"
   ]
  },
  {
   "cell_type": "code",
   "execution_count": 29,
   "id": "fd97de4a",
   "metadata": {},
   "outputs": [],
   "source": [
    "region = demands_df[(demands_df['Region'] == 'North Toronto')]"
   ]
  },
  {
   "cell_type": "code",
   "execution_count": 30,
   "id": "90f88723",
   "metadata": {
    "scrolled": true
   },
   "outputs": [
    {
     "name": "stderr",
     "output_type": "stream",
     "text": [
      "/Users/asadtariq/opt/anaconda3/envs/env-IDS2020/lib/python3.7/site-packages/sklearn/base.py:451: UserWarning: X does not have valid feature names, but LinearRegression was fitted with feature names\n",
      "  \"X does not have valid feature names, but\"\n"
     ]
    },
    {
     "data": {
      "text/plain": [
       "array([[417190.2       ],\n",
       "       [433025.09090909],\n",
       "       [448859.98181818]])"
      ]
     },
     "execution_count": 30,
     "metadata": {},
     "output_type": "execute_result"
    }
   ],
   "source": [
    "#demands_downtown_toronto = demands_downtown_toronto.drop('Region', axis=1)\n",
    "\n",
    "region\n",
    "X = region[['Year']] \n",
    "Y = region[['Demand']]\n",
    "X,Y\n",
    "#type(X)\n",
    "\n",
    "\n",
    "# Fitting Simple Linear Regression to the Training set\n",
    "from sklearn.linear_model import LinearRegression\n",
    "regressor = LinearRegression()\n",
    "regressor.fit(X,Y)\n",
    "\n",
    "\n",
    "# Predicting the Test set results\n",
    "y_pred = regressor.predict(X)\n",
    "y_pred\n",
    "\n",
    "\n",
    "# Predicting the Test set results\n",
    "y_pred = regressor.predict(X)\n",
    "y_pred\n",
    "\n",
    "test_years = np.arange(2022, 2025, 1)\n",
    "df_test= pd.DataFrame(test_years)\n",
    "#type(test_years),type(df_test)\n",
    "\n",
    "test_results= regressor.predict(df_test)\n",
    "test_results"
   ]
  },
  {
   "cell_type": "code",
   "execution_count": 31,
   "id": "498c7694",
   "metadata": {
    "scrolled": true
   },
   "outputs": [
    {
     "data": {
      "text/plain": [
       "numpy.ndarray"
      ]
     },
     "execution_count": 31,
     "metadata": {},
     "output_type": "execute_result"
    }
   ],
   "source": [
    "type(test_results)"
   ]
  },
  {
   "cell_type": "code",
   "execution_count": 32,
   "id": "88cfd40f",
   "metadata": {
    "scrolled": true
   },
   "outputs": [
    {
     "data": {
      "text/html": [
       "<div>\n",
       "<style scoped>\n",
       "    .dataframe tbody tr th:only-of-type {\n",
       "        vertical-align: middle;\n",
       "    }\n",
       "\n",
       "    .dataframe tbody tr th {\n",
       "        vertical-align: top;\n",
       "    }\n",
       "\n",
       "    .dataframe thead th {\n",
       "        text-align: right;\n",
       "    }\n",
       "</style>\n",
       "<table border=\"1\" class=\"dataframe\">\n",
       "  <thead>\n",
       "    <tr style=\"text-align: right;\">\n",
       "      <th></th>\n",
       "      <th>Year</th>\n",
       "      <th>Region</th>\n",
       "      <th>0</th>\n",
       "    </tr>\n",
       "  </thead>\n",
       "  <tbody>\n",
       "    <tr>\n",
       "      <th>0</th>\n",
       "      <td>2022</td>\n",
       "      <td>North Toronto</td>\n",
       "      <td>417190</td>\n",
       "    </tr>\n",
       "    <tr>\n",
       "      <th>1</th>\n",
       "      <td>2023</td>\n",
       "      <td>North Toronto</td>\n",
       "      <td>433025</td>\n",
       "    </tr>\n",
       "    <tr>\n",
       "      <th>2</th>\n",
       "      <td>2024</td>\n",
       "      <td>North Toronto</td>\n",
       "      <td>448859</td>\n",
       "    </tr>\n",
       "  </tbody>\n",
       "</table>\n",
       "</div>"
      ],
      "text/plain": [
       "   Year         Region       0\n",
       "0  2022  North Toronto  417190\n",
       "1  2023  North Toronto  433025\n",
       "2  2024  North Toronto  448859"
      ]
     },
     "execution_count": 32,
     "metadata": {},
     "output_type": "execute_result"
    }
   ],
   "source": [
    "test_results_df = pd.DataFrame(test_results.astype(int))\n",
    "test_results_df.insert(0, \"Year\", [2022, 2023, 2024], True)\n",
    "test_results_df.insert(1, \"Region\", ['North Toronto','North Toronto','North Toronto'], True)\n",
    "test_results_df\n"
   ]
  },
  {
   "cell_type": "markdown",
   "id": "d65f4e3c",
   "metadata": {},
   "source": [
    "##### F. North York"
   ]
  },
  {
   "cell_type": "code",
   "execution_count": 33,
   "id": "1db229d0",
   "metadata": {},
   "outputs": [],
   "source": [
    "region = demands_df[(demands_df['Region'] == 'North York')]"
   ]
  },
  {
   "cell_type": "code",
   "execution_count": 34,
   "id": "0730a9bc",
   "metadata": {
    "scrolled": true
   },
   "outputs": [
    {
     "name": "stderr",
     "output_type": "stream",
     "text": [
      "/Users/asadtariq/opt/anaconda3/envs/env-IDS2020/lib/python3.7/site-packages/sklearn/base.py:451: UserWarning: X does not have valid feature names, but LinearRegression was fitted with feature names\n",
      "  \"X does not have valid feature names, but\"\n"
     ]
    },
    {
     "data": {
      "text/plain": [
       "array([[508686.46666666],\n",
       "       [528427.84242424],\n",
       "       [548169.21818182]])"
      ]
     },
     "execution_count": 34,
     "metadata": {},
     "output_type": "execute_result"
    }
   ],
   "source": [
    "#demands_downtown_toronto = demands_downtown_toronto.drop('Region', axis=1)\n",
    "\n",
    "region\n",
    "X = region[['Year']] \n",
    "Y = region[['Demand']]\n",
    "X,Y\n",
    "#type(X)\n",
    "\n",
    "\n",
    "# Fitting Simple Linear Regression to the Training set\n",
    "from sklearn.linear_model import LinearRegression\n",
    "regressor = LinearRegression()\n",
    "regressor.fit(X,Y)\n",
    "\n",
    "\n",
    "# Predicting the Test set results\n",
    "y_pred = regressor.predict(X)\n",
    "y_pred\n",
    "\n",
    "\n",
    "# Predicting the Test set results\n",
    "y_pred = regressor.predict(X)\n",
    "y_pred\n",
    "\n",
    "test_years = np.arange(2022, 2025, 1)\n",
    "df_test= pd.DataFrame(test_years)\n",
    "#type(test_years),type(df_test)\n",
    "\n",
    "test_results= regressor.predict(df_test)\n",
    "test_results"
   ]
  },
  {
   "cell_type": "code",
   "execution_count": 35,
   "id": "49238af4",
   "metadata": {
    "scrolled": true
   },
   "outputs": [
    {
     "data": {
      "text/plain": [
       "numpy.ndarray"
      ]
     },
     "execution_count": 35,
     "metadata": {},
     "output_type": "execute_result"
    }
   ],
   "source": [
    "type(test_results)"
   ]
  },
  {
   "cell_type": "code",
   "execution_count": 36,
   "id": "ed26e63c",
   "metadata": {
    "scrolled": true
   },
   "outputs": [
    {
     "data": {
      "text/html": [
       "<div>\n",
       "<style scoped>\n",
       "    .dataframe tbody tr th:only-of-type {\n",
       "        vertical-align: middle;\n",
       "    }\n",
       "\n",
       "    .dataframe tbody tr th {\n",
       "        vertical-align: top;\n",
       "    }\n",
       "\n",
       "    .dataframe thead th {\n",
       "        text-align: right;\n",
       "    }\n",
       "</style>\n",
       "<table border=\"1\" class=\"dataframe\">\n",
       "  <thead>\n",
       "    <tr style=\"text-align: right;\">\n",
       "      <th></th>\n",
       "      <th>Year</th>\n",
       "      <th>Region</th>\n",
       "      <th>0</th>\n",
       "    </tr>\n",
       "  </thead>\n",
       "  <tbody>\n",
       "    <tr>\n",
       "      <th>0</th>\n",
       "      <td>2022</td>\n",
       "      <td>North York</td>\n",
       "      <td>508686</td>\n",
       "    </tr>\n",
       "    <tr>\n",
       "      <th>1</th>\n",
       "      <td>2023</td>\n",
       "      <td>North York</td>\n",
       "      <td>528427</td>\n",
       "    </tr>\n",
       "    <tr>\n",
       "      <th>2</th>\n",
       "      <td>2024</td>\n",
       "      <td>North York</td>\n",
       "      <td>548169</td>\n",
       "    </tr>\n",
       "  </tbody>\n",
       "</table>\n",
       "</div>"
      ],
      "text/plain": [
       "   Year      Region       0\n",
       "0  2022  North York  508686\n",
       "1  2023  North York  528427\n",
       "2  2024  North York  548169"
      ]
     },
     "execution_count": 36,
     "metadata": {},
     "output_type": "execute_result"
    }
   ],
   "source": [
    "test_results_df = pd.DataFrame(test_results.astype(int))\n",
    "test_results_df.insert(0, \"Year\", [2022, 2023, 2024], True)\n",
    "test_results_df.insert(1, \"Region\", ['North York','North York','North York'], True)\n",
    "test_results_df\n"
   ]
  },
  {
   "cell_type": "markdown",
   "id": "4394dd2d",
   "metadata": {},
   "source": [
    "##### G. Scarborough East"
   ]
  },
  {
   "cell_type": "code",
   "execution_count": 37,
   "id": "da6461fa",
   "metadata": {},
   "outputs": [],
   "source": [
    "region = demands_df[(demands_df['Region'] == 'Scarborough East')]"
   ]
  },
  {
   "cell_type": "code",
   "execution_count": 38,
   "id": "38f19167",
   "metadata": {
    "scrolled": true
   },
   "outputs": [
    {
     "name": "stderr",
     "output_type": "stream",
     "text": [
      "/Users/asadtariq/opt/anaconda3/envs/env-IDS2020/lib/python3.7/site-packages/sklearn/base.py:451: UserWarning: X does not have valid feature names, but LinearRegression was fitted with feature names\n",
      "  \"X does not have valid feature names, but\"\n"
     ]
    },
    {
     "data": {
      "text/plain": [
       "array([[445900.8       ],\n",
       "       [462885.92727273],\n",
       "       [479871.05454545]])"
      ]
     },
     "execution_count": 38,
     "metadata": {},
     "output_type": "execute_result"
    }
   ],
   "source": [
    "#demands_downtown_toronto = demands_downtown_toronto.drop('Region', axis=1)\n",
    "\n",
    "region\n",
    "X = region[['Year']] \n",
    "Y = region[['Demand']]\n",
    "X,Y\n",
    "#type(X)\n",
    "\n",
    "\n",
    "# Fitting Simple Linear Regression to the Training set\n",
    "from sklearn.linear_model import LinearRegression\n",
    "regressor = LinearRegression()\n",
    "regressor.fit(X,Y)\n",
    "\n",
    "\n",
    "# Predicting the Test set results\n",
    "y_pred = regressor.predict(X)\n",
    "y_pred\n",
    "\n",
    "\n",
    "# Predicting the Test set results\n",
    "y_pred = regressor.predict(X)\n",
    "y_pred\n",
    "\n",
    "test_years = np.arange(2022, 2025, 1)\n",
    "df_test= pd.DataFrame(test_years)\n",
    "#type(test_years),type(df_test)\n",
    "\n",
    "test_results= regressor.predict(df_test)\n",
    "test_results"
   ]
  },
  {
   "cell_type": "code",
   "execution_count": 39,
   "id": "b0718b64",
   "metadata": {
    "scrolled": true
   },
   "outputs": [
    {
     "data": {
      "text/plain": [
       "numpy.ndarray"
      ]
     },
     "execution_count": 39,
     "metadata": {},
     "output_type": "execute_result"
    }
   ],
   "source": [
    "type(test_results)"
   ]
  },
  {
   "cell_type": "code",
   "execution_count": 40,
   "id": "aa8defeb",
   "metadata": {
    "scrolled": true
   },
   "outputs": [
    {
     "data": {
      "text/html": [
       "<div>\n",
       "<style scoped>\n",
       "    .dataframe tbody tr th:only-of-type {\n",
       "        vertical-align: middle;\n",
       "    }\n",
       "\n",
       "    .dataframe tbody tr th {\n",
       "        vertical-align: top;\n",
       "    }\n",
       "\n",
       "    .dataframe thead th {\n",
       "        text-align: right;\n",
       "    }\n",
       "</style>\n",
       "<table border=\"1\" class=\"dataframe\">\n",
       "  <thead>\n",
       "    <tr style=\"text-align: right;\">\n",
       "      <th></th>\n",
       "      <th>Year</th>\n",
       "      <th>Region</th>\n",
       "      <th>0</th>\n",
       "    </tr>\n",
       "  </thead>\n",
       "  <tbody>\n",
       "    <tr>\n",
       "      <th>0</th>\n",
       "      <td>2022</td>\n",
       "      <td>Scarborough East</td>\n",
       "      <td>445900</td>\n",
       "    </tr>\n",
       "    <tr>\n",
       "      <th>1</th>\n",
       "      <td>2023</td>\n",
       "      <td>Scarborough East</td>\n",
       "      <td>462885</td>\n",
       "    </tr>\n",
       "    <tr>\n",
       "      <th>2</th>\n",
       "      <td>2024</td>\n",
       "      <td>Scarborough East</td>\n",
       "      <td>479871</td>\n",
       "    </tr>\n",
       "  </tbody>\n",
       "</table>\n",
       "</div>"
      ],
      "text/plain": [
       "   Year            Region       0\n",
       "0  2022  Scarborough East  445900\n",
       "1  2023  Scarborough East  462885\n",
       "2  2024  Scarborough East  479871"
      ]
     },
     "execution_count": 40,
     "metadata": {},
     "output_type": "execute_result"
    }
   ],
   "source": [
    "test_results_df = pd.DataFrame(test_results.astype(int))\n",
    "test_results_df.insert(0, \"Year\", [2022, 2023, 2024], True)\n",
    "test_results_df.insert(1, \"Region\", ['Scarborough East','Scarborough East','Scarborough East'], True)\n",
    "test_results_df\n"
   ]
  },
  {
   "cell_type": "code",
   "execution_count": 41,
   "id": "9b5a5e5a",
   "metadata": {},
   "outputs": [],
   "source": [
    "#Data set with demand and predictions combined for all regions"
   ]
  },
  {
   "cell_type": "code",
   "execution_count": 43,
   "id": "b5cd0195",
   "metadata": {},
   "outputs": [],
   "source": [
    "demandsupto2024_df = pd.read_excel(\"demandsupto2024.xlsx\")"
   ]
  },
  {
   "cell_type": "code",
   "execution_count": 44,
   "id": "d6512117",
   "metadata": {
    "scrolled": true
   },
   "outputs": [
    {
     "data": {
      "text/plain": [
       "<AxesSubplot:>"
      ]
     },
     "execution_count": 44,
     "metadata": {},
     "output_type": "execute_result"
    },
    {
     "data": {
      "image/png": "[encoded data removed]",
      "text/plain": [
       "<Figure size 432x288 with 1 Axes>"
      ]
     },
     "metadata": {
      "needs_background": "light"
     },
     "output_type": "display_data"
    }
   ],
   "source": [
    "demandsupto2024_df.plot()"
   ]
  },
  {
   "cell_type": "code",
   "execution_count": 45,
   "id": "be30b582",
   "metadata": {},
   "outputs": [
    {
     "data": {
      "text/plain": [
       "<AxesSubplot:xlabel='Year'>"
      ]
     },
     "execution_count": 45,
     "metadata": {},
     "output_type": "execute_result"
    },
    {
     "data": {
      "image/png": "[encoded data removed]",
      "text/plain": [
       "<Figure size 432x288 with 1 Axes>"
      ]
     },
     "metadata": {
      "needs_background": "light"
     },
     "output_type": "display_data"
    }
   ],
   "source": [
    "demandsupto2024_pivot = demandsupto2024_df.pivot(\"Year\", \"Region\", \"Demand\")\n",
    "demandsupto2024_pivot.head()\n",
    "\n",
    "sns.lineplot(data = demands_pivot)"
   ]
  },
  {
   "cell_type": "markdown",
   "id": "39d929ee",
   "metadata": {},
   "source": [
    "# Question 2 "
   ]
  },
  {
   "cell_type": "markdown",
   "id": "09653218",
   "metadata": {},
   "source": [
    "### Sets"
   ]
  },
  {
   "cell_type": "code",
   "execution_count": 46,
   "id": "3c953afc",
   "metadata": {},
   "outputs": [
    {
     "data": {
      "text/plain": [
       "7"
      ]
     },
     "execution_count": 46,
     "metadata": {},
     "output_type": "execute_result"
    }
   ],
   "source": [
    "# Medical Center #used to be depots\n",
    "medicalcenters = list(centers_df.index)\n",
    "nummedicalcenters = len(medicalcenters)\n",
    "nummedicalcenters #number of potential facility locations considered\n",
    "\n",
    "\n",
    "# Demand Regions #used to be demand zones\n",
    "regions = list(demands_df[\"Region\"].unique())\n",
    "numregions = len(regions)\n",
    "numregions #number of potential demand regions considered"
   ]
  },
  {
   "cell_type": "code",
   "execution_count": 47,
   "id": "8e3ca1b0",
   "metadata": {
    "scrolled": true
   },
   "outputs": [],
   "source": [
    "# temp = demands_df.set_index(\"Region\")\n",
    "# temp"
   ]
  },
  {
   "cell_type": "markdown",
   "id": "561e0783",
   "metadata": {},
   "source": [
    "### Input Parameters"
   ]
  },
  {
   "cell_type": "code",
   "execution_count": 48,
   "id": "8bba3c81",
   "metadata": {
    "scrolled": false
   },
   "outputs": [],
   "source": [
    "# Demand in each region (dictionary)\n",
    "regiondemand = {}\n",
    "for j in regions:\n",
    "    regiondemand[j] = demandsupto2024_df.loc[(demandsupto2024_df[\"Year\"] == 2022)&(demandsupto2024_df[\"Region\"] == j)][\"Demand\"]\n",
    "\n",
    "    ### CAPACITY\n",
    "# Medical center capacities (dictionary)\n",
    "# 6 pieces of data\n",
    "medicalcentercapacity = {}\n",
    "for i in medicalcenters:\n",
    "    medicalcentercapacity[i] = int(centers_df.loc[i][\"Maximum capacity\"])\n",
    "    \n",
    "# Employee capacity of one medical center\n",
    "employee_hour_capacity_per_center = {}\n",
    "for i in medicalcenters:\n",
    "    employee_hour_capacity_per_center[i] = int(centers_df.loc[i][\"Num MPs\"]*250*6)\n",
    "\n",
    "    ### FIXED COST\n",
    "# Medical center costs (dictionary)\n",
    "medicalcenterfixedcost = {}\n",
    "for i in medicalcenters:\n",
    "    medicalcenterfixedcost[i] = float(centers_df.loc[i][\"Opening Costs\"] +  centers_df.loc[i][\"Operating Costs\"])\n",
    "    \n",
    "    ### VARIABLE COST\n",
    "# HP distance cost\n",
    "two_way_distance_cost_per_km = 0.25*2\n",
    "\n",
    "#6*7 = 42 pieces of data\n",
    "hp_cost_from_center_to_region= {} #cij(cost of producing and shipping/cost incurred during flow)\n",
    "for i in medicalcenters:\n",
    "    for j in regions:\n",
    "        hp_cost_from_center_to_region[(i,j)] = distances_df[(distances_df[\"Center\"] == i)&(distances_df[\"Region\"] == j)][\"Distance\"]*two_way_distance_cost_per_km + (56775) \n"
   ]
  },
  {
   "cell_type": "code",
   "execution_count": 49,
   "id": "f14e9748",
   "metadata": {},
   "outputs": [],
   "source": [
    "#calculating salary \n",
    "\n",
    "# salary_2022 = int(37.85*6*250)\n",
    "# print(salary_2022 , \"is the 2022 salary\")\n",
    "# salary_2023 = int(salary_2022*1.025)\n",
    "# print(salary_2023 , \"is the 2023 salary\")\n",
    "# salary_2024 = int(salary_2023*1.05)\n",
    "# print(salary_2024 , \"is the 2024 salary\")"
   ]
  },
  {
   "cell_type": "markdown",
   "id": "b0391330",
   "metadata": {},
   "source": [
    "### Decision Variables"
   ]
  },
  {
   "cell_type": "code",
   "execution_count": 50,
   "id": "df6fb082",
   "metadata": {},
   "outputs": [],
   "source": [
    "# Variables: if a medical center is opened/allocated\n",
    "yvar = pulp.LpVariable.dict(\"y\", medicalcenters, cat=pulp.LpBinary)\n",
    "#binary variable, y is 1 if facility is open, 0 otherwise\n",
    "\n",
    "# Variables: amount of demand allocated to each reagion by hp, per scenario\n",
    "xvar = pulp.LpVariable.dict(\"x\", (medicalcenters, regions), lowBound=0.0, cat=pulp.LpContinuous)\n",
    "# continious variable, demand filled by facility i allocated by hp to region j\n"
   ]
  },
  {
   "cell_type": "markdown",
   "id": "4a4aeb4d",
   "metadata": {},
   "source": [
    "### Model initialization\n"
   ]
  },
  {
   "cell_type": "code",
   "execution_count": 51,
   "id": "4678dfe2",
   "metadata": {},
   "outputs": [],
   "source": [
    "# Initialize model and objective sense\n",
    "locationModel = pulp.LpProblem(name=\"MedicalCenterLocationModel\", sense=pulp.LpMinimize)"
   ]
  },
  {
   "cell_type": "markdown",
   "id": "3b2cf27e",
   "metadata": {},
   "source": [
    "### Constraints"
   ]
  },
  {
   "cell_type": "code",
   "execution_count": 52,
   "id": "664a4be4",
   "metadata": {},
   "outputs": [],
   "source": [
    "# Contraint: demand must be satisfied in all scenarios\n",
    "for j in regions:\n",
    "    locationModel += pulp.lpSum( [xvar[(i,j)] for i in medicalcenters] ) == regiondemand[j]\n",
    "\n",
    "# Constraint: Medical centers capacities must be observed in all scenarios\n",
    "for i in medicalcenters:        \n",
    "    locationModel += pulp.lpSum( [xvar[(i,j)] for j in regions] ) <= medicalcentercapacity[i] * yvar[i]"
   ]
  },
  {
   "cell_type": "code",
   "execution_count": 53,
   "id": "3736ae56",
   "metadata": {},
   "outputs": [
    {
     "data": {
      "text/plain": [
       "{0: 322500, 1: 187500, 2: 150000, 3: 180000, 4: 0, 5: 0}"
      ]
     },
     "execution_count": 53,
     "metadata": {},
     "output_type": "execute_result"
    }
   ],
   "source": [
    "employee_hour_capacity_per_center"
   ]
  },
  {
   "cell_type": "markdown",
   "id": "aa0333e0",
   "metadata": {},
   "source": [
    "### Objective function"
   ]
  },
  {
   "cell_type": "code",
   "execution_count": 54,
   "id": "c31d612b",
   "metadata": {},
   "outputs": [],
   "source": [
    "# Objective function (MINIMIZE TOTAL COST)\n",
    "\n",
    "# --- medical center fixed costs (FIXED COST)\n",
    "obj = pulp.lpSum([ medicalcenterfixedcost[i] * yvar[i] for i in medicalcenters])\n",
    "#How much does it cost if I operate facility(medical center)* do I operate it (yes or no)\n",
    "\n",
    "\n",
    "# --- hp flow cost- used to be package flow costs (VARIABLE COST)\n",
    "obj += pulp.lpSum( [ hp_cost_from_center_to_region[(i,j)] * xvar[(i,j)] for i in medicalcenters for j in regions ] )\n",
    "\n",
    "# add objective to model\n",
    "locationModel += obj\n"
   ]
  },
  {
   "cell_type": "markdown",
   "id": "aa662f58",
   "metadata": {},
   "source": [
    "### Solution process"
   ]
  },
  {
   "cell_type": "code",
   "execution_count": 55,
   "id": "796e5d46",
   "metadata": {},
   "outputs": [
    {
     "name": "stdout",
     "output_type": "stream",
     "text": [
      "Status: Optimal\n"
     ]
    }
   ],
   "source": [
    "# Write LP to file (optional, but often good to inspect model and find errors)\n",
    "locationModel.writeLP(\"locationModel.lp\")\n",
    "\n",
    "# Solve model\n",
    "locationModel.solve()\n",
    "print(\"Status:\", pulp.LpStatus[locationModel.status])"
   ]
  },
  {
   "cell_type": "code",
   "execution_count": 56,
   "id": "30aa9481",
   "metadata": {},
   "outputs": [
    {
     "name": "stdout",
     "output_type": "stream",
     "text": [
      "Total cost: 275000.0\n"
     ]
    }
   ],
   "source": [
    "# Total cost\n",
    "totalCost = pulp.value(locationModel.objective)\n",
    "print(\"Total cost: \" + str(totalCost))"
   ]
  },
  {
   "cell_type": "code",
   "execution_count": 57,
   "id": "f853ce85",
   "metadata": {
    "scrolled": true
   },
   "outputs": [
    {
     "name": "stdout",
     "output_type": "stream",
     "text": [
      "medical center 5 is opened\n",
      "\t\tServes zone Downtown Toronto - with capacity 397295.0\n",
      "\t\tServes zone East York - with capacity 275250.0\n",
      "\t\tServes zone Etobicoke - with capacity 457808.0\n",
      "\t\tServes zone Mississauga East - with capacity 406851.0\n",
      "\t\tServes zone North Toronto - with capacity 417190.0\n",
      "\t\tServes zone North York - with capacity 508686.0\n",
      "\t\tServes zone Scarborough East - with capacity 445900.0\n"
     ]
    }
   ],
   "source": [
    "# Print solution (you can add to the dataframe if needed)\n",
    "for i in medicalcenters:\n",
    "    if yvar[i].varValue >= 1.0:\n",
    "        print(\"medical center \" + str(i) + \" is opened\")                            \n",
    "        for j in regions:\n",
    "            if xvar[(i,j)].varValue > 0.0:\n",
    "                print(\"\\t\\tServes zone \" + str(j) + \" - with capacity \" + str(xvar[(i,j)].varValue))"
   ]
  },
  {
   "cell_type": "markdown",
   "id": "67b31731",
   "metadata": {},
   "source": [
    "# Question 3 "
   ]
  },
  {
   "cell_type": "markdown",
   "id": "7b498cb4",
   "metadata": {},
   "source": [
    "### Sets"
   ]
  },
  {
   "cell_type": "code",
   "execution_count": 58,
   "id": "3e85799c",
   "metadata": {},
   "outputs": [],
   "source": [
    "# Medical Center #used to be depots\n",
    "medicalcenters = list(centers_df.index)\n",
    "nummedicalcenters = len(medicalcenters)\n",
    "nummedicalcenters #number of potential facility locations considered\n",
    "\n",
    "\n",
    "# Demand Regions #used to be demand zones\n",
    "regions = list(demands_df[\"Region\"].unique())\n",
    "numregions = len(regions)\n",
    "numregions #number of potential demand regions considered\n",
    "\n",
    "periods = ['2022', '2023', '2024']"
   ]
  },
  {
   "cell_type": "code",
   "execution_count": 59,
   "id": "f469263b",
   "metadata": {
    "scrolled": true
   },
   "outputs": [],
   "source": [
    "# temp = demands_df.set_index(\"Region\")\n",
    "# temp"
   ]
  },
  {
   "cell_type": "markdown",
   "id": "2edcc312",
   "metadata": {},
   "source": [
    "### Input Parameters"
   ]
  },
  {
   "cell_type": "code",
   "execution_count": 60,
   "id": "4abfacc1",
   "metadata": {
    "scrolled": false
   },
   "outputs": [],
   "source": [
    "# # Demand in each region (dictionary)\n",
    "# regiondemand = {}\n",
    "# for j in regions:\n",
    "#     regiondemand[j] = demandsupto2024_df.loc[(demandsupto2024_df[\"Year\"].isin([2022, 2023, 2024]))&(demandsupto2024_df[\"Region\"] == j)][\"Demand\"]\n",
    "\n",
    "#     ### CAPACITY\n",
    "# # Medical center capacities (dictionary)\n",
    "# # 6 pieces of data\n",
    "# medicalcentercapacity = {}\n",
    "# for i in medicalcenters:\n",
    "#     medicalcentercapacity[i] = int(centers_df.loc[i][\"Maximum capacity\"])\n",
    "    \n",
    "# # Employee capacity of one medical center (employee supply)\n",
    "# employee_hour_capacity_per_center = {}\n",
    "# for i in medicalcenters:\n",
    "#     employee_hour_capacity_per_center[i] = int(centers_df.loc[i][\"Num MPs\"]*250*6)\n",
    "\n",
    "#     ### FIXED COST\n",
    "# # Medical center costs (dictionary)\n",
    "# medicalcenterfixedcost = {}\n",
    "# for i in medicalcenters:\n",
    "#     medicalcenterfixedcost[i] = float(centers_df.loc[i][\"Opening Costs\"] +  centers_df.loc[i][\"Operating Costs\"])\n",
    "    \n",
    "#     ### VARIABLE COST\n",
    "# # HP distance cost\n",
    "# two_way_distance_cost_per_km = 0.25*2\n",
    "\n",
    "# #6*7 = 42 pieces of data\n",
    "# hp_cost_from_center_to_region= {} #cij(cost of producing and shipping/cost incurred during flow)\n",
    "# for i in medicalcenters:\n",
    "#     for j in regions:\n",
    "#         hp_cost_from_center_to_region[(i,j)] = distances_df[(distances_df[\"Center\"] == i)&(distances_df[\"Region\"] == j)][\"Distance\"]*two_way_distance_cost_per_km \n",
    "        \n",
    "# #Salary cost\n",
    "# hp_yearly_salary = {\n",
    "#   2022: 56775,\n",
    "#   2023: 58194,\n",
    "#   2024: 61103}\n"
   ]
  },
  {
   "cell_type": "code",
   "execution_count": 61,
   "id": "cf4f5d1d",
   "metadata": {
    "scrolled": false
   },
   "outputs": [],
   "source": [
    "# Demand in each region (dictionary)\n",
    "regiondemand = {}\n",
    "for j in regions:\n",
    "    regiondemand[j] = demandsupto2024_df.loc[(demandsupto2024_df[\"Year\"].isin([2022, 2023, 2024]))&(demandsupto2024_df[\"Region\"] == j)][\"Demand\"]\n",
    "\n",
    "    ### CAPACITY\n",
    "# Medical center capacities (dictionary)\n",
    "# 6 pieces of data\n",
    "medicalcentercapacity = {}\n",
    "for i in medicalcenters:\n",
    "    medicalcentercapacity[i] = int(centers_df.loc[i][\"Maximum capacity\"])\n",
    "    \n",
    "# Employee capacity of one medical center (employee supply)\n",
    "employee_hour_capacity_per_center = {}\n",
    "for i in medicalcenters:\n",
    "    employee_hour_capacity_per_center[i] = int(centers_df.loc[i][\"Num MPs\"]*250*6)\n",
    "\n",
    "    ### FIXED COST\n",
    "# Medical center costs (dictionary) \n",
    "medicalcenterfixedcost = {}\n",
    "for i in medicalcenters:\n",
    "    medicalcenterfixedcost[i] = float(centers_df.loc[i][\"Opening Costs\"] +  centers_df.loc[i][\"Operating Costs\"])\n",
    "    \n",
    "    ### VARIABLE COST\n",
    "# HP distance cost\n",
    "two_way_distance_cost_per_km = 0.25*2\n",
    "\n",
    "#6*7 = 42 pieces of data\n",
    "hp_cost_from_center_to_region= {} #cij(cost of producing and shipping/cost incurred during flow)\n",
    "for i in medicalcenters:\n",
    "    for j in regions:\n",
    "        hp_cost_from_center_to_region[(i,j)] = distances_df[(distances_df[\"Center\"] == i)&(distances_df[\"Region\"] == j)][\"Distance\"]*two_way_distance_cost_per_km \n",
    "        \n",
    "#Salary cost\n",
    "hp_yearly_salary = {\n",
    "  '2022': 56775,\n",
    "  '2023': 58194,\n",
    "  '2024': 61103}\n"
   ]
  },
  {
   "cell_type": "code",
   "execution_count": 62,
   "id": "1a56ba2a",
   "metadata": {},
   "outputs": [],
   "source": [
    "# sal_df = pd.DataFrame ({'Period': [2022, 2023, 2023], 'Salary':[56775,58194,61103]})\n",
    "# sal_df.set_index(\"Period\")"
   ]
  },
  {
   "cell_type": "code",
   "execution_count": 63,
   "id": "198b8c8f",
   "metadata": {},
   "outputs": [],
   "source": [
    "# hp_yearly_salary[1] = sal_df.loc[1][\"Salary\"]\n",
    "# hp_yearly_salary[1]"
   ]
  },
  {
   "cell_type": "code",
   "execution_count": 64,
   "id": "abbd3646",
   "metadata": {},
   "outputs": [],
   "source": [
    "\n",
    "# salary_2022 = int(37.85*6*250)\n",
    "# print(salary_2022 , \"is the 2022 salary\")\n",
    "# salary_2023 = int(salary_2022*1.025)\n",
    "# print(salary_2023 , \"is the 2023 salary\")\n",
    "# salary_2024 = int(salary_2023*1.05)\n",
    "# print(salary_2024 , \"is the 2024 salary\")"
   ]
  },
  {
   "cell_type": "markdown",
   "id": "b0391330",
   "metadata": {},
   "source": [
    "### Decision Variables"
   ]
  },
  {
   "cell_type": "code",
   "execution_count": 65,
   "id": "df6fb082",
   "metadata": {},
   "outputs": [],
   "source": [
    "# Variables: if a medical center is opened/allocated\n",
    "yvar = pulp.LpVariable.dict(\"y\", medicalcenters, cat=pulp.LpBinary)\n",
    "#binary variable, y is 1 if facility is open, 0 otherwise\n",
    "\n",
    "# Variables: amount of demand allocated to each reagion by hp, per scenario\n",
    "xvar = pulp.LpVariable.dict(\"x\", (medicalcenters, regions), lowBound=0.0, cat=pulp.LpContinuous)\n",
    "# continious variable, demand filled by facility i allocated by hp to region j\n"
   ]
  },
  {
   "cell_type": "markdown",
   "id": "4a4aeb4d",
   "metadata": {},
   "source": [
    "### Model initialization\n"
   ]
  },
  {
   "cell_type": "code",
   "execution_count": 66,
   "id": "4678dfe2",
   "metadata": {},
   "outputs": [],
   "source": [
    "# Initialize model and objective sense\n",
    "locationModel = pulp.LpProblem(name=\"MedicalCenterLocationModel\", sense=pulp.LpMinimize)"
   ]
  },
  {
   "cell_type": "markdown",
   "id": "3b2cf27e",
   "metadata": {},
   "source": [
    "### Constraints"
   ]
  },
  {
   "cell_type": "code",
   "execution_count": 67,
   "id": "664a4be4",
   "metadata": {},
   "outputs": [],
   "source": [
    "# Contraint: demand must be satisfied in all scenarios\n",
    "for j in regions:\n",
    "    locationModel += pulp.lpSum( [xvar[(i,j)] for i in medicalcenters] ) == regiondemand[j]\n",
    "\n",
    "# Constraint: Medical centers capacities must be observed in all scenarios\n",
    "for i in medicalcenters:        \n",
    "    locationModel += pulp.lpSum( [xvar[(i,j)] for j in regions] ) <= medicalcentercapacity[i] * yvar[i]"
   ]
  },
  {
   "cell_type": "markdown",
   "id": "aa0333e0",
   "metadata": {},
   "source": [
    "### Objective function"
   ]
  },
  {
   "cell_type": "code",
   "execution_count": 68,
   "id": "c31d612b",
   "metadata": {},
   "outputs": [],
   "source": [
    "# Objective function (MINIMIZE TOTAL COST)\n",
    "\n",
    "# --- medical center fixed costs (FIXED COST)\n",
    "obj = pulp.lpSum([ medicalcenterfixedcost[i] * yvar[i] for i in medicalcenters])\n",
    "#How much does it cost if I operate facility(medical center)* do I operate it (yes or no)\n",
    "\n",
    "\n",
    "# --- hp flow cost- used to be package flow costs (VARIABLE COST)\n",
    "obj += pulp.lpSum( [ hp_cost_from_center_to_region[(i,j)]  * xvar[(i,j)] for i in medicalcenters for j in regions] )\n",
    "\n",
    "#obj += pulp.lpSum( [hp_yearly_salary[(t)]  * xvar[(t)] for t in periods] )\n",
    "\n",
    "# add objective to model\n",
    "locationModel += obj\n"
   ]
  },
  {
   "cell_type": "markdown",
   "id": "741434fc",
   "metadata": {},
   "source": [
    "# BUG - adding t to the obj function is breaking it "
   ]
  },
  {
   "cell_type": "code",
   "execution_count": 69,
   "id": "3b95fd6e",
   "metadata": {},
   "outputs": [
    {
     "ename": "KeyError",
     "evalue": "(0, 'Downtown Toronto', '2022')",
     "output_type": "error",
     "traceback": [
      "\u001b[0;31m---------------------------------------------------------------------------\u001b[0m",
      "\u001b[0;31mKeyError\u001b[0m                                  Traceback (most recent call last)",
      "\u001b[0;32m/var/folders/dk/9q84mn0j1nzfg85t9zx5d1480000gn/T/ipykernel_56739/1394489443.py\u001b[0m in \u001b[0;36m<module>\u001b[0;34m\u001b[0m\n\u001b[0;32m----> 1\u001b[0;31m \u001b[0mobj\u001b[0m \u001b[0;34m+=\u001b[0m \u001b[0mpulp\u001b[0m\u001b[0;34m.\u001b[0m\u001b[0mlpSum\u001b[0m\u001b[0;34m(\u001b[0m \u001b[0;34m[\u001b[0m \u001b[0mhp_cost_from_center_to_region\u001b[0m\u001b[0;34m[\u001b[0m\u001b[0;34m(\u001b[0m\u001b[0mi\u001b[0m\u001b[0;34m,\u001b[0m\u001b[0mj\u001b[0m\u001b[0;34m,\u001b[0m\u001b[0mt\u001b[0m\u001b[0;34m)\u001b[0m\u001b[0;34m]\u001b[0m  \u001b[0;34m*\u001b[0m \u001b[0mxvar\u001b[0m\u001b[0;34m[\u001b[0m\u001b[0;34m(\u001b[0m\u001b[0mi\u001b[0m\u001b[0;34m,\u001b[0m\u001b[0mj\u001b[0m\u001b[0;34m,\u001b[0m\u001b[0mt\u001b[0m\u001b[0;34m)\u001b[0m\u001b[0;34m]\u001b[0m \u001b[0;32mfor\u001b[0m \u001b[0mi\u001b[0m \u001b[0;32min\u001b[0m \u001b[0mmedicalcenters\u001b[0m \u001b[0;32mfor\u001b[0m \u001b[0mj\u001b[0m \u001b[0;32min\u001b[0m \u001b[0mregions\u001b[0m \u001b[0;32mfor\u001b[0m \u001b[0mt\u001b[0m \u001b[0;32min\u001b[0m \u001b[0mperiods\u001b[0m\u001b[0;34m]\u001b[0m\u001b[0;34m)\u001b[0m\u001b[0;34m\u001b[0m\u001b[0;34m\u001b[0m\u001b[0m\n\u001b[0m",
      "\u001b[0;32m/var/folders/dk/9q84mn0j1nzfg85t9zx5d1480000gn/T/ipykernel_56739/1394489443.py\u001b[0m in \u001b[0;36m<listcomp>\u001b[0;34m(.0)\u001b[0m\n\u001b[0;32m----> 1\u001b[0;31m \u001b[0mobj\u001b[0m \u001b[0;34m+=\u001b[0m \u001b[0mpulp\u001b[0m\u001b[0;34m.\u001b[0m\u001b[0mlpSum\u001b[0m\u001b[0;34m(\u001b[0m \u001b[0;34m[\u001b[0m \u001b[0mhp_cost_from_center_to_region\u001b[0m\u001b[0;34m[\u001b[0m\u001b[0;34m(\u001b[0m\u001b[0mi\u001b[0m\u001b[0;34m,\u001b[0m\u001b[0mj\u001b[0m\u001b[0;34m,\u001b[0m\u001b[0mt\u001b[0m\u001b[0;34m)\u001b[0m\u001b[0;34m]\u001b[0m  \u001b[0;34m*\u001b[0m \u001b[0mxvar\u001b[0m\u001b[0;34m[\u001b[0m\u001b[0;34m(\u001b[0m\u001b[0mi\u001b[0m\u001b[0;34m,\u001b[0m\u001b[0mj\u001b[0m\u001b[0;34m,\u001b[0m\u001b[0mt\u001b[0m\u001b[0;34m)\u001b[0m\u001b[0;34m]\u001b[0m \u001b[0;32mfor\u001b[0m \u001b[0mi\u001b[0m \u001b[0;32min\u001b[0m \u001b[0mmedicalcenters\u001b[0m \u001b[0;32mfor\u001b[0m \u001b[0mj\u001b[0m \u001b[0;32min\u001b[0m \u001b[0mregions\u001b[0m \u001b[0;32mfor\u001b[0m \u001b[0mt\u001b[0m \u001b[0;32min\u001b[0m \u001b[0mperiods\u001b[0m\u001b[0;34m]\u001b[0m\u001b[0;34m)\u001b[0m\u001b[0;34m\u001b[0m\u001b[0;34m\u001b[0m\u001b[0m\n\u001b[0m",
      "\u001b[0;31mKeyError\u001b[0m: (0, 'Downtown Toronto', '2022')"
     ]
    }
   ],
   "source": [
    "obj += pulp.lpSum( [ hp_cost_from_center_to_region[(i,j,t)]  * xvar[(i,j,t)] for i in medicalcenters for j in regions for t in periods])"
   ]
  },
  {
   "cell_type": "code",
   "execution_count": 70,
   "id": "dbc32389",
   "metadata": {
    "scrolled": true
   },
   "outputs": [
    {
     "ename": "KeyError",
     "evalue": "(0, 'Downtown Toronto', '2022')",
     "output_type": "error",
     "traceback": [
      "\u001b[0;31m---------------------------------------------------------------------------\u001b[0m",
      "\u001b[0;31mKeyError\u001b[0m                                  Traceback (most recent call last)",
      "\u001b[0;32m/var/folders/dk/9q84mn0j1nzfg85t9zx5d1480000gn/T/ipykernel_56739/792881235.py\u001b[0m in \u001b[0;36m<module>\u001b[0;34m\u001b[0m\n\u001b[1;32m      2\u001b[0m     \u001b[0;32mfor\u001b[0m \u001b[0mj\u001b[0m \u001b[0;32min\u001b[0m \u001b[0mregions\u001b[0m\u001b[0;34m:\u001b[0m\u001b[0;34m\u001b[0m\u001b[0;34m\u001b[0m\u001b[0m\n\u001b[1;32m      3\u001b[0m         \u001b[0;32mfor\u001b[0m \u001b[0mt\u001b[0m \u001b[0;32min\u001b[0m \u001b[0mperiods\u001b[0m\u001b[0;34m:\u001b[0m\u001b[0;34m\u001b[0m\u001b[0;34m\u001b[0m\u001b[0m\n\u001b[0;32m----> 4\u001b[0;31m             \u001b[0mprint\u001b[0m\u001b[0;34m(\u001b[0m\u001b[0mhp_yearly_salary\u001b[0m\u001b[0;34m[\u001b[0m\u001b[0;34m(\u001b[0m\u001b[0mi\u001b[0m\u001b[0;34m,\u001b[0m\u001b[0mj\u001b[0m\u001b[0;34m,\u001b[0m\u001b[0mt\u001b[0m\u001b[0;34m)\u001b[0m\u001b[0;34m]\u001b[0m \u001b[0;34m*\u001b[0m \u001b[0mxvar\u001b[0m\u001b[0;34m[\u001b[0m\u001b[0;34m(\u001b[0m\u001b[0mi\u001b[0m\u001b[0;34m,\u001b[0m\u001b[0mj\u001b[0m\u001b[0;34m,\u001b[0m\u001b[0mt\u001b[0m\u001b[0;34m)\u001b[0m\u001b[0;34m]\u001b[0m\u001b[0;34m)\u001b[0m\u001b[0;34m\u001b[0m\u001b[0;34m\u001b[0m\u001b[0m\n\u001b[0m",
      "\u001b[0;31mKeyError\u001b[0m: (0, 'Downtown Toronto', '2022')"
     ]
    }
   ],
   "source": [
    "for i in medicalcenters:\n",
    "    for j in regions:\n",
    "        for t in periods: \n",
    "            print(hp_yearly_salary[(i,j,t)] * xvar[(i,j,t)])"
   ]
  },
  {
   "cell_type": "code",
   "execution_count": 71,
   "id": "843c0f87",
   "metadata": {
    "scrolled": true
   },
   "outputs": [
    {
     "data": {
      "text/plain": [
       "{(0, 'Downtown Toronto'): Series([], Name: Distance, dtype: float64),\n",
       " (0, 'East York'): Series([], Name: Distance, dtype: float64),\n",
       " (0, 'Etobicoke'): Series([], Name: Distance, dtype: float64),\n",
       " (0, 'Mississauga East'): Series([], Name: Distance, dtype: float64),\n",
       " (0, 'North Toronto'): Series([], Name: Distance, dtype: float64),\n",
       " (0, 'North York'): Series([], Name: Distance, dtype: float64),\n",
       " (0, 'Scarborough East'): Series([], Name: Distance, dtype: float64),\n",
       " (1, 'Downtown Toronto'): Series([], Name: Distance, dtype: float64),\n",
       " (1, 'East York'): Series([], Name: Distance, dtype: float64),\n",
       " (1, 'Etobicoke'): Series([], Name: Distance, dtype: float64),\n",
       " (1, 'Mississauga East'): Series([], Name: Distance, dtype: float64),\n",
       " (1, 'North Toronto'): Series([], Name: Distance, dtype: float64),\n",
       " (1, 'North York'): Series([], Name: Distance, dtype: float64),\n",
       " (1, 'Scarborough East'): Series([], Name: Distance, dtype: float64),\n",
       " (2, 'Downtown Toronto'): Series([], Name: Distance, dtype: float64),\n",
       " (2, 'East York'): Series([], Name: Distance, dtype: float64),\n",
       " (2, 'Etobicoke'): Series([], Name: Distance, dtype: float64),\n",
       " (2, 'Mississauga East'): Series([], Name: Distance, dtype: float64),\n",
       " (2, 'North Toronto'): Series([], Name: Distance, dtype: float64),\n",
       " (2, 'North York'): Series([], Name: Distance, dtype: float64),\n",
       " (2, 'Scarborough East'): Series([], Name: Distance, dtype: float64),\n",
       " (3, 'Downtown Toronto'): Series([], Name: Distance, dtype: float64),\n",
       " (3, 'East York'): Series([], Name: Distance, dtype: float64),\n",
       " (3, 'Etobicoke'): Series([], Name: Distance, dtype: float64),\n",
       " (3, 'Mississauga East'): Series([], Name: Distance, dtype: float64),\n",
       " (3, 'North Toronto'): Series([], Name: Distance, dtype: float64),\n",
       " (3, 'North York'): Series([], Name: Distance, dtype: float64),\n",
       " (3, 'Scarborough East'): Series([], Name: Distance, dtype: float64),\n",
       " (4, 'Downtown Toronto'): Series([], Name: Distance, dtype: float64),\n",
       " (4, 'East York'): Series([], Name: Distance, dtype: float64),\n",
       " (4, 'Etobicoke'): Series([], Name: Distance, dtype: float64),\n",
       " (4, 'Mississauga East'): Series([], Name: Distance, dtype: float64),\n",
       " (4, 'North Toronto'): Series([], Name: Distance, dtype: float64),\n",
       " (4, 'North York'): Series([], Name: Distance, dtype: float64),\n",
       " (4, 'Scarborough East'): Series([], Name: Distance, dtype: float64),\n",
       " (5, 'Downtown Toronto'): Series([], Name: Distance, dtype: float64),\n",
       " (5, 'East York'): Series([], Name: Distance, dtype: float64),\n",
       " (5, 'Etobicoke'): Series([], Name: Distance, dtype: float64),\n",
       " (5, 'Mississauga East'): Series([], Name: Distance, dtype: float64),\n",
       " (5, 'North Toronto'): Series([], Name: Distance, dtype: float64),\n",
       " (5, 'North York'): Series([], Name: Distance, dtype: float64),\n",
       " (5, 'Scarborough East'): Series([], Name: Distance, dtype: float64)}"
      ]
     },
     "execution_count": 71,
     "metadata": {},
     "output_type": "execute_result"
    }
   ],
   "source": [
    "hp_cost_from_center_to_region"
   ]
  },
  {
   "cell_type": "markdown",
   "id": "aa662f58",
   "metadata": {},
   "source": [
    "### Solution process"
   ]
  },
  {
   "cell_type": "code",
   "execution_count": 72,
   "id": "796e5d46",
   "metadata": {},
   "outputs": [
    {
     "name": "stdout",
     "output_type": "stream",
     "text": [
      "Status: Optimal\n"
     ]
    }
   ],
   "source": [
    "# Write LP to file (optional, but often good to inspect model and find errors)\n",
    "locationModel.writeLP(\"locationModel.lp\")\n",
    "\n",
    "# Solve model\n",
    "locationModel.solve()\n",
    "print(\"Status:\", pulp.LpStatus[locationModel.status])"
   ]
  },
  {
   "cell_type": "code",
   "execution_count": 73,
   "id": "30aa9481",
   "metadata": {},
   "outputs": [
    {
     "name": "stdout",
     "output_type": "stream",
     "text": [
      "Total cost: 550000.0\n"
     ]
    }
   ],
   "source": [
    "# Total cost\n",
    "totalCost = pulp.value(locationModel.objective)\n",
    "print(\"Total cost: \" + str(totalCost))"
   ]
  },
  {
   "cell_type": "code",
   "execution_count": 74,
   "id": "f853ce85",
   "metadata": {
    "scrolled": true
   },
   "outputs": [
    {
     "name": "stdout",
     "output_type": "stream",
     "text": [
      "medical center 0 is opened\n",
      "\t\tServes zone Downtown Toronto - with capacity 1237519.0\n",
      "\t\tServes zone East York - with capacity 857483.0\n",
      "\t\tServes zone Etobicoke - with capacity 1426537.0\n",
      "\t\tServes zone Mississauga East - with capacity 540203.0\n",
      "medical center 2 is opened\n",
      "\t\tServes zone Mississauga East - with capacity 726988.0\n",
      "\t\tServes zone North Toronto - with capacity 1299074.0\n",
      "\t\tServes zone North York - with capacity 1585282.0\n",
      "\t\tServes zone Scarborough East - with capacity 1388656.0\n"
     ]
    }
   ],
   "source": [
    "# Print solution (you can add to the dataframe if needed)\n",
    "for i in medicalcenters:\n",
    "    if yvar[i].varValue >= 1.0:\n",
    "        print(\"medical center \" + str(i) + \" is opened\")                            \n",
    "        for j in regions:\n",
    "            if xvar[(i,j)].varValue > 0.0:\n",
    "                print(\"\\t\\tServes zone \" + str(j) + \" - with capacity \" + str(xvar[(i,j)].varValue))"
   ]
  },
  {
   "cell_type": "markdown",
   "id": "dc89ea4d",
   "metadata": {},
   "source": [
    "# Question 4"
   ]
  },
  {
   "cell_type": "markdown",
   "id": "09653218",
   "metadata": {},
   "source": [
    "### Sets"
   ]
  },
  {
   "cell_type": "code",
   "execution_count": 76,
   "id": "3c953afc",
   "metadata": {},
   "outputs": [
    {
     "data": {
      "text/plain": [
       "6"
      ]
     },
     "execution_count": 76,
     "metadata": {},
     "output_type": "execute_result"
    }
   ],
   "source": [
    "# Medical Center #used to be depots\n",
    "medicalcenters = list(centers_df.index)\n",
    "nummedicalcenters = len(medicalcenters)\n",
    "nummedicalcenters #number of potential facility locations considered\n",
    "\n",
    "\n",
    "# Demand Regions #used to be demand zones\n",
    "regions = list(demands_df[\"Region\"].unique())\n",
    "numregions = len(regions)\n",
    "numregions #number of potential demand regions considered\n",
    "\n",
    "periods = [2022, 2023, 2024]\n",
    "\n",
    "# Number of employees \n",
    "employees = list(centers_df[\"Num MPs\"])\n",
    "numemployees = len(employees)\n",
    "numemployees #number of potential employees"
   ]
  },
  {
   "cell_type": "markdown",
   "id": "561e0783",
   "metadata": {},
   "source": [
    "### Input Parameters"
   ]
  },
  {
   "cell_type": "code",
   "execution_count": 77,
   "id": "8bba3c81",
   "metadata": {
    "scrolled": false
   },
   "outputs": [],
   "source": [
    "# Demand in each region (dictionary)\n",
    "regiondemand = {}\n",
    "for j in regions:\n",
    "    regiondemand[j] = demandsupto2024_df.loc[(demandsupto2024_df[\"Year\"].isin([2022, 2023, 2024]))&(demandsupto2024_df[\"Region\"] == j)][\"Demand\"]\n",
    "\n",
    "    ### CAPACITY\n",
    "# Medical center capacities (dictionary)\n",
    "# 6 pieces of data\n",
    "medicalcentercapacity = {}\n",
    "for i in medicalcenters:\n",
    "    medicalcentercapacity[i] = int(centers_df.loc[i][\"Maximum capacity\"])\n",
    "    \n",
    "# Employee capacity of one medical center\n",
    "employee_hour_capacity_per_center = {}\n",
    "for i in medicalcenters:\n",
    "    employee_hour_capacity_per_center[i] = int(centers_df.loc[i][\"Num MPs\"]*250*6)\n",
    "\n",
    "    ### FIXED COST\n",
    "# Medical center costs (dictionary)\n",
    "medicalcenterfixedcost = {}\n",
    "for i in medicalcenters:\n",
    "    medicalcenterfixedcost[i] = float(centers_df.loc[i][\"Opening Costs\"] +  centers_df.loc[i][\"Operating Costs\"])\n",
    "    \n",
    "    ### VARIABLE COST\n",
    "# HP distance cost\n",
    "two_way_distance_cost_per_km = 0.25*2\n",
    "\n",
    "#6*7 = 42 pieces of data\n",
    "hp_cost_from_center_to_region= {} #cij(cost of producing and shipping/cost incurred during flow)\n",
    "for i in medicalcenters:\n",
    "    for j in regions:\n",
    "        hp_cost_from_center_to_region[(i,j)] = distances_df[(distances_df[\"Center\"] == i)&(distances_df[\"Region\"] == j)][\"Distance\"]*two_way_distance_cost_per_km \n",
    "        \n",
    "#Salary cost\n",
    "hp_yearly_salary = {\n",
    "  \"2022\": \"56775\",\n",
    "  \"2023\": \"58194\",\n",
    "  \"2024\": \"61103\"}\n"
   ]
  },
  {
   "cell_type": "markdown",
   "id": "b0391330",
   "metadata": {},
   "source": [
    "### Decision Variables"
   ]
  },
  {
   "cell_type": "code",
   "execution_count": 78,
   "id": "df6fb082",
   "metadata": {},
   "outputs": [],
   "source": [
    "# Variables: if a medical center is opened/allocated\n",
    "yvar = pulp.LpVariable.dict(\"y\", medicalcenters, cat=pulp.LpBinary)\n",
    "#binary variable, y is 1 if facility is open, 0 otherwise\n",
    "\n",
    "# Variables: amount of demand allocated to each reagion by hp, per scenario\n",
    "xvar = pulp.LpVariable.dict(\"x\", (medicalcenters, regions), lowBound=0.0, cat=pulp.LpContinuous)\n",
    "# continious variable, demand filled by facility i allocated by hp to region j\n",
    "\n",
    "#Variables: Numbers of hires\n",
    "hvar = pulp.LpVariable.dict(\"h\", (employees), lowBound=0.0, upBound=300, cat=pulp.LpInteger)"
   ]
  },
  {
   "cell_type": "markdown",
   "id": "4a4aeb4d",
   "metadata": {},
   "source": [
    "### Model initialization\n"
   ]
  },
  {
   "cell_type": "code",
   "execution_count": 79,
   "id": "4678dfe2",
   "metadata": {},
   "outputs": [],
   "source": [
    "# Initialize model and objective sense\n",
    "locationModel = pulp.LpProblem(name=\"MedicalCenterLocationModel\", sense=pulp.LpMinimize)"
   ]
  },
  {
   "cell_type": "markdown",
   "id": "3b2cf27e",
   "metadata": {},
   "source": [
    "### Constraints"
   ]
  },
  {
   "cell_type": "code",
   "execution_count": 80,
   "id": "9d5ea992",
   "metadata": {},
   "outputs": [],
   "source": [
    "# Contraint: demand must be satisfied in all scenarios\n",
    "for j in regions:\n",
    "    locationModel += pulp.lpSum( [xvar[(i,j)] for i in medicalcenters] ) == regiondemand[j]\n",
    "\n",
    "# Constraint: Medical centers capacities must be observed in all scenarios\n",
    "for i in medicalcenters:        \n",
    "    locationModel += pulp.lpSum( [xvar[(i,j)] for j in regions] ) <= medicalcentercapacity[i] * yvar[i]\n",
    "    \n",
    "# # Constraint: HP capacities must be observed in all scenarios\n",
    "for i in medicalcenters:        \n",
    "    locationModel += pulp.lpSum( [xvar[(i,j)] for j in regions] ) <= employee_hour_capacity_per_center[i] + (300*250*6) #or hvar[i]     "
   ]
  },
  {
   "cell_type": "markdown",
   "id": "aa0333e0",
   "metadata": {},
   "source": [
    "### Objective function"
   ]
  },
  {
   "cell_type": "code",
   "execution_count": 81,
   "id": "c31d612b",
   "metadata": {},
   "outputs": [
    {
     "ename": "NameError",
     "evalue": "name 'salary' is not defined",
     "output_type": "error",
     "traceback": [
      "\u001b[0;31m---------------------------------------------------------------------------\u001b[0m",
      "\u001b[0;31mNameError\u001b[0m                                 Traceback (most recent call last)",
      "\u001b[0;32m/var/folders/dk/9q84mn0j1nzfg85t9zx5d1480000gn/T/ipykernel_56739/2673145391.py\u001b[0m in \u001b[0;36m<module>\u001b[0;34m\u001b[0m\n\u001b[1;32m      2\u001b[0m \u001b[0;34m\u001b[0m\u001b[0m\n\u001b[1;32m      3\u001b[0m \u001b[0;31m# --- medical center fixed costs (FIXED COST)\u001b[0m\u001b[0;34m\u001b[0m\u001b[0;34m\u001b[0m\u001b[0;34m\u001b[0m\u001b[0m\n\u001b[0;32m----> 4\u001b[0;31m \u001b[0mobj\u001b[0m \u001b[0;34m=\u001b[0m \u001b[0mpulp\u001b[0m\u001b[0;34m.\u001b[0m\u001b[0mlpSum\u001b[0m\u001b[0;34m(\u001b[0m\u001b[0;34m[\u001b[0m \u001b[0mmedicalcenterfixedcost\u001b[0m\u001b[0;34m[\u001b[0m\u001b[0mi\u001b[0m\u001b[0;34m]\u001b[0m\u001b[0;34m+\u001b[0m\u001b[0;34m(\u001b[0m\u001b[0;34m(\u001b[0m\u001b[0;34m(\u001b[0m\u001b[0;34m(\u001b[0m\u001b[0msalary\u001b[0m\u001b[0;34m[\u001b[0m\u001b[0mt\u001b[0m\u001b[0;34m]\u001b[0m\u001b[0;34m)\u001b[0m\u001b[0;34m)\u001b[0m\u001b[0;34m)\u001b[0m\u001b[0;34m)\u001b[0m \u001b[0;34m*\u001b[0m \u001b[0myvar\u001b[0m\u001b[0;34m[\u001b[0m\u001b[0mi\u001b[0m\u001b[0;34m]\u001b[0m \u001b[0;32mfor\u001b[0m \u001b[0mi\u001b[0m \u001b[0;32min\u001b[0m \u001b[0mmedicalcenters\u001b[0m\u001b[0;34m]\u001b[0m\u001b[0;34m)\u001b[0m\u001b[0;34m\u001b[0m\u001b[0;34m\u001b[0m\u001b[0m\n\u001b[0m\u001b[1;32m      5\u001b[0m \u001b[0;31m#How much does it cost if I operate facility(medical center)* do I operate it (yes or no)\u001b[0m\u001b[0;34m\u001b[0m\u001b[0;34m\u001b[0m\u001b[0;34m\u001b[0m\u001b[0m\n\u001b[1;32m      6\u001b[0m \u001b[0;34m\u001b[0m\u001b[0m\n",
      "\u001b[0;32m/var/folders/dk/9q84mn0j1nzfg85t9zx5d1480000gn/T/ipykernel_56739/2673145391.py\u001b[0m in \u001b[0;36m<listcomp>\u001b[0;34m(.0)\u001b[0m\n\u001b[1;32m      2\u001b[0m \u001b[0;34m\u001b[0m\u001b[0m\n\u001b[1;32m      3\u001b[0m \u001b[0;31m# --- medical center fixed costs (FIXED COST)\u001b[0m\u001b[0;34m\u001b[0m\u001b[0;34m\u001b[0m\u001b[0;34m\u001b[0m\u001b[0m\n\u001b[0;32m----> 4\u001b[0;31m \u001b[0mobj\u001b[0m \u001b[0;34m=\u001b[0m \u001b[0mpulp\u001b[0m\u001b[0;34m.\u001b[0m\u001b[0mlpSum\u001b[0m\u001b[0;34m(\u001b[0m\u001b[0;34m[\u001b[0m \u001b[0mmedicalcenterfixedcost\u001b[0m\u001b[0;34m[\u001b[0m\u001b[0mi\u001b[0m\u001b[0;34m]\u001b[0m\u001b[0;34m+\u001b[0m\u001b[0;34m(\u001b[0m\u001b[0;34m(\u001b[0m\u001b[0;34m(\u001b[0m\u001b[0;34m(\u001b[0m\u001b[0msalary\u001b[0m\u001b[0;34m[\u001b[0m\u001b[0mt\u001b[0m\u001b[0;34m]\u001b[0m\u001b[0;34m)\u001b[0m\u001b[0;34m)\u001b[0m\u001b[0;34m)\u001b[0m\u001b[0;34m)\u001b[0m \u001b[0;34m*\u001b[0m \u001b[0myvar\u001b[0m\u001b[0;34m[\u001b[0m\u001b[0mi\u001b[0m\u001b[0;34m]\u001b[0m \u001b[0;32mfor\u001b[0m \u001b[0mi\u001b[0m \u001b[0;32min\u001b[0m \u001b[0mmedicalcenters\u001b[0m\u001b[0;34m]\u001b[0m\u001b[0;34m)\u001b[0m\u001b[0;34m\u001b[0m\u001b[0;34m\u001b[0m\u001b[0m\n\u001b[0m\u001b[1;32m      5\u001b[0m \u001b[0;31m#How much does it cost if I operate facility(medical center)* do I operate it (yes or no)\u001b[0m\u001b[0;34m\u001b[0m\u001b[0;34m\u001b[0m\u001b[0;34m\u001b[0m\u001b[0m\n\u001b[1;32m      6\u001b[0m \u001b[0;34m\u001b[0m\u001b[0m\n",
      "\u001b[0;31mNameError\u001b[0m: name 'salary' is not defined"
     ]
    }
   ],
   "source": [
    "# Objective function (MINIMIZE TOTAL COST)\n",
    "\n",
    "# --- medical center fixed costs (FIXED COST)\n",
    "obj = pulp.lpSum([ medicalcenterfixedcost[i]+((((salary[t])))) * yvar[i] for i in medicalcenters])\n",
    "#How much does it cost if I operate facility(medical center)* do I operate it (yes or no)\n",
    "\n",
    "\n",
    "# --- hp flow cost- used to be package flow costs (VARIABLE COST)\n",
    "obj += pulp.lpSum( [ hp_cost_from_center_to_region[(i,j)] * xvar[(i,j)] for i in medicalcenters for j in regions ] )\n",
    "\n",
    "# add objective to model\n",
    "locationModel += obj\n"
   ]
  },
  {
   "cell_type": "markdown",
   "id": "aa662f58",
   "metadata": {},
   "source": [
    "### Solution process"
   ]
  },
  {
   "cell_type": "code",
   "execution_count": 82,
   "id": "796e5d46",
   "metadata": {},
   "outputs": [
    {
     "name": "stdout",
     "output_type": "stream",
     "text": [
      "Status: Infeasible\n"
     ]
    }
   ],
   "source": [
    "# Write LP to file (optional, but often good to inspect model and find errors)\n",
    "locationModel.writeLP(\"locationModel.lp\")\n",
    "\n",
    "# Solve model\n",
    "locationModel.solve()\n",
    "print(\"Status:\", pulp.LpStatus[locationModel.status])"
   ]
  },
  {
   "cell_type": "code",
   "execution_count": 83,
   "id": "30aa9481",
   "metadata": {},
   "outputs": [
    {
     "ename": "AttributeError",
     "evalue": "'NoneType' object has no attribute 'value'",
     "output_type": "error",
     "traceback": [
      "\u001b[0;31m---------------------------------------------------------------------------\u001b[0m",
      "\u001b[0;31mAttributeError\u001b[0m                            Traceback (most recent call last)",
      "\u001b[0;32m/var/folders/dk/9q84mn0j1nzfg85t9zx5d1480000gn/T/ipykernel_56739/2536417489.py\u001b[0m in \u001b[0;36m<module>\u001b[0;34m\u001b[0m\n\u001b[1;32m      1\u001b[0m \u001b[0;31m# Total cost\u001b[0m\u001b[0;34m\u001b[0m\u001b[0;34m\u001b[0m\u001b[0;34m\u001b[0m\u001b[0m\n\u001b[0;32m----> 2\u001b[0;31m \u001b[0mtotalCost\u001b[0m \u001b[0;34m=\u001b[0m \u001b[0mpulp\u001b[0m\u001b[0;34m.\u001b[0m\u001b[0mvalue\u001b[0m\u001b[0;34m(\u001b[0m\u001b[0mlocationModel\u001b[0m\u001b[0;34m.\u001b[0m\u001b[0mobjective\u001b[0m\u001b[0;34m)\u001b[0m\u001b[0;34m\u001b[0m\u001b[0;34m\u001b[0m\u001b[0m\n\u001b[0m\u001b[1;32m      3\u001b[0m \u001b[0mprint\u001b[0m\u001b[0;34m(\u001b[0m\u001b[0;34m\"Total cost: \"\u001b[0m \u001b[0;34m+\u001b[0m \u001b[0mstr\u001b[0m\u001b[0;34m(\u001b[0m\u001b[0mtotalCost\u001b[0m\u001b[0;34m)\u001b[0m\u001b[0;34m)\u001b[0m\u001b[0;34m\u001b[0m\u001b[0;34m\u001b[0m\u001b[0m\n",
      "\u001b[0;32m~/opt/anaconda3/envs/env-IDS2020/lib/python3.7/site-packages/pulp/utilities.py\u001b[0m in \u001b[0;36mvalue\u001b[0;34m(x)\u001b[0m\n\u001b[1;32m     14\u001b[0m         \u001b[0;32mreturn\u001b[0m \u001b[0mx\u001b[0m\u001b[0;34m\u001b[0m\u001b[0;34m\u001b[0m\u001b[0m\n\u001b[1;32m     15\u001b[0m     \u001b[0;32melse\u001b[0m\u001b[0;34m:\u001b[0m\u001b[0;34m\u001b[0m\u001b[0;34m\u001b[0m\u001b[0m\n\u001b[0;32m---> 16\u001b[0;31m         \u001b[0;32mreturn\u001b[0m \u001b[0mx\u001b[0m\u001b[0;34m.\u001b[0m\u001b[0mvalue\u001b[0m\u001b[0;34m(\u001b[0m\u001b[0;34m)\u001b[0m\u001b[0;34m\u001b[0m\u001b[0;34m\u001b[0m\u001b[0m\n\u001b[0m\u001b[1;32m     17\u001b[0m \u001b[0;34m\u001b[0m\u001b[0m\n\u001b[1;32m     18\u001b[0m \u001b[0;34m\u001b[0m\u001b[0m\n",
      "\u001b[0;31mAttributeError\u001b[0m: 'NoneType' object has no attribute 'value'"
     ]
    }
   ],
   "source": [
    "# Total cost\n",
    "totalCost = pulp.value(locationModel.objective)\n",
    "print(\"Total cost: \" + str(totalCost))"
   ]
  },
  {
   "cell_type": "code",
   "execution_count": 84,
   "id": "f853ce85",
   "metadata": {
    "scrolled": false
   },
   "outputs": [
    {
     "name": "stdout",
     "output_type": "stream",
     "text": [
      "medical center 0 is opened\n",
      "\t\tServes zone North Toronto - with capacity 699074.0\n",
      "\t\tServes zone North York - with capacity 73426.0\n",
      "medical center 1 is opened\n",
      "\t\tServes zone North York - with capacity 637500.0\n",
      "medical center 2 is opened\n",
      "\t\tServes zone North Toronto - with capacity 600000.0\n",
      "medical center 3 is opened\n",
      "\t\tServes zone North York - with capacity 630000.0\n",
      "medical center 4 is opened\n",
      "\t\tServes zone Downtown Toronto - with capacity 787519.0\n",
      "\t\tServes zone Etobicoke - with capacity 1426537.0\n",
      "\t\tServes zone Mississauga East - with capacity 1267191.0\n",
      "\t\tServes zone North York - with capacity 244356.0\n",
      "\t\tServes zone Scarborough East - with capacity 1388656.0\n",
      "medical center 5 is opened\n",
      "\t\tServes zone Downtown Toronto - with capacity 450000.0\n"
     ]
    }
   ],
   "source": [
    "# Print solution (you can add to the dataframe if needed)\n",
    "for i in medicalcenters:\n",
    "    if yvar[i].varValue >= 1.0:\n",
    "        print(\"medical center \" + str(i) + \" is opened\")                            \n",
    "        for j in regions:\n",
    "            if xvar[(i,j)].varValue > 0.0:\n",
    "                print(\"\\t\\tServes zone \" + str(j) + \" - with capacity \" + str(xvar[(i,j)].varValue))"
   ]
  },
  {
   "cell_type": "code",
   "execution_count": 85,
   "id": "6af3456b",
   "metadata": {},
   "outputs": [
    {
     "ename": "SyntaxError",
     "evalue": "invalid syntax (1228274905.py, line 1)",
     "output_type": "error",
     "traceback": [
      "\u001b[0;36m  File \u001b[0;32m\"/var/folders/dk/9q84mn0j1nzfg85t9zx5d1480000gn/T/ipykernel_56739/1228274905.py\"\u001b[0;36m, line \u001b[0;32m1\u001b[0m\n\u001b[0;31m    for e in Num MPs:\u001b[0m\n\u001b[0m                   ^\u001b[0m\n\u001b[0;31mSyntaxError\u001b[0m\u001b[0;31m:\u001b[0m invalid syntax\n"
     ]
    }
   ],
   "source": [
    "for e in Num MPs:\n",
    "    num_of_employees = centers_df[e]\n",
    "    worked_hours_per_year_per_employee = 6*250*employee\n",
    "    hp_cost_per_hour = 37.85 *worked_hours_per_year_per_employee\n",
    "    distance_cost_per_m = 0.25"
   ]
  },
  {
   "cell_type": "code",
   "execution_count": 86,
   "id": "cf1ddb88",
   "metadata": {},
   "outputs": [
    {
     "ename": "SyntaxError",
     "evalue": "invalid syntax (2246624386.py, line 1)",
     "output_type": "error",
     "traceback": [
      "\u001b[0;36m  File \u001b[0;32m\"/var/folders/dk/9q84mn0j1nzfg85t9zx5d1480000gn/T/ipykernel_56739/2246624386.py\"\u001b[0;36m, line \u001b[0;32m1\u001b[0m\n\u001b[0;31m    Num MPs\u001b[0m\n\u001b[0m          ^\u001b[0m\n\u001b[0;31mSyntaxError\u001b[0m\u001b[0;31m:\u001b[0m invalid syntax\n"
     ]
    }
   ],
   "source": [
    "Num MPs"
   ]
  }
 ],
 "metadata": {
  "kernelspec": {
   "display_name": "Python 3",
   "language": "python",
   "name": "python3"
  },
  "language_info": {
   "codemirror_mode": {
    "name": "ipython",
    "version": 3
   },
   "file_extension": ".py",
   "mimetype": "text/x-python",
   "name": "python",
   "nbconvert_exporter": "python",
   "pygments_lexer": "ipython3",
   "version": "3.7.7"
  }
 },
 "nbformat": 4,
 "nbformat_minor": 5
}
