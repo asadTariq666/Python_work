{
 "cells": [
  {
   "cell_type": "markdown",
   "metadata": {},
   "source": [
    "# TMA01, question 2 (60 marks)"
   ]
  },
  {
   "cell_type": "markdown",
   "metadata": {},
   "source": [
    "**Name**: \\[Enter your name here\\]\n",
    "\n",
    "**PI**: \\[Enter your student ID here\\]"
   ]
  },
  {
   "cell_type": "markdown",
   "metadata": {},
   "source": [
    "This TMA question gives you the opportunity to demonstrate your mastery of the techniques in carrying out a small-scale data analysis. Specifically, this question requires you to clean two datasets, combine and reshape them, and graphically present the cleaned data. All the techniques required to answer this question can be found in Parts 2-6 and are illustrated in the associated notebooks. \n",
    "\n",
    "**Note**: Although it is possible to carry out all the necessary analyses using the techniques shown in the notebooks, it is possible that there may be more effective ways of carrying out the various operations. If you find that a particular tasks seems hard to carry out with the techniques shown in the teaching materials, check the *pandas* documentation. There may well be a suitable technique available."
   ]
  },
  {
   "cell_type": "markdown",
   "metadata": {},
   "source": [
    "## The Task"
   ]
  },
  {
   "cell_type": "markdown",
   "metadata": {},
   "source": [
    "[Malaria](https://en.wikipedia.org/wiki/Malaria) is a life-threatening parasitic disease, which is spread to humans through the bites of infected mosquitoes. It is extremely widespread: the [World Health Organisation](https://www.who.int/) estimates that nearly half of the world's population is at risk of malaria. Most cases and deaths occur in sub-Saharan Africa, but significant numbers of deaths are also recorded in South-East Asia, Eastern Mediterranean, Western Pacific, and the Americas.\n",
    "\n",
    "The [Wikipedia page on malaria](https://en.wikipedia.org/wiki/Malaria) reports that:\n",
    "\n",
    "> A comparison of average per capita GDP in 1995, adjusted for parity of purchasing power, between countries with malaria and countries without malaria gives a fivefold difference. In the period 1965 to 1990, countries where malaria was common had an average per capita GDP that increased only 0.4% per year, compared to 2.4% per year in other countries.\n",
    "\n",
    "(Quote from the Wikipedia page on 14th June, 2022)\n",
    "\n",
    "\n"
   ]
  },
  {
   "cell_type": "markdown",
   "metadata": {},
   "source": [
    "You are interested in finding out whether this pattern, of lower economic growth in countries where malaria is common, is still the case. You would also like to know whether the incidence of malaria is noticably higher in countries whose economy is heavily based around agriculture, forestry, and fishing.\n",
    "\n",
    "You will be considering the questions:\n",
    "\n",
    "1. Is there a relationship between a country's rate of economic growth whether malaria is common in that country?\n",
    "2. Is there a relationship between the incidence of malaria, and the relative contribution of agriculture, forestry and fishing to a country's economy? \n"
   ]
  },
  {
   "cell_type": "markdown",
   "metadata": {},
   "source": [
    "To address these questions, you will investigate two datasets. The first details an estimate of the rate of incidence of malaria in each country over a number of years. The data was obtained from the World Health Organisation's [Global Health Observatory data repository](https://apps.who.int/gho/data/), on 19th August 2022, under the licence: [CC BY-NC-SA 3.0 IGO](https://creativecommons.org/licenses/by-nc-sa/3.0/igo/)."
   ]
  },
  {
   "cell_type": "markdown",
   "metadata": {},
   "source": [
    "You can find the malaria data in the `data` directory as:\n",
    "\n",
    "    data/malaria_incidence.csv\n",
    "    "
   ]
  },
  {
   "cell_type": "markdown",
   "metadata": {},
   "source": [
    "To obtain the various countries' data on economic growth and economic contribution of agriculture, forestry and fishing, you should use the data shared by the World Bank. The data was obtained from the [World Bank Open Data portal](https://data.worldbank.org/) on 19th August 2022, under the Creative Commons Attribution 4.0 International license ([CC-BY 4.0](https://creativecommons.org/licenses/by/4.0/))."
   ]
  },
  {
   "cell_type": "markdown",
   "metadata": {},
   "source": [
    "You can find the economic data in the file:\n",
    "\n",
    "    data/Data_Extract_From_World_Development_Indicators.xlsx"
   ]
  },
  {
   "cell_type": "markdown",
   "metadata": {},
   "source": [
    "Note that the World Bank dataset does not explicitly contain data about about the countries' rates of economic growth. Rather, the dataset contains information about each country's per capita [Gross Domestic Product (GDP)](https://en.wikipedia.org/wiki/Gross_domestic_product). **You will need to use this data to calculate each country's rate of economic growth** to make the comparison with the Wikipedia entry."
   ]
  },
  {
   "cell_type": "markdown",
   "metadata": {},
   "source": [
    "You must produce two graphical illustrations of the available data:\n",
    "\n",
    "1. The first graph should compare the rate of increase of GDP per capita for countries in which malaria is common, and countries in which malaria is not common.\n",
    "\n",
    "1. The second graph should compare countries' incidence of malaria and the relative contribution of agriculture, forestry and fishing to a country's economy.\n",
    "\n",
    "You should then discuss what you believe your representations show.\n",
    "\n",
    "*(60 marks)*\n"
   ]
  },
  {
   "cell_type": "markdown",
   "metadata": {},
   "source": [
    "### Some Guidance"
   ]
  },
  {
   "cell_type": "markdown",
   "metadata": {},
   "source": [
    "There are many ways you could approach this task, but one way might be to produce a *pandas* dataframe, containing values so that the appropriate malaria and economic data is contained in the dataframe. The final dataframe might then look something like this."
   ]
  },
  {
   "cell_type": "markdown",
   "metadata": {},
   "source": [
    "|Country|Year|Malaria Incidence per 1,000|% increase per capita GDP|Agriculture, forestry and fishing (as % of GDP)|\n",
    "|---|---|---|---|---|\n",
    "|Canada | 2014 | 0.002 |3.6 | 2.7 |\n",
    "|Sudan | 2014 | 12.30 | -4.1 | 6.2|\n",
    "|Canada | 2015 | 0.001 |1.0 | 2.6 |\n",
    "|Sudan | 2015 | 13.01 | -2.1 | 7.3|\n",
    "|Canada | 2016 | 0.001 |4.6 | 3.1 |\n",
    "|Sudan | 2016 | 10.76 | 1.2 | 7.4|\n",
    "| $\\vdots$ | $\\vdots$ | $\\vdots$ |$\\vdots$ | $\\vdots$ |"
   ]
  },
  {
   "cell_type": "markdown",
   "metadata": {},
   "source": [
    "(although note that the entries 0.002, 3.6, 2.7... are just for illustration; they are not necessarily the correct values for the question)."
   ]
  },
  {
   "cell_type": "markdown",
   "metadata": {},
   "source": [
    "You should calculate each country's rate of economic growth by comparing its GDP per capita with that of the previous year."
   ]
  },
  {
   "cell_type": "markdown",
   "metadata": {},
   "source": [
    "You should then construct plots showing\n",
    "\n",
    "1. the relationships between the rates of growth for countries in which malaria is and is not common, and\n",
    "2. the relationship between a country's incidence of malaria and the relative contribution of agriculture, forestry and fishing to that country's economy.\n",
    "\n",
    "You should also give an explanation of what you believe your plots show."
   ]
  },
  {
   "cell_type": "markdown",
   "metadata": {},
   "source": [
    "**Note**: You should examine the data to decide what constitutes malaria being \"common\" in a country. You should make sure that the basis of your decision is clearly explained in your TMA."
   ]
  },
  {
   "cell_type": "markdown",
   "metadata": {},
   "source": [
    "## Presenting Your Work<a id='presentation_tips'></a>"
   ]
  },
  {
   "cell_type": "markdown",
   "metadata": {},
   "source": [
    "This TMA question is designed to develop your skills in carrying out and presenting an independent data investigation. As such, your final notebook should have a clear narrative explaining *what* you are doing at each stage, and *why*. This means that you must:\n",
    "\n",
    "* explain how you are handling the data, including explaining the code that you have written,\n",
    "\n",
    "* clearly explain any assumptions or simplifications that you have made about the data, and\n",
    "\n",
    "* interpret your final results in the context of these assumptions and simplifications.\n"
   ]
  },
  {
   "cell_type": "markdown",
   "metadata": {},
   "source": [
    "Each operation should be presented in its own code cell (or cells, if it is clearer to break the code up a bit) and be preceded by at least one markdown cell explaining what the code is intended to do. You should also use the markdown to justify your decisions.\n",
    "\n",
    "For example, if you were carrying out the data investigation from question 1 of this TMA, and you had noticed that the dataset incorrectly labelled the United Kingdom as England from 1603, you might write a markdown cell along the lines of:\n",
    "\n",
    "> The dataset contains entries for `England` from 1603, which was not a kingdom from that point. As the United Kingdom existed from 1603, and England and Scotland were no longer separate kingdoms, all the occurrences of `England` in the dataset representing the kingdom after 1603 should be therefore be replaced with `United Kingdom`.\n",
    "\n",
    "before writing a code cell to replace occurrences of `England` with `United Kingdom` in the appropriate rows of the dataset.\n",
    "\n",
    "In this case, the markdown describes:\n",
    "\n",
    "- what the problem is (the data doesn't accurately reflect the historical kingdoms),\n",
    "- what I'm doing about it (replacing `England` with `United Kingdom` in the appropriate rows), and\n",
    "- why I'm doing it (the kingdoms of Scotland and England were united as the United Kingdom after 1603).\n",
    "\n",
    "Note that you are *not* expected to have extensive domain specific knowledge for TM351. In this case, if you don't know much about European monarchs, you might have interpreted the results on the assumption that the Scottish monarchy had no longer existed from 1603, and interpreted your plot accordingly. That would be fine too, provided that your reasoning was clear from your explanations.\n",
    "\n",
    "In TM351 you will be rewarded for making reasonable decisions, clearly justifying them, correctly implementing them and explaining what you have done."
   ]
  },
  {
   "cell_type": "markdown",
   "metadata": {},
   "source": [
    "Some general considerations on presentation:\n",
    "\n",
    "* You must present your answer in this notebook.\n",
    "    \n",
    "* Do not put too much text or code into each notebook cell. Text or markdown cells should contain one or two paragraphs at most. Code cells should contain around ten lines of code (or less).\n",
    "\n",
    "* Ensure that your code is clear enough for a reader (in this case your tutor) to understand, For example, you should use meaningful variable names, comments where appropriate and so on.\n",
    "\n",
    "* You should have a specific cell whose return value is the dataframe described above, or an equivalent that you will use to generate your final plots.\n",
    "\n",
    "* You should have two specific cells which give the plots of the data that you require."
   ]
  },
  {
   "cell_type": "markdown",
   "metadata": {},
   "source": [
    "### Using Tools Outside the Notebooks"
   ]
  },
  {
   "cell_type": "markdown",
   "metadata": {},
   "source": [
    "Unlike question 1 of this TMA, you do not have to use Python or *pandas* to carry out all of your analyses for this question; you may use any analysis tool which has been covered so far in the module (but not tools which have not been covered). However, if you do not use Python, you must provide screenshots of the tools you did use in order to show your working, and to enable your reader to replicate your analysis. To display an image in your notebook, you should use the appropriate HTML code in a markdown cell:\n",
    "```html\n",
    "<img src=\"myScreenshot.jpg\"> \n",
    "```\n",
    "or\n",
    "```html\n",
    "<img src=\"myScreenshot.png\"> \n",
    "```\n",
    "(where `myScreenshot.jpg` or `myScreenshot.png` is the name of your screenshot image; the image will be shown when you run the cell, and the form of the image is determined from the extension). It is good practice to keep your screenshots in a separate folder; if you do so, then modify the syntax to be:\n",
    "```html\n",
    "<img src=\"images/myScreenshot.jpg\">\n",
    "```\n",
    "or\n",
    "```html\n",
    "<img src=\"images/myScreenshot.png\">\n",
    "```\n",
    "where `images` is the name of the folder containing your screenshot files.\n",
    "\n",
    "Remember to include all your images in the TMA zip file that you submit to the eTMA system."
   ]
  },
  {
   "cell_type": "markdown",
   "metadata": {},
   "source": [
    "## Structuring Your Answer"
   ]
  },
  {
   "cell_type": "markdown",
   "metadata": {},
   "source": [
    "This question requires that you complete a number of tasks:\n",
    "\n",
    "1. You will need to identify the licences governing the data you use, and identify and quote the specific clauses which show that you are permitted to carry out your chosen analysis.\n",
    "\n",
    "2. You may decide to carry out some preprocessing on the datasets before importing them using OpenRefine.\n",
    "\n",
    "3. You need to import the two datasets into Python.\n",
    "\n",
    "4. You will need to restructure the data into a dataframe, such as in the form described above. You will need to reshape the data, and possibly carry out further cleaning.\n",
    "\n",
    "5. Finally, you should select one or more visualisation methods for the data in the dataset, and present two visualisations of the data, with a description of how you think they should be interpreted. We are not prescribing a particular choice of visualisation: you should choose one that you think is appropriate and clear.\n",
    "\n",
    "For stages 2 and 4 you must examine the datasets and process them in a way that will enable you to create the desired visualisation. You should consider questions such as:\n",
    "\n",
    "- Is there ambiguity in the dataset? (That is, are there aspects of the data which are unclear, and/or not documented?)\n",
    "    \n",
    "- Is any data missing from the datasets?\n",
    "    \n",
    "- Is there any dirtiness in the datasets, or inconsistency in how the data is represented between the two datasets?\n",
    "    \n",
    "In each case, you should describe the problem you have found with the data. You should then clearly explain how you have handled it, [as described above](#presentation_tips).\n",
    "\n"
   ]
  },
  {
   "cell_type": "markdown",
   "metadata": {},
   "source": [
    "We have provided a structure for your answer. The headings do not represent equal amounts of work, because different datasets and different tasks require the effort to be spent in different places. Also, you may need to use several cells to address a particular heading. For example, you would expect to present substantially more work on reshaping the data, than on importing the datasets."
   ]
  },
  {
   "cell_type": "markdown",
   "metadata": {},
   "source": [
    "#### Approximate breakdown of marks\n",
    "\n",
    "The following table gives an *approximate* breakdown of how marks might be awarded. Be aware that your tutor has considerable discretion about where to award marks, and the final allocation might vary depending upon how you choose to approach the various subtasks in the investigation. In particular, bear in mind that Level 3 is about critical reflection, so your overall approach and analysis of your results are at least as important as the code that you write."
   ]
  },
  {
   "cell_type": "markdown",
   "metadata": {},
   "source": [
    "| Category | Number of marks |\n",
    "|-----------------|-------|\n",
    "| 1. Identify and Explain the Relevant Licensing Terms and Conditions | 5 |\n",
    "| 2. Preprocess the Data (if applicable) | (\\*) |\n",
    "| 3. Import the Datasets | 5 |\n",
    "|4. Clean and Reshape the Data | (\\*)20 |\n",
    "|5. Put the data into an appropriate form for plotting | 5 |\n",
    "|6. Visualise the data | 10 |\n",
    "|7. Interpret the plot | 5 |\n",
    "|Presentation (not explicit in the structure) | 10 |"
   ]
  },
  {
   "cell_type": "markdown",
   "metadata": {},
   "source": [
    "\n",
    "(\\*) Taken together categories 2 and 4 are worth 20 marks. If you choose to do much of the cleaning and reshaping of the data in OpenRefine many of those marks will be awarded in category 2 for preprocessing the data before it is imported. If you do all your work in *pandas* there will be no preprocessing and all the marks will be awarded in category 4. If you use a mix of OpenRefine and *pandas* the marks will be distributed appropriately."
   ]
  },
  {
   "cell_type": "markdown",
   "metadata": {},
   "source": [
    "-----------------------------------------------------------------------"
   ]
  },
  {
   "cell_type": "markdown",
   "metadata": {},
   "source": [
    "\n",
    "## Your Answer"
   ]
  },
  {
   "cell_type": "markdown",
   "metadata": {},
   "source": [
    "#### 1. Identify and Explain the Relevant Licensing Terms and Conditions"
   ]
  },
  {
   "cell_type": "code",
   "execution_count": null,
   "metadata": {},
   "outputs": [],
   "source": []
  },
  {
   "cell_type": "markdown",
   "metadata": {},
   "source": [
    "#### 2. Preprocess the Data (if applicable)"
   ]
  },
  {
   "cell_type": "code",
   "execution_count": null,
   "metadata": {},
   "outputs": [],
   "source": []
  },
  {
   "cell_type": "markdown",
   "metadata": {},
   "source": [
    "#### 3. Import the Datasets"
   ]
  },
  {
   "cell_type": "code",
   "execution_count": null,
   "metadata": {},
   "outputs": [],
   "source": []
  },
  {
   "cell_type": "markdown",
   "metadata": {},
   "source": [
    "#### 4. Clean and Reshape the Data"
   ]
  },
  {
   "cell_type": "code",
   "execution_count": null,
   "metadata": {},
   "outputs": [],
   "source": []
  },
  {
   "cell_type": "markdown",
   "metadata": {},
   "source": [
    "#### 5. Put the data into an appropriate form for plotting"
   ]
  },
  {
   "cell_type": "code",
   "execution_count": null,
   "metadata": {},
   "outputs": [],
   "source": []
  },
  {
   "cell_type": "markdown",
   "metadata": {},
   "source": [
    "#### 6. Visualise the data"
   ]
  },
  {
   "cell_type": "code",
   "execution_count": null,
   "metadata": {},
   "outputs": [],
   "source": []
  },
  {
   "cell_type": "markdown",
   "metadata": {},
   "source": [
    "#### 7. Interpret the plots"
   ]
  },
  {
   "cell_type": "code",
   "execution_count": null,
   "metadata": {},
   "outputs": [],
   "source": []
  }
 ],
 "metadata": {
  "kernelspec": {
   "display_name": "Python 3 (ipykernel)",
   "language": "python",
   "name": "python3"
  },
  "language_info": {
   "codemirror_mode": {
    "name": "ipython",
    "version": 3
   },
   "file_extension": ".py",
   "mimetype": "text/x-python",
   "name": "python",
   "nbconvert_exporter": "python",
   "pygments_lexer": "ipython3",
   "version": "3.8.5"
  }
 },
 "nbformat": 4,
 "nbformat_minor": 2
}
