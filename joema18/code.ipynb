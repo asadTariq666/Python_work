{
 "cells": [
  {
   "cell_type": "code",
   "execution_count": 1,
   "metadata": {},
   "outputs": [
    {
     "ename": "SyntaxError",
     "evalue": "invalid syntax (566052308.py, line 1)",
     "output_type": "error",
     "traceback": [
      "\u001b[0;36m  File \u001b[0;32m\"/var/folders/dk/9q84mn0j1nzfg85t9zx5d1480000gn/T/ipykernel_92534/566052308.py\"\u001b[0;36m, line \u001b[0;32m1\u001b[0m\n\u001b[0;31m    pip install pandas # installing pandas\u001b[0m\n\u001b[0m              ^\u001b[0m\n\u001b[0;31mSyntaxError\u001b[0m\u001b[0;31m:\u001b[0m invalid syntax\n"
     ]
    }
   ],
   "source": [
    "pip install pandas # installing pandas\n",
    "pip install xlwt # installing xlwt"
   ]
  },
  {
   "cell_type": "code",
   "execution_count": 11,
   "metadata": {},
   "outputs": [
    {
     "data": {
      "text/html": [
       "<div>\n",
       "<style scoped>\n",
       "    .dataframe tbody tr th:only-of-type {\n",
       "        vertical-align: middle;\n",
       "    }\n",
       "\n",
       "    .dataframe tbody tr th {\n",
       "        vertical-align: top;\n",
       "    }\n",
       "\n",
       "    .dataframe thead th {\n",
       "        text-align: right;\n",
       "    }\n",
       "</style>\n",
       "<table border=\"1\" class=\"dataframe\">\n",
       "  <thead>\n",
       "    <tr style=\"text-align: right;\">\n",
       "      <th></th>\n",
       "      <th>الكلية</th>\n",
       "      <th>التخصص</th>\n",
       "      <th>السنة</th>\n",
       "      <th>الجنس</th>\n",
       "      <th>العدد</th>\n",
       "    </tr>\n",
       "  </thead>\n",
       "  <tbody>\n",
       "    <tr>\n",
       "      <th>0</th>\n",
       "      <td>الشريعة</td>\n",
       "      <td>الشريعة</td>\n",
       "      <td>1436</td>\n",
       "      <td>F</td>\n",
       "      <td>741</td>\n",
       "    </tr>\n",
       "    <tr>\n",
       "      <th>1</th>\n",
       "      <td>الشريعة</td>\n",
       "      <td>الشريعة</td>\n",
       "      <td>1436</td>\n",
       "      <td>M</td>\n",
       "      <td>1506</td>\n",
       "    </tr>\n",
       "    <tr>\n",
       "      <th>2</th>\n",
       "      <td>الشريعة</td>\n",
       "      <td>الشريعة</td>\n",
       "      <td>1437</td>\n",
       "      <td>F</td>\n",
       "      <td>748</td>\n",
       "    </tr>\n",
       "    <tr>\n",
       "      <th>3</th>\n",
       "      <td>الشريعة</td>\n",
       "      <td>الشريعة</td>\n",
       "      <td>1437</td>\n",
       "      <td>M</td>\n",
       "      <td>1006</td>\n",
       "    </tr>\n",
       "    <tr>\n",
       "      <th>4</th>\n",
       "      <td>الشريعة</td>\n",
       "      <td>الشريعة</td>\n",
       "      <td>1438</td>\n",
       "      <td>F</td>\n",
       "      <td>782</td>\n",
       "    </tr>\n",
       "    <tr>\n",
       "      <th>...</th>\n",
       "      <td>...</td>\n",
       "      <td>...</td>\n",
       "      <td>...</td>\n",
       "      <td>...</td>\n",
       "      <td>...</td>\n",
       "    </tr>\n",
       "    <tr>\n",
       "      <th>443</th>\n",
       "      <td>الشريعة والدراسات الإسلامية</td>\n",
       "      <td>الأنظمة</td>\n",
       "      <td>1441</td>\n",
       "      <td>M</td>\n",
       "      <td>0</td>\n",
       "    </tr>\n",
       "    <tr>\n",
       "      <th>444</th>\n",
       "      <td>الشريعة والدراسات الإسلامية</td>\n",
       "      <td>الأنظمة</td>\n",
       "      <td>1442</td>\n",
       "      <td>F</td>\n",
       "      <td>0</td>\n",
       "    </tr>\n",
       "    <tr>\n",
       "      <th>445</th>\n",
       "      <td>الشريعة والدراسات الإسلامية</td>\n",
       "      <td>الأنظمة</td>\n",
       "      <td>1442</td>\n",
       "      <td>M</td>\n",
       "      <td>120</td>\n",
       "    </tr>\n",
       "    <tr>\n",
       "      <th>446</th>\n",
       "      <td>الشريعة والدراسات الإسلامية</td>\n",
       "      <td>الأنظمة</td>\n",
       "      <td>1443</td>\n",
       "      <td>F</td>\n",
       "      <td>0</td>\n",
       "    </tr>\n",
       "    <tr>\n",
       "      <th>447</th>\n",
       "      <td>الشريعة والدراسات الإسلامية</td>\n",
       "      <td>الأنظمة</td>\n",
       "      <td>1443</td>\n",
       "      <td>M</td>\n",
       "      <td>0</td>\n",
       "    </tr>\n",
       "  </tbody>\n",
       "</table>\n",
       "<p>448 rows × 5 columns</p>\n",
       "</div>"
      ],
      "text/plain": [
       "                          الكلية   التخصص  السنة الجنس  العدد\n",
       "0                        الشريعة  الشريعة   1436     F    741\n",
       "1                        الشريعة  الشريعة   1436     M   1506\n",
       "2                        الشريعة  الشريعة   1437     F    748\n",
       "3                        الشريعة  الشريعة   1437     M   1006\n",
       "4                        الشريعة  الشريعة   1438     F    782\n",
       "..                           ...      ...    ...   ...    ...\n",
       "443  الشريعة والدراسات الإسلامية  الأنظمة   1441     M      0\n",
       "444  الشريعة والدراسات الإسلامية  الأنظمة   1442     F      0\n",
       "445  الشريعة والدراسات الإسلامية  الأنظمة   1442     M    120\n",
       "446  الشريعة والدراسات الإسلامية  الأنظمة   1443     F      0\n",
       "447  الشريعة والدراسات الإسلامية  الأنظمة   1443     M      0\n",
       "\n",
       "[448 rows x 5 columns]"
      ]
     },
     "execution_count": 11,
     "metadata": {},
     "output_type": "execute_result"
    }
   ],
   "source": [
    "# Q3 Use Pandas and get average rating.\n",
    "\n",
    "import pandas as pd  # importing pandas module\n",
    "# Load the data from the IMDB-Movie-Data.csv.\n",
    "df = pd.read_excel(\"admitted.xlsx\")\n",
    "df"
   ]
  },
  {
   "cell_type": "code",
   "execution_count": 2,
   "metadata": {},
   "outputs": [
    {
     "name": "stdout",
     "output_type": "stream",
     "text": [
      "0      8.1\n",
      "1        7\n",
      "2      7.3\n",
      "3      7.2\n",
      "4      6.2\n",
      "      ... \n",
      "995    6.2\n",
      "996    5.5\n",
      "997    6.2\n",
      "998    5.6\n",
      "999    5.3\n",
      "Name: Rating, Length: 1000, dtype: object\n",
      "Average of Ratings of all movies is:  6.723200000000003\n"
     ]
    }
   ],
   "source": [
    "# Q3 Use Pandas and get average rating.\n",
    "\n",
    "import pandas as pd  # importing pandas module\n",
    "# Load the data from the IMDB-Movie-Data.csv.\n",
    "df = pd.read_csv(\"IMDB-Movie-Data.csv\")\n",
    "#print(df.head(2)) # viewing if the dataset is loaded or not\n",
    "type(df['Rating']) # Checking type of Rating column\n",
    "rating= df['Rating'].str.rstrip(\" scores\") # Extracting only numeric rating and discarding string part i.e. \"8.1 score to 8.1\"\n",
    "print(rating) #printing ratings of all movies\n",
    "print(\"Average of Ratings of all movies is: \",pd.to_numeric(rating).mean()) # Printing average of all ratings"
   ]
  },
  {
   "cell_type": "code",
   "execution_count": 3,
   "metadata": {},
   "outputs": [],
   "source": [
    "# Q4 Use xltw module to write tables in to excel file.\n",
    "import xlwt\n",
    "table_book = xlwt.Workbook(encoding=\"utf-8\") # creating workbook\n",
    "sheet1 = table_book.add_sheet(\"sheet1\") # opening a sheet in table_workbook\n",
    "for i in range(1, 10): # for loop from 1 to 10 for 9 columns\n",
    "    for j in range(1, i+1): # number of entries in each column i.e 1 entry in table of 9; 8 entries in table of 2\n",
    "        sheet1.write(i-1, j-1, str(i)+\"*\"+str(j)+\"=\"+str(i*j)) # printing in reverse\n",
    "table_book.save('tables.xls') # saving the workbook as excel file."
   ]
  },
  {
   "cell_type": "code",
   "execution_count": 4,
   "metadata": {},
   "outputs": [],
   "source": [
    "class Stock:\n",
    "    def __init__(self, symbol, name, previous_price, current_price):\n",
    "        self.__symbol = symbol\n",
    "        self.__name = name\n",
    "        self.__previous_price = previous_price\n",
    "        self.__current_price = current_price\n",
    "\n",
    "    #getters\n",
    "    def get_symbol(self):\n",
    "        return self.__symbol\n",
    "\n",
    "    def get_name(self):\n",
    "        return self.__name\n",
    "\n",
    "    def get_previous_price(self):\n",
    "        return self.__previous_price\n",
    "\n",
    "    def get_current_price(self):\n",
    "        return self.__current_price\n",
    "    \n",
    "    #setters\n",
    "    def set_symbol(self, symbol):\n",
    "        self.__symbol = symbol\n",
    "\n",
    "    def set_name(self, name):\n",
    "        self.__name = name\n",
    "\n",
    "    def set_previous_price(self, previous_price):\n",
    "        self.__previous_price = previous_price\n",
    "\n",
    "    def set_current_price(self, current_price):\n",
    "        self.__current_price = current_price\n",
    "\n",
    "    #constructor\n",
    "    def getChangePercent(self):\n",
    "        return ((self.__current_price - self.__previous_price) / self.get_previous_price()*100)\n"
   ]
  },
  {
   "cell_type": "code",
   "execution_count": 6,
   "metadata": {},
   "outputs": [
    {
     "name": "stdout",
     "output_type": "stream",
     "text": [
      "++++++++++++Stock Information+++++++++++++++\n",
      "Company Name: Intel Corporation\n",
      "Company Symbol: INTC\n",
      "Current Price of Stock: 20.35\n",
      "Previous Price of Stock: 20.5\n",
      "Difference in Price Percentage: -0.7317073170731638 %\n"
     ]
    }
   ],
   "source": [
    "from Stock import Stock\n",
    "def main():\n",
    "    new_stock = Stock(\"INTC\" , \"Intel Corporation\", 20.5, 20.35)\n",
    "    print(\"++++++++++++Stock Information+++++++++++++++\")\n",
    "    print(\"Company Name:\", new_stock.get_name())\n",
    "    print(\"Company Symbol:\", new_stock.get_symbol())\n",
    "    print(\"Current Price of Stock:\", new_stock.get_current_price())\n",
    "    print(\"Previous Price of Stock:\", new_stock.get_previous_price())\n",
    "    print(\"Difference in Price Percentage:\", new_stock.getChangePercent(),\"%\")\n",
    "    new_stock.getChangePercent()\n",
    "main()"
   ]
  }
 ],
 "metadata": {
  "interpreter": {
   "hash": "f293f16398db128e85df277de8eb5f9ab0a1b28857fa0f1c8543245825f1b931"
  },
  "kernelspec": {
   "display_name": "Python 3.7.7 ('pythonProject')",
   "language": "python",
   "name": "python3"
  },
  "language_info": {
   "codemirror_mode": {
    "name": "ipython",
    "version": 3
   },
   "file_extension": ".py",
   "mimetype": "text/x-python",
   "name": "python",
   "nbconvert_exporter": "python",
   "pygments_lexer": "ipython3",
   "version": "3.7.7"
  },
  "orig_nbformat": 4
 },
 "nbformat": 4,
 "nbformat_minor": 2
}
