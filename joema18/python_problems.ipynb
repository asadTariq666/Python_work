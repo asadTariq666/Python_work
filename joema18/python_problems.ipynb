{
 "cells": [
  {
   "cell_type": "markdown",
   "metadata": {},
   "source": [
    "# Question 2 \n",
    "## Greatest common divider\n",
    "\n",
    "Function has been defined in GreatestCommonDividier.py file and referenced here."
   ]
  },
  {
   "cell_type": "code",
   "execution_count": null,
   "metadata": {},
   "outputs": [
    {
     "ename": "",
     "evalue": "",
     "output_type": "error",
     "traceback": [
      "\u001b[1;31mFailed to start the Kernel. \n",
      "Please rename this file/folder so that the original module from the standard library can be imported. \n",
      "View Jupyter <a href='command:jupyter.viewOutput'>log</a> for further details."
     ]
    }
   ],
   "source": [
    "from GreatestCommonDivider import *\n",
    "numbers = [8,16,24,36]\n",
    "  \n",
    "num1=numbers[0]\n",
    "num2=numbers[1]\n",
    "gcd=calculate_gcd(num1,num2)\n",
    "  \n",
    "if len(numbers)<=2:\n",
    "    gcd_of_input=calculate_gcd(numbers[0],numbers[1])\n",
    "else:\n",
    "    for i in range(2,len(numbers)):\n",
    "        gcd_of_input=calculate_gcd(gcd,numbers[i])\n",
    "      \n",
    "print(gcd_of_input)"
   ]
  },
  {
   "cell_type": "code",
   "execution_count": null,
   "metadata": {},
   "outputs": [
    {
     "ename": "",
     "evalue": "",
     "output_type": "error",
     "traceback": [
      "\u001b[1;31mFailed to start the Kernel. \n",
      "Please rename this file/folder so that the original module from the standard library can be imported. \n",
      "View Jupyter <a href='command:jupyter.viewOutput'>log</a> for further details."
     ]
    }
   ],
   "source": [
    "def calculate_gcd(num1,num2):\n",
    "    while(num2):\n",
    "        num1, num2 = num2, num1 % num2\n",
    "  \n",
    "    return num1\n",
    "\n",
    "numbers = [2, 4, 8,16,24,36]\n",
    "  \n",
    "num1=numbers[0]\n",
    "num2=numbers[1]\n",
    "gcd=calculate_gcd(num1,num2)\n",
    "  \n",
    "if len(numbers)<=2:\n",
    "    gcd_of_input=calculate_gcd(numbers[0],numbers[1])\n",
    "else:\n",
    "    for i in range(2,len(numbers)):\n",
    "        gcd_of_input=calculate_gcd(gcd,numbers[i])\n",
    "      \n",
    "print(gcd_of_input)"
   ]
  },
  {
   "cell_type": "code",
   "execution_count": null,
   "metadata": {},
   "outputs": [
    {
     "ename": "",
     "evalue": "",
     "output_type": "error",
     "traceback": [
      "\u001b[1;31mFailed to start the Kernel. \n",
      "Please rename this file/folder so that the original module from the standard library can be imported. \n",
      "View Jupyter <a href='command:jupyter.viewOutput'>log</a> for further details."
     ]
    }
   ],
   "source": [
    "print('asad')"
   ]
  }
 ],
 "metadata": {
  "interpreter": {
   "hash": "f293f16398db128e85df277de8eb5f9ab0a1b28857fa0f1c8543245825f1b931"
  },
  "kernelspec": {
   "display_name": "Python 3.7.7 ('pythonProject')",
   "language": "python",
   "name": "python3"
  },
  "language_info": {
   "name": "python",
   "version": "3.7.7"
  },
  "orig_nbformat": 4
 },
 "nbformat": 4,
 "nbformat_minor": 2
}
