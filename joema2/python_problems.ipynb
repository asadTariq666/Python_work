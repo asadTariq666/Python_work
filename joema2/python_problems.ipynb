{
 "cells": [
  {
   "cell_type": "markdown",
   "metadata": {},
   "source": [
    "# Question 2 \n",
    "## Greatest common Divisor\n",
    "\n",
    "Function has been defined in GreatestCommonDivisor.py file and referenced here."
   ]
  },
  {
   "cell_type": "code",
   "execution_count": 9,
   "metadata": {},
   "outputs": [
    {
     "name": "stdout",
     "output_type": "stream",
     "text": [
      "Greatest Common divisor of the numbers is: 8\n"
     ]
    }
   ],
   "source": [
    "from GreatestCommonDivisor import calculate_gcd\n",
    "numbers = [8,16,32,80,4000] # Pass the numbers in a form of array. To handle more than 2 integers\n",
    "num1=numbers[0]\n",
    "num2=numbers[1]\n",
    "# For 2 Numbers\n",
    "gcd_of_input=calculate_gcd(num1,num2)\n",
    "\n",
    "# For more than 2 numbers\n",
    "for i in range(2,len(numbers)):\n",
    "    gcd_of_input=calculate_gcd(gcd_of_input,numbers[i])\n",
    "      \n",
    "print('Greatest Common divisor of the numbers is:',gcd_of_input)"
   ]
  },
  {
   "cell_type": "markdown",
   "metadata": {},
   "source": [
    "# Question 3\n",
    "## Quadratic Equation"
   ]
  },
  {
   "cell_type": "code",
   "execution_count": 15,
   "metadata": {},
   "outputs": [
    {
     "name": "stdout",
     "output_type": "stream",
     "text": [
      "Discriminant is: 52.0\n",
      "The roots are -1.8685170918213299 and 0.5351837584879964\n"
     ]
    }
   ],
   "source": [
    "import math  \n",
    "num1 = float(3)  \n",
    "num2 = float(4)  \n",
    "num3 = float(-3)  \n",
    "  \n",
    "# Discriminant\n",
    "discriminant= (num2**2) - (4*num1*num3)  \n",
    "  \n",
    "# find two solutions  \n",
    "root1 = (-num2-math.sqrt(discriminant))/(2*num1)  \n",
    "root2 = (-num2+math.sqrt(discriminant))/(2*num1)  \n",
    "print('Discriminant is:',discriminant)\n",
    "print('The roots are {0} and {1}'.format(root1,root2))   "
   ]
  },
  {
   "cell_type": "markdown",
   "metadata": {},
   "source": [
    "# Question 3\n",
    "## Fix Code: Percent to Decimal\n",
    "\n",
    "\n",
    "### Explanation:\n",
    "Function was defined but not called, to get the output function needs to be called and input value has to be passed as a parameter. I have called the function and passed value = 42 to get the desired output. "
   ]
  },
  {
   "cell_type": "code",
   "execution_count": 11,
   "metadata": {},
   "outputs": [
    {
     "name": "stdout",
     "output_type": "stream",
     "text": [
      "0.42\n"
     ]
    }
   ],
   "source": [
    "def percent_to_decimal(my_value):\n",
    "    output = my_value/100.0\n",
    "    return output\n",
    "# Code Fix\n",
    "output = percent_to_decimal(42)\n",
    "print(output)"
   ]
  }
 ],
 "metadata": {
  "interpreter": {
   "hash": "f293f16398db128e85df277de8eb5f9ab0a1b28857fa0f1c8543245825f1b931"
  },
  "kernelspec": {
   "display_name": "Python 3.7.7 ('pythonProject')",
   "language": "python",
   "name": "python3"
  },
  "language_info": {
   "codemirror_mode": {
    "name": "ipython",
    "version": 3
   },
   "file_extension": ".py",
   "mimetype": "text/x-python",
   "name": "python",
   "nbconvert_exporter": "python",
   "pygments_lexer": "ipython3",
   "version": "3.7.7"
  },
  "orig_nbformat": 4
 },
 "nbformat": 4,
 "nbformat_minor": 2
}
