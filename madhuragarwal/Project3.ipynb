{
 "cells": [
  {
   "cell_type": "code",
   "execution_count": 1,
   "metadata": {},
   "outputs": [],
   "source": [
    "import sklearn\n",
    "import numpy as np\n",
    "from sklearn.model_selection import train_test_split\n",
    "from sklearn.feature_extraction.text import CountVectorizer\n",
    "from sklearn.feature_extraction.text import TfidfTransformer\n",
    "from sklearn import metrics\n",
    "from sklearn.pipeline import Pipeline \n",
    "from sklearn.datasets import load_files\n",
    "from sklearn.metrics import accuracy_score\n",
    "from sklearn.linear_model import SGDClassifier\n",
    "from sklearn.naive_bayes import MultinomialNB\n",
    "from sklearn.ensemble import RandomForestClassifier\n",
    "from sklearn.model_selection import cross_val_score\n",
    "\n",
    "#DATA_DIR = './raw/'\n",
    "DATA_DIR = './cleanRaw/'"
   ]
  },
  {
   "cell_type": "code",
   "execution_count": 2,
   "metadata": {},
   "outputs": [
    {
     "name": "stdout",
     "output_type": "stream",
     "text": [
      "{'democratic': 23, 'republican': 24}\n"
     ]
    }
   ],
   "source": [
    "docs_data = load_files(DATA_DIR, encoding=\"utf-8\", decode_error=\"replace\",\n",
    "    description=None, load_content=True, shuffle=True, random_state=42)\n",
    "\n",
    "#---------------------------------------\n",
    "# extra credit\n",
    "# read files from the \"raw\" folder and lemmatize the words.\n",
    "# then select only noun and verb.\n",
    "# use the newly created data for the following classification\n",
    "#---------------------------------------\n",
    "\n",
    "# calculate count of each category\n",
    "labels, counts = np.unique(docs_data.target, return_counts=True)\n",
    "\n",
    "# convert data.target_names to np array for indexing\n",
    "labels_str = np.array(docs_data.target_names)[labels]\n",
    "\n",
    "print(dict(zip(labels_str, counts)))"
   ]
  },
  {
   "cell_type": "code",
   "execution_count": 4,
   "metadata": {},
   "outputs": [
    {
     "name": "stdout",
     "output_type": "stream",
     "text": [
      "Collecting nltk\n",
      "  Using cached nltk-3.7-py3-none-any.whl (1.5 MB)\n",
      "Collecting regex>=2021.8.3\n",
      "  Downloading regex-2022.4.24-cp37-cp37m-macosx_10_9_x86_64.whl (289 kB)\n",
      "\u001b[K     |████████████████████████████████| 289 kB 4.1 MB/s eta 0:00:01\n",
      "\u001b[?25hRequirement already satisfied: tqdm in /Users/asadtariq/opt/anaconda3/envs/pythonProject/lib/python3.7/site-packages (from nltk) (4.63.0)\n",
      "Collecting click\n",
      "  Downloading click-8.1.2-py3-none-any.whl (96 kB)\n",
      "\u001b[K     |████████████████████████████████| 96 kB 3.1 MB/s eta 0:00:011\n",
      "\u001b[?25hRequirement already satisfied: joblib in /Users/asadtariq/opt/anaconda3/envs/pythonProject/lib/python3.7/site-packages (from nltk) (1.0.1)\n",
      "Requirement already satisfied: importlib-metadata in /Users/asadtariq/opt/anaconda3/envs/pythonProject/lib/python3.7/site-packages (from click->nltk) (4.8.2)\n",
      "Requirement already satisfied: typing-extensions>=3.6.4 in /Users/asadtariq/opt/anaconda3/envs/pythonProject/lib/python3.7/site-packages (from importlib-metadata->click->nltk) (3.10.0.2)\n",
      "Requirement already satisfied: zipp>=0.5 in /Users/asadtariq/opt/anaconda3/envs/pythonProject/lib/python3.7/site-packages (from importlib-metadata->click->nltk) (3.6.0)\n",
      "Installing collected packages: regex, click, nltk\n",
      "Successfully installed click-8.1.2 nltk-3.7 regex-2022.4.24\n",
      "Note: you may need to restart the kernel to use updated packages.\n"
     ]
    }
   ],
   "source": [
    "pip install nltk"
   ]
  },
  {
   "cell_type": "code",
   "execution_count": 3,
   "metadata": {},
   "outputs": [
    {
     "data": {
      "text/plain": [
       "['democratic', 'republican']"
      ]
     },
     "execution_count": 3,
     "metadata": {},
     "output_type": "execute_result"
    }
   ],
   "source": [
    "docs_data.target_names"
   ]
  },
  {
   "cell_type": "code",
   "execution_count": 4,
   "metadata": {},
   "outputs": [],
   "source": [
    "X_train, X_test, y_train, y_test = train_test_split(docs_data.data,\n",
    "    docs_data.target, test_size=0.2)"
   ]
  },
  {
   "cell_type": "code",
   "execution_count": 5,
   "metadata": {},
   "outputs": [
    {
     "name": "stdout",
     "output_type": "stream",
     "text": [
      "[('NB', 0.5392857142857144), ('RF', 0.5428571428571429)]\n"
     ]
    }
   ],
   "source": [
    "text_clf = Pipeline([('vect', CountVectorizer()),\n",
    "                     ('tfidf', TfidfTransformer(use_idf=True)),\n",
    "                     ('clf', SGDClassifier(loss='log', penalty='l2',\n",
    "                                           alpha=1e-3, random_state=42)),\n",
    "])\n",
    "\n",
    "text_clf2 = Pipeline([('vect', CountVectorizer()),\n",
    "                     ('tfidf', TfidfTransformer(use_idf=True)),\n",
    "                     ('NB', MultinomialNB()),\n",
    "])\n",
    "\n",
    "#---------\n",
    "# add two more classifiers here\n",
    "#---------\n",
    "\n",
    "models = [(\"RF\", text_clf), (\"NB\", text_clf2)]\n",
    "unsorted_scores = [(name, cross_val_score(model, X_train, y_train, cv=5).mean()) for name, model in models]\n",
    "scores = sorted(unsorted_scores, key=lambda x: x[1])\n",
    "print(scores)  \n",
    "\n"
   ]
  },
  {
   "cell_type": "code",
   "execution_count": 6,
   "metadata": {},
   "outputs": [
    {
     "name": "stdout",
     "output_type": "stream",
     "text": [
      "0.7\n",
      "              precision    recall  f1-score   support\n",
      "\n",
      "  democratic       0.75      0.60      0.67         5\n",
      "  republican       0.67      0.80      0.73         5\n",
      "\n",
      "    accuracy                           0.70        10\n",
      "   macro avg       0.71      0.70      0.70        10\n",
      "weighted avg       0.71      0.70      0.70        10\n",
      "\n"
     ]
    }
   ],
   "source": [
    "#---show only the best performace results: accuracy, other metrics, and confusion matrix\n",
    "text_clf.fit(X_train, y_train)\n",
    "y_pred = text_clf.predict(X_test)\n",
    "print (accuracy_score(y_test, y_pred))\n",
    "\n",
    "print(metrics.classification_report(y_test, y_pred,\n",
    "    target_names=docs_data.target_names))"
   ]
  },
  {
   "cell_type": "code",
   "execution_count": 7,
   "metadata": {},
   "outputs": [
    {
     "data": {
      "image/png": "[encoded data removed]",
      "text/plain": [
       "<Figure size 432x288 with 2 Axes>"
      ]
     },
     "metadata": {
      "needs_background": "light"
     },
     "output_type": "display_data"
    }
   ],
   "source": [
    "from sklearn.metrics import confusion_matrix\n",
    "from sklearn.metrics import ConfusionMatrixDisplay\n",
    "\n",
    "cm = confusion_matrix(y_test, y_pred)\n",
    "cm_display = ConfusionMatrixDisplay(cm, display_labels=docs_data.target_names).plot()"
   ]
  },
  {
   "cell_type": "code",
   "execution_count": null,
   "metadata": {},
   "outputs": [],
   "source": []
  }
 ],
 "metadata": {
  "kernelspec": {
   "display_name": "Python 3 (ipykernel)",
   "language": "python",
   "name": "python3"
  },
  "language_info": {
   "codemirror_mode": {
    "name": "ipython",
    "version": 3
   },
   "file_extension": ".py",
   "mimetype": "text/x-python",
   "name": "python",
   "nbconvert_exporter": "python",
   "pygments_lexer": "ipython3",
   "version": "3.7.7"
  }
 },
 "nbformat": 4,
 "nbformat_minor": 4
}
