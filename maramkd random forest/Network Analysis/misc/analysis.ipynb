{
 "cells": [
  {
   "cell_type": "code",
   "execution_count": 3,
   "metadata": {},
   "outputs": [],
   "source": [
    "### Load in the libraries and the data\n",
    "import pandas as pd\n",
    "import matplotlib.pyplot as plt\n",
    "import seaborn as sns"
   ]
  },
  {
   "cell_type": "code",
   "execution_count": 4,
   "metadata": {},
   "outputs": [
    {
     "data": {
      "text/html": [
       "<div>\n",
       "<style scoped>\n",
       "    .dataframe tbody tr th:only-of-type {\n",
       "        vertical-align: middle;\n",
       "    }\n",
       "\n",
       "    .dataframe tbody tr th {\n",
       "        vertical-align: top;\n",
       "    }\n",
       "\n",
       "    .dataframe thead th {\n",
       "        text-align: right;\n",
       "    }\n",
       "</style>\n",
       "<table border=\"1\" class=\"dataframe\">\n",
       "  <thead>\n",
       "    <tr style=\"text-align: right;\">\n",
       "      <th></th>\n",
       "      <th>Protocol</th>\n",
       "      <th>Length</th>\n",
       "      <th>label</th>\n",
       "      <th>Info</th>\n",
       "    </tr>\n",
       "  </thead>\n",
       "  <tbody>\n",
       "    <tr>\n",
       "      <th>0</th>\n",
       "      <td>TCP</td>\n",
       "      <td>60</td>\n",
       "      <td>0</td>\n",
       "      <td>[TCP ACKed unseen segment] 80  &gt;  41544 [ACK] ...</td>\n",
       "    </tr>\n",
       "    <tr>\n",
       "      <th>1</th>\n",
       "      <td>TCP</td>\n",
       "      <td>60</td>\n",
       "      <td>0</td>\n",
       "      <td>[TCP ACKed unseen segment] 80  &gt;  41544 [ACK] ...</td>\n",
       "    </tr>\n",
       "    <tr>\n",
       "      <th>2</th>\n",
       "      <td>TCP</td>\n",
       "      <td>60</td>\n",
       "      <td>0</td>\n",
       "      <td>[TCP ACKed unseen segment] 80  &gt;  44628 [ACK] ...</td>\n",
       "    </tr>\n",
       "    <tr>\n",
       "      <th>3</th>\n",
       "      <td>TCP</td>\n",
       "      <td>60</td>\n",
       "      <td>0</td>\n",
       "      <td>[TCP ACKed unseen segment] 80  &gt;  44628 [ACK] ...</td>\n",
       "    </tr>\n",
       "    <tr>\n",
       "      <th>4</th>\n",
       "      <td>TCP</td>\n",
       "      <td>60</td>\n",
       "      <td>0</td>\n",
       "      <td>[TCP ACKed unseen segment] 80  &gt;  50508 [ACK] ...</td>\n",
       "    </tr>\n",
       "    <tr>\n",
       "      <th>...</th>\n",
       "      <td>...</td>\n",
       "      <td>...</td>\n",
       "      <td>...</td>\n",
       "      <td>...</td>\n",
       "    </tr>\n",
       "    <tr>\n",
       "      <th>30845</th>\n",
       "      <td>ARP</td>\n",
       "      <td>42</td>\n",
       "      <td>0</td>\n",
       "      <td>Who has 192.168.126.2? Tell 192.168.126.142</td>\n",
       "    </tr>\n",
       "    <tr>\n",
       "      <th>30846</th>\n",
       "      <td>ARP</td>\n",
       "      <td>42</td>\n",
       "      <td>0</td>\n",
       "      <td>Who has 192.168.126.254? Tell 192.168.126.142</td>\n",
       "    </tr>\n",
       "    <tr>\n",
       "      <th>30847</th>\n",
       "      <td>ARP</td>\n",
       "      <td>42</td>\n",
       "      <td>0</td>\n",
       "      <td>Who has 192.168.126.254? Tell 192.168.126.142</td>\n",
       "    </tr>\n",
       "    <tr>\n",
       "      <th>30848</th>\n",
       "      <td>ARP</td>\n",
       "      <td>42</td>\n",
       "      <td>0</td>\n",
       "      <td>Who has 192.168.126.254? Tell 192.168.126.142</td>\n",
       "    </tr>\n",
       "    <tr>\n",
       "      <th>30849</th>\n",
       "      <td>ARP</td>\n",
       "      <td>42</td>\n",
       "      <td>0</td>\n",
       "      <td>Who has 192.168.126.254? Tell 192.168.126.142</td>\n",
       "    </tr>\n",
       "  </tbody>\n",
       "</table>\n",
       "<p>30850 rows × 4 columns</p>\n",
       "</div>"
      ],
      "text/plain": [
       "      Protocol  Length  label  \\\n",
       "0          TCP      60      0   \n",
       "1          TCP      60      0   \n",
       "2          TCP      60      0   \n",
       "3          TCP      60      0   \n",
       "4          TCP      60      0   \n",
       "...        ...     ...    ...   \n",
       "30845      ARP      42      0   \n",
       "30846      ARP      42      0   \n",
       "30847      ARP      42      0   \n",
       "30848      ARP      42      0   \n",
       "30849      ARP      42      0   \n",
       "\n",
       "                                                    Info  \n",
       "0      [TCP ACKed unseen segment] 80  >  41544 [ACK] ...  \n",
       "1      [TCP ACKed unseen segment] 80  >  41544 [ACK] ...  \n",
       "2      [TCP ACKed unseen segment] 80  >  44628 [ACK] ...  \n",
       "3      [TCP ACKed unseen segment] 80  >  44628 [ACK] ...  \n",
       "4      [TCP ACKed unseen segment] 80  >  50508 [ACK] ...  \n",
       "...                                                  ...  \n",
       "30845        Who has 192.168.126.2? Tell 192.168.126.142  \n",
       "30846      Who has 192.168.126.254? Tell 192.168.126.142  \n",
       "30847      Who has 192.168.126.254? Tell 192.168.126.142  \n",
       "30848      Who has 192.168.126.254? Tell 192.168.126.142  \n",
       "30849      Who has 192.168.126.254? Tell 192.168.126.142  \n",
       "\n",
       "[30850 rows x 4 columns]"
      ]
     },
     "execution_count": 4,
     "metadata": {},
     "output_type": "execute_result"
    }
   ],
   "source": [
    "\n",
    "data = pd.read_csv('data.csv')\n",
    "data"
   ]
  },
  {
   "cell_type": "code",
   "execution_count": 10,
   "metadata": {},
   "outputs": [
    {
     "name": "stderr",
     "output_type": "stream",
     "text": [
      "2023-03-14 22:07:36.913448: I tensorflow/core/platform/cpu_feature_guard.cc:193] This TensorFlow binary is optimized with oneAPI Deep Neural Network Library (oneDNN) to use the following CPU instructions in performance-critical operations:  AVX2 FMA\n",
      "To enable them in other operations, rebuild TensorFlow with the appropriate compiler flags.\n"
     ]
    }
   ],
   "source": [
    "import numpy as np\n",
    "import pandas as pd\n",
    "from keras.models import Sequential\n",
    "from keras.layers import Dense\n",
    "from keras.optimizers import Adam"
   ]
  },
  {
   "cell_type": "code",
   "execution_count": 19,
   "metadata": {},
   "outputs": [],
   "source": [
    "import tensorflow as tf"
   ]
  },
  {
   "cell_type": "code",
   "execution_count": 5,
   "metadata": {},
   "outputs": [
    {
     "data": {
      "text/html": [
       "<div>\n",
       "<style scoped>\n",
       "    .dataframe tbody tr th:only-of-type {\n",
       "        vertical-align: middle;\n",
       "    }\n",
       "\n",
       "    .dataframe tbody tr th {\n",
       "        vertical-align: top;\n",
       "    }\n",
       "\n",
       "    .dataframe thead th {\n",
       "        text-align: right;\n",
       "    }\n",
       "</style>\n",
       "<table border=\"1\" class=\"dataframe\">\n",
       "  <thead>\n",
       "    <tr style=\"text-align: right;\">\n",
       "      <th></th>\n",
       "      <th>Protocol</th>\n",
       "      <th>Length</th>\n",
       "      <th>label</th>\n",
       "      <th>Info</th>\n",
       "    </tr>\n",
       "  </thead>\n",
       "  <tbody>\n",
       "    <tr>\n",
       "      <th>0</th>\n",
       "      <td>0</td>\n",
       "      <td>60</td>\n",
       "      <td>0</td>\n",
       "      <td>[TCP ACKed unseen segment] 80  &gt;  41544 [ACK] ...</td>\n",
       "    </tr>\n",
       "    <tr>\n",
       "      <th>1</th>\n",
       "      <td>0</td>\n",
       "      <td>60</td>\n",
       "      <td>0</td>\n",
       "      <td>[TCP ACKed unseen segment] 80  &gt;  41544 [ACK] ...</td>\n",
       "    </tr>\n",
       "    <tr>\n",
       "      <th>2</th>\n",
       "      <td>0</td>\n",
       "      <td>60</td>\n",
       "      <td>0</td>\n",
       "      <td>[TCP ACKed unseen segment] 80  &gt;  44628 [ACK] ...</td>\n",
       "    </tr>\n",
       "    <tr>\n",
       "      <th>3</th>\n",
       "      <td>0</td>\n",
       "      <td>60</td>\n",
       "      <td>0</td>\n",
       "      <td>[TCP ACKed unseen segment] 80  &gt;  44628 [ACK] ...</td>\n",
       "    </tr>\n",
       "    <tr>\n",
       "      <th>4</th>\n",
       "      <td>0</td>\n",
       "      <td>60</td>\n",
       "      <td>0</td>\n",
       "      <td>[TCP ACKed unseen segment] 80  &gt;  50508 [ACK] ...</td>\n",
       "    </tr>\n",
       "    <tr>\n",
       "      <th>...</th>\n",
       "      <td>...</td>\n",
       "      <td>...</td>\n",
       "      <td>...</td>\n",
       "      <td>...</td>\n",
       "    </tr>\n",
       "    <tr>\n",
       "      <th>30845</th>\n",
       "      <td>5</td>\n",
       "      <td>42</td>\n",
       "      <td>0</td>\n",
       "      <td>Who has 192.168.126.2? Tell 192.168.126.142</td>\n",
       "    </tr>\n",
       "    <tr>\n",
       "      <th>30846</th>\n",
       "      <td>5</td>\n",
       "      <td>42</td>\n",
       "      <td>0</td>\n",
       "      <td>Who has 192.168.126.254? Tell 192.168.126.142</td>\n",
       "    </tr>\n",
       "    <tr>\n",
       "      <th>30847</th>\n",
       "      <td>5</td>\n",
       "      <td>42</td>\n",
       "      <td>0</td>\n",
       "      <td>Who has 192.168.126.254? Tell 192.168.126.142</td>\n",
       "    </tr>\n",
       "    <tr>\n",
       "      <th>30848</th>\n",
       "      <td>5</td>\n",
       "      <td>42</td>\n",
       "      <td>0</td>\n",
       "      <td>Who has 192.168.126.254? Tell 192.168.126.142</td>\n",
       "    </tr>\n",
       "    <tr>\n",
       "      <th>30849</th>\n",
       "      <td>5</td>\n",
       "      <td>42</td>\n",
       "      <td>0</td>\n",
       "      <td>Who has 192.168.126.254? Tell 192.168.126.142</td>\n",
       "    </tr>\n",
       "  </tbody>\n",
       "</table>\n",
       "<p>30850 rows × 4 columns</p>\n",
       "</div>"
      ],
      "text/plain": [
       "       Protocol  Length  label  \\\n",
       "0             0      60      0   \n",
       "1             0      60      0   \n",
       "2             0      60      0   \n",
       "3             0      60      0   \n",
       "4             0      60      0   \n",
       "...         ...     ...    ...   \n",
       "30845         5      42      0   \n",
       "30846         5      42      0   \n",
       "30847         5      42      0   \n",
       "30848         5      42      0   \n",
       "30849         5      42      0   \n",
       "\n",
       "                                                    Info  \n",
       "0      [TCP ACKed unseen segment] 80  >  41544 [ACK] ...  \n",
       "1      [TCP ACKed unseen segment] 80  >  41544 [ACK] ...  \n",
       "2      [TCP ACKed unseen segment] 80  >  44628 [ACK] ...  \n",
       "3      [TCP ACKed unseen segment] 80  >  44628 [ACK] ...  \n",
       "4      [TCP ACKed unseen segment] 80  >  50508 [ACK] ...  \n",
       "...                                                  ...  \n",
       "30845        Who has 192.168.126.2? Tell 192.168.126.142  \n",
       "30846      Who has 192.168.126.254? Tell 192.168.126.142  \n",
       "30847      Who has 192.168.126.254? Tell 192.168.126.142  \n",
       "30848      Who has 192.168.126.254? Tell 192.168.126.142  \n",
       "30849      Who has 192.168.126.254? Tell 192.168.126.142  \n",
       "\n",
       "[30850 rows x 4 columns]"
      ]
     },
     "execution_count": 5,
     "metadata": {},
     "output_type": "execute_result"
    }
   ],
   "source": [
    "# Encoding Protocol\n",
    "\n",
    "\n",
    "data[['Protocol']] = data[['Protocol']].apply(lambda x: pd.factorize(x)[0])\n",
    "\n",
    "\n",
    "\n",
    "\n",
    "\n",
    "\n",
    "data"
   ]
  },
  {
   "cell_type": "code",
   "execution_count": 4,
   "metadata": {},
   "outputs": [
    {
     "data": {
      "text/html": [
       "<div>\n",
       "<style scoped>\n",
       "    .dataframe tbody tr th:only-of-type {\n",
       "        vertical-align: middle;\n",
       "    }\n",
       "\n",
       "    .dataframe tbody tr th {\n",
       "        vertical-align: top;\n",
       "    }\n",
       "\n",
       "    .dataframe thead th {\n",
       "        text-align: right;\n",
       "    }\n",
       "</style>\n",
       "<table border=\"1\" class=\"dataframe\">\n",
       "  <thead>\n",
       "    <tr style=\"text-align: right;\">\n",
       "      <th></th>\n",
       "      <th>Protocol</th>\n",
       "      <th>Length</th>\n",
       "      <th>label</th>\n",
       "      <th>Info</th>\n",
       "    </tr>\n",
       "  </thead>\n",
       "  <tbody>\n",
       "    <tr>\n",
       "      <th>0</th>\n",
       "      <td>TCP</td>\n",
       "      <td>60</td>\n",
       "      <td>0</td>\n",
       "      <td>[TCP ACKed unseen segment] 80  &gt;  41544 [ACK] ...</td>\n",
       "    </tr>\n",
       "    <tr>\n",
       "      <th>1</th>\n",
       "      <td>TCP</td>\n",
       "      <td>60</td>\n",
       "      <td>0</td>\n",
       "      <td>[TCP ACKed unseen segment] 80  &gt;  41544 [ACK] ...</td>\n",
       "    </tr>\n",
       "    <tr>\n",
       "      <th>2</th>\n",
       "      <td>TCP</td>\n",
       "      <td>60</td>\n",
       "      <td>0</td>\n",
       "      <td>[TCP ACKed unseen segment] 80  &gt;  44628 [ACK] ...</td>\n",
       "    </tr>\n",
       "    <tr>\n",
       "      <th>3</th>\n",
       "      <td>TCP</td>\n",
       "      <td>60</td>\n",
       "      <td>0</td>\n",
       "      <td>[TCP ACKed unseen segment] 80  &gt;  44628 [ACK] ...</td>\n",
       "    </tr>\n",
       "    <tr>\n",
       "      <th>4</th>\n",
       "      <td>TCP</td>\n",
       "      <td>60</td>\n",
       "      <td>0</td>\n",
       "      <td>[TCP ACKed unseen segment] 80  &gt;  50508 [ACK] ...</td>\n",
       "    </tr>\n",
       "    <tr>\n",
       "      <th>...</th>\n",
       "      <td>...</td>\n",
       "      <td>...</td>\n",
       "      <td>...</td>\n",
       "      <td>...</td>\n",
       "    </tr>\n",
       "    <tr>\n",
       "      <th>30845</th>\n",
       "      <td>ARP</td>\n",
       "      <td>42</td>\n",
       "      <td>0</td>\n",
       "      <td>Who has 192.168.126.2? Tell 192.168.126.142</td>\n",
       "    </tr>\n",
       "    <tr>\n",
       "      <th>30846</th>\n",
       "      <td>ARP</td>\n",
       "      <td>42</td>\n",
       "      <td>0</td>\n",
       "      <td>Who has 192.168.126.254? Tell 192.168.126.142</td>\n",
       "    </tr>\n",
       "    <tr>\n",
       "      <th>30847</th>\n",
       "      <td>ARP</td>\n",
       "      <td>42</td>\n",
       "      <td>0</td>\n",
       "      <td>Who has 192.168.126.254? Tell 192.168.126.142</td>\n",
       "    </tr>\n",
       "    <tr>\n",
       "      <th>30848</th>\n",
       "      <td>ARP</td>\n",
       "      <td>42</td>\n",
       "      <td>0</td>\n",
       "      <td>Who has 192.168.126.254? Tell 192.168.126.142</td>\n",
       "    </tr>\n",
       "    <tr>\n",
       "      <th>30849</th>\n",
       "      <td>ARP</td>\n",
       "      <td>42</td>\n",
       "      <td>0</td>\n",
       "      <td>Who has 192.168.126.254? Tell 192.168.126.142</td>\n",
       "    </tr>\n",
       "  </tbody>\n",
       "</table>\n",
       "<p>30850 rows × 4 columns</p>\n",
       "</div>"
      ],
      "text/plain": [
       "      Protocol  Length  label  \\\n",
       "0          TCP      60      0   \n",
       "1          TCP      60      0   \n",
       "2          TCP      60      0   \n",
       "3          TCP      60      0   \n",
       "4          TCP      60      0   \n",
       "...        ...     ...    ...   \n",
       "30845      ARP      42      0   \n",
       "30846      ARP      42      0   \n",
       "30847      ARP      42      0   \n",
       "30848      ARP      42      0   \n",
       "30849      ARP      42      0   \n",
       "\n",
       "                                                    Info  \n",
       "0      [TCP ACKed unseen segment] 80  >  41544 [ACK] ...  \n",
       "1      [TCP ACKed unseen segment] 80  >  41544 [ACK] ...  \n",
       "2      [TCP ACKed unseen segment] 80  >  44628 [ACK] ...  \n",
       "3      [TCP ACKed unseen segment] 80  >  44628 [ACK] ...  \n",
       "4      [TCP ACKed unseen segment] 80  >  50508 [ACK] ...  \n",
       "...                                                  ...  \n",
       "30845        Who has 192.168.126.2? Tell 192.168.126.142  \n",
       "30846      Who has 192.168.126.254? Tell 192.168.126.142  \n",
       "30847      Who has 192.168.126.254? Tell 192.168.126.142  \n",
       "30848      Who has 192.168.126.254? Tell 192.168.126.142  \n",
       "30849      Who has 192.168.126.254? Tell 192.168.126.142  \n",
       "\n",
       "[30850 rows x 4 columns]"
      ]
     },
     "execution_count": 4,
     "metadata": {},
     "output_type": "execute_result"
    }
   ],
   "source": [
    "data"
   ]
  },
  {
   "cell_type": "code",
   "execution_count": 6,
   "metadata": {},
   "outputs": [],
   "source": [
    "\n",
    "\n",
    "# Load the data\n",
    "#data = pd.read_csv(\"data.csv\")\n",
    "\n",
    "# Split the data into features and target\n",
    "X = data.drop(\"label\", axis=1)\n",
    "y = data[\"label\"]\n",
    "\n",
    "# Split the data into training and testing sets\n",
    "from sklearn.model_selection import train_test_split\n",
    "X_train, X_test, y_train, y_test = train_test_split(X, y, test_size=0.2)\n",
    "\n",
    "\n"
   ]
  },
  {
   "cell_type": "code",
   "execution_count": 21,
   "metadata": {},
   "outputs": [
    {
     "data": {
      "text/html": [
       "<div>\n",
       "<style scoped>\n",
       "    .dataframe tbody tr th:only-of-type {\n",
       "        vertical-align: middle;\n",
       "    }\n",
       "\n",
       "    .dataframe tbody tr th {\n",
       "        vertical-align: top;\n",
       "    }\n",
       "\n",
       "    .dataframe thead th {\n",
       "        text-align: right;\n",
       "    }\n",
       "</style>\n",
       "<table border=\"1\" class=\"dataframe\">\n",
       "  <thead>\n",
       "    <tr style=\"text-align: right;\">\n",
       "      <th></th>\n",
       "      <th>Protocol</th>\n",
       "      <th>Length</th>\n",
       "      <th>Info</th>\n",
       "    </tr>\n",
       "  </thead>\n",
       "  <tbody>\n",
       "    <tr>\n",
       "      <th>29118</th>\n",
       "      <td>4</td>\n",
       "      <td>75</td>\n",
       "      <td>Protected Payload (KP0), DCID=f973d8eaa15bc3c9</td>\n",
       "    </tr>\n",
       "    <tr>\n",
       "      <th>15347</th>\n",
       "      <td>3</td>\n",
       "      <td>93</td>\n",
       "      <td>Application Data</td>\n",
       "    </tr>\n",
       "    <tr>\n",
       "      <th>23355</th>\n",
       "      <td>4</td>\n",
       "      <td>1399</td>\n",
       "      <td>Protected Payload (KP0), DCID=697d12</td>\n",
       "    </tr>\n",
       "    <tr>\n",
       "      <th>22</th>\n",
       "      <td>0</td>\n",
       "      <td>54</td>\n",
       "      <td>[TCP Dup ACK 14#5] 41544  &gt;  80 [ACK] Seq=1 Ac...</td>\n",
       "    </tr>\n",
       "    <tr>\n",
       "      <th>26640</th>\n",
       "      <td>4</td>\n",
       "      <td>285</td>\n",
       "      <td>Protected Payload (KP0), DCID=cd6200</td>\n",
       "    </tr>\n",
       "    <tr>\n",
       "      <th>...</th>\n",
       "      <td>...</td>\n",
       "      <td>...</td>\n",
       "      <td>...</td>\n",
       "    </tr>\n",
       "    <tr>\n",
       "      <th>4869</th>\n",
       "      <td>0</td>\n",
       "      <td>60</td>\n",
       "      <td>443  &gt;  54852 [ACK] Seq=3047498 Ack=135156 Win...</td>\n",
       "    </tr>\n",
       "    <tr>\n",
       "      <th>4208</th>\n",
       "      <td>0</td>\n",
       "      <td>60</td>\n",
       "      <td>443  &gt;  54852 [ACK] Seq=1805289 Ack=58966 Win=...</td>\n",
       "    </tr>\n",
       "    <tr>\n",
       "      <th>10953</th>\n",
       "      <td>0</td>\n",
       "      <td>54</td>\n",
       "      <td>57464  &gt;  443 [ACK] Seq=41388 Ack=14868326 Win...</td>\n",
       "    </tr>\n",
       "    <tr>\n",
       "      <th>6274</th>\n",
       "      <td>0</td>\n",
       "      <td>60</td>\n",
       "      <td>443  &gt;  59706 [ACK] Seq=7263 Ack=768 Win=64240...</td>\n",
       "    </tr>\n",
       "    <tr>\n",
       "      <th>3452</th>\n",
       "      <td>0</td>\n",
       "      <td>60</td>\n",
       "      <td>443  &gt;  48922 [ACK] Seq=4574 Ack=582 Win=64240...</td>\n",
       "    </tr>\n",
       "  </tbody>\n",
       "</table>\n",
       "<p>24680 rows × 3 columns</p>\n",
       "</div>"
      ],
      "text/plain": [
       "       Protocol  Length                                               Info\n",
       "29118         4      75     Protected Payload (KP0), DCID=f973d8eaa15bc3c9\n",
       "15347         3      93                                   Application Data\n",
       "23355         4    1399               Protected Payload (KP0), DCID=697d12\n",
       "22            0      54  [TCP Dup ACK 14#5] 41544  >  80 [ACK] Seq=1 Ac...\n",
       "26640         4     285               Protected Payload (KP0), DCID=cd6200\n",
       "...         ...     ...                                                ...\n",
       "4869          0      60  443  >  54852 [ACK] Seq=3047498 Ack=135156 Win...\n",
       "4208          0      60  443  >  54852 [ACK] Seq=1805289 Ack=58966 Win=...\n",
       "10953         0      54  57464  >  443 [ACK] Seq=41388 Ack=14868326 Win...\n",
       "6274          0      60  443  >  59706 [ACK] Seq=7263 Ack=768 Win=64240...\n",
       "3452          0      60  443  >  48922 [ACK] Seq=4574 Ack=582 Win=64240...\n",
       "\n",
       "[24680 rows x 3 columns]"
      ]
     },
     "execution_count": 21,
     "metadata": {},
     "output_type": "execute_result"
    }
   ],
   "source": [
    "X_train"
   ]
  },
  {
   "cell_type": "code",
   "execution_count": 29,
   "metadata": {},
   "outputs": [
    {
     "name": "stdout",
     "output_type": "stream",
     "text": [
      "2.11.0\n"
     ]
    }
   ],
   "source": [
    "import keras\n",
    "import tensorflow as tf\n",
    "print(keras.__version__)"
   ]
  },
  {
   "cell_type": "code",
   "execution_count": 30,
   "metadata": {},
   "outputs": [
    {
     "ename": "ModuleNotFoundError",
     "evalue": "No module named 'tf'",
     "output_type": "error",
     "traceback": [
      "\u001b[0;31m---------------------------------------------------------------------------\u001b[0m",
      "\u001b[0;31mModuleNotFoundError\u001b[0m                       Traceback (most recent call last)",
      "\u001b[1;32m/Users/asadtariq/Downloads/work_python/Python_work/maramkd random forest/Network Analysis/analysis.ipynb Cell 10\u001b[0m in \u001b[0;36m<cell line: 1>\u001b[0;34m()\u001b[0m\n\u001b[0;32m----> <a href='vscode-notebook-cell:/Users/asadtariq/Downloads/work_python/Python_work/maramkd%20random%20forest/Network%20Analysis/analysis.ipynb#X23sZmlsZQ%3D%3D?line=0'>1</a>\u001b[0m \u001b[39mimport\u001b[39;00m \u001b[39mtf\u001b[39;00m\u001b[39m.\u001b[39;00m\u001b[39mkeras\u001b[39;00m\u001b[39m.\u001b[39;00m\u001b[39mutils\u001b[39;00m\u001b[39m.\u001b[39;00m\u001b[39mpad_sequences\u001b[39;00m\n",
      "\u001b[0;31mModuleNotFoundError\u001b[0m: No module named 'tf'"
     ]
    }
   ],
   "source": [
    "import tf.keras.utils.pad_sequences "
   ]
  },
  {
   "cell_type": "code",
   "execution_count": 2,
   "metadata": {},
   "outputs": [
    {
     "ename": "NameError",
     "evalue": "name 'data' is not defined",
     "output_type": "error",
     "traceback": [
      "\u001b[0;31m---------------------------------------------------------------------------\u001b[0m",
      "\u001b[0;31mNameError\u001b[0m                                 Traceback (most recent call last)",
      "\u001b[1;32m/Users/asadtariq/Downloads/work_python/Python_work/maramkd random forest/Network Analysis/analysis.ipynb Cell 11\u001b[0m in \u001b[0;36m<cell line: 1>\u001b[0;34m()\u001b[0m\n\u001b[0;32m----> <a href='vscode-notebook-cell:/Users/asadtariq/Downloads/work_python/Python_work/maramkd%20random%20forest/Network%20Analysis/analysis.ipynb#X23sZmlsZQ%3D%3D?line=0'>1</a>\u001b[0m data\n",
      "\u001b[0;31mNameError\u001b[0m: name 'data' is not defined"
     ]
    }
   ],
   "source": [
    "data"
   ]
  },
  {
   "cell_type": "code",
   "execution_count": 5,
   "metadata": {},
   "outputs": [
    {
     "name": "stdout",
     "output_type": "stream",
     "text": [
      "Vocabulary size: 13828\n",
      "Sequences:\n",
      " [[ 14. 148. 149. ...   0.   0.   0.]\n",
      " [ 14. 148. 149. ...   0.   0.   0.]\n",
      " [ 14. 148. 149. ...   0.   0.   0.]\n",
      " ...\n",
      " [165. 166.  81. ...   0.   0.   0.]\n",
      " [165. 166.  81. ...   0.   0.   0.]\n",
      " [165. 166.  81. ...   0.   0.   0.]]\n"
     ]
    }
   ],
   "source": [
    "import numpy as np\n",
    "from tensorflow.keras.preprocessing.text import Tokenizer\n",
    "from tensorflow.keras.preprocessing.sequence import pad_sequences\n",
    "\n",
    "# create example data\n",
    "texts = data.Info\n",
    "\n",
    "# create tokenizer\n",
    "tokenizer = Tokenizer()\n",
    "\n",
    "# fit tokenizer on data\n",
    "tokenizer.fit_on_texts(texts)\n",
    "\n",
    "# get number of words in vocabulary\n",
    "num_words = len(tokenizer.word_index) + 1\n",
    "\n",
    "# create sequences from texts\n",
    "sequences = tokenizer.texts_to_sequences(texts)\n",
    "\n",
    "# calculate maximum length of sequence\n",
    "max_length = max([len(seq) for seq in sequences])\n",
    "\n",
    "# initialize matrix for holding sequences\n",
    "seq_matrix = np.zeros((len(sequences), max_length))\n",
    "\n",
    "# fill matrix with sequences\n",
    "for i, seq in enumerate(sequences):\n",
    "    seq_matrix[i, :len(seq)] = seq\n",
    "    \n",
    "# print results\n",
    "print('Vocabulary size:', num_words)\n",
    "print('Sequences:\\n', seq_matrix)\n"
   ]
  },
  {
   "cell_type": "code",
   "execution_count": 8,
   "metadata": {},
   "outputs": [
    {
     "data": {
      "text/plain": [
       "30850"
      ]
     },
     "execution_count": 8,
     "metadata": {},
     "output_type": "execute_result"
    }
   ],
   "source": [
    "len(seq_matrix)"
   ]
  },
  {
   "cell_type": "code",
   "execution_count": 9,
   "metadata": {},
   "outputs": [
    {
     "name": "stderr",
     "output_type": "stream",
     "text": [
      "2023-03-16 19:35:58.736451: I tensorflow/core/platform/cpu_feature_guard.cc:193] This TensorFlow binary is optimized with oneAPI Deep Neural Network Library (oneDNN) to use the following CPU instructions in performance-critical operations:  AVX2 FMA\n",
      "To enable them in other operations, rebuild TensorFlow with the appropriate compiler flags.\n"
     ]
    },
    {
     "name": "stdout",
     "output_type": "stream",
     "text": [
      "Epoch 1/10\n",
      "772/772 [==============================] - 86s 102ms/step - loss: 0.0374 - accuracy: 0.9922 - val_loss: 1.5899e-04 - val_accuracy: 1.0000\n",
      "Epoch 2/10\n",
      "772/772 [==============================] - 78s 100ms/step - loss: 8.7746e-05 - accuracy: 1.0000 - val_loss: 3.3327e-05 - val_accuracy: 1.0000\n",
      "Epoch 3/10\n",
      "772/772 [==============================] - 81s 105ms/step - loss: 2.7132e-05 - accuracy: 1.0000 - val_loss: 1.3050e-05 - val_accuracy: 1.0000\n",
      "Epoch 4/10\n",
      "772/772 [==============================] - 82s 106ms/step - loss: 1.2696e-05 - accuracy: 1.0000 - val_loss: 6.5087e-06 - val_accuracy: 1.0000\n",
      "Epoch 5/10\n",
      "772/772 [==============================] - 76s 99ms/step - loss: 7.1160e-06 - accuracy: 1.0000 - val_loss: 3.6033e-06 - val_accuracy: 1.0000\n",
      "Epoch 6/10\n",
      "772/772 [==============================] - 76s 98ms/step - loss: 4.0949e-06 - accuracy: 1.0000 - val_loss: 2.2065e-06 - val_accuracy: 1.0000\n",
      "Epoch 7/10\n",
      "772/772 [==============================] - 76s 98ms/step - loss: 2.6778e-06 - accuracy: 1.0000 - val_loss: 1.3615e-06 - val_accuracy: 1.0000\n",
      "Epoch 8/10\n",
      "772/772 [==============================] - 77s 100ms/step - loss: 1.8309e-06 - accuracy: 1.0000 - val_loss: 8.6722e-07 - val_accuracy: 1.0000\n",
      "Epoch 9/10\n",
      "772/772 [==============================] - 75s 96ms/step - loss: 1.1621e-06 - accuracy: 1.0000 - val_loss: 5.7555e-07 - val_accuracy: 1.0000\n",
      "Epoch 10/10\n",
      "772/772 [==============================] - 75s 97ms/step - loss: 8.1952e-07 - accuracy: 1.0000 - val_loss: 3.8757e-07 - val_accuracy: 1.0000\n"
     ]
    },
    {
     "data": {
      "text/plain": [
       "<keras.callbacks.History at 0x133d892b0>"
      ]
     },
     "execution_count": 9,
     "metadata": {},
     "output_type": "execute_result"
    }
   ],
   "source": [
    "import pandas as pd\n",
    "import numpy as np\n",
    "from sklearn.feature_extraction.text import CountVectorizer\n",
    "from sklearn.model_selection import train_test_split\n",
    "from keras.models import Sequential\n",
    "from keras.layers import LSTM, Dense, Dropout\n",
    "\n",
    "# Load data\n",
    "df = pd.read_csv('data.csv')\n",
    "\n",
    "# Preprocess data\n",
    "vectorizer = CountVectorizer()\n",
    "X = vectorizer.fit_transform(df['Info'])\n",
    "y = df['label']\n",
    "\n",
    "# Split data into training and testing sets\n",
    "X_train, X_test, y_train, y_test = train_test_split(X, y, test_size=0.2, random_state=42)\n",
    "\n",
    "# Reshape input data for LSTM\n",
    "X_train = np.reshape(X_train.toarray(), (X_train.shape[0], 1, X_train.shape[1]))\n",
    "X_test = np.reshape(X_test.toarray(), (X_test.shape[0], 1, X_test.shape[1]))\n",
    "\n",
    "# Define LSTM model\n",
    "model = Sequential()\n",
    "model.add(LSTM(128, input_shape=(1, X_train.shape[2]), return_sequences=True))\n",
    "model.add(Dropout(0.2))\n",
    "model.add(LSTM(64, return_sequences=False))\n",
    "model.add(Dropout(0.2))\n",
    "model.add(Dense(1, activation='sigmoid'))\n",
    "\n",
    "# Compile model\n",
    "model.compile(loss='binary_crossentropy', optimizer='adam', metrics=['accuracy'])\n",
    "\n",
    "# Train model\n",
    "model.fit(X_train, y_train, epochs=10, batch_size=32, validation_data=(X_test, y_test))\n"
   ]
  },
  {
   "cell_type": "code",
   "execution_count": 15,
   "metadata": {},
   "outputs": [],
   "source": [
    "arr_2d = X_train.reshape(X_train.shape[0], -1)"
   ]
  },
  {
   "cell_type": "code",
   "execution_count": null,
   "metadata": {},
   "outputs": [],
   "source": [
    "arr_2d"
   ]
  },
  {
   "cell_type": "code",
   "execution_count": 16,
   "metadata": {},
   "outputs": [],
   "source": [
    "np.savetxt('my_array.csv', arr_2d, delimiter=',')"
   ]
  },
  {
   "cell_type": "code",
   "execution_count": 25,
   "metadata": {},
   "outputs": [
    {
     "name": "stdout",
     "output_type": "stream",
     "text": [
      "Epoch 1/50\n",
      "386/386 [==============================] - 3s 4ms/step - loss: 8.4088 - accuracy: 0.9149\n",
      "Epoch 2/50\n",
      "386/386 [==============================] - 1s 3ms/step - loss: 0.8236 - accuracy: 0.9549\n",
      "Epoch 3/50\n",
      "386/386 [==============================] - 1s 2ms/step - loss: 0.7203 - accuracy: 0.9624\n",
      "Epoch 4/50\n",
      "386/386 [==============================] - 1s 2ms/step - loss: 0.6566 - accuracy: 0.9655\n",
      "Epoch 5/50\n",
      "386/386 [==============================] - 1s 2ms/step - loss: 1.0982 - accuracy: 0.9642\n",
      "Epoch 6/50\n",
      "386/386 [==============================] - 1s 3ms/step - loss: 0.9244 - accuracy: 0.9718\n",
      "Epoch 7/50\n",
      "386/386 [==============================] - 1s 3ms/step - loss: 0.7261 - accuracy: 0.9717\n",
      "Epoch 8/50\n",
      "386/386 [==============================] - 1s 3ms/step - loss: 0.6581 - accuracy: 0.9716\n",
      "Epoch 9/50\n",
      "386/386 [==============================] - 1s 3ms/step - loss: 0.4436 - accuracy: 0.9734\n",
      "Epoch 10/50\n",
      "386/386 [==============================] - 1s 3ms/step - loss: 0.5086 - accuracy: 0.9730\n",
      "Epoch 11/50\n",
      "386/386 [==============================] - 1s 3ms/step - loss: 0.6377 - accuracy: 0.9723\n",
      "Epoch 12/50\n",
      "386/386 [==============================] - 1s 3ms/step - loss: 0.4017 - accuracy: 0.9747\n",
      "Epoch 13/50\n",
      "386/386 [==============================] - 1s 3ms/step - loss: 0.6945 - accuracy: 0.9724\n",
      "Epoch 14/50\n",
      "386/386 [==============================] - 1s 3ms/step - loss: 0.6304 - accuracy: 0.9739\n",
      "Epoch 15/50\n",
      "386/386 [==============================] - 1s 3ms/step - loss: 0.3046 - accuracy: 0.9784\n",
      "Epoch 16/50\n",
      "386/386 [==============================] - 1s 3ms/step - loss: 0.4265 - accuracy: 0.9771\n",
      "Epoch 17/50\n",
      "386/386 [==============================] - 1s 4ms/step - loss: 0.5049 - accuracy: 0.9752\n",
      "Epoch 18/50\n",
      "386/386 [==============================] - 1s 3ms/step - loss: 0.4094 - accuracy: 0.9773\n",
      "Epoch 19/50\n",
      "386/386 [==============================] - 1s 4ms/step - loss: 0.6150 - accuracy: 0.9746\n",
      "Epoch 20/50\n",
      "386/386 [==============================] - 1s 3ms/step - loss: 0.2401 - accuracy: 0.9806\n",
      "Epoch 21/50\n",
      "386/386 [==============================] - 1s 3ms/step - loss: 0.4100 - accuracy: 0.9782\n",
      "Epoch 22/50\n",
      "386/386 [==============================] - 1s 3ms/step - loss: 0.2354 - accuracy: 0.9819\n",
      "Epoch 23/50\n",
      "386/386 [==============================] - 1s 3ms/step - loss: 0.3853 - accuracy: 0.9780\n",
      "Epoch 24/50\n",
      "386/386 [==============================] - 1s 3ms/step - loss: 0.3317 - accuracy: 0.9788\n",
      "Epoch 25/50\n",
      "386/386 [==============================] - 1s 4ms/step - loss: 0.3365 - accuracy: 0.9798\n",
      "Epoch 26/50\n",
      "386/386 [==============================] - 1s 3ms/step - loss: 0.2287 - accuracy: 0.9817\n",
      "Epoch 27/50\n",
      "386/386 [==============================] - 1s 4ms/step - loss: 0.2168 - accuracy: 0.9808\n",
      "Epoch 28/50\n",
      "386/386 [==============================] - 1s 3ms/step - loss: 0.2081 - accuracy: 0.9809\n",
      "Epoch 29/50\n",
      "386/386 [==============================] - 2s 4ms/step - loss: 0.3430 - accuracy: 0.9796\n",
      "Epoch 30/50\n",
      "386/386 [==============================] - 1s 3ms/step - loss: 0.2158 - accuracy: 0.9814\n",
      "Epoch 31/50\n",
      "386/386 [==============================] - 1s 3ms/step - loss: 0.2406 - accuracy: 0.9801\n",
      "Epoch 32/50\n",
      "386/386 [==============================] - 1s 3ms/step - loss: 0.1249 - accuracy: 0.9838\n",
      "Epoch 33/50\n",
      "386/386 [==============================] - 2s 5ms/step - loss: 0.2176 - accuracy: 0.9823\n",
      "Epoch 34/50\n",
      "386/386 [==============================] - 1s 3ms/step - loss: 0.1867 - accuracy: 0.9821\n",
      "Epoch 35/50\n",
      "386/386 [==============================] - 1s 3ms/step - loss: 0.1513 - accuracy: 0.9814\n",
      "Epoch 36/50\n",
      "386/386 [==============================] - 1s 4ms/step - loss: 0.1036 - accuracy: 0.9836\n",
      "Epoch 37/50\n",
      "386/386 [==============================] - 2s 5ms/step - loss: 0.1632 - accuracy: 0.9821\n",
      "Epoch 38/50\n",
      "386/386 [==============================] - 1s 3ms/step - loss: 0.2301 - accuracy: 0.9804\n",
      "Epoch 39/50\n",
      "386/386 [==============================] - 1s 3ms/step - loss: 0.0860 - accuracy: 0.9848\n",
      "Epoch 40/50\n",
      "386/386 [==============================] - 1s 3ms/step - loss: 0.0822 - accuracy: 0.9842\n",
      "Epoch 41/50\n",
      "386/386 [==============================] - 1s 3ms/step - loss: 0.1052 - accuracy: 0.9832\n",
      "Epoch 42/50\n",
      "386/386 [==============================] - 1s 3ms/step - loss: 0.0638 - accuracy: 0.9856\n",
      "Epoch 43/50\n",
      "386/386 [==============================] - 1s 3ms/step - loss: 0.1248 - accuracy: 0.9807\n",
      "Epoch 44/50\n",
      "386/386 [==============================] - 1s 4ms/step - loss: 0.0764 - accuracy: 0.9839\n",
      "Epoch 45/50\n",
      "386/386 [==============================] - 1s 3ms/step - loss: 0.0523 - accuracy: 0.9853\n",
      "Epoch 46/50\n",
      "386/386 [==============================] - 1s 3ms/step - loss: 0.0726 - accuracy: 0.9841\n",
      "Epoch 47/50\n",
      "386/386 [==============================] - 1s 3ms/step - loss: 0.0500 - accuracy: 0.9861\n",
      "Epoch 48/50\n",
      "386/386 [==============================] - 2s 6ms/step - loss: 0.0695 - accuracy: 0.9821\n",
      "Epoch 49/50\n",
      "386/386 [==============================] - 1s 3ms/step - loss: 0.0489 - accuracy: 0.9851\n",
      "Epoch 50/50\n",
      "386/386 [==============================] - 1s 3ms/step - loss: 0.0600 - accuracy: 0.9835\n",
      "193/193 [==============================] - 1s 3ms/step - loss: 0.0294 - accuracy: 0.9900\n",
      "Test loss: 0.029377590864896774\n",
      "Test accuracy: 0.9899513721466064\n"
     ]
    }
   ],
   "source": [
    "\n",
    "\n",
    "# Train the model\n",
    "model.fit(X_train, y_train, epochs=50, batch_size=64)\n",
    "\n",
    "# Evaluate the model\n",
    "score = model.evaluate(X_test, y_test)\n",
    "print(\"Test loss:\", score[0])\n",
    "print(\"Test accuracy:\", score[1])"
   ]
  },
  {
   "cell_type": "code",
   "execution_count": 29,
   "metadata": {},
   "outputs": [
    {
     "name": "stdout",
     "output_type": "stream",
     "text": [
      "Model accuracy score with 100 decision-trees : 1.0000\n"
     ]
    }
   ],
   "source": [
    "from sklearn.ensemble import RandomForestClassifier\n",
    "from sklearn.metrics import accuracy_score\n",
    "random_forest_classifier = RandomForestClassifier(n_estimators=100, random_state=42)\n",
    "\n",
    "# fit the model to the training set\n",
    "\n",
    "random_forest_classifier.fit(X_train, y_train)\n",
    "\n",
    "# Predict on the test set results\n",
    "\n",
    "y_pred_100 = random_forest_classifier.predict(X_test)\n",
    "\n",
    "# Check accuracy score \n",
    "\n",
    "print('Model accuracy score with 100 decision-trees : {0:0.4f}'. format(accuracy_score(y_test, y_pred_100)))"
   ]
  },
  {
   "cell_type": "code",
   "execution_count": 32,
   "metadata": {},
   "outputs": [
    {
     "data": {
      "text/plain": [
       "Text(0.5, 1.0, 'Classification - Important Features')"
      ]
     },
     "execution_count": 32,
     "metadata": {},
     "output_type": "execute_result"
    },
    {
     "data": {
      "image/png": "[encoded data removed]",
      "text/plain": [
       "<Figure size 720x504 with 1 Axes>"
      ]
     },
     "metadata": {
      "needs_background": "light"
     },
     "output_type": "display_data"
    }
   ],
   "source": [
    "# view the feature scores\n",
    "\n",
    "feature_scores = pd.Series(random_forest_classifier.feature_importances_, index=X_train.columns).sort_values(ascending=False)\n",
    "feature_scores\n",
    "\n",
    "feature_scores.nlargest(10).plot(kind='bar',figsize=(10,7))\n",
    "plt.xticks(rotation=30)\n",
    "plt.ylabel(\"Relative Importance\")\n",
    "plt.xlabel(\"Features\")\n",
    "plt.title(\"Classification - Important Features\")"
   ]
  },
  {
   "cell_type": "code",
   "execution_count": 7,
   "metadata": {},
   "outputs": [
    {
     "name": "stdout",
     "output_type": "stream",
     "text": [
      "Requirement already satisfied: CICFlowMeter in /usr/local/lib/python3.9/site-packages (0.1.6)\n",
      "Requirement already satisfied: scapy in /usr/local/lib/python3.9/site-packages (from CICFlowMeter) (2.5.0)\n",
      "Requirement already satisfied: numpy in /usr/local/lib/python3.9/site-packages (from CICFlowMeter) (1.22.3)\n",
      "Requirement already satisfied: scipy in /usr/local/lib/python3.9/site-packages (from CICFlowMeter) (1.8.0)\n",
      "\u001b[33mWARNING: You are using pip version 22.0.4; however, version 23.0.1 is available.\n",
      "You should consider upgrading via the '/usr/local/opt/python@3.9/bin/python3.9 -m pip install --upgrade pip' command.\u001b[0m\u001b[33m\n",
      "\u001b[0mNote: you may need to restart the kernel to use updated packages.\n"
     ]
    }
   ],
   "source": [
    "pip install CICFlowMeter"
   ]
  },
  {
   "cell_type": "code",
   "execution_count": 6,
   "metadata": {},
   "outputs": [
    {
     "name": "stdout",
     "output_type": "stream",
     "text": [
      "Name: cicflowmeter\n",
      "Version: 0.1.6\n",
      "Summary: CICFlowMeter V3 Python Implementation\n",
      "Home-page: https://gitlab.com/hieulw/cicflowmeter\n",
      "Author: Le Hieu\n",
      "Author-email: hieulw99@gmail.com\n",
      "License: MIT\n",
      "Location: /usr/local/lib/python3.9/site-packages\n",
      "Requires: numpy, scapy, scipy\n",
      "Required-by: \n",
      "Note: you may need to restart the kernel to use updated packages.\n"
     ]
    }
   ],
   "source": [
    "pip show CICFlowMeter"
   ]
  },
  {
   "cell_type": "code",
   "execution_count": 9,
   "metadata": {},
   "outputs": [
    {
     "name": "stdout",
     "output_type": "stream",
     "text": [
      "['/Users/asadtariq/Downloads/work_python/Python_work/maramkd random forest/Network Analysis', '/usr/local/Cellar/python@3.9/3.9.16/Frameworks/Python.framework/Versions/3.9/lib/python39.zip', '/usr/local/Cellar/python@3.9/3.9.16/Frameworks/Python.framework/Versions/3.9/lib/python3.9', '/usr/local/Cellar/python@3.9/3.9.16/Frameworks/Python.framework/Versions/3.9/lib/python3.9/lib-dynload', '', '/Users/asadtariq/Library/Python/3.9/lib/python/site-packages', '/usr/local/lib/python3.9/site-packages', '/usr/local/opt/python-tk@3.9/libexec', '/path/to/CICFlowMeter']\n"
     ]
    }
   ],
   "source": [
    "import sys\n",
    "print(sys.path)"
   ]
  },
  {
   "cell_type": "code",
   "execution_count": 4,
   "metadata": {},
   "outputs": [],
   "source": [
    "import sys\n",
    "sys.path.append(\"/path/to/CICFlowMeter\")"
   ]
  },
  {
   "cell_type": "code",
   "execution_count": 8,
   "metadata": {},
   "outputs": [
    {
     "ename": "ModuleNotFoundError",
     "evalue": "No module named 'CICFlowMeter'",
     "output_type": "error",
     "traceback": [
      "\u001b[0;31m---------------------------------------------------------------------------\u001b[0m",
      "\u001b[0;31mModuleNotFoundError\u001b[0m                       Traceback (most recent call last)",
      "\u001b[1;32m/Users/asadtariq/Downloads/work_python/Python_work/maramkd random forest/Network Analysis/analysis.ipynb Cell 24\u001b[0m in \u001b[0;36m<cell line: 1>\u001b[0;34m()\u001b[0m\n\u001b[0;32m----> <a href='vscode-notebook-cell:/Users/asadtariq/Downloads/work_python/Python_work/maramkd%20random%20forest/Network%20Analysis/analysis.ipynb#X30sZmlsZQ%3D%3D?line=0'>1</a>\u001b[0m \u001b[39mfrom\u001b[39;00m \u001b[39mCICFlowMeter\u001b[39;00m \u001b[39mimport\u001b[39;00m cif\n",
      "\u001b[0;31mModuleNotFoundError\u001b[0m: No module named 'CICFlowMeter'"
     ]
    }
   ],
   "source": [
    "from CICFlowMeter import cif\n"
   ]
  }
 ],
 "metadata": {
  "kernelspec": {
   "display_name": "Python 3",
   "language": "python",
   "name": "python3"
  },
  "language_info": {
   "codemirror_mode": {
    "name": "ipython",
    "version": 3
   },
   "file_extension": ".py",
   "mimetype": "text/x-python",
   "name": "python",
   "nbconvert_exporter": "python",
   "pygments_lexer": "ipython3",
   "version": "3.9.16"
  },
  "orig_nbformat": 4
 },
 "nbformat": 4,
 "nbformat_minor": 2
}
