{
 "cells": [
  {
   "cell_type": "code",
   "execution_count": 12,
   "id": "0ab6fa73",
   "metadata": {},
   "outputs": [],
   "source": [
    "import nfstream\n",
    "import pandas as pd"
   ]
  },
  {
   "cell_type": "markdown",
   "id": "d03743b2",
   "metadata": {},
   "source": [
    "# Extract Features for the clean PCAPS"
   ]
  },
  {
   "cell_type": "code",
   "execution_count": 15,
   "id": "06cd597c",
   "metadata": {},
   "outputs": [],
   "source": [
    "nf = nfstream.NFStreamer(source='/Users/rahafmansour/Desktop/Capstone/Clean/Network/FullClean.pcap', idle_timeout=1, active_timeout=1)\n",
    "\n",
    "flow_data = nf.to_pandas()\n",
    "\n",
    "flow_data.to_csv('/Users/rahafmansour/Desktop/Capstone/Clean/Network/NF_Data.csv', index=False)"
   ]
  },
  {
   "cell_type": "markdown",
   "id": "d18824da",
   "metadata": {},
   "source": [
    "# Extract Features for the Filtered (only attacker and victim activities) Malicious PCAPS"
   ]
  },
  {
   "cell_type": "code",
   "execution_count": 17,
   "id": "c32192d5",
   "metadata": {},
   "outputs": [],
   "source": [
    "nf = nfstream.NFStreamer(source='/Users/rahafmansour/Desktop/Capstone/Malicious/Network/FullMaliciousFiltered.pcap', idle_timeout=1, active_timeout=1)\n",
    "\n",
    "flow_data = nf.to_pandas()\n",
    "\n",
    "flow_data.to_csv('/Users/rahafmansour/Desktop/Capstone/Clean/Network/NF_Data_Malicious.csv', index=False)"
   ]
  },
  {
   "cell_type": "markdown",
   "id": "b89cf267",
   "metadata": {},
   "source": [
    "#  Extract Features for the Unfiltered (all activities) Malicious PCAPS"
   ]
  },
  {
   "cell_type": "code",
   "execution_count": 18,
   "id": "09006396",
   "metadata": {},
   "outputs": [],
   "source": [
    "nf = nfstream.NFStreamer(source='/Users/rahafmansour/Desktop/Capstone/Malicious/Network/FullMalicious.pcapng', idle_timeout=1, active_timeout=1)\n",
    "\n",
    "flow_data = nf.to_pandas()\n",
    "\n",
    "flow_data.to_csv('/Users/rahafmansour/Desktop/Capstone/Clean/Network/NF_Data_None_FilteredMalicious.csv', index=False)"
   ]
  }
 ],
 "metadata": {
  "kernelspec": {
   "display_name": "Python 3 (ipykernel)",
   "language": "python",
   "name": "python3"
  },
  "language_info": {
   "codemirror_mode": {
    "name": "ipython",
    "version": 3
   },
   "file_extension": ".py",
   "mimetype": "text/x-python",
   "name": "python",
   "nbconvert_exporter": "python",
   "pygments_lexer": "ipython3",
   "version": "3.10.9"
  }
 },
 "nbformat": 4,
 "nbformat_minor": 5
}
