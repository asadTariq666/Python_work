{
  "cells": [
    {
      "cell_type": "code",
      "execution_count": 1,
      "metadata": {
        "id": "a6QYqZjZMaBU"
      },
      "outputs": [],
      "source": [
        "# Import libraries\n",
        "## Basic libs\n",
        "import pandas as pd\n",
        "import numpy as np\n",
        "import warnings\n",
        "## Data Visualization\n",
        "import seaborn as sns\n",
        "import matplotlib.pyplot as plt\n",
        "\n",
        "# Configure libraries\n",
        "warnings.filterwarnings('ignore')\n",
        "plt.rcParams['figure.figsize'] = (10, 10)\n",
        "plt.style.use('seaborn')"
      ]
    },
    {
      "cell_type": "code",
      "execution_count": 2,
      "metadata": {
        "colab": {
          "base_uri": "https://localhost:8080/",
          "height": 543
        },
        "id": "qeUicQ95Mcw_",
        "outputId": "f0a25199-efbf-4ee6-9ce7-5efc0e09bba2"
      },
      "outputs": [
        {
          "name": "stdout",
          "output_type": "stream",
          "text": [
            "Shape of dataframe: (562, 84)\n"
          ]
        },
        {
          "data": {
            "text/html": [
              "<div>\n",
              "<style scoped>\n",
              "    .dataframe tbody tr th:only-of-type {\n",
              "        vertical-align: middle;\n",
              "    }\n",
              "\n",
              "    .dataframe tbody tr th {\n",
              "        vertical-align: top;\n",
              "    }\n",
              "\n",
              "    .dataframe thead th {\n",
              "        text-align: right;\n",
              "    }\n",
              "</style>\n",
              "<table border=\"1\" class=\"dataframe\">\n",
              "  <thead>\n",
              "    <tr style=\"text-align: right;\">\n",
              "      <th></th>\n",
              "      <th>Flow ID</th>\n",
              "      <th>Src IP</th>\n",
              "      <th>Src Port</th>\n",
              "      <th>Dst IP</th>\n",
              "      <th>Dst Port</th>\n",
              "      <th>Protocol</th>\n",
              "      <th>Timestamp</th>\n",
              "      <th>Flow Duration</th>\n",
              "      <th>Tot Fwd Pkts</th>\n",
              "      <th>Tot Bwd Pkts</th>\n",
              "      <th>...</th>\n",
              "      <th>Fwd Seg Size Min</th>\n",
              "      <th>Active Mean</th>\n",
              "      <th>Active Std</th>\n",
              "      <th>Active Max</th>\n",
              "      <th>Active Min</th>\n",
              "      <th>Idle Mean</th>\n",
              "      <th>Idle Std</th>\n",
              "      <th>Idle Max</th>\n",
              "      <th>Idle Min</th>\n",
              "      <th>Label</th>\n",
              "    </tr>\n",
              "  </thead>\n",
              "  <tbody>\n",
              "    <tr>\n",
              "      <th>0</th>\n",
              "      <td>192.168.174.128-192.168.174.130-6522-49202-6</td>\n",
              "      <td>192.168.174.130</td>\n",
              "      <td>49202</td>\n",
              "      <td>192.168.174.128</td>\n",
              "      <td>6522</td>\n",
              "      <td>6</td>\n",
              "      <td>25/05/2022 07:07:28 PM</td>\n",
              "      <td>9070260</td>\n",
              "      <td>3</td>\n",
              "      <td>6</td>\n",
              "      <td>...</td>\n",
              "      <td>0</td>\n",
              "      <td>70476.0</td>\n",
              "      <td>0.0</td>\n",
              "      <td>70476.0</td>\n",
              "      <td>70476.0</td>\n",
              "      <td>5969094.0</td>\n",
              "      <td>0.000</td>\n",
              "      <td>5969094.0</td>\n",
              "      <td>5969094.0</td>\n",
              "      <td>Malicious</td>\n",
              "    </tr>\n",
              "    <tr>\n",
              "      <th>1</th>\n",
              "      <td>192.168.174.128-192.168.174.130-6522-49202-6</td>\n",
              "      <td>192.168.174.130</td>\n",
              "      <td>49202</td>\n",
              "      <td>192.168.174.128</td>\n",
              "      <td>6522</td>\n",
              "      <td>6</td>\n",
              "      <td>25/05/2022 07:07:37 PM</td>\n",
              "      <td>1473</td>\n",
              "      <td>1</td>\n",
              "      <td>1</td>\n",
              "      <td>...</td>\n",
              "      <td>0</td>\n",
              "      <td>0.0</td>\n",
              "      <td>0.0</td>\n",
              "      <td>0.0</td>\n",
              "      <td>0.0</td>\n",
              "      <td>0.0</td>\n",
              "      <td>0.000</td>\n",
              "      <td>0.0</td>\n",
              "      <td>0.0</td>\n",
              "      <td>Malicious</td>\n",
              "    </tr>\n",
              "    <tr>\n",
              "      <th>2</th>\n",
              "      <td>192.168.174.128-192.168.174.130-6522-49203-6</td>\n",
              "      <td>192.168.174.130</td>\n",
              "      <td>49203</td>\n",
              "      <td>192.168.174.128</td>\n",
              "      <td>6522</td>\n",
              "      <td>6</td>\n",
              "      <td>25/05/2022 07:08:09 PM</td>\n",
              "      <td>9038119</td>\n",
              "      <td>3</td>\n",
              "      <td>6</td>\n",
              "      <td>...</td>\n",
              "      <td>0</td>\n",
              "      <td>47350.0</td>\n",
              "      <td>0.0</td>\n",
              "      <td>47350.0</td>\n",
              "      <td>47350.0</td>\n",
              "      <td>5984062.0</td>\n",
              "      <td>0.000</td>\n",
              "      <td>5984062.0</td>\n",
              "      <td>5984062.0</td>\n",
              "      <td>Malicious</td>\n",
              "    </tr>\n",
              "    <tr>\n",
              "      <th>3</th>\n",
              "      <td>192.168.174.128-192.168.174.130-6522-49203-6</td>\n",
              "      <td>192.168.174.130</td>\n",
              "      <td>49203</td>\n",
              "      <td>192.168.174.128</td>\n",
              "      <td>6522</td>\n",
              "      <td>6</td>\n",
              "      <td>25/05/2022 07:08:18 PM</td>\n",
              "      <td>3137</td>\n",
              "      <td>1</td>\n",
              "      <td>1</td>\n",
              "      <td>...</td>\n",
              "      <td>0</td>\n",
              "      <td>0.0</td>\n",
              "      <td>0.0</td>\n",
              "      <td>0.0</td>\n",
              "      <td>0.0</td>\n",
              "      <td>0.0</td>\n",
              "      <td>0.000</td>\n",
              "      <td>0.0</td>\n",
              "      <td>0.0</td>\n",
              "      <td>Malicious</td>\n",
              "    </tr>\n",
              "    <tr>\n",
              "      <th>4</th>\n",
              "      <td>192.168.174.128-192.168.174.130-6522-49201-6</td>\n",
              "      <td>192.168.174.128</td>\n",
              "      <td>6522</td>\n",
              "      <td>192.168.174.130</td>\n",
              "      <td>49201</td>\n",
              "      <td>6</td>\n",
              "      <td>25/05/2022 07:06:48 PM</td>\n",
              "      <td>105608331</td>\n",
              "      <td>66</td>\n",
              "      <td>42</td>\n",
              "      <td>...</td>\n",
              "      <td>0</td>\n",
              "      <td>9698229.0</td>\n",
              "      <td>22100000.0</td>\n",
              "      <td>54700000.0</td>\n",
              "      <td>47159.0</td>\n",
              "      <td>7895486.5</td>\n",
              "      <td>3042827.195</td>\n",
              "      <td>13700000.0</td>\n",
              "      <td>5051273.0</td>\n",
              "      <td>Malicious</td>\n",
              "    </tr>\n",
              "  </tbody>\n",
              "</table>\n",
              "<p>5 rows × 84 columns</p>\n",
              "</div>"
            ],
            "text/plain": [
              "                                        Flow ID           Src IP  Src Port  \\\n",
              "0  192.168.174.128-192.168.174.130-6522-49202-6  192.168.174.130     49202   \n",
              "1  192.168.174.128-192.168.174.130-6522-49202-6  192.168.174.130     49202   \n",
              "2  192.168.174.128-192.168.174.130-6522-49203-6  192.168.174.130     49203   \n",
              "3  192.168.174.128-192.168.174.130-6522-49203-6  192.168.174.130     49203   \n",
              "4  192.168.174.128-192.168.174.130-6522-49201-6  192.168.174.128      6522   \n",
              "\n",
              "            Dst IP  Dst Port  Protocol               Timestamp  Flow Duration  \\\n",
              "0  192.168.174.128      6522         6  25/05/2022 07:07:28 PM        9070260   \n",
              "1  192.168.174.128      6522         6  25/05/2022 07:07:37 PM           1473   \n",
              "2  192.168.174.128      6522         6  25/05/2022 07:08:09 PM        9038119   \n",
              "3  192.168.174.128      6522         6  25/05/2022 07:08:18 PM           3137   \n",
              "4  192.168.174.130     49201         6  25/05/2022 07:06:48 PM      105608331   \n",
              "\n",
              "   Tot Fwd Pkts  Tot Bwd Pkts  ...  Fwd Seg Size Min  Active Mean  Active Std  \\\n",
              "0             3             6  ...                 0      70476.0         0.0   \n",
              "1             1             1  ...                 0          0.0         0.0   \n",
              "2             3             6  ...                 0      47350.0         0.0   \n",
              "3             1             1  ...                 0          0.0         0.0   \n",
              "4            66            42  ...                 0    9698229.0  22100000.0   \n",
              "\n",
              "   Active Max  Active Min  Idle Mean     Idle Std    Idle Max   Idle Min  \\\n",
              "0     70476.0     70476.0  5969094.0        0.000   5969094.0  5969094.0   \n",
              "1         0.0         0.0        0.0        0.000         0.0        0.0   \n",
              "2     47350.0     47350.0  5984062.0        0.000   5984062.0  5984062.0   \n",
              "3         0.0         0.0        0.0        0.000         0.0        0.0   \n",
              "4  54700000.0     47159.0  7895486.5  3042827.195  13700000.0  5051273.0   \n",
              "\n",
              "       Label  \n",
              "0  Malicious  \n",
              "1  Malicious  \n",
              "2  Malicious  \n",
              "3  Malicious  \n",
              "4  Malicious  \n",
              "\n",
              "[5 rows x 84 columns]"
            ]
          },
          "execution_count": 2,
          "metadata": {},
          "output_type": "execute_result"
        }
      ],
      "source": [
        "# Load dataset\n",
        "df_bank_ready = pd.read_csv('https://raw.githubusercontent.com/M0MKD/C-M_Dataset/main/OurTraffic.csv')\n",
        "\n",
        "\n",
        "print('Shape of dataframe:', df_bank_ready.shape)\n",
        "# Removing spaces in the columns names\n",
        "df_bank_ready.columns = [i.strip() for i in df_bank_ready.columns ]\n",
        "df_bank_ready.head()"
      ]
    },
    {
      "cell_type": "code",
      "execution_count": 3,
      "metadata": {
        "colab": {
          "base_uri": "https://localhost:8080/"
        },
        "id": "wZk6Nc1MMiEb",
        "outputId": "c702d843-1820-4384-c6da-4c3e9c9f911c"
      },
      "outputs": [
        {
          "name": "stdout",
          "output_type": "stream",
          "text": [
            "Malicious    544\n",
            "Benign        18\n",
            "Name: Label, dtype: int64\n"
          ]
        }
      ],
      "source": [
        "print(df_bank_ready['Label'].value_counts())"
      ]
    },
    {
      "cell_type": "code",
      "execution_count": 4,
      "metadata": {
        "colab": {
          "base_uri": "https://localhost:8080/",
          "height": 407
        },
        "id": "3VKF5JehMlK6",
        "outputId": "d7cc3ba9-b4e0-4df9-d07f-0cac6c2cab4f"
      },
      "outputs": [
        {
          "ename": "ValueError",
          "evalue": "Cannot use mean strategy with non-numeric data:\ncould not convert string to float: '192.168.174.128-192.168.174.130-6522-49202-6'",
          "output_type": "error",
          "traceback": [
            "\u001b[0;31m---------------------------------------------------------------------------\u001b[0m",
            "\u001b[0;31mValueError\u001b[0m                                Traceback (most recent call last)",
            "\u001b[0;32m/var/folders/dk/9q84mn0j1nzfg85t9zx5d1480000gn/T/ipykernel_32315/320295040.py\u001b[0m in \u001b[0;36m<module>\u001b[0;34m\u001b[0m\n\u001b[1;32m      6\u001b[0m \u001b[0mdata\u001b[0m \u001b[0;34m=\u001b[0m \u001b[0;34m(\u001b[0m\u001b[0mdf_bank_ready\u001b[0m\u001b[0;34m)\u001b[0m\u001b[0;34m\u001b[0m\u001b[0;34m\u001b[0m\u001b[0m\n\u001b[1;32m      7\u001b[0m \u001b[0;31m# Fitting the data to the imputer object\u001b[0m\u001b[0;34m\u001b[0m\u001b[0;34m\u001b[0m\u001b[0;34m\u001b[0m\u001b[0m\n\u001b[0;32m----> 8\u001b[0;31m \u001b[0mimputer\u001b[0m \u001b[0;34m=\u001b[0m \u001b[0mimputer\u001b[0m\u001b[0;34m.\u001b[0m\u001b[0mfit\u001b[0m\u001b[0;34m(\u001b[0m\u001b[0mdata\u001b[0m\u001b[0;34m)\u001b[0m\u001b[0;34m\u001b[0m\u001b[0;34m\u001b[0m\u001b[0m\n\u001b[0m\u001b[1;32m      9\u001b[0m \u001b[0;34m\u001b[0m\u001b[0m\n\u001b[1;32m     10\u001b[0m \u001b[0;31m# Imputing the data\u001b[0m\u001b[0;34m\u001b[0m\u001b[0;34m\u001b[0m\u001b[0;34m\u001b[0m\u001b[0m\n",
            "\u001b[0;32m~/opt/anaconda3/envs/pythonProject/lib/python3.7/site-packages/sklearn/impute/_base.py\u001b[0m in \u001b[0;36mfit\u001b[0;34m(self, X, y)\u001b[0m\n\u001b[1;32m    317\u001b[0m             \u001b[0mFitted\u001b[0m \u001b[0mestimator\u001b[0m\u001b[0;34m.\u001b[0m\u001b[0;34m\u001b[0m\u001b[0;34m\u001b[0m\u001b[0m\n\u001b[1;32m    318\u001b[0m         \"\"\"\n\u001b[0;32m--> 319\u001b[0;31m         \u001b[0mX\u001b[0m \u001b[0;34m=\u001b[0m \u001b[0mself\u001b[0m\u001b[0;34m.\u001b[0m\u001b[0m_validate_input\u001b[0m\u001b[0;34m(\u001b[0m\u001b[0mX\u001b[0m\u001b[0;34m,\u001b[0m \u001b[0min_fit\u001b[0m\u001b[0;34m=\u001b[0m\u001b[0;32mTrue\u001b[0m\u001b[0;34m)\u001b[0m\u001b[0;34m\u001b[0m\u001b[0;34m\u001b[0m\u001b[0m\n\u001b[0m\u001b[1;32m    320\u001b[0m \u001b[0;34m\u001b[0m\u001b[0m\n\u001b[1;32m    321\u001b[0m         \u001b[0;31m# default fill_value is 0 for numerical input and \"missing_value\"\u001b[0m\u001b[0;34m\u001b[0m\u001b[0;34m\u001b[0m\u001b[0;34m\u001b[0m\u001b[0m\n",
            "\u001b[0;32m~/opt/anaconda3/envs/pythonProject/lib/python3.7/site-packages/sklearn/impute/_base.py\u001b[0m in \u001b[0;36m_validate_input\u001b[0;34m(self, X, in_fit)\u001b[0m\n\u001b[1;32m    283\u001b[0m                     )\n\u001b[1;32m    284\u001b[0m                 )\n\u001b[0;32m--> 285\u001b[0;31m                 \u001b[0;32mraise\u001b[0m \u001b[0mnew_ve\u001b[0m \u001b[0;32mfrom\u001b[0m \u001b[0;32mNone\u001b[0m\u001b[0;34m\u001b[0m\u001b[0;34m\u001b[0m\u001b[0m\n\u001b[0m\u001b[1;32m    286\u001b[0m             \u001b[0;32melse\u001b[0m\u001b[0;34m:\u001b[0m\u001b[0;34m\u001b[0m\u001b[0;34m\u001b[0m\u001b[0m\n\u001b[1;32m    287\u001b[0m                 \u001b[0;32mraise\u001b[0m \u001b[0mve\u001b[0m\u001b[0;34m\u001b[0m\u001b[0;34m\u001b[0m\u001b[0m\n",
            "\u001b[0;31mValueError\u001b[0m: Cannot use mean strategy with non-numeric data:\ncould not convert string to float: '192.168.174.128-192.168.174.130-6522-49202-6'"
          ]
        }
      ],
      "source": [
        "from sklearn import impute\n",
        "from sklearn.impute import SimpleImputer\n",
        "imputer = SimpleImputer(missing_values = np.nan,\n",
        "                        strategy ='mean')\n",
        " \n",
        "data = (df_bank_ready)\n",
        "# Fitting the data to the imputer object\n",
        "imputer = imputer.fit(data)\n",
        " \n",
        "# Imputing the data    \n",
        "data = imputer.transform(data)\n",
        " \n",
        "print(\"Imputed Data : \\n\", data)\n",
        "print(df_bank_ready.isnull().sum())"
      ]
    },
    {
      "cell_type": "code",
      "execution_count": 5,
      "metadata": {
        "colab": {
          "base_uri": "https://localhost:8080/"
        },
        "id": "rQBUar2pMnne",
        "outputId": "8e95245a-dff4-44bf-a89c-2d589e722be7"
      },
      "outputs": [
        {
          "name": "stdout",
          "output_type": "stream",
          "text": [
            "                                        Flow ID           Src IP  Src Port  \\\n",
            "0  192.168.174.128-192.168.174.130-6522-49202-6  192.168.174.130 -0.030254   \n",
            "1  192.168.174.128-192.168.174.130-6522-49202-6  192.168.174.130 -0.030254   \n",
            "2  192.168.174.128-192.168.174.130-6522-49203-6  192.168.174.130 -0.030196   \n",
            "3  192.168.174.128-192.168.174.130-6522-49203-6  192.168.174.130 -0.030196   \n",
            "4  192.168.174.128-192.168.174.130-6522-49201-6  192.168.174.128 -2.496823   \n",
            "\n",
            "            Dst IP  Dst Port  Protocol               Timestamp  Flow Duration  \\\n",
            "0  192.168.174.128  0.626634 -1.529112  25/05/2022 07:07:28 PM      -0.057033   \n",
            "1  192.168.174.128  0.626634 -1.529112  25/05/2022 07:07:37 PM      -0.475585   \n",
            "2  192.168.174.128  0.626634 -1.529112  25/05/2022 07:08:09 PM      -0.058517   \n",
            "3  192.168.174.128  0.626634 -1.529112  25/05/2022 07:08:18 PM      -0.475509   \n",
            "4  192.168.174.130  7.447105 -1.529112  25/05/2022 07:06:48 PM       4.398495   \n",
            "\n",
            "   Tot Fwd Pkts  Tot Bwd Pkts  ...  Fwd Seg Size Min  Active Mean  Active Std  \\\n",
            "0     -0.060406      0.318155  ...                 0      70476.0         0.0   \n",
            "1     -0.108187     -0.203441  ...                 0          0.0         0.0   \n",
            "2     -0.060406      0.318155  ...                 0      47350.0         0.0   \n",
            "3     -0.108187     -0.203441  ...                 0          0.0         0.0   \n",
            "4      1.444688      4.073645  ...                 0    9698229.0  22100000.0   \n",
            "\n",
            "   Active Max  Active Min  Idle Mean     Idle Std    Idle Max   Idle Min  \\\n",
            "0     70476.0     70476.0  5969094.0        0.000   5969094.0  5969094.0   \n",
            "1         0.0         0.0        0.0        0.000         0.0        0.0   \n",
            "2     47350.0     47350.0  5984062.0        0.000   5984062.0  5984062.0   \n",
            "3         0.0         0.0        0.0        0.000         0.0        0.0   \n",
            "4  54700000.0     47159.0  7895486.5  3042827.195  13700000.0  5051273.0   \n",
            "\n",
            "       Label  \n",
            "0  Malicious  \n",
            "1  Malicious  \n",
            "2  Malicious  \n",
            "3  Malicious  \n",
            "4  Malicious  \n",
            "\n",
            "[5 rows x 84 columns]\n"
          ]
        }
      ],
      "source": [
        "from sklearn.preprocessing import StandardScaler\n",
        "scaler = StandardScaler()\n",
        "num_cols = ['Src Port', 'Dst Port', 'Protocol', 'Flow Duration', 'Tot Fwd Pkts', 'Tot Bwd Pkts']\n",
        "df_bank_ready[num_cols] = scaler.fit_transform(df_bank_ready[num_cols])\n",
        "\n",
        "print(df_bank_ready.head())"
      ]
    },
    {
      "cell_type": "code",
      "execution_count": 6,
      "metadata": {
        "id": "Qg4nYf6CMrJ7"
      },
      "outputs": [],
      "source": [
        "df_bank_ready.drop(['Flow ID', 'Src IP', 'Dst IP', 'Timestamp','Idle Min'],axis = 1,inplace = True)"
      ]
    },
    {
      "cell_type": "code",
      "execution_count": 7,
      "metadata": {
        "colab": {
          "base_uri": "https://localhost:8080/"
        },
        "id": "CPd4daPMMsiL",
        "outputId": "0dba25cc-6669-4b28-f7f0-45f6a6fb0762"
      },
      "outputs": [
        {
          "data": {
            "text/plain": [
              "MALICIOUS    544\n",
              "BENIGN        18\n",
              "Name: Label, dtype: int64"
            ]
          },
          "execution_count": 7,
          "metadata": {},
          "output_type": "execute_result"
        }
      ],
      "source": [
        "df_bank_ready['Label'] = df_bank_ready['Label'].apply(lambda x: x.upper())\n",
        "df_bank_ready.Label.value_counts()"
      ]
    },
    {
      "cell_type": "code",
      "execution_count": 8,
      "metadata": {
        "colab": {
          "base_uri": "https://localhost:8080/",
          "height": 365
        },
        "id": "kztDDH2GMu6Q",
        "outputId": "1dfac4a4-bd93-497d-9abb-f30484976776"
      },
      "outputs": [
        {
          "name": "stdout",
          "output_type": "stream",
          "text": [
            "Shape of dataframe: (562, 79)\n"
          ]
        },
        {
          "data": {
            "text/html": [
              "<div>\n",
              "<style scoped>\n",
              "    .dataframe tbody tr th:only-of-type {\n",
              "        vertical-align: middle;\n",
              "    }\n",
              "\n",
              "    .dataframe tbody tr th {\n",
              "        vertical-align: top;\n",
              "    }\n",
              "\n",
              "    .dataframe thead th {\n",
              "        text-align: right;\n",
              "    }\n",
              "</style>\n",
              "<table border=\"1\" class=\"dataframe\">\n",
              "  <thead>\n",
              "    <tr style=\"text-align: right;\">\n",
              "      <th></th>\n",
              "      <th>Src Port</th>\n",
              "      <th>Dst Port</th>\n",
              "      <th>Protocol</th>\n",
              "      <th>Flow Duration</th>\n",
              "      <th>Tot Fwd Pkts</th>\n",
              "      <th>Tot Bwd Pkts</th>\n",
              "      <th>TotLen Fwd Pkts</th>\n",
              "      <th>TotLen Bwd Pkts</th>\n",
              "      <th>Fwd Pkt Len Max</th>\n",
              "      <th>Fwd Pkt Len Min</th>\n",
              "      <th>...</th>\n",
              "      <th>Fwd Act Data Pkts</th>\n",
              "      <th>Fwd Seg Size Min</th>\n",
              "      <th>Active Mean</th>\n",
              "      <th>Active Std</th>\n",
              "      <th>Active Max</th>\n",
              "      <th>Active Min</th>\n",
              "      <th>Idle Mean</th>\n",
              "      <th>Idle Std</th>\n",
              "      <th>Idle Max</th>\n",
              "      <th>Label</th>\n",
              "    </tr>\n",
              "  </thead>\n",
              "  <tbody>\n",
              "    <tr>\n",
              "      <th>0</th>\n",
              "      <td>-0.030254</td>\n",
              "      <td>0.626634</td>\n",
              "      <td>-1.529112</td>\n",
              "      <td>-0.057033</td>\n",
              "      <td>-0.060406</td>\n",
              "      <td>0.318155</td>\n",
              "      <td>41</td>\n",
              "      <td>2</td>\n",
              "      <td>39</td>\n",
              "      <td>0</td>\n",
              "      <td>...</td>\n",
              "      <td>2</td>\n",
              "      <td>0</td>\n",
              "      <td>70476.0</td>\n",
              "      <td>0.0</td>\n",
              "      <td>70476.0</td>\n",
              "      <td>70476.0</td>\n",
              "      <td>5969094.0</td>\n",
              "      <td>0.000</td>\n",
              "      <td>5969094.0</td>\n",
              "      <td>1.0</td>\n",
              "    </tr>\n",
              "    <tr>\n",
              "      <th>1</th>\n",
              "      <td>-0.030254</td>\n",
              "      <td>0.626634</td>\n",
              "      <td>-1.529112</td>\n",
              "      <td>-0.475585</td>\n",
              "      <td>-0.108187</td>\n",
              "      <td>-0.203441</td>\n",
              "      <td>0</td>\n",
              "      <td>0</td>\n",
              "      <td>0</td>\n",
              "      <td>0</td>\n",
              "      <td>...</td>\n",
              "      <td>0</td>\n",
              "      <td>0</td>\n",
              "      <td>0.0</td>\n",
              "      <td>0.0</td>\n",
              "      <td>0.0</td>\n",
              "      <td>0.0</td>\n",
              "      <td>0.0</td>\n",
              "      <td>0.000</td>\n",
              "      <td>0.0</td>\n",
              "      <td>1.0</td>\n",
              "    </tr>\n",
              "    <tr>\n",
              "      <th>2</th>\n",
              "      <td>-0.030196</td>\n",
              "      <td>0.626634</td>\n",
              "      <td>-1.529112</td>\n",
              "      <td>-0.058517</td>\n",
              "      <td>-0.060406</td>\n",
              "      <td>0.318155</td>\n",
              "      <td>41</td>\n",
              "      <td>2</td>\n",
              "      <td>39</td>\n",
              "      <td>0</td>\n",
              "      <td>...</td>\n",
              "      <td>2</td>\n",
              "      <td>0</td>\n",
              "      <td>47350.0</td>\n",
              "      <td>0.0</td>\n",
              "      <td>47350.0</td>\n",
              "      <td>47350.0</td>\n",
              "      <td>5984062.0</td>\n",
              "      <td>0.000</td>\n",
              "      <td>5984062.0</td>\n",
              "      <td>1.0</td>\n",
              "    </tr>\n",
              "    <tr>\n",
              "      <th>3</th>\n",
              "      <td>-0.030196</td>\n",
              "      <td>0.626634</td>\n",
              "      <td>-1.529112</td>\n",
              "      <td>-0.475509</td>\n",
              "      <td>-0.108187</td>\n",
              "      <td>-0.203441</td>\n",
              "      <td>0</td>\n",
              "      <td>0</td>\n",
              "      <td>0</td>\n",
              "      <td>0</td>\n",
              "      <td>...</td>\n",
              "      <td>0</td>\n",
              "      <td>0</td>\n",
              "      <td>0.0</td>\n",
              "      <td>0.0</td>\n",
              "      <td>0.0</td>\n",
              "      <td>0.0</td>\n",
              "      <td>0.0</td>\n",
              "      <td>0.000</td>\n",
              "      <td>0.0</td>\n",
              "      <td>1.0</td>\n",
              "    </tr>\n",
              "    <tr>\n",
              "      <th>4</th>\n",
              "      <td>-2.496823</td>\n",
              "      <td>7.447105</td>\n",
              "      <td>-1.529112</td>\n",
              "      <td>4.398495</td>\n",
              "      <td>1.444688</td>\n",
              "      <td>4.073645</td>\n",
              "      <td>7608</td>\n",
              "      <td>28899</td>\n",
              "      <td>1460</td>\n",
              "      <td>0</td>\n",
              "      <td>...</td>\n",
              "      <td>33</td>\n",
              "      <td>0</td>\n",
              "      <td>9698229.0</td>\n",
              "      <td>22100000.0</td>\n",
              "      <td>54700000.0</td>\n",
              "      <td>47159.0</td>\n",
              "      <td>7895486.5</td>\n",
              "      <td>3042827.195</td>\n",
              "      <td>13700000.0</td>\n",
              "      <td>1.0</td>\n",
              "    </tr>\n",
              "  </tbody>\n",
              "</table>\n",
              "<p>5 rows × 79 columns</p>\n",
              "</div>"
            ],
            "text/plain": [
              "   Src Port  Dst Port  Protocol  Flow Duration  Tot Fwd Pkts  Tot Bwd Pkts  \\\n",
              "0 -0.030254  0.626634 -1.529112      -0.057033     -0.060406      0.318155   \n",
              "1 -0.030254  0.626634 -1.529112      -0.475585     -0.108187     -0.203441   \n",
              "2 -0.030196  0.626634 -1.529112      -0.058517     -0.060406      0.318155   \n",
              "3 -0.030196  0.626634 -1.529112      -0.475509     -0.108187     -0.203441   \n",
              "4 -2.496823  7.447105 -1.529112       4.398495      1.444688      4.073645   \n",
              "\n",
              "   TotLen Fwd Pkts  TotLen Bwd Pkts  Fwd Pkt Len Max  Fwd Pkt Len Min  ...  \\\n",
              "0               41                2               39                0  ...   \n",
              "1                0                0                0                0  ...   \n",
              "2               41                2               39                0  ...   \n",
              "3                0                0                0                0  ...   \n",
              "4             7608            28899             1460                0  ...   \n",
              "\n",
              "   Fwd Act Data Pkts  Fwd Seg Size Min  Active Mean  Active Std  Active Max  \\\n",
              "0                  2                 0      70476.0         0.0     70476.0   \n",
              "1                  0                 0          0.0         0.0         0.0   \n",
              "2                  2                 0      47350.0         0.0     47350.0   \n",
              "3                  0                 0          0.0         0.0         0.0   \n",
              "4                 33                 0    9698229.0  22100000.0  54700000.0   \n",
              "\n",
              "   Active Min  Idle Mean     Idle Std    Idle Max  Label  \n",
              "0     70476.0  5969094.0        0.000   5969094.0    1.0  \n",
              "1         0.0        0.0        0.000         0.0    1.0  \n",
              "2     47350.0  5984062.0        0.000   5984062.0    1.0  \n",
              "3         0.0        0.0        0.000         0.0    1.0  \n",
              "4     47159.0  7895486.5  3042827.195  13700000.0    1.0  \n",
              "\n",
              "[5 rows x 79 columns]"
            ]
          },
          "execution_count": 8,
          "metadata": {},
          "output_type": "execute_result"
        }
      ],
      "source": [
        "from sklearn.preprocessing import OneHotEncoder\n",
        "\n",
        "df_bank_ready['Label'] = df_bank_ready['Label'].apply(lambda x: x.upper())\n",
        "\n",
        "\n",
        "# Encode target value\n",
        "encoded = {'BENIGN':0,'MALICIOUS':1,  }\n",
        "df_bank_ready['Label'] = df_bank_ready['Label'].map(encoded)\n",
        "\n",
        "print('Shape of dataframe:', df_bank_ready.shape)\n",
        "(df_bank_ready.head())"
      ]
    },
    {
      "cell_type": "code",
      "execution_count": 28,
      "metadata": {
        "colab": {
          "base_uri": "https://localhost:8080/"
        },
        "id": "lXvu_mO3Myg_",
        "outputId": "232b815e-433a-4bc9-c9aa-306d8f17bafc"
      },
      "outputs": [
        {
          "name": "stdout",
          "output_type": "stream",
          "text": [
            "Shape of training feature: (449, 78)\n",
            "Shape of testing feature: (113, 78)\n",
            "Shape of training Label: (449,)\n",
            "Shape of training Label: (113,)\n"
          ]
        }
      ],
      "source": [
        "feature = df_bank_ready.drop('Label', axis=1)\n",
        "\n",
        "\n",
        "target = df_bank_ready['Label']\n",
        "\n",
        "from sklearn.model_selection import train_test_split\n",
        "X_train, X_test, y_train, y_test = train_test_split(feature , target, \n",
        "                                                    shuffle = True, \n",
        "                                                    test_size=0.2, \n",
        "                                                    random_state=1)\n",
        "\n",
        "print('Shape of training feature:', X_train.shape)\n",
        "print('Shape of testing feature:', X_test.shape)\n",
        "print('Shape of training Label:', y_train.shape)\n",
        "print('Shape of training Label:', y_test.shape)"
      ]
    },
    {
      "cell_type": "code",
      "execution_count": 10,
      "metadata": {
        "id": "Umqp4ZtwM1SQ"
      },
      "outputs": [],
      "source": [
        "def evaluate_model(model, x_test, y_test):\n",
        "    from sklearn import metrics\n",
        "\n",
        "    # Predict Test Data \n",
        "    y_pred = model.predict(x_test)\n",
        "\n",
        "    # Calculate accuracy, precision, recall, f1-score, and kappa score\n",
        "    acc = metrics.accuracy_score(y_test, y_pred)\n",
        "    prec = metrics.precision_score(y_test, y_pred)\n",
        "    rec = metrics.recall_score(y_test, y_pred)\n",
        "    f1 = metrics.f1_score(y_test, y_pred)\n",
        "    kappa = metrics.cohen_kappa_score(y_test, y_pred)\n",
        "\n",
        "    # Calculate area under curve (AUC)\n",
        "    y_pred_proba = model.predict_proba(x_test)[::,1]\n",
        "    fpr, tpr, _ = metrics.roc_curve(y_test, y_pred_proba)\n",
        "    auc = metrics.roc_auc_score(y_test, y_pred_proba)\n",
        "\n",
        "    # Display confussion matrix\n",
        "    cm =metrics.confusion_matrix(y_test, y_pred)\n",
        "\n",
        "    return {'acc': acc, 'prec': prec, 'rec': rec, 'f1': f1, 'kappa': kappa, \n",
        "            'fpr': fpr, 'tpr': tpr, 'auc': auc, 'cm': cm}"
      ]
    },
    {
      "cell_type": "code",
      "execution_count": 20,
      "metadata": {},
      "outputs": [
        {
          "data": {
            "text/plain": [
              "378    1.0\n",
              "395    1.0\n",
              "474    1.0\n",
              "19     1.0\n",
              "289    1.0\n",
              "      ... \n",
              "129    1.0\n",
              "144    1.0\n",
              "72     1.0\n",
              "235    1.0\n",
              "37     1.0\n",
              "Name: Label, Length: 449, dtype: float64"
            ]
          },
          "execution_count": 20,
          "metadata": {},
          "output_type": "execute_result"
        }
      ],
      "source": [
        "y_train"
      ]
    },
    {
      "cell_type": "code",
      "execution_count": 30,
      "metadata": {},
      "outputs": [],
      "source": [
        "X_train = np.nan_to_num(X_train)\n",
        "y_train = np.nan_to_num(y_train)\n"
      ]
    },
    {
      "cell_type": "code",
      "execution_count": 31,
      "metadata": {},
      "outputs": [
        {
          "data": {
            "text/plain": [
              "((449, 78), (449,))"
            ]
          },
          "execution_count": 31,
          "metadata": {},
          "output_type": "execute_result"
        }
      ],
      "source": [
        "X_train.shape,y_train.shape"
      ]
    },
    {
      "cell_type": "code",
      "execution_count": 32,
      "metadata": {
        "colab": {
          "base_uri": "https://localhost:8080/",
          "height": 341
        },
        "id": "08DRIh4xM63r",
        "outputId": "2e97a21e-096c-4417-cb91-5f1c737e5279"
      },
      "outputs": [
        {
          "data": {
            "text/plain": [
              "RandomForestClassifier(random_state=0)"
            ]
          },
          "execution_count": 32,
          "metadata": {},
          "output_type": "execute_result"
        }
      ],
      "source": [
        "from sklearn.ensemble import RandomForestClassifier\n",
        "\n",
        "rf = RandomForestClassifier(random_state=0)\n",
        "rf.fit(X_train, y_train)\n"
      ]
    },
    {
      "cell_type": "code",
      "execution_count": null,
      "metadata": {
        "id": "hJgiIRqIM8lx"
      },
      "outputs": [],
      "source": [
        "# Evaluate Model\n",
        "rf_eval = evaluate_model(rf, X_test, y_test)\n",
        "\n",
        "# Print result\n",
        "print('Accuracy:', rf_eval['acc'])\n",
        "print('Precision:', rf_eval['prec'])\n",
        "print('Recall:', rf_eval['rec'])\n",
        "print('F1 Score:', rf_eval['f1'])\n",
        "print('Cohens Kappa Score:', rf_eval['kappa'])\n",
        "print('Area Under Curve:', rf_eval['auc'])\n",
        "print('Confusion Matrix:\\n', rf_eval['cm'])"
      ]
    },
    {
      "cell_type": "code",
      "execution_count": null,
      "metadata": {
        "colab": {
          "base_uri": "https://localhost:8080/",
          "height": 375
        },
        "id": "O3qh0C3uNAiS",
        "outputId": "bab6568b-2690-40d6-e2a2-6f6a8b2c4b6e"
      },
      "outputs": [
        {
          "ename": "ValueError",
          "evalue": "ignored",
          "output_type": "error",
          "traceback": [
            "\u001b[0;31m---------------------------------------------------------------------------\u001b[0m",
            "\u001b[0;31mValueError\u001b[0m                                Traceback (most recent call last)",
            "\u001b[0;32m<ipython-input-21-950ef8cde2dd>\u001b[0m in \u001b[0;36m<module>\u001b[0;34m()\u001b[0m\n\u001b[1;32m     16\u001b[0m                            cv=5, n_jobs=-1, verbose=2)\n\u001b[1;32m     17\u001b[0m \u001b[0;34m\u001b[0m\u001b[0m\n\u001b[0;32m---> 18\u001b[0;31m \u001b[0mgrid_search\u001b[0m\u001b[0;34m.\u001b[0m\u001b[0mfit\u001b[0m\u001b[0;34m(\u001b[0m\u001b[0mX_train\u001b[0m\u001b[0;34m,\u001b[0m \u001b[0my_train\u001b[0m\u001b[0;34m)\u001b[0m\u001b[0;34m\u001b[0m\u001b[0;34m\u001b[0m\u001b[0m\n\u001b[0m\u001b[1;32m     19\u001b[0m \u001b[0;34m\u001b[0m\u001b[0m\n\u001b[1;32m     20\u001b[0m \u001b[0mprint\u001b[0m\u001b[0;34m(\u001b[0m\u001b[0mgrid_search\u001b[0m\u001b[0;34m.\u001b[0m\u001b[0mbest_params_\u001b[0m\u001b[0;34m)\u001b[0m\u001b[0;34m\u001b[0m\u001b[0;34m\u001b[0m\u001b[0m\n",
            "\u001b[0;32m/usr/local/lib/python3.7/dist-packages/sklearn/model_selection/_search.py\u001b[0m in \u001b[0;36mfit\u001b[0;34m(self, X, y, groups, **fit_params)\u001b[0m\n\u001b[1;32m    800\u001b[0m         \u001b[0mfit_params\u001b[0m \u001b[0;34m=\u001b[0m \u001b[0m_check_fit_params\u001b[0m\u001b[0;34m(\u001b[0m\u001b[0mX\u001b[0m\u001b[0;34m,\u001b[0m \u001b[0mfit_params\u001b[0m\u001b[0;34m)\u001b[0m\u001b[0;34m\u001b[0m\u001b[0;34m\u001b[0m\u001b[0m\n\u001b[1;32m    801\u001b[0m \u001b[0;34m\u001b[0m\u001b[0m\n\u001b[0;32m--> 802\u001b[0;31m         \u001b[0mcv_orig\u001b[0m \u001b[0;34m=\u001b[0m \u001b[0mcheck_cv\u001b[0m\u001b[0;34m(\u001b[0m\u001b[0mself\u001b[0m\u001b[0;34m.\u001b[0m\u001b[0mcv\u001b[0m\u001b[0;34m,\u001b[0m \u001b[0my\u001b[0m\u001b[0;34m,\u001b[0m \u001b[0mclassifier\u001b[0m\u001b[0;34m=\u001b[0m\u001b[0mis_classifier\u001b[0m\u001b[0;34m(\u001b[0m\u001b[0mestimator\u001b[0m\u001b[0;34m)\u001b[0m\u001b[0;34m)\u001b[0m\u001b[0;34m\u001b[0m\u001b[0;34m\u001b[0m\u001b[0m\n\u001b[0m\u001b[1;32m    803\u001b[0m         \u001b[0mn_splits\u001b[0m \u001b[0;34m=\u001b[0m \u001b[0mcv_orig\u001b[0m\u001b[0;34m.\u001b[0m\u001b[0mget_n_splits\u001b[0m\u001b[0;34m(\u001b[0m\u001b[0mX\u001b[0m\u001b[0;34m,\u001b[0m \u001b[0my\u001b[0m\u001b[0;34m,\u001b[0m \u001b[0mgroups\u001b[0m\u001b[0;34m)\u001b[0m\u001b[0;34m\u001b[0m\u001b[0;34m\u001b[0m\u001b[0m\n\u001b[1;32m    804\u001b[0m \u001b[0;34m\u001b[0m\u001b[0m\n",
            "\u001b[0;32m/usr/local/lib/python3.7/dist-packages/sklearn/model_selection/_split.py\u001b[0m in \u001b[0;36mcheck_cv\u001b[0;34m(cv, y, classifier)\u001b[0m\n\u001b[1;32m   2301\u001b[0m             \u001b[0mclassifier\u001b[0m\u001b[0;34m\u001b[0m\u001b[0;34m\u001b[0m\u001b[0m\n\u001b[1;32m   2302\u001b[0m             \u001b[0;32mand\u001b[0m \u001b[0;34m(\u001b[0m\u001b[0my\u001b[0m \u001b[0;32mis\u001b[0m \u001b[0;32mnot\u001b[0m \u001b[0;32mNone\u001b[0m\u001b[0;34m)\u001b[0m\u001b[0;34m\u001b[0m\u001b[0;34m\u001b[0m\u001b[0m\n\u001b[0;32m-> 2303\u001b[0;31m             \u001b[0;32mand\u001b[0m \u001b[0;34m(\u001b[0m\u001b[0mtype_of_target\u001b[0m\u001b[0;34m(\u001b[0m\u001b[0my\u001b[0m\u001b[0;34m)\u001b[0m \u001b[0;32min\u001b[0m \u001b[0;34m(\u001b[0m\u001b[0;34m\"binary\"\u001b[0m\u001b[0;34m,\u001b[0m \u001b[0;34m\"multiclass\"\u001b[0m\u001b[0;34m)\u001b[0m\u001b[0;34m)\u001b[0m\u001b[0;34m\u001b[0m\u001b[0;34m\u001b[0m\u001b[0m\n\u001b[0m\u001b[1;32m   2304\u001b[0m         ):\n\u001b[1;32m   2305\u001b[0m             \u001b[0;32mreturn\u001b[0m \u001b[0mStratifiedKFold\u001b[0m\u001b[0;34m(\u001b[0m\u001b[0mcv\u001b[0m\u001b[0;34m)\u001b[0m\u001b[0;34m\u001b[0m\u001b[0;34m\u001b[0m\u001b[0m\n",
            "\u001b[0;32m/usr/local/lib/python3.7/dist-packages/sklearn/utils/multiclass.py\u001b[0m in \u001b[0;36mtype_of_target\u001b[0;34m(y)\u001b[0m\n\u001b[1;32m    322\u001b[0m     \u001b[0;32mif\u001b[0m \u001b[0my\u001b[0m\u001b[0;34m.\u001b[0m\u001b[0mdtype\u001b[0m\u001b[0;34m.\u001b[0m\u001b[0mkind\u001b[0m \u001b[0;34m==\u001b[0m \u001b[0;34m\"f\"\u001b[0m \u001b[0;32mand\u001b[0m \u001b[0mnp\u001b[0m\u001b[0;34m.\u001b[0m\u001b[0many\u001b[0m\u001b[0;34m(\u001b[0m\u001b[0my\u001b[0m \u001b[0;34m!=\u001b[0m \u001b[0my\u001b[0m\u001b[0;34m.\u001b[0m\u001b[0mastype\u001b[0m\u001b[0;34m(\u001b[0m\u001b[0mint\u001b[0m\u001b[0;34m)\u001b[0m\u001b[0;34m)\u001b[0m\u001b[0;34m:\u001b[0m\u001b[0;34m\u001b[0m\u001b[0;34m\u001b[0m\u001b[0m\n\u001b[1;32m    323\u001b[0m         \u001b[0;31m# [.1, .2, 3] or [[.1, .2, 3]] or [[1., .2]] and not [1., 2., 3.]\u001b[0m\u001b[0;34m\u001b[0m\u001b[0;34m\u001b[0m\u001b[0;34m\u001b[0m\u001b[0m\n\u001b[0;32m--> 324\u001b[0;31m         \u001b[0m_assert_all_finite\u001b[0m\u001b[0;34m(\u001b[0m\u001b[0my\u001b[0m\u001b[0;34m)\u001b[0m\u001b[0;34m\u001b[0m\u001b[0;34m\u001b[0m\u001b[0m\n\u001b[0m\u001b[1;32m    325\u001b[0m         \u001b[0;32mreturn\u001b[0m \u001b[0;34m\"continuous\"\u001b[0m \u001b[0;34m+\u001b[0m \u001b[0msuffix\u001b[0m\u001b[0;34m\u001b[0m\u001b[0;34m\u001b[0m\u001b[0m\n\u001b[1;32m    326\u001b[0m \u001b[0;34m\u001b[0m\u001b[0m\n",
            "\u001b[0;32m/usr/local/lib/python3.7/dist-packages/sklearn/utils/validation.py\u001b[0m in \u001b[0;36m_assert_all_finite\u001b[0;34m(X, allow_nan, msg_dtype)\u001b[0m\n\u001b[1;32m    114\u001b[0m             raise ValueError(\n\u001b[1;32m    115\u001b[0m                 msg_err.format(\n\u001b[0;32m--> 116\u001b[0;31m                     \u001b[0mtype_err\u001b[0m\u001b[0;34m,\u001b[0m \u001b[0mmsg_dtype\u001b[0m \u001b[0;32mif\u001b[0m \u001b[0mmsg_dtype\u001b[0m \u001b[0;32mis\u001b[0m \u001b[0;32mnot\u001b[0m \u001b[0;32mNone\u001b[0m \u001b[0;32melse\u001b[0m \u001b[0mX\u001b[0m\u001b[0;34m.\u001b[0m\u001b[0mdtype\u001b[0m\u001b[0;34m\u001b[0m\u001b[0;34m\u001b[0m\u001b[0m\n\u001b[0m\u001b[1;32m    117\u001b[0m                 )\n\u001b[1;32m    118\u001b[0m             )\n",
            "\u001b[0;31mValueError\u001b[0m: Input contains NaN, infinity or a value too large for dtype('float64')."
          ]
        }
      ],
      "source": [
        "from sklearn.model_selection import GridSearchCV\n",
        "\n",
        "param_grid = {\n",
        "    'max_depth': [50, 80, 100],\n",
        "    'max_features': [2, 3, 4],\n",
        "    'min_samples_leaf': [3, 4, 5],\n",
        "    'min_samples_split': [8, 10, 12],\n",
        "    'n_estimators': [100, 300, 500]\n",
        "}\n",
        "\n",
        "# Create a base model\n",
        "rf_grids = RandomForestClassifier(random_state=0)\n",
        "\n",
        "# Initiate the grid search model\n",
        "grid_search = GridSearchCV(estimator=rf_grids, param_grid=param_grid, scoring='recall',\n",
        "                           cv=5, n_jobs=-1, verbose=2)\n",
        "\n",
        "grid_search.fit(X_train, y_train)\n",
        "\n",
        "print(grid_search.best_params_)"
      ]
    },
    {
      "cell_type": "code",
      "execution_count": null,
      "metadata": {
        "colab": {
          "base_uri": "https://localhost:8080/",
          "height": 232
        },
        "id": "CdA0yhOcNDn_",
        "outputId": "cd3d5965-ea41-4596-b6ad-89f1db5edc58"
      },
      "outputs": [
        {
          "ename": "AttributeError",
          "evalue": "ignored",
          "output_type": "error",
          "traceback": [
            "\u001b[0;31m---------------------------------------------------------------------------\u001b[0m",
            "\u001b[0;31mAttributeError\u001b[0m                            Traceback (most recent call last)",
            "\u001b[0;32m<ipython-input-14-0b4eaab40784>\u001b[0m in \u001b[0;36m<module>\u001b[0;34m()\u001b[0m\n\u001b[0;32m----> 1\u001b[0;31m \u001b[0mbest_grid\u001b[0m \u001b[0;34m=\u001b[0m \u001b[0mgrid_search\u001b[0m\u001b[0;34m.\u001b[0m\u001b[0mbest_estimator_\u001b[0m\u001b[0;34m\u001b[0m\u001b[0;34m\u001b[0m\u001b[0m\n\u001b[0m\u001b[1;32m      2\u001b[0m \u001b[0;34m\u001b[0m\u001b[0m\n\u001b[1;32m      3\u001b[0m \u001b[0;31m# Evaluate Model\u001b[0m\u001b[0;34m\u001b[0m\u001b[0;34m\u001b[0m\u001b[0;34m\u001b[0m\u001b[0m\n\u001b[1;32m      4\u001b[0m \u001b[0mbest_grid_eval\u001b[0m \u001b[0;34m=\u001b[0m \u001b[0mevaluate_model\u001b[0m\u001b[0;34m(\u001b[0m\u001b[0mbest_grid\u001b[0m\u001b[0;34m,\u001b[0m \u001b[0mX_test\u001b[0m\u001b[0;34m,\u001b[0m \u001b[0my_test\u001b[0m\u001b[0;34m)\u001b[0m\u001b[0;34m\u001b[0m\u001b[0;34m\u001b[0m\u001b[0m\n\u001b[1;32m      5\u001b[0m \u001b[0;34m\u001b[0m\u001b[0m\n",
            "\u001b[0;31mAttributeError\u001b[0m: 'GridSearchCV' object has no attribute 'best_estimator_'"
          ]
        }
      ],
      "source": [
        "best_grid = grid_search.best_estimator_\n",
        "\n",
        "# Evaluate Model\n",
        "best_grid_eval = evaluate_model(best_grid, X_test, y_test)\n",
        "\n",
        "# Print result\n",
        "print('Accuracy:', best_grid_eval['acc'])\n",
        "print('Precision:', best_grid_eval['prec'])\n",
        "print('Recall:', best_grid_eval['rec'])\n",
        "print('F1 Score:', best_grid_eval['f1'])\n",
        "print('Cohens Kappa Score:', best_grid_eval['kappa'])\n",
        "print('Area Under Curve:', best_grid_eval['auc'])\n",
        "print('Confusion Matrix:\\n', best_grid_eval['cm'])"
      ]
    },
    {
      "cell_type": "code",
      "execution_count": null,
      "metadata": {
        "colab": {
          "base_uri": "https://localhost:8080/",
          "height": 375
        },
        "id": "yTYK8RXQNFkn",
        "outputId": "6a592a07-eb81-414a-c33b-0d4ae3859fe8"
      },
      "outputs": [
        {
          "ename": "AttributeError",
          "evalue": "ignored",
          "output_type": "error",
          "traceback": [
            "\u001b[0;31m---------------------------------------------------------------------------\u001b[0m",
            "\u001b[0;31mAttributeError\u001b[0m                            Traceback (most recent call last)",
            "\u001b[0;32m<ipython-input-15-e909b5498efe>\u001b[0m in \u001b[0;36m<module>\u001b[0;34m()\u001b[0m\n\u001b[0;32m----> 1\u001b[0;31m \u001b[0mdf_bank_ready\u001b[0m\u001b[0;34m[\u001b[0m\u001b[0;34m'deposit_prediction'\u001b[0m\u001b[0;34m]\u001b[0m \u001b[0;34m=\u001b[0m \u001b[0mrf\u001b[0m\u001b[0;34m.\u001b[0m\u001b[0mpredict\u001b[0m\u001b[0;34m(\u001b[0m\u001b[0mfeature\u001b[0m\u001b[0;34m)\u001b[0m\u001b[0;34m\u001b[0m\u001b[0;34m\u001b[0m\u001b[0m\n\u001b[0m\u001b[1;32m      2\u001b[0m \u001b[0mdf_bank_ready\u001b[0m\u001b[0;34m[\u001b[0m\u001b[0;34m'deposit_prediction'\u001b[0m\u001b[0;34m]\u001b[0m \u001b[0;34m=\u001b[0m \u001b[0mdf_bank_ready\u001b[0m\u001b[0;34m[\u001b[0m\u001b[0;34m'deposit_prediction'\u001b[0m\u001b[0;34m]\u001b[0m\u001b[0;34m.\u001b[0m\u001b[0mapply\u001b[0m\u001b[0;34m(\u001b[0m\u001b[0;32mlambda\u001b[0m \u001b[0mx\u001b[0m\u001b[0;34m:\u001b[0m \u001b[0;34m'yes'\u001b[0m \u001b[0;32mif\u001b[0m \u001b[0mx\u001b[0m\u001b[0;34m==\u001b[0m\u001b[0;36m0\u001b[0m \u001b[0;32melse\u001b[0m \u001b[0;34m'no'\u001b[0m\u001b[0;34m)\u001b[0m\u001b[0;34m\u001b[0m\u001b[0;34m\u001b[0m\u001b[0m\n\u001b[1;32m      3\u001b[0m \u001b[0;34m\u001b[0m\u001b[0m\n\u001b[1;32m      4\u001b[0m \u001b[0;31m# Save new dataframe into csv file\u001b[0m\u001b[0;34m\u001b[0m\u001b[0;34m\u001b[0m\u001b[0;34m\u001b[0m\u001b[0m\n\u001b[1;32m      5\u001b[0m \u001b[0mdf_bank_ready\u001b[0m\u001b[0;34m.\u001b[0m\u001b[0mto_csv\u001b[0m\u001b[0;34m(\u001b[0m\u001b[0;34m'deposit_prediction.csv'\u001b[0m\u001b[0;34m,\u001b[0m \u001b[0mindex\u001b[0m\u001b[0;34m=\u001b[0m\u001b[0;32mFalse\u001b[0m\u001b[0;34m)\u001b[0m\u001b[0;34m\u001b[0m\u001b[0;34m\u001b[0m\u001b[0m\n",
            "\u001b[0;32m/usr/local/lib/python3.7/dist-packages/sklearn/ensemble/_forest.py\u001b[0m in \u001b[0;36mpredict\u001b[0;34m(self, X)\u001b[0m\n\u001b[1;32m    806\u001b[0m             \u001b[0mThe\u001b[0m \u001b[0mpredicted\u001b[0m \u001b[0mclasses\u001b[0m\u001b[0;34m.\u001b[0m\u001b[0;34m\u001b[0m\u001b[0;34m\u001b[0m\u001b[0m\n\u001b[1;32m    807\u001b[0m         \"\"\"\n\u001b[0;32m--> 808\u001b[0;31m         \u001b[0mproba\u001b[0m \u001b[0;34m=\u001b[0m \u001b[0mself\u001b[0m\u001b[0;34m.\u001b[0m\u001b[0mpredict_proba\u001b[0m\u001b[0;34m(\u001b[0m\u001b[0mX\u001b[0m\u001b[0;34m)\u001b[0m\u001b[0;34m\u001b[0m\u001b[0;34m\u001b[0m\u001b[0m\n\u001b[0m\u001b[1;32m    809\u001b[0m \u001b[0;34m\u001b[0m\u001b[0m\n\u001b[1;32m    810\u001b[0m         \u001b[0;32mif\u001b[0m \u001b[0mself\u001b[0m\u001b[0;34m.\u001b[0m\u001b[0mn_outputs_\u001b[0m \u001b[0;34m==\u001b[0m \u001b[0;36m1\u001b[0m\u001b[0;34m:\u001b[0m\u001b[0;34m\u001b[0m\u001b[0;34m\u001b[0m\u001b[0m\n",
            "\u001b[0;32m/usr/local/lib/python3.7/dist-packages/sklearn/ensemble/_forest.py\u001b[0m in \u001b[0;36mpredict_proba\u001b[0;34m(self, X)\u001b[0m\n\u001b[1;32m    856\u001b[0m         all_proba = [\n\u001b[1;32m    857\u001b[0m             \u001b[0mnp\u001b[0m\u001b[0;34m.\u001b[0m\u001b[0mzeros\u001b[0m\u001b[0;34m(\u001b[0m\u001b[0;34m(\u001b[0m\u001b[0mX\u001b[0m\u001b[0;34m.\u001b[0m\u001b[0mshape\u001b[0m\u001b[0;34m[\u001b[0m\u001b[0;36m0\u001b[0m\u001b[0;34m]\u001b[0m\u001b[0;34m,\u001b[0m \u001b[0mj\u001b[0m\u001b[0;34m)\u001b[0m\u001b[0;34m,\u001b[0m \u001b[0mdtype\u001b[0m\u001b[0;34m=\u001b[0m\u001b[0mnp\u001b[0m\u001b[0;34m.\u001b[0m\u001b[0mfloat64\u001b[0m\u001b[0;34m)\u001b[0m\u001b[0;34m\u001b[0m\u001b[0;34m\u001b[0m\u001b[0m\n\u001b[0;32m--> 858\u001b[0;31m             \u001b[0;32mfor\u001b[0m \u001b[0mj\u001b[0m \u001b[0;32min\u001b[0m \u001b[0mnp\u001b[0m\u001b[0;34m.\u001b[0m\u001b[0matleast_1d\u001b[0m\u001b[0;34m(\u001b[0m\u001b[0mself\u001b[0m\u001b[0;34m.\u001b[0m\u001b[0mn_classes_\u001b[0m\u001b[0;34m)\u001b[0m\u001b[0;34m\u001b[0m\u001b[0;34m\u001b[0m\u001b[0m\n\u001b[0m\u001b[1;32m    859\u001b[0m         ]\n\u001b[1;32m    860\u001b[0m         \u001b[0mlock\u001b[0m \u001b[0;34m=\u001b[0m \u001b[0mthreading\u001b[0m\u001b[0;34m.\u001b[0m\u001b[0mLock\u001b[0m\u001b[0;34m(\u001b[0m\u001b[0;34m)\u001b[0m\u001b[0;34m\u001b[0m\u001b[0;34m\u001b[0m\u001b[0m\n",
            "\u001b[0;31mAttributeError\u001b[0m: 'RandomForestClassifier' object has no attribute 'n_classes_'"
          ]
        }
      ],
      "source": [
        "df_bank_ready['deposit_prediction'] = rf.predict(feature)\n",
        "df_bank_ready['deposit_prediction'] = df_bank_ready['deposit_prediction'].apply(lambda x: 'yes' if x==0 else 'no')\n",
        "\n",
        "# Save new dataframe into csv file\n",
        "df_bank_ready.to_csv('deposit_prediction.csv', index=False)\n",
        "\n",
        "print(df_bank_ready.head(10))"
      ]
    },
    {
      "cell_type": "code",
      "execution_count": null,
      "metadata": {
        "colab": {
          "base_uri": "https://localhost:8080/"
        },
        "id": "zcQbY4H5NHpq",
        "outputId": "fbbcd36f-e67c-441f-8daf-6b7fc0a569f4"
      },
      "outputs": [
        {
          "data": {
            "text/plain": [
              "['bank_deposit_classification.joblib']"
            ]
          },
          "execution_count": 16,
          "metadata": {},
          "output_type": "execute_result"
        }
      ],
      "source": [
        "from joblib import dump, load\n",
        "\n",
        "# Saving model\n",
        "dump(rf, 'bank_deposit_classification.joblib')\n",
        "# Loading model\n",
        "# clf = load('bank_deposit_classification.joblib')"
      ]
    }
  ],
  "metadata": {
    "colab": {
      "collapsed_sections": [],
      "name": "apt_.ipynb",
      "provenance": []
    },
    "kernelspec": {
      "display_name": "Python 3",
      "name": "python3"
    },
    "language_info": {
      "codemirror_mode": {
        "name": "ipython",
        "version": 3
      },
      "file_extension": ".py",
      "mimetype": "text/x-python",
      "name": "python",
      "nbconvert_exporter": "python",
      "pygments_lexer": "ipython3",
      "version": "3.7.7"
    }
  },
  "nbformat": 4,
  "nbformat_minor": 0
}
