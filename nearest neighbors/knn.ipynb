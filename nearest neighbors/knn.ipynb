{
 "cells": [
  {
   "cell_type": "code",
   "execution_count": 3,
   "metadata": {},
   "outputs": [],
   "source": [
    "\n",
    "import pandas as pd\n",
    "import numpy as np\n",
    "import math\n",
    "import os\n",
    "import sys\n",
    "from tqdm import tqdm\n",
    "import warnings\n",
    "\n",
    "warnings.filterwarnings(\"ignore\")"
   ]
  },
  {
   "cell_type": "code",
   "execution_count": 4,
   "metadata": {},
   "outputs": [],
   "source": [
    "clear = lambda: os.system('cls' if os.name in ('nt', 'dos') else 'clear')\n",
    "def normalize_data(data_set):\n",
    "    \n",
    "    training_v_mean_df = pd.DataFrame()\n",
    "    training_mean_df = data_set[:-1].iloc[:, :-1].mean().to_frame().T\n",
    "    last_col = data_set[16].to_list()\n",
    "\n",
    "    for index, columns in (data_set.iloc[:,:-1].iteritems()):\n",
    "        clear()\n",
    "        print(\"CALCULATING V-MEAN VALUES.....\")\n",
    "        print(\"DIMENSION :\", index+1,\"\\n\")\n",
    "        temp_series = pd.Series([])\n",
    "        for i in tqdm(range(len(columns))):\n",
    "            temp_series = temp_series.append(columns[i]-training_mean_df[index], ignore_index = True)\n",
    "        training_v_mean_df[index] = temp_series\n",
    "\n",
    "    squared_v_mean_df = np.square(training_v_mean_df)\n",
    "    df_mean = squared_v_mean_df.mean().to_frame().T\n",
    "    std_df = np.sqrt(df_mean)\n",
    "    preprocessed_training_df =  training_v_mean_df.div(std_df.iloc[0],axis = 'columns')\n",
    "    preprocessed_training_df.insert(len(preprocessed_training_df.columns), len(preprocessed_training_df.columns), last_col)\n",
    "\n",
    "    return preprocessed_training_df"
   ]
  },
  {
   "cell_type": "code",
   "execution_count": 5,
   "metadata": {},
   "outputs": [],
   "source": [
    "\n",
    "class KNN():\n",
    "\n",
    "    def __init__(self, training, K):\n",
    "        self.training = training\n",
    "        self.K = K\n",
    "\n",
    "    def prediction_classification(self, test_row):\n",
    "        self.test_row = test_row\n",
    "\n",
    "        distances = list()\n",
    "        for i in self.training.values():\n",
    "            train_row = list()\n",
    "            for j in i.values():\n",
    "                train_row.append(j)\n",
    "            distance = math.dist(self.test_row[:-1], train_row[:-1])\n",
    "            distances.append((distance, train_row[-1]))\n",
    "        distances = sorted(distances)\n",
    "        self.neighbors = [distances[i][1] for i in range(self.K)]\n",
    "        prediction = max(set(self.neighbors), key=self.neighbors.count)\n",
    "        self.prediction = prediction\n",
    "        if hasattr(self, \"prediction\"):\n",
    "            return self.prediction\n",
    "    \n",
    "    def accuracy_finder(self):\n",
    "        \n",
    "        accuracy_dict = {i:self.neighbors.count(i) for i in self.neighbors}\n",
    "        temp = []\n",
    "        for label, count in accuracy_dict.items():\n",
    "            if count == max(accuracy_dict.values()):\n",
    "                temp.append(label)\n",
    "        \n",
    "        if self.prediction == self.test_row[16]:\n",
    "            if len(temp) > 1:\n",
    "                accuracy = 1/len(temp)\n",
    "            else:\n",
    "                accuracy = 1\n",
    "        else:\n",
    "            accuracy = 0\n",
    "        \n",
    "        return accuracy\n"
   ]
  },
  {
   "cell_type": "code",
   "execution_count": 8,
   "metadata": {},
   "outputs": [],
   "source": [
    "training_df = pd.read_fwf(\"pendigits_training.txt\", header= None)\n",
    "testing_df = pd.read_fwf(\"pendigits_test.txt\", header = None)"
   ]
  },
  {
   "cell_type": "code",
   "execution_count": 15,
   "metadata": {},
   "outputs": [
    {
     "data": {
      "text/plain": [
       "'--Session.signature_scheme=\"hmac-sha256\"'"
      ]
     },
     "execution_count": 15,
     "metadata": {},
     "output_type": "execute_result"
    }
   ],
   "source": [
    "sys.argv[5]"
   ]
  },
  {
   "cell_type": "code",
   "execution_count": 16,
   "metadata": {},
   "outputs": [
    {
     "name": "stdout",
     "output_type": "stream",
     "text": [
      "\u001b[H\u001b[2JCALCULATING V-MEAN VALUES.....\n",
      "DIMENSION : 1 \n",
      "\n"
     ]
    },
    {
     "name": "stderr",
     "output_type": "stream",
     "text": [
      "100%|██████████| 7494/7494 [00:03<00:00, 2468.17it/s]\n"
     ]
    },
    {
     "name": "stdout",
     "output_type": "stream",
     "text": [
      "\u001b[H\u001b[2JCALCULATING V-MEAN VALUES.....\n",
      "DIMENSION : 2 \n",
      "\n"
     ]
    },
    {
     "name": "stderr",
     "output_type": "stream",
     "text": [
      "100%|██████████| 7494/7494 [00:03<00:00, 2290.71it/s]\n"
     ]
    },
    {
     "name": "stdout",
     "output_type": "stream",
     "text": [
      "\u001b[H\u001b[2JCALCULATING V-MEAN VALUES.....\n",
      "DIMENSION : 3 \n",
      "\n"
     ]
    },
    {
     "name": "stderr",
     "output_type": "stream",
     "text": [
      "100%|██████████| 7494/7494 [00:02<00:00, 2641.05it/s]\n"
     ]
    },
    {
     "name": "stdout",
     "output_type": "stream",
     "text": [
      "\u001b[H\u001b[2JCALCULATING V-MEAN VALUES.....\n",
      "DIMENSION : 4 \n",
      "\n"
     ]
    },
    {
     "name": "stderr",
     "output_type": "stream",
     "text": [
      "100%|██████████| 7494/7494 [00:04<00:00, 1662.54it/s]\n"
     ]
    },
    {
     "name": "stdout",
     "output_type": "stream",
     "text": [
      "\u001b[H\u001b[2JCALCULATING V-MEAN VALUES.....\n",
      "DIMENSION : 5 \n",
      "\n"
     ]
    },
    {
     "name": "stderr",
     "output_type": "stream",
     "text": [
      "100%|██████████| 7494/7494 [00:02<00:00, 3136.81it/s]\n"
     ]
    },
    {
     "name": "stdout",
     "output_type": "stream",
     "text": [
      "\u001b[H\u001b[2JCALCULATING V-MEAN VALUES.....\n",
      "DIMENSION : 6 \n",
      "\n"
     ]
    },
    {
     "name": "stderr",
     "output_type": "stream",
     "text": [
      "100%|██████████| 7494/7494 [00:02<00:00, 3130.50it/s]\n"
     ]
    },
    {
     "name": "stdout",
     "output_type": "stream",
     "text": [
      "\u001b[H\u001b[2JCALCULATING V-MEAN VALUES.....\n",
      "DIMENSION : 7 \n",
      "\n"
     ]
    },
    {
     "name": "stderr",
     "output_type": "stream",
     "text": [
      "100%|██████████| 7494/7494 [00:02<00:00, 2979.33it/s]\n"
     ]
    },
    {
     "name": "stdout",
     "output_type": "stream",
     "text": [
      "\u001b[H\u001b[2JCALCULATING V-MEAN VALUES.....\n",
      "DIMENSION : 8 \n",
      "\n"
     ]
    },
    {
     "name": "stderr",
     "output_type": "stream",
     "text": [
      "100%|██████████| 7494/7494 [00:03<00:00, 2057.32it/s]\n"
     ]
    },
    {
     "name": "stdout",
     "output_type": "stream",
     "text": [
      "\u001b[H\u001b[2JCALCULATING V-MEAN VALUES.....\n",
      "DIMENSION : 9 \n",
      "\n"
     ]
    },
    {
     "name": "stderr",
     "output_type": "stream",
     "text": [
      "100%|██████████| 7494/7494 [00:02<00:00, 2880.59it/s]\n"
     ]
    },
    {
     "name": "stdout",
     "output_type": "stream",
     "text": [
      "\u001b[H\u001b[2JCALCULATING V-MEAN VALUES.....\n",
      "DIMENSION : 10 \n",
      "\n"
     ]
    },
    {
     "name": "stderr",
     "output_type": "stream",
     "text": [
      "100%|██████████| 7494/7494 [00:02<00:00, 2751.86it/s]\n"
     ]
    },
    {
     "name": "stdout",
     "output_type": "stream",
     "text": [
      "\u001b[H\u001b[2JCALCULATING V-MEAN VALUES.....\n",
      "DIMENSION : 11 \n",
      "\n"
     ]
    },
    {
     "name": "stderr",
     "output_type": "stream",
     "text": [
      "100%|██████████| 7494/7494 [00:02<00:00, 2619.75it/s]\n"
     ]
    },
    {
     "name": "stdout",
     "output_type": "stream",
     "text": [
      "\u001b[H\u001b[2JCALCULATING V-MEAN VALUES.....\n",
      "DIMENSION : 12 \n",
      "\n"
     ]
    },
    {
     "name": "stderr",
     "output_type": "stream",
     "text": [
      "100%|██████████| 7494/7494 [00:02<00:00, 2525.57it/s]\n"
     ]
    },
    {
     "name": "stdout",
     "output_type": "stream",
     "text": [
      "\u001b[H\u001b[2JCALCULATING V-MEAN VALUES.....\n",
      "DIMENSION : 13 \n",
      "\n"
     ]
    },
    {
     "name": "stderr",
     "output_type": "stream",
     "text": [
      "100%|██████████| 7494/7494 [00:02<00:00, 2655.93it/s]\n"
     ]
    },
    {
     "name": "stdout",
     "output_type": "stream",
     "text": [
      "\u001b[H\u001b[2JCALCULATING V-MEAN VALUES.....\n",
      "DIMENSION : 14 \n",
      "\n"
     ]
    },
    {
     "name": "stderr",
     "output_type": "stream",
     "text": [
      "100%|██████████| 7494/7494 [00:02<00:00, 2765.40it/s]\n"
     ]
    },
    {
     "name": "stdout",
     "output_type": "stream",
     "text": [
      "\u001b[H\u001b[2JCALCULATING V-MEAN VALUES.....\n",
      "DIMENSION : 15 \n",
      "\n"
     ]
    },
    {
     "name": "stderr",
     "output_type": "stream",
     "text": [
      "100%|██████████| 7494/7494 [00:02<00:00, 2836.36it/s]\n"
     ]
    },
    {
     "name": "stdout",
     "output_type": "stream",
     "text": [
      "\u001b[H\u001b[2JCALCULATING V-MEAN VALUES.....\n",
      "DIMENSION : 16 \n",
      "\n"
     ]
    },
    {
     "name": "stderr",
     "output_type": "stream",
     "text": [
      "100%|██████████| 7494/7494 [00:02<00:00, 2815.75it/s]\n"
     ]
    },
    {
     "name": "stdout",
     "output_type": "stream",
     "text": [
      "\u001b[H\u001b[2JCALCULATING V-MEAN VALUES.....\n",
      "DIMENSION : 1 \n",
      "\n"
     ]
    },
    {
     "name": "stderr",
     "output_type": "stream",
     "text": [
      "100%|██████████| 3498/3498 [00:01<00:00, 2806.64it/s]\n"
     ]
    },
    {
     "name": "stdout",
     "output_type": "stream",
     "text": [
      "\u001b[H\u001b[2JCALCULATING V-MEAN VALUES.....\n",
      "DIMENSION : 2 \n",
      "\n"
     ]
    },
    {
     "name": "stderr",
     "output_type": "stream",
     "text": [
      "100%|██████████| 3498/3498 [00:01<00:00, 2768.52it/s]\n"
     ]
    },
    {
     "name": "stdout",
     "output_type": "stream",
     "text": [
      "\u001b[H\u001b[2JCALCULATING V-MEAN VALUES.....\n",
      "DIMENSION : 3 \n",
      "\n"
     ]
    },
    {
     "name": "stderr",
     "output_type": "stream",
     "text": [
      "100%|██████████| 3498/3498 [00:01<00:00, 2664.72it/s]\n"
     ]
    },
    {
     "name": "stdout",
     "output_type": "stream",
     "text": [
      "\u001b[H\u001b[2JCALCULATING V-MEAN VALUES.....\n",
      "DIMENSION : 4 \n",
      "\n"
     ]
    },
    {
     "name": "stderr",
     "output_type": "stream",
     "text": [
      "100%|██████████| 3498/3498 [00:01<00:00, 2786.70it/s]\n"
     ]
    },
    {
     "name": "stdout",
     "output_type": "stream",
     "text": [
      "\u001b[H\u001b[2JCALCULATING V-MEAN VALUES.....\n",
      "DIMENSION : 5 \n",
      "\n"
     ]
    },
    {
     "name": "stderr",
     "output_type": "stream",
     "text": [
      "100%|██████████| 3498/3498 [00:01<00:00, 2948.09it/s]\n"
     ]
    },
    {
     "name": "stdout",
     "output_type": "stream",
     "text": [
      "\u001b[H\u001b[2JCALCULATING V-MEAN VALUES.....\n",
      "DIMENSION : 6 \n",
      "\n"
     ]
    },
    {
     "name": "stderr",
     "output_type": "stream",
     "text": [
      "100%|██████████| 3498/3498 [00:01<00:00, 2899.29it/s]\n"
     ]
    },
    {
     "name": "stdout",
     "output_type": "stream",
     "text": [
      "\u001b[H\u001b[2JCALCULATING V-MEAN VALUES.....\n",
      "DIMENSION : 7 \n",
      "\n"
     ]
    },
    {
     "name": "stderr",
     "output_type": "stream",
     "text": [
      "100%|██████████| 3498/3498 [00:01<00:00, 2843.91it/s]\n"
     ]
    },
    {
     "name": "stdout",
     "output_type": "stream",
     "text": [
      "\u001b[H\u001b[2JCALCULATING V-MEAN VALUES.....\n",
      "DIMENSION : 8 \n",
      "\n"
     ]
    },
    {
     "name": "stderr",
     "output_type": "stream",
     "text": [
      "100%|██████████| 3498/3498 [00:01<00:00, 2879.38it/s]\n"
     ]
    },
    {
     "name": "stdout",
     "output_type": "stream",
     "text": [
      "\u001b[H\u001b[2JCALCULATING V-MEAN VALUES.....\n",
      "DIMENSION : 9 \n",
      "\n"
     ]
    },
    {
     "name": "stderr",
     "output_type": "stream",
     "text": [
      "100%|██████████| 3498/3498 [00:01<00:00, 2813.75it/s]\n"
     ]
    },
    {
     "name": "stdout",
     "output_type": "stream",
     "text": [
      "\u001b[H\u001b[2JCALCULATING V-MEAN VALUES.....\n",
      "DIMENSION : 10 \n",
      "\n"
     ]
    },
    {
     "name": "stderr",
     "output_type": "stream",
     "text": [
      "100%|██████████| 3498/3498 [00:01<00:00, 2864.86it/s]\n"
     ]
    },
    {
     "name": "stdout",
     "output_type": "stream",
     "text": [
      "\u001b[H\u001b[2JCALCULATING V-MEAN VALUES.....\n",
      "DIMENSION : 11 \n",
      "\n"
     ]
    },
    {
     "name": "stderr",
     "output_type": "stream",
     "text": [
      "100%|██████████| 3498/3498 [00:01<00:00, 2767.47it/s]\n"
     ]
    },
    {
     "name": "stdout",
     "output_type": "stream",
     "text": [
      "\u001b[H\u001b[2JCALCULATING V-MEAN VALUES.....\n",
      "DIMENSION : 12 \n",
      "\n"
     ]
    },
    {
     "name": "stderr",
     "output_type": "stream",
     "text": [
      "100%|██████████| 3498/3498 [00:01<00:00, 2698.96it/s]\n"
     ]
    },
    {
     "name": "stdout",
     "output_type": "stream",
     "text": [
      "\u001b[H\u001b[2JCALCULATING V-MEAN VALUES.....\n",
      "DIMENSION : 13 \n",
      "\n"
     ]
    },
    {
     "name": "stderr",
     "output_type": "stream",
     "text": [
      "100%|██████████| 3498/3498 [00:01<00:00, 2842.47it/s]\n"
     ]
    },
    {
     "name": "stdout",
     "output_type": "stream",
     "text": [
      "\u001b[H\u001b[2JCALCULATING V-MEAN VALUES.....\n",
      "DIMENSION : 14 \n",
      "\n"
     ]
    },
    {
     "name": "stderr",
     "output_type": "stream",
     "text": [
      "100%|██████████| 3498/3498 [00:01<00:00, 2537.75it/s]\n"
     ]
    },
    {
     "name": "stdout",
     "output_type": "stream",
     "text": [
      "\u001b[H\u001b[2JCALCULATING V-MEAN VALUES.....\n",
      "DIMENSION : 15 \n",
      "\n"
     ]
    },
    {
     "name": "stderr",
     "output_type": "stream",
     "text": [
      "100%|██████████| 3498/3498 [00:01<00:00, 2931.52it/s]\n"
     ]
    },
    {
     "name": "stdout",
     "output_type": "stream",
     "text": [
      "\u001b[H\u001b[2JCALCULATING V-MEAN VALUES.....\n",
      "DIMENSION : 16 \n",
      "\n"
     ]
    },
    {
     "name": "stderr",
     "output_type": "stream",
     "text": [
      "100%|██████████| 3498/3498 [00:01<00:00, 2872.13it/s]\n"
     ]
    },
    {
     "name": "stdout",
     "output_type": "stream",
     "text": [
      "\u001b[H\u001b[2J"
     ]
    },
    {
     "ename": "AttributeError",
     "evalue": "module 'math' has no attribute 'dist'",
     "output_type": "error",
     "traceback": [
      "\u001b[0;31m---------------------------------------------------------------------------\u001b[0m",
      "\u001b[0;31mAttributeError\u001b[0m                            Traceback (most recent call last)",
      "\u001b[0;32m/var/folders/dk/9q84mn0j1nzfg85t9zx5d1480000gn/T/ipykernel_16273/1428542484.py\u001b[0m in \u001b[0;36m<module>\u001b[0;34m\u001b[0m\n\u001b[1;32m     28\u001b[0m \u001b[0;34m\u001b[0m\u001b[0m\n\u001b[1;32m     29\u001b[0m \u001b[0;32mif\u001b[0m \u001b[0m__name__\u001b[0m \u001b[0;34m==\u001b[0m \u001b[0;34m\"__main__\"\u001b[0m\u001b[0;34m:\u001b[0m\u001b[0;34m\u001b[0m\u001b[0;34m\u001b[0m\u001b[0m\n\u001b[0;32m---> 30\u001b[0;31m     \u001b[0mmain\u001b[0m\u001b[0;34m(\u001b[0m\u001b[0;34m)\u001b[0m\u001b[0;34m\u001b[0m\u001b[0;34m\u001b[0m\u001b[0m\n\u001b[0m",
      "\u001b[0;32m/var/folders/dk/9q84mn0j1nzfg85t9zx5d1480000gn/T/ipykernel_16273/1428542484.py\u001b[0m in \u001b[0;36mmain\u001b[0;34m()\u001b[0m\n\u001b[1;32m     19\u001b[0m         \u001b[0;32mfor\u001b[0m \u001b[0mj\u001b[0m \u001b[0;32min\u001b[0m \u001b[0mvalue\u001b[0m\u001b[0;34m.\u001b[0m\u001b[0mvalues\u001b[0m\u001b[0;34m(\u001b[0m\u001b[0;34m)\u001b[0m\u001b[0;34m:\u001b[0m\u001b[0;34m\u001b[0m\u001b[0;34m\u001b[0m\u001b[0m\n\u001b[1;32m     20\u001b[0m             \u001b[0mtest_row\u001b[0m\u001b[0;34m.\u001b[0m\u001b[0mappend\u001b[0m\u001b[0;34m(\u001b[0m\u001b[0mj\u001b[0m\u001b[0;34m)\u001b[0m\u001b[0;34m\u001b[0m\u001b[0;34m\u001b[0m\u001b[0m\n\u001b[0;32m---> 21\u001b[0;31m         \u001b[0mprediction\u001b[0m \u001b[0;34m=\u001b[0m \u001b[0mKNN_model\u001b[0m\u001b[0;34m.\u001b[0m\u001b[0mprediction_classification\u001b[0m\u001b[0;34m(\u001b[0m\u001b[0mtest_row\u001b[0m\u001b[0;34m)\u001b[0m\u001b[0;34m\u001b[0m\u001b[0;34m\u001b[0m\u001b[0m\n\u001b[0m\u001b[1;32m     22\u001b[0m         \u001b[0mAccuracy\u001b[0m \u001b[0;34m=\u001b[0m \u001b[0mKNN_model\u001b[0m\u001b[0;34m.\u001b[0m\u001b[0maccuracy_finder\u001b[0m\u001b[0;34m(\u001b[0m\u001b[0;34m)\u001b[0m\u001b[0;34m\u001b[0m\u001b[0;34m\u001b[0m\u001b[0m\n\u001b[1;32m     23\u001b[0m         \u001b[0mAccuracy_sum\u001b[0m \u001b[0;34m+=\u001b[0m \u001b[0mAccuracy\u001b[0m\u001b[0;34m*\u001b[0m\u001b[0;36m100\u001b[0m\u001b[0;34m\u001b[0m\u001b[0;34m\u001b[0m\u001b[0m\n",
      "\u001b[0;32m/var/folders/dk/9q84mn0j1nzfg85t9zx5d1480000gn/T/ipykernel_16273/133612870.py\u001b[0m in \u001b[0;36mprediction_classification\u001b[0;34m(self, test_row)\u001b[0m\n\u001b[1;32m     13\u001b[0m             \u001b[0;32mfor\u001b[0m \u001b[0mj\u001b[0m \u001b[0;32min\u001b[0m \u001b[0mi\u001b[0m\u001b[0;34m.\u001b[0m\u001b[0mvalues\u001b[0m\u001b[0;34m(\u001b[0m\u001b[0;34m)\u001b[0m\u001b[0;34m:\u001b[0m\u001b[0;34m\u001b[0m\u001b[0;34m\u001b[0m\u001b[0m\n\u001b[1;32m     14\u001b[0m                 \u001b[0mtrain_row\u001b[0m\u001b[0;34m.\u001b[0m\u001b[0mappend\u001b[0m\u001b[0;34m(\u001b[0m\u001b[0mj\u001b[0m\u001b[0;34m)\u001b[0m\u001b[0;34m\u001b[0m\u001b[0;34m\u001b[0m\u001b[0m\n\u001b[0;32m---> 15\u001b[0;31m             \u001b[0mdistance\u001b[0m \u001b[0;34m=\u001b[0m \u001b[0mmath\u001b[0m\u001b[0;34m.\u001b[0m\u001b[0mdist\u001b[0m\u001b[0;34m(\u001b[0m\u001b[0mself\u001b[0m\u001b[0;34m.\u001b[0m\u001b[0mtest_row\u001b[0m\u001b[0;34m[\u001b[0m\u001b[0;34m:\u001b[0m\u001b[0;34m-\u001b[0m\u001b[0;36m1\u001b[0m\u001b[0;34m]\u001b[0m\u001b[0;34m,\u001b[0m \u001b[0mtrain_row\u001b[0m\u001b[0;34m[\u001b[0m\u001b[0;34m:\u001b[0m\u001b[0;34m-\u001b[0m\u001b[0;36m1\u001b[0m\u001b[0;34m]\u001b[0m\u001b[0;34m)\u001b[0m\u001b[0;34m\u001b[0m\u001b[0;34m\u001b[0m\u001b[0m\n\u001b[0m\u001b[1;32m     16\u001b[0m             \u001b[0mdistances\u001b[0m\u001b[0;34m.\u001b[0m\u001b[0mappend\u001b[0m\u001b[0;34m(\u001b[0m\u001b[0;34m(\u001b[0m\u001b[0mdistance\u001b[0m\u001b[0;34m,\u001b[0m \u001b[0mtrain_row\u001b[0m\u001b[0;34m[\u001b[0m\u001b[0;34m-\u001b[0m\u001b[0;36m1\u001b[0m\u001b[0;34m]\u001b[0m\u001b[0;34m)\u001b[0m\u001b[0;34m)\u001b[0m\u001b[0;34m\u001b[0m\u001b[0;34m\u001b[0m\u001b[0m\n\u001b[1;32m     17\u001b[0m         \u001b[0mdistances\u001b[0m \u001b[0;34m=\u001b[0m \u001b[0msorted\u001b[0m\u001b[0;34m(\u001b[0m\u001b[0mdistances\u001b[0m\u001b[0;34m)\u001b[0m\u001b[0;34m\u001b[0m\u001b[0;34m\u001b[0m\u001b[0m\n",
      "\u001b[0;31mAttributeError\u001b[0m: module 'math' has no attribute 'dist'"
     ]
    }
   ],
   "source": [
    "def main():\n",
    "    current_directory = os.getcwd()\n",
    "    \n",
    "    training_df = pd.read_fwf(\"pendigits_training.txt\", header= None)\n",
    "    testing_df = pd.read_fwf(\"pendigits_test.txt\", header = None)\n",
    " \n",
    "    Normalized_training_df = normalize_data(training_df)\n",
    "    Normalized_testing_df = normalize_data(testing_df)\n",
    "    Accuracy_sum = 0.0\n",
    "\n",
    "    training_dict = Normalized_training_df.T.to_dict()\n",
    "    testing_dict = Normalized_testing_df.T.to_dict()\n",
    "\n",
    "    KNN_model = KNN(training_dict, 3)    \n",
    "\n",
    "    clear()\n",
    "    for index, value in (testing_dict.items()):\n",
    "        test_row = list()\n",
    "        for j in value.values():\n",
    "            test_row.append(j)\n",
    "        prediction = KNN_model.prediction_classification(test_row)\n",
    "        Accuracy = KNN_model.accuracy_finder()\n",
    "        Accuracy_sum += Accuracy*100\n",
    "        print(\"ID=\", index, \"   \\tPredicted=\", int(prediction), \"   \\tTrue=\", int(test_row[16]))\n",
    "    final_accuracy = Accuracy_sum/len(testing_dict.values())\n",
    "\n",
    "    print(\"\\n\\nClassification Accuracy=\", float(\"{0:.4f}\".format(final_accuracy)))\n",
    "\n",
    "if __name__ == \"__main__\":\n",
    "    main()"
   ]
  }
 ],
 "metadata": {
  "kernelspec": {
   "display_name": "Python 3.10.7 64-bit",
   "language": "python",
   "name": "python3"
  },
  "language_info": {
   "codemirror_mode": {
    "name": "ipython",
    "version": 3
   },
   "file_extension": ".py",
   "mimetype": "text/x-python",
   "name": "python",
   "nbconvert_exporter": "python",
   "pygments_lexer": "ipython3",
   "version": "3.10.7 (main, Sep 15 2022, 01:51:29) [Clang 14.0.0 (clang-1400.0.29.102)]"
  },
  "orig_nbformat": 4,
  "vscode": {
   "interpreter": {
    "hash": "aee8b7b246df8f9039afb4144a1f6fd8d2ca17a180786b69acc140d282b71a49"
   }
  }
 },
 "nbformat": 4,
 "nbformat_minor": 2
}
