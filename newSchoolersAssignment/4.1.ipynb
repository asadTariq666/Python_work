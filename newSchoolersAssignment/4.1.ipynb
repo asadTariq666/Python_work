{
 "cells": [
  {
   "cell_type": "code",
   "execution_count": 1,
   "metadata": {},
   "outputs": [],
   "source": [
    "import pandas as pd\n",
    "import matplotlib.pyplot as plt\n",
    "from sklearn.preprocessing import Normalizer\n",
    "from sklearn.cluster import KMeans\n"
   ]
  },
  {
   "cell_type": "code",
   "execution_count": 2,
   "metadata": {},
   "outputs": [
    {
     "name": "stdout",
     "output_type": "stream",
     "text": [
      "          Store  Sales Turnover  Store Size  Staff Size  Profit Margin\n",
      "0      New York             5.1         3.5         1.4            0.2\n",
      "1   Los Angeles             4.9         3.0         1.4            0.2\n",
      "2       Chicago             4.7         3.2         1.3            0.2\n",
      "3       Houston             4.6         3.1         1.5            0.2\n",
      "4  Philadelphia             5.0         3.6         1.4            0.2\n",
      "Store             0\n",
      "Sales Turnover    0\n",
      "Store Size        0\n",
      "Staff Size        0\n",
      "Profit Margin     0\n",
      "dtype: int64\n"
     ]
    }
   ],
   "source": [
    "# Reading csv file in to a dataframe\n",
    "df = pd.read_csv(\"Stores.csv\")\n",
    "print(df.head())\n",
    "print(df.isnull().sum()) \n",
    "# No null values, no need for data wrangling for null values"
   ]
  },
  {
   "cell_type": "code",
   "execution_count": 4,
   "metadata": {},
   "outputs": [
    {
     "data": {
      "text/html": [
       "<div>\n",
       "<style scoped>\n",
       "    .dataframe tbody tr th:only-of-type {\n",
       "        vertical-align: middle;\n",
       "    }\n",
       "\n",
       "    .dataframe tbody tr th {\n",
       "        vertical-align: top;\n",
       "    }\n",
       "\n",
       "    .dataframe thead th {\n",
       "        text-align: right;\n",
       "    }\n",
       "</style>\n",
       "<table border=\"1\" class=\"dataframe\">\n",
       "  <thead>\n",
       "    <tr style=\"text-align: right;\">\n",
       "      <th></th>\n",
       "      <th>Sales Turnover</th>\n",
       "      <th>Store Size</th>\n",
       "      <th>Staff Size</th>\n",
       "      <th>Profit Margin</th>\n",
       "    </tr>\n",
       "  </thead>\n",
       "  <tbody>\n",
       "    <tr>\n",
       "      <th>0</th>\n",
       "      <td>5.1</td>\n",
       "      <td>3.5</td>\n",
       "      <td>1.4</td>\n",
       "      <td>0.2</td>\n",
       "    </tr>\n",
       "    <tr>\n",
       "      <th>1</th>\n",
       "      <td>4.9</td>\n",
       "      <td>3.0</td>\n",
       "      <td>1.4</td>\n",
       "      <td>0.2</td>\n",
       "    </tr>\n",
       "    <tr>\n",
       "      <th>2</th>\n",
       "      <td>4.7</td>\n",
       "      <td>3.2</td>\n",
       "      <td>1.3</td>\n",
       "      <td>0.2</td>\n",
       "    </tr>\n",
       "    <tr>\n",
       "      <th>3</th>\n",
       "      <td>4.6</td>\n",
       "      <td>3.1</td>\n",
       "      <td>1.5</td>\n",
       "      <td>0.2</td>\n",
       "    </tr>\n",
       "    <tr>\n",
       "      <th>4</th>\n",
       "      <td>5.0</td>\n",
       "      <td>3.6</td>\n",
       "      <td>1.4</td>\n",
       "      <td>0.2</td>\n",
       "    </tr>\n",
       "    <tr>\n",
       "      <th>...</th>\n",
       "      <td>...</td>\n",
       "      <td>...</td>\n",
       "      <td>...</td>\n",
       "      <td>...</td>\n",
       "    </tr>\n",
       "    <tr>\n",
       "      <th>145</th>\n",
       "      <td>6.7</td>\n",
       "      <td>3.0</td>\n",
       "      <td>5.2</td>\n",
       "      <td>2.3</td>\n",
       "    </tr>\n",
       "    <tr>\n",
       "      <th>146</th>\n",
       "      <td>6.3</td>\n",
       "      <td>2.5</td>\n",
       "      <td>5.0</td>\n",
       "      <td>1.9</td>\n",
       "    </tr>\n",
       "    <tr>\n",
       "      <th>147</th>\n",
       "      <td>6.5</td>\n",
       "      <td>3.0</td>\n",
       "      <td>5.2</td>\n",
       "      <td>2.0</td>\n",
       "    </tr>\n",
       "    <tr>\n",
       "      <th>148</th>\n",
       "      <td>6.2</td>\n",
       "      <td>3.4</td>\n",
       "      <td>5.4</td>\n",
       "      <td>2.3</td>\n",
       "    </tr>\n",
       "    <tr>\n",
       "      <th>149</th>\n",
       "      <td>5.9</td>\n",
       "      <td>3.0</td>\n",
       "      <td>5.1</td>\n",
       "      <td>1.8</td>\n",
       "    </tr>\n",
       "  </tbody>\n",
       "</table>\n",
       "<p>150 rows × 4 columns</p>\n",
       "</div>"
      ],
      "text/plain": [
       "     Sales Turnover  Store Size  Staff Size  Profit Margin\n",
       "0               5.1         3.5         1.4            0.2\n",
       "1               4.9         3.0         1.4            0.2\n",
       "2               4.7         3.2         1.3            0.2\n",
       "3               4.6         3.1         1.5            0.2\n",
       "4               5.0         3.6         1.4            0.2\n",
       "..              ...         ...         ...            ...\n",
       "145             6.7         3.0         5.2            2.3\n",
       "146             6.3         2.5         5.0            1.9\n",
       "147             6.5         3.0         5.2            2.0\n",
       "148             6.2         3.4         5.4            2.3\n",
       "149             5.9         3.0         5.1            1.8\n",
       "\n",
       "[150 rows x 4 columns]"
      ]
     },
     "execution_count": 4,
     "metadata": {},
     "output_type": "execute_result"
    }
   ],
   "source": [
    "# extracting descriptive features\n",
    "df_desc  = df.iloc[:,1:]\n",
    "print(df_desc)"
   ]
  },
  {
   "cell_type": "code",
   "execution_count": 5,
   "metadata": {},
   "outputs": [
    {
     "data": {
      "text/html": [
       "<div>\n",
       "<style scoped>\n",
       "    .dataframe tbody tr th:only-of-type {\n",
       "        vertical-align: middle;\n",
       "    }\n",
       "\n",
       "    .dataframe tbody tr th {\n",
       "        vertical-align: top;\n",
       "    }\n",
       "\n",
       "    .dataframe thead th {\n",
       "        text-align: right;\n",
       "    }\n",
       "</style>\n",
       "<table border=\"1\" class=\"dataframe\">\n",
       "  <thead>\n",
       "    <tr style=\"text-align: right;\">\n",
       "      <th></th>\n",
       "      <th>Sales Turnover</th>\n",
       "      <th>Store Size</th>\n",
       "      <th>Staff Size</th>\n",
       "      <th>Profit Margin</th>\n",
       "    </tr>\n",
       "  </thead>\n",
       "  <tbody>\n",
       "    <tr>\n",
       "      <th>0</th>\n",
       "      <td>0.803773</td>\n",
       "      <td>0.551609</td>\n",
       "      <td>0.220644</td>\n",
       "      <td>0.031521</td>\n",
       "    </tr>\n",
       "    <tr>\n",
       "      <th>1</th>\n",
       "      <td>0.828133</td>\n",
       "      <td>0.507020</td>\n",
       "      <td>0.236609</td>\n",
       "      <td>0.033801</td>\n",
       "    </tr>\n",
       "    <tr>\n",
       "      <th>2</th>\n",
       "      <td>0.805333</td>\n",
       "      <td>0.548312</td>\n",
       "      <td>0.222752</td>\n",
       "      <td>0.034269</td>\n",
       "    </tr>\n",
       "    <tr>\n",
       "      <th>3</th>\n",
       "      <td>0.800030</td>\n",
       "      <td>0.539151</td>\n",
       "      <td>0.260879</td>\n",
       "      <td>0.034784</td>\n",
       "    </tr>\n",
       "    <tr>\n",
       "      <th>4</th>\n",
       "      <td>0.790965</td>\n",
       "      <td>0.569495</td>\n",
       "      <td>0.221470</td>\n",
       "      <td>0.031639</td>\n",
       "    </tr>\n",
       "    <tr>\n",
       "      <th>...</th>\n",
       "      <td>...</td>\n",
       "      <td>...</td>\n",
       "      <td>...</td>\n",
       "      <td>...</td>\n",
       "    </tr>\n",
       "    <tr>\n",
       "      <th>145</th>\n",
       "      <td>0.721557</td>\n",
       "      <td>0.323085</td>\n",
       "      <td>0.560015</td>\n",
       "      <td>0.247699</td>\n",
       "    </tr>\n",
       "    <tr>\n",
       "      <th>146</th>\n",
       "      <td>0.729654</td>\n",
       "      <td>0.289545</td>\n",
       "      <td>0.579090</td>\n",
       "      <td>0.220054</td>\n",
       "    </tr>\n",
       "    <tr>\n",
       "      <th>147</th>\n",
       "      <td>0.716539</td>\n",
       "      <td>0.330710</td>\n",
       "      <td>0.573231</td>\n",
       "      <td>0.220474</td>\n",
       "    </tr>\n",
       "    <tr>\n",
       "      <th>148</th>\n",
       "      <td>0.674671</td>\n",
       "      <td>0.369981</td>\n",
       "      <td>0.587616</td>\n",
       "      <td>0.250281</td>\n",
       "    </tr>\n",
       "    <tr>\n",
       "      <th>149</th>\n",
       "      <td>0.690259</td>\n",
       "      <td>0.350979</td>\n",
       "      <td>0.596665</td>\n",
       "      <td>0.210588</td>\n",
       "    </tr>\n",
       "  </tbody>\n",
       "</table>\n",
       "<p>150 rows × 4 columns</p>\n",
       "</div>"
      ],
      "text/plain": [
       "     Sales Turnover  Store Size  Staff Size  Profit Margin\n",
       "0          0.803773    0.551609    0.220644       0.031521\n",
       "1          0.828133    0.507020    0.236609       0.033801\n",
       "2          0.805333    0.548312    0.222752       0.034269\n",
       "3          0.800030    0.539151    0.260879       0.034784\n",
       "4          0.790965    0.569495    0.221470       0.031639\n",
       "..              ...         ...         ...            ...\n",
       "145        0.721557    0.323085    0.560015       0.247699\n",
       "146        0.729654    0.289545    0.579090       0.220054\n",
       "147        0.716539    0.330710    0.573231       0.220474\n",
       "148        0.674671    0.369981    0.587616       0.250281\n",
       "149        0.690259    0.350979    0.596665       0.210588\n",
       "\n",
       "[150 rows x 4 columns]"
      ]
     },
     "execution_count": 5,
     "metadata": {},
     "output_type": "execute_result"
    }
   ],
   "source": [
    "#Normalization\n",
    "norm = Normalizer()\n",
    "df_ft = pd.DataFrame(norm.fit_transform(df_desc), columns=df_desc.columns)\n",
    "df_ft"
   ]
  },
  {
   "cell_type": "code",
   "execution_count": 8,
   "metadata": {},
   "outputs": [
    {
     "data": {
      "text/plain": [
       "Text(0.5, 1.0, 'inertia with respect to k')"
      ]
     },
     "execution_count": 8,
     "metadata": {},
     "output_type": "execute_result"
    },
    {
     "data": {
      "image/png": "[encoded data removed]",
      "text/plain": [
       "<Figure size 432x288 with 1 Axes>"
      ]
     },
     "metadata": {
      "needs_background": "light"
     },
     "output_type": "display_data"
    }
   ],
   "source": [
    "# Plotting inertia vs k\n",
    "ks = range(1, 10)\n",
    "inertias = []\n",
    "\n",
    "for k in ks:\n",
    "    model_kmeans = KMeans(n_clusters=k, random_state=2021)\n",
    "    model_kmeans.fit(df_ft)\n",
    "    inertias.append(model_kmeans.inertia_)\n",
    "\n",
    "plt.plot(ks, inertias, marker='o')\n",
    "plt.xlabel('k')\n",
    "plt.ylabel('inertia')\n",
    "plt.title('inertia with respect to k')"
   ]
  },
  {
   "cell_type": "code",
   "execution_count": 15,
   "metadata": {},
   "outputs": [
    {
     "name": "stdout",
     "output_type": "stream",
     "text": [
      "[0 0 0 0 0 0 0 0 0 0 0 0 0 0 0 0 0 0 0 0 0 0 0 0 0 0 0 0 0 0 0 0 0 0 0 0 0\n",
      " 0 0 0 0 0 0 0 0 0 0 0 0 0 1 1 1 1 1 1 1 1 1 1 1 1 1 1 1 1 2 1 1 1 2 1 2 1\n",
      " 1 1 1 1 1 1 1 1 1 2 2 1 1 1 1 1 1 1 1 1 1 1 1 1 1 1 2 2 2 2 2 2 2 2 2 2 2\n",
      " 2 2 2 2 2 2 2 2 2 2 2 2 2 2 2 2 2 2 2 2 2 2 2 2 2 2 2 2 2 2 2 2 2 2 2 2 2\n",
      " 2 2]\n",
      "          Store  Sales Turnover  Store Size  Staff Size  Profit Margin  \\\n",
      "0      New York             5.1         3.5         1.4            0.2   \n",
      "1   Los Angeles             4.9         3.0         1.4            0.2   \n",
      "2       Chicago             4.7         3.2         1.3            0.2   \n",
      "3       Houston             4.6         3.1         1.5            0.2   \n",
      "4  Philadelphia             5.0         3.6         1.4            0.2   \n",
      "\n",
      "   Cluster  \n",
      "0        0  \n",
      "1        0  \n",
      "2        0  \n",
      "3        0  \n",
      "4        0  \n"
     ]
    }
   ],
   "source": [
    "# optimal k is 3 as per the elbow method above.\n",
    "# Clustering with k=3\n",
    "\n",
    "model_kMeans = KMeans(n_clusters=3)\n",
    "\n",
    "model_kMeans.fit(df_ft)\n",
    "\n",
    "print(model_kMeans.labels_)\n",
    "\n",
    "# adding back to dataframe\n",
    "df['Cluster'] = model_kMeans.labels_\n",
    "\n",
    "print(df.head(5))\n"
   ]
  },
  {
   "cell_type": "code",
   "execution_count": 21,
   "metadata": {},
   "outputs": [
    {
     "data": {
      "text/plain": [
       "Text(0.5, 1.0, 'Cluster Histogram')"
      ]
     },
     "execution_count": 21,
     "metadata": {},
     "output_type": "execute_result"
    },
    {
     "data": {
      "image/png": "[encoded data removed]",
      "text/plain": [
       "<Figure size 432x288 with 1 Axes>"
      ]
     },
     "metadata": {
      "needs_background": "light"
     },
     "output_type": "display_data"
    }
   ],
   "source": [
    "# Histogram\n",
    "ax = plt\n",
    "ax.hist(df['Cluster'])\n",
    "ax.xlabel('Cluster label')\n",
    "ax.ylabel('count of observations')\n",
    "ax.title('Cluster Histogram')"
   ]
  },
  {
   "cell_type": "code",
   "execution_count": null,
   "metadata": {},
   "outputs": [],
   "source": [
    "import pandas as pd\n",
    "import matplotlib.pyplot as plt\n",
    "from sklearn.preprocessing import Normalizer\n",
    "from sklearn.cluster import KMeans\n",
    "\n",
    "# FIRST PART\n",
    "# CODE WILL NOT RUN. THIS IS JUST FOR REFERENCE\n",
    "\n",
    "def main():\n",
    "    # Reading csv file in to a dataframe\n",
    "    df = pd.read_csv(\"Stores.csv\")\n",
    "    print(df.head())\n",
    "    print(df.isnull().sum()) \n",
    "    # No null values, no need for data wrangling for null values\n",
    "\n",
    "    # extracting descriptive features\n",
    "    df_desc  = df.iloc[:,1:]\n",
    "    print(df_desc)\n",
    "\n",
    "    #Normalization\n",
    "    norm = Normalizer()\n",
    "    df_ft = pd.DataFrame(norm.fit_transform(df_desc), columns=df_desc.columns)\n",
    "    print(df_ft)\n",
    "    \n",
    "    # Plotting inertia vs k\n",
    "    ks = range(1, 10)\n",
    "    inertias = []\n",
    "\n",
    "    for k in ks:\n",
    "        model_kmeans = KMeans(n_clusters=k, random_state=2021)\n",
    "        model_kmeans.fit(df_ft)\n",
    "        inertias.append(model_kmeans.inertia_)\n",
    "\n",
    "    plt.plot(ks, inertias, marker='o')\n",
    "    plt.xlabel('k')\n",
    "    plt.ylabel('inertia')\n",
    "    plt.title('inertia with respect to k')\n",
    "\n",
    "    # Histogram\n",
    "    ax = plt\n",
    "    ax.hist(df['Cluster'])\n",
    "    ax.xlabel('Cluster label')\n",
    "    ax.ylabel('count of observations')\n",
    "    ax.title('Cluster Histogram')\n",
    "\n",
    "if __name__ == '__main__':\n",
    "    main()\n"
   ]
  }
 ],
 "metadata": {
  "interpreter": {
   "hash": "f293f16398db128e85df277de8eb5f9ab0a1b28857fa0f1c8543245825f1b931"
  },
  "kernelspec": {
   "display_name": "Python 3.7.7 ('pythonProject')",
   "language": "python",
   "name": "python3"
  },
  "language_info": {
   "codemirror_mode": {
    "name": "ipython",
    "version": 3
   },
   "file_extension": ".py",
   "mimetype": "text/x-python",
   "name": "python",
   "nbconvert_exporter": "python",
   "pygments_lexer": "ipython3",
   "version": "3.7.7"
  },
  "orig_nbformat": 4
 },
 "nbformat": 4,
 "nbformat_minor": 2
}
