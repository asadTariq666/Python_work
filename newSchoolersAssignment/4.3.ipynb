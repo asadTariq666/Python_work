{
 "cells": [
  {
   "cell_type": "code",
   "execution_count": 64,
   "metadata": {},
   "outputs": [],
   "source": [
    "import pandas as pd\n",
    "import matplotlib.pyplot as plt\n",
    "from sklearn.preprocessing import Normalizer\n",
    "from sklearn.preprocessing import StandardScaler\n",
    "import numpy as np\n",
    "# Importing Linear regression from sklearn \n",
    "from sklearn.linear_model import LinearRegression\n",
    "from sklearn.metrics import mean_squared_error, mean_absolute_error\n",
    "import warnings\n",
    "warnings.simplefilter(\"ignore\")"
   ]
  },
  {
   "cell_type": "code",
   "execution_count": 4,
   "metadata": {},
   "outputs": [
    {
     "name": "stdout",
     "output_type": "stream",
     "text": [
      "   Rank                      Name Platform    Year         Genre Publisher  \\\n",
      "0     1                Wii Sports      Wii  2006.0        Sports  Nintendo   \n",
      "1     2         Super Mario Bros.      NES  1985.0      Platform  Nintendo   \n",
      "2     3            Mario Kart Wii      Wii  2008.0        Racing  Nintendo   \n",
      "3     4         Wii Sports Resort      Wii  2009.0        Sports  Nintendo   \n",
      "4     5  Pokemon Red/Pokemon Blue       GB  1996.0  Role-Playing  Nintendo   \n",
      "\n",
      "   NA_Sales  EU_Sales  JP_Sales  Other_Sales  Global_Sales  \n",
      "0     41.49     29.02      3.77         8.46         82.74  \n",
      "1     29.08      3.58      6.81         0.77         40.24  \n",
      "2     15.85     12.88      3.79         3.31         35.82  \n",
      "3     15.75     11.01      3.28         2.96         33.00  \n",
      "4     11.27      8.89     10.22         1.00         31.37  \n",
      "(16598, 11)\n"
     ]
    }
   ],
   "source": [
    "# Reading csv file in to a dataframe\n",
    "games = pd.read_csv(\"vgsales.csv\")\n",
    "print(games.head())\n",
    "print(games.shape)"
   ]
  },
  {
   "cell_type": "code",
   "execution_count": 5,
   "metadata": {},
   "outputs": [
    {
     "data": {
      "text/html": [
       "<div>\n",
       "<style scoped>\n",
       "    .dataframe tbody tr th:only-of-type {\n",
       "        vertical-align: middle;\n",
       "    }\n",
       "\n",
       "    .dataframe tbody tr th {\n",
       "        vertical-align: top;\n",
       "    }\n",
       "\n",
       "    .dataframe thead th {\n",
       "        text-align: right;\n",
       "    }\n",
       "</style>\n",
       "<table border=\"1\" class=\"dataframe\">\n",
       "  <thead>\n",
       "    <tr style=\"text-align: right;\">\n",
       "      <th></th>\n",
       "      <th>Rank</th>\n",
       "      <th>Name</th>\n",
       "      <th>Platform</th>\n",
       "      <th>Year</th>\n",
       "      <th>Genre</th>\n",
       "      <th>Publisher</th>\n",
       "      <th>NA_Sales</th>\n",
       "      <th>EU_Sales</th>\n",
       "      <th>JP_Sales</th>\n",
       "      <th>Other_Sales</th>\n",
       "      <th>Global_Sales</th>\n",
       "    </tr>\n",
       "  </thead>\n",
       "  <tbody>\n",
       "    <tr>\n",
       "      <th>6896</th>\n",
       "      <td>6898</td>\n",
       "      <td>Checkers</td>\n",
       "      <td>2600</td>\n",
       "      <td>1980.0</td>\n",
       "      <td>Misc</td>\n",
       "      <td>Atari</td>\n",
       "      <td>0.22</td>\n",
       "      <td>0.01</td>\n",
       "      <td>0.0</td>\n",
       "      <td>0.00</td>\n",
       "      <td>0.24</td>\n",
       "    </tr>\n",
       "    <tr>\n",
       "      <th>2669</th>\n",
       "      <td>2671</td>\n",
       "      <td>Boxing</td>\n",
       "      <td>2600</td>\n",
       "      <td>1980.0</td>\n",
       "      <td>Fighting</td>\n",
       "      <td>Activision</td>\n",
       "      <td>0.72</td>\n",
       "      <td>0.04</td>\n",
       "      <td>0.0</td>\n",
       "      <td>0.01</td>\n",
       "      <td>0.77</td>\n",
       "    </tr>\n",
       "    <tr>\n",
       "      <th>5366</th>\n",
       "      <td>5368</td>\n",
       "      <td>Freeway</td>\n",
       "      <td>2600</td>\n",
       "      <td>1980.0</td>\n",
       "      <td>Action</td>\n",
       "      <td>Activision</td>\n",
       "      <td>0.32</td>\n",
       "      <td>0.02</td>\n",
       "      <td>0.0</td>\n",
       "      <td>0.00</td>\n",
       "      <td>0.34</td>\n",
       "    </tr>\n",
       "    <tr>\n",
       "      <th>1969</th>\n",
       "      <td>1971</td>\n",
       "      <td>Defender</td>\n",
       "      <td>2600</td>\n",
       "      <td>1980.0</td>\n",
       "      <td>Misc</td>\n",
       "      <td>Atari</td>\n",
       "      <td>0.99</td>\n",
       "      <td>0.05</td>\n",
       "      <td>0.0</td>\n",
       "      <td>0.01</td>\n",
       "      <td>1.05</td>\n",
       "    </tr>\n",
       "    <tr>\n",
       "      <th>1766</th>\n",
       "      <td>1768</td>\n",
       "      <td>Kaboom!</td>\n",
       "      <td>2600</td>\n",
       "      <td>1980.0</td>\n",
       "      <td>Misc</td>\n",
       "      <td>Activision</td>\n",
       "      <td>1.07</td>\n",
       "      <td>0.07</td>\n",
       "      <td>0.0</td>\n",
       "      <td>0.01</td>\n",
       "      <td>1.15</td>\n",
       "    </tr>\n",
       "    <tr>\n",
       "      <th>...</th>\n",
       "      <td>...</td>\n",
       "      <td>...</td>\n",
       "      <td>...</td>\n",
       "      <td>...</td>\n",
       "      <td>...</td>\n",
       "      <td>...</td>\n",
       "      <td>...</td>\n",
       "      <td>...</td>\n",
       "      <td>...</td>\n",
       "      <td>...</td>\n",
       "      <td>...</td>\n",
       "    </tr>\n",
       "    <tr>\n",
       "      <th>16307</th>\n",
       "      <td>16310</td>\n",
       "      <td>Freaky Flyers</td>\n",
       "      <td>GC</td>\n",
       "      <td>NaN</td>\n",
       "      <td>Racing</td>\n",
       "      <td>Unknown</td>\n",
       "      <td>0.01</td>\n",
       "      <td>0.00</td>\n",
       "      <td>0.0</td>\n",
       "      <td>0.00</td>\n",
       "      <td>0.01</td>\n",
       "    </tr>\n",
       "    <tr>\n",
       "      <th>16327</th>\n",
       "      <td>16330</td>\n",
       "      <td>Inversion</td>\n",
       "      <td>PC</td>\n",
       "      <td>NaN</td>\n",
       "      <td>Shooter</td>\n",
       "      <td>Namco Bandai Games</td>\n",
       "      <td>0.01</td>\n",
       "      <td>0.00</td>\n",
       "      <td>0.0</td>\n",
       "      <td>0.00</td>\n",
       "      <td>0.01</td>\n",
       "    </tr>\n",
       "    <tr>\n",
       "      <th>16366</th>\n",
       "      <td>16369</td>\n",
       "      <td>Hakuouki: Shinsengumi Kitan</td>\n",
       "      <td>PS3</td>\n",
       "      <td>NaN</td>\n",
       "      <td>Adventure</td>\n",
       "      <td>Unknown</td>\n",
       "      <td>0.01</td>\n",
       "      <td>0.00</td>\n",
       "      <td>0.0</td>\n",
       "      <td>0.00</td>\n",
       "      <td>0.01</td>\n",
       "    </tr>\n",
       "    <tr>\n",
       "      <th>16427</th>\n",
       "      <td>16430</td>\n",
       "      <td>Virtua Quest</td>\n",
       "      <td>GC</td>\n",
       "      <td>NaN</td>\n",
       "      <td>Role-Playing</td>\n",
       "      <td>Unknown</td>\n",
       "      <td>0.01</td>\n",
       "      <td>0.00</td>\n",
       "      <td>0.0</td>\n",
       "      <td>0.00</td>\n",
       "      <td>0.01</td>\n",
       "    </tr>\n",
       "    <tr>\n",
       "      <th>16493</th>\n",
       "      <td>16496</td>\n",
       "      <td>The Smurfs</td>\n",
       "      <td>3DS</td>\n",
       "      <td>NaN</td>\n",
       "      <td>Action</td>\n",
       "      <td>Unknown</td>\n",
       "      <td>0.00</td>\n",
       "      <td>0.01</td>\n",
       "      <td>0.0</td>\n",
       "      <td>0.00</td>\n",
       "      <td>0.01</td>\n",
       "    </tr>\n",
       "  </tbody>\n",
       "</table>\n",
       "<p>16598 rows × 11 columns</p>\n",
       "</div>"
      ],
      "text/plain": [
       "        Rank                         Name Platform    Year         Genre  \\\n",
       "6896    6898                     Checkers     2600  1980.0          Misc   \n",
       "2669    2671                       Boxing     2600  1980.0      Fighting   \n",
       "5366    5368                      Freeway     2600  1980.0        Action   \n",
       "1969    1971                     Defender     2600  1980.0          Misc   \n",
       "1766    1768                      Kaboom!     2600  1980.0          Misc   \n",
       "...      ...                          ...      ...     ...           ...   \n",
       "16307  16310                Freaky Flyers       GC     NaN        Racing   \n",
       "16327  16330                    Inversion       PC     NaN       Shooter   \n",
       "16366  16369  Hakuouki: Shinsengumi Kitan      PS3     NaN     Adventure   \n",
       "16427  16430                 Virtua Quest       GC     NaN  Role-Playing   \n",
       "16493  16496                   The Smurfs      3DS     NaN        Action   \n",
       "\n",
       "                Publisher  NA_Sales  EU_Sales  JP_Sales  Other_Sales  \\\n",
       "6896                Atari      0.22      0.01       0.0         0.00   \n",
       "2669           Activision      0.72      0.04       0.0         0.01   \n",
       "5366           Activision      0.32      0.02       0.0         0.00   \n",
       "1969                Atari      0.99      0.05       0.0         0.01   \n",
       "1766           Activision      1.07      0.07       0.0         0.01   \n",
       "...                   ...       ...       ...       ...          ...   \n",
       "16307             Unknown      0.01      0.00       0.0         0.00   \n",
       "16327  Namco Bandai Games      0.01      0.00       0.0         0.00   \n",
       "16366             Unknown      0.01      0.00       0.0         0.00   \n",
       "16427             Unknown      0.01      0.00       0.0         0.00   \n",
       "16493             Unknown      0.00      0.01       0.0         0.00   \n",
       "\n",
       "       Global_Sales  \n",
       "6896           0.24  \n",
       "2669           0.77  \n",
       "5366           0.34  \n",
       "1969           1.05  \n",
       "1766           1.15  \n",
       "...             ...  \n",
       "16307          0.01  \n",
       "16327          0.01  \n",
       "16366          0.01  \n",
       "16427          0.01  \n",
       "16493          0.01  \n",
       "\n",
       "[16598 rows x 11 columns]"
      ]
     },
     "execution_count": 5,
     "metadata": {},
     "output_type": "execute_result"
    }
   ],
   "source": [
    "games_sorted = games.sort_values(by = ['Year'])\n",
    "games_sorted"
   ]
  },
  {
   "cell_type": "code",
   "execution_count": 12,
   "metadata": {},
   "outputs": [
    {
     "data": {
      "text/plain": [
       "(Genre\n",
       " Action    877.83\n",
       " Name: NA_Sales, dtype: float64,\n",
       " Genre\n",
       " Action    525.0\n",
       " Name: EU_Sales, dtype: float64,\n",
       " Genre\n",
       " Role-Playing    352.31\n",
       " Name: JP_Sales, dtype: float64,\n",
       " Genre\n",
       " Action    187.38\n",
       " Name: Other_Sales, dtype: float64)"
      ]
     },
     "execution_count": 12,
     "metadata": {},
     "output_type": "execute_result"
    }
   ],
   "source": [
    "#We look at the popular genres in each region\n",
    "genre_NA = games_sorted.groupby('Genre').NA_Sales.sum()\n",
    "genre_NA_sorted = genre_NA.sort_values(ascending = False)\n",
    "genre_EU = games_sorted.groupby('Genre').EU_Sales.sum()\n",
    "genre_EU_sorted = genre_EU.sort_values(ascending = False)\n",
    "genre_JP = games_sorted.groupby('Genre').JP_Sales.sum()\n",
    "genre_JP_sorted = genre_JP.sort_values(ascending = False)\n",
    "genre_other = games_sorted.groupby('Genre').Other_Sales.sum()\n",
    "genre_other_sorted = genre_other.sort_values(ascending = False)\n",
    "\n",
    "genre_NA_sorted[[0]],genre_EU_sorted[[0]], genre_JP_sorted[[0]],genre_other_sorted[[0]]"
   ]
  },
  {
   "cell_type": "code",
   "execution_count": 28,
   "metadata": {},
   "outputs": [],
   "source": [
    "games_NA = games.loc[(games['Genre'] == 'Action') ]\n",
    "games_EU = games.loc[(games['Genre'] == 'Action') ]\n",
    "games_JP = games.loc[(games['Genre'] == 'Role-Playing') ]\n",
    "games_other = games.loc[(games['Genre'] == 'Action') ]\n"
   ]
  },
  {
   "cell_type": "code",
   "execution_count": 57,
   "metadata": {},
   "outputs": [
    {
     "data": {
      "text/html": [
       "<div>\n",
       "<style scoped>\n",
       "    .dataframe tbody tr th:only-of-type {\n",
       "        vertical-align: middle;\n",
       "    }\n",
       "\n",
       "    .dataframe tbody tr th {\n",
       "        vertical-align: top;\n",
       "    }\n",
       "\n",
       "    .dataframe thead th {\n",
       "        text-align: right;\n",
       "    }\n",
       "</style>\n",
       "<table border=\"1\" class=\"dataframe\">\n",
       "  <thead>\n",
       "    <tr style=\"text-align: right;\">\n",
       "      <th></th>\n",
       "      <th>Year</th>\n",
       "      <th>NA_Sales</th>\n",
       "    </tr>\n",
       "  </thead>\n",
       "  <tbody>\n",
       "    <tr>\n",
       "      <th>0</th>\n",
       "      <td>1980.0</td>\n",
       "      <td>0.320000</td>\n",
       "    </tr>\n",
       "    <tr>\n",
       "      <th>1</th>\n",
       "      <td>1981.0</td>\n",
       "      <td>0.554400</td>\n",
       "    </tr>\n",
       "    <tr>\n",
       "      <th>2</th>\n",
       "      <td>1982.0</td>\n",
       "      <td>0.337222</td>\n",
       "    </tr>\n",
       "    <tr>\n",
       "      <th>3</th>\n",
       "      <td>1983.0</td>\n",
       "      <td>0.381429</td>\n",
       "    </tr>\n",
       "    <tr>\n",
       "      <th>4</th>\n",
       "      <td>1984.0</td>\n",
       "      <td>0.800000</td>\n",
       "    </tr>\n",
       "  </tbody>\n",
       "</table>\n",
       "</div>"
      ],
      "text/plain": [
       "     Year  NA_Sales\n",
       "0  1980.0  0.320000\n",
       "1  1981.0  0.554400\n",
       "2  1982.0  0.337222\n",
       "3  1983.0  0.381429\n",
       "4  1984.0  0.800000"
      ]
     },
     "execution_count": 57,
     "metadata": {},
     "output_type": "execute_result"
    }
   ],
   "source": [
    "df_NA_Action = games_NA.groupby(['Year'], as_index = False)\n",
    "df_NA_Action_mean = df_NA_Action[['NA_Sales']].aggregate(np.mean)\n",
    "df_NA_Action_mean.head()\n"
   ]
  },
  {
   "cell_type": "code",
   "execution_count": 74,
   "metadata": {},
   "outputs": [
    {
     "data": {
      "image/png": "[encoded data removed]",
      "text/plain": [
       "<Figure size 432x288 with 1 Axes>"
      ]
     },
     "metadata": {
      "needs_background": "light"
     },
     "output_type": "display_data"
    }
   ],
   "source": [
    "descriptive_feature = df_NA_Action_mean[['Year']]\n",
    "target_feature = df_NA_Action_mean[['NA_Sales']]\n",
    "regressor = LinearRegression(normalize=True)\n",
    "regressor.fit(descriptive_feature, target_feature)\n",
    "viz = plt\n",
    "viz.scatter(descriptive_feature, target_feature, color='red')\n",
    "viz.plot(descriptive_feature, regressor.predict(descriptive_feature), color='blue')\n",
    "viz.title('Action in NA')\n",
    "viz.xlabel('Year ')\n",
    "viz.ylabel('Sales')\n",
    "viz.show()"
   ]
  },
  {
   "cell_type": "code",
   "execution_count": 59,
   "metadata": {},
   "outputs": [
    {
     "data": {
      "text/html": [
       "<div>\n",
       "<style scoped>\n",
       "    .dataframe tbody tr th:only-of-type {\n",
       "        vertical-align: middle;\n",
       "    }\n",
       "\n",
       "    .dataframe tbody tr th {\n",
       "        vertical-align: top;\n",
       "    }\n",
       "\n",
       "    .dataframe thead th {\n",
       "        text-align: right;\n",
       "    }\n",
       "</style>\n",
       "<table border=\"1\" class=\"dataframe\">\n",
       "  <thead>\n",
       "    <tr style=\"text-align: right;\">\n",
       "      <th></th>\n",
       "      <th>Year</th>\n",
       "      <th>EU_Sales</th>\n",
       "    </tr>\n",
       "  </thead>\n",
       "  <tbody>\n",
       "    <tr>\n",
       "      <th>0</th>\n",
       "      <td>1980.0</td>\n",
       "      <td>0.020000</td>\n",
       "    </tr>\n",
       "    <tr>\n",
       "      <th>1</th>\n",
       "      <td>1981.0</td>\n",
       "      <td>0.032400</td>\n",
       "    </tr>\n",
       "    <tr>\n",
       "      <th>2</th>\n",
       "      <td>1982.0</td>\n",
       "      <td>0.021111</td>\n",
       "    </tr>\n",
       "    <tr>\n",
       "      <th>3</th>\n",
       "      <td>1983.0</td>\n",
       "      <td>0.024286</td>\n",
       "    </tr>\n",
       "    <tr>\n",
       "      <th>4</th>\n",
       "      <td>1984.0</td>\n",
       "      <td>0.190000</td>\n",
       "    </tr>\n",
       "  </tbody>\n",
       "</table>\n",
       "</div>"
      ],
      "text/plain": [
       "     Year  EU_Sales\n",
       "0  1980.0  0.020000\n",
       "1  1981.0  0.032400\n",
       "2  1982.0  0.021111\n",
       "3  1983.0  0.024286\n",
       "4  1984.0  0.190000"
      ]
     },
     "execution_count": 59,
     "metadata": {},
     "output_type": "execute_result"
    }
   ],
   "source": [
    "df_EU_Action = games_EU.groupby(['Year'],as_index = False)\n",
    "df_EU_Action_mean = df_EU_Action[['EU_Sales']].aggregate(np.mean)\n",
    "df_EU_Action_mean.head()\n"
   ]
  },
  {
   "cell_type": "code",
   "execution_count": 75,
   "metadata": {},
   "outputs": [
    {
     "data": {
      "image/png": "[encoded data removed]",
      "text/plain": [
       "<Figure size 432x288 with 1 Axes>"
      ]
     },
     "metadata": {
      "needs_background": "light"
     },
     "output_type": "display_data"
    }
   ],
   "source": [
    "df_EU_Action = games_EU.groupby(['Year'],as_index = False)\n",
    "df_EU_Action_mean = df_EU_Action[['EU_Sales']].aggregate(np.mean)\n",
    "df_EU_Action_mean.head()\n",
    "\n",
    "descriptive_feature = df_EU_Action_mean[['Year']]\n",
    "target_feature = df_EU_Action_mean[['EU_Sales']]\n",
    "regressor = LinearRegression(normalize=True)\n",
    "regressor.fit(descriptive_feature, target_feature)\n",
    "viz = plt\n",
    "viz.scatter(descriptive_feature, target_feature, color='red')\n",
    "viz.plot(descriptive_feature, regressor.predict(descriptive_feature), color='blue')\n",
    "viz.title('Action in EU')\n",
    "viz.xlabel('Year ')\n",
    "viz.ylabel('Sales')\n",
    "viz.show()"
   ]
  },
  {
   "cell_type": "code",
   "execution_count": 60,
   "metadata": {},
   "outputs": [
    {
     "data": {
      "text/html": [
       "<div>\n",
       "<style scoped>\n",
       "    .dataframe tbody tr th:only-of-type {\n",
       "        vertical-align: middle;\n",
       "    }\n",
       "\n",
       "    .dataframe tbody tr th {\n",
       "        vertical-align: top;\n",
       "    }\n",
       "\n",
       "    .dataframe thead th {\n",
       "        text-align: right;\n",
       "    }\n",
       "</style>\n",
       "<table border=\"1\" class=\"dataframe\">\n",
       "  <thead>\n",
       "    <tr style=\"text-align: right;\">\n",
       "      <th></th>\n",
       "      <th>Year</th>\n",
       "      <th>JP_Sales</th>\n",
       "    </tr>\n",
       "  </thead>\n",
       "  <tbody>\n",
       "    <tr>\n",
       "      <th>0</th>\n",
       "      <td>1986.0</td>\n",
       "      <td>0.520000</td>\n",
       "    </tr>\n",
       "    <tr>\n",
       "      <th>1</th>\n",
       "      <td>1987.0</td>\n",
       "      <td>1.393333</td>\n",
       "    </tr>\n",
       "    <tr>\n",
       "      <th>2</th>\n",
       "      <td>1988.0</td>\n",
       "      <td>1.926667</td>\n",
       "    </tr>\n",
       "    <tr>\n",
       "      <th>3</th>\n",
       "      <td>1989.0</td>\n",
       "      <td>1.100000</td>\n",
       "    </tr>\n",
       "    <tr>\n",
       "      <th>4</th>\n",
       "      <td>1990.0</td>\n",
       "      <td>2.210000</td>\n",
       "    </tr>\n",
       "  </tbody>\n",
       "</table>\n",
       "</div>"
      ],
      "text/plain": [
       "     Year  JP_Sales\n",
       "0  1986.0  0.520000\n",
       "1  1987.0  1.393333\n",
       "2  1988.0  1.926667\n",
       "3  1989.0  1.100000\n",
       "4  1990.0  2.210000"
      ]
     },
     "execution_count": 60,
     "metadata": {},
     "output_type": "execute_result"
    }
   ],
   "source": [
    "df_JP_Action = games_JP.groupby(['Year'],as_index = False)\n",
    "df_JP_Action_mean = df_JP_Action[['JP_Sales']].aggregate(np.mean)\n",
    "df_JP_Action_mean.head()"
   ]
  },
  {
   "cell_type": "code",
   "execution_count": 76,
   "metadata": {},
   "outputs": [
    {
     "data": {
      "image/png": "[encoded data removed]",
      "text/plain": [
       "<Figure size 432x288 with 1 Axes>"
      ]
     },
     "metadata": {
      "needs_background": "light"
     },
     "output_type": "display_data"
    }
   ],
   "source": [
    "df_JP_Action = games_JP.groupby(['Year'],as_index = False)\n",
    "df_JP_Action_mean = df_JP_Action[['JP_Sales']].aggregate(np.mean)\n",
    "df_JP_Action_mean.head()\n",
    "\n",
    "descriptive_feature = df_JP_Action_mean[['Year']]\n",
    "target_feature = df_JP_Action_mean[['JP_Sales']]\n",
    "regressor = LinearRegression(normalize=True)\n",
    "regressor.fit(descriptive_feature, target_feature)\n",
    "viz = plt\n",
    "viz.scatter(descriptive_feature, target_feature, color='red')\n",
    "viz.plot(descriptive_feature, regressor.predict(descriptive_feature), color='blue')\n",
    "viz.title('Role-Playing in JP')\n",
    "viz.xlabel('Year ')\n",
    "viz.ylabel('Sales')\n",
    "viz.show()"
   ]
  },
  {
   "cell_type": "code",
   "execution_count": 62,
   "metadata": {},
   "outputs": [
    {
     "data": {
      "text/html": [
       "<div>\n",
       "<style scoped>\n",
       "    .dataframe tbody tr th:only-of-type {\n",
       "        vertical-align: middle;\n",
       "    }\n",
       "\n",
       "    .dataframe tbody tr th {\n",
       "        vertical-align: top;\n",
       "    }\n",
       "\n",
       "    .dataframe thead th {\n",
       "        text-align: right;\n",
       "    }\n",
       "</style>\n",
       "<table border=\"1\" class=\"dataframe\">\n",
       "  <thead>\n",
       "    <tr style=\"text-align: right;\">\n",
       "      <th></th>\n",
       "      <th>Year</th>\n",
       "      <th>Other_Sales</th>\n",
       "    </tr>\n",
       "  </thead>\n",
       "  <tbody>\n",
       "    <tr>\n",
       "      <th>0</th>\n",
       "      <td>1980.0</td>\n",
       "      <td>0.000000</td>\n",
       "    </tr>\n",
       "    <tr>\n",
       "      <th>1</th>\n",
       "      <td>1981.0</td>\n",
       "      <td>0.004800</td>\n",
       "    </tr>\n",
       "    <tr>\n",
       "      <th>2</th>\n",
       "      <td>1982.0</td>\n",
       "      <td>0.002778</td>\n",
       "    </tr>\n",
       "    <tr>\n",
       "      <th>3</th>\n",
       "      <td>1983.0</td>\n",
       "      <td>0.002857</td>\n",
       "    </tr>\n",
       "    <tr>\n",
       "      <th>4</th>\n",
       "      <td>1984.0</td>\n",
       "      <td>0.030000</td>\n",
       "    </tr>\n",
       "  </tbody>\n",
       "</table>\n",
       "</div>"
      ],
      "text/plain": [
       "     Year  Other_Sales\n",
       "0  1980.0     0.000000\n",
       "1  1981.0     0.004800\n",
       "2  1982.0     0.002778\n",
       "3  1983.0     0.002857\n",
       "4  1984.0     0.030000"
      ]
     },
     "execution_count": 62,
     "metadata": {},
     "output_type": "execute_result"
    }
   ],
   "source": [
    "df_other_Action = games_other.groupby(['Year'],as_index = False)\n",
    "df_other_Action_mean = df_other_Action[['Other_Sales']].aggregate(np.mean)\n",
    "df_other_Action_mean.head()"
   ]
  },
  {
   "cell_type": "code",
   "execution_count": 77,
   "metadata": {},
   "outputs": [
    {
     "data": {
      "image/png": "[encoded data removed]",
      "text/plain": [
       "<Figure size 432x288 with 1 Axes>"
      ]
     },
     "metadata": {
      "needs_background": "light"
     },
     "output_type": "display_data"
    }
   ],
   "source": [
    "df_other_Action = games_other.groupby(['Year'],as_index = False)\n",
    "df_other_Action_mean = df_other_Action[['Other_Sales']].aggregate(np.mean)\n",
    "df_other_Action_mean.head()\n",
    "\n",
    "descriptive_feature = df_other_Action_mean[['Year']]\n",
    "target_feature = df_other_Action_mean[['Other_Sales']]\n",
    "regressor = LinearRegression(normalize=True)\n",
    "regressor.fit(descriptive_feature, target_feature)\n",
    "viz = plt\n",
    "viz.scatter(descriptive_feature, target_feature, color='red')\n",
    "viz.plot(descriptive_feature, regressor.predict(descriptive_feature), color='blue')\n",
    "viz.title('Action in Other Countries')\n",
    "viz.xlabel('Year ')\n",
    "viz.ylabel('Sales')\n",
    "viz.show()"
   ]
  },
  {
   "cell_type": "code",
   "execution_count": 88,
   "metadata": {},
   "outputs": [
    {
     "name": "stdout",
     "output_type": "stream",
     "text": [
      "   Rank                      Name Platform    Year         Genre Publisher  \\\n",
      "0     1                Wii Sports      Wii  2006.0        Sports  Nintendo   \n",
      "1     2         Super Mario Bros.      NES  1985.0      Platform  Nintendo   \n",
      "2     3            Mario Kart Wii      Wii  2008.0        Racing  Nintendo   \n",
      "3     4         Wii Sports Resort      Wii  2009.0        Sports  Nintendo   \n",
      "4     5  Pokemon Red/Pokemon Blue       GB  1996.0  Role-Playing  Nintendo   \n",
      "\n",
      "   NA_Sales  EU_Sales  JP_Sales  Other_Sales  Global_Sales  \n",
      "0     41.49     29.02      3.77         8.46         82.74  \n",
      "1     29.08      3.58      6.81         0.77         40.24  \n",
      "2     15.85     12.88      3.79         3.31         35.82  \n",
      "3     15.75     11.01      3.28         2.96         33.00  \n",
      "4     11.27      8.89     10.22         1.00         31.37  \n",
      "(16598, 11)\n",
      "Genre\n",
      "Action    877.83\n",
      "Name: NA_Sales, dtype: float64 Genre\n",
      "Action    525.0\n",
      "Name: EU_Sales, dtype: float64 Genre\n",
      "Role-Playing    352.31\n",
      "Name: JP_Sales, dtype: float64 Genre\n",
      "Action    187.38\n",
      "Name: Other_Sales, dtype: float64\n"
     ]
    },
    {
     "data": {
      "image/png": "[encoded data removed]",
      "text/plain": [
       "<Figure size 432x288 with 1 Axes>"
      ]
     },
     "metadata": {
      "needs_background": "light"
     },
     "output_type": "display_data"
    },
    {
     "data": {
      "image/png": "[encoded data removed]",
      "text/plain": [
       "<Figure size 432x288 with 1 Axes>"
      ]
     },
     "metadata": {
      "needs_background": "light"
     },
     "output_type": "display_data"
    },
    {
     "data": {
      "image/png": "[encoded data removed]",
      "text/plain": [
       "<Figure size 432x288 with 1 Axes>"
      ]
     },
     "metadata": {
      "needs_background": "light"
     },
     "output_type": "display_data"
    },
    {
     "data": {
      "image/png": "[encoded data removed]",
      "text/plain": [
       "<Figure size 432x288 with 1 Axes>"
      ]
     },
     "metadata": {
      "needs_background": "light"
     },
     "output_type": "display_data"
    }
   ],
   "source": [
    "import pandas as pd\n",
    "import matplotlib.pyplot as plt\n",
    "from sklearn.preprocessing import Normalizer\n",
    "from sklearn.preprocessing import StandardScaler\n",
    "import numpy as np\n",
    "# Importing Linear regression from sklearn \n",
    "from sklearn.linear_model import LinearRegression\n",
    "from sklearn.metrics import mean_squared_error, mean_absolute_error\n",
    "import warnings\n",
    "warnings.simplefilter(\"ignore\")\n",
    "\n",
    "\n",
    "def main():\n",
    "\n",
    "    # Reading csv file in to a dataframe\n",
    "    games = pd.read_csv(\"vgsales.csv\")\n",
    "    print(games.head())\n",
    "    print(games.shape)\n",
    "\n",
    "    #sorting by year\n",
    "    games_sorted = games.sort_values(by = ['Year'])\n",
    "\n",
    "    #We look at the popular genres in each region\n",
    "    genre_NA = games_sorted.groupby('Genre').NA_Sales.sum()\n",
    "    genre_NA_sorted = genre_NA.sort_values(ascending = False)\n",
    "    genre_EU = games_sorted.groupby('Genre').EU_Sales.sum()\n",
    "    genre_EU_sorted = genre_EU.sort_values(ascending = False)\n",
    "    genre_JP = games_sorted.groupby('Genre').JP_Sales.sum()\n",
    "    genre_JP_sorted = genre_JP.sort_values(ascending = False)\n",
    "    genre_other = games_sorted.groupby('Genre').Other_Sales.sum()\n",
    "    genre_other_sorted = genre_other.sort_values(ascending = False)\n",
    "\n",
    "    print(genre_NA_sorted[[0]],genre_EU_sorted[[0]], genre_JP_sorted[[0]],genre_other_sorted[[0]])\n",
    "    \n",
    "    #getting games of top genre from each region\n",
    "    games_NA = games.loc[(games['Genre'] == 'Action') ]\n",
    "    games_EU = games.loc[(games['Genre'] == 'Action') ]\n",
    "    games_JP = games.loc[(games['Genre'] == 'Role-Playing') ]\n",
    "    games_other = games.loc[(games['Genre'] == 'Action') ]\n",
    "\n",
    "    # NA Region - Genre Action\n",
    "    df_NA_Action = games_NA.groupby(['Year'], as_index = False)\n",
    "    df_NA_Action_mean = df_NA_Action[['NA_Sales']].aggregate(np.mean)\n",
    "    df_NA_Action_mean.head()\n",
    "\n",
    "    descriptive_feature = df_NA_Action_mean[['Year']]\n",
    "    target_feature = df_NA_Action_mean[['NA_Sales']]\n",
    "    regressor = LinearRegression(normalize=True)\n",
    "    regressor.fit(descriptive_feature, target_feature)\n",
    "\n",
    "    viz = plt\n",
    "    viz.scatter(descriptive_feature, target_feature, color='red')\n",
    "    viz.plot(descriptive_feature, regressor.predict(descriptive_feature), color='blue')\n",
    "    viz.title('Action in NA')\n",
    "    viz.xlabel('Year ')\n",
    "    viz.ylabel('Sales')\n",
    "    viz.show()\n",
    "\n",
    "    # EU Region - Genre Action\n",
    "    df_EU_Action = games_EU.groupby(['Year'],as_index = False)\n",
    "    df_EU_Action_mean = df_EU_Action[['EU_Sales']].aggregate(np.mean)\n",
    "    df_EU_Action_mean.head()\n",
    "\n",
    "    descriptive_feature = df_EU_Action_mean[['Year']]\n",
    "    target_feature = df_EU_Action_mean[['EU_Sales']]\n",
    "    regressor = LinearRegression(normalize=True)\n",
    "    regressor.fit(descriptive_feature, target_feature)\n",
    "    viz = plt\n",
    "    viz.scatter(descriptive_feature, target_feature, color='red')\n",
    "    viz.plot(descriptive_feature, regressor.predict(descriptive_feature), color='blue')\n",
    "    viz.title('Action in EU')\n",
    "    viz.xlabel('Year ')\n",
    "    viz.ylabel('Sales')\n",
    "    viz.show()\n",
    "\n",
    "\n",
    "    # JP Region - Genre Role Playing\n",
    "    df_JP_Action = games_JP.groupby(['Year'],as_index = False)\n",
    "    df_JP_Action_mean = df_JP_Action[['JP_Sales']].aggregate(np.mean)\n",
    "    df_JP_Action_mean.head()\n",
    "\n",
    "    descriptive_feature = df_JP_Action_mean[['Year']]\n",
    "    target_feature = df_JP_Action_mean[['JP_Sales']]\n",
    "    regressor = LinearRegression(normalize=True)\n",
    "    regressor.fit(descriptive_feature, target_feature)\n",
    "    viz = plt\n",
    "    viz.scatter(descriptive_feature, target_feature, color='red')\n",
    "    viz.plot(descriptive_feature, regressor.predict(descriptive_feature), color='blue')\n",
    "    viz.title('Role-Playing in JP')\n",
    "    viz.xlabel('Year ')\n",
    "    viz.ylabel('Sales')\n",
    "    viz.show()\n",
    "\n",
    "    # Other Region - Genre Action\n",
    "\n",
    "    df_other_Action = games_other.groupby(['Year'],as_index = False)\n",
    "    df_other_Action_mean = df_other_Action[['Other_Sales']].aggregate(np.mean)\n",
    "    df_other_Action_mean.head()\n",
    "\n",
    "    descriptive_feature = df_other_Action_mean[['Year']]\n",
    "    target_feature = df_other_Action_mean[['Other_Sales']]\n",
    "    regressor = LinearRegression(normalize=True)\n",
    "    regressor.fit(descriptive_feature, target_feature)\n",
    "    viz = plt\n",
    "    viz.scatter(descriptive_feature, target_feature, color='red')\n",
    "    viz.plot(descriptive_feature, regressor.predict(descriptive_feature), color='blue')\n",
    "    viz.title('Action in Other Countries')\n",
    "    viz.xlabel('Year ')\n",
    "    viz.ylabel('Sales')\n",
    "    viz.show()   \n",
    "\n",
    "    \n",
    "if __name__ == '__main__':\n",
    "    main()\n"
   ]
  }
 ],
 "metadata": {
  "interpreter": {
   "hash": "f293f16398db128e85df277de8eb5f9ab0a1b28857fa0f1c8543245825f1b931"
  },
  "kernelspec": {
   "display_name": "Python 3.7.7 ('pythonProject')",
   "language": "python",
   "name": "python3"
  },
  "language_info": {
   "codemirror_mode": {
    "name": "ipython",
    "version": 3
   },
   "file_extension": ".py",
   "mimetype": "text/x-python",
   "name": "python",
   "nbconvert_exporter": "python",
   "pygments_lexer": "ipython3",
   "version": "3.7.7"
  },
  "orig_nbformat": 4
 },
 "nbformat": 4,
 "nbformat_minor": 2
}
