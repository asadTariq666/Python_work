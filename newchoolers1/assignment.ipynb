{
 "cells": [
  {
   "cell_type": "code",
   "execution_count": 1,
   "metadata": {},
   "outputs": [],
   "source": [
    "import pandas as pd\n",
    "import matplotlib.pyplot as plt\n",
    "from sklearn.preprocessing import Normalizer\n",
    "from sklearn.cluster import KMeans\n",
    "\n",
    "# FIRST PART\n",
    "# CODE WILL NOT RUN. THIS IS JUST FOR REFERENCE"
   ]
  },
  {
   "cell_type": "code",
   "execution_count": 2,
   "metadata": {},
   "outputs": [
    {
     "name": "stdout",
     "output_type": "stream",
     "text": [
      "   Wine  fixed.acidity  volatile.acidity  citric.acid  residual.sugar  \\\n",
      "0     1            7.4              0.70         0.00             1.9   \n",
      "1     2            7.8              0.88         0.00             2.6   \n",
      "2     3            7.8              0.76         0.04             2.3   \n",
      "3     4           11.2              0.28         0.56             1.9   \n",
      "4     5            7.4              0.70         0.00             1.9   \n",
      "\n",
      "   chlorides  free.sulfur.dioxide  total.sulfur.dioxide  density    pH  \\\n",
      "0      0.076                 11.0                  34.0   0.9978  3.51   \n",
      "1      0.098                 25.0                  67.0   0.9968  3.20   \n",
      "2      0.092                 15.0                  54.0   0.9970  3.26   \n",
      "3      0.075                 17.0                  60.0   0.9980  3.16   \n",
      "4      0.076                 11.0                  34.0   0.9978  3.51   \n",
      "\n",
      "   sulphates  alcohol  quality  \n",
      "0       0.56      9.4        5  \n",
      "1       0.68      9.8        5  \n",
      "2       0.65      9.8        5  \n",
      "3       0.58      9.8        6  \n",
      "4       0.56      9.4        5  \n",
      "Wine                    0\n",
      "fixed.acidity           0\n",
      "volatile.acidity        0\n",
      "citric.acid             0\n",
      "residual.sugar          0\n",
      "chlorides               0\n",
      "free.sulfur.dioxide     0\n",
      "total.sulfur.dioxide    0\n",
      "density                 0\n",
      "pH                      0\n",
      "sulphates               0\n",
      "alcohol                 0\n",
      "quality                 0\n",
      "dtype: int64\n"
     ]
    }
   ],
   "source": [
    "\n",
    "df_wines = pd.read_csv(\"wineQualityReds.csv\")\n",
    "print(df_wines.head())\n",
    "print(df_wines.isnull().sum())"
   ]
  },
  {
   "cell_type": "code",
   "execution_count": 4,
   "metadata": {},
   "outputs": [
    {
     "data": {
      "text/html": [
       "<div>\n",
       "<style scoped>\n",
       "    .dataframe tbody tr th:only-of-type {\n",
       "        vertical-align: middle;\n",
       "    }\n",
       "\n",
       "    .dataframe tbody tr th {\n",
       "        vertical-align: top;\n",
       "    }\n",
       "\n",
       "    .dataframe thead th {\n",
       "        text-align: right;\n",
       "    }\n",
       "</style>\n",
       "<table border=\"1\" class=\"dataframe\">\n",
       "  <thead>\n",
       "    <tr style=\"text-align: right;\">\n",
       "      <th></th>\n",
       "      <th>Wine</th>\n",
       "      <th>fixed.acidity</th>\n",
       "      <th>volatile.acidity</th>\n",
       "      <th>citric.acid</th>\n",
       "      <th>residual.sugar</th>\n",
       "      <th>chlorides</th>\n",
       "      <th>free.sulfur.dioxide</th>\n",
       "      <th>total.sulfur.dioxide</th>\n",
       "      <th>density</th>\n",
       "      <th>pH</th>\n",
       "      <th>sulphates</th>\n",
       "      <th>alcohol</th>\n",
       "      <th>quality</th>\n",
       "    </tr>\n",
       "  </thead>\n",
       "  <tbody>\n",
       "    <tr>\n",
       "      <th>0</th>\n",
       "      <td>0.026137</td>\n",
       "      <td>0.193412</td>\n",
       "      <td>0.018296</td>\n",
       "      <td>0.000000</td>\n",
       "      <td>0.049660</td>\n",
       "      <td>0.001986</td>\n",
       "      <td>0.287504</td>\n",
       "      <td>0.888648</td>\n",
       "      <td>0.026079</td>\n",
       "      <td>0.091740</td>\n",
       "      <td>0.014637</td>\n",
       "      <td>0.245685</td>\n",
       "      <td>0.130684</td>\n",
       "    </tr>\n",
       "    <tr>\n",
       "      <th>1</th>\n",
       "      <td>0.027423</td>\n",
       "      <td>0.106949</td>\n",
       "      <td>0.012066</td>\n",
       "      <td>0.000000</td>\n",
       "      <td>0.035650</td>\n",
       "      <td>0.001344</td>\n",
       "      <td>0.342784</td>\n",
       "      <td>0.918660</td>\n",
       "      <td>0.013667</td>\n",
       "      <td>0.043876</td>\n",
       "      <td>0.009324</td>\n",
       "      <td>0.134371</td>\n",
       "      <td>0.068557</td>\n",
       "    </tr>\n",
       "    <tr>\n",
       "      <th>2</th>\n",
       "      <td>0.051834</td>\n",
       "      <td>0.134767</td>\n",
       "      <td>0.013131</td>\n",
       "      <td>0.000691</td>\n",
       "      <td>0.039739</td>\n",
       "      <td>0.001590</td>\n",
       "      <td>0.259168</td>\n",
       "      <td>0.933006</td>\n",
       "      <td>0.017226</td>\n",
       "      <td>0.056326</td>\n",
       "      <td>0.011231</td>\n",
       "      <td>0.169323</td>\n",
       "      <td>0.086389</td>\n",
       "    </tr>\n",
       "    <tr>\n",
       "      <th>3</th>\n",
       "      <td>0.061885</td>\n",
       "      <td>0.173278</td>\n",
       "      <td>0.004332</td>\n",
       "      <td>0.008664</td>\n",
       "      <td>0.029395</td>\n",
       "      <td>0.001160</td>\n",
       "      <td>0.263012</td>\n",
       "      <td>0.928276</td>\n",
       "      <td>0.015440</td>\n",
       "      <td>0.048889</td>\n",
       "      <td>0.008973</td>\n",
       "      <td>0.151618</td>\n",
       "      <td>0.092828</td>\n",
       "    </tr>\n",
       "    <tr>\n",
       "      <th>4</th>\n",
       "      <td>0.129625</td>\n",
       "      <td>0.191845</td>\n",
       "      <td>0.018148</td>\n",
       "      <td>0.000000</td>\n",
       "      <td>0.049258</td>\n",
       "      <td>0.001970</td>\n",
       "      <td>0.285176</td>\n",
       "      <td>0.881452</td>\n",
       "      <td>0.025868</td>\n",
       "      <td>0.090997</td>\n",
       "      <td>0.014518</td>\n",
       "      <td>0.243696</td>\n",
       "      <td>0.129625</td>\n",
       "    </tr>\n",
       "    <tr>\n",
       "      <th>...</th>\n",
       "      <td>...</td>\n",
       "      <td>...</td>\n",
       "      <td>...</td>\n",
       "      <td>...</td>\n",
       "      <td>...</td>\n",
       "      <td>...</td>\n",
       "      <td>...</td>\n",
       "      <td>...</td>\n",
       "      <td>...</td>\n",
       "      <td>...</td>\n",
       "      <td>...</td>\n",
       "      <td>...</td>\n",
       "      <td>...</td>\n",
       "    </tr>\n",
       "    <tr>\n",
       "      <th>1594</th>\n",
       "      <td>0.999381</td>\n",
       "      <td>0.003885</td>\n",
       "      <td>0.000376</td>\n",
       "      <td>0.000050</td>\n",
       "      <td>0.001253</td>\n",
       "      <td>0.000056</td>\n",
       "      <td>0.020050</td>\n",
       "      <td>0.027569</td>\n",
       "      <td>0.000623</td>\n",
       "      <td>0.002162</td>\n",
       "      <td>0.000363</td>\n",
       "      <td>0.006579</td>\n",
       "      <td>0.003133</td>\n",
       "    </tr>\n",
       "    <tr>\n",
       "      <th>1595</th>\n",
       "      <td>0.999150</td>\n",
       "      <td>0.003694</td>\n",
       "      <td>0.000344</td>\n",
       "      <td>0.000063</td>\n",
       "      <td>0.001377</td>\n",
       "      <td>0.000039</td>\n",
       "      <td>0.024415</td>\n",
       "      <td>0.031928</td>\n",
       "      <td>0.000623</td>\n",
       "      <td>0.002204</td>\n",
       "      <td>0.000476</td>\n",
       "      <td>0.007012</td>\n",
       "      <td>0.003756</td>\n",
       "    </tr>\n",
       "    <tr>\n",
       "      <th>1596</th>\n",
       "      <td>0.999480</td>\n",
       "      <td>0.003943</td>\n",
       "      <td>0.000319</td>\n",
       "      <td>0.000081</td>\n",
       "      <td>0.001439</td>\n",
       "      <td>0.000048</td>\n",
       "      <td>0.018150</td>\n",
       "      <td>0.025034</td>\n",
       "      <td>0.000623</td>\n",
       "      <td>0.002140</td>\n",
       "      <td>0.000469</td>\n",
       "      <td>0.006884</td>\n",
       "      <td>0.003755</td>\n",
       "    </tr>\n",
       "    <tr>\n",
       "      <th>1597</th>\n",
       "      <td>0.999385</td>\n",
       "      <td>0.003690</td>\n",
       "      <td>0.000403</td>\n",
       "      <td>0.000075</td>\n",
       "      <td>0.001251</td>\n",
       "      <td>0.000047</td>\n",
       "      <td>0.020013</td>\n",
       "      <td>0.027517</td>\n",
       "      <td>0.000623</td>\n",
       "      <td>0.002233</td>\n",
       "      <td>0.000444</td>\n",
       "      <td>0.006379</td>\n",
       "      <td>0.003127</td>\n",
       "    </tr>\n",
       "    <tr>\n",
       "      <th>1598</th>\n",
       "      <td>0.999549</td>\n",
       "      <td>0.003751</td>\n",
       "      <td>0.000194</td>\n",
       "      <td>0.000294</td>\n",
       "      <td>0.002250</td>\n",
       "      <td>0.000042</td>\n",
       "      <td>0.011252</td>\n",
       "      <td>0.026255</td>\n",
       "      <td>0.000622</td>\n",
       "      <td>0.002119</td>\n",
       "      <td>0.000413</td>\n",
       "      <td>0.006876</td>\n",
       "      <td>0.003751</td>\n",
       "    </tr>\n",
       "  </tbody>\n",
       "</table>\n",
       "<p>1599 rows × 13 columns</p>\n",
       "</div>"
      ],
      "text/plain": [
       "          Wine  fixed.acidity  volatile.acidity  citric.acid  residual.sugar  \\\n",
       "0     0.026137       0.193412          0.018296     0.000000        0.049660   \n",
       "1     0.027423       0.106949          0.012066     0.000000        0.035650   \n",
       "2     0.051834       0.134767          0.013131     0.000691        0.039739   \n",
       "3     0.061885       0.173278          0.004332     0.008664        0.029395   \n",
       "4     0.129625       0.191845          0.018148     0.000000        0.049258   \n",
       "...        ...            ...               ...          ...             ...   \n",
       "1594  0.999381       0.003885          0.000376     0.000050        0.001253   \n",
       "1595  0.999150       0.003694          0.000344     0.000063        0.001377   \n",
       "1596  0.999480       0.003943          0.000319     0.000081        0.001439   \n",
       "1597  0.999385       0.003690          0.000403     0.000075        0.001251   \n",
       "1598  0.999549       0.003751          0.000194     0.000294        0.002250   \n",
       "\n",
       "      chlorides  free.sulfur.dioxide  total.sulfur.dioxide   density  \\\n",
       "0      0.001986             0.287504              0.888648  0.026079   \n",
       "1      0.001344             0.342784              0.918660  0.013667   \n",
       "2      0.001590             0.259168              0.933006  0.017226   \n",
       "3      0.001160             0.263012              0.928276  0.015440   \n",
       "4      0.001970             0.285176              0.881452  0.025868   \n",
       "...         ...                  ...                   ...       ...   \n",
       "1594   0.000056             0.020050              0.027569  0.000623   \n",
       "1595   0.000039             0.024415              0.031928  0.000623   \n",
       "1596   0.000048             0.018150              0.025034  0.000623   \n",
       "1597   0.000047             0.020013              0.027517  0.000623   \n",
       "1598   0.000042             0.011252              0.026255  0.000622   \n",
       "\n",
       "            pH  sulphates   alcohol   quality  \n",
       "0     0.091740   0.014637  0.245685  0.130684  \n",
       "1     0.043876   0.009324  0.134371  0.068557  \n",
       "2     0.056326   0.011231  0.169323  0.086389  \n",
       "3     0.048889   0.008973  0.151618  0.092828  \n",
       "4     0.090997   0.014518  0.243696  0.129625  \n",
       "...        ...        ...       ...       ...  \n",
       "1594  0.002162   0.000363  0.006579  0.003133  \n",
       "1595  0.002204   0.000476  0.007012  0.003756  \n",
       "1596  0.002140   0.000469  0.006884  0.003755  \n",
       "1597  0.002233   0.000444  0.006379  0.003127  \n",
       "1598  0.002119   0.000413  0.006876  0.003751  \n",
       "\n",
       "[1599 rows x 13 columns]"
      ]
     },
     "execution_count": 4,
     "metadata": {},
     "output_type": "execute_result"
    }
   ],
   "source": [
    "norm = Normalizer()\n",
    "\n",
    "# df_t = pd.DataFrame(norm.transform(df_wines), columns=df_wines.columns)\n",
    "df_ft = pd.DataFrame(norm.fit_transform(df_wines), columns=df_wines.columns)\n",
    "df_ft"
   ]
  },
  {
   "cell_type": "code",
   "execution_count": 5,
   "metadata": {},
   "outputs": [
    {
     "data": {
      "image/png": "[encoded data removed]",
      "text/plain": [
       "<Figure size 432x288 with 1 Axes>"
      ]
     },
     "metadata": {
      "needs_background": "light"
     },
     "output_type": "display_data"
    }
   ],
   "source": [
    "ks = range(1, 11)\n",
    "inertias = []\n",
    "\n",
    "for k in ks:\n",
    "    model_kmeans = KMeans(n_clusters=k)\n",
    "    model_kmeans.fit(df_ft)\n",
    "    inertias.append(model_kmeans.inertia_)\n",
    "\n",
    "plt.plot(ks, inertias, marker='o')\n",
    "plt.savefig('wine_kmeans.png')"
   ]
  },
  {
   "cell_type": "code",
   "execution_count": 7,
   "metadata": {},
   "outputs": [
    {
     "name": "stdout",
     "output_type": "stream",
     "text": [
      "   Wine  fixed.acidity  volatile.acidity  citric.acid  residual.sugar  \\\n",
      "0     1            7.4              0.70         0.00             1.9   \n",
      "1     2            7.8              0.88         0.00             2.6   \n",
      "2     3            7.8              0.76         0.04             2.3   \n",
      "3     4           11.2              0.28         0.56             1.9   \n",
      "4     5            7.4              0.70         0.00             1.9   \n",
      "\n",
      "   chlorides  free.sulfur.dioxide  total.sulfur.dioxide  density    pH  \\\n",
      "0      0.076                 11.0                  34.0   0.9978  3.51   \n",
      "1      0.098                 25.0                  67.0   0.9968  3.20   \n",
      "2      0.092                 15.0                  54.0   0.9970  3.26   \n",
      "3      0.075                 17.0                  60.0   0.9980  3.16   \n",
      "4      0.076                 11.0                  34.0   0.9978  3.51   \n",
      "\n",
      "   sulphates  alcohol  quality  \n",
      "0       0.56      9.4        5  \n",
      "1       0.68      9.8        5  \n",
      "2       0.65      9.8        5  \n",
      "3       0.58      9.8        6  \n",
      "4       0.56      9.4        5  \n"
     ]
    }
   ],
   "source": [
    "file_path = 'wineQualityReds.csv'\n",
    "df_wines = pd.read_csv(file_path)\n",
    "print(df_wines.head())"
   ]
  },
  {
   "cell_type": "code",
   "execution_count": 9,
   "metadata": {},
   "outputs": [
    {
     "data": {
      "text/plain": [
       "[Text(0.5, 1.0, 'Quality Histogram')]"
      ]
     },
     "execution_count": 9,
     "metadata": {},
     "output_type": "execute_result"
    },
    {
     "data": {
      "image/png": "[encoded data removed]",
      "text/plain": [
       "<Figure size 432x288 with 2 Axes>"
      ]
     },
     "metadata": {
      "needs_background": "light"
     },
     "output_type": "display_data"
    }
   ],
   "source": [
    "fig, ax = plt.subplots(1, 2)\n",
    "ax[0].hist(df_wines['quality'])\n",
    "ax[0].set(title='Quality Histogram')"
   ]
  },
  {
   "cell_type": "code",
   "execution_count": 10,
   "metadata": {},
   "outputs": [
    {
     "name": "stdout",
     "output_type": "stream",
     "text": [
      "                Wine  fixed.acidity  volatile.acidity  citric.acid  \\\n",
      "quality                                                              \n",
      "3        1053.200000       8.360000          0.884500     0.171000   \n",
      "4         796.981132       7.779245          0.693962     0.174151   \n",
      "5         741.982379       8.167254          0.577041     0.243686   \n",
      "6         847.423197       8.347179          0.497484     0.273824   \n",
      "7         832.165829       8.872362          0.403920     0.375176   \n",
      "8         826.722222       8.566667          0.423333     0.391111   \n",
      "\n",
      "         residual.sugar  chlorides  free.sulfur.dioxide  total.sulfur.dioxide  \\\n",
      "quality                                                                         \n",
      "3              2.635000   0.122500            11.000000             24.900000   \n",
      "4              2.694340   0.090679            12.264151             36.245283   \n",
      "5              2.528855   0.092736            16.983847             56.513950   \n",
      "6              2.477194   0.084956            15.711599             40.869906   \n",
      "7              2.720603   0.076588            14.045226             35.020101   \n",
      "8              2.577778   0.068444            13.277778             33.444444   \n",
      "\n",
      "          density        pH  sulphates    alcohol  \n",
      "quality                                            \n",
      "3        0.997464  3.398000   0.570000   9.955000  \n",
      "4        0.996542  3.381509   0.596415  10.265094  \n",
      "5        0.997104  3.304949   0.620969   9.899706  \n",
      "6        0.996615  3.318072   0.675329  10.629519  \n",
      "7        0.996104  3.290754   0.741256  11.465913  \n",
      "8        0.995212  3.267222   0.767778  12.094444  \n"
     ]
    }
   ],
   "source": [
    "df_wines_grouped = df_wines.groupby('quality').mean()\n",
    "\n",
    "print(df_wines_grouped)\n"
   ]
  },
  {
   "cell_type": "code",
   "execution_count": 12,
   "metadata": {},
   "outputs": [
    {
     "name": "stdout",
     "output_type": "stream",
     "text": [
      "       Wine  fixed.acidity  volatile.acidity  citric.acid  residual.sugar  \\\n",
      "0  0.000000       0.247788          0.397260         0.00        0.068493   \n",
      "1  0.000626       0.283186          0.520548         0.00        0.116438   \n",
      "2  0.001252       0.283186          0.438356         0.04        0.095890   \n",
      "3  0.001877       0.584071          0.109589         0.56        0.068493   \n",
      "4  0.002503       0.247788          0.397260         0.00        0.068493   \n",
      "\n",
      "   chlorides  free.sulfur.dioxide  total.sulfur.dioxide   density        pH  \\\n",
      "0   0.106845             0.140845              0.098940  0.567548  0.606299   \n",
      "1   0.143573             0.338028              0.215548  0.494126  0.362205   \n",
      "2   0.133556             0.197183              0.169611  0.508811  0.409449   \n",
      "3   0.105175             0.225352              0.190813  0.582232  0.330709   \n",
      "4   0.106845             0.140845              0.098940  0.567548  0.606299   \n",
      "\n",
      "   sulphates   alcohol  quality  \n",
      "0   0.137725  0.153846      0.4  \n",
      "1   0.209581  0.215385      0.4  \n",
      "2   0.191617  0.215385      0.4  \n",
      "3   0.149701  0.215385      0.6  \n",
      "4   0.137725  0.153846      0.4  \n"
     ]
    }
   ],
   "source": [
    "df_wines_norm = (df_wines-df_wines.min())/(df_wines.max() - df_wines.min())\n",
    "\n",
    "print(df_wines_norm.head())"
   ]
  },
  {
   "cell_type": "code",
   "execution_count": 13,
   "metadata": {},
   "outputs": [
    {
     "name": "stdout",
     "output_type": "stream",
     "text": [
      "       Wine  fixed.acidity  volatile.acidity  citric.acid  residual.sugar  \\\n",
      "0  0.000000       0.247788          0.397260         0.00        0.068493   \n",
      "1  0.000626       0.283186          0.520548         0.00        0.116438   \n",
      "2  0.001252       0.283186          0.438356         0.04        0.095890   \n",
      "3  0.001877       0.584071          0.109589         0.56        0.068493   \n",
      "4  0.002503       0.247788          0.397260         0.00        0.068493   \n",
      "\n",
      "   chlorides  free.sulfur.dioxide  total.sulfur.dioxide   density        pH  \\\n",
      "0   0.106845             0.140845              0.098940  0.567548  0.606299   \n",
      "1   0.143573             0.338028              0.215548  0.494126  0.362205   \n",
      "2   0.133556             0.197183              0.169611  0.508811  0.409449   \n",
      "3   0.105175             0.225352              0.190813  0.582232  0.330709   \n",
      "4   0.106845             0.140845              0.098940  0.567548  0.606299   \n",
      "\n",
      "   sulphates   alcohol  quality  \n",
      "0   0.137725  0.153846      0.4  \n",
      "1   0.209581  0.215385      0.4  \n",
      "2   0.191617  0.215385      0.4  \n",
      "3   0.149701  0.215385      0.6  \n",
      "4   0.137725  0.153846      0.4  \n"
     ]
    }
   ],
   "source": [
    "df_wines_norm = (df_wines-df_wines.min())/(df_wines.max() - df_wines.min())\n",
    "print(df_wines_norm.head())"
   ]
  },
  {
   "cell_type": "code",
   "execution_count": 14,
   "metadata": {},
   "outputs": [],
   "source": [
    "from sklearn.cluster import AgglomerativeClustering"
   ]
  },
  {
   "cell_type": "code",
   "execution_count": 15,
   "metadata": {},
   "outputs": [
    {
     "name": "stdout",
     "output_type": "stream",
     "text": [
      "[1 1 1 ... 0 0 3]\n"
     ]
    }
   ],
   "source": [
    "model_ac = AgglomerativeClustering(n_clusters=6)\n",
    "\n",
    "model_ac.fit(df_wines_norm)\n",
    "\n",
    "print(model_ac.labels_)"
   ]
  },
  {
   "cell_type": "code",
   "execution_count": 23,
   "metadata": {},
   "outputs": [
    {
     "data": {
      "text/plain": [
       "[Text(0.5, 1.0, 'Clusters Histogram')]"
      ]
     },
     "execution_count": 23,
     "metadata": {},
     "output_type": "execute_result"
    }
   ],
   "source": [
    "ax[1].hist(model_ac.labels_)\n",
    "ax[1].set(title='Clusters Histogram')\n",
    "\n"
   ]
  },
  {
   "cell_type": "code",
   "execution_count": null,
   "metadata": {},
   "outputs": [],
   "source": [
    "df_wines_norm['Cluster'] = model_ac.labels_"
   ]
  },
  {
   "cell_type": "code",
   "execution_count": 18,
   "metadata": {},
   "outputs": [
    {
     "name": "stdout",
     "output_type": "stream",
     "text": [
      "             Wine  fixed.acidity  volatile.acidity  citric.acid  \\\n",
      "Cluster                                                           \n",
      "0        0.772178       0.200415          0.338350     0.097715   \n",
      "1        0.277735       0.270077          0.350322     0.124652   \n",
      "2        0.763924       0.279480          0.280394     0.252250   \n",
      "3        0.696671       0.371580          0.157836     0.424444   \n",
      "4        0.283310       0.360368          0.284623     0.355201   \n",
      "5        0.278354       0.606788          0.195064     0.544485   \n",
      "\n",
      "         residual.sugar  chlorides  free.sulfur.dioxide  total.sulfur.dioxide  \\\n",
      "Cluster                                                                         \n",
      "0              0.088513   0.105388             0.209554              0.104214   \n",
      "1              0.093354   0.119799             0.155589              0.110958   \n",
      "2              0.175407   0.124551             0.356514              0.249757   \n",
      "3              0.099840   0.107126             0.186471              0.099102   \n",
      "4              0.123150   0.181138             0.269669              0.251569   \n",
      "5              0.139158   0.122653             0.138449              0.090343   \n",
      "\n",
      "          density        pH  sulphates   alcohol   quality  \n",
      "Cluster                                                     \n",
      "0        0.365406  0.535597   0.171769  0.400289  0.542433  \n",
      "1        0.501478  0.500611   0.161084  0.228054  0.460963  \n",
      "2        0.505277  0.442077   0.163885  0.225337  0.460000  \n",
      "3        0.415759  0.413129   0.222452  0.456508  0.655172  \n",
      "4        0.575506  0.404257   0.234301  0.199155  0.456410  \n",
      "5        0.653004  0.321739   0.246497  0.349960  0.611340  \n"
     ]
    }
   ],
   "source": [
    "print(df_wines_norm.groupby('Cluster').mean())\n"
   ]
  },
  {
   "cell_type": "code",
   "execution_count": 19,
   "metadata": {},
   "outputs": [
    {
     "name": "stdout",
     "output_type": "stream",
     "text": [
      "Wine\n"
     ]
    }
   ],
   "source": [
    "print(df_wines.columns[0])"
   ]
  },
  {
   "cell_type": "code",
   "execution_count": 22,
   "metadata": {},
   "outputs": [
    {
     "ename": "KeyError",
     "evalue": "\"['fixed.acidity'] not found in axis\"",
     "output_type": "error",
     "traceback": [
      "\u001b[0;31m---------------------------------------------------------------------------\u001b[0m",
      "\u001b[0;31mKeyError\u001b[0m                                  Traceback (most recent call last)",
      "\u001b[0;32m/var/folders/dk/9q84mn0j1nzfg85t9zx5d1480000gn/T/ipykernel_23625/1919801634.py\u001b[0m in \u001b[0;36m<module>\u001b[0;34m\u001b[0m\n\u001b[1;32m      1\u001b[0m \u001b[0;31m# print(df_wines.columns[0])\u001b[0m\u001b[0;34m\u001b[0m\u001b[0;34m\u001b[0m\u001b[0;34m\u001b[0m\u001b[0m\n\u001b[1;32m      2\u001b[0m \u001b[0mdf_wines\u001b[0m\u001b[0;34m.\u001b[0m\u001b[0mdrop\u001b[0m\u001b[0;34m(\u001b[0m\u001b[0mdf_wines\u001b[0m\u001b[0;34m.\u001b[0m\u001b[0mcolumns\u001b[0m\u001b[0;34m[\u001b[0m\u001b[0;36m0\u001b[0m\u001b[0;34m]\u001b[0m\u001b[0;34m,\u001b[0m\u001b[0maxis\u001b[0m\u001b[0;34m=\u001b[0m\u001b[0;36m1\u001b[0m\u001b[0;34m,\u001b[0m\u001b[0minplace\u001b[0m\u001b[0;34m=\u001b[0m\u001b[0;32mTrue\u001b[0m\u001b[0;34m)\u001b[0m\u001b[0;34m\u001b[0m\u001b[0;34m\u001b[0m\u001b[0m\n\u001b[0;32m----> 3\u001b[0;31m \u001b[0mdf_wines\u001b[0m\u001b[0;34m.\u001b[0m\u001b[0mdrop\u001b[0m\u001b[0;34m(\u001b[0m\u001b[0;34m'fixed.acidity'\u001b[0m\u001b[0;34m,\u001b[0m\u001b[0maxis\u001b[0m\u001b[0;34m=\u001b[0m\u001b[0;36m1\u001b[0m\u001b[0;34m,\u001b[0m\u001b[0minplace\u001b[0m\u001b[0;34m=\u001b[0m\u001b[0;32mTrue\u001b[0m\u001b[0;34m)\u001b[0m\u001b[0;34m\u001b[0m\u001b[0;34m\u001b[0m\u001b[0m\n\u001b[0m\u001b[1;32m      4\u001b[0m \u001b[0mdf_wines\u001b[0m\u001b[0;34m.\u001b[0m\u001b[0mdrop\u001b[0m\u001b[0;34m(\u001b[0m\u001b[0maxis\u001b[0m\u001b[0;34m=\u001b[0m\u001b[0;36m1\u001b[0m\u001b[0;34m,\u001b[0m\u001b[0minplace\u001b[0m\u001b[0;34m=\u001b[0m\u001b[0;32mTrue\u001b[0m\u001b[0;34m)\u001b[0m\u001b[0;34m\u001b[0m\u001b[0;34m\u001b[0m\u001b[0m\n",
      "\u001b[0;32m~/opt/anaconda3/envs/pythonProject/lib/python3.7/site-packages/pandas/util/_decorators.py\u001b[0m in \u001b[0;36mwrapper\u001b[0;34m(*args, **kwargs)\u001b[0m\n\u001b[1;32m    309\u001b[0m                     \u001b[0mstacklevel\u001b[0m\u001b[0;34m=\u001b[0m\u001b[0mstacklevel\u001b[0m\u001b[0;34m,\u001b[0m\u001b[0;34m\u001b[0m\u001b[0;34m\u001b[0m\u001b[0m\n\u001b[1;32m    310\u001b[0m                 )\n\u001b[0;32m--> 311\u001b[0;31m             \u001b[0;32mreturn\u001b[0m \u001b[0mfunc\u001b[0m\u001b[0;34m(\u001b[0m\u001b[0;34m*\u001b[0m\u001b[0margs\u001b[0m\u001b[0;34m,\u001b[0m \u001b[0;34m**\u001b[0m\u001b[0mkwargs\u001b[0m\u001b[0;34m)\u001b[0m\u001b[0;34m\u001b[0m\u001b[0;34m\u001b[0m\u001b[0m\n\u001b[0m\u001b[1;32m    312\u001b[0m \u001b[0;34m\u001b[0m\u001b[0m\n\u001b[1;32m    313\u001b[0m         \u001b[0;32mreturn\u001b[0m \u001b[0mwrapper\u001b[0m\u001b[0;34m\u001b[0m\u001b[0;34m\u001b[0m\u001b[0m\n",
      "\u001b[0;32m~/opt/anaconda3/envs/pythonProject/lib/python3.7/site-packages/pandas/core/frame.py\u001b[0m in \u001b[0;36mdrop\u001b[0;34m(self, labels, axis, index, columns, level, inplace, errors)\u001b[0m\n\u001b[1;32m   4911\u001b[0m             \u001b[0mlevel\u001b[0m\u001b[0;34m=\u001b[0m\u001b[0mlevel\u001b[0m\u001b[0;34m,\u001b[0m\u001b[0;34m\u001b[0m\u001b[0;34m\u001b[0m\u001b[0m\n\u001b[1;32m   4912\u001b[0m             \u001b[0minplace\u001b[0m\u001b[0;34m=\u001b[0m\u001b[0minplace\u001b[0m\u001b[0;34m,\u001b[0m\u001b[0;34m\u001b[0m\u001b[0;34m\u001b[0m\u001b[0m\n\u001b[0;32m-> 4913\u001b[0;31m             \u001b[0merrors\u001b[0m\u001b[0;34m=\u001b[0m\u001b[0merrors\u001b[0m\u001b[0;34m,\u001b[0m\u001b[0;34m\u001b[0m\u001b[0;34m\u001b[0m\u001b[0m\n\u001b[0m\u001b[1;32m   4914\u001b[0m         )\n\u001b[1;32m   4915\u001b[0m \u001b[0;34m\u001b[0m\u001b[0m\n",
      "\u001b[0;32m~/opt/anaconda3/envs/pythonProject/lib/python3.7/site-packages/pandas/core/generic.py\u001b[0m in \u001b[0;36mdrop\u001b[0;34m(self, labels, axis, index, columns, level, inplace, errors)\u001b[0m\n\u001b[1;32m   4148\u001b[0m         \u001b[0;32mfor\u001b[0m \u001b[0maxis\u001b[0m\u001b[0;34m,\u001b[0m \u001b[0mlabels\u001b[0m \u001b[0;32min\u001b[0m \u001b[0maxes\u001b[0m\u001b[0;34m.\u001b[0m\u001b[0mitems\u001b[0m\u001b[0;34m(\u001b[0m\u001b[0;34m)\u001b[0m\u001b[0;34m:\u001b[0m\u001b[0;34m\u001b[0m\u001b[0;34m\u001b[0m\u001b[0m\n\u001b[1;32m   4149\u001b[0m             \u001b[0;32mif\u001b[0m \u001b[0mlabels\u001b[0m \u001b[0;32mis\u001b[0m \u001b[0;32mnot\u001b[0m \u001b[0;32mNone\u001b[0m\u001b[0;34m:\u001b[0m\u001b[0;34m\u001b[0m\u001b[0;34m\u001b[0m\u001b[0m\n\u001b[0;32m-> 4150\u001b[0;31m                 \u001b[0mobj\u001b[0m \u001b[0;34m=\u001b[0m \u001b[0mobj\u001b[0m\u001b[0;34m.\u001b[0m\u001b[0m_drop_axis\u001b[0m\u001b[0;34m(\u001b[0m\u001b[0mlabels\u001b[0m\u001b[0;34m,\u001b[0m \u001b[0maxis\u001b[0m\u001b[0;34m,\u001b[0m \u001b[0mlevel\u001b[0m\u001b[0;34m=\u001b[0m\u001b[0mlevel\u001b[0m\u001b[0;34m,\u001b[0m \u001b[0merrors\u001b[0m\u001b[0;34m=\u001b[0m\u001b[0merrors\u001b[0m\u001b[0;34m)\u001b[0m\u001b[0;34m\u001b[0m\u001b[0;34m\u001b[0m\u001b[0m\n\u001b[0m\u001b[1;32m   4151\u001b[0m \u001b[0;34m\u001b[0m\u001b[0m\n\u001b[1;32m   4152\u001b[0m         \u001b[0;32mif\u001b[0m \u001b[0minplace\u001b[0m\u001b[0;34m:\u001b[0m\u001b[0;34m\u001b[0m\u001b[0;34m\u001b[0m\u001b[0m\n",
      "\u001b[0;32m~/opt/anaconda3/envs/pythonProject/lib/python3.7/site-packages/pandas/core/generic.py\u001b[0m in \u001b[0;36m_drop_axis\u001b[0;34m(self, labels, axis, level, errors)\u001b[0m\n\u001b[1;32m   4183\u001b[0m                 \u001b[0mnew_axis\u001b[0m \u001b[0;34m=\u001b[0m \u001b[0maxis\u001b[0m\u001b[0;34m.\u001b[0m\u001b[0mdrop\u001b[0m\u001b[0;34m(\u001b[0m\u001b[0mlabels\u001b[0m\u001b[0;34m,\u001b[0m \u001b[0mlevel\u001b[0m\u001b[0;34m=\u001b[0m\u001b[0mlevel\u001b[0m\u001b[0;34m,\u001b[0m \u001b[0merrors\u001b[0m\u001b[0;34m=\u001b[0m\u001b[0merrors\u001b[0m\u001b[0;34m)\u001b[0m\u001b[0;34m\u001b[0m\u001b[0;34m\u001b[0m\u001b[0m\n\u001b[1;32m   4184\u001b[0m             \u001b[0;32melse\u001b[0m\u001b[0;34m:\u001b[0m\u001b[0;34m\u001b[0m\u001b[0;34m\u001b[0m\u001b[0m\n\u001b[0;32m-> 4185\u001b[0;31m                 \u001b[0mnew_axis\u001b[0m \u001b[0;34m=\u001b[0m \u001b[0maxis\u001b[0m\u001b[0;34m.\u001b[0m\u001b[0mdrop\u001b[0m\u001b[0;34m(\u001b[0m\u001b[0mlabels\u001b[0m\u001b[0;34m,\u001b[0m \u001b[0merrors\u001b[0m\u001b[0;34m=\u001b[0m\u001b[0merrors\u001b[0m\u001b[0;34m)\u001b[0m\u001b[0;34m\u001b[0m\u001b[0;34m\u001b[0m\u001b[0m\n\u001b[0m\u001b[1;32m   4186\u001b[0m             \u001b[0mresult\u001b[0m \u001b[0;34m=\u001b[0m \u001b[0mself\u001b[0m\u001b[0;34m.\u001b[0m\u001b[0mreindex\u001b[0m\u001b[0;34m(\u001b[0m\u001b[0;34m**\u001b[0m\u001b[0;34m{\u001b[0m\u001b[0maxis_name\u001b[0m\u001b[0;34m:\u001b[0m \u001b[0mnew_axis\u001b[0m\u001b[0;34m}\u001b[0m\u001b[0;34m)\u001b[0m\u001b[0;34m\u001b[0m\u001b[0;34m\u001b[0m\u001b[0m\n\u001b[1;32m   4187\u001b[0m \u001b[0;34m\u001b[0m\u001b[0m\n",
      "\u001b[0;32m~/opt/anaconda3/envs/pythonProject/lib/python3.7/site-packages/pandas/core/indexes/base.py\u001b[0m in \u001b[0;36mdrop\u001b[0;34m(self, labels, errors)\u001b[0m\n\u001b[1;32m   6015\u001b[0m         \u001b[0;32mif\u001b[0m \u001b[0mmask\u001b[0m\u001b[0;34m.\u001b[0m\u001b[0many\u001b[0m\u001b[0;34m(\u001b[0m\u001b[0;34m)\u001b[0m\u001b[0;34m:\u001b[0m\u001b[0;34m\u001b[0m\u001b[0;34m\u001b[0m\u001b[0m\n\u001b[1;32m   6016\u001b[0m             \u001b[0;32mif\u001b[0m \u001b[0merrors\u001b[0m \u001b[0;34m!=\u001b[0m \u001b[0;34m\"ignore\"\u001b[0m\u001b[0;34m:\u001b[0m\u001b[0;34m\u001b[0m\u001b[0;34m\u001b[0m\u001b[0m\n\u001b[0;32m-> 6017\u001b[0;31m                 \u001b[0;32mraise\u001b[0m \u001b[0mKeyError\u001b[0m\u001b[0;34m(\u001b[0m\u001b[0;34mf\"{labels[mask]} not found in axis\"\u001b[0m\u001b[0;34m)\u001b[0m\u001b[0;34m\u001b[0m\u001b[0;34m\u001b[0m\u001b[0m\n\u001b[0m\u001b[1;32m   6018\u001b[0m             \u001b[0mindexer\u001b[0m \u001b[0;34m=\u001b[0m \u001b[0mindexer\u001b[0m\u001b[0;34m[\u001b[0m\u001b[0;34m~\u001b[0m\u001b[0mmask\u001b[0m\u001b[0;34m]\u001b[0m\u001b[0;34m\u001b[0m\u001b[0;34m\u001b[0m\u001b[0m\n\u001b[1;32m   6019\u001b[0m         \u001b[0;32mreturn\u001b[0m \u001b[0mself\u001b[0m\u001b[0;34m.\u001b[0m\u001b[0mdelete\u001b[0m\u001b[0;34m(\u001b[0m\u001b[0mindexer\u001b[0m\u001b[0;34m)\u001b[0m\u001b[0;34m\u001b[0m\u001b[0;34m\u001b[0m\u001b[0m\n",
      "\u001b[0;31mKeyError\u001b[0m: \"['fixed.acidity'] not found in axis\""
     ]
    }
   ],
   "source": [
    "# print(df_wines.columns[0])\n",
    "df_wines.drop(df_wines.columns[0],axis=1,inplace=True)\n",
    "df_wines.drop('fixed.acidity',axis=1,inplace=True)\n",
    "df_wines.drop(axis=1,inplace=True)"
   ]
  }
 ],
 "metadata": {
  "interpreter": {
   "hash": "f293f16398db128e85df277de8eb5f9ab0a1b28857fa0f1c8543245825f1b931"
  },
  "kernelspec": {
   "display_name": "Python 3.7.7 ('pythonProject')",
   "language": "python",
   "name": "python3"
  },
  "language_info": {
   "codemirror_mode": {
    "name": "ipython",
    "version": 3
   },
   "file_extension": ".py",
   "mimetype": "text/x-python",
   "name": "python",
   "nbconvert_exporter": "python",
   "pygments_lexer": "ipython3",
   "version": "3.7.7"
  },
  "orig_nbformat": 4
 },
 "nbformat": 4,
 "nbformat_minor": 2
}
