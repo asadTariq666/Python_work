{
  "cells": [
    {
      "cell_type": "code",
      "execution_count": 79,
      "id": "9da9673e",
      "metadata": {
        "id": "9da9673e"
      },
      "outputs": [],
      "source": [
        "#import statement:\n",
        "\n",
        "import pandas as pd \n",
        "import matplotlib\n",
        "import matplotlib.pyplot as plt\n"
      ]
    },
    {
      "cell_type": "code",
      "execution_count": 81,
      "id": "fa84dfa7",
      "metadata": {},
      "outputs": [
        {
          "name": "stdout",
          "output_type": "stream",
          "text": [
            "Name: matplotlib\n",
            "Version: 3.5.0\n",
            "Summary: Python plotting package\n",
            "Home-page: https://matplotlib.org\n",
            "Author: John D. Hunter, Michael Droettboom\n",
            "Author-email: matplotlib-users@python.org\n",
            "License: PSF\n",
            "Location: /Users/asadtariq/opt/anaconda3/envs/pythonProject/lib/python3.7/site-packages\n",
            "Requires: pyparsing, fonttools, packaging, python-dateutil, pillow, numpy, cycler, kiwisolver\n",
            "Required-by: susi, seaborn, pm4py, phik, pandas-profiling, mplfinance, missingno\n",
            "Note: you may need to restart the kernel to use updated packages.\n"
          ]
        }
      ],
      "source": [
        "pip show matplotlib"
      ]
    },
    {
      "cell_type": "code",
      "execution_count": 57,
      "id": "dd64cc4c",
      "metadata": {
        "colab": {
          "base_uri": "https://localhost:8080/"
        },
        "id": "dd64cc4c",
        "outputId": "8f9ffdca-1e91-417a-d925-fedfa8675e92"
      },
      "outputs": [
        {
          "name": "stdout",
          "output_type": "stream",
          "text": [
            "(199, 7)\n",
            "(199, 9)\n"
          ]
        }
      ],
      "source": [
        "\n",
        "# reading csv files\n",
        "Dataset_1 = pd.read_csv('Dataset_1.csv')\n",
        "\n",
        "Dataset_2 = pd.read_csv('Dataset_2.csv')\n",
        "\n",
        "\n",
        "#The shape method returns the number of rows and columns in the form of a tuple:\n",
        "print(Dataset_1.shape)\n",
        "print(Dataset_2.shape)\n",
        "\n",
        "\n",
        "\n",
        "\n"
      ]
    },
    {
      "cell_type": "code",
      "execution_count": 48,
      "id": "2ff69673",
      "metadata": {},
      "outputs": [
        {
          "name": "stdout",
          "output_type": "stream",
          "text": [
            "Collecting sns\n",
            "  Downloading sns-0.1.tar.gz (2.1 kB)\n",
            "Building wheels for collected packages: sns\n",
            "  Building wheel for sns (setup.py) ... \u001b[?25ldone\n",
            "\u001b[?25h  Created wheel for sns: filename=sns-0.1-py3-none-any.whl size=2661 sha256=b1b463beb6a8c24da11b70f23df2ef102cc0eaa81f72848388636bf727611bc2\n",
            "  Stored in directory: /Users/asadtariq/Library/Caches/pip/wheels/cc/26/02/785cf1aeaa8d9e565796a1b962467bcdf62172c8fe12096ffb\n",
            "Successfully built sns\n",
            "Installing collected packages: sns\n",
            "Successfully installed sns-0.1\n",
            "Note: you may need to restart the kernel to use updated packages.\n"
          ]
        }
      ],
      "source": [
        "# Installing Python seaborn library for Barchart.\n",
        "pip install sns"
      ]
    },
    {
      "cell_type": "code",
      "execution_count": null,
      "id": "632a3377",
      "metadata": {},
      "outputs": [],
      "source": [
        "import seaborn as sns"
      ]
    },
    {
      "cell_type": "code",
      "execution_count": 5,
      "id": "edfb7631",
      "metadata": {
        "id": "edfb7631"
      },
      "outputs": [
        {
          "data": {
            "text/html": [
              "<div>\n",
              "<style scoped>\n",
              "    .dataframe tbody tr th:only-of-type {\n",
              "        vertical-align: middle;\n",
              "    }\n",
              "\n",
              "    .dataframe tbody tr th {\n",
              "        vertical-align: top;\n",
              "    }\n",
              "\n",
              "    .dataframe thead th {\n",
              "        text-align: right;\n",
              "    }\n",
              "</style>\n",
              "<table border=\"1\" class=\"dataframe\">\n",
              "  <thead>\n",
              "    <tr style=\"text-align: right;\">\n",
              "      <th></th>\n",
              "      <th>id</th>\n",
              "      <th>Gender</th>\n",
              "      <th>Customer Type</th>\n",
              "      <th>Age</th>\n",
              "      <th>Type of Travel</th>\n",
              "      <th>Class</th>\n",
              "      <th>Flight Distance</th>\n",
              "    </tr>\n",
              "  </thead>\n",
              "  <tbody>\n",
              "    <tr>\n",
              "      <th>0</th>\n",
              "      <td>19556</td>\n",
              "      <td>Female</td>\n",
              "      <td>Loyal Customer</td>\n",
              "      <td>52</td>\n",
              "      <td>Business travel</td>\n",
              "      <td>Eco</td>\n",
              "      <td>160</td>\n",
              "    </tr>\n",
              "    <tr>\n",
              "      <th>1</th>\n",
              "      <td>90035</td>\n",
              "      <td>Female</td>\n",
              "      <td>Loyal Customer</td>\n",
              "      <td>36</td>\n",
              "      <td>Business travel</td>\n",
              "      <td>Business</td>\n",
              "      <td>2863</td>\n",
              "    </tr>\n",
              "    <tr>\n",
              "      <th>2</th>\n",
              "      <td>12360</td>\n",
              "      <td>Male</td>\n",
              "      <td>disloyal Customer</td>\n",
              "      <td>20</td>\n",
              "      <td>Business travel</td>\n",
              "      <td>Eco</td>\n",
              "      <td>192</td>\n",
              "    </tr>\n",
              "    <tr>\n",
              "      <th>3</th>\n",
              "      <td>77959</td>\n",
              "      <td>Male</td>\n",
              "      <td>Loyal Customer</td>\n",
              "      <td>44</td>\n",
              "      <td>Business travel</td>\n",
              "      <td>Business</td>\n",
              "      <td>3377</td>\n",
              "    </tr>\n",
              "    <tr>\n",
              "      <th>4</th>\n",
              "      <td>36875</td>\n",
              "      <td>Female</td>\n",
              "      <td>Loyal Customer</td>\n",
              "      <td>49</td>\n",
              "      <td>Business travel</td>\n",
              "      <td>Eco</td>\n",
              "      <td>1182</td>\n",
              "    </tr>\n",
              "  </tbody>\n",
              "</table>\n",
              "</div>"
            ],
            "text/plain": [
              "      id  Gender      Customer Type  Age   Type of Travel     Class  \\\n",
              "0  19556  Female     Loyal Customer   52  Business travel       Eco   \n",
              "1  90035  Female     Loyal Customer   36  Business travel  Business   \n",
              "2  12360    Male  disloyal Customer   20  Business travel       Eco   \n",
              "3  77959    Male     Loyal Customer   44  Business travel  Business   \n",
              "4  36875  Female     Loyal Customer   49  Business travel       Eco   \n",
              "\n",
              "   Flight Distance  \n",
              "0              160  \n",
              "1             2863  \n",
              "2              192  \n",
              "3             3377  \n",
              "4             1182  "
            ]
          },
          "execution_count": 5,
          "metadata": {},
          "output_type": "execute_result"
        }
      ],
      "source": [
        "Dataset_1.head() # Checking the dataset."
      ]
    },
    {
      "cell_type": "code",
      "execution_count": 62,
      "id": "c23bd06c",
      "metadata": {},
      "outputs": [
        {
          "data": {
            "text/plain": [
              "0         Eco\n",
              "1    Business\n",
              "2         Eco\n",
              "3    Business\n",
              "4         Eco\n",
              "Name: Class, dtype: object"
            ]
          },
          "execution_count": 62,
          "metadata": {},
          "output_type": "execute_result"
        }
      ],
      "source": [
        "class_ds =Dataset_1['Class'] # Assigning the Class column from the dataframe to a variable \n",
        "class_ds.head()"
      ]
    },
    {
      "cell_type": "code",
      "execution_count": 66,
      "id": "88a7c823",
      "metadata": {},
      "outputs": [
        {
          "data": {
            "image/png": "[encoded data removed]",
            "text/plain": [
              "<Figure size 432x288 with 1 Axes>"
            ]
          },
          "metadata": {},
          "output_type": "display_data"
        }
      ],
      "source": [
        "# Using Countplot from Seaborn library to show count of each class in the dataset. \n",
        "# countplot has multiple parameters, we need only,\n",
        "# 1. x-axis value i.e. x = class column of our dataset\n",
        "# 2. hue - it assigns different colors to diffieren x-axis values\n",
        "# 3. data - the dataset we are using \n",
        "bargraph = sns.countplot(x =class_ds, hue= class_ds, data = Dataset_1)\n",
        "\n",
        "# to plot the number of customer of each class, we use bar_label of each element in the bargraph list\n",
        "for p in bargraph.containers:\n",
        "    bargraph.bar_label(p)"
      ]
    },
    {
      "cell_type": "code",
      "execution_count": 54,
      "id": "dc976ba3",
      "metadata": {},
      "outputs": [
        {
          "data": {
            "image/png": "[encoded data removed]",
            "text/plain": [
              "<Figure size 432x288 with 1 Axes>"
            ]
          },
          "metadata": {},
          "output_type": "display_data"
        }
      ],
      "source": [
        "# class_ds.value_counts() give number of customers in each class.\n",
        "# plot.pie plots the pie chart\n",
        "# the parameter : \"autopct='%1.1f%%' \" shows the percentage of each class. \n",
        " \n",
        "fig = class_ds.value_counts().plot.pie(autopct='%1.1f%%')"
      ]
    }
  ],
  "metadata": {
    "colab": {
      "collapsed_sections": [],
      "name": "programs (4).ipynb",
      "provenance": []
    },
    "kernelspec": {
      "display_name": "Python 3 (ipykernel)",
      "language": "python",
      "name": "python3"
    },
    "language_info": {
      "codemirror_mode": {
        "name": "ipython",
        "version": 3
      },
      "file_extension": ".py",
      "mimetype": "text/x-python",
      "name": "python",
      "nbconvert_exporter": "python",
      "pygments_lexer": "ipython3",
      "version": "3.7.7"
    }
  },
  "nbformat": 4,
  "nbformat_minor": 5
}
