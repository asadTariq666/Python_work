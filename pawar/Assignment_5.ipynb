{
 "cells": [
  {
   "cell_type": "markdown",
   "metadata": {},
   "source": [
    "# Assignment 5: Matrix as a Linear Transformation\n",
    "## DTSC 680: Applied Machine Learning\n",
    "\n",
    "## Name: "
   ]
  },
  {
   "cell_type": "markdown",
   "metadata": {},
   "source": [
    "The purpose of this assignment is for you to gain experience working with matrices and vectors, as well as to understand the idea that a matrix can be viewed as a ___linear transformation___.  This requires us to think of a matrix $\\mathbf{A}$ as an object that \"acts\" (or \"operates\") on a vector $\\mathbf{x}$ by multiplication to produce a new vector called $\\mathbf{Ax}$.  The original vector is $\\mathbf{x}$, and the transformed vector is $\\mathbf{Ax}$.  In this assignment you will transform an ensemble of vectors using several different matrices (i.e. several different transformations) and observe the results.\n",
    "\n",
    "Before you continue, take a look at this video from 3Blue1Brown: [Linear transformations and matrices](https://youtu.be/kYB8IZa5AuE)\n",
    "\n",
    "In Assignment 4, you computed matrix-vector multiplications by hand for just a single vector - that is, you computed $\\mathbf{b}$ as $\\mathbf{Ax} = \\mathbf{b}$ manually.  For instance, you might have computed the following by hand:\n",
    "\n",
    "\n",
    "$$\n",
    "\\begin{bmatrix} 4 & -3 & 1 & 3 \\\\ 2 & 0 & 5 & 1 \\end{bmatrix} \\times \\left[ \\begin{array}{c} 1 \\\\ 1 \\\\ 1 \\\\ 1 \\end{array} \\right] = \\left[ \\begin{array}{c} 5 \\\\ 8 \\end{array} \\right]\n",
    "$$\n",
    "\n",
    "\n",
    "$$\n",
    "\\begin{bmatrix} 4 & -3 & 1 & 3 \\\\ 2 & 0 & 5 & 1 \\end{bmatrix} \\times \\left[ \\begin{array}{c} 1 \\\\ 4 \\\\ -1 \\\\ 3 \\end{array} \\right] = \\left[ \\begin{array}{c} 0 \\\\ 0 \\end{array} \\right]\n",
    "$$\n",
    "\n",
    "These equations say that multiplication by the matrix $\\mathbf{A}$ transforms the vector $\\left[ \\begin{array}{c} 1 & 1 & 1 & 1 \\end{array} \\right]^T$ into $\\left[ \\begin{array}{c} 5 & 8 \\end{array} \\right]^T$ and transforms the vector $\\left[ \\begin{array}{c} 1 & 4 & -1 & 3 \\end{array} \\right]^T$ into $\\left[ \\begin{array}{c} 0 & 0 \\end{array} \\right]^T$.  (Note: The superscript `T` denotes the transpose, which essentially means \"the rows become columns, and the columns become rows\".)\n",
    "\n",
    "Suppose that we wanted to perform this transformation not for just one vector (i.e. one single data point), but for many vectors (i.e. many data points) at the same time.  We could accomplish this by thinking of our vector now as a matrix of vectors, and we will apply the linear transformation to each of these vectors in the matrix. (So, now we will be performing matrix multiplication.) For example, to apply the linear transformation to the above two vectors at the same time, we would write:\n",
    "\n",
    "$$\n",
    "\\begin{bmatrix} 4 & -3 & 1 & 3 \\\\ 2 & 0 & 5 & 1 \\end{bmatrix} \\times \\left[ \\begin{array}{c} 1 & 1\\\\ 1 & 4 \\\\ 1 & -1 \\\\ 1 & 3 \\end{array} \\right] = \\left[ \\begin{array}{c} 5 & 0 \\\\ 8 & 0 \\end{array} \\right]\n",
    "$$\n",
    "\n",
    "So, what will we be doing in this assignment?  You will plot a simple dataset of points, where each point can be thought of as an individual vector in 2D Cartesian space.  You will then perform several different geometric linear transformations in real 2D space on this data (i.e. \"do some matrix multiplication with a supplied matrix\").  You will then plot the original data and the transformed data, and observe the transformation.  At the end, you will be asked to correctly label each of the different linear transformation matrices with its name based on the transformation results.\n",
    "\n",
    "The data you will read in has the typical format for 2D spatial data (typically for our class, that is) - there are three columns for the x, y, and z coordinates.  For example, the data you import will have the following form (Actually, this is not true! Your data will be in 2 dimensions, but I will show you 3 here.):\n",
    "\n",
    "$$\n",
    "\\begin{bmatrix} x_1 & y_1 & z_1 \\\\ x_2 & y_2 & z_2 \\\\ x_3 & y_3 & z_3 \\\\ \\vdots & \\vdots & \\vdots \\\\ x_n & y_n & z_n \\end{bmatrix}\n",
    "$$\n",
    "\n",
    "We can view each data point as a vector.  So, the first vector would be \n",
    "\n",
    "$$\n",
    "\\mathbf{v} = \\left[ \\begin{array}{c} x_1 \\\\ y_1 \\\\ z_1 \\end{array} \\right]\n",
    "$$\n",
    "\n",
    "Do you see how we need a column vector for the matrix multiplication to work properly, but each vector appears as a row vector in the matrix?  Well, in order for the matrix multiplication to work properly, the dimensions of our matrices must agree.  Accordingly, we must employ the [transpose](https://www.youtube.com/watch?v=TZrKrNVhbjI) when multiplying our matrix of vectors by our transformation matrix.  What I am referring to is that, for matrix multiplication to work, the number of columns in the first matrix must be equal to the number of rows in the second matrix - this is spelled out in one of the lecture videos you watched for Assignment 4.\n",
    "\n",
    "A couple last notes: Use NumPy arrays to represent your matrices, so that matrix multiplication can be performed using the [dot()](https://numpy.org/doc/stable/reference/generated/numpy.dot.html) method.  Also, you can get the transpose of a Numpy array by using its [T](https://numpy.org/doc/stable/reference/generated/numpy.ndarray.T.html) attribute. "
   ]
  },
  {
   "cell_type": "markdown",
   "metadata": {},
   "source": [
    "# Preliminaries\n",
    "\n",
    "Let's import some common packages:"
   ]
  },
  {
   "cell_type": "code",
   "execution_count": null,
   "metadata": {},
   "outputs": [],
   "source": [
    "import matplotlib.pyplot as plt\n",
    "import matplotlib as mpl\n",
    "from matplotlib import cm\n",
    "import numpy as np\n",
    "import pandas as pd\n",
    "%matplotlib inline\n",
    "mpl.rc('axes', labelsize=14)\n",
    "mpl.rc('xtick', labelsize=12)\n",
    "mpl.rc('ytick', labelsize=12)\n",
    "import os\n",
    "\n",
    "# Where to save the figures\n",
    "PROJECT_ROOT_DIR = \".\"\n",
    "FOLDER = \"figures\"\n",
    "IMAGES_PATH = os.path.join(PROJECT_ROOT_DIR, FOLDER)\n",
    "os.makedirs(IMAGES_PATH, exist_ok=True)\n",
    "\n",
    "def save_fig(fig_id, tight_layout=True, fig_extension=\"png\", resolution=300):\n",
    "    path = os.path.join(IMAGES_PATH, fig_id + \".\" + fig_extension)\n",
    "    print(\"Saving figure\", fig_id)\n",
    "    if tight_layout:\n",
    "        plt.tight_layout()\n",
    "    plt.savefig(path, format=fig_extension, dpi=resolution)"
   ]
  },
  {
   "cell_type": "markdown",
   "metadata": {},
   "source": [
    "# Write Plotting Function\n",
    "You must define a function called `plotTransformedData(original_df, trans_df, colors, size, limits)` that accepts two Pandas DataFrames (composed of 2 spatial coordinates each) called `original_df` and `trans_df`.  The former is the original data that you will read in, and the latter is that data after you applied a linear transformation to it.  You will plot both, side-by-side, to compare the before and after effects of the transformation.  The function must use [scatter()](https://matplotlib.org/stable/api/_as_gen/matplotlib.pyplot.scatter.html) to plot the data.  \n",
    "\n",
    "Additionally, the `plotTransformedData` function accepts three other parameters: `colors`, `size`, and `limits`.  \n",
    "\n",
    "- The `colors` parameter is passed to the `scatter` function through its `c` parameter.  The `colors` parameter must be a $(n,3)$ NumPy array, where $n$ is the number of data points and each of the three columns corresponds to an RGB value in the range [0,1]. *Hint: The first point is black and the last point is red. Look up the RGB colors for these two colors and think about how you could get the colors to gradually go from black to red.*\n",
    "- The `size` parameter is passed to the `scatter` function through its `s` parameter.  The `size` parameter controls the size of the marker used to represent the data point, and must be a Numpy array of size $(n,)$.  (You can use np.linspace() to create the array).  \n",
    "- Finally, the `limits` parameter is a list that looks like this: `limits = [xmin, xmax, ymin, ymax]`, where the values are the limits for the x and y axes.  You must specify these `limits` values so that they are equal to mine (I used -2.25 and +2.25 for both x and y as my limits).\n",
    "\n",
    "You must place the definition of the `plotTransformedData(original_df, trans_df, colors, size, limits)` function in the following cell. \n",
    "\n",
    "Note: An example figure is shown below that you should emulate as closely as possible."
   ]
  },
  {
   "cell_type": "code",
   "execution_count": null,
   "metadata": {},
   "outputs": [],
   "source": [
    "def plotTransformedData(original_df, trans_df, colors, size, limits):\n",
    "\n",
    "    ### ENTER CODE HERE ###"
   ]
  },
  {
   "cell_type": "markdown",
   "metadata": {},
   "source": [
    "# Import Data\n",
    "\n",
    "Import data from the file called `2D_data.csv`.  Name the returned DataFrame `data`."
   ]
  },
  {
   "cell_type": "code",
   "execution_count": null,
   "metadata": {},
   "outputs": [],
   "source": [
    "### ENTER CODE HERE ###"
   ]
  },
  {
   "cell_type": "markdown",
   "metadata": {},
   "source": [
    "# Plot Initial Data\n",
    "\n",
    "Begin by specifying the `colors`, `sizes`, and `limits` parameters for the `plotTransformedData` function.  You will not call the `plotTransformedData(original_df, trans_df, colors, size, limits)` function in this section, but rather you'll invoke it below in the section called _Perform Linear Transformations and Plot Results_.  However, you will plot the `data` DataFrame here, merely to inspect it, using the marker colors, marker sizes, and axis limits specified by the `colors`, `sizes`, and `limits` parameters.\n",
    "\n",
    "So, plot `data` here.  You should emulate the marker colors and sizes shown below as best as you can.  The marker sizes range from small to large, and the marker colors vary from black to red. "
   ]
  },
  {
   "cell_type": "code",
   "execution_count": 87,
   "metadata": {},
   "outputs": [
    {
     "data": {
      "image/png": "[encoded data removed]",
      "text/plain": [
       "<Figure size 720x360 with 1 Axes>"
      ]
     },
     "metadata": {
      "needs_background": "light"
     },
     "output_type": "display_data"
    }
   ],
   "source": [
    "### ENTER CODE HERE ###"
   ]
  },
  {
   "cell_type": "markdown",
   "metadata": {},
   "source": [
    "# Define Data Matrix and Transformation Matrices\n",
    "\n",
    "Create a NumPy array called `X` from the `data` DataFrame above.  Further, you must define the following transformation matrices.  You must declare these matrices to be NumPy arrays, and name them A1, A2, ..., AN, as shown.\n",
    "\n",
    "<img src=\"transformationMatrices.png\" width =\"350\" />"
   ]
  },
  {
   "cell_type": "code",
   "execution_count": null,
   "metadata": {},
   "outputs": [],
   "source": [
    "# -------------------- Define X NumpPy Array -------------------- #\n",
    "\n",
    "# Data Matrix\n",
    "### ENTER CODE HERE ###\n",
    "\n",
    "# -------------------- Define 13 NumPy Arrays -------------------- #\n",
    "\n",
    "### ENTER CODE HERE ###"
   ]
  },
  {
   "cell_type": "markdown",
   "metadata": {},
   "source": [
    "# Perform Linear Transformations and Plot Results\n",
    "\n",
    "In this section, you will perform the following:\n",
    "\n",
    "$$\n",
    "\\mathbf{X}_{trans} = \\mathbf{A} \\mathbf{X}^T\n",
    "$$\n",
    "\n",
    "where $\\mathbf{X}$ is the data you read in from the file, $\\mathbf{A}$ is any one of the thirteen transformation matrices, and $\\mathbf{X}_{trans}$ is the transformed data.  You should express the matrix multiplication in one line of code! \n",
    "\n",
    "**Important:** When performing the matrix multiplication, please note that the order in scalar or dot product matters. A dot B is not the same as B dot A."
   ]
  },
  {
   "cell_type": "markdown",
   "metadata": {},
   "source": [
    "### Identity Matrix\n",
    "\n",
    "Any matrix $\\mathbf{A}$ multiplied by the ___Identity Matrix___ $\\mathbf{I}$ is equal to itself! That is, $\\mathbf{AI} = \\mathbf{A}$.  The 2D identity matrix is given below. \n"
   ]
  },
  {
   "cell_type": "code",
   "execution_count": 109,
   "metadata": {},
   "outputs": [
    {
     "data": {
      "image/png": "[encoded data removed]",
      "text/plain": [
       "<Figure size 1296x720 with 2 Axes>"
      ]
     },
     "metadata": {
      "needs_background": "light"
     },
     "output_type": "display_data"
    }
   ],
   "source": [
    "# Perform Matrix Multiplication\n",
    "### ENTER CODE HERE ###\n",
    "\n",
    "# Plot Transformation\n",
    "### ENTER CODE HERE ###"
   ]
  },
  {
   "cell_type": "markdown",
   "metadata": {},
   "source": [
    "For the rest of the following linear transformations, you can Google the matrix transformation definitions to learn more.\n",
    "### Rotation Matrix"
   ]
  },
  {
   "cell_type": "code",
   "execution_count": null,
   "metadata": {},
   "outputs": [],
   "source": [
    "# Perform Matrix Multiplication\n",
    "### ENTER CODE HERE ###\n",
    "\n",
    "# Plot Transformation\n",
    "### ENTER CODE HERE ###"
   ]
  },
  {
   "cell_type": "markdown",
   "metadata": {},
   "source": [
    "### Reflection Matrices"
   ]
  },
  {
   "cell_type": "code",
   "execution_count": null,
   "metadata": {},
   "outputs": [],
   "source": [
    "# Perform Matrix Multiplication\n",
    "### ENTER CODE HERE ###\n",
    "\n",
    "# Plot Transformation\n",
    "### ENTER CODE HERE ###"
   ]
  },
  {
   "cell_type": "code",
   "execution_count": null,
   "metadata": {},
   "outputs": [],
   "source": [
    "# Perform Matrix Multiplication\n",
    "### ENTER CODE HERE ###\n",
    "\n",
    "# Plot Transformation\n",
    "### ENTER CODE HERE ###"
   ]
  },
  {
   "cell_type": "code",
   "execution_count": null,
   "metadata": {},
   "outputs": [],
   "source": [
    "# Perform Matrix Multiplication\n",
    "### ENTER CODE HERE ###\n",
    "\n",
    "# Plot Transformation\n",
    "### ENTER CODE HERE ###"
   ]
  },
  {
   "cell_type": "code",
   "execution_count": null,
   "metadata": {},
   "outputs": [],
   "source": [
    "# Perform Matrix Multiplication\n",
    "### ENTER CODE HERE ###\n",
    "\n",
    "# Plot Transformation\n",
    "### ENTER CODE HERE ###"
   ]
  },
  {
   "cell_type": "code",
   "execution_count": null,
   "metadata": {},
   "outputs": [],
   "source": [
    "# Perform Matrix Multiplication\n",
    "### ENTER CODE HERE ###\n",
    "\n",
    "# Plot Transformation\n",
    "### ENTER CODE HERE ###"
   ]
  },
  {
   "cell_type": "markdown",
   "metadata": {},
   "source": [
    "### Contraction and Expansion Matrices"
   ]
  },
  {
   "cell_type": "code",
   "execution_count": null,
   "metadata": {},
   "outputs": [],
   "source": [
    "# Perform Matrix Multiplication\n",
    "### ENTER CODE HERE ###\n",
    "\n",
    "# Plot Transformation\n",
    "### ENTER CODE HERE ###"
   ]
  },
  {
   "cell_type": "code",
   "execution_count": null,
   "metadata": {},
   "outputs": [],
   "source": [
    "# Perform Matrix Multiplication\n",
    "### ENTER CODE HERE ###\n",
    "\n",
    "# Plot Transformation\n",
    "### ENTER CODE HERE ###"
   ]
  },
  {
   "cell_type": "markdown",
   "metadata": {},
   "source": [
    "### Shearing Matrices"
   ]
  },
  {
   "cell_type": "code",
   "execution_count": null,
   "metadata": {},
   "outputs": [],
   "source": [
    "# Perform Matrix Multiplication\n",
    "### ENTER CODE HERE ###\n",
    "\n",
    "# Plot Transformation\n",
    "### ENTER CODE HERE ###"
   ]
  },
  {
   "cell_type": "code",
   "execution_count": null,
   "metadata": {},
   "outputs": [],
   "source": [
    "# Perform Matrix Multiplication\n",
    "### ENTER CODE HERE ###\n",
    "\n",
    "# Plot Transformation\n",
    "### ENTER CODE HERE ###"
   ]
  },
  {
   "cell_type": "markdown",
   "metadata": {},
   "source": [
    "### Projection Matrices"
   ]
  },
  {
   "cell_type": "code",
   "execution_count": null,
   "metadata": {},
   "outputs": [],
   "source": [
    "# Perform Matrix Multiplication\n",
    "### ENTER CODE HERE ###\n",
    "\n",
    "# Plot Transformation\n",
    "### ENTER CODE HERE ###"
   ]
  },
  {
   "cell_type": "code",
   "execution_count": null,
   "metadata": {},
   "outputs": [],
   "source": [
    "# Perform Matrix Multiplication\n",
    "### ENTER CODE HERE ###\n",
    "\n",
    "# Plot Transformation\n",
    "### ENTER CODE HERE ###"
   ]
  },
  {
   "cell_type": "markdown",
   "metadata": {},
   "source": [
    "# Connect the Dots\n",
    "\n",
    "In this section, you must correctly label linear transformations their names.  The pool of transformations is given below:\n",
    "\n",
    "- Identity Matrix\n",
    "- Rotation Matrix\n",
    "- Reflection through the x Axis Matrix\n",
    "- Reflection through the y Axis Matrix\n",
    "- Reflection through the Line y = x Matrix\n",
    "- Reflection through the Line y = -x Matrix\n",
    "- Reflection through the Origin Matrix\n",
    "- Horizontal Contraction/Expansion Matrix\n",
    "- Vertical Contraction/Expansion Matrix\n",
    "- Hortizontal Shear Matrix\n",
    "- Vertical Shear Matrix\n",
    "- Projection onto x Axis Matrix\n",
    "- Projection onto y Axis Matrix\n",
    "\n",
    "You must correctly label the following linear transformations with the above names.\n",
    "\n",
    "1. A1:\n",
    "2. A2:\n",
    "3. A3:\n",
    "4. A4:\n",
    "5. A5:\n",
    "6. A6:\n",
    "7. A7:\n",
    "8. A8:\n",
    "9. A9:\n",
    "10. A10:\n",
    "11. A11:\n",
    "12. A12:\n",
    "13. A13:\n",
    "\n"
   ]
  },
  {
   "cell_type": "code",
   "execution_count": null,
   "metadata": {},
   "outputs": [],
   "source": []
  }
 ],
 "metadata": {
  "kernelspec": {
   "display_name": "Python 3",
   "language": "python",
   "name": "python3"
  },
  "language_info": {
   "codemirror_mode": {
    "name": "ipython",
    "version": 3
   },
   "file_extension": ".py",
   "mimetype": "text/x-python",
   "name": "python",
   "nbconvert_exporter": "python",
   "pygments_lexer": "ipython3",
   "version": "3.8.5"
  }
 },
 "nbformat": 4,
 "nbformat_minor": 2
}
