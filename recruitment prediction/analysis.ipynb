{
 "cells": [
  {
   "cell_type": "markdown",
   "metadata": {},
   "source": [
    "# Data Wrangling and Pre Processing"
   ]
  },
  {
   "cell_type": "code",
   "execution_count": 50,
   "metadata": {},
   "outputs": [],
   "source": [
    "import pandas as pd\n",
    "import matplotlib.pyplot as plt\n",
    "from sklearn.preprocessing import Normalizer\n",
    "from sklearn.model_selection import train_test_split\n",
    "from sklearn.neighbors import KNeighborsClassifier\n",
    "from sklearn import metrics\n",
    "from sklearn.metrics import accuracy_score\n",
    "from sklearn.metrics import confusion_matrix, ConfusionMatrixDisplay\n",
    "import warnings\n",
    "warnings.simplefilter(\"ignore\")\n"
   ]
  },
  {
   "cell_type": "code",
   "execution_count": 51,
   "metadata": {},
   "outputs": [
    {
     "data": {
      "text/html": [
       "<div>\n",
       "<style scoped>\n",
       "    .dataframe tbody tr th:only-of-type {\n",
       "        vertical-align: middle;\n",
       "    }\n",
       "\n",
       "    .dataframe tbody tr th {\n",
       "        vertical-align: top;\n",
       "    }\n",
       "\n",
       "    .dataframe thead th {\n",
       "        text-align: right;\n",
       "    }\n",
       "</style>\n",
       "<table border=\"1\" class=\"dataframe\">\n",
       "  <thead>\n",
       "    <tr style=\"text-align: right;\">\n",
       "      <th></th>\n",
       "      <th>Id</th>\n",
       "      <th>gender</th>\n",
       "      <th>age</th>\n",
       "      <th>nationality</th>\n",
       "      <th>sport</th>\n",
       "      <th>ind-university_grade</th>\n",
       "      <th>ind-debateclub</th>\n",
       "      <th>ind-programming_exp</th>\n",
       "      <th>ind-international_exp</th>\n",
       "      <th>ind-entrepeneur_exp</th>\n",
       "      <th>ind-languages</th>\n",
       "      <th>ind-exact_study</th>\n",
       "      <th>ind-degree</th>\n",
       "      <th>company</th>\n",
       "      <th>decision</th>\n",
       "    </tr>\n",
       "  </thead>\n",
       "  <tbody>\n",
       "    <tr>\n",
       "      <th>0</th>\n",
       "      <td>x8011e</td>\n",
       "      <td>female</td>\n",
       "      <td>24</td>\n",
       "      <td>German</td>\n",
       "      <td>Swimming</td>\n",
       "      <td>70</td>\n",
       "      <td>False</td>\n",
       "      <td>False</td>\n",
       "      <td>False</td>\n",
       "      <td>False</td>\n",
       "      <td>1</td>\n",
       "      <td>True</td>\n",
       "      <td>phd</td>\n",
       "      <td>A</td>\n",
       "      <td>True</td>\n",
       "    </tr>\n",
       "    <tr>\n",
       "      <th>1</th>\n",
       "      <td>x6077a</td>\n",
       "      <td>male</td>\n",
       "      <td>26</td>\n",
       "      <td>German</td>\n",
       "      <td>Golf</td>\n",
       "      <td>67</td>\n",
       "      <td>False</td>\n",
       "      <td>True</td>\n",
       "      <td>False</td>\n",
       "      <td>False</td>\n",
       "      <td>2</td>\n",
       "      <td>True</td>\n",
       "      <td>bachelor</td>\n",
       "      <td>A</td>\n",
       "      <td>False</td>\n",
       "    </tr>\n",
       "    <tr>\n",
       "      <th>2</th>\n",
       "      <td>x6006e</td>\n",
       "      <td>female</td>\n",
       "      <td>23</td>\n",
       "      <td>Dutch</td>\n",
       "      <td>Running</td>\n",
       "      <td>67</td>\n",
       "      <td>False</td>\n",
       "      <td>True</td>\n",
       "      <td>True</td>\n",
       "      <td>False</td>\n",
       "      <td>0</td>\n",
       "      <td>True</td>\n",
       "      <td>master</td>\n",
       "      <td>A</td>\n",
       "      <td>False</td>\n",
       "    </tr>\n",
       "    <tr>\n",
       "      <th>3</th>\n",
       "      <td>x2173b</td>\n",
       "      <td>male</td>\n",
       "      <td>24</td>\n",
       "      <td>Dutch</td>\n",
       "      <td>Cricket</td>\n",
       "      <td>70</td>\n",
       "      <td>False</td>\n",
       "      <td>True</td>\n",
       "      <td>False</td>\n",
       "      <td>False</td>\n",
       "      <td>1</td>\n",
       "      <td>True</td>\n",
       "      <td>master</td>\n",
       "      <td>A</td>\n",
       "      <td>True</td>\n",
       "    </tr>\n",
       "    <tr>\n",
       "      <th>4</th>\n",
       "      <td>x6241a</td>\n",
       "      <td>female</td>\n",
       "      <td>26</td>\n",
       "      <td>German</td>\n",
       "      <td>Golf</td>\n",
       "      <td>59</td>\n",
       "      <td>False</td>\n",
       "      <td>False</td>\n",
       "      <td>False</td>\n",
       "      <td>False</td>\n",
       "      <td>1</td>\n",
       "      <td>False</td>\n",
       "      <td>master</td>\n",
       "      <td>A</td>\n",
       "      <td>True</td>\n",
       "    </tr>\n",
       "  </tbody>\n",
       "</table>\n",
       "</div>"
      ],
      "text/plain": [
       "       Id  gender  age nationality     sport  ind-university_grade  \\\n",
       "0  x8011e  female   24      German  Swimming                    70   \n",
       "1  x6077a    male   26      German      Golf                    67   \n",
       "2  x6006e  female   23       Dutch   Running                    67   \n",
       "3  x2173b    male   24       Dutch   Cricket                    70   \n",
       "4  x6241a  female   26      German      Golf                    59   \n",
       "\n",
       "   ind-debateclub  ind-programming_exp  ind-international_exp  \\\n",
       "0           False                False                  False   \n",
       "1           False                 True                  False   \n",
       "2           False                 True                   True   \n",
       "3           False                 True                  False   \n",
       "4           False                False                  False   \n",
       "\n",
       "   ind-entrepeneur_exp  ind-languages  ind-exact_study ind-degree company  \\\n",
       "0                False              1             True        phd       A   \n",
       "1                False              2             True   bachelor       A   \n",
       "2                False              0             True     master       A   \n",
       "3                False              1             True     master       A   \n",
       "4                False              1            False     master       A   \n",
       "\n",
       "   decision  \n",
       "0      True  \n",
       "1     False  \n",
       "2     False  \n",
       "3      True  \n",
       "4      True  "
      ]
     },
     "execution_count": 51,
     "metadata": {},
     "output_type": "execute_result"
    }
   ],
   "source": [
    "# Load the data from the file recruitmentdataset.csv. (2)\n",
    "df = pd.read_csv(\"recruitmentdataset.csv\")\n",
    "df.head()\n"
   ]
  },
  {
   "cell_type": "code",
   "execution_count": 52,
   "metadata": {},
   "outputs": [
    {
     "name": "stdout",
     "output_type": "stream",
     "text": [
      "Id                       0\n",
      "gender                   0\n",
      "age                      0\n",
      "nationality              0\n",
      "sport                    0\n",
      "ind-university_grade     0\n",
      "ind-debateclub           0\n",
      "ind-programming_exp      0\n",
      "ind-international_exp    0\n",
      "ind-entrepeneur_exp      0\n",
      "ind-languages            0\n",
      "ind-exact_study          0\n",
      "ind-degree               0\n",
      "company                  0\n",
      "decision                 0\n",
      "dtype: int64\n"
     ]
    }
   ],
   "source": [
    "\n",
    "print(df.isnull().sum()) \n",
    "# No null values, no need for data wrangling for null values"
   ]
  },
  {
   "cell_type": "markdown",
   "metadata": {},
   "source": [
    "### Restricting dataset to Company = D only"
   ]
  },
  {
   "cell_type": "code",
   "execution_count": 53,
   "metadata": {},
   "outputs": [
    {
     "data": {
      "text/html": [
       "<div>\n",
       "<style scoped>\n",
       "    .dataframe tbody tr th:only-of-type {\n",
       "        vertical-align: middle;\n",
       "    }\n",
       "\n",
       "    .dataframe tbody tr th {\n",
       "        vertical-align: top;\n",
       "    }\n",
       "\n",
       "    .dataframe thead th {\n",
       "        text-align: right;\n",
       "    }\n",
       "</style>\n",
       "<table border=\"1\" class=\"dataframe\">\n",
       "  <thead>\n",
       "    <tr style=\"text-align: right;\">\n",
       "      <th></th>\n",
       "      <th>Id</th>\n",
       "      <th>gender</th>\n",
       "      <th>age</th>\n",
       "      <th>nationality</th>\n",
       "      <th>sport</th>\n",
       "      <th>ind-university_grade</th>\n",
       "      <th>ind-debateclub</th>\n",
       "      <th>ind-programming_exp</th>\n",
       "      <th>ind-international_exp</th>\n",
       "      <th>ind-entrepeneur_exp</th>\n",
       "      <th>ind-languages</th>\n",
       "      <th>ind-exact_study</th>\n",
       "      <th>ind-degree</th>\n",
       "      <th>company</th>\n",
       "      <th>decision</th>\n",
       "    </tr>\n",
       "  </thead>\n",
       "  <tbody>\n",
       "    <tr>\n",
       "      <th>3000</th>\n",
       "      <td>x4293e</td>\n",
       "      <td>female</td>\n",
       "      <td>28</td>\n",
       "      <td>Dutch</td>\n",
       "      <td>Golf</td>\n",
       "      <td>65</td>\n",
       "      <td>False</td>\n",
       "      <td>False</td>\n",
       "      <td>True</td>\n",
       "      <td>False</td>\n",
       "      <td>1</td>\n",
       "      <td>False</td>\n",
       "      <td>phd</td>\n",
       "      <td>D</td>\n",
       "      <td>True</td>\n",
       "    </tr>\n",
       "    <tr>\n",
       "      <th>3001</th>\n",
       "      <td>x8138a</td>\n",
       "      <td>female</td>\n",
       "      <td>22</td>\n",
       "      <td>Dutch</td>\n",
       "      <td>Football</td>\n",
       "      <td>70</td>\n",
       "      <td>False</td>\n",
       "      <td>True</td>\n",
       "      <td>False</td>\n",
       "      <td>False</td>\n",
       "      <td>1</td>\n",
       "      <td>True</td>\n",
       "      <td>master</td>\n",
       "      <td>D</td>\n",
       "      <td>True</td>\n",
       "    </tr>\n",
       "    <tr>\n",
       "      <th>3002</th>\n",
       "      <td>x8454a</td>\n",
       "      <td>male</td>\n",
       "      <td>26</td>\n",
       "      <td>Dutch</td>\n",
       "      <td>Tennis</td>\n",
       "      <td>59</td>\n",
       "      <td>False</td>\n",
       "      <td>False</td>\n",
       "      <td>False</td>\n",
       "      <td>False</td>\n",
       "      <td>2</td>\n",
       "      <td>False</td>\n",
       "      <td>bachelor</td>\n",
       "      <td>D</td>\n",
       "      <td>False</td>\n",
       "    </tr>\n",
       "    <tr>\n",
       "      <th>3003</th>\n",
       "      <td>x9679f</td>\n",
       "      <td>male</td>\n",
       "      <td>23</td>\n",
       "      <td>Dutch</td>\n",
       "      <td>Tennis</td>\n",
       "      <td>69</td>\n",
       "      <td>False</td>\n",
       "      <td>True</td>\n",
       "      <td>False</td>\n",
       "      <td>True</td>\n",
       "      <td>2</td>\n",
       "      <td>True</td>\n",
       "      <td>master</td>\n",
       "      <td>D</td>\n",
       "      <td>True</td>\n",
       "    </tr>\n",
       "    <tr>\n",
       "      <th>3004</th>\n",
       "      <td>x8821g</td>\n",
       "      <td>female</td>\n",
       "      <td>21</td>\n",
       "      <td>Dutch</td>\n",
       "      <td>Football</td>\n",
       "      <td>66</td>\n",
       "      <td>False</td>\n",
       "      <td>False</td>\n",
       "      <td>False</td>\n",
       "      <td>True</td>\n",
       "      <td>2</td>\n",
       "      <td>False</td>\n",
       "      <td>bachelor</td>\n",
       "      <td>D</td>\n",
       "      <td>True</td>\n",
       "    </tr>\n",
       "  </tbody>\n",
       "</table>\n",
       "</div>"
      ],
      "text/plain": [
       "          Id  gender  age nationality     sport  ind-university_grade  \\\n",
       "3000  x4293e  female   28       Dutch      Golf                    65   \n",
       "3001  x8138a  female   22       Dutch  Football                    70   \n",
       "3002  x8454a    male   26       Dutch    Tennis                    59   \n",
       "3003  x9679f    male   23       Dutch    Tennis                    69   \n",
       "3004  x8821g  female   21       Dutch  Football                    66   \n",
       "\n",
       "      ind-debateclub  ind-programming_exp  ind-international_exp  \\\n",
       "3000           False                False                   True   \n",
       "3001           False                 True                  False   \n",
       "3002           False                False                  False   \n",
       "3003           False                 True                  False   \n",
       "3004           False                False                  False   \n",
       "\n",
       "      ind-entrepeneur_exp  ind-languages  ind-exact_study ind-degree company  \\\n",
       "3000                False              1            False        phd       D   \n",
       "3001                False              1             True     master       D   \n",
       "3002                False              2            False   bachelor       D   \n",
       "3003                 True              2             True     master       D   \n",
       "3004                 True              2            False   bachelor       D   \n",
       "\n",
       "      decision  \n",
       "3000      True  \n",
       "3001      True  \n",
       "3002     False  \n",
       "3003      True  \n",
       "3004      True  "
      ]
     },
     "execution_count": 53,
     "metadata": {},
     "output_type": "execute_result"
    }
   ],
   "source": [
    "df = df[df['company']=='D']\n",
    "df.head()"
   ]
  },
  {
   "cell_type": "markdown",
   "metadata": {},
   "source": [
    "### Changing categorical data in to Numerical data to make them ready for machine learning model"
   ]
  },
  {
   "cell_type": "code",
   "execution_count": 54,
   "metadata": {},
   "outputs": [],
   "source": [
    "df[['gender', 'nationality','sport','ind-degree']] = df[['gender', 'nationality','sport','ind-degree']].apply(lambda x: pd.factorize(x)[0])"
   ]
  },
  {
   "cell_type": "markdown",
   "metadata": {},
   "source": [
    "### Changing boolean variables from True/False to 1/0."
   ]
  },
  {
   "cell_type": "code",
   "execution_count": 55,
   "metadata": {},
   "outputs": [],
   "source": [
    "df[\"ind-debateclub\"] = df[\"ind-debateclub\"].astype(int)\n",
    "df[\"ind-programming_exp\"] = df[\"ind-programming_exp\"].astype(int)\n",
    "df[\"ind-international_exp\"] = df[\"ind-international_exp\"].astype(int)\n",
    "df[\"ind-entrepeneur_exp\"] = df[\"ind-entrepeneur_exp\"].astype(int)\n",
    "df[\"ind-exact_study\"] = df[\"ind-exact_study\"].astype(int)\n",
    "df[\"decision\"] = df[\"decision\"].astype(int)"
   ]
  },
  {
   "cell_type": "code",
   "execution_count": 56,
   "metadata": {},
   "outputs": [
    {
     "data": {
      "text/html": [
       "<div>\n",
       "<style scoped>\n",
       "    .dataframe tbody tr th:only-of-type {\n",
       "        vertical-align: middle;\n",
       "    }\n",
       "\n",
       "    .dataframe tbody tr th {\n",
       "        vertical-align: top;\n",
       "    }\n",
       "\n",
       "    .dataframe thead th {\n",
       "        text-align: right;\n",
       "    }\n",
       "</style>\n",
       "<table border=\"1\" class=\"dataframe\">\n",
       "  <thead>\n",
       "    <tr style=\"text-align: right;\">\n",
       "      <th></th>\n",
       "      <th>Id</th>\n",
       "      <th>gender</th>\n",
       "      <th>age</th>\n",
       "      <th>nationality</th>\n",
       "      <th>sport</th>\n",
       "      <th>ind-university_grade</th>\n",
       "      <th>ind-debateclub</th>\n",
       "      <th>ind-programming_exp</th>\n",
       "      <th>ind-international_exp</th>\n",
       "      <th>ind-entrepeneur_exp</th>\n",
       "      <th>ind-languages</th>\n",
       "      <th>ind-exact_study</th>\n",
       "      <th>ind-degree</th>\n",
       "      <th>company</th>\n",
       "      <th>decision</th>\n",
       "    </tr>\n",
       "  </thead>\n",
       "  <tbody>\n",
       "    <tr>\n",
       "      <th>3000</th>\n",
       "      <td>x4293e</td>\n",
       "      <td>0</td>\n",
       "      <td>28</td>\n",
       "      <td>0</td>\n",
       "      <td>0</td>\n",
       "      <td>65</td>\n",
       "      <td>0</td>\n",
       "      <td>0</td>\n",
       "      <td>1</td>\n",
       "      <td>0</td>\n",
       "      <td>1</td>\n",
       "      <td>0</td>\n",
       "      <td>0</td>\n",
       "      <td>D</td>\n",
       "      <td>1</td>\n",
       "    </tr>\n",
       "    <tr>\n",
       "      <th>3001</th>\n",
       "      <td>x8138a</td>\n",
       "      <td>0</td>\n",
       "      <td>22</td>\n",
       "      <td>0</td>\n",
       "      <td>1</td>\n",
       "      <td>70</td>\n",
       "      <td>0</td>\n",
       "      <td>1</td>\n",
       "      <td>0</td>\n",
       "      <td>0</td>\n",
       "      <td>1</td>\n",
       "      <td>1</td>\n",
       "      <td>1</td>\n",
       "      <td>D</td>\n",
       "      <td>1</td>\n",
       "    </tr>\n",
       "    <tr>\n",
       "      <th>3002</th>\n",
       "      <td>x8454a</td>\n",
       "      <td>1</td>\n",
       "      <td>26</td>\n",
       "      <td>0</td>\n",
       "      <td>2</td>\n",
       "      <td>59</td>\n",
       "      <td>0</td>\n",
       "      <td>0</td>\n",
       "      <td>0</td>\n",
       "      <td>0</td>\n",
       "      <td>2</td>\n",
       "      <td>0</td>\n",
       "      <td>2</td>\n",
       "      <td>D</td>\n",
       "      <td>0</td>\n",
       "    </tr>\n",
       "    <tr>\n",
       "      <th>3003</th>\n",
       "      <td>x9679f</td>\n",
       "      <td>1</td>\n",
       "      <td>23</td>\n",
       "      <td>0</td>\n",
       "      <td>2</td>\n",
       "      <td>69</td>\n",
       "      <td>0</td>\n",
       "      <td>1</td>\n",
       "      <td>0</td>\n",
       "      <td>1</td>\n",
       "      <td>2</td>\n",
       "      <td>1</td>\n",
       "      <td>1</td>\n",
       "      <td>D</td>\n",
       "      <td>1</td>\n",
       "    </tr>\n",
       "    <tr>\n",
       "      <th>3004</th>\n",
       "      <td>x8821g</td>\n",
       "      <td>0</td>\n",
       "      <td>21</td>\n",
       "      <td>0</td>\n",
       "      <td>1</td>\n",
       "      <td>66</td>\n",
       "      <td>0</td>\n",
       "      <td>0</td>\n",
       "      <td>0</td>\n",
       "      <td>1</td>\n",
       "      <td>2</td>\n",
       "      <td>0</td>\n",
       "      <td>2</td>\n",
       "      <td>D</td>\n",
       "      <td>1</td>\n",
       "    </tr>\n",
       "  </tbody>\n",
       "</table>\n",
       "</div>"
      ],
      "text/plain": [
       "          Id  gender  age  nationality  sport  ind-university_grade  \\\n",
       "3000  x4293e       0   28            0      0                    65   \n",
       "3001  x8138a       0   22            0      1                    70   \n",
       "3002  x8454a       1   26            0      2                    59   \n",
       "3003  x9679f       1   23            0      2                    69   \n",
       "3004  x8821g       0   21            0      1                    66   \n",
       "\n",
       "      ind-debateclub  ind-programming_exp  ind-international_exp  \\\n",
       "3000               0                    0                      1   \n",
       "3001               0                    1                      0   \n",
       "3002               0                    0                      0   \n",
       "3003               0                    1                      0   \n",
       "3004               0                    0                      0   \n",
       "\n",
       "      ind-entrepeneur_exp  ind-languages  ind-exact_study  ind-degree company  \\\n",
       "3000                    0              1                0           0       D   \n",
       "3001                    0              1                1           1       D   \n",
       "3002                    0              2                0           2       D   \n",
       "3003                    1              2                1           1       D   \n",
       "3004                    1              2                0           2       D   \n",
       "\n",
       "      decision  \n",
       "3000         1  \n",
       "3001         1  \n",
       "3002         0  \n",
       "3003         1  \n",
       "3004         1  "
      ]
     },
     "execution_count": 56,
     "metadata": {},
     "output_type": "execute_result"
    }
   ],
   "source": [
    "df.head()"
   ]
  },
  {
   "cell_type": "markdown",
   "metadata": {},
   "source": [
    "----------------------------------------------------\n",
    "----------------------------------------------------\n",
    "----------------------------------------------------"
   ]
  },
  {
   "cell_type": "markdown",
   "metadata": {},
   "source": [
    "# Model 1 :  Support Vector Machines with linear kernel\n",
    "Model M1 incorporates Support Vector Machines with linear kernel (i.e. sklearn.svm.SVM) and should only use four indicators."
   ]
  },
  {
   "cell_type": "markdown",
   "metadata": {},
   "source": [
    "### Selecting  four indicators as descriptive features for the model. \n",
    "\n",
    "- 'ind-debateclub'\n",
    "- 'ind-programming_exp',\n",
    "- 'ind-international_exp', \n",
    "- 'ind-entrepeneur_exp'\n",
    "\n",
    "\n",
    "\n",
    "\n"
   ]
  },
  {
   "cell_type": "code",
   "execution_count": 57,
   "metadata": {},
   "outputs": [
    {
     "data": {
      "text/html": [
       "<div>\n",
       "<style scoped>\n",
       "    .dataframe tbody tr th:only-of-type {\n",
       "        vertical-align: middle;\n",
       "    }\n",
       "\n",
       "    .dataframe tbody tr th {\n",
       "        vertical-align: top;\n",
       "    }\n",
       "\n",
       "    .dataframe thead th {\n",
       "        text-align: right;\n",
       "    }\n",
       "</style>\n",
       "<table border=\"1\" class=\"dataframe\">\n",
       "  <thead>\n",
       "    <tr style=\"text-align: right;\">\n",
       "      <th></th>\n",
       "      <th>ind-debateclub</th>\n",
       "      <th>ind-programming_exp</th>\n",
       "      <th>ind-international_exp</th>\n",
       "      <th>ind-entrepeneur_exp</th>\n",
       "    </tr>\n",
       "  </thead>\n",
       "  <tbody>\n",
       "    <tr>\n",
       "      <th>3000</th>\n",
       "      <td>0</td>\n",
       "      <td>0</td>\n",
       "      <td>1</td>\n",
       "      <td>0</td>\n",
       "    </tr>\n",
       "    <tr>\n",
       "      <th>3001</th>\n",
       "      <td>0</td>\n",
       "      <td>1</td>\n",
       "      <td>0</td>\n",
       "      <td>0</td>\n",
       "    </tr>\n",
       "    <tr>\n",
       "      <th>3002</th>\n",
       "      <td>0</td>\n",
       "      <td>0</td>\n",
       "      <td>0</td>\n",
       "      <td>0</td>\n",
       "    </tr>\n",
       "    <tr>\n",
       "      <th>3003</th>\n",
       "      <td>0</td>\n",
       "      <td>1</td>\n",
       "      <td>0</td>\n",
       "      <td>1</td>\n",
       "    </tr>\n",
       "    <tr>\n",
       "      <th>3004</th>\n",
       "      <td>0</td>\n",
       "      <td>0</td>\n",
       "      <td>0</td>\n",
       "      <td>1</td>\n",
       "    </tr>\n",
       "    <tr>\n",
       "      <th>...</th>\n",
       "      <td>...</td>\n",
       "      <td>...</td>\n",
       "      <td>...</td>\n",
       "      <td>...</td>\n",
       "    </tr>\n",
       "    <tr>\n",
       "      <th>3995</th>\n",
       "      <td>0</td>\n",
       "      <td>0</td>\n",
       "      <td>0</td>\n",
       "      <td>0</td>\n",
       "    </tr>\n",
       "    <tr>\n",
       "      <th>3996</th>\n",
       "      <td>0</td>\n",
       "      <td>0</td>\n",
       "      <td>0</td>\n",
       "      <td>1</td>\n",
       "    </tr>\n",
       "    <tr>\n",
       "      <th>3997</th>\n",
       "      <td>1</td>\n",
       "      <td>0</td>\n",
       "      <td>0</td>\n",
       "      <td>1</td>\n",
       "    </tr>\n",
       "    <tr>\n",
       "      <th>3998</th>\n",
       "      <td>0</td>\n",
       "      <td>1</td>\n",
       "      <td>0</td>\n",
       "      <td>0</td>\n",
       "    </tr>\n",
       "    <tr>\n",
       "      <th>3999</th>\n",
       "      <td>0</td>\n",
       "      <td>0</td>\n",
       "      <td>0</td>\n",
       "      <td>0</td>\n",
       "    </tr>\n",
       "  </tbody>\n",
       "</table>\n",
       "<p>1000 rows × 4 columns</p>\n",
       "</div>"
      ],
      "text/plain": [
       "      ind-debateclub  ind-programming_exp  ind-international_exp  \\\n",
       "3000               0                    0                      1   \n",
       "3001               0                    1                      0   \n",
       "3002               0                    0                      0   \n",
       "3003               0                    1                      0   \n",
       "3004               0                    0                      0   \n",
       "...              ...                  ...                    ...   \n",
       "3995               0                    0                      0   \n",
       "3996               0                    0                      0   \n",
       "3997               1                    0                      0   \n",
       "3998               0                    1                      0   \n",
       "3999               0                    0                      0   \n",
       "\n",
       "      ind-entrepeneur_exp  \n",
       "3000                    0  \n",
       "3001                    0  \n",
       "3002                    0  \n",
       "3003                    1  \n",
       "3004                    1  \n",
       "...                   ...  \n",
       "3995                    0  \n",
       "3996                    1  \n",
       "3997                    1  \n",
       "3998                    0  \n",
       "3999                    0  \n",
       "\n",
       "[1000 rows x 4 columns]"
      ]
     },
     "execution_count": 57,
     "metadata": {},
     "output_type": "execute_result"
    }
   ],
   "source": [
    "# extracting descriptive features\n",
    "descriptive_features_model1 = df[[ 'ind-debateclub', 'ind-programming_exp','ind-international_exp', 'ind-entrepeneur_exp']]\n",
    "descriptive_features_model1\n"
   ]
  },
  {
   "cell_type": "markdown",
   "metadata": {},
   "source": [
    "### Setting Decision as Target Feature"
   ]
  },
  {
   "cell_type": "code",
   "execution_count": 58,
   "metadata": {},
   "outputs": [
    {
     "name": "stdout",
     "output_type": "stream",
     "text": [
      "      decision\n",
      "3000         1\n",
      "3001         1\n",
      "3002         0\n",
      "3003         1\n",
      "3004         1\n",
      "...        ...\n",
      "3995         0\n",
      "3996         0\n",
      "3997         0\n",
      "3998         0\n",
      "3999         0\n",
      "\n",
      "[1000 rows x 1 columns]\n"
     ]
    }
   ],
   "source": [
    "# extracting target feature\n",
    "target_feature = df.iloc[:,-1:]\n",
    "print(target_feature)"
   ]
  },
  {
   "cell_type": "markdown",
   "metadata": {},
   "source": [
    "### Splitting dataset in to training and test datasets.\n",
    "70% Training data and 30% Test Data"
   ]
  },
  {
   "cell_type": "code",
   "execution_count": 59,
   "metadata": {},
   "outputs": [],
   "source": [
    "X = descriptive_features_model1\n",
    "y = target_feature\n",
    "\n"
   ]
  },
  {
   "cell_type": "code",
   "execution_count": 60,
   "metadata": {},
   "outputs": [],
   "source": [
    "# split into train test sets\n",
    "X_train, X_test, y_train, y_test = train_test_split(X, y,test_size=0.3)"
   ]
  },
  {
   "cell_type": "code",
   "execution_count": 61,
   "metadata": {},
   "outputs": [
    {
     "data": {
      "text/html": [
       "<div>\n",
       "<style scoped>\n",
       "    .dataframe tbody tr th:only-of-type {\n",
       "        vertical-align: middle;\n",
       "    }\n",
       "\n",
       "    .dataframe tbody tr th {\n",
       "        vertical-align: top;\n",
       "    }\n",
       "\n",
       "    .dataframe thead th {\n",
       "        text-align: right;\n",
       "    }\n",
       "</style>\n",
       "<table border=\"1\" class=\"dataframe\">\n",
       "  <thead>\n",
       "    <tr style=\"text-align: right;\">\n",
       "      <th></th>\n",
       "      <th>ind-debateclub</th>\n",
       "      <th>ind-programming_exp</th>\n",
       "      <th>ind-international_exp</th>\n",
       "      <th>ind-entrepeneur_exp</th>\n",
       "    </tr>\n",
       "  </thead>\n",
       "  <tbody>\n",
       "    <tr>\n",
       "      <th>3885</th>\n",
       "      <td>0</td>\n",
       "      <td>1</td>\n",
       "      <td>0</td>\n",
       "      <td>0</td>\n",
       "    </tr>\n",
       "    <tr>\n",
       "      <th>3738</th>\n",
       "      <td>1</td>\n",
       "      <td>0</td>\n",
       "      <td>1</td>\n",
       "      <td>1</td>\n",
       "    </tr>\n",
       "    <tr>\n",
       "      <th>3895</th>\n",
       "      <td>0</td>\n",
       "      <td>0</td>\n",
       "      <td>1</td>\n",
       "      <td>0</td>\n",
       "    </tr>\n",
       "    <tr>\n",
       "      <th>3615</th>\n",
       "      <td>1</td>\n",
       "      <td>0</td>\n",
       "      <td>0</td>\n",
       "      <td>1</td>\n",
       "    </tr>\n",
       "    <tr>\n",
       "      <th>3900</th>\n",
       "      <td>0</td>\n",
       "      <td>1</td>\n",
       "      <td>0</td>\n",
       "      <td>0</td>\n",
       "    </tr>\n",
       "  </tbody>\n",
       "</table>\n",
       "</div>"
      ],
      "text/plain": [
       "      ind-debateclub  ind-programming_exp  ind-international_exp  \\\n",
       "3885               0                    1                      0   \n",
       "3738               1                    0                      1   \n",
       "3895               0                    0                      1   \n",
       "3615               1                    0                      0   \n",
       "3900               0                    1                      0   \n",
       "\n",
       "      ind-entrepeneur_exp  \n",
       "3885                    0  \n",
       "3738                    1  \n",
       "3895                    0  \n",
       "3615                    1  \n",
       "3900                    0  "
      ]
     },
     "execution_count": 61,
     "metadata": {},
     "output_type": "execute_result"
    }
   ],
   "source": [
    "X_train.head()"
   ]
  },
  {
   "cell_type": "code",
   "execution_count": 62,
   "metadata": {},
   "outputs": [
    {
     "data": {
      "text/html": [
       "<div>\n",
       "<style scoped>\n",
       "    .dataframe tbody tr th:only-of-type {\n",
       "        vertical-align: middle;\n",
       "    }\n",
       "\n",
       "    .dataframe tbody tr th {\n",
       "        vertical-align: top;\n",
       "    }\n",
       "\n",
       "    .dataframe thead th {\n",
       "        text-align: right;\n",
       "    }\n",
       "</style>\n",
       "<table border=\"1\" class=\"dataframe\">\n",
       "  <thead>\n",
       "    <tr style=\"text-align: right;\">\n",
       "      <th></th>\n",
       "      <th>decision</th>\n",
       "    </tr>\n",
       "  </thead>\n",
       "  <tbody>\n",
       "    <tr>\n",
       "      <th>3209</th>\n",
       "      <td>0</td>\n",
       "    </tr>\n",
       "    <tr>\n",
       "      <th>3237</th>\n",
       "      <td>0</td>\n",
       "    </tr>\n",
       "    <tr>\n",
       "      <th>3582</th>\n",
       "      <td>0</td>\n",
       "    </tr>\n",
       "    <tr>\n",
       "      <th>3362</th>\n",
       "      <td>0</td>\n",
       "    </tr>\n",
       "    <tr>\n",
       "      <th>3213</th>\n",
       "      <td>1</td>\n",
       "    </tr>\n",
       "  </tbody>\n",
       "</table>\n",
       "</div>"
      ],
      "text/plain": [
       "      decision\n",
       "3209         0\n",
       "3237         0\n",
       "3582         0\n",
       "3362         0\n",
       "3213         1"
      ]
     },
     "execution_count": 62,
     "metadata": {},
     "output_type": "execute_result"
    }
   ],
   "source": [
    "y_test.head()"
   ]
  },
  {
   "cell_type": "code",
   "execution_count": 63,
   "metadata": {},
   "outputs": [
    {
     "data": {
      "text/plain": [
       "((700, 4), (700, 1), (300, 4), (300, 1))"
      ]
     },
     "execution_count": 63,
     "metadata": {},
     "output_type": "execute_result"
    }
   ],
   "source": [
    "X_train.shape,y_train.shape,X_test.shape,y_test.shape"
   ]
  },
  {
   "cell_type": "markdown",
   "metadata": {},
   "source": [
    "### Developing Model 1 with random 4 indicators."
   ]
  },
  {
   "cell_type": "code",
   "execution_count": 64,
   "metadata": {},
   "outputs": [],
   "source": [
    "#Import svm model\n",
    "from sklearn import svm\n",
    "\n",
    "#Create a svm Classifier\n",
    "model1 = svm.SVC(kernel='linear') # Linear Kernel\n",
    "\n",
    "#Train the model using the data\n",
    "model1.fit(X_train, y_train)\n",
    "\n",
    "#Predict the decision for the dataset\n",
    "prediction_model1 = model1.predict(X_test)"
   ]
  },
  {
   "cell_type": "code",
   "execution_count": 65,
   "metadata": {},
   "outputs": [
    {
     "name": "stdout",
     "output_type": "stream",
     "text": [
      "Accuracy of model1 with random 4 indicators: 77.66666666666666 %\n"
     ]
    }
   ],
   "source": [
    "# Model Accuracy: how often is the classifier correct?\n",
    "print(\"Accuracy of model1 with random 4 indicators:\",metrics.accuracy_score(y_test, prediction_model1)*100,'%')"
   ]
  },
  {
   "cell_type": "code",
   "execution_count": 66,
   "metadata": {},
   "outputs": [
    {
     "name": "stdout",
     "output_type": "stream",
     "text": [
      "<sklearn.metrics._plot.confusion_matrix.ConfusionMatrixDisplay object at 0x7fdefd08da10>\n"
     ]
    },
    {
     "data": {
      "image/png": "[encoded data removed]",
      "text/plain": [
       "<Figure size 432x288 with 2 Axes>"
      ]
     },
     "metadata": {
      "needs_background": "light"
     },
     "output_type": "display_data"
    }
   ],
   "source": [
    "\n",
    "cm_model1 = confusion_matrix(y_test, prediction_model1)\n",
    "cmd_model1 = ConfusionMatrixDisplay(cm_model1, display_labels=['1','0'])\n",
    "print(cmd_model1.plot())"
   ]
  },
  {
   "cell_type": "markdown",
   "metadata": {},
   "source": [
    "----------------------------------------------------\n",
    "----------------------------------------------------\n",
    "----------------------------------------------------\n",
    "\n",
    "# Model 2: \n",
    "\n",
    "Build a prediction model M2 using the technique of your choice and any indicators you want. Does your model perform better? Explain how you trained and tested the model and why you have chosen these indicators."
   ]
  },
  {
   "cell_type": "markdown",
   "metadata": {},
   "source": [
    "### Important indicators\n",
    "\n",
    "For model 2, we need to find features that contribute the most towards correct prediction i.e. Features that have comparatively heavier weights in forming the decision, we use Random forest classifier on the dataset consisting of all indicators. "
   ]
  },
  {
   "cell_type": "code",
   "execution_count": 67,
   "metadata": {},
   "outputs": [
    {
     "name": "stdout",
     "output_type": "stream",
     "text": [
      "Accuracy: 0.963\n"
     ]
    },
    {
     "data": {
      "text/plain": [
       "<AxesSubplot:>"
      ]
     },
     "execution_count": 67,
     "metadata": {},
     "output_type": "execute_result"
    },
    {
     "data": {
      "image/png": "[encoded data removed]",
      "text/plain": [
       "<Figure size 432x288 with 1 Axes>"
      ]
     },
     "metadata": {
      "needs_background": "light"
     },
     "output_type": "display_data"
    }
   ],
   "source": [
    "#Import Random Forest Model\n",
    "from sklearn.ensemble import RandomForestClassifier\n",
    "\n",
    "# dataframe consisting of Indicators only.\n",
    "df2 = df.iloc[:,5:-2]\n",
    "df2.head()\n",
    "\n",
    "#Create a Random Forest classifier\n",
    "clf=RandomForestClassifier(n_estimators=500)\n",
    "\n",
    "clf.fit(df2,target_feature)\n",
    "\n",
    "y_pred=clf.predict(df2)\n",
    "print(\"Accuracy:\",metrics.accuracy_score(target_feature, y_pred))\n",
    "#Plotting important features\n",
    "feat_importances = pd.Series(clf.feature_importances_, index=df2.columns)\n",
    "feat_importances.nlargest(20).plot(kind='bar')"
   ]
  },
  {
   "cell_type": "markdown",
   "metadata": {},
   "source": [
    "### Selecting first four indicators as descriptive features for the model 2. \n",
    "- ind-university_grade,\t\n",
    "- ind-languages,\t\n",
    "- ind-exact_study \t\n",
    "- ind-degree "
   ]
  },
  {
   "cell_type": "code",
   "execution_count": 68,
   "metadata": {},
   "outputs": [
    {
     "data": {
      "text/html": [
       "<div>\n",
       "<style scoped>\n",
       "    .dataframe tbody tr th:only-of-type {\n",
       "        vertical-align: middle;\n",
       "    }\n",
       "\n",
       "    .dataframe tbody tr th {\n",
       "        vertical-align: top;\n",
       "    }\n",
       "\n",
       "    .dataframe thead th {\n",
       "        text-align: right;\n",
       "    }\n",
       "</style>\n",
       "<table border=\"1\" class=\"dataframe\">\n",
       "  <thead>\n",
       "    <tr style=\"text-align: right;\">\n",
       "      <th></th>\n",
       "      <th>ind-university_grade</th>\n",
       "      <th>ind-languages</th>\n",
       "      <th>ind-exact_study</th>\n",
       "      <th>ind-degree</th>\n",
       "    </tr>\n",
       "  </thead>\n",
       "  <tbody>\n",
       "    <tr>\n",
       "      <th>3000</th>\n",
       "      <td>65</td>\n",
       "      <td>1</td>\n",
       "      <td>0</td>\n",
       "      <td>0</td>\n",
       "    </tr>\n",
       "    <tr>\n",
       "      <th>3001</th>\n",
       "      <td>70</td>\n",
       "      <td>1</td>\n",
       "      <td>1</td>\n",
       "      <td>1</td>\n",
       "    </tr>\n",
       "    <tr>\n",
       "      <th>3002</th>\n",
       "      <td>59</td>\n",
       "      <td>2</td>\n",
       "      <td>0</td>\n",
       "      <td>2</td>\n",
       "    </tr>\n",
       "    <tr>\n",
       "      <th>3003</th>\n",
       "      <td>69</td>\n",
       "      <td>2</td>\n",
       "      <td>1</td>\n",
       "      <td>1</td>\n",
       "    </tr>\n",
       "    <tr>\n",
       "      <th>3004</th>\n",
       "      <td>66</td>\n",
       "      <td>2</td>\n",
       "      <td>0</td>\n",
       "      <td>2</td>\n",
       "    </tr>\n",
       "    <tr>\n",
       "      <th>...</th>\n",
       "      <td>...</td>\n",
       "      <td>...</td>\n",
       "      <td>...</td>\n",
       "      <td>...</td>\n",
       "    </tr>\n",
       "    <tr>\n",
       "      <th>3995</th>\n",
       "      <td>63</td>\n",
       "      <td>0</td>\n",
       "      <td>0</td>\n",
       "      <td>1</td>\n",
       "    </tr>\n",
       "    <tr>\n",
       "      <th>3996</th>\n",
       "      <td>62</td>\n",
       "      <td>2</td>\n",
       "      <td>1</td>\n",
       "      <td>2</td>\n",
       "    </tr>\n",
       "    <tr>\n",
       "      <th>3997</th>\n",
       "      <td>60</td>\n",
       "      <td>2</td>\n",
       "      <td>0</td>\n",
       "      <td>2</td>\n",
       "    </tr>\n",
       "    <tr>\n",
       "      <th>3998</th>\n",
       "      <td>66</td>\n",
       "      <td>1</td>\n",
       "      <td>1</td>\n",
       "      <td>2</td>\n",
       "    </tr>\n",
       "    <tr>\n",
       "      <th>3999</th>\n",
       "      <td>58</td>\n",
       "      <td>1</td>\n",
       "      <td>0</td>\n",
       "      <td>2</td>\n",
       "    </tr>\n",
       "  </tbody>\n",
       "</table>\n",
       "<p>1000 rows × 4 columns</p>\n",
       "</div>"
      ],
      "text/plain": [
       "      ind-university_grade  ind-languages  ind-exact_study  ind-degree\n",
       "3000                    65              1                0           0\n",
       "3001                    70              1                1           1\n",
       "3002                    59              2                0           2\n",
       "3003                    69              2                1           1\n",
       "3004                    66              2                0           2\n",
       "...                    ...            ...              ...         ...\n",
       "3995                    63              0                0           1\n",
       "3996                    62              2                1           2\n",
       "3997                    60              2                0           2\n",
       "3998                    66              1                1           2\n",
       "3999                    58              1                0           2\n",
       "\n",
       "[1000 rows x 4 columns]"
      ]
     },
     "execution_count": 68,
     "metadata": {},
     "output_type": "execute_result"
    }
   ],
   "source": [
    "# extracting descriptive features\n",
    "descriptive_features_model2 = df[['ind-university_grade', 'ind-languages','ind-exact_study', 'ind-degree']]\n",
    "descriptive_features_model2"
   ]
  },
  {
   "cell_type": "markdown",
   "metadata": {},
   "source": [
    "### Splitting dataset in to training and test datasets.\n",
    "70% Training data and 30% Test Data"
   ]
  },
  {
   "cell_type": "code",
   "execution_count": 69,
   "metadata": {},
   "outputs": [],
   "source": [
    "X2 = descriptive_features_model2\n",
    "y2 = target_feature\n",
    "\n"
   ]
  },
  {
   "cell_type": "code",
   "execution_count": 70,
   "metadata": {},
   "outputs": [],
   "source": [
    "# split into train test sets\n",
    "X2_train, X2_test, y2_train, y2_test = train_test_split(X2, y2,test_size=0.3)"
   ]
  },
  {
   "cell_type": "code",
   "execution_count": 71,
   "metadata": {},
   "outputs": [
    {
     "data": {
      "text/html": [
       "<div>\n",
       "<style scoped>\n",
       "    .dataframe tbody tr th:only-of-type {\n",
       "        vertical-align: middle;\n",
       "    }\n",
       "\n",
       "    .dataframe tbody tr th {\n",
       "        vertical-align: top;\n",
       "    }\n",
       "\n",
       "    .dataframe thead th {\n",
       "        text-align: right;\n",
       "    }\n",
       "</style>\n",
       "<table border=\"1\" class=\"dataframe\">\n",
       "  <thead>\n",
       "    <tr style=\"text-align: right;\">\n",
       "      <th></th>\n",
       "      <th>ind-university_grade</th>\n",
       "      <th>ind-languages</th>\n",
       "      <th>ind-exact_study</th>\n",
       "      <th>ind-degree</th>\n",
       "    </tr>\n",
       "  </thead>\n",
       "  <tbody>\n",
       "    <tr>\n",
       "      <th>3699</th>\n",
       "      <td>66</td>\n",
       "      <td>2</td>\n",
       "      <td>1</td>\n",
       "      <td>2</td>\n",
       "    </tr>\n",
       "    <tr>\n",
       "      <th>3457</th>\n",
       "      <td>56</td>\n",
       "      <td>0</td>\n",
       "      <td>0</td>\n",
       "      <td>2</td>\n",
       "    </tr>\n",
       "    <tr>\n",
       "      <th>3559</th>\n",
       "      <td>67</td>\n",
       "      <td>1</td>\n",
       "      <td>1</td>\n",
       "      <td>0</td>\n",
       "    </tr>\n",
       "    <tr>\n",
       "      <th>3930</th>\n",
       "      <td>67</td>\n",
       "      <td>1</td>\n",
       "      <td>1</td>\n",
       "      <td>1</td>\n",
       "    </tr>\n",
       "    <tr>\n",
       "      <th>3539</th>\n",
       "      <td>52</td>\n",
       "      <td>2</td>\n",
       "      <td>0</td>\n",
       "      <td>2</td>\n",
       "    </tr>\n",
       "  </tbody>\n",
       "</table>\n",
       "</div>"
      ],
      "text/plain": [
       "      ind-university_grade  ind-languages  ind-exact_study  ind-degree\n",
       "3699                    66              2                1           2\n",
       "3457                    56              0                0           2\n",
       "3559                    67              1                1           0\n",
       "3930                    67              1                1           1\n",
       "3539                    52              2                0           2"
      ]
     },
     "execution_count": 71,
     "metadata": {},
     "output_type": "execute_result"
    }
   ],
   "source": [
    "X2_train.head()"
   ]
  },
  {
   "cell_type": "code",
   "execution_count": 72,
   "metadata": {},
   "outputs": [
    {
     "data": {
      "text/html": [
       "<div>\n",
       "<style scoped>\n",
       "    .dataframe tbody tr th:only-of-type {\n",
       "        vertical-align: middle;\n",
       "    }\n",
       "\n",
       "    .dataframe tbody tr th {\n",
       "        vertical-align: top;\n",
       "    }\n",
       "\n",
       "    .dataframe thead th {\n",
       "        text-align: right;\n",
       "    }\n",
       "</style>\n",
       "<table border=\"1\" class=\"dataframe\">\n",
       "  <thead>\n",
       "    <tr style=\"text-align: right;\">\n",
       "      <th></th>\n",
       "      <th>decision</th>\n",
       "    </tr>\n",
       "  </thead>\n",
       "  <tbody>\n",
       "    <tr>\n",
       "      <th>3026</th>\n",
       "      <td>0</td>\n",
       "    </tr>\n",
       "    <tr>\n",
       "      <th>3506</th>\n",
       "      <td>0</td>\n",
       "    </tr>\n",
       "    <tr>\n",
       "      <th>3636</th>\n",
       "      <td>0</td>\n",
       "    </tr>\n",
       "    <tr>\n",
       "      <th>3266</th>\n",
       "      <td>0</td>\n",
       "    </tr>\n",
       "    <tr>\n",
       "      <th>3929</th>\n",
       "      <td>0</td>\n",
       "    </tr>\n",
       "  </tbody>\n",
       "</table>\n",
       "</div>"
      ],
      "text/plain": [
       "      decision\n",
       "3026         0\n",
       "3506         0\n",
       "3636         0\n",
       "3266         0\n",
       "3929         0"
      ]
     },
     "execution_count": 72,
     "metadata": {},
     "output_type": "execute_result"
    }
   ],
   "source": [
    "y2_test.head()"
   ]
  },
  {
   "cell_type": "code",
   "execution_count": 73,
   "metadata": {},
   "outputs": [
    {
     "data": {
      "text/plain": [
       "((700, 4), (700, 1), (300, 4), (300, 1))"
      ]
     },
     "execution_count": 73,
     "metadata": {},
     "output_type": "execute_result"
    }
   ],
   "source": [
    "X2_train.shape,y2_train.shape,X2_test.shape,y2_test.shape"
   ]
  },
  {
   "cell_type": "code",
   "execution_count": 74,
   "metadata": {},
   "outputs": [],
   "source": [
    "\n",
    "\n",
    "model2 = RandomForestClassifier(n_estimators=500)\n",
    "#Train the model2 using the data\n",
    "model2.fit(X2_train,y2_train)\n",
    "\n",
    "#Predict the decision for the dataset\n",
    "prediction_model2 = model2.predict(X2_test)"
   ]
  },
  {
   "cell_type": "code",
   "execution_count": 75,
   "metadata": {},
   "outputs": [
    {
     "name": "stdout",
     "output_type": "stream",
     "text": [
      "Accuracy of model2 with most important indicators: 95.66666666666667 %\n"
     ]
    }
   ],
   "source": [
    "print(\"Accuracy of model2 with most important indicators:\",metrics.accuracy_score(y2_test, prediction_model2)*100,'%')"
   ]
  },
  {
   "cell_type": "code",
   "execution_count": 76,
   "metadata": {},
   "outputs": [
    {
     "name": "stdout",
     "output_type": "stream",
     "text": [
      "<sklearn.metrics._plot.confusion_matrix.ConfusionMatrixDisplay object at 0x7fdefcbcb9d0>\n"
     ]
    },
    {
     "data": {
      "image/png": "[encoded data removed]",
      "text/plain": [
       "<Figure size 432x288 with 2 Axes>"
      ]
     },
     "metadata": {
      "needs_background": "light"
     },
     "output_type": "display_data"
    }
   ],
   "source": [
    "\n",
    "cm_model2 = confusion_matrix(y2_test, prediction_model2)\n",
    "cmd_model2 = ConfusionMatrixDisplay(cm_model2, display_labels=['1','0'])\n",
    "print(cmd_model2.plot())"
   ]
  },
  {
   "cell_type": "markdown",
   "metadata": {},
   "source": [
    "----------------------------------------------------\n",
    "----------------------------------------------------\n",
    "----------------------------------------------------\n",
    "\n",
    "# Model 3: \n",
    "Build a model M3 using not the indicators but the general descriptors. Evaluate the model. Would it be ethical to use this model? Why / why not?"
   ]
  },
  {
   "cell_type": "markdown",
   "metadata": {},
   "source": [
    "### Selecting  four descriptors as descriptive features for the model 3\n",
    "- gender\t\n",
    "- age\t\n",
    "- nationality\t\n",
    "- sport"
   ]
  },
  {
   "cell_type": "code",
   "execution_count": 77,
   "metadata": {},
   "outputs": [],
   "source": [
    "# extracting descriptive features\n",
    "descriptive_features_model3 = df.iloc[:,1:5]"
   ]
  },
  {
   "cell_type": "markdown",
   "metadata": {},
   "source": [
    "### Splitting dataset in to training and test datasets.\n",
    "70% Training data and 30% Test Data"
   ]
  },
  {
   "cell_type": "code",
   "execution_count": 78,
   "metadata": {},
   "outputs": [],
   "source": [
    "X3 = descriptive_features_model3\n",
    "y3 = target_feature"
   ]
  },
  {
   "cell_type": "code",
   "execution_count": 79,
   "metadata": {},
   "outputs": [],
   "source": [
    "# split into train test sets\n",
    "X3_train, X3_test, y3_train, y3_test = train_test_split(X3, y3,test_size=0.3)"
   ]
  },
  {
   "cell_type": "code",
   "execution_count": 80,
   "metadata": {},
   "outputs": [],
   "source": [
    "#Import Gaussian Naive Bayes model\n",
    "from sklearn.naive_bayes import GaussianNB\n",
    "#Create a Gaussian Classifier\n",
    "model3 = GaussianNB()\n",
    "# Train the model using the training sets\n",
    "model3.fit(X3_train,y3_train)\n",
    "#Predict the decision for the dataset\n",
    "prediction_model3 = model3.predict(X3_test)"
   ]
  },
  {
   "cell_type": "code",
   "execution_count": 81,
   "metadata": {},
   "outputs": [
    {
     "name": "stdout",
     "output_type": "stream",
     "text": [
      "Accuracy of model3 with first 4 Descriptors: 71.66666666666667 %\n"
     ]
    }
   ],
   "source": [
    "print(\"Accuracy of model3 with first 4 Descriptors:\",metrics.accuracy_score(y3_test, prediction_model3)*100,'%')"
   ]
  },
  {
   "cell_type": "code",
   "execution_count": 82,
   "metadata": {},
   "outputs": [
    {
     "name": "stdout",
     "output_type": "stream",
     "text": [
      "<sklearn.metrics._plot.confusion_matrix.ConfusionMatrixDisplay object at 0x7fdefcbbe050>\n"
     ]
    },
    {
     "data": {
      "image/png": "[encoded data removed]",
      "text/plain": [
       "<Figure size 432x288 with 2 Axes>"
      ]
     },
     "metadata": {
      "needs_background": "light"
     },
     "output_type": "display_data"
    }
   ],
   "source": [
    "\n",
    "cm_model3 = confusion_matrix(y3_test, prediction_model3)\n",
    "cmd_model3 = ConfusionMatrixDisplay(cm_model3, display_labels=['1','0'])\n",
    "print(cmd_model3.plot())"
   ]
  },
  {
   "cell_type": "markdown",
   "metadata": {},
   "source": [
    "# Conclusion:\n",
    "- It is not ethical to use Descriptors as training features as they may be sensitive identifiers and reveal information regarding the individual, compromising his privacy. \n",
    "- Descriptors are not anonymized.\n",
    "- Descriptors do not contribute really well towards the predicition of Recruitment as gender,age, nationality, sport do not play important role towards a recruitment of a person. \n",
    "- Random Forest Classifier model predicted with better accuracy with most important indicators."
   ]
  }
 ],
 "metadata": {
  "interpreter": {
   "hash": "f293f16398db128e85df277de8eb5f9ab0a1b28857fa0f1c8543245825f1b931"
  },
  "kernelspec": {
   "display_name": "Python 3.7.7 ('pythonProject')",
   "language": "python",
   "name": "python3"
  },
  "language_info": {
   "codemirror_mode": {
    "name": "ipython",
    "version": 3
   },
   "file_extension": ".py",
   "mimetype": "text/x-python",
   "name": "python",
   "nbconvert_exporter": "python",
   "pygments_lexer": "ipython3",
   "version": "3.7.7"
  },
  "orig_nbformat": 4
 },
 "nbformat": 4,
 "nbformat_minor": 2
}
