{
  "cells": [
    {
      "cell_type": "markdown",
      "metadata": {
        "id": "JsNINwjzGehJ"
      },
      "source": [
        "<h1 style=\"text-align:center\"> ABC TASK </h1>\n",
        "<h2 style = \"text-align:center\"> College of Computing and Informatics</h2>\n",
        "<h2 style = \"text-align:center\">INFO 212: Data Science Programming I</h2>\n",
        "<h3 style = \"text-align:center\">T2</h3>\n",
        "<div style=\"text-align:center; border-style:solid; padding: 10px\">\n",
        "<div style=\"font-weight:bold\">Due Date: Sunday, April 24, 2022</div>\n",
        "This assignment counts for 15% of the final grade\n",
        "</div>\n",
        "\n",
        "<h3 style=\"color:red; font-weight:bold; text-decoration: underline\">DON'T FORGET TO PUT YOUR NAME BELOW</h3>\n",
        "\n",
        "### STUDENT NAME: NAME HERE\n",
        "\n",
        "\n",
        "### A. Assignment Overview\n",
        "This assignment provides the opportunity for you to practice with the capabilities in Python Numpy and Pandas. \n",
        "\n",
        "### B. What to Hand In\n",
        "\t\n",
        "Sumbit a completed this Jupyter notebook. \n",
        "\n",
        "### C. How to Hand In\n",
        "\n",
        "Submit your Jupyter notebook file through the course website in the Blackboard Learn system.\n",
        "\n",
        "### D. When to Hand In\n",
        "\n",
        "1. Submit your assignment no later than 11:59pm in the due date.\n",
        "2. There will be a 10% (absolute value) deduction for each day of lateness, to a maximum of 3 days; assignments will not be accepted beyond that point. Missing work will earn a zero grade.\n",
        "\n",
        "### E. Written Presentation Requirements (if applicable)\n",
        "Images must be clear and legible. Assignments will be judged on the basis of visual appearance, grammatical correctness, and quality of writing, as well as their contents. Please make sure that the text of your assignments is well-structured, using paragraphs, full sentences, and other features of well-written presentation. Text font size should be either 11 or 12 points.\n",
        "\n",
        "### F. Marking Schemes:\n",
        "Marking assignments will be based on several aspects: presentation, correctness and coding styles. \n",
        " \n",
        "The following is a set of guidelines for the presentation and coding style in this course:\n",
        "- 1. Write good comments. Marks will be dedecuted if there are no comments.\n",
        "- 2. Your comments must mention the purpose of each parameter, and must be grammatically correct. \n",
        "- 3. When breaking up a long line, break it before an operator, not after.\n",
        "- 4. Present your code and answers in well-structured format. First, copy the quesiton; second, write your code and show the intermediate analysis results; in the end, answer the question using the analysis results.\n",
        "\n",
        "### G. Data Sets\n",
        "\n",
        "This assignment needs the data sets posted in the Week 3 module. Follow the instructions inside Week 3 module to download and unpack the \"Inflammation-data\" and \"Wine Reviews\" data sets.\n",
        "\n",
        "### H. Answer the following questions"
      ]
    },
    {
      "cell_type": "markdown",
      "metadata": {
        "id": "0vLxT_-rGehS"
      },
      "source": [
        "#### Question 1 [10 marks]:\n",
        "Go to the Week 3 module on the course shell, download the zipped file \"inflammation-data.zip\" and unzip it in the \"datasets\" folder under \"info212.\" You should see a directory \"inflammation-data\" containing data files. Write a program to list all the inflammation csv files in the 'inflammation-data' directory and count the number of such files. An inflammation csv file has a name containing 'inflammation' and with extension '.csv'."
      ]
    },
    {
      "cell_type": "code",
      "execution_count": 4,
      "metadata": {
        "id": "5CmzFKE6GehT"
      },
      "outputs": [
        {
          "name": "stdout",
          "output_type": "stream",
          "text": [
            "The length of csv files:  12 \n",
            "And the files are:\n",
            "\n",
            "/Users/asadtariq/Downloads/Python_work/Python_work/ronakk18/inflammation-data/inflammation-05.csv\n",
            "/Users/asadtariq/Downloads/Python_work/Python_work/ronakk18/inflammation-data/inflammation-11.csv\n",
            "/Users/asadtariq/Downloads/Python_work/Python_work/ronakk18/inflammation-data/inflammation-10.csv\n",
            "/Users/asadtariq/Downloads/Python_work/Python_work/ronakk18/inflammation-data/inflammation-04.csv\n",
            "/Users/asadtariq/Downloads/Python_work/Python_work/ronakk18/inflammation-data/inflammation-12.csv\n",
            "/Users/asadtariq/Downloads/Python_work/Python_work/ronakk18/inflammation-data/inflammation-06.csv\n",
            "/Users/asadtariq/Downloads/Python_work/Python_work/ronakk18/inflammation-data/inflammation-07.csv\n",
            "/Users/asadtariq/Downloads/Python_work/Python_work/ronakk18/inflammation-data/inflammation-03.csv\n",
            "/Users/asadtariq/Downloads/Python_work/Python_work/ronakk18/inflammation-data/inflammation-02.csv\n",
            "/Users/asadtariq/Downloads/Python_work/Python_work/ronakk18/inflammation-data/inflammation-01.csv\n",
            "/Users/asadtariq/Downloads/Python_work/Python_work/ronakk18/inflammation-data/inflammation-09.csv\n",
            "/Users/asadtariq/Downloads/Python_work/Python_work/ronakk18/inflammation-data/inflammation-08.csv\n"
          ]
        }
      ],
      "source": [
        "# Write your code below\n",
        "import os\n",
        "import glob\n",
        "\n",
        "\n",
        "path = os.getcwd()\n",
        "csv_files = glob.glob(os.path.join(path,'inflammation-data/inflammation*.csv'))\n",
        "print('The length of csv files: ',len(csv_files),\"\\nAnd the files are:\\n\")\n",
        "for f in csv_files:\n",
        "    print(f)\n",
        "\n"
      ]
    },
    {
      "cell_type": "markdown",
      "metadata": {
        "id": "aKk9lxjFGehU"
      },
      "source": [
        "#### Question 2 [30 marks]:\n",
        "Load the data in the file 'inflammation-05.csv' to an Numpy array. Answer the following questions:\n",
        "1. Suppose the rows represent patients, and columns represent days. How many patients and how many days does the file contain?\n",
        "2. Extract and display the values of the last 10 patients' inflammation in last 10 days.\n",
        "3. For each patient, compute the average inflammation over all days. You should compute all patients' average inflammation values in single line. The result is an array. \n",
        "4. Plot all patients' averages and label the plot with \"Average Inflammation of Patients\". \n",
        "5. For each day, compute the average inflammation over all patients. You should compute all the daily average inflammation values in a single line. The result is an array. \n",
        "6. Plot all daily averages and label the plot with \"Average Inflammation of Days\" "
      ]
    },
    {
      "cell_type": "code",
      "execution_count": 5,
      "metadata": {
        "id": "DXuhidf0GehU"
      },
      "outputs": [
        {
          "name": "stdout",
          "output_type": "stream",
          "text": [
            "<class 'list'> [] /Users/asadtariq/Downloads/Python_work/Python_work/ronakk18/inflammation-data/inflammation-08.csv\n"
          ]
        },
        {
          "ename": "IndexError",
          "evalue": "list index out of range",
          "output_type": "error",
          "traceback": [
            "\u001b[0;31m---------------------------------------------------------------------------\u001b[0m",
            "\u001b[0;31mIndexError\u001b[0m                                Traceback (most recent call last)",
            "\u001b[0;32m/var/folders/dk/9q84mn0j1nzfg85t9zx5d1480000gn/T/ipykernel_41901/1972711997.py\u001b[0m in \u001b[0;36m<module>\u001b[0;34m\u001b[0m\n\u001b[1;32m      9\u001b[0m \u001b[0mcsv_files\u001b[0m \u001b[0;34m=\u001b[0m \u001b[0mglob\u001b[0m\u001b[0;34m.\u001b[0m\u001b[0mglob\u001b[0m\u001b[0;34m(\u001b[0m\u001b[0mos\u001b[0m\u001b[0;34m.\u001b[0m\u001b[0mpath\u001b[0m\u001b[0;34m.\u001b[0m\u001b[0mjoin\u001b[0m\u001b[0;34m(\u001b[0m\u001b[0mpath\u001b[0m\u001b[0;34m,\u001b[0m\u001b[0;34m'inflammation-data(1)/inflammation-data/inflammation-05.csv'\u001b[0m\u001b[0;34m)\u001b[0m\u001b[0;34m)\u001b[0m\u001b[0;34m\u001b[0m\u001b[0;34m\u001b[0m\u001b[0m\n\u001b[1;32m     10\u001b[0m \u001b[0mprint\u001b[0m\u001b[0;34m(\u001b[0m\u001b[0mtype\u001b[0m\u001b[0;34m(\u001b[0m\u001b[0mcsv_files\u001b[0m\u001b[0;34m)\u001b[0m\u001b[0;34m,\u001b[0m\u001b[0mcsv_files\u001b[0m\u001b[0;34m,\u001b[0m\u001b[0mf\u001b[0m\u001b[0;34m)\u001b[0m\u001b[0;34m\u001b[0m\u001b[0;34m\u001b[0m\u001b[0m\n\u001b[0;32m---> 11\u001b[0;31m \u001b[0mdata\u001b[0m \u001b[0;34m=\u001b[0m \u001b[0mpa\u001b[0m\u001b[0;34m.\u001b[0m\u001b[0mread_csv\u001b[0m\u001b[0;34m(\u001b[0m\u001b[0mcsv_files\u001b[0m\u001b[0;34m[\u001b[0m\u001b[0;36m0\u001b[0m\u001b[0;34m]\u001b[0m\u001b[0;34m)\u001b[0m\u001b[0;34m\u001b[0m\u001b[0;34m\u001b[0m\u001b[0m\n\u001b[0m\u001b[1;32m     12\u001b[0m \u001b[0;31m#display(len(data))\u001b[0m\u001b[0;34m\u001b[0m\u001b[0;34m\u001b[0m\u001b[0;34m\u001b[0m\u001b[0m\n\u001b[1;32m     13\u001b[0m \u001b[0mprint\u001b[0m\u001b[0;34m(\u001b[0m\u001b[0;34m\"Rows are: \"\u001b[0m\u001b[0;34m,\u001b[0m\u001b[0mlen\u001b[0m\u001b[0;34m(\u001b[0m\u001b[0mdata\u001b[0m\u001b[0;34m)\u001b[0m\u001b[0;34m,\u001b[0m\u001b[0;34m\"\\nCulumns are: \"\u001b[0m\u001b[0;34m,\u001b[0m\u001b[0mdata\u001b[0m\u001b[0;34m.\u001b[0m\u001b[0mshape\u001b[0m\u001b[0;34m[\u001b[0m\u001b[0;36m1\u001b[0m\u001b[0;34m]\u001b[0m\u001b[0;34m)\u001b[0m\u001b[0;34m\u001b[0m\u001b[0;34m\u001b[0m\u001b[0m\n",
            "\u001b[0;31mIndexError\u001b[0m: list index out of range"
          ]
        }
      ],
      "source": [
        "# Suppose the rows represent patients, and columns represent days. How many patients and how many days does the file contain?\n",
        "\n",
        "import pandas as pa\n",
        "import os\n",
        "import glob\n",
        "import matplotlib.pyplot as plt\n",
        "\n",
        "path = os.getcwd()\n",
        "csv_files = glob.glob(os.path.join(path,'inflammation-data(1)/inflammation-data/inflammation-05.csv'))\n",
        "print(type(csv_files),csv_files,f)\n",
        "data = pa.read_csv(csv_files[0])\n",
        "#display(len(data))\n",
        "print(\"Rows are: \",len(data),\"\\nCulumns are: \",data.shape[1])\n",
        "#display last 10 rows\n",
        "display(data[39:59])\n",
        "d =data[39:59]\n",
        "display(d)\n",
        "#computing daily inflammation average histry\n",
        "d= data.mean(axis=1)\n",
        "#print(data)\n",
        "\n",
        "#df = data[['mean']]\n",
        "#print(df)\n",
        "d.plot()\n",
        "plt.title('Average inflammation of patients')\n",
        "plt.show()\n",
        "#maen of each days\n",
        "d = data.mean(axis=0)\n",
        "d.plot()\n",
        "plt.title(\"Average inflammation of Days\")\n",
        "plt.show()\n",
        "#display(d)\n",
        "\n"
      ]
    },
    {
      "cell_type": "markdown",
      "metadata": {
        "id": "SeEqOMBkGehV"
      },
      "source": [
        "#### Qestion 3 [20 marks]:\n",
        "Given the following list of file names: \n",
        "```\n",
        "filenames = ['inflammation-02.csv', 'inflammation-04.csv', 'inflammation-06.csv']\n",
        "```\n",
        "Write a program to plot the daily averages, maximums, and minimums of inflammation for each of the file. Your plot should have three rows each of which shows side-by-side plots of average, max, and min. The following figure illustrates the expected outcome:\n",
        "![](https://i.imgur.com/XXT2Jqw.png)"
      ]
    },
    {
      "cell_type": "code",
      "execution_count": null,
      "metadata": {
        "id": "9e8vOn-HGehV"
      },
      "outputs": [],
      "source": [
        "import pandas as pa\n",
        "import os\n",
        "import glob\n",
        "import matplotlib.pyplot as plt\n",
        "\n",
        "path = os.getcwd()\n",
        "csv_02 = glob.glob(os.path.join(path,'inflammation-data(1)/inflammation-data/inflammation-02.csv'))\n",
        "csv_04 = glob.glob(os.path.join(path,'inflammation-data(1)/inflammation-data/inflammation-04.csv'))\n",
        "csv_06 = glob.glob(os.path.join(path,'inflammation-data(1)/inflammation-data/inflammation-06.csv'))\n",
        "data2 = pa.read_csv(csv_02[0])\n",
        "data4 = pa.read_csv(csv_04[0])\n",
        "data6 = pa.read_csv(csv_06[0])\n",
        "\n",
        "##Plot of daily averages,maximums and minimum for each files\n",
        "fig = plt.figure()\n",
        "fig.subplots_adjust(wspace=0.4,hspace=0.8)\n",
        "\n",
        "d2 = data2.mean(axis=0)\n",
        "\n",
        "d4 = data4.mean(axis=0)\n",
        "d42 = data4.max(axis=0)\n",
        "d43 = data4.min(axis=0)\n",
        "#Positioning for first inflamation\n",
        "fig2 = fig.add_subplot(3,3,1)\n",
        "fig2.set_ylabel('mean')\n",
        "fig2.plot(d4)\n",
        "fig23 = fig.add_subplot(3,3,2)\n",
        "fig23.set_ylabel('max')\n",
        "fig23.set_title(\"inflammation-02.csv\")\n",
        "fig23.plot(d42)\n",
        "fig24 = fig.add_subplot(3,3,3)\n",
        "fig24.set_ylabel('min')\n",
        "fig24.plot(d43)\n",
        "#Positioning for second inflammation\n",
        "d4= data4.mean(axis=0)\n",
        "d42 = data4.max(axis=0)\n",
        "d43 = data4.min(axis=0)\n",
        "fig41 = fig.add_subplot(3,3,4)\n",
        "fig41.set_ylabel('mean')\n",
        "fig41.plot(d4)\n",
        "fig43 = fig.add_subplot(3,3,5)\n",
        "fig43.set_ylabel('max')\n",
        "fig43.set_title(\"inflammation-04.csv\")\n",
        "fig43.plot(d42)\n",
        "fig44 = fig.add_subplot(3,3,6)\n",
        "fig44.set_ylabel('min')\n",
        "fig44.plot(d43)\n",
        "\n",
        "#Positioning for third inflamation\n",
        "d6= data6.mean(axis=0)\n",
        "d62 = data6.max(axis=0)\n",
        "d63 = data6.min(axis=0)\n",
        "fig61 = fig.add_subplot(3,3,7)\n",
        "fig61.set_ylabel('mean')\n",
        "fig61.plot(d6)\n",
        "fig63 = fig.add_subplot(3,3,8)\n",
        "fig63.set_ylabel('max')\n",
        "fig63.set_title(\"inflammation-06.csv\")\n",
        "fig63.plot(d62)\n",
        "fig64 = fig.add_subplot(3,3,9)\n",
        "fig64.set_ylabel('min')\n",
        "fig64.plot(d63)\n",
        "\n",
        "plt.show()\n",
        "\n",
        "\n",
        "\n",
        "\n"
      ]
    },
    {
      "cell_type": "markdown",
      "metadata": {
        "id": "9Fm0k1cJGehV"
      },
      "source": [
        "#### Question 4 [20 marks]: \n",
        "Download the data file \"winemag-data-130k-v2.csv\" and load it into a Pandas DataFrame using the column 0 as index. This data set contains 130k reviews for different wine verieties. Answer the following questions:\n",
        "1. What features do the reviews use? i.e. list all the column names.\n",
        "2. What is the value of the 'description' column for the third review?\n",
        "3. Select the country, province, region_1, and region_2 columns of the records at the 0, 1, 10, and 100 index positions.\n",
        "4. Select all the reviews for wines made in 'Italy'. How many reviews are there for wines made in 'Italy'?\n",
        "5. Suppose the 'points' column represents the rating of a wine. An above-averagely good wine has a value in 'points' equal or greater than 90. Between France and Italy, which country has more reviews for its above-averagely good wines?"
      ]
    },
    {
      "cell_type": "code",
      "execution_count": null,
      "metadata": {
        "id": "ORSX9VlOGehW"
      },
      "outputs": [],
      "source": [
        "# Write your code here.\n",
        "import pandas as pa\n",
        "import os\n",
        "import glob\n",
        "import matplotlib.pyplot as plt\n",
        "path = os.getcwd()\n",
        "wine = glob.glob(os.path.join(path,'./winemag-data-130k-v2.csv'))\n",
        "w = pa.read_csv(wine[0])\n",
        "#description ffor column for the third review\n",
        "display(w.at[2,'description'])\n",
        "#select all the review for province ...\n",
        "display(w.loc[[0,10,100],['country','province','region_1','region_2']])\n",
        "#Italy review\n",
        "d = w[w.isin(['Italy']).any(axis=1)]\n",
        "print(\"Number of italy review is: \",d.shape[1])\n",
        "display(d)\n",
        "##france or italy got above averagely good wines\n",
        "fr = w.loc[(w['points']>89) & (w['country']=='France')]\n",
        "ita = w.loc[(w['points']>89) & (w['country']=='Italy')]\n",
        "if fr.shape[1] > ita.shape[1]:\n",
        "    print('France got good wine')\n",
        "else:\n",
        "    print('Italy got good wine')\n",
        "#display(fr)\n",
        "\n"
      ]
    },
    {
      "cell_type": "code",
      "execution_count": null,
      "metadata": {
        "id": "71cK7dScGehW"
      },
      "outputs": [],
      "source": [
        "# The reviews use the following features:\n",
        "import pandas as pa\n",
        "import os\n",
        "import glob\n",
        "import matplotlib.pyplot as plt\n",
        "\n",
        "path = os.getcwd()\n",
        "wine = glob.glob(os.path.join(path,'./winemag-data-130k-v2.csv'))\n",
        "w = pa.read_csv(wine[0])\n",
        "#column features\n",
        "#display(w)\n",
        "display(w.columns.values)\n"
      ]
    },
    {
      "cell_type": "markdown",
      "metadata": {
        "id": "QI-e98oqGehX"
      },
      "source": [
        "#### Question 5 [20 marks]:\n",
        "Continue to work on the DataFrame of wine review loaded in Question 4. Answer the following questions:\n",
        "1. What countries are represented in the data set? i.e., list all the unique country names.\n",
        "2. What are the top-10 countries with the most wine reviews?\n",
        "3. What is the median of the price?\n",
        "4. Create a new column 'price_norm' by subtracting the median price from the price column. Use the DataFrame.apply method.\n",
        "5. Create a new column 'bargain' which contains the points-to-price ratio. Which wine(s) is/are the \"best bargain\", e.g., which wine(s) has/have the highest points-to-price ratio in the dataset?"
      ]
    },
    {
      "cell_type": "code",
      "execution_count": null,
      "metadata": {
        "id": "jfDGfs1iGehX"
      },
      "outputs": [],
      "source": [
        "import pandas as pa\n",
        "import os\n",
        "import glob\n",
        "import numpy as np\n",
        "import matplotlib.pyplot as plt\n",
        "path = os.getcwd()\n",
        "wine = glob.glob(os.path.join(path,'./winemag-data-130k-v2.csv'))\n",
        "w = pa.read_csv(wine[0])\n",
        "#display(w['country'])\n",
        "d = w['country']\n",
        "display(d.drop_duplicates())\n",
        "print('Number of all countries: ',d.nunique())\n",
        "#Top 10 countries\n",
        "e = d.sort_values(by=['len'],ascending=False).count\n",
        "print(\"Printing top 10\\n\")\n",
        "display(e)\n",
        "print(\"Most wine review: \",d.mode())\n",
        "#price median\n",
        "med = w['price']\n",
        "print('\\nPrice median: ',med.median())\n",
        "#subtracting median from price column\n",
        "cv =med.apply(lambda p: p-25)\n",
        "display(cv)\n",
        "med.describe()\n"
      ]
    }
  ],
  "metadata": {
    "colab": {
      "collapsed_sections": [],
      "name": "INFO212-Assignment2.ipynb",
      "provenance": []
    },
    "kernelspec": {
      "display_name": "Python 3",
      "language": "python",
      "name": "python3"
    },
    "language_info": {
      "codemirror_mode": {
        "name": "ipython",
        "version": 3
      },
      "file_extension": ".py",
      "mimetype": "text/x-python",
      "name": "python",
      "nbconvert_exporter": "python",
      "pygments_lexer": "ipython3",
      "version": "3.7.7"
    }
  },
  "nbformat": 4,
  "nbformat_minor": 0
}
