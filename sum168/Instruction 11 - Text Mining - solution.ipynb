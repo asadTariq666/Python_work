{
 "cells": [
  {
   "cell_type": "markdown",
   "metadata": {},
   "source": [
    "# Text mining\n",
    "In the text mining lectures, we have discussed how to preprocess textual data and create a model. We have also demonstrated how a model can be utilized with different data science techniques.\n",
    "\n",
    "Now, we are putting the acquired knowledge into practice using Python. \n",
    "The main task is to implement required text preprocessing steps and solve problems using techniques demonstrated in the lecture.\n",
    "\n",
    "The main packages for the text mining are `scikit-learn` (https://scikit-learn.org/stable/) and `nltk` (https://www.nltk.org/). `Scikit-learn` is a popular machine learning library featuring algorithms that also provide a range of useful utilities for text mining. `Nltk` is intended to support your text mining research and contains essential features for natural language processing. \n"
   ]
  },
  {
   "cell_type": "markdown",
   "metadata": {},
   "source": [
    "## Let's start with basic text preprocessing steps"
   ]
  },
  {
   "cell_type": "code",
   "execution_count": 5,
   "metadata": {},
   "outputs": [
    {
     "name": "stderr",
     "output_type": "stream",
     "text": [
      "[nltk_data] Downloading package punkt to\n",
      "[nltk_data]     C:\\Users\\testuser\\AppData\\Roaming\\nltk_data...\n",
      "[nltk_data]   Unzipping tokenizers\\punkt.zip.\n"
     ]
    },
    {
     "data": {
      "text/plain": [
       "True"
      ]
     },
     "execution_count": 5,
     "metadata": {},
     "output_type": "execute_result"
    }
   ],
   "source": [
    "import numpy as np \n",
    "import pandas as pd \n",
    "import re\n",
    "import nltk \n",
    "import matplotlib.pyplot as plt\n",
    "%matplotlib inline\n",
    "#nltk.download('punkt')"
   ]
  },
  {
   "cell_type": "code",
   "execution_count": 6,
   "metadata": {},
   "outputs": [
    {
     "name": "stdout",
     "output_type": "stream",
     "text": [
      "['Natural language processing (NLP) is a subfield of linguistics, computer science, and artificial intelligence concerned with the interactions between computers and human language, in particular how to program computers to process and analyze large amounts of natural language data.', 'Challenges in natural language processing frequently involve speech recognition, natural language understanding, and natural-language generation.', 'Natural language processing has its roots in the 1950s.', 'Already in 1950, Alan Turing published an article titled \"Computing Machinery and Intelligence\" which proposed what is now called the Turing test as a criterion of intelligence, a task that involves the automated interpretation and generation of natural language, but at the time not articulated as a problem separate from artificial intelligence.']\n"
     ]
    }
   ],
   "source": [
    "# Sentence Tokenization\n",
    "from nltk.tokenize import sent_tokenize\n",
    "text=\"\"\"Natural language processing (NLP) is a subfield of linguistics, computer science, and artificial intelligence concerned with the interactions between computers and human language, in particular how to program computers to process and analyze large amounts of natural language data.\n",
    "Challenges in natural language processing frequently involve speech recognition, natural language understanding, and natural-language generation. \n",
    "Natural language processing has its roots in the 1950s. Already in 1950, Alan Turing published an article titled \"Computing Machinery and Intelligence\" which proposed what is now called the Turing test as a criterion of intelligence, a task that involves the automated interpretation and generation of natural language, but at the time not articulated as a problem separate from artificial intelligence. \"\"\"\n",
    "tokenized_sent=sent_tokenize(text)\n",
    "print(tokenized_sent)"
   ]
  },
  {
   "cell_type": "code",
   "execution_count": 7,
   "metadata": {},
   "outputs": [
    {
     "name": "stdout",
     "output_type": "stream",
     "text": [
      "['Natural', 'language', 'processing', '(', 'NLP', ')', 'is', 'a', 'subfield', 'of', 'linguistics', ',', 'computer', 'science', ',', 'and', 'artificial', 'intelligence', 'concerned', 'with', 'the', 'interactions', 'between', 'computers', 'and', 'human', 'language', ',', 'in', 'particular', 'how', 'to', 'program', 'computers', 'to', 'process', 'and', 'analyze', 'large', 'amounts', 'of', 'natural', 'language', 'data', '.', 'Challenges', 'in', 'natural', 'language', 'processing', 'frequently', 'involve', 'speech', 'recognition', ',', 'natural', 'language', 'understanding', ',', 'and', 'natural-language', 'generation', '.', 'Natural', 'language', 'processing', 'has', 'its', 'roots', 'in', 'the', '1950s', '.', 'Already', 'in', '1950', ',', 'Alan', 'Turing', 'published', 'an', 'article', 'titled', '``', 'Computing', 'Machinery', 'and', 'Intelligence', \"''\", 'which', 'proposed', 'what', 'is', 'now', 'called', 'the', 'Turing', 'test', 'as', 'a', 'criterion', 'of', 'intelligence', ',', 'a', 'task', 'that', 'involves', 'the', 'automated', 'interpretation', 'and', 'generation', 'of', 'natural', 'language', ',', 'but', 'at', 'the', 'time', 'not', 'articulated', 'as', 'a', 'problem', 'separate', 'from', 'artificial', 'intelligence', '.']\n"
     ]
    }
   ],
   "source": [
    "# Word Tokenization\n",
    "from nltk.tokenize import word_tokenize\n",
    "tokenized_word=word_tokenize(text)\n",
    "print(tokenized_word)"
   ]
  },
  {
   "cell_type": "markdown",
   "metadata": {},
   "source": [
    "In the list, we can find redundancies, such as punctuation.\n",
    "\n",
    "We have an option to tokenize words and remove punctuation at the same time."
   ]
  },
  {
   "cell_type": "code",
   "execution_count": 8,
   "metadata": {},
   "outputs": [
    {
     "name": "stdout",
     "output_type": "stream",
     "text": [
      "['Natural', 'language', 'processing', 'NLP', 'is', 'a', 'subfield', 'of', 'linguistics', 'computer', 'science', 'and', 'artificial', 'intelligence', 'concerned', 'with', 'the', 'interactions', 'between', 'computers', 'and', 'human', 'language', 'in', 'particular', 'how', 'to', 'program', 'computers', 'to', 'process', 'and', 'analyze', 'large', 'amounts', 'of', 'natural', 'language', 'data', 'Challenges', 'in', 'natural', 'language', 'processing', 'frequently', 'involve', 'speech', 'recognition', 'natural', 'language', 'understanding', 'and', 'natural', 'language', 'generation', 'Natural', 'language', 'processing', 'has', 'its', 'roots', 'in', 'the', '1950s', 'Already', 'in', '1950', 'Alan', 'Turing', 'published', 'an', 'article', 'titled', 'Computing', 'Machinery', 'and', 'Intelligence', 'which', 'proposed', 'what', 'is', 'now', 'called', 'the', 'Turing', 'test', 'as', 'a', 'criterion', 'of', 'intelligence', 'a', 'task', 'that', 'involves', 'the', 'automated', 'interpretation', 'and', 'generation', 'of', 'natural', 'language', 'but', 'at', 'the', 'time', 'not', 'articulated', 'as', 'a', 'problem', 'separate', 'from', 'artificial', 'intelligence']\n"
     ]
    }
   ],
   "source": [
    "# Tokenize and remove puntuation\n",
    "from nltk.tokenize import RegexpTokenizer\n",
    "tokenizer = nltk.RegexpTokenizer(r\"\\w+\")\n",
    "tokenized_words_no_puntuation = tokenizer.tokenize(text)\n",
    "print(tokenized_words_no_puntuation)"
   ]
  },
  {
   "cell_type": "markdown",
   "metadata": {},
   "source": [
    "Let's now examine the text and find out the most frequently used words."
   ]
  },
  {
   "cell_type": "code",
   "execution_count": 9,
   "metadata": {},
   "outputs": [
    {
     "name": "stdout",
     "output_type": "stream",
     "text": [
      "<FreqDist with 75 samples and 116 outcomes>\n"
     ]
    }
   ],
   "source": [
    "# Frequency Distribution\n",
    "from nltk.probability import FreqDist\n",
    "fdist = FreqDist(tokenized_words_no_puntuation)\n",
    "print(fdist)"
   ]
  },
  {
   "cell_type": "code",
   "execution_count": 10,
   "metadata": {},
   "outputs": [
    {
     "data": {
      "text/plain": [
       "[('language', 8),\n",
       " ('and', 6),\n",
       " ('the', 5),\n",
       " ('natural', 5),\n",
       " ('a', 4),\n",
       " ('of', 4),\n",
       " ('in', 4),\n",
       " ('processing', 3),\n",
       " ('intelligence', 3),\n",
       " ('Natural', 2)]"
      ]
     },
     "execution_count": 10,
     "metadata": {},
     "output_type": "execute_result"
    }
   ],
   "source": [
    "# top 10 most common words with their frequencies\n",
    "fdist.most_common(10)"
   ]
  },
  {
   "cell_type": "code",
   "execution_count": 11,
   "metadata": {},
   "outputs": [
    {
     "data": {
      "image/png": "[encoded data removed]",
      "text/plain": [
       "<Figure size 432x288 with 1 Axes>"
      ]
     },
     "metadata": {
      "needs_background": "light"
     },
     "output_type": "display_data"
    }
   ],
   "source": [
    "# Frequency Distribution Plot\n",
    "import matplotlib.pyplot as plt\n",
    "fdist.plot(30,cumulative=False)\n",
    "plt.show()"
   ]
  },
  {
   "cell_type": "markdown",
   "metadata": {},
   "source": [
    "In this plot and the output before, we observe that a few words are capitalized (\"Turning\", \"NLP\") and there are words with a low research value - stop words, such as \"and\", \"the\", \"a\" and \"of\".\n",
    "That is why it is important to clean the data - to low case the text and remove punctuation and stop words during the processing."
   ]
  },
  {
   "cell_type": "code",
   "execution_count": 12,
   "metadata": {},
   "outputs": [
    {
     "name": "stdout",
     "output_type": "stream",
     "text": [
      "natural language processing (nlp) is a subfield of linguistics, computer science, and artificial intelligence concerned with the interactions between computers and human language, in particular how to program computers to process and analyze large amounts of natural language data.\n",
      "challenges in natural language processing frequently involve speech recognition, natural language understanding, and natural-language generation. \n",
      "natural language processing has its roots in the 1950s. already in 1950, alan turing published an article titled \"computing machinery and intelligence\" which proposed what is now called the turing test as a criterion of intelligence, a task that involves the automated interpretation and generation of natural language, but at the time not articulated as a problem separate from artificial intelligence. \n"
     ]
    }
   ],
   "source": [
    "# Lowercase\n",
    "lower_text = text.lower()\n",
    "print (lower_text)"
   ]
  },
  {
   "cell_type": "code",
   "execution_count": 13,
   "metadata": {},
   "outputs": [
    {
     "name": "stdout",
     "output_type": "stream",
     "text": [
      "{'of', 'more', 'ain', 'on', 'each', 'had', 'when', 'where', 'just', 'she', 'is', 'doesn', 'to', 'ma', \"wasn't\", 'too', 'we', 'her', 'not', 's', 've', 'other', \"hadn't\", \"that'll\", \"aren't\", 'have', 'between', 'nor', 'until', 'wasn', 'he', 'him', 'aren', \"won't\", 'that', 'me', 'further', 'your', 'will', \"wouldn't\", 'didn', 'are', 'don', \"couldn't\", \"should've\", 'by', 'm', 'any', \"mightn't\", 'shouldn', 'with', \"weren't\", 'most', 'being', 'ours', 'i', 'if', 'you', 'll', 'hers', 'wouldn', 'for', \"shouldn't\", 'what', 'yourselves', 'does', 'against', 'then', 'these', 'in', 'under', 'who', 'at', 'herself', 'above', 'off', 'why', 'whom', 'can', 'very', 'myself', 'but', \"you'll\", 'has', \"mustn't\", 'there', 'itself', 'needn', 'do', 'our', 't', 'now', \"shan't\", 'no', 'because', \"it's\", 'doing', 're', 'themselves', 'yourself', 'up', 'them', 'through', 'from', \"didn't\", 'few', \"don't\", 'how', 'after', 'as', 'than', 'its', \"you'd\", 'about', 'their', 'isn', \"you're\", 'during', 'over', 'd', 'haven', 'been', 'the', \"you've\", 'into', \"needn't\", 'both', 'theirs', 'they', 'while', 'couldn', 'hasn', 'be', 'won', 'am', 'should', 'or', 'did', 'such', 'down', 'having', \"she's\", 'was', 'again', 'only', 'o', \"isn't\", 'those', 'some', 'hadn', 'it', 'my', 'yours', 'weren', 'same', 'his', 'below', 'here', 'mightn', 'were', 'mustn', 'himself', 'an', \"haven't\", 'own', 'shan', \"hasn't\", 'this', 'a', \"doesn't\", 'out', 'before', 'all', 'once', 'so', 'y', 'ourselves', 'which', 'and'}\n"
     ]
    }
   ],
   "source": [
    "# Stopwords\n",
    "from nltk.corpus import stopwords\n",
    "stop_words=set(stopwords.words(\"english\"))\n",
    "print(stop_words)"
   ]
  },
  {
   "cell_type": "markdown",
   "metadata": {},
   "source": [
    "### Task 1\n",
    "Now it is your turn.\n",
    "Please preprocess the following piece of text.\n",
    "\n",
    "\"\"\"\n",
    "Data science is an inter-disciplinary field that uses scientific methods, processes, algorithms and systems to extract knowledge and insights from many structural and unstructured data. Data science is related to data mining, machine learning and big data.\n",
    "Data science is a \"concept to unify statistics, data analysis and their related methods\" in order to \"understand and analyze actual phenomena\" with data.\n",
    "Natural language processing is an important part of data science.\n",
    "\"\"\"\n",
    "\n",
    "First, you need to low case it. Then remove punctuation and tokenize (can be done as one step). \n",
    "\n",
    "Print the preprocessed sentences (lowcase, no punctuation, no stop words)and build a words frequency graph with the top 10 most frequent words."
   ]
  },
  {
   "cell_type": "code",
   "execution_count": 14,
   "metadata": {},
   "outputs": [
    {
     "name": "stdout",
     "output_type": "stream",
     "text": [
      "Tokenized text: ['data', 'science', 'is', 'an', 'inter', 'disciplinary', 'field', 'that', 'uses', 'scientific', 'methods', 'processes', 'algorithms', 'and', 'systems', 'to', 'extract', 'knowledge', 'and', 'insights', 'from', 'many', 'structural', 'and', 'unstructured', 'data', 'data', 'science', 'is', 'related', 'to', 'data', 'mining', 'machine', 'learning', 'and', 'big', 'data', 'data', 'science', 'is', 'a', 'concept', 'to', 'unify', 'statistics', 'data', 'analysis', 'and', 'their', 'related', 'methods', 'in', 'order', 'to', 'understand', 'and', 'analyze', 'actual', 'phenomena', 'with', 'data', 'natural', 'language', 'processing', 'is', 'an', 'important', 'part', 'of', 'data', 'science']\n",
      "Filterd text with no stop words: ['data', 'science', 'inter', 'disciplinary', 'field', 'uses', 'scientific', 'methods', 'processes', 'algorithms', 'systems', 'extract', 'knowledge', 'insights', 'many', 'structural', 'unstructured', 'data', 'data', 'science', 'related', 'data', 'mining', 'machine', 'learning', 'big', 'data', 'data', 'science', 'concept', 'unify', 'statistics', 'data', 'analysis', 'related', 'methods', 'order', 'understand', 'analyze', 'actual', 'phenomena', 'data', 'natural', 'language', 'processing', 'important', 'part', 'data', 'science']\n"
     ]
    }
   ],
   "source": [
    "# Please give your answer here\n",
    "text_new=\"\"\"Data science is an inter-disciplinary field that uses scientific methods, processes, algorithms and systems to extract knowledge and insights from many structural and unstructured data. Data science is related to data mining, machine learning and big data.\n",
    "Data science is a \"concept to unify statistics, data analysis and their related methods\" in order to \"understand and analyze actual phenomena\" with data.\n",
    "Natural language processing is an important part of data science.\"\"\"\n",
    "lower_text = text_new.lower()\n",
    "tokenized_word=tokenizer.tokenize(lower_text)\n",
    "filtered_words=[]\n",
    "for w in tokenized_word:\n",
    "    if w.lower() not in stop_words:\n",
    "        filtered_words.append(w)\n",
    "print(\"Tokenized text:\",tokenized_word)\n",
    "print(\"Filterd text with no stop words:\",filtered_words)"
   ]
  },
  {
   "cell_type": "code",
   "execution_count": 15,
   "metadata": {},
   "outputs": [
    {
     "name": "stdout",
     "output_type": "stream",
     "text": [
      "<FreqDist with 36 samples and 49 outcomes>\n"
     ]
    }
   ],
   "source": [
    "from nltk.probability import FreqDist\n",
    "fdist = FreqDist(filtered_words)\n",
    "print(fdist)"
   ]
  },
  {
   "cell_type": "code",
   "execution_count": 16,
   "metadata": {},
   "outputs": [
    {
     "data": {
      "text/plain": [
       "[('data', 9),\n",
       " ('science', 4),\n",
       " ('methods', 2),\n",
       " ('related', 2),\n",
       " ('inter', 1),\n",
       " ('disciplinary', 1),\n",
       " ('field', 1),\n",
       " ('uses', 1),\n",
       " ('scientific', 1),\n",
       " ('processes', 1)]"
      ]
     },
     "execution_count": 16,
     "metadata": {},
     "output_type": "execute_result"
    }
   ],
   "source": [
    "fdist.most_common(10)"
   ]
  },
  {
   "cell_type": "code",
   "execution_count": 17,
   "metadata": {},
   "outputs": [
    {
     "data": {
      "image/png": "[encoded data removed]",
      "text/plain": [
       "<Figure size 432x288 with 1 Axes>"
      ]
     },
     "metadata": {
      "needs_background": "light"
     },
     "output_type": "display_data"
    }
   ],
   "source": [
    "# Frequency Distribution Plot\n",
    "import matplotlib.pyplot as plt\n",
    "fdist.plot(10,cumulative=False)\n",
    "plt.show()"
   ]
  },
  {
   "cell_type": "markdown",
   "metadata": {},
   "source": [
    "### Lexicon normalization: stemming and lemmatization\n"
   ]
  },
  {
   "cell_type": "code",
   "execution_count": 18,
   "metadata": {},
   "outputs": [
    {
     "name": "stdout",
     "output_type": "stream",
     "text": [
      "Stemmed Sentence: ['data', 'scienc', 'inter', 'disciplinari', 'field', 'use', 'scientif', 'method', 'process', 'algorithm', 'system', 'extract', 'knowledg', 'insight', 'mani', 'structur', 'unstructur', 'data', 'data', 'scienc', 'relat', 'data', 'mine', 'machin', 'learn', 'big', 'data', 'data', 'scienc', 'concept', 'unifi', 'statist', 'data', 'analysi', 'relat', 'method', 'order', 'understand', 'analyz', 'actual', 'phenomena', 'data', 'natur', 'languag', 'process', 'import', 'part', 'data', 'scienc']\n"
     ]
    }
   ],
   "source": [
    "# Stemming\n",
    "from nltk.stem import PorterStemmer\n",
    "from nltk.tokenize import sent_tokenize, word_tokenize\n",
    "\n",
    "ps = PorterStemmer()\n",
    "stemmed_words=[]\n",
    "for w in filtered_words:\n",
    "    stemmed_words.append(ps.stem(w))\n",
    "\n",
    "#print(\"Filtered Sentence:\",filtered_sent)\n",
    "print(\"Stemmed Sentence:\",stemmed_words)"
   ]
  },
  {
   "cell_type": "code",
   "execution_count": 19,
   "metadata": {},
   "outputs": [
    {
     "name": "stdout",
     "output_type": "stream",
     "text": [
      "Lemmatized Word: study\n",
      "Stemmed Word: studi\n"
     ]
    }
   ],
   "source": [
    "#Difference betweeb stemming and lemmatization\n",
    "\n",
    "from nltk.stem.wordnet import WordNetLemmatizer\n",
    "lem = WordNetLemmatizer()\n",
    "\n",
    "from nltk.stem.porter import PorterStemmer\n",
    "stem = PorterStemmer()\n",
    "\n",
    "word = \"studying\"\n",
    "print(\"Lemmatized Word:\",lem.lemmatize(word,\"v\"))\n",
    "print(\"Stemmed Word:\",stem.stem(word))"
   ]
  },
  {
   "cell_type": "markdown",
   "metadata": {},
   "source": [
    "### Stemming\n",
    "Stemming implies removing suffixes and obtaining word roots. \n",
    "There are different kinds of stemmers, such as SnowballStemmer and PorterStemmer https://www.nltk.org/howto/stem.html"
   ]
  },
  {
   "cell_type": "code",
   "execution_count": 20,
   "metadata": {},
   "outputs": [
    {
     "name": "stdout",
     "output_type": "stream",
     "text": [
      "Process mining is a family of techniques in the field of process management that support the analysis of business processes based on event logs. During process mining, specialized data mining algorithms are applied to event log data in order to identify trends, patterns and details contained in event logs recorded by an information system. Process mining aims to improve process efficiency and understanding of processes.\n",
      "\n",
      "process mine is a famili of techniqu in the field of process manag that support the analysi of busi process base on event logs. during process mining, special data mine algorithm are appli to event log data in order to identifi trends, pattern and detail contain in event log record by an inform system. process mine aim to improv process effici and understand of processes.\n"
     ]
    }
   ],
   "source": [
    "# Stemming\n",
    "\n",
    "# import nltk\n",
    "# nltk.download('stopwords')\n",
    "\n",
    "from nltk.stem.snowball import SnowballStemmer, PorterStemmer\n",
    " \n",
    "snowball_stemmer = SnowballStemmer('english', ignore_stopwords=True)\n",
    "\n",
    "example = 'Process mining is a family of techniques in the field of process management that support the analysis of business processes based on event logs. During process mining, specialized data mining algorithms are applied to event log data in order to identify trends, patterns and details contained in event logs recorded by an information system. Process mining aims to improve process efficiency and understanding of processes.'\n",
    "wordlist = example.split(' ')\n",
    "print(example)\n",
    "print()\n",
    "print(' '.join([snowball_stemmer.stem(word) for word in wordlist]))"
   ]
  },
  {
   "cell_type": "markdown",
   "metadata": {},
   "source": [
    "As you can see, the stemming procedure does not always imply just cutting a part of a word. Modern stemmers also modify the root of the word. This nevertheless cannot be considered as lemmatization, because converging to lemmas is not the goal of stemming.\n"
   ]
  },
  {
   "cell_type": "markdown",
   "metadata": {},
   "source": [
    "### Lemmatization\n",
    "\n",
    "Lemmatization transforms a token to its base form, a lemma. In nltk, you can use the WordNet lemmatizer. Let's see the results of lemmatization comparing to stemming.\n"
   ]
  },
  {
   "cell_type": "code",
   "execution_count": 21,
   "metadata": {},
   "outputs": [
    {
     "name": "stdout",
     "output_type": "stream",
     "text": [
      "Process mining is a family of techniques in the field of process management that support the analysis of business processes based on event logs. During process mining, specialized data mining algorithms are applied to event log data in order to identify trends, patterns and details contained in event logs recorded by an information system. Process mining aims to improve process efficiency and understanding of processes.\n",
      "\n",
      "process mine is a famili of techniqu in the field of process manag that support the analysi of busi process base on event logs. during process mining, special data mine algorithm are appli to event log data in order to identifi trends, pattern and detail contain in event log record by an inform system. process mine aim to improv process effici and understand of processes.\n",
      "\n",
      "Process mining is a family of technique in the field of process management that support the analysis of business process based on event logs. During process mining, specialized data mining algorithm are applied to event log data in order to identify trends, pattern and detail contained in event log recorded by an information system. Process mining aim to improve process efficiency and understanding of processes.\n"
     ]
    }
   ],
   "source": [
    "# Lemmatization\n",
    "\n",
    "# import nltk\n",
    "# nltk.download('wordnet')\n",
    "\n",
    "from nltk.stem import WordNetLemmatizer\n",
    "\n",
    "lemmatizer = WordNetLemmatizer()\n",
    "\n",
    "example = 'Process mining is a family of techniques in the field of process management that support the analysis of business processes based on event logs. During process mining, specialized data mining algorithms are applied to event log data in order to identify trends, patterns and details contained in event logs recorded by an information system. Process mining aims to improve process efficiency and understanding of processes.'\n",
    "wordlist = example.split(' ')\n",
    "print(example)\n",
    "print()\n",
    "print(' '.join([snowball_stemmer.stem(word) for word in wordlist]))\n",
    "print()\n",
    "print(' '.join([lemmatizer.lemmatize(word) for word in wordlist]))"
   ]
  },
  {
   "cell_type": "markdown",
   "metadata": {},
   "source": [
    "It can be seen that lemmatization is more complicated comparing to stemming. Lemmatizers tend to be more conservative than stemmers.\n",
    "\n",
    "It is useful that the WordNet stemmer applies a built-in morphy function. It passes a part-of-speech tag as a parameter, and depending on it, a lemma is identified. The default behaviour of the WordNet lemmatizer is to consider everything a NOUN. Let's see how the result changes passing a VERB tag.\n"
   ]
  },
  {
   "cell_type": "code",
   "execution_count": 22,
   "metadata": {},
   "outputs": [
    {
     "name": "stdout",
     "output_type": "stream",
     "text": [
      "loving\n",
      "love\n"
     ]
    }
   ],
   "source": [
    "print(lemmatizer.lemmatize('loving'))\n",
    "print(lemmatizer.lemmatize('loving', 'v'))"
   ]
  },
  {
   "cell_type": "markdown",
   "metadata": {},
   "source": [
    "### Part-of-Speech (POS) tagging\n",
    "The POS tagging looks for relationships within a sentence and assigns a corresponding tag to each word.\n",
    "\n",
    "You can read more about POS tagging here https://www.nltk.org/book/ch05.html\n",
    "\n",
    "And the POS tag list can be found here https://pythonprogramming.net/part-of-speech-tagging-nltk-tutorial/"
   ]
  },
  {
   "cell_type": "code",
   "execution_count": 23,
   "metadata": {},
   "outputs": [],
   "source": [
    "sentence = \"Data science is an inter-disciplinary field that uses scientific methods, processes, algorithms and systems to extract knowledge and insights from many structural and unstructured data.\"\n"
   ]
  },
  {
   "cell_type": "code",
   "execution_count": 24,
   "metadata": {},
   "outputs": [
    {
     "name": "stdout",
     "output_type": "stream",
     "text": [
      "['Data', 'science', 'is', 'an', 'inter-disciplinary', 'field', 'that', 'uses', 'scientific', 'methods', ',', 'processes', ',', 'algorithms', 'and', 'systems', 'to', 'extract', 'knowledge', 'and', 'insights', 'from', 'many', 'structural', 'and', 'unstructured', 'data', '.']\n"
     ]
    }
   ],
   "source": [
    "tokens=nltk.word_tokenize(sentence)\n",
    "print(tokens)"
   ]
  },
  {
   "cell_type": "code",
   "execution_count": 25,
   "metadata": {},
   "outputs": [
    {
     "name": "stderr",
     "output_type": "stream",
     "text": [
      "[nltk_data] Downloading package averaged_perceptron_tagger to\n",
      "[nltk_data]     C:\\Users\\testuser\\AppData\\Roaming\\nltk_data...\n",
      "[nltk_data]   Unzipping taggers\\averaged_perceptron_tagger.zip.\n"
     ]
    },
    {
     "data": {
      "text/plain": [
       "[('Data', 'NNP'),\n",
       " ('science', 'NN'),\n",
       " ('is', 'VBZ'),\n",
       " ('an', 'DT'),\n",
       " ('inter-disciplinary', 'JJ'),\n",
       " ('field', 'NN'),\n",
       " ('that', 'WDT'),\n",
       " ('uses', 'VBZ'),\n",
       " ('scientific', 'JJ'),\n",
       " ('methods', 'NNS'),\n",
       " (',', ','),\n",
       " ('processes', 'NNS'),\n",
       " (',', ','),\n",
       " ('algorithms', 'NN'),\n",
       " ('and', 'CC'),\n",
       " ('systems', 'NNS'),\n",
       " ('to', 'TO'),\n",
       " ('extract', 'VB'),\n",
       " ('knowledge', 'NN'),\n",
       " ('and', 'CC'),\n",
       " ('insights', 'NNS'),\n",
       " ('from', 'IN'),\n",
       " ('many', 'JJ'),\n",
       " ('structural', 'JJ'),\n",
       " ('and', 'CC'),\n",
       " ('unstructured', 'JJ'),\n",
       " ('data', 'NNS'),\n",
       " ('.', '.')]"
      ]
     },
     "execution_count": 25,
     "metadata": {},
     "output_type": "execute_result"
    }
   ],
   "source": [
    "nltk.download('averaged_perceptron_tagger')\n",
    "nltk.pos_tag(tokens)"
   ]
  },
  {
   "cell_type": "markdown",
   "metadata": {},
   "source": [
    "## Classification task\n",
    "\n",
    "Text classification is a very popular task in text mining.\n"
   ]
  },
  {
   "cell_type": "markdown",
   "metadata": {},
   "source": [
    "#### Loading the data\n",
    "\n",
    "The first step is to obtain the data for analysis. \n",
    "Here, we are using again the dataset `20 newsgroups` that is organized into 20 different newsgroups, each corresponding to a different topic. "
   ]
  },
  {
   "cell_type": "code",
   "execution_count": 26,
   "metadata": {},
   "outputs": [],
   "source": [
    "# Loading the training set part of 20newsgroups\n",
    "from sklearn.datasets import fetch_20newsgroups\n",
    "\n",
    "twenty_train = fetch_20newsgroups(subset='train', shuffle=True)\n",
    "twenty_test = fetch_20newsgroups(subset='test', shuffle=True)"
   ]
  },
  {
   "cell_type": "markdown",
   "metadata": {},
   "source": [
    "Then we can see the topics that would be the target attribute, which is required for supervised machine learning."
   ]
  },
  {
   "cell_type": "code",
   "execution_count": 27,
   "metadata": {},
   "outputs": [
    {
     "data": {
      "text/plain": [
       "['alt.atheism',\n",
       " 'comp.graphics',\n",
       " 'comp.os.ms-windows.misc',\n",
       " 'comp.sys.ibm.pc.hardware',\n",
       " 'comp.sys.mac.hardware',\n",
       " 'comp.windows.x',\n",
       " 'misc.forsale',\n",
       " 'rec.autos',\n",
       " 'rec.motorcycles',\n",
       " 'rec.sport.baseball',\n",
       " 'rec.sport.hockey',\n",
       " 'sci.crypt',\n",
       " 'sci.electronics',\n",
       " 'sci.med',\n",
       " 'sci.space',\n",
       " 'soc.religion.christian',\n",
       " 'talk.politics.guns',\n",
       " 'talk.politics.mideast',\n",
       " 'talk.politics.misc',\n",
       " 'talk.religion.misc']"
      ]
     },
     "execution_count": 27,
     "metadata": {},
     "output_type": "execute_result"
    }
   ],
   "source": [
    "# Visualize the categories(target attribute)\n",
    "twenty_train.target_names"
   ]
  },
  {
   "cell_type": "code",
   "execution_count": 28,
   "metadata": {},
   "outputs": [
    {
     "name": "stdout",
     "output_type": "stream",
     "text": [
      "From: lerxst@wam.umd.edu (where's my thing)\n",
      "Subject: WHAT car is this!?\n",
      "Nntp-Posting-Host: rac3.wam.umd.edu\n",
      "Organization: University of Maryland, College Park\n",
      "Lines: 15\n",
      "\n",
      " I was wondering if anyone out there could enlighten me on this car I saw\n"
     ]
    }
   ],
   "source": [
    "# Fragment of a document\n",
    "print(\"\\n\".join(twenty_train.data[0].split(\"\\n\")[:7]))"
   ]
  },
  {
   "cell_type": "markdown",
   "metadata": {},
   "source": [
    "### Feature extraction\n",
    "In order to perform machine learning on text documents, we first need to turn a text content into numerical feature vectors.\n"
   ]
  },
  {
   "cell_type": "markdown",
   "metadata": {},
   "source": [
    "### Tokenization and the bag-of-words (BoW) model\n",
    "The `CountVectorizer` method can be used to directly transform the dataset to the BoW model. This will first tokenize the text into words, and then create a vector space with one dimension for every word in the dictionary. Finally, it translates the documents into count vectors."
   ]
  },
  {
   "cell_type": "code",
   "execution_count": 29,
   "metadata": {},
   "outputs": [
    {
     "data": {
      "text/plain": [
       "(11314, 130107)"
      ]
     },
     "execution_count": 29,
     "metadata": {},
     "output_type": "execute_result"
    }
   ],
   "source": [
    "# Tokenization and construction of the bag-of-words model\n",
    "\n",
    "from sklearn.feature_extraction.text import CountVectorizer\n",
    "\n",
    "count_vect = CountVectorizer()\n",
    "X_train_counts = count_vect.fit_transform(twenty_train.data)\n",
    "X_train_counts.shape"
   ]
  },
  {
   "cell_type": "markdown",
   "metadata": {},
   "source": [
    "We can then build our first classifier using the count vector space. To do so, we are using the `pipeline` function of `scikit-learn`: we specify a sequence of operations to be performed on the data. In this case, we apply the `CountVectorizer` and then the SVM classifier with linear kernel and stochastic gradient descent as solver for the optimization problem."
   ]
  },
  {
   "cell_type": "code",
   "execution_count": 30,
   "metadata": {},
   "outputs": [
    {
     "name": "stderr",
     "output_type": "stream",
     "text": [
      "C:\\Users\\testuser\\anaconda3\\envs\\env-IDS2020\\lib\\site-packages\\sklearn\\linear_model\\_stochastic_gradient.py:573: ConvergenceWarning: Maximum number of iteration reached before convergence. Consider increasing max_iter to improve the fit.\n",
      "  ConvergenceWarning)\n"
     ]
    },
    {
     "data": {
      "text/plain": [
       "0.7007434944237918"
      ]
     },
     "execution_count": 30,
     "metadata": {},
     "output_type": "execute_result"
    }
   ],
   "source": [
    "# Text Mining pipeline v1: tokenization, BoW model, classification with SVM (linear kernel)\n",
    "\n",
    "from sklearn.linear_model import SGDClassifier\n",
    "from sklearn.pipeline import Pipeline\n",
    "import numpy as np\n",
    "\n",
    "text_clf = Pipeline([('vect', CountVectorizer()), ('clf-svm', SGDClassifier(loss='hinge', penalty='l2',alpha=1e-3, max_iter=3, random_state=42))])\n",
    "\n",
    "text_clf = text_clf.fit(twenty_train.data, twenty_train.target)\n",
    "predicted = text_clf.predict(twenty_test.data)\n",
    "np.mean(predicted == twenty_test.target)"
   ]
  },
  {
   "cell_type": "markdown",
   "metadata": {},
   "source": [
    "Keep in mind this result, we will try to improve it."
   ]
  },
  {
   "cell_type": "markdown",
   "metadata": {},
   "source": [
    "### Tf-idf scoring - from occurrence counts to normalized frequencies\n",
    "After that, we can try to improve our results by introducing a tf-idf scoring step in the pipeline. This is required because longer documents have higher average count values than shorter documents, even though they might talk about the same topics. \n",
    "\n",
    "In order to deal with the issue we can apply `TfidfTransformer` to convert the values of the vector from simple counts (tf) to tf-idf scores."
   ]
  },
  {
   "cell_type": "code",
   "execution_count": 31,
   "metadata": {},
   "outputs": [
    {
     "data": {
      "text/plain": [
       "(11314, 130107)"
      ]
     },
     "execution_count": 31,
     "metadata": {},
     "output_type": "execute_result"
    }
   ],
   "source": [
    "# Construction of the tf-idf score matrix\n",
    "from sklearn.feature_extraction.text import TfidfTransformer\n",
    "\n",
    "tfidf_transformer = TfidfTransformer()\n",
    "X_train_tfidf = tfidf_transformer.fit_transform(X_train_counts)\n",
    "X_train_tfidf.shape"
   ]
  },
  {
   "cell_type": "markdown",
   "metadata": {},
   "source": [
    "We can add it direcly to our pipeline:"
   ]
  },
  {
   "cell_type": "code",
   "execution_count": 32,
   "metadata": {},
   "outputs": [
    {
     "data": {
      "text/plain": [
       "0.8244822092405736"
      ]
     },
     "execution_count": 32,
     "metadata": {},
     "output_type": "execute_result"
    }
   ],
   "source": [
    "# Text Mining pipeline v2: tokenization, tf-idf scoring, BoW model, classification with SVM (linear kernel)\n",
    "\n",
    "from sklearn.linear_model import SGDClassifier\n",
    "\n",
    "text_clf = Pipeline([('vect', CountVectorizer()), ('tf-idf', TfidfTransformer()), ('clf-svm', SGDClassifier(loss='hinge', penalty='l2',alpha=1e-3, max_iter=3, random_state=42))])\n",
    "\n",
    "text_clf = text_clf.fit(twenty_train.data, twenty_train.target)\n",
    "predicted = text_clf.predict(twenty_test.data)\n",
    "np.mean(predicted == twenty_test.target)"
   ]
  },
  {
   "cell_type": "markdown",
   "metadata": {},
   "source": [
    "We have achieve an accuracy of 82% that is higher than in the previous test."
   ]
  },
  {
   "cell_type": "markdown",
   "metadata": {},
   "source": [
    "## Stop word removal\n",
    "Another way to improve the model is to remove stop words. `CountVectorizer` has an integrated stop list, and we can add an option to remove the stop words when we are building the vector space. By adding a clause (stop_words='english'), the `pipeline` will include stopword removal."
   ]
  },
  {
   "cell_type": "code",
   "execution_count": 33,
   "metadata": {},
   "outputs": [
    {
     "data": {
      "text/plain": [
       "0.8234200743494424"
      ]
     },
     "execution_count": 33,
     "metadata": {},
     "output_type": "execute_result"
    }
   ],
   "source": [
    "# Text Mining pipeline v3: tokenization, stopword removal, tf-idf scoring, BoW model, classification with SVM (linear kernel)\n",
    "\n",
    "from sklearn.pipeline import Pipeline\n",
    "\n",
    "text_clf = Pipeline([('vect', CountVectorizer(stop_words='english')), ('tf-idf', TfidfTransformer()), ('clf-svm', SGDClassifier(loss='hinge', penalty='l2',alpha=1e-3, max_iter=3, random_state=42))])\n",
    "text_clf = text_clf.fit(twenty_train.data, twenty_train.target)\n",
    "predicted = text_clf.predict(twenty_test.data)\n",
    "np.mean(predicted == twenty_test.target)"
   ]
  },
  {
   "cell_type": "markdown",
   "metadata": {},
   "source": [
    "## Task 2\n",
    "Can you suggest other steps to improve the model?"
   ]
  },
  {
   "cell_type": "markdown",
   "metadata": {},
   "source": [
    "## Doc2vec\n",
    "\n",
    "In the second text mining lecture, you have learned about advanced models and techniques to analyze texts, such as n-grams and word2vec/doc2vec. In this part, we are going to study how one can train a do2vec model and use it for text classification.\n",
    "\n",
    "For this purpose, we are going to use the 20newsgroups corpus again."
   ]
  },
  {
   "cell_type": "code",
   "execution_count": 34,
   "metadata": {},
   "outputs": [],
   "source": [
    "# Loading the 20newsgroups dataset\n",
    "from sklearn.datasets import fetch_20newsgroups\n",
    "\n",
    "twenty_train = fetch_20newsgroups(subset='train', shuffle=True)\n",
    "twenty_test = fetch_20newsgroups(subset='test', shuffle=True)"
   ]
  },
  {
   "cell_type": "markdown",
   "metadata": {},
   "source": [
    "The first entry looks like this:\n"
   ]
  },
  {
   "cell_type": "code",
   "execution_count": 35,
   "metadata": {},
   "outputs": [
    {
     "name": "stdout",
     "output_type": "stream",
     "text": [
      "From: lerxst@wam.umd.edu (where's my thing)\n",
      "Subject: WHAT car is this!?\n",
      "Nntp-Posting-Host: rac3.wam.umd.edu\n",
      "Organization: University of Maryland, College Park\n",
      "Lines: 15\n",
      "\n",
      " I was wondering if anyone out there could enlighten me on this car I saw\n",
      "the other day. It was a 2-door sports car, looked to be from the late 60s/\n",
      "early 70s. It was called a Bricklin. The doors were really small. In addition,\n",
      "the front bumper was separate from the rest of the body. This is \n",
      "all I know. If anyone can tellme a model name, engine specs, years\n",
      "of production, where this car is made, history, or whatever info you\n",
      "have on this funky looking car, please e-mail.\n",
      "\n",
      "Thanks,\n",
      "- IL\n",
      "   ---- brought to you by your neighborhood Lerxst ----\n",
      "\n",
      "\n",
      "\n",
      "\n",
      "\n"
     ]
    }
   ],
   "source": [
    "print(twenty_train.data[0])"
   ]
  },
  {
   "cell_type": "markdown",
   "metadata": {},
   "source": [
    "As shown below, targets are not strings but numbers. The target_names attribute allows to fetch the list of labels: targets are indexes in this list of labels."
   ]
  },
  {
   "cell_type": "code",
   "execution_count": 36,
   "metadata": {},
   "outputs": [
    {
     "name": "stdout",
     "output_type": "stream",
     "text": [
      "7\n"
     ]
    }
   ],
   "source": [
    "print(twenty_train.target[0])"
   ]
  },
  {
   "cell_type": "code",
   "execution_count": 37,
   "metadata": {},
   "outputs": [
    {
     "data": {
      "text/plain": [
       "['alt.atheism',\n",
       " 'comp.graphics',\n",
       " 'comp.os.ms-windows.misc',\n",
       " 'comp.sys.ibm.pc.hardware',\n",
       " 'comp.sys.mac.hardware',\n",
       " 'comp.windows.x',\n",
       " 'misc.forsale',\n",
       " 'rec.autos',\n",
       " 'rec.motorcycles',\n",
       " 'rec.sport.baseball',\n",
       " 'rec.sport.hockey',\n",
       " 'sci.crypt',\n",
       " 'sci.electronics',\n",
       " 'sci.med',\n",
       " 'sci.space',\n",
       " 'soc.religion.christian',\n",
       " 'talk.politics.guns',\n",
       " 'talk.politics.mideast',\n",
       " 'talk.politics.misc',\n",
       " 'talk.religion.misc']"
      ]
     },
     "execution_count": 37,
     "metadata": {},
     "output_type": "execute_result"
    }
   ],
   "source": [
    "twenty_train.target_names"
   ]
  },
  {
   "cell_type": "code",
   "execution_count": 38,
   "metadata": {},
   "outputs": [
    {
     "data": {
      "text/plain": [
       "'rec.autos'"
      ]
     },
     "execution_count": 38,
     "metadata": {},
     "output_type": "execute_result"
    }
   ],
   "source": [
    "twenty_train.target_names[twenty_train.target[0]]"
   ]
  },
  {
   "cell_type": "markdown",
   "metadata": {},
   "source": [
    "### Preprocessing\n",
    "\n",
    "For this test, we are _not_ going to normalize the text, we will just tokenize it. \n",
    "\n",
    "The gensim tool (https://radimrehurek.com/gensim/) gensim.utils.simple_preprocess tokenizes a text, puts everything in lowercase and eliminates punctuation.\n",
    "\n",
    "Gensim's doc2vec requires a list of TaggedDocument objects as a input. A TaggedDocument is created with two parameters: words, which has to be a list of strings (tokens); and tags, which has to be a list of strings (labels). \n",
    "\n",
    "In our case, labels are unique. That is why we have to use a list with just one element - targets are lists because TaggedDocument also supports multilabel classification. Using the syntax, we fetch the string label for each document and we create TaggedDocuments. We do this for the training and the test sets.\n"
   ]
  },
  {
   "cell_type": "code",
   "execution_count": 39,
   "metadata": {},
   "outputs": [
    {
     "name": "stdout",
     "output_type": "stream",
     "text": [
      "TaggedDocument(words=['from', 'lerxst', 'wam', 'umd', 'edu', 'where', 'my', 'thing', 'subject', 'what', 'car', 'is', 'this', 'nntp', 'posting', 'host', 'rac', 'wam', 'umd', 'edu', 'organization', 'university', 'of', 'maryland', 'college', 'park', 'lines', 'was', 'wondering', 'if', 'anyone', 'out', 'there', 'could', 'enlighten', 'me', 'on', 'this', 'car', 'saw', 'the', 'other', 'day', 'it', 'was', 'door', 'sports', 'car', 'looked', 'to', 'be', 'from', 'the', 'late', 'early', 'it', 'was', 'called', 'bricklin', 'the', 'doors', 'were', 'really', 'small', 'in', 'addition', 'the', 'front', 'bumper', 'was', 'separate', 'from', 'the', 'rest', 'of', 'the', 'body', 'this', 'is', 'all', 'know', 'if', 'anyone', 'can', 'tellme', 'model', 'name', 'engine', 'specs', 'years', 'of', 'production', 'where', 'this', 'car', 'is', 'made', 'history', 'or', 'whatever', 'info', 'you', 'have', 'on', 'this', 'funky', 'looking', 'car', 'please', 'mail', 'thanks', 'il', 'brought', 'to', 'you', 'by', 'your', 'neighborhood', 'lerxst'], tags=['rec.autos'])\n"
     ]
    }
   ],
   "source": [
    "# Tokenizing, normalizing, and creating lists of TaggedDocument objects\n",
    "import gensim\n",
    "\n",
    "twenty_train_tagged = []\n",
    "twenty_test_tagged = []\n",
    "\n",
    "for i in range (0, len(twenty_train.data)):\n",
    "    twenty_train_tagged.append(gensim.models.doc2vec.TaggedDocument(words=gensim.utils.simple_preprocess(twenty_train.data[i]), tags=[twenty_train.target_names[twenty_train.target[i]]]))\n",
    "\n",
    "for i in range (0, len(twenty_test.data)):\n",
    "    twenty_test_tagged.append(gensim.models.doc2vec.TaggedDocument(words=gensim.utils.simple_preprocess(twenty_test.data[i]), tags=[twenty_test.target_names[twenty_test.target[i]]]))\n",
    "\n",
    "print(repr(twenty_train_tagged[0]))\n"
   ]
  },
  {
   "cell_type": "markdown",
   "metadata": {},
   "source": [
    "In order to speed up the calculations, let's fetch the number of cores the machine has"
   ]
  },
  {
   "cell_type": "code",
   "execution_count": 40,
   "metadata": {},
   "outputs": [],
   "source": [
    "import multiprocessing\n",
    "\n",
    "cores = multiprocessing.cpu_count()"
   ]
  },
  {
   "cell_type": "markdown",
   "metadata": {},
   "source": [
    "### Creating a vocabulary\n",
    "\n",
    "At this point, we are ready to train our doc2vec model. The first thing to do is to create the vocabulary. This allows to determine the size of input and output and build the one-hot encoding for tokens.\n"
   ]
  },
  {
   "cell_type": "code",
   "execution_count": 41,
   "metadata": {},
   "outputs": [
    {
     "name": "stderr",
     "output_type": "stream",
     "text": [
      "100%|███████████████████████████████████████████████████████████████████████| 11314/11314 [00:00<00:00, 1620708.86it/s]\n"
     ]
    }
   ],
   "source": [
    "# Building the vocabulary\n",
    "from gensim.models import Doc2Vec\n",
    "from tqdm import tqdm\n",
    "\n",
    "#doc2vec_model = Doc2Vec(dm=0, vector_size=40, min_count=2, workers=cores)\n",
    "doc2vec_model = Doc2Vec(dm=0, vector_size=40, workers=cores)\n",
    "doc2vec_model.build_vocab([x for x in tqdm(twenty_train_tagged)])"
   ]
  },
  {
   "cell_type": "markdown",
   "metadata": {},
   "source": [
    "### Obtaining a document embedding\n",
    "\n",
    "After creating the vocabulary, it is time to train the encoding neural network that will provide the representation. The hyper parameters are the regular ones for neural networks.\n"
   ]
  },
  {
   "cell_type": "code",
   "execution_count": 43,
   "metadata": {},
   "outputs": [
    {
     "name": "stderr",
     "output_type": "stream",
     "text": [
      "100%|███████████████████████████████████████████████████████████████████████| 11314/11314 [00:00<00:00, 2269023.40it/s]\n",
      "100%|███████████████████████████████████████████████████████████████████████| 11314/11314 [00:00<00:00, 2835804.68it/s]\n",
      "100%|███████████████████████████████████████████████████████████████████████| 11314/11314 [00:00<00:00, 1890762.43it/s]\n",
      "100%|███████████████████████████████████████████████████████████████████████| 11314/11314 [00:00<00:00, 2268914.92it/s]\n",
      "100%|███████████████████████████████████████████████████████████████████████| 11314/11314 [00:00<00:00, 3781826.22it/s]\n",
      "100%|███████████████████████████████████████████████████████████████████████| 11314/11314 [00:00<00:00, 2836652.25it/s]\n",
      "100%|███████████████████████████████████████████████████████████████████████| 11314/11314 [00:00<00:00, 3782429.10it/s]\n",
      "100%|███████████████████████████████████████████████████████████████████████| 11314/11314 [00:00<00:00, 3783032.16it/s]\n",
      "100%|███████████████████████████████████████████████████████████████████████| 11314/11314 [00:00<00:00, 1891063.82it/s]\n",
      "100%|███████████████████████████████████████████████████████████████████████| 11314/11314 [00:00<00:00, 3782429.10it/s]\n",
      "100%|███████████████████████████████████████████████████████████████████████| 11314/11314 [00:00<00:00, 2269240.41it/s]\n",
      "100%|███████████████████████████████████████████████████████████████████████| 11314/11314 [00:00<00:00, 1890762.43it/s]\n",
      "100%|███████████████████████████████████████████████████████████████████████| 11314/11314 [00:00<00:00, 3783937.12it/s]\n",
      "100%|███████████████████████████████████████████████████████████████████████| 11314/11314 [00:00<00:00, 2269131.90it/s]\n",
      "100%|███████████████████████████████████████████████████████████████████████| 11314/11314 [00:00<00:00, 1890837.77it/s]\n",
      "100%|███████████████████████████████████████████████████████████████████████| 11314/11314 [00:00<00:00, 2268914.92it/s]\n",
      "100%|███████████████████████████████████████████████████████████████████████| 11314/11314 [00:00<00:00, 3783635.42it/s]\n",
      "100%|███████████████████████████████████████████████████████████████████████| 11314/11314 [00:00<00:00, 1890687.10it/s]\n",
      "100%|███████████████████████████████████████████████████████████████████████| 11314/11314 [00:00<00:00, 2268264.21it/s]\n",
      "100%|███████████████████████████████████████████████████████████████████████| 11314/11314 [00:00<00:00, 1620432.15it/s]\n",
      "100%|███████████████████████████████████████████████████████████████████████| 11314/11314 [00:00<00:00, 2269674.55it/s]\n",
      "100%|███████████████████████████████████████████████████████████████████████| 11314/11314 [00:00<00:00, 1620487.48it/s]\n",
      "100%|███████████████████████████████████████████████████████████████████████| 11314/11314 [00:00<00:00, 2267288.84it/s]\n",
      "100%|███████████████████████████████████████████████████████████████████████| 11314/11314 [00:00<00:00, 3785748.34it/s]\n",
      "100%|███████████████████████████████████████████████████████████████████████| 11314/11314 [00:00<00:00, 2835804.68it/s]\n",
      "100%|███████████████████████████████████████████████████████████████████████| 11314/11314 [00:00<00:00, 1890687.10it/s]\n",
      "100%|███████████████████████████████████████████████████████████████████████| 11314/11314 [00:00<00:00, 1620708.86it/s]\n",
      "100%|███████████████████████████████████████████████████████████████████████| 11314/11314 [00:00<00:00, 2838518.69it/s]\n",
      "100%|███████████████████████████████████████████████████████████████████████| 11314/11314 [00:00<00:00, 2835804.68it/s]\n",
      "100%|███████████████████████████████████████████████████████████████████████| 11314/11314 [00:00<00:00, 2269131.90it/s]\n"
     ]
    }
   ],
   "source": [
    "# Training the doc2vec model\n",
    "from sklearn import utils\n",
    "\n",
    "for epoch in range(30):\n",
    "    doc2vec_model.train(utils.shuffle([x for x in tqdm(twenty_train_tagged)]), total_examples=len(twenty_train_tagged), epochs=1)\n",
    "    doc2vec_model.alpha -= 0.002\n",
    "    doc2vec_model.min_alpha = doc2vec_model.alpha"
   ]
  },
  {
   "cell_type": "markdown",
   "metadata": {},
   "source": [
    "### Creating a document features vector\n",
    "\n",
    "Once trained the doc2vec representation model, we can use it to convert documents into fixed-length vectors in order to use these vectors in a classifier. For that purpose we can use the infer_vector method.\n"
   ]
  },
  {
   "cell_type": "code",
   "execution_count": 44,
   "metadata": {},
   "outputs": [],
   "source": [
    "# Building the feature vector for the classifier\n",
    "def vec_for_learning(model, docs):\n",
    "    doc2vec_vectors = [model.infer_vector(doc.words) for doc in docs]\n",
    "    targets = [doc.tags[0] for doc in docs]\n",
    "    return doc2vec_vectors, targets"
   ]
  },
  {
   "cell_type": "code",
   "execution_count": 45,
   "metadata": {},
   "outputs": [],
   "source": [
    "# Translating docs into vectors for training and test set\n",
    "X_train, y_train = vec_for_learning(doc2vec_model, twenty_train_tagged)\n",
    "X_test, y_test = vec_for_learning(doc2vec_model, twenty_test_tagged)"
   ]
  },
  {
   "cell_type": "markdown",
   "metadata": {},
   "source": [
    "### Creating and training a classifier\n",
    "\n",
    "Finally, we can create a classifier and evaluate the results using performance metrics.\n"
   ]
  },
  {
   "cell_type": "code",
   "execution_count": 41,
   "metadata": {},
   "outputs": [
    {
     "name": "stderr",
     "output_type": "stream",
     "text": [
      "C:\\Users\\gein\\anaconda3\\envs\\env-IDS2020\\lib\\site-packages\\sklearn\\linear_model\\_logistic.py:764: ConvergenceWarning: lbfgs failed to converge (status=1):\n",
      "STOP: TOTAL NO. of ITERATIONS REACHED LIMIT.\n",
      "\n",
      "Increase the number of iterations (max_iter) or scale the data as shown in:\n",
      "    https://scikit-learn.org/stable/modules/preprocessing.html\n",
      "Please also refer to the documentation for alternative solver options:\n",
      "    https://scikit-learn.org/stable/modules/linear_model.html#logistic-regression\n",
      "  extra_warning_msg=_LOGISTIC_SOLVER_CONVERGENCE_MSG)\n"
     ]
    }
   ],
   "source": [
    "# Training a classification model\n",
    "from sklearn.linear_model import LogisticRegression\n",
    "\n",
    "log_reg = LogisticRegression(n_jobs=1, C=1e5)\n",
    "log_reg.fit(X_train, y_train)\n",
    "y_pred = log_reg.predict(X_test)"
   ]
  },
  {
   "cell_type": "code",
   "execution_count": 42,
   "metadata": {},
   "outputs": [
    {
     "name": "stdout",
     "output_type": "stream",
     "text": [
      "Test accuracy 0.12626128518321827\n",
      "Test F1 score: 0.12191301780494869\n"
     ]
    }
   ],
   "source": [
    "# Classification performance metrics\n",
    "from sklearn.metrics import accuracy_score, f1_score\n",
    "\n",
    "print('Test accuracy %s' % accuracy_score(y_test, y_pred))\n",
    "print('Test F1 score: {}'.format(f1_score(y_test, y_pred, average='weighted')))"
   ]
  },
  {
   "cell_type": "markdown",
   "metadata": {},
   "source": [
    "## Task 3\n",
    "Can you explain the scores? "
   ]
  }
 ],
 "metadata": {
  "kernelspec": {
   "display_name": "Python 3",
   "language": "python",
   "name": "python3"
  },
  "language_info": {
   "codemirror_mode": {
    "name": "ipython",
    "version": 3
   },
   "file_extension": ".py",
   "mimetype": "text/x-python",
   "name": "python",
   "nbconvert_exporter": "python",
   "pygments_lexer": "ipython3",
   "version": "3.7.9"
  }
 },
 "nbformat": 4,
 "nbformat_minor": 2
}
