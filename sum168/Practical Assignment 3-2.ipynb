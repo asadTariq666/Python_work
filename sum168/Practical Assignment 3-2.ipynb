{
 "cells": [
  {
   "cell_type": "markdown",
   "metadata": {
    "collapsed": true,
    "id": "s-76WK8BOZD9"
   },
   "source": [
    "# Toegepaste Machine Learning\n",
    "\n",
    "## Practical Assignment 3\n",
    "\n",
    "### Important Notes:\n",
    "1. Submit through **Canvas** in electronic form before 11:59pm on Tuesday, May 31, 2022\n",
    "2. No late homework will be accepted.\n",
    "3. This is a group-of-two assignment\n",
    "4. The submitted file should be in ipynb format\n",
    "5. The assignment is worth it 10 points\n",
    "6. **Please make sure you are in a group on canvas!**\n",
    "7. Question can be asked on the discussion tab on canvas.\n",
    "8. The indication **optional** means that the question is optional; you won't lose any points if you do not do that part of the assignment, nor will you gain if you do it.\n",
    "\n",
    "### Software:\n",
    "We will be using Python programming language throughout this course. Further we will be using:\n",
    "+ IPython Notebooks (as an environment)\n",
    "+ Numpy\n",
    "+ Pandas\n",
    "+ Scikit-learn\n",
    "\n",
    "\n",
    "### Background:\n",
    "\n",
    "This practical assignment will be covering clustering and working with text. \n",
    "\n",
    "For the assignment, please download the dataset on [Movies](https://drive.google.com/drive/folders/1u_cDY-ZIJQKZSdgadzsbI0Q_dj4Jhy41?usp=sharing), or simply execute the command below. \n",
    "\n",
    "The folder contains a number of files, of which you will be using two: plot_summaries.txt and movie.metadata.tsv. Both are tab separated files. The former, i.e. plot_summaries.txt, contains the plot summaries of 42,306 movies extracted from the November 2, 2012 dump of English-language Wikipedia. Each line contains the Wikipedia movie ID (which indexes into movie.metadata.tsv) followed by the summary. The latter file, i.e. movie.metadata.tsv contains metadata for 81,741 movies, extracted from the Noverber 4, 2012 dump of Freebase. Freebase is a knowledge base (similar to a database) that contains information about different Entities (including movies). The file is tab-separated with the following columns:\n",
    "\n",
    "1. Wikipedia movie ID\n",
    "2. Freebase movie ID\n",
    "3. Movie name\n",
    "4. Movie release date\n",
    "5. Movie box office revenue\n",
    "6. Movie runtime\n",
    "7. Movie languages (Freebase ID:name tuples)\n",
    "8. Movie countries (Freebase ID:name tuples)\n",
    "9. Movie genres (Freebase ID:name tuples)\n",
    "\n",
    "The goal of this assignment will be to cluster movies.\n",
    "\n",
    "**Important Note**: This third assignment is not as instructive as the first assignment. The first assignment guided you step-by-step through all the preprocessing, training-validation-testing setup, etc. This assignment does not do so, but it leaves it up to you to decide how to use the data and design your experiments."
   ]
  },
  {
   "cell_type": "code",
   "execution_count": 4,
   "metadata": {
    "colab": {
     "base_uri": "https://localhost:8080/"
    },
    "executionInfo": {
     "elapsed": 9313,
     "status": "ok",
     "timestamp": 1620815179454,
     "user": {
      "displayName": "Mohammad Aliannejadi",
      "photoUrl": "https://lh3.googleusercontent.com/a-/AOh14GgPO1w_DfPwEKbrl4Dys5EnchJ-8auKnVWSrVpk1A=s64",
      "userId": "16397319799386146908"
     },
     "user_tz": -120
    },
    "id": "4IkS4RVxZIAh",
    "outputId": "d9f25d70-e0d1-4cf6-c17b-664144e29a40"
   },
   "outputs": [
    {
     "name": "stdout",
     "output_type": "stream",
     "text": [
      "zsh:1: command not found: gdown\n",
      "zsh:1: command not found: gdown\n",
      "zsh:1: command not found: gdown\n",
      "zsh:1: command not found: gdown\n"
     ]
    }
   ],
   "source": [
    "! mkdir MovieSummaries\n",
    "\n",
    "! gdown \"https://drive.google.com/uc?id=1tyun9bJq63hu9A9p11B75HjMQTCG5JpP\" -O ./MovieSummaries/movie.metadata.tsv\n",
    "! gdown \"https://drive.google.com/uc?id=1Aeo9WwaKX39Z2zV374zLXW-ndlzcWYDn\" -O ./MovieSummaries/moviesrep.csv\n",
    "! gdown \"https://drive.google.com/uc?id=1AnELzvfDWc6NAyV55lfrcVpAoIWzZAAl\" -O ./MovieSummaries/plot_summaries.txt\n",
    "! gdown \"https://drive.google.com/uc?id=1CxsqcbtYzAR8S3zLSsstgC6QQa1mUPqd\" -O ./MovieSummaries/README.txt"
   ]
  },
  {
   "cell_type": "markdown",
   "metadata": {
    "id": "EYv9RuxmOZD-"
   },
   "source": [
    "### Part 1: Import the data"
   ]
  },
  {
   "cell_type": "markdown",
   "metadata": {
    "id": "nF1W-QtxOZD_"
   },
   "source": [
    "We import both files and performing a join (merging the two files) using the Wikipedia ID (WID) to match the movies that appear in summaries to those that appear in the metadata. If a movie does not appear in either file, it is not included in the final list."
   ]
  },
  {
   "cell_type": "code",
   "execution_count": 9,
   "metadata": {
    "colab": {
     "base_uri": "https://localhost:8080/",
     "height": 407
    },
    "executionInfo": {
     "elapsed": 748,
     "status": "error",
     "timestamp": 1652717194251,
     "user": {
      "displayName": "Evangelos Kanoulas",
      "userId": "07681034239890621339"
     },
     "user_tz": -120
    },
    "id": "A0F31kdrOZEA",
    "outputId": "f676673f-8e15-43dd-950a-31e40d9e30ec",
    "pycharm": {
     "is_executing": false
    }
   },
   "outputs": [],
   "source": [
    "import pandas as pd\n",
    "metadata = pd.read_csv('movie.metadata.tsv',sep=\"\\t\", header = None,\n",
    "                        names=['WID', 'FID', 'Name', 'Release', 'Revenue', \n",
    "                               'Runtime', 'Languages', 'Countries', 'Genres'])\n",
    "summaries = pd.read_csv('plot_summaries.txt',sep=\"\\t\", header = None,\n",
    "                         names=['WID', 'Text'])\n",
    "films = pd.merge(metadata, summaries, on='WID')"
   ]
  },
  {
   "cell_type": "markdown",
   "metadata": {
    "id": "Hko2M_I5OZED"
   },
   "source": [
    "A movie may have more than one genre. We extract the first genre that characterizes the movie. Some movies may not have any corresponing genres."
   ]
  },
  {
   "cell_type": "code",
   "execution_count": 10,
   "metadata": {
    "id": "28jPvw2kOZEE",
    "pycharm": {
     "is_executing": false
    }
   },
   "outputs": [],
   "source": [
    "import ast\n",
    "\n",
    "genres = []\n",
    "for film in films.values:\n",
    "    exist = False\n",
    "    g = ast.literal_eval(film[8])\n",
    "    # Get the first genre for this movie\n",
    "    for key in g:\n",
    "        exist = True\n",
    "        genres.append(g[key])\n",
    "        break\n",
    "    # If there is no genre for this movie\n",
    "    if exist is False:\n",
    "        genres.append('')"
   ]
  },
  {
   "cell_type": "markdown",
   "metadata": {
    "id": "wuJhiImYOZEG"
   },
   "source": [
    "Consider only movies in four genres: 'Drama', 'Comedy', 'Science Fiction', 'Action'. Then sort them by Revenue they had in the cinemas, and get the top 150 most popular ones."
   ]
  },
  {
   "cell_type": "code",
   "execution_count": 11,
   "metadata": {
    "id": "4VogH2r8OZEG",
    "pycharm": {
     "is_executing": false
    }
   },
   "outputs": [],
   "source": [
    "# Merge the films with the genre into a single Dataframe\n",
    "genres = pd.Series(genres, name='Genre')\n",
    "films_genre = pd.concat([films, genres], axis=1)\n",
    "\n",
    "# Get only movies about the four following genres\n",
    "films_genre_ind = films_genre.set_index('Genre')\n",
    "movie_genres = ['Drama', 'Comedy', 'Science Fiction', 'Action']\n",
    "genre150 = pd.DataFrame()\n",
    "for mg in movie_genres:\n",
    "    genre150 = genre150.append(films_genre_ind.loc[mg])\n",
    "\n",
    "# Get the top-150 of those\n",
    "top150 = (genre150.sort_values(by='Revenue',ascending=False)[0:150]).reset_index()[['Name','Text','Genre']]\n"
   ]
  },
  {
   "cell_type": "markdown",
   "metadata": {},
   "source": [
    "What you are left with are 150 movies."
   ]
  },
  {
   "cell_type": "code",
   "execution_count": 12,
   "metadata": {
    "colab": {
     "base_uri": "https://localhost:8080/",
     "height": 402
    },
    "executionInfo": {
     "elapsed": 11986,
     "status": "ok",
     "timestamp": 1620815182140,
     "user": {
      "displayName": "Mohammad Aliannejadi",
      "photoUrl": "https://lh3.googleusercontent.com/a-/AOh14GgPO1w_DfPwEKbrl4Dys5EnchJ-8auKnVWSrVpk1A=s64",
      "userId": "16397319799386146908"
     },
     "user_tz": -120
    },
    "id": "yPq1aK6Y74j2",
    "outputId": "0cd37274-b4ec-4ab7-b5bd-8f6a65140ca8",
    "pycharm": {
     "is_executing": false,
     "name": "#%%\n"
    }
   },
   "outputs": [
    {
     "data": {
      "text/html": [
       "<div>\n",
       "<style scoped>\n",
       "    .dataframe tbody tr th:only-of-type {\n",
       "        vertical-align: middle;\n",
       "    }\n",
       "\n",
       "    .dataframe tbody tr th {\n",
       "        vertical-align: top;\n",
       "    }\n",
       "\n",
       "    .dataframe thead th {\n",
       "        text-align: right;\n",
       "    }\n",
       "</style>\n",
       "<table border=\"1\" class=\"dataframe\">\n",
       "  <thead>\n",
       "    <tr style=\"text-align: right;\">\n",
       "      <th></th>\n",
       "      <th>Name</th>\n",
       "      <th>Text</th>\n",
       "      <th>Genre</th>\n",
       "    </tr>\n",
       "  </thead>\n",
       "  <tbody>\n",
       "    <tr>\n",
       "      <th>0</th>\n",
       "      <td>The Avengers</td>\n",
       "      <td>The Asgardian Loki encounters the Other, the ...</td>\n",
       "      <td>Science Fiction</td>\n",
       "    </tr>\n",
       "    <tr>\n",
       "      <th>1</th>\n",
       "      <td>Harry Potter and the Deathly Hallows – Part 2</td>\n",
       "      <td>{{further2}} {{See also}}  As Lord Voldemort r...</td>\n",
       "      <td>Drama</td>\n",
       "    </tr>\n",
       "    <tr>\n",
       "      <th>2</th>\n",
       "      <td>Star Wars Episode I: The Phantom Menace</td>\n",
       "      <td>The Galactic Republic is in a period of decli...</td>\n",
       "      <td>Science Fiction</td>\n",
       "    </tr>\n",
       "    <tr>\n",
       "      <th>3</th>\n",
       "      <td>Star Wars Episode III: Revenge of the Sith</td>\n",
       "      <td>As the Clone Wars rage on, the Galactic Repub...</td>\n",
       "      <td>Science Fiction</td>\n",
       "    </tr>\n",
       "    <tr>\n",
       "      <th>4</th>\n",
       "      <td>E.T. the Extra-Terrestrial</td>\n",
       "      <td>The film opens in a California forest as a gro...</td>\n",
       "      <td>Science Fiction</td>\n",
       "    </tr>\n",
       "    <tr>\n",
       "      <th>...</th>\n",
       "      <td>...</td>\n",
       "      <td>...</td>\n",
       "      <td>...</td>\n",
       "    </tr>\n",
       "    <tr>\n",
       "      <th>145</th>\n",
       "      <td>Brothers</td>\n",
       "      <td>Sam Cahill  and Tommy Cahill  are brothers. A ...</td>\n",
       "      <td>Drama</td>\n",
       "    </tr>\n",
       "    <tr>\n",
       "      <th>146</th>\n",
       "      <td>Regarding Henry</td>\n",
       "      <td>Ambitious, callous, narcissistic, and at times...</td>\n",
       "      <td>Drama</td>\n",
       "    </tr>\n",
       "    <tr>\n",
       "      <th>147</th>\n",
       "      <td>Time Bandits</td>\n",
       "      <td>Eleven-year-old Kevin has a vivid imagination ...</td>\n",
       "      <td>Science Fiction</td>\n",
       "    </tr>\n",
       "    <tr>\n",
       "      <th>148</th>\n",
       "      <td>Naruto the Movie: Snow Princess' Book of Ninja...</td>\n",
       "      <td>The film opens with Naruto Uzumaki, Sakura Har...</td>\n",
       "      <td>Action</td>\n",
       "    </tr>\n",
       "    <tr>\n",
       "      <th>149</th>\n",
       "      <td>Disgrace</td>\n",
       "      <td>David Lurie  is a South African professor of E...</td>\n",
       "      <td>Drama</td>\n",
       "    </tr>\n",
       "  </tbody>\n",
       "</table>\n",
       "<p>150 rows × 3 columns</p>\n",
       "</div>"
      ],
      "text/plain": [
       "                                                  Name  \\\n",
       "0                                         The Avengers   \n",
       "1        Harry Potter and the Deathly Hallows – Part 2   \n",
       "2              Star Wars Episode I: The Phantom Menace   \n",
       "3           Star Wars Episode III: Revenge of the Sith   \n",
       "4                           E.T. the Extra-Terrestrial   \n",
       "..                                                 ...   \n",
       "145                                           Brothers   \n",
       "146                                    Regarding Henry   \n",
       "147                                       Time Bandits   \n",
       "148  Naruto the Movie: Snow Princess' Book of Ninja...   \n",
       "149                                           Disgrace   \n",
       "\n",
       "                                                  Text            Genre  \n",
       "0     The Asgardian Loki encounters the Other, the ...  Science Fiction  \n",
       "1    {{further2}} {{See also}}  As Lord Voldemort r...            Drama  \n",
       "2     The Galactic Republic is in a period of decli...  Science Fiction  \n",
       "3     As the Clone Wars rage on, the Galactic Repub...  Science Fiction  \n",
       "4    The film opens in a California forest as a gro...  Science Fiction  \n",
       "..                                                 ...              ...  \n",
       "145  Sam Cahill  and Tommy Cahill  are brothers. A ...            Drama  \n",
       "146  Ambitious, callous, narcissistic, and at times...            Drama  \n",
       "147  Eleven-year-old Kevin has a vivid imagination ...  Science Fiction  \n",
       "148  The film opens with Naruto Uzumaki, Sakura Har...           Action  \n",
       "149  David Lurie  is a South African professor of E...            Drama  \n",
       "\n",
       "[150 rows x 3 columns]"
      ]
     },
     "execution_count": 12,
     "metadata": {},
     "output_type": "execute_result"
    }
   ],
   "source": [
    "# Show the dataframe of the top150 dataset you will be working on.\n",
    "top150"
   ]
  },
  {
   "cell_type": "code",
   "execution_count": 13,
   "metadata": {
    "colab": {
     "base_uri": "https://localhost:8080/"
    },
    "executionInfo": {
     "elapsed": 11982,
     "status": "ok",
     "timestamp": 1620815182140,
     "user": {
      "displayName": "Mohammad Aliannejadi",
      "photoUrl": "https://lh3.googleusercontent.com/a-/AOh14GgPO1w_DfPwEKbrl4Dys5EnchJ-8auKnVWSrVpk1A=s64",
      "userId": "16397319799386146908"
     },
     "user_tz": -120
    },
    "id": "ZQlcENlS74j9",
    "outputId": "832a7429-f399-4382-8946-e405f2b9850e",
    "pycharm": {
     "is_executing": false,
     "name": "#%%\n"
    }
   },
   "outputs": [
    {
     "name": "stdout",
     "output_type": "stream",
     "text": [
      "Science Fiction    76\n",
      "Drama              47\n",
      "Comedy             18\n",
      "Action              9\n",
      "Name: Genre, dtype: int64\n"
     ]
    }
   ],
   "source": [
    "# Look at the distribution of your movies in the dataset\n",
    "print(top150['Genre'].value_counts())"
   ]
  },
  {
   "cell_type": "markdown",
   "metadata": {
    "id": "3wQ3oflGOZEN"
   },
   "source": [
    "### Part 2: Turn movies into BoW representation (Lecture 7) (5pts)"
   ]
  },
  {
   "cell_type": "markdown",
   "metadata": {
    "id": "s7vIpDpZOZEO"
   },
   "source": [
    "Turn each movie plot summary (i.e. the 'Text' column in the top150 dataframe) into:"
   ]
  },
  {
   "cell_type": "markdown",
   "metadata": {
    "id": "XTKUHBOmOZEP"
   },
   "source": [
    "* **Bag-of-Words**"
   ]
  },
  {
   "cell_type": "code",
   "execution_count": 72,
   "metadata": {},
   "outputs": [],
   "source": [
    "from sklearn.feature_extraction.text import TfidfVectorizer, CountVectorizer\n",
    "import warnings\n",
    "warnings.simplefilter(\"ignore\")"
   ]
  },
  {
   "cell_type": "code",
   "execution_count": 76,
   "metadata": {},
   "outputs": [
    {
     "data": {
      "text/html": [
       "<div>\n",
       "<style scoped>\n",
       "    .dataframe tbody tr th:only-of-type {\n",
       "        vertical-align: middle;\n",
       "    }\n",
       "\n",
       "    .dataframe tbody tr th {\n",
       "        vertical-align: top;\n",
       "    }\n",
       "\n",
       "    .dataframe thead th {\n",
       "        text-align: right;\n",
       "    }\n",
       "</style>\n",
       "<table border=\"1\" class=\"dataframe\">\n",
       "  <thead>\n",
       "    <tr style=\"text-align: right;\">\n",
       "      <th></th>\n",
       "      <th>000</th>\n",
       "      <th>00am</th>\n",
       "      <th>02</th>\n",
       "      <th>03</th>\n",
       "      <th>04</th>\n",
       "      <th>09</th>\n",
       "      <th>10</th>\n",
       "      <th>100</th>\n",
       "      <th>1000</th>\n",
       "      <th>10__pokemon__a_catchy_toon_crea</th>\n",
       "      <th>...</th>\n",
       "      <th>zoo</th>\n",
       "      <th>zoos</th>\n",
       "      <th>zorgon</th>\n",
       "      <th>zorgons</th>\n",
       "      <th>zubat</th>\n",
       "      <th>zuko</th>\n",
       "      <th>zuul</th>\n",
       "      <th>ángel</th>\n",
       "      <th>über</th>\n",
       "      <th>ōzaru</th>\n",
       "    </tr>\n",
       "  </thead>\n",
       "  <tbody>\n",
       "    <tr>\n",
       "      <th>0</th>\n",
       "      <td>0</td>\n",
       "      <td>0</td>\n",
       "      <td>0</td>\n",
       "      <td>0</td>\n",
       "      <td>0</td>\n",
       "      <td>0</td>\n",
       "      <td>0</td>\n",
       "      <td>0</td>\n",
       "      <td>0</td>\n",
       "      <td>0</td>\n",
       "      <td>...</td>\n",
       "      <td>0</td>\n",
       "      <td>0</td>\n",
       "      <td>0</td>\n",
       "      <td>0</td>\n",
       "      <td>0</td>\n",
       "      <td>0</td>\n",
       "      <td>0</td>\n",
       "      <td>0</td>\n",
       "      <td>0</td>\n",
       "      <td>0</td>\n",
       "    </tr>\n",
       "    <tr>\n",
       "      <th>1</th>\n",
       "      <td>0</td>\n",
       "      <td>0</td>\n",
       "      <td>0</td>\n",
       "      <td>0</td>\n",
       "      <td>0</td>\n",
       "      <td>0</td>\n",
       "      <td>0</td>\n",
       "      <td>0</td>\n",
       "      <td>0</td>\n",
       "      <td>0</td>\n",
       "      <td>...</td>\n",
       "      <td>0</td>\n",
       "      <td>0</td>\n",
       "      <td>0</td>\n",
       "      <td>0</td>\n",
       "      <td>0</td>\n",
       "      <td>0</td>\n",
       "      <td>0</td>\n",
       "      <td>0</td>\n",
       "      <td>0</td>\n",
       "      <td>0</td>\n",
       "    </tr>\n",
       "    <tr>\n",
       "      <th>2</th>\n",
       "      <td>0</td>\n",
       "      <td>0</td>\n",
       "      <td>0</td>\n",
       "      <td>0</td>\n",
       "      <td>0</td>\n",
       "      <td>0</td>\n",
       "      <td>0</td>\n",
       "      <td>0</td>\n",
       "      <td>0</td>\n",
       "      <td>0</td>\n",
       "      <td>...</td>\n",
       "      <td>0</td>\n",
       "      <td>0</td>\n",
       "      <td>0</td>\n",
       "      <td>0</td>\n",
       "      <td>0</td>\n",
       "      <td>0</td>\n",
       "      <td>0</td>\n",
       "      <td>0</td>\n",
       "      <td>0</td>\n",
       "      <td>0</td>\n",
       "    </tr>\n",
       "    <tr>\n",
       "      <th>3</th>\n",
       "      <td>0</td>\n",
       "      <td>0</td>\n",
       "      <td>0</td>\n",
       "      <td>0</td>\n",
       "      <td>0</td>\n",
       "      <td>0</td>\n",
       "      <td>0</td>\n",
       "      <td>0</td>\n",
       "      <td>0</td>\n",
       "      <td>0</td>\n",
       "      <td>...</td>\n",
       "      <td>0</td>\n",
       "      <td>0</td>\n",
       "      <td>0</td>\n",
       "      <td>0</td>\n",
       "      <td>0</td>\n",
       "      <td>0</td>\n",
       "      <td>0</td>\n",
       "      <td>0</td>\n",
       "      <td>0</td>\n",
       "      <td>0</td>\n",
       "    </tr>\n",
       "    <tr>\n",
       "      <th>4</th>\n",
       "      <td>0</td>\n",
       "      <td>0</td>\n",
       "      <td>0</td>\n",
       "      <td>0</td>\n",
       "      <td>0</td>\n",
       "      <td>0</td>\n",
       "      <td>1</td>\n",
       "      <td>0</td>\n",
       "      <td>0</td>\n",
       "      <td>0</td>\n",
       "      <td>...</td>\n",
       "      <td>0</td>\n",
       "      <td>0</td>\n",
       "      <td>0</td>\n",
       "      <td>0</td>\n",
       "      <td>0</td>\n",
       "      <td>0</td>\n",
       "      <td>0</td>\n",
       "      <td>0</td>\n",
       "      <td>0</td>\n",
       "      <td>0</td>\n",
       "    </tr>\n",
       "  </tbody>\n",
       "</table>\n",
       "<p>5 rows × 11094 columns</p>\n",
       "</div>"
      ],
      "text/plain": [
       "   000  00am  02  03  04  09  10  100  1000  10__pokemon__a_catchy_toon_crea  \\\n",
       "0    0     0   0   0   0   0   0    0     0                                0   \n",
       "1    0     0   0   0   0   0   0    0     0                                0   \n",
       "2    0     0   0   0   0   0   0    0     0                                0   \n",
       "3    0     0   0   0   0   0   0    0     0                                0   \n",
       "4    0     0   0   0   0   0   1    0     0                                0   \n",
       "\n",
       "   ...  zoo  zoos  zorgon  zorgons  zubat  zuko  zuul  ángel  über  ōzaru  \n",
       "0  ...    0     0       0        0      0     0     0      0     0      0  \n",
       "1  ...    0     0       0        0      0     0     0      0     0      0  \n",
       "2  ...    0     0       0        0      0     0     0      0     0      0  \n",
       "3  ...    0     0       0        0      0     0     0      0     0      0  \n",
       "4  ...    0     0       0        0      0     0     0      0     0      0  \n",
       "\n",
       "[5 rows x 11094 columns]"
      ]
     },
     "execution_count": 76,
     "metadata": {},
     "output_type": "execute_result"
    }
   ],
   "source": [
    "vectorizer = CountVectorizer(stop_words='english')\n",
    "X = vectorizer.fit_transform(top150.Text)\n",
    "bow = pd.DataFrame(X.toarray(),columns=vectorizer.get_feature_names())\n",
    "bow.head()"
   ]
  },
  {
   "cell_type": "markdown",
   "metadata": {
    "id": "lNvrA5HjOZER"
   },
   "source": [
    "* **Bag-of-bigrams**"
   ]
  },
  {
   "cell_type": "code",
   "execution_count": 81,
   "metadata": {},
   "outputs": [
    {
     "data": {
      "text/html": [
       "<div>\n",
       "<style scoped>\n",
       "    .dataframe tbody tr th:only-of-type {\n",
       "        vertical-align: middle;\n",
       "    }\n",
       "\n",
       "    .dataframe tbody tr th {\n",
       "        vertical-align: top;\n",
       "    }\n",
       "\n",
       "    .dataframe thead th {\n",
       "        text-align: right;\n",
       "    }\n",
       "</style>\n",
       "<table border=\"1\" class=\"dataframe\">\n",
       "  <thead>\n",
       "    <tr style=\"text-align: right;\">\n",
       "      <th></th>\n",
       "      <th>000 000</th>\n",
       "      <th>000 aaron</th>\n",
       "      <th>000 earlier</th>\n",
       "      <th>000 inheritance</th>\n",
       "      <th>000 irs</th>\n",
       "      <th>000 nbsp</th>\n",
       "      <th>000 organize</th>\n",
       "      <th>000 stars</th>\n",
       "      <th>000 words</th>\n",
       "      <th>000 years</th>\n",
       "      <th>...</th>\n",
       "      <th>ángel track</th>\n",
       "      <th>ángel tries</th>\n",
       "      <th>ángel wants</th>\n",
       "      <th>ángel wears</th>\n",
       "      <th>über morlock</th>\n",
       "      <th>über morlocks</th>\n",
       "      <th>ōzaru having</th>\n",
       "      <th>ōzaru return</th>\n",
       "      <th>ōzaru roshi</th>\n",
       "      <th>ōzaru seven</th>\n",
       "    </tr>\n",
       "  </thead>\n",
       "  <tbody>\n",
       "    <tr>\n",
       "      <th>0</th>\n",
       "      <td>0</td>\n",
       "      <td>0</td>\n",
       "      <td>0</td>\n",
       "      <td>0</td>\n",
       "      <td>0</td>\n",
       "      <td>0</td>\n",
       "      <td>0</td>\n",
       "      <td>0</td>\n",
       "      <td>0</td>\n",
       "      <td>0</td>\n",
       "      <td>...</td>\n",
       "      <td>0</td>\n",
       "      <td>0</td>\n",
       "      <td>0</td>\n",
       "      <td>0</td>\n",
       "      <td>0</td>\n",
       "      <td>0</td>\n",
       "      <td>0</td>\n",
       "      <td>0</td>\n",
       "      <td>0</td>\n",
       "      <td>0</td>\n",
       "    </tr>\n",
       "    <tr>\n",
       "      <th>1</th>\n",
       "      <td>0</td>\n",
       "      <td>0</td>\n",
       "      <td>0</td>\n",
       "      <td>0</td>\n",
       "      <td>0</td>\n",
       "      <td>0</td>\n",
       "      <td>0</td>\n",
       "      <td>0</td>\n",
       "      <td>0</td>\n",
       "      <td>0</td>\n",
       "      <td>...</td>\n",
       "      <td>0</td>\n",
       "      <td>0</td>\n",
       "      <td>0</td>\n",
       "      <td>0</td>\n",
       "      <td>0</td>\n",
       "      <td>0</td>\n",
       "      <td>0</td>\n",
       "      <td>0</td>\n",
       "      <td>0</td>\n",
       "      <td>0</td>\n",
       "    </tr>\n",
       "    <tr>\n",
       "      <th>2</th>\n",
       "      <td>0</td>\n",
       "      <td>0</td>\n",
       "      <td>0</td>\n",
       "      <td>0</td>\n",
       "      <td>0</td>\n",
       "      <td>0</td>\n",
       "      <td>0</td>\n",
       "      <td>0</td>\n",
       "      <td>0</td>\n",
       "      <td>0</td>\n",
       "      <td>...</td>\n",
       "      <td>0</td>\n",
       "      <td>0</td>\n",
       "      <td>0</td>\n",
       "      <td>0</td>\n",
       "      <td>0</td>\n",
       "      <td>0</td>\n",
       "      <td>0</td>\n",
       "      <td>0</td>\n",
       "      <td>0</td>\n",
       "      <td>0</td>\n",
       "    </tr>\n",
       "    <tr>\n",
       "      <th>3</th>\n",
       "      <td>0</td>\n",
       "      <td>0</td>\n",
       "      <td>0</td>\n",
       "      <td>0</td>\n",
       "      <td>0</td>\n",
       "      <td>0</td>\n",
       "      <td>0</td>\n",
       "      <td>0</td>\n",
       "      <td>0</td>\n",
       "      <td>0</td>\n",
       "      <td>...</td>\n",
       "      <td>0</td>\n",
       "      <td>0</td>\n",
       "      <td>0</td>\n",
       "      <td>0</td>\n",
       "      <td>0</td>\n",
       "      <td>0</td>\n",
       "      <td>0</td>\n",
       "      <td>0</td>\n",
       "      <td>0</td>\n",
       "      <td>0</td>\n",
       "    </tr>\n",
       "    <tr>\n",
       "      <th>4</th>\n",
       "      <td>0</td>\n",
       "      <td>0</td>\n",
       "      <td>0</td>\n",
       "      <td>0</td>\n",
       "      <td>0</td>\n",
       "      <td>0</td>\n",
       "      <td>0</td>\n",
       "      <td>0</td>\n",
       "      <td>0</td>\n",
       "      <td>0</td>\n",
       "      <td>...</td>\n",
       "      <td>0</td>\n",
       "      <td>0</td>\n",
       "      <td>0</td>\n",
       "      <td>0</td>\n",
       "      <td>0</td>\n",
       "      <td>0</td>\n",
       "      <td>0</td>\n",
       "      <td>0</td>\n",
       "      <td>0</td>\n",
       "      <td>0</td>\n",
       "    </tr>\n",
       "  </tbody>\n",
       "</table>\n",
       "<p>5 rows × 51597 columns</p>\n",
       "</div>"
      ],
      "text/plain": [
       "   000 000  000 aaron  000 earlier  000 inheritance  000 irs  000 nbsp  \\\n",
       "0        0          0            0                0        0         0   \n",
       "1        0          0            0                0        0         0   \n",
       "2        0          0            0                0        0         0   \n",
       "3        0          0            0                0        0         0   \n",
       "4        0          0            0                0        0         0   \n",
       "\n",
       "   000 organize  000 stars  000 words  000 years  ...  ángel track  \\\n",
       "0             0          0          0          0  ...            0   \n",
       "1             0          0          0          0  ...            0   \n",
       "2             0          0          0          0  ...            0   \n",
       "3             0          0          0          0  ...            0   \n",
       "4             0          0          0          0  ...            0   \n",
       "\n",
       "   ángel tries  ángel wants  ángel wears  über morlock  über morlocks  \\\n",
       "0            0            0            0             0              0   \n",
       "1            0            0            0             0              0   \n",
       "2            0            0            0             0              0   \n",
       "3            0            0            0             0              0   \n",
       "4            0            0            0             0              0   \n",
       "\n",
       "   ōzaru having  ōzaru return  ōzaru roshi  ōzaru seven  \n",
       "0             0             0            0            0  \n",
       "1             0             0            0            0  \n",
       "2             0             0            0            0  \n",
       "3             0             0            0            0  \n",
       "4             0             0            0            0  \n",
       "\n",
       "[5 rows x 51597 columns]"
      ]
     },
     "execution_count": 81,
     "metadata": {},
     "output_type": "execute_result"
    }
   ],
   "source": [
    "\n",
    "vectorizer = CountVectorizer(stop_words='english',ngram_range=(2,2))\n",
    "X = vectorizer.fit_transform(top150.Text)\n",
    "bo2g = pd.DataFrame(X.toarray(),columns=vectorizer.get_feature_names())\n",
    "bo2g.head()"
   ]
  },
  {
   "cell_type": "markdown",
   "metadata": {
    "id": "GJJi9Gn4OZEU"
   },
   "source": [
    "* **Bag-of-ngrams (for n = 1 and 2)**"
   ]
  },
  {
   "cell_type": "code",
   "execution_count": 82,
   "metadata": {
    "id": "NCBclq7AOZEV",
    "pycharm": {
     "is_executing": false
    }
   },
   "outputs": [
    {
     "data": {
      "text/html": [
       "<div>\n",
       "<style scoped>\n",
       "    .dataframe tbody tr th:only-of-type {\n",
       "        vertical-align: middle;\n",
       "    }\n",
       "\n",
       "    .dataframe tbody tr th {\n",
       "        vertical-align: top;\n",
       "    }\n",
       "\n",
       "    .dataframe thead th {\n",
       "        text-align: right;\n",
       "    }\n",
       "</style>\n",
       "<table border=\"1\" class=\"dataframe\">\n",
       "  <thead>\n",
       "    <tr style=\"text-align: right;\">\n",
       "      <th></th>\n",
       "      <th>000</th>\n",
       "      <th>000 000</th>\n",
       "      <th>000 aaron</th>\n",
       "      <th>000 earlier</th>\n",
       "      <th>000 inheritance</th>\n",
       "      <th>000 irs</th>\n",
       "      <th>000 nbsp</th>\n",
       "      <th>000 organize</th>\n",
       "      <th>000 stars</th>\n",
       "      <th>000 words</th>\n",
       "      <th>...</th>\n",
       "      <th>ángel wants</th>\n",
       "      <th>ángel wears</th>\n",
       "      <th>über</th>\n",
       "      <th>über morlock</th>\n",
       "      <th>über morlocks</th>\n",
       "      <th>ōzaru</th>\n",
       "      <th>ōzaru having</th>\n",
       "      <th>ōzaru return</th>\n",
       "      <th>ōzaru roshi</th>\n",
       "      <th>ōzaru seven</th>\n",
       "    </tr>\n",
       "  </thead>\n",
       "  <tbody>\n",
       "    <tr>\n",
       "      <th>0</th>\n",
       "      <td>0</td>\n",
       "      <td>0</td>\n",
       "      <td>0</td>\n",
       "      <td>0</td>\n",
       "      <td>0</td>\n",
       "      <td>0</td>\n",
       "      <td>0</td>\n",
       "      <td>0</td>\n",
       "      <td>0</td>\n",
       "      <td>0</td>\n",
       "      <td>...</td>\n",
       "      <td>0</td>\n",
       "      <td>0</td>\n",
       "      <td>0</td>\n",
       "      <td>0</td>\n",
       "      <td>0</td>\n",
       "      <td>0</td>\n",
       "      <td>0</td>\n",
       "      <td>0</td>\n",
       "      <td>0</td>\n",
       "      <td>0</td>\n",
       "    </tr>\n",
       "    <tr>\n",
       "      <th>1</th>\n",
       "      <td>0</td>\n",
       "      <td>0</td>\n",
       "      <td>0</td>\n",
       "      <td>0</td>\n",
       "      <td>0</td>\n",
       "      <td>0</td>\n",
       "      <td>0</td>\n",
       "      <td>0</td>\n",
       "      <td>0</td>\n",
       "      <td>0</td>\n",
       "      <td>...</td>\n",
       "      <td>0</td>\n",
       "      <td>0</td>\n",
       "      <td>0</td>\n",
       "      <td>0</td>\n",
       "      <td>0</td>\n",
       "      <td>0</td>\n",
       "      <td>0</td>\n",
       "      <td>0</td>\n",
       "      <td>0</td>\n",
       "      <td>0</td>\n",
       "    </tr>\n",
       "    <tr>\n",
       "      <th>2</th>\n",
       "      <td>0</td>\n",
       "      <td>0</td>\n",
       "      <td>0</td>\n",
       "      <td>0</td>\n",
       "      <td>0</td>\n",
       "      <td>0</td>\n",
       "      <td>0</td>\n",
       "      <td>0</td>\n",
       "      <td>0</td>\n",
       "      <td>0</td>\n",
       "      <td>...</td>\n",
       "      <td>0</td>\n",
       "      <td>0</td>\n",
       "      <td>0</td>\n",
       "      <td>0</td>\n",
       "      <td>0</td>\n",
       "      <td>0</td>\n",
       "      <td>0</td>\n",
       "      <td>0</td>\n",
       "      <td>0</td>\n",
       "      <td>0</td>\n",
       "    </tr>\n",
       "    <tr>\n",
       "      <th>3</th>\n",
       "      <td>0</td>\n",
       "      <td>0</td>\n",
       "      <td>0</td>\n",
       "      <td>0</td>\n",
       "      <td>0</td>\n",
       "      <td>0</td>\n",
       "      <td>0</td>\n",
       "      <td>0</td>\n",
       "      <td>0</td>\n",
       "      <td>0</td>\n",
       "      <td>...</td>\n",
       "      <td>0</td>\n",
       "      <td>0</td>\n",
       "      <td>0</td>\n",
       "      <td>0</td>\n",
       "      <td>0</td>\n",
       "      <td>0</td>\n",
       "      <td>0</td>\n",
       "      <td>0</td>\n",
       "      <td>0</td>\n",
       "      <td>0</td>\n",
       "    </tr>\n",
       "    <tr>\n",
       "      <th>4</th>\n",
       "      <td>0</td>\n",
       "      <td>0</td>\n",
       "      <td>0</td>\n",
       "      <td>0</td>\n",
       "      <td>0</td>\n",
       "      <td>0</td>\n",
       "      <td>0</td>\n",
       "      <td>0</td>\n",
       "      <td>0</td>\n",
       "      <td>0</td>\n",
       "      <td>...</td>\n",
       "      <td>0</td>\n",
       "      <td>0</td>\n",
       "      <td>0</td>\n",
       "      <td>0</td>\n",
       "      <td>0</td>\n",
       "      <td>0</td>\n",
       "      <td>0</td>\n",
       "      <td>0</td>\n",
       "      <td>0</td>\n",
       "      <td>0</td>\n",
       "    </tr>\n",
       "  </tbody>\n",
       "</table>\n",
       "<p>5 rows × 62691 columns</p>\n",
       "</div>"
      ],
      "text/plain": [
       "   000  000 000  000 aaron  000 earlier  000 inheritance  000 irs  000 nbsp  \\\n",
       "0    0        0          0            0                0        0         0   \n",
       "1    0        0          0            0                0        0         0   \n",
       "2    0        0          0            0                0        0         0   \n",
       "3    0        0          0            0                0        0         0   \n",
       "4    0        0          0            0                0        0         0   \n",
       "\n",
       "   000 organize  000 stars  000 words  ...  ángel wants  ángel wears  über  \\\n",
       "0             0          0          0  ...            0            0     0   \n",
       "1             0          0          0  ...            0            0     0   \n",
       "2             0          0          0  ...            0            0     0   \n",
       "3             0          0          0  ...            0            0     0   \n",
       "4             0          0          0  ...            0            0     0   \n",
       "\n",
       "   über morlock  über morlocks  ōzaru  ōzaru having  ōzaru return  \\\n",
       "0             0              0      0             0             0   \n",
       "1             0              0      0             0             0   \n",
       "2             0              0      0             0             0   \n",
       "3             0              0      0             0             0   \n",
       "4             0              0      0             0             0   \n",
       "\n",
       "   ōzaru roshi  ōzaru seven  \n",
       "0            0            0  \n",
       "1            0            0  \n",
       "2            0            0  \n",
       "3            0            0  \n",
       "4            0            0  \n",
       "\n",
       "[5 rows x 62691 columns]"
      ]
     },
     "execution_count": 82,
     "metadata": {},
     "output_type": "execute_result"
    }
   ],
   "source": [
    "\n",
    "vectorizer = CountVectorizer(stop_words='english',ngram_range=(1,2))\n",
    "X = vectorizer.fit_transform(top150.Text)\n",
    "bo2g = pd.DataFrame(X.toarray(),columns=vectorizer.get_feature_names())\n",
    "bo2g.head()"
   ]
  },
  {
   "cell_type": "markdown",
   "metadata": {
    "id": "EmZB-F9mOZEX"
   },
   "source": [
    "* **TF-IDF values**"
   ]
  },
  {
   "cell_type": "code",
   "execution_count": 131,
   "metadata": {},
   "outputs": [
    {
     "data": {
      "text/plain": [
       "(150, 11365)"
      ]
     },
     "execution_count": 131,
     "metadata": {},
     "output_type": "execute_result"
    }
   ],
   "source": [
    "count_vect = CountVectorizer()\n",
    "tf_count = count_vect.fit_transform(top150.Text)\n",
    "tf_count.shape"
   ]
  },
  {
   "cell_type": "code",
   "execution_count": 140,
   "metadata": {
    "id": "gStIVpztOZEX",
    "pycharm": {
     "is_executing": false
    }
   },
   "outputs": [
    {
     "data": {
      "text/html": [
       "<div>\n",
       "<style scoped>\n",
       "    .dataframe tbody tr th:only-of-type {\n",
       "        vertical-align: middle;\n",
       "    }\n",
       "\n",
       "    .dataframe tbody tr th {\n",
       "        vertical-align: top;\n",
       "    }\n",
       "\n",
       "    .dataframe thead th {\n",
       "        text-align: right;\n",
       "    }\n",
       "</style>\n",
       "<table border=\"1\" class=\"dataframe\">\n",
       "  <thead>\n",
       "    <tr style=\"text-align: right;\">\n",
       "      <th></th>\n",
       "      <th>x0</th>\n",
       "      <th>x1</th>\n",
       "      <th>x2</th>\n",
       "      <th>x3</th>\n",
       "      <th>x4</th>\n",
       "      <th>x5</th>\n",
       "      <th>x6</th>\n",
       "      <th>x7</th>\n",
       "      <th>x8</th>\n",
       "      <th>x9</th>\n",
       "      <th>...</th>\n",
       "      <th>x11355</th>\n",
       "      <th>x11356</th>\n",
       "      <th>x11357</th>\n",
       "      <th>x11358</th>\n",
       "      <th>x11359</th>\n",
       "      <th>x11360</th>\n",
       "      <th>x11361</th>\n",
       "      <th>x11362</th>\n",
       "      <th>x11363</th>\n",
       "      <th>x11364</th>\n",
       "    </tr>\n",
       "  </thead>\n",
       "  <tbody>\n",
       "    <tr>\n",
       "      <th>0</th>\n",
       "      <td>0.0</td>\n",
       "      <td>0.0</td>\n",
       "      <td>0.0</td>\n",
       "      <td>0.0</td>\n",
       "      <td>0.0</td>\n",
       "      <td>0.0</td>\n",
       "      <td>0.000000</td>\n",
       "      <td>0.0</td>\n",
       "      <td>0.0</td>\n",
       "      <td>0.0</td>\n",
       "      <td>...</td>\n",
       "      <td>0.0</td>\n",
       "      <td>0.0</td>\n",
       "      <td>0.0</td>\n",
       "      <td>0.0</td>\n",
       "      <td>0.0</td>\n",
       "      <td>0.0</td>\n",
       "      <td>0.0</td>\n",
       "      <td>0.0</td>\n",
       "      <td>0.0</td>\n",
       "      <td>0.0</td>\n",
       "    </tr>\n",
       "    <tr>\n",
       "      <th>1</th>\n",
       "      <td>0.0</td>\n",
       "      <td>0.0</td>\n",
       "      <td>0.0</td>\n",
       "      <td>0.0</td>\n",
       "      <td>0.0</td>\n",
       "      <td>0.0</td>\n",
       "      <td>0.000000</td>\n",
       "      <td>0.0</td>\n",
       "      <td>0.0</td>\n",
       "      <td>0.0</td>\n",
       "      <td>...</td>\n",
       "      <td>0.0</td>\n",
       "      <td>0.0</td>\n",
       "      <td>0.0</td>\n",
       "      <td>0.0</td>\n",
       "      <td>0.0</td>\n",
       "      <td>0.0</td>\n",
       "      <td>0.0</td>\n",
       "      <td>0.0</td>\n",
       "      <td>0.0</td>\n",
       "      <td>0.0</td>\n",
       "    </tr>\n",
       "    <tr>\n",
       "      <th>2</th>\n",
       "      <td>0.0</td>\n",
       "      <td>0.0</td>\n",
       "      <td>0.0</td>\n",
       "      <td>0.0</td>\n",
       "      <td>0.0</td>\n",
       "      <td>0.0</td>\n",
       "      <td>0.000000</td>\n",
       "      <td>0.0</td>\n",
       "      <td>0.0</td>\n",
       "      <td>0.0</td>\n",
       "      <td>...</td>\n",
       "      <td>0.0</td>\n",
       "      <td>0.0</td>\n",
       "      <td>0.0</td>\n",
       "      <td>0.0</td>\n",
       "      <td>0.0</td>\n",
       "      <td>0.0</td>\n",
       "      <td>0.0</td>\n",
       "      <td>0.0</td>\n",
       "      <td>0.0</td>\n",
       "      <td>0.0</td>\n",
       "    </tr>\n",
       "    <tr>\n",
       "      <th>3</th>\n",
       "      <td>0.0</td>\n",
       "      <td>0.0</td>\n",
       "      <td>0.0</td>\n",
       "      <td>0.0</td>\n",
       "      <td>0.0</td>\n",
       "      <td>0.0</td>\n",
       "      <td>0.000000</td>\n",
       "      <td>0.0</td>\n",
       "      <td>0.0</td>\n",
       "      <td>0.0</td>\n",
       "      <td>...</td>\n",
       "      <td>0.0</td>\n",
       "      <td>0.0</td>\n",
       "      <td>0.0</td>\n",
       "      <td>0.0</td>\n",
       "      <td>0.0</td>\n",
       "      <td>0.0</td>\n",
       "      <td>0.0</td>\n",
       "      <td>0.0</td>\n",
       "      <td>0.0</td>\n",
       "      <td>0.0</td>\n",
       "    </tr>\n",
       "    <tr>\n",
       "      <th>4</th>\n",
       "      <td>0.0</td>\n",
       "      <td>0.0</td>\n",
       "      <td>0.0</td>\n",
       "      <td>0.0</td>\n",
       "      <td>0.0</td>\n",
       "      <td>0.0</td>\n",
       "      <td>0.023805</td>\n",
       "      <td>0.0</td>\n",
       "      <td>0.0</td>\n",
       "      <td>0.0</td>\n",
       "      <td>...</td>\n",
       "      <td>0.0</td>\n",
       "      <td>0.0</td>\n",
       "      <td>0.0</td>\n",
       "      <td>0.0</td>\n",
       "      <td>0.0</td>\n",
       "      <td>0.0</td>\n",
       "      <td>0.0</td>\n",
       "      <td>0.0</td>\n",
       "      <td>0.0</td>\n",
       "      <td>0.0</td>\n",
       "    </tr>\n",
       "  </tbody>\n",
       "</table>\n",
       "<p>5 rows × 11365 columns</p>\n",
       "</div>"
      ],
      "text/plain": [
       "    x0   x1   x2   x3   x4   x5        x6   x7   x8   x9  ...  x11355  x11356  \\\n",
       "0  0.0  0.0  0.0  0.0  0.0  0.0  0.000000  0.0  0.0  0.0  ...     0.0     0.0   \n",
       "1  0.0  0.0  0.0  0.0  0.0  0.0  0.000000  0.0  0.0  0.0  ...     0.0     0.0   \n",
       "2  0.0  0.0  0.0  0.0  0.0  0.0  0.000000  0.0  0.0  0.0  ...     0.0     0.0   \n",
       "3  0.0  0.0  0.0  0.0  0.0  0.0  0.000000  0.0  0.0  0.0  ...     0.0     0.0   \n",
       "4  0.0  0.0  0.0  0.0  0.0  0.0  0.023805  0.0  0.0  0.0  ...     0.0     0.0   \n",
       "\n",
       "   x11357  x11358  x11359  x11360  x11361  x11362  x11363  x11364  \n",
       "0     0.0     0.0     0.0     0.0     0.0     0.0     0.0     0.0  \n",
       "1     0.0     0.0     0.0     0.0     0.0     0.0     0.0     0.0  \n",
       "2     0.0     0.0     0.0     0.0     0.0     0.0     0.0     0.0  \n",
       "3     0.0     0.0     0.0     0.0     0.0     0.0     0.0     0.0  \n",
       "4     0.0     0.0     0.0     0.0     0.0     0.0     0.0     0.0  \n",
       "\n",
       "[5 rows x 11365 columns]"
      ]
     },
     "execution_count": 140,
     "metadata": {},
     "output_type": "execute_result"
    }
   ],
   "source": [
    "from sklearn.feature_extraction.text import TfidfTransformer\n",
    "\n",
    "tfidf_transformer = TfidfTransformer()\n",
    "tf = tfidf_transformer.fit_transform(tf_count)\n",
    "tf_idf = pd.DataFrame(tf.toarray(), columns =tfidf_transformer.get_feature_names_out())\n",
    "tf_idf.head()"
   ]
  },
  {
   "cell_type": "markdown",
   "metadata": {
    "id": "VGus0eXeOZEc"
   },
   "source": [
    "### Part 3: Clustering (Lecture 6) (5pts)"
   ]
  },
  {
   "cell_type": "markdown",
   "metadata": {
    "id": "A-IvbRrJOZEc"
   },
   "source": [
    "Cluster the movies using the k-means algorithm.\n",
    "\n",
    "**Important Note**: In order to allow you to work on Part 3, before Part 2, the [Movies](https://drive.google.com/drive/folders/1u_cDY-ZIJQKZSdgadzsbI0Q_dj4Jhy41?usp=sharing) folder also contains a comma-separated file, moviesrep.csv, that includes a representation I built for you from the movies plot summary. Each line corresponds to a vector representation (i.e. a set of features) for each movie and you can apply the clustering algorithm on this."
   ]
  },
  {
   "cell_type": "markdown",
   "metadata": {
    "id": "UYXjdMRfOZEe"
   },
   "source": [
    "**k-means**\n",
    "\n",
    "+ Choose the number of clusters you wish to find in the data (n_clusters)\n",
    "+ Take Bag-of-words and TF-IDF representations from Part 2\n",
    "+ Run a k-means algorithm\n",
    "+ Evaluate the quality of the algorithm using inertia_, silhouette_score, adjusted_mutual_info_score, and adjusted_rand_score\n",
    "    + some of these metrics require the use of ground truth\n",
    "    + use the genre of each movie as ground truth, i.e. the perfect clustering would be the one that clusters movies based on their genre"
   ]
  },
  {
   "cell_type": "markdown",
   "metadata": {
    "id": "WEV5ap-rOZEh"
   },
   "source": [
    "**Number of cluster**\n",
    "\n",
    "* Change the value of n\\_clusters and plot inertia_, silhouette_score, adjusted_mutual_info_score, and adjusted_rand_score as a function of n_clusters\n",
    "* Explain what you observe in the plots.\n",
    "* Do the same for each text representation from Part 2.\n",
    "* Explain the differences across different representations if there are any"
   ]
  },
  {
   "cell_type": "code",
   "execution_count": 139,
   "metadata": {
    "id": "EWQCLB2bOZEh",
    "pycharm": {
     "is_executing": false
    }
   },
   "outputs": [
    {
     "data": {
      "text/plain": [
       "Text(0.5, 1.0, 'Elbow Method For Optimal k')"
      ]
     },
     "execution_count": 139,
     "metadata": {},
     "output_type": "execute_result"
    },
    {
     "data": {
      "image/png": "[encoded data removed]",
      "text/plain": [
       "<Figure size 432x288 with 1 Axes>"
      ]
     },
     "metadata": {
      "needs_background": "light"
     },
     "output_type": "display_data"
    }
   ],
   "source": [
    "# your code goes here\n",
    "#Finding Best k using Elbow Method \n",
    "\n",
    "#Data = Bag of words\n",
    "from sklearn.cluster import KMeans\n",
    "SS_distances= []\n",
    "I = range(1,20)\n",
    "for i in I:\n",
    "       k_means = KMeans(n_clusters=i)\n",
    "       k_means= k_means.fit(bow)\n",
    "       SS_distances.append(k_means.inertia_)\n",
    "   \n",
    "\n",
    "\n",
    "centers = k_means.cluster_centers_\n",
    "\n",
    "# plotting SSE distances (for each point to the nearest Center) versus number of k \n",
    "plt.plot(I, SS_distances, 'bx-')\n",
    "plt.xlabel('k')\n",
    "plt.ylabel('SS of Distances')\n",
    "plt.title('Elbow Method For Optimal k')"
   ]
  },
  {
   "cell_type": "code",
   "execution_count": 142,
   "metadata": {},
   "outputs": [
    {
     "data": {
      "image/png": "[encoded data removed]",
      "text/plain": [
       "<Figure size 432x288 with 1 Axes>"
      ]
     },
     "metadata": {
      "needs_background": "light"
     },
     "output_type": "display_data"
    }
   ],
   "source": [
    "##silhouette_score\n",
    "from sklearn import metrics\n",
    "\n",
    "SS_distances= []\n",
    "I = range(2,10)\n",
    "for i in I:\n",
    "       HC = KMeans(n_clusters=i)\n",
    "       HC= HC.fit(bow)\n",
    "       score_H= metrics.silhouette_score(bow, HC.labels_)\n",
    "       SS_distances.append(score_H)\n",
    "\n",
    "# plotting Silhouette for different clusters\n",
    "plt.plot(I, SS_distances, 'bx-')\n",
    "plt.xlabel('k')\n",
    "plt.ylabel('Silhouette Average')\n",
    "plt.title('Silhouette Average For Optimal number of Clusters ')    \n",
    "plt.grid()\n"
   ]
  },
  {
   "cell_type": "markdown",
   "metadata": {
    "id": "vb4pbKiVOZEk"
   },
   "source": [
    "*your explanations go here*"
   ]
  },
  {
   "cell_type": "markdown",
   "metadata": {
    "id": "veH1tfJfOZEl"
   },
   "source": [
    "**Demonstrate clusters**\n",
    "\n",
    "* for each representation choose the optimal number of clusters and repeat the k-means algorithm for that number of clusters\n",
    "* print the top-10 most important words within each cluster\n",
    "* print the titles of the movies for each cluster\n",
    "* explain what you observe and whether results make sense"
   ]
  },
  {
   "cell_type": "code",
   "execution_count": null,
   "metadata": {
    "id": "oleoi5oROZEm",
    "pycharm": {
     "is_executing": false
    }
   },
   "outputs": [],
   "source": [
    "# your code goes here"
   ]
  },
  {
   "cell_type": "markdown",
   "metadata": {
    "id": "gZc4zlxLOZEp"
   },
   "source": [
    "*your explanations go here*"
   ]
  }
 ],
 "metadata": {
  "colab": {
   "collapsed_sections": [],
   "name": "Practical Assignment 3 - 2021 Student.ipynb",
   "provenance": [],
   "toc_visible": true
  },
  "kernelspec": {
   "display_name": "Python 3",
   "language": "python",
   "name": "python3"
  },
  "language_info": {
   "codemirror_mode": {
    "name": "ipython",
    "version": 3
   },
   "file_extension": ".py",
   "mimetype": "text/x-python",
   "name": "python",
   "nbconvert_exporter": "python",
   "pygments_lexer": "ipython3",
   "version": "3.7.7"
  },
  "pycharm": {
   "stem_cell": {
    "cell_type": "raw",
    "metadata": {
     "collapsed": false
    },
    "source": []
   }
  }
 },
 "nbformat": 4,
 "nbformat_minor": 1
}
