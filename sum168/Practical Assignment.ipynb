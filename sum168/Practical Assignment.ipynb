{
 "cells": [
  {
   "cell_type": "markdown",
   "metadata": {},
   "source": [
    "## Names: ['Mustafa Al-Tamimi', 'How Jong Lai'] \n",
    "## Studentnumbers: ['12717916', '12426083']"
   ]
  },
  {
   "cell_type": "code",
   "execution_count": 1,
   "metadata": {
    "id": "NuJ0879WJF0E",
    "pycharm": {
     "is_executing": false
    }
   },
   "outputs": [],
   "source": [
    "Names: ['Mustafa Al-Tamimi', 'How Jong Lai'] \n",
    "Studentnumbers: ['12717916', '12426083']"
   ]
  },
  {
   "cell_type": "code",
   "execution_count": 2,
   "metadata": {
    "id": "PHjzAhvgBlo7"
   },
   "outputs": [
    {
     "name": "stdout",
     "output_type": "stream",
     "text": [
      "zsh:1: command not found: gdown\n",
      "zsh:1: command not found: gdown\n"
     ]
    }
   ],
   "source": [
    "# Download the data\n",
    "# Dataset with 10K instances\n",
    "! gdown \"https://drive.google.com/uc?id=1cj-CzkY6QZUe42ky64GI5CSSg7-K40N5\"\n",
    "# Dataset with 100k instances\n",
    "! gdown \"https://drive.google.com/uc?id=1MbWGXLawE3VTxP1XgNpj8uEo1VHPq12B\""
   ]
  },
  {
   "cell_type": "markdown",
   "metadata": {
    "deletable": false,
    "editable": false,
    "id": "SlHJBPXQJF0K",
    "nbgrader": {
     "checksum": "86f687db575cf409d54ac5e91e6dd861",
     "grade": false,
     "grade_id": "cell-1979a89473cf7ece",
     "locked": true,
     "schema_version": 1,
     "solution": false
    }
   },
   "source": [
    "### Part 1: Import the data"
   ]
  },
  {
   "cell_type": "markdown",
   "metadata": {
    "collapsed": true,
    "deletable": false,
    "editable": false,
    "id": "wKpbQMIQJF0K",
    "nbgrader": {
     "checksum": "89914f38bf3510543caaef66d0f14169",
     "grade": false,
     "grade_id": "cell-700f4a41782fa412",
     "locked": true,
     "schema_version": 1,
     "solution": false
    }
   },
   "source": [
    "# Applied Machine learning\n",
    "## Practical Assignment 2\n",
    "\n",
    "### Important Notes:\n",
    "1. Submit through **Canvas** before 11:59pm on Tuesday, May 17, 2022\n",
    "2. No late homework will be accepted\n",
    "3. This is a group-of-two assignment\n",
    "4. The submitted file should be in ipynb format\n",
    "5. The assignment is worth it 10 points\n",
    "6. For questions, please use the discussion part of Canvas (English only!)\n",
    "7. The indication **optional** means that the question is optional; you won't lose any points if you do not do that part of the assignment, nor will you gain if you do it.\n",
    "\n",
    "### Software:\n",
    "We will be using Python programming language throughout this course. Further we will be using:\n",
    "+ IPython Notebooks (as an environment)\n",
    "+ Numpy\n",
    "+ Pandas\n",
    "+ Scikit-learn\n",
    "\n",
    "### Background:\n",
    "\n",
    "This practical assignment will be covering logistic regression, neural networks, support vector machines and evaluation of classifiers. \n",
    "\n",
    "For the assignment, please download a dataset on Load Defaults. You are provided with two datasets:\n",
    "1. [Dataset](https://drive.google.com/open?id=1cj-CzkY6QZUe42ky64GI5CSSg7-K40N5) with 10,000 instances \n",
    "2. [Dataset](https://drive.google.com/open?id=1MbWGXLawE3VTxP1XgNpj8uEo1VHPq12B) with 100,000 instances\n",
    "\n",
    "In principle you should work on the second, larger dataset, but if you face scaling computational issues then better work with the first, smaller dataset.\n",
    "\n",
    "This data corresponds to a set of financial transactions associated with individuals. The data has been standardized, de-trended, and anonymized. You are provided with thousands of observations and nearly 800 features. Each observation (instance) is independent from the previous. \n",
    "\n",
    "For each observation, it was recorded whether a default was triggered (i.e. whether an individual could not pay back the loan). In case of a default, the loss for the bank was measured. This quantity lies between 0 and 100. If the loan did not default, the loss for the bank was 0. You are asked to predict whether a loan will default or not for each individual in the test set.\n",
    "\n",
    "Missing feature values have been kept as is, so that the competing teams can really use the maximum data available, implementing a strategy to fill the gaps if desired. Consider all variables continuous, even though some variables may be categorical (e.g. f776 and f777).\n",
    "\n",
    "The goal of the machine learning algorithm will be to predict whether a loan will default, given a set of features. For privacy reasons the feature names are not provided.\n",
    "\n",
    "**Important Note**: This second assignment is not as instructive as the first assignment. The first assignment guided you step-by-step through all the preprocessing, training-validation-testing setup, etc. This assignment does not do so, but it leaves it up to you to decide how to use the data and design your experiments."
   ]
  },
  {
   "cell_type": "code",
   "execution_count": 4,
   "metadata": {
    "deletable": false,
    "editable": false,
    "id": "k63PQb_KJF0L",
    "nbgrader": {
     "checksum": "cdc9100b2eb32f795318f88531439408",
     "grade": false,
     "grade_id": "cell-3a36fe2e430fa9ab",
     "locked": true,
     "schema_version": 1,
     "solution": false
    },
    "pycharm": {
     "is_executing": false
    }
   },
   "outputs": [],
   "source": [
    "import pandas as pd\n",
    "import numpy as np\n",
    "from sklearn.model_selection import train_test_split\n",
    "import warnings\n",
    "warnings.simplefilter(\"ignore\")\n",
    "\n",
    "df = pd.read_csv('loan_default_10K.csv', sep=\",\", header=0, dtype=np.float64)\n",
    "\n",
    "# Drop the observations that contain missing values\n",
    "dfn = df.dropna(0, how='any')\n",
    "\n",
    "# Consider only a handful of features to start with; you can extend to the full set later on.\n",
    "X = dfn.loc[:,'f700':'f750'].values\n",
    "\n",
    "\n",
    "# Generate the labels; if 'loss' is zero the this indicates the negative class, class 0, i.e. no default;\n",
    "# if 'loss' is possitive this indicates the positive class, class 1, i.e. there is a loan default;\n",
    "#y = [ bool(y) for y in dfn.loc[:,'loss'].values ]\n",
    "dfn['loss'].mask(dfn['loss'] == 0.0, 0, inplace=True)\n",
    "dfn['loss'].mask(dfn['loss'] != 0.0, 1, inplace=True)\n",
    "y = np.array(dfn[\"loss\"])\n"
   ]
  },
  {
   "cell_type": "code",
   "execution_count": 5,
   "metadata": {},
   "outputs": [
    {
     "data": {
      "text/plain": [
       "0.0    3952\n",
       "1.0     415\n",
       "Name: loss, dtype: int64"
      ]
     },
     "execution_count": 5,
     "metadata": {},
     "output_type": "execute_result"
    }
   ],
   "source": [
    "dfn['loss'].value_counts()"
   ]
  },
  {
   "cell_type": "code",
   "execution_count": 6,
   "metadata": {},
   "outputs": [],
   "source": [
    "\n",
    "# Split the data into train, validation, and test.\n",
    "X_train, X_test, y_train, y_test = train_test_split(X, \n",
    "                                                    y, \n",
    "                                                    test_size=0.20,random_state=42, stratify= y)"
   ]
  },
  {
   "cell_type": "code",
   "execution_count": 7,
   "metadata": {},
   "outputs": [
    {
     "data": {
      "text/html": [
       "<div>\n",
       "<style scoped>\n",
       "    .dataframe tbody tr th:only-of-type {\n",
       "        vertical-align: middle;\n",
       "    }\n",
       "\n",
       "    .dataframe tbody tr th {\n",
       "        vertical-align: top;\n",
       "    }\n",
       "\n",
       "    .dataframe thead th {\n",
       "        text-align: right;\n",
       "    }\n",
       "</style>\n",
       "<table border=\"1\" class=\"dataframe\">\n",
       "  <thead>\n",
       "    <tr style=\"text-align: right;\">\n",
       "      <th></th>\n",
       "      <th>id</th>\n",
       "      <th>f1</th>\n",
       "      <th>f2</th>\n",
       "      <th>f3</th>\n",
       "      <th>f4</th>\n",
       "      <th>f5</th>\n",
       "      <th>f6</th>\n",
       "      <th>f7</th>\n",
       "      <th>f8</th>\n",
       "      <th>f9</th>\n",
       "      <th>...</th>\n",
       "      <th>f770</th>\n",
       "      <th>f771</th>\n",
       "      <th>f772</th>\n",
       "      <th>f773</th>\n",
       "      <th>f774</th>\n",
       "      <th>f775</th>\n",
       "      <th>f776</th>\n",
       "      <th>f777</th>\n",
       "      <th>f778</th>\n",
       "      <th>loss</th>\n",
       "    </tr>\n",
       "  </thead>\n",
       "  <tbody>\n",
       "    <tr>\n",
       "      <th>2</th>\n",
       "      <td>3.0</td>\n",
       "      <td>126.0</td>\n",
       "      <td>10.0</td>\n",
       "      <td>0.500080</td>\n",
       "      <td>1100.0</td>\n",
       "      <td>3.0</td>\n",
       "      <td>83607.0</td>\n",
       "      <td>1800.0</td>\n",
       "      <td>1527.0</td>\n",
       "      <td>127.76</td>\n",
       "      <td>...</td>\n",
       "      <td>13.0</td>\n",
       "      <td>2.89</td>\n",
       "      <td>-1.73</td>\n",
       "      <td>1.04</td>\n",
       "      <td>0.2521</td>\n",
       "      <td>0.7258</td>\n",
       "      <td>1.0</td>\n",
       "      <td>0.0</td>\n",
       "      <td>5.0</td>\n",
       "      <td>0.0</td>\n",
       "    </tr>\n",
       "    <tr>\n",
       "      <th>4</th>\n",
       "      <td>5.0</td>\n",
       "      <td>109.0</td>\n",
       "      <td>9.0</td>\n",
       "      <td>0.502749</td>\n",
       "      <td>2900.0</td>\n",
       "      <td>4.0</td>\n",
       "      <td>79124.0</td>\n",
       "      <td>89.0</td>\n",
       "      <td>491.0</td>\n",
       "      <td>122.72</td>\n",
       "      <td>...</td>\n",
       "      <td>26.0</td>\n",
       "      <td>6.11</td>\n",
       "      <td>-3.82</td>\n",
       "      <td>2.51</td>\n",
       "      <td>0.2282</td>\n",
       "      <td>-0.5399</td>\n",
       "      <td>0.0</td>\n",
       "      <td>0.0</td>\n",
       "      <td>5.0</td>\n",
       "      <td>0.0</td>\n",
       "    </tr>\n",
       "    <tr>\n",
       "      <th>6</th>\n",
       "      <td>7.0</td>\n",
       "      <td>121.0</td>\n",
       "      <td>9.0</td>\n",
       "      <td>0.985674</td>\n",
       "      <td>2900.0</td>\n",
       "      <td>4.0</td>\n",
       "      <td>13026.0</td>\n",
       "      <td>4565.0</td>\n",
       "      <td>263.0</td>\n",
       "      <td>126.36</td>\n",
       "      <td>...</td>\n",
       "      <td>23.0</td>\n",
       "      <td>7.06</td>\n",
       "      <td>-4.99</td>\n",
       "      <td>3.77</td>\n",
       "      <td>0.2458</td>\n",
       "      <td>-0.6732</td>\n",
       "      <td>0.0</td>\n",
       "      <td>0.0</td>\n",
       "      <td>5.0</td>\n",
       "      <td>0.0</td>\n",
       "    </tr>\n",
       "    <tr>\n",
       "      <th>7</th>\n",
       "      <td>8.0</td>\n",
       "      <td>128.0</td>\n",
       "      <td>9.0</td>\n",
       "      <td>0.385778</td>\n",
       "      <td>2900.0</td>\n",
       "      <td>4.0</td>\n",
       "      <td>79244.0</td>\n",
       "      <td>6597.0</td>\n",
       "      <td>3592.0</td>\n",
       "      <td>127.19</td>\n",
       "      <td>...</td>\n",
       "      <td>17.0</td>\n",
       "      <td>4.45</td>\n",
       "      <td>-3.26</td>\n",
       "      <td>2.56</td>\n",
       "      <td>0.2947</td>\n",
       "      <td>-0.7220</td>\n",
       "      <td>0.0</td>\n",
       "      <td>0.0</td>\n",
       "      <td>5.0</td>\n",
       "      <td>1.0</td>\n",
       "    </tr>\n",
       "    <tr>\n",
       "      <th>8</th>\n",
       "      <td>9.0</td>\n",
       "      <td>126.0</td>\n",
       "      <td>9.0</td>\n",
       "      <td>0.745471</td>\n",
       "      <td>2900.0</td>\n",
       "      <td>4.0</td>\n",
       "      <td>78920.0</td>\n",
       "      <td>3058.0</td>\n",
       "      <td>112.0</td>\n",
       "      <td>123.89</td>\n",
       "      <td>...</td>\n",
       "      <td>7.0</td>\n",
       "      <td>2.02</td>\n",
       "      <td>-1.35</td>\n",
       "      <td>0.95</td>\n",
       "      <td>0.2601</td>\n",
       "      <td>0.7132</td>\n",
       "      <td>0.0</td>\n",
       "      <td>0.0</td>\n",
       "      <td>5.0</td>\n",
       "      <td>0.0</td>\n",
       "    </tr>\n",
       "    <tr>\n",
       "      <th>...</th>\n",
       "      <td>...</td>\n",
       "      <td>...</td>\n",
       "      <td>...</td>\n",
       "      <td>...</td>\n",
       "      <td>...</td>\n",
       "      <td>...</td>\n",
       "      <td>...</td>\n",
       "      <td>...</td>\n",
       "      <td>...</td>\n",
       "      <td>...</td>\n",
       "      <td>...</td>\n",
       "      <td>...</td>\n",
       "      <td>...</td>\n",
       "      <td>...</td>\n",
       "      <td>...</td>\n",
       "      <td>...</td>\n",
       "      <td>...</td>\n",
       "      <td>...</td>\n",
       "      <td>...</td>\n",
       "      <td>...</td>\n",
       "      <td>...</td>\n",
       "    </tr>\n",
       "    <tr>\n",
       "      <th>9993</th>\n",
       "      <td>9994.0</td>\n",
       "      <td>131.0</td>\n",
       "      <td>8.0</td>\n",
       "      <td>0.158750</td>\n",
       "      <td>1700.0</td>\n",
       "      <td>10.0</td>\n",
       "      <td>81149.0</td>\n",
       "      <td>328.0</td>\n",
       "      <td>2616.0</td>\n",
       "      <td>129.27</td>\n",
       "      <td>...</td>\n",
       "      <td>74.0</td>\n",
       "      <td>30.47</td>\n",
       "      <td>-22.69</td>\n",
       "      <td>17.55</td>\n",
       "      <td>0.2338</td>\n",
       "      <td>0.7184</td>\n",
       "      <td>0.0</td>\n",
       "      <td>0.0</td>\n",
       "      <td>8.0</td>\n",
       "      <td>0.0</td>\n",
       "    </tr>\n",
       "    <tr>\n",
       "      <th>9994</th>\n",
       "      <td>9995.0</td>\n",
       "      <td>131.0</td>\n",
       "      <td>8.0</td>\n",
       "      <td>0.110664</td>\n",
       "      <td>1700.0</td>\n",
       "      <td>10.0</td>\n",
       "      <td>387.0</td>\n",
       "      <td>348.0</td>\n",
       "      <td>3358.0</td>\n",
       "      <td>127.21</td>\n",
       "      <td>...</td>\n",
       "      <td>50.0</td>\n",
       "      <td>15.42</td>\n",
       "      <td>-11.25</td>\n",
       "      <td>8.71</td>\n",
       "      <td>0.2840</td>\n",
       "      <td>-0.3310</td>\n",
       "      <td>0.0</td>\n",
       "      <td>0.0</td>\n",
       "      <td>8.0</td>\n",
       "      <td>0.0</td>\n",
       "    </tr>\n",
       "    <tr>\n",
       "      <th>9996</th>\n",
       "      <td>9997.0</td>\n",
       "      <td>120.0</td>\n",
       "      <td>8.0</td>\n",
       "      <td>0.049355</td>\n",
       "      <td>1700.0</td>\n",
       "      <td>10.0</td>\n",
       "      <td>81629.0</td>\n",
       "      <td>6142.0</td>\n",
       "      <td>3359.0</td>\n",
       "      <td>123.49</td>\n",
       "      <td>...</td>\n",
       "      <td>12.0</td>\n",
       "      <td>4.55</td>\n",
       "      <td>-3.32</td>\n",
       "      <td>2.46</td>\n",
       "      <td>0.2615</td>\n",
       "      <td>0.8489</td>\n",
       "      <td>0.0</td>\n",
       "      <td>0.0</td>\n",
       "      <td>8.0</td>\n",
       "      <td>1.0</td>\n",
       "    </tr>\n",
       "    <tr>\n",
       "      <th>9997</th>\n",
       "      <td>9998.0</td>\n",
       "      <td>122.0</td>\n",
       "      <td>8.0</td>\n",
       "      <td>0.811840</td>\n",
       "      <td>1700.0</td>\n",
       "      <td>10.0</td>\n",
       "      <td>14629.0</td>\n",
       "      <td>1274.0</td>\n",
       "      <td>1044.0</td>\n",
       "      <td>124.39</td>\n",
       "      <td>...</td>\n",
       "      <td>30.0</td>\n",
       "      <td>12.00</td>\n",
       "      <td>-9.10</td>\n",
       "      <td>7.17</td>\n",
       "      <td>0.2605</td>\n",
       "      <td>0.6744</td>\n",
       "      <td>0.0</td>\n",
       "      <td>0.0</td>\n",
       "      <td>8.0</td>\n",
       "      <td>0.0</td>\n",
       "    </tr>\n",
       "    <tr>\n",
       "      <th>9998</th>\n",
       "      <td>9999.0</td>\n",
       "      <td>134.0</td>\n",
       "      <td>8.0</td>\n",
       "      <td>0.147179</td>\n",
       "      <td>1700.0</td>\n",
       "      <td>10.0</td>\n",
       "      <td>7399.0</td>\n",
       "      <td>3526.0</td>\n",
       "      <td>7437.0</td>\n",
       "      <td>132.69</td>\n",
       "      <td>...</td>\n",
       "      <td>20.0</td>\n",
       "      <td>7.68</td>\n",
       "      <td>-5.57</td>\n",
       "      <td>4.20</td>\n",
       "      <td>0.2407</td>\n",
       "      <td>0.7930</td>\n",
       "      <td>0.0</td>\n",
       "      <td>0.0</td>\n",
       "      <td>8.0</td>\n",
       "      <td>0.0</td>\n",
       "    </tr>\n",
       "  </tbody>\n",
       "</table>\n",
       "<p>4367 rows × 771 columns</p>\n",
       "</div>"
      ],
      "text/plain": [
       "          id     f1    f2        f3      f4    f5       f6      f7      f8  \\\n",
       "2        3.0  126.0  10.0  0.500080  1100.0   3.0  83607.0  1800.0  1527.0   \n",
       "4        5.0  109.0   9.0  0.502749  2900.0   4.0  79124.0    89.0   491.0   \n",
       "6        7.0  121.0   9.0  0.985674  2900.0   4.0  13026.0  4565.0   263.0   \n",
       "7        8.0  128.0   9.0  0.385778  2900.0   4.0  79244.0  6597.0  3592.0   \n",
       "8        9.0  126.0   9.0  0.745471  2900.0   4.0  78920.0  3058.0   112.0   \n",
       "...      ...    ...   ...       ...     ...   ...      ...     ...     ...   \n",
       "9993  9994.0  131.0   8.0  0.158750  1700.0  10.0  81149.0   328.0  2616.0   \n",
       "9994  9995.0  131.0   8.0  0.110664  1700.0  10.0    387.0   348.0  3358.0   \n",
       "9996  9997.0  120.0   8.0  0.049355  1700.0  10.0  81629.0  6142.0  3359.0   \n",
       "9997  9998.0  122.0   8.0  0.811840  1700.0  10.0  14629.0  1274.0  1044.0   \n",
       "9998  9999.0  134.0   8.0  0.147179  1700.0  10.0   7399.0  3526.0  7437.0   \n",
       "\n",
       "          f9  ...  f770   f771   f772   f773    f774    f775  f776  f777  \\\n",
       "2     127.76  ...  13.0   2.89  -1.73   1.04  0.2521  0.7258   1.0   0.0   \n",
       "4     122.72  ...  26.0   6.11  -3.82   2.51  0.2282 -0.5399   0.0   0.0   \n",
       "6     126.36  ...  23.0   7.06  -4.99   3.77  0.2458 -0.6732   0.0   0.0   \n",
       "7     127.19  ...  17.0   4.45  -3.26   2.56  0.2947 -0.7220   0.0   0.0   \n",
       "8     123.89  ...   7.0   2.02  -1.35   0.95  0.2601  0.7132   0.0   0.0   \n",
       "...      ...  ...   ...    ...    ...    ...     ...     ...   ...   ...   \n",
       "9993  129.27  ...  74.0  30.47 -22.69  17.55  0.2338  0.7184   0.0   0.0   \n",
       "9994  127.21  ...  50.0  15.42 -11.25   8.71  0.2840 -0.3310   0.0   0.0   \n",
       "9996  123.49  ...  12.0   4.55  -3.32   2.46  0.2615  0.8489   0.0   0.0   \n",
       "9997  124.39  ...  30.0  12.00  -9.10   7.17  0.2605  0.6744   0.0   0.0   \n",
       "9998  132.69  ...  20.0   7.68  -5.57   4.20  0.2407  0.7930   0.0   0.0   \n",
       "\n",
       "      f778  loss  \n",
       "2      5.0   0.0  \n",
       "4      5.0   0.0  \n",
       "6      5.0   0.0  \n",
       "7      5.0   1.0  \n",
       "8      5.0   0.0  \n",
       "...    ...   ...  \n",
       "9993   8.0   0.0  \n",
       "9994   8.0   0.0  \n",
       "9996   8.0   1.0  \n",
       "9997   8.0   0.0  \n",
       "9998   8.0   0.0  \n",
       "\n",
       "[4367 rows x 771 columns]"
      ]
     },
     "execution_count": 7,
     "metadata": {},
     "output_type": "execute_result"
    }
   ],
   "source": [
    "dfn"
   ]
  },
  {
   "cell_type": "markdown",
   "metadata": {
    "deletable": false,
    "editable": false,
    "id": "0LKlXxS3JF0L",
    "nbgrader": {
     "checksum": "ff730342a91fefa515c3117b502aa292",
     "grade": false,
     "grade_id": "cell-735be096b0f642ef",
     "locked": true,
     "schema_version": 1,
     "solution": false
    }
   },
   "source": [
    "### Part 2: Evaluation measures (2pts)\n",
    "In what follows you should implement a number of evaluation measures. You need to implement these from scratch, meaning that it is not allowed to call any scikit-learn function, or any other API function that implements the method for you."
   ]
  },
  {
   "cell_type": "markdown",
   "metadata": {
    "deletable": false,
    "editable": false,
    "id": "4yvWH4cgJF0L",
    "nbgrader": {
     "checksum": "cdadfd696f9d159f0242cad28b7f41ef",
     "grade": false,
     "grade_id": "cell-a127e8413f617d64",
     "locked": true,
     "schema_version": 1,
     "solution": false
    }
   },
   "source": [
    "* Implement a function that produces the contigency matrix, i.e. True Positives, False Positives, True Negatives, False Negative"
   ]
  },
  {
   "cell_type": "code",
   "execution_count": 8,
   "metadata": {
    "deletable": false,
    "id": "294-dY4BJF0M",
    "nbgrader": {
     "checksum": "bd892db60c7761bace1ca06b9361a045",
     "grade": false,
     "grade_id": "cell-aab0f82d6a21bea5",
     "locked": false,
     "schema_version": 1,
     "solution": true
    },
    "pycharm": {
     "is_executing": false
    }
   },
   "outputs": [],
   "source": [
    "def contigency_matrix(true_y, predicted_y):\n",
    "    # YOUR CODE HERE, Create TP, FP, TN, FN\n",
    "    TP = 0\n",
    "    FP = 0\n",
    "    TN = 0\n",
    "    FN = 0\n",
    "\n",
    "    for i in range(len(predicted_y)): \n",
    "        if true_y[i]==predicted_y[i]==1:\n",
    "            TP += 1\n",
    "        if predicted_y[i]==1 and true_y[i]!=predicted_y[i]:\n",
    "            FP += 1\n",
    "        if true_y[i]==predicted_y[i]==0:\n",
    "            TN += 1\n",
    "        if predicted_y[i]==0 and true_y[i]!=predicted_y[i]:\n",
    "            FN += 1\n",
    "\n",
    "    #return(TP, FP, TN, FN)\n",
    "    \n",
    "    # Make sure your output fits the following format:\n",
    "    matrix = np.array(([TP, FP], [TN, FN]))\n",
    "    return matrix"
   ]
  },
  {
   "cell_type": "code",
   "execution_count": 9,
   "metadata": {},
   "outputs": [
    {
     "data": {
      "text/plain": [
       "(3493, 874)"
      ]
     },
     "execution_count": 9,
     "metadata": {},
     "output_type": "execute_result"
    }
   ],
   "source": [
    "len(y_train),len(y_test)"
   ]
  },
  {
   "cell_type": "code",
   "execution_count": 10,
   "metadata": {},
   "outputs": [
    {
     "data": {
      "text/plain": [
       "array([[  6,  77],\n",
       "       [699,  92]])"
      ]
     },
     "execution_count": 10,
     "metadata": {},
     "output_type": "execute_result"
    }
   ],
   "source": [
    "contigency_matrix(y_train,y_test)"
   ]
  },
  {
   "cell_type": "markdown",
   "metadata": {
    "deletable": false,
    "editable": false,
    "id": "cV3BfX8jJF0M",
    "nbgrader": {
     "checksum": "b2f901219adca9d441082d3fcf702e6b",
     "grade": false,
     "grade_id": "cell-b3c52de1970e361e",
     "locked": true,
     "schema_version": 1,
     "solution": false
    }
   },
   "source": [
    "* Implement a function that computes accuracy (without using any built-in accuracy function)"
   ]
  },
  {
   "cell_type": "code",
   "execution_count": 11,
   "metadata": {
    "deletable": false,
    "id": "DK2lCwiNJF0M",
    "nbgrader": {
     "checksum": "f6705877fef7cd74d89832d32a8536a0",
     "grade": false,
     "grade_id": "cell-2e0cc734628dd4c2",
     "locked": false,
     "schema_version": 1,
     "solution": true
    },
    "pycharm": {
     "is_executing": false
    }
   },
   "outputs": [],
   "source": [
    "def accuracy(true_y, predicted_y):\n",
    "    TP = 0\n",
    "    FP = 0\n",
    "    TN = 0\n",
    "    FN = 0\n",
    "\n",
    "    for i in range(len(predicted_y)): \n",
    "        if true_y[i]==predicted_y[i]==1:\n",
    "            TP += 1\n",
    "        if predicted_y[i]==1 and true_y[i]!=predicted_y[i]:\n",
    "            FP += 1\n",
    "        if true_y[i]==predicted_y[i]==0:\n",
    "            TN += 1\n",
    "        if predicted_y[i]==0 and true_y[i]!=predicted_y[i]:\n",
    "            FN += 1\n",
    "    \n",
    "    matrix = np.array(([TP, FP], [TN, FN]))\n",
    "    \n",
    "    upper = TP + TN\n",
    "    lower = TP + TN + FN + FP\n",
    "    if(lower!=0):\n",
    "        accuracy = upper/lower\n",
    "        return accuracy\n",
    "    else:\n",
    "        return 0\n",
    "    "
   ]
  },
  {
   "cell_type": "code",
   "execution_count": 12,
   "metadata": {},
   "outputs": [
    {
     "data": {
      "text/plain": [
       "0.8066361556064073"
      ]
     },
     "execution_count": 12,
     "metadata": {},
     "output_type": "execute_result"
    }
   ],
   "source": [
    "accuracy(y_train,y_test)"
   ]
  },
  {
   "cell_type": "markdown",
   "metadata": {
    "deletable": false,
    "editable": false,
    "id": "4LznpIdTJF0M",
    "nbgrader": {
     "checksum": "4b3798ba720235065011afa2736346a7",
     "grade": false,
     "grade_id": "cell-d045e95a552112ac",
     "locked": true,
     "schema_version": 1,
     "solution": false
    }
   },
   "source": [
    "* Implement a function that computes precision for one class (without using any built-in precision function)"
   ]
  },
  {
   "cell_type": "code",
   "execution_count": 13,
   "metadata": {
    "deletable": false,
    "id": "QC8SeWOIJF0M",
    "nbgrader": {
     "checksum": "40f4c7470d6073739cff4934761469c8",
     "grade": false,
     "grade_id": "cell-a403be8ac0ee7af0",
     "locked": false,
     "schema_version": 1,
     "solution": true
    },
    "pycharm": {
     "is_executing": false
    }
   },
   "outputs": [],
   "source": [
    "def precision(true_y, predicted_y):\n",
    "    TP = 0\n",
    "    FP = 0\n",
    "    TN = 0\n",
    "    FN = 0\n",
    "\n",
    "    for i in range(len(predicted_y)): \n",
    "        if true_y[i]==predicted_y[i]==1:\n",
    "            TP += 1\n",
    "        if predicted_y[i]==1 and true_y[i]!=predicted_y[i]:\n",
    "            FP += 1\n",
    "        if true_y[i]==predicted_y[i]==0:\n",
    "            TN += 1\n",
    "        if predicted_y[i]==0 and true_y[i]!=predicted_y[i]:\n",
    "            FN += 1\n",
    "    \n",
    "    matrix = np.array(([TP, FP], [TN, FN]))\n",
    "    \n",
    "    upper = TP\n",
    "    lower = TP + FP\n",
    "    if lower!=0:\n",
    "        precision = upper/lower\n",
    "        return precision\n",
    "    else:\n",
    "        return 0"
   ]
  },
  {
   "cell_type": "code",
   "execution_count": 14,
   "metadata": {},
   "outputs": [
    {
     "data": {
      "text/plain": [
       "0.07228915662650602"
      ]
     },
     "execution_count": 14,
     "metadata": {},
     "output_type": "execute_result"
    }
   ],
   "source": [
    "precision(y_train,y_test)"
   ]
  },
  {
   "cell_type": "markdown",
   "metadata": {
    "deletable": false,
    "editable": false,
    "id": "_D7OYnK4JF0N",
    "nbgrader": {
     "checksum": "6dbe4298af11247615077250b24d3f59",
     "grade": false,
     "grade_id": "cell-4822b32d0cedb0e8",
     "locked": true,
     "schema_version": 1,
     "solution": false
    }
   },
   "source": [
    "* Implement a function that computes recall for one class (without using any built-in recall function)"
   ]
  },
  {
   "cell_type": "code",
   "execution_count": 15,
   "metadata": {
    "deletable": false,
    "id": "X08ucQRFJF0N",
    "nbgrader": {
     "checksum": "cf41435f0b5003e31ae61340d3188bde",
     "grade": false,
     "grade_id": "cell-075963e37ff41c66",
     "locked": false,
     "schema_version": 1,
     "solution": true
    },
    "pycharm": {
     "is_executing": false
    }
   },
   "outputs": [],
   "source": [
    "def recall(true_y, predicted_y):\n",
    "    TP = 0\n",
    "    FP = 0\n",
    "    TN = 0\n",
    "    FN = 0\n",
    "\n",
    "    for i in range(len(predicted_y)): \n",
    "        if true_y[i]==predicted_y[i]==1:\n",
    "            TP += 1\n",
    "        if predicted_y[i]==1 and true_y[i]!=predicted_y[i]:\n",
    "            FP += 1\n",
    "        if true_y[i]==predicted_y[i]==0:\n",
    "            TN += 1\n",
    "        if predicted_y[i]==0 and true_y[i]!=predicted_y[i]:\n",
    "            FN += 1\n",
    "    \n",
    "    matrix = np.array(([TP, FP], [TN, FN]))\n",
    "    \n",
    "    upper = TP\n",
    "    lower = TP + FN\n",
    "    if(lower!=0):\n",
    "        recall = upper/lower\n",
    "        return recall\n",
    "    else:\n",
    "        return 0\n",
    "    "
   ]
  },
  {
   "cell_type": "code",
   "execution_count": 16,
   "metadata": {},
   "outputs": [
    {
     "data": {
      "text/plain": [
       "0.061224489795918366"
      ]
     },
     "execution_count": 16,
     "metadata": {},
     "output_type": "execute_result"
    }
   ],
   "source": [
    "recall(y_train, y_test)"
   ]
  },
  {
   "cell_type": "markdown",
   "metadata": {
    "deletable": false,
    "editable": false,
    "id": "yE78OP9tJF0N",
    "nbgrader": {
     "checksum": "c0fa7903c66407fa515b5c4c5e12b266",
     "grade": false,
     "grade_id": "cell-f0c5ff30db6fc1b0",
     "locked": true,
     "schema_version": 1,
     "solution": false
    }
   },
   "source": [
    "* Implement a function that computes f1 for one class(without using any built-in f1 function)"
   ]
  },
  {
   "cell_type": "code",
   "execution_count": 17,
   "metadata": {
    "deletable": false,
    "id": "FB-f5OO1JF0N",
    "nbgrader": {
     "checksum": "0b8095ecb0d05692b4a57cc17eff026d",
     "grade": false,
     "grade_id": "cell-bcc41b9d876ee5d4",
     "locked": false,
     "schema_version": 1,
     "solution": true
    },
    "pycharm": {
     "is_executing": false
    }
   },
   "outputs": [],
   "source": [
    "def f1(true_y, predicted_y):\n",
    "    TP = 0\n",
    "    FP = 0\n",
    "    TN = 0\n",
    "    FN = 0\n",
    "\n",
    "    for i in range(len(predicted_y)): \n",
    "        if true_y[i]==predicted_y[i]==1:\n",
    "            TP += 1\n",
    "        if predicted_y[i]==1 and true_y[i]!=predicted_y[i]:\n",
    "            FP += 1\n",
    "        if true_y[i]==predicted_y[i]==0:\n",
    "            TN += 1\n",
    "        if predicted_y[i]==0 and true_y[i]!=predicted_y[i]:\n",
    "            FN += 1\n",
    "    \n",
    "    matrix = np.array(([TP, FP], [TN, FN]))\n",
    "    \n",
    "    upper = TP\n",
    "    lower = (TP + 0.5*(FP+FN))\n",
    "    if(lower!=0):\n",
    "        f1 = upper/lower\n",
    "        return f1\n",
    "    else:\n",
    "        return 0\n",
    "    \n",
    "    "
   ]
  },
  {
   "cell_type": "code",
   "execution_count": 18,
   "metadata": {},
   "outputs": [
    {
     "data": {
      "text/plain": [
       "0.06629834254143646"
      ]
     },
     "execution_count": 18,
     "metadata": {},
     "output_type": "execute_result"
    }
   ],
   "source": [
    "f1(y_train,y_test)"
   ]
  },
  {
   "cell_type": "markdown",
   "metadata": {
    "deletable": false,
    "editable": false,
    "id": "jO5VhQLWJF0N",
    "nbgrader": {
     "checksum": "e0d9785e1e45e2179c318aec035059ad",
     "grade": false,
     "grade_id": "cell-c21fd73cbce64a50",
     "locked": true,
     "schema_version": 1,
     "solution": false
    }
   },
   "source": [
    "### Part 3: Algorithms\n",
    "Compare the performance of Logistic Regression, SVMs and Neural Networks"
   ]
  },
  {
   "cell_type": "markdown",
   "metadata": {
    "deletable": false,
    "editable": false,
    "id": "UWXjVAenJF0N",
    "nbgrader": {
     "checksum": "af0943a520201c48990805ce5cb2cb7c",
     "grade": false,
     "grade_id": "cell-7ea6f44ccf633c76",
     "locked": true,
     "schema_version": 1,
     "solution": false
    }
   },
   "source": [
    "##### Logistic Regression (Lecture 3) (2pts)\n",
    "\n",
    "+ Train and test a logistic regression model\n",
    "    + Construct a table with each row being a different value of the regularization parameter and each column the aforementioned measures\n",
    "    + Explain your findings and select the optimal model\n",
    "    + Report the performance of the optimal model"
   ]
  },
  {
   "cell_type": "markdown",
   "metadata": {},
   "source": [
    "##  Train and test logistic regression model"
   ]
  },
  {
   "cell_type": "code",
   "execution_count": 19,
   "metadata": {},
   "outputs": [],
   "source": [
    "# Train and test logistic regression model\n",
    "from sklearn.linear_model import LogisticRegression\n",
    "\n",
    "\n",
    "# instantiate the model\n",
    "logreg1 = LogisticRegression(solver='liblinear',penalty='l1', random_state=0)\n",
    "logreg2 = LogisticRegression(solver='liblinear',penalty='l2',random_state = 0)\n",
    "logreg3 = LogisticRegression(solver='newton-cg',penalty='l2', random_state=0)\n",
    "logreg4 = LogisticRegression(solver='lbfgs',penalty='l2',random_state = 0)\n",
    "logreg5 = LogisticRegression(solver='saga',penalty='elasticnet',random_state = 0,l1_ratio=1)\n",
    "logreg6 = LogisticRegression(solver='saga',penalty='l1', random_state=0,l1_ratio=1)\n",
    "logreg7 = LogisticRegression(solver='saga',penalty='l2',random_state = 0,l1_ratio=1)\n",
    "# fit the model\n",
    "logreg1.fit(X_train, y_train)\n",
    "logreg2.fit(X_train, y_train)\n",
    "logreg3.fit(X_train, y_train)\n",
    "logreg4.fit(X_train, y_train)\n",
    "logreg5.fit(X_train, y_train)\n",
    "logreg6.fit(X_train, y_train)\n",
    "logreg7.fit(X_train, y_train)\n",
    "\n",
    "#Predictions based on models\n",
    "y_pred_test1 = logreg1.predict(X_test)\n",
    "y_pred_test2 = logreg2.predict(X_test)\n",
    "y_pred_test3 = logreg3.predict(X_test)\n",
    "y_pred_test4 = logreg4.predict(X_test)\n",
    "y_pred_test5 = logreg5.predict(X_test)\n",
    "y_pred_test6 = logreg6.predict(X_test)\n",
    "y_pred_test7 = logreg7.predict(X_test)\n",
    "\n"
   ]
  },
  {
   "cell_type": "code",
   "execution_count": 20,
   "metadata": {},
   "outputs": [
    {
     "name": "stdout",
     "output_type": "stream",
     "text": [
      "Model accuracy score: 0.9050\n",
      "Model Precision score: 0.0000\n",
      "Model Recall score: 0.0000\n",
      "Model f1 score: 0.0000\n"
     ]
    }
   ],
   "source": [
    "# Logistic Regression Model # 1 - solver: liblinear, penalty: l1\n",
    "\n",
    "accuracy_1 = accuracy(y_test, y_pred_test1)\n",
    "precision_1 = precision(y_test, y_pred_test1)\n",
    "recall_1 =recall(y_test, y_pred_test1)\n",
    "f1_1 = f1(y_test, y_pred_test1)\n",
    "print('Model accuracy score: {0:0.4f}'. format(accuracy(y_test, y_pred_test1)))\n",
    "print('Model Precision score: {0:0.4f}'. format(precision(y_test, y_pred_test1)))\n",
    "print('Model Recall score: {0:0.4f}'. format(recall(y_test, y_pred_test1)))\n",
    "print('Model f1 score: {0:0.4f}'. format(f1(y_test, y_pred_test1)))\n"
   ]
  },
  {
   "cell_type": "code",
   "execution_count": 21,
   "metadata": {},
   "outputs": [
    {
     "name": "stdout",
     "output_type": "stream",
     "text": [
      "Model accuracy score: 0.9039\n",
      "Model Precision score: 0.0000\n",
      "Model Recall score: 0.0000\n",
      "Model f1 score: 0.0000\n"
     ]
    }
   ],
   "source": [
    "# Logistic Regression Model # 2 - solver: liblinear, penalty: l2\n",
    "print('Model accuracy score: {0:0.4f}'. format(accuracy(y_test, y_pred_test2)))\n",
    "print('Model Precision score: {0:0.4f}'. format(precision(y_test, y_pred_test2)))\n",
    "print('Model Recall score: {0:0.4f}'. format(recall(y_test, y_pred_test2)))\n",
    "print('Model f1 score: {0:0.4f}'. format(f1(y_test, y_pred_test2)))\n",
    "\n",
    "accuracy_2 = accuracy(y_test, y_pred_test2)\n",
    "precision_2 = precision(y_test, y_pred_test2)\n",
    "recall_2 =recall(y_test, y_pred_test2)\n",
    "f1_2 = f1(y_test, y_pred_test2)"
   ]
  },
  {
   "cell_type": "code",
   "execution_count": 22,
   "metadata": {},
   "outputs": [
    {
     "name": "stdout",
     "output_type": "stream",
     "text": [
      "Model accuracy score: 0.9050\n",
      "Model Precision score: 0.0000\n",
      "Model Recall score: 0.0000\n",
      "Model f1 score: 0.0000\n"
     ]
    }
   ],
   "source": [
    "# Logistic Regression Model # 3 - solver: newton-cg, penalty: l2\n",
    "accuracy_3 = accuracy(y_test, y_pred_test3)\n",
    "precision_3 = precision(y_test, y_pred_test3)\n",
    "recall_3 =recall(y_test, y_pred_test3)\n",
    "f1_3 = f1(y_test, y_pred_test3)\n",
    "print('Model accuracy score: {0:0.4f}'. format(accuracy(y_test, y_pred_test3)))\n",
    "print('Model Precision score: {0:0.4f}'. format(precision(y_test, y_pred_test3)))\n",
    "print('Model Recall score: {0:0.4f}'. format(recall(y_test, y_pred_test3)))\n",
    "print('Model f1 score: {0:0.4f}'. format(f1(y_test, y_pred_test3)))"
   ]
  },
  {
   "cell_type": "code",
   "execution_count": 23,
   "metadata": {},
   "outputs": [
    {
     "name": "stdout",
     "output_type": "stream",
     "text": [
      "Model accuracy score: 0.9039\n",
      "Model Precision score: 0.0000\n",
      "Model Recall score: 0.0000\n",
      "Model f1 score: 0.0000\n"
     ]
    }
   ],
   "source": [
    "# Logistic Regression Model # 4 - solver: lbfgs, penalty: l2\n",
    "accuracy_4 = accuracy(y_test, y_pred_test4)\n",
    "precision_4 = precision(y_test, y_pred_test4)\n",
    "recall_4 =recall(y_test, y_pred_test4)\n",
    "f1_4 = f1(y_test, y_pred_test4)\n",
    "print('Model accuracy score: {0:0.4f}'. format(accuracy(y_test, y_pred_test4)))\n",
    "print('Model Precision score: {0:0.4f}'. format(precision(y_test, y_pred_test4)))\n",
    "print('Model Recall score: {0:0.4f}'. format(recall(y_test, y_pred_test4)))\n",
    "print('Model f1 score: {0:0.4f}'. format(f1(y_test, y_pred_test4)))"
   ]
  },
  {
   "cell_type": "code",
   "execution_count": 24,
   "metadata": {},
   "outputs": [
    {
     "name": "stdout",
     "output_type": "stream",
     "text": [
      "Model accuracy score: 0.9050\n",
      "Model Precision score: 0.0000\n",
      "Model Recall score: 0.0000\n",
      "Model f1 score: 0.0000\n"
     ]
    }
   ],
   "source": [
    "# Logistic Regression Model # 5 - solver: saga, penalty: elasticnet\n",
    "accuracy_5 = accuracy(y_test, y_pred_test5)\n",
    "precision_5 = precision(y_test, y_pred_test5)\n",
    "recall_5 =recall(y_test, y_pred_test5)\n",
    "f1_5 = f1(y_test, y_pred_test5)\n",
    "print('Model accuracy score: {0:0.4f}'. format(accuracy(y_test, y_pred_test5)))\n",
    "print('Model Precision score: {0:0.4f}'. format(precision(y_test, y_pred_test5)))\n",
    "print('Model Recall score: {0:0.4f}'. format(recall(y_test, y_pred_test5)))\n",
    "print('Model f1 score: {0:0.4f}'. format(f1(y_test, y_pred_test5)))"
   ]
  },
  {
   "cell_type": "code",
   "execution_count": 25,
   "metadata": {},
   "outputs": [
    {
     "name": "stdout",
     "output_type": "stream",
     "text": [
      "Model accuracy score: 0.9050\n",
      "Model Precision score: 0.0000\n",
      "Model Recall score: 0.0000\n",
      "Model f1 score: 0.0000\n"
     ]
    }
   ],
   "source": [
    "# Logistic Regression Model # 6 - solver: saga, penalty: l1\n",
    "accuracy_6 = accuracy(y_test, y_pred_test6)\n",
    "precision_6 = precision(y_test, y_pred_test6)\n",
    "recall_6 =recall(y_test, y_pred_test6)\n",
    "f1_6 = f1(y_test, y_pred_test6)\n",
    "print('Model accuracy score: {0:0.4f}'. format(accuracy(y_test, y_pred_test6)))\n",
    "print('Model Precision score: {0:0.4f}'. format(precision(y_test, y_pred_test6)))\n",
    "print('Model Recall score: {0:0.4f}'. format(recall(y_test, y_pred_test6)))\n",
    "print('Model f1 score: {0:0.4f}'. format(f1(y_test, y_pred_test6)))"
   ]
  },
  {
   "cell_type": "code",
   "execution_count": 26,
   "metadata": {},
   "outputs": [
    {
     "name": "stdout",
     "output_type": "stream",
     "text": [
      "Model accuracy score: 0.9050\n",
      "Model Precision score: 0.0000\n",
      "Model Recall score: 0.0000\n",
      "Model f1 score: 0.0000\n"
     ]
    }
   ],
   "source": [
    "# Logistic Regression Model # 7 - solver: saga, penalty: l2\n",
    "accuracy_7 = accuracy(y_test, y_pred_test7)\n",
    "precision_7 = precision(y_test, y_pred_test7)\n",
    "recall_7 =recall(y_test, y_pred_test7)\n",
    "f1_7 = f1(y_test, y_pred_test7)\n",
    "print('Model accuracy score: {0:0.4f}'. format(accuracy(y_test, y_pred_test7)))\n",
    "print('Model Precision score: {0:0.4f}'. format(precision(y_test, y_pred_test7)))\n",
    "print('Model Recall score: {0:0.4f}'. format(recall(y_test, y_pred_test7)))\n",
    "print('Model f1 score: {0:0.4f}'. format(f1(y_test, y_pred_test7)))"
   ]
  },
  {
   "cell_type": "markdown",
   "metadata": {},
   "source": [
    "## Construct a table with each row being a different value of the regularization parameter and each column the aforementioned"
   ]
  },
  {
   "cell_type": "code",
   "execution_count": 27,
   "metadata": {
    "deletable": false,
    "id": "vnnZ6T1MJF0O",
    "nbgrader": {
     "checksum": "bb4b24cb9b3769517aafa02dce6321d4",
     "grade": true,
     "grade_id": "cell-eea85664ef370cd5",
     "locked": false,
     "points": 1.5,
     "schema_version": 1,
     "solution": true
    },
    "pycharm": {
     "is_executing": false
    }
   },
   "outputs": [
    {
     "name": "stdout",
     "output_type": "stream",
     "text": [
      "Table with different regularization parameters of Logistic Regression:\n",
      "\n",
      "      Solver     Penalty  Accuracy  Precision  Recall  F1-Score\n",
      "0  liblinear          l1  0.905034        0.0     0.0       0.0\n",
      "1  liblinear          l2  0.903890        0.0     0.0       0.0\n",
      "2  newton-cg          l2  0.905034        0.0     0.0       0.0\n",
      "3      lbfgs          l2  0.903890        0.0     0.0       0.0\n",
      "4       saga  elasticnet  0.905034        0.0     0.0       0.0\n",
      "5       saga          l1  0.905034        0.0     0.0       0.0\n",
      "6       saga          l2  0.905034        0.0     0.0       0.0\n"
     ]
    }
   ],
   "source": [
    "# Construct table \n",
    "# Construct a table with each row being a different value of the regularization parameter and each column the aforementioned\n",
    "cols=['Solver','Penalty','Accuracy','Precision','Recall','F1-Score']\n",
    "\n",
    "Logistic_Regression_Table = pd.DataFrame(columns=cols)\n",
    "# List of series with same Index as datframe\n",
    "listOfSeries = [pd.Series(['liblinear', 'l1', accuracy_1,precision_1,recall_1,f1_1], index=Logistic_Regression_Table.columns ) ,\n",
    "                pd.Series(['liblinear', 'l2', accuracy_2,precision_2,recall_2,f1_2], index=Logistic_Regression_Table.columns ) ,\n",
    "                pd.Series(['newton-cg', 'l2', accuracy_3,precision_3,recall_3,f1_3], index=Logistic_Regression_Table.columns ) ,\n",
    "                pd.Series(['lbfgs', 'l2', accuracy_4,precision_4,recall_4,f1_4], index=Logistic_Regression_Table.columns ) ,\n",
    "                pd.Series(['saga', 'elasticnet', accuracy_5,precision_5,recall_5,f1_5], index=Logistic_Regression_Table.columns ) ,\n",
    "                pd.Series(['saga', 'l1', accuracy_6,precision_6,recall_6,f1_6], index=Logistic_Regression_Table.columns ) ,\n",
    "                pd.Series(['saga', 'l2', accuracy_7,precision_7,recall_7,f1_7], index=Logistic_Regression_Table.columns ) \n",
    "                ]\n",
    "Logistic_Regression_Table = Logistic_Regression_Table.append(  listOfSeries,\n",
    "                        ignore_index=True)\n",
    "print('Table with different regularization parameters of Logistic Regression:\\n') \n",
    "print(Logistic_Regression_Table)\n",
    "\n"
   ]
  },
  {
   "cell_type": "code",
   "execution_count": 28,
   "metadata": {},
   "outputs": [
    {
     "data": {
      "text/plain": [
       "(83, 791)"
      ]
     },
     "execution_count": 28,
     "metadata": {},
     "output_type": "execute_result"
    }
   ],
   "source": [
    "np.count_nonzero(y_test == 1), np.count_nonzero(y_test == 0)"
   ]
  },
  {
   "cell_type": "code",
   "execution_count": 29,
   "metadata": {},
   "outputs": [
    {
     "data": {
      "text/plain": [
       "(0, 874)"
      ]
     },
     "execution_count": 29,
     "metadata": {},
     "output_type": "execute_result"
    }
   ],
   "source": [
    "np.count_nonzero(y_pred_test1 == 1), np.count_nonzero(y_pred_test1 == 0)"
   ]
  },
  {
   "cell_type": "code",
   "execution_count": 30,
   "metadata": {},
   "outputs": [
    {
     "data": {
      "text/plain": [
       "(0, 874)"
      ]
     },
     "execution_count": 30,
     "metadata": {},
     "output_type": "execute_result"
    }
   ],
   "source": [
    "np.count_nonzero(y_pred_test7 == 1), np.count_nonzero(y_pred_test7 == 0)"
   ]
  },
  {
   "cell_type": "markdown",
   "metadata": {},
   "source": [
    "## Select Optimal Model\n",
    "Optimal Model is with following parameters:\n",
    "\n",
    "Solver: newton-cg\n",
    "\n",
    "Penalty: l2\n",
    "\n",
    "This model returns similar accuracy but clearly better Precision, Recall and f1-score as compared to other models."
   ]
  },
  {
   "cell_type": "markdown",
   "metadata": {},
   "source": [
    "## Report performance of Optimal model\n",
    "All performance measures except for Precision are almost similar. This model with **Solver: newton-cg and Penalty: l2** has clearly perfect Precision in predicting the test label. The low values of Recall, Precision and F1-score are because of uneven distribution of data and a large number of contributing features, which affects the prediction of True Negative, False positives and False Negatives. \n",
    "\n",
    "Logistic Regression models occasionally have problem in predicting Rare events, In our training set, we have observed that not even 10% of the training set has label 1, the model is probably going to have an elevated level of type 2 error - which fails to identify a significant predictor of Y even if it is \"really\" related to Y.\n"
   ]
  },
  {
   "cell_type": "code",
   "execution_count": 31,
   "metadata": {},
   "outputs": [
    {
     "name": "stdout",
     "output_type": "stream",
     "text": [
      "total 1s in test class:  83 \n",
      "Total 0s in test class:  791\n",
      "total 1s in Predicted test class:  0 \n",
      "Total 0s in Predictedtest class:  874\n"
     ]
    }
   ],
   "source": [
    "print('total 1s in test class: ',np.count_nonzero(y_test == 1),'\\nTotal 0s in test class: ', np.count_nonzero(y_test == 0))\n",
    "print('total 1s in Predicted test class: ',np.count_nonzero(y_pred_test1 == 1),'\\nTotal 0s in Predictedtest class: ', np.count_nonzero(y_pred_test1 == 0))\n"
   ]
  },
  {
   "cell_type": "code",
   "execution_count": 32,
   "metadata": {},
   "outputs": [
    {
     "name": "stdout",
     "output_type": "stream",
     "text": [
      "total 1s in training class:  332 \n",
      "Total 0s in training class:  3161\n"
     ]
    }
   ],
   "source": [
    "print('total 1s in training class: ',np.count_nonzero(y_train == 1),'\\nTotal 0s in training class: ', np.count_nonzero(y_train == 0))\n"
   ]
  },
  {
   "cell_type": "markdown",
   "metadata": {
    "deletable": false,
    "editable": false,
    "id": "KNigDLF2JF0O",
    "nbgrader": {
     "checksum": "0d74b83486a9bcdcbdf539376bd56e52",
     "grade": false,
     "grade_id": "cell-f57d340c8ac3f3b6",
     "locked": true,
     "schema_version": 1,
     "solution": false
    }
   },
   "source": [
    "* Explain what you observe regarding the positive class; i.e. the performance of the algorithm in predicting defaults. Explain why is this happening.\n",
    "\n",
    "Only 1 model predicted 1 positive value for the entire dataset. \n",
    "The reason for this is uneven distribution of data (Positve instances are not even 10% of the total dataset) and a large number of contributing features(778).\n",
    "\n",
    "Logistic Regression models occasionally have problem in predicting Rare events, In our training set, we have observed that not even 10% of the training set has label 1, the model is probably going to have an elevated level of type 2 error - which fails to identify a significant predictor of Y even if it is \"really\" related to Y.\n",
    "\n",
    "**Solution**:  Downsizing the dataset for even distribution.\n",
    "  "
   ]
  },
  {
   "cell_type": "markdown",
   "metadata": {
    "id": "WT1gcqt_JF0P"
   },
   "source": [
    "# The last few questions below are not optional!\n",
    "If you did not finish the optional downsampling, just go through with the data created before"
   ]
  },
  {
   "cell_type": "markdown",
   "metadata": {
    "deletable": false,
    "editable": false,
    "id": "5DL60WojJF0Q",
    "nbgrader": {
     "checksum": "88788580e9ea0cc74560a55c6231466b",
     "grade": false,
     "grade_id": "cell-d7e21719abffa28b",
     "locked": true,
     "schema_version": 1,
     "solution": false
    }
   },
   "source": [
    "##### SVMs (Lecture 4) (2pts)\n",
    "\n",
    "+ Train and test a Support Vector Machine model\n",
    "    + Construct a table with each row being a different configuration of the SVM algorithm (play with the regularization parameter, and the kernel function – use linear, poly, and rbf) and each column the evaluation measures\n",
    "    + Explain your findings and select the optimal model\n",
    "    + Report the performance of the optimal model"
   ]
  },
  {
   "cell_type": "code",
   "execution_count": 33,
   "metadata": {
    "deletable": false,
    "editable": false,
    "id": "k63PQb_KJF0L",
    "nbgrader": {
     "checksum": "cdc9100b2eb32f795318f88531439408",
     "grade": false,
     "grade_id": "cell-3a36fe2e430fa9ab",
     "locked": true,
     "schema_version": 1,
     "solution": false
    },
    "pycharm": {
     "is_executing": false
    }
   },
   "outputs": [],
   "source": [
    "import pandas as pd\n",
    "import numpy as np\n",
    "from sklearn.model_selection import train_test_split\n",
    "import warnings\n",
    "warnings.simplefilter(\"ignore\")\n",
    "\n",
    "# Reading dataset with 10k values\n",
    "\n",
    "df = pd.read_csv('loan_default_10K.csv', sep=\",\", header=0, dtype=np.float64)\n",
    "\n",
    "# Drop the observations that contain missing values\n",
    "dfn = df.dropna(0, how='any')\n",
    "\n",
    "# Consider only a handful of features to start with; you can extend to the full set later on.\n",
    "X = dfn.loc[:,'f1':'f778'].values\n",
    "\n",
    "\n",
    "# Generate the labels; if 'loss' is zero the this indicates the negative class, class 0, i.e. no default;\n",
    "# if 'loss' is possitive this indicates the positive class, class 1, i.e. there is a loan default;\n",
    "#y = [ bool(y) for y in dfn.loc[:,'loss'].values ]\n",
    "dfn['loss'].mask(dfn['loss'] == 0.0, 0, inplace=True)\n",
    "dfn['loss'].mask(dfn['loss'] != 0.0, 1, inplace=True)\n",
    "y = np.array(dfn[\"loss\"])\n"
   ]
  },
  {
   "cell_type": "code",
   "execution_count": 34,
   "metadata": {},
   "outputs": [
    {
     "data": {
      "text/plain": [
       "0.0    3952\n",
       "1.0     415\n",
       "Name: loss, dtype: int64"
      ]
     },
     "execution_count": 34,
     "metadata": {},
     "output_type": "execute_result"
    }
   ],
   "source": [
    "dfn['loss'].value_counts()"
   ]
  },
  {
   "cell_type": "markdown",
   "metadata": {},
   "source": [
    "### Downsampling "
   ]
  },
  {
   "cell_type": "code",
   "execution_count": 35,
   "metadata": {},
   "outputs": [],
   "source": [
    "# Class count\n",
    "count_class_0, count_class_1 = dfn.loss.value_counts()\n",
    "\n",
    "# Divide by class\n",
    "df_class_0 = dfn[dfn['loss'] == 0]\n",
    "df_class_1 = dfn[dfn['loss'] == 1]"
   ]
  },
  {
   "cell_type": "code",
   "execution_count": 36,
   "metadata": {},
   "outputs": [
    {
     "name": "stdout",
     "output_type": "stream",
     "text": [
      "Under sampling:\n",
      "0.0    415\n",
      "1.0    415\n",
      "Name: loss, dtype: int64\n"
     ]
    },
    {
     "data": {
      "text/plain": [
       "<AxesSubplot:title={'center':'Count (loss)'}>"
      ]
     },
     "execution_count": 36,
     "metadata": {},
     "output_type": "execute_result"
    },
    {
     "data": {
      "image/png": "[encoded data removed]",
      "text/plain": [
       "<Figure size 432x288 with 1 Axes>"
      ]
     },
     "metadata": {
      "needs_background": "light"
     },
     "output_type": "display_data"
    }
   ],
   "source": [
    "df_class_0_under = df_class_0.sample(count_class_1)\n",
    "df_test_under = pd.concat([df_class_0_under, df_class_1], axis=0)\n",
    "\n",
    "print('Under sampling:')\n",
    "print(df_test_under.loss.value_counts())\n",
    "\n",
    "df_test_under.loss.value_counts().plot(kind='bar', title='Count (loss)')"
   ]
  },
  {
   "cell_type": "code",
   "execution_count": 37,
   "metadata": {},
   "outputs": [
    {
     "data": {
      "text/plain": [
       "0.0    415\n",
       "1.0    415\n",
       "Name: loss, dtype: int64"
      ]
     },
     "execution_count": 37,
     "metadata": {},
     "output_type": "execute_result"
    }
   ],
   "source": [
    "df_test_under['loss'].value_counts()"
   ]
  },
  {
   "cell_type": "code",
   "execution_count": 38,
   "metadata": {},
   "outputs": [],
   "source": [
    "# Consider only a handful of features to start with; you can extend to the full set later on.\n",
    "X = df_test_under.loc[:,'f1':'f778'].values\n",
    "\n",
    "\n",
    "# Generate the labels; if 'loss' is zero the this indicates the negative class, class 0, i.e. no default;\n",
    "# if 'loss' is possitive this indicates the positive class, class 1, i.e. there is a loan default;\n",
    "#y = [ bool(y) for y in dfn.loc[:,'loss'].values ]\n",
    "df_test_under['loss'].mask(df_test_under['loss'] == 0.0, 0, inplace=True)\n",
    "df_test_under['loss'].mask(df_test_under['loss'] != 0.0, 1, inplace=True)\n",
    "y = np.array(df_test_under[\"loss\"])"
   ]
  },
  {
   "cell_type": "code",
   "execution_count": 39,
   "metadata": {},
   "outputs": [],
   "source": [
    "\n",
    "# Split the data into train, validation, and test.\n",
    "X_train1, X_test1, y_train1, y_test1 = train_test_split(X, \n",
    "                                                    y, \n",
    "                                                    test_size=0.25,random_state=112, stratify=y)"
   ]
  },
  {
   "cell_type": "code",
   "execution_count": 40,
   "metadata": {},
   "outputs": [
    {
     "data": {
      "text/plain": [
       "((622, 769), (622,), (208, 769))"
      ]
     },
     "execution_count": 40,
     "metadata": {},
     "output_type": "execute_result"
    }
   ],
   "source": [
    "X_train1.shape,y_train1.shape,X_test1.shape"
   ]
  },
  {
   "cell_type": "code",
   "execution_count": 41,
   "metadata": {},
   "outputs": [
    {
     "data": {
      "text/plain": [
       "(numpy.ndarray, numpy.ndarray)"
      ]
     },
     "execution_count": 41,
     "metadata": {},
     "output_type": "execute_result"
    }
   ],
   "source": [
    "type(y_train1),type(y_test1)\n"
   ]
  },
  {
   "cell_type": "code",
   "execution_count": 57,
   "metadata": {
    "deletable": false,
    "id": "Ac5mNYD3JF0P",
    "nbgrader": {
     "checksum": "167eed2eaafde3d4951aef9059e06a58",
     "grade": true,
     "grade_id": "cell-c6f93c6c6f633c47",
     "locked": false,
     "points": 1.5,
     "schema_version": 1,
     "solution": true
    },
    "pycharm": {
     "is_executing": false
    }
   },
   "outputs": [],
   "source": [
    "# YOUR CODE HERE\n",
    "from sklearn.svm import SVC\n",
    "# instantiate classifier with default hyperparameters\n",
    "svc1=SVC(C=100)\n",
    "# instantiate classifier with linear kernel \n",
    "svc2=SVC(kernel='sigmoid')\n",
    "# instantiate classifier with polynomial kernel\n",
    "svc3=SVC(kernel='poly',C=100)\n",
    "\n",
    "\n",
    "# fit classifiers to training set\n",
    "svc1.fit(X_train1, y_train1)\n",
    "\n",
    "\n",
    "#Predictions based on models\n",
    "y_pred_svc1 = svc1.predict(X_test1)\n",
    "\n"
   ]
  },
  {
   "cell_type": "code",
   "execution_count": 58,
   "metadata": {},
   "outputs": [
    {
     "data": {
      "text/plain": [
       "SVC(kernel='sigmoid')"
      ]
     },
     "execution_count": 58,
     "metadata": {},
     "output_type": "execute_result"
    }
   ],
   "source": [
    "svc2.fit(X_train1, y_train1)\n",
    "\n",
    "\n"
   ]
  },
  {
   "cell_type": "code",
   "execution_count": 59,
   "metadata": {},
   "outputs": [],
   "source": [
    "y_pred_svc2 = svc2.predict(X_test1)"
   ]
  },
  {
   "cell_type": "code",
   "execution_count": 60,
   "metadata": {},
   "outputs": [
    {
     "data": {
      "text/plain": [
       "SVC(C=100, kernel='poly')"
      ]
     },
     "execution_count": 60,
     "metadata": {},
     "output_type": "execute_result"
    }
   ],
   "source": [
    "svc3.fit(X_train1, y_train1)\n",
    "\n"
   ]
  },
  {
   "cell_type": "code",
   "execution_count": 61,
   "metadata": {},
   "outputs": [],
   "source": [
    "y_pred_svc3 = svc3.predict(X_test1)"
   ]
  },
  {
   "cell_type": "code",
   "execution_count": 62,
   "metadata": {},
   "outputs": [
    {
     "name": "stdout",
     "output_type": "stream",
     "text": [
      "Model accuracy score: 0.5000\n",
      "Model Precision score: 0.5000\n",
      "Model Recall score: 0.0673\n",
      "Model f1 score: 0.1186\n",
      "Model accuracy score: 0.4856\n",
      "Model Precision score: 0.4895\n",
      "Model Recall score: 0.6731\n",
      "Model f1 score: 0.5668\n",
      "Model accuracy score: 0.4856\n",
      "Model Precision score: 0.4927\n",
      "Model Recall score: 0.9712\n",
      "Model f1 score: 0.6537\n"
     ]
    }
   ],
   "source": [
    "#  classifier with default hyperparameters\n",
    "\n",
    "accuracy_1_svm = accuracy(y_test1, y_pred_svc1)\n",
    "precision_1_svm = precision(y_test1, y_pred_svc1)\n",
    "recall_1_svm =recall(y_test1, y_pred_svc1)\n",
    "f1_1_svm = f1(y_test1, y_pred_svc1)\n",
    "print('Model accuracy score: {0:0.4f}'. format(accuracy(y_test1, y_pred_svc1)))\n",
    "print('Model Precision score: {0:0.4f}'. format(precision(y_test1, y_pred_svc1)))\n",
    "print('Model Recall score: {0:0.4f}'. format(recall(y_test1, y_pred_svc1)))\n",
    "print('Model f1 score: {0:0.4f}'. format(f1(y_test1, y_pred_svc1)))\n",
    "\n",
    "\n",
    "#  classifier with linear kernel\n",
    "print('Model accuracy score: {0:0.4f}'. format(accuracy(y_test1, y_pred_svc2)))\n",
    "print('Model Precision score: {0:0.4f}'. format(precision(y_test1, y_pred_svc2)))\n",
    "print('Model Recall score: {0:0.4f}'. format(recall(y_test1, y_pred_svc2)))\n",
    "print('Model f1 score: {0:0.4f}'. format(f1(y_test1, y_pred_svc2)))\n",
    "\n",
    "accuracy_2_svm = accuracy(y_test1, y_pred_svc2)\n",
    "precision_2_svm = precision(y_test1, y_pred_svc2)\n",
    "recall_2_svm =recall(y_test1, y_pred_svc2)\n",
    "f1_2_svm = f1(y_test1, y_pred_svc2)\n",
    "\n",
    "#  classifier with poly kernel\n",
    "accuracy_3_svm = accuracy(y_test1, y_pred_svc3)\n",
    "precision_3_svm = precision(y_test1, y_pred_svc3)\n",
    "recall_3_svm =recall(y_test1, y_pred_svc3)\n",
    "f1_3_svm = f1(y_test1, y_pred_svc3)\n",
    "print('Model accuracy score: {0:0.4f}'. format(accuracy(y_test1, y_pred_svc3)))\n",
    "print('Model Precision score: {0:0.4f}'. format(precision(y_test1, y_pred_svc3)))\n",
    "print('Model Recall score: {0:0.4f}'. format(recall(y_test1, y_pred_svc3)))\n",
    "print('Model f1 score: {0:0.4f}'. format(f1(y_test1, y_pred_svc3)))\n",
    "\n",
    "\n"
   ]
  },
  {
   "cell_type": "code",
   "execution_count": 63,
   "metadata": {},
   "outputs": [
    {
     "name": "stdout",
     "output_type": "stream",
     "text": [
      "Table with different regularization parameters of SVM:\n",
      "\n",
      "   kernel  Accuracy  Precision    Recall  F1-Score\n",
      "0     rbf  0.500000   0.500000  0.067308  0.118644\n",
      "1  linear  0.485577   0.489510  0.673077  0.566802\n",
      "2    poly  0.485577   0.492683  0.971154  0.653722\n"
     ]
    }
   ],
   "source": [
    "# Construct table \n",
    "#Construct a table with each row being a different configuration of the \n",
    "# SVM algorithm (play with the regularization parameter, and the kernel function – use linear, poly, and rbf)\n",
    "cols_svm=['kernel','Accuracy','Precision','Recall','F1-Score']\n",
    "\n",
    "SVM_Table = pd.DataFrame(columns=cols_svm)\n",
    "# List of series with same Index as datframe\n",
    "listOfSeriesSVM = [pd.Series(['rbf', accuracy_1_svm,precision_1_svm,recall_1_svm,f1_1_svm], index=SVM_Table.columns ) ,\n",
    "                pd.Series(['linear', accuracy_2_svm,precision_2_svm,recall_2_svm,f1_2_svm], index=SVM_Table.columns ) ,\n",
    "                pd.Series(['poly', accuracy_3_svm,precision_3_svm,recall_3_svm,f1_3_svm], index=SVM_Table.columns )  \n",
    "                ]\n",
    "SVM_Table = SVM_Table.append(  listOfSeriesSVM,\n",
    "                        ignore_index=True)\n",
    "print('Table with different regularization parameters of SVM:\\n') \n",
    "print(SVM_Table)"
   ]
  },
  {
   "cell_type": "markdown",
   "metadata": {
    "deletable": false,
    "id": "hte-UpsCJF0Q",
    "nbgrader": {
     "checksum": "2412fc015a280623635f3bf03e3fde9e",
     "grade": true,
     "grade_id": "cell-b4ae750d1154f837",
     "locked": false,
     "points": 0.5,
     "schema_version": 1,
     "solution": true
    }
   },
   "source": [
    "<span style=\"color:blue\">**Report**</span>\n",
    "\n",
    "The Support Vector Classifiers were taking too long to train and predict on the complete dataset and the results were very poor. The primary reason for this poor performance was because of uneven distribution of data. Target class distribution was observed to be 10%-90%, to counter this problem of poor sampling, we downsized our data set to match number of 0's to Positive labels. After downsizing, we splitted the data in to training and testing datasets. \n",
    "\n",
    "We have trained and tested our classifiers by considering all features. The classifiers we used are,\n",
    "1. Classifier with RBF kernel\n",
    "2. Classifier with Linear kernel\n",
    "3. Classifier with polynomial kernel\n",
    "\n",
    "The accuracy of all models are nearly similar, but the Precision for 1st Classifier with rbf kernel performed slightly worse in Precision Perspective. The 2nd classifier with linear Kernel performed better in Recall and F1-score perspectives. \n",
    "\n",
    "But we will consider ***3rd classifier with poly kernel as better classifier*** because of its slightly better accuracy and balanced Precision, Recall and F1-scores. Accuracy is comparatively better and precision is perfect, Recall and F1 scores are relatively low but its a trade off between Precision and recall in our model. \n",
    "\n",
    "The overall performance in accuracy is not that good because of larger number of Contributing features i.e. 770+ features.\n"
   ]
  },
  {
   "cell_type": "markdown",
   "metadata": {
    "deletable": false,
    "editable": false,
    "id": "YI7doqzLJF0P",
    "nbgrader": {
     "checksum": "fdac93da6191896d74c7346d2e875a84",
     "grade": false,
     "grade_id": "cell-4dc578274728380b",
     "locked": true,
     "schema_version": 1,
     "solution": false
    }
   },
   "source": [
    "##### Neural Network (Lecture 5) (2pts)\n",
    "\n",
    "+ Train and test a Neural Network model\n",
    "    + Construct a table with each row being a different configuration of the network (play with the number of hidden layers, the number of neurons in each layer, and the activation function) and each column the evaluation measures\n",
    "    + Report the performance of at least three different configurations\n",
    "    + Explain your findings and select the optimal model\n",
    "    + Justify your choice of different paramteres and architectures\n",
    "    + Report the performance of the optimal model"
   ]
  },
  {
   "cell_type": "code",
   "execution_count": 64,
   "metadata": {},
   "outputs": [
    {
     "data": {
      "text/plain": [
       "((208, 769), (622, 769), (622,), (208,))"
      ]
     },
     "execution_count": 64,
     "metadata": {},
     "output_type": "execute_result"
    }
   ],
   "source": [
    "X_test1.shape,X_train1.shape,y_train1.shape,y_test1.shape"
   ]
  },
  {
   "cell_type": "code",
   "execution_count": 65,
   "metadata": {
    "deletable": false,
    "id": "YWgD6iFmJF0Q",
    "nbgrader": {
     "checksum": "e4d7a215763017f7111a6162d214ed5e",
     "grade": true,
     "grade_id": "cell-7009d775455986ad",
     "locked": false,
     "points": 1.5,
     "schema_version": 1,
     "solution": true
    },
    "pycharm": {
     "is_executing": false
    }
   },
   "outputs": [],
   "source": [
    "\n",
    "from sklearn.neural_network import MLPClassifier\n",
    "# Create a classifier: Hidden Layers:5, activation: tanh, solver:sgd\n",
    "classifier_5 = MLPClassifier(hidden_layer_sizes=(50,),activation='tanh',solver='sgd', alpha=0.0001)\n",
    "\n",
    "# We learn the digits on the first half of the digits\n",
    "classifier_5.fit(X_train1, y_train1)\n",
    "\n",
    "# Now predict the value of the digit on the second half:\n",
    "# Predicting the Test set results\n",
    "y_pred_cl5 = classifier_5.predict(X_test1)\n",
    "\n",
    "\n",
    "# Create a classifier: Hidden Layers:10, activation: relu, solver:adam\n",
    "classifier_10 = MLPClassifier(hidden_layer_sizes=(100,),activation='relu',solver='adam', alpha=0.0001)\n",
    "\n",
    "# We learn the digits on the first half of the digits\n",
    "classifier_10.fit(X_train1, y_train1)\n",
    "\n",
    "# Now predict the value of the digit on the second half:\n",
    "# Predicting the Test set results\n",
    "y_pred_cl10 = classifier_10.predict(X_test1)\n",
    "\n",
    "\n",
    "# Create a classifier: Hidden Layers:1000, activation: identity, solver:lbfgs\n",
    "classifier_20 = MLPClassifier(hidden_layer_sizes=(1000,),activation='identity',solver='lbfgs', alpha=0.0001)\n",
    "\n",
    "# We learn the digits on the first half of the digits\n",
    "classifier_20.fit(X_train1, y_train1)\n",
    "\n",
    "# Now predict the value of the digit on the second half:\n",
    "# Predicting the Test set results\n",
    "y_pred_cl20 = classifier_20.predict(X_test1)\n",
    "\n",
    "\n"
   ]
  },
  {
   "cell_type": "code",
   "execution_count": 66,
   "metadata": {},
   "outputs": [],
   "source": [
    "# Create a classifier: Hidden Layers:1000, activation: relu, solver:adam\n",
    "classifier_10a = MLPClassifier(hidden_layer_sizes=(1000,),activation='relu',solver='adam', alpha=0.0001)\n",
    "\n",
    "# We learn the digits on the first half of the digits\n",
    "classifier_10a.fit(X_train1, y_train1)\n",
    "\n",
    "# Now predict the value of the digit on the second half:\n",
    "# Predicting the Test set results\n",
    "y_pred_cl10a = classifier_10a.predict(X_test1)\n",
    "\n",
    "accuracy_2_nna = accuracy(y_test1, y_pred_cl10a)\n",
    "precision_2_nna = precision(y_test1, y_pred_cl10a)\n",
    "recall_2_nna =recall(y_test1, y_pred_cl10a)\n",
    "f1_2_nna = f1(y_test1, y_pred_cl10a)\n"
   ]
  },
  {
   "cell_type": "code",
   "execution_count": 67,
   "metadata": {},
   "outputs": [
    {
     "name": "stdout",
     "output_type": "stream",
     "text": [
      "Model accuracy score: 0.5288\n",
      "Model Precision score: 0.5211\n",
      "Model Recall score: 0.7115\n",
      "Model f1 score: 0.6016\n",
      "Model accuracy score: 0.5000\n",
      "Model Precision score: 0.5000\n",
      "Model Recall score: 1.0000\n",
      "Model f1 score: 0.6667\n",
      "Model accuracy score: 0.5000\n",
      "Model Precision score: 0.5000\n",
      "Model Recall score: 1.0000\n",
      "Model f1 score: 0.6667\n"
     ]
    }
   ],
   "source": [
    "#  classifier: Hidden Layers:50, activation: tanh, solver:sgd\n",
    "\n",
    "accuracy_1_nn = accuracy(y_test1, y_pred_cl5)\n",
    "precision_1_nn = precision(y_test1, y_pred_cl5)\n",
    "recall_1_nn =recall(y_test1, y_pred_cl5)\n",
    "f1_1_nn = f1(y_test1, y_pred_cl5)\n",
    "print('Model accuracy score: {0:0.4f}'. format(accuracy(y_test1, y_pred_cl5)))\n",
    "print('Model Precision score: {0:0.4f}'. format(precision(y_test1, y_pred_cl5)))\n",
    "print('Model Recall score: {0:0.4f}'. format(recall(y_test1, y_pred_cl5)))\n",
    "print('Model f1 score: {0:0.4f}'. format(f1(y_test1, y_pred_cl5)))\n",
    "\n",
    "\n",
    "# classifier: Hidden Layers:100, activation: relu, solver:adam\n",
    "print('Model accuracy score: {0:0.4f}'. format(accuracy(y_test1, y_pred_cl10)))\n",
    "print('Model Precision score: {0:0.4f}'. format(precision(y_test1, y_pred_cl10)))\n",
    "print('Model Recall score: {0:0.4f}'. format(recall(y_test1, y_pred_cl10)))\n",
    "print('Model f1 score: {0:0.4f}'. format(f1(y_test1, y_pred_cl10)))\n",
    "\n",
    "accuracy_2_nn = accuracy(y_test1, y_pred_cl10)\n",
    "precision_2_nn = precision(y_test1, y_pred_cl10)\n",
    "recall_2_nn =recall(y_test1, y_pred_cl10)\n",
    "f1_2_nn = f1(y_test1, y_pred_cl10)\n",
    "\n",
    "#  classifier: Hidden Layers:1000, activation: identity, solver:lbfgs\n",
    "accuracy_3_nn = accuracy(y_test1, y_pred_cl20)\n",
    "precision_3_nn = precision(y_test1, y_pred_cl20)\n",
    "recall_3_nn =recall(y_test1, y_pred_cl20)\n",
    "f1_3_nn = f1(y_test1, y_pred_cl20)\n",
    "print('Model accuracy score: {0:0.4f}'. format(accuracy(y_test1, y_pred_cl20)))\n",
    "print('Model Precision score: {0:0.4f}'. format(precision(y_test1, y_pred_cl20)))\n",
    "print('Model Recall score: {0:0.4f}'. format(recall(y_test1, y_pred_cl20)))\n",
    "print('Model f1 score: {0:0.4f}'. format(f1(y_test1, y_pred_cl20)))\n",
    "\n",
    "\n"
   ]
  },
  {
   "cell_type": "code",
   "execution_count": 68,
   "metadata": {},
   "outputs": [
    {
     "name": "stdout",
     "output_type": "stream",
     "text": [
      "Table with different regularization parameters of Neural Network:\n",
      "\n",
      "  Hidden layers activation solver  Accuracy  Precision    Recall  F1-Score\n",
      "0            50       tanh    sgd  0.528846   0.521127  0.711538  0.601626\n",
      "1           100       relu   adam  0.500000   0.500000  1.000000  0.666667\n",
      "2          1000   identity  lbfgs  0.500000   0.500000  1.000000  0.666667\n",
      "3          1000       relu   adam  0.475962   0.487685  0.951923  0.644951\n"
     ]
    }
   ],
   "source": [
    "# Construct table \n",
    "# Construct a table with each row being a different configuration of the network \n",
    "# (play with the number of hidden layers, the number of neurons in each layer, and the activation function\n",
    "cols_nn=['Hidden layers','activation','solver','Accuracy','Precision','Recall','F1-Score']\n",
    "\n",
    "NeuralNetwork_Table = pd.DataFrame(columns=cols_nn)\n",
    "# List of series with same Index as datframe\n",
    "listOfSeriesNN = [pd.Series([50, 'tanh','sgd',accuracy_1_nn,precision_1_nn,recall_1_nn,f1_1_nn], index=NeuralNetwork_Table.columns ) ,\n",
    "                pd.Series([100,'relu', 'adam',accuracy_2_nn,precision_2_nn,recall_2_nn,f1_2_nn], index=NeuralNetwork_Table.columns ) ,\n",
    "                pd.Series([1000, 'identity','lbfgs', accuracy_3_nn,precision_3_nn,recall_3_nn,f1_3_nn], index=NeuralNetwork_Table.columns ),\n",
    "                pd.Series([1000,'relu', 'adam',accuracy_2_nna,precision_2_nna,recall_2_nna,f1_2_nna], index=NeuralNetwork_Table.columns )  \n",
    "                ]\n",
    "NeuralNetwork_Table = NeuralNetwork_Table.append(  listOfSeriesNN,\n",
    "                        ignore_index=True)\n",
    "print('Table with different regularization parameters of Neural Network:\\n') \n",
    "print(NeuralNetwork_Table)"
   ]
  },
  {
   "cell_type": "markdown",
   "metadata": {
    "deletable": false,
    "id": "Pw5mJ1z1JF0Q",
    "nbgrader": {
     "checksum": "36cda951bae6da0700d3f6202d0f1a89",
     "grade": true,
     "grade_id": "cell-42c8bf3a6a671fef",
     "locked": false,
     "points": 0.5,
     "schema_version": 1,
     "solution": true
    }
   },
   "source": [
    "<span style=\"color:blue\">**Report**</span>\n",
    "\n",
    "\n",
    "The Neural Networks were taking too long to train and predict on the complete dataset and the results were very poor. The primary reason for this poor performance was because of uneven distribution of data. Target class distribution was observed to be 10%-90%, to counter this problem of poor sampling, we downsized our data set to match number of 0's to Positive labels. After downsizing, we splitted the data in to training and testing datasets. \n",
    "\n",
    "We have trained and tested our classifiers by considering all features. The classifiers we used are,\n",
    "1. Classifier with Hidden Layers:50, activation: tanh, solver:sgd\n",
    "2. Classifier with Hidden Layers:100, activation: relu, solver:adam\n",
    "3. Classifier with Hidden Layers:1000, activation: identity, solver:lbfgs\n",
    "4. Classifier with Hidden Layers:1000, activation: relu, solver:adam\n",
    "\n",
    "The accuracy of all models are nearly similar, but the Precision for 3rd Classifier with lbfgs Solver performed  worst in Precision, Recall and F1-score perspectives. \n",
    "\n",
    "We will consider ***2nd classifier with with Hidden Layers:100, activation: relu, solver:adam*** because of its slightly better accuracy and balanced Precision and F1-scores. Recall score is perfect for this model. We have made another classifier with same regularization parameters with increased numbr of layers but the performance of both Relu models with 100 and 1000 hidden layers respectively is identical. So we will consider Relu model with lower number of layers because of lesser computation utilization. \n",
    "\n",
    "The overall performance in accuracy is not that good because of larger number of Contributing features i.e. 770+ features."
   ]
  },
  {
   "cell_type": "markdown",
   "metadata": {
    "deletable": false,
    "editable": false,
    "id": "OIgJSXMTJF0Q",
    "nbgrader": {
     "checksum": "baabfebe46559e2d055cef7ceae38b0e",
     "grade": false,
     "grade_id": "cell-23280b034d299667",
     "locked": true,
     "schema_version": 1,
     "solution": false
    }
   },
   "source": [
    "#### Compare Algorithms (2pts)\n",
    "* Plot the Precision-Recall curves for the best model for each one of the above algorithms, Logistic Regression, Neural Nets, and SVM.\n",
    "    * Use the precision_recall_curve from scikit-learn\n",
    "* Explain your findings"
   ]
  },
  {
   "cell_type": "code",
   "execution_count": 69,
   "metadata": {},
   "outputs": [
    {
     "data": {
      "image/png": "[encoded data removed]",
      "text/plain": [
       "<Figure size 432x288 with 1 Axes>"
      ]
     },
     "metadata": {
      "needs_background": "light"
     },
     "output_type": "display_data"
    }
   ],
   "source": [
    "# YOUR CODE HERE\n",
    "# Logistic Regression Precision Recall Display\n",
    "\n",
    "from sklearn.metrics import PrecisionRecallDisplay\n",
    "\n",
    "display = PrecisionRecallDisplay.from_estimator(\n",
    "    logreg3, X_test, y_test, name=\"Logisitic Regression\"\n",
    ")\n",
    "_ = display.ax_.set_title(\"Logisitic Regression Precision-Recall curve\")\n",
    "\n"
   ]
  },
  {
   "cell_type": "code",
   "execution_count": 70,
   "metadata": {
    "deletable": false,
    "id": "8kRDcyLuJF0Q",
    "nbgrader": {
     "checksum": "b17597ab95452fa3d4259cb4d2bee6c2",
     "grade": true,
     "grade_id": "cell-d6967e3b3e3dbe7a",
     "locked": false,
     "points": 1.5,
     "schema_version": 1,
     "solution": true
    },
    "pycharm": {
     "is_executing": false
    }
   },
   "outputs": [
    {
     "data": {
      "image/png": "[encoded data removed]",
      "text/plain": [
       "<Figure size 432x288 with 1 Axes>"
      ]
     },
     "metadata": {
      "needs_background": "light"
     },
     "output_type": "display_data"
    },
    {
     "data": {
      "image/png": "[encoded data removed]",
      "text/plain": [
       "<Figure size 432x288 with 1 Axes>"
      ]
     },
     "metadata": {
      "needs_background": "light"
     },
     "output_type": "display_data"
    }
   ],
   "source": [
    "# SVM Precision Recall Display\n",
    "from sklearn.metrics import PrecisionRecallDisplay\n",
    "\n",
    "display = PrecisionRecallDisplay.from_estimator(\n",
    "    svc3, X_test1, y_test1, name=\"SVC\"\n",
    ")\n",
    "_ = display.ax_.set_title(\"SVC Precision-Recall curve\")\n",
    "\n",
    "\n",
    "#Neural Network Precision Recall Display\n",
    "from sklearn.metrics import PrecisionRecallDisplay\n",
    "\n",
    "display = PrecisionRecallDisplay.from_estimator(\n",
    "    classifier_10, X_test1, y_test1, name=\"Neural Network\"\n",
    ")\n",
    "_ = display.ax_.set_title(\"Neural Network Precision-Recall curve\")"
   ]
  },
  {
   "cell_type": "markdown",
   "metadata": {
    "deletable": false,
    "id": "_vShAj6OJF0Q",
    "nbgrader": {
     "checksum": "58ca34644cf139f5987905e2058ea0b3",
     "grade": true,
     "grade_id": "cell-b91319845bc74219",
     "locked": false,
     "points": 0.5,
     "schema_version": 1,
     "solution": true
    }
   },
   "source": [
    "<span style=\"color:blue\">**Report**</span>\n",
    "\n",
    "Precision-Recall is an important measure of performance measure of prediction when classes are very inbalanced. As in our case, our classes are very much inbalanced (10%-90%).\n",
    "\n",
    "- Recall: Shows how many true relevant results are provided.\n",
    "- Precision: Shows the Result Relevancy.\n",
    "\n",
    "The precision recall curve indicates the trade-off between recall and precision to a different boundary. The high point at the bottom of the curve represents both high recall and high precision, where high precision is associated with a low false positive level, and high recall is related to a low false standard. High scores on both show that the editor returns correct results (high precision), as well as restoring most of all positive results (high recall).\n",
    "\n",
    "A system with high recall but low precision returns many results, but many of its predicted labels are not accurate in comparison with training labels. A system with high precision but low recall is just the opposite, yielding very few results, but most of its predicted labels are good compared to training labels. Proper precision and high recall will return many results, with all the results labeled correctly.\n",
    "\n",
    "In our models, **Support Vector Classifier**  performed better than other classifiers because of a better Precision Recall curve. The area under the curve for this model is grater as compared to other models. "
   ]
  }
 ],
 "metadata": {
  "celltoolbar": "Edit Metadata",
  "colab": {
   "collapsed_sections": [],
   "name": "Practical Assignment 2 - Student.ipynb ",
   "provenance": [
    {
     "file_id": "17ja4GM2Ci0MjQjO3RjTNBS0wcnLBpBIr",
     "timestamp": 1618862623296
    },
    {
     "file_id": "1tO5F-kPHZPpMGLNuPjfNqd3rXU1Lkmn1",
     "timestamp": 1618842712618
    }
   ],
   "toc_visible": true
  },
  "kernelspec": {
   "display_name": "Python 3 (ipykernel)",
   "language": "python",
   "name": "python3"
  },
  "language_info": {
   "codemirror_mode": {
    "name": "ipython",
    "version": 3
   },
   "file_extension": ".py",
   "mimetype": "text/x-python",
   "name": "python",
   "nbconvert_exporter": "python",
   "pygments_lexer": "ipython3",
   "version": "3.7.7"
  },
  "pycharm": {
   "stem_cell": {
    "cell_type": "raw",
    "metadata": {
     "collapsed": false
    },
    "source": []
   }
  }
 },
 "nbformat": 4,
 "nbformat_minor": 1
}
