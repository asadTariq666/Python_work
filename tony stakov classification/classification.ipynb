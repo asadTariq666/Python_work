{
 "cells": [
  {
   "cell_type": "markdown",
   "metadata": {},
   "source": [
    "# Clustering data"
   ]
  },
  {
   "cell_type": "markdown",
   "id": "f7c2effc",
   "metadata": {},
   "source": [
    "## Importing Libraries"
   ]
  },
  {
   "cell_type": "code",
   "execution_count": 1,
   "id": "451bb908",
   "metadata": {},
   "outputs": [],
   "source": [
    "# Importing Libraries\n",
    "import pandas as pd \n",
    "import numpy as np\n",
    "import seaborn as sns\n",
    "import matplotlib.pyplot as plt\n"
   ]
  },
  {
   "cell_type": "markdown",
   "id": "431125c2",
   "metadata": {},
   "source": [
    "## Importing data set"
   ]
  },
  {
   "cell_type": "code",
   "execution_count": 21,
   "id": "c65c5a5e",
   "metadata": {},
   "outputs": [
    {
     "name": "stdout",
     "output_type": "stream",
     "text": [
      "   Customer Id  Age  Edu  Years Employed  Income  Card Debt  Other Debt  \\\n",
      "0            1   50    1               6     156      1.590       1.073   \n",
      "1            2   23    2               9      88      1.941      32.909   \n",
      "2            3   64    1               5     270      8.890      18.157   \n",
      "3            4   82    4              30     387      5.273      22.486   \n",
      "4            5   20    1              28     131      6.448      25.258   \n",
      "\n",
      "   Defaulted Address  DebtIncomeRatio  \n",
      "0        0.0  ABC151             28.9  \n",
      "1        0.0  ABC152             39.7  \n",
      "2        1.0  ABC153             37.2  \n",
      "3        0.0  ABC154              4.8  \n",
      "4        0.0  ABC155             17.5  \n"
     ]
    }
   ],
   "source": [
    "data = pd.read_excel('Customer_DATA.xlsx')\n",
    "print(data.head())"
   ]
  },
  {
   "cell_type": "markdown",
   "metadata": {},
   "source": [
    "## Checking null values \n",
    "Removing non-important features i.e. Id and Address.\n",
    "\n",
    "Removing Defaulted as it has 20% null values and filling it with mean or most frequent item will affect the results. "
   ]
  },
  {
   "cell_type": "code",
   "execution_count": 22,
   "metadata": {},
   "outputs": [
    {
     "data": {
      "text/plain": [
       "Customer Id         0\n",
       "Age                 0\n",
       "Edu                 0\n",
       "Years Employed      0\n",
       "Income              0\n",
       "Card Debt           0\n",
       "Other Debt          0\n",
       "Defaulted          84\n",
       "Address             0\n",
       "DebtIncomeRatio     0\n",
       "dtype: int64"
      ]
     },
     "execution_count": 22,
     "metadata": {},
     "output_type": "execute_result"
    }
   ],
   "source": [
    "data.isnull().sum()"
   ]
  },
  {
   "cell_type": "code",
   "execution_count": 7,
   "metadata": {},
   "outputs": [
    {
     "data": {
      "text/plain": [
       "Index(['Customer Id', 'Age', 'Edu', 'Years Employed', 'Income', 'Card Debt',\n",
       "       'Other Debt', 'Defaulted', 'Address', 'DebtIncomeRatio'],\n",
       "      dtype='object')"
      ]
     },
     "execution_count": 7,
     "metadata": {},
     "output_type": "execute_result"
    }
   ],
   "source": [
    "data.columns"
   ]
  },
  {
   "cell_type": "code",
   "execution_count": 23,
   "metadata": {},
   "outputs": [
    {
     "data": {
      "text/html": [
       "<div>\n",
       "<style scoped>\n",
       "    .dataframe tbody tr th:only-of-type {\n",
       "        vertical-align: middle;\n",
       "    }\n",
       "\n",
       "    .dataframe tbody tr th {\n",
       "        vertical-align: top;\n",
       "    }\n",
       "\n",
       "    .dataframe thead th {\n",
       "        text-align: right;\n",
       "    }\n",
       "</style>\n",
       "<table border=\"1\" class=\"dataframe\">\n",
       "  <thead>\n",
       "    <tr style=\"text-align: right;\">\n",
       "      <th></th>\n",
       "      <th>Age</th>\n",
       "      <th>Edu</th>\n",
       "      <th>Years Employed</th>\n",
       "      <th>Income</th>\n",
       "      <th>Card Debt</th>\n",
       "      <th>Other Debt</th>\n",
       "      <th>DebtIncomeRatio</th>\n",
       "    </tr>\n",
       "  </thead>\n",
       "  <tbody>\n",
       "    <tr>\n",
       "      <th>0</th>\n",
       "      <td>50</td>\n",
       "      <td>1</td>\n",
       "      <td>6</td>\n",
       "      <td>156</td>\n",
       "      <td>1.590</td>\n",
       "      <td>1.073</td>\n",
       "      <td>28.9</td>\n",
       "    </tr>\n",
       "    <tr>\n",
       "      <th>1</th>\n",
       "      <td>23</td>\n",
       "      <td>2</td>\n",
       "      <td>9</td>\n",
       "      <td>88</td>\n",
       "      <td>1.941</td>\n",
       "      <td>32.909</td>\n",
       "      <td>39.7</td>\n",
       "    </tr>\n",
       "    <tr>\n",
       "      <th>2</th>\n",
       "      <td>64</td>\n",
       "      <td>1</td>\n",
       "      <td>5</td>\n",
       "      <td>270</td>\n",
       "      <td>8.890</td>\n",
       "      <td>18.157</td>\n",
       "      <td>37.2</td>\n",
       "    </tr>\n",
       "    <tr>\n",
       "      <th>3</th>\n",
       "      <td>82</td>\n",
       "      <td>4</td>\n",
       "      <td>30</td>\n",
       "      <td>387</td>\n",
       "      <td>5.273</td>\n",
       "      <td>22.486</td>\n",
       "      <td>4.8</td>\n",
       "    </tr>\n",
       "    <tr>\n",
       "      <th>4</th>\n",
       "      <td>20</td>\n",
       "      <td>1</td>\n",
       "      <td>28</td>\n",
       "      <td>131</td>\n",
       "      <td>6.448</td>\n",
       "      <td>25.258</td>\n",
       "      <td>17.5</td>\n",
       "    </tr>\n",
       "    <tr>\n",
       "      <th>...</th>\n",
       "      <td>...</td>\n",
       "      <td>...</td>\n",
       "      <td>...</td>\n",
       "      <td>...</td>\n",
       "      <td>...</td>\n",
       "      <td>...</td>\n",
       "      <td>...</td>\n",
       "    </tr>\n",
       "    <tr>\n",
       "      <th>444</th>\n",
       "      <td>59</td>\n",
       "      <td>3</td>\n",
       "      <td>39</td>\n",
       "      <td>287</td>\n",
       "      <td>5.715</td>\n",
       "      <td>20.102</td>\n",
       "      <td>21.1</td>\n",
       "    </tr>\n",
       "    <tr>\n",
       "      <th>445</th>\n",
       "      <td>75</td>\n",
       "      <td>2</td>\n",
       "      <td>28</td>\n",
       "      <td>158</td>\n",
       "      <td>1.714</td>\n",
       "      <td>4.897</td>\n",
       "      <td>7.0</td>\n",
       "    </tr>\n",
       "    <tr>\n",
       "      <th>446</th>\n",
       "      <td>71</td>\n",
       "      <td>1</td>\n",
       "      <td>9</td>\n",
       "      <td>387</td>\n",
       "      <td>8.126</td>\n",
       "      <td>22.225</td>\n",
       "      <td>11.2</td>\n",
       "    </tr>\n",
       "    <tr>\n",
       "      <th>447</th>\n",
       "      <td>71</td>\n",
       "      <td>1</td>\n",
       "      <td>1</td>\n",
       "      <td>295</td>\n",
       "      <td>8.426</td>\n",
       "      <td>17.871</td>\n",
       "      <td>31.4</td>\n",
       "    </tr>\n",
       "    <tr>\n",
       "      <th>448</th>\n",
       "      <td>66</td>\n",
       "      <td>1</td>\n",
       "      <td>16</td>\n",
       "      <td>167</td>\n",
       "      <td>8.556</td>\n",
       "      <td>12.049</td>\n",
       "      <td>10.9</td>\n",
       "    </tr>\n",
       "  </tbody>\n",
       "</table>\n",
       "<p>449 rows × 7 columns</p>\n",
       "</div>"
      ],
      "text/plain": [
       "     Age  Edu  Years Employed  Income  Card Debt  Other Debt  DebtIncomeRatio\n",
       "0     50    1               6     156      1.590       1.073             28.9\n",
       "1     23    2               9      88      1.941      32.909             39.7\n",
       "2     64    1               5     270      8.890      18.157             37.2\n",
       "3     82    4              30     387      5.273      22.486              4.8\n",
       "4     20    1              28     131      6.448      25.258             17.5\n",
       "..   ...  ...             ...     ...        ...         ...              ...\n",
       "444   59    3              39     287      5.715      20.102             21.1\n",
       "445   75    2              28     158      1.714       4.897              7.0\n",
       "446   71    1               9     387      8.126      22.225             11.2\n",
       "447   71    1               1     295      8.426      17.871             31.4\n",
       "448   66    1              16     167      8.556      12.049             10.9\n",
       "\n",
       "[449 rows x 7 columns]"
      ]
     },
     "execution_count": 23,
     "metadata": {},
     "output_type": "execute_result"
    }
   ],
   "source": [
    "descriptive_features = data[['Age', 'Edu', 'Years Employed', 'Income', 'Card Debt', 'Other Debt', 'DebtIncomeRatio']]\n",
    "descriptive_features"
   ]
  },
  {
   "cell_type": "code",
   "execution_count": 25,
   "metadata": {},
   "outputs": [
    {
     "data": {
      "text/plain": [
       "Age                0\n",
       "Edu                0\n",
       "Years Employed     0\n",
       "Income             0\n",
       "Card Debt          0\n",
       "Other Debt         0\n",
       "DebtIncomeRatio    0\n",
       "dtype: int64"
      ]
     },
     "execution_count": 25,
     "metadata": {},
     "output_type": "execute_result"
    }
   ],
   "source": [
    "descriptive_features.isnull().sum()"
   ]
  },
  {
   "cell_type": "markdown",
   "metadata": {},
   "source": [
    "## Min max scaler for normalising data"
   ]
  },
  {
   "cell_type": "code",
   "execution_count": 26,
   "metadata": {},
   "outputs": [
    {
     "name": "stdout",
     "output_type": "stream",
     "text": [
      "MinMaxScaler()\n",
      "[ 90.      4.     40.    398.      9.     38.833  41.   ]\n"
     ]
    },
    {
     "data": {
      "text/plain": [
       "array([[4.44444444e-01, 0.00000000e+00, 1.50000000e-01, ...,\n",
       "        7.11957884e-02, 2.64823495e-05, 7.04156479e-01],\n",
       "       [6.94444444e-02, 3.33333333e-01, 2.25000000e-01, ...,\n",
       "        1.15191777e-01, 8.43118561e-01, 9.68215159e-01],\n",
       "       [6.38888889e-01, 0.00000000e+00, 1.25000000e-01, ...,\n",
       "        9.86212083e-01, 4.52450941e-01, 9.07090465e-01],\n",
       "       ...,\n",
       "       [7.36111111e-01, 0.00000000e+00, 2.25000000e-01, ...,\n",
       "        8.90448734e-01, 5.60181139e-01, 2.71393643e-01],\n",
       "       [7.36111111e-01, 0.00000000e+00, 2.50000000e-02, ...,\n",
       "        9.28052143e-01, 4.44876989e-01, 7.65281174e-01],\n",
       "       [6.66666667e-01, 0.00000000e+00, 4.00000000e-01, ...,\n",
       "        9.44346954e-01, 2.90696751e-01, 2.64058680e-01]])"
      ]
     },
     "execution_count": 26,
     "metadata": {},
     "output_type": "execute_result"
    }
   ],
   "source": [
    "from sklearn.preprocessing import MinMaxScaler\n",
    "scaler = MinMaxScaler()\n",
    "print(scaler.fit(descriptive_features))\n",
    "\n",
    "print(scaler.data_max_)\n",
    "descriptive_features = scaler.transform(descriptive_features)\n",
    "descriptive_features\n"
   ]
  },
  {
   "cell_type": "code",
   "execution_count": 27,
   "metadata": {},
   "outputs": [
    {
     "data": {
      "text/plain": [
       "array([[4.44444444e-01, 0.00000000e+00, 1.50000000e-01, ...,\n",
       "        7.11957884e-02, 2.64823495e-05, 7.04156479e-01],\n",
       "       [6.94444444e-02, 3.33333333e-01, 2.25000000e-01, ...,\n",
       "        1.15191777e-01, 8.43118561e-01, 9.68215159e-01],\n",
       "       [6.38888889e-01, 0.00000000e+00, 1.25000000e-01, ...,\n",
       "        9.86212083e-01, 4.52450941e-01, 9.07090465e-01],\n",
       "       ...,\n",
       "       [7.36111111e-01, 0.00000000e+00, 2.25000000e-01, ...,\n",
       "        8.90448734e-01, 5.60181139e-01, 2.71393643e-01],\n",
       "       [7.36111111e-01, 0.00000000e+00, 2.50000000e-02, ...,\n",
       "        9.28052143e-01, 4.44876989e-01, 7.65281174e-01],\n",
       "       [6.66666667e-01, 0.00000000e+00, 4.00000000e-01, ...,\n",
       "        9.44346954e-01, 2.90696751e-01, 2.64058680e-01]])"
      ]
     },
     "execution_count": 27,
     "metadata": {},
     "output_type": "execute_result"
    }
   ],
   "source": [
    "descriptive_features"
   ]
  },
  {
   "cell_type": "markdown",
   "metadata": {},
   "source": [
    "## Finding the optimum number of clusters for k-means classification"
   ]
  },
  {
   "cell_type": "markdown",
   "metadata": {},
   "source": [
    "The K-means algorithm aims to choose centroids that minimize the inertia, or within-cluster sum-of-squares criterion. Inertia can be recognized as a measure of how internally coherent clusters are. This is what the KMeans tries to minimize with each iteration."
   ]
  },
  {
   "cell_type": "code",
   "execution_count": 28,
   "metadata": {},
   "outputs": [
    {
     "data": {
      "image/png": "[encoded data removed]",
      "text/plain": [
       "<Figure size 432x288 with 1 Axes>"
      ]
     },
     "metadata": {
      "needs_background": "light"
     },
     "output_type": "display_data"
    }
   ],
   "source": [
    "#  Elbow Method \n",
    "from sklearn.cluster import KMeans\n",
    "within_cluster_sum_of_squares = []\n",
    "\n",
    "for i in range(1, 11):\n",
    "    kmeans = KMeans(n_clusters = i, init = 'k-means++', max_iter = 300, n_init = 10, random_state = 0)\n",
    "    kmeans.fit(descriptive_features)\n",
    "    within_cluster_sum_of_squares.append(kmeans.inertia_)\n",
    "    \n",
    "#Plotting the results onto a line graph, allowing us to observe 'The elbow'\n",
    "plt.plot(range(1, 11), within_cluster_sum_of_squares)\n",
    "plt.title('The elbow method')\n",
    "plt.xlabel('Number of clusters')\n",
    "plt.ylabel('within_cluster_sum_of_squares') #within cluster sum of squares\n",
    "plt.show()\n"
   ]
  },
  {
   "cell_type": "code",
   "execution_count": 29,
   "metadata": {},
   "outputs": [
    {
     "data": {
      "image/png": "[encoded data removed]",
      "text/plain": [
       "<Figure size 432x288 with 1 Axes>"
      ]
     },
     "metadata": {
      "needs_background": "light"
     },
     "output_type": "display_data"
    }
   ],
   "source": [
    "from sklearn import metrics\n",
    "from sklearn.cluster import AgglomerativeClustering\n",
    "\n",
    "SS_distances= []\n",
    "I = range(2,20)\n",
    "for i in I:\n",
    "       HC = AgglomerativeClustering(n_clusters=i, affinity='euclidean', linkage='ward')\n",
    "       HC= HC.fit(descriptive_features)\n",
    "       score_H= metrics.silhouette_score(descriptive_features, HC.labels_)\n",
    "       SS_distances.append(score_H)\n",
    "\n",
    "# plotting Silhouette for different clusters\n",
    "plt.plot(I, SS_distances, 'bx-')\n",
    "plt.xlabel('k')\n",
    "plt.ylabel('Silhouette Average')\n",
    "plt.title('Silhouette Average For Optimal number of Clusters ')    \n",
    "plt.grid()\n",
    "#HC = AgglomerativeClustering(distance_threshold=40,n_clusters=None, affinity='euclidean', linkage='ward')\n"
   ]
  }
 ],
 "metadata": {
  "interpreter": {
   "hash": "f293f16398db128e85df277de8eb5f9ab0a1b28857fa0f1c8543245825f1b931"
  },
  "kernelspec": {
   "display_name": "Python 3.7.7 ('pythonProject')",
   "language": "python",
   "name": "python3"
  },
  "language_info": {
   "codemirror_mode": {
    "name": "ipython",
    "version": 3
   },
   "file_extension": ".py",
   "mimetype": "text/x-python",
   "name": "python",
   "nbconvert_exporter": "python",
   "pygments_lexer": "ipython3",
   "version": "3.7.7"
  },
  "orig_nbformat": 4
 },
 "nbformat": 4,
 "nbformat_minor": 2
}
